{
 "cells": [
  {
   "cell_type": "markdown",
   "metadata": {
    "toc": true
   },
   "source": [
    "<h1>Содержание<span class=\"tocSkip\"></span></h1>\n",
    "<div class=\"toc\"><ul class=\"toc-item\"><li><span><a href=\"#Загрузка-и-изучение-файла\" data-toc-modified-id=\"Загрузка-и-изучение-файла-1\"><span class=\"toc-item-num\">1&nbsp;&nbsp;</span>Загрузка и изучение файла</a></span></li><li><span><a href=\"#Деление-данных-на-выборки\" data-toc-modified-id=\"Деление-данных-на-выборки-2\"><span class=\"toc-item-num\">2&nbsp;&nbsp;</span>Деление данных на выборки</a></span></li><li><span><a href=\"#Исследование-моделей\" data-toc-modified-id=\"Исследование-моделей-3\"><span class=\"toc-item-num\">3&nbsp;&nbsp;</span>Исследование моделей</a></span></li><li><span><a href=\"#Проверка-моделей-на-тестовой-выборке\" data-toc-modified-id=\"Проверка-моделей-на-тестовой-выборке-4\"><span class=\"toc-item-num\">4&nbsp;&nbsp;</span>Проверка моделей на тестовой выборке</a></span></li><li><span><a href=\"#Вывод\" data-toc-modified-id=\"Вывод-5\"><span class=\"toc-item-num\">5&nbsp;&nbsp;</span>Вывод</a></span></li></ul></div>"
   ]
  },
  {
   "cell_type": "markdown",
   "metadata": {},
   "source": [
    "# Описание проекта - Рекомендация тарифов"
   ]
  },
  {
   "cell_type": "markdown",
   "metadata": {},
   "source": [
    "Оператор мобильной связи «Мегалайн» хочет построить систему, способную проанализировать поведение клиентов и предложить пользователям новый тариф: `«Смарт»` или `«Ультра»`.  \n",
    "\n",
    "В распоряжении имеются данные `users_behavior.csv` о поведении клиентов, которые уже перешли на эти тарифы.  \n",
    "\n",
    "Требуется построить модель с максимально большим значением `accuracy` для задачи классификации, которая выберет подходящий тариф."
   ]
  },
  {
   "cell_type": "markdown",
   "metadata": {},
   "source": [
    "## Загрузка и изучение файла "
   ]
  },
  {
   "cell_type": "markdown",
   "metadata": {},
   "source": [
    "Импортируем все необходимые библиотеки и модули"
   ]
  },
  {
   "cell_type": "code",
   "execution_count": 1,
   "metadata": {},
   "outputs": [],
   "source": [
    "import pandas as pd\n",
    "from sklearn.model_selection import train_test_split\n",
    "from sklearn.metrics import accuracy_score\n",
    "from sklearn.tree import DecisionTreeClassifier\n",
    "from sklearn.ensemble import RandomForestClassifier\n",
    "from sklearn.linear_model import LogisticRegression"
   ]
  },
  {
   "cell_type": "markdown",
   "metadata": {},
   "source": [
    "Файл с данными называется `users_behavior.csv`. Загрузим и изучим его."
   ]
  },
  {
   "cell_type": "code",
   "execution_count": 2,
   "metadata": {},
   "outputs": [],
   "source": [
    "df = pd.read_csv('/datasets/users_behavior.csv')"
   ]
  },
  {
   "cell_type": "markdown",
   "metadata": {},
   "source": [
    "Выведем первые пять строк датафрейма, изучим названия колокнок и посмотрим размер с помощью `.shape`"
   ]
  },
  {
   "cell_type": "code",
   "execution_count": 3,
   "metadata": {},
   "outputs": [
    {
     "name": "stdout",
     "output_type": "stream",
     "text": [
      "   calls  minutes  messages   mb_used  is_ultra\n",
      "0   40.0   311.90      83.0  19915.42         0\n",
      "1   85.0   516.75      56.0  22696.96         0\n",
      "2   77.0   467.66      86.0  21060.45         0\n",
      "3  106.0   745.53      81.0   8437.39         1\n",
      "4   66.0   418.74       1.0  14502.75         0\n",
      "(3214, 5)\n"
     ]
    }
   ],
   "source": [
    "print(df.head())\n",
    "print(df.shape)"
   ]
  },
  {
   "cell_type": "markdown",
   "metadata": {},
   "source": [
    "Каждый объект в наборе данных — это информация о поведении одного пользователя за месяц. Известно:"
   ]
  },
  {
   "cell_type": "markdown",
   "metadata": {},
   "source": [
    "`сalls` — количество звонков,  \n",
    "`minutes` — суммарная длительность звонков в минутах,  \n",
    "`messages` — количество sms-сообщений,  \n",
    "`mb_used` — израсходованный интернет-трафик в Мб,  \n",
    "`is_ultra` — каким тарифом пользовался в течение месяца («Ультра» — `1`, «Смарт» — `0`).  "
   ]
  },
  {
   "cell_type": "markdown",
   "metadata": {},
   "source": [
    "## Деление данных на выборки"
   ]
  },
  {
   "cell_type": "markdown",
   "metadata": {},
   "source": [
    "С помощью `train_test_split` разделим исходные данные на обучающую `df_train`, валидационную `df_valid` и тестовую `df_test` выборки. Размеры тестового и валидационного наборов обычно равны.  \n",
    "Исходные данные разбивают в соотношении `3:1:1`. Размер укажем в `test_size=0.40`, а для разделения `df_valid` разделим пополам `test_size=0.50`.\n",
    "Зафиксируем псевдослучайность для алгоритма обучения укажем параметр `random_state=12345`<br>\n",
    "Выведем на экран размеры выборок с помощью `.shape`"
   ]
  },
  {
   "cell_type": "code",
   "execution_count": 4,
   "metadata": {},
   "outputs": [
    {
     "name": "stdout",
     "output_type": "stream",
     "text": [
      "(1928, 5)\n",
      "(643, 5)\n",
      "(643, 5)\n"
     ]
    }
   ],
   "source": [
    "df_train, df_valid = train_test_split(df, test_size=0.40, random_state=12345)\n",
    "df_test, df_valid = train_test_split(df_valid, test_size=0.50, random_state=12345)\n",
    "print(df_train.shape)\n",
    "print(df_valid.shape)\n",
    "print(df_test.shape)"
   ]
  },
  {
   "cell_type": "markdown",
   "metadata": {},
   "source": [
    "Сохраним признаки каждой выборки `_train`, `_test` и `_valid` в отдельных переменных `features` и `target` "
   ]
  },
  {
   "cell_type": "code",
   "execution_count": 5,
   "metadata": {},
   "outputs": [],
   "source": [
    "features_train = df_train.drop(['is_ultra'], axis=1)\n",
    "target_train = df_train['is_ultra']"
   ]
  },
  {
   "cell_type": "code",
   "execution_count": 6,
   "metadata": {},
   "outputs": [],
   "source": [
    "features_test = df_test.drop(['is_ultra'], axis=1)\n",
    "target_test = df_test['is_ultra']"
   ]
  },
  {
   "cell_type": "code",
   "execution_count": 7,
   "metadata": {},
   "outputs": [],
   "source": [
    "features_valid = df_valid.drop(['is_ultra'], axis=1)\n",
    "target_valid = df_valid['is_ultra']"
   ]
  },
  {
   "cell_type": "markdown",
   "metadata": {},
   "source": [
    "## Исследование моделей"
   ]
  },
  {
   "cell_type": "markdown",
   "metadata": {},
   "source": [
    "Модель - `Дерево решений`, с помощью цикла попробуем разные значения одного параметра — максимальной глубины, `max_depth` и найдем `accuracy_score` "
   ]
  },
  {
   "cell_type": "code",
   "execution_count": 8,
   "metadata": {},
   "outputs": [
    {
     "name": "stdout",
     "output_type": "stream",
     "text": [
      "Accuracy лучшей модели: 0.7838258164852255\n",
      "Наилучшая модель: \n",
      "DecisionTreeClassifier(class_weight=None, criterion='gini', max_depth=5,\n",
      "                       max_features=None, max_leaf_nodes=None,\n",
      "                       min_impurity_decrease=0.0, min_impurity_split=None,\n",
      "                       min_samples_leaf=1, min_samples_split=2,\n",
      "                       min_weight_fraction_leaf=0.0, presort=False,\n",
      "                       random_state=12345, splitter='best')\n"
     ]
    }
   ],
   "source": [
    "best_model = None\n",
    "best_result = 0\n",
    "for depth in range(1, 6):\n",
    "    # обучаем модель с заданной глубиной дерева\n",
    "    model = DecisionTreeClassifier(random_state=12345, max_depth=depth)\n",
    "    # обучаем модель\n",
    "    model.fit(features_train, target_train)\n",
    "    # считаем качество модели\n",
    "    result = model.score(features_valid, target_valid) \n",
    "    if result > best_result:\n",
    "        best_model = model\n",
    "        best_result = result\n",
    "        \n",
    "print(f\"Accuracy лучшей модели: {best_result}\")\n",
    "print(f\"Наилучшая модель: \\n{best_model}\")"
   ]
  },
  {
   "cell_type": "markdown",
   "metadata": {},
   "source": [
    "Модель - `Случайный лес`, должна помочь улучшить результат предсказания и избежать переобучения. Чтобы управлять количеством деревьев в лесу, пропишем гиперпараметр `n_estimators`, кроме того найдем и лучшее значение для `max_depth`"
   ]
  },
  {
   "cell_type": "code",
   "execution_count": 9,
   "metadata": {},
   "outputs": [
    {
     "name": "stdout",
     "output_type": "stream",
     "text": [
      "Accuracy наилучшей модели на валидационной выборке: 0.7993779160186625\n",
      "Наилучшая модель: \n",
      "RandomForestClassifier(bootstrap=True, class_weight=None, criterion='gini',\n",
      "                       max_depth=5, max_features='auto', max_leaf_nodes=None,\n",
      "                       min_impurity_decrease=0.0, min_impurity_split=None,\n",
      "                       min_samples_leaf=1, min_samples_split=2,\n",
      "                       min_weight_fraction_leaf=0.0, n_estimators=4,\n",
      "                       n_jobs=None, oob_score=False, random_state=12345,\n",
      "                       verbose=0, warm_start=False)\n"
     ]
    }
   ],
   "source": [
    "best_model = None\n",
    "best_result = 0\n",
    "for est in range(1, 11):\n",
    "    for depth in range(1, 6):\n",
    "        # обучаем модель с заданным количеством деревьев\n",
    "        model = RandomForestClassifier(random_state=12345, n_estimators=est, max_depth=depth)\n",
    "        # обучаем модель на тренировочной выборке\n",
    "        model.fit(features_train, target_train)\n",
    "        # считаем качество модели на валидационной выборке\n",
    "        result = model.score(features_valid, target_valid) \n",
    "        if result > best_result:\n",
    "            # сохраним наилучшую модель\n",
    "            best_model = model \n",
    "            # сохраним наилучшее значение метрики accuracy на валидационных данных\n",
    "            best_result = result \n",
    "\n",
    "print(f\"Accuracy наилучшей модели на валидационной выборке: {best_result}\")\n",
    "print(f\"Наилучшая модель: \\n{best_model}\")\n"
   ]
  },
  {
   "cell_type": "markdown",
   "metadata": {},
   "source": [
    "Модель - `Логистическая регрессия`, для постоянства результата зададим `random_state`, равный `12345`."
   ]
  },
  {
   "cell_type": "code",
   "execution_count": 10,
   "metadata": {},
   "outputs": [
    {
     "name": "stdout",
     "output_type": "stream",
     "text": [
      "Accuracy модели логистической регрессии на валидационной выборке: 0.7402799377916018\n"
     ]
    },
    {
     "name": "stderr",
     "output_type": "stream",
     "text": [
      "/opt/conda/lib/python3.7/site-packages/sklearn/linear_model/logistic.py:432: FutureWarning: Default solver will be changed to 'lbfgs' in 0.22. Specify a solver to silence this warning.\n",
      "  FutureWarning)\n"
     ]
    }
   ],
   "source": [
    "# Создадим модель логистической регрессии с параметром random_state=12345\n",
    "model = LogisticRegression(random_state=12345) \n",
    "\n",
    "# Обучим модель на тренировочной выборке\n",
    "model.fit(features_train, target_train) \n",
    "\n",
    "# Получим метрику качества модели на валидационной выборке\n",
    "result = model.score(features_valid, target_valid) \n",
    "\n",
    "print(f\"Accuracy модели логистической регрессии на валидационной выборке: {result}\")"
   ]
  },
  {
   "cell_type": "markdown",
   "metadata": {},
   "source": [
    "## Проверка моделей на тестовой выборке"
   ]
  },
  {
   "cell_type": "markdown",
   "metadata": {},
   "source": [
    "Проверим модели `DecisionTreeClassifier`, `RandomForestClassifier` и `LogisticRegression` на тестовой выборке и выведем `accuracy` моделей"
   ]
  },
  {
   "cell_type": "markdown",
   "metadata": {},
   "source": [
    "Модель - Решающее дерево"
   ]
  },
  {
   "cell_type": "code",
   "execution_count": 11,
   "metadata": {},
   "outputs": [
    {
     "name": "stdout",
     "output_type": "stream",
     "text": [
      "Accuracy модели решающего дерева на тестовой выборке: 0.7853810264385692\n"
     ]
    }
   ],
   "source": [
    "model = DecisionTreeClassifier(random_state=12345, max_depth=3)\n",
    "model.fit(features_train, target_train)\n",
    "result = model.score(features_test, target_test)\n",
    "\n",
    "print(f\"Accuracy модели решающего дерева на тестовой выборке: {result}\")"
   ]
  },
  {
   "cell_type": "markdown",
   "metadata": {},
   "source": [
    "Модель - Случайный лес"
   ]
  },
  {
   "cell_type": "code",
   "execution_count": 12,
   "metadata": {},
   "outputs": [
    {
     "name": "stdout",
     "output_type": "stream",
     "text": [
      "Accuracy модели случайного леса на тестовой выборке: 0.7931570762052877\n"
     ]
    }
   ],
   "source": [
    "model = RandomForestClassifier(random_state=12345, n_estimators=8, max_depth=5)\n",
    "model.fit(features_train, target_train)\n",
    "result = model.score(features_test, target_test)\n",
    "\n",
    "print(f\"Accuracy модели случайного леса на тестовой выборке: {result}\")"
   ]
  },
  {
   "cell_type": "markdown",
   "metadata": {},
   "source": [
    "Модель - Логистическая регрессия"
   ]
  },
  {
   "cell_type": "code",
   "execution_count": 13,
   "metadata": {},
   "outputs": [
    {
     "name": "stdout",
     "output_type": "stream",
     "text": [
      "Accuracy модели логистической регрессии на тестовой выборке: 0.7589424572317263\n"
     ]
    },
    {
     "name": "stderr",
     "output_type": "stream",
     "text": [
      "/opt/conda/lib/python3.7/site-packages/sklearn/linear_model/logistic.py:432: FutureWarning: Default solver will be changed to 'lbfgs' in 0.22. Specify a solver to silence this warning.\n",
      "  FutureWarning)\n"
     ]
    }
   ],
   "source": [
    "model = LogisticRegression(random_state=12345) \n",
    "model.fit(features_train, target_train) \n",
    "result = model.score(features_test, target_test)\n",
    "\n",
    "print(f\"Accuracy модели логистической регрессии на тестовой выборке: {result}\")"
   ]
  },
  {
   "cell_type": "markdown",
   "metadata": {},
   "source": [
    "---"
   ]
  },
  {
   "cell_type": "markdown",
   "metadata": {},
   "source": [
    "## Вывод"
   ]
  },
  {
   "cell_type": "markdown",
   "metadata": {},
   "source": [
    "Исходный файл разделили на обучающую `df_train`, валидационную `df_valid` и тестовую `df_test` выборки а признаки были сохранены в соответствующх отдельных переменных `features` и `target`. <br>\n",
    "Исследовали три модели с различными настройками и тестами чтобы найти наиболее точное значение для `accuracy` моделей.\n",
    "\n",
    "При проверке все модели показали значение выше `0.75` на тестовой выборке<br> \n",
    "Самое высокое качество предсказания получилось у модели случайного леса, с гипперпараметрами `n_estimators=8` и `max_depth=5`. "
   ]
  },
  {
   "cell_type": "markdown",
   "metadata": {},
   "source": [
    "---"
   ]
  }
 ],
 "metadata": {
  "ExecuteTimeLog": [
   {
    "duration": 611,
    "start_time": "2021-12-28T06:52:00.613Z"
   },
   {
    "duration": 19,
    "start_time": "2021-12-28T06:52:02.792Z"
   },
   {
    "duration": 7,
    "start_time": "2021-12-28T06:52:05.000Z"
   },
   {
    "duration": 484,
    "start_time": "2021-12-28T06:53:02.250Z"
   },
   {
    "duration": 6,
    "start_time": "2021-12-28T06:53:17.061Z"
   },
   {
    "duration": 318,
    "start_time": "2021-12-28T06:55:59.544Z"
   },
   {
    "duration": 31,
    "start_time": "2021-12-28T06:56:37.544Z"
   },
   {
    "duration": 247,
    "start_time": "2021-12-28T06:56:41.294Z"
   },
   {
    "duration": 3,
    "start_time": "2021-12-28T06:57:55.671Z"
   },
   {
    "duration": 237,
    "start_time": "2021-12-28T06:57:58.370Z"
   },
   {
    "duration": 285,
    "start_time": "2021-12-28T07:10:57.375Z"
   },
   {
    "duration": 5,
    "start_time": "2021-12-28T07:18:12.984Z"
   },
   {
    "duration": 238,
    "start_time": "2021-12-28T07:29:18.200Z"
   },
   {
    "duration": 3,
    "start_time": "2021-12-28T07:29:22.469Z"
   },
   {
    "duration": 26,
    "start_time": "2021-12-28T07:29:22.474Z"
   },
   {
    "duration": 7,
    "start_time": "2021-12-28T07:29:22.501Z"
   },
   {
    "duration": 256,
    "start_time": "2021-12-28T07:29:24.541Z"
   },
   {
    "duration": 316,
    "start_time": "2021-12-28T07:44:09.494Z"
   },
   {
    "duration": 262,
    "start_time": "2021-12-28T07:45:57.094Z"
   },
   {
    "duration": 256,
    "start_time": "2021-12-28T07:46:03.164Z"
   },
   {
    "duration": 6,
    "start_time": "2021-12-28T07:59:22.126Z"
   },
   {
    "duration": 8,
    "start_time": "2021-12-28T08:00:25.445Z"
   },
   {
    "duration": 9,
    "start_time": "2021-12-28T08:07:34.975Z"
   },
   {
    "duration": 8,
    "start_time": "2021-12-28T08:08:53.365Z"
   },
   {
    "duration": 9,
    "start_time": "2021-12-28T08:08:59.995Z"
   },
   {
    "duration": 11,
    "start_time": "2021-12-28T08:10:09.231Z"
   },
   {
    "duration": 8,
    "start_time": "2021-12-28T08:10:38.375Z"
   },
   {
    "duration": 9,
    "start_time": "2021-12-28T08:10:44.146Z"
   },
   {
    "duration": 288,
    "start_time": "2021-12-28T08:14:31.421Z"
   },
   {
    "duration": 247,
    "start_time": "2021-12-28T08:15:19.367Z"
   },
   {
    "duration": 5,
    "start_time": "2021-12-28T08:16:40.960Z"
   },
   {
    "duration": 24,
    "start_time": "2021-12-28T08:16:51.738Z"
   },
   {
    "duration": 245,
    "start_time": "2021-12-28T08:17:53.469Z"
   },
   {
    "duration": 282,
    "start_time": "2021-12-28T08:18:12.603Z"
   },
   {
    "duration": 3,
    "start_time": "2021-12-28T08:18:38.434Z"
   },
   {
    "duration": 6,
    "start_time": "2021-12-28T08:19:30.600Z"
   },
   {
    "duration": 4,
    "start_time": "2021-12-28T08:26:13.095Z"
   },
   {
    "duration": 13,
    "start_time": "2021-12-28T08:26:14.627Z"
   },
   {
    "duration": 296,
    "start_time": "2021-12-28T08:27:41.859Z"
   },
   {
    "duration": 4,
    "start_time": "2021-12-28T08:32:24.652Z"
   },
   {
    "duration": 12,
    "start_time": "2021-12-28T08:32:26.841Z"
   },
   {
    "duration": 7,
    "start_time": "2021-12-28T08:32:28.372Z"
   },
   {
    "duration": 8,
    "start_time": "2021-12-28T08:35:41.099Z"
   },
   {
    "duration": 8,
    "start_time": "2021-12-28T08:35:42.612Z"
   },
   {
    "duration": 7,
    "start_time": "2021-12-28T08:35:49.807Z"
   },
   {
    "duration": 9,
    "start_time": "2021-12-28T08:35:51.039Z"
   },
   {
    "duration": 12,
    "start_time": "2021-12-28T08:35:58.127Z"
   },
   {
    "duration": 8,
    "start_time": "2021-12-28T08:35:59.523Z"
   },
   {
    "duration": 13,
    "start_time": "2021-12-28T08:36:05.006Z"
   },
   {
    "duration": 8,
    "start_time": "2021-12-28T08:36:06.203Z"
   },
   {
    "duration": 10,
    "start_time": "2021-12-28T08:40:17.864Z"
   },
   {
    "duration": 269,
    "start_time": "2021-12-28T08:41:53.381Z"
   },
   {
    "duration": 3,
    "start_time": "2021-12-28T08:42:01.654Z"
   },
   {
    "duration": 258,
    "start_time": "2021-12-28T08:42:04.805Z"
   },
   {
    "duration": 4,
    "start_time": "2021-12-28T08:43:52.217Z"
   },
   {
    "duration": 4,
    "start_time": "2021-12-28T08:43:52.825Z"
   },
   {
    "duration": 345,
    "start_time": "2021-12-28T08:43:56.604Z"
   },
   {
    "duration": 4,
    "start_time": "2021-12-28T08:45:16.516Z"
   },
   {
    "duration": 233,
    "start_time": "2021-12-28T08:45:23.643Z"
   },
   {
    "duration": 8,
    "start_time": "2021-12-28T08:45:48.351Z"
   },
   {
    "duration": 223,
    "start_time": "2021-12-28T08:45:58.963Z"
   },
   {
    "duration": 13,
    "start_time": "2021-12-28T08:46:00.883Z"
   },
   {
    "duration": 28,
    "start_time": "2021-12-28T08:46:49.161Z"
   },
   {
    "duration": 3,
    "start_time": "2021-12-28T08:49:30.390Z"
   },
   {
    "duration": 14,
    "start_time": "2021-12-28T08:49:33.538Z"
   },
   {
    "duration": 217,
    "start_time": "2021-12-28T08:50:49.165Z"
   },
   {
    "duration": 236,
    "start_time": "2021-12-28T08:51:39.363Z"
   },
   {
    "duration": 232,
    "start_time": "2021-12-28T08:51:47.984Z"
   },
   {
    "duration": 220,
    "start_time": "2021-12-28T08:52:26.621Z"
   },
   {
    "duration": 80,
    "start_time": "2021-12-28T08:53:36.320Z"
   },
   {
    "duration": 41,
    "start_time": "2021-12-28T08:53:44.065Z"
   },
   {
    "duration": 43,
    "start_time": "2021-12-28T08:53:57.275Z"
   },
   {
    "duration": 37,
    "start_time": "2021-12-28T08:54:05.602Z"
   },
   {
    "duration": 38,
    "start_time": "2021-12-28T08:54:47.042Z"
   },
   {
    "duration": 34,
    "start_time": "2021-12-28T09:00:13.967Z"
   },
   {
    "duration": 37,
    "start_time": "2021-12-28T09:00:19.125Z"
   },
   {
    "duration": 41,
    "start_time": "2021-12-28T09:00:24.562Z"
   },
   {
    "duration": 34,
    "start_time": "2021-12-28T09:00:32.380Z"
   },
   {
    "duration": 29,
    "start_time": "2021-12-28T09:00:38.535Z"
   },
   {
    "duration": 24,
    "start_time": "2021-12-28T09:00:43.811Z"
   },
   {
    "duration": 91,
    "start_time": "2021-12-28T09:09:41.921Z"
   },
   {
    "duration": 640,
    "start_time": "2021-12-28T09:09:49.641Z"
   },
   {
    "duration": 3,
    "start_time": "2021-12-28T09:12:49.959Z"
   },
   {
    "duration": 23,
    "start_time": "2021-12-28T09:12:49.965Z"
   },
   {
    "duration": 8,
    "start_time": "2021-12-28T09:12:49.990Z"
   },
   {
    "duration": 23,
    "start_time": "2021-12-28T09:12:50.000Z"
   },
   {
    "duration": 14,
    "start_time": "2021-12-28T09:12:50.025Z"
   },
   {
    "duration": 23,
    "start_time": "2021-12-28T09:12:50.041Z"
   },
   {
    "duration": 14,
    "start_time": "2021-12-28T09:12:50.066Z"
   },
   {
    "duration": 47,
    "start_time": "2021-12-28T09:12:50.081Z"
   },
   {
    "duration": 706,
    "start_time": "2021-12-28T09:12:50.130Z"
   },
   {
    "duration": 17,
    "start_time": "2021-12-28T09:12:50.838Z"
   },
   {
    "duration": 35,
    "start_time": "2021-12-28T09:12:50.857Z"
   },
   {
    "duration": 28,
    "start_time": "2021-12-28T09:14:29.695Z"
   },
   {
    "duration": 6,
    "start_time": "2021-12-28T09:20:11.024Z"
   },
   {
    "duration": 6,
    "start_time": "2021-12-28T09:20:21.377Z"
   },
   {
    "duration": 11,
    "start_time": "2021-12-28T09:30:58.115Z"
   },
   {
    "duration": 25,
    "start_time": "2021-12-28T10:00:15.954Z"
   },
   {
    "duration": 29,
    "start_time": "2021-12-28T10:01:00.434Z"
   },
   {
    "duration": 2,
    "start_time": "2021-12-28T10:02:06.195Z"
   },
   {
    "duration": 24,
    "start_time": "2021-12-28T10:02:15.676Z"
   },
   {
    "duration": 4,
    "start_time": "2021-12-28T10:02:25.657Z"
   },
   {
    "duration": 24,
    "start_time": "2021-12-28T10:02:25.663Z"
   },
   {
    "duration": 7,
    "start_time": "2021-12-28T10:02:25.689Z"
   },
   {
    "duration": 10,
    "start_time": "2021-12-28T10:02:25.697Z"
   },
   {
    "duration": 14,
    "start_time": "2021-12-28T10:02:25.708Z"
   },
   {
    "duration": 12,
    "start_time": "2021-12-28T10:02:25.723Z"
   },
   {
    "duration": 40,
    "start_time": "2021-12-28T10:02:25.736Z"
   },
   {
    "duration": 29,
    "start_time": "2021-12-28T10:02:28.528Z"
   },
   {
    "duration": 25,
    "start_time": "2021-12-28T10:10:27.294Z"
   },
   {
    "duration": 3,
    "start_time": "2021-12-28T10:10:38.736Z"
   },
   {
    "duration": 31,
    "start_time": "2021-12-28T10:10:38.742Z"
   },
   {
    "duration": 5,
    "start_time": "2021-12-28T10:10:38.775Z"
   },
   {
    "duration": 9,
    "start_time": "2021-12-28T10:10:38.781Z"
   },
   {
    "duration": 6,
    "start_time": "2021-12-28T10:10:38.792Z"
   },
   {
    "duration": 9,
    "start_time": "2021-12-28T10:10:38.799Z"
   },
   {
    "duration": 12,
    "start_time": "2021-12-28T10:10:38.809Z"
   },
   {
    "duration": 31,
    "start_time": "2021-12-28T10:10:38.822Z"
   },
   {
    "duration": 22,
    "start_time": "2021-12-28T10:10:40.586Z"
   },
   {
    "duration": 23,
    "start_time": "2021-12-28T10:12:00.516Z"
   },
   {
    "duration": 576,
    "start_time": "2021-12-28T10:14:27.301Z"
   },
   {
    "duration": 26,
    "start_time": "2021-12-28T10:14:30.826Z"
   },
   {
    "duration": 18,
    "start_time": "2021-12-28T10:14:42.038Z"
   },
   {
    "duration": 13,
    "start_time": "2021-12-28T10:25:48.020Z"
   },
   {
    "duration": 9,
    "start_time": "2021-12-28T10:26:45.573Z"
   },
   {
    "duration": 25,
    "start_time": "2021-12-28T10:27:08.751Z"
   },
   {
    "duration": 10,
    "start_time": "2021-12-28T10:27:31.554Z"
   },
   {
    "duration": 30,
    "start_time": "2021-12-28T10:27:33.128Z"
   },
   {
    "duration": 14,
    "start_time": "2021-12-28T10:27:33.809Z"
   },
   {
    "duration": 271,
    "start_time": "2021-12-28T10:27:45.795Z"
   },
   {
    "duration": 9,
    "start_time": "2021-12-28T10:28:09.965Z"
   },
   {
    "duration": 14,
    "start_time": "2021-12-28T10:36:23.653Z"
   },
   {
    "duration": 28,
    "start_time": "2021-12-28T10:41:10.595Z"
   },
   {
    "duration": 27,
    "start_time": "2021-12-28T10:41:17.771Z"
   },
   {
    "duration": 28,
    "start_time": "2021-12-28T10:41:23.248Z"
   },
   {
    "duration": 9,
    "start_time": "2021-12-28T10:43:10.179Z"
   },
   {
    "duration": 10,
    "start_time": "2021-12-28T10:43:21.017Z"
   },
   {
    "duration": 3,
    "start_time": "2021-12-28T10:43:30.418Z"
   },
   {
    "duration": 28,
    "start_time": "2021-12-28T10:43:30.423Z"
   },
   {
    "duration": 5,
    "start_time": "2021-12-28T10:43:30.454Z"
   },
   {
    "duration": 10,
    "start_time": "2021-12-28T10:43:30.461Z"
   },
   {
    "duration": 15,
    "start_time": "2021-12-28T10:43:30.472Z"
   },
   {
    "duration": 6,
    "start_time": "2021-12-28T10:43:30.489Z"
   },
   {
    "duration": 16,
    "start_time": "2021-12-28T10:43:30.497Z"
   },
   {
    "duration": 29,
    "start_time": "2021-12-28T10:43:30.514Z"
   },
   {
    "duration": 709,
    "start_time": "2021-12-28T10:43:30.545Z"
   },
   {
    "duration": 13,
    "start_time": "2021-12-28T10:43:31.256Z"
   },
   {
    "duration": 11,
    "start_time": "2021-12-28T10:43:33.562Z"
   },
   {
    "duration": 9,
    "start_time": "2021-12-28T10:43:57.996Z"
   },
   {
    "duration": 4,
    "start_time": "2021-12-28T10:44:01.387Z"
   },
   {
    "duration": 32,
    "start_time": "2021-12-28T10:44:01.392Z"
   },
   {
    "duration": 27,
    "start_time": "2021-12-28T10:44:01.427Z"
   },
   {
    "duration": 34,
    "start_time": "2021-12-28T10:44:01.456Z"
   },
   {
    "duration": 22,
    "start_time": "2021-12-28T10:44:01.492Z"
   },
   {
    "duration": 11,
    "start_time": "2021-12-28T10:44:01.515Z"
   },
   {
    "duration": 14,
    "start_time": "2021-12-28T10:44:01.528Z"
   },
   {
    "duration": 29,
    "start_time": "2021-12-28T10:44:01.544Z"
   },
   {
    "duration": 619,
    "start_time": "2021-12-28T10:44:01.576Z"
   },
   {
    "duration": 12,
    "start_time": "2021-12-28T10:44:02.197Z"
   },
   {
    "duration": 8,
    "start_time": "2021-12-28T10:44:02.211Z"
   },
   {
    "duration": 9,
    "start_time": "2021-12-28T10:44:03.581Z"
   },
   {
    "duration": 1063,
    "start_time": "2021-12-28T10:45:22.722Z"
   },
   {
    "duration": 19,
    "start_time": "2021-12-28T10:45:23.788Z"
   },
   {
    "duration": 7,
    "start_time": "2021-12-28T10:45:23.810Z"
   },
   {
    "duration": 9,
    "start_time": "2021-12-28T10:45:23.819Z"
   },
   {
    "duration": 13,
    "start_time": "2021-12-28T10:45:23.830Z"
   },
   {
    "duration": 14,
    "start_time": "2021-12-28T10:45:23.845Z"
   },
   {
    "duration": 12,
    "start_time": "2021-12-28T10:45:23.860Z"
   },
   {
    "duration": 25,
    "start_time": "2021-12-28T10:45:23.874Z"
   },
   {
    "duration": 543,
    "start_time": "2021-12-28T10:45:23.902Z"
   },
   {
    "duration": 12,
    "start_time": "2021-12-28T10:45:24.447Z"
   },
   {
    "duration": 10,
    "start_time": "2021-12-28T10:45:24.461Z"
   },
   {
    "duration": 22,
    "start_time": "2021-12-28T10:45:24.473Z"
   },
   {
    "duration": 13,
    "start_time": "2021-12-28T10:45:24.497Z"
   },
   {
    "duration": 9,
    "start_time": "2021-12-28T10:59:31.478Z"
   },
   {
    "duration": 8,
    "start_time": "2021-12-28T10:59:40.407Z"
   },
   {
    "duration": 11,
    "start_time": "2021-12-28T10:59:44.254Z"
   },
   {
    "duration": 9,
    "start_time": "2021-12-28T10:59:51.704Z"
   },
   {
    "duration": 40,
    "start_time": "2021-12-28T11:00:33.488Z"
   },
   {
    "duration": 22,
    "start_time": "2021-12-28T11:00:39.224Z"
   },
   {
    "duration": 13,
    "start_time": "2021-12-28T11:00:48.084Z"
   },
   {
    "duration": 10,
    "start_time": "2021-12-28T11:01:35.542Z"
   },
   {
    "duration": 8,
    "start_time": "2021-12-28T11:01:42.129Z"
   },
   {
    "duration": 14,
    "start_time": "2021-12-28T11:01:48.127Z"
   },
   {
    "duration": 13,
    "start_time": "2021-12-28T11:02:33.916Z"
   },
   {
    "duration": 14,
    "start_time": "2021-12-28T11:02:46.032Z"
   },
   {
    "duration": 9,
    "start_time": "2021-12-28T11:03:18.298Z"
   },
   {
    "duration": 10,
    "start_time": "2021-12-28T11:05:02.372Z"
   },
   {
    "duration": 8,
    "start_time": "2021-12-28T11:05:07.158Z"
   },
   {
    "duration": 576,
    "start_time": "2021-12-28T11:07:20.147Z"
   },
   {
    "duration": 14,
    "start_time": "2021-12-28T11:07:50.571Z"
   },
   {
    "duration": 30,
    "start_time": "2021-12-28T11:18:34.346Z"
   },
   {
    "duration": 374,
    "start_time": "2021-12-28T16:44:01.900Z"
   },
   {
    "duration": 1401,
    "start_time": "2021-12-28T16:44:08.503Z"
   },
   {
    "duration": 22,
    "start_time": "2021-12-28T16:44:09.908Z"
   },
   {
    "duration": 10,
    "start_time": "2021-12-28T16:44:09.933Z"
   },
   {
    "duration": 29,
    "start_time": "2021-12-28T16:44:09.946Z"
   },
   {
    "duration": 6,
    "start_time": "2021-12-28T16:44:09.977Z"
   },
   {
    "duration": 6,
    "start_time": "2021-12-28T16:44:09.985Z"
   },
   {
    "duration": 6,
    "start_time": "2021-12-28T16:44:09.994Z"
   },
   {
    "duration": 458,
    "start_time": "2021-12-28T16:44:10.002Z"
   },
   {
    "duration": 305,
    "start_time": "2021-12-28T16:44:12.714Z"
   },
   {
    "duration": 38,
    "start_time": "2021-12-28T16:44:53.665Z"
   },
   {
    "duration": 42,
    "start_time": "2021-12-28T16:48:24.181Z"
   },
   {
    "duration": 1454,
    "start_time": "2021-12-29T07:38:28.618Z"
   },
   {
    "duration": 21,
    "start_time": "2021-12-29T07:38:30.075Z"
   },
   {
    "duration": 10,
    "start_time": "2021-12-29T07:38:30.100Z"
   },
   {
    "duration": 17,
    "start_time": "2021-12-29T07:38:30.119Z"
   },
   {
    "duration": 7,
    "start_time": "2021-12-29T07:38:30.140Z"
   },
   {
    "duration": 13,
    "start_time": "2021-12-29T07:38:30.150Z"
   },
   {
    "duration": 9,
    "start_time": "2021-12-29T07:38:30.166Z"
   },
   {
    "duration": 77,
    "start_time": "2021-12-29T07:38:30.178Z"
   },
   {
    "duration": 996,
    "start_time": "2021-12-29T07:38:30.260Z"
   },
   {
    "duration": 29,
    "start_time": "2021-12-29T07:38:31.259Z"
   },
   {
    "duration": 33,
    "start_time": "2021-12-29T07:38:31.290Z"
   },
   {
    "duration": 52,
    "start_time": "2021-12-29T07:38:31.326Z"
   },
   {
    "duration": 60,
    "start_time": "2021-12-29T07:38:31.380Z"
   }
  ],
  "kernelspec": {
   "display_name": "Python 3",
   "language": "python",
   "name": "python3"
  },
  "language_info": {
   "codemirror_mode": {
    "name": "ipython",
    "version": 3
   },
   "file_extension": ".py",
   "mimetype": "text/x-python",
   "name": "python",
   "nbconvert_exporter": "python",
   "pygments_lexer": "ipython3",
   "version": "3.7.8"
  },
  "toc": {
   "base_numbering": 1,
   "nav_menu": {},
   "number_sections": true,
   "sideBar": true,
   "skip_h1_title": true,
   "title_cell": "Содержание",
   "title_sidebar": "Contents",
   "toc_cell": true,
   "toc_position": {},
   "toc_section_display": true,
   "toc_window_display": false
  }
 },
 "nbformat": 4,
 "nbformat_minor": 2
}
