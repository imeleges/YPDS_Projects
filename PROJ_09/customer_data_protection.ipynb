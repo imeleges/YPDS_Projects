{
 "cells": [
  {
   "cell_type": "markdown",
   "metadata": {},
   "source": [
    "# Защита персональных данных клиентов"
   ]
  },
  {
   "cell_type": "markdown",
   "metadata": {},
   "source": [
    "Для страховой компании «Хоть потоп» требуется методом преобразования данных защитить личную информацию клиентов, чтобы по ним было сложно восстановить персональную информацию."
   ]
  },
  {
   "cell_type": "markdown",
   "metadata": {
    "toc": true
   },
   "source": [
    "<h1>Содержание<span class=\"tocSkip\"></span></h1>\n",
    "<div class=\"toc\"><ul class=\"toc-item\"><li><span><a href=\"#Загрузка-данных\" data-toc-modified-id=\"Загрузка-данных-1\"><span class=\"toc-item-num\">1&nbsp;&nbsp;</span>Загрузка данных</a></span></li><li><span><a href=\"#Умножение-матриц\" data-toc-modified-id=\"Умножение-матриц-2\"><span class=\"toc-item-num\">2&nbsp;&nbsp;</span>Умножение матриц</a></span></li><li><span><a href=\"#Алгоритм-преобразования\" data-toc-modified-id=\"Алгоритм-преобразования-3\"><span class=\"toc-item-num\">3&nbsp;&nbsp;</span>Алгоритм преобразования</a></span></li><li><span><a href=\"#Проверка-алгоритма\" data-toc-modified-id=\"Проверка-алгоритма-4\"><span class=\"toc-item-num\">4&nbsp;&nbsp;</span>Проверка алгоритма</a></span></li><li><span><a href=\"#Вывод\" data-toc-modified-id=\"Вывод-5\"><span class=\"toc-item-num\">5&nbsp;&nbsp;</span>Вывод</a></span></li><li><span><a href=\"#Чек-лист-проверки\" data-toc-modified-id=\"Чек-лист-проверки-6\"><span class=\"toc-item-num\">6&nbsp;&nbsp;</span>Чек-лист проверки</a></span></li></ul></div>"
   ]
  },
  {
   "cell_type": "markdown",
   "metadata": {},
   "source": [
    "## Загрузка данных"
   ]
  },
  {
   "cell_type": "markdown",
   "metadata": {},
   "source": [
    "Подключим необходимые библиотеки для проекта"
   ]
  },
  {
   "cell_type": "code",
   "execution_count": 1,
   "metadata": {},
   "outputs": [],
   "source": [
    "import pandas as pd \n",
    "import numpy as np\n",
    "from sklearn.linear_model import LinearRegression\n",
    "from sklearn.metrics import r2_score, mean_squared_error"
   ]
  },
  {
   "cell_type": "markdown",
   "metadata": {},
   "source": [
    "Загрузим файл с данными и выведем на экран первые 5 строк для ознакомления"
   ]
  },
  {
   "cell_type": "code",
   "execution_count": 2,
   "metadata": {},
   "outputs": [
    {
     "data": {
      "text/html": [
       "<div>\n",
       "<style scoped>\n",
       "    .dataframe tbody tr th:only-of-type {\n",
       "        vertical-align: middle;\n",
       "    }\n",
       "\n",
       "    .dataframe tbody tr th {\n",
       "        vertical-align: top;\n",
       "    }\n",
       "\n",
       "    .dataframe thead th {\n",
       "        text-align: right;\n",
       "    }\n",
       "</style>\n",
       "<table border=\"1\" class=\"dataframe\">\n",
       "  <thead>\n",
       "    <tr style=\"text-align: right;\">\n",
       "      <th></th>\n",
       "      <th>Пол</th>\n",
       "      <th>Возраст</th>\n",
       "      <th>Зарплата</th>\n",
       "      <th>Члены семьи</th>\n",
       "      <th>Страховые выплаты</th>\n",
       "    </tr>\n",
       "  </thead>\n",
       "  <tbody>\n",
       "    <tr>\n",
       "      <td>0</td>\n",
       "      <td>1</td>\n",
       "      <td>41.0</td>\n",
       "      <td>49600.0</td>\n",
       "      <td>1</td>\n",
       "      <td>0</td>\n",
       "    </tr>\n",
       "    <tr>\n",
       "      <td>1</td>\n",
       "      <td>0</td>\n",
       "      <td>46.0</td>\n",
       "      <td>38000.0</td>\n",
       "      <td>1</td>\n",
       "      <td>1</td>\n",
       "    </tr>\n",
       "    <tr>\n",
       "      <td>2</td>\n",
       "      <td>0</td>\n",
       "      <td>29.0</td>\n",
       "      <td>21000.0</td>\n",
       "      <td>0</td>\n",
       "      <td>0</td>\n",
       "    </tr>\n",
       "    <tr>\n",
       "      <td>3</td>\n",
       "      <td>0</td>\n",
       "      <td>21.0</td>\n",
       "      <td>41700.0</td>\n",
       "      <td>2</td>\n",
       "      <td>0</td>\n",
       "    </tr>\n",
       "    <tr>\n",
       "      <td>4</td>\n",
       "      <td>1</td>\n",
       "      <td>28.0</td>\n",
       "      <td>26100.0</td>\n",
       "      <td>0</td>\n",
       "      <td>0</td>\n",
       "    </tr>\n",
       "  </tbody>\n",
       "</table>\n",
       "</div>"
      ],
      "text/plain": [
       "   Пол  Возраст  Зарплата  Члены семьи  Страховые выплаты\n",
       "0    1     41.0   49600.0            1                  0\n",
       "1    0     46.0   38000.0            1                  1\n",
       "2    0     29.0   21000.0            0                  0\n",
       "3    0     21.0   41700.0            2                  0\n",
       "4    1     28.0   26100.0            0                  0"
      ]
     },
     "execution_count": 2,
     "metadata": {},
     "output_type": "execute_result"
    }
   ],
   "source": [
    "data = pd.read_csv('/datasets/insurance.csv')\n",
    "data.head()"
   ]
  },
  {
   "cell_type": "markdown",
   "metadata": {},
   "source": [
    "Есть количество членов семьи которые начинаются с нуля, предположительно это означает следующее:  \n",
    "- `0` Не замужем/не женат\n",
    "- `1` Клиент состоит в браке\n",
    "- а `2+` это дети"
   ]
  },
  {
   "cell_type": "markdown",
   "metadata": {},
   "source": [
    "Изучим общую информацию о датафрейме"
   ]
  },
  {
   "cell_type": "code",
   "execution_count": 3,
   "metadata": {},
   "outputs": [
    {
     "name": "stdout",
     "output_type": "stream",
     "text": [
      "<class 'pandas.core.frame.DataFrame'>\n",
      "RangeIndex: 5000 entries, 0 to 4999\n",
      "Data columns (total 5 columns):\n",
      "Пол                  5000 non-null int64\n",
      "Возраст              5000 non-null float64\n",
      "Зарплата             5000 non-null float64\n",
      "Члены семьи          5000 non-null int64\n",
      "Страховые выплаты    5000 non-null int64\n",
      "dtypes: float64(2), int64(3)\n",
      "memory usage: 195.4 KB\n"
     ]
    }
   ],
   "source": [
    "data.info()"
   ]
  },
  {
   "cell_type": "markdown",
   "metadata": {},
   "source": [
    "Датафрейм с данными включает в себя 5 количественных признаков: 4 - описательных признака (`Пол`, `Возраст`, `Зарплата`, `Члены семьи`), 1 - целевой признак (`Страховые выплаты`).  \n",
    "Количество записей 5000, пропуски отсутствуют. Проверим на дубликаты на следующих шагах.\n",
    "\n",
    "А пока для удобства работы с данными, переименуем и изменим названия колонок, удалим пропуски в названиях"
   ]
  },
  {
   "cell_type": "code",
   "execution_count": 4,
   "metadata": {},
   "outputs": [],
   "source": [
    "data.rename(columns = {'Пол' : 'sex',\n",
    "                       'Возраст' : 'age',\n",
    "                       'Зарплата' : 'salary',\n",
    "                       'Члены семьи' : 'family_members',\n",
    "                       'Страховые выплаты' : 'insurance_benefits'}, inplace = True)"
   ]
  },
  {
   "cell_type": "markdown",
   "metadata": {},
   "source": [
    "Заменим тип данных для признаков `возраст` и `заработная плата`."
   ]
  },
  {
   "cell_type": "code",
   "execution_count": 5,
   "metadata": {},
   "outputs": [],
   "source": [
    "features = ['age', 'salary']\n",
    "data[features] = data[features].astype('int')"
   ]
  },
  {
   "cell_type": "markdown",
   "metadata": {},
   "source": [
    "Сдери данных могут быть дубликаты,проверим датафрейм на их наличие."
   ]
  },
  {
   "cell_type": "code",
   "execution_count": 6,
   "metadata": {},
   "outputs": [
    {
     "data": {
      "text/plain": [
       "153"
      ]
     },
     "execution_count": 6,
     "metadata": {},
     "output_type": "execute_result"
    }
   ],
   "source": [
    "data.duplicated().sum()"
   ]
  },
  {
   "cell_type": "markdown",
   "metadata": {},
   "source": [
    "Обнаружили `153` дубликата, удалим и применим изменения"
   ]
  },
  {
   "cell_type": "code",
   "execution_count": 7,
   "metadata": {},
   "outputs": [],
   "source": [
    "data.drop_duplicates(inplace = True)"
   ]
  },
  {
   "cell_type": "markdown",
   "metadata": {},
   "source": [
    "При помощи метода `.describe()` посмотрим на статистическую информацию"
   ]
  },
  {
   "cell_type": "code",
   "execution_count": 8,
   "metadata": {},
   "outputs": [
    {
     "data": {
      "text/html": [
       "<div>\n",
       "<style scoped>\n",
       "    .dataframe tbody tr th:only-of-type {\n",
       "        vertical-align: middle;\n",
       "    }\n",
       "\n",
       "    .dataframe tbody tr th {\n",
       "        vertical-align: top;\n",
       "    }\n",
       "\n",
       "    .dataframe thead th {\n",
       "        text-align: right;\n",
       "    }\n",
       "</style>\n",
       "<table border=\"1\" class=\"dataframe\">\n",
       "  <thead>\n",
       "    <tr style=\"text-align: right;\">\n",
       "      <th></th>\n",
       "      <th>sex</th>\n",
       "      <th>age</th>\n",
       "      <th>salary</th>\n",
       "      <th>family_members</th>\n",
       "      <th>insurance_benefits</th>\n",
       "    </tr>\n",
       "  </thead>\n",
       "  <tbody>\n",
       "    <tr>\n",
       "      <td>count</td>\n",
       "      <td>4847.000000</td>\n",
       "      <td>4847.000000</td>\n",
       "      <td>4847.000000</td>\n",
       "      <td>4847.000000</td>\n",
       "      <td>4847.000000</td>\n",
       "    </tr>\n",
       "    <tr>\n",
       "      <td>mean</td>\n",
       "      <td>0.498453</td>\n",
       "      <td>31.023932</td>\n",
       "      <td>39895.811223</td>\n",
       "      <td>1.203425</td>\n",
       "      <td>0.152259</td>\n",
       "    </tr>\n",
       "    <tr>\n",
       "      <td>std</td>\n",
       "      <td>0.500049</td>\n",
       "      <td>8.487995</td>\n",
       "      <td>9972.952441</td>\n",
       "      <td>1.098664</td>\n",
       "      <td>0.468934</td>\n",
       "    </tr>\n",
       "    <tr>\n",
       "      <td>min</td>\n",
       "      <td>0.000000</td>\n",
       "      <td>18.000000</td>\n",
       "      <td>5300.000000</td>\n",
       "      <td>0.000000</td>\n",
       "      <td>0.000000</td>\n",
       "    </tr>\n",
       "    <tr>\n",
       "      <td>25%</td>\n",
       "      <td>0.000000</td>\n",
       "      <td>24.000000</td>\n",
       "      <td>33200.000000</td>\n",
       "      <td>0.000000</td>\n",
       "      <td>0.000000</td>\n",
       "    </tr>\n",
       "    <tr>\n",
       "      <td>50%</td>\n",
       "      <td>0.000000</td>\n",
       "      <td>30.000000</td>\n",
       "      <td>40200.000000</td>\n",
       "      <td>1.000000</td>\n",
       "      <td>0.000000</td>\n",
       "    </tr>\n",
       "    <tr>\n",
       "      <td>75%</td>\n",
       "      <td>1.000000</td>\n",
       "      <td>37.000000</td>\n",
       "      <td>46600.000000</td>\n",
       "      <td>2.000000</td>\n",
       "      <td>0.000000</td>\n",
       "    </tr>\n",
       "    <tr>\n",
       "      <td>max</td>\n",
       "      <td>1.000000</td>\n",
       "      <td>65.000000</td>\n",
       "      <td>79000.000000</td>\n",
       "      <td>6.000000</td>\n",
       "      <td>5.000000</td>\n",
       "    </tr>\n",
       "  </tbody>\n",
       "</table>\n",
       "</div>"
      ],
      "text/plain": [
       "               sex          age        salary  family_members  \\\n",
       "count  4847.000000  4847.000000   4847.000000     4847.000000   \n",
       "mean      0.498453    31.023932  39895.811223        1.203425   \n",
       "std       0.500049     8.487995   9972.952441        1.098664   \n",
       "min       0.000000    18.000000   5300.000000        0.000000   \n",
       "25%       0.000000    24.000000  33200.000000        0.000000   \n",
       "50%       0.000000    30.000000  40200.000000        1.000000   \n",
       "75%       1.000000    37.000000  46600.000000        2.000000   \n",
       "max       1.000000    65.000000  79000.000000        6.000000   \n",
       "\n",
       "       insurance_benefits  \n",
       "count         4847.000000  \n",
       "mean             0.152259  \n",
       "std              0.468934  \n",
       "min              0.000000  \n",
       "25%              0.000000  \n",
       "50%              0.000000  \n",
       "75%              0.000000  \n",
       "max              5.000000  "
      ]
     },
     "execution_count": 8,
     "metadata": {},
     "output_type": "execute_result"
    }
   ],
   "source": [
    "data.describe()"
   ]
  },
  {
   "cell_type": "markdown",
   "metadata": {},
   "source": [
    "Еще проверим есть ли корреляция признаков в данных."
   ]
  },
  {
   "cell_type": "code",
   "execution_count": 9,
   "metadata": {},
   "outputs": [
    {
     "data": {
      "text/html": [
       "<div>\n",
       "<style scoped>\n",
       "    .dataframe tbody tr th:only-of-type {\n",
       "        vertical-align: middle;\n",
       "    }\n",
       "\n",
       "    .dataframe tbody tr th {\n",
       "        vertical-align: top;\n",
       "    }\n",
       "\n",
       "    .dataframe thead th {\n",
       "        text-align: right;\n",
       "    }\n",
       "</style>\n",
       "<table border=\"1\" class=\"dataframe\">\n",
       "  <thead>\n",
       "    <tr style=\"text-align: right;\">\n",
       "      <th></th>\n",
       "      <th>sex</th>\n",
       "      <th>age</th>\n",
       "      <th>salary</th>\n",
       "      <th>family_members</th>\n",
       "      <th>insurance_benefits</th>\n",
       "    </tr>\n",
       "  </thead>\n",
       "  <tbody>\n",
       "    <tr>\n",
       "      <td>sex</td>\n",
       "      <td>1.000000</td>\n",
       "      <td>0.001953</td>\n",
       "      <td>0.015456</td>\n",
       "      <td>-0.007315</td>\n",
       "      <td>0.011565</td>\n",
       "    </tr>\n",
       "    <tr>\n",
       "      <td>age</td>\n",
       "      <td>0.001953</td>\n",
       "      <td>1.000000</td>\n",
       "      <td>-0.017386</td>\n",
       "      <td>-0.009064</td>\n",
       "      <td>0.654964</td>\n",
       "    </tr>\n",
       "    <tr>\n",
       "      <td>salary</td>\n",
       "      <td>0.015456</td>\n",
       "      <td>-0.017386</td>\n",
       "      <td>1.000000</td>\n",
       "      <td>-0.031687</td>\n",
       "      <td>-0.013123</td>\n",
       "    </tr>\n",
       "    <tr>\n",
       "      <td>family_members</td>\n",
       "      <td>-0.007315</td>\n",
       "      <td>-0.009064</td>\n",
       "      <td>-0.031687</td>\n",
       "      <td>1.000000</td>\n",
       "      <td>-0.039303</td>\n",
       "    </tr>\n",
       "    <tr>\n",
       "      <td>insurance_benefits</td>\n",
       "      <td>0.011565</td>\n",
       "      <td>0.654964</td>\n",
       "      <td>-0.013123</td>\n",
       "      <td>-0.039303</td>\n",
       "      <td>1.000000</td>\n",
       "    </tr>\n",
       "  </tbody>\n",
       "</table>\n",
       "</div>"
      ],
      "text/plain": [
       "                         sex       age    salary  family_members  \\\n",
       "sex                 1.000000  0.001953  0.015456       -0.007315   \n",
       "age                 0.001953  1.000000 -0.017386       -0.009064   \n",
       "salary              0.015456 -0.017386  1.000000       -0.031687   \n",
       "family_members     -0.007315 -0.009064 -0.031687        1.000000   \n",
       "insurance_benefits  0.011565  0.654964 -0.013123       -0.039303   \n",
       "\n",
       "                    insurance_benefits  \n",
       "sex                           0.011565  \n",
       "age                           0.654964  \n",
       "salary                       -0.013123  \n",
       "family_members               -0.039303  \n",
       "insurance_benefits            1.000000  "
      ]
     },
     "execution_count": 9,
     "metadata": {},
     "output_type": "execute_result"
    }
   ],
   "source": [
    "data.corr()"
   ]
  },
  {
   "cell_type": "markdown",
   "metadata": {},
   "source": [
    "Между возрастом клиентов и величиной страховых выплат наблюдается положительная корреляция."
   ]
  },
  {
   "cell_type": "markdown",
   "metadata": {},
   "source": [
    "## Умножение матриц"
   ]
  },
  {
   "cell_type": "markdown",
   "metadata": {},
   "source": [
    "Обозначения:\n",
    "\n",
    "- $X$ — матрица признаков (нулевой столбец состоит из единиц)\n",
    "\n",
    "- $y$ — вектор целевого признака\n",
    "\n",
    "- $P$ — матрица, на которую умножаются признаки\n",
    "\n",
    "- $w$ — вектор весов линейной регрессии (нулевой элемент равен сдвигу)"
   ]
  },
  {
   "cell_type": "markdown",
   "metadata": {},
   "source": [
    "Предсказания:\n",
    "\n",
    "$$\n",
    "a = Xw\n",
    "$$\n",
    "\n",
    "Задача обучения:\n",
    "\n",
    "$$\n",
    "w = \\arg\\min_w MSE(Xw, y)\n",
    "$$\n",
    "\n",
    "Формула обучения:\n",
    "\n",
    "$$\n",
    "w = (X^T X)^{-1} X^T y\n",
    "$$"
   ]
  },
  {
   "cell_type": "markdown",
   "metadata": {},
   "source": [
    "**Ответ:** Качество линейной регрессии **не** изменится."
   ]
  },
  {
   "cell_type": "markdown",
   "metadata": {},
   "source": [
    "**Обоснование:** <br>\n",
    "Обозначим новую матрицу признаков как $X'$. При умножении на произвольную обратимую матрицу она принимает следующий вид:"
   ]
  },
  {
   "cell_type": "markdown",
   "metadata": {},
   "source": [
    "$$X' = XP$$"
   ]
  },
  {
   "cell_type": "markdown",
   "metadata": {},
   "source": [
    "Тогда новый вектор весов можно выразить как:"
   ]
  },
  {
   "cell_type": "markdown",
   "metadata": {},
   "source": [
    "$$w' = ((XP)^T(XP))^{-1}(XP)^Ty = (P^T X^T X P)^{-1} P^T X^T y = P^{-1} (X^T X) ^ {-1} (P^T)^{-1} P^T X^T y = P^{-1}w$$"
   ]
  },
  {
   "cell_type": "markdown",
   "metadata": {},
   "source": [
    "Новые предсказания принимают следующий вид:"
   ]
  },
  {
   "cell_type": "markdown",
   "metadata": {},
   "source": [
    "$$a' = X'w' = X P P^{-1} w = Xw = a$$"
   ]
  },
  {
   "cell_type": "markdown",
   "metadata": {},
   "source": [
    "Поскольку в выражении для новых предсказаний произвольная матрица $P$ умножается на обратную ей матрицу (что дает в результате единичную матрицу), конечные предсказания и, как следствие, качество линейной регрессии не изменится."
   ]
  },
  {
   "cell_type": "markdown",
   "metadata": {},
   "source": [
    "## Алгоритм преобразования"
   ]
  },
  {
   "cell_type": "markdown",
   "metadata": {},
   "source": [
    "**Алгоритм**\n",
    "\n",
    "В целях защиты данных и сохранения качества линейной регрессии умножим признаки в датасете на обратимую матрицу $P$. \n",
    "- Сначала сгенерируем случайную матрицу <br>\n",
    "- А после проверим сгенерированную матрицу на обратимость "
   ]
  },
  {
   "cell_type": "markdown",
   "metadata": {},
   "source": [
    "**Обоснование**\n",
    "\n",
    "После теоретического доказательства мы убедились, что шифрование признаков с помощью умножения на обратную матрицу не влияет на качество линейной регрессии. Поэтому воспользуемся этим методов для шифрования признаков."
   ]
  },
  {
   "cell_type": "markdown",
   "metadata": {},
   "source": [
    "---"
   ]
  },
  {
   "cell_type": "markdown",
   "metadata": {},
   "source": [
    "С использованием `np.random.randint` сгенерируем квадратную матрицу 4*4, поскольку в датасете у нас 4 объясняющих признака."
   ]
  },
  {
   "cell_type": "code",
   "execution_count": 10,
   "metadata": {},
   "outputs": [
    {
     "data": {
      "text/plain": [
       "array([[40, 33, 38, 31],\n",
       "       [46, 29, 35,  4],\n",
       "       [50, 82, 21, 72],\n",
       "       [60, 81, 58, 46]])"
      ]
     },
     "execution_count": 10,
     "metadata": {},
     "output_type": "execute_result"
    }
   ],
   "source": [
    "random_P = np.random.randint(100, size = (4,4))\n",
    "random_P"
   ]
  },
  {
   "cell_type": "markdown",
   "metadata": {},
   "source": [
    "Создадим обратную матрицу для проверки обратимости."
   ]
  },
  {
   "cell_type": "code",
   "execution_count": 11,
   "metadata": {},
   "outputs": [
    {
     "data": {
      "text/plain": [
       "array([[ 0.00595464,  0.04552892,  0.01945206, -0.03841866],\n",
       "       [-0.04780011,  0.00054318,  0.00097773,  0.03063552],\n",
       "       [ 0.0269283 , -0.02899919, -0.02719853,  0.02694595],\n",
       "       [ 0.04244976, -0.02377784,  0.00719989, -0.01607007]])"
      ]
     },
     "execution_count": 11,
     "metadata": {},
     "output_type": "execute_result"
    }
   ],
   "source": [
    "np.linalg.inv(random_P)"
   ]
  },
  {
   "cell_type": "markdown",
   "metadata": {},
   "source": [
    "Разделим датасет на `features` и `target`"
   ]
  },
  {
   "cell_type": "code",
   "execution_count": 12,
   "metadata": {},
   "outputs": [],
   "source": [
    "features = data.drop('insurance_benefits', axis = 1)\n",
    "target = data['insurance_benefits']"
   ]
  },
  {
   "cell_type": "markdown",
   "metadata": {},
   "source": [
    "Проверим размеры"
   ]
  },
  {
   "cell_type": "code",
   "execution_count": 13,
   "metadata": {},
   "outputs": [
    {
     "name": "stdout",
     "output_type": "stream",
     "text": [
      "(4847, 4)\n",
      "(4847,)\n"
     ]
    }
   ],
   "source": [
    "print(features.shape)\n",
    "print(target.shape)"
   ]
  },
  {
   "cell_type": "markdown",
   "metadata": {},
   "source": [
    "Рассчитаем веса для признаков на исходных данных"
   ]
  },
  {
   "cell_type": "code",
   "execution_count": 14,
   "metadata": {},
   "outputs": [],
   "source": [
    "w = np.linalg.inv(features.T.dot(features)).dot(features.T).dot(target)"
   ]
  },
  {
   "cell_type": "markdown",
   "metadata": {},
   "source": [
    "Рассчитаем предсказания по признакам"
   ]
  },
  {
   "cell_type": "code",
   "execution_count": 15,
   "metadata": {},
   "outputs": [],
   "source": [
    "a = features @ w"
   ]
  },
  {
   "cell_type": "markdown",
   "metadata": {},
   "source": [
    "Произведем преобразование признаков"
   ]
  },
  {
   "cell_type": "code",
   "execution_count": 16,
   "metadata": {},
   "outputs": [],
   "source": [
    "transformed_features = features @ random_P"
   ]
  },
  {
   "cell_type": "markdown",
   "metadata": {},
   "source": [
    "Рассчитаем веса для преобразованных признаков, умноженных на сгенерированную матрицу"
   ]
  },
  {
   "cell_type": "code",
   "execution_count": 17,
   "metadata": {},
   "outputs": [],
   "source": [
    "new_w = np.linalg.inv(transformed_features.T.dot(transformed_features)).dot(transformed_features.T).dot(target)"
   ]
  },
  {
   "cell_type": "markdown",
   "metadata": {},
   "source": [
    "Рассчитаем предсказания для преобразованных данных"
   ]
  },
  {
   "cell_type": "code",
   "execution_count": 18,
   "metadata": {},
   "outputs": [],
   "source": [
    "new_a = transformed_features @ new_w"
   ]
  },
  {
   "cell_type": "markdown",
   "metadata": {},
   "source": [
    "Посмотрим на расхождения предсказаний"
   ]
  },
  {
   "cell_type": "code",
   "execution_count": 19,
   "metadata": {},
   "outputs": [
    {
     "name": "stdout",
     "output_type": "stream",
     "text": [
      "0.00292600018150280\n"
     ]
    }
   ],
   "source": [
    "difference_sum = (a - new_a).sum()\n",
    "print(f\"{difference_sum:.17f}\")"
   ]
  },
  {
   "cell_type": "markdown",
   "metadata": {},
   "source": [
    "Сумма расхождений незначительная - следовательно, качество линейной регрессии не изменится."
   ]
  },
  {
   "cell_type": "markdown",
   "metadata": {},
   "source": [
    "## Проверка алгоритма"
   ]
  },
  {
   "cell_type": "markdown",
   "metadata": {},
   "source": [
    "Обучим модель `LinearRegression()` и сравним значение `MSE` и `R2` до и после преобразования признаков.\n",
    "Обучим модель линейной регрессии на исходных данных."
   ]
  },
  {
   "cell_type": "code",
   "execution_count": 20,
   "metadata": {},
   "outputs": [],
   "source": [
    "model = LinearRegression()\n",
    "model.fit(features, target)\n",
    "predictions = model.predict(features)"
   ]
  },
  {
   "cell_type": "code",
   "execution_count": 21,
   "metadata": {},
   "outputs": [],
   "source": [
    "mse = mean_squared_error(target, predictions)\n",
    "r2 = r2_score(target, predictions)"
   ]
  },
  {
   "cell_type": "code",
   "execution_count": 22,
   "metadata": {},
   "outputs": [
    {
     "name": "stdout",
     "output_type": "stream",
     "text": [
      "MSE: 0.1252726382276536\n",
      "R2: 0.4302010046633359\n"
     ]
    }
   ],
   "source": [
    "print(f\"MSE: {mse}\")\n",
    "print(f\"R2: {r2}\")"
   ]
  },
  {
   "cell_type": "markdown",
   "metadata": {},
   "source": [
    "Обучим модель линейной регрессии на новых данных"
   ]
  },
  {
   "cell_type": "code",
   "execution_count": 23,
   "metadata": {},
   "outputs": [],
   "source": [
    "model = LinearRegression()\n",
    "model.fit(transformed_features, target)\n",
    "predictions = model.predict(transformed_features)"
   ]
  },
  {
   "cell_type": "code",
   "execution_count": 24,
   "metadata": {},
   "outputs": [],
   "source": [
    "mse = mean_squared_error(target, predictions)\n",
    "r2 = r2_score(target, predictions)"
   ]
  },
  {
   "cell_type": "code",
   "execution_count": 25,
   "metadata": {},
   "outputs": [
    {
     "name": "stdout",
     "output_type": "stream",
     "text": [
      "MSE: 0.12527263822765183\n",
      "R2: 0.4302010046633439\n"
     ]
    }
   ],
   "source": [
    "print(f\"MSE: {mse}\")\n",
    "print(f\"R2: {r2}\")"
   ]
  },
  {
   "cell_type": "markdown",
   "metadata": {},
   "source": [
    "Метрики `MSE` и `R2` после преобразования признаков не изменились."
   ]
  },
  {
   "cell_type": "markdown",
   "metadata": {},
   "source": [
    "## Вывод"
   ]
  },
  {
   "cell_type": "markdown",
   "metadata": {},
   "source": [
    "Во время выполнения проекта были выполнены сделаны такие шаги: \n",
    "\n",
    "- Данные были загружены и изучены \n",
    "- Теоретически доказано, что при умножении признаков на обратимую матрицу качество регрессии не меняется \n",
    "- Выполнена трансформация данных о клиентах компании «Хоть потоп», в результате обучения модели линейной регрессии было продемонстрировано, что ее качество не меняется после умножения признаков на обратимую матрицу."
   ]
  }
 ],
 "metadata": {
  "ExecuteTimeLog": [
   {
    "duration": 954,
    "start_time": "2022-03-03T10:04:34.295Z"
   },
   {
    "duration": 24,
    "start_time": "2022-03-03T10:05:49.512Z"
   },
   {
    "duration": 7,
    "start_time": "2022-03-03T10:06:32.956Z"
   },
   {
    "duration": 4,
    "start_time": "2022-03-03T12:12:24.890Z"
   },
   {
    "duration": 3,
    "start_time": "2022-03-03T12:13:01.953Z"
   },
   {
    "duration": 4,
    "start_time": "2022-03-03T12:13:16.036Z"
   },
   {
    "duration": 5,
    "start_time": "2022-03-03T12:13:28.468Z"
   },
   {
    "duration": 6,
    "start_time": "2022-03-03T12:13:53.191Z"
   },
   {
    "duration": 5,
    "start_time": "2022-03-03T12:14:29.670Z"
   },
   {
    "duration": 8,
    "start_time": "2022-03-03T12:15:22.353Z"
   },
   {
    "duration": 22,
    "start_time": "2022-03-03T12:15:41.833Z"
   },
   {
    "duration": 110,
    "start_time": "2022-03-04T09:47:36.406Z"
   },
   {
    "duration": 460,
    "start_time": "2022-03-04T09:47:44.496Z"
   },
   {
    "duration": 1281,
    "start_time": "2022-03-04T09:47:53.251Z"
   },
   {
    "duration": 41,
    "start_time": "2022-03-04T09:47:54.536Z"
   },
   {
    "duration": 13,
    "start_time": "2022-03-04T09:47:54.581Z"
   },
   {
    "duration": 5,
    "start_time": "2022-03-04T09:47:54.598Z"
   },
   {
    "duration": 38,
    "start_time": "2022-03-04T09:47:54.606Z"
   },
   {
    "duration": 10,
    "start_time": "2022-03-04T09:47:54.647Z"
   },
   {
    "duration": 10,
    "start_time": "2022-03-04T09:47:54.660Z"
   },
   {
    "duration": 79,
    "start_time": "2022-03-04T09:47:54.673Z"
   },
   {
    "duration": 19,
    "start_time": "2022-03-04T09:47:54.757Z"
   },
   {
    "duration": 8,
    "start_time": "2022-03-04T09:47:57.109Z"
   },
   {
    "duration": 8,
    "start_time": "2022-03-04T09:48:22.356Z"
   },
   {
    "duration": 384,
    "start_time": "2022-03-04T09:50:18.874Z"
   },
   {
    "duration": 7,
    "start_time": "2022-03-04T09:50:27.862Z"
   },
   {
    "duration": 99,
    "start_time": "2022-03-04T09:50:30.158Z"
   },
   {
    "duration": 6,
    "start_time": "2022-03-04T09:50:49.966Z"
   },
   {
    "duration": 4,
    "start_time": "2022-03-04T09:51:01.128Z"
   },
   {
    "duration": 4,
    "start_time": "2022-03-04T09:53:03.494Z"
   },
   {
    "duration": 33,
    "start_time": "2022-03-04T09:53:03.500Z"
   },
   {
    "duration": 12,
    "start_time": "2022-03-04T09:53:03.537Z"
   },
   {
    "duration": 5,
    "start_time": "2022-03-04T09:53:03.551Z"
   },
   {
    "duration": 9,
    "start_time": "2022-03-04T09:53:03.559Z"
   },
   {
    "duration": 12,
    "start_time": "2022-03-04T09:53:03.570Z"
   },
   {
    "duration": 7,
    "start_time": "2022-03-04T09:53:03.584Z"
   },
   {
    "duration": 33,
    "start_time": "2022-03-04T09:53:03.634Z"
   },
   {
    "duration": 13,
    "start_time": "2022-03-04T09:53:03.670Z"
   },
   {
    "duration": 6,
    "start_time": "2022-03-04T09:53:03.685Z"
   },
   {
    "duration": 44,
    "start_time": "2022-03-04T09:53:03.694Z"
   },
   {
    "duration": 10,
    "start_time": "2022-03-04T09:53:03.741Z"
   },
   {
    "duration": 84,
    "start_time": "2022-03-04T09:53:03.755Z"
   },
   {
    "duration": 11,
    "start_time": "2022-03-04T09:53:03.842Z"
   },
   {
    "duration": 90,
    "start_time": "2022-03-04T09:53:03.856Z"
   },
   {
    "duration": 92,
    "start_time": "2022-03-04T09:53:03.950Z"
   },
   {
    "duration": 97,
    "start_time": "2022-03-04T09:53:04.046Z"
   },
   {
    "duration": 89,
    "start_time": "2022-03-04T09:53:04.147Z"
   },
   {
    "duration": 101,
    "start_time": "2022-03-04T09:53:04.240Z"
   },
   {
    "duration": 6,
    "start_time": "2022-03-04T09:56:58.584Z"
   },
   {
    "duration": 7,
    "start_time": "2022-03-04T10:02:22.610Z"
   },
   {
    "duration": 6,
    "start_time": "2022-03-04T10:02:32.799Z"
   },
   {
    "duration": 6,
    "start_time": "2022-03-04T10:05:56.929Z"
   },
   {
    "duration": 5,
    "start_time": "2022-03-04T10:06:02.066Z"
   },
   {
    "duration": 6,
    "start_time": "2022-03-04T10:06:03.857Z"
   },
   {
    "duration": 5,
    "start_time": "2022-03-04T10:06:12.108Z"
   },
   {
    "duration": 5,
    "start_time": "2022-03-04T10:06:37.983Z"
   },
   {
    "duration": 5,
    "start_time": "2022-03-04T10:06:58.925Z"
   },
   {
    "duration": 5,
    "start_time": "2022-03-04T10:07:13.815Z"
   },
   {
    "duration": 5,
    "start_time": "2022-03-04T10:20:19.112Z"
   },
   {
    "duration": 4,
    "start_time": "2022-03-04T10:24:10.858Z"
   },
   {
    "duration": 1861,
    "start_time": "2022-03-04T10:24:31.016Z"
   },
   {
    "duration": 61,
    "start_time": "2022-03-04T10:24:32.881Z"
   },
   {
    "duration": 13,
    "start_time": "2022-03-04T10:24:32.946Z"
   },
   {
    "duration": 7,
    "start_time": "2022-03-04T10:24:32.962Z"
   },
   {
    "duration": 9,
    "start_time": "2022-03-04T10:24:32.972Z"
   },
   {
    "duration": 49,
    "start_time": "2022-03-04T10:24:32.983Z"
   },
   {
    "duration": 9,
    "start_time": "2022-03-04T10:24:33.036Z"
   },
   {
    "duration": 50,
    "start_time": "2022-03-04T10:24:33.049Z"
   },
   {
    "duration": 43,
    "start_time": "2022-03-04T10:24:33.103Z"
   },
   {
    "duration": 7,
    "start_time": "2022-03-04T10:24:33.149Z"
   },
   {
    "duration": 9,
    "start_time": "2022-03-04T10:24:33.158Z"
   },
   {
    "duration": 67,
    "start_time": "2022-03-04T10:24:33.170Z"
   },
   {
    "duration": 12,
    "start_time": "2022-03-04T10:24:33.240Z"
   },
   {
    "duration": 8,
    "start_time": "2022-03-04T10:24:33.334Z"
   },
   {
    "duration": 92,
    "start_time": "2022-03-04T10:24:33.345Z"
   },
   {
    "duration": 6,
    "start_time": "2022-03-04T10:24:33.440Z"
   },
   {
    "duration": 9,
    "start_time": "2022-03-04T10:24:33.533Z"
   },
   {
    "duration": 91,
    "start_time": "2022-03-04T10:24:33.545Z"
   },
   {
    "duration": 94,
    "start_time": "2022-03-04T10:24:33.641Z"
   },
   {
    "duration": 9,
    "start_time": "2022-03-04T10:24:33.738Z"
   },
   {
    "duration": 5,
    "start_time": "2022-03-04T10:24:51.151Z"
   },
   {
    "duration": 32,
    "start_time": "2022-03-04T10:24:51.159Z"
   },
   {
    "duration": 8,
    "start_time": "2022-03-04T10:24:51.194Z"
   },
   {
    "duration": 8,
    "start_time": "2022-03-04T10:24:51.204Z"
   },
   {
    "duration": 8,
    "start_time": "2022-03-04T10:24:51.214Z"
   },
   {
    "duration": 10,
    "start_time": "2022-03-04T10:24:51.297Z"
   },
   {
    "duration": 7,
    "start_time": "2022-03-04T10:24:51.310Z"
   },
   {
    "duration": 35,
    "start_time": "2022-03-04T10:24:51.322Z"
   },
   {
    "duration": 13,
    "start_time": "2022-03-04T10:24:51.360Z"
   },
   {
    "duration": 6,
    "start_time": "2022-03-04T10:24:51.375Z"
   },
   {
    "duration": 53,
    "start_time": "2022-03-04T10:24:51.383Z"
   },
   {
    "duration": 92,
    "start_time": "2022-03-04T10:24:51.440Z"
   },
   {
    "duration": 4,
    "start_time": "2022-03-04T10:24:51.535Z"
   },
   {
    "duration": 8,
    "start_time": "2022-03-04T10:24:51.543Z"
   },
   {
    "duration": 83,
    "start_time": "2022-03-04T10:24:51.554Z"
   },
   {
    "duration": 100,
    "start_time": "2022-03-04T10:24:51.641Z"
   },
   {
    "duration": 7,
    "start_time": "2022-03-04T10:24:51.744Z"
   },
   {
    "duration": 4,
    "start_time": "2022-03-04T10:24:51.753Z"
   },
   {
    "duration": 173,
    "start_time": "2022-03-04T10:24:51.761Z"
   },
   {
    "duration": 6,
    "start_time": "2022-03-04T10:24:51.937Z"
   },
   {
    "duration": 4,
    "start_time": "2022-03-04T10:25:08.627Z"
   },
   {
    "duration": 32,
    "start_time": "2022-03-04T10:25:08.633Z"
   },
   {
    "duration": 9,
    "start_time": "2022-03-04T10:25:08.668Z"
   },
   {
    "duration": 4,
    "start_time": "2022-03-04T10:25:08.680Z"
   },
   {
    "duration": 8,
    "start_time": "2022-03-04T10:25:08.687Z"
   },
   {
    "duration": 37,
    "start_time": "2022-03-04T10:25:08.697Z"
   },
   {
    "duration": 15,
    "start_time": "2022-03-04T10:25:08.737Z"
   },
   {
    "duration": 33,
    "start_time": "2022-03-04T10:25:08.756Z"
   },
   {
    "duration": 42,
    "start_time": "2022-03-04T10:25:08.792Z"
   },
   {
    "duration": 6,
    "start_time": "2022-03-04T10:25:08.836Z"
   },
   {
    "duration": 13,
    "start_time": "2022-03-04T10:25:08.845Z"
   },
   {
    "duration": 78,
    "start_time": "2022-03-04T10:25:08.861Z"
   },
   {
    "duration": 8,
    "start_time": "2022-03-04T10:25:08.942Z"
   },
   {
    "duration": 89,
    "start_time": "2022-03-04T10:25:08.952Z"
   },
   {
    "duration": 5,
    "start_time": "2022-03-04T10:25:09.044Z"
   },
   {
    "duration": 92,
    "start_time": "2022-03-04T10:25:09.052Z"
   },
   {
    "duration": 7,
    "start_time": "2022-03-04T10:25:09.232Z"
   },
   {
    "duration": 90,
    "start_time": "2022-03-04T10:25:09.242Z"
   },
   {
    "duration": 6,
    "start_time": "2022-03-04T10:25:09.335Z"
   },
   {
    "duration": 90,
    "start_time": "2022-03-04T10:25:09.345Z"
   },
   {
    "duration": 6,
    "start_time": "2022-03-04T10:39:37.020Z"
   },
   {
    "duration": 5,
    "start_time": "2022-03-04T10:39:43.072Z"
   },
   {
    "duration": 519,
    "start_time": "2022-03-04T10:41:31.325Z"
   },
   {
    "duration": 5,
    "start_time": "2022-03-04T10:42:05.425Z"
   },
   {
    "duration": 106,
    "start_time": "2022-03-04T10:42:10.028Z"
   },
   {
    "duration": 14,
    "start_time": "2022-03-04T10:42:14.348Z"
   },
   {
    "duration": 13,
    "start_time": "2022-03-04T10:44:08.108Z"
   },
   {
    "duration": 5,
    "start_time": "2022-03-04T10:44:09.373Z"
   },
   {
    "duration": 6,
    "start_time": "2022-03-04T10:44:10.698Z"
   },
   {
    "duration": 8,
    "start_time": "2022-03-04T10:44:25.976Z"
   },
   {
    "duration": 6,
    "start_time": "2022-03-04T10:44:27.149Z"
   },
   {
    "duration": 5,
    "start_time": "2022-03-04T10:44:28.358Z"
   },
   {
    "duration": 5,
    "start_time": "2022-03-04T13:41:33.586Z"
   },
   {
    "duration": 7,
    "start_time": "2022-03-04T13:41:49.965Z"
   },
   {
    "duration": 13,
    "start_time": "2022-03-04T13:41:52.030Z"
   },
   {
    "duration": 7,
    "start_time": "2022-03-04T13:41:53.181Z"
   },
   {
    "duration": 5,
    "start_time": "2022-03-04T13:41:54.217Z"
   },
   {
    "duration": 1478,
    "start_time": "2022-03-04T13:52:24.965Z"
   },
   {
    "duration": 41,
    "start_time": "2022-03-04T13:52:26.446Z"
   },
   {
    "duration": 9,
    "start_time": "2022-03-04T13:52:26.491Z"
   },
   {
    "duration": 5,
    "start_time": "2022-03-04T13:52:26.504Z"
   },
   {
    "duration": 7,
    "start_time": "2022-03-04T13:52:26.532Z"
   },
   {
    "duration": 11,
    "start_time": "2022-03-04T13:52:26.541Z"
   },
   {
    "duration": 9,
    "start_time": "2022-03-04T13:52:26.554Z"
   },
   {
    "duration": 67,
    "start_time": "2022-03-04T13:52:26.567Z"
   },
   {
    "duration": 12,
    "start_time": "2022-03-04T13:52:26.637Z"
   },
   {
    "duration": 5,
    "start_time": "2022-03-04T13:52:26.652Z"
   },
   {
    "duration": 73,
    "start_time": "2022-03-04T13:52:26.660Z"
   },
   {
    "duration": 8,
    "start_time": "2022-03-04T13:52:26.737Z"
   },
   {
    "duration": 87,
    "start_time": "2022-03-04T13:52:26.748Z"
   },
   {
    "duration": 6,
    "start_time": "2022-03-04T13:52:26.838Z"
   },
   {
    "duration": 186,
    "start_time": "2022-03-04T13:52:26.846Z"
   },
   {
    "duration": 4,
    "start_time": "2022-03-04T13:52:27.035Z"
   },
   {
    "duration": 8,
    "start_time": "2022-03-04T13:52:27.041Z"
   },
   {
    "duration": 85,
    "start_time": "2022-03-04T13:52:27.052Z"
   },
   {
    "duration": 98,
    "start_time": "2022-03-04T13:52:27.141Z"
   },
   {
    "duration": 11,
    "start_time": "2022-03-04T13:52:27.241Z"
   },
   {
    "duration": 103,
    "start_time": "2022-03-04T13:52:27.334Z"
   },
   {
    "duration": 5,
    "start_time": "2022-03-04T13:52:27.440Z"
   },
   {
    "duration": 10,
    "start_time": "2022-03-04T13:52:27.449Z"
   },
   {
    "duration": 72,
    "start_time": "2022-03-04T13:52:27.462Z"
   },
   {
    "duration": 94,
    "start_time": "2022-03-04T13:52:27.538Z"
   },
   {
    "duration": 1013,
    "start_time": "2022-03-04T14:12:43.284Z"
   },
   {
    "duration": 28,
    "start_time": "2022-03-04T14:12:44.299Z"
   },
   {
    "duration": 6,
    "start_time": "2022-03-04T14:12:45.477Z"
   },
   {
    "duration": 4,
    "start_time": "2022-03-04T14:12:46.072Z"
   },
   {
    "duration": 10,
    "start_time": "2022-03-04T14:12:46.829Z"
   },
   {
    "duration": 6,
    "start_time": "2022-03-04T14:12:47.778Z"
   },
   {
    "duration": 5,
    "start_time": "2022-03-04T14:12:48.488Z"
   },
   {
    "duration": 21,
    "start_time": "2022-03-04T14:12:49.213Z"
   },
   {
    "duration": 8,
    "start_time": "2022-03-04T14:12:49.743Z"
   },
   {
    "duration": 5,
    "start_time": "2022-03-04T14:15:17.236Z"
   },
   {
    "duration": 6,
    "start_time": "2022-03-04T14:15:18.058Z"
   },
   {
    "duration": 3,
    "start_time": "2022-03-04T14:15:19.451Z"
   },
   {
    "duration": 3,
    "start_time": "2022-03-04T14:15:20.557Z"
   },
   {
    "duration": 5,
    "start_time": "2022-03-04T14:15:21.270Z"
   },
   {
    "duration": 12,
    "start_time": "2022-03-04T14:15:21.823Z"
   },
   {
    "duration": 4,
    "start_time": "2022-03-04T14:15:22.502Z"
   },
   {
    "duration": 5,
    "start_time": "2022-03-04T14:15:23.490Z"
   },
   {
    "duration": 11,
    "start_time": "2022-03-04T14:15:24.148Z"
   },
   {
    "duration": 100,
    "start_time": "2022-03-04T14:15:24.502Z"
   },
   {
    "duration": 10,
    "start_time": "2022-03-04T14:15:46.595Z"
   },
   {
    "duration": 4,
    "start_time": "2022-03-04T14:15:47.093Z"
   },
   {
    "duration": 3,
    "start_time": "2022-03-04T14:15:47.257Z"
   },
   {
    "duration": 6,
    "start_time": "2022-03-04T14:15:47.866Z"
   },
   {
    "duration": 4,
    "start_time": "2022-03-04T14:15:48.037Z"
   },
   {
    "duration": 3,
    "start_time": "2022-03-04T14:15:48.177Z"
   }
  ],
  "kernelspec": {
   "display_name": "Python 3 (ipykernel)",
   "language": "python",
   "name": "python3"
  },
  "language_info": {
   "codemirror_mode": {
    "name": "ipython",
    "version": 3
   },
   "file_extension": ".py",
   "mimetype": "text/x-python",
   "name": "python",
   "nbconvert_exporter": "python",
   "pygments_lexer": "ipython3",
   "version": "3.9.5"
  },
  "toc": {
   "base_numbering": 1,
   "nav_menu": {},
   "number_sections": true,
   "sideBar": true,
   "skip_h1_title": true,
   "title_cell": "Содержание",
   "title_sidebar": "Contents",
   "toc_cell": true,
   "toc_position": {
    "height": "calc(100% - 180px)",
    "left": "10px",
    "top": "150px",
    "width": "219.391px"
   },
   "toc_section_display": true,
   "toc_window_display": false
  }
 },
 "nbformat": 4,
 "nbformat_minor": 2
}
