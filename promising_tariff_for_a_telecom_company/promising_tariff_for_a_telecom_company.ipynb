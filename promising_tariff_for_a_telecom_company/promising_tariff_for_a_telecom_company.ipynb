{
 "cells": [
  {
   "cell_type": "markdown",
   "metadata": {
    "toc": true
   },
   "source": [
    "<h1>Содержание<span class=\"tocSkip\"></span></h1>\n",
    "<div class=\"toc\"><ul class=\"toc-item\"><li><span><a href=\"#Описание-проекта\" data-toc-modified-id=\"Описание-проекта-1\"><span class=\"toc-item-num\">1&nbsp;&nbsp;</span>Описание проекта</a></span><ul class=\"toc-item\"><li><span><a href=\"#Описание-тарифов\" data-toc-modified-id=\"Описание-тарифов-1.1\"><span class=\"toc-item-num\">1.1&nbsp;&nbsp;</span>Описание тарифов</a></span></li></ul></li><li><span><a href=\"#Подключение-библиотек-и-файлов-с-данными,-изучение-общей-информации\" data-toc-modified-id=\"Подключение-библиотек-и-файлов-с-данными,-изучение-общей-информации-2\"><span class=\"toc-item-num\">2&nbsp;&nbsp;</span>Подключение библиотек и файлов с данными, изучение общей информации</a></span><ul class=\"toc-item\"><li><span><a href=\"#Подключение-файла-с-данными-о-звонках\" data-toc-modified-id=\"Подключение-файла-с-данными-о-звонках-2.1\"><span class=\"toc-item-num\">2.1&nbsp;&nbsp;</span>Подключение файла с данными о звонках</a></span></li><li><span><a href=\"#Подключение-файла-с-данными-об-интернет-сессиях\" data-toc-modified-id=\"Подключение-файла-с-данными-об-интернет-сессиях-2.2\"><span class=\"toc-item-num\">2.2&nbsp;&nbsp;</span>Подключение файла с данными об интернет-сессиях</a></span></li><li><span><a href=\"#Подключение-файла-с-данными-о-сообщениях-(sms)\" data-toc-modified-id=\"Подключение-файла-с-данными-о-сообщениях-(sms)-2.3\"><span class=\"toc-item-num\">2.3&nbsp;&nbsp;</span>Подключение файла с данными о сообщениях (sms)</a></span></li><li><span><a href=\"#Подключение-файла-с-данными-о-тарифах\" data-toc-modified-id=\"Подключение-файла-с-данными-о-тарифах-2.4\"><span class=\"toc-item-num\">2.4&nbsp;&nbsp;</span>Подключение файла с данными о тарифах</a></span></li><li><span><a href=\"#Подключение-файла-с-данными-о-пользователях-(абонентах)\" data-toc-modified-id=\"Подключение-файла-с-данными-о-пользователях-(абонентах)-2.5\"><span class=\"toc-item-num\">2.5&nbsp;&nbsp;</span>Подключение файла с данными о пользователях (абонентах)</a></span></li></ul></li><li><span><a href=\"#Подготовка-данных\" data-toc-modified-id=\"Подготовка-данных-3\"><span class=\"toc-item-num\">3&nbsp;&nbsp;</span>Подготовка данных</a></span><ul class=\"toc-item\"><li><span><a href=\"#Обработка-----df_calls\" data-toc-modified-id=\"Обработка-----df_calls-3.1\"><span class=\"toc-item-num\">3.1&nbsp;&nbsp;</span>Обработка -   <code>df_calls</code></a></span></li><li><span><a href=\"#Обработка----df_internet\" data-toc-modified-id=\"Обработка----df_internet-3.2\"><span class=\"toc-item-num\">3.2&nbsp;&nbsp;</span>Обработка -  <code>df_internet</code></a></span></li><li><span><a href=\"#Обработка----df_messages\" data-toc-modified-id=\"Обработка----df_messages-3.3\"><span class=\"toc-item-num\">3.3&nbsp;&nbsp;</span>Обработка -  <code>df_messages</code></a></span></li><li><span><a href=\"#Обработка----df_tariffs\" data-toc-modified-id=\"Обработка----df_tariffs-3.4\"><span class=\"toc-item-num\">3.4&nbsp;&nbsp;</span>Обработка -  <code>df_tariffs</code></a></span></li><li><span><a href=\"#Обработка----df_users\" data-toc-modified-id=\"Обработка----df_users-3.5\"><span class=\"toc-item-num\">3.5&nbsp;&nbsp;</span>Обработка -  <code>df_users</code></a></span></li><li><span><a href=\"#Оптимизация-типов-данных-int-и-float\" data-toc-modified-id=\"Оптимизация-типов-данных-int-и-float-3.6\"><span class=\"toc-item-num\">3.6&nbsp;&nbsp;</span>Оптимизация типов данных <code>int</code> и <code>float</code></a></span></li><li><span><a href=\"#Вывод-о-подготовке-данных\" data-toc-modified-id=\"Вывод-о-подготовке-данных-3.7\"><span class=\"toc-item-num\">3.7&nbsp;&nbsp;</span>Вывод о подготовке данных</a></span></li></ul></li><li><span><a href=\"#Подсчет-данных-для-каждого-пользователя\" data-toc-modified-id=\"Подсчет-данных-для-каждого-пользователя-4\"><span class=\"toc-item-num\">4&nbsp;&nbsp;</span>Подсчет данных для каждого пользователя</a></span><ul class=\"toc-item\"><li><span><a href=\"#Количество-сделанных-звонков-и-израсходованных-минут-разговора-по-месяцам;\" data-toc-modified-id=\"Количество-сделанных-звонков-и-израсходованных-минут-разговора-по-месяцам;-4.1\"><span class=\"toc-item-num\">4.1&nbsp;&nbsp;</span>Количество сделанных звонков и израсходованных минут разговора по месяцам;</a></span></li><li><span><a href=\"#Количество-отправленных-сообщений-по-месяцам;\" data-toc-modified-id=\"Количество-отправленных-сообщений-по-месяцам;-4.2\"><span class=\"toc-item-num\">4.2&nbsp;&nbsp;</span>Количество отправленных сообщений по месяцам;</a></span></li><li><span><a href=\"#Объем-израсходованного-интернет-трафика-по-месяцам;\" data-toc-modified-id=\"Объем-израсходованного-интернет-трафика-по-месяцам;-4.3\"><span class=\"toc-item-num\">4.3&nbsp;&nbsp;</span>Объем израсходованного интернет-трафика по месяцам;</a></span></li><li><span><a href=\"#Помесячная-выручка-с-каждого-пользователя\" data-toc-modified-id=\"Помесячная-выручка-с-каждого-пользователя-4.4\"><span class=\"toc-item-num\">4.4&nbsp;&nbsp;</span>Помесячная выручка с каждого пользователя</a></span></li><li><span><a href=\"#Выводы-о-подсчете-дохода\" data-toc-modified-id=\"Выводы-о-подсчете-дохода-4.5\"><span class=\"toc-item-num\">4.5&nbsp;&nbsp;</span>Выводы о подсчете дохода</a></span></li></ul></li><li><span><a href=\"#Анализ-данных\" data-toc-modified-id=\"Анализ-данных-5\"><span class=\"toc-item-num\">5&nbsp;&nbsp;</span>Анализ данных</a></span><ul class=\"toc-item\"><li><span><a href=\"#Подготовка-данных-и-создание-инструментов-для-анализа\" data-toc-modified-id=\"Подготовка-данных-и-создание-инструментов-для-анализа-5.1\"><span class=\"toc-item-num\">5.1&nbsp;&nbsp;</span>Подготовка данных и создание инструментов для анализа</a></span></li><li><span><a href=\"#Объемы-использования-сервисов-за-месяц\" data-toc-modified-id=\"Объемы-использования-сервисов-за-месяц-5.2\"><span class=\"toc-item-num\">5.2&nbsp;&nbsp;</span>Объемы использования сервисов за месяц</a></span><ul class=\"toc-item\"><li><span><a href=\"#Минуты-разговора\" data-toc-modified-id=\"Минуты-разговора-5.2.1\"><span class=\"toc-item-num\">5.2.1&nbsp;&nbsp;</span>Минуты разговора</a></span></li><li><span><a href=\"#Количество-сообщений\" data-toc-modified-id=\"Количество-сообщений-5.2.2\"><span class=\"toc-item-num\">5.2.2&nbsp;&nbsp;</span>Количество сообщений</a></span></li><li><span><a href=\"#Объем-интернет-трафика\" data-toc-modified-id=\"Объем-интернет-трафика-5.2.3\"><span class=\"toc-item-num\">5.2.3&nbsp;&nbsp;</span>Объем интернет-трафика</a></span></li></ul></li></ul></li><li><span><a href=\"#Проверка-гипотез\" data-toc-modified-id=\"Проверка-гипотез-6\"><span class=\"toc-item-num\">6&nbsp;&nbsp;</span>Проверка гипотез</a></span></li><li><span><a href=\"#Общий-вывод\" data-toc-modified-id=\"Общий-вывод-7\"><span class=\"toc-item-num\">7&nbsp;&nbsp;</span>Общий вывод</a></span></li></ul></div>"
   ]
  },
  {
   "cell_type": "markdown",
   "metadata": {},
   "source": [
    "# Определение перспективного тарифа для телеком-компании"
   ]
  },
  {
   "cell_type": "markdown",
   "metadata": {},
   "source": [
    "## Описание проекта"
   ]
  },
  {
   "cell_type": "markdown",
   "metadata": {},
   "source": [
    "Для коррекции рекламного бюджета, коммерческий департамент компании «Мегалайн», федерального оператора сотовой связи, просит проанализировать два тарифных плана: «Смарт» и «Ультра». Это поможет понять какой из этих тарифов лучше и приносит больше денег для компании.\n",
    "\n",
    "\n",
    "Необходимо сделать предварительный анализ тарифов на небольшой, 500 пользователей, выборке клиентов за 2018 год.  \n",
    "Выборка содержит такие данные как: кто они, откуда, каким тарифом пользуются, сколько звонков и сообщений каждый отправил.  \n",
    "Проанализировав полученные данные и поведение клиентов, следует сделать вывод - какой тариф в итоге лучше."
   ]
  },
  {
   "cell_type": "markdown",
   "metadata": {},
   "source": [
    "### Описание тарифов"
   ]
  },
  {
   "cell_type": "markdown",
   "metadata": {},
   "source": [
    "«Мегалайн» всегда округляет вверх значения минут и мегабайтов.  \n",
    "Если пользователь проговорил всего 1 секунду, в тарифе засчитывается целая минута  "
   ]
  },
  {
   "cell_type": "markdown",
   "metadata": {},
   "source": [
    "|Название тарифа|Ежемесячная плата|•| |Включено в тариф| |•| |Дополнительно| |\n",
    "|:-|:-|:-|:-|:-|:-|:-|:-|:-|:-|\n",
    "|Тариф «Смарт»|550 рублей|•|500 минут|50 сообщений|15 гигабайт|•|3р минута|3р сообщение|200р гигабайт|\n",
    "|Тариф «Ультра»|1950 рублей|•|3000 минут|1000 сообщений|30 гигабайт|•|1р минута|1р сообщение|150р гигабайт|"
   ]
  },
  {
   "cell_type": "markdown",
   "metadata": {},
   "source": [
    "---"
   ]
  },
  {
   "cell_type": "markdown",
   "metadata": {},
   "source": [
    "## Подключение библиотек и файлов с данными, изучение общей информации"
   ]
  },
  {
   "cell_type": "markdown",
   "metadata": {},
   "source": [
    "Импортируем необходимые библиотеки для работы над проектом"
   ]
  },
  {
   "cell_type": "code",
   "execution_count": null,
   "metadata": {},
   "outputs": [],
   "source": [
    "import pandas as pd\n",
    "import matplotlib.pyplot as plt\n",
    "import numpy as np\n",
    "from scipy import stats as st"
   ]
  },
  {
   "cell_type": "markdown",
   "metadata": {},
   "source": [
    "Пути к файлам с данными о:  \n",
    "`/datasets/calls.csv` - звонках  \n",
    "`/datasets/internet.csv` - интернет-сессиях  \n",
    "`/datasets/messages.csv` - сообщениях (sms)  \n",
    "`/datasets/tariffs.csv` - тарифах  \n",
    "`/datasets/users.csv` - пользователях  "
   ]
  },
  {
   "cell_type": "markdown",
   "metadata": {},
   "source": [
    "Напишем функцию `data_lookup` для просмотра данных о датафрейме с использованием нескольких методов: `.head()`, `.info()` и `.describe()` "
   ]
  },
  {
   "cell_type": "code",
   "execution_count": 2,
   "metadata": {},
   "outputs": [],
   "source": [
    "def data_lookup(dataframe):\n",
    "    print(f\"Просмотр первых нескольких строк датафрейма '{dataframe.name}' методом .head()\")\n",
    "    display(dataframe.head())\n",
    "    \n",
    "    print(f\"\\nПолучение информации о датафрейме '{dataframe.name}' методом .info()\")\n",
    "    display(dataframe.info(memory_usage='deep'))\n",
    "    \n",
    "    print(f\"\\nОбзор датафрейма '{dataframe.name}' методом .describe() в транспонированном виде\")\n",
    "    display(dataframe.describe(include = 'all').T) # include = 'all' для отображения в том числе и не числовых значений"
   ]
  },
  {
   "cell_type": "markdown",
   "metadata": {},
   "source": [
    "На этапе слияния нескольких датафреймов скорее всего не все колонки будут отображаться при выводе на экран, добавим настройку для отображения всех колонок."
   ]
  },
  {
   "cell_type": "code",
   "execution_count": 3,
   "metadata": {},
   "outputs": [],
   "source": [
    "pd.set_option(\"display.max_columns\", None)"
   ]
  },
  {
   "cell_type": "markdown",
   "metadata": {},
   "source": [
    "### Подключение файла с данными о звонках"
   ]
  },
  {
   "cell_type": "markdown",
   "metadata": {},
   "source": [
    "Создадим датафрейм `df_calls` и присвоим ему такое же имя, с использованием функции `data_lookup` изучим данные выведем на экран первые строки `.head()`, общую информацию `.info()` и описание данных методом `.describe()`"
   ]
  },
  {
   "cell_type": "code",
   "execution_count": 4,
   "metadata": {
    "scrolled": false
   },
   "outputs": [
    {
     "name": "stdout",
     "output_type": "stream",
     "text": [
      "Просмотр первых нескольких строк датафрейма 'Calls' методом .head()\n"
     ]
    },
    {
     "data": {
      "text/html": [
       "<div>\n",
       "<style scoped>\n",
       "    .dataframe tbody tr th:only-of-type {\n",
       "        vertical-align: middle;\n",
       "    }\n",
       "\n",
       "    .dataframe tbody tr th {\n",
       "        vertical-align: top;\n",
       "    }\n",
       "\n",
       "    .dataframe thead th {\n",
       "        text-align: right;\n",
       "    }\n",
       "</style>\n",
       "<table border=\"1\" class=\"dataframe\">\n",
       "  <thead>\n",
       "    <tr style=\"text-align: right;\">\n",
       "      <th></th>\n",
       "      <th>id</th>\n",
       "      <th>call_date</th>\n",
       "      <th>duration</th>\n",
       "      <th>user_id</th>\n",
       "    </tr>\n",
       "  </thead>\n",
       "  <tbody>\n",
       "    <tr>\n",
       "      <td>0</td>\n",
       "      <td>1000_0</td>\n",
       "      <td>2018-07-25</td>\n",
       "      <td>0.00</td>\n",
       "      <td>1000</td>\n",
       "    </tr>\n",
       "    <tr>\n",
       "      <td>1</td>\n",
       "      <td>1000_1</td>\n",
       "      <td>2018-08-17</td>\n",
       "      <td>0.00</td>\n",
       "      <td>1000</td>\n",
       "    </tr>\n",
       "    <tr>\n",
       "      <td>2</td>\n",
       "      <td>1000_2</td>\n",
       "      <td>2018-06-11</td>\n",
       "      <td>2.85</td>\n",
       "      <td>1000</td>\n",
       "    </tr>\n",
       "    <tr>\n",
       "      <td>3</td>\n",
       "      <td>1000_3</td>\n",
       "      <td>2018-09-21</td>\n",
       "      <td>13.80</td>\n",
       "      <td>1000</td>\n",
       "    </tr>\n",
       "    <tr>\n",
       "      <td>4</td>\n",
       "      <td>1000_4</td>\n",
       "      <td>2018-12-15</td>\n",
       "      <td>5.18</td>\n",
       "      <td>1000</td>\n",
       "    </tr>\n",
       "  </tbody>\n",
       "</table>\n",
       "</div>"
      ],
      "text/plain": [
       "       id   call_date  duration  user_id\n",
       "0  1000_0  2018-07-25      0.00     1000\n",
       "1  1000_1  2018-08-17      0.00     1000\n",
       "2  1000_2  2018-06-11      2.85     1000\n",
       "3  1000_3  2018-09-21     13.80     1000\n",
       "4  1000_4  2018-12-15      5.18     1000"
      ]
     },
     "metadata": {},
     "output_type": "display_data"
    },
    {
     "name": "stdout",
     "output_type": "stream",
     "text": [
      "\n",
      "Получение информации о датафрейме 'Calls' методом .info()\n",
      "<class 'pandas.core.frame.DataFrame'>\n",
      "RangeIndex: 202607 entries, 0 to 202606\n",
      "Data columns (total 4 columns):\n",
      "id           202607 non-null object\n",
      "call_date    202607 non-null object\n",
      "duration     202607 non-null float64\n",
      "user_id      202607 non-null int64\n",
      "dtypes: float64(1), int64(1), object(2)\n",
      "memory usage: 28.6 MB\n"
     ]
    },
    {
     "data": {
      "text/plain": [
       "None"
      ]
     },
     "metadata": {},
     "output_type": "display_data"
    },
    {
     "name": "stdout",
     "output_type": "stream",
     "text": [
      "\n",
      "Обзор датафрейма 'Calls' методом .describe() в транспонированном виде\n"
     ]
    },
    {
     "data": {
      "text/html": [
       "<div>\n",
       "<style scoped>\n",
       "    .dataframe tbody tr th:only-of-type {\n",
       "        vertical-align: middle;\n",
       "    }\n",
       "\n",
       "    .dataframe tbody tr th {\n",
       "        vertical-align: top;\n",
       "    }\n",
       "\n",
       "    .dataframe thead th {\n",
       "        text-align: right;\n",
       "    }\n",
       "</style>\n",
       "<table border=\"1\" class=\"dataframe\">\n",
       "  <thead>\n",
       "    <tr style=\"text-align: right;\">\n",
       "      <th></th>\n",
       "      <th>count</th>\n",
       "      <th>unique</th>\n",
       "      <th>top</th>\n",
       "      <th>freq</th>\n",
       "      <th>mean</th>\n",
       "      <th>std</th>\n",
       "      <th>min</th>\n",
       "      <th>25%</th>\n",
       "      <th>50%</th>\n",
       "      <th>75%</th>\n",
       "      <th>max</th>\n",
       "    </tr>\n",
       "  </thead>\n",
       "  <tbody>\n",
       "    <tr>\n",
       "      <td>id</td>\n",
       "      <td>202607</td>\n",
       "      <td>202607</td>\n",
       "      <td>1309_195</td>\n",
       "      <td>1</td>\n",
       "      <td>NaN</td>\n",
       "      <td>NaN</td>\n",
       "      <td>NaN</td>\n",
       "      <td>NaN</td>\n",
       "      <td>NaN</td>\n",
       "      <td>NaN</td>\n",
       "      <td>NaN</td>\n",
       "    </tr>\n",
       "    <tr>\n",
       "      <td>call_date</td>\n",
       "      <td>202607</td>\n",
       "      <td>365</td>\n",
       "      <td>2018-12-31</td>\n",
       "      <td>1435</td>\n",
       "      <td>NaN</td>\n",
       "      <td>NaN</td>\n",
       "      <td>NaN</td>\n",
       "      <td>NaN</td>\n",
       "      <td>NaN</td>\n",
       "      <td>NaN</td>\n",
       "      <td>NaN</td>\n",
       "    </tr>\n",
       "    <tr>\n",
       "      <td>duration</td>\n",
       "      <td>202607</td>\n",
       "      <td>NaN</td>\n",
       "      <td>NaN</td>\n",
       "      <td>NaN</td>\n",
       "      <td>6.75589</td>\n",
       "      <td>5.84337</td>\n",
       "      <td>0</td>\n",
       "      <td>1.3</td>\n",
       "      <td>6</td>\n",
       "      <td>10.7</td>\n",
       "      <td>38</td>\n",
       "    </tr>\n",
       "    <tr>\n",
       "      <td>user_id</td>\n",
       "      <td>202607</td>\n",
       "      <td>NaN</td>\n",
       "      <td>NaN</td>\n",
       "      <td>NaN</td>\n",
       "      <td>1253.94</td>\n",
       "      <td>144.723</td>\n",
       "      <td>1000</td>\n",
       "      <td>1126</td>\n",
       "      <td>1260</td>\n",
       "      <td>1379</td>\n",
       "      <td>1499</td>\n",
       "    </tr>\n",
       "  </tbody>\n",
       "</table>\n",
       "</div>"
      ],
      "text/plain": [
       "            count  unique         top  freq     mean      std   min   25%  \\\n",
       "id         202607  202607    1309_195     1      NaN      NaN   NaN   NaN   \n",
       "call_date  202607     365  2018-12-31  1435      NaN      NaN   NaN   NaN   \n",
       "duration   202607     NaN         NaN   NaN  6.75589  5.84337     0   1.3   \n",
       "user_id    202607     NaN         NaN   NaN  1253.94  144.723  1000  1126   \n",
       "\n",
       "            50%   75%   max  \n",
       "id          NaN   NaN   NaN  \n",
       "call_date   NaN   NaN   NaN  \n",
       "duration      6  10.7    38  \n",
       "user_id    1260  1379  1499  "
      ]
     },
     "metadata": {},
     "output_type": "display_data"
    }
   ],
   "source": [
    "df_calls = pd.read_csv('/datasets/calls.csv')\n",
    "df_calls.name = \"Calls\"\n",
    "data_lookup(df_calls)"
   ]
  },
  {
   "cell_type": "markdown",
   "metadata": {},
   "source": [
    "Описание данных таблицы `df_calls` (информация о звонках):  \n",
    "`id` — уникальный номер звонка  \n",
    "`call_date` — дата звонка  \n",
    "`duration` — длительность звонка в минутах  \n",
    "`user_id` — идентификатор пользователя, сделавшего звонок"
   ]
  },
  {
   "cell_type": "markdown",
   "metadata": {},
   "source": [
    "Датафрейм содержит 202 тысячи 607 записей о звонках. Длительность некоторых звонков равна 0, это не ошибка: нулями обозначены пропущенные звонки, а максимальная длительность звонка равна 38 минутам."
   ]
  },
  {
   "cell_type": "markdown",
   "metadata": {},
   "source": [
    "### Подключение файла с данными об интернет-сессиях"
   ]
  },
  {
   "cell_type": "markdown",
   "metadata": {},
   "source": [
    "Создадим датафрейм `df_internet` и присвоим ему такое же имя, с использованием функции `data_lookup` изучим данные выведем на экран первые строки `.head()`, общую информацию `.info()` и описание данных методом `.describe()`"
   ]
  },
  {
   "cell_type": "code",
   "execution_count": 5,
   "metadata": {},
   "outputs": [
    {
     "name": "stdout",
     "output_type": "stream",
     "text": [
      "Просмотр первых нескольких строк датафрейма 'Internet' методом .head()\n"
     ]
    },
    {
     "data": {
      "text/html": [
       "<div>\n",
       "<style scoped>\n",
       "    .dataframe tbody tr th:only-of-type {\n",
       "        vertical-align: middle;\n",
       "    }\n",
       "\n",
       "    .dataframe tbody tr th {\n",
       "        vertical-align: top;\n",
       "    }\n",
       "\n",
       "    .dataframe thead th {\n",
       "        text-align: right;\n",
       "    }\n",
       "</style>\n",
       "<table border=\"1\" class=\"dataframe\">\n",
       "  <thead>\n",
       "    <tr style=\"text-align: right;\">\n",
       "      <th></th>\n",
       "      <th>Unnamed: 0</th>\n",
       "      <th>id</th>\n",
       "      <th>mb_used</th>\n",
       "      <th>session_date</th>\n",
       "      <th>user_id</th>\n",
       "    </tr>\n",
       "  </thead>\n",
       "  <tbody>\n",
       "    <tr>\n",
       "      <td>0</td>\n",
       "      <td>0</td>\n",
       "      <td>1000_0</td>\n",
       "      <td>112.95</td>\n",
       "      <td>2018-11-25</td>\n",
       "      <td>1000</td>\n",
       "    </tr>\n",
       "    <tr>\n",
       "      <td>1</td>\n",
       "      <td>1</td>\n",
       "      <td>1000_1</td>\n",
       "      <td>1052.81</td>\n",
       "      <td>2018-09-07</td>\n",
       "      <td>1000</td>\n",
       "    </tr>\n",
       "    <tr>\n",
       "      <td>2</td>\n",
       "      <td>2</td>\n",
       "      <td>1000_2</td>\n",
       "      <td>1197.26</td>\n",
       "      <td>2018-06-25</td>\n",
       "      <td>1000</td>\n",
       "    </tr>\n",
       "    <tr>\n",
       "      <td>3</td>\n",
       "      <td>3</td>\n",
       "      <td>1000_3</td>\n",
       "      <td>550.27</td>\n",
       "      <td>2018-08-22</td>\n",
       "      <td>1000</td>\n",
       "    </tr>\n",
       "    <tr>\n",
       "      <td>4</td>\n",
       "      <td>4</td>\n",
       "      <td>1000_4</td>\n",
       "      <td>302.56</td>\n",
       "      <td>2018-09-24</td>\n",
       "      <td>1000</td>\n",
       "    </tr>\n",
       "  </tbody>\n",
       "</table>\n",
       "</div>"
      ],
      "text/plain": [
       "   Unnamed: 0      id  mb_used session_date  user_id\n",
       "0           0  1000_0   112.95   2018-11-25     1000\n",
       "1           1  1000_1  1052.81   2018-09-07     1000\n",
       "2           2  1000_2  1197.26   2018-06-25     1000\n",
       "3           3  1000_3   550.27   2018-08-22     1000\n",
       "4           4  1000_4   302.56   2018-09-24     1000"
      ]
     },
     "metadata": {},
     "output_type": "display_data"
    },
    {
     "name": "stdout",
     "output_type": "stream",
     "text": [
      "\n",
      "Получение информации о датафрейме 'Internet' методом .info()\n",
      "<class 'pandas.core.frame.DataFrame'>\n",
      "RangeIndex: 149396 entries, 0 to 149395\n",
      "Data columns (total 5 columns):\n",
      "Unnamed: 0      149396 non-null int64\n",
      "id              149396 non-null object\n",
      "mb_used         149396 non-null float64\n",
      "session_date    149396 non-null object\n",
      "user_id         149396 non-null int64\n",
      "dtypes: float64(1), int64(2), object(2)\n",
      "memory usage: 22.2 MB\n"
     ]
    },
    {
     "data": {
      "text/plain": [
       "None"
      ]
     },
     "metadata": {},
     "output_type": "display_data"
    },
    {
     "name": "stdout",
     "output_type": "stream",
     "text": [
      "\n",
      "Обзор датафрейма 'Internet' методом .describe() в транспонированном виде\n"
     ]
    },
    {
     "data": {
      "text/html": [
       "<div>\n",
       "<style scoped>\n",
       "    .dataframe tbody tr th:only-of-type {\n",
       "        vertical-align: middle;\n",
       "    }\n",
       "\n",
       "    .dataframe tbody tr th {\n",
       "        vertical-align: top;\n",
       "    }\n",
       "\n",
       "    .dataframe thead th {\n",
       "        text-align: right;\n",
       "    }\n",
       "</style>\n",
       "<table border=\"1\" class=\"dataframe\">\n",
       "  <thead>\n",
       "    <tr style=\"text-align: right;\">\n",
       "      <th></th>\n",
       "      <th>count</th>\n",
       "      <th>unique</th>\n",
       "      <th>top</th>\n",
       "      <th>freq</th>\n",
       "      <th>mean</th>\n",
       "      <th>std</th>\n",
       "      <th>min</th>\n",
       "      <th>25%</th>\n",
       "      <th>50%</th>\n",
       "      <th>75%</th>\n",
       "      <th>max</th>\n",
       "    </tr>\n",
       "  </thead>\n",
       "  <tbody>\n",
       "    <tr>\n",
       "      <td>Unnamed: 0</td>\n",
       "      <td>149396</td>\n",
       "      <td>NaN</td>\n",
       "      <td>NaN</td>\n",
       "      <td>NaN</td>\n",
       "      <td>74697.5</td>\n",
       "      <td>43127.1</td>\n",
       "      <td>0</td>\n",
       "      <td>37348.8</td>\n",
       "      <td>74697.5</td>\n",
       "      <td>112046</td>\n",
       "      <td>149395</td>\n",
       "    </tr>\n",
       "    <tr>\n",
       "      <td>id</td>\n",
       "      <td>149396</td>\n",
       "      <td>149396</td>\n",
       "      <td>1425_251</td>\n",
       "      <td>1</td>\n",
       "      <td>NaN</td>\n",
       "      <td>NaN</td>\n",
       "      <td>NaN</td>\n",
       "      <td>NaN</td>\n",
       "      <td>NaN</td>\n",
       "      <td>NaN</td>\n",
       "      <td>NaN</td>\n",
       "    </tr>\n",
       "    <tr>\n",
       "      <td>mb_used</td>\n",
       "      <td>149396</td>\n",
       "      <td>NaN</td>\n",
       "      <td>NaN</td>\n",
       "      <td>NaN</td>\n",
       "      <td>370.192</td>\n",
       "      <td>278.301</td>\n",
       "      <td>0</td>\n",
       "      <td>138.188</td>\n",
       "      <td>348.015</td>\n",
       "      <td>559.553</td>\n",
       "      <td>1724.83</td>\n",
       "    </tr>\n",
       "    <tr>\n",
       "      <td>session_date</td>\n",
       "      <td>149396</td>\n",
       "      <td>365</td>\n",
       "      <td>2018-12-31</td>\n",
       "      <td>1057</td>\n",
       "      <td>NaN</td>\n",
       "      <td>NaN</td>\n",
       "      <td>NaN</td>\n",
       "      <td>NaN</td>\n",
       "      <td>NaN</td>\n",
       "      <td>NaN</td>\n",
       "      <td>NaN</td>\n",
       "    </tr>\n",
       "    <tr>\n",
       "      <td>user_id</td>\n",
       "      <td>149396</td>\n",
       "      <td>NaN</td>\n",
       "      <td>NaN</td>\n",
       "      <td>NaN</td>\n",
       "      <td>1252.1</td>\n",
       "      <td>144.051</td>\n",
       "      <td>1000</td>\n",
       "      <td>1130</td>\n",
       "      <td>1251</td>\n",
       "      <td>1380</td>\n",
       "      <td>1499</td>\n",
       "    </tr>\n",
       "  </tbody>\n",
       "</table>\n",
       "</div>"
      ],
      "text/plain": [
       "               count  unique         top  freq     mean      std   min  \\\n",
       "Unnamed: 0    149396     NaN         NaN   NaN  74697.5  43127.1     0   \n",
       "id            149396  149396    1425_251     1      NaN      NaN   NaN   \n",
       "mb_used       149396     NaN         NaN   NaN  370.192  278.301     0   \n",
       "session_date  149396     365  2018-12-31  1057      NaN      NaN   NaN   \n",
       "user_id       149396     NaN         NaN   NaN   1252.1  144.051  1000   \n",
       "\n",
       "                  25%      50%      75%      max  \n",
       "Unnamed: 0    37348.8  74697.5   112046   149395  \n",
       "id                NaN      NaN      NaN      NaN  \n",
       "mb_used       138.188  348.015  559.553  1724.83  \n",
       "session_date      NaN      NaN      NaN      NaN  \n",
       "user_id          1130     1251     1380     1499  "
      ]
     },
     "metadata": {},
     "output_type": "display_data"
    }
   ],
   "source": [
    "df_internet = pd.read_csv('/datasets/internet.csv')\n",
    "df_internet.name = \"Internet\"\n",
    "data_lookup(df_internet)"
   ]
  },
  {
   "cell_type": "markdown",
   "metadata": {},
   "source": [
    "Описание данных таблицы `df_internet` (информация об интернет-сессиях):  \n",
    "`id` — уникальный номер сессии  \n",
    "`mb_used` — объём потраченного за сессию интернет-трафика (в мегабайтах)  \n",
    "`session_date` — дата интернет-сессии  \n",
    "`user_id` — идентификатор пользователя"
   ]
  },
  {
   "cell_type": "markdown",
   "metadata": {},
   "source": [
    "Хм, присутствует дополнительный столбец с названием `Unnamed` похоже что он дублирует индексы, выведем 5 рандомных записей чтобы проверить догадку."
   ]
  },
  {
   "cell_type": "code",
   "execution_count": 6,
   "metadata": {},
   "outputs": [
    {
     "data": {
      "text/html": [
       "<div>\n",
       "<style scoped>\n",
       "    .dataframe tbody tr th:only-of-type {\n",
       "        vertical-align: middle;\n",
       "    }\n",
       "\n",
       "    .dataframe tbody tr th {\n",
       "        vertical-align: top;\n",
       "    }\n",
       "\n",
       "    .dataframe thead th {\n",
       "        text-align: right;\n",
       "    }\n",
       "</style>\n",
       "<table border=\"1\" class=\"dataframe\">\n",
       "  <thead>\n",
       "    <tr style=\"text-align: right;\">\n",
       "      <th></th>\n",
       "      <th>Unnamed: 0</th>\n",
       "      <th>id</th>\n",
       "      <th>mb_used</th>\n",
       "      <th>session_date</th>\n",
       "      <th>user_id</th>\n",
       "    </tr>\n",
       "  </thead>\n",
       "  <tbody>\n",
       "    <tr>\n",
       "      <td>39019</td>\n",
       "      <td>39019</td>\n",
       "      <td>1135_499</td>\n",
       "      <td>387.78</td>\n",
       "      <td>2018-03-15</td>\n",
       "      <td>1135</td>\n",
       "    </tr>\n",
       "    <tr>\n",
       "      <td>38115</td>\n",
       "      <td>38115</td>\n",
       "      <td>1134_170</td>\n",
       "      <td>178.34</td>\n",
       "      <td>2018-03-18</td>\n",
       "      <td>1134</td>\n",
       "    </tr>\n",
       "    <tr>\n",
       "      <td>6359</td>\n",
       "      <td>6359</td>\n",
       "      <td>1021_3</td>\n",
       "      <td>341.31</td>\n",
       "      <td>2018-09-20</td>\n",
       "      <td>1021</td>\n",
       "    </tr>\n",
       "    <tr>\n",
       "      <td>96561</td>\n",
       "      <td>96561</td>\n",
       "      <td>1325_220</td>\n",
       "      <td>486.59</td>\n",
       "      <td>2018-12-24</td>\n",
       "      <td>1325</td>\n",
       "    </tr>\n",
       "    <tr>\n",
       "      <td>105924</td>\n",
       "      <td>105924</td>\n",
       "      <td>1358_118</td>\n",
       "      <td>0.00</td>\n",
       "      <td>2018-04-28</td>\n",
       "      <td>1358</td>\n",
       "    </tr>\n",
       "  </tbody>\n",
       "</table>\n",
       "</div>"
      ],
      "text/plain": [
       "        Unnamed: 0        id  mb_used session_date  user_id\n",
       "39019        39019  1135_499   387.78   2018-03-15     1135\n",
       "38115        38115  1134_170   178.34   2018-03-18     1134\n",
       "6359          6359    1021_3   341.31   2018-09-20     1021\n",
       "96561        96561  1325_220   486.59   2018-12-24     1325\n",
       "105924      105924  1358_118     0.00   2018-04-28     1358"
      ]
     },
     "execution_count": 6,
     "metadata": {},
     "output_type": "execute_result"
    }
   ],
   "source": [
    "df_internet.sample(5)"
   ]
  },
  {
   "cell_type": "markdown",
   "metadata": {},
   "source": [
    "Так и есть, `Unnamed` это дубликат индексов, эту колонку можно будет откинуть на следующем шаге по обработке данных, там же и поменяем некоторые типы данных."
   ]
  },
  {
   "cell_type": "markdown",
   "metadata": {},
   "source": [
    "### Подключение файла с данными о сообщениях (sms)"
   ]
  },
  {
   "cell_type": "markdown",
   "metadata": {},
   "source": [
    "Создадим датафрейм `df_messages` и присвоим ему такое же имя, с использованием функции `data_lookup` изучим данные выведем на экран первые строки `.head()`, общую информацию `.info()` и описание данных методом `.describe()`"
   ]
  },
  {
   "cell_type": "code",
   "execution_count": 7,
   "metadata": {},
   "outputs": [
    {
     "name": "stdout",
     "output_type": "stream",
     "text": [
      "Просмотр первых нескольких строк датафрейма 'Messages' методом .head()\n"
     ]
    },
    {
     "data": {
      "text/html": [
       "<div>\n",
       "<style scoped>\n",
       "    .dataframe tbody tr th:only-of-type {\n",
       "        vertical-align: middle;\n",
       "    }\n",
       "\n",
       "    .dataframe tbody tr th {\n",
       "        vertical-align: top;\n",
       "    }\n",
       "\n",
       "    .dataframe thead th {\n",
       "        text-align: right;\n",
       "    }\n",
       "</style>\n",
       "<table border=\"1\" class=\"dataframe\">\n",
       "  <thead>\n",
       "    <tr style=\"text-align: right;\">\n",
       "      <th></th>\n",
       "      <th>id</th>\n",
       "      <th>message_date</th>\n",
       "      <th>user_id</th>\n",
       "    </tr>\n",
       "  </thead>\n",
       "  <tbody>\n",
       "    <tr>\n",
       "      <td>0</td>\n",
       "      <td>1000_0</td>\n",
       "      <td>2018-06-27</td>\n",
       "      <td>1000</td>\n",
       "    </tr>\n",
       "    <tr>\n",
       "      <td>1</td>\n",
       "      <td>1000_1</td>\n",
       "      <td>2018-10-08</td>\n",
       "      <td>1000</td>\n",
       "    </tr>\n",
       "    <tr>\n",
       "      <td>2</td>\n",
       "      <td>1000_2</td>\n",
       "      <td>2018-08-04</td>\n",
       "      <td>1000</td>\n",
       "    </tr>\n",
       "    <tr>\n",
       "      <td>3</td>\n",
       "      <td>1000_3</td>\n",
       "      <td>2018-06-16</td>\n",
       "      <td>1000</td>\n",
       "    </tr>\n",
       "    <tr>\n",
       "      <td>4</td>\n",
       "      <td>1000_4</td>\n",
       "      <td>2018-12-05</td>\n",
       "      <td>1000</td>\n",
       "    </tr>\n",
       "  </tbody>\n",
       "</table>\n",
       "</div>"
      ],
      "text/plain": [
       "       id message_date  user_id\n",
       "0  1000_0   2018-06-27     1000\n",
       "1  1000_1   2018-10-08     1000\n",
       "2  1000_2   2018-08-04     1000\n",
       "3  1000_3   2018-06-16     1000\n",
       "4  1000_4   2018-12-05     1000"
      ]
     },
     "metadata": {},
     "output_type": "display_data"
    },
    {
     "name": "stdout",
     "output_type": "stream",
     "text": [
      "\n",
      "Получение информации о датафрейме 'Messages' методом .info()\n",
      "<class 'pandas.core.frame.DataFrame'>\n",
      "RangeIndex: 123036 entries, 0 to 123035\n",
      "Data columns (total 3 columns):\n",
      "id              123036 non-null object\n",
      "message_date    123036 non-null object\n",
      "user_id         123036 non-null int64\n",
      "dtypes: int64(1), object(2)\n",
      "memory usage: 16.4 MB\n"
     ]
    },
    {
     "data": {
      "text/plain": [
       "None"
      ]
     },
     "metadata": {},
     "output_type": "display_data"
    },
    {
     "name": "stdout",
     "output_type": "stream",
     "text": [
      "\n",
      "Обзор датафрейма 'Messages' методом .describe() в транспонированном виде\n"
     ]
    },
    {
     "data": {
      "text/html": [
       "<div>\n",
       "<style scoped>\n",
       "    .dataframe tbody tr th:only-of-type {\n",
       "        vertical-align: middle;\n",
       "    }\n",
       "\n",
       "    .dataframe tbody tr th {\n",
       "        vertical-align: top;\n",
       "    }\n",
       "\n",
       "    .dataframe thead th {\n",
       "        text-align: right;\n",
       "    }\n",
       "</style>\n",
       "<table border=\"1\" class=\"dataframe\">\n",
       "  <thead>\n",
       "    <tr style=\"text-align: right;\">\n",
       "      <th></th>\n",
       "      <th>count</th>\n",
       "      <th>unique</th>\n",
       "      <th>top</th>\n",
       "      <th>freq</th>\n",
       "      <th>mean</th>\n",
       "      <th>std</th>\n",
       "      <th>min</th>\n",
       "      <th>25%</th>\n",
       "      <th>50%</th>\n",
       "      <th>75%</th>\n",
       "      <th>max</th>\n",
       "    </tr>\n",
       "  </thead>\n",
       "  <tbody>\n",
       "    <tr>\n",
       "      <td>id</td>\n",
       "      <td>123036</td>\n",
       "      <td>123036</td>\n",
       "      <td>1309_195</td>\n",
       "      <td>1</td>\n",
       "      <td>NaN</td>\n",
       "      <td>NaN</td>\n",
       "      <td>NaN</td>\n",
       "      <td>NaN</td>\n",
       "      <td>NaN</td>\n",
       "      <td>NaN</td>\n",
       "      <td>NaN</td>\n",
       "    </tr>\n",
       "    <tr>\n",
       "      <td>message_date</td>\n",
       "      <td>123036</td>\n",
       "      <td>364</td>\n",
       "      <td>2018-12-31</td>\n",
       "      <td>859</td>\n",
       "      <td>NaN</td>\n",
       "      <td>NaN</td>\n",
       "      <td>NaN</td>\n",
       "      <td>NaN</td>\n",
       "      <td>NaN</td>\n",
       "      <td>NaN</td>\n",
       "      <td>NaN</td>\n",
       "    </tr>\n",
       "    <tr>\n",
       "      <td>user_id</td>\n",
       "      <td>123036</td>\n",
       "      <td>NaN</td>\n",
       "      <td>NaN</td>\n",
       "      <td>NaN</td>\n",
       "      <td>1256.99</td>\n",
       "      <td>143.524</td>\n",
       "      <td>1000</td>\n",
       "      <td>1134</td>\n",
       "      <td>1271</td>\n",
       "      <td>1381</td>\n",
       "      <td>1499</td>\n",
       "    </tr>\n",
       "  </tbody>\n",
       "</table>\n",
       "</div>"
      ],
      "text/plain": [
       "               count  unique         top freq     mean      std   min   25%  \\\n",
       "id            123036  123036    1309_195    1      NaN      NaN   NaN   NaN   \n",
       "message_date  123036     364  2018-12-31  859      NaN      NaN   NaN   NaN   \n",
       "user_id       123036     NaN         NaN  NaN  1256.99  143.524  1000  1134   \n",
       "\n",
       "               50%   75%   max  \n",
       "id             NaN   NaN   NaN  \n",
       "message_date   NaN   NaN   NaN  \n",
       "user_id       1271  1381  1499  "
      ]
     },
     "metadata": {},
     "output_type": "display_data"
    }
   ],
   "source": [
    "df_messages = pd.read_csv('/datasets/messages.csv')\n",
    "df_messages.name = \"Messages\"\n",
    "data_lookup(df_messages)"
   ]
  },
  {
   "cell_type": "markdown",
   "metadata": {},
   "source": [
    "Описание данных таблицы `df_messages` (информация о сообщениях):  \n",
    "`id` — уникальный номер сообщения  \n",
    "`message_date` — дата сообщения  \n",
    "`user_id` — идентификатор пользователя, отправившего сообщение"
   ]
  },
  {
   "cell_type": "markdown",
   "metadata": {},
   "source": [
    "Интересно, для `message_date` уникальных значений `364`, когда в предыдущих датафреймах видно `365`. Возможно в какой то день никто из выбранных пользователей не отправил ни одного сообщения?"
   ]
  },
  {
   "cell_type": "markdown",
   "metadata": {},
   "source": [
    "### Подключение файла с данными о тарифах"
   ]
  },
  {
   "cell_type": "markdown",
   "metadata": {},
   "source": [
    "Создадим датафрейм `df_tariffs` и присвоим ему такое же имя, с использованием функции `data_lookup` изучим данные выведем на экран первые строки `.head()`, общую информацию `.info()` и описание данных методом `.describe()`"
   ]
  },
  {
   "cell_type": "code",
   "execution_count": 8,
   "metadata": {},
   "outputs": [
    {
     "name": "stdout",
     "output_type": "stream",
     "text": [
      "Просмотр первых нескольких строк датафрейма 'Tariffs' методом .head()\n"
     ]
    },
    {
     "data": {
      "text/html": [
       "<div>\n",
       "<style scoped>\n",
       "    .dataframe tbody tr th:only-of-type {\n",
       "        vertical-align: middle;\n",
       "    }\n",
       "\n",
       "    .dataframe tbody tr th {\n",
       "        vertical-align: top;\n",
       "    }\n",
       "\n",
       "    .dataframe thead th {\n",
       "        text-align: right;\n",
       "    }\n",
       "</style>\n",
       "<table border=\"1\" class=\"dataframe\">\n",
       "  <thead>\n",
       "    <tr style=\"text-align: right;\">\n",
       "      <th></th>\n",
       "      <th>messages_included</th>\n",
       "      <th>mb_per_month_included</th>\n",
       "      <th>minutes_included</th>\n",
       "      <th>rub_monthly_fee</th>\n",
       "      <th>rub_per_gb</th>\n",
       "      <th>rub_per_message</th>\n",
       "      <th>rub_per_minute</th>\n",
       "      <th>tariff_name</th>\n",
       "    </tr>\n",
       "  </thead>\n",
       "  <tbody>\n",
       "    <tr>\n",
       "      <td>0</td>\n",
       "      <td>50</td>\n",
       "      <td>15360</td>\n",
       "      <td>500</td>\n",
       "      <td>550</td>\n",
       "      <td>200</td>\n",
       "      <td>3</td>\n",
       "      <td>3</td>\n",
       "      <td>smart</td>\n",
       "    </tr>\n",
       "    <tr>\n",
       "      <td>1</td>\n",
       "      <td>1000</td>\n",
       "      <td>30720</td>\n",
       "      <td>3000</td>\n",
       "      <td>1950</td>\n",
       "      <td>150</td>\n",
       "      <td>1</td>\n",
       "      <td>1</td>\n",
       "      <td>ultra</td>\n",
       "    </tr>\n",
       "  </tbody>\n",
       "</table>\n",
       "</div>"
      ],
      "text/plain": [
       "   messages_included  mb_per_month_included  minutes_included  \\\n",
       "0                 50                  15360               500   \n",
       "1               1000                  30720              3000   \n",
       "\n",
       "   rub_monthly_fee  rub_per_gb  rub_per_message  rub_per_minute tariff_name  \n",
       "0              550         200                3               3       smart  \n",
       "1             1950         150                1               1       ultra  "
      ]
     },
     "metadata": {},
     "output_type": "display_data"
    },
    {
     "name": "stdout",
     "output_type": "stream",
     "text": [
      "\n",
      "Получение информации о датафрейме 'Tariffs' методом .info()\n",
      "<class 'pandas.core.frame.DataFrame'>\n",
      "RangeIndex: 2 entries, 0 to 1\n",
      "Data columns (total 8 columns):\n",
      "messages_included        2 non-null int64\n",
      "mb_per_month_included    2 non-null int64\n",
      "minutes_included         2 non-null int64\n",
      "rub_monthly_fee          2 non-null int64\n",
      "rub_per_gb               2 non-null int64\n",
      "rub_per_message          2 non-null int64\n",
      "rub_per_minute           2 non-null int64\n",
      "tariff_name              2 non-null object\n",
      "dtypes: int64(7), object(1)\n",
      "memory usage: 364.0 bytes\n"
     ]
    },
    {
     "data": {
      "text/plain": [
       "None"
      ]
     },
     "metadata": {},
     "output_type": "display_data"
    },
    {
     "name": "stdout",
     "output_type": "stream",
     "text": [
      "\n",
      "Обзор датафрейма 'Tariffs' методом .describe() в транспонированном виде\n"
     ]
    },
    {
     "data": {
      "text/html": [
       "<div>\n",
       "<style scoped>\n",
       "    .dataframe tbody tr th:only-of-type {\n",
       "        vertical-align: middle;\n",
       "    }\n",
       "\n",
       "    .dataframe tbody tr th {\n",
       "        vertical-align: top;\n",
       "    }\n",
       "\n",
       "    .dataframe thead th {\n",
       "        text-align: right;\n",
       "    }\n",
       "</style>\n",
       "<table border=\"1\" class=\"dataframe\">\n",
       "  <thead>\n",
       "    <tr style=\"text-align: right;\">\n",
       "      <th></th>\n",
       "      <th>count</th>\n",
       "      <th>unique</th>\n",
       "      <th>top</th>\n",
       "      <th>freq</th>\n",
       "      <th>mean</th>\n",
       "      <th>std</th>\n",
       "      <th>min</th>\n",
       "      <th>25%</th>\n",
       "      <th>50%</th>\n",
       "      <th>75%</th>\n",
       "      <th>max</th>\n",
       "    </tr>\n",
       "  </thead>\n",
       "  <tbody>\n",
       "    <tr>\n",
       "      <td>messages_included</td>\n",
       "      <td>2</td>\n",
       "      <td>NaN</td>\n",
       "      <td>NaN</td>\n",
       "      <td>NaN</td>\n",
       "      <td>525</td>\n",
       "      <td>671.751</td>\n",
       "      <td>50</td>\n",
       "      <td>287.5</td>\n",
       "      <td>525</td>\n",
       "      <td>762.5</td>\n",
       "      <td>1000</td>\n",
       "    </tr>\n",
       "    <tr>\n",
       "      <td>mb_per_month_included</td>\n",
       "      <td>2</td>\n",
       "      <td>NaN</td>\n",
       "      <td>NaN</td>\n",
       "      <td>NaN</td>\n",
       "      <td>23040</td>\n",
       "      <td>10861.2</td>\n",
       "      <td>15360</td>\n",
       "      <td>19200</td>\n",
       "      <td>23040</td>\n",
       "      <td>26880</td>\n",
       "      <td>30720</td>\n",
       "    </tr>\n",
       "    <tr>\n",
       "      <td>minutes_included</td>\n",
       "      <td>2</td>\n",
       "      <td>NaN</td>\n",
       "      <td>NaN</td>\n",
       "      <td>NaN</td>\n",
       "      <td>1750</td>\n",
       "      <td>1767.77</td>\n",
       "      <td>500</td>\n",
       "      <td>1125</td>\n",
       "      <td>1750</td>\n",
       "      <td>2375</td>\n",
       "      <td>3000</td>\n",
       "    </tr>\n",
       "    <tr>\n",
       "      <td>rub_monthly_fee</td>\n",
       "      <td>2</td>\n",
       "      <td>NaN</td>\n",
       "      <td>NaN</td>\n",
       "      <td>NaN</td>\n",
       "      <td>1250</td>\n",
       "      <td>989.949</td>\n",
       "      <td>550</td>\n",
       "      <td>900</td>\n",
       "      <td>1250</td>\n",
       "      <td>1600</td>\n",
       "      <td>1950</td>\n",
       "    </tr>\n",
       "    <tr>\n",
       "      <td>rub_per_gb</td>\n",
       "      <td>2</td>\n",
       "      <td>NaN</td>\n",
       "      <td>NaN</td>\n",
       "      <td>NaN</td>\n",
       "      <td>175</td>\n",
       "      <td>35.3553</td>\n",
       "      <td>150</td>\n",
       "      <td>162.5</td>\n",
       "      <td>175</td>\n",
       "      <td>187.5</td>\n",
       "      <td>200</td>\n",
       "    </tr>\n",
       "    <tr>\n",
       "      <td>rub_per_message</td>\n",
       "      <td>2</td>\n",
       "      <td>NaN</td>\n",
       "      <td>NaN</td>\n",
       "      <td>NaN</td>\n",
       "      <td>2</td>\n",
       "      <td>1.41421</td>\n",
       "      <td>1</td>\n",
       "      <td>1.5</td>\n",
       "      <td>2</td>\n",
       "      <td>2.5</td>\n",
       "      <td>3</td>\n",
       "    </tr>\n",
       "    <tr>\n",
       "      <td>rub_per_minute</td>\n",
       "      <td>2</td>\n",
       "      <td>NaN</td>\n",
       "      <td>NaN</td>\n",
       "      <td>NaN</td>\n",
       "      <td>2</td>\n",
       "      <td>1.41421</td>\n",
       "      <td>1</td>\n",
       "      <td>1.5</td>\n",
       "      <td>2</td>\n",
       "      <td>2.5</td>\n",
       "      <td>3</td>\n",
       "    </tr>\n",
       "    <tr>\n",
       "      <td>tariff_name</td>\n",
       "      <td>2</td>\n",
       "      <td>2</td>\n",
       "      <td>smart</td>\n",
       "      <td>1</td>\n",
       "      <td>NaN</td>\n",
       "      <td>NaN</td>\n",
       "      <td>NaN</td>\n",
       "      <td>NaN</td>\n",
       "      <td>NaN</td>\n",
       "      <td>NaN</td>\n",
       "      <td>NaN</td>\n",
       "    </tr>\n",
       "  </tbody>\n",
       "</table>\n",
       "</div>"
      ],
      "text/plain": [
       "                      count unique    top freq   mean      std    min    25%  \\\n",
       "messages_included         2    NaN    NaN  NaN    525  671.751     50  287.5   \n",
       "mb_per_month_included     2    NaN    NaN  NaN  23040  10861.2  15360  19200   \n",
       "minutes_included          2    NaN    NaN  NaN   1750  1767.77    500   1125   \n",
       "rub_monthly_fee           2    NaN    NaN  NaN   1250  989.949    550    900   \n",
       "rub_per_gb                2    NaN    NaN  NaN    175  35.3553    150  162.5   \n",
       "rub_per_message           2    NaN    NaN  NaN      2  1.41421      1    1.5   \n",
       "rub_per_minute            2    NaN    NaN  NaN      2  1.41421      1    1.5   \n",
       "tariff_name               2      2  smart    1    NaN      NaN    NaN    NaN   \n",
       "\n",
       "                         50%    75%    max  \n",
       "messages_included        525  762.5   1000  \n",
       "mb_per_month_included  23040  26880  30720  \n",
       "minutes_included        1750   2375   3000  \n",
       "rub_monthly_fee         1250   1600   1950  \n",
       "rub_per_gb               175  187.5    200  \n",
       "rub_per_message            2    2.5      3  \n",
       "rub_per_minute             2    2.5      3  \n",
       "tariff_name              NaN    NaN    NaN  "
      ]
     },
     "metadata": {},
     "output_type": "display_data"
    }
   ],
   "source": [
    "df_tariffs = pd.read_csv('/datasets/tariffs.csv')\n",
    "df_tariffs.name = \"Tariffs\"\n",
    "data_lookup(df_tariffs)"
   ]
  },
  {
   "cell_type": "markdown",
   "metadata": {},
   "source": [
    "Описание данных таблицы `df_tariffs` (информация о тарифах):  \n",
    "`tariff_name` — название тарифа  \n",
    "`rub_monthly_fee` — ежемесячная абонентская плата в рублях  \n",
    "`minutes_included` — количество минут разговора в месяц, включённых в абонентскую плату  \n",
    "`messages_included` — количество сообщений в месяц, включённых в абонентскую плату  \n",
    "`mb_per_month_included` — объём интернет-трафика, включённого в абонентскую плату (в мегабайтах)  \n",
    "`rub_per_minute` — стоимость минуты разговора сверх тарифного пакета (например, если в тарифе 100 минут разговора в месяц, то со 101 минуты будет взиматься плата)  \n",
    "`rub_per_message` — стоимость отправки сообщения сверх тарифного пакета  \n",
    "`rub_per_gb` — стоимость дополнительного гигабайта интернет-трафика сверх тарифного пакета (1 гигабайт = 1024 мегабайта)"
   ]
  },
  {
   "cell_type": "markdown",
   "metadata": {},
   "source": [
    "### Подключение файла с данными о пользователях (абонентах)"
   ]
  },
  {
   "cell_type": "markdown",
   "metadata": {},
   "source": [
    "Создадим датафрейм `df_users` и присвоим ему такое же имя, с использованием функции `data_lookup` изучим данные выведем на экран первые строки `.head()`, общую информацию `.info()` и описание данных методом `.describe()`"
   ]
  },
  {
   "cell_type": "code",
   "execution_count": 9,
   "metadata": {},
   "outputs": [
    {
     "name": "stdout",
     "output_type": "stream",
     "text": [
      "Просмотр первых нескольких строк датафрейма 'Users' методом .head()\n"
     ]
    },
    {
     "data": {
      "text/html": [
       "<div>\n",
       "<style scoped>\n",
       "    .dataframe tbody tr th:only-of-type {\n",
       "        vertical-align: middle;\n",
       "    }\n",
       "\n",
       "    .dataframe tbody tr th {\n",
       "        vertical-align: top;\n",
       "    }\n",
       "\n",
       "    .dataframe thead th {\n",
       "        text-align: right;\n",
       "    }\n",
       "</style>\n",
       "<table border=\"1\" class=\"dataframe\">\n",
       "  <thead>\n",
       "    <tr style=\"text-align: right;\">\n",
       "      <th></th>\n",
       "      <th>user_id</th>\n",
       "      <th>age</th>\n",
       "      <th>churn_date</th>\n",
       "      <th>city</th>\n",
       "      <th>first_name</th>\n",
       "      <th>last_name</th>\n",
       "      <th>reg_date</th>\n",
       "      <th>tariff</th>\n",
       "    </tr>\n",
       "  </thead>\n",
       "  <tbody>\n",
       "    <tr>\n",
       "      <td>0</td>\n",
       "      <td>1000</td>\n",
       "      <td>52</td>\n",
       "      <td>NaN</td>\n",
       "      <td>Краснодар</td>\n",
       "      <td>Рафаил</td>\n",
       "      <td>Верещагин</td>\n",
       "      <td>2018-05-25</td>\n",
       "      <td>ultra</td>\n",
       "    </tr>\n",
       "    <tr>\n",
       "      <td>1</td>\n",
       "      <td>1001</td>\n",
       "      <td>41</td>\n",
       "      <td>NaN</td>\n",
       "      <td>Москва</td>\n",
       "      <td>Иван</td>\n",
       "      <td>Ежов</td>\n",
       "      <td>2018-11-01</td>\n",
       "      <td>smart</td>\n",
       "    </tr>\n",
       "    <tr>\n",
       "      <td>2</td>\n",
       "      <td>1002</td>\n",
       "      <td>59</td>\n",
       "      <td>NaN</td>\n",
       "      <td>Стерлитамак</td>\n",
       "      <td>Евгений</td>\n",
       "      <td>Абрамович</td>\n",
       "      <td>2018-06-17</td>\n",
       "      <td>smart</td>\n",
       "    </tr>\n",
       "    <tr>\n",
       "      <td>3</td>\n",
       "      <td>1003</td>\n",
       "      <td>23</td>\n",
       "      <td>NaN</td>\n",
       "      <td>Москва</td>\n",
       "      <td>Белла</td>\n",
       "      <td>Белякова</td>\n",
       "      <td>2018-08-17</td>\n",
       "      <td>ultra</td>\n",
       "    </tr>\n",
       "    <tr>\n",
       "      <td>4</td>\n",
       "      <td>1004</td>\n",
       "      <td>68</td>\n",
       "      <td>NaN</td>\n",
       "      <td>Новокузнецк</td>\n",
       "      <td>Татьяна</td>\n",
       "      <td>Авдеенко</td>\n",
       "      <td>2018-05-14</td>\n",
       "      <td>ultra</td>\n",
       "    </tr>\n",
       "  </tbody>\n",
       "</table>\n",
       "</div>"
      ],
      "text/plain": [
       "   user_id  age churn_date         city first_name  last_name    reg_date  \\\n",
       "0     1000   52        NaN    Краснодар     Рафаил  Верещагин  2018-05-25   \n",
       "1     1001   41        NaN       Москва       Иван       Ежов  2018-11-01   \n",
       "2     1002   59        NaN  Стерлитамак    Евгений  Абрамович  2018-06-17   \n",
       "3     1003   23        NaN       Москва      Белла   Белякова  2018-08-17   \n",
       "4     1004   68        NaN  Новокузнецк    Татьяна   Авдеенко  2018-05-14   \n",
       "\n",
       "  tariff  \n",
       "0  ultra  \n",
       "1  smart  \n",
       "2  smart  \n",
       "3  ultra  \n",
       "4  ultra  "
      ]
     },
     "metadata": {},
     "output_type": "display_data"
    },
    {
     "name": "stdout",
     "output_type": "stream",
     "text": [
      "\n",
      "Получение информации о датафрейме 'Users' методом .info()\n",
      "<class 'pandas.core.frame.DataFrame'>\n",
      "RangeIndex: 500 entries, 0 to 499\n",
      "Data columns (total 8 columns):\n",
      "user_id       500 non-null int64\n",
      "age           500 non-null int64\n",
      "churn_date    38 non-null object\n",
      "city          500 non-null object\n",
      "first_name    500 non-null object\n",
      "last_name     500 non-null object\n",
      "reg_date      500 non-null object\n",
      "tariff        500 non-null object\n",
      "dtypes: int64(2), object(6)\n",
      "memory usage: 229.6 KB\n"
     ]
    },
    {
     "data": {
      "text/plain": [
       "None"
      ]
     },
     "metadata": {},
     "output_type": "display_data"
    },
    {
     "name": "stdout",
     "output_type": "stream",
     "text": [
      "\n",
      "Обзор датафрейма 'Users' методом .describe() в транспонированном виде\n"
     ]
    },
    {
     "data": {
      "text/html": [
       "<div>\n",
       "<style scoped>\n",
       "    .dataframe tbody tr th:only-of-type {\n",
       "        vertical-align: middle;\n",
       "    }\n",
       "\n",
       "    .dataframe tbody tr th {\n",
       "        vertical-align: top;\n",
       "    }\n",
       "\n",
       "    .dataframe thead th {\n",
       "        text-align: right;\n",
       "    }\n",
       "</style>\n",
       "<table border=\"1\" class=\"dataframe\">\n",
       "  <thead>\n",
       "    <tr style=\"text-align: right;\">\n",
       "      <th></th>\n",
       "      <th>count</th>\n",
       "      <th>unique</th>\n",
       "      <th>top</th>\n",
       "      <th>freq</th>\n",
       "      <th>mean</th>\n",
       "      <th>std</th>\n",
       "      <th>min</th>\n",
       "      <th>25%</th>\n",
       "      <th>50%</th>\n",
       "      <th>75%</th>\n",
       "      <th>max</th>\n",
       "    </tr>\n",
       "  </thead>\n",
       "  <tbody>\n",
       "    <tr>\n",
       "      <td>user_id</td>\n",
       "      <td>500</td>\n",
       "      <td>NaN</td>\n",
       "      <td>NaN</td>\n",
       "      <td>NaN</td>\n",
       "      <td>1249.5</td>\n",
       "      <td>144.482</td>\n",
       "      <td>1000</td>\n",
       "      <td>1124.75</td>\n",
       "      <td>1249.5</td>\n",
       "      <td>1374.25</td>\n",
       "      <td>1499</td>\n",
       "    </tr>\n",
       "    <tr>\n",
       "      <td>age</td>\n",
       "      <td>500</td>\n",
       "      <td>NaN</td>\n",
       "      <td>NaN</td>\n",
       "      <td>NaN</td>\n",
       "      <td>46.588</td>\n",
       "      <td>16.6676</td>\n",
       "      <td>18</td>\n",
       "      <td>32</td>\n",
       "      <td>46</td>\n",
       "      <td>62</td>\n",
       "      <td>75</td>\n",
       "    </tr>\n",
       "    <tr>\n",
       "      <td>churn_date</td>\n",
       "      <td>38</td>\n",
       "      <td>33</td>\n",
       "      <td>2018-12-09</td>\n",
       "      <td>2</td>\n",
       "      <td>NaN</td>\n",
       "      <td>NaN</td>\n",
       "      <td>NaN</td>\n",
       "      <td>NaN</td>\n",
       "      <td>NaN</td>\n",
       "      <td>NaN</td>\n",
       "      <td>NaN</td>\n",
       "    </tr>\n",
       "    <tr>\n",
       "      <td>city</td>\n",
       "      <td>500</td>\n",
       "      <td>76</td>\n",
       "      <td>Москва</td>\n",
       "      <td>99</td>\n",
       "      <td>NaN</td>\n",
       "      <td>NaN</td>\n",
       "      <td>NaN</td>\n",
       "      <td>NaN</td>\n",
       "      <td>NaN</td>\n",
       "      <td>NaN</td>\n",
       "      <td>NaN</td>\n",
       "    </tr>\n",
       "    <tr>\n",
       "      <td>first_name</td>\n",
       "      <td>500</td>\n",
       "      <td>246</td>\n",
       "      <td>Радим</td>\n",
       "      <td>6</td>\n",
       "      <td>NaN</td>\n",
       "      <td>NaN</td>\n",
       "      <td>NaN</td>\n",
       "      <td>NaN</td>\n",
       "      <td>NaN</td>\n",
       "      <td>NaN</td>\n",
       "      <td>NaN</td>\n",
       "    </tr>\n",
       "    <tr>\n",
       "      <td>last_name</td>\n",
       "      <td>500</td>\n",
       "      <td>419</td>\n",
       "      <td>Андреенко</td>\n",
       "      <td>5</td>\n",
       "      <td>NaN</td>\n",
       "      <td>NaN</td>\n",
       "      <td>NaN</td>\n",
       "      <td>NaN</td>\n",
       "      <td>NaN</td>\n",
       "      <td>NaN</td>\n",
       "      <td>NaN</td>\n",
       "    </tr>\n",
       "    <tr>\n",
       "      <td>reg_date</td>\n",
       "      <td>500</td>\n",
       "      <td>270</td>\n",
       "      <td>2018-05-28</td>\n",
       "      <td>8</td>\n",
       "      <td>NaN</td>\n",
       "      <td>NaN</td>\n",
       "      <td>NaN</td>\n",
       "      <td>NaN</td>\n",
       "      <td>NaN</td>\n",
       "      <td>NaN</td>\n",
       "      <td>NaN</td>\n",
       "    </tr>\n",
       "    <tr>\n",
       "      <td>tariff</td>\n",
       "      <td>500</td>\n",
       "      <td>2</td>\n",
       "      <td>smart</td>\n",
       "      <td>351</td>\n",
       "      <td>NaN</td>\n",
       "      <td>NaN</td>\n",
       "      <td>NaN</td>\n",
       "      <td>NaN</td>\n",
       "      <td>NaN</td>\n",
       "      <td>NaN</td>\n",
       "      <td>NaN</td>\n",
       "    </tr>\n",
       "  </tbody>\n",
       "</table>\n",
       "</div>"
      ],
      "text/plain": [
       "           count unique         top freq    mean      std   min      25%  \\\n",
       "user_id      500    NaN         NaN  NaN  1249.5  144.482  1000  1124.75   \n",
       "age          500    NaN         NaN  NaN  46.588  16.6676    18       32   \n",
       "churn_date    38     33  2018-12-09    2     NaN      NaN   NaN      NaN   \n",
       "city         500     76      Москва   99     NaN      NaN   NaN      NaN   \n",
       "first_name   500    246       Радим    6     NaN      NaN   NaN      NaN   \n",
       "last_name    500    419   Андреенко    5     NaN      NaN   NaN      NaN   \n",
       "reg_date     500    270  2018-05-28    8     NaN      NaN   NaN      NaN   \n",
       "tariff       500      2       smart  351     NaN      NaN   NaN      NaN   \n",
       "\n",
       "               50%      75%   max  \n",
       "user_id     1249.5  1374.25  1499  \n",
       "age             46       62    75  \n",
       "churn_date     NaN      NaN   NaN  \n",
       "city           NaN      NaN   NaN  \n",
       "first_name     NaN      NaN   NaN  \n",
       "last_name      NaN      NaN   NaN  \n",
       "reg_date       NaN      NaN   NaN  \n",
       "tariff         NaN      NaN   NaN  "
      ]
     },
     "metadata": {},
     "output_type": "display_data"
    }
   ],
   "source": [
    "df_users = pd.read_csv('/datasets/users.csv')\n",
    "df_users.name = \"Users\"\n",
    "data_lookup(df_users)"
   ]
  },
  {
   "cell_type": "markdown",
   "metadata": {},
   "source": [
    "Описание данных таблицы `df_users` (информация о пользователях):  \n",
    "`user_id` — уникальный идентификатор пользователя  \n",
    "`first_name` — имя пользователя  \n",
    "`last_name` — фамилия пользователя  \n",
    "`age` — возраст пользователя (годы)  \n",
    "`reg_date` — дата подключения тарифа (день, месяц, год)  \n",
    "`churn_date` — дата прекращения пользования тарифом (если значение пропущено, то тариф ещё действовал на момент выгрузки данных)  \n",
    "`city` — город проживания пользователя  \n",
    "`tariff` — название тарифного плана\n",
    "\n",
    "В колонке `churn_date` видны пропуски, обработаем их на следующих шагах. Учитывая что на момент выгрузки данных тариф ещё действовал, можно будет заполнить эти пропуски самой поздней доступной датой."
   ]
  },
  {
   "cell_type": "markdown",
   "metadata": {},
   "source": [
    "---"
   ]
  },
  {
   "cell_type": "markdown",
   "metadata": {},
   "source": [
    "## Подготовка данных"
   ]
  },
  {
   "cell_type": "markdown",
   "metadata": {},
   "source": [
    "Приведем данные к нужным типам в каждом датафрейме `df_calls`, `df_internet`, `df_messages`, `df_tariffs`, `df_users`  \n",
    "Удалим не нужные столбцы, если такие есть, оптимизируем типы данных с помощью функции."
   ]
  },
  {
   "cell_type": "markdown",
   "metadata": {},
   "source": [
    "Создадим функцию `convert_date` конвертирования даты чтобы не писать длинные строки."
   ]
  },
  {
   "cell_type": "code",
   "execution_count": 10,
   "metadata": {},
   "outputs": [],
   "source": [
    "def convert_date(dataframe, series):\n",
    "    dataframe[series] = pd.to_datetime(dataframe[series]) # - Конвертируем в формат даты"
   ]
  },
  {
   "cell_type": "markdown",
   "metadata": {},
   "source": [
    "Создадим функцию `round_ceil_to_int` чтобы округлить значения в большую сторону и конвертировать в тип данных `int`"
   ]
  },
  {
   "cell_type": "code",
   "execution_count": 11,
   "metadata": {},
   "outputs": [],
   "source": [
    "def round_ceil_to_int(dataframe, series):\n",
    "    dataframe[series] = np.ceil(dataframe[series]) # - Округляем до верхней границы\n",
    "    dataframe[series] = dataframe[series].astype('int') # - Переводим в тип данных int"
   ]
  },
  {
   "cell_type": "markdown",
   "metadata": {},
   "source": [
    "### Обработка -   `df_calls`"
   ]
  },
  {
   "cell_type": "code",
   "execution_count": 12,
   "metadata": {},
   "outputs": [
    {
     "data": {
      "text/html": [
       "<div>\n",
       "<style scoped>\n",
       "    .dataframe tbody tr th:only-of-type {\n",
       "        vertical-align: middle;\n",
       "    }\n",
       "\n",
       "    .dataframe tbody tr th {\n",
       "        vertical-align: top;\n",
       "    }\n",
       "\n",
       "    .dataframe thead th {\n",
       "        text-align: right;\n",
       "    }\n",
       "</style>\n",
       "<table border=\"1\" class=\"dataframe\">\n",
       "  <thead>\n",
       "    <tr style=\"text-align: right;\">\n",
       "      <th></th>\n",
       "      <th>id</th>\n",
       "      <th>call_date</th>\n",
       "      <th>duration</th>\n",
       "      <th>user_id</th>\n",
       "    </tr>\n",
       "  </thead>\n",
       "  <tbody>\n",
       "    <tr>\n",
       "      <td>0</td>\n",
       "      <td>1000_0</td>\n",
       "      <td>2018-07-25</td>\n",
       "      <td>0.00</td>\n",
       "      <td>1000</td>\n",
       "    </tr>\n",
       "    <tr>\n",
       "      <td>1</td>\n",
       "      <td>1000_1</td>\n",
       "      <td>2018-08-17</td>\n",
       "      <td>0.00</td>\n",
       "      <td>1000</td>\n",
       "    </tr>\n",
       "    <tr>\n",
       "      <td>2</td>\n",
       "      <td>1000_2</td>\n",
       "      <td>2018-06-11</td>\n",
       "      <td>2.85</td>\n",
       "      <td>1000</td>\n",
       "    </tr>\n",
       "    <tr>\n",
       "      <td>3</td>\n",
       "      <td>1000_3</td>\n",
       "      <td>2018-09-21</td>\n",
       "      <td>13.80</td>\n",
       "      <td>1000</td>\n",
       "    </tr>\n",
       "    <tr>\n",
       "      <td>4</td>\n",
       "      <td>1000_4</td>\n",
       "      <td>2018-12-15</td>\n",
       "      <td>5.18</td>\n",
       "      <td>1000</td>\n",
       "    </tr>\n",
       "  </tbody>\n",
       "</table>\n",
       "</div>"
      ],
      "text/plain": [
       "       id   call_date  duration  user_id\n",
       "0  1000_0  2018-07-25      0.00     1000\n",
       "1  1000_1  2018-08-17      0.00     1000\n",
       "2  1000_2  2018-06-11      2.85     1000\n",
       "3  1000_3  2018-09-21     13.80     1000\n",
       "4  1000_4  2018-12-15      5.18     1000"
      ]
     },
     "execution_count": 12,
     "metadata": {},
     "output_type": "execute_result"
    }
   ],
   "source": [
    "df_calls.head()"
   ]
  },
  {
   "cell_type": "markdown",
   "metadata": {},
   "source": [
    "Датафрейм `df_calls` кроме как колонки с датой `call_date`, содержит и колонку `duration` с длительностью звонка, которые следует округлить в большую сторону.  \n",
    "Для округления и конвертации воспользуемся функцией `round_ceil_to_int()` а для преобразования даты функцией `convert_date()`"
   ]
  },
  {
   "cell_type": "markdown",
   "metadata": {},
   "source": [
    "Округлим значения в большую сторону и конвертируем в `int`"
   ]
  },
  {
   "cell_type": "code",
   "execution_count": 13,
   "metadata": {},
   "outputs": [],
   "source": [
    "round_ceil_to_int(df_calls, 'duration')"
   ]
  },
  {
   "cell_type": "markdown",
   "metadata": {},
   "source": [
    "Сконвертируем дату в нужный формат"
   ]
  },
  {
   "cell_type": "code",
   "execution_count": 14,
   "metadata": {},
   "outputs": [],
   "source": [
    "convert_date(df_calls, 'call_date')"
   ]
  },
  {
   "cell_type": "markdown",
   "metadata": {},
   "source": [
    "Проверим результат смены типов данных"
   ]
  },
  {
   "cell_type": "code",
   "execution_count": 15,
   "metadata": {},
   "outputs": [
    {
     "name": "stdout",
     "output_type": "stream",
     "text": [
      "<class 'pandas.core.frame.DataFrame'>\n",
      "RangeIndex: 202607 entries, 0 to 202606\n",
      "Data columns (total 4 columns):\n",
      "id           202607 non-null object\n",
      "call_date    202607 non-null datetime64[ns]\n",
      "duration     202607 non-null int64\n",
      "user_id      202607 non-null int64\n",
      "dtypes: datetime64[ns](1), int64(2), object(1)\n",
      "memory usage: 17.2 MB\n"
     ]
    }
   ],
   "source": [
    "df_calls.info(memory_usage='deep')"
   ]
  },
  {
   "cell_type": "markdown",
   "metadata": {},
   "source": [
    "Проверим датафрейм на наличие явных дубликатов."
   ]
  },
  {
   "cell_type": "code",
   "execution_count": 16,
   "metadata": {
    "scrolled": true
   },
   "outputs": [
    {
     "data": {
      "text/plain": [
       "0"
      ]
     },
     "execution_count": 16,
     "metadata": {},
     "output_type": "execute_result"
    }
   ],
   "source": [
    "df_calls.duplicated().sum()"
   ]
  },
  {
   "cell_type": "markdown",
   "metadata": {},
   "source": [
    "Для дальнейших исследований нам понадобится информация по месяцам, добавим такую колонку."
   ]
  },
  {
   "cell_type": "code",
   "execution_count": 17,
   "metadata": {},
   "outputs": [],
   "source": [
    "# df_calls[\"month\"] = pd.DatetimeIndex(df_calls[\"call_date\"]).month"
   ]
  },
  {
   "cell_type": "code",
   "execution_count": 18,
   "metadata": {},
   "outputs": [],
   "source": [
    "df_calls[\"month\"] = df_calls[\"call_date\"].astype('datetime64[M]')"
   ]
  },
  {
   "cell_type": "code",
   "execution_count": 19,
   "metadata": {},
   "outputs": [
    {
     "data": {
      "text/html": [
       "<div>\n",
       "<style scoped>\n",
       "    .dataframe tbody tr th:only-of-type {\n",
       "        vertical-align: middle;\n",
       "    }\n",
       "\n",
       "    .dataframe tbody tr th {\n",
       "        vertical-align: top;\n",
       "    }\n",
       "\n",
       "    .dataframe thead th {\n",
       "        text-align: right;\n",
       "    }\n",
       "</style>\n",
       "<table border=\"1\" class=\"dataframe\">\n",
       "  <thead>\n",
       "    <tr style=\"text-align: right;\">\n",
       "      <th></th>\n",
       "      <th>id</th>\n",
       "      <th>call_date</th>\n",
       "      <th>duration</th>\n",
       "      <th>user_id</th>\n",
       "      <th>month</th>\n",
       "    </tr>\n",
       "  </thead>\n",
       "  <tbody>\n",
       "    <tr>\n",
       "      <td>0</td>\n",
       "      <td>1000_0</td>\n",
       "      <td>2018-07-25</td>\n",
       "      <td>0</td>\n",
       "      <td>1000</td>\n",
       "      <td>2018-07-01</td>\n",
       "    </tr>\n",
       "    <tr>\n",
       "      <td>1</td>\n",
       "      <td>1000_1</td>\n",
       "      <td>2018-08-17</td>\n",
       "      <td>0</td>\n",
       "      <td>1000</td>\n",
       "      <td>2018-08-01</td>\n",
       "    </tr>\n",
       "    <tr>\n",
       "      <td>2</td>\n",
       "      <td>1000_2</td>\n",
       "      <td>2018-06-11</td>\n",
       "      <td>3</td>\n",
       "      <td>1000</td>\n",
       "      <td>2018-06-01</td>\n",
       "    </tr>\n",
       "    <tr>\n",
       "      <td>3</td>\n",
       "      <td>1000_3</td>\n",
       "      <td>2018-09-21</td>\n",
       "      <td>14</td>\n",
       "      <td>1000</td>\n",
       "      <td>2018-09-01</td>\n",
       "    </tr>\n",
       "    <tr>\n",
       "      <td>4</td>\n",
       "      <td>1000_4</td>\n",
       "      <td>2018-12-15</td>\n",
       "      <td>6</td>\n",
       "      <td>1000</td>\n",
       "      <td>2018-12-01</td>\n",
       "    </tr>\n",
       "  </tbody>\n",
       "</table>\n",
       "</div>"
      ],
      "text/plain": [
       "       id  call_date  duration  user_id      month\n",
       "0  1000_0 2018-07-25         0     1000 2018-07-01\n",
       "1  1000_1 2018-08-17         0     1000 2018-08-01\n",
       "2  1000_2 2018-06-11         3     1000 2018-06-01\n",
       "3  1000_3 2018-09-21        14     1000 2018-09-01\n",
       "4  1000_4 2018-12-15         6     1000 2018-12-01"
      ]
     },
     "execution_count": 19,
     "metadata": {},
     "output_type": "execute_result"
    }
   ],
   "source": [
    "df_calls.head()"
   ]
  },
  {
   "cell_type": "markdown",
   "metadata": {},
   "source": [
    "### Обработка -  `df_internet`"
   ]
  },
  {
   "cell_type": "code",
   "execution_count": 20,
   "metadata": {},
   "outputs": [
    {
     "data": {
      "text/html": [
       "<div>\n",
       "<style scoped>\n",
       "    .dataframe tbody tr th:only-of-type {\n",
       "        vertical-align: middle;\n",
       "    }\n",
       "\n",
       "    .dataframe tbody tr th {\n",
       "        vertical-align: top;\n",
       "    }\n",
       "\n",
       "    .dataframe thead th {\n",
       "        text-align: right;\n",
       "    }\n",
       "</style>\n",
       "<table border=\"1\" class=\"dataframe\">\n",
       "  <thead>\n",
       "    <tr style=\"text-align: right;\">\n",
       "      <th></th>\n",
       "      <th>Unnamed: 0</th>\n",
       "      <th>id</th>\n",
       "      <th>mb_used</th>\n",
       "      <th>session_date</th>\n",
       "      <th>user_id</th>\n",
       "    </tr>\n",
       "  </thead>\n",
       "  <tbody>\n",
       "    <tr>\n",
       "      <td>0</td>\n",
       "      <td>0</td>\n",
       "      <td>1000_0</td>\n",
       "      <td>112.95</td>\n",
       "      <td>2018-11-25</td>\n",
       "      <td>1000</td>\n",
       "    </tr>\n",
       "    <tr>\n",
       "      <td>1</td>\n",
       "      <td>1</td>\n",
       "      <td>1000_1</td>\n",
       "      <td>1052.81</td>\n",
       "      <td>2018-09-07</td>\n",
       "      <td>1000</td>\n",
       "    </tr>\n",
       "    <tr>\n",
       "      <td>2</td>\n",
       "      <td>2</td>\n",
       "      <td>1000_2</td>\n",
       "      <td>1197.26</td>\n",
       "      <td>2018-06-25</td>\n",
       "      <td>1000</td>\n",
       "    </tr>\n",
       "    <tr>\n",
       "      <td>3</td>\n",
       "      <td>3</td>\n",
       "      <td>1000_3</td>\n",
       "      <td>550.27</td>\n",
       "      <td>2018-08-22</td>\n",
       "      <td>1000</td>\n",
       "    </tr>\n",
       "    <tr>\n",
       "      <td>4</td>\n",
       "      <td>4</td>\n",
       "      <td>1000_4</td>\n",
       "      <td>302.56</td>\n",
       "      <td>2018-09-24</td>\n",
       "      <td>1000</td>\n",
       "    </tr>\n",
       "  </tbody>\n",
       "</table>\n",
       "</div>"
      ],
      "text/plain": [
       "   Unnamed: 0      id  mb_used session_date  user_id\n",
       "0           0  1000_0   112.95   2018-11-25     1000\n",
       "1           1  1000_1  1052.81   2018-09-07     1000\n",
       "2           2  1000_2  1197.26   2018-06-25     1000\n",
       "3           3  1000_3   550.27   2018-08-22     1000\n",
       "4           4  1000_4   302.56   2018-09-24     1000"
      ]
     },
     "execution_count": 20,
     "metadata": {},
     "output_type": "execute_result"
    }
   ],
   "source": [
    "df_internet.head()"
   ]
  },
  {
   "cell_type": "markdown",
   "metadata": {},
   "source": [
    "Датафрейм `df_internet` так же содержит колонку с датой `session_date`, и еще колонку `mb_used` с объемом использованых мегабайт, которые так же следует округлить в большую сторону.  \n",
    "Для округления и конвертации воспользуемся функцией `round_ceil_to_int()` а для преобразования даты функцией `convert_date()`  \n",
    "Отбросим лишнюю колонку `Unnamed`"
   ]
  },
  {
   "cell_type": "code",
   "execution_count": 22,
   "metadata": {},
   "outputs": [],
   "source": [
    "df_internet.drop(columns='Unnamed: 0', inplace=True)"
   ]
  },
  {
   "cell_type": "markdown",
   "metadata": {},
   "source": [
    "Проверим результат удаления колонки, выведем случайную строку."
   ]
  },
  {
   "cell_type": "code",
   "execution_count": 23,
   "metadata": {},
   "outputs": [
    {
     "data": {
      "text/html": [
       "<div>\n",
       "<style scoped>\n",
       "    .dataframe tbody tr th:only-of-type {\n",
       "        vertical-align: middle;\n",
       "    }\n",
       "\n",
       "    .dataframe tbody tr th {\n",
       "        vertical-align: top;\n",
       "    }\n",
       "\n",
       "    .dataframe thead th {\n",
       "        text-align: right;\n",
       "    }\n",
       "</style>\n",
       "<table border=\"1\" class=\"dataframe\">\n",
       "  <thead>\n",
       "    <tr style=\"text-align: right;\">\n",
       "      <th></th>\n",
       "      <th>id</th>\n",
       "      <th>mb_used</th>\n",
       "      <th>session_date</th>\n",
       "      <th>user_id</th>\n",
       "    </tr>\n",
       "  </thead>\n",
       "  <tbody>\n",
       "    <tr>\n",
       "      <td>138150</td>\n",
       "      <td>1464_374</td>\n",
       "      <td>342.42</td>\n",
       "      <td>2018-04-15</td>\n",
       "      <td>1464</td>\n",
       "    </tr>\n",
       "  </tbody>\n",
       "</table>\n",
       "</div>"
      ],
      "text/plain": [
       "              id  mb_used session_date  user_id\n",
       "138150  1464_374   342.42   2018-04-15     1464"
      ]
     },
     "execution_count": 23,
     "metadata": {},
     "output_type": "execute_result"
    }
   ],
   "source": [
    "df_internet.sample()"
   ]
  },
  {
   "cell_type": "markdown",
   "metadata": {},
   "source": [
    "Округлим значения в большую сторону и конвертируем в `int`"
   ]
  },
  {
   "cell_type": "code",
   "execution_count": 24,
   "metadata": {},
   "outputs": [],
   "source": [
    "# round_ceil_to_int(df_internet, 'mb_used') - перенес это в пункт 4.3"
   ]
  },
  {
   "cell_type": "markdown",
   "metadata": {},
   "source": [
    "Сконвертируем дату в нужный формат"
   ]
  },
  {
   "cell_type": "code",
   "execution_count": 25,
   "metadata": {},
   "outputs": [],
   "source": [
    "convert_date(df_internet, 'session_date')"
   ]
  },
  {
   "cell_type": "markdown",
   "metadata": {},
   "source": [
    "Проверим результат смены типов данных"
   ]
  },
  {
   "cell_type": "code",
   "execution_count": 26,
   "metadata": {},
   "outputs": [
    {
     "name": "stdout",
     "output_type": "stream",
     "text": [
      "<class 'pandas.core.frame.DataFrame'>\n",
      "RangeIndex: 149396 entries, 0 to 149395\n",
      "Data columns (total 4 columns):\n",
      "id              149396 non-null object\n",
      "mb_used         149396 non-null float64\n",
      "session_date    149396 non-null datetime64[ns]\n",
      "user_id         149396 non-null int64\n",
      "dtypes: datetime64[ns](1), float64(1), int64(1), object(1)\n",
      "memory usage: 12.6 MB\n"
     ]
    }
   ],
   "source": [
    "df_internet.info(memory_usage='deep')"
   ]
  },
  {
   "cell_type": "markdown",
   "metadata": {},
   "source": [
    "Проверим датафрейм на наличие явных дубликатов."
   ]
  },
  {
   "cell_type": "code",
   "execution_count": 27,
   "metadata": {},
   "outputs": [
    {
     "data": {
      "text/plain": [
       "0"
      ]
     },
     "execution_count": 27,
     "metadata": {},
     "output_type": "execute_result"
    }
   ],
   "source": [
    "df_internet.duplicated().sum()"
   ]
  },
  {
   "cell_type": "markdown",
   "metadata": {},
   "source": [
    "Для дальнейших исследований нам понадобится информация по месяцам, добавим такую колонку."
   ]
  },
  {
   "cell_type": "code",
   "execution_count": 28,
   "metadata": {},
   "outputs": [],
   "source": [
    "# df_internet[\"month\"] = pd.DatetimeIndex(df_internet[\"session_date\"]).month"
   ]
  },
  {
   "cell_type": "code",
   "execution_count": 29,
   "metadata": {},
   "outputs": [],
   "source": [
    "df_internet[\"month\"] = df_internet[\"session_date\"].astype('datetime64[M]')"
   ]
  },
  {
   "cell_type": "markdown",
   "metadata": {},
   "source": [
    "### Обработка -  `df_messages`"
   ]
  },
  {
   "cell_type": "code",
   "execution_count": 30,
   "metadata": {},
   "outputs": [
    {
     "data": {
      "text/html": [
       "<div>\n",
       "<style scoped>\n",
       "    .dataframe tbody tr th:only-of-type {\n",
       "        vertical-align: middle;\n",
       "    }\n",
       "\n",
       "    .dataframe tbody tr th {\n",
       "        vertical-align: top;\n",
       "    }\n",
       "\n",
       "    .dataframe thead th {\n",
       "        text-align: right;\n",
       "    }\n",
       "</style>\n",
       "<table border=\"1\" class=\"dataframe\">\n",
       "  <thead>\n",
       "    <tr style=\"text-align: right;\">\n",
       "      <th></th>\n",
       "      <th>id</th>\n",
       "      <th>message_date</th>\n",
       "      <th>user_id</th>\n",
       "    </tr>\n",
       "  </thead>\n",
       "  <tbody>\n",
       "    <tr>\n",
       "      <td>0</td>\n",
       "      <td>1000_0</td>\n",
       "      <td>2018-06-27</td>\n",
       "      <td>1000</td>\n",
       "    </tr>\n",
       "    <tr>\n",
       "      <td>1</td>\n",
       "      <td>1000_1</td>\n",
       "      <td>2018-10-08</td>\n",
       "      <td>1000</td>\n",
       "    </tr>\n",
       "    <tr>\n",
       "      <td>2</td>\n",
       "      <td>1000_2</td>\n",
       "      <td>2018-08-04</td>\n",
       "      <td>1000</td>\n",
       "    </tr>\n",
       "    <tr>\n",
       "      <td>3</td>\n",
       "      <td>1000_3</td>\n",
       "      <td>2018-06-16</td>\n",
       "      <td>1000</td>\n",
       "    </tr>\n",
       "    <tr>\n",
       "      <td>4</td>\n",
       "      <td>1000_4</td>\n",
       "      <td>2018-12-05</td>\n",
       "      <td>1000</td>\n",
       "    </tr>\n",
       "  </tbody>\n",
       "</table>\n",
       "</div>"
      ],
      "text/plain": [
       "       id message_date  user_id\n",
       "0  1000_0   2018-06-27     1000\n",
       "1  1000_1   2018-10-08     1000\n",
       "2  1000_2   2018-08-04     1000\n",
       "3  1000_3   2018-06-16     1000\n",
       "4  1000_4   2018-12-05     1000"
      ]
     },
     "execution_count": 30,
     "metadata": {},
     "output_type": "execute_result"
    }
   ],
   "source": [
    "df_messages.head()"
   ]
  },
  {
   "cell_type": "markdown",
   "metadata": {},
   "source": [
    "В датафрейме `df_messages` необходимо конвертировать только дату."
   ]
  },
  {
   "cell_type": "markdown",
   "metadata": {},
   "source": [
    "Сконвертируем дату в нужный формат"
   ]
  },
  {
   "cell_type": "code",
   "execution_count": 31,
   "metadata": {},
   "outputs": [],
   "source": [
    "convert_date(df_messages, 'message_date')"
   ]
  },
  {
   "cell_type": "markdown",
   "metadata": {},
   "source": [
    "Проверим результат смены типов данных"
   ]
  },
  {
   "cell_type": "code",
   "execution_count": 32,
   "metadata": {},
   "outputs": [
    {
     "name": "stdout",
     "output_type": "stream",
     "text": [
      "<class 'pandas.core.frame.DataFrame'>\n",
      "RangeIndex: 123036 entries, 0 to 123035\n",
      "Data columns (total 3 columns):\n",
      "id              123036 non-null object\n",
      "message_date    123036 non-null datetime64[ns]\n",
      "user_id         123036 non-null int64\n",
      "dtypes: datetime64[ns](1), int64(1), object(1)\n",
      "memory usage: 9.5 MB\n"
     ]
    }
   ],
   "source": [
    "df_messages.info(memory_usage='deep')"
   ]
  },
  {
   "cell_type": "markdown",
   "metadata": {},
   "source": [
    "Проверим датафрейм на наличие явных дубликатов."
   ]
  },
  {
   "cell_type": "code",
   "execution_count": 33,
   "metadata": {},
   "outputs": [
    {
     "data": {
      "text/plain": [
       "0"
      ]
     },
     "execution_count": 33,
     "metadata": {},
     "output_type": "execute_result"
    }
   ],
   "source": [
    "df_messages.duplicated().sum()"
   ]
  },
  {
   "cell_type": "markdown",
   "metadata": {},
   "source": [
    "Для дальнейших исследований нам понадобится информация по месяцам, добавим такую колонку."
   ]
  },
  {
   "cell_type": "code",
   "execution_count": 34,
   "metadata": {},
   "outputs": [],
   "source": [
    "# df_messages[\"month\"] = pd.DatetimeIndex(df_messages[\"message_date\"]).month"
   ]
  },
  {
   "cell_type": "code",
   "execution_count": 35,
   "metadata": {},
   "outputs": [],
   "source": [
    "df_messages[\"month\"] = df_messages[\"message_date\"].astype('datetime64[M]')"
   ]
  },
  {
   "cell_type": "markdown",
   "metadata": {},
   "source": [
    "### Обработка -  `df_tariffs`"
   ]
  },
  {
   "cell_type": "code",
   "execution_count": 36,
   "metadata": {},
   "outputs": [
    {
     "data": {
      "text/html": [
       "<div>\n",
       "<style scoped>\n",
       "    .dataframe tbody tr th:only-of-type {\n",
       "        vertical-align: middle;\n",
       "    }\n",
       "\n",
       "    .dataframe tbody tr th {\n",
       "        vertical-align: top;\n",
       "    }\n",
       "\n",
       "    .dataframe thead th {\n",
       "        text-align: right;\n",
       "    }\n",
       "</style>\n",
       "<table border=\"1\" class=\"dataframe\">\n",
       "  <thead>\n",
       "    <tr style=\"text-align: right;\">\n",
       "      <th></th>\n",
       "      <th>messages_included</th>\n",
       "      <th>mb_per_month_included</th>\n",
       "      <th>minutes_included</th>\n",
       "      <th>rub_monthly_fee</th>\n",
       "      <th>rub_per_gb</th>\n",
       "      <th>rub_per_message</th>\n",
       "      <th>rub_per_minute</th>\n",
       "      <th>tariff_name</th>\n",
       "    </tr>\n",
       "  </thead>\n",
       "  <tbody>\n",
       "    <tr>\n",
       "      <td>0</td>\n",
       "      <td>50</td>\n",
       "      <td>15360</td>\n",
       "      <td>500</td>\n",
       "      <td>550</td>\n",
       "      <td>200</td>\n",
       "      <td>3</td>\n",
       "      <td>3</td>\n",
       "      <td>smart</td>\n",
       "    </tr>\n",
       "    <tr>\n",
       "      <td>1</td>\n",
       "      <td>1000</td>\n",
       "      <td>30720</td>\n",
       "      <td>3000</td>\n",
       "      <td>1950</td>\n",
       "      <td>150</td>\n",
       "      <td>1</td>\n",
       "      <td>1</td>\n",
       "      <td>ultra</td>\n",
       "    </tr>\n",
       "  </tbody>\n",
       "</table>\n",
       "</div>"
      ],
      "text/plain": [
       "   messages_included  mb_per_month_included  minutes_included  \\\n",
       "0                 50                  15360               500   \n",
       "1               1000                  30720              3000   \n",
       "\n",
       "   rub_monthly_fee  rub_per_gb  rub_per_message  rub_per_minute tariff_name  \n",
       "0              550         200                3               3       smart  \n",
       "1             1950         150                1               1       ultra  "
      ]
     },
     "execution_count": 36,
     "metadata": {},
     "output_type": "execute_result"
    }
   ],
   "source": [
    "df_tariffs.head()"
   ]
  },
  {
   "cell_type": "markdown",
   "metadata": {},
   "source": [
    "Никаких действий, на данный момент, с датафреймом `df_tariffs` не требуются."
   ]
  },
  {
   "cell_type": "code",
   "execution_count": 37,
   "metadata": {},
   "outputs": [
    {
     "name": "stdout",
     "output_type": "stream",
     "text": [
      "<class 'pandas.core.frame.DataFrame'>\n",
      "RangeIndex: 2 entries, 0 to 1\n",
      "Data columns (total 8 columns):\n",
      "messages_included        2 non-null int64\n",
      "mb_per_month_included    2 non-null int64\n",
      "minutes_included         2 non-null int64\n",
      "rub_monthly_fee          2 non-null int64\n",
      "rub_per_gb               2 non-null int64\n",
      "rub_per_message          2 non-null int64\n",
      "rub_per_minute           2 non-null int64\n",
      "tariff_name              2 non-null object\n",
      "dtypes: int64(7), object(1)\n",
      "memory usage: 364.0 bytes\n"
     ]
    }
   ],
   "source": [
    "df_tariffs.info(memory_usage='deep')"
   ]
  },
  {
   "cell_type": "markdown",
   "metadata": {},
   "source": [
    "### Обработка -  `df_users`"
   ]
  },
  {
   "cell_type": "code",
   "execution_count": 38,
   "metadata": {},
   "outputs": [
    {
     "data": {
      "text/html": [
       "<div>\n",
       "<style scoped>\n",
       "    .dataframe tbody tr th:only-of-type {\n",
       "        vertical-align: middle;\n",
       "    }\n",
       "\n",
       "    .dataframe tbody tr th {\n",
       "        vertical-align: top;\n",
       "    }\n",
       "\n",
       "    .dataframe thead th {\n",
       "        text-align: right;\n",
       "    }\n",
       "</style>\n",
       "<table border=\"1\" class=\"dataframe\">\n",
       "  <thead>\n",
       "    <tr style=\"text-align: right;\">\n",
       "      <th></th>\n",
       "      <th>user_id</th>\n",
       "      <th>age</th>\n",
       "      <th>churn_date</th>\n",
       "      <th>city</th>\n",
       "      <th>first_name</th>\n",
       "      <th>last_name</th>\n",
       "      <th>reg_date</th>\n",
       "      <th>tariff</th>\n",
       "    </tr>\n",
       "  </thead>\n",
       "  <tbody>\n",
       "    <tr>\n",
       "      <td>0</td>\n",
       "      <td>1000</td>\n",
       "      <td>52</td>\n",
       "      <td>NaN</td>\n",
       "      <td>Краснодар</td>\n",
       "      <td>Рафаил</td>\n",
       "      <td>Верещагин</td>\n",
       "      <td>2018-05-25</td>\n",
       "      <td>ultra</td>\n",
       "    </tr>\n",
       "    <tr>\n",
       "      <td>1</td>\n",
       "      <td>1001</td>\n",
       "      <td>41</td>\n",
       "      <td>NaN</td>\n",
       "      <td>Москва</td>\n",
       "      <td>Иван</td>\n",
       "      <td>Ежов</td>\n",
       "      <td>2018-11-01</td>\n",
       "      <td>smart</td>\n",
       "    </tr>\n",
       "    <tr>\n",
       "      <td>2</td>\n",
       "      <td>1002</td>\n",
       "      <td>59</td>\n",
       "      <td>NaN</td>\n",
       "      <td>Стерлитамак</td>\n",
       "      <td>Евгений</td>\n",
       "      <td>Абрамович</td>\n",
       "      <td>2018-06-17</td>\n",
       "      <td>smart</td>\n",
       "    </tr>\n",
       "    <tr>\n",
       "      <td>3</td>\n",
       "      <td>1003</td>\n",
       "      <td>23</td>\n",
       "      <td>NaN</td>\n",
       "      <td>Москва</td>\n",
       "      <td>Белла</td>\n",
       "      <td>Белякова</td>\n",
       "      <td>2018-08-17</td>\n",
       "      <td>ultra</td>\n",
       "    </tr>\n",
       "    <tr>\n",
       "      <td>4</td>\n",
       "      <td>1004</td>\n",
       "      <td>68</td>\n",
       "      <td>NaN</td>\n",
       "      <td>Новокузнецк</td>\n",
       "      <td>Татьяна</td>\n",
       "      <td>Авдеенко</td>\n",
       "      <td>2018-05-14</td>\n",
       "      <td>ultra</td>\n",
       "    </tr>\n",
       "  </tbody>\n",
       "</table>\n",
       "</div>"
      ],
      "text/plain": [
       "   user_id  age churn_date         city first_name  last_name    reg_date  \\\n",
       "0     1000   52        NaN    Краснодар     Рафаил  Верещагин  2018-05-25   \n",
       "1     1001   41        NaN       Москва       Иван       Ежов  2018-11-01   \n",
       "2     1002   59        NaN  Стерлитамак    Евгений  Абрамович  2018-06-17   \n",
       "3     1003   23        NaN       Москва      Белла   Белякова  2018-08-17   \n",
       "4     1004   68        NaN  Новокузнецк    Татьяна   Авдеенко  2018-05-14   \n",
       "\n",
       "  tariff  \n",
       "0  ultra  \n",
       "1  smart  \n",
       "2  smart  \n",
       "3  ultra  \n",
       "4  ultra  "
      ]
     },
     "execution_count": 38,
     "metadata": {},
     "output_type": "execute_result"
    }
   ],
   "source": [
    "df_users.head()"
   ]
  },
  {
   "cell_type": "markdown",
   "metadata": {},
   "source": [
    "Переименуем колонку с тарифами, для избежания ошибок при дальнейших действиях с данными."
   ]
  },
  {
   "cell_type": "code",
   "execution_count": 39,
   "metadata": {},
   "outputs": [],
   "source": [
    "df_users.rename(columns = {'tariff':'tariff_name'}, inplace = True)"
   ]
  },
  {
   "cell_type": "markdown",
   "metadata": {},
   "source": [
    "С датафреймом `df_users` придется проделать несколько действий, конвертировать дату колонки `reg_date` и заполнить пропуски в `churn_date` после чего тоже конвертровать.  \n",
    "Начнем с заполнения пропусков."
   ]
  },
  {
   "cell_type": "markdown",
   "metadata": {},
   "source": [
    "Т.к. тариф ещё действовал на момент выгрузки данных, найдем самую позднюю дату во всем датафрейме, ее и будем считать за дату прекращения пользования тарифом.  \n",
    "Из-за того что данные в формате `object`, сложно найти максимальную дату. Создадим дубликат с отброшенными пропущенными значениями, результат конвертируем в формат даты и найдем максимальное значение.\n"
   ]
  },
  {
   "cell_type": "code",
   "execution_count": 40,
   "metadata": {},
   "outputs": [
    {
     "data": {
      "text/plain": [
       "Timestamp('2018-12-30 00:00:00')"
      ]
     },
     "execution_count": 40,
     "metadata": {},
     "output_type": "execute_result"
    }
   ],
   "source": [
    "churn_dates = df_users['churn_date'].dropna()\n",
    "churn_dates = pd.to_datetime(churn_dates)\n",
    "churn_dates.max()"
   ]
  },
  {
   "cell_type": "markdown",
   "metadata": {},
   "source": [
    "30 декабря 2018 года, это и будет датой, которой заполним пропуски в колонке `churn_date`. Временно заполним пропуски с датой в формате `object`, сконвертируем в нужный формат на следующем шаге."
   ]
  },
  {
   "cell_type": "code",
   "execution_count": 41,
   "metadata": {},
   "outputs": [],
   "source": [
    "df_users['churn_date'] = df_users['churn_date'].fillna('2018-12-30')"
   ]
  },
  {
   "cell_type": "markdown",
   "metadata": {},
   "source": [
    "Сконвертируем дату в нужный формат для `churn_date`"
   ]
  },
  {
   "cell_type": "code",
   "execution_count": 42,
   "metadata": {},
   "outputs": [],
   "source": [
    "convert_date(df_users, 'churn_date')"
   ]
  },
  {
   "cell_type": "markdown",
   "metadata": {},
   "source": [
    "и для `reg_date`"
   ]
  },
  {
   "cell_type": "code",
   "execution_count": 43,
   "metadata": {},
   "outputs": [],
   "source": [
    "convert_date(df_users, 'reg_date')"
   ]
  },
  {
   "cell_type": "markdown",
   "metadata": {},
   "source": [
    "Проверим результат смены типов данных"
   ]
  },
  {
   "cell_type": "code",
   "execution_count": 44,
   "metadata": {},
   "outputs": [
    {
     "name": "stdout",
     "output_type": "stream",
     "text": [
      "<class 'pandas.core.frame.DataFrame'>\n",
      "RangeIndex: 500 entries, 0 to 499\n",
      "Data columns (total 8 columns):\n",
      "user_id        500 non-null int64\n",
      "age            500 non-null int64\n",
      "churn_date     500 non-null datetime64[ns]\n",
      "city           500 non-null object\n",
      "first_name     500 non-null object\n",
      "last_name      500 non-null object\n",
      "reg_date       500 non-null datetime64[ns]\n",
      "tariff_name    500 non-null object\n",
      "dtypes: datetime64[ns](2), int64(2), object(4)\n",
      "memory usage: 187.8 KB\n"
     ]
    }
   ],
   "source": [
    "df_users.info(memory_usage='deep')"
   ]
  },
  {
   "cell_type": "markdown",
   "metadata": {},
   "source": [
    "Проверим датафрейм `df_users` на наличие явных дубликатов. Т.к. в нем встречаются слова (город, имя, фамилия) можно было бы сменить все в нижний регистр, но в нашей выборке должно быть 500 пользователей и айди каждого должен быть уникальным.  \n",
    "Проверим общее количество айди, знаем что там не должно быть пропусков."
   ]
  },
  {
   "cell_type": "code",
   "execution_count": 45,
   "metadata": {},
   "outputs": [
    {
     "data": {
      "text/plain": [
       "500"
      ]
     },
     "execution_count": 45,
     "metadata": {},
     "output_type": "execute_result"
    }
   ],
   "source": [
    "df_users['user_id'].count()"
   ]
  },
  {
   "cell_type": "markdown",
   "metadata": {},
   "source": [
    "Ровно 500 записей, теперь проверим нет ли среди них дубликатов."
   ]
  },
  {
   "cell_type": "code",
   "execution_count": 46,
   "metadata": {
    "scrolled": true
   },
   "outputs": [
    {
     "data": {
      "text/plain": [
       "0"
      ]
     },
     "execution_count": 46,
     "metadata": {},
     "output_type": "execute_result"
    }
   ],
   "source": [
    "df_users['user_id'].duplicated().sum()"
   ]
  },
  {
   "cell_type": "markdown",
   "metadata": {},
   "source": [
    "Дубликатов нет, ну и чтобы уж наверняка, проверим наличие дубликатов всего датафрейма `df_users`"
   ]
  },
  {
   "cell_type": "code",
   "execution_count": 47,
   "metadata": {
    "scrolled": true
   },
   "outputs": [
    {
     "data": {
      "text/plain": [
       "0"
      ]
     },
     "execution_count": 47,
     "metadata": {},
     "output_type": "execute_result"
    }
   ],
   "source": [
    "df_users.duplicated().sum()"
   ]
  },
  {
   "cell_type": "markdown",
   "metadata": {},
   "source": [
    "### Оптимизация типов данных `int` и `float`"
   ]
  },
  {
   "cell_type": "markdown",
   "metadata": {},
   "source": [
    "Чтобы обработать все датафреймы сразу, добавим их в список, далее с циклом пройдемся по каждому из них."
   ]
  },
  {
   "cell_type": "code",
   "execution_count": 48,
   "metadata": {},
   "outputs": [],
   "source": [
    "dataframes_list = [df_calls, df_internet, df_messages, df_tariffs, df_users]"
   ]
  },
  {
   "cell_type": "markdown",
   "metadata": {},
   "source": [
    "Самый нежелательный тип данных это `object`, но мы ничего с ним сделать не можем. Однако, мы можем обработать типы данных `float64` и `int64`.<br>\n",
    "Внутри функции `dtype_optimisation` напишем цикл, который получит названия каждой колонки и проверит ее тип данных. С помощью конструкции `if else` проверим если тип данных равен `int64` или `float64`, и приведем к оптимальному типу данных согласно содержимому колонки методом `to_numeric` и параметром `downcast = 'integer'` и `downcast = 'float'` соответственно.<br>\n",
    "\n",
    "В случае если возникнет какая нибудь ошибка, вы выведем это на экран благодаря конструкции `try except`.  "
   ]
  },
  {
   "cell_type": "code",
   "execution_count": 49,
   "metadata": {},
   "outputs": [],
   "source": [
    "def dtype_optimisation(dataframe):\n",
    "    for column in dataframe.columns:\n",
    "\n",
    "        if dataframe[column].dtypes == \"int64\":\n",
    "            try:\n",
    "                dataframe[column] = pd.to_numeric(dataframe[column], downcast = 'integer')\n",
    "            except:\n",
    "                print(f\"Пропущена колонка {column} с типом {dataframe[column].dtypes}\")\n",
    "        elif data[column].dtypes == \"float64\":\n",
    "            try:\n",
    "                dataframe[column] = pd.to_numeric(dataframe[column], downcast = 'float')\n",
    "            except:\n",
    "                print(f\"Пропущена колонка {column} с типом {dataframe[column].dtypes}\")"
   ]
  },
  {
   "cell_type": "markdown",
   "metadata": {},
   "source": [
    "Переберем каждый датафрейм из списка и передадим функции `dtype_optimisation`"
   ]
  },
  {
   "cell_type": "code",
   "execution_count": 50,
   "metadata": {},
   "outputs": [],
   "source": [
    "for data in dataframes_list:\n",
    "    dtype_optimisation(data)"
   ]
  },
  {
   "cell_type": "markdown",
   "metadata": {},
   "source": [
    "Проверим один из датафреймов если оптимизация типов прошла успешно"
   ]
  },
  {
   "cell_type": "code",
   "execution_count": 51,
   "metadata": {},
   "outputs": [
    {
     "name": "stdout",
     "output_type": "stream",
     "text": [
      "<class 'pandas.core.frame.DataFrame'>\n",
      "RangeIndex: 202607 entries, 0 to 202606\n",
      "Data columns (total 5 columns):\n",
      "id           202607 non-null object\n",
      "call_date    202607 non-null datetime64[ns]\n",
      "duration     202607 non-null int8\n",
      "user_id      202607 non-null int16\n",
      "month        202607 non-null datetime64[ns]\n",
      "dtypes: datetime64[ns](2), int16(1), int8(1), object(1)\n",
      "memory usage: 16.2 MB\n"
     ]
    }
   ],
   "source": [
    "df_calls.info(memory_usage='deep')"
   ]
  },
  {
   "cell_type": "markdown",
   "metadata": {},
   "source": [
    "### Вывод о подготовке данных"
   ]
  },
  {
   "cell_type": "markdown",
   "metadata": {},
   "source": [
    "Подготовили данные для дальнейшего исследования, сменили типы данных, к примеру колонка с датой была в текстовом формате. Звонки с нулевой продолжительностью обозначены как пропущенные, удалять их не стали. \n",
    "Для минут и мегабайт, округлили все в верхнюю сторону согласно правилам компании и сменили тип данных на `int`.  \n",
    "Учитывая что у нас данные за весь 2018 год заполнили пропуски в колонке `churn_date` датафрейма `df_users` последней доступной датой - 30 декабря 2018, после чего так же привели к нужному типу.  \n",
    "Для датафреймов `df_calls`, `df_internet` и `df_messages` добавили новую колонку `month` которая потребуется на следующих этапах.  \n",
    "После смены всех типов данных, оптимизировали все `int` и `float` для экономии памяти. \n",
    "Проверка на дубликаты показала 0 значение среди всех датафреймов."
   ]
  },
  {
   "cell_type": "markdown",
   "metadata": {},
   "source": [
    "---"
   ]
  },
  {
   "cell_type": "markdown",
   "metadata": {},
   "source": [
    "## Подсчет данных для каждого пользователя"
   ]
  },
  {
   "cell_type": "markdown",
   "metadata": {},
   "source": [
    "Для дальнейшего исследования потребуется провести некоторые подсчеты, добавить их в новые колонки и объединить полученные таблицы вместе."
   ]
  },
  {
   "cell_type": "markdown",
   "metadata": {},
   "source": [
    "### Количество сделанных звонков и израсходованных минут разговора по месяцам;"
   ]
  },
  {
   "cell_type": "markdown",
   "metadata": {},
   "source": [
    "Создадим новый датафрейм `df_calls_groupped` и добавим в него сгруппированные данные, сбросим индексы и переименуем названия колонок."
   ]
  },
  {
   "cell_type": "code",
   "execution_count": 52,
   "metadata": {},
   "outputs": [
    {
     "data": {
      "text/html": [
       "<div>\n",
       "<style scoped>\n",
       "    .dataframe tbody tr th:only-of-type {\n",
       "        vertical-align: middle;\n",
       "    }\n",
       "\n",
       "    .dataframe tbody tr th {\n",
       "        vertical-align: top;\n",
       "    }\n",
       "\n",
       "    .dataframe thead th {\n",
       "        text-align: right;\n",
       "    }\n",
       "</style>\n",
       "<table border=\"1\" class=\"dataframe\">\n",
       "  <thead>\n",
       "    <tr style=\"text-align: right;\">\n",
       "      <th></th>\n",
       "      <th>user_id</th>\n",
       "      <th>month</th>\n",
       "      <th>calls</th>\n",
       "      <th>minutes</th>\n",
       "    </tr>\n",
       "  </thead>\n",
       "  <tbody>\n",
       "    <tr>\n",
       "      <td>0</td>\n",
       "      <td>1000</td>\n",
       "      <td>2018-05-01</td>\n",
       "      <td>22</td>\n",
       "      <td>159.0</td>\n",
       "    </tr>\n",
       "    <tr>\n",
       "      <td>1</td>\n",
       "      <td>1000</td>\n",
       "      <td>2018-06-01</td>\n",
       "      <td>43</td>\n",
       "      <td>172.0</td>\n",
       "    </tr>\n",
       "    <tr>\n",
       "      <td>2</td>\n",
       "      <td>1000</td>\n",
       "      <td>2018-07-01</td>\n",
       "      <td>47</td>\n",
       "      <td>340.0</td>\n",
       "    </tr>\n",
       "    <tr>\n",
       "      <td>3</td>\n",
       "      <td>1000</td>\n",
       "      <td>2018-08-01</td>\n",
       "      <td>52</td>\n",
       "      <td>408.0</td>\n",
       "    </tr>\n",
       "    <tr>\n",
       "      <td>4</td>\n",
       "      <td>1000</td>\n",
       "      <td>2018-09-01</td>\n",
       "      <td>58</td>\n",
       "      <td>466.0</td>\n",
       "    </tr>\n",
       "  </tbody>\n",
       "</table>\n",
       "</div>"
      ],
      "text/plain": [
       "   user_id      month  calls  minutes\n",
       "0     1000 2018-05-01     22    159.0\n",
       "1     1000 2018-06-01     43    172.0\n",
       "2     1000 2018-07-01     47    340.0\n",
       "3     1000 2018-08-01     52    408.0\n",
       "4     1000 2018-09-01     58    466.0"
      ]
     },
     "execution_count": 52,
     "metadata": {},
     "output_type": "execute_result"
    }
   ],
   "source": [
    "df_calls_groupped = df_calls.pivot_table(\n",
    "    index = ['user_id', 'month'],\n",
    "    values = 'duration',\n",
    "    aggfunc = ['count', 'sum']\n",
    ")\n",
    "df_calls_groupped.reset_index(inplace=True)\n",
    "df_calls_groupped.columns = [\"user_id\", \"month\", \"calls\", \"minutes\"]\n",
    "df_calls_groupped.head()"
   ]
  },
  {
   "cell_type": "markdown",
   "metadata": {},
   "source": [
    "Создадим новый, объединенный датафрейм `df_users_merged` для всех данных и добавим в него данные из `df_users` и `df_calls_groupped`. Объединять будем по значению колонки `user_id`"
   ]
  },
  {
   "cell_type": "code",
   "execution_count": 53,
   "metadata": {},
   "outputs": [
    {
     "data": {
      "text/html": [
       "<div>\n",
       "<style scoped>\n",
       "    .dataframe tbody tr th:only-of-type {\n",
       "        vertical-align: middle;\n",
       "    }\n",
       "\n",
       "    .dataframe tbody tr th {\n",
       "        vertical-align: top;\n",
       "    }\n",
       "\n",
       "    .dataframe thead th {\n",
       "        text-align: right;\n",
       "    }\n",
       "</style>\n",
       "<table border=\"1\" class=\"dataframe\">\n",
       "  <thead>\n",
       "    <tr style=\"text-align: right;\">\n",
       "      <th></th>\n",
       "      <th>user_id</th>\n",
       "      <th>age</th>\n",
       "      <th>churn_date</th>\n",
       "      <th>city</th>\n",
       "      <th>first_name</th>\n",
       "      <th>last_name</th>\n",
       "      <th>reg_date</th>\n",
       "      <th>tariff_name</th>\n",
       "      <th>month</th>\n",
       "      <th>calls</th>\n",
       "      <th>minutes</th>\n",
       "    </tr>\n",
       "  </thead>\n",
       "  <tbody>\n",
       "    <tr>\n",
       "      <td>0</td>\n",
       "      <td>1000</td>\n",
       "      <td>52</td>\n",
       "      <td>2018-12-30</td>\n",
       "      <td>Краснодар</td>\n",
       "      <td>Рафаил</td>\n",
       "      <td>Верещагин</td>\n",
       "      <td>2018-05-25</td>\n",
       "      <td>ultra</td>\n",
       "      <td>2018-05-01</td>\n",
       "      <td>22.0</td>\n",
       "      <td>159.0</td>\n",
       "    </tr>\n",
       "    <tr>\n",
       "      <td>1</td>\n",
       "      <td>1000</td>\n",
       "      <td>52</td>\n",
       "      <td>2018-12-30</td>\n",
       "      <td>Краснодар</td>\n",
       "      <td>Рафаил</td>\n",
       "      <td>Верещагин</td>\n",
       "      <td>2018-05-25</td>\n",
       "      <td>ultra</td>\n",
       "      <td>2018-06-01</td>\n",
       "      <td>43.0</td>\n",
       "      <td>172.0</td>\n",
       "    </tr>\n",
       "    <tr>\n",
       "      <td>2</td>\n",
       "      <td>1000</td>\n",
       "      <td>52</td>\n",
       "      <td>2018-12-30</td>\n",
       "      <td>Краснодар</td>\n",
       "      <td>Рафаил</td>\n",
       "      <td>Верещагин</td>\n",
       "      <td>2018-05-25</td>\n",
       "      <td>ultra</td>\n",
       "      <td>2018-07-01</td>\n",
       "      <td>47.0</td>\n",
       "      <td>340.0</td>\n",
       "    </tr>\n",
       "    <tr>\n",
       "      <td>3</td>\n",
       "      <td>1000</td>\n",
       "      <td>52</td>\n",
       "      <td>2018-12-30</td>\n",
       "      <td>Краснодар</td>\n",
       "      <td>Рафаил</td>\n",
       "      <td>Верещагин</td>\n",
       "      <td>2018-05-25</td>\n",
       "      <td>ultra</td>\n",
       "      <td>2018-08-01</td>\n",
       "      <td>52.0</td>\n",
       "      <td>408.0</td>\n",
       "    </tr>\n",
       "    <tr>\n",
       "      <td>4</td>\n",
       "      <td>1000</td>\n",
       "      <td>52</td>\n",
       "      <td>2018-12-30</td>\n",
       "      <td>Краснодар</td>\n",
       "      <td>Рафаил</td>\n",
       "      <td>Верещагин</td>\n",
       "      <td>2018-05-25</td>\n",
       "      <td>ultra</td>\n",
       "      <td>2018-09-01</td>\n",
       "      <td>58.0</td>\n",
       "      <td>466.0</td>\n",
       "    </tr>\n",
       "  </tbody>\n",
       "</table>\n",
       "</div>"
      ],
      "text/plain": [
       "   user_id  age churn_date       city first_name  last_name   reg_date  \\\n",
       "0     1000   52 2018-12-30  Краснодар     Рафаил  Верещагин 2018-05-25   \n",
       "1     1000   52 2018-12-30  Краснодар     Рафаил  Верещагин 2018-05-25   \n",
       "2     1000   52 2018-12-30  Краснодар     Рафаил  Верещагин 2018-05-25   \n",
       "3     1000   52 2018-12-30  Краснодар     Рафаил  Верещагин 2018-05-25   \n",
       "4     1000   52 2018-12-30  Краснодар     Рафаил  Верещагин 2018-05-25   \n",
       "\n",
       "  tariff_name      month  calls  minutes  \n",
       "0       ultra 2018-05-01   22.0    159.0  \n",
       "1       ultra 2018-06-01   43.0    172.0  \n",
       "2       ultra 2018-07-01   47.0    340.0  \n",
       "3       ultra 2018-08-01   52.0    408.0  \n",
       "4       ultra 2018-09-01   58.0    466.0  "
      ]
     },
     "execution_count": 53,
     "metadata": {},
     "output_type": "execute_result"
    }
   ],
   "source": [
    "df_users_merged = df_users.merge(df_calls_groupped, on='user_id', how='left')\n",
    "df_users_merged.head()"
   ]
  },
  {
   "cell_type": "markdown",
   "metadata": {},
   "source": [
    "Тип данных в колонках `month` и `calls` изменился с `int` на `float`, значит в данных датафрейма появились пропуски. Вернемся к ним на следующих шагах."
   ]
  },
  {
   "cell_type": "markdown",
   "metadata": {},
   "source": [
    "### Количество отправленных сообщений по месяцам;"
   ]
  },
  {
   "cell_type": "markdown",
   "metadata": {},
   "source": [
    "Создадим новый датафрейм `df_messages_groupped` и добавим в него сгруппированные данные, сбросим индексы и переименуем названия колонок."
   ]
  },
  {
   "cell_type": "code",
   "execution_count": 54,
   "metadata": {
    "scrolled": false
   },
   "outputs": [
    {
     "data": {
      "text/html": [
       "<div>\n",
       "<style scoped>\n",
       "    .dataframe tbody tr th:only-of-type {\n",
       "        vertical-align: middle;\n",
       "    }\n",
       "\n",
       "    .dataframe tbody tr th {\n",
       "        vertical-align: top;\n",
       "    }\n",
       "\n",
       "    .dataframe thead th {\n",
       "        text-align: right;\n",
       "    }\n",
       "</style>\n",
       "<table border=\"1\" class=\"dataframe\">\n",
       "  <thead>\n",
       "    <tr style=\"text-align: right;\">\n",
       "      <th></th>\n",
       "      <th>user_id</th>\n",
       "      <th>month</th>\n",
       "      <th>messages</th>\n",
       "    </tr>\n",
       "  </thead>\n",
       "  <tbody>\n",
       "    <tr>\n",
       "      <td>0</td>\n",
       "      <td>1000</td>\n",
       "      <td>2018-05-01</td>\n",
       "      <td>22</td>\n",
       "    </tr>\n",
       "    <tr>\n",
       "      <td>1</td>\n",
       "      <td>1000</td>\n",
       "      <td>2018-06-01</td>\n",
       "      <td>60</td>\n",
       "    </tr>\n",
       "    <tr>\n",
       "      <td>2</td>\n",
       "      <td>1000</td>\n",
       "      <td>2018-07-01</td>\n",
       "      <td>75</td>\n",
       "    </tr>\n",
       "    <tr>\n",
       "      <td>3</td>\n",
       "      <td>1000</td>\n",
       "      <td>2018-08-01</td>\n",
       "      <td>81</td>\n",
       "    </tr>\n",
       "    <tr>\n",
       "      <td>4</td>\n",
       "      <td>1000</td>\n",
       "      <td>2018-09-01</td>\n",
       "      <td>57</td>\n",
       "    </tr>\n",
       "  </tbody>\n",
       "</table>\n",
       "</div>"
      ],
      "text/plain": [
       "   user_id      month  messages\n",
       "0     1000 2018-05-01        22\n",
       "1     1000 2018-06-01        60\n",
       "2     1000 2018-07-01        75\n",
       "3     1000 2018-08-01        81\n",
       "4     1000 2018-09-01        57"
      ]
     },
     "execution_count": 54,
     "metadata": {},
     "output_type": "execute_result"
    }
   ],
   "source": [
    "df_messages_groupped = df_messages.pivot_table(\n",
    "    index = ['user_id', 'month'],\n",
    "    values = 'message_date',\n",
    "    aggfunc = 'count',\n",
    ")\n",
    "df_messages_groupped.reset_index(inplace=True)\n",
    "df_messages_groupped.columns = [\"user_id\", \"month\", \"messages\"]\n",
    "df_messages_groupped.head()"
   ]
  },
  {
   "cell_type": "markdown",
   "metadata": {},
   "source": [
    "Теперь добавим к `df_users_merged` данные из `df_messages_groupped` но объединять будем уже по двум значениям из колонок `user_id` и `month`"
   ]
  },
  {
   "cell_type": "code",
   "execution_count": 55,
   "metadata": {
    "scrolled": true
   },
   "outputs": [
    {
     "data": {
      "text/html": [
       "<div>\n",
       "<style scoped>\n",
       "    .dataframe tbody tr th:only-of-type {\n",
       "        vertical-align: middle;\n",
       "    }\n",
       "\n",
       "    .dataframe tbody tr th {\n",
       "        vertical-align: top;\n",
       "    }\n",
       "\n",
       "    .dataframe thead th {\n",
       "        text-align: right;\n",
       "    }\n",
       "</style>\n",
       "<table border=\"1\" class=\"dataframe\">\n",
       "  <thead>\n",
       "    <tr style=\"text-align: right;\">\n",
       "      <th></th>\n",
       "      <th>user_id</th>\n",
       "      <th>age</th>\n",
       "      <th>churn_date</th>\n",
       "      <th>city</th>\n",
       "      <th>first_name</th>\n",
       "      <th>last_name</th>\n",
       "      <th>reg_date</th>\n",
       "      <th>tariff_name</th>\n",
       "      <th>month</th>\n",
       "      <th>calls</th>\n",
       "      <th>minutes</th>\n",
       "      <th>messages</th>\n",
       "    </tr>\n",
       "  </thead>\n",
       "  <tbody>\n",
       "    <tr>\n",
       "      <td>0</td>\n",
       "      <td>1000</td>\n",
       "      <td>52</td>\n",
       "      <td>2018-12-30</td>\n",
       "      <td>Краснодар</td>\n",
       "      <td>Рафаил</td>\n",
       "      <td>Верещагин</td>\n",
       "      <td>2018-05-25</td>\n",
       "      <td>ultra</td>\n",
       "      <td>2018-05-01</td>\n",
       "      <td>22.0</td>\n",
       "      <td>159.0</td>\n",
       "      <td>22.0</td>\n",
       "    </tr>\n",
       "    <tr>\n",
       "      <td>1</td>\n",
       "      <td>1000</td>\n",
       "      <td>52</td>\n",
       "      <td>2018-12-30</td>\n",
       "      <td>Краснодар</td>\n",
       "      <td>Рафаил</td>\n",
       "      <td>Верещагин</td>\n",
       "      <td>2018-05-25</td>\n",
       "      <td>ultra</td>\n",
       "      <td>2018-06-01</td>\n",
       "      <td>43.0</td>\n",
       "      <td>172.0</td>\n",
       "      <td>60.0</td>\n",
       "    </tr>\n",
       "    <tr>\n",
       "      <td>2</td>\n",
       "      <td>1000</td>\n",
       "      <td>52</td>\n",
       "      <td>2018-12-30</td>\n",
       "      <td>Краснодар</td>\n",
       "      <td>Рафаил</td>\n",
       "      <td>Верещагин</td>\n",
       "      <td>2018-05-25</td>\n",
       "      <td>ultra</td>\n",
       "      <td>2018-07-01</td>\n",
       "      <td>47.0</td>\n",
       "      <td>340.0</td>\n",
       "      <td>75.0</td>\n",
       "    </tr>\n",
       "    <tr>\n",
       "      <td>3</td>\n",
       "      <td>1000</td>\n",
       "      <td>52</td>\n",
       "      <td>2018-12-30</td>\n",
       "      <td>Краснодар</td>\n",
       "      <td>Рафаил</td>\n",
       "      <td>Верещагин</td>\n",
       "      <td>2018-05-25</td>\n",
       "      <td>ultra</td>\n",
       "      <td>2018-08-01</td>\n",
       "      <td>52.0</td>\n",
       "      <td>408.0</td>\n",
       "      <td>81.0</td>\n",
       "    </tr>\n",
       "    <tr>\n",
       "      <td>4</td>\n",
       "      <td>1000</td>\n",
       "      <td>52</td>\n",
       "      <td>2018-12-30</td>\n",
       "      <td>Краснодар</td>\n",
       "      <td>Рафаил</td>\n",
       "      <td>Верещагин</td>\n",
       "      <td>2018-05-25</td>\n",
       "      <td>ultra</td>\n",
       "      <td>2018-09-01</td>\n",
       "      <td>58.0</td>\n",
       "      <td>466.0</td>\n",
       "      <td>57.0</td>\n",
       "    </tr>\n",
       "  </tbody>\n",
       "</table>\n",
       "</div>"
      ],
      "text/plain": [
       "   user_id  age churn_date       city first_name  last_name   reg_date  \\\n",
       "0     1000   52 2018-12-30  Краснодар     Рафаил  Верещагин 2018-05-25   \n",
       "1     1000   52 2018-12-30  Краснодар     Рафаил  Верещагин 2018-05-25   \n",
       "2     1000   52 2018-12-30  Краснодар     Рафаил  Верещагин 2018-05-25   \n",
       "3     1000   52 2018-12-30  Краснодар     Рафаил  Верещагин 2018-05-25   \n",
       "4     1000   52 2018-12-30  Краснодар     Рафаил  Верещагин 2018-05-25   \n",
       "\n",
       "  tariff_name      month  calls  minutes  messages  \n",
       "0       ultra 2018-05-01   22.0    159.0      22.0  \n",
       "1       ultra 2018-06-01   43.0    172.0      60.0  \n",
       "2       ultra 2018-07-01   47.0    340.0      75.0  \n",
       "3       ultra 2018-08-01   52.0    408.0      81.0  \n",
       "4       ultra 2018-09-01   58.0    466.0      57.0  "
      ]
     },
     "execution_count": 55,
     "metadata": {},
     "output_type": "execute_result"
    }
   ],
   "source": [
    "df_users_merged = df_users_merged.merge(df_messages_groupped, on=['user_id', 'month'], how='left')\n",
    "df_users_merged.head()"
   ]
  },
  {
   "cell_type": "markdown",
   "metadata": {},
   "source": [
    "### Объем израсходованного интернет-трафика по месяцам;"
   ]
  },
  {
   "cell_type": "markdown",
   "metadata": {},
   "source": [
    "Создадим еще один датафрейм `df_internet_groupped` и добавим в него сгруппированные данные, сбросим индексы и переименуем названия колонок."
   ]
  },
  {
   "cell_type": "code",
   "execution_count": 56,
   "metadata": {
    "scrolled": false
   },
   "outputs": [
    {
     "data": {
      "text/html": [
       "<div>\n",
       "<style scoped>\n",
       "    .dataframe tbody tr th:only-of-type {\n",
       "        vertical-align: middle;\n",
       "    }\n",
       "\n",
       "    .dataframe tbody tr th {\n",
       "        vertical-align: top;\n",
       "    }\n",
       "\n",
       "    .dataframe thead th {\n",
       "        text-align: right;\n",
       "    }\n",
       "</style>\n",
       "<table border=\"1\" class=\"dataframe\">\n",
       "  <thead>\n",
       "    <tr style=\"text-align: right;\">\n",
       "      <th></th>\n",
       "      <th>user_id</th>\n",
       "      <th>month</th>\n",
       "      <th>sessions</th>\n",
       "      <th>used_mb</th>\n",
       "    </tr>\n",
       "  </thead>\n",
       "  <tbody>\n",
       "    <tr>\n",
       "      <td>0</td>\n",
       "      <td>1000</td>\n",
       "      <td>2018-05-01</td>\n",
       "      <td>5</td>\n",
       "      <td>2253.489990</td>\n",
       "    </tr>\n",
       "    <tr>\n",
       "      <td>1</td>\n",
       "      <td>1000</td>\n",
       "      <td>2018-06-01</td>\n",
       "      <td>49</td>\n",
       "      <td>23233.769531</td>\n",
       "    </tr>\n",
       "    <tr>\n",
       "      <td>2</td>\n",
       "      <td>1000</td>\n",
       "      <td>2018-07-01</td>\n",
       "      <td>29</td>\n",
       "      <td>14003.639648</td>\n",
       "    </tr>\n",
       "    <tr>\n",
       "      <td>3</td>\n",
       "      <td>1000</td>\n",
       "      <td>2018-08-01</td>\n",
       "      <td>29</td>\n",
       "      <td>14055.929688</td>\n",
       "    </tr>\n",
       "    <tr>\n",
       "      <td>4</td>\n",
       "      <td>1000</td>\n",
       "      <td>2018-09-01</td>\n",
       "      <td>27</td>\n",
       "      <td>14568.910156</td>\n",
       "    </tr>\n",
       "  </tbody>\n",
       "</table>\n",
       "</div>"
      ],
      "text/plain": [
       "   user_id      month  sessions       used_mb\n",
       "0     1000 2018-05-01         5   2253.489990\n",
       "1     1000 2018-06-01        49  23233.769531\n",
       "2     1000 2018-07-01        29  14003.639648\n",
       "3     1000 2018-08-01        29  14055.929688\n",
       "4     1000 2018-09-01        27  14568.910156"
      ]
     },
     "execution_count": 56,
     "metadata": {},
     "output_type": "execute_result"
    }
   ],
   "source": [
    "df_internet_groupped = df_internet.pivot_table(\n",
    "    index = ['user_id', 'month'],\n",
    "    values = 'mb_used',\n",
    "    aggfunc = ['count', 'sum']\n",
    ")\n",
    "df_internet_groupped.reset_index(inplace=True)\n",
    "df_internet_groupped.columns = [\"user_id\", \"month\", \"sessions\", \"used_mb\"]\n",
    "df_internet_groupped.head()"
   ]
  },
  {
   "cell_type": "markdown",
   "metadata": {},
   "source": [
    "Округлим мегабайти в верхнюю сторону согласно правилам оператора"
   ]
  },
  {
   "cell_type": "code",
   "execution_count": 57,
   "metadata": {},
   "outputs": [
    {
     "data": {
      "text/html": [
       "<div>\n",
       "<style scoped>\n",
       "    .dataframe tbody tr th:only-of-type {\n",
       "        vertical-align: middle;\n",
       "    }\n",
       "\n",
       "    .dataframe tbody tr th {\n",
       "        vertical-align: top;\n",
       "    }\n",
       "\n",
       "    .dataframe thead th {\n",
       "        text-align: right;\n",
       "    }\n",
       "</style>\n",
       "<table border=\"1\" class=\"dataframe\">\n",
       "  <thead>\n",
       "    <tr style=\"text-align: right;\">\n",
       "      <th></th>\n",
       "      <th>user_id</th>\n",
       "      <th>month</th>\n",
       "      <th>sessions</th>\n",
       "      <th>used_mb</th>\n",
       "    </tr>\n",
       "  </thead>\n",
       "  <tbody>\n",
       "    <tr>\n",
       "      <td>0</td>\n",
       "      <td>1000</td>\n",
       "      <td>2018-05-01</td>\n",
       "      <td>5</td>\n",
       "      <td>2254</td>\n",
       "    </tr>\n",
       "    <tr>\n",
       "      <td>1</td>\n",
       "      <td>1000</td>\n",
       "      <td>2018-06-01</td>\n",
       "      <td>49</td>\n",
       "      <td>23234</td>\n",
       "    </tr>\n",
       "    <tr>\n",
       "      <td>2</td>\n",
       "      <td>1000</td>\n",
       "      <td>2018-07-01</td>\n",
       "      <td>29</td>\n",
       "      <td>14004</td>\n",
       "    </tr>\n",
       "    <tr>\n",
       "      <td>3</td>\n",
       "      <td>1000</td>\n",
       "      <td>2018-08-01</td>\n",
       "      <td>29</td>\n",
       "      <td>14056</td>\n",
       "    </tr>\n",
       "    <tr>\n",
       "      <td>4</td>\n",
       "      <td>1000</td>\n",
       "      <td>2018-09-01</td>\n",
       "      <td>27</td>\n",
       "      <td>14569</td>\n",
       "    </tr>\n",
       "  </tbody>\n",
       "</table>\n",
       "</div>"
      ],
      "text/plain": [
       "   user_id      month  sessions  used_mb\n",
       "0     1000 2018-05-01         5     2254\n",
       "1     1000 2018-06-01        49    23234\n",
       "2     1000 2018-07-01        29    14004\n",
       "3     1000 2018-08-01        29    14056\n",
       "4     1000 2018-09-01        27    14569"
      ]
     },
     "execution_count": 57,
     "metadata": {},
     "output_type": "execute_result"
    }
   ],
   "source": [
    "round_ceil_to_int(df_internet_groupped, 'used_mb')\n",
    "df_internet_groupped.head()"
   ]
  },
  {
   "cell_type": "markdown",
   "metadata": {},
   "source": [
    "Как и предыдущие сгруппированные датафреймы, добавим `df_internet_groupped` к `df_users_merged` и так же объединим по `user_id` и `month`"
   ]
  },
  {
   "cell_type": "code",
   "execution_count": 58,
   "metadata": {},
   "outputs": [
    {
     "data": {
      "text/html": [
       "<div>\n",
       "<style scoped>\n",
       "    .dataframe tbody tr th:only-of-type {\n",
       "        vertical-align: middle;\n",
       "    }\n",
       "\n",
       "    .dataframe tbody tr th {\n",
       "        vertical-align: top;\n",
       "    }\n",
       "\n",
       "    .dataframe thead th {\n",
       "        text-align: right;\n",
       "    }\n",
       "</style>\n",
       "<table border=\"1\" class=\"dataframe\">\n",
       "  <thead>\n",
       "    <tr style=\"text-align: right;\">\n",
       "      <th></th>\n",
       "      <th>user_id</th>\n",
       "      <th>age</th>\n",
       "      <th>churn_date</th>\n",
       "      <th>city</th>\n",
       "      <th>first_name</th>\n",
       "      <th>last_name</th>\n",
       "      <th>reg_date</th>\n",
       "      <th>tariff_name</th>\n",
       "      <th>month</th>\n",
       "      <th>calls</th>\n",
       "      <th>minutes</th>\n",
       "      <th>messages</th>\n",
       "      <th>sessions</th>\n",
       "      <th>used_mb</th>\n",
       "    </tr>\n",
       "  </thead>\n",
       "  <tbody>\n",
       "    <tr>\n",
       "      <td>0</td>\n",
       "      <td>1000</td>\n",
       "      <td>52</td>\n",
       "      <td>2018-12-30</td>\n",
       "      <td>Краснодар</td>\n",
       "      <td>Рафаил</td>\n",
       "      <td>Верещагин</td>\n",
       "      <td>2018-05-25</td>\n",
       "      <td>ultra</td>\n",
       "      <td>2018-05-01</td>\n",
       "      <td>22.0</td>\n",
       "      <td>159.0</td>\n",
       "      <td>22.0</td>\n",
       "      <td>5.0</td>\n",
       "      <td>2254.0</td>\n",
       "    </tr>\n",
       "    <tr>\n",
       "      <td>1</td>\n",
       "      <td>1000</td>\n",
       "      <td>52</td>\n",
       "      <td>2018-12-30</td>\n",
       "      <td>Краснодар</td>\n",
       "      <td>Рафаил</td>\n",
       "      <td>Верещагин</td>\n",
       "      <td>2018-05-25</td>\n",
       "      <td>ultra</td>\n",
       "      <td>2018-06-01</td>\n",
       "      <td>43.0</td>\n",
       "      <td>172.0</td>\n",
       "      <td>60.0</td>\n",
       "      <td>49.0</td>\n",
       "      <td>23234.0</td>\n",
       "    </tr>\n",
       "    <tr>\n",
       "      <td>2</td>\n",
       "      <td>1000</td>\n",
       "      <td>52</td>\n",
       "      <td>2018-12-30</td>\n",
       "      <td>Краснодар</td>\n",
       "      <td>Рафаил</td>\n",
       "      <td>Верещагин</td>\n",
       "      <td>2018-05-25</td>\n",
       "      <td>ultra</td>\n",
       "      <td>2018-07-01</td>\n",
       "      <td>47.0</td>\n",
       "      <td>340.0</td>\n",
       "      <td>75.0</td>\n",
       "      <td>29.0</td>\n",
       "      <td>14004.0</td>\n",
       "    </tr>\n",
       "    <tr>\n",
       "      <td>3</td>\n",
       "      <td>1000</td>\n",
       "      <td>52</td>\n",
       "      <td>2018-12-30</td>\n",
       "      <td>Краснодар</td>\n",
       "      <td>Рафаил</td>\n",
       "      <td>Верещагин</td>\n",
       "      <td>2018-05-25</td>\n",
       "      <td>ultra</td>\n",
       "      <td>2018-08-01</td>\n",
       "      <td>52.0</td>\n",
       "      <td>408.0</td>\n",
       "      <td>81.0</td>\n",
       "      <td>29.0</td>\n",
       "      <td>14056.0</td>\n",
       "    </tr>\n",
       "    <tr>\n",
       "      <td>4</td>\n",
       "      <td>1000</td>\n",
       "      <td>52</td>\n",
       "      <td>2018-12-30</td>\n",
       "      <td>Краснодар</td>\n",
       "      <td>Рафаил</td>\n",
       "      <td>Верещагин</td>\n",
       "      <td>2018-05-25</td>\n",
       "      <td>ultra</td>\n",
       "      <td>2018-09-01</td>\n",
       "      <td>58.0</td>\n",
       "      <td>466.0</td>\n",
       "      <td>57.0</td>\n",
       "      <td>27.0</td>\n",
       "      <td>14569.0</td>\n",
       "    </tr>\n",
       "  </tbody>\n",
       "</table>\n",
       "</div>"
      ],
      "text/plain": [
       "   user_id  age churn_date       city first_name  last_name   reg_date  \\\n",
       "0     1000   52 2018-12-30  Краснодар     Рафаил  Верещагин 2018-05-25   \n",
       "1     1000   52 2018-12-30  Краснодар     Рафаил  Верещагин 2018-05-25   \n",
       "2     1000   52 2018-12-30  Краснодар     Рафаил  Верещагин 2018-05-25   \n",
       "3     1000   52 2018-12-30  Краснодар     Рафаил  Верещагин 2018-05-25   \n",
       "4     1000   52 2018-12-30  Краснодар     Рафаил  Верещагин 2018-05-25   \n",
       "\n",
       "  tariff_name      month  calls  minutes  messages  sessions  used_mb  \n",
       "0       ultra 2018-05-01   22.0    159.0      22.0       5.0   2254.0  \n",
       "1       ultra 2018-06-01   43.0    172.0      60.0      49.0  23234.0  \n",
       "2       ultra 2018-07-01   47.0    340.0      75.0      29.0  14004.0  \n",
       "3       ultra 2018-08-01   52.0    408.0      81.0      29.0  14056.0  \n",
       "4       ultra 2018-09-01   58.0    466.0      57.0      27.0  14569.0  "
      ]
     },
     "execution_count": 58,
     "metadata": {},
     "output_type": "execute_result"
    }
   ],
   "source": [
    "df_users_merged = df_users_merged.merge(df_internet_groupped, on=['user_id', 'month'], how='left')\n",
    "df_users_merged.head()"
   ]
  },
  {
   "cell_type": "markdown",
   "metadata": {},
   "source": [
    "Проверим датафрейм на наличие все новых пропусков"
   ]
  },
  {
   "cell_type": "code",
   "execution_count": 59,
   "metadata": {},
   "outputs": [
    {
     "data": {
      "text/plain": [
       "user_id          0\n",
       "age              0\n",
       "churn_date       0\n",
       "city             0\n",
       "first_name       0\n",
       "last_name        0\n",
       "reg_date         0\n",
       "tariff_name      0\n",
       "month            8\n",
       "calls            8\n",
       "minutes          8\n",
       "messages       504\n",
       "sessions        19\n",
       "used_mb         19\n",
       "dtype: int64"
      ]
     },
     "execution_count": 59,
     "metadata": {},
     "output_type": "execute_result"
    }
   ],
   "source": [
    "df_users_merged.isna().sum()"
   ]
  },
  {
   "cell_type": "markdown",
   "metadata": {},
   "source": [
    "Если пропуски для сессий интернета, смс или звонков можно объяснить неиспользованием этих сервисов абонентом, то вот отсутствие дат больше указывает на то, что абонент попросту не был активен совсем.  \n",
    "Проверим тех у кого есть пропуски в колонке `month`"
   ]
  },
  {
   "cell_type": "code",
   "execution_count": 60,
   "metadata": {},
   "outputs": [
    {
     "data": {
      "text/html": [
       "<div>\n",
       "<style scoped>\n",
       "    .dataframe tbody tr th:only-of-type {\n",
       "        vertical-align: middle;\n",
       "    }\n",
       "\n",
       "    .dataframe tbody tr th {\n",
       "        vertical-align: top;\n",
       "    }\n",
       "\n",
       "    .dataframe thead th {\n",
       "        text-align: right;\n",
       "    }\n",
       "</style>\n",
       "<table border=\"1\" class=\"dataframe\">\n",
       "  <thead>\n",
       "    <tr style=\"text-align: right;\">\n",
       "      <th></th>\n",
       "      <th>user_id</th>\n",
       "      <th>age</th>\n",
       "      <th>churn_date</th>\n",
       "      <th>city</th>\n",
       "      <th>first_name</th>\n",
       "      <th>last_name</th>\n",
       "      <th>reg_date</th>\n",
       "      <th>tariff_name</th>\n",
       "      <th>month</th>\n",
       "      <th>calls</th>\n",
       "      <th>minutes</th>\n",
       "      <th>messages</th>\n",
       "      <th>sessions</th>\n",
       "      <th>used_mb</th>\n",
       "    </tr>\n",
       "  </thead>\n",
       "  <tbody>\n",
       "    <tr>\n",
       "      <td>570</td>\n",
       "      <td>1091</td>\n",
       "      <td>36</td>\n",
       "      <td>2018-12-30</td>\n",
       "      <td>Набережные Челны</td>\n",
       "      <td>Вера</td>\n",
       "      <td>Суслова</td>\n",
       "      <td>2018-05-08</td>\n",
       "      <td>ultra</td>\n",
       "      <td>NaT</td>\n",
       "      <td>NaN</td>\n",
       "      <td>NaN</td>\n",
       "      <td>NaN</td>\n",
       "      <td>NaN</td>\n",
       "      <td>NaN</td>\n",
       "    </tr>\n",
       "    <tr>\n",
       "      <td>664</td>\n",
       "      <td>1106</td>\n",
       "      <td>67</td>\n",
       "      <td>2018-12-30</td>\n",
       "      <td>Калуга</td>\n",
       "      <td>Исаак</td>\n",
       "      <td>Костин</td>\n",
       "      <td>2018-04-26</td>\n",
       "      <td>ultra</td>\n",
       "      <td>NaT</td>\n",
       "      <td>NaN</td>\n",
       "      <td>NaN</td>\n",
       "      <td>NaN</td>\n",
       "      <td>NaN</td>\n",
       "      <td>NaN</td>\n",
       "    </tr>\n",
       "    <tr>\n",
       "      <td>812</td>\n",
       "      <td>1128</td>\n",
       "      <td>51</td>\n",
       "      <td>2018-12-23</td>\n",
       "      <td>Волжский</td>\n",
       "      <td>Ксения</td>\n",
       "      <td>Агаева</td>\n",
       "      <td>2018-12-15</td>\n",
       "      <td>ultra</td>\n",
       "      <td>NaT</td>\n",
       "      <td>NaN</td>\n",
       "      <td>NaN</td>\n",
       "      <td>NaN</td>\n",
       "      <td>NaN</td>\n",
       "      <td>NaN</td>\n",
       "    </tr>\n",
       "    <tr>\n",
       "      <td>1460</td>\n",
       "      <td>1231</td>\n",
       "      <td>63</td>\n",
       "      <td>2018-12-30</td>\n",
       "      <td>Чебоксары</td>\n",
       "      <td>Касьян</td>\n",
       "      <td>Авдюков</td>\n",
       "      <td>2018-05-23</td>\n",
       "      <td>ultra</td>\n",
       "      <td>NaT</td>\n",
       "      <td>NaN</td>\n",
       "      <td>NaN</td>\n",
       "      <td>NaN</td>\n",
       "      <td>NaN</td>\n",
       "      <td>NaN</td>\n",
       "    </tr>\n",
       "    <tr>\n",
       "      <td>2061</td>\n",
       "      <td>1328</td>\n",
       "      <td>44</td>\n",
       "      <td>2018-12-30</td>\n",
       "      <td>Мурманск</td>\n",
       "      <td>Рауль</td>\n",
       "      <td>Аркадьев</td>\n",
       "      <td>2018-10-16</td>\n",
       "      <td>ultra</td>\n",
       "      <td>NaT</td>\n",
       "      <td>NaN</td>\n",
       "      <td>NaN</td>\n",
       "      <td>NaN</td>\n",
       "      <td>NaN</td>\n",
       "      <td>NaN</td>\n",
       "    </tr>\n",
       "    <tr>\n",
       "      <td>2311</td>\n",
       "      <td>1371</td>\n",
       "      <td>50</td>\n",
       "      <td>2018-12-30</td>\n",
       "      <td>Омск</td>\n",
       "      <td>Ириней</td>\n",
       "      <td>Трофимов</td>\n",
       "      <td>2018-12-25</td>\n",
       "      <td>smart</td>\n",
       "      <td>NaT</td>\n",
       "      <td>NaN</td>\n",
       "      <td>NaN</td>\n",
       "      <td>NaN</td>\n",
       "      <td>NaN</td>\n",
       "      <td>NaN</td>\n",
       "    </tr>\n",
       "    <tr>\n",
       "      <td>3022</td>\n",
       "      <td>1473</td>\n",
       "      <td>18</td>\n",
       "      <td>2018-12-30</td>\n",
       "      <td>Красноярск</td>\n",
       "      <td>Николай</td>\n",
       "      <td>Лебедев</td>\n",
       "      <td>2018-08-05</td>\n",
       "      <td>ultra</td>\n",
       "      <td>NaT</td>\n",
       "      <td>NaN</td>\n",
       "      <td>NaN</td>\n",
       "      <td>NaN</td>\n",
       "      <td>NaN</td>\n",
       "      <td>NaN</td>\n",
       "    </tr>\n",
       "    <tr>\n",
       "      <td>3121</td>\n",
       "      <td>1489</td>\n",
       "      <td>35</td>\n",
       "      <td>2018-12-30</td>\n",
       "      <td>Санкт-Петербург</td>\n",
       "      <td>Павел</td>\n",
       "      <td>Гончаров</td>\n",
       "      <td>2018-08-15</td>\n",
       "      <td>smart</td>\n",
       "      <td>NaT</td>\n",
       "      <td>NaN</td>\n",
       "      <td>NaN</td>\n",
       "      <td>NaN</td>\n",
       "      <td>NaN</td>\n",
       "      <td>NaN</td>\n",
       "    </tr>\n",
       "  </tbody>\n",
       "</table>\n",
       "</div>"
      ],
      "text/plain": [
       "      user_id  age churn_date              city first_name last_name  \\\n",
       "570      1091   36 2018-12-30  Набережные Челны       Вера   Суслова   \n",
       "664      1106   67 2018-12-30            Калуга      Исаак    Костин   \n",
       "812      1128   51 2018-12-23          Волжский     Ксения    Агаева   \n",
       "1460     1231   63 2018-12-30         Чебоксары     Касьян   Авдюков   \n",
       "2061     1328   44 2018-12-30          Мурманск      Рауль  Аркадьев   \n",
       "2311     1371   50 2018-12-30              Омск     Ириней  Трофимов   \n",
       "3022     1473   18 2018-12-30        Красноярск    Николай   Лебедев   \n",
       "3121     1489   35 2018-12-30   Санкт-Петербург      Павел  Гончаров   \n",
       "\n",
       "       reg_date tariff_name month  calls  minutes  messages  sessions  used_mb  \n",
       "570  2018-05-08       ultra   NaT    NaN      NaN       NaN       NaN      NaN  \n",
       "664  2018-04-26       ultra   NaT    NaN      NaN       NaN       NaN      NaN  \n",
       "812  2018-12-15       ultra   NaT    NaN      NaN       NaN       NaN      NaN  \n",
       "1460 2018-05-23       ultra   NaT    NaN      NaN       NaN       NaN      NaN  \n",
       "2061 2018-10-16       ultra   NaT    NaN      NaN       NaN       NaN      NaN  \n",
       "2311 2018-12-25       smart   NaT    NaN      NaN       NaN       NaN      NaN  \n",
       "3022 2018-08-05       ultra   NaT    NaN      NaN       NaN       NaN      NaN  \n",
       "3121 2018-08-15       smart   NaT    NaN      NaN       NaN       NaN      NaN  "
      ]
     },
     "execution_count": 60,
     "metadata": {},
     "output_type": "execute_result"
    }
   ],
   "source": [
    "df_users_merged.query('month == \"NaN\"')"
   ]
  },
  {
   "cell_type": "markdown",
   "metadata": {},
   "source": [
    "8 абонентов с нулевой активностью по какому либо сервису.  \n",
    "Такое вполне допустимо, абонент мог подключить номер но получать только входящие звонки, например пожилой человек, которому звонят родственники. Или номер привязан к банковскому аккаунту, лишь для получения смс уведомлений.  \n",
    "Отбросить такие данные мы не можем, потому что они все равно платят абонентскую плату, хоть и не используют включенные в тариф или дополнительные услуги.  \n",
    "Считаю что пропуски стоит заполнить нулями `0`, для сессий интернета, смс или звонков это вполне допустимо.  \n",
    "Но вот нулевого месяца нет, будем считать что выручка за нулевой месяц от особой категории абонентов."
   ]
  },
  {
   "cell_type": "code",
   "execution_count": 61,
   "metadata": {},
   "outputs": [],
   "source": [
    "df_users_merged = df_users_merged.fillna({'month':'2018-01-01'}).fillna(0)"
   ]
  },
  {
   "cell_type": "code",
   "execution_count": 62,
   "metadata": {},
   "outputs": [],
   "source": [
    "df_users_merged[\"month\"] = df_internet[\"month\"].astype('datetime64[M]')"
   ]
  },
  {
   "cell_type": "code",
   "execution_count": 63,
   "metadata": {},
   "outputs": [
    {
     "data": {
      "text/plain": [
       "user_id        0\n",
       "age            0\n",
       "churn_date     0\n",
       "city           0\n",
       "first_name     0\n",
       "last_name      0\n",
       "reg_date       0\n",
       "tariff_name    0\n",
       "month          0\n",
       "calls          0\n",
       "minutes        0\n",
       "messages       0\n",
       "sessions       0\n",
       "used_mb        0\n",
       "dtype: int64"
      ]
     },
     "execution_count": 63,
     "metadata": {},
     "output_type": "execute_result"
    }
   ],
   "source": [
    "df_users_merged.isna().sum()"
   ]
  },
  {
   "cell_type": "code",
   "execution_count": 64,
   "metadata": {},
   "outputs": [
    {
     "data": {
      "text/html": [
       "<div>\n",
       "<style scoped>\n",
       "    .dataframe tbody tr th:only-of-type {\n",
       "        vertical-align: middle;\n",
       "    }\n",
       "\n",
       "    .dataframe tbody tr th {\n",
       "        vertical-align: top;\n",
       "    }\n",
       "\n",
       "    .dataframe thead th {\n",
       "        text-align: right;\n",
       "    }\n",
       "</style>\n",
       "<table border=\"1\" class=\"dataframe\">\n",
       "  <thead>\n",
       "    <tr style=\"text-align: right;\">\n",
       "      <th></th>\n",
       "      <th>user_id</th>\n",
       "      <th>age</th>\n",
       "      <th>churn_date</th>\n",
       "      <th>city</th>\n",
       "      <th>first_name</th>\n",
       "      <th>last_name</th>\n",
       "      <th>reg_date</th>\n",
       "      <th>tariff_name</th>\n",
       "      <th>month</th>\n",
       "      <th>calls</th>\n",
       "      <th>minutes</th>\n",
       "      <th>messages</th>\n",
       "      <th>sessions</th>\n",
       "      <th>used_mb</th>\n",
       "    </tr>\n",
       "  </thead>\n",
       "  <tbody>\n",
       "    <tr>\n",
       "      <td>0</td>\n",
       "      <td>1000</td>\n",
       "      <td>52</td>\n",
       "      <td>2018-12-30</td>\n",
       "      <td>Краснодар</td>\n",
       "      <td>Рафаил</td>\n",
       "      <td>Верещагин</td>\n",
       "      <td>2018-05-25</td>\n",
       "      <td>ultra</td>\n",
       "      <td>2018-11-01</td>\n",
       "      <td>22.0</td>\n",
       "      <td>159.0</td>\n",
       "      <td>22.0</td>\n",
       "      <td>5.0</td>\n",
       "      <td>2254.0</td>\n",
       "    </tr>\n",
       "    <tr>\n",
       "      <td>1</td>\n",
       "      <td>1000</td>\n",
       "      <td>52</td>\n",
       "      <td>2018-12-30</td>\n",
       "      <td>Краснодар</td>\n",
       "      <td>Рафаил</td>\n",
       "      <td>Верещагин</td>\n",
       "      <td>2018-05-25</td>\n",
       "      <td>ultra</td>\n",
       "      <td>2018-09-01</td>\n",
       "      <td>43.0</td>\n",
       "      <td>172.0</td>\n",
       "      <td>60.0</td>\n",
       "      <td>49.0</td>\n",
       "      <td>23234.0</td>\n",
       "    </tr>\n",
       "    <tr>\n",
       "      <td>2</td>\n",
       "      <td>1000</td>\n",
       "      <td>52</td>\n",
       "      <td>2018-12-30</td>\n",
       "      <td>Краснодар</td>\n",
       "      <td>Рафаил</td>\n",
       "      <td>Верещагин</td>\n",
       "      <td>2018-05-25</td>\n",
       "      <td>ultra</td>\n",
       "      <td>2018-06-01</td>\n",
       "      <td>47.0</td>\n",
       "      <td>340.0</td>\n",
       "      <td>75.0</td>\n",
       "      <td>29.0</td>\n",
       "      <td>14004.0</td>\n",
       "    </tr>\n",
       "    <tr>\n",
       "      <td>3</td>\n",
       "      <td>1000</td>\n",
       "      <td>52</td>\n",
       "      <td>2018-12-30</td>\n",
       "      <td>Краснодар</td>\n",
       "      <td>Рафаил</td>\n",
       "      <td>Верещагин</td>\n",
       "      <td>2018-05-25</td>\n",
       "      <td>ultra</td>\n",
       "      <td>2018-08-01</td>\n",
       "      <td>52.0</td>\n",
       "      <td>408.0</td>\n",
       "      <td>81.0</td>\n",
       "      <td>29.0</td>\n",
       "      <td>14056.0</td>\n",
       "    </tr>\n",
       "    <tr>\n",
       "      <td>4</td>\n",
       "      <td>1000</td>\n",
       "      <td>52</td>\n",
       "      <td>2018-12-30</td>\n",
       "      <td>Краснодар</td>\n",
       "      <td>Рафаил</td>\n",
       "      <td>Верещагин</td>\n",
       "      <td>2018-05-25</td>\n",
       "      <td>ultra</td>\n",
       "      <td>2018-09-01</td>\n",
       "      <td>58.0</td>\n",
       "      <td>466.0</td>\n",
       "      <td>57.0</td>\n",
       "      <td>27.0</td>\n",
       "      <td>14569.0</td>\n",
       "    </tr>\n",
       "  </tbody>\n",
       "</table>\n",
       "</div>"
      ],
      "text/plain": [
       "   user_id  age churn_date       city first_name  last_name   reg_date  \\\n",
       "0     1000   52 2018-12-30  Краснодар     Рафаил  Верещагин 2018-05-25   \n",
       "1     1000   52 2018-12-30  Краснодар     Рафаил  Верещагин 2018-05-25   \n",
       "2     1000   52 2018-12-30  Краснодар     Рафаил  Верещагин 2018-05-25   \n",
       "3     1000   52 2018-12-30  Краснодар     Рафаил  Верещагин 2018-05-25   \n",
       "4     1000   52 2018-12-30  Краснодар     Рафаил  Верещагин 2018-05-25   \n",
       "\n",
       "  tariff_name      month  calls  minutes  messages  sessions  used_mb  \n",
       "0       ultra 2018-11-01   22.0    159.0      22.0       5.0   2254.0  \n",
       "1       ultra 2018-09-01   43.0    172.0      60.0      49.0  23234.0  \n",
       "2       ultra 2018-06-01   47.0    340.0      75.0      29.0  14004.0  \n",
       "3       ultra 2018-08-01   52.0    408.0      81.0      29.0  14056.0  \n",
       "4       ultra 2018-09-01   58.0    466.0      57.0      27.0  14569.0  "
      ]
     },
     "execution_count": 64,
     "metadata": {},
     "output_type": "execute_result"
    }
   ],
   "source": [
    "df_users_merged.head()"
   ]
  },
  {
   "cell_type": "markdown",
   "metadata": {},
   "source": [
    "Пропуски заполнены, теперь в колонках `calls`, `minutes`, `messages`, `sessions`, `used_mb` можно изменить тип данных  \n",
    "Создадим функцию `series_to_int` для групповой смены типов данных в 5 колонках, названия которых поместим в отдельный список `merged_series_list` и применим эту функцию к датафрейму `df_users_merged`"
   ]
  },
  {
   "cell_type": "code",
   "execution_count": 65,
   "metadata": {},
   "outputs": [],
   "source": [
    "def series_to_int(dataframe, series_list):\n",
    "    for series in series_list:\n",
    "        dataframe[series] = dataframe[series].astype('int')"
   ]
  },
  {
   "cell_type": "code",
   "execution_count": 66,
   "metadata": {},
   "outputs": [],
   "source": [
    "merged_series_list = ['calls', 'minutes', 'messages', 'sessions', 'used_mb']\n",
    "series_to_int(df_users_merged, merged_series_list)"
   ]
  },
  {
   "cell_type": "code",
   "execution_count": 67,
   "metadata": {},
   "outputs": [
    {
     "data": {
      "text/html": [
       "<div>\n",
       "<style scoped>\n",
       "    .dataframe tbody tr th:only-of-type {\n",
       "        vertical-align: middle;\n",
       "    }\n",
       "\n",
       "    .dataframe tbody tr th {\n",
       "        vertical-align: top;\n",
       "    }\n",
       "\n",
       "    .dataframe thead th {\n",
       "        text-align: right;\n",
       "    }\n",
       "</style>\n",
       "<table border=\"1\" class=\"dataframe\">\n",
       "  <thead>\n",
       "    <tr style=\"text-align: right;\">\n",
       "      <th></th>\n",
       "      <th>user_id</th>\n",
       "      <th>age</th>\n",
       "      <th>churn_date</th>\n",
       "      <th>city</th>\n",
       "      <th>first_name</th>\n",
       "      <th>last_name</th>\n",
       "      <th>reg_date</th>\n",
       "      <th>tariff_name</th>\n",
       "      <th>month</th>\n",
       "      <th>calls</th>\n",
       "      <th>minutes</th>\n",
       "      <th>messages</th>\n",
       "      <th>sessions</th>\n",
       "      <th>used_mb</th>\n",
       "    </tr>\n",
       "  </thead>\n",
       "  <tbody>\n",
       "    <tr>\n",
       "      <td>0</td>\n",
       "      <td>1000</td>\n",
       "      <td>52</td>\n",
       "      <td>2018-12-30</td>\n",
       "      <td>Краснодар</td>\n",
       "      <td>Рафаил</td>\n",
       "      <td>Верещагин</td>\n",
       "      <td>2018-05-25</td>\n",
       "      <td>ultra</td>\n",
       "      <td>2018-11-01</td>\n",
       "      <td>22</td>\n",
       "      <td>159</td>\n",
       "      <td>22</td>\n",
       "      <td>5</td>\n",
       "      <td>2254</td>\n",
       "    </tr>\n",
       "    <tr>\n",
       "      <td>1</td>\n",
       "      <td>1000</td>\n",
       "      <td>52</td>\n",
       "      <td>2018-12-30</td>\n",
       "      <td>Краснодар</td>\n",
       "      <td>Рафаил</td>\n",
       "      <td>Верещагин</td>\n",
       "      <td>2018-05-25</td>\n",
       "      <td>ultra</td>\n",
       "      <td>2018-09-01</td>\n",
       "      <td>43</td>\n",
       "      <td>172</td>\n",
       "      <td>60</td>\n",
       "      <td>49</td>\n",
       "      <td>23234</td>\n",
       "    </tr>\n",
       "    <tr>\n",
       "      <td>2</td>\n",
       "      <td>1000</td>\n",
       "      <td>52</td>\n",
       "      <td>2018-12-30</td>\n",
       "      <td>Краснодар</td>\n",
       "      <td>Рафаил</td>\n",
       "      <td>Верещагин</td>\n",
       "      <td>2018-05-25</td>\n",
       "      <td>ultra</td>\n",
       "      <td>2018-06-01</td>\n",
       "      <td>47</td>\n",
       "      <td>340</td>\n",
       "      <td>75</td>\n",
       "      <td>29</td>\n",
       "      <td>14004</td>\n",
       "    </tr>\n",
       "    <tr>\n",
       "      <td>3</td>\n",
       "      <td>1000</td>\n",
       "      <td>52</td>\n",
       "      <td>2018-12-30</td>\n",
       "      <td>Краснодар</td>\n",
       "      <td>Рафаил</td>\n",
       "      <td>Верещагин</td>\n",
       "      <td>2018-05-25</td>\n",
       "      <td>ultra</td>\n",
       "      <td>2018-08-01</td>\n",
       "      <td>52</td>\n",
       "      <td>408</td>\n",
       "      <td>81</td>\n",
       "      <td>29</td>\n",
       "      <td>14056</td>\n",
       "    </tr>\n",
       "    <tr>\n",
       "      <td>4</td>\n",
       "      <td>1000</td>\n",
       "      <td>52</td>\n",
       "      <td>2018-12-30</td>\n",
       "      <td>Краснодар</td>\n",
       "      <td>Рафаил</td>\n",
       "      <td>Верещагин</td>\n",
       "      <td>2018-05-25</td>\n",
       "      <td>ultra</td>\n",
       "      <td>2018-09-01</td>\n",
       "      <td>58</td>\n",
       "      <td>466</td>\n",
       "      <td>57</td>\n",
       "      <td>27</td>\n",
       "      <td>14569</td>\n",
       "    </tr>\n",
       "  </tbody>\n",
       "</table>\n",
       "</div>"
      ],
      "text/plain": [
       "   user_id  age churn_date       city first_name  last_name   reg_date  \\\n",
       "0     1000   52 2018-12-30  Краснодар     Рафаил  Верещагин 2018-05-25   \n",
       "1     1000   52 2018-12-30  Краснодар     Рафаил  Верещагин 2018-05-25   \n",
       "2     1000   52 2018-12-30  Краснодар     Рафаил  Верещагин 2018-05-25   \n",
       "3     1000   52 2018-12-30  Краснодар     Рафаил  Верещагин 2018-05-25   \n",
       "4     1000   52 2018-12-30  Краснодар     Рафаил  Верещагин 2018-05-25   \n",
       "\n",
       "  tariff_name      month  calls  minutes  messages  sessions  used_mb  \n",
       "0       ultra 2018-11-01     22      159        22         5     2254  \n",
       "1       ultra 2018-09-01     43      172        60        49    23234  \n",
       "2       ultra 2018-06-01     47      340        75        29    14004  \n",
       "3       ultra 2018-08-01     52      408        81        29    14056  \n",
       "4       ultra 2018-09-01     58      466        57        27    14569  "
      ]
     },
     "execution_count": 67,
     "metadata": {},
     "output_type": "execute_result"
    }
   ],
   "source": [
    "df_users_merged.head()"
   ]
  },
  {
   "cell_type": "markdown",
   "metadata": {},
   "source": [
    "### Помесячная выручка с каждого пользователя"
   ]
  },
  {
   "cell_type": "markdown",
   "metadata": {},
   "source": [
    "Чтобы посчитать выручку, добавим к `df_users_merged` датафрейм `df_tariffs` с описанием тарифов, датафреймы объединим по значению колонки `tariff_name`"
   ]
  },
  {
   "cell_type": "code",
   "execution_count": 68,
   "metadata": {},
   "outputs": [],
   "source": [
    "df_users_merged = df_users_merged.merge(df_tariffs, on='tariff_name', how='left')"
   ]
  },
  {
   "cell_type": "code",
   "execution_count": 69,
   "metadata": {},
   "outputs": [
    {
     "data": {
      "text/html": [
       "<div>\n",
       "<style scoped>\n",
       "    .dataframe tbody tr th:only-of-type {\n",
       "        vertical-align: middle;\n",
       "    }\n",
       "\n",
       "    .dataframe tbody tr th {\n",
       "        vertical-align: top;\n",
       "    }\n",
       "\n",
       "    .dataframe thead th {\n",
       "        text-align: right;\n",
       "    }\n",
       "</style>\n",
       "<table border=\"1\" class=\"dataframe\">\n",
       "  <thead>\n",
       "    <tr style=\"text-align: right;\">\n",
       "      <th></th>\n",
       "      <th>user_id</th>\n",
       "      <th>age</th>\n",
       "      <th>churn_date</th>\n",
       "      <th>city</th>\n",
       "      <th>first_name</th>\n",
       "      <th>last_name</th>\n",
       "      <th>reg_date</th>\n",
       "      <th>tariff_name</th>\n",
       "      <th>month</th>\n",
       "      <th>calls</th>\n",
       "      <th>minutes</th>\n",
       "      <th>messages</th>\n",
       "      <th>sessions</th>\n",
       "      <th>used_mb</th>\n",
       "      <th>messages_included</th>\n",
       "      <th>mb_per_month_included</th>\n",
       "      <th>minutes_included</th>\n",
       "      <th>rub_monthly_fee</th>\n",
       "      <th>rub_per_gb</th>\n",
       "      <th>rub_per_message</th>\n",
       "      <th>rub_per_minute</th>\n",
       "    </tr>\n",
       "  </thead>\n",
       "  <tbody>\n",
       "    <tr>\n",
       "      <td>0</td>\n",
       "      <td>1000</td>\n",
       "      <td>52</td>\n",
       "      <td>2018-12-30</td>\n",
       "      <td>Краснодар</td>\n",
       "      <td>Рафаил</td>\n",
       "      <td>Верещагин</td>\n",
       "      <td>2018-05-25</td>\n",
       "      <td>ultra</td>\n",
       "      <td>2018-11-01</td>\n",
       "      <td>22</td>\n",
       "      <td>159</td>\n",
       "      <td>22</td>\n",
       "      <td>5</td>\n",
       "      <td>2254</td>\n",
       "      <td>1000</td>\n",
       "      <td>30720</td>\n",
       "      <td>3000</td>\n",
       "      <td>1950</td>\n",
       "      <td>150</td>\n",
       "      <td>1</td>\n",
       "      <td>1</td>\n",
       "    </tr>\n",
       "    <tr>\n",
       "      <td>1</td>\n",
       "      <td>1000</td>\n",
       "      <td>52</td>\n",
       "      <td>2018-12-30</td>\n",
       "      <td>Краснодар</td>\n",
       "      <td>Рафаил</td>\n",
       "      <td>Верещагин</td>\n",
       "      <td>2018-05-25</td>\n",
       "      <td>ultra</td>\n",
       "      <td>2018-09-01</td>\n",
       "      <td>43</td>\n",
       "      <td>172</td>\n",
       "      <td>60</td>\n",
       "      <td>49</td>\n",
       "      <td>23234</td>\n",
       "      <td>1000</td>\n",
       "      <td>30720</td>\n",
       "      <td>3000</td>\n",
       "      <td>1950</td>\n",
       "      <td>150</td>\n",
       "      <td>1</td>\n",
       "      <td>1</td>\n",
       "    </tr>\n",
       "    <tr>\n",
       "      <td>2</td>\n",
       "      <td>1000</td>\n",
       "      <td>52</td>\n",
       "      <td>2018-12-30</td>\n",
       "      <td>Краснодар</td>\n",
       "      <td>Рафаил</td>\n",
       "      <td>Верещагин</td>\n",
       "      <td>2018-05-25</td>\n",
       "      <td>ultra</td>\n",
       "      <td>2018-06-01</td>\n",
       "      <td>47</td>\n",
       "      <td>340</td>\n",
       "      <td>75</td>\n",
       "      <td>29</td>\n",
       "      <td>14004</td>\n",
       "      <td>1000</td>\n",
       "      <td>30720</td>\n",
       "      <td>3000</td>\n",
       "      <td>1950</td>\n",
       "      <td>150</td>\n",
       "      <td>1</td>\n",
       "      <td>1</td>\n",
       "    </tr>\n",
       "    <tr>\n",
       "      <td>3</td>\n",
       "      <td>1000</td>\n",
       "      <td>52</td>\n",
       "      <td>2018-12-30</td>\n",
       "      <td>Краснодар</td>\n",
       "      <td>Рафаил</td>\n",
       "      <td>Верещагин</td>\n",
       "      <td>2018-05-25</td>\n",
       "      <td>ultra</td>\n",
       "      <td>2018-08-01</td>\n",
       "      <td>52</td>\n",
       "      <td>408</td>\n",
       "      <td>81</td>\n",
       "      <td>29</td>\n",
       "      <td>14056</td>\n",
       "      <td>1000</td>\n",
       "      <td>30720</td>\n",
       "      <td>3000</td>\n",
       "      <td>1950</td>\n",
       "      <td>150</td>\n",
       "      <td>1</td>\n",
       "      <td>1</td>\n",
       "    </tr>\n",
       "    <tr>\n",
       "      <td>4</td>\n",
       "      <td>1000</td>\n",
       "      <td>52</td>\n",
       "      <td>2018-12-30</td>\n",
       "      <td>Краснодар</td>\n",
       "      <td>Рафаил</td>\n",
       "      <td>Верещагин</td>\n",
       "      <td>2018-05-25</td>\n",
       "      <td>ultra</td>\n",
       "      <td>2018-09-01</td>\n",
       "      <td>58</td>\n",
       "      <td>466</td>\n",
       "      <td>57</td>\n",
       "      <td>27</td>\n",
       "      <td>14569</td>\n",
       "      <td>1000</td>\n",
       "      <td>30720</td>\n",
       "      <td>3000</td>\n",
       "      <td>1950</td>\n",
       "      <td>150</td>\n",
       "      <td>1</td>\n",
       "      <td>1</td>\n",
       "    </tr>\n",
       "  </tbody>\n",
       "</table>\n",
       "</div>"
      ],
      "text/plain": [
       "   user_id  age churn_date       city first_name  last_name   reg_date  \\\n",
       "0     1000   52 2018-12-30  Краснодар     Рафаил  Верещагин 2018-05-25   \n",
       "1     1000   52 2018-12-30  Краснодар     Рафаил  Верещагин 2018-05-25   \n",
       "2     1000   52 2018-12-30  Краснодар     Рафаил  Верещагин 2018-05-25   \n",
       "3     1000   52 2018-12-30  Краснодар     Рафаил  Верещагин 2018-05-25   \n",
       "4     1000   52 2018-12-30  Краснодар     Рафаил  Верещагин 2018-05-25   \n",
       "\n",
       "  tariff_name      month  calls  minutes  messages  sessions  used_mb  \\\n",
       "0       ultra 2018-11-01     22      159        22         5     2254   \n",
       "1       ultra 2018-09-01     43      172        60        49    23234   \n",
       "2       ultra 2018-06-01     47      340        75        29    14004   \n",
       "3       ultra 2018-08-01     52      408        81        29    14056   \n",
       "4       ultra 2018-09-01     58      466        57        27    14569   \n",
       "\n",
       "   messages_included  mb_per_month_included  minutes_included  \\\n",
       "0               1000                  30720              3000   \n",
       "1               1000                  30720              3000   \n",
       "2               1000                  30720              3000   \n",
       "3               1000                  30720              3000   \n",
       "4               1000                  30720              3000   \n",
       "\n",
       "   rub_monthly_fee  rub_per_gb  rub_per_message  rub_per_minute  \n",
       "0             1950         150                1               1  \n",
       "1             1950         150                1               1  \n",
       "2             1950         150                1               1  \n",
       "3             1950         150                1               1  \n",
       "4             1950         150                1               1  "
      ]
     },
     "execution_count": 69,
     "metadata": {},
     "output_type": "execute_result"
    }
   ],
   "source": [
    "df_users_merged.head()"
   ]
  },
  {
   "cell_type": "markdown",
   "metadata": {},
   "source": [
    "- Вычтем бесплатный лимит из суммарного количества звонков, сообщений и интернет-трафика.  \n",
    "- Остаток умножим на значение из тарифного плана.  \n",
    "- Прибавим абонентскую плату, согласно тарифу пользователя.  \n",
    "\n",
    "Создадим функцию `revenue_calculation` для подсчета дохода, пройдемся по каждой строке пользователя, которая содержит данные за месяц.  \n",
    "Сначала найдем остаток минут, мегабайт и сообщений от предоставленного тарифом пакета. Все что было использованно сверх пакета, посчитаем согласно текущему тарифу пользователя и суммируем все с абонентской платой. "
   ]
  },
  {
   "cell_type": "code",
   "execution_count": 70,
   "metadata": {},
   "outputs": [],
   "source": [
    "def revenue_calculation(row):\n",
    "    minutes_left = row['minutes'] - row['minutes_included']\n",
    "    if minutes_left > 0:\n",
    "        minutes_revenue = minutes_left * row['rub_per_minute']\n",
    "    else:\n",
    "        minutes_revenue = 0\n",
    "    \n",
    "\n",
    "    mb_left = row['used_mb'] - row['mb_per_month_included']\n",
    "    if mb_left > 0:\n",
    "        internet_revenue = (mb_left  / 1024) * row['rub_per_gb']\n",
    "    else:\n",
    "        internet_revenue = 0\n",
    "    \n",
    "    \n",
    "    messages_left = row['messages'] - row['messages_included']\n",
    "    if messages_left > 0:\n",
    "        messages_revenue = messages_left * row['rub_per_message']\n",
    "    else:\n",
    "        messages_revenue = 0\n",
    "    \n",
    "    return int((minutes_revenue + internet_revenue + messages_revenue + row['rub_monthly_fee']))\n"
   ]
  },
  {
   "cell_type": "markdown",
   "metadata": {},
   "source": [
    "Применим функцию подсчета дохода и запишем результаты в новую колонку `total_revenue`"
   ]
  },
  {
   "cell_type": "code",
   "execution_count": 71,
   "metadata": {},
   "outputs": [],
   "source": [
    "df_users_merged['total_revenue'] = df_users_merged.apply(revenue_calculation, axis=1)"
   ]
  },
  {
   "cell_type": "markdown",
   "metadata": {},
   "source": [
    "Выведем на экран случайные 5 записей"
   ]
  },
  {
   "cell_type": "code",
   "execution_count": 72,
   "metadata": {},
   "outputs": [
    {
     "data": {
      "text/html": [
       "<div>\n",
       "<style scoped>\n",
       "    .dataframe tbody tr th:only-of-type {\n",
       "        vertical-align: middle;\n",
       "    }\n",
       "\n",
       "    .dataframe tbody tr th {\n",
       "        vertical-align: top;\n",
       "    }\n",
       "\n",
       "    .dataframe thead th {\n",
       "        text-align: right;\n",
       "    }\n",
       "</style>\n",
       "<table border=\"1\" class=\"dataframe\">\n",
       "  <thead>\n",
       "    <tr style=\"text-align: right;\">\n",
       "      <th></th>\n",
       "      <th>user_id</th>\n",
       "      <th>age</th>\n",
       "      <th>churn_date</th>\n",
       "      <th>city</th>\n",
       "      <th>first_name</th>\n",
       "      <th>last_name</th>\n",
       "      <th>reg_date</th>\n",
       "      <th>tariff_name</th>\n",
       "      <th>month</th>\n",
       "      <th>calls</th>\n",
       "      <th>minutes</th>\n",
       "      <th>messages</th>\n",
       "      <th>sessions</th>\n",
       "      <th>used_mb</th>\n",
       "      <th>messages_included</th>\n",
       "      <th>mb_per_month_included</th>\n",
       "      <th>minutes_included</th>\n",
       "      <th>rub_monthly_fee</th>\n",
       "      <th>rub_per_gb</th>\n",
       "      <th>rub_per_message</th>\n",
       "      <th>rub_per_minute</th>\n",
       "      <th>total_revenue</th>\n",
       "    </tr>\n",
       "  </thead>\n",
       "  <tbody>\n",
       "    <tr>\n",
       "      <td>1878</td>\n",
       "      <td>1299</td>\n",
       "      <td>37</td>\n",
       "      <td>2018-12-30</td>\n",
       "      <td>Уфа</td>\n",
       "      <td>Мариетта</td>\n",
       "      <td>Симонова</td>\n",
       "      <td>2018-01-27</td>\n",
       "      <td>smart</td>\n",
       "      <td>2018-04-01</td>\n",
       "      <td>71</td>\n",
       "      <td>457</td>\n",
       "      <td>43</td>\n",
       "      <td>46</td>\n",
       "      <td>13604</td>\n",
       "      <td>50</td>\n",
       "      <td>15360</td>\n",
       "      <td>500</td>\n",
       "      <td>550</td>\n",
       "      <td>200</td>\n",
       "      <td>3</td>\n",
       "      <td>3</td>\n",
       "      <td>550</td>\n",
       "    </tr>\n",
       "    <tr>\n",
       "      <td>3100</td>\n",
       "      <td>1483</td>\n",
       "      <td>28</td>\n",
       "      <td>2018-12-30</td>\n",
       "      <td>Ульяновск</td>\n",
       "      <td>Серафима</td>\n",
       "      <td>Борисова</td>\n",
       "      <td>2018-04-11</td>\n",
       "      <td>smart</td>\n",
       "      <td>2018-11-01</td>\n",
       "      <td>100</td>\n",
       "      <td>784</td>\n",
       "      <td>57</td>\n",
       "      <td>60</td>\n",
       "      <td>19205</td>\n",
       "      <td>50</td>\n",
       "      <td>15360</td>\n",
       "      <td>500</td>\n",
       "      <td>550</td>\n",
       "      <td>200</td>\n",
       "      <td>3</td>\n",
       "      <td>3</td>\n",
       "      <td>2173</td>\n",
       "    </tr>\n",
       "    <tr>\n",
       "      <td>814</td>\n",
       "      <td>1130</td>\n",
       "      <td>58</td>\n",
       "      <td>2018-12-30</td>\n",
       "      <td>Тюмень</td>\n",
       "      <td>Инара</td>\n",
       "      <td>Крюкова</td>\n",
       "      <td>2018-04-01</td>\n",
       "      <td>smart</td>\n",
       "      <td>2018-10-01</td>\n",
       "      <td>58</td>\n",
       "      <td>389</td>\n",
       "      <td>63</td>\n",
       "      <td>47</td>\n",
       "      <td>14803</td>\n",
       "      <td>50</td>\n",
       "      <td>15360</td>\n",
       "      <td>500</td>\n",
       "      <td>550</td>\n",
       "      <td>200</td>\n",
       "      <td>3</td>\n",
       "      <td>3</td>\n",
       "      <td>589</td>\n",
       "    </tr>\n",
       "    <tr>\n",
       "      <td>1754</td>\n",
       "      <td>1281</td>\n",
       "      <td>62</td>\n",
       "      <td>2018-12-30</td>\n",
       "      <td>Нижний Новгород</td>\n",
       "      <td>Сара</td>\n",
       "      <td>Зимина</td>\n",
       "      <td>2018-06-09</td>\n",
       "      <td>ultra</td>\n",
       "      <td>2018-03-01</td>\n",
       "      <td>93</td>\n",
       "      <td>696</td>\n",
       "      <td>70</td>\n",
       "      <td>32</td>\n",
       "      <td>16377</td>\n",
       "      <td>1000</td>\n",
       "      <td>30720</td>\n",
       "      <td>3000</td>\n",
       "      <td>1950</td>\n",
       "      <td>150</td>\n",
       "      <td>1</td>\n",
       "      <td>1</td>\n",
       "      <td>1950</td>\n",
       "    </tr>\n",
       "    <tr>\n",
       "      <td>848</td>\n",
       "      <td>1135</td>\n",
       "      <td>64</td>\n",
       "      <td>2018-12-30</td>\n",
       "      <td>Архангельск</td>\n",
       "      <td>Милена</td>\n",
       "      <td>Воронина</td>\n",
       "      <td>2018-01-29</td>\n",
       "      <td>smart</td>\n",
       "      <td>2018-10-01</td>\n",
       "      <td>73</td>\n",
       "      <td>564</td>\n",
       "      <td>25</td>\n",
       "      <td>55</td>\n",
       "      <td>18323</td>\n",
       "      <td>50</td>\n",
       "      <td>15360</td>\n",
       "      <td>500</td>\n",
       "      <td>550</td>\n",
       "      <td>200</td>\n",
       "      <td>3</td>\n",
       "      <td>3</td>\n",
       "      <td>1320</td>\n",
       "    </tr>\n",
       "  </tbody>\n",
       "</table>\n",
       "</div>"
      ],
      "text/plain": [
       "      user_id  age churn_date             city first_name last_name  \\\n",
       "1878     1299   37 2018-12-30              Уфа   Мариетта  Симонова   \n",
       "3100     1483   28 2018-12-30        Ульяновск   Серафима  Борисова   \n",
       "814      1130   58 2018-12-30           Тюмень      Инара   Крюкова   \n",
       "1754     1281   62 2018-12-30  Нижний Новгород       Сара    Зимина   \n",
       "848      1135   64 2018-12-30      Архангельск     Милена  Воронина   \n",
       "\n",
       "       reg_date tariff_name      month  calls  minutes  messages  sessions  \\\n",
       "1878 2018-01-27       smart 2018-04-01     71      457        43        46   \n",
       "3100 2018-04-11       smart 2018-11-01    100      784        57        60   \n",
       "814  2018-04-01       smart 2018-10-01     58      389        63        47   \n",
       "1754 2018-06-09       ultra 2018-03-01     93      696        70        32   \n",
       "848  2018-01-29       smart 2018-10-01     73      564        25        55   \n",
       "\n",
       "      used_mb  messages_included  mb_per_month_included  minutes_included  \\\n",
       "1878    13604                 50                  15360               500   \n",
       "3100    19205                 50                  15360               500   \n",
       "814     14803                 50                  15360               500   \n",
       "1754    16377               1000                  30720              3000   \n",
       "848     18323                 50                  15360               500   \n",
       "\n",
       "      rub_monthly_fee  rub_per_gb  rub_per_message  rub_per_minute  \\\n",
       "1878              550         200                3               3   \n",
       "3100              550         200                3               3   \n",
       "814               550         200                3               3   \n",
       "1754             1950         150                1               1   \n",
       "848               550         200                3               3   \n",
       "\n",
       "      total_revenue  \n",
       "1878            550  \n",
       "3100           2173  \n",
       "814             589  \n",
       "1754           1950  \n",
       "848            1320  "
      ]
     },
     "execution_count": 72,
     "metadata": {},
     "output_type": "execute_result"
    }
   ],
   "source": [
    "df_users_merged.sample(5)"
   ]
  },
  {
   "cell_type": "markdown",
   "metadata": {},
   "source": [
    "### Выводы о подсчете дохода"
   ]
  },
  {
   "cell_type": "code",
   "execution_count": 73,
   "metadata": {
    "scrolled": false
   },
   "outputs": [
    {
     "data": {
      "text/html": [
       "<div>\n",
       "<style scoped>\n",
       "    .dataframe tbody tr th:only-of-type {\n",
       "        vertical-align: middle;\n",
       "    }\n",
       "\n",
       "    .dataframe tbody tr th {\n",
       "        vertical-align: top;\n",
       "    }\n",
       "\n",
       "    .dataframe thead th {\n",
       "        text-align: right;\n",
       "    }\n",
       "</style>\n",
       "<table border=\"1\" class=\"dataframe\">\n",
       "  <thead>\n",
       "    <tr style=\"text-align: right;\">\n",
       "      <th></th>\n",
       "      <th>count</th>\n",
       "      <th>mean</th>\n",
       "      <th>std</th>\n",
       "      <th>min</th>\n",
       "      <th>25%</th>\n",
       "      <th>50%</th>\n",
       "      <th>75%</th>\n",
       "      <th>max</th>\n",
       "    </tr>\n",
       "  </thead>\n",
       "  <tbody>\n",
       "    <tr>\n",
       "      <td>user_id</td>\n",
       "      <td>3182.0</td>\n",
       "      <td>1251.620050</td>\n",
       "      <td>144.493687</td>\n",
       "      <td>1000.0</td>\n",
       "      <td>1126.00</td>\n",
       "      <td>1254.0</td>\n",
       "      <td>1378.00</td>\n",
       "      <td>1499.0</td>\n",
       "    </tr>\n",
       "    <tr>\n",
       "      <td>age</td>\n",
       "      <td>3182.0</td>\n",
       "      <td>46.635449</td>\n",
       "      <td>16.575142</td>\n",
       "      <td>18.0</td>\n",
       "      <td>32.00</td>\n",
       "      <td>46.0</td>\n",
       "      <td>62.00</td>\n",
       "      <td>75.0</td>\n",
       "    </tr>\n",
       "    <tr>\n",
       "      <td>calls</td>\n",
       "      <td>3182.0</td>\n",
       "      <td>63.672847</td>\n",
       "      <td>32.793144</td>\n",
       "      <td>0.0</td>\n",
       "      <td>41.00</td>\n",
       "      <td>63.0</td>\n",
       "      <td>83.00</td>\n",
       "      <td>244.0</td>\n",
       "    </tr>\n",
       "    <tr>\n",
       "      <td>minutes</td>\n",
       "      <td>3182.0</td>\n",
       "      <td>455.782841</td>\n",
       "      <td>238.830811</td>\n",
       "      <td>0.0</td>\n",
       "      <td>289.00</td>\n",
       "      <td>446.0</td>\n",
       "      <td>591.75</td>\n",
       "      <td>1673.0</td>\n",
       "    </tr>\n",
       "    <tr>\n",
       "      <td>messages</td>\n",
       "      <td>3182.0</td>\n",
       "      <td>37.985858</td>\n",
       "      <td>35.627568</td>\n",
       "      <td>0.0</td>\n",
       "      <td>9.00</td>\n",
       "      <td>30.0</td>\n",
       "      <td>57.00</td>\n",
       "      <td>224.0</td>\n",
       "    </tr>\n",
       "    <tr>\n",
       "      <td>sessions</td>\n",
       "      <td>3182.0</td>\n",
       "      <td>46.436518</td>\n",
       "      <td>18.979039</td>\n",
       "      <td>0.0</td>\n",
       "      <td>35.00</td>\n",
       "      <td>48.0</td>\n",
       "      <td>59.00</td>\n",
       "      <td>118.0</td>\n",
       "    </tr>\n",
       "    <tr>\n",
       "      <td>used_mb</td>\n",
       "      <td>3182.0</td>\n",
       "      <td>17141.348837</td>\n",
       "      <td>7596.331389</td>\n",
       "      <td>0.0</td>\n",
       "      <td>12452.75</td>\n",
       "      <td>16901.5</td>\n",
       "      <td>21391.00</td>\n",
       "      <td>49746.0</td>\n",
       "    </tr>\n",
       "    <tr>\n",
       "      <td>messages_included</td>\n",
       "      <td>3182.0</td>\n",
       "      <td>335.716530</td>\n",
       "      <td>435.725182</td>\n",
       "      <td>50.0</td>\n",
       "      <td>50.00</td>\n",
       "      <td>50.0</td>\n",
       "      <td>1000.00</td>\n",
       "      <td>1000.0</td>\n",
       "    </tr>\n",
       "    <tr>\n",
       "      <td>mb_per_month_included</td>\n",
       "      <td>3182.0</td>\n",
       "      <td>19979.585167</td>\n",
       "      <td>7044.988200</td>\n",
       "      <td>15360.0</td>\n",
       "      <td>15360.00</td>\n",
       "      <td>15360.0</td>\n",
       "      <td>30720.00</td>\n",
       "      <td>30720.0</td>\n",
       "    </tr>\n",
       "    <tr>\n",
       "      <td>minutes_included</td>\n",
       "      <td>3182.0</td>\n",
       "      <td>1251.885607</td>\n",
       "      <td>1146.645215</td>\n",
       "      <td>500.0</td>\n",
       "      <td>500.00</td>\n",
       "      <td>500.0</td>\n",
       "      <td>3000.00</td>\n",
       "      <td>3000.0</td>\n",
       "    </tr>\n",
       "    <tr>\n",
       "      <td>rub_monthly_fee</td>\n",
       "      <td>3182.0</td>\n",
       "      <td>971.055940</td>\n",
       "      <td>642.121320</td>\n",
       "      <td>550.0</td>\n",
       "      <td>550.00</td>\n",
       "      <td>550.0</td>\n",
       "      <td>1950.00</td>\n",
       "      <td>1950.0</td>\n",
       "    </tr>\n",
       "    <tr>\n",
       "      <td>rub_per_gb</td>\n",
       "      <td>3182.0</td>\n",
       "      <td>184.962288</td>\n",
       "      <td>22.932904</td>\n",
       "      <td>150.0</td>\n",
       "      <td>150.00</td>\n",
       "      <td>200.0</td>\n",
       "      <td>200.00</td>\n",
       "      <td>200.0</td>\n",
       "    </tr>\n",
       "    <tr>\n",
       "      <td>rub_per_message</td>\n",
       "      <td>3182.0</td>\n",
       "      <td>2.398492</td>\n",
       "      <td>0.917316</td>\n",
       "      <td>1.0</td>\n",
       "      <td>1.00</td>\n",
       "      <td>3.0</td>\n",
       "      <td>3.00</td>\n",
       "      <td>3.0</td>\n",
       "    </tr>\n",
       "    <tr>\n",
       "      <td>rub_per_minute</td>\n",
       "      <td>3182.0</td>\n",
       "      <td>2.398492</td>\n",
       "      <td>0.917316</td>\n",
       "      <td>1.0</td>\n",
       "      <td>1.00</td>\n",
       "      <td>3.0</td>\n",
       "      <td>3.00</td>\n",
       "      <td>3.0</td>\n",
       "    </tr>\n",
       "    <tr>\n",
       "      <td>total_revenue</td>\n",
       "      <td>3182.0</td>\n",
       "      <td>1480.021999</td>\n",
       "      <td>784.355058</td>\n",
       "      <td>550.0</td>\n",
       "      <td>690.25</td>\n",
       "      <td>1536.5</td>\n",
       "      <td>1950.00</td>\n",
       "      <td>6699.0</td>\n",
       "    </tr>\n",
       "  </tbody>\n",
       "</table>\n",
       "</div>"
      ],
      "text/plain": [
       "                        count          mean          std      min       25%  \\\n",
       "user_id                3182.0   1251.620050   144.493687   1000.0   1126.00   \n",
       "age                    3182.0     46.635449    16.575142     18.0     32.00   \n",
       "calls                  3182.0     63.672847    32.793144      0.0     41.00   \n",
       "minutes                3182.0    455.782841   238.830811      0.0    289.00   \n",
       "messages               3182.0     37.985858    35.627568      0.0      9.00   \n",
       "sessions               3182.0     46.436518    18.979039      0.0     35.00   \n",
       "used_mb                3182.0  17141.348837  7596.331389      0.0  12452.75   \n",
       "messages_included      3182.0    335.716530   435.725182     50.0     50.00   \n",
       "mb_per_month_included  3182.0  19979.585167  7044.988200  15360.0  15360.00   \n",
       "minutes_included       3182.0   1251.885607  1146.645215    500.0    500.00   \n",
       "rub_monthly_fee        3182.0    971.055940   642.121320    550.0    550.00   \n",
       "rub_per_gb             3182.0    184.962288    22.932904    150.0    150.00   \n",
       "rub_per_message        3182.0      2.398492     0.917316      1.0      1.00   \n",
       "rub_per_minute         3182.0      2.398492     0.917316      1.0      1.00   \n",
       "total_revenue          3182.0   1480.021999   784.355058    550.0    690.25   \n",
       "\n",
       "                           50%       75%      max  \n",
       "user_id                 1254.0   1378.00   1499.0  \n",
       "age                       46.0     62.00     75.0  \n",
       "calls                     63.0     83.00    244.0  \n",
       "minutes                  446.0    591.75   1673.0  \n",
       "messages                  30.0     57.00    224.0  \n",
       "sessions                  48.0     59.00    118.0  \n",
       "used_mb                16901.5  21391.00  49746.0  \n",
       "messages_included         50.0   1000.00   1000.0  \n",
       "mb_per_month_included  15360.0  30720.00  30720.0  \n",
       "minutes_included         500.0   3000.00   3000.0  \n",
       "rub_monthly_fee          550.0   1950.00   1950.0  \n",
       "rub_per_gb               200.0    200.00    200.0  \n",
       "rub_per_message            3.0      3.00      3.0  \n",
       "rub_per_minute             3.0      3.00      3.0  \n",
       "total_revenue           1536.5   1950.00   6699.0  "
      ]
     },
     "execution_count": 73,
     "metadata": {},
     "output_type": "execute_result"
    }
   ],
   "source": [
    "df_users_merged.describe().T"
   ]
  },
  {
   "cell_type": "markdown",
   "metadata": {},
   "source": [
    "В колонке `total_revenue` по двум тарифам можно заменить что минимальных доход с пользователя равен 550 рублям, оно и понятно, это абонентская плата тарифа `Smart`, а вот 25% пользователей приносят доход в 1950 рублей, это стоимость тарифа `Ultra`. Но, может быть эта сумма так же включает и тех кто перебрал сверх лимита на тарифе `Smart`? Так же нужно обратить внимание на максимальное значение, какой-то абонент принес компании 6699 рублей месячного дохода.  \n",
    "Проверим, выведем информацию по каждому тарифу, начнем с тарифа `Smart`"
   ]
  },
  {
   "cell_type": "code",
   "execution_count": 74,
   "metadata": {},
   "outputs": [
    {
     "data": {
      "text/html": [
       "<div>\n",
       "<style scoped>\n",
       "    .dataframe tbody tr th:only-of-type {\n",
       "        vertical-align: middle;\n",
       "    }\n",
       "\n",
       "    .dataframe tbody tr th {\n",
       "        vertical-align: top;\n",
       "    }\n",
       "\n",
       "    .dataframe thead th {\n",
       "        text-align: right;\n",
       "    }\n",
       "</style>\n",
       "<table border=\"1\" class=\"dataframe\">\n",
       "  <thead>\n",
       "    <tr style=\"text-align: right;\">\n",
       "      <th></th>\n",
       "      <th>count</th>\n",
       "      <th>mean</th>\n",
       "      <th>std</th>\n",
       "      <th>min</th>\n",
       "      <th>25%</th>\n",
       "      <th>50%</th>\n",
       "      <th>75%</th>\n",
       "      <th>max</th>\n",
       "    </tr>\n",
       "  </thead>\n",
       "  <tbody>\n",
       "    <tr>\n",
       "      <td>user_id</td>\n",
       "      <td>2225.0</td>\n",
       "      <td>1246.069663</td>\n",
       "      <td>145.887390</td>\n",
       "      <td>1001.0</td>\n",
       "      <td>1121.0</td>\n",
       "      <td>1239.0</td>\n",
       "      <td>1376.0</td>\n",
       "      <td>1499.0</td>\n",
       "    </tr>\n",
       "    <tr>\n",
       "      <td>age</td>\n",
       "      <td>2225.0</td>\n",
       "      <td>46.584270</td>\n",
       "      <td>16.358705</td>\n",
       "      <td>18.0</td>\n",
       "      <td>32.0</td>\n",
       "      <td>47.0</td>\n",
       "      <td>62.0</td>\n",
       "      <td>75.0</td>\n",
       "    </tr>\n",
       "    <tr>\n",
       "      <td>calls</td>\n",
       "      <td>2225.0</td>\n",
       "      <td>58.568539</td>\n",
       "      <td>25.844302</td>\n",
       "      <td>0.0</td>\n",
       "      <td>40.0</td>\n",
       "      <td>60.0</td>\n",
       "      <td>76.0</td>\n",
       "      <td>198.0</td>\n",
       "    </tr>\n",
       "    <tr>\n",
       "      <td>minutes</td>\n",
       "      <td>2225.0</td>\n",
       "      <td>418.686292</td>\n",
       "      <td>189.656900</td>\n",
       "      <td>0.0</td>\n",
       "      <td>284.0</td>\n",
       "      <td>422.0</td>\n",
       "      <td>545.0</td>\n",
       "      <td>1435.0</td>\n",
       "    </tr>\n",
       "    <tr>\n",
       "      <td>messages</td>\n",
       "      <td>2225.0</td>\n",
       "      <td>33.366292</td>\n",
       "      <td>28.264460</td>\n",
       "      <td>0.0</td>\n",
       "      <td>10.0</td>\n",
       "      <td>28.0</td>\n",
       "      <td>51.0</td>\n",
       "      <td>143.0</td>\n",
       "    </tr>\n",
       "    <tr>\n",
       "      <td>sessions</td>\n",
       "      <td>2225.0</td>\n",
       "      <td>49.992809</td>\n",
       "      <td>17.439746</td>\n",
       "      <td>0.0</td>\n",
       "      <td>40.0</td>\n",
       "      <td>51.0</td>\n",
       "      <td>61.0</td>\n",
       "      <td>118.0</td>\n",
       "    </tr>\n",
       "    <tr>\n",
       "      <td>used_mb</td>\n",
       "      <td>2225.0</td>\n",
       "      <td>16195.280899</td>\n",
       "      <td>5893.682111</td>\n",
       "      <td>0.0</td>\n",
       "      <td>12626.0</td>\n",
       "      <td>16477.0</td>\n",
       "      <td>20047.0</td>\n",
       "      <td>38553.0</td>\n",
       "    </tr>\n",
       "    <tr>\n",
       "      <td>messages_included</td>\n",
       "      <td>2225.0</td>\n",
       "      <td>50.000000</td>\n",
       "      <td>0.000000</td>\n",
       "      <td>50.0</td>\n",
       "      <td>50.0</td>\n",
       "      <td>50.0</td>\n",
       "      <td>50.0</td>\n",
       "      <td>50.0</td>\n",
       "    </tr>\n",
       "    <tr>\n",
       "      <td>mb_per_month_included</td>\n",
       "      <td>2225.0</td>\n",
       "      <td>15360.000000</td>\n",
       "      <td>0.000000</td>\n",
       "      <td>15360.0</td>\n",
       "      <td>15360.0</td>\n",
       "      <td>15360.0</td>\n",
       "      <td>15360.0</td>\n",
       "      <td>15360.0</td>\n",
       "    </tr>\n",
       "    <tr>\n",
       "      <td>minutes_included</td>\n",
       "      <td>2225.0</td>\n",
       "      <td>500.000000</td>\n",
       "      <td>0.000000</td>\n",
       "      <td>500.0</td>\n",
       "      <td>500.0</td>\n",
       "      <td>500.0</td>\n",
       "      <td>500.0</td>\n",
       "      <td>500.0</td>\n",
       "    </tr>\n",
       "    <tr>\n",
       "      <td>rub_monthly_fee</td>\n",
       "      <td>2225.0</td>\n",
       "      <td>550.000000</td>\n",
       "      <td>0.000000</td>\n",
       "      <td>550.0</td>\n",
       "      <td>550.0</td>\n",
       "      <td>550.0</td>\n",
       "      <td>550.0</td>\n",
       "      <td>550.0</td>\n",
       "    </tr>\n",
       "    <tr>\n",
       "      <td>rub_per_gb</td>\n",
       "      <td>2225.0</td>\n",
       "      <td>200.000000</td>\n",
       "      <td>0.000000</td>\n",
       "      <td>200.0</td>\n",
       "      <td>200.0</td>\n",
       "      <td>200.0</td>\n",
       "      <td>200.0</td>\n",
       "      <td>200.0</td>\n",
       "    </tr>\n",
       "    <tr>\n",
       "      <td>rub_per_message</td>\n",
       "      <td>2225.0</td>\n",
       "      <td>3.000000</td>\n",
       "      <td>0.000000</td>\n",
       "      <td>3.0</td>\n",
       "      <td>3.0</td>\n",
       "      <td>3.0</td>\n",
       "      <td>3.0</td>\n",
       "      <td>3.0</td>\n",
       "    </tr>\n",
       "    <tr>\n",
       "      <td>rub_per_minute</td>\n",
       "      <td>2225.0</td>\n",
       "      <td>3.000000</td>\n",
       "      <td>0.000000</td>\n",
       "      <td>3.0</td>\n",
       "      <td>3.0</td>\n",
       "      <td>3.0</td>\n",
       "      <td>3.0</td>\n",
       "      <td>3.0</td>\n",
       "    </tr>\n",
       "    <tr>\n",
       "      <td>total_revenue</td>\n",
       "      <td>2225.0</td>\n",
       "      <td>1230.538427</td>\n",
       "      <td>786.217730</td>\n",
       "      <td>550.0</td>\n",
       "      <td>550.0</td>\n",
       "      <td>958.0</td>\n",
       "      <td>1666.0</td>\n",
       "      <td>6699.0</td>\n",
       "    </tr>\n",
       "  </tbody>\n",
       "</table>\n",
       "</div>"
      ],
      "text/plain": [
       "                        count          mean          std      min      25%  \\\n",
       "user_id                2225.0   1246.069663   145.887390   1001.0   1121.0   \n",
       "age                    2225.0     46.584270    16.358705     18.0     32.0   \n",
       "calls                  2225.0     58.568539    25.844302      0.0     40.0   \n",
       "minutes                2225.0    418.686292   189.656900      0.0    284.0   \n",
       "messages               2225.0     33.366292    28.264460      0.0     10.0   \n",
       "sessions               2225.0     49.992809    17.439746      0.0     40.0   \n",
       "used_mb                2225.0  16195.280899  5893.682111      0.0  12626.0   \n",
       "messages_included      2225.0     50.000000     0.000000     50.0     50.0   \n",
       "mb_per_month_included  2225.0  15360.000000     0.000000  15360.0  15360.0   \n",
       "minutes_included       2225.0    500.000000     0.000000    500.0    500.0   \n",
       "rub_monthly_fee        2225.0    550.000000     0.000000    550.0    550.0   \n",
       "rub_per_gb             2225.0    200.000000     0.000000    200.0    200.0   \n",
       "rub_per_message        2225.0      3.000000     0.000000      3.0      3.0   \n",
       "rub_per_minute         2225.0      3.000000     0.000000      3.0      3.0   \n",
       "total_revenue          2225.0   1230.538427   786.217730    550.0    550.0   \n",
       "\n",
       "                           50%      75%      max  \n",
       "user_id                 1239.0   1376.0   1499.0  \n",
       "age                       47.0     62.0     75.0  \n",
       "calls                     60.0     76.0    198.0  \n",
       "minutes                  422.0    545.0   1435.0  \n",
       "messages                  28.0     51.0    143.0  \n",
       "sessions                  51.0     61.0    118.0  \n",
       "used_mb                16477.0  20047.0  38553.0  \n",
       "messages_included         50.0     50.0     50.0  \n",
       "mb_per_month_included  15360.0  15360.0  15360.0  \n",
       "minutes_included         500.0    500.0    500.0  \n",
       "rub_monthly_fee          550.0    550.0    550.0  \n",
       "rub_per_gb               200.0    200.0    200.0  \n",
       "rub_per_message            3.0      3.0      3.0  \n",
       "rub_per_minute             3.0      3.0      3.0  \n",
       "total_revenue            958.0   1666.0   6699.0  "
      ]
     },
     "execution_count": 74,
     "metadata": {},
     "output_type": "execute_result"
    }
   ],
   "source": [
    "df_users_merged.query('tariff_name == \"smart\"').describe().T"
   ]
  },
  {
   "cell_type": "markdown",
   "metadata": {},
   "source": [
    "Более половины пользователей не укладываются в лимиты тарифа, докупают дополнительные пакеты минут, сообщений и интернет-трафика.  \n",
    "Наибольшую выручку за месяц среди двух тарифов принес абонет тарифа `Smart`. Если этот абонент еще не VIP, ему стоит хотя бы отправить мерч компании.  \n",
    "Теперь взглянем на тариф `Ultra`"
   ]
  },
  {
   "cell_type": "code",
   "execution_count": 75,
   "metadata": {},
   "outputs": [
    {
     "data": {
      "text/html": [
       "<div>\n",
       "<style scoped>\n",
       "    .dataframe tbody tr th:only-of-type {\n",
       "        vertical-align: middle;\n",
       "    }\n",
       "\n",
       "    .dataframe tbody tr th {\n",
       "        vertical-align: top;\n",
       "    }\n",
       "\n",
       "    .dataframe thead th {\n",
       "        text-align: right;\n",
       "    }\n",
       "</style>\n",
       "<table border=\"1\" class=\"dataframe\">\n",
       "  <thead>\n",
       "    <tr style=\"text-align: right;\">\n",
       "      <th></th>\n",
       "      <th>count</th>\n",
       "      <th>mean</th>\n",
       "      <th>std</th>\n",
       "      <th>min</th>\n",
       "      <th>25%</th>\n",
       "      <th>50%</th>\n",
       "      <th>75%</th>\n",
       "      <th>max</th>\n",
       "    </tr>\n",
       "  </thead>\n",
       "  <tbody>\n",
       "    <tr>\n",
       "      <td>user_id</td>\n",
       "      <td>957.0</td>\n",
       "      <td>1264.524556</td>\n",
       "      <td>140.429253</td>\n",
       "      <td>1000.0</td>\n",
       "      <td>1148.0</td>\n",
       "      <td>1281.0</td>\n",
       "      <td>1381.0</td>\n",
       "      <td>1495.0</td>\n",
       "    </tr>\n",
       "    <tr>\n",
       "      <td>age</td>\n",
       "      <td>957.0</td>\n",
       "      <td>46.754441</td>\n",
       "      <td>17.075861</td>\n",
       "      <td>18.0</td>\n",
       "      <td>30.0</td>\n",
       "      <td>45.0</td>\n",
       "      <td>63.0</td>\n",
       "      <td>75.0</td>\n",
       "    </tr>\n",
       "    <tr>\n",
       "      <td>calls</td>\n",
       "      <td>957.0</td>\n",
       "      <td>75.540230</td>\n",
       "      <td>42.694248</td>\n",
       "      <td>0.0</td>\n",
       "      <td>43.0</td>\n",
       "      <td>75.0</td>\n",
       "      <td>105.0</td>\n",
       "      <td>244.0</td>\n",
       "    </tr>\n",
       "    <tr>\n",
       "      <td>minutes</td>\n",
       "      <td>957.0</td>\n",
       "      <td>542.031348</td>\n",
       "      <td>308.978539</td>\n",
       "      <td>0.0</td>\n",
       "      <td>308.0</td>\n",
       "      <td>525.0</td>\n",
       "      <td>756.0</td>\n",
       "      <td>1673.0</td>\n",
       "    </tr>\n",
       "    <tr>\n",
       "      <td>messages</td>\n",
       "      <td>957.0</td>\n",
       "      <td>48.726228</td>\n",
       "      <td>46.903402</td>\n",
       "      <td>0.0</td>\n",
       "      <td>5.0</td>\n",
       "      <td>39.0</td>\n",
       "      <td>79.0</td>\n",
       "      <td>224.0</td>\n",
       "    </tr>\n",
       "    <tr>\n",
       "      <td>sessions</td>\n",
       "      <td>957.0</td>\n",
       "      <td>38.168234</td>\n",
       "      <td>19.827338</td>\n",
       "      <td>0.0</td>\n",
       "      <td>23.0</td>\n",
       "      <td>38.0</td>\n",
       "      <td>51.0</td>\n",
       "      <td>97.0</td>\n",
       "    </tr>\n",
       "    <tr>\n",
       "      <td>used_mb</td>\n",
       "      <td>957.0</td>\n",
       "      <td>19340.932079</td>\n",
       "      <td>10211.359175</td>\n",
       "      <td>0.0</td>\n",
       "      <td>11413.0</td>\n",
       "      <td>19301.0</td>\n",
       "      <td>26789.0</td>\n",
       "      <td>49746.0</td>\n",
       "    </tr>\n",
       "    <tr>\n",
       "      <td>messages_included</td>\n",
       "      <td>957.0</td>\n",
       "      <td>1000.000000</td>\n",
       "      <td>0.000000</td>\n",
       "      <td>1000.0</td>\n",
       "      <td>1000.0</td>\n",
       "      <td>1000.0</td>\n",
       "      <td>1000.0</td>\n",
       "      <td>1000.0</td>\n",
       "    </tr>\n",
       "    <tr>\n",
       "      <td>mb_per_month_included</td>\n",
       "      <td>957.0</td>\n",
       "      <td>30720.000000</td>\n",
       "      <td>0.000000</td>\n",
       "      <td>30720.0</td>\n",
       "      <td>30720.0</td>\n",
       "      <td>30720.0</td>\n",
       "      <td>30720.0</td>\n",
       "      <td>30720.0</td>\n",
       "    </tr>\n",
       "    <tr>\n",
       "      <td>minutes_included</td>\n",
       "      <td>957.0</td>\n",
       "      <td>3000.000000</td>\n",
       "      <td>0.000000</td>\n",
       "      <td>3000.0</td>\n",
       "      <td>3000.0</td>\n",
       "      <td>3000.0</td>\n",
       "      <td>3000.0</td>\n",
       "      <td>3000.0</td>\n",
       "    </tr>\n",
       "    <tr>\n",
       "      <td>rub_monthly_fee</td>\n",
       "      <td>957.0</td>\n",
       "      <td>1950.000000</td>\n",
       "      <td>0.000000</td>\n",
       "      <td>1950.0</td>\n",
       "      <td>1950.0</td>\n",
       "      <td>1950.0</td>\n",
       "      <td>1950.0</td>\n",
       "      <td>1950.0</td>\n",
       "    </tr>\n",
       "    <tr>\n",
       "      <td>rub_per_gb</td>\n",
       "      <td>957.0</td>\n",
       "      <td>150.000000</td>\n",
       "      <td>0.000000</td>\n",
       "      <td>150.0</td>\n",
       "      <td>150.0</td>\n",
       "      <td>150.0</td>\n",
       "      <td>150.0</td>\n",
       "      <td>150.0</td>\n",
       "    </tr>\n",
       "    <tr>\n",
       "      <td>rub_per_message</td>\n",
       "      <td>957.0</td>\n",
       "      <td>1.000000</td>\n",
       "      <td>0.000000</td>\n",
       "      <td>1.0</td>\n",
       "      <td>1.0</td>\n",
       "      <td>1.0</td>\n",
       "      <td>1.0</td>\n",
       "      <td>1.0</td>\n",
       "    </tr>\n",
       "    <tr>\n",
       "      <td>rub_per_minute</td>\n",
       "      <td>957.0</td>\n",
       "      <td>1.000000</td>\n",
       "      <td>0.000000</td>\n",
       "      <td>1.0</td>\n",
       "      <td>1.0</td>\n",
       "      <td>1.0</td>\n",
       "      <td>1.0</td>\n",
       "      <td>1.0</td>\n",
       "    </tr>\n",
       "    <tr>\n",
       "      <td>total_revenue</td>\n",
       "      <td>957.0</td>\n",
       "      <td>2060.064786</td>\n",
       "      <td>356.912621</td>\n",
       "      <td>1950.0</td>\n",
       "      <td>1950.0</td>\n",
       "      <td>1950.0</td>\n",
       "      <td>1950.0</td>\n",
       "      <td>4737.0</td>\n",
       "    </tr>\n",
       "  </tbody>\n",
       "</table>\n",
       "</div>"
      ],
      "text/plain": [
       "                       count          mean           std      min      25%  \\\n",
       "user_id                957.0   1264.524556    140.429253   1000.0   1148.0   \n",
       "age                    957.0     46.754441     17.075861     18.0     30.0   \n",
       "calls                  957.0     75.540230     42.694248      0.0     43.0   \n",
       "minutes                957.0    542.031348    308.978539      0.0    308.0   \n",
       "messages               957.0     48.726228     46.903402      0.0      5.0   \n",
       "sessions               957.0     38.168234     19.827338      0.0     23.0   \n",
       "used_mb                957.0  19340.932079  10211.359175      0.0  11413.0   \n",
       "messages_included      957.0   1000.000000      0.000000   1000.0   1000.0   \n",
       "mb_per_month_included  957.0  30720.000000      0.000000  30720.0  30720.0   \n",
       "minutes_included       957.0   3000.000000      0.000000   3000.0   3000.0   \n",
       "rub_monthly_fee        957.0   1950.000000      0.000000   1950.0   1950.0   \n",
       "rub_per_gb             957.0    150.000000      0.000000    150.0    150.0   \n",
       "rub_per_message        957.0      1.000000      0.000000      1.0      1.0   \n",
       "rub_per_minute         957.0      1.000000      0.000000      1.0      1.0   \n",
       "total_revenue          957.0   2060.064786    356.912621   1950.0   1950.0   \n",
       "\n",
       "                           50%      75%      max  \n",
       "user_id                 1281.0   1381.0   1495.0  \n",
       "age                       45.0     63.0     75.0  \n",
       "calls                     75.0    105.0    244.0  \n",
       "minutes                  525.0    756.0   1673.0  \n",
       "messages                  39.0     79.0    224.0  \n",
       "sessions                  38.0     51.0     97.0  \n",
       "used_mb                19301.0  26789.0  49746.0  \n",
       "messages_included       1000.0   1000.0   1000.0  \n",
       "mb_per_month_included  30720.0  30720.0  30720.0  \n",
       "minutes_included        3000.0   3000.0   3000.0  \n",
       "rub_monthly_fee         1950.0   1950.0   1950.0  \n",
       "rub_per_gb               150.0    150.0    150.0  \n",
       "rub_per_message            1.0      1.0      1.0  \n",
       "rub_per_minute             1.0      1.0      1.0  \n",
       "total_revenue           1950.0   1950.0   4737.0  "
      ]
     },
     "execution_count": 75,
     "metadata": {},
     "output_type": "execute_result"
    }
   ],
   "source": [
    "df_users_merged.query('tariff_name == \"ultra\"').describe().T"
   ]
  },
  {
   "cell_type": "markdown",
   "metadata": {},
   "source": [
    "У пользователей этого тарифа все в пределах лимитный ограничений, редко кто выходит за рамки и докупает дополнительные минуты, сообщения или интернет-трафик. Доход компании базируется только на абонентской плате в 1950 рублей."
   ]
  },
  {
   "cell_type": "markdown",
   "metadata": {},
   "source": [
    "---"
   ]
  },
  {
   "cell_type": "markdown",
   "metadata": {},
   "source": [
    "## Анализ данных\n",
    "Изучим поведения клиентов, исходя из выборки.  \n",
    "Посчитаем среднее количество, дисперсию и стандартное отклонение с использованием кастомных функций. Построим гистограммы и диаграммы размаха."
   ]
  },
  {
   "cell_type": "markdown",
   "metadata": {},
   "source": [
    "### Подготовка данных и создание инструментов для анализа"
   ]
  },
  {
   "cell_type": "markdown",
   "metadata": {},
   "source": [
    "Для каждого тарифа создадим отдельный датафрейм `df_tariff_smart` и `df_tariff_ultra` и присвоим им имена"
   ]
  },
  {
   "cell_type": "markdown",
   "metadata": {},
   "source": [
    "Для тарифа Smart - `df_tariff_smart`"
   ]
  },
  {
   "cell_type": "code",
   "execution_count": 76,
   "metadata": {},
   "outputs": [],
   "source": [
    "df_tariff_smart = df_users_merged.query('tariff_name == \"smart\"')\n",
    "df_tariff_smart.name = 'Тариф Smart'"
   ]
  },
  {
   "cell_type": "markdown",
   "metadata": {},
   "source": [
    "Для тарифа Ultra - `df_tariff_ultra`"
   ]
  },
  {
   "cell_type": "code",
   "execution_count": 77,
   "metadata": {},
   "outputs": [],
   "source": [
    "df_tariff_ultra = df_users_merged.query('tariff_name == \"ultra\"')\n",
    "df_tariff_ultra.name = 'Тариф Ultra'"
   ]
  },
  {
   "cell_type": "markdown",
   "metadata": {},
   "source": [
    "Создадим функцию `boxplot_builder` для построения диаграммы размаха, которая будет принимать датафрейм с колонкой и заголовок для диаграммы"
   ]
  },
  {
   "cell_type": "code",
   "execution_count": 78,
   "metadata": {},
   "outputs": [],
   "source": [
    "def boxplot_builder(df_series, title):\n",
    "    df_series.plot(\n",
    "        kind = 'box',\n",
    "        title = f\"{title}\",\n",
    "        figsize = (15, 5),\n",
    "        grid = True,\n",
    "        vert = False,\n",
    "    )\n",
    "    plt.show()"
   ]
  },
  {
   "cell_type": "markdown",
   "metadata": {},
   "source": [
    "Создадим функцию `histogram_builder` для построения графиков с наложением, которая будет принимать два датафрейма, название колонки, заголовок и подпись к графику. "
   ]
  },
  {
   "cell_type": "code",
   "execution_count": 79,
   "metadata": {},
   "outputs": [],
   "source": [
    "def histogram_builder(dataframes, series, title, xlabel):\n",
    "    df_first = dataframes[0]\n",
    "    df_second = dataframes[1]\n",
    "    \n",
    "    df_first[series].plot(\n",
    "        kind = 'hist',\n",
    "        title = f'{title}',\n",
    "        figsize = (15, 5),\n",
    "        grid = True,\n",
    "        color = '#34495e',\n",
    "        legend = True,\n",
    "    )\n",
    "    \n",
    "    df_second[series].plot(\n",
    "        kind = 'hist',\n",
    "        figsize = (15, 5),\n",
    "        grid = True,\n",
    "        color = '#16a085',\n",
    "        alpha = 0.7,\n",
    "        legend = True,\n",
    "    )\n",
    "    \n",
    "    plt.ylabel('Количество пользователей')\n",
    "    plt.legend(['Тариф - Smart', 'Тариф - Ultra'])\n",
    "    plt.xlabel(f'{xlabel}')\n",
    "    plt.show()"
   ]
  },
  {
   "cell_type": "markdown",
   "metadata": {},
   "source": [
    "Создадим функцию `describe_and_whiskers_limits` которая послужит некой альтернативой для `.discribe()` т.к. добавим в нее несколько дополнительных вычислений, например поиск дисперсии выборки и `min`/`max` значений \"усов\". Это должно помочь визуальному сравнению.  \n",
    "Так же функция выведет на экран описание вычислений и построит диаграмму размаха."
   ]
  },
  {
   "cell_type": "code",
   "execution_count": 80,
   "metadata": {},
   "outputs": [],
   "source": [
    "def describe_and_whiskers_limits(dataframe, series_name):\n",
    "\n",
    "    series = dataframe[series_name]\n",
    "    \n",
    "    q1 = np.percentile(series, 25)  # Q1\n",
    "    q2 = np.percentile(series, 50)  # Q2 (Median)\n",
    "    q3 = np.percentile(series, 75)  # Q3\n",
    "    std = np.std(series, ddof=1) # Поправка на выборку \n",
    "    minimum = np.min(series)\n",
    "    maximum = np.max(series)\n",
    "    mean = np.mean(series)\n",
    "    variance = np.var(series, ddof=1) # Поправка на выборку\n",
    "\n",
    "    # Поиск min/max значений размаха \"усов\"\n",
    "    whisker_maximum = round(q3 + ((q3 - q1) * 1.5), 2) # “maximum”: Q3 + 1.5 * IQR \n",
    "    whisker_minimum = round(q1 - ((q3 - q1) * 1.5), 2) # “minimum”: Q1 - 1.5 * IQR\n",
    "    above_whisker_maximum = dataframe.query('@series > @whisker_maximum')[series.name].count()\n",
    "    total_amount = dataframe[series.name].count()\n",
    "    \n",
    "    # Для построения диаграммы размаха, создадим заголовок\n",
    "    title = f\"{dataframe.name} значения колонки ['{series.name}']\"\n",
    "    \n",
    "    # Построение диаграммы размаха\n",
    "    boxplot_builder(dataframe[series.name], title)\n",
    "\n",
    "    # Вывод на экран всей текстовой информации вычислений\n",
    "    print(f\"  {dataframe.name}, значения колонки ['{series.name}']\\n\"\n",
    "          f\"|------------------------------------------\\n\"\n",
    "          f\"| Mean: {round(mean, 4)}\\n\"\n",
    "          f\"| STD: {round(std, 4)}\\n\"\n",
    "          f\"| Q1 (25%): {q1}\\n\"\n",
    "          f\"| Q2 (50%): {q2}\\n\"\n",
    "          f\"| Q3 (75%): {q3}\\n\"\n",
    "          f\"| Минимум: {minimum}\\n\"\n",
    "          f\"| Максимум: {maximum}\\n\"\n",
    "          f\"| Дисперсия: {variance}\\n\"\n",
    "          f\"\\n\\n\"\n",
    "          f\"  Границы усов \\n\"\n",
    "          f\"|------------------------------------------\\n\"\n",
    "          f\"| Минимальное значение для левого 'уса': {whisker_minimum}\\n\"\n",
    "          f\"| Максимальное значение для правого 'уса': {whisker_maximum},\\n\"\n",
    "          f\"| Количество элементов после правого 'уса': \"\n",
    "          f\"{above_whisker_maximum} ({round(above_whisker_maximum / total_amount * 100, 2)}%) из {total_amount}\\n\"\n",
    "          f\"\\n\"\n",
    "         )\n",
    "        "
   ]
  },
  {
   "cell_type": "markdown",
   "metadata": {},
   "source": [
    "---"
   ]
  },
  {
   "cell_type": "markdown",
   "metadata": {},
   "source": [
    "### Объемы использования сервисов за месяц"
   ]
  },
  {
   "cell_type": "markdown",
   "metadata": {},
   "source": [
    "Сколько минут разговора, сколько сообщений и какой объём интернет-трафика требуется пользователям каждого тарифа в месяц?  \n",
    "Сравним оба тарифа по использованию каждого сервиса"
   ]
  },
  {
   "cell_type": "markdown",
   "metadata": {},
   "source": [
    "#### Минуты разговора"
   ]
  },
  {
   "cell_type": "markdown",
   "metadata": {},
   "source": [
    "Количество включенных `минут` в пакет тарифов:  \n",
    "`Smart` - 500   \n",
    "`Ultra` - 3000"
   ]
  },
  {
   "cell_type": "code",
   "execution_count": 81,
   "metadata": {
    "scrolled": true
   },
   "outputs": [
    {
     "data": {
      "image/png": "[encoded data removed]",
      "text/plain": [
       "<Figure size 1080x360 with 1 Axes>"
      ]
     },
     "metadata": {
      "needs_background": "light"
     },
     "output_type": "display_data"
    }
   ],
   "source": [
    "histogram_builder(\n",
    "    [df_tariff_smart, df_tariff_ultra],\n",
    "    series = 'minutes',\n",
    "    title = 'Гистограмма использованных минут',\n",
    "    xlabel = 'Количество минут'\n",
    ")"
   ]
  },
  {
   "cell_type": "markdown",
   "metadata": {},
   "source": [
    "Визуально уже можно отметить что, большая часть пользователей тарифа `Smart` приходится в районе **~300-550** использованных минут, после этой отметки количество абонентов резко снижается в половину, а после **700** минут и вовсе находится в районе 100 пользователей.  \n",
    "Пользователи тарифа `Ultra`, напротив, распределены более равномерно до отметки в **~800**, далее так же количество использованных минут начинается снижаться и тянется до **~1600**."
   ]
  },
  {
   "cell_type": "markdown",
   "metadata": {},
   "source": [
    "Посмотрим на данные диаграммы размаха для `df_tariff_smart`, вызовем функцию `describe_and_whiskers_limits`"
   ]
  },
  {
   "cell_type": "code",
   "execution_count": 82,
   "metadata": {
    "scrolled": false
   },
   "outputs": [
    {
     "data": {
      "image/png": "[encoded data removed]",
      "text/plain": [
       "<Figure size 1080x360 with 1 Axes>"
      ]
     },
     "metadata": {
      "needs_background": "light"
     },
     "output_type": "display_data"
    },
    {
     "name": "stdout",
     "output_type": "stream",
     "text": [
      "  Тариф Smart, значения колонки ['minutes']\n",
      "|------------------------------------------\n",
      "| Mean: 418.6863\n",
      "| STD: 189.6569\n",
      "| Q1 (25%): 284.0\n",
      "| Q2 (50%): 422.0\n",
      "| Q3 (75%): 545.0\n",
      "| Минимум: 0\n",
      "| Максимум: 1435\n",
      "| Дисперсия: 35969.73967262146\n",
      "\n",
      "\n",
      "  Границы усов \n",
      "|------------------------------------------\n",
      "| Минимальное значение для левого 'уса': -107.5\n",
      "| Максимальное значение для правого 'уса': 936.5,\n",
      "| Количество элементов после правого 'уса': 10 (0.45%) из 2225\n",
      "\n",
      "\n"
     ]
    }
   ],
   "source": [
    "describe_and_whiskers_limits(df_tariff_smart, 'minutes')"
   ]
  },
  {
   "cell_type": "markdown",
   "metadata": {},
   "source": [
    "Как видим, расчеты подтвердили увиденное на гистограмме. Значения `Q1` и `Q3` для тарифа `Smart` находятся в пределах от 248 до 545 минут. Среднее значение и медиана почти равны, 418 и 422 минуты соответственно.  \n",
    "Выбросы так же имеются, значения за пределами правого \"уса\" менее полпроцента. Расчет левого \"уса\" дает отрицательное число, что меньше минимума, соответственно левый \"ус\" заканчивается минимумом. Что и видно на диаграмме размаха.  \n",
    "Использование количества минут между пользователями тарифа `Smart` довольно похоже. Большинство почти использует весь пакет минут, не мало выходит за рамки лимита."
   ]
  },
  {
   "cell_type": "code",
   "execution_count": 83,
   "metadata": {},
   "outputs": [
    {
     "data": {
      "image/png": "[encoded data removed]",
      "text/plain": [
       "<Figure size 1080x360 with 1 Axes>"
      ]
     },
     "metadata": {
      "needs_background": "light"
     },
     "output_type": "display_data"
    },
    {
     "name": "stdout",
     "output_type": "stream",
     "text": [
      "  Тариф Ultra, значения колонки ['minutes']\n",
      "|------------------------------------------\n",
      "| Mean: 542.0313\n",
      "| STD: 308.9785\n",
      "| Q1 (25%): 308.0\n",
      "| Q2 (50%): 525.0\n",
      "| Q3 (75%): 756.0\n",
      "| Минимум: 0\n",
      "| Максимум: 1673\n",
      "| Дисперсия: 95467.73751000119\n",
      "\n",
      "\n",
      "  Границы усов \n",
      "|------------------------------------------\n",
      "| Минимальное значение для левого 'уса': -364.0\n",
      "| Максимальное значение для правого 'уса': 1428.0,\n",
      "| Количество элементов после правого 'уса': 2 (0.21%) из 957\n",
      "\n",
      "\n"
     ]
    }
   ],
   "source": [
    "describe_and_whiskers_limits(df_tariff_ultra, 'minutes')"
   ]
  },
  {
   "cell_type": "markdown",
   "metadata": {},
   "source": [
    "В сравнении пользователей тарифа `Ultra` среднее количество использованных минут выше, как и медиана, чем у пользователей тарифа `Smart`.  \n",
    "Не смотря на то что у пользователей данного тарифа лимит существенно выше, никто из них не исчерпывает его и не потребляет больше чем 1673 минуты.  "
   ]
  },
  {
   "cell_type": "markdown",
   "metadata": {},
   "source": [
    "#### Количество сообщений"
   ]
  },
  {
   "cell_type": "markdown",
   "metadata": {},
   "source": [
    "Количество включенных `сообщений` в пакет тарифов:  \n",
    "`Smart` - 50   \n",
    "`Ultra` - 1000"
   ]
  },
  {
   "cell_type": "code",
   "execution_count": 84,
   "metadata": {
    "scrolled": true
   },
   "outputs": [
    {
     "data": {
      "image/png": "[encoded data removed]",
      "text/plain": [
       "<Figure size 1080x360 with 1 Axes>"
      ]
     },
     "metadata": {
      "needs_background": "light"
     },
     "output_type": "display_data"
    }
   ],
   "source": [
    "histogram_builder(\n",
    "    [df_tariff_smart, df_tariff_ultra],\n",
    "    series = 'messages',\n",
    "    title = 'Гистограмма отправленных сообщений',\n",
    "    xlabel = 'Количество сообщений'\n",
    ")"
   ]
  },
  {
   "cell_type": "markdown",
   "metadata": {},
   "source": [
    "Самя большая группа пользователей обоих тарифов отправляет не более 15 сообщений в месяц. Пользователи тарифа `Ultra` отправляют больше сообщений, т.к. лимит значительно выше, но визуально видно что не достигают лимита, когда пользователи тарифа `Smart` напротив, выходят за рамки."
   ]
  },
  {
   "cell_type": "code",
   "execution_count": 85,
   "metadata": {},
   "outputs": [
    {
     "data": {
      "image/png": "[encoded data removed]",
      "text/plain": [
       "<Figure size 1080x360 with 1 Axes>"
      ]
     },
     "metadata": {
      "needs_background": "light"
     },
     "output_type": "display_data"
    },
    {
     "name": "stdout",
     "output_type": "stream",
     "text": [
      "  Тариф Smart, значения колонки ['messages']\n",
      "|------------------------------------------\n",
      "| Mean: 33.3663\n",
      "| STD: 28.2645\n",
      "| Q1 (25%): 10.0\n",
      "| Q2 (50%): 28.0\n",
      "| Q3 (75%): 51.0\n",
      "| Минимум: 0\n",
      "| Максимум: 143\n",
      "| Дисперсия: 798.8797085926764\n",
      "\n",
      "\n",
      "  Границы усов \n",
      "|------------------------------------------\n",
      "| Минимальное значение для левого 'уса': -51.5\n",
      "| Максимальное значение для правого 'уса': 112.5,\n",
      "| Количество элементов после правого 'уса': 14 (0.63%) из 2225\n",
      "\n",
      "\n"
     ]
    }
   ],
   "source": [
    "describe_and_whiskers_limits(df_tariff_smart, 'messages')"
   ]
  },
  {
   "cell_type": "markdown",
   "metadata": {},
   "source": [
    "Обратив внимание на показатель Q3 можно сказать что 75% пользователей тарифа `Smart` почти укладываются в лимит согласно тарифу. "
   ]
  },
  {
   "cell_type": "code",
   "execution_count": 86,
   "metadata": {},
   "outputs": [
    {
     "data": {
      "image/png": "[encoded data removed]",
      "text/plain": [
       "<Figure size 1080x360 with 1 Axes>"
      ]
     },
     "metadata": {
      "needs_background": "light"
     },
     "output_type": "display_data"
    },
    {
     "name": "stdout",
     "output_type": "stream",
     "text": [
      "  Тариф Ultra, значения колонки ['messages']\n",
      "|------------------------------------------\n",
      "| Mean: 48.7262\n",
      "| STD: 46.9034\n",
      "| Q1 (25%): 5.0\n",
      "| Q2 (50%): 39.0\n",
      "| Q3 (75%): 79.0\n",
      "| Минимум: 0\n",
      "| Максимум: 224\n",
      "| Дисперсия: 2199.929154479436\n",
      "\n",
      "\n",
      "  Границы усов \n",
      "|------------------------------------------\n",
      "| Минимальное значение для левого 'уса': -106.0\n",
      "| Максимальное значение для правого 'уса': 190.0,\n",
      "| Количество элементов после правого 'уса': 4 (0.42%) из 957\n",
      "\n",
      "\n"
     ]
    }
   ],
   "source": [
    "describe_and_whiskers_limits(df_tariff_ultra, 'messages')"
   ]
  },
  {
   "cell_type": "markdown",
   "metadata": {},
   "source": [
    "Как и в сравнении с минутами, видно что пользователи тарифа `Ultra` в среднем используют больше сообщений. Но все так же не выходят и даже не достигают границ лимита."
   ]
  },
  {
   "cell_type": "markdown",
   "metadata": {},
   "source": [
    "#### Объем интернет-трафика"
   ]
  },
  {
   "cell_type": "markdown",
   "metadata": {},
   "source": [
    "Объем `интернет-трафика` включенный в пакет тарифов:  \n",
    "`Smart` - 15 гигабайт (15 360 мегабайт)     \n",
    "`Ultra` - 30 гигабайт (30 720 мегабайт)"
   ]
  },
  {
   "cell_type": "code",
   "execution_count": 87,
   "metadata": {
    "scrolled": true
   },
   "outputs": [
    {
     "data": {
      "image/png": "[encoded data removed]",
      "text/plain": [
       "<Figure size 1080x360 with 1 Axes>"
      ]
     },
     "metadata": {
      "needs_background": "light"
     },
     "output_type": "display_data"
    }
   ],
   "source": [
    "histogram_builder(\n",
    "    [df_tariff_smart, df_tariff_ultra],\n",
    "    series = 'used_mb',\n",
    "    title = 'Гистограмма использованных мегабайт',\n",
    "    xlabel = 'Количество мегабайт'\n",
    ")"
   ]
  },
  {
   "cell_type": "markdown",
   "metadata": {},
   "source": [
    "График использования объемов интернет-трафика похож примерно на использование минут, пользователи тарива `Ultra` более равномерно используют разное количество мегабайт включенных в тарифный план, лимит которого равен 30 гигабайтам.  \n",
    "Пользователи тарифа `Smart` более сконцентрированы в районе своего лимита, посмотрим на более точные цифры с помощью диаграмы размаха."
   ]
  },
  {
   "cell_type": "code",
   "execution_count": 88,
   "metadata": {},
   "outputs": [
    {
     "data": {
      "image/png": "[encoded data removed]",
      "text/plain": [
       "<Figure size 1080x360 with 1 Axes>"
      ]
     },
     "metadata": {
      "needs_background": "light"
     },
     "output_type": "display_data"
    },
    {
     "name": "stdout",
     "output_type": "stream",
     "text": [
      "  Тариф Smart, значения колонки ['used_mb']\n",
      "|------------------------------------------\n",
      "| Mean: 16195.2809\n",
      "| STD: 5893.6821\n",
      "| Q1 (25%): 12626.0\n",
      "| Q2 (50%): 16477.0\n",
      "| Q3 (75%): 20047.0\n",
      "| Минимум: 0\n",
      "| Максимум: 38553\n",
      "| Дисперсия: 34735488.82168984\n",
      "\n",
      "\n",
      "  Границы усов \n",
      "|------------------------------------------\n",
      "| Минимальное значение для левого 'уса': 1494.5\n",
      "| Максимальное значение для правого 'уса': 31178.5,\n",
      "| Количество элементов после правого 'уса': 14 (0.63%) из 2225\n",
      "\n",
      "\n"
     ]
    }
   ],
   "source": [
    "describe_and_whiskers_limits(df_tariff_smart, 'used_mb')"
   ]
  },
  {
   "cell_type": "markdown",
   "metadata": {},
   "source": [
    "В среднем 16 гигабайт, столько используют на тарифе `Smart`, больше половины пользователей все таки выходят за пределы лимита.  \n",
    "Появились выбросы слева, это пользователи которые используют интернет аномально мало, менее 1.5 гигабайт в месяц."
   ]
  },
  {
   "cell_type": "code",
   "execution_count": 89,
   "metadata": {},
   "outputs": [
    {
     "data": {
      "image/png": "[encoded data removed]",
      "text/plain": [
       "<Figure size 1080x360 with 1 Axes>"
      ]
     },
     "metadata": {
      "needs_background": "light"
     },
     "output_type": "display_data"
    },
    {
     "name": "stdout",
     "output_type": "stream",
     "text": [
      "  Тариф Ultra, значения колонки ['used_mb']\n",
      "|------------------------------------------\n",
      "| Mean: 19340.9321\n",
      "| STD: 10211.3592\n",
      "| Q1 (25%): 11413.0\n",
      "| Q2 (50%): 19301.0\n",
      "| Q3 (75%): 26789.0\n",
      "| Минимум: 0\n",
      "| Максимум: 49746\n",
      "| Дисперсия: 104271856.19517276\n",
      "\n",
      "\n",
      "  Границы усов \n",
      "|------------------------------------------\n",
      "| Минимальное значение для левого 'уса': -11651.0\n",
      "| Максимальное значение для правого 'уса': 49853.0,\n",
      "| Количество элементов после правого 'уса': 0 (0.0%) из 957\n",
      "\n",
      "\n"
     ]
    }
   ],
   "source": [
    "describe_and_whiskers_limits(df_tariff_ultra, 'used_mb')"
   ]
  },
  {
   "cell_type": "markdown",
   "metadata": {},
   "source": [
    "Пользователи тарифа `Ultra` используют в среднем почти 20 гагабайт, что есть больше половины предоставленного лимита."
   ]
  },
  {
   "cell_type": "markdown",
   "metadata": {},
   "source": [
    "---"
   ]
  },
  {
   "cell_type": "markdown",
   "metadata": {},
   "source": [
    "## Проверка гипотез"
   ]
  },
  {
   "cell_type": "markdown",
   "metadata": {},
   "source": [
    "`Нулевая гипотеза:` Средняя выручка пользователей тарифов `Ultra` и `Smart` **НЕ** различается.  \n",
    "`Альтернативная гипотеза:` Средняя выручка пользователей тарифов `Ultra` и `Smart` различается."
   ]
  },
  {
   "cell_type": "markdown",
   "metadata": {},
   "source": [
    "Чтобы проверить гипотизу о равенстве средних, нужно понять можно ли считать дисперсии равными.  \n",
    "Сравним дисперсию двух тарифов:"
   ]
  },
  {
   "cell_type": "code",
   "execution_count": 90,
   "metadata": {},
   "outputs": [
    {
     "name": "stdout",
     "output_type": "stream",
     "text": [
      "617860.5047031435\n",
      "127253.50886445254\n"
     ]
    }
   ],
   "source": [
    "print(np.var(df_tariff_smart['total_revenue']))\n",
    "print(np.var(df_tariff_ultra['total_revenue']))"
   ]
  },
  {
   "cell_type": "markdown",
   "metadata": {},
   "source": [
    "Посмотрим среднее выручки по тарифам"
   ]
  },
  {
   "cell_type": "code",
   "execution_count": 91,
   "metadata": {},
   "outputs": [
    {
     "name": "stdout",
     "output_type": "stream",
     "text": [
      "1230.538426966292\n",
      "2060.064785788924\n"
     ]
    }
   ],
   "source": [
    "print(np.mean(df_tariff_smart['total_revenue']))\n",
    "print(np.mean(df_tariff_ultra['total_revenue']))"
   ]
  },
  {
   "cell_type": "markdown",
   "metadata": {},
   "source": [
    "Очевидно что средние выручки и дисперсии не равны, поэтому при вызове статистического метода `st.ttest_ind()` нужно передать параметр `equal_var = False`  \n",
    "Установим критический уровень статистической значимости равным `alpha = 0.05` согласно общепринятому научному стандарту.  \n",
    "Если `p-value` окажется меньше него, отвергнем гипотизу."
   ]
  },
  {
   "cell_type": "code",
   "execution_count": 92,
   "metadata": {},
   "outputs": [
    {
     "name": "stdout",
     "output_type": "stream",
     "text": [
      "2.5322367167114477e-294\n"
     ]
    }
   ],
   "source": [
    "print(st.ttest_ind(\n",
    "    df_tariff_smart['total_revenue'], \n",
    "    df_tariff_ultra['total_revenue'], \n",
    "    equal_var = False)\n",
    ".pvalue)"
   ]
  },
  {
   "cell_type": "markdown",
   "metadata": {},
   "source": [
    "Т.к. `p-value` меньше установленного критического уровеня статистической значимости, мы можем смело отвергнуть нулевую гипотезу. Признаем что средняя выручка пользователей тарифов скорей всего не одинакова."
   ]
  },
  {
   "cell_type": "markdown",
   "metadata": {},
   "source": [
    "---"
   ]
  },
  {
   "cell_type": "markdown",
   "metadata": {},
   "source": [
    "`Нулевая гипотеза:` Средняя выручка пользователей из Москвы **НЕ** отличается от выручки пользователей из других регионов.  \n",
    "`Альтернативная гипотеза:` Средняя выручка пользователей из Москвы отличается от выручки пользователей из других регионов.  "
   ]
  },
  {
   "cell_type": "code",
   "execution_count": 93,
   "metadata": {},
   "outputs": [
    {
     "name": "stdout",
     "output_type": "stream",
     "text": [
      "545563.1701719968\n",
      "631318.7011074824\n"
     ]
    }
   ],
   "source": [
    "print(np.var(df_users_merged.query('city == \"Москва\"')['total_revenue']))\n",
    "print(np.var(df_users_merged.query('city != \"Москва\"')['total_revenue']))"
   ]
  },
  {
   "cell_type": "markdown",
   "metadata": {},
   "source": [
    "Посмотрим среднее выручки тарифов по Москве и другим городам"
   ]
  },
  {
   "cell_type": "code",
   "execution_count": 94,
   "metadata": {},
   "outputs": [
    {
     "name": "stdout",
     "output_type": "stream",
     "text": [
      "1504.355737704918\n",
      "1474.2507776049767\n"
     ]
    }
   ],
   "source": [
    "print(np.mean(df_users_merged.query('city == \"Москва\"')['total_revenue']))\n",
    "print(np.mean(df_users_merged.query('city != \"Москва\"')['total_revenue']))"
   ]
  },
  {
   "cell_type": "markdown",
   "metadata": {},
   "source": [
    "Средние выручки и дисперсии похожи, но не равны, по этому при вызове статистического метода нужно передать параметр `equal_var = False`  \n",
    "Оставим критический уровень статистической значимости равным `alpha = 0.05` согласно общепринятому научному стандарту.  \n",
    "Если `p-value` окажется меньше него, отвергнем гипотизу."
   ]
  },
  {
   "cell_type": "code",
   "execution_count": 95,
   "metadata": {},
   "outputs": [
    {
     "name": "stdout",
     "output_type": "stream",
     "text": [
      "0.3731017786641253\n"
     ]
    }
   ],
   "source": [
    "print(st.ttest_ind(\n",
    "    df_users_merged.query('city == \"Москва\"')['total_revenue'],\n",
    "    df_users_merged.query('city != \"Москва\"')['total_revenue'],\n",
    "    equal_var = False\n",
    ").pvalue)"
   ]
  },
  {
   "cell_type": "markdown",
   "metadata": {},
   "source": [
    "Т.к. `p-value` больше установленного критического уровеня статистической значимости, не получилось отвергнуть нулевую гипотезу.  \n",
    "Полученное значение говорит нам о том, что средняя выручка пользователей из Москвы и других городов не одинакова, но с вероятностью в почти 38% такое или большее различие можно получить случайно.  \n",
    "Это явно слишком большая вероятность чтобы делать вывод о значимом различии между средними выручками."
   ]
  },
  {
   "cell_type": "markdown",
   "metadata": {},
   "source": [
    "---"
   ]
  },
  {
   "cell_type": "markdown",
   "metadata": {},
   "source": [
    "## Общий вывод"
   ]
  },
  {
   "cell_type": "markdown",
   "metadata": {},
   "source": [
    "Проанализировав два тарифных плана: «Смарт» и «Ультра» и стараясь помочь коммерческому департаменту компании «Мегалайн» ответить какой из этих тарифов лучше и приносит больше денег для компании подведем итог исследования."
   ]
  },
  {
   "cell_type": "markdown",
   "metadata": {},
   "source": [
    "В начале проекта, подгрузив все необходимые файлы, подготовили данные для дальнейшего исследования, сменили типы данных. Старались не потерять данные в процессе обработки, звонки с нулевой продолжительностью приняли как пропущенные.  \n",
    "Минуты и мегабайты, все округлили в верхнюю сторону согласно правилам компании.  \n",
    "30 декабря 2018 - это последняя доступная дата нашей выборки в колонке `churn_date`, ей и заполнили пропуски.\n",
    "Для подсчета использования сервисов и дохода компании по месяцам, добавили соответствующие колонки.\n",
    "После смены всех типов данных, оптимизировали все `int` и `float` для экономии памяти.   \n",
    "Среди всех датафреймов проверка на дубликаты показала 0 значение."
   ]
  },
  {
   "cell_type": "markdown",
   "metadata": {},
   "source": [
    "В колонке `total_revenue` минимальных доход с пользователя равен 550 рублям, это абонентская плата тарифа `Smart`, 25% пользователей приносят доход как минимум в 1950 рублей, это равно стоимости тарифа `Ultra`   \n",
    "Если не действующий, то как минимум потенциальный VIP клиент принес компании 6699 рублей месячного дохода."
   ]
  },
  {
   "cell_type": "markdown",
   "metadata": {},
   "source": [
    "Использование количества минут между пользователями тарифа `Smart` довольно похоже. Большинство почти использует весь пакет минут, не мало пользователей выходит за рамки лимита.\n",
    "В сравнении пользователей тарифа `Ultra` среднее количество использованных минут выше, как и медиана, чем у пользователей тарифа `Smart`.  Не смотря на высокий лимит, никто из них не исчерпывает его и не потребляет больше чем 1673 минуты.  \n",
    "\n",
    "Около 75% пользователей тарифа `Smart` почти укладываются в лимит сообщений согласно тарифу. \n",
    "Как и в сравнении с минутами, пользователи тарифа `Ultra` в среднем используют больше сообщений. Но все так же не выходят и даже не достигают границ лимита.\n",
    "\n",
    "В среднем 16 гигабайт, столько используют на тарифе `Smart`, больше половины пользователей выходят за пределы тарифного лимита.  Есть пользователи которые используют интернет аномально мало, менее 1.5 гигабайт в месяц.\n",
    "Пользователи тарифа `Ultra` используют в среднем почти 20 гагабайт, что есть больше половины предоставленного лимита."
   ]
  },
  {
   "cell_type": "markdown",
   "metadata": {},
   "source": [
    "Более половины пользователей тарифа `Smart` не укладываются в лимиты тарифа, докупают дополнительные пакеты минут, сообщений и/или интернет-трафика согласно условиям.  \n",
    "А вот пользователи тарифа `Ultra` напротив, расходуют все в пределах лимитный ограничений, редко кто из них выходит за рамки и докупает дополнительные минуты, сообщения и/или интернет-трафик. Доход компании, в таком случае, основывается только на абонентской плате в 1950 рублей."
   ]
  },
  {
   "cell_type": "markdown",
   "metadata": {},
   "source": [
    "Проверив две гипотизы для выручки по тарифам и выручки по Москве и другим городам, пришли к выводу что:  \n",
    "В среднем Тариф `Smart` приносит с пользователя - 1230 рубля в месяц  \n",
    "В среднем Тариф `Ultra` приносит с пользователя - 2060 рублей в месяц  \n",
    "Статистический тест показал что наблюдаемая разница скорее всего не случайна и компания действительно получает в среднем больше от пользователя тарифа `Ultra`.  \n",
    "\n",
    "\n",
    "Показатель средней выручки от пользователя в месяц по Москве немного выше 1504 рублей в отличии от других городов которое равно 1474 рублям, но мы не можем сделать вывод о том что эта разница статистически значима.\n",
    "\n"
   ]
  },
  {
   "cell_type": "markdown",
   "metadata": {},
   "source": [
    "---"
   ]
  }
 ],
 "metadata": {
  "ExecuteTimeLog": [
   {
    "duration": 245,
    "start_time": "2021-11-30T07:23:04.823Z"
   },
   {
    "duration": 706,
    "start_time": "2021-11-30T07:45:09.325Z"
   },
   {
    "duration": 3,
    "start_time": "2021-11-30T07:47:18.741Z"
   },
   {
    "duration": 172,
    "start_time": "2021-11-30T07:49:16.246Z"
   },
   {
    "duration": 135,
    "start_time": "2021-11-30T07:50:53.527Z"
   },
   {
    "duration": 95,
    "start_time": "2021-11-30T07:51:12.602Z"
   },
   {
    "duration": 1439,
    "start_time": "2021-11-30T07:51:35.998Z"
   },
   {
    "duration": 1390,
    "start_time": "2021-11-30T07:52:34.937Z"
   },
   {
    "duration": 23,
    "start_time": "2021-11-30T07:52:47.642Z"
   },
   {
    "duration": 67,
    "start_time": "2021-11-30T07:53:47.960Z"
   },
   {
    "duration": 22,
    "start_time": "2021-11-30T07:55:46.795Z"
   },
   {
    "duration": 18,
    "start_time": "2021-11-30T07:56:15.281Z"
   },
   {
    "duration": 15,
    "start_time": "2021-11-30T07:56:27.283Z"
   },
   {
    "duration": 7,
    "start_time": "2021-11-30T07:57:06.926Z"
   },
   {
    "duration": 7,
    "start_time": "2021-11-30T07:57:59.952Z"
   },
   {
    "duration": 152,
    "start_time": "2021-11-30T08:08:24.195Z"
   },
   {
    "duration": 140,
    "start_time": "2021-11-30T08:08:28.319Z"
   },
   {
    "duration": 366,
    "start_time": "2021-11-30T08:10:02.450Z"
   },
   {
    "duration": 349,
    "start_time": "2021-11-30T08:10:08.522Z"
   },
   {
    "duration": 329,
    "start_time": "2021-11-30T08:10:12.118Z"
   },
   {
    "duration": 361,
    "start_time": "2021-11-30T08:10:15.926Z"
   },
   {
    "duration": 407,
    "start_time": "2021-11-30T08:10:20.444Z"
   },
   {
    "duration": 348,
    "start_time": "2021-11-30T08:10:24.327Z"
   },
   {
    "duration": 337,
    "start_time": "2021-11-30T08:11:00.662Z"
   },
   {
    "duration": 156,
    "start_time": "2021-11-30T08:11:39.095Z"
   },
   {
    "duration": 4,
    "start_time": "2021-11-30T08:11:42.848Z"
   },
   {
    "duration": 168,
    "start_time": "2021-11-30T08:11:49.634Z"
   },
   {
    "duration": 21,
    "start_time": "2021-11-30T08:11:52.450Z"
   },
   {
    "duration": 3,
    "start_time": "2021-11-30T08:14:19.140Z"
   },
   {
    "duration": 161,
    "start_time": "2021-11-30T08:14:19.145Z"
   },
   {
    "duration": 21,
    "start_time": "2021-11-30T08:14:19.308Z"
   },
   {
    "duration": 19,
    "start_time": "2021-11-30T08:14:19.330Z"
   },
   {
    "duration": 156,
    "start_time": "2021-11-30T08:14:19.351Z"
   },
   {
    "duration": 17,
    "start_time": "2021-11-30T08:14:19.509Z"
   },
   {
    "duration": 99,
    "start_time": "2021-11-30T08:14:19.528Z"
   },
   {
    "duration": 15,
    "start_time": "2021-11-30T08:14:19.628Z"
   },
   {
    "duration": 23,
    "start_time": "2021-11-30T08:14:19.645Z"
   },
   {
    "duration": 6,
    "start_time": "2021-11-30T08:14:19.670Z"
   },
   {
    "duration": 70,
    "start_time": "2021-11-30T08:14:19.678Z"
   },
   {
    "duration": 6,
    "start_time": "2021-11-30T08:14:19.750Z"
   },
   {
    "duration": 4,
    "start_time": "2021-11-30T08:16:08.753Z"
   },
   {
    "duration": 21,
    "start_time": "2021-11-30T08:16:27.991Z"
   },
   {
    "duration": 4,
    "start_time": "2021-11-30T08:16:45.433Z"
   },
   {
    "duration": 129,
    "start_time": "2021-11-30T08:16:46.812Z"
   },
   {
    "duration": 26,
    "start_time": "2021-11-30T08:16:48.164Z"
   },
   {
    "duration": 3,
    "start_time": "2021-11-30T08:16:58.561Z"
   },
   {
    "duration": 131,
    "start_time": "2021-11-30T08:16:59.124Z"
   },
   {
    "duration": 27,
    "start_time": "2021-11-30T08:16:59.843Z"
   },
   {
    "duration": 3,
    "start_time": "2021-11-30T08:17:16.902Z"
   },
   {
    "duration": 134,
    "start_time": "2021-11-30T08:17:17.649Z"
   },
   {
    "duration": 28,
    "start_time": "2021-11-30T08:17:18.537Z"
   },
   {
    "duration": 19,
    "start_time": "2021-11-30T08:17:36.052Z"
   },
   {
    "duration": 4,
    "start_time": "2021-11-30T08:18:22.905Z"
   },
   {
    "duration": 133,
    "start_time": "2021-11-30T08:18:24.141Z"
   },
   {
    "duration": 52,
    "start_time": "2021-11-30T08:18:24.770Z"
   },
   {
    "duration": 4,
    "start_time": "2021-11-30T08:20:40.065Z"
   },
   {
    "duration": 151,
    "start_time": "2021-11-30T08:20:42.320Z"
   },
   {
    "duration": 142,
    "start_time": "2021-11-30T08:20:59.653Z"
   },
   {
    "duration": 51,
    "start_time": "2021-11-30T08:21:00.898Z"
   },
   {
    "duration": 4,
    "start_time": "2021-11-30T08:21:54.179Z"
   },
   {
    "duration": 141,
    "start_time": "2021-11-30T08:21:54.891Z"
   },
   {
    "duration": 60,
    "start_time": "2021-11-30T08:21:56.113Z"
   },
   {
    "duration": 3,
    "start_time": "2021-11-30T08:23:16.221Z"
   },
   {
    "duration": 6,
    "start_time": "2021-11-30T08:23:16.226Z"
   },
   {
    "duration": 149,
    "start_time": "2021-11-30T08:23:16.234Z"
   },
   {
    "duration": 65,
    "start_time": "2021-11-30T08:23:16.385Z"
   },
   {
    "duration": 124,
    "start_time": "2021-11-30T08:23:16.452Z"
   },
   {
    "duration": 85,
    "start_time": "2021-11-30T08:23:16.577Z"
   },
   {
    "duration": 17,
    "start_time": "2021-11-30T08:23:16.664Z"
   },
   {
    "duration": 44,
    "start_time": "2021-11-30T08:23:16.683Z"
   },
   {
    "duration": 3,
    "start_time": "2021-11-30T08:26:54.123Z"
   },
   {
    "duration": 139,
    "start_time": "2021-11-30T08:26:54.627Z"
   },
   {
    "duration": 49,
    "start_time": "2021-11-30T08:26:55.284Z"
   },
   {
    "duration": 182,
    "start_time": "2021-11-30T08:27:33.109Z"
   },
   {
    "duration": 51,
    "start_time": "2021-11-30T08:39:54.636Z"
   },
   {
    "duration": 62,
    "start_time": "2021-11-30T08:40:09.735Z"
   },
   {
    "duration": 3,
    "start_time": "2021-11-30T08:40:14.924Z"
   },
   {
    "duration": 8,
    "start_time": "2021-11-30T08:40:14.929Z"
   },
   {
    "duration": 204,
    "start_time": "2021-11-30T08:40:14.939Z"
   },
   {
    "duration": 175,
    "start_time": "2021-11-30T08:40:15.145Z"
   },
   {
    "duration": 108,
    "start_time": "2021-11-30T08:40:15.322Z"
   },
   {
    "duration": 49,
    "start_time": "2021-11-30T08:40:15.432Z"
   },
   {
    "duration": 64,
    "start_time": "2021-11-30T08:40:15.483Z"
   },
   {
    "duration": 4,
    "start_time": "2021-11-30T10:05:41.536Z"
   },
   {
    "duration": 2,
    "start_time": "2021-11-30T10:05:45.159Z"
   },
   {
    "duration": 16,
    "start_time": "2021-11-30T10:05:45.163Z"
   },
   {
    "duration": 600,
    "start_time": "2021-11-30T10:05:45.182Z"
   },
   {
    "duration": 381,
    "start_time": "2021-11-30T10:05:45.784Z"
   },
   {
    "duration": 255,
    "start_time": "2021-11-30T10:05:46.167Z"
   },
   {
    "duration": 54,
    "start_time": "2021-11-30T10:05:46.424Z"
   },
   {
    "duration": 71,
    "start_time": "2021-11-30T10:05:46.480Z"
   },
   {
    "duration": 4,
    "start_time": "2021-11-30T10:06:30.295Z"
   },
   {
    "duration": 466,
    "start_time": "2021-11-30T10:06:32.579Z"
   },
   {
    "duration": 3,
    "start_time": "2021-11-30T10:06:40.758Z"
   },
   {
    "duration": 13,
    "start_time": "2021-11-30T10:06:40.763Z"
   },
   {
    "duration": 496,
    "start_time": "2021-11-30T10:06:40.778Z"
   },
   {
    "duration": 301,
    "start_time": "2021-11-30T10:06:41.276Z"
   },
   {
    "duration": 250,
    "start_time": "2021-11-30T10:06:41.578Z"
   },
   {
    "duration": 53,
    "start_time": "2021-11-30T10:06:41.829Z"
   },
   {
    "duration": 67,
    "start_time": "2021-11-30T10:06:41.883Z"
   },
   {
    "duration": 4,
    "start_time": "2021-11-30T10:08:05.608Z"
   },
   {
    "duration": 3,
    "start_time": "2021-11-30T10:08:10.811Z"
   },
   {
    "duration": 8,
    "start_time": "2021-11-30T10:08:10.816Z"
   },
   {
    "duration": 525,
    "start_time": "2021-11-30T10:08:10.826Z"
   },
   {
    "duration": 313,
    "start_time": "2021-11-30T10:08:11.353Z"
   },
   {
    "duration": 241,
    "start_time": "2021-11-30T10:08:11.668Z"
   },
   {
    "duration": 51,
    "start_time": "2021-11-30T10:08:11.911Z"
   },
   {
    "duration": 91,
    "start_time": "2021-11-30T10:08:11.964Z"
   },
   {
    "duration": 3,
    "start_time": "2021-11-30T11:06:27.681Z"
   },
   {
    "duration": 591,
    "start_time": "2021-11-30T11:19:01.317Z"
   },
   {
    "duration": 382,
    "start_time": "2021-11-30T11:19:43.854Z"
   },
   {
    "duration": 3,
    "start_time": "2021-11-30T11:20:40.544Z"
   },
   {
    "duration": 14,
    "start_time": "2021-11-30T11:20:40.549Z"
   },
   {
    "duration": 513,
    "start_time": "2021-11-30T11:20:40.565Z"
   },
   {
    "duration": 334,
    "start_time": "2021-11-30T11:20:41.081Z"
   },
   {
    "duration": 255,
    "start_time": "2021-11-30T11:20:41.417Z"
   },
   {
    "duration": 62,
    "start_time": "2021-11-30T11:20:41.675Z"
   },
   {
    "duration": 74,
    "start_time": "2021-11-30T11:20:41.738Z"
   },
   {
    "duration": 14,
    "start_time": "2021-11-30T11:29:51.029Z"
   },
   {
    "duration": 4,
    "start_time": "2021-11-30T12:15:25.458Z"
   },
   {
    "duration": 700,
    "start_time": "2021-11-30T12:15:31.106Z"
   },
   {
    "duration": 4,
    "start_time": "2021-11-30T12:15:40.293Z"
   },
   {
    "duration": 7,
    "start_time": "2021-11-30T12:15:40.299Z"
   },
   {
    "duration": 677,
    "start_time": "2021-11-30T12:15:40.308Z"
   },
   {
    "duration": 471,
    "start_time": "2021-11-30T12:15:40.987Z"
   },
   {
    "duration": 16,
    "start_time": "2021-11-30T12:15:41.460Z"
   },
   {
    "duration": 369,
    "start_time": "2021-11-30T12:15:41.478Z"
   },
   {
    "duration": 83,
    "start_time": "2021-11-30T12:15:41.850Z"
   },
   {
    "duration": 113,
    "start_time": "2021-11-30T12:15:41.936Z"
   },
   {
    "duration": 192,
    "start_time": "2021-11-30T12:18:01.811Z"
   },
   {
    "duration": 8,
    "start_time": "2021-11-30T12:19:31.640Z"
   },
   {
    "duration": 14,
    "start_time": "2021-11-30T12:26:04.297Z"
   },
   {
    "duration": 14,
    "start_time": "2021-11-30T12:26:11.440Z"
   },
   {
    "duration": 387,
    "start_time": "2021-11-30T12:32:34.626Z"
   },
   {
    "duration": 33,
    "start_time": "2021-11-30T12:34:11.138Z"
   },
   {
    "duration": 102,
    "start_time": "2021-11-30T12:34:21.695Z"
   },
   {
    "duration": 515,
    "start_time": "2021-11-30T12:34:49.646Z"
   },
   {
    "duration": 8,
    "start_time": "2021-11-30T12:35:02.605Z"
   },
   {
    "duration": 103,
    "start_time": "2021-11-30T12:35:04.372Z"
   },
   {
    "duration": 104,
    "start_time": "2021-11-30T12:35:08.221Z"
   },
   {
    "duration": 15,
    "start_time": "2021-11-30T12:35:28.179Z"
   },
   {
    "duration": 139,
    "start_time": "2021-11-30T12:43:57.889Z"
   },
   {
    "duration": 116,
    "start_time": "2021-11-30T12:43:58.850Z"
   },
   {
    "duration": 7,
    "start_time": "2021-11-30T12:43:59.474Z"
   },
   {
    "duration": 9,
    "start_time": "2021-11-30T12:44:00.795Z"
   },
   {
    "duration": 3,
    "start_time": "2021-11-30T12:46:27.956Z"
   },
   {
    "duration": 11,
    "start_time": "2021-11-30T12:47:13.249Z"
   },
   {
    "duration": 102,
    "start_time": "2021-11-30T12:47:28.480Z"
   },
   {
    "duration": 3,
    "start_time": "2021-11-30T12:47:35.503Z"
   },
   {
    "duration": 20,
    "start_time": "2021-11-30T12:47:35.508Z"
   },
   {
    "duration": 795,
    "start_time": "2021-11-30T12:47:35.530Z"
   },
   {
    "duration": 462,
    "start_time": "2021-11-30T12:47:36.328Z"
   },
   {
    "duration": 24,
    "start_time": "2021-11-30T12:47:36.793Z"
   },
   {
    "duration": 394,
    "start_time": "2021-11-30T12:47:36.819Z"
   },
   {
    "duration": 56,
    "start_time": "2021-11-30T12:47:37.215Z"
   },
   {
    "duration": 101,
    "start_time": "2021-11-30T12:47:37.273Z"
   },
   {
    "duration": 3,
    "start_time": "2021-11-30T12:47:37.377Z"
   },
   {
    "duration": 203,
    "start_time": "2021-11-30T12:47:37.382Z"
   },
   {
    "duration": 3,
    "start_time": "2021-11-30T12:47:41.055Z"
   },
   {
    "duration": 196,
    "start_time": "2021-11-30T12:47:42.596Z"
   },
   {
    "duration": 44,
    "start_time": "2021-11-30T12:47:45.409Z"
   },
   {
    "duration": 108,
    "start_time": "2021-11-30T12:47:46.583Z"
   },
   {
    "duration": 3,
    "start_time": "2021-11-30T12:49:29.445Z"
   },
   {
    "duration": 104,
    "start_time": "2021-11-30T12:49:30.754Z"
   },
   {
    "duration": 364,
    "start_time": "2021-11-30T12:49:31.686Z"
   },
   {
    "duration": 3,
    "start_time": "2021-11-30T12:49:53.698Z"
   },
   {
    "duration": 107,
    "start_time": "2021-11-30T12:49:54.300Z"
   },
   {
    "duration": 8,
    "start_time": "2021-11-30T12:49:55.037Z"
   },
   {
    "duration": 9,
    "start_time": "2021-11-30T13:00:31.996Z"
   },
   {
    "duration": 15,
    "start_time": "2021-11-30T13:06:20.991Z"
   },
   {
    "duration": 7,
    "start_time": "2021-11-30T13:10:22.516Z"
   },
   {
    "duration": 373,
    "start_time": "2021-11-30T13:10:30.646Z"
   },
   {
    "duration": 666,
    "start_time": "2021-11-30T13:10:39.377Z"
   },
   {
    "duration": 517,
    "start_time": "2021-11-30T13:10:43.965Z"
   },
   {
    "duration": 8,
    "start_time": "2021-11-30T13:11:44.461Z"
   },
   {
    "duration": 9,
    "start_time": "2021-11-30T13:11:56.879Z"
   },
   {
    "duration": 461,
    "start_time": "2021-11-30T13:12:19.821Z"
   },
   {
    "duration": 482,
    "start_time": "2021-11-30T13:12:58.728Z"
   },
   {
    "duration": 5,
    "start_time": "2021-11-30T13:13:13.630Z"
   },
   {
    "duration": 172,
    "start_time": "2021-11-30T13:13:24.470Z"
   },
   {
    "duration": 8,
    "start_time": "2021-11-30T13:13:39.947Z"
   },
   {
    "duration": 4,
    "start_time": "2021-11-30T13:15:19.763Z"
   },
   {
    "duration": 3,
    "start_time": "2021-11-30T13:16:40.006Z"
   },
   {
    "duration": 4,
    "start_time": "2021-11-30T13:17:06.248Z"
   },
   {
    "duration": 3,
    "start_time": "2021-11-30T13:17:15.064Z"
   },
   {
    "duration": 8,
    "start_time": "2021-11-30T13:17:15.069Z"
   },
   {
    "duration": 728,
    "start_time": "2021-11-30T13:17:15.079Z"
   },
   {
    "duration": 546,
    "start_time": "2021-11-30T13:17:15.809Z"
   },
   {
    "duration": 13,
    "start_time": "2021-11-30T13:17:16.357Z"
   },
   {
    "duration": 406,
    "start_time": "2021-11-30T13:17:16.372Z"
   },
   {
    "duration": 58,
    "start_time": "2021-11-30T13:17:16.780Z"
   },
   {
    "duration": 84,
    "start_time": "2021-11-30T13:17:16.841Z"
   },
   {
    "duration": 3,
    "start_time": "2021-11-30T13:17:16.928Z"
   },
   {
    "duration": 5,
    "start_time": "2021-11-30T13:17:16.934Z"
   },
   {
    "duration": 9,
    "start_time": "2021-11-30T13:17:21.778Z"
   },
   {
    "duration": 4,
    "start_time": "2021-11-30T13:17:24.322Z"
   },
   {
    "duration": 8,
    "start_time": "2021-11-30T13:17:29.040Z"
   },
   {
    "duration": 3,
    "start_time": "2021-11-30T13:17:35.328Z"
   },
   {
    "duration": 8,
    "start_time": "2021-11-30T13:17:35.914Z"
   },
   {
    "duration": 9,
    "start_time": "2021-11-30T13:18:10.712Z"
   },
   {
    "duration": 4,
    "start_time": "2021-11-30T13:19:07.416Z"
   },
   {
    "duration": 25,
    "start_time": "2021-11-30T13:19:07.422Z"
   },
   {
    "duration": 980,
    "start_time": "2021-11-30T13:19:07.450Z"
   },
   {
    "duration": 506,
    "start_time": "2021-11-30T13:19:08.432Z"
   },
   {
    "duration": 13,
    "start_time": "2021-11-30T13:19:08.939Z"
   },
   {
    "duration": 416,
    "start_time": "2021-11-30T13:19:08.953Z"
   },
   {
    "duration": 72,
    "start_time": "2021-11-30T13:19:09.372Z"
   },
   {
    "duration": 84,
    "start_time": "2021-11-30T13:19:09.446Z"
   },
   {
    "duration": 3,
    "start_time": "2021-11-30T13:19:09.532Z"
   },
   {
    "duration": 3,
    "start_time": "2021-11-30T13:19:12.828Z"
   },
   {
    "duration": 9,
    "start_time": "2021-11-30T13:19:14.784Z"
   },
   {
    "duration": 3,
    "start_time": "2021-11-30T13:19:15.724Z"
   },
   {
    "duration": 12,
    "start_time": "2021-11-30T13:19:16.479Z"
   },
   {
    "duration": 2,
    "start_time": "2021-11-30T13:21:18.110Z"
   },
   {
    "duration": 8,
    "start_time": "2021-11-30T13:21:22.079Z"
   },
   {
    "duration": 4,
    "start_time": "2021-11-30T13:21:23.408Z"
   },
   {
    "duration": 10,
    "start_time": "2021-11-30T13:21:24.356Z"
   },
   {
    "duration": 4,
    "start_time": "2021-11-30T13:21:33.299Z"
   },
   {
    "duration": 8,
    "start_time": "2021-11-30T13:21:34.051Z"
   },
   {
    "duration": 4,
    "start_time": "2021-11-30T13:22:36.672Z"
   },
   {
    "duration": 9,
    "start_time": "2021-11-30T13:22:37.507Z"
   },
   {
    "duration": 9,
    "start_time": "2021-11-30T13:22:39.899Z"
   },
   {
    "duration": 3,
    "start_time": "2021-11-30T13:22:44.657Z"
   },
   {
    "duration": 14,
    "start_time": "2021-11-30T13:22:44.663Z"
   },
   {
    "duration": 694,
    "start_time": "2021-11-30T13:22:44.680Z"
   },
   {
    "duration": 460,
    "start_time": "2021-11-30T13:22:45.376Z"
   },
   {
    "duration": 12,
    "start_time": "2021-11-30T13:22:45.838Z"
   },
   {
    "duration": 508,
    "start_time": "2021-11-30T13:22:45.852Z"
   },
   {
    "duration": 66,
    "start_time": "2021-11-30T13:22:46.361Z"
   },
   {
    "duration": 91,
    "start_time": "2021-11-30T13:22:46.428Z"
   },
   {
    "duration": 3,
    "start_time": "2021-11-30T13:22:46.522Z"
   },
   {
    "duration": 7,
    "start_time": "2021-11-30T13:22:46.527Z"
   },
   {
    "duration": 8,
    "start_time": "2021-11-30T13:22:48.804Z"
   },
   {
    "duration": 3,
    "start_time": "2021-11-30T13:22:51.532Z"
   },
   {
    "duration": 8,
    "start_time": "2021-11-30T13:22:52.487Z"
   },
   {
    "duration": 3,
    "start_time": "2021-11-30T13:23:07.074Z"
   },
   {
    "duration": 6,
    "start_time": "2021-11-30T13:23:10.248Z"
   },
   {
    "duration": 3,
    "start_time": "2021-11-30T13:24:59.416Z"
   },
   {
    "duration": 3,
    "start_time": "2021-11-30T13:25:00.543Z"
   },
   {
    "duration": 11,
    "start_time": "2021-11-30T13:25:03.004Z"
   },
   {
    "duration": 7,
    "start_time": "2021-11-30T13:25:04.018Z"
   },
   {
    "duration": 11,
    "start_time": "2021-11-30T13:25:05.078Z"
   },
   {
    "duration": 3,
    "start_time": "2021-11-30T13:26:46.903Z"
   },
   {
    "duration": 4,
    "start_time": "2021-11-30T13:26:59.166Z"
   },
   {
    "duration": 9,
    "start_time": "2021-11-30T13:27:00.286Z"
   },
   {
    "duration": 191,
    "start_time": "2021-11-30T13:28:30.580Z"
   },
   {
    "duration": 3,
    "start_time": "2021-11-30T13:30:34.180Z"
   },
   {
    "duration": 16,
    "start_time": "2021-11-30T13:30:34.185Z"
   },
   {
    "duration": 969,
    "start_time": "2021-11-30T13:30:34.204Z"
   },
   {
    "duration": 481,
    "start_time": "2021-11-30T13:30:35.175Z"
   },
   {
    "duration": 12,
    "start_time": "2021-11-30T13:30:35.658Z"
   },
   {
    "duration": 389,
    "start_time": "2021-11-30T13:30:35.672Z"
   },
   {
    "duration": 64,
    "start_time": "2021-11-30T13:30:36.063Z"
   },
   {
    "duration": 97,
    "start_time": "2021-11-30T13:30:36.130Z"
   },
   {
    "duration": 4,
    "start_time": "2021-11-30T13:30:36.230Z"
   },
   {
    "duration": 21,
    "start_time": "2021-11-30T13:30:36.236Z"
   },
   {
    "duration": 8,
    "start_time": "2021-11-30T13:30:39.129Z"
   },
   {
    "duration": 30,
    "start_time": "2021-11-30T13:30:41.377Z"
   },
   {
    "duration": 110,
    "start_time": "2021-11-30T13:30:43.234Z"
   },
   {
    "duration": 4,
    "start_time": "2021-11-30T13:31:46.868Z"
   },
   {
    "duration": 11,
    "start_time": "2021-11-30T13:33:34.999Z"
   },
   {
    "duration": 103,
    "start_time": "2021-11-30T13:33:37.381Z"
   },
   {
    "duration": 11,
    "start_time": "2021-11-30T13:33:55.481Z"
   },
   {
    "duration": 3,
    "start_time": "2021-11-30T13:36:19.492Z"
   },
   {
    "duration": 9,
    "start_time": "2021-11-30T13:36:49.571Z"
   },
   {
    "duration": 24,
    "start_time": "2021-11-30T13:40:26.799Z"
   },
   {
    "duration": 80,
    "start_time": "2021-11-30T13:40:32.090Z"
   },
   {
    "duration": 2,
    "start_time": "2021-11-30T13:41:10.661Z"
   },
   {
    "duration": 7,
    "start_time": "2021-11-30T13:41:23.479Z"
   },
   {
    "duration": 10,
    "start_time": "2021-11-30T13:41:25.130Z"
   },
   {
    "duration": 9,
    "start_time": "2021-11-30T13:42:12.069Z"
   },
   {
    "duration": 7,
    "start_time": "2021-11-30T13:42:24.364Z"
   },
   {
    "duration": 9,
    "start_time": "2021-11-30T13:42:26.614Z"
   },
   {
    "duration": 149,
    "start_time": "2021-11-30T13:42:26.625Z"
   },
   {
    "duration": 7,
    "start_time": "2021-11-30T13:46:36.030Z"
   },
   {
    "duration": 9,
    "start_time": "2021-11-30T13:46:59.420Z"
   },
   {
    "duration": 25,
    "start_time": "2021-11-30T13:48:57.563Z"
   },
   {
    "duration": 65,
    "start_time": "2021-11-30T13:48:59.261Z"
   },
   {
    "duration": 10,
    "start_time": "2021-11-30T13:50:17.746Z"
   },
   {
    "duration": 14,
    "start_time": "2021-11-30T13:54:13.007Z"
   },
   {
    "duration": 9,
    "start_time": "2021-11-30T14:06:12.120Z"
   },
   {
    "duration": 355,
    "start_time": "2021-11-30T14:06:33.659Z"
   },
   {
    "duration": 7,
    "start_time": "2021-11-30T14:06:52.411Z"
   },
   {
    "duration": 17,
    "start_time": "2021-11-30T14:07:58.984Z"
   },
   {
    "duration": 338,
    "start_time": "2021-11-30T14:11:36.532Z"
   },
   {
    "duration": 8,
    "start_time": "2021-11-30T14:11:43.059Z"
   },
   {
    "duration": 12,
    "start_time": "2021-11-30T14:13:52.495Z"
   },
   {
    "duration": 5,
    "start_time": "2021-11-30T14:16:33.887Z"
   },
   {
    "duration": 383,
    "start_time": "2021-11-30T14:17:21.215Z"
   },
   {
    "duration": 5,
    "start_time": "2021-11-30T14:17:25.451Z"
   },
   {
    "duration": 7,
    "start_time": "2021-11-30T14:18:51.604Z"
   },
   {
    "duration": 6,
    "start_time": "2021-11-30T14:19:01.263Z"
   },
   {
    "duration": 381,
    "start_time": "2021-11-30T14:19:44.914Z"
   },
   {
    "duration": 5,
    "start_time": "2021-11-30T14:20:08.085Z"
   },
   {
    "duration": 7,
    "start_time": "2021-11-30T14:20:17.093Z"
   },
   {
    "duration": 4,
    "start_time": "2021-11-30T14:31:39.834Z"
   },
   {
    "duration": 10,
    "start_time": "2021-11-30T14:31:58.338Z"
   },
   {
    "duration": 14,
    "start_time": "2021-11-30T14:32:10.618Z"
   },
   {
    "duration": 9,
    "start_time": "2021-11-30T14:34:45.715Z"
   },
   {
    "duration": 5,
    "start_time": "2021-11-30T14:34:47.003Z"
   },
   {
    "duration": 5,
    "start_time": "2021-11-30T14:34:52.530Z"
   },
   {
    "duration": 6,
    "start_time": "2021-11-30T14:34:54.238Z"
   },
   {
    "duration": 4,
    "start_time": "2021-11-30T14:34:55.789Z"
   },
   {
    "duration": 11,
    "start_time": "2021-11-30T14:34:57.590Z"
   },
   {
    "duration": 119,
    "start_time": "2021-11-30T14:37:14.886Z"
   },
   {
    "duration": 3,
    "start_time": "2021-11-30T15:28:50.790Z"
   },
   {
    "duration": 397,
    "start_time": "2021-11-30T15:29:59.557Z"
   },
   {
    "duration": 3,
    "start_time": "2021-11-30T15:30:07.135Z"
   },
   {
    "duration": 3,
    "start_time": "2021-11-30T15:30:17.183Z"
   },
   {
    "duration": 39,
    "start_time": "2021-11-30T15:30:18.209Z"
   },
   {
    "duration": 10,
    "start_time": "2021-11-30T15:30:21.530Z"
   },
   {
    "duration": 197,
    "start_time": "2021-11-30T15:30:51.921Z"
   },
   {
    "duration": 8,
    "start_time": "2021-11-30T15:37:28.313Z"
   },
   {
    "duration": 8,
    "start_time": "2021-11-30T15:37:54.495Z"
   },
   {
    "duration": 3,
    "start_time": "2021-11-30T15:44:15.832Z"
   },
   {
    "duration": 9,
    "start_time": "2021-11-30T15:44:15.838Z"
   },
   {
    "duration": 925,
    "start_time": "2021-11-30T15:44:15.850Z"
   },
   {
    "duration": 889,
    "start_time": "2021-11-30T15:44:16.777Z"
   },
   {
    "duration": 11,
    "start_time": "2021-11-30T15:44:17.668Z"
   },
   {
    "duration": 410,
    "start_time": "2021-11-30T15:44:17.681Z"
   },
   {
    "duration": 1757,
    "start_time": "2021-11-30T15:44:18.093Z"
   },
   {
    "duration": 382,
    "start_time": "2021-11-30T15:44:19.852Z"
   },
   {
    "duration": 3,
    "start_time": "2021-11-30T15:44:20.238Z"
   },
   {
    "duration": 17,
    "start_time": "2021-11-30T15:44:20.244Z"
   },
   {
    "duration": 30,
    "start_time": "2021-11-30T15:44:20.264Z"
   },
   {
    "duration": 11,
    "start_time": "2021-11-30T15:44:20.297Z"
   },
   {
    "duration": 42,
    "start_time": "2021-11-30T15:44:20.310Z"
   },
   {
    "duration": 105,
    "start_time": "2021-11-30T15:44:20.354Z"
   },
   {
    "duration": 9,
    "start_time": "2021-11-30T15:44:20.461Z"
   },
   {
    "duration": 15,
    "start_time": "2021-11-30T15:44:20.472Z"
   },
   {
    "duration": 31,
    "start_time": "2021-11-30T15:44:20.489Z"
   },
   {
    "duration": 94,
    "start_time": "2021-11-30T15:44:20.523Z"
   },
   {
    "duration": 11,
    "start_time": "2021-11-30T15:44:20.620Z"
   },
   {
    "duration": 34,
    "start_time": "2021-11-30T15:44:20.633Z"
   },
   {
    "duration": 66,
    "start_time": "2021-11-30T15:44:20.668Z"
   },
   {
    "duration": 10,
    "start_time": "2021-11-30T15:44:20.736Z"
   },
   {
    "duration": 26,
    "start_time": "2021-11-30T15:44:20.748Z"
   },
   {
    "duration": 24,
    "start_time": "2021-11-30T15:44:20.776Z"
   },
   {
    "duration": 23,
    "start_time": "2021-11-30T15:44:20.806Z"
   },
   {
    "duration": 30,
    "start_time": "2021-11-30T15:44:20.831Z"
   },
   {
    "duration": 37,
    "start_time": "2021-11-30T15:44:20.864Z"
   },
   {
    "duration": 20,
    "start_time": "2021-11-30T15:44:20.903Z"
   },
   {
    "duration": 41,
    "start_time": "2021-11-30T15:44:20.925Z"
   },
   {
    "duration": 34,
    "start_time": "2021-11-30T15:44:20.967Z"
   },
   {
    "duration": 5,
    "start_time": "2021-11-30T15:44:25.170Z"
   },
   {
    "duration": 28,
    "start_time": "2021-11-30T15:44:26.001Z"
   },
   {
    "duration": 101,
    "start_time": "2021-11-30T15:44:27.260Z"
   },
   {
    "duration": 106,
    "start_time": "2021-11-30T15:44:44.486Z"
   },
   {
    "duration": 3,
    "start_time": "2021-11-30T15:46:54.909Z"
   },
   {
    "duration": 7,
    "start_time": "2021-11-30T15:46:54.914Z"
   },
   {
    "duration": 674,
    "start_time": "2021-11-30T15:46:54.923Z"
   },
   {
    "duration": 417,
    "start_time": "2021-11-30T15:46:55.599Z"
   },
   {
    "duration": 12,
    "start_time": "2021-11-30T15:46:56.017Z"
   },
   {
    "duration": 343,
    "start_time": "2021-11-30T15:46:56.030Z"
   },
   {
    "duration": 54,
    "start_time": "2021-11-30T15:46:56.375Z"
   },
   {
    "duration": 126,
    "start_time": "2021-11-30T15:46:56.431Z"
   },
   {
    "duration": 3,
    "start_time": "2021-11-30T15:46:56.560Z"
   },
   {
    "duration": 9,
    "start_time": "2021-11-30T15:46:56.565Z"
   },
   {
    "duration": 20,
    "start_time": "2021-11-30T15:46:56.576Z"
   },
   {
    "duration": 22,
    "start_time": "2021-11-30T15:46:56.598Z"
   },
   {
    "duration": 35,
    "start_time": "2021-11-30T15:46:56.622Z"
   },
   {
    "duration": 101,
    "start_time": "2021-11-30T15:46:56.659Z"
   },
   {
    "duration": 9,
    "start_time": "2021-11-30T15:46:56.762Z"
   },
   {
    "duration": 19,
    "start_time": "2021-11-30T15:46:56.773Z"
   },
   {
    "duration": 21,
    "start_time": "2021-11-30T15:46:56.795Z"
   },
   {
    "duration": 88,
    "start_time": "2021-11-30T15:46:56.818Z"
   },
   {
    "duration": 8,
    "start_time": "2021-11-30T15:46:56.908Z"
   },
   {
    "duration": 39,
    "start_time": "2021-11-30T15:46:56.919Z"
   },
   {
    "duration": 68,
    "start_time": "2021-11-30T15:46:56.960Z"
   },
   {
    "duration": 8,
    "start_time": "2021-11-30T15:46:57.030Z"
   },
   {
    "duration": 17,
    "start_time": "2021-11-30T15:46:57.039Z"
   },
   {
    "duration": 13,
    "start_time": "2021-11-30T15:46:57.057Z"
   },
   {
    "duration": 14,
    "start_time": "2021-11-30T15:46:57.072Z"
   },
   {
    "duration": 18,
    "start_time": "2021-11-30T15:46:57.088Z"
   },
   {
    "duration": 4,
    "start_time": "2021-11-30T15:46:57.110Z"
   },
   {
    "duration": 10,
    "start_time": "2021-11-30T15:46:57.116Z"
   },
   {
    "duration": 11,
    "start_time": "2021-11-30T15:46:57.127Z"
   },
   {
    "duration": 9,
    "start_time": "2021-11-30T15:46:57.140Z"
   },
   {
    "duration": 6,
    "start_time": "2021-11-30T15:46:57.151Z"
   },
   {
    "duration": 34,
    "start_time": "2021-11-30T15:46:57.158Z"
   },
   {
    "duration": 4,
    "start_time": "2021-11-30T15:46:59.774Z"
   },
   {
    "duration": 101,
    "start_time": "2021-11-30T15:47:00.991Z"
   },
   {
    "duration": 215,
    "start_time": "2021-12-01T07:44:00.095Z"
   },
   {
    "duration": 604,
    "start_time": "2021-12-01T07:44:08.456Z"
   },
   {
    "duration": 4,
    "start_time": "2021-12-01T07:44:09.062Z"
   },
   {
    "duration": 633,
    "start_time": "2021-12-01T07:44:09.068Z"
   },
   {
    "duration": 413,
    "start_time": "2021-12-01T07:44:09.702Z"
   },
   {
    "duration": 11,
    "start_time": "2021-12-01T07:44:10.116Z"
   },
   {
    "duration": 334,
    "start_time": "2021-12-01T07:44:10.128Z"
   },
   {
    "duration": 55,
    "start_time": "2021-12-01T07:44:10.463Z"
   },
   {
    "duration": 73,
    "start_time": "2021-12-01T07:44:10.521Z"
   },
   {
    "duration": 3,
    "start_time": "2021-12-01T07:44:10.595Z"
   },
   {
    "duration": 19,
    "start_time": "2021-12-01T07:44:10.599Z"
   },
   {
    "duration": 30,
    "start_time": "2021-12-01T07:44:10.619Z"
   },
   {
    "duration": 27,
    "start_time": "2021-12-01T07:44:10.650Z"
   },
   {
    "duration": 40,
    "start_time": "2021-12-01T07:44:10.679Z"
   },
   {
    "duration": 99,
    "start_time": "2021-12-01T07:44:10.721Z"
   },
   {
    "duration": 217,
    "start_time": "2021-12-01T07:44:12.695Z"
   },
   {
    "duration": 16,
    "start_time": "2021-12-01T07:46:13.715Z"
   },
   {
    "duration": 10,
    "start_time": "2021-12-01T07:46:31.975Z"
   },
   {
    "duration": 8,
    "start_time": "2021-12-01T07:46:46.412Z"
   },
   {
    "duration": 7,
    "start_time": "2021-12-01T07:47:40.072Z"
   },
   {
    "duration": 11,
    "start_time": "2021-12-01T07:48:02.549Z"
   },
   {
    "duration": 80,
    "start_time": "2021-12-01T07:55:41.281Z"
   },
   {
    "duration": 38,
    "start_time": "2021-12-01T07:56:53.019Z"
   },
   {
    "duration": 38,
    "start_time": "2021-12-01T07:57:09.084Z"
   },
   {
    "duration": 6,
    "start_time": "2021-12-01T07:57:38.472Z"
   },
   {
    "duration": 3,
    "start_time": "2021-12-01T07:58:56.485Z"
   },
   {
    "duration": 5,
    "start_time": "2021-12-01T07:58:56.490Z"
   },
   {
    "duration": 646,
    "start_time": "2021-12-01T07:58:56.497Z"
   },
   {
    "duration": 408,
    "start_time": "2021-12-01T07:58:57.145Z"
   },
   {
    "duration": 12,
    "start_time": "2021-12-01T07:58:57.555Z"
   },
   {
    "duration": 333,
    "start_time": "2021-12-01T07:58:57.568Z"
   },
   {
    "duration": 51,
    "start_time": "2021-12-01T07:58:57.904Z"
   },
   {
    "duration": 93,
    "start_time": "2021-12-01T07:58:57.957Z"
   },
   {
    "duration": 2,
    "start_time": "2021-12-01T07:58:58.052Z"
   },
   {
    "duration": 7,
    "start_time": "2021-12-01T07:58:58.056Z"
   },
   {
    "duration": 11,
    "start_time": "2021-12-01T07:58:58.065Z"
   },
   {
    "duration": 13,
    "start_time": "2021-12-01T07:58:58.078Z"
   },
   {
    "duration": 27,
    "start_time": "2021-12-01T07:58:58.093Z"
   },
   {
    "duration": 98,
    "start_time": "2021-12-01T07:58:58.121Z"
   },
   {
    "duration": 87,
    "start_time": "2021-12-01T07:58:58.221Z"
   },
   {
    "duration": 8,
    "start_time": "2021-12-01T07:58:58.310Z"
   },
   {
    "duration": 11,
    "start_time": "2021-12-01T07:58:58.320Z"
   },
   {
    "duration": 10,
    "start_time": "2021-12-01T07:58:58.334Z"
   },
   {
    "duration": 9,
    "start_time": "2021-12-01T07:58:58.346Z"
   },
   {
    "duration": 38,
    "start_time": "2021-12-01T07:58:58.357Z"
   },
   {
    "duration": 68,
    "start_time": "2021-12-01T07:58:58.397Z"
   },
   {
    "duration": 61,
    "start_time": "2021-12-01T07:58:58.479Z"
   },
   {
    "duration": 12,
    "start_time": "2021-12-01T07:58:58.549Z"
   },
   {
    "duration": 40,
    "start_time": "2021-12-01T07:58:58.563Z"
   },
   {
    "duration": 97,
    "start_time": "2021-12-01T07:58:58.606Z"
   },
   {
    "duration": 34,
    "start_time": "2021-12-01T07:58:58.704Z"
   },
   {
    "duration": 7,
    "start_time": "2021-12-01T07:58:58.740Z"
   },
   {
    "duration": 8,
    "start_time": "2021-12-01T07:58:58.749Z"
   },
   {
    "duration": 11,
    "start_time": "2021-12-01T07:58:58.758Z"
   },
   {
    "duration": 6,
    "start_time": "2021-12-01T07:58:58.790Z"
   },
   {
    "duration": 12,
    "start_time": "2021-12-01T07:58:58.798Z"
   },
   {
    "duration": 6,
    "start_time": "2021-12-01T07:58:58.812Z"
   },
   {
    "duration": 7,
    "start_time": "2021-12-01T07:58:58.819Z"
   },
   {
    "duration": 10,
    "start_time": "2021-12-01T07:58:58.827Z"
   },
   {
    "duration": 7,
    "start_time": "2021-12-01T07:59:07.126Z"
   },
   {
    "duration": 610,
    "start_time": "2021-12-01T07:59:22.316Z"
   },
   {
    "duration": 3,
    "start_time": "2021-12-01T07:59:22.928Z"
   },
   {
    "duration": 665,
    "start_time": "2021-12-01T07:59:22.933Z"
   },
   {
    "duration": 423,
    "start_time": "2021-12-01T07:59:23.599Z"
   },
   {
    "duration": 11,
    "start_time": "2021-12-01T07:59:24.024Z"
   },
   {
    "duration": 347,
    "start_time": "2021-12-01T07:59:24.037Z"
   },
   {
    "duration": 49,
    "start_time": "2021-12-01T07:59:24.385Z"
   },
   {
    "duration": 81,
    "start_time": "2021-12-01T07:59:24.436Z"
   },
   {
    "duration": 3,
    "start_time": "2021-12-01T07:59:24.519Z"
   },
   {
    "duration": 10,
    "start_time": "2021-12-01T07:59:24.523Z"
   },
   {
    "duration": 11,
    "start_time": "2021-12-01T07:59:24.535Z"
   },
   {
    "duration": 10,
    "start_time": "2021-12-01T07:59:24.548Z"
   },
   {
    "duration": 44,
    "start_time": "2021-12-01T07:59:24.560Z"
   },
   {
    "duration": 101,
    "start_time": "2021-12-01T07:59:24.605Z"
   },
   {
    "duration": 98,
    "start_time": "2021-12-01T07:59:24.708Z"
   },
   {
    "duration": 8,
    "start_time": "2021-12-01T07:59:24.808Z"
   },
   {
    "duration": 10,
    "start_time": "2021-12-01T07:59:24.818Z"
   },
   {
    "duration": 11,
    "start_time": "2021-12-01T07:59:24.829Z"
   },
   {
    "duration": 7,
    "start_time": "2021-12-01T07:59:24.841Z"
   },
   {
    "duration": 42,
    "start_time": "2021-12-01T07:59:24.849Z"
   },
   {
    "duration": 74,
    "start_time": "2021-12-01T07:59:24.893Z"
   },
   {
    "duration": 51,
    "start_time": "2021-12-01T07:59:24.969Z"
   },
   {
    "duration": 7,
    "start_time": "2021-12-01T07:59:25.023Z"
   },
   {
    "duration": 20,
    "start_time": "2021-12-01T07:59:25.032Z"
   },
   {
    "duration": 79,
    "start_time": "2021-12-01T07:59:25.054Z"
   },
   {
    "duration": 36,
    "start_time": "2021-12-01T07:59:25.135Z"
   },
   {
    "duration": 19,
    "start_time": "2021-12-01T07:59:25.172Z"
   },
   {
    "duration": 5,
    "start_time": "2021-12-01T07:59:25.193Z"
   },
   {
    "duration": 13,
    "start_time": "2021-12-01T07:59:25.199Z"
   },
   {
    "duration": 7,
    "start_time": "2021-12-01T07:59:25.213Z"
   },
   {
    "duration": 6,
    "start_time": "2021-12-01T07:59:25.221Z"
   },
   {
    "duration": 7,
    "start_time": "2021-12-01T07:59:25.228Z"
   },
   {
    "duration": 6,
    "start_time": "2021-12-01T07:59:25.236Z"
   },
   {
    "duration": 9,
    "start_time": "2021-12-01T07:59:25.244Z"
   },
   {
    "duration": 8,
    "start_time": "2021-12-01T07:59:25.254Z"
   },
   {
    "duration": 29,
    "start_time": "2021-12-01T07:59:25.263Z"
   },
   {
    "duration": 6,
    "start_time": "2021-12-01T07:59:25.294Z"
   },
   {
    "duration": 29,
    "start_time": "2021-12-01T07:59:25.301Z"
   },
   {
    "duration": 103,
    "start_time": "2021-12-01T07:59:25.331Z"
   },
   {
    "duration": 7,
    "start_time": "2021-12-01T08:00:07.562Z"
   },
   {
    "duration": 2,
    "start_time": "2021-12-01T08:00:09.837Z"
   },
   {
    "duration": 4,
    "start_time": "2021-12-01T08:00:13.264Z"
   },
   {
    "duration": 4,
    "start_time": "2021-12-01T08:00:14.587Z"
   },
   {
    "duration": 95,
    "start_time": "2021-12-01T08:00:17.416Z"
   },
   {
    "duration": 582,
    "start_time": "2021-12-01T08:00:44.141Z"
   },
   {
    "duration": 4,
    "start_time": "2021-12-01T08:00:44.725Z"
   },
   {
    "duration": 664,
    "start_time": "2021-12-01T08:00:44.731Z"
   },
   {
    "duration": 433,
    "start_time": "2021-12-01T08:00:45.397Z"
   },
   {
    "duration": 11,
    "start_time": "2021-12-01T08:00:45.831Z"
   },
   {
    "duration": 332,
    "start_time": "2021-12-01T08:00:45.844Z"
   },
   {
    "duration": 51,
    "start_time": "2021-12-01T08:00:46.178Z"
   },
   {
    "duration": 74,
    "start_time": "2021-12-01T08:00:46.231Z"
   },
   {
    "duration": 2,
    "start_time": "2021-12-01T08:00:46.309Z"
   },
   {
    "duration": 7,
    "start_time": "2021-12-01T08:00:46.313Z"
   },
   {
    "duration": 9,
    "start_time": "2021-12-01T08:00:46.322Z"
   },
   {
    "duration": 6,
    "start_time": "2021-12-01T08:00:46.333Z"
   },
   {
    "duration": 26,
    "start_time": "2021-12-01T08:00:46.340Z"
   },
   {
    "duration": 100,
    "start_time": "2021-12-01T08:00:46.391Z"
   },
   {
    "duration": 86,
    "start_time": "2021-12-01T08:00:46.493Z"
   },
   {
    "duration": 16,
    "start_time": "2021-12-01T08:00:46.581Z"
   },
   {
    "duration": 9,
    "start_time": "2021-12-01T08:00:46.598Z"
   },
   {
    "duration": 11,
    "start_time": "2021-12-01T08:00:46.609Z"
   },
   {
    "duration": 8,
    "start_time": "2021-12-01T08:00:46.621Z"
   },
   {
    "duration": 20,
    "start_time": "2021-12-01T08:00:46.630Z"
   },
   {
    "duration": 97,
    "start_time": "2021-12-01T08:00:46.651Z"
   },
   {
    "duration": 33,
    "start_time": "2021-12-01T08:00:46.749Z"
   },
   {
    "duration": 7,
    "start_time": "2021-12-01T08:00:46.792Z"
   },
   {
    "duration": 18,
    "start_time": "2021-12-01T08:00:46.801Z"
   },
   {
    "duration": 76,
    "start_time": "2021-12-01T08:00:46.820Z"
   },
   {
    "duration": 36,
    "start_time": "2021-12-01T08:00:46.897Z"
   },
   {
    "duration": 8,
    "start_time": "2021-12-01T08:00:46.936Z"
   },
   {
    "duration": 8,
    "start_time": "2021-12-01T08:00:46.945Z"
   },
   {
    "duration": 11,
    "start_time": "2021-12-01T08:00:46.954Z"
   },
   {
    "duration": 30,
    "start_time": "2021-12-01T08:00:46.966Z"
   },
   {
    "duration": 7,
    "start_time": "2021-12-01T08:00:46.998Z"
   },
   {
    "duration": 6,
    "start_time": "2021-12-01T08:00:47.006Z"
   },
   {
    "duration": 5,
    "start_time": "2021-12-01T08:00:47.014Z"
   },
   {
    "duration": 10,
    "start_time": "2021-12-01T08:00:47.021Z"
   },
   {
    "duration": 6,
    "start_time": "2021-12-01T08:00:57.882Z"
   },
   {
    "duration": 10,
    "start_time": "2021-12-01T08:01:12.924Z"
   },
   {
    "duration": 65,
    "start_time": "2021-12-01T08:02:01.651Z"
   },
   {
    "duration": 2,
    "start_time": "2021-12-01T08:02:05.786Z"
   },
   {
    "duration": 3,
    "start_time": "2021-12-01T08:07:47.196Z"
   },
   {
    "duration": 6,
    "start_time": "2021-12-01T08:07:47.993Z"
   },
   {
    "duration": 11,
    "start_time": "2021-12-01T08:07:49.124Z"
   },
   {
    "duration": 5,
    "start_time": "2021-12-01T08:12:19.634Z"
   },
   {
    "duration": 231,
    "start_time": "2021-12-01T08:12:56.362Z"
   },
   {
    "duration": 8,
    "start_time": "2021-12-01T08:13:03.966Z"
   },
   {
    "duration": 182,
    "start_time": "2021-12-01T08:17:34.671Z"
   },
   {
    "duration": 4,
    "start_time": "2021-12-01T08:17:38.547Z"
   },
   {
    "duration": 179,
    "start_time": "2021-12-01T08:18:31.529Z"
   },
   {
    "duration": 4,
    "start_time": "2021-12-01T08:18:36.879Z"
   },
   {
    "duration": 6,
    "start_time": "2021-12-01T08:18:54.741Z"
   },
   {
    "duration": 4,
    "start_time": "2021-12-01T08:19:00.334Z"
   },
   {
    "duration": 5,
    "start_time": "2021-12-01T08:25:34.990Z"
   },
   {
    "duration": 10,
    "start_time": "2021-12-01T09:30:45.270Z"
   },
   {
    "duration": 3,
    "start_time": "2021-12-01T09:31:06.375Z"
   },
   {
    "duration": 8,
    "start_time": "2021-12-01T09:31:06.380Z"
   },
   {
    "duration": 654,
    "start_time": "2021-12-01T09:31:06.390Z"
   },
   {
    "duration": 419,
    "start_time": "2021-12-01T09:31:07.046Z"
   },
   {
    "duration": 11,
    "start_time": "2021-12-01T09:31:07.466Z"
   },
   {
    "duration": 319,
    "start_time": "2021-12-01T09:31:07.492Z"
   },
   {
    "duration": 60,
    "start_time": "2021-12-01T09:31:07.813Z"
   },
   {
    "duration": 117,
    "start_time": "2021-12-01T09:31:07.877Z"
   },
   {
    "duration": 5,
    "start_time": "2021-12-01T09:31:07.997Z"
   },
   {
    "duration": 4,
    "start_time": "2021-12-01T09:31:08.006Z"
   },
   {
    "duration": 14,
    "start_time": "2021-12-01T09:31:08.012Z"
   },
   {
    "duration": 8,
    "start_time": "2021-12-01T09:31:08.028Z"
   },
   {
    "duration": 64,
    "start_time": "2021-12-01T09:31:08.039Z"
   },
   {
    "duration": 102,
    "start_time": "2021-12-01T09:31:08.105Z"
   },
   {
    "duration": 96,
    "start_time": "2021-12-01T09:31:08.208Z"
   },
   {
    "duration": 8,
    "start_time": "2021-12-01T09:31:08.306Z"
   },
   {
    "duration": 12,
    "start_time": "2021-12-01T09:31:08.316Z"
   },
   {
    "duration": 22,
    "start_time": "2021-12-01T09:31:08.329Z"
   },
   {
    "duration": 5,
    "start_time": "2021-12-01T09:31:08.352Z"
   },
   {
    "duration": 32,
    "start_time": "2021-12-01T09:31:08.358Z"
   },
   {
    "duration": 77,
    "start_time": "2021-12-01T09:31:08.392Z"
   },
   {
    "duration": 37,
    "start_time": "2021-12-01T09:31:08.472Z"
   },
   {
    "duration": 7,
    "start_time": "2021-12-01T09:31:08.510Z"
   },
   {
    "duration": 26,
    "start_time": "2021-12-01T09:31:08.519Z"
   },
   {
    "duration": 69,
    "start_time": "2021-12-01T09:31:08.547Z"
   },
   {
    "duration": 33,
    "start_time": "2021-12-01T09:31:08.618Z"
   },
   {
    "duration": 7,
    "start_time": "2021-12-01T09:31:08.653Z"
   },
   {
    "duration": 26,
    "start_time": "2021-12-01T09:31:08.662Z"
   },
   {
    "duration": 20,
    "start_time": "2021-12-01T09:31:08.690Z"
   },
   {
    "duration": 24,
    "start_time": "2021-12-01T09:31:08.712Z"
   },
   {
    "duration": 4,
    "start_time": "2021-12-01T09:31:08.737Z"
   },
   {
    "duration": 22,
    "start_time": "2021-12-01T09:31:08.743Z"
   },
   {
    "duration": 23,
    "start_time": "2021-12-01T09:31:08.767Z"
   },
   {
    "duration": 18,
    "start_time": "2021-12-01T09:31:08.792Z"
   },
   {
    "duration": 18,
    "start_time": "2021-12-01T09:31:08.811Z"
   },
   {
    "duration": 10,
    "start_time": "2021-12-01T09:31:08.830Z"
   },
   {
    "duration": 25,
    "start_time": "2021-12-01T09:31:08.841Z"
   },
   {
    "duration": 9,
    "start_time": "2021-12-01T09:31:08.868Z"
   },
   {
    "duration": 19,
    "start_time": "2021-12-01T09:31:08.878Z"
   },
   {
    "duration": 52,
    "start_time": "2021-12-01T09:31:08.899Z"
   },
   {
    "duration": 93,
    "start_time": "2021-12-01T09:31:08.952Z"
   },
   {
    "duration": 11,
    "start_time": "2021-12-01T09:31:12.261Z"
   },
   {
    "duration": 8,
    "start_time": "2021-12-01T09:31:52.723Z"
   },
   {
    "duration": 13,
    "start_time": "2021-12-01T09:34:19.592Z"
   },
   {
    "duration": 531,
    "start_time": "2021-12-01T09:34:45.234Z"
   },
   {
    "duration": 4,
    "start_time": "2021-12-01T09:35:21.517Z"
   },
   {
    "duration": 12,
    "start_time": "2021-12-01T09:35:37.788Z"
   },
   {
    "duration": 5,
    "start_time": "2021-12-01T09:38:58.832Z"
   },
   {
    "duration": 15,
    "start_time": "2021-12-01T09:39:43.819Z"
   },
   {
    "duration": 15,
    "start_time": "2021-12-01T09:39:57.918Z"
   },
   {
    "duration": 4,
    "start_time": "2021-12-01T09:43:07.807Z"
   },
   {
    "duration": 94,
    "start_time": "2021-12-01T09:45:28.036Z"
   },
   {
    "duration": 120,
    "start_time": "2021-12-01T09:45:55.864Z"
   },
   {
    "duration": 104,
    "start_time": "2021-12-01T09:46:14.809Z"
   },
   {
    "duration": 97,
    "start_time": "2021-12-01T09:46:39.733Z"
   },
   {
    "duration": 91,
    "start_time": "2021-12-01T09:46:53.884Z"
   },
   {
    "duration": 94,
    "start_time": "2021-12-01T09:47:03.028Z"
   },
   {
    "duration": 9,
    "start_time": "2021-12-01T09:50:03.143Z"
   },
   {
    "duration": 22,
    "start_time": "2021-12-01T09:50:05.387Z"
   },
   {
    "duration": 9,
    "start_time": "2021-12-01T09:50:06.239Z"
   },
   {
    "duration": 55,
    "start_time": "2021-12-01T09:50:25.056Z"
   },
   {
    "duration": 54,
    "start_time": "2021-12-01T09:51:24.121Z"
   },
   {
    "duration": 3,
    "start_time": "2021-12-01T09:57:29.906Z"
   },
   {
    "duration": 23,
    "start_time": "2021-12-01T09:57:29.913Z"
   },
   {
    "duration": 696,
    "start_time": "2021-12-01T09:57:29.937Z"
   },
   {
    "duration": 437,
    "start_time": "2021-12-01T09:57:30.635Z"
   },
   {
    "duration": 20,
    "start_time": "2021-12-01T09:57:31.074Z"
   },
   {
    "duration": 359,
    "start_time": "2021-12-01T09:57:31.095Z"
   },
   {
    "duration": 61,
    "start_time": "2021-12-01T09:57:31.455Z"
   },
   {
    "duration": 74,
    "start_time": "2021-12-01T09:57:31.517Z"
   },
   {
    "duration": 2,
    "start_time": "2021-12-01T09:57:31.593Z"
   },
   {
    "duration": 7,
    "start_time": "2021-12-01T09:57:31.597Z"
   },
   {
    "duration": 17,
    "start_time": "2021-12-01T09:57:31.605Z"
   },
   {
    "duration": 13,
    "start_time": "2021-12-01T09:57:31.624Z"
   },
   {
    "duration": 28,
    "start_time": "2021-12-01T09:57:31.638Z"
   },
   {
    "duration": 104,
    "start_time": "2021-12-01T09:57:31.667Z"
   },
   {
    "duration": 95,
    "start_time": "2021-12-01T09:57:31.772Z"
   },
   {
    "duration": 21,
    "start_time": "2021-12-01T09:57:35.926Z"
   },
   {
    "duration": 3,
    "start_time": "2021-12-01T09:57:53.118Z"
   },
   {
    "duration": 9,
    "start_time": "2021-12-01T09:57:53.123Z"
   },
   {
    "duration": 625,
    "start_time": "2021-12-01T09:57:53.134Z"
   },
   {
    "duration": 407,
    "start_time": "2021-12-01T09:57:53.761Z"
   },
   {
    "duration": 22,
    "start_time": "2021-12-01T09:57:54.170Z"
   },
   {
    "duration": 310,
    "start_time": "2021-12-01T09:57:54.194Z"
   },
   {
    "duration": 49,
    "start_time": "2021-12-01T09:57:54.506Z"
   },
   {
    "duration": 64,
    "start_time": "2021-12-01T09:57:54.557Z"
   },
   {
    "duration": 3,
    "start_time": "2021-12-01T09:57:54.622Z"
   },
   {
    "duration": 7,
    "start_time": "2021-12-01T09:57:54.626Z"
   },
   {
    "duration": 15,
    "start_time": "2021-12-01T09:57:54.635Z"
   },
   {
    "duration": 9,
    "start_time": "2021-12-01T09:57:54.652Z"
   },
   {
    "duration": 42,
    "start_time": "2021-12-01T09:57:54.662Z"
   },
   {
    "duration": 97,
    "start_time": "2021-12-01T09:57:54.705Z"
   },
   {
    "duration": 79,
    "start_time": "2021-12-01T09:57:54.804Z"
   },
   {
    "duration": 26,
    "start_time": "2021-12-01T09:57:54.884Z"
   },
   {
    "duration": 8,
    "start_time": "2021-12-01T09:57:54.911Z"
   },
   {
    "duration": 11,
    "start_time": "2021-12-01T09:57:54.920Z"
   },
   {
    "duration": 12,
    "start_time": "2021-12-01T09:57:54.932Z"
   },
   {
    "duration": 5,
    "start_time": "2021-12-01T09:57:54.945Z"
   },
   {
    "duration": 48,
    "start_time": "2021-12-01T09:57:54.951Z"
   },
   {
    "duration": 77,
    "start_time": "2021-12-01T09:57:55.003Z"
   },
   {
    "duration": 40,
    "start_time": "2021-12-01T09:57:55.082Z"
   },
   {
    "duration": 6,
    "start_time": "2021-12-01T09:57:55.124Z"
   },
   {
    "duration": 20,
    "start_time": "2021-12-01T09:57:55.132Z"
   },
   {
    "duration": 73,
    "start_time": "2021-12-01T09:57:55.153Z"
   },
   {
    "duration": 34,
    "start_time": "2021-12-01T09:57:55.228Z"
   },
   {
    "duration": 8,
    "start_time": "2021-12-01T09:57:55.263Z"
   },
   {
    "duration": 6,
    "start_time": "2021-12-01T09:57:55.292Z"
   },
   {
    "duration": 13,
    "start_time": "2021-12-01T09:57:55.299Z"
   },
   {
    "duration": 6,
    "start_time": "2021-12-01T09:57:55.313Z"
   },
   {
    "duration": 6,
    "start_time": "2021-12-01T09:57:55.321Z"
   },
   {
    "duration": 6,
    "start_time": "2021-12-01T09:57:55.328Z"
   },
   {
    "duration": 6,
    "start_time": "2021-12-01T09:57:55.336Z"
   },
   {
    "duration": 10,
    "start_time": "2021-12-01T09:57:55.343Z"
   },
   {
    "duration": 8,
    "start_time": "2021-12-01T09:57:55.354Z"
   },
   {
    "duration": 8,
    "start_time": "2021-12-01T09:57:55.363Z"
   },
   {
    "duration": 6,
    "start_time": "2021-12-01T09:57:55.391Z"
   },
   {
    "duration": 5,
    "start_time": "2021-12-01T09:57:55.399Z"
   },
   {
    "duration": 6,
    "start_time": "2021-12-01T09:57:55.405Z"
   },
   {
    "duration": 26,
    "start_time": "2021-12-01T09:57:55.412Z"
   },
   {
    "duration": 108,
    "start_time": "2021-12-01T09:57:55.440Z"
   },
   {
    "duration": 10,
    "start_time": "2021-12-01T09:57:55.550Z"
   },
   {
    "duration": 10,
    "start_time": "2021-12-01T09:58:00.181Z"
   },
   {
    "duration": 38,
    "start_time": "2021-12-01T09:58:02.574Z"
   },
   {
    "duration": 3,
    "start_time": "2021-12-01T10:00:04.699Z"
   },
   {
    "duration": 7,
    "start_time": "2021-12-01T10:00:04.703Z"
   },
   {
    "duration": 644,
    "start_time": "2021-12-01T10:00:04.712Z"
   },
   {
    "duration": 448,
    "start_time": "2021-12-01T10:00:05.357Z"
   },
   {
    "duration": 11,
    "start_time": "2021-12-01T10:00:05.807Z"
   },
   {
    "duration": 341,
    "start_time": "2021-12-01T10:00:05.819Z"
   },
   {
    "duration": 55,
    "start_time": "2021-12-01T10:00:06.162Z"
   },
   {
    "duration": 72,
    "start_time": "2021-12-01T10:00:06.219Z"
   },
   {
    "duration": 2,
    "start_time": "2021-12-01T10:00:06.293Z"
   },
   {
    "duration": 5,
    "start_time": "2021-12-01T10:00:06.297Z"
   },
   {
    "duration": 13,
    "start_time": "2021-12-01T10:00:06.303Z"
   },
   {
    "duration": 7,
    "start_time": "2021-12-01T10:00:06.317Z"
   },
   {
    "duration": 27,
    "start_time": "2021-12-01T10:00:06.326Z"
   },
   {
    "duration": 107,
    "start_time": "2021-12-01T10:00:06.355Z"
   },
   {
    "duration": 93,
    "start_time": "2021-12-01T10:00:06.464Z"
   },
   {
    "duration": 23,
    "start_time": "2021-12-01T10:00:06.558Z"
   },
   {
    "duration": 16,
    "start_time": "2021-12-01T10:00:06.582Z"
   },
   {
    "duration": 11,
    "start_time": "2021-12-01T10:00:06.602Z"
   },
   {
    "duration": 14,
    "start_time": "2021-12-01T10:00:06.615Z"
   },
   {
    "duration": 20,
    "start_time": "2021-12-01T10:00:06.630Z"
   },
   {
    "duration": 22,
    "start_time": "2021-12-01T10:00:06.652Z"
   },
   {
    "duration": 82,
    "start_time": "2021-12-01T10:00:06.675Z"
   },
   {
    "duration": 40,
    "start_time": "2021-12-01T10:00:06.759Z"
   },
   {
    "duration": 17,
    "start_time": "2021-12-01T10:00:06.801Z"
   },
   {
    "duration": 7,
    "start_time": "2021-12-01T10:00:06.820Z"
   },
   {
    "duration": 28,
    "start_time": "2021-12-01T10:00:06.829Z"
   },
   {
    "duration": 73,
    "start_time": "2021-12-01T10:00:06.859Z"
   },
   {
    "duration": 35,
    "start_time": "2021-12-01T10:00:06.934Z"
   },
   {
    "duration": 30,
    "start_time": "2021-12-01T10:00:06.971Z"
   },
   {
    "duration": 8,
    "start_time": "2021-12-01T10:00:07.002Z"
   },
   {
    "duration": 7,
    "start_time": "2021-12-01T10:00:07.012Z"
   },
   {
    "duration": 11,
    "start_time": "2021-12-01T10:00:07.021Z"
   },
   {
    "duration": 8,
    "start_time": "2021-12-01T10:00:07.033Z"
   },
   {
    "duration": 5,
    "start_time": "2021-12-01T10:00:07.042Z"
   },
   {
    "duration": 8,
    "start_time": "2021-12-01T10:00:07.048Z"
   },
   {
    "duration": 6,
    "start_time": "2021-12-01T10:00:07.057Z"
   },
   {
    "duration": 31,
    "start_time": "2021-12-01T10:00:07.064Z"
   },
   {
    "duration": 4,
    "start_time": "2021-12-01T10:00:07.096Z"
   },
   {
    "duration": 6,
    "start_time": "2021-12-01T10:00:07.102Z"
   },
   {
    "duration": 7,
    "start_time": "2021-12-01T10:00:07.110Z"
   },
   {
    "duration": 6,
    "start_time": "2021-12-01T10:00:07.119Z"
   },
   {
    "duration": 7,
    "start_time": "2021-12-01T10:00:07.127Z"
   },
   {
    "duration": 58,
    "start_time": "2021-12-01T10:00:07.135Z"
   },
   {
    "duration": 106,
    "start_time": "2021-12-01T10:00:07.195Z"
   },
   {
    "duration": 11,
    "start_time": "2021-12-01T10:00:07.303Z"
   },
   {
    "duration": 11,
    "start_time": "2021-12-01T10:00:09.711Z"
   },
   {
    "duration": 8,
    "start_time": "2021-12-01T10:00:10.440Z"
   },
   {
    "duration": 9,
    "start_time": "2021-12-01T10:13:24.159Z"
   },
   {
    "duration": 4,
    "start_time": "2021-12-01T10:13:28.871Z"
   },
   {
    "duration": 10,
    "start_time": "2021-12-01T10:13:29.625Z"
   },
   {
    "duration": 198,
    "start_time": "2021-12-01T10:14:39.000Z"
   },
   {
    "duration": 21,
    "start_time": "2021-12-01T10:18:35.415Z"
   },
   {
    "duration": 7,
    "start_time": "2021-12-01T10:18:37.515Z"
   },
   {
    "duration": 9,
    "start_time": "2021-12-01T10:18:38.493Z"
   },
   {
    "duration": 8,
    "start_time": "2021-12-01T10:18:56.540Z"
   },
   {
    "duration": 10,
    "start_time": "2021-12-01T10:18:58.719Z"
   },
   {
    "duration": 8,
    "start_time": "2021-12-01T10:19:04.875Z"
   },
   {
    "duration": 8,
    "start_time": "2021-12-01T10:19:07.740Z"
   },
   {
    "duration": 9,
    "start_time": "2021-12-01T10:19:08.665Z"
   },
   {
    "duration": 2,
    "start_time": "2021-12-01T10:19:13.797Z"
   },
   {
    "duration": 3,
    "start_time": "2021-12-01T10:19:17.305Z"
   },
   {
    "duration": 7,
    "start_time": "2021-12-01T10:19:17.309Z"
   },
   {
    "duration": 636,
    "start_time": "2021-12-01T10:19:17.318Z"
   },
   {
    "duration": 435,
    "start_time": "2021-12-01T10:19:17.957Z"
   },
   {
    "duration": 12,
    "start_time": "2021-12-01T10:19:18.394Z"
   },
   {
    "duration": 347,
    "start_time": "2021-12-01T10:19:18.407Z"
   },
   {
    "duration": 65,
    "start_time": "2021-12-01T10:19:18.756Z"
   },
   {
    "duration": 76,
    "start_time": "2021-12-01T10:19:18.824Z"
   },
   {
    "duration": 3,
    "start_time": "2021-12-01T10:19:18.902Z"
   },
   {
    "duration": 12,
    "start_time": "2021-12-01T10:19:18.906Z"
   },
   {
    "duration": 12,
    "start_time": "2021-12-01T10:19:18.920Z"
   },
   {
    "duration": 9,
    "start_time": "2021-12-01T10:19:18.934Z"
   },
   {
    "duration": 28,
    "start_time": "2021-12-01T10:19:18.945Z"
   },
   {
    "duration": 108,
    "start_time": "2021-12-01T10:19:18.975Z"
   },
   {
    "duration": 83,
    "start_time": "2021-12-01T10:19:19.085Z"
   },
   {
    "duration": 3,
    "start_time": "2021-12-01T10:19:19.169Z"
   },
   {
    "duration": 7,
    "start_time": "2021-12-01T10:19:21.345Z"
   },
   {
    "duration": 9,
    "start_time": "2021-12-01T10:19:22.253Z"
   },
   {
    "duration": 9,
    "start_time": "2021-12-01T10:20:43.708Z"
   },
   {
    "duration": 10,
    "start_time": "2021-12-01T10:20:44.573Z"
   },
   {
    "duration": 3,
    "start_time": "2021-12-01T10:20:50.113Z"
   },
   {
    "duration": 10,
    "start_time": "2021-12-01T10:20:50.117Z"
   },
   {
    "duration": 646,
    "start_time": "2021-12-01T10:20:50.129Z"
   },
   {
    "duration": 436,
    "start_time": "2021-12-01T10:20:50.777Z"
   },
   {
    "duration": 12,
    "start_time": "2021-12-01T10:20:51.215Z"
   },
   {
    "duration": 363,
    "start_time": "2021-12-01T10:20:51.229Z"
   },
   {
    "duration": 57,
    "start_time": "2021-12-01T10:20:51.596Z"
   },
   {
    "duration": 83,
    "start_time": "2021-12-01T10:20:51.656Z"
   },
   {
    "duration": 4,
    "start_time": "2021-12-01T10:20:51.741Z"
   },
   {
    "duration": 7,
    "start_time": "2021-12-01T10:20:51.746Z"
   },
   {
    "duration": 38,
    "start_time": "2021-12-01T10:20:51.755Z"
   },
   {
    "duration": 7,
    "start_time": "2021-12-01T10:20:51.795Z"
   },
   {
    "duration": 30,
    "start_time": "2021-12-01T10:20:51.805Z"
   },
   {
    "duration": 114,
    "start_time": "2021-12-01T10:20:51.837Z"
   },
   {
    "duration": 90,
    "start_time": "2021-12-01T10:20:51.953Z"
   },
   {
    "duration": 2,
    "start_time": "2021-12-01T10:20:52.045Z"
   },
   {
    "duration": 2,
    "start_time": "2021-12-01T10:20:55.158Z"
   },
   {
    "duration": 7,
    "start_time": "2021-12-01T10:20:55.781Z"
   },
   {
    "duration": 14,
    "start_time": "2021-12-01T10:20:56.409Z"
   },
   {
    "duration": 61,
    "start_time": "2021-12-01T10:33:21.743Z"
   },
   {
    "duration": 2,
    "start_time": "2021-12-01T10:33:22.809Z"
   },
   {
    "duration": 9,
    "start_time": "2021-12-01T10:33:23.357Z"
   },
   {
    "duration": 3,
    "start_time": "2021-12-01T10:33:31.451Z"
   },
   {
    "duration": 13,
    "start_time": "2021-12-01T10:33:31.456Z"
   },
   {
    "duration": 656,
    "start_time": "2021-12-01T10:33:31.471Z"
   },
   {
    "duration": 435,
    "start_time": "2021-12-01T10:33:32.129Z"
   },
   {
    "duration": 10,
    "start_time": "2021-12-01T10:33:32.566Z"
   },
   {
    "duration": 323,
    "start_time": "2021-12-01T10:33:32.578Z"
   },
   {
    "duration": 52,
    "start_time": "2021-12-01T10:33:32.903Z"
   },
   {
    "duration": 77,
    "start_time": "2021-12-01T10:33:32.957Z"
   },
   {
    "duration": 3,
    "start_time": "2021-12-01T10:33:33.035Z"
   },
   {
    "duration": 6,
    "start_time": "2021-12-01T10:33:33.039Z"
   },
   {
    "duration": 10,
    "start_time": "2021-12-01T10:33:33.047Z"
   },
   {
    "duration": 7,
    "start_time": "2021-12-01T10:33:33.059Z"
   },
   {
    "duration": 61,
    "start_time": "2021-12-01T10:33:33.068Z"
   },
   {
    "duration": 116,
    "start_time": "2021-12-01T10:33:33.132Z"
   },
   {
    "duration": 91,
    "start_time": "2021-12-01T10:33:33.250Z"
   },
   {
    "duration": 61,
    "start_time": "2021-12-01T10:33:35.257Z"
   },
   {
    "duration": 2,
    "start_time": "2021-12-01T10:33:36.048Z"
   },
   {
    "duration": 9,
    "start_time": "2021-12-01T10:33:36.690Z"
   },
   {
    "duration": 685,
    "start_time": "2021-12-01T10:36:35.149Z"
   },
   {
    "duration": 3,
    "start_time": "2021-12-01T10:38:41.352Z"
   },
   {
    "duration": 174,
    "start_time": "2021-12-01T10:39:09.404Z"
   },
   {
    "duration": 184,
    "start_time": "2021-12-01T10:39:58.234Z"
   },
   {
    "duration": 173,
    "start_time": "2021-12-01T10:46:26.585Z"
   },
   {
    "duration": 25,
    "start_time": "2021-12-01T10:46:43.796Z"
   },
   {
    "duration": 9,
    "start_time": "2021-12-01T10:46:46.068Z"
   },
   {
    "duration": 62,
    "start_time": "2021-12-01T10:48:07.206Z"
   },
   {
    "duration": 1735,
    "start_time": "2021-12-01T10:48:38.124Z"
   },
   {
    "duration": 47,
    "start_time": "2021-12-01T10:48:39.813Z"
   },
   {
    "duration": 1576,
    "start_time": "2021-12-01T10:48:54.769Z"
   },
   {
    "duration": 23,
    "start_time": "2021-12-01T10:49:56.993Z"
   },
   {
    "duration": 9,
    "start_time": "2021-12-01T10:49:58.739Z"
   },
   {
    "duration": 21,
    "start_time": "2021-12-01T10:53:11.877Z"
   },
   {
    "duration": 8,
    "start_time": "2021-12-01T10:53:15.386Z"
   },
   {
    "duration": 3,
    "start_time": "2021-12-01T10:53:24.661Z"
   },
   {
    "duration": 8,
    "start_time": "2021-12-01T10:53:24.666Z"
   },
   {
    "duration": 640,
    "start_time": "2021-12-01T10:53:24.676Z"
   },
   {
    "duration": 432,
    "start_time": "2021-12-01T10:53:25.318Z"
   },
   {
    "duration": 11,
    "start_time": "2021-12-01T10:53:25.752Z"
   },
   {
    "duration": 355,
    "start_time": "2021-12-01T10:53:25.764Z"
   },
   {
    "duration": 53,
    "start_time": "2021-12-01T10:53:26.121Z"
   },
   {
    "duration": 76,
    "start_time": "2021-12-01T10:53:26.176Z"
   },
   {
    "duration": 3,
    "start_time": "2021-12-01T10:53:26.254Z"
   },
   {
    "duration": 6,
    "start_time": "2021-12-01T10:53:26.258Z"
   },
   {
    "duration": 11,
    "start_time": "2021-12-01T10:53:26.265Z"
   },
   {
    "duration": 10,
    "start_time": "2021-12-01T10:53:26.278Z"
   },
   {
    "duration": 25,
    "start_time": "2021-12-01T10:53:26.290Z"
   },
   {
    "duration": 103,
    "start_time": "2021-12-01T10:53:26.316Z"
   },
   {
    "duration": 91,
    "start_time": "2021-12-01T10:53:26.420Z"
   },
   {
    "duration": 23,
    "start_time": "2021-12-01T10:53:28.934Z"
   },
   {
    "duration": 9,
    "start_time": "2021-12-01T10:53:31.786Z"
   },
   {
    "duration": 3,
    "start_time": "2021-12-01T11:00:39.317Z"
   },
   {
    "duration": 6,
    "start_time": "2021-12-01T11:00:39.321Z"
   },
   {
    "duration": 664,
    "start_time": "2021-12-01T11:00:39.329Z"
   },
   {
    "duration": 487,
    "start_time": "2021-12-01T11:00:39.995Z"
   },
   {
    "duration": 15,
    "start_time": "2021-12-01T11:00:40.484Z"
   },
   {
    "duration": 352,
    "start_time": "2021-12-01T11:00:40.501Z"
   },
   {
    "duration": 65,
    "start_time": "2021-12-01T11:00:40.855Z"
   },
   {
    "duration": 82,
    "start_time": "2021-12-01T11:00:40.924Z"
   },
   {
    "duration": 2,
    "start_time": "2021-12-01T11:00:41.008Z"
   },
   {
    "duration": 5,
    "start_time": "2021-12-01T11:00:41.012Z"
   },
   {
    "duration": 11,
    "start_time": "2021-12-01T11:00:41.019Z"
   },
   {
    "duration": 12,
    "start_time": "2021-12-01T11:00:41.032Z"
   },
   {
    "duration": 51,
    "start_time": "2021-12-01T11:00:41.045Z"
   },
   {
    "duration": 102,
    "start_time": "2021-12-01T11:00:41.098Z"
   },
   {
    "duration": 90,
    "start_time": "2021-12-01T11:00:41.202Z"
   },
   {
    "duration": 8,
    "start_time": "2021-12-01T11:03:40.663Z"
   },
   {
    "duration": 203,
    "start_time": "2021-12-01T11:03:41.787Z"
   },
   {
    "duration": 8,
    "start_time": "2021-12-01T11:03:59.726Z"
   },
   {
    "duration": 3,
    "start_time": "2021-12-01T11:04:24.420Z"
   },
   {
    "duration": 6,
    "start_time": "2021-12-01T11:04:24.425Z"
   },
   {
    "duration": 706,
    "start_time": "2021-12-01T11:04:24.433Z"
   },
   {
    "duration": 461,
    "start_time": "2021-12-01T11:04:25.141Z"
   },
   {
    "duration": 13,
    "start_time": "2021-12-01T11:04:25.604Z"
   },
   {
    "duration": 408,
    "start_time": "2021-12-01T11:04:25.620Z"
   },
   {
    "duration": 67,
    "start_time": "2021-12-01T11:04:26.030Z"
   },
   {
    "duration": 70,
    "start_time": "2021-12-01T11:04:26.098Z"
   },
   {
    "duration": 2,
    "start_time": "2021-12-01T11:04:26.170Z"
   },
   {
    "duration": 7,
    "start_time": "2021-12-01T11:04:26.174Z"
   },
   {
    "duration": 15,
    "start_time": "2021-12-01T11:04:26.183Z"
   },
   {
    "duration": 13,
    "start_time": "2021-12-01T11:04:26.199Z"
   },
   {
    "duration": 37,
    "start_time": "2021-12-01T11:04:26.214Z"
   },
   {
    "duration": 99,
    "start_time": "2021-12-01T11:04:26.254Z"
   },
   {
    "duration": 97,
    "start_time": "2021-12-01T11:04:26.354Z"
   },
   {
    "duration": 25,
    "start_time": "2021-12-01T11:04:29.035Z"
   },
   {
    "duration": 2,
    "start_time": "2021-12-01T11:04:29.910Z"
   },
   {
    "duration": 10,
    "start_time": "2021-12-01T11:04:30.525Z"
   },
   {
    "duration": 10,
    "start_time": "2021-12-01T11:04:36.951Z"
   },
   {
    "duration": 62,
    "start_time": "2021-12-01T11:04:38.580Z"
   },
   {
    "duration": 335,
    "start_time": "2021-12-01T11:05:21.107Z"
   },
   {
    "duration": 3,
    "start_time": "2021-12-01T11:05:42.644Z"
   },
   {
    "duration": 6,
    "start_time": "2021-12-01T11:05:42.649Z"
   },
   {
    "duration": 707,
    "start_time": "2021-12-01T11:05:42.657Z"
   },
   {
    "duration": 465,
    "start_time": "2021-12-01T11:05:43.366Z"
   },
   {
    "duration": 11,
    "start_time": "2021-12-01T11:05:43.833Z"
   },
   {
    "duration": 365,
    "start_time": "2021-12-01T11:05:43.846Z"
   },
   {
    "duration": 51,
    "start_time": "2021-12-01T11:05:44.213Z"
   },
   {
    "duration": 78,
    "start_time": "2021-12-01T11:05:44.267Z"
   },
   {
    "duration": 3,
    "start_time": "2021-12-01T11:05:44.347Z"
   },
   {
    "duration": 7,
    "start_time": "2021-12-01T11:05:44.351Z"
   },
   {
    "duration": 12,
    "start_time": "2021-12-01T11:05:44.359Z"
   },
   {
    "duration": 19,
    "start_time": "2021-12-01T11:05:44.372Z"
   },
   {
    "duration": 29,
    "start_time": "2021-12-01T11:05:44.394Z"
   },
   {
    "duration": 111,
    "start_time": "2021-12-01T11:05:44.425Z"
   },
   {
    "duration": 100,
    "start_time": "2021-12-01T11:05:44.538Z"
   },
   {
    "duration": 26,
    "start_time": "2021-12-01T11:05:44.640Z"
   },
   {
    "duration": 3,
    "start_time": "2021-12-01T11:05:44.667Z"
   },
   {
    "duration": 31,
    "start_time": "2021-12-01T11:05:44.672Z"
   },
   {
    "duration": 19,
    "start_time": "2021-12-01T11:05:44.705Z"
   },
   {
    "duration": 10,
    "start_time": "2021-12-01T11:05:44.726Z"
   },
   {
    "duration": 12,
    "start_time": "2021-12-01T11:05:44.737Z"
   },
   {
    "duration": 5,
    "start_time": "2021-12-01T11:05:44.752Z"
   },
   {
    "duration": 39,
    "start_time": "2021-12-01T11:05:44.759Z"
   },
   {
    "duration": 74,
    "start_time": "2021-12-01T11:05:44.801Z"
   },
   {
    "duration": 49,
    "start_time": "2021-12-01T11:05:44.876Z"
   },
   {
    "duration": 18,
    "start_time": "2021-12-01T11:05:47.259Z"
   },
   {
    "duration": 3,
    "start_time": "2021-12-01T11:06:16.727Z"
   },
   {
    "duration": 8,
    "start_time": "2021-12-01T11:06:16.732Z"
   },
   {
    "duration": 718,
    "start_time": "2021-12-01T11:06:16.742Z"
   },
   {
    "duration": 452,
    "start_time": "2021-12-01T11:06:17.461Z"
   },
   {
    "duration": 11,
    "start_time": "2021-12-01T11:06:17.915Z"
   },
   {
    "duration": 369,
    "start_time": "2021-12-01T11:06:17.927Z"
   },
   {
    "duration": 52,
    "start_time": "2021-12-01T11:06:18.299Z"
   },
   {
    "duration": 83,
    "start_time": "2021-12-01T11:06:18.353Z"
   },
   {
    "duration": 3,
    "start_time": "2021-12-01T11:06:18.438Z"
   },
   {
    "duration": 5,
    "start_time": "2021-12-01T11:06:18.443Z"
   },
   {
    "duration": 10,
    "start_time": "2021-12-01T11:06:18.450Z"
   },
   {
    "duration": 6,
    "start_time": "2021-12-01T11:06:18.491Z"
   },
   {
    "duration": 31,
    "start_time": "2021-12-01T11:06:18.499Z"
   },
   {
    "duration": 114,
    "start_time": "2021-12-01T11:06:18.532Z"
   },
   {
    "duration": 97,
    "start_time": "2021-12-01T11:06:18.648Z"
   },
   {
    "duration": 24,
    "start_time": "2021-12-01T11:06:18.746Z"
   },
   {
    "duration": 2,
    "start_time": "2021-12-01T11:06:18.772Z"
   },
   {
    "duration": 12,
    "start_time": "2021-12-01T11:06:18.794Z"
   },
   {
    "duration": 8,
    "start_time": "2021-12-01T11:06:18.810Z"
   },
   {
    "duration": 9,
    "start_time": "2021-12-01T11:06:18.820Z"
   },
   {
    "duration": 11,
    "start_time": "2021-12-01T11:06:18.830Z"
   },
   {
    "duration": 7,
    "start_time": "2021-12-01T11:06:18.843Z"
   },
   {
    "duration": 49,
    "start_time": "2021-12-01T11:06:18.852Z"
   },
   {
    "duration": 74,
    "start_time": "2021-12-01T11:06:18.903Z"
   },
   {
    "duration": 44,
    "start_time": "2021-12-01T11:06:18.979Z"
   },
   {
    "duration": 17,
    "start_time": "2021-12-01T11:06:19.025Z"
   },
   {
    "duration": 6,
    "start_time": "2021-12-01T11:06:19.044Z"
   },
   {
    "duration": 39,
    "start_time": "2021-12-01T11:06:19.052Z"
   },
   {
    "duration": 64,
    "start_time": "2021-12-01T11:06:19.094Z"
   },
   {
    "duration": 56,
    "start_time": "2021-12-01T11:06:19.160Z"
   },
   {
    "duration": 15,
    "start_time": "2021-12-01T11:06:19.218Z"
   },
   {
    "duration": 8,
    "start_time": "2021-12-01T11:06:19.235Z"
   },
   {
    "duration": 8,
    "start_time": "2021-12-01T11:06:19.245Z"
   },
   {
    "duration": 10,
    "start_time": "2021-12-01T11:06:19.254Z"
   },
   {
    "duration": 28,
    "start_time": "2021-12-01T11:06:19.266Z"
   },
   {
    "duration": 5,
    "start_time": "2021-12-01T11:06:19.296Z"
   },
   {
    "duration": 8,
    "start_time": "2021-12-01T11:06:19.303Z"
   },
   {
    "duration": 6,
    "start_time": "2021-12-01T11:06:19.313Z"
   },
   {
    "duration": 9,
    "start_time": "2021-12-01T11:06:19.321Z"
   },
   {
    "duration": 5,
    "start_time": "2021-12-01T11:06:19.332Z"
   },
   {
    "duration": 5,
    "start_time": "2021-12-01T11:06:19.339Z"
   },
   {
    "duration": 46,
    "start_time": "2021-12-01T11:06:19.346Z"
   },
   {
    "duration": 7,
    "start_time": "2021-12-01T11:06:19.394Z"
   },
   {
    "duration": 7,
    "start_time": "2021-12-01T11:06:19.404Z"
   },
   {
    "duration": 29,
    "start_time": "2021-12-01T11:06:19.412Z"
   },
   {
    "duration": 112,
    "start_time": "2021-12-01T11:06:19.442Z"
   },
   {
    "duration": 11,
    "start_time": "2021-12-01T11:06:19.556Z"
   },
   {
    "duration": 10,
    "start_time": "2021-12-01T11:06:19.569Z"
   },
   {
    "duration": 52,
    "start_time": "2021-12-01T11:06:19.592Z"
   },
   {
    "duration": 53,
    "start_time": "2021-12-01T11:06:27.225Z"
   },
   {
    "duration": 28,
    "start_time": "2021-12-01T11:07:54.453Z"
   },
   {
    "duration": 3,
    "start_time": "2021-12-01T11:07:58.978Z"
   },
   {
    "duration": 11,
    "start_time": "2021-12-01T11:08:00.034Z"
   },
   {
    "duration": 19,
    "start_time": "2021-12-01T11:08:17.529Z"
   },
   {
    "duration": 17,
    "start_time": "2021-12-01T11:08:27.399Z"
   },
   {
    "duration": 11,
    "start_time": "2021-12-01T11:08:36.186Z"
   },
   {
    "duration": 49,
    "start_time": "2021-12-01T11:08:42.342Z"
   },
   {
    "duration": 3,
    "start_time": "2021-12-01T11:08:56.073Z"
   },
   {
    "duration": 26,
    "start_time": "2021-12-01T11:08:56.080Z"
   },
   {
    "duration": 705,
    "start_time": "2021-12-01T11:08:56.108Z"
   },
   {
    "duration": 478,
    "start_time": "2021-12-01T11:08:56.815Z"
   },
   {
    "duration": 15,
    "start_time": "2021-12-01T11:08:57.296Z"
   },
   {
    "duration": 346,
    "start_time": "2021-12-01T11:08:57.313Z"
   },
   {
    "duration": 60,
    "start_time": "2021-12-01T11:08:57.660Z"
   },
   {
    "duration": 83,
    "start_time": "2021-12-01T11:08:57.721Z"
   },
   {
    "duration": 4,
    "start_time": "2021-12-01T11:08:57.806Z"
   },
   {
    "duration": 3,
    "start_time": "2021-12-01T11:08:57.813Z"
   },
   {
    "duration": 11,
    "start_time": "2021-12-01T11:08:57.818Z"
   },
   {
    "duration": 10,
    "start_time": "2021-12-01T11:08:57.831Z"
   },
   {
    "duration": 51,
    "start_time": "2021-12-01T11:08:57.843Z"
   },
   {
    "duration": 113,
    "start_time": "2021-12-01T11:08:57.896Z"
   },
   {
    "duration": 96,
    "start_time": "2021-12-01T11:08:58.011Z"
   },
   {
    "duration": 24,
    "start_time": "2021-12-01T11:08:58.109Z"
   },
   {
    "duration": 2,
    "start_time": "2021-12-01T11:08:58.135Z"
   },
   {
    "duration": 15,
    "start_time": "2021-12-01T11:08:58.139Z"
   },
   {
    "duration": 18,
    "start_time": "2021-12-01T11:08:58.156Z"
   },
   {
    "duration": 8,
    "start_time": "2021-12-01T11:08:58.193Z"
   },
   {
    "duration": 13,
    "start_time": "2021-12-01T11:08:58.204Z"
   },
   {
    "duration": 5,
    "start_time": "2021-12-01T11:08:58.219Z"
   },
   {
    "duration": 23,
    "start_time": "2021-12-01T11:08:58.226Z"
   },
   {
    "duration": 109,
    "start_time": "2021-12-01T11:08:58.251Z"
   },
   {
    "duration": 49,
    "start_time": "2021-12-01T11:08:58.362Z"
   },
   {
    "duration": 18,
    "start_time": "2021-12-01T11:08:58.413Z"
   },
   {
    "duration": 7,
    "start_time": "2021-12-01T11:08:58.432Z"
   },
   {
    "duration": 19,
    "start_time": "2021-12-01T11:08:58.443Z"
   },
   {
    "duration": 86,
    "start_time": "2021-12-01T11:08:58.464Z"
   },
   {
    "duration": 53,
    "start_time": "2021-12-01T11:08:58.552Z"
   },
   {
    "duration": 16,
    "start_time": "2021-12-01T11:08:58.606Z"
   },
   {
    "duration": 8,
    "start_time": "2021-12-01T11:08:58.624Z"
   },
   {
    "duration": 8,
    "start_time": "2021-12-01T11:08:58.633Z"
   },
   {
    "duration": 12,
    "start_time": "2021-12-01T11:08:58.643Z"
   },
   {
    "duration": 8,
    "start_time": "2021-12-01T11:08:58.656Z"
   },
   {
    "duration": 27,
    "start_time": "2021-12-01T11:08:58.665Z"
   },
   {
    "duration": 11,
    "start_time": "2021-12-01T11:08:58.693Z"
   },
   {
    "duration": 9,
    "start_time": "2021-12-01T11:08:58.706Z"
   },
   {
    "duration": 11,
    "start_time": "2021-12-01T11:08:58.716Z"
   },
   {
    "duration": 8,
    "start_time": "2021-12-01T11:08:58.728Z"
   },
   {
    "duration": 6,
    "start_time": "2021-12-01T11:08:58.737Z"
   },
   {
    "duration": 10,
    "start_time": "2021-12-01T11:08:58.744Z"
   },
   {
    "duration": 7,
    "start_time": "2021-12-01T11:08:58.755Z"
   },
   {
    "duration": 5,
    "start_time": "2021-12-01T11:08:58.764Z"
   },
   {
    "duration": 35,
    "start_time": "2021-12-01T11:08:58.792Z"
   },
   {
    "duration": 134,
    "start_time": "2021-12-01T11:08:58.829Z"
   },
   {
    "duration": 9,
    "start_time": "2021-12-01T11:08:58.965Z"
   },
   {
    "duration": 19,
    "start_time": "2021-12-01T11:08:58.976Z"
   },
   {
    "duration": 53,
    "start_time": "2021-12-01T11:08:58.997Z"
   },
   {
    "duration": 10,
    "start_time": "2021-12-01T11:14:45.141Z"
   },
   {
    "duration": 26,
    "start_time": "2021-12-01T11:14:49.826Z"
   },
   {
    "duration": 37,
    "start_time": "2021-12-01T11:17:22.674Z"
   },
   {
    "duration": 22,
    "start_time": "2021-12-01T11:17:33.519Z"
   },
   {
    "duration": 30,
    "start_time": "2021-12-01T11:19:21.936Z"
   },
   {
    "duration": 29,
    "start_time": "2021-12-01T11:19:51.780Z"
   },
   {
    "duration": 30,
    "start_time": "2021-12-01T11:20:11.843Z"
   },
   {
    "duration": 25,
    "start_time": "2021-12-01T11:20:22.858Z"
   },
   {
    "duration": 58,
    "start_time": "2021-12-01T11:23:54.361Z"
   },
   {
    "duration": 38,
    "start_time": "2021-12-01T11:24:09.378Z"
   },
   {
    "duration": 743,
    "start_time": "2021-12-01T11:30:38.254Z"
   },
   {
    "duration": 56,
    "start_time": "2021-12-01T11:31:03.708Z"
   },
   {
    "duration": 52,
    "start_time": "2021-12-01T11:32:40.664Z"
   },
   {
    "duration": 26,
    "start_time": "2021-12-01T11:32:50.858Z"
   },
   {
    "duration": 191,
    "start_time": "2021-12-01T12:37:11.676Z"
   },
   {
    "duration": 12,
    "start_time": "2021-12-01T12:37:20.753Z"
   },
   {
    "duration": 51,
    "start_time": "2021-12-01T12:37:56.844Z"
   },
   {
    "duration": 11,
    "start_time": "2021-12-01T12:42:08.012Z"
   },
   {
    "duration": 262,
    "start_time": "2021-12-01T12:43:01.315Z"
   },
   {
    "duration": 1748,
    "start_time": "2021-12-01T12:43:28.123Z"
   },
   {
    "duration": 979,
    "start_time": "2021-12-01T12:44:44.281Z"
   },
   {
    "duration": 984,
    "start_time": "2021-12-01T12:45:06.490Z"
   },
   {
    "duration": 13,
    "start_time": "2021-12-01T12:46:02.523Z"
   },
   {
    "duration": 43,
    "start_time": "2021-12-01T12:48:53.530Z"
   },
   {
    "duration": 47,
    "start_time": "2021-12-01T12:52:01.935Z"
   },
   {
    "duration": 47,
    "start_time": "2021-12-01T12:52:13.671Z"
   },
   {
    "duration": 46,
    "start_time": "2021-12-01T12:52:20.317Z"
   },
   {
    "duration": 9,
    "start_time": "2021-12-01T12:57:02.911Z"
   },
   {
    "duration": 23,
    "start_time": "2021-12-01T12:57:18.570Z"
   },
   {
    "duration": 76,
    "start_time": "2021-12-01T12:58:49.810Z"
   },
   {
    "duration": 3,
    "start_time": "2021-12-01T12:59:04.275Z"
   },
   {
    "duration": 11,
    "start_time": "2021-12-01T12:59:04.282Z"
   },
   {
    "duration": 706,
    "start_time": "2021-12-01T12:59:04.295Z"
   },
   {
    "duration": 461,
    "start_time": "2021-12-01T12:59:05.004Z"
   },
   {
    "duration": 12,
    "start_time": "2021-12-01T12:59:05.467Z"
   },
   {
    "duration": 358,
    "start_time": "2021-12-01T12:59:05.492Z"
   },
   {
    "duration": 58,
    "start_time": "2021-12-01T12:59:05.852Z"
   },
   {
    "duration": 73,
    "start_time": "2021-12-01T12:59:05.911Z"
   },
   {
    "duration": 7,
    "start_time": "2021-12-01T12:59:05.986Z"
   },
   {
    "duration": 9,
    "start_time": "2021-12-01T12:59:05.995Z"
   },
   {
    "duration": 18,
    "start_time": "2021-12-01T12:59:06.005Z"
   },
   {
    "duration": 9,
    "start_time": "2021-12-01T12:59:06.025Z"
   },
   {
    "duration": 38,
    "start_time": "2021-12-01T12:59:06.036Z"
   },
   {
    "duration": 106,
    "start_time": "2021-12-01T12:59:06.075Z"
   },
   {
    "duration": 85,
    "start_time": "2021-12-01T12:59:06.182Z"
   },
   {
    "duration": 40,
    "start_time": "2021-12-01T12:59:06.269Z"
   },
   {
    "duration": 2,
    "start_time": "2021-12-01T12:59:06.311Z"
   },
   {
    "duration": 16,
    "start_time": "2021-12-01T12:59:06.315Z"
   },
   {
    "duration": 11,
    "start_time": "2021-12-01T12:59:06.333Z"
   },
   {
    "duration": 10,
    "start_time": "2021-12-01T12:59:06.346Z"
   },
   {
    "duration": 33,
    "start_time": "2021-12-01T12:59:06.358Z"
   },
   {
    "duration": 5,
    "start_time": "2021-12-01T12:59:06.393Z"
   },
   {
    "duration": 22,
    "start_time": "2021-12-01T12:59:06.400Z"
   },
   {
    "duration": 92,
    "start_time": "2021-12-01T12:59:06.425Z"
   },
   {
    "duration": 32,
    "start_time": "2021-12-01T12:59:06.519Z"
   },
   {
    "duration": 38,
    "start_time": "2021-12-01T12:59:06.553Z"
   },
   {
    "duration": 8,
    "start_time": "2021-12-01T12:59:06.593Z"
   },
   {
    "duration": 30,
    "start_time": "2021-12-01T12:59:06.602Z"
   },
   {
    "duration": 87,
    "start_time": "2021-12-01T12:59:06.635Z"
   },
   {
    "duration": 40,
    "start_time": "2021-12-01T12:59:06.723Z"
   },
   {
    "duration": 31,
    "start_time": "2021-12-01T12:59:06.765Z"
   },
   {
    "duration": 9,
    "start_time": "2021-12-01T12:59:06.798Z"
   },
   {
    "duration": 18,
    "start_time": "2021-12-01T12:59:06.809Z"
   },
   {
    "duration": 24,
    "start_time": "2021-12-01T12:59:06.829Z"
   },
   {
    "duration": 14,
    "start_time": "2021-12-01T12:59:06.855Z"
   },
   {
    "duration": 12,
    "start_time": "2021-12-01T12:59:06.872Z"
   },
   {
    "duration": 14,
    "start_time": "2021-12-01T12:59:06.886Z"
   },
   {
    "duration": 12,
    "start_time": "2021-12-01T12:59:06.902Z"
   },
   {
    "duration": 23,
    "start_time": "2021-12-01T12:59:06.916Z"
   },
   {
    "duration": 9,
    "start_time": "2021-12-01T12:59:06.941Z"
   },
   {
    "duration": 6,
    "start_time": "2021-12-01T12:59:06.952Z"
   },
   {
    "duration": 11,
    "start_time": "2021-12-01T12:59:06.961Z"
   },
   {
    "duration": 4,
    "start_time": "2021-12-01T12:59:06.974Z"
   },
   {
    "duration": 31,
    "start_time": "2021-12-01T12:59:06.980Z"
   },
   {
    "duration": 43,
    "start_time": "2021-12-01T12:59:07.013Z"
   },
   {
    "duration": 97,
    "start_time": "2021-12-01T12:59:07.058Z"
   },
   {
    "duration": 59,
    "start_time": "2021-12-01T12:59:07.157Z"
   },
   {
    "duration": 52,
    "start_time": "2021-12-01T12:59:10.084Z"
   },
   {
    "duration": 19,
    "start_time": "2021-12-01T12:59:11.262Z"
   },
   {
    "duration": 23,
    "start_time": "2021-12-01T13:01:26.759Z"
   },
   {
    "duration": 53,
    "start_time": "2021-12-01T13:01:44.260Z"
   },
   {
    "duration": 2,
    "start_time": "2021-12-01T13:01:49.038Z"
   },
   {
    "duration": 7,
    "start_time": "2021-12-01T13:01:49.042Z"
   },
   {
    "duration": 694,
    "start_time": "2021-12-01T13:01:49.050Z"
   },
   {
    "duration": 452,
    "start_time": "2021-12-01T13:01:49.746Z"
   },
   {
    "duration": 11,
    "start_time": "2021-12-01T13:01:50.200Z"
   },
   {
    "duration": 348,
    "start_time": "2021-12-01T13:01:50.212Z"
   },
   {
    "duration": 54,
    "start_time": "2021-12-01T13:01:50.562Z"
   },
   {
    "duration": 86,
    "start_time": "2021-12-01T13:01:50.618Z"
   },
   {
    "duration": 3,
    "start_time": "2021-12-01T13:01:50.707Z"
   },
   {
    "duration": 12,
    "start_time": "2021-12-01T13:01:50.712Z"
   },
   {
    "duration": 10,
    "start_time": "2021-12-01T13:01:50.726Z"
   },
   {
    "duration": 8,
    "start_time": "2021-12-01T13:01:50.738Z"
   },
   {
    "duration": 27,
    "start_time": "2021-12-01T13:01:50.747Z"
   },
   {
    "duration": 102,
    "start_time": "2021-12-01T13:01:50.792Z"
   },
   {
    "duration": 74,
    "start_time": "2021-12-01T13:01:50.896Z"
   },
   {
    "duration": 40,
    "start_time": "2021-12-01T13:01:50.972Z"
   },
   {
    "duration": 3,
    "start_time": "2021-12-01T13:01:51.014Z"
   },
   {
    "duration": 15,
    "start_time": "2021-12-01T13:01:51.020Z"
   },
   {
    "duration": 10,
    "start_time": "2021-12-01T13:01:51.037Z"
   },
   {
    "duration": 9,
    "start_time": "2021-12-01T13:01:51.049Z"
   },
   {
    "duration": 35,
    "start_time": "2021-12-01T13:01:51.060Z"
   },
   {
    "duration": 7,
    "start_time": "2021-12-01T13:01:51.097Z"
   },
   {
    "duration": 22,
    "start_time": "2021-12-01T13:01:51.105Z"
   },
   {
    "duration": 84,
    "start_time": "2021-12-01T13:01:51.129Z"
   },
   {
    "duration": 34,
    "start_time": "2021-12-01T13:01:51.215Z"
   },
   {
    "duration": 18,
    "start_time": "2021-12-01T13:01:51.250Z"
   },
   {
    "duration": 27,
    "start_time": "2021-12-01T13:01:51.270Z"
   },
   {
    "duration": 22,
    "start_time": "2021-12-01T13:01:51.299Z"
   },
   {
    "duration": 73,
    "start_time": "2021-12-01T13:01:51.322Z"
   },
   {
    "duration": 38,
    "start_time": "2021-12-01T13:01:51.397Z"
   },
   {
    "duration": 16,
    "start_time": "2021-12-01T13:01:51.436Z"
   },
   {
    "duration": 8,
    "start_time": "2021-12-01T13:01:51.454Z"
   },
   {
    "duration": 33,
    "start_time": "2021-12-01T13:01:51.463Z"
   },
   {
    "duration": 13,
    "start_time": "2021-12-01T13:01:51.498Z"
   },
   {
    "duration": 8,
    "start_time": "2021-12-01T13:01:51.513Z"
   },
   {
    "duration": 11,
    "start_time": "2021-12-01T13:01:51.523Z"
   },
   {
    "duration": 8,
    "start_time": "2021-12-01T13:01:51.536Z"
   },
   {
    "duration": 8,
    "start_time": "2021-12-01T13:01:51.546Z"
   },
   {
    "duration": 14,
    "start_time": "2021-12-01T13:01:51.556Z"
   },
   {
    "duration": 23,
    "start_time": "2021-12-01T13:01:51.572Z"
   },
   {
    "duration": 9,
    "start_time": "2021-12-01T13:01:51.597Z"
   },
   {
    "duration": 9,
    "start_time": "2021-12-01T13:01:51.608Z"
   },
   {
    "duration": 8,
    "start_time": "2021-12-01T13:01:51.619Z"
   },
   {
    "duration": 7,
    "start_time": "2021-12-01T13:01:51.628Z"
   },
   {
    "duration": 32,
    "start_time": "2021-12-01T13:01:51.636Z"
   },
   {
    "duration": 121,
    "start_time": "2021-12-01T13:01:51.670Z"
   },
   {
    "duration": 49,
    "start_time": "2021-12-01T13:01:51.793Z"
   },
   {
    "duration": 26,
    "start_time": "2021-12-01T13:01:51.844Z"
   },
   {
    "duration": 26,
    "start_time": "2021-12-01T13:01:51.871Z"
   },
   {
    "duration": 1126,
    "start_time": "2021-12-01T13:01:51.899Z"
   },
   {
    "duration": 22,
    "start_time": "2021-12-01T13:01:53.029Z"
   },
   {
    "duration": 9,
    "start_time": "2021-12-01T13:01:53.053Z"
   },
   {
    "duration": 71,
    "start_time": "2021-12-01T13:01:53.064Z"
   },
   {
    "duration": 47,
    "start_time": "2021-12-01T13:01:56.574Z"
   },
   {
    "duration": 56,
    "start_time": "2021-12-01T13:01:57.356Z"
   },
   {
    "duration": 483,
    "start_time": "2021-12-01T13:02:22.555Z"
   },
   {
    "duration": 719,
    "start_time": "2021-12-01T13:03:48.574Z"
   },
   {
    "duration": 4,
    "start_time": "2021-12-01T13:03:49.295Z"
   },
   {
    "duration": 699,
    "start_time": "2021-12-01T13:03:49.301Z"
   },
   {
    "duration": 472,
    "start_time": "2021-12-01T13:03:50.002Z"
   },
   {
    "duration": 21,
    "start_time": "2021-12-01T13:03:50.476Z"
   },
   {
    "duration": 494,
    "start_time": "2021-12-01T13:03:50.499Z"
   },
   {
    "duration": 63,
    "start_time": "2021-12-01T13:03:50.995Z"
   },
   {
    "duration": 80,
    "start_time": "2021-12-01T13:03:51.061Z"
   },
   {
    "duration": 3,
    "start_time": "2021-12-01T13:03:51.144Z"
   },
   {
    "duration": 9,
    "start_time": "2021-12-01T13:03:51.148Z"
   },
   {
    "duration": 11,
    "start_time": "2021-12-01T13:03:51.159Z"
   },
   {
    "duration": 24,
    "start_time": "2021-12-01T13:03:51.171Z"
   },
   {
    "duration": 33,
    "start_time": "2021-12-01T13:03:51.197Z"
   },
   {
    "duration": 104,
    "start_time": "2021-12-01T13:03:51.231Z"
   },
   {
    "duration": 102,
    "start_time": "2021-12-01T13:03:51.337Z"
   },
   {
    "duration": 23,
    "start_time": "2021-12-01T13:03:51.441Z"
   },
   {
    "duration": 2,
    "start_time": "2021-12-01T13:03:51.466Z"
   },
   {
    "duration": 24,
    "start_time": "2021-12-01T13:03:51.470Z"
   },
   {
    "duration": 9,
    "start_time": "2021-12-01T13:03:51.496Z"
   },
   {
    "duration": 8,
    "start_time": "2021-12-01T13:03:51.507Z"
   },
   {
    "duration": 11,
    "start_time": "2021-12-01T13:03:51.517Z"
   },
   {
    "duration": 16,
    "start_time": "2021-12-01T13:03:51.530Z"
   },
   {
    "duration": 30,
    "start_time": "2021-12-01T13:03:51.550Z"
   },
   {
    "duration": 72,
    "start_time": "2021-12-01T13:03:51.592Z"
   },
   {
    "duration": 46,
    "start_time": "2021-12-01T13:03:51.665Z"
   },
   {
    "duration": 20,
    "start_time": "2021-12-01T13:03:51.712Z"
   },
   {
    "duration": 8,
    "start_time": "2021-12-01T13:03:51.733Z"
   },
   {
    "duration": 29,
    "start_time": "2021-12-01T13:03:51.742Z"
   },
   {
    "duration": 70,
    "start_time": "2021-12-01T13:03:51.773Z"
   },
   {
    "duration": 47,
    "start_time": "2021-12-01T13:03:51.845Z"
   },
   {
    "duration": 16,
    "start_time": "2021-12-01T13:03:51.894Z"
   },
   {
    "duration": 8,
    "start_time": "2021-12-01T13:03:51.911Z"
   },
   {
    "duration": 8,
    "start_time": "2021-12-01T13:03:51.920Z"
   },
   {
    "duration": 12,
    "start_time": "2021-12-01T13:03:51.930Z"
   },
   {
    "duration": 10,
    "start_time": "2021-12-01T13:03:51.944Z"
   },
   {
    "duration": 4,
    "start_time": "2021-12-01T13:03:51.956Z"
   },
   {
    "duration": 34,
    "start_time": "2021-12-01T13:03:51.962Z"
   },
   {
    "duration": 6,
    "start_time": "2021-12-01T13:03:51.998Z"
   },
   {
    "duration": 14,
    "start_time": "2021-12-01T13:03:52.006Z"
   },
   {
    "duration": 6,
    "start_time": "2021-12-01T13:03:52.022Z"
   },
   {
    "duration": 6,
    "start_time": "2021-12-01T13:03:52.029Z"
   },
   {
    "duration": 9,
    "start_time": "2021-12-01T13:03:52.037Z"
   },
   {
    "duration": 2,
    "start_time": "2021-12-01T13:03:52.048Z"
   },
   {
    "duration": 5,
    "start_time": "2021-12-01T13:03:52.052Z"
   },
   {
    "duration": 54,
    "start_time": "2021-12-01T13:03:52.058Z"
   },
   {
    "duration": 101,
    "start_time": "2021-12-01T13:03:52.114Z"
   },
   {
    "duration": 62,
    "start_time": "2021-12-01T13:03:52.216Z"
   },
   {
    "duration": 29,
    "start_time": "2021-12-01T13:03:52.280Z"
   },
   {
    "duration": 10,
    "start_time": "2021-12-01T13:03:52.310Z"
   },
   {
    "duration": 1051,
    "start_time": "2021-12-01T13:03:52.322Z"
   },
   {
    "duration": 29,
    "start_time": "2021-12-01T13:03:53.375Z"
   },
   {
    "duration": 9,
    "start_time": "2021-12-01T13:03:53.406Z"
   },
   {
    "duration": 76,
    "start_time": "2021-12-01T13:03:53.416Z"
   },
   {
    "duration": 73,
    "start_time": "2021-12-01T13:03:53.494Z"
   },
   {
    "duration": 474,
    "start_time": "2021-12-01T13:05:06.628Z"
   },
   {
    "duration": 3,
    "start_time": "2021-12-01T13:05:15.623Z"
   },
   {
    "duration": 6,
    "start_time": "2021-12-01T13:05:15.628Z"
   },
   {
    "duration": 656,
    "start_time": "2021-12-01T13:05:15.636Z"
   },
   {
    "duration": 423,
    "start_time": "2021-12-01T13:05:16.295Z"
   },
   {
    "duration": 12,
    "start_time": "2021-12-01T13:05:16.721Z"
   },
   {
    "duration": 361,
    "start_time": "2021-12-01T13:05:16.734Z"
   },
   {
    "duration": 59,
    "start_time": "2021-12-01T13:05:17.097Z"
   },
   {
    "duration": 92,
    "start_time": "2021-12-01T13:05:17.158Z"
   },
   {
    "duration": 3,
    "start_time": "2021-12-01T13:05:17.252Z"
   },
   {
    "duration": 16,
    "start_time": "2021-12-01T13:05:17.257Z"
   },
   {
    "duration": 32,
    "start_time": "2021-12-01T13:05:17.274Z"
   },
   {
    "duration": 16,
    "start_time": "2021-12-01T13:05:17.308Z"
   },
   {
    "duration": 34,
    "start_time": "2021-12-01T13:05:17.325Z"
   },
   {
    "duration": 100,
    "start_time": "2021-12-01T13:05:17.361Z"
   },
   {
    "duration": 86,
    "start_time": "2021-12-01T13:05:17.463Z"
   },
   {
    "duration": 23,
    "start_time": "2021-12-01T13:05:17.551Z"
   },
   {
    "duration": 2,
    "start_time": "2021-12-01T13:05:17.576Z"
   },
   {
    "duration": 18,
    "start_time": "2021-12-01T13:05:17.580Z"
   },
   {
    "duration": 11,
    "start_time": "2021-12-01T13:05:17.600Z"
   },
   {
    "duration": 21,
    "start_time": "2021-12-01T13:05:17.612Z"
   },
   {
    "duration": 11,
    "start_time": "2021-12-01T13:05:17.634Z"
   },
   {
    "duration": 8,
    "start_time": "2021-12-01T13:05:17.648Z"
   },
   {
    "duration": 33,
    "start_time": "2021-12-01T13:05:17.658Z"
   },
   {
    "duration": 71,
    "start_time": "2021-12-01T13:05:17.693Z"
   },
   {
    "duration": 43,
    "start_time": "2021-12-01T13:05:17.765Z"
   },
   {
    "duration": 17,
    "start_time": "2021-12-01T13:05:17.809Z"
   },
   {
    "duration": 6,
    "start_time": "2021-12-01T13:05:17.828Z"
   },
   {
    "duration": 19,
    "start_time": "2021-12-01T13:05:17.836Z"
   },
   {
    "duration": 76,
    "start_time": "2021-12-01T13:05:17.856Z"
   },
   {
    "duration": 39,
    "start_time": "2021-12-01T13:05:17.934Z"
   },
   {
    "duration": 27,
    "start_time": "2021-12-01T13:05:17.974Z"
   },
   {
    "duration": 7,
    "start_time": "2021-12-01T13:05:18.003Z"
   },
   {
    "duration": 13,
    "start_time": "2021-12-01T13:05:18.012Z"
   },
   {
    "duration": 15,
    "start_time": "2021-12-01T13:05:18.026Z"
   },
   {
    "duration": 7,
    "start_time": "2021-12-01T13:05:18.043Z"
   },
   {
    "duration": 5,
    "start_time": "2021-12-01T13:05:18.052Z"
   },
   {
    "duration": 8,
    "start_time": "2021-12-01T13:05:18.059Z"
   },
   {
    "duration": 25,
    "start_time": "2021-12-01T13:05:18.069Z"
   },
   {
    "duration": 15,
    "start_time": "2021-12-01T13:05:18.096Z"
   },
   {
    "duration": 11,
    "start_time": "2021-12-01T13:05:18.112Z"
   },
   {
    "duration": 8,
    "start_time": "2021-12-01T13:05:18.125Z"
   },
   {
    "duration": 9,
    "start_time": "2021-12-01T13:05:18.134Z"
   },
   {
    "duration": 5,
    "start_time": "2021-12-01T13:05:18.144Z"
   },
   {
    "duration": 5,
    "start_time": "2021-12-01T13:05:18.150Z"
   },
   {
    "duration": 52,
    "start_time": "2021-12-01T13:05:18.157Z"
   },
   {
    "duration": 107,
    "start_time": "2021-12-01T13:05:18.211Z"
   },
   {
    "duration": 49,
    "start_time": "2021-12-01T13:05:18.320Z"
   },
   {
    "duration": 34,
    "start_time": "2021-12-01T13:05:18.370Z"
   },
   {
    "duration": 8,
    "start_time": "2021-12-01T13:05:18.406Z"
   },
   {
    "duration": 1005,
    "start_time": "2021-12-01T13:05:18.416Z"
   },
   {
    "duration": 24,
    "start_time": "2021-12-01T13:05:19.423Z"
   },
   {
    "duration": 9,
    "start_time": "2021-12-01T13:05:19.450Z"
   },
   {
    "duration": 69,
    "start_time": "2021-12-01T13:05:19.461Z"
   },
   {
    "duration": 45,
    "start_time": "2021-12-01T13:05:22.183Z"
   },
   {
    "duration": 49,
    "start_time": "2021-12-01T13:05:22.975Z"
   },
   {
    "duration": 3,
    "start_time": "2021-12-01T13:06:00.092Z"
   },
   {
    "duration": 70,
    "start_time": "2021-12-01T13:09:17.897Z"
   },
   {
    "duration": 3,
    "start_time": "2021-12-01T13:09:26.629Z"
   },
   {
    "duration": 5,
    "start_time": "2021-12-01T13:09:26.635Z"
   },
   {
    "duration": 674,
    "start_time": "2021-12-01T13:09:26.643Z"
   },
   {
    "duration": 422,
    "start_time": "2021-12-01T13:09:27.319Z"
   },
   {
    "duration": 12,
    "start_time": "2021-12-01T13:09:27.743Z"
   },
   {
    "duration": 318,
    "start_time": "2021-12-01T13:09:27.757Z"
   },
   {
    "duration": 56,
    "start_time": "2021-12-01T13:09:28.077Z"
   },
   {
    "duration": 81,
    "start_time": "2021-12-01T13:09:28.134Z"
   },
   {
    "duration": 3,
    "start_time": "2021-12-01T13:09:28.216Z"
   },
   {
    "duration": 8,
    "start_time": "2021-12-01T13:09:28.221Z"
   },
   {
    "duration": 12,
    "start_time": "2021-12-01T13:09:28.232Z"
   },
   {
    "duration": 8,
    "start_time": "2021-12-01T13:09:28.245Z"
   },
   {
    "duration": 60,
    "start_time": "2021-12-01T13:09:28.255Z"
   },
   {
    "duration": 102,
    "start_time": "2021-12-01T13:09:28.316Z"
   },
   {
    "duration": 74,
    "start_time": "2021-12-01T13:09:28.420Z"
   },
   {
    "duration": 23,
    "start_time": "2021-12-01T13:09:28.496Z"
   },
   {
    "duration": 2,
    "start_time": "2021-12-01T13:09:28.521Z"
   },
   {
    "duration": 18,
    "start_time": "2021-12-01T13:09:28.525Z"
   },
   {
    "duration": 11,
    "start_time": "2021-12-01T13:09:28.545Z"
   },
   {
    "duration": 11,
    "start_time": "2021-12-01T13:09:28.558Z"
   },
   {
    "duration": 16,
    "start_time": "2021-12-01T13:09:28.592Z"
   },
   {
    "duration": 5,
    "start_time": "2021-12-01T13:09:28.610Z"
   },
   {
    "duration": 21,
    "start_time": "2021-12-01T13:09:28.617Z"
   },
   {
    "duration": 97,
    "start_time": "2021-12-01T13:09:28.640Z"
   },
   {
    "duration": 31,
    "start_time": "2021-12-01T13:09:28.742Z"
   },
   {
    "duration": 29,
    "start_time": "2021-12-01T13:09:28.775Z"
   },
   {
    "duration": 7,
    "start_time": "2021-12-01T13:09:28.806Z"
   },
   {
    "duration": 19,
    "start_time": "2021-12-01T13:09:28.815Z"
   },
   {
    "duration": 77,
    "start_time": "2021-12-01T13:09:28.835Z"
   },
   {
    "duration": 34,
    "start_time": "2021-12-01T13:09:28.914Z"
   },
   {
    "duration": 15,
    "start_time": "2021-12-01T13:09:28.950Z"
   },
   {
    "duration": 28,
    "start_time": "2021-12-01T13:09:28.967Z"
   },
   {
    "duration": 14,
    "start_time": "2021-12-01T13:09:28.997Z"
   },
   {
    "duration": 11,
    "start_time": "2021-12-01T13:09:29.013Z"
   },
   {
    "duration": 9,
    "start_time": "2021-12-01T13:09:29.026Z"
   },
   {
    "duration": 7,
    "start_time": "2021-12-01T13:09:29.036Z"
   },
   {
    "duration": 8,
    "start_time": "2021-12-01T13:09:29.044Z"
   },
   {
    "duration": 6,
    "start_time": "2021-12-01T13:09:29.053Z"
   },
   {
    "duration": 9,
    "start_time": "2021-12-01T13:09:29.061Z"
   },
   {
    "duration": 22,
    "start_time": "2021-12-01T13:09:29.072Z"
   },
   {
    "duration": 7,
    "start_time": "2021-12-01T13:09:29.095Z"
   },
   {
    "duration": 8,
    "start_time": "2021-12-01T13:09:29.104Z"
   },
   {
    "duration": 4,
    "start_time": "2021-12-01T13:09:29.114Z"
   },
   {
    "duration": 6,
    "start_time": "2021-12-01T13:09:29.119Z"
   },
   {
    "duration": 25,
    "start_time": "2021-12-01T13:09:29.127Z"
   },
   {
    "duration": 125,
    "start_time": "2021-12-01T13:09:29.154Z"
   },
   {
    "duration": 56,
    "start_time": "2021-12-01T13:09:29.280Z"
   },
   {
    "duration": 18,
    "start_time": "2021-12-01T13:09:29.338Z"
   },
   {
    "duration": 8,
    "start_time": "2021-12-01T13:09:29.357Z"
   },
   {
    "duration": 1047,
    "start_time": "2021-12-01T13:09:29.391Z"
   },
   {
    "duration": 1167,
    "start_time": "2021-12-01T13:09:32.425Z"
   },
   {
    "duration": 252,
    "start_time": "2021-12-01T13:09:33.740Z"
   },
   {
    "duration": 22,
    "start_time": "2021-12-01T13:10:19.915Z"
   },
   {
    "duration": 25,
    "start_time": "2021-12-01T13:31:29.504Z"
   },
   {
    "duration": 46,
    "start_time": "2021-12-01T13:32:01.626Z"
   },
   {
    "duration": 3,
    "start_time": "2021-12-01T13:32:07.659Z"
   },
   {
    "duration": 19,
    "start_time": "2021-12-01T13:32:07.664Z"
   },
   {
    "duration": 706,
    "start_time": "2021-12-01T13:32:07.686Z"
   },
   {
    "duration": 462,
    "start_time": "2021-12-01T13:32:08.394Z"
   },
   {
    "duration": 11,
    "start_time": "2021-12-01T13:32:08.858Z"
   },
   {
    "duration": 381,
    "start_time": "2021-12-01T13:32:08.871Z"
   },
   {
    "duration": 63,
    "start_time": "2021-12-01T13:32:09.254Z"
   },
   {
    "duration": 82,
    "start_time": "2021-12-01T13:32:09.318Z"
   },
   {
    "duration": 3,
    "start_time": "2021-12-01T13:32:09.403Z"
   },
   {
    "duration": 20,
    "start_time": "2021-12-01T13:32:09.408Z"
   },
   {
    "duration": 25,
    "start_time": "2021-12-01T13:32:09.430Z"
   },
   {
    "duration": 28,
    "start_time": "2021-12-01T13:32:09.456Z"
   },
   {
    "duration": 35,
    "start_time": "2021-12-01T13:32:09.486Z"
   },
   {
    "duration": 103,
    "start_time": "2021-12-01T13:32:09.522Z"
   },
   {
    "duration": 78,
    "start_time": "2021-12-01T13:32:09.627Z"
   },
   {
    "duration": 23,
    "start_time": "2021-12-01T13:32:09.707Z"
   },
   {
    "duration": 11,
    "start_time": "2021-12-01T13:32:09.732Z"
   },
   {
    "duration": 25,
    "start_time": "2021-12-01T13:32:09.744Z"
   },
   {
    "duration": 43,
    "start_time": "2021-12-01T13:32:09.771Z"
   },
   {
    "duration": 19,
    "start_time": "2021-12-01T13:32:09.816Z"
   },
   {
    "duration": 24,
    "start_time": "2021-12-01T13:32:09.837Z"
   },
   {
    "duration": 20,
    "start_time": "2021-12-01T13:32:09.863Z"
   },
   {
    "duration": 34,
    "start_time": "2021-12-01T13:32:09.885Z"
   },
   {
    "duration": 78,
    "start_time": "2021-12-01T13:32:09.921Z"
   },
   {
    "duration": 34,
    "start_time": "2021-12-01T13:32:10.001Z"
   },
   {
    "duration": 19,
    "start_time": "2021-12-01T13:32:10.037Z"
   },
   {
    "duration": 33,
    "start_time": "2021-12-01T13:32:10.061Z"
   },
   {
    "duration": 41,
    "start_time": "2021-12-01T13:32:10.097Z"
   },
   {
    "duration": 66,
    "start_time": "2021-12-01T13:32:10.140Z"
   },
   {
    "duration": 36,
    "start_time": "2021-12-01T13:32:10.208Z"
   },
   {
    "duration": 14,
    "start_time": "2021-12-01T13:32:10.246Z"
   },
   {
    "duration": 31,
    "start_time": "2021-12-01T13:32:10.262Z"
   },
   {
    "duration": 30,
    "start_time": "2021-12-01T13:32:10.295Z"
   },
   {
    "duration": 15,
    "start_time": "2021-12-01T13:32:10.328Z"
   },
   {
    "duration": 23,
    "start_time": "2021-12-01T13:32:10.345Z"
   },
   {
    "duration": 31,
    "start_time": "2021-12-01T13:32:10.370Z"
   },
   {
    "duration": 27,
    "start_time": "2021-12-01T13:32:10.403Z"
   },
   {
    "duration": 21,
    "start_time": "2021-12-01T13:32:10.432Z"
   },
   {
    "duration": 32,
    "start_time": "2021-12-01T13:32:10.455Z"
   },
   {
    "duration": 30,
    "start_time": "2021-12-01T13:32:10.490Z"
   },
   {
    "duration": 34,
    "start_time": "2021-12-01T13:32:10.522Z"
   },
   {
    "duration": 25,
    "start_time": "2021-12-01T13:32:10.558Z"
   },
   {
    "duration": 18,
    "start_time": "2021-12-01T13:32:10.585Z"
   },
   {
    "duration": 29,
    "start_time": "2021-12-01T13:32:10.605Z"
   },
   {
    "duration": 46,
    "start_time": "2021-12-01T13:32:10.636Z"
   },
   {
    "duration": 96,
    "start_time": "2021-12-01T13:32:10.684Z"
   },
   {
    "duration": 55,
    "start_time": "2021-12-01T13:32:10.782Z"
   },
   {
    "duration": 24,
    "start_time": "2021-12-01T13:32:10.839Z"
   },
   {
    "duration": 43,
    "start_time": "2021-12-01T13:32:10.865Z"
   },
   {
    "duration": 27,
    "start_time": "2021-12-01T13:32:10.910Z"
   },
   {
    "duration": 23,
    "start_time": "2021-12-01T13:32:12.425Z"
   },
   {
    "duration": 24,
    "start_time": "2021-12-01T13:32:13.309Z"
   },
   {
    "duration": 48,
    "start_time": "2021-12-01T13:32:47.479Z"
   },
   {
    "duration": 404,
    "start_time": "2021-12-01T13:33:00.768Z"
   },
   {
    "duration": 3,
    "start_time": "2021-12-01T13:33:50.697Z"
   },
   {
    "duration": 3,
    "start_time": "2021-12-01T13:33:54.922Z"
   },
   {
    "duration": 3,
    "start_time": "2021-12-01T13:38:08.279Z"
   },
   {
    "duration": 8,
    "start_time": "2021-12-01T13:38:08.285Z"
   },
   {
    "duration": 688,
    "start_time": "2021-12-01T13:38:08.295Z"
   },
   {
    "duration": 458,
    "start_time": "2021-12-01T13:38:08.985Z"
   },
   {
    "duration": 12,
    "start_time": "2021-12-01T13:38:09.445Z"
   },
   {
    "duration": 347,
    "start_time": "2021-12-01T13:38:09.459Z"
   },
   {
    "duration": 55,
    "start_time": "2021-12-01T13:38:09.808Z"
   },
   {
    "duration": 97,
    "start_time": "2021-12-01T13:38:09.867Z"
   },
   {
    "duration": 3,
    "start_time": "2021-12-01T13:38:09.967Z"
   },
   {
    "duration": 19,
    "start_time": "2021-12-01T13:38:09.972Z"
   },
   {
    "duration": 10,
    "start_time": "2021-12-01T13:38:09.993Z"
   },
   {
    "duration": 7,
    "start_time": "2021-12-01T13:38:10.005Z"
   },
   {
    "duration": 29,
    "start_time": "2021-12-01T13:38:10.014Z"
   },
   {
    "duration": 124,
    "start_time": "2021-12-01T13:38:10.045Z"
   },
   {
    "duration": 79,
    "start_time": "2021-12-01T13:38:10.171Z"
   },
   {
    "duration": 25,
    "start_time": "2021-12-01T13:38:10.252Z"
   },
   {
    "duration": 2,
    "start_time": "2021-12-01T13:38:10.291Z"
   },
   {
    "duration": 13,
    "start_time": "2021-12-01T13:38:10.295Z"
   },
   {
    "duration": 9,
    "start_time": "2021-12-01T13:38:10.310Z"
   },
   {
    "duration": 9,
    "start_time": "2021-12-01T13:38:10.321Z"
   },
   {
    "duration": 13,
    "start_time": "2021-12-01T13:38:10.332Z"
   },
   {
    "duration": 5,
    "start_time": "2021-12-01T13:38:10.349Z"
   },
   {
    "duration": 21,
    "start_time": "2021-12-01T13:38:10.391Z"
   },
   {
    "duration": 81,
    "start_time": "2021-12-01T13:38:10.413Z"
   },
   {
    "duration": 37,
    "start_time": "2021-12-01T13:38:10.496Z"
   },
   {
    "duration": 17,
    "start_time": "2021-12-01T13:38:10.535Z"
   },
   {
    "duration": 7,
    "start_time": "2021-12-01T13:38:10.554Z"
   },
   {
    "duration": 38,
    "start_time": "2021-12-01T13:38:10.562Z"
   },
   {
    "duration": 58,
    "start_time": "2021-12-01T13:38:10.602Z"
   },
   {
    "duration": 50,
    "start_time": "2021-12-01T13:38:10.662Z"
   },
   {
    "duration": 15,
    "start_time": "2021-12-01T13:38:10.714Z"
   },
   {
    "duration": 8,
    "start_time": "2021-12-01T13:38:10.730Z"
   },
   {
    "duration": 9,
    "start_time": "2021-12-01T13:38:10.739Z"
   },
   {
    "duration": 14,
    "start_time": "2021-12-01T13:38:10.749Z"
   },
   {
    "duration": 28,
    "start_time": "2021-12-01T13:38:10.764Z"
   },
   {
    "duration": 3,
    "start_time": "2021-12-01T13:38:10.794Z"
   },
   {
    "duration": 8,
    "start_time": "2021-12-01T13:38:10.799Z"
   },
   {
    "duration": 5,
    "start_time": "2021-12-01T13:38:10.809Z"
   },
   {
    "duration": 10,
    "start_time": "2021-12-01T13:38:10.816Z"
   },
   {
    "duration": 5,
    "start_time": "2021-12-01T13:38:10.828Z"
   },
   {
    "duration": 5,
    "start_time": "2021-12-01T13:38:10.835Z"
   },
   {
    "duration": 11,
    "start_time": "2021-12-01T13:38:10.842Z"
   },
   {
    "duration": 5,
    "start_time": "2021-12-01T13:38:10.900Z"
   },
   {
    "duration": 6,
    "start_time": "2021-12-01T13:38:10.907Z"
   },
   {
    "duration": 29,
    "start_time": "2021-12-01T13:38:10.915Z"
   },
   {
    "duration": 114,
    "start_time": "2021-12-01T13:38:10.946Z"
   },
   {
    "duration": 56,
    "start_time": "2021-12-01T13:38:11.062Z"
   },
   {
    "duration": 2,
    "start_time": "2021-12-01T13:38:11.120Z"
   },
   {
    "duration": 11,
    "start_time": "2021-12-01T13:38:11.124Z"
   },
   {
    "duration": 24,
    "start_time": "2021-12-01T13:38:11.136Z"
   },
   {
    "duration": 2,
    "start_time": "2021-12-01T13:38:11.162Z"
   },
   {
    "duration": 84,
    "start_time": "2021-12-01T13:38:11.165Z"
   },
   {
    "duration": -85,
    "start_time": "2021-12-01T13:38:11.336Z"
   },
   {
    "duration": -88,
    "start_time": "2021-12-01T13:38:11.340Z"
   },
   {
    "duration": -92,
    "start_time": "2021-12-01T13:38:11.345Z"
   },
   {
    "duration": 59,
    "start_time": "2021-12-01T13:38:23.561Z"
   },
   {
    "duration": 8,
    "start_time": "2021-12-01T13:38:31.174Z"
   },
   {
    "duration": 21,
    "start_time": "2021-12-01T13:38:44.731Z"
   },
   {
    "duration": 197,
    "start_time": "2021-12-01T14:07:08.105Z"
   },
   {
    "duration": 3,
    "start_time": "2021-12-01T14:07:18.801Z"
   },
   {
    "duration": 4,
    "start_time": "2021-12-01T14:07:18.808Z"
   },
   {
    "duration": 669,
    "start_time": "2021-12-01T14:07:18.814Z"
   },
   {
    "duration": 484,
    "start_time": "2021-12-01T14:07:19.486Z"
   },
   {
    "duration": 24,
    "start_time": "2021-12-01T14:07:19.972Z"
   },
   {
    "duration": 358,
    "start_time": "2021-12-01T14:07:19.997Z"
   },
   {
    "duration": 65,
    "start_time": "2021-12-01T14:07:20.356Z"
   },
   {
    "duration": 70,
    "start_time": "2021-12-01T14:07:20.423Z"
   },
   {
    "duration": 3,
    "start_time": "2021-12-01T14:07:20.495Z"
   },
   {
    "duration": 6,
    "start_time": "2021-12-01T14:07:20.500Z"
   },
   {
    "duration": 11,
    "start_time": "2021-12-01T14:07:20.508Z"
   },
   {
    "duration": 24,
    "start_time": "2021-12-01T14:07:20.521Z"
   },
   {
    "duration": 58,
    "start_time": "2021-12-01T14:07:20.547Z"
   },
   {
    "duration": 105,
    "start_time": "2021-12-01T14:07:20.607Z"
   },
   {
    "duration": 86,
    "start_time": "2021-12-01T14:07:20.714Z"
   },
   {
    "duration": 25,
    "start_time": "2021-12-01T14:07:20.801Z"
   },
   {
    "duration": 3,
    "start_time": "2021-12-01T14:07:20.828Z"
   },
   {
    "duration": 38,
    "start_time": "2021-12-01T14:07:20.833Z"
   },
   {
    "duration": 27,
    "start_time": "2021-12-01T14:07:20.873Z"
   },
   {
    "duration": 27,
    "start_time": "2021-12-01T14:07:20.902Z"
   },
   {
    "duration": 21,
    "start_time": "2021-12-01T14:07:20.930Z"
   },
   {
    "duration": 8,
    "start_time": "2021-12-01T14:07:20.953Z"
   },
   {
    "duration": 22,
    "start_time": "2021-12-01T14:07:20.963Z"
   },
   {
    "duration": 83,
    "start_time": "2021-12-01T14:07:20.990Z"
   },
   {
    "duration": 39,
    "start_time": "2021-12-01T14:07:21.075Z"
   },
   {
    "duration": 18,
    "start_time": "2021-12-01T14:07:21.115Z"
   },
   {
    "duration": 7,
    "start_time": "2021-12-01T14:07:21.135Z"
   },
   {
    "duration": 22,
    "start_time": "2021-12-01T14:07:21.143Z"
   },
   {
    "duration": 63,
    "start_time": "2021-12-01T14:07:21.191Z"
   },
   {
    "duration": 57,
    "start_time": "2021-12-01T14:07:21.255Z"
   },
   {
    "duration": 15,
    "start_time": "2021-12-01T14:07:21.314Z"
   },
   {
    "duration": 7,
    "start_time": "2021-12-01T14:07:21.331Z"
   },
   {
    "duration": 11,
    "start_time": "2021-12-01T14:07:21.340Z"
   },
   {
    "duration": 19,
    "start_time": "2021-12-01T14:07:21.352Z"
   },
   {
    "duration": 25,
    "start_time": "2021-12-01T14:07:21.372Z"
   },
   {
    "duration": 7,
    "start_time": "2021-12-01T14:07:21.399Z"
   },
   {
    "duration": 8,
    "start_time": "2021-12-01T14:07:21.407Z"
   },
   {
    "duration": 13,
    "start_time": "2021-12-01T14:07:21.417Z"
   },
   {
    "duration": 12,
    "start_time": "2021-12-01T14:07:21.432Z"
   },
   {
    "duration": 9,
    "start_time": "2021-12-01T14:07:21.445Z"
   },
   {
    "duration": 12,
    "start_time": "2021-12-01T14:07:21.456Z"
   },
   {
    "duration": 10,
    "start_time": "2021-12-01T14:07:21.469Z"
   },
   {
    "duration": 16,
    "start_time": "2021-12-01T14:07:21.481Z"
   },
   {
    "duration": 7,
    "start_time": "2021-12-01T14:07:21.499Z"
   },
   {
    "duration": 29,
    "start_time": "2021-12-01T14:07:21.508Z"
   },
   {
    "duration": 111,
    "start_time": "2021-12-01T14:07:21.539Z"
   },
   {
    "duration": 64,
    "start_time": "2021-12-01T14:07:21.652Z"
   },
   {
    "duration": 2,
    "start_time": "2021-12-01T14:07:21.718Z"
   },
   {
    "duration": 15,
    "start_time": "2021-12-01T14:07:21.722Z"
   },
   {
    "duration": 29,
    "start_time": "2021-12-01T14:07:21.739Z"
   },
   {
    "duration": 24,
    "start_time": "2021-12-01T14:07:23.248Z"
   },
   {
    "duration": 183,
    "start_time": "2021-12-01T14:07:24.449Z"
   },
   {
    "duration": 172,
    "start_time": "2021-12-01T14:07:45.953Z"
   },
   {
    "duration": 24,
    "start_time": "2021-12-01T14:09:23.169Z"
   },
   {
    "duration": 3,
    "start_time": "2021-12-01T14:09:44.552Z"
   },
   {
    "duration": 14,
    "start_time": "2021-12-01T14:09:59.656Z"
   },
   {
    "duration": 188,
    "start_time": "2021-12-01T14:22:32.782Z"
   },
   {
    "duration": 14,
    "start_time": "2021-12-01T14:22:56.838Z"
   },
   {
    "duration": 177,
    "start_time": "2021-12-01T14:23:04.434Z"
   },
   {
    "duration": 3,
    "start_time": "2021-12-01T14:23:12.523Z"
   },
   {
    "duration": 11,
    "start_time": "2021-12-01T14:23:12.528Z"
   },
   {
    "duration": 609,
    "start_time": "2021-12-01T14:23:12.541Z"
   },
   {
    "duration": 411,
    "start_time": "2021-12-01T14:23:13.152Z"
   },
   {
    "duration": 13,
    "start_time": "2021-12-01T14:23:13.565Z"
   },
   {
    "duration": 320,
    "start_time": "2021-12-01T14:23:13.580Z"
   },
   {
    "duration": 50,
    "start_time": "2021-12-01T14:23:13.902Z"
   },
   {
    "duration": 66,
    "start_time": "2021-12-01T14:23:13.954Z"
   },
   {
    "duration": 3,
    "start_time": "2021-12-01T14:23:14.023Z"
   },
   {
    "duration": 6,
    "start_time": "2021-12-01T14:23:14.028Z"
   },
   {
    "duration": 15,
    "start_time": "2021-12-01T14:23:14.035Z"
   },
   {
    "duration": 10,
    "start_time": "2021-12-01T14:23:14.052Z"
   },
   {
    "duration": 49,
    "start_time": "2021-12-01T14:23:14.064Z"
   },
   {
    "duration": 104,
    "start_time": "2021-12-01T14:23:14.115Z"
   },
   {
    "duration": 76,
    "start_time": "2021-12-01T14:23:14.221Z"
   },
   {
    "duration": 25,
    "start_time": "2021-12-01T14:23:14.299Z"
   },
   {
    "duration": 3,
    "start_time": "2021-12-01T14:23:14.326Z"
   },
   {
    "duration": 30,
    "start_time": "2021-12-01T14:23:14.331Z"
   },
   {
    "duration": 19,
    "start_time": "2021-12-01T14:23:14.363Z"
   },
   {
    "duration": 13,
    "start_time": "2021-12-01T14:23:14.384Z"
   },
   {
    "duration": 35,
    "start_time": "2021-12-01T14:23:14.399Z"
   },
   {
    "duration": 18,
    "start_time": "2021-12-01T14:23:14.436Z"
   },
   {
    "duration": 32,
    "start_time": "2021-12-01T14:23:14.456Z"
   },
   {
    "duration": 70,
    "start_time": "2021-12-01T14:23:14.490Z"
   },
   {
    "duration": 38,
    "start_time": "2021-12-01T14:23:14.561Z"
   },
   {
    "duration": 18,
    "start_time": "2021-12-01T14:23:14.602Z"
   },
   {
    "duration": 8,
    "start_time": "2021-12-01T14:23:14.622Z"
   },
   {
    "duration": 26,
    "start_time": "2021-12-01T14:23:14.632Z"
   },
   {
    "duration": 79,
    "start_time": "2021-12-01T14:23:14.660Z"
   },
   {
    "duration": 33,
    "start_time": "2021-12-01T14:23:14.740Z"
   },
   {
    "duration": 22,
    "start_time": "2021-12-01T14:23:14.774Z"
   },
   {
    "duration": 7,
    "start_time": "2021-12-01T14:23:14.798Z"
   },
   {
    "duration": 10,
    "start_time": "2021-12-01T14:23:14.807Z"
   },
   {
    "duration": 11,
    "start_time": "2021-12-01T14:23:14.819Z"
   },
   {
    "duration": 6,
    "start_time": "2021-12-01T14:23:14.832Z"
   },
   {
    "duration": 5,
    "start_time": "2021-12-01T14:23:14.839Z"
   },
   {
    "duration": 6,
    "start_time": "2021-12-01T14:23:14.845Z"
   },
   {
    "duration": 10,
    "start_time": "2021-12-01T14:23:14.853Z"
   },
   {
    "duration": 33,
    "start_time": "2021-12-01T14:23:14.864Z"
   },
   {
    "duration": 7,
    "start_time": "2021-12-01T14:23:14.898Z"
   },
   {
    "duration": 6,
    "start_time": "2021-12-01T14:23:14.906Z"
   },
   {
    "duration": 10,
    "start_time": "2021-12-01T14:23:14.914Z"
   },
   {
    "duration": 4,
    "start_time": "2021-12-01T14:23:14.926Z"
   },
   {
    "duration": 12,
    "start_time": "2021-12-01T14:23:14.931Z"
   },
   {
    "duration": 27,
    "start_time": "2021-12-01T14:23:14.945Z"
   },
   {
    "duration": 109,
    "start_time": "2021-12-01T14:23:14.973Z"
   },
   {
    "duration": 52,
    "start_time": "2021-12-01T14:23:15.084Z"
   },
   {
    "duration": 2,
    "start_time": "2021-12-01T14:23:15.138Z"
   },
   {
    "duration": 13,
    "start_time": "2021-12-01T14:23:15.141Z"
   },
   {
    "duration": 38,
    "start_time": "2021-12-01T14:23:15.156Z"
   },
   {
    "duration": 14,
    "start_time": "2021-12-01T14:23:15.196Z"
   },
   {
    "duration": 13,
    "start_time": "2021-12-01T14:23:17.361Z"
   },
   {
    "duration": 186,
    "start_time": "2021-12-01T14:23:18.297Z"
   },
   {
    "duration": 3,
    "start_time": "2021-12-01T14:23:33.812Z"
   },
   {
    "duration": 170,
    "start_time": "2021-12-01T14:23:52.682Z"
   },
   {
    "duration": 181,
    "start_time": "2021-12-01T14:24:02.722Z"
   },
   {
    "duration": 14,
    "start_time": "2021-12-01T14:24:47.029Z"
   },
   {
    "duration": 20,
    "start_time": "2021-12-01T14:25:57.797Z"
   },
   {
    "duration": 29,
    "start_time": "2021-12-01T14:27:30.554Z"
   },
   {
    "duration": 3,
    "start_time": "2021-12-01T14:27:41.796Z"
   },
   {
    "duration": 5,
    "start_time": "2021-12-01T14:27:41.801Z"
   },
   {
    "duration": 745,
    "start_time": "2021-12-01T14:27:41.808Z"
   },
   {
    "duration": 406,
    "start_time": "2021-12-01T14:27:42.555Z"
   },
   {
    "duration": 12,
    "start_time": "2021-12-01T14:27:42.963Z"
   },
   {
    "duration": 316,
    "start_time": "2021-12-01T14:27:42.992Z"
   },
   {
    "duration": 52,
    "start_time": "2021-12-01T14:27:43.311Z"
   },
   {
    "duration": 68,
    "start_time": "2021-12-01T14:27:43.364Z"
   },
   {
    "duration": 2,
    "start_time": "2021-12-01T14:27:43.434Z"
   },
   {
    "duration": 5,
    "start_time": "2021-12-01T14:27:43.438Z"
   },
   {
    "duration": 10,
    "start_time": "2021-12-01T14:27:43.444Z"
   },
   {
    "duration": 4,
    "start_time": "2021-12-01T14:27:43.456Z"
   },
   {
    "duration": 51,
    "start_time": "2021-12-01T14:27:43.462Z"
   },
   {
    "duration": 105,
    "start_time": "2021-12-01T14:27:43.515Z"
   },
   {
    "duration": 74,
    "start_time": "2021-12-01T14:27:43.621Z"
   },
   {
    "duration": 23,
    "start_time": "2021-12-01T14:27:43.696Z"
   },
   {
    "duration": 2,
    "start_time": "2021-12-01T14:27:43.721Z"
   },
   {
    "duration": 9,
    "start_time": "2021-12-01T14:27:43.726Z"
   },
   {
    "duration": 8,
    "start_time": "2021-12-01T14:27:43.738Z"
   },
   {
    "duration": 8,
    "start_time": "2021-12-01T14:27:43.748Z"
   },
   {
    "duration": 40,
    "start_time": "2021-12-01T14:27:43.757Z"
   },
   {
    "duration": 4,
    "start_time": "2021-12-01T14:27:43.799Z"
   },
   {
    "duration": 22,
    "start_time": "2021-12-01T14:27:43.805Z"
   },
   {
    "duration": 84,
    "start_time": "2021-12-01T14:27:43.829Z"
   },
   {
    "duration": 29,
    "start_time": "2021-12-01T14:27:43.915Z"
   },
   {
    "duration": 17,
    "start_time": "2021-12-01T14:27:43.946Z"
   },
   {
    "duration": 7,
    "start_time": "2021-12-01T14:27:43.964Z"
   },
   {
    "duration": 17,
    "start_time": "2021-12-01T14:27:43.992Z"
   },
   {
    "duration": 61,
    "start_time": "2021-12-01T14:27:44.010Z"
   },
   {
    "duration": 36,
    "start_time": "2021-12-01T14:27:44.091Z"
   },
   {
    "duration": 15,
    "start_time": "2021-12-01T14:27:44.129Z"
   },
   {
    "duration": 7,
    "start_time": "2021-12-01T14:27:44.146Z"
   },
   {
    "duration": 9,
    "start_time": "2021-12-01T14:27:44.155Z"
   },
   {
    "duration": 32,
    "start_time": "2021-12-01T14:27:44.165Z"
   },
   {
    "duration": 6,
    "start_time": "2021-12-01T14:27:44.199Z"
   },
   {
    "duration": 6,
    "start_time": "2021-12-01T14:27:44.207Z"
   },
   {
    "duration": 7,
    "start_time": "2021-12-01T14:27:44.214Z"
   },
   {
    "duration": 6,
    "start_time": "2021-12-01T14:27:44.223Z"
   },
   {
    "duration": 10,
    "start_time": "2021-12-01T14:27:44.230Z"
   },
   {
    "duration": 6,
    "start_time": "2021-12-01T14:27:44.241Z"
   },
   {
    "duration": 5,
    "start_time": "2021-12-01T14:27:44.249Z"
   },
   {
    "duration": 37,
    "start_time": "2021-12-01T14:27:44.256Z"
   },
   {
    "duration": 6,
    "start_time": "2021-12-01T14:27:44.294Z"
   },
   {
    "duration": 7,
    "start_time": "2021-12-01T14:27:44.301Z"
   },
   {
    "duration": 27,
    "start_time": "2021-12-01T14:27:44.309Z"
   },
   {
    "duration": 107,
    "start_time": "2021-12-01T14:27:44.338Z"
   },
   {
    "duration": 58,
    "start_time": "2021-12-01T14:27:44.447Z"
   },
   {
    "duration": 3,
    "start_time": "2021-12-01T14:27:44.506Z"
   },
   {
    "duration": 11,
    "start_time": "2021-12-01T14:27:44.510Z"
   },
   {
    "duration": 27,
    "start_time": "2021-12-01T14:27:44.522Z"
   },
   {
    "duration": 12,
    "start_time": "2021-12-01T14:27:44.553Z"
   },
   {
    "duration": 14,
    "start_time": "2021-12-01T14:27:46.855Z"
   },
   {
    "duration": 23,
    "start_time": "2021-12-01T14:27:47.532Z"
   },
   {
    "duration": 21,
    "start_time": "2021-12-01T14:30:43.023Z"
   },
   {
    "duration": 24,
    "start_time": "2021-12-01T14:33:38.243Z"
   },
   {
    "duration": 17,
    "start_time": "2021-12-01T14:34:00.200Z"
   },
   {
    "duration": 69,
    "start_time": "2021-12-01T14:34:35.823Z"
   },
   {
    "duration": 3,
    "start_time": "2021-12-01T14:34:45.838Z"
   },
   {
    "duration": 7,
    "start_time": "2021-12-01T14:34:45.843Z"
   },
   {
    "duration": 624,
    "start_time": "2021-12-01T14:34:45.852Z"
   },
   {
    "duration": 414,
    "start_time": "2021-12-01T14:34:46.478Z"
   },
   {
    "duration": 12,
    "start_time": "2021-12-01T14:34:46.894Z"
   },
   {
    "duration": 330,
    "start_time": "2021-12-01T14:34:46.907Z"
   },
   {
    "duration": 67,
    "start_time": "2021-12-01T14:34:47.241Z"
   },
   {
    "duration": 72,
    "start_time": "2021-12-01T14:34:47.311Z"
   },
   {
    "duration": 8,
    "start_time": "2021-12-01T14:34:47.385Z"
   },
   {
    "duration": 6,
    "start_time": "2021-12-01T14:34:47.395Z"
   },
   {
    "duration": 14,
    "start_time": "2021-12-01T14:34:47.403Z"
   },
   {
    "duration": 9,
    "start_time": "2021-12-01T14:34:47.419Z"
   },
   {
    "duration": 26,
    "start_time": "2021-12-01T14:34:47.430Z"
   },
   {
    "duration": 117,
    "start_time": "2021-12-01T14:34:47.458Z"
   },
   {
    "duration": 73,
    "start_time": "2021-12-01T14:34:47.577Z"
   },
   {
    "duration": 40,
    "start_time": "2021-12-01T14:34:47.653Z"
   },
   {
    "duration": 3,
    "start_time": "2021-12-01T14:34:47.694Z"
   },
   {
    "duration": 10,
    "start_time": "2021-12-01T14:34:47.701Z"
   },
   {
    "duration": 9,
    "start_time": "2021-12-01T14:34:47.714Z"
   },
   {
    "duration": 8,
    "start_time": "2021-12-01T14:34:47.724Z"
   },
   {
    "duration": 10,
    "start_time": "2021-12-01T14:34:47.734Z"
   },
   {
    "duration": 7,
    "start_time": "2021-12-01T14:34:47.745Z"
   },
   {
    "duration": 54,
    "start_time": "2021-12-01T14:34:47.753Z"
   },
   {
    "duration": 83,
    "start_time": "2021-12-01T14:34:47.808Z"
   },
   {
    "duration": 31,
    "start_time": "2021-12-01T14:34:47.893Z"
   },
   {
    "duration": 18,
    "start_time": "2021-12-01T14:34:47.926Z"
   },
   {
    "duration": 8,
    "start_time": "2021-12-01T14:34:47.945Z"
   },
   {
    "duration": 41,
    "start_time": "2021-12-01T14:34:47.955Z"
   },
   {
    "duration": 59,
    "start_time": "2021-12-01T14:34:47.998Z"
   },
   {
    "duration": 53,
    "start_time": "2021-12-01T14:34:48.059Z"
   },
   {
    "duration": 16,
    "start_time": "2021-12-01T14:34:48.114Z"
   },
   {
    "duration": 9,
    "start_time": "2021-12-01T14:34:48.131Z"
   },
   {
    "duration": 8,
    "start_time": "2021-12-01T14:34:48.141Z"
   },
   {
    "duration": 13,
    "start_time": "2021-12-01T14:34:48.150Z"
   },
   {
    "duration": 32,
    "start_time": "2021-12-01T14:34:48.164Z"
   },
   {
    "duration": 5,
    "start_time": "2021-12-01T14:34:48.198Z"
   },
   {
    "duration": 7,
    "start_time": "2021-12-01T14:34:48.205Z"
   },
   {
    "duration": 6,
    "start_time": "2021-12-01T14:34:48.214Z"
   },
   {
    "duration": 10,
    "start_time": "2021-12-01T14:34:48.222Z"
   },
   {
    "duration": 5,
    "start_time": "2021-12-01T14:34:48.234Z"
   },
   {
    "duration": 6,
    "start_time": "2021-12-01T14:34:48.241Z"
   },
   {
    "duration": 47,
    "start_time": "2021-12-01T14:34:48.248Z"
   },
   {
    "duration": 4,
    "start_time": "2021-12-01T14:34:48.298Z"
   },
   {
    "duration": 8,
    "start_time": "2021-12-01T14:34:48.305Z"
   },
   {
    "duration": 29,
    "start_time": "2021-12-01T14:34:48.314Z"
   },
   {
    "duration": 114,
    "start_time": "2021-12-01T14:34:48.345Z"
   },
   {
    "duration": 66,
    "start_time": "2021-12-01T14:34:48.461Z"
   },
   {
    "duration": 9,
    "start_time": "2021-12-01T14:34:48.529Z"
   },
   {
    "duration": 24,
    "start_time": "2021-12-01T14:34:48.540Z"
   },
   {
    "duration": 34,
    "start_time": "2021-12-01T14:34:48.566Z"
   },
   {
    "duration": 13,
    "start_time": "2021-12-01T14:34:54.899Z"
   },
   {
    "duration": 27,
    "start_time": "2021-12-01T14:34:55.880Z"
   },
   {
    "duration": 48,
    "start_time": "2021-12-01T14:37:16.884Z"
   },
   {
    "duration": 24,
    "start_time": "2021-12-01T14:37:42.912Z"
   },
   {
    "duration": 17,
    "start_time": "2021-12-01T14:37:54.516Z"
   },
   {
    "duration": 33,
    "start_time": "2021-12-01T14:38:10.879Z"
   },
   {
    "duration": 3,
    "start_time": "2021-12-01T14:38:15.688Z"
   },
   {
    "duration": 10,
    "start_time": "2021-12-01T14:38:15.693Z"
   },
   {
    "duration": 611,
    "start_time": "2021-12-01T14:38:15.705Z"
   },
   {
    "duration": 417,
    "start_time": "2021-12-01T14:38:16.318Z"
   },
   {
    "duration": 12,
    "start_time": "2021-12-01T14:38:16.737Z"
   },
   {
    "duration": 341,
    "start_time": "2021-12-01T14:38:16.751Z"
   },
   {
    "duration": 52,
    "start_time": "2021-12-01T14:38:17.095Z"
   },
   {
    "duration": 68,
    "start_time": "2021-12-01T14:38:17.149Z"
   },
   {
    "duration": 3,
    "start_time": "2021-12-01T14:38:17.218Z"
   },
   {
    "duration": 6,
    "start_time": "2021-12-01T14:38:17.222Z"
   },
   {
    "duration": 13,
    "start_time": "2021-12-01T14:38:17.229Z"
   },
   {
    "duration": 7,
    "start_time": "2021-12-01T14:38:17.243Z"
   },
   {
    "duration": 44,
    "start_time": "2021-12-01T14:38:17.252Z"
   },
   {
    "duration": 100,
    "start_time": "2021-12-01T14:38:17.298Z"
   },
   {
    "duration": 67,
    "start_time": "2021-12-01T14:38:17.400Z"
   },
   {
    "duration": 35,
    "start_time": "2021-12-01T14:38:17.468Z"
   },
   {
    "duration": 2,
    "start_time": "2021-12-01T14:38:17.505Z"
   },
   {
    "duration": 10,
    "start_time": "2021-12-01T14:38:17.511Z"
   },
   {
    "duration": 8,
    "start_time": "2021-12-01T14:38:17.524Z"
   },
   {
    "duration": 8,
    "start_time": "2021-12-01T14:38:17.533Z"
   },
   {
    "duration": 11,
    "start_time": "2021-12-01T14:38:17.543Z"
   },
   {
    "duration": 38,
    "start_time": "2021-12-01T14:38:17.555Z"
   },
   {
    "duration": 21,
    "start_time": "2021-12-01T14:38:17.595Z"
   },
   {
    "duration": 85,
    "start_time": "2021-12-01T14:38:17.617Z"
   },
   {
    "duration": 30,
    "start_time": "2021-12-01T14:38:17.703Z"
   },
   {
    "duration": 19,
    "start_time": "2021-12-01T14:38:17.735Z"
   },
   {
    "duration": 8,
    "start_time": "2021-12-01T14:38:17.755Z"
   },
   {
    "duration": 42,
    "start_time": "2021-12-01T14:38:17.764Z"
   },
   {
    "duration": 59,
    "start_time": "2021-12-01T14:38:17.808Z"
   },
   {
    "duration": 51,
    "start_time": "2021-12-01T14:38:17.869Z"
   },
   {
    "duration": 16,
    "start_time": "2021-12-01T14:38:17.921Z"
   },
   {
    "duration": 9,
    "start_time": "2021-12-01T14:38:17.938Z"
   },
   {
    "duration": 8,
    "start_time": "2021-12-01T14:38:17.948Z"
   },
   {
    "duration": 36,
    "start_time": "2021-12-01T14:38:17.957Z"
   },
   {
    "duration": 6,
    "start_time": "2021-12-01T14:38:17.995Z"
   },
   {
    "duration": 8,
    "start_time": "2021-12-01T14:38:18.003Z"
   },
   {
    "duration": 8,
    "start_time": "2021-12-01T14:38:18.013Z"
   },
   {
    "duration": 7,
    "start_time": "2021-12-01T14:38:18.023Z"
   },
   {
    "duration": 10,
    "start_time": "2021-12-01T14:38:18.031Z"
   },
   {
    "duration": 5,
    "start_time": "2021-12-01T14:38:18.043Z"
   },
   {
    "duration": 5,
    "start_time": "2021-12-01T14:38:18.050Z"
   },
   {
    "duration": 35,
    "start_time": "2021-12-01T14:38:18.057Z"
   },
   {
    "duration": 5,
    "start_time": "2021-12-01T14:38:18.094Z"
   },
   {
    "duration": 7,
    "start_time": "2021-12-01T14:38:18.101Z"
   },
   {
    "duration": 25,
    "start_time": "2021-12-01T14:38:18.110Z"
   },
   {
    "duration": 113,
    "start_time": "2021-12-01T14:38:18.137Z"
   },
   {
    "duration": 64,
    "start_time": "2021-12-01T14:38:18.252Z"
   },
   {
    "duration": 8,
    "start_time": "2021-12-01T14:38:18.319Z"
   },
   {
    "duration": 24,
    "start_time": "2021-12-01T14:38:18.329Z"
   },
   {
    "duration": 36,
    "start_time": "2021-12-01T14:38:18.355Z"
   },
   {
    "duration": 22,
    "start_time": "2021-12-01T14:38:18.396Z"
   },
   {
    "duration": 12,
    "start_time": "2021-12-01T14:39:18.354Z"
   },
   {
    "duration": 9,
    "start_time": "2021-12-01T14:39:28.974Z"
   },
   {
    "duration": 10,
    "start_time": "2021-12-01T14:39:50.179Z"
   },
   {
    "duration": 9,
    "start_time": "2021-12-01T14:40:10.887Z"
   },
   {
    "duration": 9,
    "start_time": "2021-12-01T14:40:22.753Z"
   },
   {
    "duration": 9,
    "start_time": "2021-12-01T14:40:26.618Z"
   },
   {
    "duration": 10,
    "start_time": "2021-12-01T14:41:00.288Z"
   },
   {
    "duration": 11,
    "start_time": "2021-12-01T14:41:06.244Z"
   },
   {
    "duration": 303,
    "start_time": "2021-12-01T14:46:52.110Z"
   },
   {
    "duration": 3,
    "start_time": "2021-12-01T14:47:02.328Z"
   },
   {
    "duration": 33,
    "start_time": "2021-12-01T14:47:02.333Z"
   },
   {
    "duration": 662,
    "start_time": "2021-12-01T14:47:02.369Z"
   },
   {
    "duration": 425,
    "start_time": "2021-12-01T14:47:03.033Z"
   },
   {
    "duration": 12,
    "start_time": "2021-12-01T14:47:03.460Z"
   },
   {
    "duration": 337,
    "start_time": "2021-12-01T14:47:03.474Z"
   },
   {
    "duration": 54,
    "start_time": "2021-12-01T14:47:03.813Z"
   },
   {
    "duration": 68,
    "start_time": "2021-12-01T14:47:03.868Z"
   },
   {
    "duration": 3,
    "start_time": "2021-12-01T14:47:03.938Z"
   },
   {
    "duration": 5,
    "start_time": "2021-12-01T14:47:03.943Z"
   },
   {
    "duration": 10,
    "start_time": "2021-12-01T14:47:03.950Z"
   },
   {
    "duration": 29,
    "start_time": "2021-12-01T14:47:03.962Z"
   },
   {
    "duration": 25,
    "start_time": "2021-12-01T14:47:03.993Z"
   },
   {
    "duration": 102,
    "start_time": "2021-12-01T14:47:04.020Z"
   },
   {
    "duration": 73,
    "start_time": "2021-12-01T14:47:04.123Z"
   },
   {
    "duration": 23,
    "start_time": "2021-12-01T14:47:04.197Z"
   },
   {
    "duration": 2,
    "start_time": "2021-12-01T14:47:04.221Z"
   },
   {
    "duration": 12,
    "start_time": "2021-12-01T14:47:04.225Z"
   },
   {
    "duration": 10,
    "start_time": "2021-12-01T14:47:04.238Z"
   },
   {
    "duration": 10,
    "start_time": "2021-12-01T14:47:04.249Z"
   },
   {
    "duration": 34,
    "start_time": "2021-12-01T14:47:04.261Z"
   },
   {
    "duration": 4,
    "start_time": "2021-12-01T14:47:04.297Z"
   },
   {
    "duration": 22,
    "start_time": "2021-12-01T14:47:04.303Z"
   },
   {
    "duration": 91,
    "start_time": "2021-12-01T14:47:04.327Z"
   },
   {
    "duration": 30,
    "start_time": "2021-12-01T14:47:04.420Z"
   },
   {
    "duration": 18,
    "start_time": "2021-12-01T14:47:04.451Z"
   },
   {
    "duration": 22,
    "start_time": "2021-12-01T14:47:04.472Z"
   },
   {
    "duration": 32,
    "start_time": "2021-12-01T14:47:04.496Z"
   },
   {
    "duration": 57,
    "start_time": "2021-12-01T14:47:04.530Z"
   },
   {
    "duration": 33,
    "start_time": "2021-12-01T14:47:04.588Z"
   },
   {
    "duration": 15,
    "start_time": "2021-12-01T14:47:04.623Z"
   },
   {
    "duration": 8,
    "start_time": "2021-12-01T14:47:04.639Z"
   },
   {
    "duration": 8,
    "start_time": "2021-12-01T14:47:04.648Z"
   },
   {
    "duration": 34,
    "start_time": "2021-12-01T14:47:04.658Z"
   },
   {
    "duration": 6,
    "start_time": "2021-12-01T14:47:04.694Z"
   },
   {
    "duration": 6,
    "start_time": "2021-12-01T14:47:04.701Z"
   },
   {
    "duration": 6,
    "start_time": "2021-12-01T14:47:04.709Z"
   },
   {
    "duration": 5,
    "start_time": "2021-12-01T14:47:04.717Z"
   },
   {
    "duration": 11,
    "start_time": "2021-12-01T14:47:04.723Z"
   },
   {
    "duration": 6,
    "start_time": "2021-12-01T14:47:04.735Z"
   },
   {
    "duration": 7,
    "start_time": "2021-12-01T14:47:04.743Z"
   },
   {
    "duration": 7,
    "start_time": "2021-12-01T14:47:04.751Z"
   },
   {
    "duration": 31,
    "start_time": "2021-12-01T14:47:04.760Z"
   },
   {
    "duration": 5,
    "start_time": "2021-12-01T14:47:04.793Z"
   },
   {
    "duration": 28,
    "start_time": "2021-12-01T14:47:04.799Z"
   },
   {
    "duration": 101,
    "start_time": "2021-12-01T14:47:04.829Z"
   },
   {
    "duration": 48,
    "start_time": "2021-12-01T14:47:04.932Z"
   },
   {
    "duration": 358,
    "start_time": "2021-12-01T14:47:15.348Z"
   },
   {
    "duration": 21,
    "start_time": "2021-12-01T14:49:44.379Z"
   },
   {
    "duration": 9,
    "start_time": "2021-12-01T14:49:46.288Z"
   },
   {
    "duration": 17,
    "start_time": "2021-12-01T14:50:20.943Z"
   },
   {
    "duration": 15,
    "start_time": "2021-12-01T14:50:35.073Z"
   },
   {
    "duration": 43,
    "start_time": "2021-12-01T14:50:47.103Z"
   },
   {
    "duration": 9,
    "start_time": "2021-12-01T14:50:50.386Z"
   },
   {
    "duration": 21,
    "start_time": "2021-12-01T14:50:53.351Z"
   },
   {
    "duration": 14,
    "start_time": "2021-12-01T14:50:56.072Z"
   },
   {
    "duration": 22,
    "start_time": "2021-12-01T14:50:57.825Z"
   },
   {
    "duration": 3,
    "start_time": "2021-12-01T14:52:37.038Z"
   },
   {
    "duration": 23,
    "start_time": "2021-12-01T14:52:37.042Z"
   },
   {
    "duration": 652,
    "start_time": "2021-12-01T14:52:37.067Z"
   },
   {
    "duration": 439,
    "start_time": "2021-12-01T14:52:37.721Z"
   },
   {
    "duration": 12,
    "start_time": "2021-12-01T14:52:38.163Z"
   },
   {
    "duration": 388,
    "start_time": "2021-12-01T14:52:38.177Z"
   },
   {
    "duration": 53,
    "start_time": "2021-12-01T14:52:38.566Z"
   },
   {
    "duration": 71,
    "start_time": "2021-12-01T14:52:38.620Z"
   },
   {
    "duration": 2,
    "start_time": "2021-12-01T14:52:38.694Z"
   },
   {
    "duration": 6,
    "start_time": "2021-12-01T14:52:38.698Z"
   },
   {
    "duration": 10,
    "start_time": "2021-12-01T14:52:38.706Z"
   },
   {
    "duration": 8,
    "start_time": "2021-12-01T14:52:38.718Z"
   },
   {
    "duration": 28,
    "start_time": "2021-12-01T14:52:38.727Z"
   },
   {
    "duration": 116,
    "start_time": "2021-12-01T14:52:38.756Z"
   },
   {
    "duration": 79,
    "start_time": "2021-12-01T14:52:38.874Z"
   },
   {
    "duration": 3,
    "start_time": "2021-12-01T14:52:38.954Z"
   },
   {
    "duration": 8,
    "start_time": "2021-12-01T14:52:38.958Z"
   },
   {
    "duration": 33,
    "start_time": "2021-12-01T14:52:38.967Z"
   },
   {
    "duration": 9,
    "start_time": "2021-12-01T14:52:39.001Z"
   },
   {
    "duration": 11,
    "start_time": "2021-12-01T14:52:39.012Z"
   },
   {
    "duration": 9,
    "start_time": "2021-12-01T14:52:39.024Z"
   },
   {
    "duration": 12,
    "start_time": "2021-12-01T14:52:39.034Z"
   },
   {
    "duration": 10,
    "start_time": "2021-12-01T14:52:39.047Z"
   },
   {
    "duration": 37,
    "start_time": "2021-12-01T14:52:39.059Z"
   },
   {
    "duration": 72,
    "start_time": "2021-12-01T14:52:39.098Z"
   },
   {
    "duration": 43,
    "start_time": "2021-12-01T14:52:39.174Z"
   },
   {
    "duration": 17,
    "start_time": "2021-12-01T14:52:39.219Z"
   },
   {
    "duration": 8,
    "start_time": "2021-12-01T14:52:39.237Z"
   },
   {
    "duration": 30,
    "start_time": "2021-12-01T14:52:39.246Z"
   },
   {
    "duration": 72,
    "start_time": "2021-12-01T14:52:39.278Z"
   },
   {
    "duration": 45,
    "start_time": "2021-12-01T14:52:39.352Z"
   },
   {
    "duration": 15,
    "start_time": "2021-12-01T14:52:39.399Z"
   },
   {
    "duration": 8,
    "start_time": "2021-12-01T14:52:39.415Z"
   },
   {
    "duration": 7,
    "start_time": "2021-12-01T14:52:39.425Z"
   },
   {
    "duration": 22,
    "start_time": "2021-12-01T14:52:39.434Z"
   },
   {
    "duration": 9,
    "start_time": "2021-12-01T14:52:39.457Z"
   },
   {
    "duration": 25,
    "start_time": "2021-12-01T14:52:39.467Z"
   },
   {
    "duration": 25,
    "start_time": "2021-12-01T14:52:39.493Z"
   },
   {
    "duration": 8,
    "start_time": "2021-12-01T14:52:39.520Z"
   },
   {
    "duration": 11,
    "start_time": "2021-12-01T14:52:39.529Z"
   },
   {
    "duration": 7,
    "start_time": "2021-12-01T14:52:39.541Z"
   },
   {
    "duration": 10,
    "start_time": "2021-12-01T14:52:39.550Z"
   },
   {
    "duration": 8,
    "start_time": "2021-12-01T14:52:39.561Z"
   },
   {
    "duration": 7,
    "start_time": "2021-12-01T14:52:39.571Z"
   },
   {
    "duration": 7,
    "start_time": "2021-12-01T14:52:39.580Z"
   },
   {
    "duration": 38,
    "start_time": "2021-12-01T14:52:39.589Z"
   },
   {
    "duration": 93,
    "start_time": "2021-12-01T14:52:39.629Z"
   },
   {
    "duration": 42,
    "start_time": "2021-12-01T14:52:39.724Z"
   },
   {
    "duration": 24,
    "start_time": "2021-12-01T14:52:39.768Z"
   },
   {
    "duration": 22,
    "start_time": "2021-12-01T14:52:39.794Z"
   },
   {
    "duration": 20,
    "start_time": "2021-12-01T14:52:43.106Z"
   },
   {
    "duration": 15,
    "start_time": "2021-12-01T14:52:45.035Z"
   },
   {
    "duration": 24,
    "start_time": "2021-12-01T14:52:46.569Z"
   },
   {
    "duration": 26,
    "start_time": "2021-12-01T14:53:48.396Z"
   },
   {
    "duration": 2,
    "start_time": "2021-12-01T14:53:53.040Z"
   },
   {
    "duration": 11,
    "start_time": "2021-12-01T14:53:53.044Z"
   },
   {
    "duration": 2339,
    "start_time": "2021-12-01T14:53:53.057Z"
   },
   {
    "duration": 419,
    "start_time": "2021-12-01T14:53:55.398Z"
   },
   {
    "duration": 13,
    "start_time": "2021-12-01T14:53:55.819Z"
   },
   {
    "duration": 337,
    "start_time": "2021-12-01T14:53:55.834Z"
   },
   {
    "duration": 1718,
    "start_time": "2021-12-01T14:53:56.173Z"
   },
   {
    "duration": 143,
    "start_time": "2021-12-01T14:53:57.894Z"
   },
   {
    "duration": 2,
    "start_time": "2021-12-01T14:53:58.039Z"
   },
   {
    "duration": 15,
    "start_time": "2021-12-01T14:53:58.043Z"
   },
   {
    "duration": 18,
    "start_time": "2021-12-01T14:53:58.060Z"
   },
   {
    "duration": 15,
    "start_time": "2021-12-01T14:53:58.080Z"
   },
   {
    "duration": 30,
    "start_time": "2021-12-01T14:53:58.097Z"
   },
   {
    "duration": 107,
    "start_time": "2021-12-01T14:53:58.128Z"
   },
   {
    "duration": 80,
    "start_time": "2021-12-01T14:53:58.237Z"
   },
   {
    "duration": 2,
    "start_time": "2021-12-01T14:53:58.319Z"
   },
   {
    "duration": 10,
    "start_time": "2021-12-01T14:53:58.323Z"
   },
   {
    "duration": 27,
    "start_time": "2021-12-01T14:53:58.335Z"
   },
   {
    "duration": 8,
    "start_time": "2021-12-01T14:53:58.364Z"
   },
   {
    "duration": 26,
    "start_time": "2021-12-01T14:53:58.373Z"
   },
   {
    "duration": 8,
    "start_time": "2021-12-01T14:53:58.401Z"
   },
   {
    "duration": 10,
    "start_time": "2021-12-01T14:53:58.412Z"
   },
   {
    "duration": 19,
    "start_time": "2021-12-01T14:53:58.424Z"
   },
   {
    "duration": 37,
    "start_time": "2021-12-01T14:53:58.444Z"
   },
   {
    "duration": 72,
    "start_time": "2021-12-01T14:53:58.483Z"
   },
   {
    "duration": 35,
    "start_time": "2021-12-01T14:53:58.556Z"
   },
   {
    "duration": 17,
    "start_time": "2021-12-01T14:53:58.593Z"
   },
   {
    "duration": 12,
    "start_time": "2021-12-01T14:53:58.611Z"
   },
   {
    "duration": 32,
    "start_time": "2021-12-01T14:53:58.624Z"
   },
   {
    "duration": 61,
    "start_time": "2021-12-01T14:53:58.658Z"
   },
   {
    "duration": 34,
    "start_time": "2021-12-01T14:53:58.720Z"
   },
   {
    "duration": 13,
    "start_time": "2021-12-01T14:53:58.756Z"
   },
   {
    "duration": 23,
    "start_time": "2021-12-01T14:53:58.771Z"
   },
   {
    "duration": 19,
    "start_time": "2021-12-01T14:53:58.795Z"
   },
   {
    "duration": 23,
    "start_time": "2021-12-01T14:53:58.815Z"
   },
   {
    "duration": 16,
    "start_time": "2021-12-01T14:53:58.840Z"
   },
   {
    "duration": 6,
    "start_time": "2021-12-01T14:53:58.858Z"
   },
   {
    "duration": 9,
    "start_time": "2021-12-01T14:53:58.865Z"
   },
   {
    "duration": 16,
    "start_time": "2021-12-01T14:53:58.876Z"
   },
   {
    "duration": 14,
    "start_time": "2021-12-01T14:53:58.894Z"
   },
   {
    "duration": 6,
    "start_time": "2021-12-01T14:53:58.909Z"
   },
   {
    "duration": 7,
    "start_time": "2021-12-01T14:53:58.917Z"
   },
   {
    "duration": 8,
    "start_time": "2021-12-01T14:53:58.926Z"
   },
   {
    "duration": 4,
    "start_time": "2021-12-01T14:53:58.935Z"
   },
   {
    "duration": 6,
    "start_time": "2021-12-01T14:53:58.940Z"
   },
   {
    "duration": 33,
    "start_time": "2021-12-01T14:53:58.947Z"
   },
   {
    "duration": 90,
    "start_time": "2021-12-01T14:53:58.991Z"
   },
   {
    "duration": 41,
    "start_time": "2021-12-01T14:53:59.083Z"
   },
   {
    "duration": 6,
    "start_time": "2021-12-01T14:53:59.126Z"
   },
   {
    "duration": 27,
    "start_time": "2021-12-01T14:53:59.134Z"
   },
   {
    "duration": 33,
    "start_time": "2021-12-01T14:53:59.162Z"
   },
   {
    "duration": 16,
    "start_time": "2021-12-01T14:54:01.440Z"
   },
   {
    "duration": 205,
    "start_time": "2021-12-01T14:54:02.285Z"
   },
   {
    "duration": 22,
    "start_time": "2021-12-01T14:54:13.183Z"
   },
   {
    "duration": 10,
    "start_time": "2021-12-01T14:54:17.722Z"
   },
   {
    "duration": 7,
    "start_time": "2021-12-01T14:54:40.677Z"
   },
   {
    "duration": 31,
    "start_time": "2021-12-01T15:03:06.677Z"
   },
   {
    "duration": 2,
    "start_time": "2021-12-01T15:03:11.459Z"
   },
   {
    "duration": 9,
    "start_time": "2021-12-01T15:03:11.463Z"
   },
   {
    "duration": 644,
    "start_time": "2021-12-01T15:03:11.475Z"
   },
   {
    "duration": 438,
    "start_time": "2021-12-01T15:03:12.121Z"
   },
   {
    "duration": 11,
    "start_time": "2021-12-01T15:03:12.560Z"
   },
   {
    "duration": 351,
    "start_time": "2021-12-01T15:03:12.573Z"
   },
   {
    "duration": 54,
    "start_time": "2021-12-01T15:03:12.925Z"
   },
   {
    "duration": 78,
    "start_time": "2021-12-01T15:03:12.981Z"
   },
   {
    "duration": 3,
    "start_time": "2021-12-01T15:03:13.061Z"
   },
   {
    "duration": 24,
    "start_time": "2021-12-01T15:03:13.065Z"
   },
   {
    "duration": 18,
    "start_time": "2021-12-01T15:03:13.090Z"
   },
   {
    "duration": 15,
    "start_time": "2021-12-01T15:03:13.109Z"
   },
   {
    "duration": 34,
    "start_time": "2021-12-01T15:03:13.126Z"
   },
   {
    "duration": 91,
    "start_time": "2021-12-01T15:03:13.162Z"
   },
   {
    "duration": 76,
    "start_time": "2021-12-01T15:03:13.255Z"
   },
   {
    "duration": 3,
    "start_time": "2021-12-01T15:03:13.332Z"
   },
   {
    "duration": 20,
    "start_time": "2021-12-01T15:03:13.336Z"
   },
   {
    "duration": 35,
    "start_time": "2021-12-01T15:03:13.357Z"
   },
   {
    "duration": 13,
    "start_time": "2021-12-01T15:03:13.393Z"
   },
   {
    "duration": 24,
    "start_time": "2021-12-01T15:03:13.408Z"
   },
   {
    "duration": 21,
    "start_time": "2021-12-01T15:03:13.433Z"
   },
   {
    "duration": 17,
    "start_time": "2021-12-01T15:03:13.458Z"
   },
   {
    "duration": 25,
    "start_time": "2021-12-01T15:03:13.477Z"
   },
   {
    "duration": 48,
    "start_time": "2021-12-01T15:03:13.504Z"
   },
   {
    "duration": 71,
    "start_time": "2021-12-01T15:03:13.554Z"
   },
   {
    "duration": 30,
    "start_time": "2021-12-01T15:03:13.627Z"
   },
   {
    "duration": 32,
    "start_time": "2021-12-01T15:03:13.659Z"
   },
   {
    "duration": 7,
    "start_time": "2021-12-01T15:03:13.693Z"
   },
   {
    "duration": 33,
    "start_time": "2021-12-01T15:03:13.702Z"
   },
   {
    "duration": 76,
    "start_time": "2021-12-01T15:03:13.737Z"
   },
   {
    "duration": 35,
    "start_time": "2021-12-01T15:03:13.815Z"
   },
   {
    "duration": 15,
    "start_time": "2021-12-01T15:03:13.852Z"
   },
   {
    "duration": 24,
    "start_time": "2021-12-01T15:03:13.868Z"
   },
   {
    "duration": 31,
    "start_time": "2021-12-01T15:03:13.893Z"
   },
   {
    "duration": 31,
    "start_time": "2021-12-01T15:03:13.925Z"
   },
   {
    "duration": 25,
    "start_time": "2021-12-01T15:03:13.958Z"
   },
   {
    "duration": 33,
    "start_time": "2021-12-01T15:03:13.985Z"
   },
   {
    "duration": 13,
    "start_time": "2021-12-01T15:03:14.020Z"
   },
   {
    "duration": 18,
    "start_time": "2021-12-01T15:03:14.035Z"
   },
   {
    "duration": 22,
    "start_time": "2021-12-01T15:03:14.055Z"
   },
   {
    "duration": 23,
    "start_time": "2021-12-01T15:03:14.079Z"
   },
   {
    "duration": 14,
    "start_time": "2021-12-01T15:03:14.104Z"
   },
   {
    "duration": 25,
    "start_time": "2021-12-01T15:03:14.120Z"
   },
   {
    "duration": 8,
    "start_time": "2021-12-01T15:03:14.146Z"
   },
   {
    "duration": 25,
    "start_time": "2021-12-01T15:03:14.155Z"
   },
   {
    "duration": 64,
    "start_time": "2021-12-01T15:03:14.182Z"
   },
   {
    "duration": 95,
    "start_time": "2021-12-01T15:03:14.248Z"
   },
   {
    "duration": 39,
    "start_time": "2021-12-01T15:03:14.345Z"
   },
   {
    "duration": 8,
    "start_time": "2021-12-01T15:03:14.392Z"
   },
   {
    "duration": 55,
    "start_time": "2021-12-01T15:03:14.402Z"
   },
   {
    "duration": 15,
    "start_time": "2021-12-01T15:03:14.460Z"
   },
   {
    "duration": 6,
    "start_time": "2021-12-01T15:03:14.477Z"
   },
   {
    "duration": 24,
    "start_time": "2021-12-01T15:03:14.492Z"
   },
   {
    "duration": 33,
    "start_time": "2021-12-01T15:03:17.832Z"
   },
   {
    "duration": 63,
    "start_time": "2021-12-01T15:03:53.883Z"
   },
   {
    "duration": 444,
    "start_time": "2021-12-01T15:03:57.440Z"
   },
   {
    "duration": 587,
    "start_time": "2021-12-01T15:04:00.046Z"
   },
   {
    "duration": 3,
    "start_time": "2021-12-01T15:04:17.987Z"
   },
   {
    "duration": 4,
    "start_time": "2021-12-01T15:04:17.997Z"
   },
   {
    "duration": 662,
    "start_time": "2021-12-01T15:04:18.003Z"
   },
   {
    "duration": 426,
    "start_time": "2021-12-01T15:04:18.667Z"
   },
   {
    "duration": 11,
    "start_time": "2021-12-01T15:04:19.095Z"
   },
   {
    "duration": 329,
    "start_time": "2021-12-01T15:04:19.107Z"
   },
   {
    "duration": 67,
    "start_time": "2021-12-01T15:04:19.438Z"
   },
   {
    "duration": 102,
    "start_time": "2021-12-01T15:04:19.507Z"
   },
   {
    "duration": 3,
    "start_time": "2021-12-01T15:04:19.611Z"
   },
   {
    "duration": 8,
    "start_time": "2021-12-01T15:04:19.616Z"
   },
   {
    "duration": 11,
    "start_time": "2021-12-01T15:04:19.626Z"
   },
   {
    "duration": 7,
    "start_time": "2021-12-01T15:04:19.639Z"
   },
   {
    "duration": 44,
    "start_time": "2021-12-01T15:04:19.647Z"
   },
   {
    "duration": 99,
    "start_time": "2021-12-01T15:04:19.693Z"
   },
   {
    "duration": 67,
    "start_time": "2021-12-01T15:04:19.794Z"
   },
   {
    "duration": 2,
    "start_time": "2021-12-01T15:04:19.862Z"
   },
   {
    "duration": 7,
    "start_time": "2021-12-01T15:04:19.866Z"
   },
   {
    "duration": 38,
    "start_time": "2021-12-01T15:04:19.874Z"
   },
   {
    "duration": 9,
    "start_time": "2021-12-01T15:04:19.913Z"
   },
   {
    "duration": 8,
    "start_time": "2021-12-01T15:04:19.923Z"
   },
   {
    "duration": 10,
    "start_time": "2021-12-01T15:04:19.932Z"
   },
   {
    "duration": 13,
    "start_time": "2021-12-01T15:04:19.944Z"
   },
   {
    "duration": 8,
    "start_time": "2021-12-01T15:04:19.958Z"
   },
   {
    "duration": 24,
    "start_time": "2021-12-01T15:04:19.992Z"
   },
   {
    "duration": 88,
    "start_time": "2021-12-01T15:04:20.018Z"
   },
   {
    "duration": 33,
    "start_time": "2021-12-01T15:04:20.108Z"
   },
   {
    "duration": 16,
    "start_time": "2021-12-01T15:04:20.143Z"
   },
   {
    "duration": 32,
    "start_time": "2021-12-01T15:04:20.163Z"
   },
   {
    "duration": 35,
    "start_time": "2021-12-01T15:04:20.198Z"
   },
   {
    "duration": 63,
    "start_time": "2021-12-01T15:04:20.235Z"
   },
   {
    "duration": 38,
    "start_time": "2021-12-01T15:04:20.300Z"
   },
   {
    "duration": 19,
    "start_time": "2021-12-01T15:04:20.339Z"
   },
   {
    "duration": 13,
    "start_time": "2021-12-01T15:04:20.360Z"
   },
   {
    "duration": 36,
    "start_time": "2021-12-01T15:04:20.375Z"
   },
   {
    "duration": 21,
    "start_time": "2021-12-01T15:04:20.412Z"
   },
   {
    "duration": 37,
    "start_time": "2021-12-01T15:04:20.435Z"
   },
   {
    "duration": 36,
    "start_time": "2021-12-01T15:04:20.474Z"
   },
   {
    "duration": 32,
    "start_time": "2021-12-01T15:04:20.511Z"
   },
   {
    "duration": 8,
    "start_time": "2021-12-01T15:04:20.545Z"
   },
   {
    "duration": 9,
    "start_time": "2021-12-01T15:04:20.554Z"
   },
   {
    "duration": 6,
    "start_time": "2021-12-01T15:04:20.565Z"
   },
   {
    "duration": 11,
    "start_time": "2021-12-01T15:04:20.572Z"
   },
   {
    "duration": 8,
    "start_time": "2021-12-01T15:04:20.585Z"
   },
   {
    "duration": 8,
    "start_time": "2021-12-01T15:04:20.594Z"
   },
   {
    "duration": 8,
    "start_time": "2021-12-01T15:04:20.604Z"
   },
   {
    "duration": 41,
    "start_time": "2021-12-01T15:04:20.613Z"
   },
   {
    "duration": 97,
    "start_time": "2021-12-01T15:04:20.655Z"
   },
   {
    "duration": 50,
    "start_time": "2021-12-01T15:04:20.754Z"
   },
   {
    "duration": 7,
    "start_time": "2021-12-01T15:04:20.806Z"
   },
   {
    "duration": 28,
    "start_time": "2021-12-01T15:04:20.814Z"
   },
   {
    "duration": 12,
    "start_time": "2021-12-01T15:04:20.844Z"
   },
   {
    "duration": 6,
    "start_time": "2021-12-01T15:04:20.858Z"
   },
   {
    "duration": 7,
    "start_time": "2021-12-01T15:04:22.748Z"
   },
   {
    "duration": 23,
    "start_time": "2021-12-01T15:04:23.446Z"
   },
   {
    "duration": 3,
    "start_time": "2021-12-01T15:07:30.562Z"
   },
   {
    "duration": 3,
    "start_time": "2021-12-01T15:07:36.339Z"
   },
   {
    "duration": 13,
    "start_time": "2021-12-01T15:08:29.090Z"
   },
   {
    "duration": 3,
    "start_time": "2021-12-01T15:08:35.986Z"
   },
   {
    "duration": 7,
    "start_time": "2021-12-01T15:08:35.991Z"
   },
   {
    "duration": 698,
    "start_time": "2021-12-01T15:08:36.000Z"
   },
   {
    "duration": 455,
    "start_time": "2021-12-01T15:08:36.699Z"
   },
   {
    "duration": 11,
    "start_time": "2021-12-01T15:08:37.156Z"
   },
   {
    "duration": 368,
    "start_time": "2021-12-01T15:08:37.169Z"
   },
   {
    "duration": 63,
    "start_time": "2021-12-01T15:08:37.539Z"
   },
   {
    "duration": 81,
    "start_time": "2021-12-01T15:08:37.604Z"
   },
   {
    "duration": 2,
    "start_time": "2021-12-01T15:08:37.687Z"
   },
   {
    "duration": 5,
    "start_time": "2021-12-01T15:08:37.691Z"
   },
   {
    "duration": 13,
    "start_time": "2021-12-01T15:08:37.698Z"
   },
   {
    "duration": 10,
    "start_time": "2021-12-01T15:08:37.713Z"
   },
   {
    "duration": 26,
    "start_time": "2021-12-01T15:08:37.725Z"
   },
   {
    "duration": 112,
    "start_time": "2021-12-01T15:08:37.753Z"
   },
   {
    "duration": 80,
    "start_time": "2021-12-01T15:08:37.867Z"
   },
   {
    "duration": 3,
    "start_time": "2021-12-01T15:08:37.948Z"
   },
   {
    "duration": 5,
    "start_time": "2021-12-01T15:08:37.953Z"
   },
   {
    "duration": 42,
    "start_time": "2021-12-01T15:08:37.963Z"
   },
   {
    "duration": 12,
    "start_time": "2021-12-01T15:08:38.009Z"
   },
   {
    "duration": 14,
    "start_time": "2021-12-01T15:08:38.023Z"
   },
   {
    "duration": 10,
    "start_time": "2021-12-01T15:08:38.039Z"
   },
   {
    "duration": 15,
    "start_time": "2021-12-01T15:08:38.051Z"
   },
   {
    "duration": 29,
    "start_time": "2021-12-01T15:08:38.067Z"
   },
   {
    "duration": 35,
    "start_time": "2021-12-01T15:08:38.098Z"
   },
   {
    "duration": 87,
    "start_time": "2021-12-01T15:08:38.135Z"
   },
   {
    "duration": 32,
    "start_time": "2021-12-01T15:08:38.224Z"
   },
   {
    "duration": 38,
    "start_time": "2021-12-01T15:08:38.258Z"
   },
   {
    "duration": 9,
    "start_time": "2021-12-01T15:08:38.298Z"
   },
   {
    "duration": 20,
    "start_time": "2021-12-01T15:08:38.309Z"
   },
   {
    "duration": 85,
    "start_time": "2021-12-01T15:08:38.330Z"
   },
   {
    "duration": 38,
    "start_time": "2021-12-01T15:08:38.417Z"
   },
   {
    "duration": 15,
    "start_time": "2021-12-01T15:08:38.457Z"
   },
   {
    "duration": 24,
    "start_time": "2021-12-01T15:08:38.474Z"
   },
   {
    "duration": 6,
    "start_time": "2021-12-01T15:08:38.500Z"
   },
   {
    "duration": 11,
    "start_time": "2021-12-01T15:08:38.508Z"
   },
   {
    "duration": 7,
    "start_time": "2021-12-01T15:08:38.521Z"
   },
   {
    "duration": 5,
    "start_time": "2021-12-01T15:08:38.530Z"
   },
   {
    "duration": 8,
    "start_time": "2021-12-01T15:08:38.537Z"
   },
   {
    "duration": 7,
    "start_time": "2021-12-01T15:08:38.546Z"
   },
   {
    "duration": 38,
    "start_time": "2021-12-01T15:08:38.555Z"
   },
   {
    "duration": 5,
    "start_time": "2021-12-01T15:08:38.594Z"
   },
   {
    "duration": 7,
    "start_time": "2021-12-01T15:08:38.601Z"
   },
   {
    "duration": 9,
    "start_time": "2021-12-01T15:08:38.610Z"
   },
   {
    "duration": 4,
    "start_time": "2021-12-01T15:08:38.621Z"
   },
   {
    "duration": 6,
    "start_time": "2021-12-01T15:08:38.627Z"
   },
   {
    "duration": 69,
    "start_time": "2021-12-01T15:08:38.635Z"
   },
   {
    "duration": 110,
    "start_time": "2021-12-01T15:08:38.706Z"
   },
   {
    "duration": 38,
    "start_time": "2021-12-01T15:08:38.819Z"
   },
   {
    "duration": 7,
    "start_time": "2021-12-01T15:08:38.859Z"
   },
   {
    "duration": 44,
    "start_time": "2021-12-01T15:08:38.867Z"
   },
   {
    "duration": 25,
    "start_time": "2021-12-01T15:09:03.777Z"
   },
   {
    "duration": 13,
    "start_time": "2021-12-01T15:09:04.928Z"
   },
   {
    "duration": 19,
    "start_time": "2021-12-01T15:09:09.646Z"
   },
   {
    "duration": 2,
    "start_time": "2021-12-01T15:09:15.601Z"
   },
   {
    "duration": 11,
    "start_time": "2021-12-01T15:09:15.605Z"
   },
   {
    "duration": 677,
    "start_time": "2021-12-01T15:09:15.618Z"
   },
   {
    "duration": 415,
    "start_time": "2021-12-01T15:09:16.297Z"
   },
   {
    "duration": 12,
    "start_time": "2021-12-01T15:09:16.713Z"
   },
   {
    "duration": 379,
    "start_time": "2021-12-01T15:09:16.728Z"
   },
   {
    "duration": 53,
    "start_time": "2021-12-01T15:09:17.108Z"
   },
   {
    "duration": 80,
    "start_time": "2021-12-01T15:09:17.163Z"
   },
   {
    "duration": 3,
    "start_time": "2021-12-01T15:09:17.246Z"
   },
   {
    "duration": 6,
    "start_time": "2021-12-01T15:09:17.251Z"
   },
   {
    "duration": 11,
    "start_time": "2021-12-01T15:09:17.258Z"
   },
   {
    "duration": 25,
    "start_time": "2021-12-01T15:09:17.271Z"
   },
   {
    "duration": 26,
    "start_time": "2021-12-01T15:09:17.298Z"
   },
   {
    "duration": 118,
    "start_time": "2021-12-01T15:09:17.325Z"
   },
   {
    "duration": 77,
    "start_time": "2021-12-01T15:09:17.445Z"
   },
   {
    "duration": 2,
    "start_time": "2021-12-01T15:09:17.524Z"
   },
   {
    "duration": 19,
    "start_time": "2021-12-01T15:09:17.528Z"
   },
   {
    "duration": 37,
    "start_time": "2021-12-01T15:09:17.549Z"
   },
   {
    "duration": 8,
    "start_time": "2021-12-01T15:09:17.588Z"
   },
   {
    "duration": 11,
    "start_time": "2021-12-01T15:09:17.598Z"
   },
   {
    "duration": 7,
    "start_time": "2021-12-01T15:09:17.611Z"
   },
   {
    "duration": 10,
    "start_time": "2021-12-01T15:09:17.622Z"
   },
   {
    "duration": 6,
    "start_time": "2021-12-01T15:09:17.634Z"
   },
   {
    "duration": 21,
    "start_time": "2021-12-01T15:09:17.642Z"
   },
   {
    "duration": 92,
    "start_time": "2021-12-01T15:09:17.665Z"
   },
   {
    "duration": 37,
    "start_time": "2021-12-01T15:09:17.759Z"
   },
   {
    "duration": 17,
    "start_time": "2021-12-01T15:09:17.797Z"
   },
   {
    "duration": 6,
    "start_time": "2021-12-01T15:09:17.816Z"
   },
   {
    "duration": 19,
    "start_time": "2021-12-01T15:09:17.824Z"
   },
   {
    "duration": 80,
    "start_time": "2021-12-01T15:09:17.844Z"
   },
   {
    "duration": 35,
    "start_time": "2021-12-01T15:09:17.926Z"
   },
   {
    "duration": 30,
    "start_time": "2021-12-01T15:09:17.962Z"
   },
   {
    "duration": 7,
    "start_time": "2021-12-01T15:09:17.994Z"
   },
   {
    "duration": 8,
    "start_time": "2021-12-01T15:09:18.003Z"
   },
   {
    "duration": 12,
    "start_time": "2021-12-01T15:09:18.012Z"
   },
   {
    "duration": 8,
    "start_time": "2021-12-01T15:09:18.025Z"
   },
   {
    "duration": 4,
    "start_time": "2021-12-01T15:09:18.035Z"
   },
   {
    "duration": 8,
    "start_time": "2021-12-01T15:09:18.040Z"
   },
   {
    "duration": 8,
    "start_time": "2021-12-01T15:09:18.050Z"
   },
   {
    "duration": 10,
    "start_time": "2021-12-01T15:09:18.059Z"
   },
   {
    "duration": 4,
    "start_time": "2021-12-01T15:09:18.092Z"
   },
   {
    "duration": 6,
    "start_time": "2021-12-01T15:09:18.097Z"
   },
   {
    "duration": 8,
    "start_time": "2021-12-01T15:09:18.105Z"
   },
   {
    "duration": 4,
    "start_time": "2021-12-01T15:09:18.115Z"
   },
   {
    "duration": 6,
    "start_time": "2021-12-01T15:09:18.120Z"
   },
   {
    "duration": 33,
    "start_time": "2021-12-01T15:09:18.127Z"
   },
   {
    "duration": 130,
    "start_time": "2021-12-01T15:09:18.162Z"
   },
   {
    "duration": 39,
    "start_time": "2021-12-01T15:09:18.294Z"
   },
   {
    "duration": 19,
    "start_time": "2021-12-01T15:09:18.335Z"
   },
   {
    "duration": 22,
    "start_time": "2021-12-01T15:09:20.608Z"
   },
   {
    "duration": 13,
    "start_time": "2021-12-01T15:09:21.557Z"
   },
   {
    "duration": 9,
    "start_time": "2021-12-01T15:09:56.333Z"
   },
   {
    "duration": 55,
    "start_time": "2021-12-01T15:10:19.681Z"
   },
   {
    "duration": 23,
    "start_time": "2021-12-01T15:10:24.270Z"
   },
   {
    "duration": 11,
    "start_time": "2021-12-01T15:10:56.604Z"
   },
   {
    "duration": 37,
    "start_time": "2021-12-01T15:10:57.864Z"
   },
   {
    "duration": 15,
    "start_time": "2021-12-01T15:13:07.945Z"
   },
   {
    "duration": 42,
    "start_time": "2021-12-01T15:13:59.970Z"
   },
   {
    "duration": 14,
    "start_time": "2021-12-01T15:14:01.262Z"
   },
   {
    "duration": 3,
    "start_time": "2021-12-01T15:14:10.933Z"
   },
   {
    "duration": 23,
    "start_time": "2021-12-01T15:14:14.798Z"
   },
   {
    "duration": 51,
    "start_time": "2021-12-01T15:14:34.682Z"
   },
   {
    "duration": 4,
    "start_time": "2021-12-01T15:14:39.291Z"
   },
   {
    "duration": 27,
    "start_time": "2021-12-01T15:14:39.296Z"
   },
   {
    "duration": 673,
    "start_time": "2021-12-01T15:14:39.325Z"
   },
   {
    "duration": 450,
    "start_time": "2021-12-01T15:14:40.000Z"
   },
   {
    "duration": 13,
    "start_time": "2021-12-01T15:14:40.452Z"
   },
   {
    "duration": 342,
    "start_time": "2021-12-01T15:14:40.467Z"
   },
   {
    "duration": 59,
    "start_time": "2021-12-01T15:14:40.812Z"
   },
   {
    "duration": 86,
    "start_time": "2021-12-01T15:14:40.900Z"
   },
   {
    "duration": 3,
    "start_time": "2021-12-01T15:14:40.988Z"
   },
   {
    "duration": 6,
    "start_time": "2021-12-01T15:14:40.992Z"
   },
   {
    "duration": 23,
    "start_time": "2021-12-01T15:14:41.000Z"
   },
   {
    "duration": 5,
    "start_time": "2021-12-01T15:14:41.025Z"
   },
   {
    "duration": 26,
    "start_time": "2021-12-01T15:14:41.032Z"
   },
   {
    "duration": 118,
    "start_time": "2021-12-01T15:14:41.060Z"
   },
   {
    "duration": 75,
    "start_time": "2021-12-01T15:14:41.180Z"
   },
   {
    "duration": 3,
    "start_time": "2021-12-01T15:14:41.257Z"
   },
   {
    "duration": 6,
    "start_time": "2021-12-01T15:14:41.261Z"
   },
   {
    "duration": 39,
    "start_time": "2021-12-01T15:14:41.269Z"
   },
   {
    "duration": 10,
    "start_time": "2021-12-01T15:14:41.313Z"
   },
   {
    "duration": 10,
    "start_time": "2021-12-01T15:14:41.325Z"
   },
   {
    "duration": 9,
    "start_time": "2021-12-01T15:14:41.337Z"
   },
   {
    "duration": 12,
    "start_time": "2021-12-01T15:14:41.348Z"
   },
   {
    "duration": 30,
    "start_time": "2021-12-01T15:14:41.362Z"
   },
   {
    "duration": 24,
    "start_time": "2021-12-01T15:14:41.394Z"
   },
   {
    "duration": 88,
    "start_time": "2021-12-01T15:14:41.420Z"
   },
   {
    "duration": 32,
    "start_time": "2021-12-01T15:14:41.510Z"
   },
   {
    "duration": 18,
    "start_time": "2021-12-01T15:14:41.544Z"
   },
   {
    "duration": 32,
    "start_time": "2021-12-01T15:14:41.564Z"
   },
   {
    "duration": 18,
    "start_time": "2021-12-01T15:14:41.599Z"
   },
   {
    "duration": 73,
    "start_time": "2021-12-01T15:14:41.619Z"
   },
   {
    "duration": 33,
    "start_time": "2021-12-01T15:14:41.694Z"
   },
   {
    "duration": 14,
    "start_time": "2021-12-01T15:14:41.729Z"
   },
   {
    "duration": 7,
    "start_time": "2021-12-01T15:14:41.745Z"
   },
   {
    "duration": 9,
    "start_time": "2021-12-01T15:14:41.754Z"
   },
   {
    "duration": 9,
    "start_time": "2021-12-01T15:14:41.792Z"
   },
   {
    "duration": 8,
    "start_time": "2021-12-01T15:14:41.803Z"
   },
   {
    "duration": 5,
    "start_time": "2021-12-01T15:14:41.813Z"
   },
   {
    "duration": 7,
    "start_time": "2021-12-01T15:14:41.819Z"
   },
   {
    "duration": 6,
    "start_time": "2021-12-01T15:14:41.828Z"
   },
   {
    "duration": 10,
    "start_time": "2021-12-01T15:14:41.835Z"
   },
   {
    "duration": 46,
    "start_time": "2021-12-01T15:14:41.846Z"
   },
   {
    "duration": 5,
    "start_time": "2021-12-01T15:14:41.894Z"
   },
   {
    "duration": 8,
    "start_time": "2021-12-01T15:14:41.901Z"
   },
   {
    "duration": 4,
    "start_time": "2021-12-01T15:14:41.911Z"
   },
   {
    "duration": 6,
    "start_time": "2021-12-01T15:14:41.917Z"
   },
   {
    "duration": 33,
    "start_time": "2021-12-01T15:14:41.925Z"
   },
   {
    "duration": 99,
    "start_time": "2021-12-01T15:14:41.992Z"
   },
   {
    "duration": 41,
    "start_time": "2021-12-01T15:14:42.093Z"
   },
   {
    "duration": 23,
    "start_time": "2021-12-01T15:14:42.137Z"
   },
   {
    "duration": 44,
    "start_time": "2021-12-01T15:14:42.162Z"
   },
   {
    "duration": 13,
    "start_time": "2021-12-01T15:14:42.208Z"
   },
   {
    "duration": 50,
    "start_time": "2021-12-01T15:14:42.224Z"
   },
   {
    "duration": 29,
    "start_time": "2021-12-01T15:14:42.276Z"
   },
   {
    "duration": 16,
    "start_time": "2021-12-01T15:14:44.100Z"
   },
   {
    "duration": 27,
    "start_time": "2021-12-01T15:14:44.986Z"
   },
   {
    "duration": 7,
    "start_time": "2021-12-01T15:15:36.624Z"
   },
   {
    "duration": 39,
    "start_time": "2021-12-01T15:20:17.204Z"
   },
   {
    "duration": 16,
    "start_time": "2021-12-01T15:20:18.094Z"
   },
   {
    "duration": 33,
    "start_time": "2021-12-01T15:20:19.535Z"
   },
   {
    "duration": 3,
    "start_time": "2021-12-01T15:20:31.709Z"
   },
   {
    "duration": 7,
    "start_time": "2021-12-01T15:20:31.714Z"
   },
   {
    "duration": 652,
    "start_time": "2021-12-01T15:20:31.723Z"
   },
   {
    "duration": 434,
    "start_time": "2021-12-01T15:20:32.377Z"
   },
   {
    "duration": 10,
    "start_time": "2021-12-01T15:20:32.813Z"
   },
   {
    "duration": 340,
    "start_time": "2021-12-01T15:20:32.825Z"
   },
   {
    "duration": 55,
    "start_time": "2021-12-01T15:20:33.167Z"
   },
   {
    "duration": 81,
    "start_time": "2021-12-01T15:20:33.224Z"
   },
   {
    "duration": 3,
    "start_time": "2021-12-01T15:20:33.308Z"
   },
   {
    "duration": 5,
    "start_time": "2021-12-01T15:20:33.313Z"
   },
   {
    "duration": 10,
    "start_time": "2021-12-01T15:20:33.320Z"
   },
   {
    "duration": 7,
    "start_time": "2021-12-01T15:20:33.332Z"
   },
   {
    "duration": 25,
    "start_time": "2021-12-01T15:20:33.341Z"
   },
   {
    "duration": 113,
    "start_time": "2021-12-01T15:20:33.368Z"
   },
   {
    "duration": 78,
    "start_time": "2021-12-01T15:20:33.482Z"
   },
   {
    "duration": 2,
    "start_time": "2021-12-01T15:20:33.561Z"
   },
   {
    "duration": 9,
    "start_time": "2021-12-01T15:20:33.565Z"
   },
   {
    "duration": 31,
    "start_time": "2021-12-01T15:20:33.577Z"
   },
   {
    "duration": 8,
    "start_time": "2021-12-01T15:20:33.610Z"
   },
   {
    "duration": 11,
    "start_time": "2021-12-01T15:20:33.621Z"
   },
   {
    "duration": 6,
    "start_time": "2021-12-01T15:20:33.634Z"
   },
   {
    "duration": 10,
    "start_time": "2021-12-01T15:20:33.641Z"
   },
   {
    "duration": 5,
    "start_time": "2021-12-01T15:20:33.652Z"
   },
   {
    "duration": 50,
    "start_time": "2021-12-01T15:20:33.658Z"
   },
   {
    "duration": 71,
    "start_time": "2021-12-01T15:20:33.710Z"
   },
   {
    "duration": 31,
    "start_time": "2021-12-01T15:20:33.791Z"
   },
   {
    "duration": 18,
    "start_time": "2021-12-01T15:20:33.823Z"
   },
   {
    "duration": 7,
    "start_time": "2021-12-01T15:20:33.842Z"
   },
   {
    "duration": 20,
    "start_time": "2021-12-01T15:20:33.850Z"
   },
   {
    "duration": 58,
    "start_time": "2021-12-01T15:20:33.891Z"
   },
   {
    "duration": 51,
    "start_time": "2021-12-01T15:20:33.951Z"
   },
   {
    "duration": 14,
    "start_time": "2021-12-01T15:20:34.004Z"
   },
   {
    "duration": 8,
    "start_time": "2021-12-01T15:20:34.020Z"
   },
   {
    "duration": 8,
    "start_time": "2021-12-01T15:20:34.029Z"
   },
   {
    "duration": 17,
    "start_time": "2021-12-01T15:20:34.038Z"
   },
   {
    "duration": 12,
    "start_time": "2021-12-01T15:20:34.056Z"
   },
   {
    "duration": 8,
    "start_time": "2021-12-01T15:20:34.070Z"
   },
   {
    "duration": 16,
    "start_time": "2021-12-01T15:20:34.079Z"
   },
   {
    "duration": 6,
    "start_time": "2021-12-01T15:20:34.097Z"
   },
   {
    "duration": 10,
    "start_time": "2021-12-01T15:20:34.105Z"
   },
   {
    "duration": 6,
    "start_time": "2021-12-01T15:20:34.117Z"
   },
   {
    "duration": 7,
    "start_time": "2021-12-01T15:20:34.124Z"
   },
   {
    "duration": 8,
    "start_time": "2021-12-01T15:20:34.133Z"
   },
   {
    "duration": 5,
    "start_time": "2021-12-01T15:20:34.143Z"
   },
   {
    "duration": 6,
    "start_time": "2021-12-01T15:20:34.149Z"
   },
   {
    "duration": 62,
    "start_time": "2021-12-01T15:20:34.156Z"
   },
   {
    "duration": 99,
    "start_time": "2021-12-01T15:20:34.220Z"
   },
   {
    "duration": 40,
    "start_time": "2021-12-01T15:20:34.321Z"
   },
   {
    "duration": 36,
    "start_time": "2021-12-01T15:20:34.363Z"
   },
   {
    "duration": 11,
    "start_time": "2021-12-01T15:20:34.401Z"
   },
   {
    "duration": 7,
    "start_time": "2021-12-01T15:20:34.416Z"
   },
   {
    "duration": 45,
    "start_time": "2021-12-01T15:20:34.425Z"
   },
   {
    "duration": 34,
    "start_time": "2021-12-01T15:20:34.472Z"
   },
   {
    "duration": 15,
    "start_time": "2021-12-01T15:20:36.204Z"
   },
   {
    "duration": 24,
    "start_time": "2021-12-01T15:20:36.953Z"
   },
   {
    "duration": 62,
    "start_time": "2021-12-01T15:22:02.272Z"
   },
   {
    "duration": 19,
    "start_time": "2021-12-01T15:22:18.291Z"
   },
   {
    "duration": 34,
    "start_time": "2021-12-01T15:23:20.312Z"
   },
   {
    "duration": 3,
    "start_time": "2021-12-01T15:23:24.414Z"
   },
   {
    "duration": 16,
    "start_time": "2021-12-01T15:23:24.418Z"
   },
   {
    "duration": 642,
    "start_time": "2021-12-01T15:23:24.436Z"
   },
   {
    "duration": 449,
    "start_time": "2021-12-01T15:23:25.080Z"
   },
   {
    "duration": 13,
    "start_time": "2021-12-01T15:23:25.531Z"
   },
   {
    "duration": 388,
    "start_time": "2021-12-01T15:23:25.546Z"
   },
   {
    "duration": 65,
    "start_time": "2021-12-01T15:23:25.936Z"
   },
   {
    "duration": 101,
    "start_time": "2021-12-01T15:23:26.003Z"
   },
   {
    "duration": 2,
    "start_time": "2021-12-01T15:23:26.107Z"
   },
   {
    "duration": 12,
    "start_time": "2021-12-01T15:23:26.112Z"
   },
   {
    "duration": 20,
    "start_time": "2021-12-01T15:23:26.126Z"
   },
   {
    "duration": 25,
    "start_time": "2021-12-01T15:23:26.148Z"
   },
   {
    "duration": 40,
    "start_time": "2021-12-01T15:23:26.175Z"
   },
   {
    "duration": 107,
    "start_time": "2021-12-01T15:23:26.217Z"
   },
   {
    "duration": 78,
    "start_time": "2021-12-01T15:23:26.325Z"
   },
   {
    "duration": 2,
    "start_time": "2021-12-01T15:23:26.405Z"
   },
   {
    "duration": 17,
    "start_time": "2021-12-01T15:23:26.408Z"
   },
   {
    "duration": 27,
    "start_time": "2021-12-01T15:23:26.426Z"
   },
   {
    "duration": 9,
    "start_time": "2021-12-01T15:23:26.455Z"
   },
   {
    "duration": 17,
    "start_time": "2021-12-01T15:23:26.465Z"
   },
   {
    "duration": 24,
    "start_time": "2021-12-01T15:23:26.484Z"
   },
   {
    "duration": 12,
    "start_time": "2021-12-01T15:23:26.510Z"
   },
   {
    "duration": 15,
    "start_time": "2021-12-01T15:23:26.523Z"
   },
   {
    "duration": 38,
    "start_time": "2021-12-01T15:23:26.539Z"
   },
   {
    "duration": 73,
    "start_time": "2021-12-01T15:23:26.579Z"
   },
   {
    "duration": 38,
    "start_time": "2021-12-01T15:23:26.655Z"
   },
   {
    "duration": 17,
    "start_time": "2021-12-01T15:23:26.695Z"
   },
   {
    "duration": 8,
    "start_time": "2021-12-01T15:23:26.713Z"
   },
   {
    "duration": 36,
    "start_time": "2021-12-01T15:23:26.722Z"
   },
   {
    "duration": 64,
    "start_time": "2021-12-01T15:23:26.759Z"
   },
   {
    "duration": 34,
    "start_time": "2021-12-01T15:23:26.825Z"
   },
   {
    "duration": 35,
    "start_time": "2021-12-01T15:23:26.860Z"
   },
   {
    "duration": 8,
    "start_time": "2021-12-01T15:23:26.897Z"
   },
   {
    "duration": 32,
    "start_time": "2021-12-01T15:23:26.907Z"
   },
   {
    "duration": 23,
    "start_time": "2021-12-01T15:23:26.941Z"
   },
   {
    "duration": 25,
    "start_time": "2021-12-01T15:23:26.966Z"
   },
   {
    "duration": 25,
    "start_time": "2021-12-01T15:23:26.993Z"
   },
   {
    "duration": 14,
    "start_time": "2021-12-01T15:23:27.020Z"
   },
   {
    "duration": 22,
    "start_time": "2021-12-01T15:23:27.037Z"
   },
   {
    "duration": 11,
    "start_time": "2021-12-01T15:23:27.061Z"
   },
   {
    "duration": 29,
    "start_time": "2021-12-01T15:23:27.073Z"
   },
   {
    "duration": 11,
    "start_time": "2021-12-01T15:23:27.104Z"
   },
   {
    "duration": 27,
    "start_time": "2021-12-01T15:23:27.116Z"
   },
   {
    "duration": 13,
    "start_time": "2021-12-01T15:23:27.144Z"
   },
   {
    "duration": 17,
    "start_time": "2021-12-01T15:23:27.158Z"
   },
   {
    "duration": 45,
    "start_time": "2021-12-01T15:23:27.177Z"
   },
   {
    "duration": 103,
    "start_time": "2021-12-01T15:23:27.224Z"
   },
   {
    "duration": 40,
    "start_time": "2021-12-01T15:23:27.329Z"
   },
   {
    "duration": 37,
    "start_time": "2021-12-01T15:23:27.371Z"
   },
   {
    "duration": 16,
    "start_time": "2021-12-01T15:23:27.410Z"
   },
   {
    "duration": 15,
    "start_time": "2021-12-01T15:23:27.428Z"
   },
   {
    "duration": 60,
    "start_time": "2021-12-01T15:23:27.444Z"
   },
   {
    "duration": 14,
    "start_time": "2021-12-01T15:23:27.506Z"
   },
   {
    "duration": 14,
    "start_time": "2021-12-01T15:23:29.479Z"
   },
   {
    "duration": 26,
    "start_time": "2021-12-01T15:23:30.332Z"
   },
   {
    "duration": 13,
    "start_time": "2021-12-01T15:23:34.582Z"
   },
   {
    "duration": 20,
    "start_time": "2021-12-01T15:24:02.696Z"
   },
   {
    "duration": 5,
    "start_time": "2021-12-01T15:26:53.844Z"
   },
   {
    "duration": 5,
    "start_time": "2021-12-01T15:27:27.576Z"
   },
   {
    "duration": 6,
    "start_time": "2021-12-01T15:27:44.727Z"
   },
   {
    "duration": 5,
    "start_time": "2021-12-01T15:28:04.385Z"
   },
   {
    "duration": 24,
    "start_time": "2021-12-01T15:31:54.631Z"
   },
   {
    "duration": 13,
    "start_time": "2021-12-01T15:32:46.508Z"
   },
   {
    "duration": 6,
    "start_time": "2021-12-01T15:32:48.478Z"
   },
   {
    "duration": 18,
    "start_time": "2021-12-01T15:32:49.292Z"
   },
   {
    "duration": 23,
    "start_time": "2021-12-01T15:33:04.447Z"
   },
   {
    "duration": 12,
    "start_time": "2021-12-01T15:33:09.923Z"
   },
   {
    "duration": 5,
    "start_time": "2021-12-01T15:33:10.561Z"
   },
   {
    "duration": 16,
    "start_time": "2021-12-01T15:33:11.166Z"
   },
   {
    "duration": 3,
    "start_time": "2021-12-01T15:33:18.327Z"
   },
   {
    "duration": 6,
    "start_time": "2021-12-01T15:33:18.332Z"
   },
   {
    "duration": 763,
    "start_time": "2021-12-01T15:33:18.340Z"
   },
   {
    "duration": 488,
    "start_time": "2021-12-01T15:33:19.105Z"
   },
   {
    "duration": 12,
    "start_time": "2021-12-01T15:33:19.595Z"
   },
   {
    "duration": 359,
    "start_time": "2021-12-01T15:33:19.609Z"
   },
   {
    "duration": 85,
    "start_time": "2021-12-01T15:33:19.971Z"
   },
   {
    "duration": 82,
    "start_time": "2021-12-01T15:33:20.058Z"
   },
   {
    "duration": 4,
    "start_time": "2021-12-01T15:33:20.142Z"
   },
   {
    "duration": 19,
    "start_time": "2021-12-01T15:33:20.147Z"
   },
   {
    "duration": 27,
    "start_time": "2021-12-01T15:33:20.168Z"
   },
   {
    "duration": 26,
    "start_time": "2021-12-01T15:33:20.197Z"
   },
   {
    "duration": 49,
    "start_time": "2021-12-01T15:33:20.225Z"
   },
   {
    "duration": 138,
    "start_time": "2021-12-01T15:33:20.278Z"
   },
   {
    "duration": 92,
    "start_time": "2021-12-01T15:33:20.421Z"
   },
   {
    "duration": 3,
    "start_time": "2021-12-01T15:33:20.515Z"
   },
   {
    "duration": 18,
    "start_time": "2021-12-01T15:33:20.520Z"
   },
   {
    "duration": 40,
    "start_time": "2021-12-01T15:33:20.540Z"
   },
   {
    "duration": 14,
    "start_time": "2021-12-01T15:33:20.582Z"
   },
   {
    "duration": 17,
    "start_time": "2021-12-01T15:33:20.598Z"
   },
   {
    "duration": 15,
    "start_time": "2021-12-01T15:33:20.618Z"
   },
   {
    "duration": 23,
    "start_time": "2021-12-01T15:33:20.635Z"
   },
   {
    "duration": 21,
    "start_time": "2021-12-01T15:33:20.661Z"
   },
   {
    "duration": 35,
    "start_time": "2021-12-01T15:33:20.684Z"
   },
   {
    "duration": 133,
    "start_time": "2021-12-01T15:33:20.722Z"
   },
   {
    "duration": 46,
    "start_time": "2021-12-01T15:33:20.858Z"
   },
   {
    "duration": 18,
    "start_time": "2021-12-01T15:33:20.906Z"
   },
   {
    "duration": 11,
    "start_time": "2021-12-01T15:33:20.926Z"
   },
   {
    "duration": 38,
    "start_time": "2021-12-01T15:33:20.939Z"
   },
   {
    "duration": 74,
    "start_time": "2021-12-01T15:33:20.979Z"
   },
   {
    "duration": 44,
    "start_time": "2021-12-01T15:33:21.055Z"
   },
   {
    "duration": 14,
    "start_time": "2021-12-01T15:33:21.102Z"
   },
   {
    "duration": 68,
    "start_time": "2021-12-01T15:33:21.117Z"
   },
   {
    "duration": 53,
    "start_time": "2021-12-01T15:33:21.187Z"
   },
   {
    "duration": 29,
    "start_time": "2021-12-01T15:33:21.243Z"
   },
   {
    "duration": 35,
    "start_time": "2021-12-01T15:33:21.274Z"
   },
   {
    "duration": 27,
    "start_time": "2021-12-01T15:33:21.310Z"
   },
   {
    "duration": 24,
    "start_time": "2021-12-01T15:33:21.341Z"
   },
   {
    "duration": 32,
    "start_time": "2021-12-01T15:33:21.367Z"
   },
   {
    "duration": 24,
    "start_time": "2021-12-01T15:33:21.401Z"
   },
   {
    "duration": 22,
    "start_time": "2021-12-01T15:33:21.426Z"
   },
   {
    "duration": 22,
    "start_time": "2021-12-01T15:33:21.450Z"
   },
   {
    "duration": 20,
    "start_time": "2021-12-01T15:33:21.473Z"
   },
   {
    "duration": 12,
    "start_time": "2021-12-01T15:33:21.494Z"
   },
   {
    "duration": 16,
    "start_time": "2021-12-01T15:33:21.508Z"
   },
   {
    "duration": 45,
    "start_time": "2021-12-01T15:33:21.525Z"
   },
   {
    "duration": 95,
    "start_time": "2021-12-01T15:33:21.572Z"
   },
   {
    "duration": 47,
    "start_time": "2021-12-01T15:33:21.670Z"
   },
   {
    "duration": 20,
    "start_time": "2021-12-01T15:33:21.718Z"
   },
   {
    "duration": 13,
    "start_time": "2021-12-01T15:33:21.740Z"
   },
   {
    "duration": 24,
    "start_time": "2021-12-01T15:33:21.754Z"
   },
   {
    "duration": 48,
    "start_time": "2021-12-01T15:33:21.780Z"
   },
   {
    "duration": 13,
    "start_time": "2021-12-01T15:33:21.830Z"
   },
   {
    "duration": 15,
    "start_time": "2021-12-01T15:33:23.404Z"
   },
   {
    "duration": 25,
    "start_time": "2021-12-01T15:33:24.379Z"
   },
   {
    "duration": 12,
    "start_time": "2021-12-01T15:33:28.928Z"
   },
   {
    "duration": 5,
    "start_time": "2021-12-01T15:33:29.906Z"
   },
   {
    "duration": 17,
    "start_time": "2021-12-01T15:33:30.578Z"
   },
   {
    "duration": 26,
    "start_time": "2021-12-01T15:33:44.455Z"
   },
   {
    "duration": 315,
    "start_time": "2021-12-01T15:39:52.312Z"
   },
   {
    "duration": 3,
    "start_time": "2021-12-01T15:40:11.126Z"
   },
   {
    "duration": 6,
    "start_time": "2021-12-01T15:40:11.131Z"
   },
   {
    "duration": 646,
    "start_time": "2021-12-01T15:40:11.139Z"
   },
   {
    "duration": 424,
    "start_time": "2021-12-01T15:40:11.786Z"
   },
   {
    "duration": 11,
    "start_time": "2021-12-01T15:40:12.212Z"
   },
   {
    "duration": 339,
    "start_time": "2021-12-01T15:40:12.225Z"
   },
   {
    "duration": 54,
    "start_time": "2021-12-01T15:40:12.565Z"
   },
   {
    "duration": 80,
    "start_time": "2021-12-01T15:40:12.621Z"
   },
   {
    "duration": 3,
    "start_time": "2021-12-01T15:40:12.703Z"
   },
   {
    "duration": 7,
    "start_time": "2021-12-01T15:40:12.708Z"
   },
   {
    "duration": 11,
    "start_time": "2021-12-01T15:40:12.716Z"
   },
   {
    "duration": 6,
    "start_time": "2021-12-01T15:40:12.729Z"
   },
   {
    "duration": 26,
    "start_time": "2021-12-01T15:40:12.737Z"
   },
   {
    "duration": 93,
    "start_time": "2021-12-01T15:40:12.791Z"
   },
   {
    "duration": 66,
    "start_time": "2021-12-01T15:40:12.891Z"
   },
   {
    "duration": 2,
    "start_time": "2021-12-01T15:40:12.958Z"
   },
   {
    "duration": 5,
    "start_time": "2021-12-01T15:40:12.962Z"
   },
   {
    "duration": 39,
    "start_time": "2021-12-01T15:40:12.969Z"
   },
   {
    "duration": 8,
    "start_time": "2021-12-01T15:40:13.010Z"
   },
   {
    "duration": 8,
    "start_time": "2021-12-01T15:40:13.019Z"
   },
   {
    "duration": 8,
    "start_time": "2021-12-01T15:40:13.028Z"
   },
   {
    "duration": 10,
    "start_time": "2021-12-01T15:40:13.038Z"
   },
   {
    "duration": 7,
    "start_time": "2021-12-01T15:40:13.049Z"
   },
   {
    "duration": 49,
    "start_time": "2021-12-01T15:40:13.061Z"
   },
   {
    "duration": 89,
    "start_time": "2021-12-01T15:40:13.113Z"
   },
   {
    "duration": 30,
    "start_time": "2021-12-01T15:40:13.204Z"
   },
   {
    "duration": 18,
    "start_time": "2021-12-01T15:40:13.236Z"
   },
   {
    "duration": 8,
    "start_time": "2021-12-01T15:40:13.255Z"
   },
   {
    "duration": 17,
    "start_time": "2021-12-01T15:40:13.291Z"
   },
   {
    "duration": 59,
    "start_time": "2021-12-01T15:40:13.310Z"
   },
   {
    "duration": 50,
    "start_time": "2021-12-01T15:40:13.371Z"
   },
   {
    "duration": 16,
    "start_time": "2021-12-01T15:40:13.423Z"
   },
   {
    "duration": 9,
    "start_time": "2021-12-01T15:40:13.441Z"
   },
   {
    "duration": 7,
    "start_time": "2021-12-01T15:40:13.452Z"
   },
   {
    "duration": 37,
    "start_time": "2021-12-01T15:40:13.461Z"
   },
   {
    "duration": 8,
    "start_time": "2021-12-01T15:40:13.500Z"
   },
   {
    "duration": 6,
    "start_time": "2021-12-01T15:40:13.510Z"
   },
   {
    "duration": 10,
    "start_time": "2021-12-01T15:40:13.518Z"
   },
   {
    "duration": 11,
    "start_time": "2021-12-01T15:40:13.530Z"
   },
   {
    "duration": 11,
    "start_time": "2021-12-01T15:40:13.542Z"
   },
   {
    "duration": 8,
    "start_time": "2021-12-01T15:40:13.555Z"
   },
   {
    "duration": 29,
    "start_time": "2021-12-01T15:40:13.565Z"
   },
   {
    "duration": 16,
    "start_time": "2021-12-01T15:40:13.596Z"
   },
   {
    "duration": 4,
    "start_time": "2021-12-01T15:40:13.614Z"
   },
   {
    "duration": 5,
    "start_time": "2021-12-01T15:40:13.620Z"
   },
   {
    "duration": 30,
    "start_time": "2021-12-01T15:40:13.627Z"
   },
   {
    "duration": 113,
    "start_time": "2021-12-01T15:40:13.659Z"
   },
   {
    "duration": 46,
    "start_time": "2021-12-01T15:40:13.774Z"
   },
   {
    "duration": 20,
    "start_time": "2021-12-01T15:40:13.822Z"
   },
   {
    "duration": 12,
    "start_time": "2021-12-01T15:40:13.844Z"
   },
   {
    "duration": 34,
    "start_time": "2021-12-01T15:40:13.858Z"
   },
   {
    "duration": 41,
    "start_time": "2021-12-01T15:40:13.894Z"
   },
   {
    "duration": 14,
    "start_time": "2021-12-01T15:40:13.937Z"
   },
   {
    "duration": 15,
    "start_time": "2021-12-01T15:40:16.795Z"
   },
   {
    "duration": 314,
    "start_time": "2021-12-01T15:40:17.684Z"
   },
   {
    "duration": 3,
    "start_time": "2021-12-01T15:40:48.536Z"
   },
   {
    "duration": 23,
    "start_time": "2021-12-01T15:42:24.577Z"
   },
   {
    "duration": 7,
    "start_time": "2021-12-01T15:43:11.597Z"
   },
   {
    "duration": 6,
    "start_time": "2021-12-01T15:43:23.567Z"
   },
   {
    "duration": 7,
    "start_time": "2021-12-01T15:43:50.887Z"
   },
   {
    "duration": 6,
    "start_time": "2021-12-01T15:44:06.292Z"
   },
   {
    "duration": 20,
    "start_time": "2021-12-01T15:45:18.863Z"
   },
   {
    "duration": 6,
    "start_time": "2021-12-01T15:45:35.527Z"
   },
   {
    "duration": 9,
    "start_time": "2021-12-01T15:45:54.634Z"
   },
   {
    "duration": 7,
    "start_time": "2021-12-01T15:50:19.663Z"
   },
   {
    "duration": 4,
    "start_time": "2021-12-01T15:50:21.307Z"
   },
   {
    "duration": 6,
    "start_time": "2021-12-01T15:50:22.973Z"
   },
   {
    "duration": 23,
    "start_time": "2021-12-01T15:50:27.538Z"
   },
   {
    "duration": 2,
    "start_time": "2021-12-01T15:50:43.534Z"
   },
   {
    "duration": 10,
    "start_time": "2021-12-01T15:50:43.539Z"
   },
   {
    "duration": 687,
    "start_time": "2021-12-01T15:50:43.551Z"
   },
   {
    "duration": 452,
    "start_time": "2021-12-01T15:50:44.240Z"
   },
   {
    "duration": 12,
    "start_time": "2021-12-01T15:50:44.694Z"
   },
   {
    "duration": 339,
    "start_time": "2021-12-01T15:50:44.708Z"
   },
   {
    "duration": 60,
    "start_time": "2021-12-01T15:50:45.049Z"
   },
   {
    "duration": 80,
    "start_time": "2021-12-01T15:50:45.111Z"
   },
   {
    "duration": 5,
    "start_time": "2021-12-01T15:50:45.193Z"
   },
   {
    "duration": 6,
    "start_time": "2021-12-01T15:50:45.200Z"
   },
   {
    "duration": 11,
    "start_time": "2021-12-01T15:50:45.208Z"
   },
   {
    "duration": 6,
    "start_time": "2021-12-01T15:50:45.221Z"
   },
   {
    "duration": 29,
    "start_time": "2021-12-01T15:50:45.229Z"
   },
   {
    "duration": 110,
    "start_time": "2021-12-01T15:50:45.259Z"
   },
   {
    "duration": 80,
    "start_time": "2021-12-01T15:50:45.371Z"
   },
   {
    "duration": 2,
    "start_time": "2021-12-01T15:50:45.453Z"
   },
   {
    "duration": 6,
    "start_time": "2021-12-01T15:50:45.457Z"
   },
   {
    "duration": 39,
    "start_time": "2021-12-01T15:50:45.464Z"
   },
   {
    "duration": 9,
    "start_time": "2021-12-01T15:50:45.505Z"
   },
   {
    "duration": 11,
    "start_time": "2021-12-01T15:50:45.516Z"
   },
   {
    "duration": 8,
    "start_time": "2021-12-01T15:50:45.529Z"
   },
   {
    "duration": 82,
    "start_time": "2021-12-01T15:50:45.541Z"
   },
   {
    "duration": 5,
    "start_time": "2021-12-01T15:50:45.625Z"
   },
   {
    "duration": 23,
    "start_time": "2021-12-01T15:50:45.632Z"
   },
   {
    "duration": 110,
    "start_time": "2021-12-01T15:50:45.657Z"
   },
   {
    "duration": 42,
    "start_time": "2021-12-01T15:50:45.769Z"
   },
   {
    "duration": 17,
    "start_time": "2021-12-01T15:50:45.813Z"
   },
   {
    "duration": 7,
    "start_time": "2021-12-01T15:50:45.832Z"
   },
   {
    "duration": 22,
    "start_time": "2021-12-01T15:50:45.841Z"
   },
   {
    "duration": 76,
    "start_time": "2021-12-01T15:50:45.864Z"
   },
   {
    "duration": 50,
    "start_time": "2021-12-01T15:50:45.942Z"
   },
   {
    "duration": 15,
    "start_time": "2021-12-01T15:50:45.994Z"
   },
   {
    "duration": 8,
    "start_time": "2021-12-01T15:50:46.010Z"
   },
   {
    "duration": 9,
    "start_time": "2021-12-01T15:50:46.020Z"
   },
   {
    "duration": 12,
    "start_time": "2021-12-01T15:50:46.031Z"
   },
   {
    "duration": 7,
    "start_time": "2021-12-01T15:50:46.044Z"
   },
   {
    "duration": 5,
    "start_time": "2021-12-01T15:50:46.053Z"
   },
   {
    "duration": 34,
    "start_time": "2021-12-01T15:50:46.059Z"
   },
   {
    "duration": 4,
    "start_time": "2021-12-01T15:50:46.095Z"
   },
   {
    "duration": 9,
    "start_time": "2021-12-01T15:50:46.101Z"
   },
   {
    "duration": 4,
    "start_time": "2021-12-01T15:50:46.112Z"
   },
   {
    "duration": 6,
    "start_time": "2021-12-01T15:50:46.117Z"
   },
   {
    "duration": 7,
    "start_time": "2021-12-01T15:50:46.124Z"
   },
   {
    "duration": 4,
    "start_time": "2021-12-01T15:50:46.133Z"
   },
   {
    "duration": 6,
    "start_time": "2021-12-01T15:50:46.138Z"
   },
   {
    "duration": 67,
    "start_time": "2021-12-01T15:50:46.145Z"
   },
   {
    "duration": 99,
    "start_time": "2021-12-01T15:50:46.214Z"
   },
   {
    "duration": 40,
    "start_time": "2021-12-01T15:50:46.314Z"
   },
   {
    "duration": 6,
    "start_time": "2021-12-01T15:50:46.356Z"
   },
   {
    "duration": 51,
    "start_time": "2021-12-01T15:50:46.364Z"
   },
   {
    "duration": 6,
    "start_time": "2021-12-01T15:50:46.418Z"
   },
   {
    "duration": 13,
    "start_time": "2021-12-01T15:50:46.425Z"
   },
   {
    "duration": 5,
    "start_time": "2021-12-01T15:50:46.439Z"
   },
   {
    "duration": 9,
    "start_time": "2021-12-01T15:50:46.446Z"
   },
   {
    "duration": 45,
    "start_time": "2021-12-01T15:50:46.456Z"
   },
   {
    "duration": 35,
    "start_time": "2021-12-01T15:50:46.503Z"
   },
   {
    "duration": 5,
    "start_time": "2021-12-01T15:50:46.540Z"
   },
   {
    "duration": 13,
    "start_time": "2021-12-01T15:50:46.547Z"
   },
   {
    "duration": 31,
    "start_time": "2021-12-01T15:50:46.561Z"
   },
   {
    "duration": 3,
    "start_time": "2021-12-01T15:50:46.594Z"
   },
   {
    "duration": 8,
    "start_time": "2021-12-01T15:50:46.598Z"
   },
   {
    "duration": 3,
    "start_time": "2021-12-01T15:50:46.608Z"
   },
   {
    "duration": 2,
    "start_time": "2021-12-01T15:50:48.477Z"
   },
   {
    "duration": 23,
    "start_time": "2021-12-01T15:50:49.179Z"
   },
   {
    "duration": 7,
    "start_time": "2021-12-01T15:50:58.950Z"
   },
   {
    "duration": 7,
    "start_time": "2021-12-01T15:51:55.549Z"
   },
   {
    "duration": 2,
    "start_time": "2021-12-01T15:52:20.858Z"
   },
   {
    "duration": 6,
    "start_time": "2021-12-01T15:52:20.864Z"
   },
   {
    "duration": 693,
    "start_time": "2021-12-01T15:52:20.872Z"
   },
   {
    "duration": 440,
    "start_time": "2021-12-01T15:52:21.566Z"
   },
   {
    "duration": 13,
    "start_time": "2021-12-01T15:52:22.008Z"
   },
   {
    "duration": 369,
    "start_time": "2021-12-01T15:52:22.022Z"
   },
   {
    "duration": 57,
    "start_time": "2021-12-01T15:52:22.393Z"
   },
   {
    "duration": 85,
    "start_time": "2021-12-01T15:52:22.452Z"
   },
   {
    "duration": 3,
    "start_time": "2021-12-01T15:52:22.539Z"
   },
   {
    "duration": 6,
    "start_time": "2021-12-01T15:52:22.544Z"
   },
   {
    "duration": 42,
    "start_time": "2021-12-01T15:52:22.551Z"
   },
   {
    "duration": 8,
    "start_time": "2021-12-01T15:52:22.595Z"
   },
   {
    "duration": 29,
    "start_time": "2021-12-01T15:52:22.605Z"
   },
   {
    "duration": 130,
    "start_time": "2021-12-01T15:52:22.636Z"
   },
   {
    "duration": 87,
    "start_time": "2021-12-01T15:52:22.768Z"
   },
   {
    "duration": 2,
    "start_time": "2021-12-01T15:52:22.857Z"
   },
   {
    "duration": 5,
    "start_time": "2021-12-01T15:52:22.861Z"
   },
   {
    "duration": 42,
    "start_time": "2021-12-01T15:52:22.868Z"
   },
   {
    "duration": 10,
    "start_time": "2021-12-01T15:52:22.912Z"
   },
   {
    "duration": 10,
    "start_time": "2021-12-01T15:52:22.924Z"
   },
   {
    "duration": 9,
    "start_time": "2021-12-01T15:52:22.936Z"
   },
   {
    "duration": 11,
    "start_time": "2021-12-01T15:52:22.946Z"
   },
   {
    "duration": 35,
    "start_time": "2021-12-01T15:52:22.959Z"
   },
   {
    "duration": 23,
    "start_time": "2021-12-01T15:52:22.999Z"
   },
   {
    "duration": 85,
    "start_time": "2021-12-01T15:52:23.024Z"
   },
   {
    "duration": 34,
    "start_time": "2021-12-01T15:52:23.111Z"
   },
   {
    "duration": 17,
    "start_time": "2021-12-01T15:52:23.147Z"
   },
   {
    "duration": 32,
    "start_time": "2021-12-01T15:52:23.166Z"
   },
   {
    "duration": 23,
    "start_time": "2021-12-01T15:52:23.199Z"
   },
   {
    "duration": 69,
    "start_time": "2021-12-01T15:52:23.224Z"
   },
   {
    "duration": 36,
    "start_time": "2021-12-01T15:52:23.294Z"
   },
   {
    "duration": 15,
    "start_time": "2021-12-01T15:52:23.332Z"
   },
   {
    "duration": 8,
    "start_time": "2021-12-01T15:52:23.348Z"
   },
   {
    "duration": 33,
    "start_time": "2021-12-01T15:52:23.358Z"
   },
   {
    "duration": 10,
    "start_time": "2021-12-01T15:52:23.393Z"
   },
   {
    "duration": 7,
    "start_time": "2021-12-01T15:52:23.405Z"
   },
   {
    "duration": 4,
    "start_time": "2021-12-01T15:52:23.414Z"
   },
   {
    "duration": 8,
    "start_time": "2021-12-01T15:52:23.419Z"
   },
   {
    "duration": 6,
    "start_time": "2021-12-01T15:52:23.428Z"
   },
   {
    "duration": 10,
    "start_time": "2021-12-01T15:52:23.436Z"
   },
   {
    "duration": 4,
    "start_time": "2021-12-01T15:52:23.448Z"
   },
   {
    "duration": 39,
    "start_time": "2021-12-01T15:52:23.454Z"
   },
   {
    "duration": 9,
    "start_time": "2021-12-01T15:52:23.494Z"
   },
   {
    "duration": 4,
    "start_time": "2021-12-01T15:52:23.505Z"
   },
   {
    "duration": 5,
    "start_time": "2021-12-01T15:52:23.511Z"
   },
   {
    "duration": 33,
    "start_time": "2021-12-01T15:52:23.517Z"
   },
   {
    "duration": 116,
    "start_time": "2021-12-01T15:52:23.552Z"
   },
   {
    "duration": 49,
    "start_time": "2021-12-01T15:52:23.670Z"
   },
   {
    "duration": 6,
    "start_time": "2021-12-01T15:52:23.721Z"
   },
   {
    "duration": 22,
    "start_time": "2021-12-01T15:52:23.729Z"
   },
   {
    "duration": 6,
    "start_time": "2021-12-01T15:52:23.753Z"
   },
   {
    "duration": 15,
    "start_time": "2021-12-01T15:52:23.792Z"
   },
   {
    "duration": 6,
    "start_time": "2021-12-01T15:52:23.809Z"
   },
   {
    "duration": 9,
    "start_time": "2021-12-01T15:52:23.817Z"
   },
   {
    "duration": 14,
    "start_time": "2021-12-01T15:52:23.828Z"
   },
   {
    "duration": 76,
    "start_time": "2021-12-01T15:52:23.844Z"
   },
   {
    "duration": 6,
    "start_time": "2021-12-01T15:52:23.922Z"
   },
   {
    "duration": 16,
    "start_time": "2021-12-01T15:52:23.930Z"
   },
   {
    "duration": 6,
    "start_time": "2021-12-01T15:52:23.947Z"
   },
   {
    "duration": 7,
    "start_time": "2021-12-01T15:52:31.975Z"
   },
   {
    "duration": 22,
    "start_time": "2021-12-01T15:52:33.489Z"
   },
   {
    "duration": 7,
    "start_time": "2021-12-01T15:52:36.234Z"
   },
   {
    "duration": 7,
    "start_time": "2021-12-01T15:54:03.749Z"
   },
   {
    "duration": 179,
    "start_time": "2021-12-01T15:57:44.264Z"
   },
   {
    "duration": 179,
    "start_time": "2021-12-01T15:57:51.965Z"
   },
   {
    "duration": 3,
    "start_time": "2021-12-01T15:58:01.363Z"
   },
   {
    "duration": 15,
    "start_time": "2021-12-01T15:58:01.368Z"
   },
   {
    "duration": 703,
    "start_time": "2021-12-01T15:58:01.385Z"
   },
   {
    "duration": 471,
    "start_time": "2021-12-01T15:58:02.090Z"
   },
   {
    "duration": 13,
    "start_time": "2021-12-01T15:58:02.563Z"
   },
   {
    "duration": 356,
    "start_time": "2021-12-01T15:58:02.578Z"
   },
   {
    "duration": 65,
    "start_time": "2021-12-01T15:58:02.936Z"
   },
   {
    "duration": 81,
    "start_time": "2021-12-01T15:58:03.003Z"
   },
   {
    "duration": 4,
    "start_time": "2021-12-01T15:58:03.086Z"
   },
   {
    "duration": 30,
    "start_time": "2021-12-01T15:58:03.092Z"
   },
   {
    "duration": 15,
    "start_time": "2021-12-01T15:58:03.124Z"
   },
   {
    "duration": 8,
    "start_time": "2021-12-01T15:58:03.141Z"
   },
   {
    "duration": 37,
    "start_time": "2021-12-01T15:58:03.151Z"
   },
   {
    "duration": 105,
    "start_time": "2021-12-01T15:58:03.190Z"
   },
   {
    "duration": 75,
    "start_time": "2021-12-01T15:58:03.296Z"
   },
   {
    "duration": 2,
    "start_time": "2021-12-01T15:58:03.373Z"
   },
   {
    "duration": 3,
    "start_time": "2021-12-01T15:58:03.391Z"
   },
   {
    "duration": 57,
    "start_time": "2021-12-01T15:58:03.395Z"
   },
   {
    "duration": 17,
    "start_time": "2021-12-01T15:58:03.453Z"
   },
   {
    "duration": 43,
    "start_time": "2021-12-01T15:58:03.472Z"
   },
   {
    "duration": 19,
    "start_time": "2021-12-01T15:58:03.518Z"
   },
   {
    "duration": 42,
    "start_time": "2021-12-01T15:58:03.540Z"
   },
   {
    "duration": 6,
    "start_time": "2021-12-01T15:58:03.585Z"
   },
   {
    "duration": 52,
    "start_time": "2021-12-01T15:58:03.593Z"
   },
   {
    "duration": 75,
    "start_time": "2021-12-01T15:58:03.646Z"
   },
   {
    "duration": 33,
    "start_time": "2021-12-01T15:58:03.724Z"
   },
   {
    "duration": 33,
    "start_time": "2021-12-01T15:58:03.759Z"
   },
   {
    "duration": 7,
    "start_time": "2021-12-01T15:58:03.794Z"
   },
   {
    "duration": 25,
    "start_time": "2021-12-01T15:58:03.802Z"
   },
   {
    "duration": 67,
    "start_time": "2021-12-01T15:58:03.829Z"
   },
   {
    "duration": 36,
    "start_time": "2021-12-01T15:58:03.898Z"
   },
   {
    "duration": 15,
    "start_time": "2021-12-01T15:58:03.936Z"
   },
   {
    "duration": 7,
    "start_time": "2021-12-01T15:58:03.953Z"
   },
   {
    "duration": 35,
    "start_time": "2021-12-01T15:58:03.962Z"
   },
   {
    "duration": 53,
    "start_time": "2021-12-01T15:58:03.999Z"
   },
   {
    "duration": 33,
    "start_time": "2021-12-01T15:58:04.054Z"
   },
   {
    "duration": 7,
    "start_time": "2021-12-01T15:58:04.089Z"
   },
   {
    "duration": 16,
    "start_time": "2021-12-01T15:58:04.097Z"
   },
   {
    "duration": 21,
    "start_time": "2021-12-01T15:58:04.115Z"
   },
   {
    "duration": 30,
    "start_time": "2021-12-01T15:58:04.138Z"
   },
   {
    "duration": 12,
    "start_time": "2021-12-01T15:58:04.170Z"
   },
   {
    "duration": 20,
    "start_time": "2021-12-01T15:58:04.184Z"
   },
   {
    "duration": 32,
    "start_time": "2021-12-01T15:58:04.206Z"
   },
   {
    "duration": 16,
    "start_time": "2021-12-01T15:58:04.240Z"
   },
   {
    "duration": 21,
    "start_time": "2021-12-01T15:58:04.258Z"
   },
   {
    "duration": 45,
    "start_time": "2021-12-01T15:58:04.281Z"
   },
   {
    "duration": 97,
    "start_time": "2021-12-01T15:58:04.328Z"
   },
   {
    "duration": 42,
    "start_time": "2021-12-01T15:58:04.426Z"
   },
   {
    "duration": 26,
    "start_time": "2021-12-01T15:58:04.469Z"
   },
   {
    "duration": 6,
    "start_time": "2021-12-01T15:58:09.972Z"
   },
   {
    "duration": 206,
    "start_time": "2021-12-01T15:58:11.140Z"
   },
   {
    "duration": 8,
    "start_time": "2021-12-01T15:58:26.341Z"
   },
   {
    "duration": 19,
    "start_time": "2021-12-01T15:58:36.197Z"
   },
   {
    "duration": 2,
    "start_time": "2021-12-01T15:59:12.875Z"
   },
   {
    "duration": 20,
    "start_time": "2021-12-01T16:00:03.901Z"
   },
   {
    "duration": 2,
    "start_time": "2021-12-01T16:00:58.096Z"
   },
   {
    "duration": 3,
    "start_time": "2021-12-01T16:01:05.464Z"
   },
   {
    "duration": 2,
    "start_time": "2021-12-01T16:01:08.948Z"
   },
   {
    "duration": 22,
    "start_time": "2021-12-01T16:01:33.769Z"
   },
   {
    "duration": 26,
    "start_time": "2021-12-01T16:01:47.039Z"
   },
   {
    "duration": 2,
    "start_time": "2021-12-01T16:01:52.540Z"
   },
   {
    "duration": 7,
    "start_time": "2021-12-01T16:01:52.546Z"
   },
   {
    "duration": 674,
    "start_time": "2021-12-01T16:01:52.555Z"
   },
   {
    "duration": 425,
    "start_time": "2021-12-01T16:01:53.231Z"
   },
   {
    "duration": 11,
    "start_time": "2021-12-01T16:01:53.658Z"
   },
   {
    "duration": 328,
    "start_time": "2021-12-01T16:01:53.670Z"
   },
   {
    "duration": 64,
    "start_time": "2021-12-01T16:01:53.999Z"
   },
   {
    "duration": 89,
    "start_time": "2021-12-01T16:01:54.065Z"
   },
   {
    "duration": 2,
    "start_time": "2021-12-01T16:01:54.157Z"
   },
   {
    "duration": 7,
    "start_time": "2021-12-01T16:01:54.161Z"
   },
   {
    "duration": 10,
    "start_time": "2021-12-01T16:01:54.170Z"
   },
   {
    "duration": 5,
    "start_time": "2021-12-01T16:01:54.191Z"
   },
   {
    "duration": 26,
    "start_time": "2021-12-01T16:01:54.198Z"
   },
   {
    "duration": 118,
    "start_time": "2021-12-01T16:01:54.226Z"
   },
   {
    "duration": 89,
    "start_time": "2021-12-01T16:01:54.345Z"
   },
   {
    "duration": 2,
    "start_time": "2021-12-01T16:01:54.436Z"
   },
   {
    "duration": 6,
    "start_time": "2021-12-01T16:01:54.439Z"
   },
   {
    "duration": 27,
    "start_time": "2021-12-01T16:01:54.446Z"
   },
   {
    "duration": 21,
    "start_time": "2021-12-01T16:01:54.474Z"
   },
   {
    "duration": 11,
    "start_time": "2021-12-01T16:01:54.497Z"
   },
   {
    "duration": 10,
    "start_time": "2021-12-01T16:01:54.510Z"
   },
   {
    "duration": 14,
    "start_time": "2021-12-01T16:01:54.522Z"
   },
   {
    "duration": 5,
    "start_time": "2021-12-01T16:01:54.538Z"
   },
   {
    "duration": 54,
    "start_time": "2021-12-01T16:01:54.548Z"
   },
   {
    "duration": 72,
    "start_time": "2021-12-01T16:01:54.604Z"
   },
   {
    "duration": 41,
    "start_time": "2021-12-01T16:01:54.678Z"
   },
   {
    "duration": 17,
    "start_time": "2021-12-01T16:01:54.721Z"
   },
   {
    "duration": 8,
    "start_time": "2021-12-01T16:01:54.740Z"
   },
   {
    "duration": 42,
    "start_time": "2021-12-01T16:01:54.749Z"
   },
   {
    "duration": 60,
    "start_time": "2021-12-01T16:01:54.793Z"
   },
   {
    "duration": 48,
    "start_time": "2021-12-01T16:01:54.855Z"
   },
   {
    "duration": 15,
    "start_time": "2021-12-01T16:01:54.905Z"
   },
   {
    "duration": 8,
    "start_time": "2021-12-01T16:01:54.921Z"
   },
   {
    "duration": 8,
    "start_time": "2021-12-01T16:01:54.930Z"
   },
   {
    "duration": 11,
    "start_time": "2021-12-01T16:01:54.939Z"
   },
   {
    "duration": 7,
    "start_time": "2021-12-01T16:01:54.952Z"
   },
   {
    "duration": 32,
    "start_time": "2021-12-01T16:01:54.961Z"
   },
   {
    "duration": 5,
    "start_time": "2021-12-01T16:01:54.994Z"
   },
   {
    "duration": 6,
    "start_time": "2021-12-01T16:01:55.001Z"
   },
   {
    "duration": 18,
    "start_time": "2021-12-01T16:01:55.008Z"
   },
   {
    "duration": 4,
    "start_time": "2021-12-01T16:01:55.028Z"
   },
   {
    "duration": 8,
    "start_time": "2021-12-01T16:01:55.034Z"
   },
   {
    "duration": 10,
    "start_time": "2021-12-01T16:01:55.044Z"
   },
   {
    "duration": 6,
    "start_time": "2021-12-01T16:01:55.056Z"
   },
   {
    "duration": 7,
    "start_time": "2021-12-01T16:01:55.092Z"
   },
   {
    "duration": 40,
    "start_time": "2021-12-01T16:01:55.101Z"
   },
   {
    "duration": 115,
    "start_time": "2021-12-01T16:01:55.142Z"
   },
   {
    "duration": 51,
    "start_time": "2021-12-01T16:01:55.259Z"
   },
   {
    "duration": 7,
    "start_time": "2021-12-01T16:01:55.313Z"
   },
   {
    "duration": 30,
    "start_time": "2021-12-01T16:01:55.322Z"
   },
   {
    "duration": 51,
    "start_time": "2021-12-01T16:01:55.354Z"
   },
   {
    "duration": 2,
    "start_time": "2021-12-01T16:01:55.407Z"
   },
   {
    "duration": 23,
    "start_time": "2021-12-01T16:01:55.411Z"
   },
   {
    "duration": 8,
    "start_time": "2021-12-01T16:01:55.436Z"
   },
   {
    "duration": 60,
    "start_time": "2021-12-01T16:01:55.445Z"
   },
   {
    "duration": 2,
    "start_time": "2021-12-01T16:01:55.507Z"
   },
   {
    "duration": 5,
    "start_time": "2021-12-01T16:01:55.511Z"
   },
   {
    "duration": 6,
    "start_time": "2021-12-01T16:01:55.518Z"
   },
   {
    "duration": 5,
    "start_time": "2021-12-01T16:01:55.526Z"
   },
   {
    "duration": 2,
    "start_time": "2021-12-01T16:01:57.767Z"
   },
   {
    "duration": 22,
    "start_time": "2021-12-01T16:01:58.418Z"
   },
   {
    "duration": 2,
    "start_time": "2021-12-01T16:02:14.040Z"
   },
   {
    "duration": 8,
    "start_time": "2021-12-01T16:02:18.728Z"
   },
   {
    "duration": 6,
    "start_time": "2021-12-01T16:02:24.012Z"
   },
   {
    "duration": 173,
    "start_time": "2021-12-01T16:03:45.915Z"
   },
   {
    "duration": 18,
    "start_time": "2021-12-01T16:04:09.531Z"
   },
   {
    "duration": 23,
    "start_time": "2021-12-01T16:05:03.674Z"
   },
   {
    "duration": 23,
    "start_time": "2021-12-01T16:08:33.286Z"
   },
   {
    "duration": 12,
    "start_time": "2021-12-01T16:09:27.032Z"
   },
   {
    "duration": 176,
    "start_time": "2021-12-01T16:55:35.474Z"
   },
   {
    "duration": 4,
    "start_time": "2021-12-01T16:55:44.651Z"
   },
   {
    "duration": 6,
    "start_time": "2021-12-01T16:55:44.658Z"
   },
   {
    "duration": 690,
    "start_time": "2021-12-01T16:55:44.667Z"
   },
   {
    "duration": 432,
    "start_time": "2021-12-01T16:55:45.359Z"
   },
   {
    "duration": 11,
    "start_time": "2021-12-01T16:55:45.793Z"
   },
   {
    "duration": 326,
    "start_time": "2021-12-01T16:55:45.806Z"
   },
   {
    "duration": 58,
    "start_time": "2021-12-01T16:55:46.134Z"
   },
   {
    "duration": 84,
    "start_time": "2021-12-01T16:55:46.194Z"
   },
   {
    "duration": 3,
    "start_time": "2021-12-01T16:55:46.280Z"
   },
   {
    "duration": 8,
    "start_time": "2021-12-01T16:55:46.285Z"
   },
   {
    "duration": 10,
    "start_time": "2021-12-01T16:55:46.294Z"
   },
   {
    "duration": 7,
    "start_time": "2021-12-01T16:55:46.306Z"
   },
   {
    "duration": 27,
    "start_time": "2021-12-01T16:55:46.315Z"
   },
   {
    "duration": 124,
    "start_time": "2021-12-01T16:55:46.343Z"
   },
   {
    "duration": 82,
    "start_time": "2021-12-01T16:55:46.469Z"
   },
   {
    "duration": 2,
    "start_time": "2021-12-01T16:55:46.553Z"
   },
   {
    "duration": 7,
    "start_time": "2021-12-01T16:55:46.556Z"
   },
   {
    "duration": 12,
    "start_time": "2021-12-01T16:55:46.565Z"
   },
   {
    "duration": 184,
    "start_time": "2021-12-01T16:55:48.753Z"
   },
   {
    "duration": 5,
    "start_time": "2021-12-01T16:56:34.605Z"
   },
   {
    "duration": 23,
    "start_time": "2021-12-01T16:57:13.694Z"
   },
   {
    "duration": 9,
    "start_time": "2021-12-01T16:57:14.779Z"
   },
   {
    "duration": 7,
    "start_time": "2021-12-01T17:02:54.847Z"
   },
   {
    "duration": 3,
    "start_time": "2021-12-01T17:03:00.595Z"
   },
   {
    "duration": 11,
    "start_time": "2021-12-01T17:03:00.600Z"
   },
   {
    "duration": 746,
    "start_time": "2021-12-01T17:03:00.614Z"
   },
   {
    "duration": 514,
    "start_time": "2021-12-01T17:03:01.362Z"
   },
   {
    "duration": 19,
    "start_time": "2021-12-01T17:03:01.878Z"
   },
   {
    "duration": 397,
    "start_time": "2021-12-01T17:03:01.899Z"
   },
   {
    "duration": 58,
    "start_time": "2021-12-01T17:03:02.300Z"
   },
   {
    "duration": 107,
    "start_time": "2021-12-01T17:03:02.360Z"
   },
   {
    "duration": 3,
    "start_time": "2021-12-01T17:03:02.470Z"
   },
   {
    "duration": 18,
    "start_time": "2021-12-01T17:03:02.475Z"
   },
   {
    "duration": 12,
    "start_time": "2021-12-01T17:03:02.496Z"
   },
   {
    "duration": 8,
    "start_time": "2021-12-01T17:03:02.510Z"
   },
   {
    "duration": 30,
    "start_time": "2021-12-01T17:03:02.520Z"
   },
   {
    "duration": 140,
    "start_time": "2021-12-01T17:03:02.552Z"
   },
   {
    "duration": 99,
    "start_time": "2021-12-01T17:03:02.694Z"
   },
   {
    "duration": 3,
    "start_time": "2021-12-01T17:03:02.795Z"
   },
   {
    "duration": 14,
    "start_time": "2021-12-01T17:03:02.800Z"
   },
   {
    "duration": 25,
    "start_time": "2021-12-01T17:03:02.819Z"
   },
   {
    "duration": 10,
    "start_time": "2021-12-01T17:03:02.847Z"
   },
   {
    "duration": 34,
    "start_time": "2021-12-01T17:03:02.859Z"
   },
   {
    "duration": 9,
    "start_time": "2021-12-01T17:03:02.895Z"
   },
   {
    "duration": 12,
    "start_time": "2021-12-01T17:03:02.906Z"
   },
   {
    "duration": 14,
    "start_time": "2021-12-01T17:03:02.920Z"
   },
   {
    "duration": 22,
    "start_time": "2021-12-01T17:03:02.936Z"
   },
   {
    "duration": 94,
    "start_time": "2021-12-01T17:03:02.960Z"
   },
   {
    "duration": 48,
    "start_time": "2021-12-01T17:03:03.056Z"
   },
   {
    "duration": 18,
    "start_time": "2021-12-01T17:03:03.106Z"
   },
   {
    "duration": 9,
    "start_time": "2021-12-01T17:03:03.127Z"
   },
   {
    "duration": 22,
    "start_time": "2021-12-01T17:03:03.137Z"
   },
   {
    "duration": 83,
    "start_time": "2021-12-01T17:03:03.161Z"
   },
   {
    "duration": 58,
    "start_time": "2021-12-01T17:03:03.246Z"
   },
   {
    "duration": 15,
    "start_time": "2021-12-01T17:03:03.306Z"
   },
   {
    "duration": 9,
    "start_time": "2021-12-01T17:03:03.323Z"
   },
   {
    "duration": 7,
    "start_time": "2021-12-01T17:03:03.334Z"
   },
   {
    "duration": 13,
    "start_time": "2021-12-01T17:03:03.343Z"
   },
   {
    "duration": 36,
    "start_time": "2021-12-01T17:03:03.357Z"
   },
   {
    "duration": 4,
    "start_time": "2021-12-01T17:03:03.395Z"
   },
   {
    "duration": 15,
    "start_time": "2021-12-01T17:03:03.402Z"
   },
   {
    "duration": 9,
    "start_time": "2021-12-01T17:03:03.419Z"
   },
   {
    "duration": 13,
    "start_time": "2021-12-01T17:03:03.430Z"
   },
   {
    "duration": 10,
    "start_time": "2021-12-01T17:03:03.444Z"
   },
   {
    "duration": 9,
    "start_time": "2021-12-01T17:03:03.456Z"
   },
   {
    "duration": 8,
    "start_time": "2021-12-01T17:03:03.467Z"
   },
   {
    "duration": 4,
    "start_time": "2021-12-01T17:03:03.491Z"
   },
   {
    "duration": 6,
    "start_time": "2021-12-01T17:03:03.497Z"
   },
   {
    "duration": 44,
    "start_time": "2021-12-01T17:03:03.505Z"
   },
   {
    "duration": 100,
    "start_time": "2021-12-01T17:03:03.551Z"
   },
   {
    "duration": 58,
    "start_time": "2021-12-01T17:03:03.652Z"
   },
   {
    "duration": 7,
    "start_time": "2021-12-01T17:03:03.712Z"
   },
   {
    "duration": 23,
    "start_time": "2021-12-01T17:03:03.720Z"
   },
   {
    "duration": 18,
    "start_time": "2021-12-01T17:03:05.233Z"
   },
   {
    "duration": 8,
    "start_time": "2021-12-01T17:03:06.074Z"
   },
   {
    "duration": 193,
    "start_time": "2021-12-01T17:04:43.929Z"
   },
   {
    "duration": 3,
    "start_time": "2021-12-01T17:04:48.627Z"
   },
   {
    "duration": 5,
    "start_time": "2021-12-01T17:04:48.637Z"
   },
   {
    "duration": 736,
    "start_time": "2021-12-01T17:04:48.643Z"
   },
   {
    "duration": 492,
    "start_time": "2021-12-01T17:04:49.381Z"
   },
   {
    "duration": 28,
    "start_time": "2021-12-01T17:04:49.875Z"
   },
   {
    "duration": 400,
    "start_time": "2021-12-01T17:04:49.906Z"
   },
   {
    "duration": 57,
    "start_time": "2021-12-01T17:04:50.309Z"
   },
   {
    "duration": 88,
    "start_time": "2021-12-01T17:04:50.368Z"
   },
   {
    "duration": 3,
    "start_time": "2021-12-01T17:04:50.460Z"
   },
   {
    "duration": 25,
    "start_time": "2021-12-01T17:04:50.466Z"
   },
   {
    "duration": 29,
    "start_time": "2021-12-01T17:04:50.493Z"
   },
   {
    "duration": 18,
    "start_time": "2021-12-01T17:04:50.524Z"
   },
   {
    "duration": 53,
    "start_time": "2021-12-01T17:04:50.545Z"
   },
   {
    "duration": 111,
    "start_time": "2021-12-01T17:04:50.600Z"
   },
   {
    "duration": 94,
    "start_time": "2021-12-01T17:04:50.713Z"
   },
   {
    "duration": 2,
    "start_time": "2021-12-01T17:04:50.810Z"
   },
   {
    "duration": 21,
    "start_time": "2021-12-01T17:04:50.814Z"
   },
   {
    "duration": 56,
    "start_time": "2021-12-01T17:04:50.837Z"
   },
   {
    "duration": 9,
    "start_time": "2021-12-01T17:04:50.895Z"
   },
   {
    "duration": 25,
    "start_time": "2021-12-01T17:04:50.906Z"
   },
   {
    "duration": 22,
    "start_time": "2021-12-01T17:04:50.933Z"
   },
   {
    "duration": 19,
    "start_time": "2021-12-01T17:04:50.957Z"
   },
   {
    "duration": 18,
    "start_time": "2021-12-01T17:04:50.978Z"
   },
   {
    "duration": 33,
    "start_time": "2021-12-01T17:04:51.000Z"
   },
   {
    "duration": 93,
    "start_time": "2021-12-01T17:04:51.036Z"
   },
   {
    "duration": 31,
    "start_time": "2021-12-01T17:04:51.131Z"
   },
   {
    "duration": 32,
    "start_time": "2021-12-01T17:04:51.164Z"
   },
   {
    "duration": 8,
    "start_time": "2021-12-01T17:04:51.198Z"
   },
   {
    "duration": 32,
    "start_time": "2021-12-01T17:04:51.208Z"
   },
   {
    "duration": 70,
    "start_time": "2021-12-01T17:04:51.242Z"
   },
   {
    "duration": 40,
    "start_time": "2021-12-01T17:04:51.313Z"
   },
   {
    "duration": 16,
    "start_time": "2021-12-01T17:04:51.354Z"
   },
   {
    "duration": 26,
    "start_time": "2021-12-01T17:04:51.372Z"
   },
   {
    "duration": 24,
    "start_time": "2021-12-01T17:04:51.399Z"
   },
   {
    "duration": 26,
    "start_time": "2021-12-01T17:04:51.424Z"
   },
   {
    "duration": 20,
    "start_time": "2021-12-01T17:04:51.452Z"
   },
   {
    "duration": 15,
    "start_time": "2021-12-01T17:04:51.473Z"
   },
   {
    "duration": 23,
    "start_time": "2021-12-01T17:04:51.490Z"
   },
   {
    "duration": 12,
    "start_time": "2021-12-01T17:04:51.515Z"
   },
   {
    "duration": 29,
    "start_time": "2021-12-01T17:04:51.529Z"
   },
   {
    "duration": 36,
    "start_time": "2021-12-01T17:04:51.560Z"
   },
   {
    "duration": 11,
    "start_time": "2021-12-01T17:04:51.598Z"
   },
   {
    "duration": 25,
    "start_time": "2021-12-01T17:04:51.611Z"
   },
   {
    "duration": 11,
    "start_time": "2021-12-01T17:04:51.638Z"
   },
   {
    "duration": 19,
    "start_time": "2021-12-01T17:04:51.651Z"
   },
   {
    "duration": 51,
    "start_time": "2021-12-01T17:04:51.672Z"
   },
   {
    "duration": 93,
    "start_time": "2021-12-01T17:04:51.725Z"
   },
   {
    "duration": 40,
    "start_time": "2021-12-01T17:04:51.820Z"
   },
   {
    "duration": 5,
    "start_time": "2021-12-01T17:04:51.862Z"
   },
   {
    "duration": 35,
    "start_time": "2021-12-01T17:04:51.869Z"
   },
   {
    "duration": 7,
    "start_time": "2021-12-01T17:04:51.905Z"
   },
   {
    "duration": 32,
    "start_time": "2021-12-01T17:04:51.913Z"
   },
   {
    "duration": 4,
    "start_time": "2021-12-01T17:04:51.947Z"
   },
   {
    "duration": 38,
    "start_time": "2021-12-01T17:04:51.953Z"
   },
   {
    "duration": 7,
    "start_time": "2021-12-01T17:04:51.993Z"
   },
   {
    "duration": 55,
    "start_time": "2021-12-01T17:04:52.002Z"
   },
   {
    "duration": 2,
    "start_time": "2021-12-01T17:04:52.059Z"
   },
   {
    "duration": 13,
    "start_time": "2021-12-01T17:04:52.062Z"
   },
   {
    "duration": 23,
    "start_time": "2021-12-01T17:04:52.077Z"
   },
   {
    "duration": 17,
    "start_time": "2021-12-01T17:04:52.102Z"
   },
   {
    "duration": 44,
    "start_time": "2021-12-01T17:04:52.121Z"
   },
   {
    "duration": 9,
    "start_time": "2021-12-01T17:04:52.167Z"
   },
   {
    "duration": 28,
    "start_time": "2021-12-01T17:04:52.177Z"
   },
   {
    "duration": 8,
    "start_time": "2021-12-01T17:04:53.665Z"
   },
   {
    "duration": 21,
    "start_time": "2021-12-01T17:04:54.399Z"
   },
   {
    "duration": 21,
    "start_time": "2021-12-01T17:05:09.408Z"
   },
   {
    "duration": 4,
    "start_time": "2021-12-01T17:09:22.721Z"
   },
   {
    "duration": 13,
    "start_time": "2021-12-01T17:09:22.727Z"
   },
   {
    "duration": 810,
    "start_time": "2021-12-01T17:09:22.743Z"
   },
   {
    "duration": 562,
    "start_time": "2021-12-01T17:09:23.556Z"
   },
   {
    "duration": 12,
    "start_time": "2021-12-01T17:09:24.121Z"
   },
   {
    "duration": 438,
    "start_time": "2021-12-01T17:09:24.136Z"
   },
   {
    "duration": 59,
    "start_time": "2021-12-01T17:09:24.576Z"
   },
   {
    "duration": 101,
    "start_time": "2021-12-01T17:09:24.637Z"
   },
   {
    "duration": 5,
    "start_time": "2021-12-01T17:09:24.741Z"
   },
   {
    "duration": 28,
    "start_time": "2021-12-01T17:09:24.749Z"
   },
   {
    "duration": 23,
    "start_time": "2021-12-01T17:09:24.780Z"
   },
   {
    "duration": 9,
    "start_time": "2021-12-01T17:09:24.807Z"
   },
   {
    "duration": 41,
    "start_time": "2021-12-01T17:09:24.819Z"
   },
   {
    "duration": 166,
    "start_time": "2021-12-01T17:09:24.862Z"
   },
   {
    "duration": 108,
    "start_time": "2021-12-01T17:09:25.030Z"
   },
   {
    "duration": 4,
    "start_time": "2021-12-01T17:09:25.141Z"
   },
   {
    "duration": 6,
    "start_time": "2021-12-01T17:09:25.148Z"
   },
   {
    "duration": 46,
    "start_time": "2021-12-01T17:09:25.156Z"
   },
   {
    "duration": 15,
    "start_time": "2021-12-01T17:09:25.206Z"
   },
   {
    "duration": 12,
    "start_time": "2021-12-01T17:09:25.223Z"
   },
   {
    "duration": 25,
    "start_time": "2021-12-01T17:09:25.238Z"
   },
   {
    "duration": 42,
    "start_time": "2021-12-01T17:09:25.266Z"
   },
   {
    "duration": 6,
    "start_time": "2021-12-01T17:09:25.310Z"
   },
   {
    "duration": 29,
    "start_time": "2021-12-01T17:09:25.318Z"
   },
   {
    "duration": 115,
    "start_time": "2021-12-01T17:09:25.349Z"
   },
   {
    "duration": 39,
    "start_time": "2021-12-01T17:09:25.468Z"
   },
   {
    "duration": 23,
    "start_time": "2021-12-01T17:09:25.510Z"
   },
   {
    "duration": 11,
    "start_time": "2021-12-01T17:09:25.537Z"
   },
   {
    "duration": 52,
    "start_time": "2021-12-01T17:09:25.551Z"
   },
   {
    "duration": 71,
    "start_time": "2021-12-01T17:09:25.606Z"
   },
   {
    "duration": 66,
    "start_time": "2021-12-01T17:09:25.680Z"
   },
   {
    "duration": 17,
    "start_time": "2021-12-01T17:09:25.748Z"
   },
   {
    "duration": 48,
    "start_time": "2021-12-01T17:09:25.767Z"
   },
   {
    "duration": 12,
    "start_time": "2021-12-01T17:09:25.818Z"
   },
   {
    "duration": 20,
    "start_time": "2021-12-01T17:09:25.837Z"
   },
   {
    "duration": 18,
    "start_time": "2021-12-01T17:09:25.860Z"
   },
   {
    "duration": 16,
    "start_time": "2021-12-01T17:09:25.896Z"
   },
   {
    "duration": 13,
    "start_time": "2021-12-01T17:09:25.915Z"
   },
   {
    "duration": 14,
    "start_time": "2021-12-01T17:09:25.931Z"
   },
   {
    "duration": 10,
    "start_time": "2021-12-01T17:09:25.948Z"
   },
   {
    "duration": 8,
    "start_time": "2021-12-01T17:09:25.961Z"
   },
   {
    "duration": 29,
    "start_time": "2021-12-01T17:09:25.972Z"
   },
   {
    "duration": 17,
    "start_time": "2021-12-01T17:09:26.005Z"
   },
   {
    "duration": 6,
    "start_time": "2021-12-01T17:09:26.026Z"
   },
   {
    "duration": 7,
    "start_time": "2021-12-01T17:09:26.034Z"
   },
   {
    "duration": 58,
    "start_time": "2021-12-01T17:09:26.043Z"
   },
   {
    "duration": 155,
    "start_time": "2021-12-01T17:09:26.109Z"
   },
   {
    "duration": 66,
    "start_time": "2021-12-01T17:09:26.267Z"
   },
   {
    "duration": 6,
    "start_time": "2021-12-01T17:09:26.335Z"
   },
   {
    "duration": 8,
    "start_time": "2021-12-01T17:09:28.446Z"
   },
   {
    "duration": 4,
    "start_time": "2021-12-01T17:09:29.261Z"
   },
   {
    "duration": 5,
    "start_time": "2021-12-01T17:09:38.345Z"
   },
   {
    "duration": 26,
    "start_time": "2021-12-01T17:09:41.589Z"
   },
   {
    "duration": 6,
    "start_time": "2021-12-01T17:09:42.694Z"
   },
   {
    "duration": 3,
    "start_time": "2021-12-01T17:10:18.463Z"
   },
   {
    "duration": 9,
    "start_time": "2021-12-01T17:10:18.468Z"
   },
   {
    "duration": 790,
    "start_time": "2021-12-01T17:10:18.479Z"
   },
   {
    "duration": 497,
    "start_time": "2021-12-01T17:10:19.271Z"
   },
   {
    "duration": 23,
    "start_time": "2021-12-01T17:10:19.770Z"
   },
   {
    "duration": 422,
    "start_time": "2021-12-01T17:10:19.795Z"
   },
   {
    "duration": 62,
    "start_time": "2021-12-01T17:10:20.220Z"
   },
   {
    "duration": 98,
    "start_time": "2021-12-01T17:10:20.294Z"
   },
   {
    "duration": 3,
    "start_time": "2021-12-01T17:10:20.395Z"
   },
   {
    "duration": 17,
    "start_time": "2021-12-01T17:10:20.401Z"
   },
   {
    "duration": 44,
    "start_time": "2021-12-01T17:10:20.420Z"
   },
   {
    "duration": 20,
    "start_time": "2021-12-01T17:10:20.466Z"
   },
   {
    "duration": 55,
    "start_time": "2021-12-01T17:10:20.488Z"
   },
   {
    "duration": 117,
    "start_time": "2021-12-01T17:10:20.545Z"
   },
   {
    "duration": 88,
    "start_time": "2021-12-01T17:10:20.664Z"
   },
   {
    "duration": 3,
    "start_time": "2021-12-01T17:10:20.754Z"
   },
   {
    "duration": 17,
    "start_time": "2021-12-01T17:10:20.759Z"
   },
   {
    "duration": 54,
    "start_time": "2021-12-01T17:10:20.780Z"
   },
   {
    "duration": 10,
    "start_time": "2021-12-01T17:10:20.837Z"
   },
   {
    "duration": 32,
    "start_time": "2021-12-01T17:10:20.849Z"
   },
   {
    "duration": 28,
    "start_time": "2021-12-01T17:10:20.883Z"
   },
   {
    "duration": 37,
    "start_time": "2021-12-01T17:10:20.913Z"
   },
   {
    "duration": 24,
    "start_time": "2021-12-01T17:10:20.952Z"
   },
   {
    "duration": 46,
    "start_time": "2021-12-01T17:10:20.978Z"
   },
   {
    "duration": 84,
    "start_time": "2021-12-01T17:10:21.026Z"
   },
   {
    "duration": 34,
    "start_time": "2021-12-01T17:10:21.112Z"
   },
   {
    "duration": 17,
    "start_time": "2021-12-01T17:10:21.148Z"
   },
   {
    "duration": 26,
    "start_time": "2021-12-01T17:10:21.166Z"
   },
   {
    "duration": 39,
    "start_time": "2021-12-01T17:10:21.194Z"
   },
   {
    "duration": 72,
    "start_time": "2021-12-01T17:10:21.235Z"
   },
   {
    "duration": 42,
    "start_time": "2021-12-01T17:10:21.309Z"
   },
   {
    "duration": 16,
    "start_time": "2021-12-01T17:10:21.353Z"
   },
   {
    "duration": 30,
    "start_time": "2021-12-01T17:10:21.370Z"
   },
   {
    "duration": 31,
    "start_time": "2021-12-01T17:10:21.402Z"
   },
   {
    "duration": 25,
    "start_time": "2021-12-01T17:10:21.436Z"
   },
   {
    "duration": 31,
    "start_time": "2021-12-01T17:10:21.463Z"
   },
   {
    "duration": 17,
    "start_time": "2021-12-01T17:10:21.496Z"
   },
   {
    "duration": 22,
    "start_time": "2021-12-01T17:10:21.515Z"
   },
   {
    "duration": 27,
    "start_time": "2021-12-01T17:10:21.539Z"
   },
   {
    "duration": 31,
    "start_time": "2021-12-01T17:10:21.569Z"
   },
   {
    "duration": 22,
    "start_time": "2021-12-01T17:10:21.603Z"
   },
   {
    "duration": 28,
    "start_time": "2021-12-01T17:10:21.628Z"
   },
   {
    "duration": 14,
    "start_time": "2021-12-01T17:10:21.659Z"
   },
   {
    "duration": 26,
    "start_time": "2021-12-01T17:10:21.675Z"
   },
   {
    "duration": 16,
    "start_time": "2021-12-01T17:10:21.703Z"
   },
   {
    "duration": 62,
    "start_time": "2021-12-01T17:10:21.721Z"
   },
   {
    "duration": 104,
    "start_time": "2021-12-01T17:10:21.785Z"
   },
   {
    "duration": 50,
    "start_time": "2021-12-01T17:10:21.892Z"
   },
   {
    "duration": 6,
    "start_time": "2021-12-01T17:10:21.944Z"
   },
   {
    "duration": 38,
    "start_time": "2021-12-01T17:10:21.951Z"
   },
   {
    "duration": 23,
    "start_time": "2021-12-01T17:10:21.995Z"
   },
   {
    "duration": 25,
    "start_time": "2021-12-01T17:10:22.020Z"
   },
   {
    "duration": 36,
    "start_time": "2021-12-01T17:10:22.046Z"
   },
   {
    "duration": 9,
    "start_time": "2021-12-01T17:10:22.084Z"
   },
   {
    "duration": 41,
    "start_time": "2021-12-01T17:10:22.095Z"
   },
   {
    "duration": 10,
    "start_time": "2021-12-01T17:10:22.138Z"
   },
   {
    "duration": 61,
    "start_time": "2021-12-01T17:10:22.150Z"
   },
   {
    "duration": 2,
    "start_time": "2021-12-01T17:10:22.213Z"
   },
   {
    "duration": 36,
    "start_time": "2021-12-01T17:10:22.217Z"
   },
   {
    "duration": 13,
    "start_time": "2021-12-01T17:10:22.255Z"
   },
   {
    "duration": 35,
    "start_time": "2021-12-01T17:10:22.270Z"
   },
   {
    "duration": 30,
    "start_time": "2021-12-01T17:10:22.307Z"
   },
   {
    "duration": 4,
    "start_time": "2021-12-01T17:10:22.339Z"
   },
   {
    "duration": 23,
    "start_time": "2021-12-01T17:10:22.345Z"
   },
   {
    "duration": 34,
    "start_time": "2021-12-01T17:10:22.370Z"
   },
   {
    "duration": 18,
    "start_time": "2021-12-01T17:10:24.174Z"
   },
   {
    "duration": 5,
    "start_time": "2021-12-01T17:10:25.191Z"
   },
   {
    "duration": 6,
    "start_time": "2021-12-01T17:32:15.335Z"
   },
   {
    "duration": 3,
    "start_time": "2021-12-01T17:32:29.288Z"
   },
   {
    "duration": 12,
    "start_time": "2021-12-01T17:32:30.800Z"
   },
   {
    "duration": 7,
    "start_time": "2021-12-01T17:32:44.862Z"
   },
   {
    "duration": 6,
    "start_time": "2021-12-01T17:33:29.004Z"
   },
   {
    "duration": 7,
    "start_time": "2021-12-01T17:33:29.872Z"
   },
   {
    "duration": 4,
    "start_time": "2021-12-01T17:33:35.438Z"
   },
   {
    "duration": 19,
    "start_time": "2021-12-01T17:34:29.519Z"
   },
   {
    "duration": 17,
    "start_time": "2021-12-01T17:38:59.327Z"
   },
   {
    "duration": 198,
    "start_time": "2021-12-01T17:40:15.351Z"
   },
   {
    "duration": 3,
    "start_time": "2021-12-01T17:40:20.799Z"
   },
   {
    "duration": 6,
    "start_time": "2021-12-01T17:40:20.804Z"
   },
   {
    "duration": 660,
    "start_time": "2021-12-01T17:40:20.812Z"
   },
   {
    "duration": 412,
    "start_time": "2021-12-01T17:40:21.474Z"
   },
   {
    "duration": 11,
    "start_time": "2021-12-01T17:40:21.891Z"
   },
   {
    "duration": 331,
    "start_time": "2021-12-01T17:40:21.904Z"
   },
   {
    "duration": 62,
    "start_time": "2021-12-01T17:40:22.238Z"
   },
   {
    "duration": 67,
    "start_time": "2021-12-01T17:40:22.302Z"
   },
   {
    "duration": 3,
    "start_time": "2021-12-01T17:40:22.371Z"
   },
   {
    "duration": 10,
    "start_time": "2021-12-01T17:40:22.375Z"
   },
   {
    "duration": 25,
    "start_time": "2021-12-01T17:40:22.386Z"
   },
   {
    "duration": 37,
    "start_time": "2021-12-01T17:40:22.413Z"
   },
   {
    "duration": 32,
    "start_time": "2021-12-01T17:40:22.452Z"
   },
   {
    "duration": 99,
    "start_time": "2021-12-01T17:40:22.486Z"
   },
   {
    "duration": 75,
    "start_time": "2021-12-01T17:40:22.591Z"
   },
   {
    "duration": 2,
    "start_time": "2021-12-01T17:40:22.668Z"
   },
   {
    "duration": 20,
    "start_time": "2021-12-01T17:40:22.672Z"
   },
   {
    "duration": 28,
    "start_time": "2021-12-01T17:40:22.696Z"
   },
   {
    "duration": 9,
    "start_time": "2021-12-01T17:40:22.726Z"
   },
   {
    "duration": 13,
    "start_time": "2021-12-01T17:40:22.736Z"
   },
   {
    "duration": 10,
    "start_time": "2021-12-01T17:40:22.751Z"
   },
   {
    "duration": 30,
    "start_time": "2021-12-01T17:40:22.763Z"
   },
   {
    "duration": 8,
    "start_time": "2021-12-01T17:40:22.795Z"
   },
   {
    "duration": 26,
    "start_time": "2021-12-01T17:40:22.804Z"
   },
   {
    "duration": 92,
    "start_time": "2021-12-01T17:40:22.831Z"
   },
   {
    "duration": 31,
    "start_time": "2021-12-01T17:40:22.925Z"
   },
   {
    "duration": 33,
    "start_time": "2021-12-01T17:40:22.959Z"
   },
   {
    "duration": 9,
    "start_time": "2021-12-01T17:40:22.993Z"
   },
   {
    "duration": 19,
    "start_time": "2021-12-01T17:40:23.004Z"
   },
   {
    "duration": 81,
    "start_time": "2021-12-01T17:40:23.025Z"
   },
   {
    "duration": 36,
    "start_time": "2021-12-01T17:40:23.108Z"
   },
   {
    "duration": 15,
    "start_time": "2021-12-01T17:40:23.145Z"
   },
   {
    "duration": 8,
    "start_time": "2021-12-01T17:40:23.161Z"
   },
   {
    "duration": 25,
    "start_time": "2021-12-01T17:40:23.171Z"
   },
   {
    "duration": 12,
    "start_time": "2021-12-01T17:40:23.198Z"
   },
   {
    "duration": 8,
    "start_time": "2021-12-01T17:40:23.211Z"
   },
   {
    "duration": 5,
    "start_time": "2021-12-01T17:40:23.221Z"
   },
   {
    "duration": 7,
    "start_time": "2021-12-01T17:40:23.227Z"
   },
   {
    "duration": 7,
    "start_time": "2021-12-01T17:40:23.236Z"
   },
   {
    "duration": 15,
    "start_time": "2021-12-01T17:40:23.244Z"
   },
   {
    "duration": 14,
    "start_time": "2021-12-01T17:40:23.260Z"
   },
   {
    "duration": 17,
    "start_time": "2021-12-01T17:40:23.275Z"
   },
   {
    "duration": 11,
    "start_time": "2021-12-01T17:40:23.293Z"
   },
   {
    "duration": 23,
    "start_time": "2021-12-01T17:40:23.306Z"
   },
   {
    "duration": 26,
    "start_time": "2021-12-01T17:40:23.331Z"
   },
   {
    "duration": 63,
    "start_time": "2021-12-01T17:40:23.358Z"
   },
   {
    "duration": 99,
    "start_time": "2021-12-01T17:40:23.423Z"
   },
   {
    "duration": 40,
    "start_time": "2021-12-01T17:40:23.524Z"
   },
   {
    "duration": 6,
    "start_time": "2021-12-01T17:40:23.566Z"
   },
   {
    "duration": 12,
    "start_time": "2021-12-01T17:40:23.592Z"
   },
   {
    "duration": 37,
    "start_time": "2021-12-01T17:40:23.609Z"
   },
   {
    "duration": 26,
    "start_time": "2021-12-01T17:40:23.648Z"
   },
   {
    "duration": 39,
    "start_time": "2021-12-01T17:40:23.676Z"
   },
   {
    "duration": 15,
    "start_time": "2021-12-01T17:40:23.717Z"
   },
   {
    "duration": 40,
    "start_time": "2021-12-01T17:40:23.734Z"
   },
   {
    "duration": 7,
    "start_time": "2021-12-01T17:40:23.776Z"
   },
   {
    "duration": 62,
    "start_time": "2021-12-01T17:40:23.785Z"
   },
   {
    "duration": 1,
    "start_time": "2021-12-01T17:40:23.849Z"
   },
   {
    "duration": 21,
    "start_time": "2021-12-01T17:40:23.852Z"
   },
   {
    "duration": 34,
    "start_time": "2021-12-01T17:40:23.874Z"
   },
   {
    "duration": 19,
    "start_time": "2021-12-01T17:40:23.910Z"
   },
   {
    "duration": 50,
    "start_time": "2021-12-01T17:40:23.931Z"
   },
   {
    "duration": 6,
    "start_time": "2021-12-01T17:40:23.983Z"
   },
   {
    "duration": 36,
    "start_time": "2021-12-01T17:40:23.990Z"
   },
   {
    "duration": 21,
    "start_time": "2021-12-01T17:40:24.028Z"
   },
   {
    "duration": 25,
    "start_time": "2021-12-01T17:40:24.050Z"
   },
   {
    "duration": 33,
    "start_time": "2021-12-01T17:40:24.077Z"
   },
   {
    "duration": 174,
    "start_time": "2021-12-01T17:40:27.066Z"
   },
   {
    "duration": 3,
    "start_time": "2021-12-01T17:42:12.808Z"
   },
   {
    "duration": 9,
    "start_time": "2021-12-01T17:42:35.631Z"
   },
   {
    "duration": 3,
    "start_time": "2021-12-01T17:42:39.118Z"
   },
   {
    "duration": 9,
    "start_time": "2021-12-01T17:42:39.685Z"
   },
   {
    "duration": 5,
    "start_time": "2021-12-01T17:44:31.959Z"
   },
   {
    "duration": 10,
    "start_time": "2021-12-01T17:44:32.746Z"
   },
   {
    "duration": 3,
    "start_time": "2021-12-01T17:45:44.629Z"
   },
   {
    "duration": 5,
    "start_time": "2021-12-01T17:45:44.635Z"
   },
   {
    "duration": 598,
    "start_time": "2021-12-01T17:45:44.642Z"
   },
   {
    "duration": 404,
    "start_time": "2021-12-01T17:45:45.242Z"
   },
   {
    "duration": 13,
    "start_time": "2021-12-01T17:45:45.647Z"
   },
   {
    "duration": 314,
    "start_time": "2021-12-01T17:45:45.662Z"
   },
   {
    "duration": 67,
    "start_time": "2021-12-01T17:45:45.978Z"
   },
   {
    "duration": 72,
    "start_time": "2021-12-01T17:45:46.048Z"
   },
   {
    "duration": 2,
    "start_time": "2021-12-01T17:45:46.122Z"
   },
   {
    "duration": 13,
    "start_time": "2021-12-01T17:45:46.126Z"
   },
   {
    "duration": 17,
    "start_time": "2021-12-01T17:45:46.140Z"
   },
   {
    "duration": 16,
    "start_time": "2021-12-01T17:45:46.158Z"
   },
   {
    "duration": 42,
    "start_time": "2021-12-01T17:45:46.175Z"
   },
   {
    "duration": 99,
    "start_time": "2021-12-01T17:45:46.219Z"
   },
   {
    "duration": 76,
    "start_time": "2021-12-01T17:45:46.320Z"
   },
   {
    "duration": 3,
    "start_time": "2021-12-01T17:45:46.397Z"
   },
   {
    "duration": 13,
    "start_time": "2021-12-01T17:45:46.401Z"
   },
   {
    "duration": 35,
    "start_time": "2021-12-01T17:45:46.417Z"
   },
   {
    "duration": 9,
    "start_time": "2021-12-01T17:45:46.454Z"
   },
   {
    "duration": 17,
    "start_time": "2021-12-01T17:45:46.465Z"
   },
   {
    "duration": 18,
    "start_time": "2021-12-01T17:45:46.483Z"
   },
   {
    "duration": 11,
    "start_time": "2021-12-01T17:45:46.503Z"
   },
   {
    "duration": 14,
    "start_time": "2021-12-01T17:45:46.515Z"
   },
   {
    "duration": 33,
    "start_time": "2021-12-01T17:45:46.530Z"
   },
   {
    "duration": 74,
    "start_time": "2021-12-01T17:45:46.565Z"
   },
   {
    "duration": 28,
    "start_time": "2021-12-01T17:45:46.640Z"
   },
   {
    "duration": 28,
    "start_time": "2021-12-01T17:45:46.670Z"
   },
   {
    "duration": 7,
    "start_time": "2021-12-01T17:45:46.700Z"
   },
   {
    "duration": 26,
    "start_time": "2021-12-01T17:45:46.708Z"
   },
   {
    "duration": 65,
    "start_time": "2021-12-01T17:45:46.735Z"
   },
   {
    "duration": 33,
    "start_time": "2021-12-01T17:45:46.802Z"
   },
   {
    "duration": 15,
    "start_time": "2021-12-01T17:45:46.837Z"
   },
   {
    "duration": 8,
    "start_time": "2021-12-01T17:45:46.854Z"
   },
   {
    "duration": 32,
    "start_time": "2021-12-01T17:45:46.864Z"
   },
   {
    "duration": 10,
    "start_time": "2021-12-01T17:45:56.435Z"
   },
   {
    "duration": 3,
    "start_time": "2021-12-01T17:45:57.237Z"
   },
   {
    "duration": 10,
    "start_time": "2021-12-01T17:45:57.952Z"
   },
   {
    "duration": 4,
    "start_time": "2021-12-01T17:47:35.151Z"
   },
   {
    "duration": 10,
    "start_time": "2021-12-01T17:47:36.167Z"
   },
   {
    "duration": 3,
    "start_time": "2021-12-01T17:47:49.559Z"
   },
   {
    "duration": 6,
    "start_time": "2021-12-01T17:47:49.564Z"
   },
   {
    "duration": 729,
    "start_time": "2021-12-01T17:47:49.572Z"
   },
   {
    "duration": 447,
    "start_time": "2021-12-01T17:47:50.303Z"
   },
   {
    "duration": 12,
    "start_time": "2021-12-01T17:47:50.752Z"
   },
   {
    "duration": 341,
    "start_time": "2021-12-01T17:47:50.766Z"
   },
   {
    "duration": 54,
    "start_time": "2021-12-01T17:47:51.110Z"
   },
   {
    "duration": 71,
    "start_time": "2021-12-01T17:47:51.166Z"
   },
   {
    "duration": 3,
    "start_time": "2021-12-01T17:47:51.239Z"
   },
   {
    "duration": 4,
    "start_time": "2021-12-01T17:47:51.244Z"
   },
   {
    "duration": 11,
    "start_time": "2021-12-01T17:47:51.250Z"
   },
   {
    "duration": 32,
    "start_time": "2021-12-01T17:47:51.262Z"
   },
   {
    "duration": 26,
    "start_time": "2021-12-01T17:47:51.296Z"
   },
   {
    "duration": 112,
    "start_time": "2021-12-01T17:47:51.324Z"
   },
   {
    "duration": 85,
    "start_time": "2021-12-01T17:47:51.438Z"
   },
   {
    "duration": 2,
    "start_time": "2021-12-01T17:47:51.525Z"
   },
   {
    "duration": 6,
    "start_time": "2021-12-01T17:47:51.529Z"
   },
   {
    "duration": 24,
    "start_time": "2021-12-01T17:47:51.539Z"
   },
   {
    "duration": 26,
    "start_time": "2021-12-01T17:47:51.566Z"
   },
   {
    "duration": 16,
    "start_time": "2021-12-01T17:47:51.594Z"
   },
   {
    "duration": 25,
    "start_time": "2021-12-01T17:47:51.611Z"
   },
   {
    "duration": 25,
    "start_time": "2021-12-01T17:47:51.637Z"
   },
   {
    "duration": 9,
    "start_time": "2021-12-01T17:47:51.663Z"
   },
   {
    "duration": 46,
    "start_time": "2021-12-01T17:47:51.674Z"
   },
   {
    "duration": 71,
    "start_time": "2021-12-01T17:47:51.722Z"
   },
   {
    "duration": 30,
    "start_time": "2021-12-01T17:47:51.795Z"
   },
   {
    "duration": 16,
    "start_time": "2021-12-01T17:47:51.827Z"
   },
   {
    "duration": 6,
    "start_time": "2021-12-01T17:47:51.845Z"
   },
   {
    "duration": 41,
    "start_time": "2021-12-01T17:47:51.853Z"
   },
   {
    "duration": 59,
    "start_time": "2021-12-01T17:47:51.895Z"
   },
   {
    "duration": 49,
    "start_time": "2021-12-01T17:47:51.956Z"
   },
   {
    "duration": 15,
    "start_time": "2021-12-01T17:47:52.007Z"
   },
   {
    "duration": 8,
    "start_time": "2021-12-01T17:47:52.023Z"
   },
   {
    "duration": 10,
    "start_time": "2021-12-01T17:47:52.033Z"
   },
   {
    "duration": 11,
    "start_time": "2021-12-01T17:47:52.044Z"
   },
   {
    "duration": 4,
    "start_time": "2021-12-01T17:47:52.057Z"
   },
   {
    "duration": 30,
    "start_time": "2021-12-01T17:47:52.063Z"
   },
   {
    "duration": 3,
    "start_time": "2021-12-01T17:47:52.095Z"
   },
   {
    "duration": 8,
    "start_time": "2021-12-01T17:47:52.100Z"
   },
   {
    "duration": 9,
    "start_time": "2021-12-01T17:47:52.109Z"
   },
   {
    "duration": 10,
    "start_time": "2021-12-01T17:47:52.119Z"
   },
   {
    "duration": 6,
    "start_time": "2021-12-01T17:47:52.130Z"
   },
   {
    "duration": 5,
    "start_time": "2021-12-01T17:47:52.138Z"
   },
   {
    "duration": 7,
    "start_time": "2021-12-01T17:47:52.145Z"
   },
   {
    "duration": 4,
    "start_time": "2021-12-01T17:47:52.154Z"
   },
   {
    "duration": 5,
    "start_time": "2021-12-01T17:47:52.192Z"
   },
   {
    "duration": 32,
    "start_time": "2021-12-01T17:47:52.199Z"
   },
   {
    "duration": 104,
    "start_time": "2021-12-01T17:47:52.233Z"
   },
   {
    "duration": 40,
    "start_time": "2021-12-01T17:47:52.339Z"
   },
   {
    "duration": 5,
    "start_time": "2021-12-01T17:47:52.392Z"
   },
   {
    "duration": 4,
    "start_time": "2021-12-01T17:47:52.401Z"
   },
   {
    "duration": 19,
    "start_time": "2021-12-01T17:47:52.407Z"
   },
   {
    "duration": 5,
    "start_time": "2021-12-01T17:47:52.428Z"
   },
   {
    "duration": 20,
    "start_time": "2021-12-01T17:47:52.435Z"
   },
   {
    "duration": 2,
    "start_time": "2021-12-01T17:47:52.456Z"
   },
   {
    "duration": 50,
    "start_time": "2021-12-01T17:47:52.459Z"
   },
   {
    "duration": 8,
    "start_time": "2021-12-01T17:47:52.510Z"
   },
   {
    "duration": 40,
    "start_time": "2021-12-01T17:47:52.519Z"
   },
   {
    "duration": 2,
    "start_time": "2021-12-01T17:47:52.560Z"
   },
   {
    "duration": 30,
    "start_time": "2021-12-01T17:47:52.564Z"
   },
   {
    "duration": 7,
    "start_time": "2021-12-01T17:47:52.596Z"
   },
   {
    "duration": 5,
    "start_time": "2021-12-01T17:47:52.604Z"
   },
   {
    "duration": 24,
    "start_time": "2021-12-01T17:47:52.610Z"
   },
   {
    "duration": 6,
    "start_time": "2021-12-01T17:47:52.636Z"
   },
   {
    "duration": 16,
    "start_time": "2021-12-01T17:47:52.644Z"
   },
   {
    "duration": 30,
    "start_time": "2021-12-01T17:47:52.661Z"
   },
   {
    "duration": 6,
    "start_time": "2021-12-01T17:47:52.693Z"
   },
   {
    "duration": 7,
    "start_time": "2021-12-01T17:47:54.549Z"
   },
   {
    "duration": 22,
    "start_time": "2021-12-01T17:47:55.972Z"
   },
   {
    "duration": 28,
    "start_time": "2021-12-01T17:47:59.993Z"
   },
   {
    "duration": 24,
    "start_time": "2021-12-01T17:54:20.971Z"
   },
   {
    "duration": 3,
    "start_time": "2021-12-01T17:54:47.023Z"
   },
   {
    "duration": 4,
    "start_time": "2021-12-01T17:54:47.028Z"
   },
   {
    "duration": 621,
    "start_time": "2021-12-01T17:54:47.034Z"
   },
   {
    "duration": 401,
    "start_time": "2021-12-01T17:54:47.657Z"
   },
   {
    "duration": 11,
    "start_time": "2021-12-01T17:54:48.059Z"
   },
   {
    "duration": 325,
    "start_time": "2021-12-01T17:54:48.072Z"
   },
   {
    "duration": 53,
    "start_time": "2021-12-01T17:54:48.399Z"
   },
   {
    "duration": 70,
    "start_time": "2021-12-01T17:54:48.454Z"
   },
   {
    "duration": 2,
    "start_time": "2021-12-01T17:54:48.526Z"
   },
   {
    "duration": 6,
    "start_time": "2021-12-01T17:54:48.530Z"
   },
   {
    "duration": 10,
    "start_time": "2021-12-01T17:54:48.538Z"
   },
   {
    "duration": 10,
    "start_time": "2021-12-01T17:54:48.549Z"
   },
   {
    "duration": 47,
    "start_time": "2021-12-01T17:54:48.560Z"
   },
   {
    "duration": 100,
    "start_time": "2021-12-01T17:54:48.609Z"
   },
   {
    "duration": 67,
    "start_time": "2021-12-01T17:54:48.711Z"
   },
   {
    "duration": 13,
    "start_time": "2021-12-01T17:54:48.779Z"
   },
   {
    "duration": 6,
    "start_time": "2021-12-01T17:54:48.793Z"
   },
   {
    "duration": 27,
    "start_time": "2021-12-01T17:54:48.802Z"
   },
   {
    "duration": 8,
    "start_time": "2021-12-01T17:54:48.832Z"
   },
   {
    "duration": 19,
    "start_time": "2021-12-01T17:54:48.841Z"
   },
   {
    "duration": 16,
    "start_time": "2021-12-01T17:54:48.861Z"
   },
   {
    "duration": 18,
    "start_time": "2021-12-01T17:54:48.878Z"
   },
   {
    "duration": 14,
    "start_time": "2021-12-01T17:54:48.898Z"
   },
   {
    "duration": 22,
    "start_time": "2021-12-01T17:54:48.914Z"
   },
   {
    "duration": 73,
    "start_time": "2021-12-01T17:54:48.937Z"
   },
   {
    "duration": 27,
    "start_time": "2021-12-01T17:54:49.012Z"
   },
   {
    "duration": 16,
    "start_time": "2021-12-01T17:54:49.041Z"
   },
   {
    "duration": 22,
    "start_time": "2021-12-01T17:54:49.058Z"
   },
   {
    "duration": 31,
    "start_time": "2021-12-01T17:54:49.081Z"
   },
   {
    "duration": 64,
    "start_time": "2021-12-01T17:54:49.114Z"
   },
   {
    "duration": 41,
    "start_time": "2021-12-01T17:54:49.180Z"
   },
   {
    "duration": 15,
    "start_time": "2021-12-01T17:54:49.222Z"
   },
   {
    "duration": 11,
    "start_time": "2021-12-01T17:54:49.238Z"
   },
   {
    "duration": 23,
    "start_time": "2021-12-01T17:54:49.250Z"
   },
   {
    "duration": 24,
    "start_time": "2021-12-01T17:54:49.274Z"
   },
   {
    "duration": 27,
    "start_time": "2021-12-01T17:54:49.300Z"
   },
   {
    "duration": 27,
    "start_time": "2021-12-01T17:54:49.329Z"
   },
   {
    "duration": 25,
    "start_time": "2021-12-01T17:54:49.358Z"
   },
   {
    "duration": 32,
    "start_time": "2021-12-01T17:54:49.385Z"
   },
   {
    "duration": 30,
    "start_time": "2021-12-01T17:54:49.418Z"
   },
   {
    "duration": 27,
    "start_time": "2021-12-01T17:54:49.450Z"
   },
   {
    "duration": 22,
    "start_time": "2021-12-01T17:54:49.478Z"
   },
   {
    "duration": 31,
    "start_time": "2021-12-01T17:54:49.501Z"
   },
   {
    "duration": 22,
    "start_time": "2021-12-01T17:54:49.534Z"
   },
   {
    "duration": 22,
    "start_time": "2021-12-01T17:54:49.558Z"
   },
   {
    "duration": 25,
    "start_time": "2021-12-01T17:54:49.582Z"
   },
   {
    "duration": 47,
    "start_time": "2021-12-01T17:54:49.609Z"
   },
   {
    "duration": 94,
    "start_time": "2021-12-01T17:54:49.658Z"
   },
   {
    "duration": 55,
    "start_time": "2021-12-01T17:54:49.755Z"
   },
   {
    "duration": 6,
    "start_time": "2021-12-01T17:54:49.812Z"
   },
   {
    "duration": 13,
    "start_time": "2021-12-01T17:54:49.823Z"
   },
   {
    "duration": 23,
    "start_time": "2021-12-01T17:54:49.838Z"
   },
   {
    "duration": 7,
    "start_time": "2021-12-01T17:54:49.862Z"
   },
   {
    "duration": 35,
    "start_time": "2021-12-01T17:54:49.870Z"
   },
   {
    "duration": 2,
    "start_time": "2021-12-01T17:54:49.907Z"
   },
   {
    "duration": 36,
    "start_time": "2021-12-01T17:54:49.911Z"
   },
   {
    "duration": 11,
    "start_time": "2021-12-01T17:54:49.948Z"
   },
   {
    "duration": 43,
    "start_time": "2021-12-01T17:54:49.960Z"
   },
   {
    "duration": 23,
    "start_time": "2021-12-01T17:54:50.004Z"
   },
   {
    "duration": 9,
    "start_time": "2021-12-01T17:54:50.029Z"
   },
   {
    "duration": 30,
    "start_time": "2021-12-01T17:54:50.039Z"
   },
   {
    "duration": 4,
    "start_time": "2021-12-01T17:54:50.071Z"
   },
   {
    "duration": 9,
    "start_time": "2021-12-01T17:54:50.092Z"
   },
   {
    "duration": 17,
    "start_time": "2021-12-01T17:54:50.103Z"
   },
   {
    "duration": 3,
    "start_time": "2021-12-01T17:54:54.302Z"
   },
   {
    "duration": 17,
    "start_time": "2021-12-01T17:54:56.003Z"
   },
   {
    "duration": 9,
    "start_time": "2021-12-01T17:55:46.083Z"
   },
   {
    "duration": 13,
    "start_time": "2021-12-01T17:56:16.934Z"
   },
   {
    "duration": 8,
    "start_time": "2021-12-01T17:56:36.533Z"
   },
   {
    "duration": 14,
    "start_time": "2021-12-01T17:56:44.742Z"
   },
   {
    "duration": 3,
    "start_time": "2021-12-01T17:58:10.281Z"
   },
   {
    "duration": 7,
    "start_time": "2021-12-01T17:58:11.004Z"
   },
   {
    "duration": 19,
    "start_time": "2021-12-01T17:58:13.185Z"
   },
   {
    "duration": 26,
    "start_time": "2021-12-01T17:58:17.024Z"
   },
   {
    "duration": 3,
    "start_time": "2021-12-01T18:04:09.556Z"
   },
   {
    "duration": 3,
    "start_time": "2021-12-01T18:07:37.397Z"
   },
   {
    "duration": 6,
    "start_time": "2021-12-01T18:07:42.860Z"
   },
   {
    "duration": 4362,
    "start_time": "2021-12-01T18:09:32.061Z"
   },
   {
    "duration": 3,
    "start_time": "2021-12-01T18:09:40.384Z"
   },
   {
    "duration": 12,
    "start_time": "2021-12-01T18:09:40.389Z"
   },
   {
    "duration": 7,
    "start_time": "2021-12-01T18:09:40.404Z"
   },
   {
    "duration": 712,
    "start_time": "2021-12-01T18:09:40.413Z"
   },
   {
    "duration": 431,
    "start_time": "2021-12-01T18:09:41.127Z"
   },
   {
    "duration": 11,
    "start_time": "2021-12-01T18:09:41.560Z"
   },
   {
    "duration": 353,
    "start_time": "2021-12-01T18:09:41.573Z"
   },
   {
    "duration": 52,
    "start_time": "2021-12-01T18:09:41.929Z"
   },
   {
    "duration": 71,
    "start_time": "2021-12-01T18:09:41.983Z"
   },
   {
    "duration": 3,
    "start_time": "2021-12-01T18:09:42.056Z"
   },
   {
    "duration": 7,
    "start_time": "2021-12-01T18:09:42.061Z"
   },
   {
    "duration": 14,
    "start_time": "2021-12-01T18:09:42.070Z"
   },
   {
    "duration": 10,
    "start_time": "2021-12-01T18:09:42.085Z"
   },
   {
    "duration": 35,
    "start_time": "2021-12-01T18:09:42.097Z"
   },
   {
    "duration": 115,
    "start_time": "2021-12-01T18:09:42.134Z"
   },
   {
    "duration": 78,
    "start_time": "2021-12-01T18:09:42.251Z"
   },
   {
    "duration": 3,
    "start_time": "2021-12-01T18:09:42.331Z"
   },
   {
    "duration": 6,
    "start_time": "2021-12-01T18:09:42.335Z"
   },
   {
    "duration": 25,
    "start_time": "2021-12-01T18:09:42.342Z"
   },
   {
    "duration": 26,
    "start_time": "2021-12-01T18:09:42.369Z"
   },
   {
    "duration": 9,
    "start_time": "2021-12-01T18:09:42.397Z"
   },
   {
    "duration": 6,
    "start_time": "2021-12-01T18:09:42.410Z"
   },
   {
    "duration": 13,
    "start_time": "2021-12-01T18:09:42.419Z"
   },
   {
    "duration": 6,
    "start_time": "2021-12-01T18:09:42.434Z"
   },
   {
    "duration": 64,
    "start_time": "2021-12-01T18:09:42.442Z"
   },
   {
    "duration": 82,
    "start_time": "2021-12-01T18:09:42.509Z"
   },
   {
    "duration": 40,
    "start_time": "2021-12-01T18:09:42.593Z"
   },
   {
    "duration": 22,
    "start_time": "2021-12-01T18:09:42.634Z"
   },
   {
    "duration": 9,
    "start_time": "2021-12-01T18:09:42.659Z"
   },
   {
    "duration": 19,
    "start_time": "2021-12-01T18:09:42.692Z"
   },
   {
    "duration": 96,
    "start_time": "2021-12-01T18:09:42.714Z"
   },
   {
    "duration": 41,
    "start_time": "2021-12-01T18:09:42.813Z"
   },
   {
    "duration": 34,
    "start_time": "2021-12-01T18:09:42.856Z"
   },
   {
    "duration": 12,
    "start_time": "2021-12-01T18:09:42.893Z"
   },
   {
    "duration": 8,
    "start_time": "2021-12-01T18:09:42.907Z"
   },
   {
    "duration": 12,
    "start_time": "2021-12-01T18:09:42.917Z"
   },
   {
    "duration": 6,
    "start_time": "2021-12-01T18:09:42.931Z"
   },
   {
    "duration": 10,
    "start_time": "2021-12-01T18:09:42.939Z"
   },
   {
    "duration": 8,
    "start_time": "2021-12-01T18:09:42.950Z"
   },
   {
    "duration": 7,
    "start_time": "2021-12-01T18:09:42.960Z"
   },
   {
    "duration": 35,
    "start_time": "2021-12-01T18:09:42.969Z"
   },
   {
    "duration": 15,
    "start_time": "2021-12-01T18:09:43.006Z"
   },
   {
    "duration": 7,
    "start_time": "2021-12-01T18:09:43.022Z"
   },
   {
    "duration": 6,
    "start_time": "2021-12-01T18:09:43.030Z"
   },
   {
    "duration": 7,
    "start_time": "2021-12-01T18:09:43.038Z"
   },
   {
    "duration": 4,
    "start_time": "2021-12-01T18:09:43.047Z"
   },
   {
    "duration": 9,
    "start_time": "2021-12-01T18:09:43.053Z"
   },
   {
    "duration": 63,
    "start_time": "2021-12-01T18:09:43.063Z"
   },
   {
    "duration": 99,
    "start_time": "2021-12-01T18:09:43.128Z"
   },
   {
    "duration": 47,
    "start_time": "2021-12-01T18:09:43.229Z"
   },
   {
    "duration": 17,
    "start_time": "2021-12-01T18:09:43.278Z"
   },
   {
    "duration": 3,
    "start_time": "2021-12-01T18:09:43.297Z"
   },
   {
    "duration": 25,
    "start_time": "2021-12-01T18:09:43.302Z"
   },
   {
    "duration": 9,
    "start_time": "2021-12-01T18:09:43.329Z"
   },
   {
    "duration": 54,
    "start_time": "2021-12-01T18:09:43.340Z"
   },
   {
    "duration": 3,
    "start_time": "2021-12-01T18:09:43.396Z"
   },
   {
    "duration": 24,
    "start_time": "2021-12-01T18:09:43.400Z"
   },
   {
    "duration": 7,
    "start_time": "2021-12-01T18:09:43.426Z"
   },
   {
    "duration": 84,
    "start_time": "2021-12-01T18:09:43.435Z"
   },
   {
    "duration": 23,
    "start_time": "2021-12-01T18:09:43.522Z"
   },
   {
    "duration": 8,
    "start_time": "2021-12-01T18:09:43.548Z"
   },
   {
    "duration": 44,
    "start_time": "2021-12-01T18:09:43.557Z"
   },
   {
    "duration": 6,
    "start_time": "2021-12-01T18:09:43.603Z"
   },
   {
    "duration": 8,
    "start_time": "2021-12-01T18:09:43.615Z"
   },
   {
    "duration": 22,
    "start_time": "2021-12-01T18:09:43.625Z"
   },
   {
    "duration": 5,
    "start_time": "2021-12-01T18:09:43.649Z"
   },
   {
    "duration": 7,
    "start_time": "2021-12-01T18:09:43.656Z"
   },
   {
    "duration": 21,
    "start_time": "2021-12-01T18:09:46.410Z"
   },
   {
    "duration": 23,
    "start_time": "2021-12-01T18:09:50.932Z"
   },
   {
    "duration": 11,
    "start_time": "2021-12-01T18:15:33.380Z"
   },
   {
    "duration": 391,
    "start_time": "2021-12-02T06:34:57.229Z"
   },
   {
    "duration": 720,
    "start_time": "2021-12-02T06:35:04.839Z"
   },
   {
    "duration": 4,
    "start_time": "2021-12-02T06:35:05.561Z"
   },
   {
    "duration": 10,
    "start_time": "2021-12-02T06:35:05.567Z"
   },
   {
    "duration": 732,
    "start_time": "2021-12-02T06:35:05.579Z"
   },
   {
    "duration": 519,
    "start_time": "2021-12-02T06:35:06.313Z"
   },
   {
    "duration": 20,
    "start_time": "2021-12-02T06:35:06.835Z"
   },
   {
    "duration": 340,
    "start_time": "2021-12-02T06:35:06.857Z"
   },
   {
    "duration": 59,
    "start_time": "2021-12-02T06:35:07.199Z"
   },
   {
    "duration": 69,
    "start_time": "2021-12-02T06:35:07.261Z"
   },
   {
    "duration": 2,
    "start_time": "2021-12-02T06:35:07.332Z"
   },
   {
    "duration": 6,
    "start_time": "2021-12-02T06:35:07.336Z"
   },
   {
    "duration": 10,
    "start_time": "2021-12-02T06:35:07.344Z"
   },
   {
    "duration": 7,
    "start_time": "2021-12-02T06:35:07.355Z"
   },
   {
    "duration": 28,
    "start_time": "2021-12-02T06:35:07.364Z"
   },
   {
    "duration": 106,
    "start_time": "2021-12-02T06:35:07.394Z"
   },
   {
    "duration": 90,
    "start_time": "2021-12-02T06:35:07.502Z"
   },
   {
    "duration": 2,
    "start_time": "2021-12-02T06:35:07.594Z"
   },
   {
    "duration": 8,
    "start_time": "2021-12-02T06:35:07.597Z"
   },
   {
    "duration": 42,
    "start_time": "2021-12-02T06:35:07.606Z"
   },
   {
    "duration": 7,
    "start_time": "2021-12-02T06:35:07.650Z"
   },
   {
    "duration": 11,
    "start_time": "2021-12-02T06:35:07.658Z"
   },
   {
    "duration": 14,
    "start_time": "2021-12-02T06:35:07.671Z"
   },
   {
    "duration": 23,
    "start_time": "2021-12-02T06:35:07.686Z"
   },
   {
    "duration": 17,
    "start_time": "2021-12-02T06:35:07.711Z"
   },
   {
    "duration": 26,
    "start_time": "2021-12-02T06:35:07.729Z"
   },
   {
    "duration": 68,
    "start_time": "2021-12-02T06:35:07.757Z"
   },
   {
    "duration": 38,
    "start_time": "2021-12-02T06:35:07.830Z"
   },
   {
    "duration": 16,
    "start_time": "2021-12-02T06:35:07.870Z"
   },
   {
    "duration": 6,
    "start_time": "2021-12-02T06:35:07.887Z"
   },
   {
    "duration": 22,
    "start_time": "2021-12-02T06:35:07.895Z"
   },
   {
    "duration": 81,
    "start_time": "2021-12-02T06:35:07.918Z"
   },
   {
    "duration": 43,
    "start_time": "2021-12-02T06:35:08.001Z"
   },
   {
    "duration": 15,
    "start_time": "2021-12-02T06:35:08.046Z"
   },
   {
    "duration": 9,
    "start_time": "2021-12-02T06:35:08.063Z"
   },
   {
    "duration": 8,
    "start_time": "2021-12-02T06:35:08.073Z"
   },
   {
    "duration": 24,
    "start_time": "2021-12-02T06:35:08.082Z"
   },
   {
    "duration": 9,
    "start_time": "2021-12-02T06:35:08.108Z"
   },
   {
    "duration": 13,
    "start_time": "2021-12-02T06:35:08.118Z"
   },
   {
    "duration": 3,
    "start_time": "2021-12-02T06:35:08.144Z"
   },
   {
    "duration": 10,
    "start_time": "2021-12-02T06:35:08.149Z"
   },
   {
    "duration": 13,
    "start_time": "2021-12-02T06:35:08.161Z"
   },
   {
    "duration": 12,
    "start_time": "2021-12-02T06:35:08.176Z"
   },
   {
    "duration": 8,
    "start_time": "2021-12-02T06:35:08.190Z"
   },
   {
    "duration": 15,
    "start_time": "2021-12-02T06:35:08.200Z"
   },
   {
    "duration": 11,
    "start_time": "2021-12-02T06:35:08.216Z"
   },
   {
    "duration": 6,
    "start_time": "2021-12-02T06:35:08.229Z"
   },
   {
    "duration": 8,
    "start_time": "2021-12-02T06:35:08.237Z"
   },
   {
    "duration": 36,
    "start_time": "2021-12-02T06:35:08.247Z"
   },
   {
    "duration": 89,
    "start_time": "2021-12-02T06:35:08.284Z"
   },
   {
    "duration": 39,
    "start_time": "2021-12-02T06:35:08.374Z"
   },
   {
    "duration": 5,
    "start_time": "2021-12-02T06:35:08.414Z"
   },
   {
    "duration": 356,
    "start_time": "2021-12-02T06:35:08.420Z"
   },
   {
    "duration": -49,
    "start_time": "2021-12-02T06:35:08.826Z"
   },
   {
    "duration": -53,
    "start_time": "2021-12-02T06:35:08.831Z"
   },
   {
    "duration": -56,
    "start_time": "2021-12-02T06:35:08.835Z"
   },
   {
    "duration": -61,
    "start_time": "2021-12-02T06:35:08.841Z"
   },
   {
    "duration": -64,
    "start_time": "2021-12-02T06:35:08.845Z"
   },
   {
    "duration": -67,
    "start_time": "2021-12-02T06:35:08.849Z"
   },
   {
    "duration": -69,
    "start_time": "2021-12-02T06:35:08.852Z"
   },
   {
    "duration": -72,
    "start_time": "2021-12-02T06:35:08.856Z"
   },
   {
    "duration": -74,
    "start_time": "2021-12-02T06:35:08.859Z"
   },
   {
    "duration": -78,
    "start_time": "2021-12-02T06:35:08.864Z"
   },
   {
    "duration": -81,
    "start_time": "2021-12-02T06:35:08.868Z"
   },
   {
    "duration": -92,
    "start_time": "2021-12-02T06:35:08.880Z"
   },
   {
    "duration": -95,
    "start_time": "2021-12-02T06:35:08.884Z"
   },
   {
    "duration": -98,
    "start_time": "2021-12-02T06:35:08.887Z"
   },
   {
    "duration": -101,
    "start_time": "2021-12-02T06:35:08.891Z"
   },
   {
    "duration": -103,
    "start_time": "2021-12-02T06:35:08.894Z"
   },
   {
    "duration": 378,
    "start_time": "2021-12-02T06:35:12.449Z"
   },
   {
    "duration": 854,
    "start_time": "2021-12-02T06:35:18.870Z"
   },
   {
    "duration": 745,
    "start_time": "2021-12-02T06:35:28.712Z"
   },
   {
    "duration": 4,
    "start_time": "2021-12-02T06:35:29.458Z"
   },
   {
    "duration": 6,
    "start_time": "2021-12-02T06:35:29.464Z"
   },
   {
    "duration": 695,
    "start_time": "2021-12-02T06:35:29.472Z"
   },
   {
    "duration": 442,
    "start_time": "2021-12-02T06:35:30.169Z"
   },
   {
    "duration": 11,
    "start_time": "2021-12-02T06:35:30.613Z"
   },
   {
    "duration": 390,
    "start_time": "2021-12-02T06:35:30.625Z"
   },
   {
    "duration": 54,
    "start_time": "2021-12-02T06:35:31.018Z"
   },
   {
    "duration": 74,
    "start_time": "2021-12-02T06:35:31.075Z"
   },
   {
    "duration": 3,
    "start_time": "2021-12-02T06:35:31.151Z"
   },
   {
    "duration": 23,
    "start_time": "2021-12-02T06:35:31.155Z"
   },
   {
    "duration": 17,
    "start_time": "2021-12-02T06:35:31.180Z"
   },
   {
    "duration": 13,
    "start_time": "2021-12-02T06:35:31.199Z"
   },
   {
    "duration": 36,
    "start_time": "2021-12-02T06:35:31.213Z"
   },
   {
    "duration": 102,
    "start_time": "2021-12-02T06:35:31.250Z"
   },
   {
    "duration": 104,
    "start_time": "2021-12-02T06:35:31.354Z"
   },
   {
    "duration": 3,
    "start_time": "2021-12-02T06:35:31.460Z"
   },
   {
    "duration": 16,
    "start_time": "2021-12-02T06:35:31.465Z"
   },
   {
    "duration": 34,
    "start_time": "2021-12-02T06:35:31.483Z"
   },
   {
    "duration": 10,
    "start_time": "2021-12-02T06:35:31.518Z"
   },
   {
    "duration": 19,
    "start_time": "2021-12-02T06:35:31.529Z"
   },
   {
    "duration": 9,
    "start_time": "2021-12-02T06:35:31.549Z"
   },
   {
    "duration": 11,
    "start_time": "2021-12-02T06:35:31.562Z"
   },
   {
    "duration": 9,
    "start_time": "2021-12-02T06:35:31.576Z"
   },
   {
    "duration": 25,
    "start_time": "2021-12-02T06:35:31.587Z"
   },
   {
    "duration": 101,
    "start_time": "2021-12-02T06:35:31.614Z"
   },
   {
    "duration": 42,
    "start_time": "2021-12-02T06:35:31.717Z"
   },
   {
    "duration": 18,
    "start_time": "2021-12-02T06:35:31.761Z"
   },
   {
    "duration": 7,
    "start_time": "2021-12-02T06:35:31.780Z"
   },
   {
    "duration": 20,
    "start_time": "2021-12-02T06:35:31.789Z"
   },
   {
    "duration": 88,
    "start_time": "2021-12-02T06:35:31.810Z"
   },
   {
    "duration": 45,
    "start_time": "2021-12-02T06:35:31.900Z"
   },
   {
    "duration": 15,
    "start_time": "2021-12-02T06:35:31.947Z"
   },
   {
    "duration": 7,
    "start_time": "2021-12-02T06:35:31.964Z"
   },
   {
    "duration": 16,
    "start_time": "2021-12-02T06:35:31.973Z"
   },
   {
    "duration": 14,
    "start_time": "2021-12-02T06:35:31.991Z"
   },
   {
    "duration": 6,
    "start_time": "2021-12-02T06:35:32.007Z"
   },
   {
    "duration": 15,
    "start_time": "2021-12-02T06:35:32.015Z"
   },
   {
    "duration": 15,
    "start_time": "2021-12-02T06:35:32.032Z"
   },
   {
    "duration": 6,
    "start_time": "2021-12-02T06:35:32.049Z"
   },
   {
    "duration": 7,
    "start_time": "2021-12-02T06:35:32.057Z"
   },
   {
    "duration": 12,
    "start_time": "2021-12-02T06:35:32.066Z"
   },
   {
    "duration": 5,
    "start_time": "2021-12-02T06:35:32.080Z"
   },
   {
    "duration": 8,
    "start_time": "2021-12-02T06:35:32.087Z"
   },
   {
    "duration": 7,
    "start_time": "2021-12-02T06:35:32.097Z"
   },
   {
    "duration": 2,
    "start_time": "2021-12-02T06:35:32.106Z"
   },
   {
    "duration": 39,
    "start_time": "2021-12-02T06:35:32.110Z"
   },
   {
    "duration": 34,
    "start_time": "2021-12-02T06:35:32.151Z"
   },
   {
    "duration": 119,
    "start_time": "2021-12-02T06:35:32.187Z"
   },
   {
    "duration": 50,
    "start_time": "2021-12-02T06:35:32.307Z"
   },
   {
    "duration": 5,
    "start_time": "2021-12-02T06:35:32.359Z"
   },
   {
    "duration": 416,
    "start_time": "2021-12-02T06:35:32.366Z"
   },
   {
    "duration": 5,
    "start_time": "2021-12-02T06:35:32.779Z"
   },
   {
    "duration": 1,
    "start_time": "2021-12-02T06:35:32.783Z"
   },
   {
    "duration": -5,
    "start_time": "2021-12-02T06:35:32.790Z"
   },
   {
    "duration": -8,
    "start_time": "2021-12-02T06:35:32.794Z"
   },
   {
    "duration": -11,
    "start_time": "2021-12-02T06:35:32.798Z"
   },
   {
    "duration": -43,
    "start_time": "2021-12-02T06:35:32.831Z"
   },
   {
    "duration": -48,
    "start_time": "2021-12-02T06:35:32.837Z"
   },
   {
    "duration": -51,
    "start_time": "2021-12-02T06:35:32.841Z"
   },
   {
    "duration": -55,
    "start_time": "2021-12-02T06:35:32.846Z"
   },
   {
    "duration": -58,
    "start_time": "2021-12-02T06:35:32.850Z"
   },
   {
    "duration": -62,
    "start_time": "2021-12-02T06:35:32.855Z"
   },
   {
    "duration": -65,
    "start_time": "2021-12-02T06:35:32.859Z"
   },
   {
    "duration": -68,
    "start_time": "2021-12-02T06:35:32.863Z"
   },
   {
    "duration": -72,
    "start_time": "2021-12-02T06:35:32.868Z"
   },
   {
    "duration": -76,
    "start_time": "2021-12-02T06:35:32.873Z"
   },
   {
    "duration": -80,
    "start_time": "2021-12-02T06:35:32.878Z"
   },
   {
    "duration": -83,
    "start_time": "2021-12-02T06:35:32.882Z"
   },
   {
    "duration": -85,
    "start_time": "2021-12-02T06:35:32.885Z"
   },
   {
    "duration": 3,
    "start_time": "2021-12-02T06:35:46.963Z"
   },
   {
    "duration": 15,
    "start_time": "2021-12-02T06:35:46.968Z"
   },
   {
    "duration": 10,
    "start_time": "2021-12-02T06:35:46.985Z"
   },
   {
    "duration": 750,
    "start_time": "2021-12-02T06:35:46.997Z"
   },
   {
    "duration": 440,
    "start_time": "2021-12-02T06:35:47.749Z"
   },
   {
    "duration": 10,
    "start_time": "2021-12-02T06:35:48.190Z"
   },
   {
    "duration": 360,
    "start_time": "2021-12-02T06:35:48.202Z"
   },
   {
    "duration": 53,
    "start_time": "2021-12-02T06:35:48.564Z"
   },
   {
    "duration": 69,
    "start_time": "2021-12-02T06:35:48.620Z"
   },
   {
    "duration": 3,
    "start_time": "2021-12-02T06:35:48.691Z"
   },
   {
    "duration": 6,
    "start_time": "2021-12-02T06:35:48.695Z"
   },
   {
    "duration": 10,
    "start_time": "2021-12-02T06:35:48.702Z"
   },
   {
    "duration": 32,
    "start_time": "2021-12-02T06:35:48.713Z"
   },
   {
    "duration": 28,
    "start_time": "2021-12-02T06:35:48.747Z"
   },
   {
    "duration": 109,
    "start_time": "2021-12-02T06:35:48.777Z"
   },
   {
    "duration": 99,
    "start_time": "2021-12-02T06:35:48.888Z"
   },
   {
    "duration": 3,
    "start_time": "2021-12-02T06:35:48.988Z"
   },
   {
    "duration": 10,
    "start_time": "2021-12-02T06:35:48.992Z"
   },
   {
    "duration": 29,
    "start_time": "2021-12-02T06:35:49.004Z"
   },
   {
    "duration": 10,
    "start_time": "2021-12-02T06:35:49.035Z"
   },
   {
    "duration": 9,
    "start_time": "2021-12-02T06:35:49.047Z"
   },
   {
    "duration": 10,
    "start_time": "2021-12-02T06:35:49.058Z"
   },
   {
    "duration": 10,
    "start_time": "2021-12-02T06:35:49.070Z"
   },
   {
    "duration": 9,
    "start_time": "2021-12-02T06:35:49.081Z"
   },
   {
    "duration": 27,
    "start_time": "2021-12-02T06:35:49.091Z"
   },
   {
    "duration": 89,
    "start_time": "2021-12-02T06:35:49.120Z"
   },
   {
    "duration": 40,
    "start_time": "2021-12-02T06:35:49.213Z"
   },
   {
    "duration": 17,
    "start_time": "2021-12-02T06:35:49.255Z"
   },
   {
    "duration": 7,
    "start_time": "2021-12-02T06:35:49.274Z"
   },
   {
    "duration": 18,
    "start_time": "2021-12-02T06:35:49.282Z"
   },
   {
    "duration": 92,
    "start_time": "2021-12-02T06:35:49.301Z"
   },
   {
    "duration": 38,
    "start_time": "2021-12-02T06:35:49.395Z"
   },
   {
    "duration": 18,
    "start_time": "2021-12-02T06:35:49.445Z"
   },
   {
    "duration": 11,
    "start_time": "2021-12-02T06:35:49.465Z"
   },
   {
    "duration": 7,
    "start_time": "2021-12-02T06:35:49.478Z"
   },
   {
    "duration": 15,
    "start_time": "2021-12-02T06:35:49.487Z"
   },
   {
    "duration": 9,
    "start_time": "2021-12-02T06:35:49.503Z"
   },
   {
    "duration": 36,
    "start_time": "2021-12-02T06:35:49.514Z"
   },
   {
    "duration": 7,
    "start_time": "2021-12-02T06:35:49.552Z"
   },
   {
    "duration": 6,
    "start_time": "2021-12-02T06:35:49.561Z"
   },
   {
    "duration": 7,
    "start_time": "2021-12-02T06:35:49.568Z"
   },
   {
    "duration": 9,
    "start_time": "2021-12-02T06:35:49.577Z"
   },
   {
    "duration": 8,
    "start_time": "2021-12-02T06:35:49.588Z"
   },
   {
    "duration": 5,
    "start_time": "2021-12-02T06:35:49.598Z"
   },
   {
    "duration": 9,
    "start_time": "2021-12-02T06:35:49.605Z"
   },
   {
    "duration": 8,
    "start_time": "2021-12-02T06:35:49.644Z"
   },
   {
    "duration": 5,
    "start_time": "2021-12-02T06:35:49.654Z"
   },
   {
    "duration": 30,
    "start_time": "2021-12-02T06:35:49.661Z"
   },
   {
    "duration": 109,
    "start_time": "2021-12-02T06:35:49.693Z"
   },
   {
    "duration": 53,
    "start_time": "2021-12-02T06:35:49.804Z"
   },
   {
    "duration": 7,
    "start_time": "2021-12-02T06:35:49.859Z"
   },
   {
    "duration": 477,
    "start_time": "2021-12-02T06:35:49.868Z"
   },
   {
    "duration": -30,
    "start_time": "2021-12-02T06:35:50.377Z"
   },
   {
    "duration": -39,
    "start_time": "2021-12-02T06:35:50.387Z"
   },
   {
    "duration": -43,
    "start_time": "2021-12-02T06:35:50.392Z"
   },
   {
    "duration": -46,
    "start_time": "2021-12-02T06:35:50.396Z"
   },
   {
    "duration": -48,
    "start_time": "2021-12-02T06:35:50.399Z"
   },
   {
    "duration": -51,
    "start_time": "2021-12-02T06:35:50.403Z"
   },
   {
    "duration": -54,
    "start_time": "2021-12-02T06:35:50.407Z"
   },
   {
    "duration": -57,
    "start_time": "2021-12-02T06:35:50.411Z"
   },
   {
    "duration": -61,
    "start_time": "2021-12-02T06:35:50.416Z"
   },
   {
    "duration": -75,
    "start_time": "2021-12-02T06:35:50.431Z"
   },
   {
    "duration": -78,
    "start_time": "2021-12-02T06:35:50.435Z"
   },
   {
    "duration": -80,
    "start_time": "2021-12-02T06:35:50.438Z"
   },
   {
    "duration": -83,
    "start_time": "2021-12-02T06:35:50.442Z"
   },
   {
    "duration": -85,
    "start_time": "2021-12-02T06:35:50.444Z"
   },
   {
    "duration": -88,
    "start_time": "2021-12-02T06:35:50.448Z"
   },
   {
    "duration": -90,
    "start_time": "2021-12-02T06:35:50.451Z"
   },
   {
    "duration": 5,
    "start_time": "2021-12-02T06:36:48.076Z"
   },
   {
    "duration": 18,
    "start_time": "2021-12-02T06:36:48.842Z"
   },
   {
    "duration": 3,
    "start_time": "2021-12-02T06:36:58.749Z"
   },
   {
    "duration": 11,
    "start_time": "2021-12-02T06:36:58.754Z"
   },
   {
    "duration": 11,
    "start_time": "2021-12-02T06:36:58.767Z"
   },
   {
    "duration": 693,
    "start_time": "2021-12-02T06:36:58.780Z"
   },
   {
    "duration": 457,
    "start_time": "2021-12-02T06:36:59.475Z"
   },
   {
    "duration": 16,
    "start_time": "2021-12-02T06:36:59.933Z"
   },
   {
    "duration": 364,
    "start_time": "2021-12-02T06:36:59.951Z"
   },
   {
    "duration": 52,
    "start_time": "2021-12-02T06:37:00.318Z"
   },
   {
    "duration": 69,
    "start_time": "2021-12-02T06:37:00.372Z"
   },
   {
    "duration": 3,
    "start_time": "2021-12-02T06:37:00.442Z"
   },
   {
    "duration": 24,
    "start_time": "2021-12-02T06:37:00.447Z"
   },
   {
    "duration": 18,
    "start_time": "2021-12-02T06:37:00.472Z"
   },
   {
    "duration": 27,
    "start_time": "2021-12-02T06:37:00.492Z"
   },
   {
    "duration": 40,
    "start_time": "2021-12-02T06:37:00.520Z"
   },
   {
    "duration": 98,
    "start_time": "2021-12-02T06:37:00.561Z"
   },
   {
    "duration": 89,
    "start_time": "2021-12-02T06:37:00.662Z"
   },
   {
    "duration": 3,
    "start_time": "2021-12-02T06:37:00.753Z"
   },
   {
    "duration": 29,
    "start_time": "2021-12-02T06:37:00.757Z"
   },
   {
    "duration": 45,
    "start_time": "2021-12-02T06:37:00.788Z"
   },
   {
    "duration": 14,
    "start_time": "2021-12-02T06:37:00.835Z"
   },
   {
    "duration": 22,
    "start_time": "2021-12-02T06:37:00.851Z"
   },
   {
    "duration": 39,
    "start_time": "2021-12-02T06:37:00.878Z"
   },
   {
    "duration": 29,
    "start_time": "2021-12-02T06:37:00.920Z"
   },
   {
    "duration": 19,
    "start_time": "2021-12-02T06:37:00.951Z"
   },
   {
    "duration": 36,
    "start_time": "2021-12-02T06:37:00.971Z"
   },
   {
    "duration": 72,
    "start_time": "2021-12-02T06:37:01.009Z"
   },
   {
    "duration": 31,
    "start_time": "2021-12-02T06:37:01.083Z"
   },
   {
    "duration": 29,
    "start_time": "2021-12-02T06:37:01.116Z"
   },
   {
    "duration": 7,
    "start_time": "2021-12-02T06:37:01.147Z"
   },
   {
    "duration": 43,
    "start_time": "2021-12-02T06:37:01.156Z"
   },
   {
    "duration": 77,
    "start_time": "2021-12-02T06:37:01.201Z"
   },
   {
    "duration": 40,
    "start_time": "2021-12-02T06:37:01.280Z"
   },
   {
    "duration": 27,
    "start_time": "2021-12-02T06:37:01.322Z"
   },
   {
    "duration": 8,
    "start_time": "2021-12-02T06:37:01.351Z"
   },
   {
    "duration": 49,
    "start_time": "2021-12-02T06:37:01.360Z"
   },
   {
    "duration": 42,
    "start_time": "2021-12-02T06:37:01.410Z"
   },
   {
    "duration": 29,
    "start_time": "2021-12-02T06:37:01.454Z"
   },
   {
    "duration": 49,
    "start_time": "2021-12-02T06:37:01.485Z"
   },
   {
    "duration": 34,
    "start_time": "2021-12-02T06:37:01.536Z"
   },
   {
    "duration": 26,
    "start_time": "2021-12-02T06:37:01.571Z"
   },
   {
    "duration": 25,
    "start_time": "2021-12-02T06:37:01.599Z"
   },
   {
    "duration": 18,
    "start_time": "2021-12-02T06:37:01.626Z"
   },
   {
    "duration": 26,
    "start_time": "2021-12-02T06:37:01.645Z"
   },
   {
    "duration": 13,
    "start_time": "2021-12-02T06:37:01.673Z"
   },
   {
    "duration": 11,
    "start_time": "2021-12-02T06:37:01.688Z"
   },
   {
    "duration": 5,
    "start_time": "2021-12-02T06:37:01.700Z"
   },
   {
    "duration": 8,
    "start_time": "2021-12-02T06:37:01.707Z"
   },
   {
    "duration": 47,
    "start_time": "2021-12-02T06:37:01.717Z"
   },
   {
    "duration": 97,
    "start_time": "2021-12-02T06:37:01.766Z"
   },
   {
    "duration": 40,
    "start_time": "2021-12-02T06:37:01.865Z"
   },
   {
    "duration": 6,
    "start_time": "2021-12-02T06:37:01.906Z"
   },
   {
    "duration": 35,
    "start_time": "2021-12-02T06:37:01.914Z"
   },
   {
    "duration": 6,
    "start_time": "2021-12-02T06:37:01.951Z"
   },
   {
    "duration": 21,
    "start_time": "2021-12-02T06:37:01.959Z"
   },
   {
    "duration": 3,
    "start_time": "2021-12-02T06:37:01.981Z"
   },
   {
    "duration": 24,
    "start_time": "2021-12-02T06:37:01.985Z"
   },
   {
    "duration": 34,
    "start_time": "2021-12-02T06:37:02.011Z"
   },
   {
    "duration": 39,
    "start_time": "2021-12-02T06:37:02.046Z"
   },
   {
    "duration": 20,
    "start_time": "2021-12-02T06:37:02.086Z"
   },
   {
    "duration": 6,
    "start_time": "2021-12-02T06:37:02.107Z"
   },
   {
    "duration": 45,
    "start_time": "2021-12-02T06:37:02.115Z"
   },
   {
    "duration": 6,
    "start_time": "2021-12-02T06:37:02.162Z"
   },
   {
    "duration": 9,
    "start_time": "2021-12-02T06:37:02.169Z"
   },
   {
    "duration": 16,
    "start_time": "2021-12-02T06:37:02.184Z"
   },
   {
    "duration": 3,
    "start_time": "2021-12-02T06:37:02.203Z"
   },
   {
    "duration": 40,
    "start_time": "2021-12-02T06:37:02.207Z"
   },
   {
    "duration": 19,
    "start_time": "2021-12-02T06:37:02.249Z"
   },
   {
    "duration": 25,
    "start_time": "2021-12-02T06:37:05.564Z"
   },
   {
    "duration": 20,
    "start_time": "2021-12-02T06:53:31.506Z"
   },
   {
    "duration": 3,
    "start_time": "2021-12-02T06:53:38.908Z"
   },
   {
    "duration": 7,
    "start_time": "2021-12-02T06:53:38.913Z"
   },
   {
    "duration": 7,
    "start_time": "2021-12-02T06:53:38.922Z"
   },
   {
    "duration": 653,
    "start_time": "2021-12-02T06:53:38.930Z"
   },
   {
    "duration": 429,
    "start_time": "2021-12-02T06:53:39.585Z"
   },
   {
    "duration": 12,
    "start_time": "2021-12-02T06:53:40.016Z"
   },
   {
    "duration": 328,
    "start_time": "2021-12-02T06:53:40.029Z"
   },
   {
    "duration": 48,
    "start_time": "2021-12-02T06:53:40.359Z"
   },
   {
    "duration": 64,
    "start_time": "2021-12-02T06:53:40.409Z"
   },
   {
    "duration": 2,
    "start_time": "2021-12-02T06:53:40.475Z"
   },
   {
    "duration": 5,
    "start_time": "2021-12-02T06:53:40.479Z"
   },
   {
    "duration": 10,
    "start_time": "2021-12-02T06:53:40.485Z"
   },
   {
    "duration": 6,
    "start_time": "2021-12-02T06:53:40.496Z"
   },
   {
    "duration": 55,
    "start_time": "2021-12-02T06:53:40.504Z"
   },
   {
    "duration": 99,
    "start_time": "2021-12-02T06:53:40.561Z"
   },
   {
    "duration": 74,
    "start_time": "2021-12-02T06:53:40.661Z"
   },
   {
    "duration": 7,
    "start_time": "2021-12-02T06:53:40.737Z"
   },
   {
    "duration": 4,
    "start_time": "2021-12-02T06:53:40.746Z"
   },
   {
    "duration": 23,
    "start_time": "2021-12-02T06:53:40.751Z"
   },
   {
    "duration": 7,
    "start_time": "2021-12-02T06:53:40.775Z"
   },
   {
    "duration": 8,
    "start_time": "2021-12-02T06:53:40.785Z"
   },
   {
    "duration": 6,
    "start_time": "2021-12-02T06:53:40.795Z"
   },
   {
    "duration": 10,
    "start_time": "2021-12-02T06:53:40.802Z"
   },
   {
    "duration": 34,
    "start_time": "2021-12-02T06:53:40.814Z"
   },
   {
    "duration": 19,
    "start_time": "2021-12-02T06:53:40.850Z"
   },
   {
    "duration": 80,
    "start_time": "2021-12-02T06:53:40.870Z"
   },
   {
    "duration": 30,
    "start_time": "2021-12-02T06:53:40.952Z"
   },
   {
    "duration": 16,
    "start_time": "2021-12-02T06:53:40.983Z"
   },
   {
    "duration": 5,
    "start_time": "2021-12-02T06:53:41.001Z"
   },
   {
    "duration": 37,
    "start_time": "2021-12-02T06:53:41.008Z"
   },
   {
    "duration": 57,
    "start_time": "2021-12-02T06:53:41.047Z"
   },
   {
    "duration": 48,
    "start_time": "2021-12-02T06:53:41.106Z"
   },
   {
    "duration": 14,
    "start_time": "2021-12-02T06:53:41.155Z"
   },
   {
    "duration": 7,
    "start_time": "2021-12-02T06:53:41.171Z"
   },
   {
    "duration": 6,
    "start_time": "2021-12-02T06:53:41.180Z"
   },
   {
    "duration": 10,
    "start_time": "2021-12-02T06:53:41.188Z"
   },
   {
    "duration": 4,
    "start_time": "2021-12-02T06:53:41.199Z"
   },
   {
    "duration": 7,
    "start_time": "2021-12-02T06:53:41.205Z"
   },
   {
    "duration": 32,
    "start_time": "2021-12-02T06:53:41.214Z"
   },
   {
    "duration": 6,
    "start_time": "2021-12-02T06:53:41.248Z"
   },
   {
    "duration": 5,
    "start_time": "2021-12-02T06:53:41.256Z"
   },
   {
    "duration": 8,
    "start_time": "2021-12-02T06:53:41.262Z"
   },
   {
    "duration": 4,
    "start_time": "2021-12-02T06:53:41.272Z"
   },
   {
    "duration": 5,
    "start_time": "2021-12-02T06:53:41.278Z"
   },
   {
    "duration": 7,
    "start_time": "2021-12-02T06:53:41.284Z"
   },
   {
    "duration": 4,
    "start_time": "2021-12-02T06:53:41.292Z"
   },
   {
    "duration": 5,
    "start_time": "2021-12-02T06:53:41.297Z"
   },
   {
    "duration": 57,
    "start_time": "2021-12-02T06:53:41.303Z"
   },
   {
    "duration": 100,
    "start_time": "2021-12-02T06:53:41.361Z"
   },
   {
    "duration": 40,
    "start_time": "2021-12-02T06:53:41.462Z"
   },
   {
    "duration": 16,
    "start_time": "2021-12-02T06:53:41.504Z"
   },
   {
    "duration": 41,
    "start_time": "2021-12-02T06:53:41.521Z"
   },
   {
    "duration": 19,
    "start_time": "2021-12-02T06:53:44.121Z"
   },
   {
    "duration": 3,
    "start_time": "2021-12-02T07:00:45.465Z"
   },
   {
    "duration": 27,
    "start_time": "2021-12-02T07:00:45.470Z"
   },
   {
    "duration": 14,
    "start_time": "2021-12-02T07:00:45.500Z"
   },
   {
    "duration": 710,
    "start_time": "2021-12-02T07:00:45.517Z"
   },
   {
    "duration": 443,
    "start_time": "2021-12-02T07:00:46.229Z"
   },
   {
    "duration": 11,
    "start_time": "2021-12-02T07:00:46.674Z"
   },
   {
    "duration": 368,
    "start_time": "2021-12-02T07:00:46.687Z"
   },
   {
    "duration": 52,
    "start_time": "2021-12-02T07:00:47.057Z"
   },
   {
    "duration": 76,
    "start_time": "2021-12-02T07:00:47.111Z"
   },
   {
    "duration": 2,
    "start_time": "2021-12-02T07:00:47.189Z"
   },
   {
    "duration": 67,
    "start_time": "2021-12-02T07:00:47.193Z"
   },
   {
    "duration": 34,
    "start_time": "2021-12-02T07:00:47.262Z"
   },
   {
    "duration": 57,
    "start_time": "2021-12-02T07:00:47.298Z"
   },
   {
    "duration": 49,
    "start_time": "2021-12-02T07:00:47.357Z"
   },
   {
    "duration": 107,
    "start_time": "2021-12-02T07:00:47.408Z"
   },
   {
    "duration": 97,
    "start_time": "2021-12-02T07:00:47.518Z"
   },
   {
    "duration": 2,
    "start_time": "2021-12-02T07:00:47.616Z"
   },
   {
    "duration": 52,
    "start_time": "2021-12-02T07:00:47.620Z"
   },
   {
    "duration": 46,
    "start_time": "2021-12-02T07:00:47.676Z"
   },
   {
    "duration": 15,
    "start_time": "2021-12-02T07:00:47.724Z"
   },
   {
    "duration": 26,
    "start_time": "2021-12-02T07:00:47.740Z"
   },
   {
    "duration": 33,
    "start_time": "2021-12-02T07:00:47.768Z"
   },
   {
    "duration": 35,
    "start_time": "2021-12-02T07:00:47.802Z"
   },
   {
    "duration": 24,
    "start_time": "2021-12-02T07:00:47.839Z"
   },
   {
    "duration": 47,
    "start_time": "2021-12-02T07:00:47.865Z"
   },
   {
    "duration": 70,
    "start_time": "2021-12-02T07:00:47.914Z"
   },
   {
    "duration": 31,
    "start_time": "2021-12-02T07:00:47.985Z"
   },
   {
    "duration": 43,
    "start_time": "2021-12-02T07:00:48.017Z"
   },
   {
    "duration": 21,
    "start_time": "2021-12-02T07:00:48.061Z"
   },
   {
    "duration": 53,
    "start_time": "2021-12-02T07:00:48.084Z"
   },
   {
    "duration": 67,
    "start_time": "2021-12-02T07:00:48.138Z"
   },
   {
    "duration": 34,
    "start_time": "2021-12-02T07:00:48.207Z"
   },
   {
    "duration": 22,
    "start_time": "2021-12-02T07:00:48.243Z"
   },
   {
    "duration": 35,
    "start_time": "2021-12-02T07:00:48.266Z"
   },
   {
    "duration": 48,
    "start_time": "2021-12-02T07:00:48.302Z"
   },
   {
    "duration": 38,
    "start_time": "2021-12-02T07:00:48.351Z"
   },
   {
    "duration": 41,
    "start_time": "2021-12-02T07:00:48.391Z"
   },
   {
    "duration": 51,
    "start_time": "2021-12-02T07:00:48.434Z"
   },
   {
    "duration": 23,
    "start_time": "2021-12-02T07:00:48.487Z"
   },
   {
    "duration": 22,
    "start_time": "2021-12-02T07:00:48.512Z"
   },
   {
    "duration": 34,
    "start_time": "2021-12-02T07:00:48.536Z"
   },
   {
    "duration": 32,
    "start_time": "2021-12-02T07:00:48.572Z"
   },
   {
    "duration": 24,
    "start_time": "2021-12-02T07:00:48.606Z"
   },
   {
    "duration": 40,
    "start_time": "2021-12-02T07:00:48.632Z"
   },
   {
    "duration": 34,
    "start_time": "2021-12-02T07:00:48.673Z"
   },
   {
    "duration": 40,
    "start_time": "2021-12-02T07:00:48.709Z"
   },
   {
    "duration": 33,
    "start_time": "2021-12-02T07:00:48.751Z"
   },
   {
    "duration": 46,
    "start_time": "2021-12-02T07:00:48.785Z"
   },
   {
    "duration": 96,
    "start_time": "2021-12-02T07:00:48.833Z"
   },
   {
    "duration": 44,
    "start_time": "2021-12-02T07:00:48.931Z"
   },
   {
    "duration": 23,
    "start_time": "2021-12-02T07:00:48.976Z"
   },
   {
    "duration": 36,
    "start_time": "2021-12-02T07:00:49.001Z"
   },
   {
    "duration": 39,
    "start_time": "2021-12-02T07:00:49.039Z"
   },
   {
    "duration": 69,
    "start_time": "2021-12-02T07:00:49.080Z"
   },
   {
    "duration": 20,
    "start_time": "2021-12-02T07:00:49.153Z"
   },
   {
    "duration": 7,
    "start_time": "2021-12-02T07:00:51.243Z"
   },
   {
    "duration": 7,
    "start_time": "2021-12-02T07:01:19.121Z"
   },
   {
    "duration": 7,
    "start_time": "2021-12-02T07:03:36.801Z"
   },
   {
    "duration": 9,
    "start_time": "2021-12-02T07:03:37.908Z"
   },
   {
    "duration": 25,
    "start_time": "2021-12-02T07:03:40.571Z"
   },
   {
    "duration": 7023,
    "start_time": "2021-12-02T07:08:05.643Z"
   },
   {
    "duration": 3,
    "start_time": "2021-12-02T07:08:17.556Z"
   },
   {
    "duration": 4,
    "start_time": "2021-12-02T07:08:17.564Z"
   },
   {
    "duration": 4,
    "start_time": "2021-12-02T07:08:17.569Z"
   },
   {
    "duration": 669,
    "start_time": "2021-12-02T07:08:17.575Z"
   },
   {
    "duration": 419,
    "start_time": "2021-12-02T07:08:18.246Z"
   },
   {
    "duration": 10,
    "start_time": "2021-12-02T07:08:18.667Z"
   },
   {
    "duration": 323,
    "start_time": "2021-12-02T07:08:18.679Z"
   },
   {
    "duration": 56,
    "start_time": "2021-12-02T07:08:19.004Z"
   },
   {
    "duration": 67,
    "start_time": "2021-12-02T07:08:19.062Z"
   },
   {
    "duration": 3,
    "start_time": "2021-12-02T07:08:19.130Z"
   },
   {
    "duration": 11,
    "start_time": "2021-12-02T07:08:19.135Z"
   },
   {
    "duration": 8,
    "start_time": "2021-12-02T07:08:19.148Z"
   },
   {
    "duration": 8,
    "start_time": "2021-12-02T07:08:19.158Z"
   },
   {
    "duration": 34,
    "start_time": "2021-12-02T07:08:19.167Z"
   },
   {
    "duration": 104,
    "start_time": "2021-12-02T07:08:19.204Z"
   },
   {
    "duration": 94,
    "start_time": "2021-12-02T07:08:19.311Z"
   },
   {
    "duration": 2,
    "start_time": "2021-12-02T07:08:19.407Z"
   },
   {
    "duration": 17,
    "start_time": "2021-12-02T07:08:19.410Z"
   },
   {
    "duration": 38,
    "start_time": "2021-12-02T07:08:19.429Z"
   },
   {
    "duration": 8,
    "start_time": "2021-12-02T07:08:19.468Z"
   },
   {
    "duration": 20,
    "start_time": "2021-12-02T07:08:19.478Z"
   },
   {
    "duration": 17,
    "start_time": "2021-12-02T07:08:19.500Z"
   },
   {
    "duration": 28,
    "start_time": "2021-12-02T07:08:19.519Z"
   },
   {
    "duration": 6,
    "start_time": "2021-12-02T07:08:19.549Z"
   },
   {
    "duration": 21,
    "start_time": "2021-12-02T07:08:19.557Z"
   },
   {
    "duration": 76,
    "start_time": "2021-12-02T07:08:19.580Z"
   },
   {
    "duration": 29,
    "start_time": "2021-12-02T07:08:19.657Z"
   },
   {
    "duration": 17,
    "start_time": "2021-12-02T07:08:19.688Z"
   },
   {
    "duration": 7,
    "start_time": "2021-12-02T07:08:19.707Z"
   },
   {
    "duration": 39,
    "start_time": "2021-12-02T07:08:19.715Z"
   },
   {
    "duration": 56,
    "start_time": "2021-12-02T07:08:19.756Z"
   },
   {
    "duration": 50,
    "start_time": "2021-12-02T07:08:19.813Z"
   },
   {
    "duration": 14,
    "start_time": "2021-12-02T07:08:19.865Z"
   },
   {
    "duration": 19,
    "start_time": "2021-12-02T07:08:19.880Z"
   },
   {
    "duration": 23,
    "start_time": "2021-12-02T07:08:19.901Z"
   },
   {
    "duration": 33,
    "start_time": "2021-12-02T07:08:19.926Z"
   },
   {
    "duration": 23,
    "start_time": "2021-12-02T07:08:19.960Z"
   },
   {
    "duration": 24,
    "start_time": "2021-12-02T07:08:19.985Z"
   },
   {
    "duration": 25,
    "start_time": "2021-12-02T07:08:20.013Z"
   },
   {
    "duration": 20,
    "start_time": "2021-12-02T07:08:20.040Z"
   },
   {
    "duration": 23,
    "start_time": "2021-12-02T07:08:20.061Z"
   },
   {
    "duration": 27,
    "start_time": "2021-12-02T07:08:20.086Z"
   },
   {
    "duration": 25,
    "start_time": "2021-12-02T07:08:20.115Z"
   },
   {
    "duration": 25,
    "start_time": "2021-12-02T07:08:20.142Z"
   },
   {
    "duration": 27,
    "start_time": "2021-12-02T07:08:20.169Z"
   },
   {
    "duration": 34,
    "start_time": "2021-12-02T07:08:20.197Z"
   },
   {
    "duration": 23,
    "start_time": "2021-12-02T07:08:20.233Z"
   },
   {
    "duration": 26,
    "start_time": "2021-12-02T07:08:20.258Z"
   },
   {
    "duration": 95,
    "start_time": "2021-12-02T07:08:20.286Z"
   },
   {
    "duration": 40,
    "start_time": "2021-12-02T07:08:20.382Z"
   },
   {
    "duration": 29,
    "start_time": "2021-12-02T07:08:20.425Z"
   },
   {
    "duration": 21,
    "start_time": "2021-12-02T07:08:20.455Z"
   },
   {
    "duration": 18,
    "start_time": "2021-12-02T07:08:20.477Z"
   },
   {
    "duration": 56,
    "start_time": "2021-12-02T07:08:20.497Z"
   },
   {
    "duration": 19,
    "start_time": "2021-12-02T07:08:20.554Z"
   },
   {
    "duration": 5,
    "start_time": "2021-12-02T07:08:20.575Z"
   },
   {
    "duration": 15,
    "start_time": "2021-12-02T07:08:20.581Z"
   },
   {
    "duration": 5,
    "start_time": "2021-12-02T07:08:20.598Z"
   },
   {
    "duration": 6,
    "start_time": "2021-12-02T07:08:20.604Z"
   },
   {
    "duration": 41,
    "start_time": "2021-12-02T07:08:20.611Z"
   },
   {
    "duration": 6,
    "start_time": "2021-12-02T07:08:20.654Z"
   },
   {
    "duration": 7,
    "start_time": "2021-12-02T07:08:20.662Z"
   },
   {
    "duration": 18,
    "start_time": "2021-12-02T07:08:23.330Z"
   },
   {
    "duration": 23,
    "start_time": "2021-12-02T07:14:39.810Z"
   },
   {
    "duration": 22,
    "start_time": "2021-12-02T07:15:01.547Z"
   },
   {
    "duration": 17,
    "start_time": "2021-12-02T07:15:23.455Z"
   },
   {
    "duration": 2,
    "start_time": "2021-12-02T07:15:28.631Z"
   },
   {
    "duration": 5,
    "start_time": "2021-12-02T07:15:28.635Z"
   },
   {
    "duration": 9,
    "start_time": "2021-12-02T07:15:28.642Z"
   },
   {
    "duration": 638,
    "start_time": "2021-12-02T07:15:28.653Z"
   },
   {
    "duration": 440,
    "start_time": "2021-12-02T07:15:29.293Z"
   },
   {
    "duration": 16,
    "start_time": "2021-12-02T07:15:29.734Z"
   },
   {
    "duration": 336,
    "start_time": "2021-12-02T07:15:29.753Z"
   },
   {
    "duration": 60,
    "start_time": "2021-12-02T07:15:30.091Z"
   },
   {
    "duration": 69,
    "start_time": "2021-12-02T07:15:30.153Z"
   },
   {
    "duration": 3,
    "start_time": "2021-12-02T07:15:30.225Z"
   },
   {
    "duration": 16,
    "start_time": "2021-12-02T07:15:30.230Z"
   },
   {
    "duration": 10,
    "start_time": "2021-12-02T07:15:30.248Z"
   },
   {
    "duration": 7,
    "start_time": "2021-12-02T07:15:30.259Z"
   },
   {
    "duration": 39,
    "start_time": "2021-12-02T07:15:30.268Z"
   },
   {
    "duration": 107,
    "start_time": "2021-12-02T07:15:30.309Z"
   },
   {
    "duration": 94,
    "start_time": "2021-12-02T07:15:30.418Z"
   },
   {
    "duration": 3,
    "start_time": "2021-12-02T07:15:30.513Z"
   },
   {
    "duration": 4,
    "start_time": "2021-12-02T07:15:30.521Z"
   },
   {
    "duration": 35,
    "start_time": "2021-12-02T07:15:30.527Z"
   },
   {
    "duration": 10,
    "start_time": "2021-12-02T07:15:30.564Z"
   },
   {
    "duration": 10,
    "start_time": "2021-12-02T07:15:30.576Z"
   },
   {
    "duration": 15,
    "start_time": "2021-12-02T07:15:30.588Z"
   },
   {
    "duration": 12,
    "start_time": "2021-12-02T07:15:30.605Z"
   },
   {
    "duration": 30,
    "start_time": "2021-12-02T07:15:30.619Z"
   },
   {
    "duration": 30,
    "start_time": "2021-12-02T07:15:30.651Z"
   },
   {
    "duration": 84,
    "start_time": "2021-12-02T07:15:30.683Z"
   },
   {
    "duration": 33,
    "start_time": "2021-12-02T07:15:30.769Z"
   },
   {
    "duration": 17,
    "start_time": "2021-12-02T07:15:30.803Z"
   },
   {
    "duration": 26,
    "start_time": "2021-12-02T07:15:30.822Z"
   },
   {
    "duration": 29,
    "start_time": "2021-12-02T07:15:30.850Z"
   },
   {
    "duration": 58,
    "start_time": "2021-12-02T07:15:30.881Z"
   },
   {
    "duration": 38,
    "start_time": "2021-12-02T07:15:30.940Z"
   },
   {
    "duration": 24,
    "start_time": "2021-12-02T07:15:30.979Z"
   },
   {
    "duration": 14,
    "start_time": "2021-12-02T07:15:31.005Z"
   },
   {
    "duration": 24,
    "start_time": "2021-12-02T07:15:31.021Z"
   },
   {
    "duration": 44,
    "start_time": "2021-12-02T07:15:31.047Z"
   },
   {
    "duration": 6,
    "start_time": "2021-12-02T07:15:31.093Z"
   },
   {
    "duration": 16,
    "start_time": "2021-12-02T07:15:31.101Z"
   },
   {
    "duration": 11,
    "start_time": "2021-12-02T07:15:31.119Z"
   },
   {
    "duration": 12,
    "start_time": "2021-12-02T07:15:31.132Z"
   },
   {
    "duration": 8,
    "start_time": "2021-12-02T07:15:31.145Z"
   },
   {
    "duration": 11,
    "start_time": "2021-12-02T07:15:31.154Z"
   },
   {
    "duration": 23,
    "start_time": "2021-12-02T07:15:31.167Z"
   },
   {
    "duration": 12,
    "start_time": "2021-12-02T07:15:31.191Z"
   },
   {
    "duration": 24,
    "start_time": "2021-12-02T07:15:31.205Z"
   },
   {
    "duration": 10,
    "start_time": "2021-12-02T07:15:31.230Z"
   },
   {
    "duration": 9,
    "start_time": "2021-12-02T07:15:31.242Z"
   },
   {
    "duration": 41,
    "start_time": "2021-12-02T07:15:31.253Z"
   },
   {
    "duration": 91,
    "start_time": "2021-12-02T07:15:31.295Z"
   },
   {
    "duration": 44,
    "start_time": "2021-12-02T07:15:31.388Z"
   },
   {
    "duration": 18,
    "start_time": "2021-12-02T07:15:31.444Z"
   },
   {
    "duration": 20,
    "start_time": "2021-12-02T07:15:31.464Z"
   },
   {
    "duration": 19,
    "start_time": "2021-12-02T07:15:31.486Z"
   },
   {
    "duration": 70,
    "start_time": "2021-12-02T07:15:31.507Z"
   },
   {
    "duration": 22,
    "start_time": "2021-12-02T07:15:31.578Z"
   },
   {
    "duration": 6,
    "start_time": "2021-12-02T07:15:31.601Z"
   },
   {
    "duration": 37,
    "start_time": "2021-12-02T07:15:31.609Z"
   },
   {
    "duration": 9,
    "start_time": "2021-12-02T07:15:31.648Z"
   },
   {
    "duration": 6,
    "start_time": "2021-12-02T07:15:31.658Z"
   },
   {
    "duration": 16,
    "start_time": "2021-12-02T07:15:31.666Z"
   },
   {
    "duration": 5,
    "start_time": "2021-12-02T07:15:31.684Z"
   },
   {
    "duration": 18,
    "start_time": "2021-12-02T07:15:31.691Z"
   },
   {
    "duration": 20,
    "start_time": "2021-12-02T07:15:31.711Z"
   },
   {
    "duration": 10,
    "start_time": "2021-12-02T07:15:31.745Z"
   },
   {
    "duration": 9,
    "start_time": "2021-12-02T07:15:35.052Z"
   },
   {
    "duration": 17,
    "start_time": "2021-12-02T07:15:35.716Z"
   },
   {
    "duration": 3,
    "start_time": "2021-12-02T07:15:43.196Z"
   },
   {
    "duration": 26,
    "start_time": "2021-12-02T07:15:43.201Z"
   },
   {
    "duration": 22,
    "start_time": "2021-12-02T07:15:43.229Z"
   },
   {
    "duration": 660,
    "start_time": "2021-12-02T07:15:43.253Z"
   },
   {
    "duration": 426,
    "start_time": "2021-12-02T07:15:43.915Z"
   },
   {
    "duration": 12,
    "start_time": "2021-12-02T07:15:44.344Z"
   },
   {
    "duration": 389,
    "start_time": "2021-12-02T07:15:44.358Z"
   },
   {
    "duration": 56,
    "start_time": "2021-12-02T07:15:44.750Z"
   },
   {
    "duration": 67,
    "start_time": "2021-12-02T07:15:44.808Z"
   },
   {
    "duration": 3,
    "start_time": "2021-12-02T07:15:44.876Z"
   },
   {
    "duration": 7,
    "start_time": "2021-12-02T07:15:44.881Z"
   },
   {
    "duration": 12,
    "start_time": "2021-12-02T07:15:44.889Z"
   },
   {
    "duration": 8,
    "start_time": "2021-12-02T07:15:44.902Z"
   },
   {
    "duration": 41,
    "start_time": "2021-12-02T07:15:44.912Z"
   },
   {
    "duration": 99,
    "start_time": "2021-12-02T07:15:44.955Z"
   },
   {
    "duration": 90,
    "start_time": "2021-12-02T07:15:45.055Z"
   },
   {
    "duration": 2,
    "start_time": "2021-12-02T07:15:45.146Z"
   },
   {
    "duration": 5,
    "start_time": "2021-12-02T07:15:45.150Z"
   },
   {
    "duration": 23,
    "start_time": "2021-12-02T07:15:45.156Z"
   },
   {
    "duration": 8,
    "start_time": "2021-12-02T07:15:45.181Z"
   },
   {
    "duration": 9,
    "start_time": "2021-12-02T07:15:45.191Z"
   },
   {
    "duration": 8,
    "start_time": "2021-12-02T07:15:45.201Z"
   },
   {
    "duration": 35,
    "start_time": "2021-12-02T07:15:45.214Z"
   },
   {
    "duration": 5,
    "start_time": "2021-12-02T07:15:45.251Z"
   },
   {
    "duration": 24,
    "start_time": "2021-12-02T07:15:45.258Z"
   },
   {
    "duration": 93,
    "start_time": "2021-12-02T07:15:45.284Z"
   },
   {
    "duration": 32,
    "start_time": "2021-12-02T07:15:45.379Z"
   },
   {
    "duration": 34,
    "start_time": "2021-12-02T07:15:45.412Z"
   },
   {
    "duration": 6,
    "start_time": "2021-12-02T07:15:45.448Z"
   },
   {
    "duration": 21,
    "start_time": "2021-12-02T07:15:45.455Z"
   },
   {
    "duration": 67,
    "start_time": "2021-12-02T07:15:45.477Z"
   },
   {
    "duration": 35,
    "start_time": "2021-12-02T07:15:45.546Z"
   },
   {
    "duration": 15,
    "start_time": "2021-12-02T07:15:45.583Z"
   },
   {
    "duration": 8,
    "start_time": "2021-12-02T07:15:45.600Z"
   },
   {
    "duration": 35,
    "start_time": "2021-12-02T07:15:45.609Z"
   },
   {
    "duration": 9,
    "start_time": "2021-12-02T07:15:45.646Z"
   },
   {
    "duration": 12,
    "start_time": "2021-12-02T07:15:45.657Z"
   },
   {
    "duration": 8,
    "start_time": "2021-12-02T07:15:45.671Z"
   },
   {
    "duration": 11,
    "start_time": "2021-12-02T07:15:45.681Z"
   },
   {
    "duration": 17,
    "start_time": "2021-12-02T07:15:45.694Z"
   },
   {
    "duration": 10,
    "start_time": "2021-12-02T07:15:45.712Z"
   },
   {
    "duration": 22,
    "start_time": "2021-12-02T07:15:45.723Z"
   },
   {
    "duration": 5,
    "start_time": "2021-12-02T07:15:45.746Z"
   },
   {
    "duration": 19,
    "start_time": "2021-12-02T07:15:45.753Z"
   },
   {
    "duration": 20,
    "start_time": "2021-12-02T07:15:45.773Z"
   },
   {
    "duration": 5,
    "start_time": "2021-12-02T07:15:45.794Z"
   },
   {
    "duration": 8,
    "start_time": "2021-12-02T07:15:45.801Z"
   },
   {
    "duration": 33,
    "start_time": "2021-12-02T07:15:45.811Z"
   },
   {
    "duration": 99,
    "start_time": "2021-12-02T07:15:45.846Z"
   },
   {
    "duration": 39,
    "start_time": "2021-12-02T07:15:45.947Z"
   },
   {
    "duration": 17,
    "start_time": "2021-12-02T07:15:45.987Z"
   },
   {
    "duration": 38,
    "start_time": "2021-12-02T07:15:46.006Z"
   },
   {
    "duration": 18,
    "start_time": "2021-12-02T07:15:46.046Z"
   },
   {
    "duration": 34,
    "start_time": "2021-12-02T07:15:46.066Z"
   },
   {
    "duration": 20,
    "start_time": "2021-12-02T07:15:46.102Z"
   },
   {
    "duration": 7,
    "start_time": "2021-12-02T07:15:46.145Z"
   },
   {
    "duration": 16,
    "start_time": "2021-12-02T07:15:46.153Z"
   },
   {
    "duration": 4,
    "start_time": "2021-12-02T07:15:46.171Z"
   },
   {
    "duration": 6,
    "start_time": "2021-12-02T07:15:46.177Z"
   },
   {
    "duration": 17,
    "start_time": "2021-12-02T07:15:46.184Z"
   },
   {
    "duration": 5,
    "start_time": "2021-12-02T07:15:46.203Z"
   },
   {
    "duration": 40,
    "start_time": "2021-12-02T07:15:46.210Z"
   },
   {
    "duration": 17,
    "start_time": "2021-12-02T07:15:46.252Z"
   },
   {
    "duration": 9,
    "start_time": "2021-12-02T07:15:46.271Z"
   },
   {
    "duration": 15,
    "start_time": "2021-12-02T07:15:49.228Z"
   },
   {
    "duration": 3,
    "start_time": "2021-12-02T07:18:55.181Z"
   },
   {
    "duration": 3,
    "start_time": "2021-12-02T07:19:14.165Z"
   },
   {
    "duration": 4,
    "start_time": "2021-12-02T07:20:37.965Z"
   },
   {
    "duration": 11,
    "start_time": "2021-12-02T07:23:52.161Z"
   },
   {
    "duration": 17,
    "start_time": "2021-12-02T07:24:11.024Z"
   },
   {
    "duration": 15,
    "start_time": "2021-12-02T07:24:29.827Z"
   },
   {
    "duration": 3,
    "start_time": "2021-12-02T07:25:43.525Z"
   },
   {
    "duration": 46,
    "start_time": "2021-12-02T07:26:43.375Z"
   },
   {
    "duration": 4,
    "start_time": "2021-12-02T07:32:15.593Z"
   },
   {
    "duration": 4,
    "start_time": "2021-12-02T07:32:38.485Z"
   },
   {
    "duration": 4,
    "start_time": "2021-12-02T07:33:04.109Z"
   },
   {
    "duration": 7,
    "start_time": "2021-12-02T07:38:58.003Z"
   },
   {
    "duration": 6,
    "start_time": "2021-12-02T07:39:10.796Z"
   },
   {
    "duration": 8,
    "start_time": "2021-12-02T07:42:55.369Z"
   },
   {
    "duration": 2,
    "start_time": "2021-12-02T07:44:50.470Z"
   },
   {
    "duration": 6,
    "start_time": "2021-12-02T07:44:50.474Z"
   },
   {
    "duration": 15,
    "start_time": "2021-12-02T07:44:50.482Z"
   },
   {
    "duration": 625,
    "start_time": "2021-12-02T07:44:50.499Z"
   },
   {
    "duration": 438,
    "start_time": "2021-12-02T07:44:51.126Z"
   },
   {
    "duration": 12,
    "start_time": "2021-12-02T07:44:51.565Z"
   },
   {
    "duration": 347,
    "start_time": "2021-12-02T07:44:51.579Z"
   },
   {
    "duration": 55,
    "start_time": "2021-12-02T07:44:51.928Z"
   },
   {
    "duration": 76,
    "start_time": "2021-12-02T07:44:51.985Z"
   },
   {
    "duration": 3,
    "start_time": "2021-12-02T07:44:52.063Z"
   },
   {
    "duration": 13,
    "start_time": "2021-12-02T07:44:52.067Z"
   },
   {
    "duration": 18,
    "start_time": "2021-12-02T07:44:52.081Z"
   },
   {
    "duration": 13,
    "start_time": "2021-12-02T07:44:52.101Z"
   },
   {
    "duration": 35,
    "start_time": "2021-12-02T07:44:52.115Z"
   },
   {
    "duration": 103,
    "start_time": "2021-12-02T07:44:52.152Z"
   },
   {
    "duration": 100,
    "start_time": "2021-12-02T07:44:52.257Z"
   },
   {
    "duration": 3,
    "start_time": "2021-12-02T07:44:52.359Z"
   },
   {
    "duration": 12,
    "start_time": "2021-12-02T07:44:52.367Z"
   },
   {
    "duration": 39,
    "start_time": "2021-12-02T07:44:52.381Z"
   },
   {
    "duration": 9,
    "start_time": "2021-12-02T07:44:52.422Z"
   },
   {
    "duration": 24,
    "start_time": "2021-12-02T07:44:52.433Z"
   },
   {
    "duration": 19,
    "start_time": "2021-12-02T07:44:52.459Z"
   },
   {
    "duration": 30,
    "start_time": "2021-12-02T07:44:52.479Z"
   },
   {
    "duration": 9,
    "start_time": "2021-12-02T07:44:52.512Z"
   },
   {
    "duration": 31,
    "start_time": "2021-12-02T07:44:52.523Z"
   },
   {
    "duration": 76,
    "start_time": "2021-12-02T07:44:52.555Z"
   },
   {
    "duration": 37,
    "start_time": "2021-12-02T07:44:52.644Z"
   },
   {
    "duration": 19,
    "start_time": "2021-12-02T07:44:52.683Z"
   },
   {
    "duration": 9,
    "start_time": "2021-12-02T07:44:52.704Z"
   },
   {
    "duration": 45,
    "start_time": "2021-12-02T07:44:52.715Z"
   },
   {
    "duration": 58,
    "start_time": "2021-12-02T07:44:52.761Z"
   },
   {
    "duration": 54,
    "start_time": "2021-12-02T07:44:52.821Z"
   },
   {
    "duration": 14,
    "start_time": "2021-12-02T07:44:52.877Z"
   },
   {
    "duration": 24,
    "start_time": "2021-12-02T07:44:52.892Z"
   },
   {
    "duration": 37,
    "start_time": "2021-12-02T07:44:52.917Z"
   },
   {
    "duration": 29,
    "start_time": "2021-12-02T07:44:52.955Z"
   },
   {
    "duration": 9,
    "start_time": "2021-12-02T07:44:52.985Z"
   },
   {
    "duration": 34,
    "start_time": "2021-12-02T07:44:52.995Z"
   },
   {
    "duration": 22,
    "start_time": "2021-12-02T07:44:53.031Z"
   },
   {
    "duration": 29,
    "start_time": "2021-12-02T07:44:53.054Z"
   },
   {
    "duration": 19,
    "start_time": "2021-12-02T07:44:53.085Z"
   },
   {
    "duration": 39,
    "start_time": "2021-12-02T07:44:53.105Z"
   },
   {
    "duration": 24,
    "start_time": "2021-12-02T07:44:53.146Z"
   },
   {
    "duration": 34,
    "start_time": "2021-12-02T07:44:53.172Z"
   },
   {
    "duration": 29,
    "start_time": "2021-12-02T07:44:53.207Z"
   },
   {
    "duration": 23,
    "start_time": "2021-12-02T07:44:53.238Z"
   },
   {
    "duration": 19,
    "start_time": "2021-12-02T07:44:53.263Z"
   },
   {
    "duration": 45,
    "start_time": "2021-12-02T07:44:53.284Z"
   },
   {
    "duration": 99,
    "start_time": "2021-12-02T07:44:53.330Z"
   },
   {
    "duration": 48,
    "start_time": "2021-12-02T07:44:53.431Z"
   },
   {
    "duration": 17,
    "start_time": "2021-12-02T07:45:24.420Z"
   },
   {
    "duration": 9,
    "start_time": "2021-12-02T07:45:27.425Z"
   },
   {
    "duration": 4,
    "start_time": "2021-12-02T07:58:30.525Z"
   },
   {
    "duration": 4,
    "start_time": "2021-12-02T07:59:56.529Z"
   },
   {
    "duration": 4,
    "start_time": "2021-12-02T08:07:28.729Z"
   },
   {
    "duration": 4,
    "start_time": "2021-12-02T08:08:36.286Z"
   },
   {
    "duration": 4,
    "start_time": "2021-12-02T08:08:44.742Z"
   },
   {
    "duration": 4,
    "start_time": "2021-12-02T08:09:13.452Z"
   },
   {
    "duration": 4,
    "start_time": "2021-12-02T08:11:41.770Z"
   },
   {
    "duration": 4,
    "start_time": "2021-12-02T08:11:43.382Z"
   },
   {
    "duration": 4,
    "start_time": "2021-12-02T08:12:51.524Z"
   },
   {
    "duration": 6928,
    "start_time": "2021-12-02T08:13:01.570Z"
   },
   {
    "duration": 3,
    "start_time": "2021-12-02T08:13:42.551Z"
   },
   {
    "duration": 5,
    "start_time": "2021-12-02T08:13:42.556Z"
   },
   {
    "duration": 7,
    "start_time": "2021-12-02T08:13:42.563Z"
   },
   {
    "duration": 693,
    "start_time": "2021-12-02T08:13:42.571Z"
   },
   {
    "duration": 423,
    "start_time": "2021-12-02T08:13:43.266Z"
   },
   {
    "duration": 11,
    "start_time": "2021-12-02T08:13:43.691Z"
   },
   {
    "duration": 341,
    "start_time": "2021-12-02T08:13:43.704Z"
   },
   {
    "duration": 51,
    "start_time": "2021-12-02T08:13:44.047Z"
   },
   {
    "duration": 66,
    "start_time": "2021-12-02T08:13:44.100Z"
   },
   {
    "duration": 2,
    "start_time": "2021-12-02T08:13:44.168Z"
   },
   {
    "duration": 5,
    "start_time": "2021-12-02T08:13:44.172Z"
   },
   {
    "duration": 9,
    "start_time": "2021-12-02T08:13:44.178Z"
   },
   {
    "duration": 6,
    "start_time": "2021-12-02T08:13:44.189Z"
   },
   {
    "duration": 46,
    "start_time": "2021-12-02T08:13:44.198Z"
   },
   {
    "duration": 100,
    "start_time": "2021-12-02T08:13:44.247Z"
   },
   {
    "duration": 84,
    "start_time": "2021-12-02T08:13:44.348Z"
   },
   {
    "duration": 3,
    "start_time": "2021-12-02T08:13:44.445Z"
   },
   {
    "duration": 5,
    "start_time": "2021-12-02T08:13:44.450Z"
   },
   {
    "duration": 27,
    "start_time": "2021-12-02T08:13:44.456Z"
   },
   {
    "duration": 10,
    "start_time": "2021-12-02T08:13:44.484Z"
   },
   {
    "duration": 9,
    "start_time": "2021-12-02T08:13:44.496Z"
   },
   {
    "duration": 41,
    "start_time": "2021-12-02T08:13:44.507Z"
   },
   {
    "duration": 12,
    "start_time": "2021-12-02T08:13:44.550Z"
   },
   {
    "duration": 18,
    "start_time": "2021-12-02T08:13:44.564Z"
   },
   {
    "duration": 23,
    "start_time": "2021-12-02T08:13:44.584Z"
   },
   {
    "duration": 97,
    "start_time": "2021-12-02T08:13:44.609Z"
   },
   {
    "duration": 41,
    "start_time": "2021-12-02T08:13:44.708Z"
   },
   {
    "duration": 18,
    "start_time": "2021-12-02T08:13:44.751Z"
   },
   {
    "duration": 8,
    "start_time": "2021-12-02T08:13:44.770Z"
   },
   {
    "duration": 19,
    "start_time": "2021-12-02T08:13:44.780Z"
   },
   {
    "duration": 88,
    "start_time": "2021-12-02T08:13:44.801Z"
   },
   {
    "duration": 35,
    "start_time": "2021-12-02T08:13:44.891Z"
   },
   {
    "duration": 29,
    "start_time": "2021-12-02T08:13:44.928Z"
   },
   {
    "duration": 10,
    "start_time": "2021-12-02T08:13:44.959Z"
   },
   {
    "duration": 7,
    "start_time": "2021-12-02T08:13:44.971Z"
   },
   {
    "duration": 11,
    "start_time": "2021-12-02T08:13:44.980Z"
   },
   {
    "duration": 5,
    "start_time": "2021-12-02T08:13:44.992Z"
   },
   {
    "duration": 42,
    "start_time": "2021-12-02T08:13:45.002Z"
   },
   {
    "duration": 3,
    "start_time": "2021-12-02T08:13:45.048Z"
   },
   {
    "duration": 10,
    "start_time": "2021-12-02T08:13:45.053Z"
   },
   {
    "duration": 11,
    "start_time": "2021-12-02T08:13:45.064Z"
   },
   {
    "duration": 12,
    "start_time": "2021-12-02T08:13:45.077Z"
   },
   {
    "duration": 5,
    "start_time": "2021-12-02T08:13:45.091Z"
   },
   {
    "duration": 6,
    "start_time": "2021-12-02T08:13:45.097Z"
   },
   {
    "duration": 7,
    "start_time": "2021-12-02T08:13:45.104Z"
   },
   {
    "duration": 4,
    "start_time": "2021-12-02T08:13:45.113Z"
   },
   {
    "duration": 24,
    "start_time": "2021-12-02T08:13:45.119Z"
   },
   {
    "duration": 28,
    "start_time": "2021-12-02T08:13:45.145Z"
   },
   {
    "duration": 109,
    "start_time": "2021-12-02T08:13:45.175Z"
   },
   {
    "duration": 42,
    "start_time": "2021-12-02T08:13:45.286Z"
   },
   {
    "duration": 29,
    "start_time": "2021-12-02T08:13:45.330Z"
   },
   {
    "duration": 22,
    "start_time": "2021-12-02T08:13:45.361Z"
   },
   {
    "duration": 19,
    "start_time": "2021-12-02T08:13:45.385Z"
   },
   {
    "duration": 65,
    "start_time": "2021-12-02T08:13:45.406Z"
   },
   {
    "duration": 21,
    "start_time": "2021-12-02T08:13:45.473Z"
   },
   {
    "duration": 6,
    "start_time": "2021-12-02T08:13:45.496Z"
   },
   {
    "duration": 40,
    "start_time": "2021-12-02T08:13:45.504Z"
   },
   {
    "duration": 7,
    "start_time": "2021-12-02T08:13:45.546Z"
   },
   {
    "duration": 5,
    "start_time": "2021-12-02T08:13:45.555Z"
   },
   {
    "duration": 15,
    "start_time": "2021-12-02T08:13:45.561Z"
   },
   {
    "duration": 3,
    "start_time": "2021-12-02T08:13:45.579Z"
   },
   {
    "duration": 8,
    "start_time": "2021-12-02T08:13:45.584Z"
   },
   {
    "duration": 16,
    "start_time": "2021-12-02T08:13:45.594Z"
   },
   {
    "duration": 40,
    "start_time": "2021-12-02T08:13:45.611Z"
   },
   {
    "duration": 15,
    "start_time": "2021-12-02T08:13:45.653Z"
   },
   {
    "duration": 16,
    "start_time": "2021-12-02T08:13:45.670Z"
   },
   {
    "duration": 3,
    "start_time": "2021-12-02T08:13:45.688Z"
   },
   {
    "duration": 6,
    "start_time": "2021-12-02T08:13:45.692Z"
   },
   {
    "duration": 4,
    "start_time": "2021-12-02T08:13:45.700Z"
   },
   {
    "duration": 41,
    "start_time": "2021-12-02T08:13:45.705Z"
   },
   {
    "duration": 4,
    "start_time": "2021-12-02T08:13:47.378Z"
   },
   {
    "duration": 4,
    "start_time": "2021-12-02T08:13:48.156Z"
   },
   {
    "duration": 4,
    "start_time": "2021-12-02T08:13:48.832Z"
   },
   {
    "duration": 3,
    "start_time": "2021-12-02T08:13:49.411Z"
   },
   {
    "duration": 7,
    "start_time": "2021-12-02T08:13:50.232Z"
   },
   {
    "duration": 4,
    "start_time": "2021-12-02T08:16:48.868Z"
   },
   {
    "duration": 537,
    "start_time": "2021-12-02T08:16:49.457Z"
   },
   {
    "duration": 4,
    "start_time": "2021-12-02T08:16:58.446Z"
   },
   {
    "duration": 528,
    "start_time": "2021-12-02T08:16:59.472Z"
   },
   {
    "duration": 8,
    "start_time": "2021-12-02T08:17:08.926Z"
   },
   {
    "duration": 5,
    "start_time": "2021-12-02T08:17:10.960Z"
   },
   {
    "duration": 3,
    "start_time": "2021-12-02T08:18:33.558Z"
   },
   {
    "duration": 6,
    "start_time": "2021-12-02T08:18:34.963Z"
   },
   {
    "duration": 13,
    "start_time": "2021-12-02T08:18:43.308Z"
   },
   {
    "duration": 6,
    "start_time": "2021-12-02T08:19:05.187Z"
   },
   {
    "duration": 20,
    "start_time": "2021-12-02T08:19:07.192Z"
   },
   {
    "duration": 4,
    "start_time": "2021-12-02T08:21:52.965Z"
   },
   {
    "duration": 6,
    "start_time": "2021-12-02T08:21:55.427Z"
   },
   {
    "duration": 21,
    "start_time": "2021-12-02T08:21:56.309Z"
   },
   {
    "duration": 3,
    "start_time": "2021-12-02T08:22:59.036Z"
   },
   {
    "duration": 5,
    "start_time": "2021-12-02T08:24:32.937Z"
   },
   {
    "duration": 5,
    "start_time": "2021-12-02T08:24:35.213Z"
   },
   {
    "duration": 21,
    "start_time": "2021-12-02T08:24:36.134Z"
   },
   {
    "duration": 3,
    "start_time": "2021-12-02T08:26:39.612Z"
   },
   {
    "duration": 3,
    "start_time": "2021-12-02T08:26:40.292Z"
   },
   {
    "duration": 6,
    "start_time": "2021-12-02T08:26:40.902Z"
   },
   {
    "duration": 18,
    "start_time": "2021-12-02T08:26:41.609Z"
   },
   {
    "duration": 6,
    "start_time": "2021-12-02T08:30:19.300Z"
   },
   {
    "duration": 4,
    "start_time": "2021-12-02T08:30:19.986Z"
   },
   {
    "duration": 3,
    "start_time": "2021-12-02T08:30:20.567Z"
   },
   {
    "duration": 8,
    "start_time": "2021-12-02T08:30:21.155Z"
   },
   {
    "duration": 6,
    "start_time": "2021-12-02T08:30:27.187Z"
   },
   {
    "duration": 14,
    "start_time": "2021-12-02T08:30:30.458Z"
   },
   {
    "duration": 2,
    "start_time": "2021-12-02T08:31:38.050Z"
   },
   {
    "duration": 20,
    "start_time": "2021-12-02T08:31:38.055Z"
   },
   {
    "duration": 34,
    "start_time": "2021-12-02T08:31:38.078Z"
   },
   {
    "duration": 725,
    "start_time": "2021-12-02T08:31:38.114Z"
   },
   {
    "duration": 419,
    "start_time": "2021-12-02T08:31:38.841Z"
   },
   {
    "duration": 10,
    "start_time": "2021-12-02T08:31:39.262Z"
   },
   {
    "duration": 348,
    "start_time": "2021-12-02T08:31:39.274Z"
   },
   {
    "duration": 50,
    "start_time": "2021-12-02T08:31:39.624Z"
   },
   {
    "duration": 70,
    "start_time": "2021-12-02T08:31:39.675Z"
   },
   {
    "duration": 3,
    "start_time": "2021-12-02T08:31:39.747Z"
   },
   {
    "duration": 5,
    "start_time": "2021-12-02T08:31:39.752Z"
   },
   {
    "duration": 10,
    "start_time": "2021-12-02T08:31:39.758Z"
   },
   {
    "duration": 8,
    "start_time": "2021-12-02T08:31:39.770Z"
   },
   {
    "duration": 28,
    "start_time": "2021-12-02T08:31:39.779Z"
   },
   {
    "duration": 121,
    "start_time": "2021-12-02T08:31:39.809Z"
   },
   {
    "duration": 103,
    "start_time": "2021-12-02T08:31:39.932Z"
   },
   {
    "duration": 3,
    "start_time": "2021-12-02T08:31:40.043Z"
   },
   {
    "duration": 4,
    "start_time": "2021-12-02T08:31:40.048Z"
   },
   {
    "duration": 23,
    "start_time": "2021-12-02T08:31:40.057Z"
   },
   {
    "duration": 10,
    "start_time": "2021-12-02T08:31:40.083Z"
   },
   {
    "duration": 9,
    "start_time": "2021-12-02T08:31:40.095Z"
   },
   {
    "duration": 41,
    "start_time": "2021-12-02T08:31:40.105Z"
   },
   {
    "duration": 14,
    "start_time": "2021-12-02T08:31:40.147Z"
   },
   {
    "duration": 7,
    "start_time": "2021-12-02T08:31:40.162Z"
   },
   {
    "duration": 22,
    "start_time": "2021-12-02T08:31:40.170Z"
   },
   {
    "duration": 90,
    "start_time": "2021-12-02T08:31:40.193Z"
   },
   {
    "duration": 32,
    "start_time": "2021-12-02T08:31:40.285Z"
   },
   {
    "duration": 33,
    "start_time": "2021-12-02T08:31:40.318Z"
   },
   {
    "duration": 6,
    "start_time": "2021-12-02T08:31:40.353Z"
   },
   {
    "duration": 18,
    "start_time": "2021-12-02T08:31:40.361Z"
   },
   {
    "duration": 79,
    "start_time": "2021-12-02T08:31:40.381Z"
   },
   {
    "duration": 61,
    "start_time": "2021-12-02T08:31:40.463Z"
   },
   {
    "duration": 30,
    "start_time": "2021-12-02T08:31:40.526Z"
   },
   {
    "duration": 25,
    "start_time": "2021-12-02T08:31:40.559Z"
   },
   {
    "duration": 14,
    "start_time": "2021-12-02T08:31:40.586Z"
   },
   {
    "duration": 14,
    "start_time": "2021-12-02T08:31:40.603Z"
   },
   {
    "duration": 5,
    "start_time": "2021-12-02T08:31:40.619Z"
   },
   {
    "duration": 20,
    "start_time": "2021-12-02T08:31:40.627Z"
   },
   {
    "duration": 4,
    "start_time": "2021-12-02T08:31:40.649Z"
   },
   {
    "duration": 10,
    "start_time": "2021-12-02T08:31:40.657Z"
   },
   {
    "duration": 8,
    "start_time": "2021-12-02T08:31:40.679Z"
   },
   {
    "duration": 18,
    "start_time": "2021-12-02T08:31:40.689Z"
   },
   {
    "duration": 29,
    "start_time": "2021-12-02T08:31:40.709Z"
   },
   {
    "duration": 10,
    "start_time": "2021-12-02T08:31:40.741Z"
   },
   {
    "duration": 30,
    "start_time": "2021-12-02T08:31:40.753Z"
   },
   {
    "duration": 22,
    "start_time": "2021-12-02T08:31:40.785Z"
   },
   {
    "duration": 17,
    "start_time": "2021-12-02T08:31:40.810Z"
   },
   {
    "duration": 54,
    "start_time": "2021-12-02T08:31:40.829Z"
   },
   {
    "duration": 100,
    "start_time": "2021-12-02T08:31:40.885Z"
   },
   {
    "duration": 43,
    "start_time": "2021-12-02T08:31:40.987Z"
   },
   {
    "duration": 27,
    "start_time": "2021-12-02T08:31:41.032Z"
   },
   {
    "duration": 21,
    "start_time": "2021-12-02T08:31:41.060Z"
   },
   {
    "duration": 23,
    "start_time": "2021-12-02T08:31:41.083Z"
   },
   {
    "duration": 63,
    "start_time": "2021-12-02T08:31:41.108Z"
   },
   {
    "duration": 23,
    "start_time": "2021-12-02T08:31:41.175Z"
   },
   {
    "duration": 6,
    "start_time": "2021-12-02T08:31:41.200Z"
   },
   {
    "duration": 45,
    "start_time": "2021-12-02T08:31:41.208Z"
   },
   {
    "duration": 4,
    "start_time": "2021-12-02T08:31:41.255Z"
   },
   {
    "duration": 6,
    "start_time": "2021-12-02T08:31:41.261Z"
   },
   {
    "duration": 17,
    "start_time": "2021-12-02T08:31:41.269Z"
   },
   {
    "duration": 9,
    "start_time": "2021-12-02T08:31:41.287Z"
   },
   {
    "duration": 11,
    "start_time": "2021-12-02T08:31:41.298Z"
   },
   {
    "duration": 24,
    "start_time": "2021-12-02T08:31:41.310Z"
   },
   {
    "duration": 16,
    "start_time": "2021-12-02T08:31:41.335Z"
   },
   {
    "duration": 23,
    "start_time": "2021-12-02T08:31:41.353Z"
   },
   {
    "duration": 27,
    "start_time": "2021-12-02T08:31:41.378Z"
   },
   {
    "duration": 6,
    "start_time": "2021-12-02T08:31:41.406Z"
   },
   {
    "duration": 11,
    "start_time": "2021-12-02T08:31:41.413Z"
   },
   {
    "duration": 19,
    "start_time": "2021-12-02T08:31:41.425Z"
   },
   {
    "duration": 16,
    "start_time": "2021-12-02T08:31:41.445Z"
   },
   {
    "duration": 4,
    "start_time": "2021-12-02T08:31:45.078Z"
   },
   {
    "duration": 6,
    "start_time": "2021-12-02T08:31:45.682Z"
   },
   {
    "duration": 4,
    "start_time": "2021-12-02T08:31:46.350Z"
   },
   {
    "duration": 4,
    "start_time": "2021-12-02T08:31:47.022Z"
   },
   {
    "duration": 8,
    "start_time": "2021-12-02T08:31:47.909Z"
   },
   {
    "duration": 3,
    "start_time": "2021-12-02T08:33:14.015Z"
   },
   {
    "duration": 5,
    "start_time": "2021-12-02T08:53:48.733Z"
   },
   {
    "duration": 4,
    "start_time": "2021-12-02T08:54:21.794Z"
   },
   {
    "duration": 4,
    "start_time": "2021-12-02T09:10:30.926Z"
   },
   {
    "duration": 3,
    "start_time": "2021-12-02T09:10:39.426Z"
   },
   {
    "duration": 4,
    "start_time": "2021-12-02T09:10:43.745Z"
   },
   {
    "duration": 4,
    "start_time": "2021-12-02T09:12:53.359Z"
   },
   {
    "duration": 4,
    "start_time": "2021-12-02T09:14:09.006Z"
   },
   {
    "duration": 4,
    "start_time": "2021-12-02T09:21:44.970Z"
   },
   {
    "duration": 6,
    "start_time": "2021-12-02T09:21:52.912Z"
   },
   {
    "duration": 14,
    "start_time": "2021-12-02T09:21:54.440Z"
   },
   {
    "duration": 4,
    "start_time": "2021-12-02T09:24:15.719Z"
   },
   {
    "duration": 4,
    "start_time": "2021-12-02T09:24:25.224Z"
   },
   {
    "duration": 6,
    "start_time": "2021-12-02T09:24:47.921Z"
   },
   {
    "duration": 4,
    "start_time": "2021-12-02T09:25:13.845Z"
   },
   {
    "duration": 3,
    "start_time": "2021-12-02T09:25:20.023Z"
   },
   {
    "duration": 83,
    "start_time": "2021-12-02T09:29:45.080Z"
   },
   {
    "duration": 4,
    "start_time": "2021-12-02T09:29:55.831Z"
   },
   {
    "duration": 535,
    "start_time": "2021-12-02T09:29:57.058Z"
   },
   {
    "duration": 2,
    "start_time": "2021-12-02T09:30:16.814Z"
   },
   {
    "duration": 16,
    "start_time": "2021-12-02T09:30:16.819Z"
   },
   {
    "duration": 18,
    "start_time": "2021-12-02T09:30:16.837Z"
   },
   {
    "duration": 720,
    "start_time": "2021-12-02T09:30:16.856Z"
   },
   {
    "duration": 410,
    "start_time": "2021-12-02T09:30:17.578Z"
   },
   {
    "duration": 10,
    "start_time": "2021-12-02T09:30:17.990Z"
   },
   {
    "duration": 342,
    "start_time": "2021-12-02T09:30:18.002Z"
   },
   {
    "duration": 48,
    "start_time": "2021-12-02T09:30:18.346Z"
   },
   {
    "duration": 65,
    "start_time": "2021-12-02T09:30:18.396Z"
   },
   {
    "duration": 4,
    "start_time": "2021-12-02T09:30:18.463Z"
   },
   {
    "duration": 28,
    "start_time": "2021-12-02T09:30:18.469Z"
   },
   {
    "duration": 43,
    "start_time": "2021-12-02T09:30:18.499Z"
   },
   {
    "duration": 39,
    "start_time": "2021-12-02T09:30:18.545Z"
   },
   {
    "duration": 56,
    "start_time": "2021-12-02T09:30:18.586Z"
   },
   {
    "duration": 96,
    "start_time": "2021-12-02T09:30:18.644Z"
   },
   {
    "duration": 84,
    "start_time": "2021-12-02T09:30:18.741Z"
   },
   {
    "duration": 18,
    "start_time": "2021-12-02T09:30:18.826Z"
   },
   {
    "duration": 29,
    "start_time": "2021-12-02T09:30:18.846Z"
   },
   {
    "duration": 57,
    "start_time": "2021-12-02T09:30:18.877Z"
   },
   {
    "duration": 27,
    "start_time": "2021-12-02T09:30:18.936Z"
   },
   {
    "duration": 41,
    "start_time": "2021-12-02T09:30:18.965Z"
   },
   {
    "duration": 39,
    "start_time": "2021-12-02T09:30:19.008Z"
   },
   {
    "duration": 29,
    "start_time": "2021-12-02T09:30:19.051Z"
   },
   {
    "duration": 28,
    "start_time": "2021-12-02T09:30:19.084Z"
   },
   {
    "duration": 46,
    "start_time": "2021-12-02T09:30:19.114Z"
   },
   {
    "duration": 79,
    "start_time": "2021-12-02T09:30:19.162Z"
   },
   {
    "duration": 33,
    "start_time": "2021-12-02T09:30:19.242Z"
   },
   {
    "duration": 18,
    "start_time": "2021-12-02T09:30:19.277Z"
   },
   {
    "duration": 21,
    "start_time": "2021-12-02T09:30:19.296Z"
   },
   {
    "duration": 44,
    "start_time": "2021-12-02T09:30:19.318Z"
   },
   {
    "duration": 80,
    "start_time": "2021-12-02T09:30:19.364Z"
   },
   {
    "duration": 35,
    "start_time": "2021-12-02T09:30:19.445Z"
   },
   {
    "duration": 20,
    "start_time": "2021-12-02T09:30:19.482Z"
   },
   {
    "duration": 12,
    "start_time": "2021-12-02T09:30:19.503Z"
   },
   {
    "duration": 27,
    "start_time": "2021-12-02T09:30:19.517Z"
   },
   {
    "duration": 33,
    "start_time": "2021-12-02T09:30:19.546Z"
   },
   {
    "duration": 16,
    "start_time": "2021-12-02T09:30:19.581Z"
   },
   {
    "duration": 42,
    "start_time": "2021-12-02T09:30:19.599Z"
   },
   {
    "duration": 38,
    "start_time": "2021-12-02T09:30:19.642Z"
   },
   {
    "duration": 29,
    "start_time": "2021-12-02T09:30:19.682Z"
   },
   {
    "duration": 12,
    "start_time": "2021-12-02T09:30:19.712Z"
   },
   {
    "duration": 14,
    "start_time": "2021-12-02T09:30:19.726Z"
   },
   {
    "duration": 13,
    "start_time": "2021-12-02T09:30:19.741Z"
   },
   {
    "duration": 11,
    "start_time": "2021-12-02T09:30:19.756Z"
   },
   {
    "duration": 18,
    "start_time": "2021-12-02T09:30:19.769Z"
   },
   {
    "duration": 9,
    "start_time": "2021-12-02T09:30:19.788Z"
   },
   {
    "duration": 7,
    "start_time": "2021-12-02T09:30:19.798Z"
   },
   {
    "duration": 33,
    "start_time": "2021-12-02T09:30:19.807Z"
   },
   {
    "duration": 92,
    "start_time": "2021-12-02T09:30:19.842Z"
   },
   {
    "duration": 42,
    "start_time": "2021-12-02T09:30:19.937Z"
   },
   {
    "duration": 17,
    "start_time": "2021-12-02T09:30:19.981Z"
   },
   {
    "duration": 22,
    "start_time": "2021-12-02T09:30:19.999Z"
   },
   {
    "duration": 20,
    "start_time": "2021-12-02T09:30:20.045Z"
   },
   {
    "duration": 65,
    "start_time": "2021-12-02T09:30:20.068Z"
   },
   {
    "duration": 21,
    "start_time": "2021-12-02T09:30:20.134Z"
   },
   {
    "duration": 14,
    "start_time": "2021-12-02T09:30:20.157Z"
   },
   {
    "duration": 41,
    "start_time": "2021-12-02T09:30:20.173Z"
   },
   {
    "duration": 13,
    "start_time": "2021-12-02T09:30:20.217Z"
   },
   {
    "duration": 11,
    "start_time": "2021-12-02T09:30:20.232Z"
   },
   {
    "duration": 25,
    "start_time": "2021-12-02T09:30:20.245Z"
   },
   {
    "duration": 6,
    "start_time": "2021-12-02T09:30:20.272Z"
   },
   {
    "duration": 9,
    "start_time": "2021-12-02T09:30:20.280Z"
   },
   {
    "duration": 25,
    "start_time": "2021-12-02T09:30:20.291Z"
   },
   {
    "duration": 10,
    "start_time": "2021-12-02T09:30:20.318Z"
   },
   {
    "duration": 26,
    "start_time": "2021-12-02T09:30:20.329Z"
   },
   {
    "duration": 15,
    "start_time": "2021-12-02T09:30:20.357Z"
   },
   {
    "duration": 5,
    "start_time": "2021-12-02T09:30:20.374Z"
   },
   {
    "duration": 3,
    "start_time": "2021-12-02T09:30:20.384Z"
   },
   {
    "duration": 6,
    "start_time": "2021-12-02T09:30:20.389Z"
   },
   {
    "duration": 3,
    "start_time": "2021-12-02T09:30:23.188Z"
   },
   {
    "duration": 17,
    "start_time": "2021-12-02T09:30:23.193Z"
   },
   {
    "duration": 537,
    "start_time": "2021-12-02T09:30:23.320Z"
   },
   {
    "duration": 12,
    "start_time": "2021-12-02T09:30:43.192Z"
   },
   {
    "duration": 4,
    "start_time": "2021-12-02T09:32:51.341Z"
   },
   {
    "duration": 530,
    "start_time": "2021-12-02T09:32:52.041Z"
   },
   {
    "duration": 3,
    "start_time": "2021-12-02T09:33:00.436Z"
   },
   {
    "duration": 1303,
    "start_time": "2021-12-02T09:33:01.215Z"
   },
   {
    "duration": 3,
    "start_time": "2021-12-02T09:33:44.106Z"
   },
   {
    "duration": 4,
    "start_time": "2021-12-02T09:33:44.814Z"
   },
   {
    "duration": 3,
    "start_time": "2021-12-02T09:34:06.428Z"
   },
   {
    "duration": 531,
    "start_time": "2021-12-02T09:34:07.422Z"
   },
   {
    "duration": 3,
    "start_time": "2021-12-02T09:35:19.099Z"
   },
   {
    "duration": 3,
    "start_time": "2021-12-02T09:35:19.807Z"
   },
   {
    "duration": 3,
    "start_time": "2021-12-02T09:35:32.419Z"
   },
   {
    "duration": 5,
    "start_time": "2021-12-02T09:35:35.476Z"
   },
   {
    "duration": 12,
    "start_time": "2021-12-02T09:35:37.975Z"
   },
   {
    "duration": 5,
    "start_time": "2021-12-02T09:36:03.214Z"
   },
   {
    "duration": 7695,
    "start_time": "2021-12-02T09:36:03.910Z"
   },
   {
    "duration": 22,
    "start_time": "2021-12-02T09:36:11.585Z"
   },
   {
    "duration": 3,
    "start_time": "2021-12-02T09:36:16.839Z"
   },
   {
    "duration": 4,
    "start_time": "2021-12-02T09:36:16.846Z"
   },
   {
    "duration": 8,
    "start_time": "2021-12-02T09:36:16.852Z"
   },
   {
    "duration": 670,
    "start_time": "2021-12-02T09:36:16.862Z"
   },
   {
    "duration": 404,
    "start_time": "2021-12-02T09:36:17.535Z"
   },
   {
    "duration": 11,
    "start_time": "2021-12-02T09:36:17.944Z"
   },
   {
    "duration": 371,
    "start_time": "2021-12-02T09:36:17.956Z"
   },
   {
    "duration": 52,
    "start_time": "2021-12-02T09:36:18.329Z"
   },
   {
    "duration": 65,
    "start_time": "2021-12-02T09:36:18.384Z"
   },
   {
    "duration": 3,
    "start_time": "2021-12-02T09:36:18.452Z"
   },
   {
    "duration": 22,
    "start_time": "2021-12-02T09:36:18.456Z"
   },
   {
    "duration": 21,
    "start_time": "2021-12-02T09:36:18.480Z"
   },
   {
    "duration": 17,
    "start_time": "2021-12-02T09:36:18.503Z"
   },
   {
    "duration": 45,
    "start_time": "2021-12-02T09:36:18.522Z"
   },
   {
    "duration": 96,
    "start_time": "2021-12-02T09:36:18.569Z"
   },
   {
    "duration": 93,
    "start_time": "2021-12-02T09:36:18.667Z"
   },
   {
    "duration": 2,
    "start_time": "2021-12-02T09:36:18.762Z"
   },
   {
    "duration": 27,
    "start_time": "2021-12-02T09:36:18.766Z"
   },
   {
    "duration": 42,
    "start_time": "2021-12-02T09:36:18.796Z"
   },
   {
    "duration": 7,
    "start_time": "2021-12-02T09:36:18.841Z"
   },
   {
    "duration": 36,
    "start_time": "2021-12-02T09:36:18.849Z"
   },
   {
    "duration": 25,
    "start_time": "2021-12-02T09:36:18.887Z"
   },
   {
    "duration": 22,
    "start_time": "2021-12-02T09:36:18.914Z"
   },
   {
    "duration": 21,
    "start_time": "2021-12-02T09:36:18.938Z"
   },
   {
    "duration": 33,
    "start_time": "2021-12-02T09:36:18.960Z"
   },
   {
    "duration": 74,
    "start_time": "2021-12-02T09:36:18.995Z"
   },
   {
    "duration": 29,
    "start_time": "2021-12-02T09:36:19.071Z"
   },
   {
    "duration": 16,
    "start_time": "2021-12-02T09:36:19.102Z"
   },
   {
    "duration": 20,
    "start_time": "2021-12-02T09:36:19.119Z"
   },
   {
    "duration": 35,
    "start_time": "2021-12-02T09:36:19.140Z"
   },
   {
    "duration": 72,
    "start_time": "2021-12-02T09:36:19.176Z"
   },
   {
    "duration": 33,
    "start_time": "2021-12-02T09:36:19.250Z"
   },
   {
    "duration": 14,
    "start_time": "2021-12-02T09:36:19.285Z"
   },
   {
    "duration": 30,
    "start_time": "2021-12-02T09:36:19.300Z"
   },
   {
    "duration": 35,
    "start_time": "2021-12-02T09:36:19.332Z"
   },
   {
    "duration": 34,
    "start_time": "2021-12-02T09:36:19.369Z"
   },
   {
    "duration": 23,
    "start_time": "2021-12-02T09:36:19.405Z"
   },
   {
    "duration": 26,
    "start_time": "2021-12-02T09:36:19.430Z"
   },
   {
    "duration": 26,
    "start_time": "2021-12-02T09:36:19.458Z"
   },
   {
    "duration": 22,
    "start_time": "2021-12-02T09:36:19.485Z"
   },
   {
    "duration": 38,
    "start_time": "2021-12-02T09:36:19.509Z"
   },
   {
    "duration": 35,
    "start_time": "2021-12-02T09:36:19.549Z"
   },
   {
    "duration": 23,
    "start_time": "2021-12-02T09:36:19.586Z"
   },
   {
    "duration": 37,
    "start_time": "2021-12-02T09:36:19.610Z"
   },
   {
    "duration": 21,
    "start_time": "2021-12-02T09:36:19.649Z"
   },
   {
    "duration": 24,
    "start_time": "2021-12-02T09:36:19.672Z"
   },
   {
    "duration": 29,
    "start_time": "2021-12-02T09:36:19.698Z"
   },
   {
    "duration": 62,
    "start_time": "2021-12-02T09:36:19.728Z"
   },
   {
    "duration": 92,
    "start_time": "2021-12-02T09:36:19.791Z"
   },
   {
    "duration": 43,
    "start_time": "2021-12-02T09:36:19.885Z"
   },
   {
    "duration": 26,
    "start_time": "2021-12-02T09:36:19.929Z"
   },
   {
    "duration": 19,
    "start_time": "2021-12-02T09:36:19.959Z"
   },
   {
    "duration": 24,
    "start_time": "2021-12-02T09:36:19.980Z"
   },
   {
    "duration": 55,
    "start_time": "2021-12-02T09:36:20.006Z"
   },
   {
    "duration": 21,
    "start_time": "2021-12-02T09:36:20.063Z"
   },
   {
    "duration": 15,
    "start_time": "2021-12-02T09:36:20.085Z"
   },
   {
    "duration": 38,
    "start_time": "2021-12-02T09:36:20.102Z"
   },
   {
    "duration": 38,
    "start_time": "2021-12-02T09:36:20.141Z"
   },
   {
    "duration": 30,
    "start_time": "2021-12-02T09:36:20.180Z"
   },
   {
    "duration": 38,
    "start_time": "2021-12-02T09:36:20.212Z"
   },
   {
    "duration": 9,
    "start_time": "2021-12-02T09:36:20.251Z"
   },
   {
    "duration": 32,
    "start_time": "2021-12-02T09:36:20.261Z"
   },
   {
    "duration": 38,
    "start_time": "2021-12-02T09:36:20.294Z"
   },
   {
    "duration": 12,
    "start_time": "2021-12-02T09:36:20.333Z"
   },
   {
    "duration": 33,
    "start_time": "2021-12-02T09:36:20.346Z"
   },
   {
    "duration": 29,
    "start_time": "2021-12-02T09:36:20.381Z"
   },
   {
    "duration": 51,
    "start_time": "2021-12-02T09:36:20.412Z"
   },
   {
    "duration": 37,
    "start_time": "2021-12-02T09:36:20.464Z"
   },
   {
    "duration": 31,
    "start_time": "2021-12-02T09:36:20.503Z"
   },
   {
    "duration": 28,
    "start_time": "2021-12-02T09:36:20.536Z"
   },
   {
    "duration": 5,
    "start_time": "2021-12-02T09:36:23.146Z"
   },
   {
    "duration": 7762,
    "start_time": "2021-12-02T09:36:23.451Z"
   },
   {
    "duration": 4,
    "start_time": "2021-12-02T09:37:20.657Z"
   },
   {
    "duration": 6928,
    "start_time": "2021-12-02T09:37:22.742Z"
   },
   {
    "duration": 4,
    "start_time": "2021-12-02T09:41:51.328Z"
   },
   {
    "duration": 4,
    "start_time": "2021-12-02T09:42:33.053Z"
   },
   {
    "duration": 5,
    "start_time": "2021-12-02T09:45:11.842Z"
   },
   {
    "duration": 6991,
    "start_time": "2021-12-02T09:45:12.813Z"
   },
   {
    "duration": 5,
    "start_time": "2021-12-02T09:45:45.831Z"
   },
   {
    "duration": 6810,
    "start_time": "2021-12-02T09:45:46.964Z"
   },
   {
    "duration": 537,
    "start_time": "2021-12-02T09:46:04.600Z"
   },
   {
    "duration": 7234,
    "start_time": "2021-12-02T09:46:19.135Z"
   },
   {
    "duration": 5,
    "start_time": "2021-12-02T09:47:50.098Z"
   },
   {
    "duration": 7202,
    "start_time": "2021-12-02T09:47:50.886Z"
   },
   {
    "duration": 5,
    "start_time": "2021-12-02T09:48:05.857Z"
   },
   {
    "duration": 7049,
    "start_time": "2021-12-02T09:48:06.717Z"
   },
   {
    "duration": 5,
    "start_time": "2021-12-02T09:48:17.338Z"
   },
   {
    "duration": 6,
    "start_time": "2021-12-02T09:48:18.290Z"
   },
   {
    "duration": 13,
    "start_time": "2021-12-02T09:48:30.843Z"
   },
   {
    "duration": 4,
    "start_time": "2021-12-02T09:49:04.258Z"
   },
   {
    "duration": 5,
    "start_time": "2021-12-02T09:49:05.603Z"
   },
   {
    "duration": 13,
    "start_time": "2021-12-02T09:49:06.849Z"
   },
   {
    "duration": 4,
    "start_time": "2021-12-02T09:50:30.139Z"
   },
   {
    "duration": 4,
    "start_time": "2021-12-02T09:50:50.419Z"
   },
   {
    "duration": 7,
    "start_time": "2021-12-02T09:50:51.061Z"
   },
   {
    "duration": 13,
    "start_time": "2021-12-02T09:50:54.599Z"
   },
   {
    "duration": 28,
    "start_time": "2021-12-02T10:27:17.397Z"
   },
   {
    "duration": 26,
    "start_time": "2021-12-02T10:28:14.364Z"
   },
   {
    "duration": 29,
    "start_time": "2021-12-02T10:29:02.789Z"
   },
   {
    "duration": 93,
    "start_time": "2021-12-02T10:29:19.869Z"
   },
   {
    "duration": 28,
    "start_time": "2021-12-02T10:29:34.393Z"
   },
   {
    "duration": 28,
    "start_time": "2021-12-02T10:32:41.295Z"
   },
   {
    "duration": 30,
    "start_time": "2021-12-02T10:34:01.201Z"
   },
   {
    "duration": 33,
    "start_time": "2021-12-02T10:36:41.191Z"
   },
   {
    "duration": 338,
    "start_time": "2021-12-02T10:38:35.154Z"
   },
   {
    "duration": 457,
    "start_time": "2021-12-02T10:42:44.000Z"
   },
   {
    "duration": 489,
    "start_time": "2021-12-02T10:43:23.820Z"
   },
   {
    "duration": 36,
    "start_time": "2021-12-02T10:43:34.516Z"
   },
   {
    "duration": 633,
    "start_time": "2021-12-02T10:45:21.734Z"
   },
   {
    "duration": 613,
    "start_time": "2021-12-02T10:45:58.864Z"
   },
   {
    "duration": 1055,
    "start_time": "2021-12-02T10:46:14.044Z"
   },
   {
    "duration": 33,
    "start_time": "2021-12-02T10:46:43.159Z"
   },
   {
    "duration": 2,
    "start_time": "2021-12-02T10:48:34.400Z"
   },
   {
    "duration": 3,
    "start_time": "2021-12-02T10:48:37.636Z"
   },
   {
    "duration": 133,
    "start_time": "2021-12-02T10:53:31.579Z"
   },
   {
    "duration": 305,
    "start_time": "2021-12-02T10:53:41.156Z"
   },
   {
    "duration": 3,
    "start_time": "2021-12-02T10:53:56.172Z"
   },
   {
    "duration": 4,
    "start_time": "2021-12-02T10:53:56.178Z"
   },
   {
    "duration": 5,
    "start_time": "2021-12-02T10:53:56.184Z"
   },
   {
    "duration": 623,
    "start_time": "2021-12-02T10:53:56.191Z"
   },
   {
    "duration": 445,
    "start_time": "2021-12-02T10:53:56.816Z"
   },
   {
    "duration": 12,
    "start_time": "2021-12-02T10:53:57.263Z"
   },
   {
    "duration": 355,
    "start_time": "2021-12-02T10:53:57.277Z"
   },
   {
    "duration": 55,
    "start_time": "2021-12-02T10:53:57.633Z"
   },
   {
    "duration": 69,
    "start_time": "2021-12-02T10:53:57.690Z"
   },
   {
    "duration": 3,
    "start_time": "2021-12-02T10:53:57.763Z"
   },
   {
    "duration": 4,
    "start_time": "2021-12-02T10:53:57.769Z"
   },
   {
    "duration": 10,
    "start_time": "2021-12-02T10:53:57.774Z"
   },
   {
    "duration": 7,
    "start_time": "2021-12-02T10:53:57.785Z"
   },
   {
    "duration": 64,
    "start_time": "2021-12-02T10:53:57.793Z"
   },
   {
    "duration": 109,
    "start_time": "2021-12-02T10:53:57.859Z"
   },
   {
    "duration": 79,
    "start_time": "2021-12-02T10:53:57.970Z"
   },
   {
    "duration": 3,
    "start_time": "2021-12-02T10:53:58.051Z"
   },
   {
    "duration": 5,
    "start_time": "2021-12-02T10:53:58.056Z"
   },
   {
    "duration": 28,
    "start_time": "2021-12-02T10:53:58.062Z"
   },
   {
    "duration": 8,
    "start_time": "2021-12-02T10:53:58.092Z"
   },
   {
    "duration": 8,
    "start_time": "2021-12-02T10:53:58.102Z"
   },
   {
    "duration": 35,
    "start_time": "2021-12-02T10:53:58.111Z"
   },
   {
    "duration": 15,
    "start_time": "2021-12-02T10:53:58.148Z"
   },
   {
    "duration": 4,
    "start_time": "2021-12-02T10:53:58.165Z"
   },
   {
    "duration": 20,
    "start_time": "2021-12-02T10:53:58.171Z"
   },
   {
    "duration": 100,
    "start_time": "2021-12-02T10:53:58.193Z"
   },
   {
    "duration": 29,
    "start_time": "2021-12-02T10:53:58.297Z"
   },
   {
    "duration": 31,
    "start_time": "2021-12-02T10:53:58.328Z"
   },
   {
    "duration": 7,
    "start_time": "2021-12-02T10:53:58.361Z"
   },
   {
    "duration": 18,
    "start_time": "2021-12-02T10:53:58.369Z"
   },
   {
    "duration": 83,
    "start_time": "2021-12-02T10:53:58.389Z"
   },
   {
    "duration": 33,
    "start_time": "2021-12-02T10:53:58.474Z"
   },
   {
    "duration": 14,
    "start_time": "2021-12-02T10:53:58.509Z"
   },
   {
    "duration": 28,
    "start_time": "2021-12-02T10:53:58.525Z"
   },
   {
    "duration": 14,
    "start_time": "2021-12-02T10:53:58.554Z"
   },
   {
    "duration": 10,
    "start_time": "2021-12-02T10:53:58.570Z"
   },
   {
    "duration": 5,
    "start_time": "2021-12-02T10:53:58.582Z"
   },
   {
    "duration": 8,
    "start_time": "2021-12-02T10:53:58.588Z"
   },
   {
    "duration": 4,
    "start_time": "2021-12-02T10:53:58.598Z"
   },
   {
    "duration": 7,
    "start_time": "2021-12-02T10:53:58.604Z"
   },
   {
    "duration": 33,
    "start_time": "2021-12-02T10:53:58.612Z"
   },
   {
    "duration": 9,
    "start_time": "2021-12-02T10:53:58.647Z"
   },
   {
    "duration": 5,
    "start_time": "2021-12-02T10:53:58.658Z"
   },
   {
    "duration": 5,
    "start_time": "2021-12-02T10:53:58.664Z"
   },
   {
    "duration": 8,
    "start_time": "2021-12-02T10:53:58.670Z"
   },
   {
    "duration": 4,
    "start_time": "2021-12-02T10:53:58.680Z"
   },
   {
    "duration": 4,
    "start_time": "2021-12-02T10:53:58.686Z"
   },
   {
    "duration": 61,
    "start_time": "2021-12-02T10:53:58.691Z"
   },
   {
    "duration": 107,
    "start_time": "2021-12-02T10:53:58.755Z"
   },
   {
    "duration": 39,
    "start_time": "2021-12-02T10:53:58.863Z"
   },
   {
    "duration": 17,
    "start_time": "2021-12-02T10:53:58.903Z"
   },
   {
    "duration": 46,
    "start_time": "2021-12-02T10:53:58.922Z"
   },
   {
    "duration": 17,
    "start_time": "2021-12-02T10:53:58.969Z"
   },
   {
    "duration": 34,
    "start_time": "2021-12-02T10:53:58.987Z"
   },
   {
    "duration": 43,
    "start_time": "2021-12-02T10:53:59.023Z"
   },
   {
    "duration": 6,
    "start_time": "2021-12-02T10:53:59.067Z"
   },
   {
    "duration": 14,
    "start_time": "2021-12-02T10:53:59.075Z"
   },
   {
    "duration": 7,
    "start_time": "2021-12-02T10:53:59.091Z"
   },
   {
    "duration": 5,
    "start_time": "2021-12-02T10:53:59.099Z"
   },
   {
    "duration": 50,
    "start_time": "2021-12-02T10:53:59.106Z"
   },
   {
    "duration": 4,
    "start_time": "2021-12-02T10:53:59.158Z"
   },
   {
    "duration": 7,
    "start_time": "2021-12-02T10:53:59.164Z"
   },
   {
    "duration": 18,
    "start_time": "2021-12-02T10:53:59.172Z"
   },
   {
    "duration": 9,
    "start_time": "2021-12-02T10:53:59.191Z"
   },
   {
    "duration": 14,
    "start_time": "2021-12-02T10:53:59.202Z"
   },
   {
    "duration": 20,
    "start_time": "2021-12-02T10:53:59.245Z"
   },
   {
    "duration": 5,
    "start_time": "2021-12-02T10:53:59.267Z"
   },
   {
    "duration": 5,
    "start_time": "2021-12-02T10:53:59.274Z"
   },
   {
    "duration": 5,
    "start_time": "2021-12-02T10:53:59.280Z"
   },
   {
    "duration": 59,
    "start_time": "2021-12-02T10:53:59.287Z"
   },
   {
    "duration": 278,
    "start_time": "2021-12-02T10:54:02.358Z"
   },
   {
    "duration": 24,
    "start_time": "2021-12-02T10:54:52.422Z"
   },
   {
    "duration": 255,
    "start_time": "2021-12-02T10:56:33.660Z"
   },
   {
    "duration": 4,
    "start_time": "2021-12-02T10:57:11.479Z"
   },
   {
    "duration": 7125,
    "start_time": "2021-12-02T10:57:18.917Z"
   },
   {
    "duration": 2,
    "start_time": "2021-12-02T10:57:41.794Z"
   },
   {
    "duration": 5,
    "start_time": "2021-12-02T10:57:41.799Z"
   },
   {
    "duration": 9,
    "start_time": "2021-12-02T10:57:41.806Z"
   },
   {
    "duration": 703,
    "start_time": "2021-12-02T10:57:41.818Z"
   },
   {
    "duration": 430,
    "start_time": "2021-12-02T10:57:42.523Z"
   },
   {
    "duration": 12,
    "start_time": "2021-12-02T10:57:42.955Z"
   },
   {
    "duration": 357,
    "start_time": "2021-12-02T10:57:42.969Z"
   },
   {
    "duration": 66,
    "start_time": "2021-12-02T10:57:43.330Z"
   },
   {
    "duration": 69,
    "start_time": "2021-12-02T10:57:43.399Z"
   },
   {
    "duration": 2,
    "start_time": "2021-12-02T10:57:43.470Z"
   },
   {
    "duration": 6,
    "start_time": "2021-12-02T10:57:43.474Z"
   },
   {
    "duration": 10,
    "start_time": "2021-12-02T10:57:43.482Z"
   },
   {
    "duration": 5,
    "start_time": "2021-12-02T10:57:43.494Z"
   },
   {
    "duration": 47,
    "start_time": "2021-12-02T10:57:43.501Z"
   },
   {
    "duration": 108,
    "start_time": "2021-12-02T10:57:43.550Z"
   },
   {
    "duration": 96,
    "start_time": "2021-12-02T10:57:43.660Z"
   },
   {
    "duration": 2,
    "start_time": "2021-12-02T10:57:43.758Z"
   },
   {
    "duration": 9,
    "start_time": "2021-12-02T10:57:43.762Z"
   },
   {
    "duration": 26,
    "start_time": "2021-12-02T10:57:43.775Z"
   },
   {
    "duration": 8,
    "start_time": "2021-12-02T10:57:43.803Z"
   },
   {
    "duration": 9,
    "start_time": "2021-12-02T10:57:43.813Z"
   },
   {
    "duration": 25,
    "start_time": "2021-12-02T10:57:43.823Z"
   },
   {
    "duration": 10,
    "start_time": "2021-12-02T10:57:43.850Z"
   },
   {
    "duration": 30,
    "start_time": "2021-12-02T10:57:43.862Z"
   },
   {
    "duration": 24,
    "start_time": "2021-12-02T10:57:43.894Z"
   },
   {
    "duration": 68,
    "start_time": "2021-12-02T10:57:43.920Z"
   },
   {
    "duration": 29,
    "start_time": "2021-12-02T10:57:43.990Z"
   },
   {
    "duration": 29,
    "start_time": "2021-12-02T10:57:44.021Z"
   },
   {
    "duration": 7,
    "start_time": "2021-12-02T10:57:44.051Z"
   },
   {
    "duration": 38,
    "start_time": "2021-12-02T10:57:44.060Z"
   },
   {
    "duration": 66,
    "start_time": "2021-12-02T10:57:44.100Z"
   },
   {
    "duration": 32,
    "start_time": "2021-12-02T10:57:44.167Z"
   },
   {
    "duration": 14,
    "start_time": "2021-12-02T10:57:44.200Z"
   },
   {
    "duration": 14,
    "start_time": "2021-12-02T10:57:44.216Z"
   },
   {
    "duration": 13,
    "start_time": "2021-12-02T10:57:44.232Z"
   },
   {
    "duration": 11,
    "start_time": "2021-12-02T10:57:44.246Z"
   },
   {
    "duration": 4,
    "start_time": "2021-12-02T10:57:44.259Z"
   },
   {
    "duration": 7,
    "start_time": "2021-12-02T10:57:44.264Z"
   },
   {
    "duration": 5,
    "start_time": "2021-12-02T10:57:44.272Z"
   },
   {
    "duration": 7,
    "start_time": "2021-12-02T10:57:44.278Z"
   },
   {
    "duration": 6,
    "start_time": "2021-12-02T10:57:44.286Z"
   },
   {
    "duration": 8,
    "start_time": "2021-12-02T10:57:44.293Z"
   },
   {
    "duration": 4,
    "start_time": "2021-12-02T10:57:44.303Z"
   },
   {
    "duration": 35,
    "start_time": "2021-12-02T10:57:44.309Z"
   },
   {
    "duration": 6,
    "start_time": "2021-12-02T10:57:44.346Z"
   },
   {
    "duration": 8,
    "start_time": "2021-12-02T10:57:44.354Z"
   },
   {
    "duration": 5,
    "start_time": "2021-12-02T10:57:44.364Z"
   },
   {
    "duration": 31,
    "start_time": "2021-12-02T10:57:44.371Z"
   },
   {
    "duration": 110,
    "start_time": "2021-12-02T10:57:44.404Z"
   },
   {
    "duration": 49,
    "start_time": "2021-12-02T10:57:44.516Z"
   },
   {
    "duration": 19,
    "start_time": "2021-12-02T10:57:44.567Z"
   },
   {
    "duration": 21,
    "start_time": "2021-12-02T10:57:44.591Z"
   },
   {
    "duration": 45,
    "start_time": "2021-12-02T10:57:44.615Z"
   },
   {
    "duration": 37,
    "start_time": "2021-12-02T10:57:44.662Z"
   },
   {
    "duration": 45,
    "start_time": "2021-12-02T10:57:44.701Z"
   },
   {
    "duration": 8,
    "start_time": "2021-12-02T10:57:44.748Z"
   },
   {
    "duration": 27,
    "start_time": "2021-12-02T10:57:44.757Z"
   },
   {
    "duration": 25,
    "start_time": "2021-12-02T10:57:44.785Z"
   },
   {
    "duration": 15,
    "start_time": "2021-12-02T10:57:44.811Z"
   },
   {
    "duration": 34,
    "start_time": "2021-12-02T10:57:44.827Z"
   },
   {
    "duration": 14,
    "start_time": "2021-12-02T10:57:44.863Z"
   },
   {
    "duration": 12,
    "start_time": "2021-12-02T10:57:44.878Z"
   },
   {
    "duration": 43,
    "start_time": "2021-12-02T10:57:44.891Z"
   },
   {
    "duration": 18,
    "start_time": "2021-12-02T10:57:44.936Z"
   },
   {
    "duration": 25,
    "start_time": "2021-12-02T10:57:44.955Z"
   },
   {
    "duration": 28,
    "start_time": "2021-12-02T10:57:44.982Z"
   },
   {
    "duration": 23,
    "start_time": "2021-12-02T10:57:45.011Z"
   },
   {
    "duration": 26,
    "start_time": "2021-12-02T10:57:45.036Z"
   },
   {
    "duration": 9,
    "start_time": "2021-12-02T10:57:45.064Z"
   },
   {
    "duration": 36,
    "start_time": "2021-12-02T10:57:45.075Z"
   },
   {
    "duration": 2,
    "start_time": "2021-12-02T10:57:45.112Z"
   },
   {
    "duration": 2,
    "start_time": "2021-12-02T10:57:48.822Z"
   },
   {
    "duration": 5,
    "start_time": "2021-12-02T10:57:49.376Z"
   },
   {
    "duration": 6857,
    "start_time": "2021-12-02T10:57:50.365Z"
   },
   {
    "duration": 4,
    "start_time": "2021-12-02T10:58:58.670Z"
   },
   {
    "duration": 7,
    "start_time": "2021-12-02T10:58:59.531Z"
   },
   {
    "duration": 6,
    "start_time": "2021-12-02T10:59:06.762Z"
   },
   {
    "duration": 13,
    "start_time": "2021-12-02T10:59:12.395Z"
   },
   {
    "duration": 5,
    "start_time": "2021-12-02T10:59:35.364Z"
   },
   {
    "duration": 6,
    "start_time": "2021-12-02T10:59:36.772Z"
   },
   {
    "duration": 13,
    "start_time": "2021-12-02T10:59:38.134Z"
   },
   {
    "duration": 5,
    "start_time": "2021-12-02T11:04:03.748Z"
   },
   {
    "duration": 7,
    "start_time": "2021-12-02T11:04:04.634Z"
   },
   {
    "duration": 14,
    "start_time": "2021-12-02T11:04:07.357Z"
   },
   {
    "duration": 5,
    "start_time": "2021-12-02T11:04:52.187Z"
   },
   {
    "duration": 9,
    "start_time": "2021-12-02T11:04:53.205Z"
   },
   {
    "duration": 13,
    "start_time": "2021-12-02T11:04:54.238Z"
   },
   {
    "duration": 4,
    "start_time": "2021-12-02T11:05:59.805Z"
   },
   {
    "duration": 5,
    "start_time": "2021-12-02T11:06:00.595Z"
   },
   {
    "duration": 4,
    "start_time": "2021-12-02T11:06:58.824Z"
   },
   {
    "duration": 4,
    "start_time": "2021-12-02T11:07:10.319Z"
   },
   {
    "duration": 4,
    "start_time": "2021-12-02T11:07:19.903Z"
   },
   {
    "duration": 4,
    "start_time": "2021-12-02T11:07:21.002Z"
   },
   {
    "duration": 13,
    "start_time": "2021-12-02T11:07:24.176Z"
   },
   {
    "duration": 3,
    "start_time": "2021-12-02T11:08:04.936Z"
   },
   {
    "duration": 26,
    "start_time": "2021-12-02T11:08:04.941Z"
   },
   {
    "duration": 8,
    "start_time": "2021-12-02T11:08:04.969Z"
   },
   {
    "duration": 673,
    "start_time": "2021-12-02T11:08:04.978Z"
   },
   {
    "duration": 443,
    "start_time": "2021-12-02T11:08:05.653Z"
   },
   {
    "duration": 10,
    "start_time": "2021-12-02T11:08:06.098Z"
   },
   {
    "duration": 339,
    "start_time": "2021-12-02T11:08:06.110Z"
   },
   {
    "duration": 50,
    "start_time": "2021-12-02T11:08:06.451Z"
   },
   {
    "duration": 68,
    "start_time": "2021-12-02T11:08:06.504Z"
   },
   {
    "duration": 3,
    "start_time": "2021-12-02T11:08:06.574Z"
   },
   {
    "duration": 14,
    "start_time": "2021-12-02T11:08:06.578Z"
   },
   {
    "duration": 43,
    "start_time": "2021-12-02T11:08:06.594Z"
   },
   {
    "duration": 19,
    "start_time": "2021-12-02T11:08:06.639Z"
   },
   {
    "duration": 36,
    "start_time": "2021-12-02T11:08:06.659Z"
   },
   {
    "duration": 94,
    "start_time": "2021-12-02T11:08:06.696Z"
   },
   {
    "duration": 84,
    "start_time": "2021-12-02T11:08:06.792Z"
   },
   {
    "duration": 2,
    "start_time": "2021-12-02T11:08:06.878Z"
   },
   {
    "duration": 5,
    "start_time": "2021-12-02T11:08:06.881Z"
   },
   {
    "duration": 24,
    "start_time": "2021-12-02T11:08:06.887Z"
   },
   {
    "duration": 8,
    "start_time": "2021-12-02T11:08:06.912Z"
   },
   {
    "duration": 26,
    "start_time": "2021-12-02T11:08:06.922Z"
   },
   {
    "duration": 7,
    "start_time": "2021-12-02T11:08:06.950Z"
   },
   {
    "duration": 10,
    "start_time": "2021-12-02T11:08:06.959Z"
   },
   {
    "duration": 5,
    "start_time": "2021-12-02T11:08:06.970Z"
   },
   {
    "duration": 22,
    "start_time": "2021-12-02T11:08:06.976Z"
   },
   {
    "duration": 97,
    "start_time": "2021-12-02T11:08:06.999Z"
   },
   {
    "duration": 29,
    "start_time": "2021-12-02T11:08:07.100Z"
   },
   {
    "duration": 24,
    "start_time": "2021-12-02T11:08:07.132Z"
   },
   {
    "duration": 7,
    "start_time": "2021-12-02T11:08:07.157Z"
   },
   {
    "duration": 18,
    "start_time": "2021-12-02T11:08:07.165Z"
   },
   {
    "duration": 80,
    "start_time": "2021-12-02T11:08:07.184Z"
   },
   {
    "duration": 32,
    "start_time": "2021-12-02T11:08:07.266Z"
   },
   {
    "duration": 14,
    "start_time": "2021-12-02T11:08:07.300Z"
   },
   {
    "duration": 7,
    "start_time": "2021-12-02T11:08:07.316Z"
   },
   {
    "duration": 5,
    "start_time": "2021-12-02T11:08:07.345Z"
   },
   {
    "duration": 10,
    "start_time": "2021-12-02T11:08:07.352Z"
   },
   {
    "duration": 5,
    "start_time": "2021-12-02T11:08:07.364Z"
   },
   {
    "duration": 9,
    "start_time": "2021-12-02T11:08:07.370Z"
   },
   {
    "duration": 6,
    "start_time": "2021-12-02T11:08:07.380Z"
   },
   {
    "duration": 6,
    "start_time": "2021-12-02T11:08:07.388Z"
   },
   {
    "duration": 6,
    "start_time": "2021-12-02T11:08:07.395Z"
   },
   {
    "duration": 9,
    "start_time": "2021-12-02T11:08:07.402Z"
   },
   {
    "duration": 32,
    "start_time": "2021-12-02T11:08:07.413Z"
   },
   {
    "duration": 5,
    "start_time": "2021-12-02T11:08:07.447Z"
   },
   {
    "duration": 24,
    "start_time": "2021-12-02T11:08:07.453Z"
   },
   {
    "duration": 27,
    "start_time": "2021-12-02T11:08:07.478Z"
   },
   {
    "duration": 24,
    "start_time": "2021-12-02T11:08:07.507Z"
   },
   {
    "duration": 60,
    "start_time": "2021-12-02T11:08:07.532Z"
   },
   {
    "duration": 90,
    "start_time": "2021-12-02T11:08:07.594Z"
   },
   {
    "duration": 37,
    "start_time": "2021-12-02T11:08:07.685Z"
   },
   {
    "duration": 30,
    "start_time": "2021-12-02T11:08:07.724Z"
   },
   {
    "duration": 20,
    "start_time": "2021-12-02T11:08:07.755Z"
   },
   {
    "duration": 29,
    "start_time": "2021-12-02T11:08:07.776Z"
   },
   {
    "duration": 42,
    "start_time": "2021-12-02T11:08:07.807Z"
   },
   {
    "duration": 19,
    "start_time": "2021-12-02T11:08:07.850Z"
   },
   {
    "duration": 6,
    "start_time": "2021-12-02T11:08:07.871Z"
   },
   {
    "duration": 15,
    "start_time": "2021-12-02T11:08:07.879Z"
   },
   {
    "duration": 6,
    "start_time": "2021-12-02T11:08:07.896Z"
   },
   {
    "duration": 7,
    "start_time": "2021-12-02T11:08:07.903Z"
   },
   {
    "duration": 43,
    "start_time": "2021-12-02T11:08:07.911Z"
   },
   {
    "duration": 4,
    "start_time": "2021-12-02T11:08:07.956Z"
   },
   {
    "duration": 13,
    "start_time": "2021-12-02T11:08:07.961Z"
   },
   {
    "duration": 18,
    "start_time": "2021-12-02T11:08:07.975Z"
   },
   {
    "duration": 9,
    "start_time": "2021-12-02T11:08:07.994Z"
   },
   {
    "duration": 15,
    "start_time": "2021-12-02T11:08:08.005Z"
   },
   {
    "duration": 17,
    "start_time": "2021-12-02T11:08:08.045Z"
   },
   {
    "duration": 6,
    "start_time": "2021-12-02T11:08:08.063Z"
   },
   {
    "duration": 6,
    "start_time": "2021-12-02T11:08:08.071Z"
   },
   {
    "duration": 7,
    "start_time": "2021-12-02T11:08:08.078Z"
   },
   {
    "duration": 24,
    "start_time": "2021-12-02T11:08:08.086Z"
   },
   {
    "duration": 2,
    "start_time": "2021-12-02T11:08:08.112Z"
   },
   {
    "duration": 32,
    "start_time": "2021-12-02T11:08:08.115Z"
   },
   {
    "duration": 4,
    "start_time": "2021-12-02T11:08:10.113Z"
   },
   {
    "duration": 3,
    "start_time": "2021-12-02T11:08:10.822Z"
   },
   {
    "duration": 5,
    "start_time": "2021-12-02T11:08:11.713Z"
   },
   {
    "duration": 13,
    "start_time": "2021-12-02T11:08:12.427Z"
   },
   {
    "duration": 5,
    "start_time": "2021-12-02T11:11:15.605Z"
   },
   {
    "duration": 8,
    "start_time": "2021-12-02T11:11:16.618Z"
   },
   {
    "duration": 14,
    "start_time": "2021-12-02T11:11:17.459Z"
   },
   {
    "duration": 5,
    "start_time": "2021-12-02T11:11:58.021Z"
   },
   {
    "duration": 6,
    "start_time": "2021-12-02T11:11:58.761Z"
   },
   {
    "duration": 13,
    "start_time": "2021-12-02T11:11:59.540Z"
   },
   {
    "duration": 640,
    "start_time": "2021-12-02T11:12:27.181Z"
   },
   {
    "duration": 5,
    "start_time": "2021-12-02T11:12:37.300Z"
   },
   {
    "duration": 901,
    "start_time": "2021-12-02T11:12:39.053Z"
   },
   {
    "duration": 18,
    "start_time": "2021-12-02T11:12:45.311Z"
   },
   {
    "duration": 4279,
    "start_time": "2021-12-02T11:16:42.149Z"
   },
   {
    "duration": 519,
    "start_time": "2021-12-02T11:18:49.535Z"
   },
   {
    "duration": 4,
    "start_time": "2021-12-02T11:19:55.631Z"
   },
   {
    "duration": 264,
    "start_time": "2021-12-02T11:19:56.876Z"
   },
   {
    "duration": 279,
    "start_time": "2021-12-02T11:20:06.388Z"
   },
   {
    "duration": 275,
    "start_time": "2021-12-02T11:20:46.997Z"
   },
   {
    "duration": 2,
    "start_time": "2021-12-02T11:21:06.305Z"
   },
   {
    "duration": 4,
    "start_time": "2021-12-02T11:21:06.310Z"
   },
   {
    "duration": 8,
    "start_time": "2021-12-02T11:21:06.316Z"
   },
   {
    "duration": 679,
    "start_time": "2021-12-02T11:21:06.326Z"
   },
   {
    "duration": 525,
    "start_time": "2021-12-02T11:21:07.007Z"
   },
   {
    "duration": 21,
    "start_time": "2021-12-02T11:21:07.534Z"
   },
   {
    "duration": 334,
    "start_time": "2021-12-02T11:21:07.558Z"
   },
   {
    "duration": 55,
    "start_time": "2021-12-02T11:21:07.894Z"
   },
   {
    "duration": 66,
    "start_time": "2021-12-02T11:21:07.951Z"
   },
   {
    "duration": 3,
    "start_time": "2021-12-02T11:21:08.019Z"
   },
   {
    "duration": 5,
    "start_time": "2021-12-02T11:21:08.023Z"
   },
   {
    "duration": 15,
    "start_time": "2021-12-02T11:21:08.030Z"
   },
   {
    "duration": 5,
    "start_time": "2021-12-02T11:21:08.047Z"
   },
   {
    "duration": 25,
    "start_time": "2021-12-02T11:21:08.054Z"
   },
   {
    "duration": 111,
    "start_time": "2021-12-02T11:21:08.081Z"
   },
   {
    "duration": 81,
    "start_time": "2021-12-02T11:21:08.194Z"
   },
   {
    "duration": 2,
    "start_time": "2021-12-02T11:21:08.276Z"
   },
   {
    "duration": 3,
    "start_time": "2021-12-02T11:21:08.282Z"
   },
   {
    "duration": 25,
    "start_time": "2021-12-02T11:21:08.287Z"
   },
   {
    "duration": 8,
    "start_time": "2021-12-02T11:21:08.313Z"
   },
   {
    "duration": 28,
    "start_time": "2021-12-02T11:21:08.323Z"
   },
   {
    "duration": 7,
    "start_time": "2021-12-02T11:21:08.353Z"
   },
   {
    "duration": 11,
    "start_time": "2021-12-02T11:21:08.362Z"
   },
   {
    "duration": 4,
    "start_time": "2021-12-02T11:21:08.375Z"
   },
   {
    "duration": 22,
    "start_time": "2021-12-02T11:21:08.381Z"
   },
   {
    "duration": 101,
    "start_time": "2021-12-02T11:21:08.404Z"
   },
   {
    "duration": 37,
    "start_time": "2021-12-02T11:21:08.507Z"
   },
   {
    "duration": 16,
    "start_time": "2021-12-02T11:21:08.546Z"
   },
   {
    "duration": 7,
    "start_time": "2021-12-02T11:21:08.564Z"
   },
   {
    "duration": 18,
    "start_time": "2021-12-02T11:21:08.573Z"
   },
   {
    "duration": 83,
    "start_time": "2021-12-02T11:21:08.592Z"
   },
   {
    "duration": 33,
    "start_time": "2021-12-02T11:21:08.677Z"
   },
   {
    "duration": 33,
    "start_time": "2021-12-02T11:21:08.711Z"
   },
   {
    "duration": 8,
    "start_time": "2021-12-02T11:21:08.746Z"
   },
   {
    "duration": 9,
    "start_time": "2021-12-02T11:21:08.755Z"
   },
   {
    "duration": 13,
    "start_time": "2021-12-02T11:21:08.765Z"
   },
   {
    "duration": 6,
    "start_time": "2021-12-02T11:21:08.779Z"
   },
   {
    "duration": 8,
    "start_time": "2021-12-02T11:21:08.787Z"
   },
   {
    "duration": 8,
    "start_time": "2021-12-02T11:21:08.797Z"
   },
   {
    "duration": 18,
    "start_time": "2021-12-02T11:21:08.807Z"
   },
   {
    "duration": 7,
    "start_time": "2021-12-02T11:21:08.827Z"
   },
   {
    "duration": 13,
    "start_time": "2021-12-02T11:21:08.835Z"
   },
   {
    "duration": 3,
    "start_time": "2021-12-02T11:21:08.850Z"
   },
   {
    "duration": 10,
    "start_time": "2021-12-02T11:21:08.854Z"
   },
   {
    "duration": 9,
    "start_time": "2021-12-02T11:21:08.865Z"
   },
   {
    "duration": 8,
    "start_time": "2021-12-02T11:21:08.875Z"
   },
   {
    "duration": 6,
    "start_time": "2021-12-02T11:21:08.885Z"
   },
   {
    "duration": 31,
    "start_time": "2021-12-02T11:21:08.892Z"
   },
   {
    "duration": 100,
    "start_time": "2021-12-02T11:21:08.944Z"
   },
   {
    "duration": 38,
    "start_time": "2021-12-02T11:21:09.046Z"
   },
   {
    "duration": 17,
    "start_time": "2021-12-02T11:21:09.088Z"
   },
   {
    "duration": 40,
    "start_time": "2021-12-02T11:21:09.107Z"
   },
   {
    "duration": 20,
    "start_time": "2021-12-02T11:21:09.149Z"
   },
   {
    "duration": 36,
    "start_time": "2021-12-02T11:21:09.171Z"
   },
   {
    "duration": 46,
    "start_time": "2021-12-02T11:21:09.209Z"
   },
   {
    "duration": 6,
    "start_time": "2021-12-02T11:21:09.256Z"
   },
   {
    "duration": 16,
    "start_time": "2021-12-02T11:21:09.264Z"
   },
   {
    "duration": 12,
    "start_time": "2021-12-02T11:21:09.282Z"
   },
   {
    "duration": 7,
    "start_time": "2021-12-02T11:21:09.296Z"
   },
   {
    "duration": 42,
    "start_time": "2021-12-02T11:21:09.305Z"
   },
   {
    "duration": 8,
    "start_time": "2021-12-02T11:21:09.349Z"
   },
   {
    "duration": 30,
    "start_time": "2021-12-02T11:21:09.359Z"
   },
   {
    "duration": 33,
    "start_time": "2021-12-02T11:21:09.391Z"
   },
   {
    "duration": 11,
    "start_time": "2021-12-02T11:21:09.426Z"
   },
   {
    "duration": 32,
    "start_time": "2021-12-02T11:21:09.439Z"
   },
   {
    "duration": 18,
    "start_time": "2021-12-02T11:21:09.473Z"
   },
   {
    "duration": 14,
    "start_time": "2021-12-02T11:21:09.492Z"
   },
   {
    "duration": 32,
    "start_time": "2021-12-02T11:21:09.508Z"
   },
   {
    "duration": 9,
    "start_time": "2021-12-02T11:21:09.542Z"
   },
   {
    "duration": 40,
    "start_time": "2021-12-02T11:21:09.553Z"
   },
   {
    "duration": 3,
    "start_time": "2021-12-02T11:21:09.595Z"
   },
   {
    "duration": 26,
    "start_time": "2021-12-02T11:21:09.600Z"
   },
   {
    "duration": 3,
    "start_time": "2021-12-02T11:21:11.567Z"
   },
   {
    "duration": 5,
    "start_time": "2021-12-02T11:21:12.253Z"
   },
   {
    "duration": 287,
    "start_time": "2021-12-02T11:21:13.141Z"
   },
   {
    "duration": 5,
    "start_time": "2021-12-02T11:21:47.266Z"
   },
   {
    "duration": 270,
    "start_time": "2021-12-02T11:21:48.072Z"
   },
   {
    "duration": 6,
    "start_time": "2021-12-02T11:25:27.073Z"
   },
   {
    "duration": 283,
    "start_time": "2021-12-02T11:25:28.062Z"
   },
   {
    "duration": 2,
    "start_time": "2021-12-02T11:26:10.765Z"
   },
   {
    "duration": 5,
    "start_time": "2021-12-02T11:26:10.769Z"
   },
   {
    "duration": 13,
    "start_time": "2021-12-02T11:26:10.776Z"
   },
   {
    "duration": 655,
    "start_time": "2021-12-02T11:26:10.791Z"
   },
   {
    "duration": 445,
    "start_time": "2021-12-02T11:26:11.448Z"
   },
   {
    "duration": 12,
    "start_time": "2021-12-02T11:26:11.896Z"
   },
   {
    "duration": 348,
    "start_time": "2021-12-02T11:26:11.910Z"
   },
   {
    "duration": 55,
    "start_time": "2021-12-02T11:26:12.260Z"
   },
   {
    "duration": 69,
    "start_time": "2021-12-02T11:26:12.317Z"
   },
   {
    "duration": 2,
    "start_time": "2021-12-02T11:26:12.388Z"
   },
   {
    "duration": 22,
    "start_time": "2021-12-02T11:26:12.392Z"
   },
   {
    "duration": 39,
    "start_time": "2021-12-02T11:26:12.415Z"
   },
   {
    "duration": 30,
    "start_time": "2021-12-02T11:26:12.456Z"
   },
   {
    "duration": 35,
    "start_time": "2021-12-02T11:26:12.489Z"
   },
   {
    "duration": 96,
    "start_time": "2021-12-02T11:26:12.526Z"
   },
   {
    "duration": 82,
    "start_time": "2021-12-02T11:26:12.624Z"
   },
   {
    "duration": 2,
    "start_time": "2021-12-02T11:26:12.708Z"
   },
   {
    "duration": 11,
    "start_time": "2021-12-02T11:26:12.712Z"
   },
   {
    "duration": 39,
    "start_time": "2021-12-02T11:26:12.724Z"
   },
   {
    "duration": 16,
    "start_time": "2021-12-02T11:26:12.765Z"
   },
   {
    "duration": 29,
    "start_time": "2021-12-02T11:26:12.782Z"
   },
   {
    "duration": 16,
    "start_time": "2021-12-02T11:26:12.813Z"
   },
   {
    "duration": 35,
    "start_time": "2021-12-02T11:26:12.831Z"
   },
   {
    "duration": 29,
    "start_time": "2021-12-02T11:26:12.868Z"
   },
   {
    "duration": 34,
    "start_time": "2021-12-02T11:26:12.899Z"
   },
   {
    "duration": 82,
    "start_time": "2021-12-02T11:26:12.935Z"
   },
   {
    "duration": 30,
    "start_time": "2021-12-02T11:26:13.019Z"
   },
   {
    "duration": 18,
    "start_time": "2021-12-02T11:26:13.051Z"
   },
   {
    "duration": 7,
    "start_time": "2021-12-02T11:26:13.071Z"
   },
   {
    "duration": 38,
    "start_time": "2021-12-02T11:26:13.079Z"
   },
   {
    "duration": 57,
    "start_time": "2021-12-02T11:26:13.119Z"
   },
   {
    "duration": 33,
    "start_time": "2021-12-02T11:26:13.178Z"
   },
   {
    "duration": 22,
    "start_time": "2021-12-02T11:26:13.213Z"
   },
   {
    "duration": 8,
    "start_time": "2021-12-02T11:26:13.244Z"
   },
   {
    "duration": 23,
    "start_time": "2021-12-02T11:26:13.254Z"
   },
   {
    "duration": 38,
    "start_time": "2021-12-02T11:26:13.279Z"
   },
   {
    "duration": 19,
    "start_time": "2021-12-02T11:26:13.319Z"
   },
   {
    "duration": 35,
    "start_time": "2021-12-02T11:26:13.342Z"
   },
   {
    "duration": 26,
    "start_time": "2021-12-02T11:26:13.380Z"
   },
   {
    "duration": 19,
    "start_time": "2021-12-02T11:26:13.408Z"
   },
   {
    "duration": 24,
    "start_time": "2021-12-02T11:26:13.429Z"
   },
   {
    "duration": 27,
    "start_time": "2021-12-02T11:26:13.454Z"
   },
   {
    "duration": 36,
    "start_time": "2021-12-02T11:26:13.482Z"
   },
   {
    "duration": 23,
    "start_time": "2021-12-02T11:26:13.519Z"
   },
   {
    "duration": 33,
    "start_time": "2021-12-02T11:26:13.543Z"
   },
   {
    "duration": 11,
    "start_time": "2021-12-02T11:26:13.577Z"
   },
   {
    "duration": 29,
    "start_time": "2021-12-02T11:26:13.589Z"
   },
   {
    "duration": 51,
    "start_time": "2021-12-02T11:26:13.620Z"
   },
   {
    "duration": 96,
    "start_time": "2021-12-02T11:26:13.673Z"
   },
   {
    "duration": 41,
    "start_time": "2021-12-02T11:26:13.770Z"
   },
   {
    "duration": 17,
    "start_time": "2021-12-02T11:26:13.813Z"
   },
   {
    "duration": 31,
    "start_time": "2021-12-02T11:26:13.831Z"
   },
   {
    "duration": 33,
    "start_time": "2021-12-02T11:26:13.863Z"
   },
   {
    "duration": 48,
    "start_time": "2021-12-02T11:26:13.898Z"
   },
   {
    "duration": 21,
    "start_time": "2021-12-02T11:26:13.948Z"
   },
   {
    "duration": 9,
    "start_time": "2021-12-02T11:26:13.971Z"
   },
   {
    "duration": 41,
    "start_time": "2021-12-02T11:26:13.982Z"
   },
   {
    "duration": 35,
    "start_time": "2021-12-02T11:26:14.025Z"
   },
   {
    "duration": 33,
    "start_time": "2021-12-02T11:26:14.062Z"
   },
   {
    "duration": 39,
    "start_time": "2021-12-02T11:26:14.097Z"
   },
   {
    "duration": 15,
    "start_time": "2021-12-02T11:26:14.138Z"
   },
   {
    "duration": 27,
    "start_time": "2021-12-02T11:26:14.154Z"
   },
   {
    "duration": 22,
    "start_time": "2021-12-02T11:26:14.183Z"
   },
   {
    "duration": 21,
    "start_time": "2021-12-02T11:26:14.207Z"
   },
   {
    "duration": 26,
    "start_time": "2021-12-02T11:26:14.230Z"
   },
   {
    "duration": 15,
    "start_time": "2021-12-02T11:26:14.258Z"
   },
   {
    "duration": 21,
    "start_time": "2021-12-02T11:26:14.275Z"
   },
   {
    "duration": 23,
    "start_time": "2021-12-02T11:26:14.298Z"
   },
   {
    "duration": 15,
    "start_time": "2021-12-02T11:26:14.323Z"
   },
   {
    "duration": 29,
    "start_time": "2021-12-02T11:26:14.340Z"
   },
   {
    "duration": 3,
    "start_time": "2021-12-02T11:26:14.370Z"
   },
   {
    "duration": 19,
    "start_time": "2021-12-02T11:26:14.375Z"
   },
   {
    "duration": 4,
    "start_time": "2021-12-02T11:26:16.984Z"
   },
   {
    "duration": 268,
    "start_time": "2021-12-02T11:26:17.880Z"
   },
   {
    "duration": 287,
    "start_time": "2021-12-02T11:27:05.024Z"
   },
   {
    "duration": 4,
    "start_time": "2021-12-02T11:29:32.904Z"
   },
   {
    "duration": 306,
    "start_time": "2021-12-02T11:29:33.755Z"
   },
   {
    "duration": 269,
    "start_time": "2021-12-02T11:31:39.304Z"
   },
   {
    "duration": 707,
    "start_time": "2021-12-02T11:32:53.214Z"
   },
   {
    "duration": 3,
    "start_time": "2021-12-02T11:32:53.923Z"
   },
   {
    "duration": 14,
    "start_time": "2021-12-02T11:32:53.928Z"
   },
   {
    "duration": 717,
    "start_time": "2021-12-02T11:32:53.943Z"
   },
   {
    "duration": 517,
    "start_time": "2021-12-02T11:32:54.662Z"
   },
   {
    "duration": 11,
    "start_time": "2021-12-02T11:32:55.181Z"
   },
   {
    "duration": 360,
    "start_time": "2021-12-02T11:32:55.193Z"
   },
   {
    "duration": 52,
    "start_time": "2021-12-02T11:32:55.555Z"
   },
   {
    "duration": 69,
    "start_time": "2021-12-02T11:32:55.609Z"
   },
   {
    "duration": 2,
    "start_time": "2021-12-02T11:32:55.680Z"
   },
   {
    "duration": 9,
    "start_time": "2021-12-02T11:32:55.684Z"
   },
   {
    "duration": 14,
    "start_time": "2021-12-02T11:32:55.694Z"
   },
   {
    "duration": 9,
    "start_time": "2021-12-02T11:32:55.710Z"
   },
   {
    "duration": 40,
    "start_time": "2021-12-02T11:32:55.721Z"
   },
   {
    "duration": 110,
    "start_time": "2021-12-02T11:32:55.763Z"
   },
   {
    "duration": 99,
    "start_time": "2021-12-02T11:32:55.875Z"
   },
   {
    "duration": 2,
    "start_time": "2021-12-02T11:32:55.976Z"
   },
   {
    "duration": 8,
    "start_time": "2021-12-02T11:32:55.980Z"
   },
   {
    "duration": 29,
    "start_time": "2021-12-02T11:32:55.990Z"
   },
   {
    "duration": 9,
    "start_time": "2021-12-02T11:32:56.020Z"
   },
   {
    "duration": 16,
    "start_time": "2021-12-02T11:32:56.031Z"
   },
   {
    "duration": 14,
    "start_time": "2021-12-02T11:32:56.048Z"
   },
   {
    "duration": 11,
    "start_time": "2021-12-02T11:32:56.066Z"
   },
   {
    "duration": 11,
    "start_time": "2021-12-02T11:32:56.079Z"
   },
   {
    "duration": 21,
    "start_time": "2021-12-02T11:32:56.092Z"
   },
   {
    "duration": 97,
    "start_time": "2021-12-02T11:32:56.115Z"
   },
   {
    "duration": 46,
    "start_time": "2021-12-02T11:32:56.214Z"
   },
   {
    "duration": 19,
    "start_time": "2021-12-02T11:32:56.262Z"
   },
   {
    "duration": 9,
    "start_time": "2021-12-02T11:32:56.282Z"
   },
   {
    "duration": 23,
    "start_time": "2021-12-02T11:32:56.293Z"
   },
   {
    "duration": 88,
    "start_time": "2021-12-02T11:32:56.318Z"
   },
   {
    "duration": 47,
    "start_time": "2021-12-02T11:32:56.408Z"
   },
   {
    "duration": 16,
    "start_time": "2021-12-02T11:32:56.456Z"
   },
   {
    "duration": 7,
    "start_time": "2021-12-02T11:32:56.474Z"
   },
   {
    "duration": 13,
    "start_time": "2021-12-02T11:32:56.482Z"
   },
   {
    "duration": 12,
    "start_time": "2021-12-02T11:32:56.496Z"
   },
   {
    "duration": 6,
    "start_time": "2021-12-02T11:32:56.509Z"
   },
   {
    "duration": 27,
    "start_time": "2021-12-02T11:32:56.517Z"
   },
   {
    "duration": 4,
    "start_time": "2021-12-02T11:32:56.546Z"
   },
   {
    "duration": 9,
    "start_time": "2021-12-02T11:32:56.551Z"
   },
   {
    "duration": 12,
    "start_time": "2021-12-02T11:32:56.562Z"
   },
   {
    "duration": 23,
    "start_time": "2021-12-02T11:32:56.575Z"
   },
   {
    "duration": 32,
    "start_time": "2021-12-02T11:32:56.600Z"
   },
   {
    "duration": 16,
    "start_time": "2021-12-02T11:32:56.633Z"
   },
   {
    "duration": 34,
    "start_time": "2021-12-02T11:32:56.651Z"
   },
   {
    "duration": 32,
    "start_time": "2021-12-02T11:32:56.687Z"
   },
   {
    "duration": 19,
    "start_time": "2021-12-02T11:32:56.721Z"
   },
   {
    "duration": 56,
    "start_time": "2021-12-02T11:32:56.742Z"
   },
   {
    "duration": 106,
    "start_time": "2021-12-02T11:32:56.800Z"
   },
   {
    "duration": 45,
    "start_time": "2021-12-02T11:32:56.908Z"
   },
   {
    "duration": 20,
    "start_time": "2021-12-02T11:32:56.955Z"
   },
   {
    "duration": 44,
    "start_time": "2021-12-02T11:32:56.978Z"
   },
   {
    "duration": 22,
    "start_time": "2021-12-02T11:32:57.024Z"
   },
   {
    "duration": 47,
    "start_time": "2021-12-02T11:32:57.047Z"
   },
   {
    "duration": 23,
    "start_time": "2021-12-02T11:32:57.096Z"
   },
   {
    "duration": 6,
    "start_time": "2021-12-02T11:32:57.121Z"
   },
   {
    "duration": 32,
    "start_time": "2021-12-02T11:32:57.129Z"
   },
   {
    "duration": 7,
    "start_time": "2021-12-02T11:32:57.163Z"
   },
   {
    "duration": 9,
    "start_time": "2021-12-02T11:32:57.172Z"
   },
   {
    "duration": 16,
    "start_time": "2021-12-02T11:32:57.183Z"
   },
   {
    "duration": 12,
    "start_time": "2021-12-02T11:32:57.202Z"
   },
   {
    "duration": 28,
    "start_time": "2021-12-02T11:32:57.216Z"
   },
   {
    "duration": 19,
    "start_time": "2021-12-02T11:32:57.246Z"
   },
   {
    "duration": 11,
    "start_time": "2021-12-02T11:32:57.267Z"
   },
   {
    "duration": 18,
    "start_time": "2021-12-02T11:32:57.279Z"
   },
   {
    "duration": 47,
    "start_time": "2021-12-02T11:32:57.299Z"
   },
   {
    "duration": 8,
    "start_time": "2021-12-02T11:32:57.348Z"
   },
   {
    "duration": 13,
    "start_time": "2021-12-02T11:32:57.362Z"
   },
   {
    "duration": 15,
    "start_time": "2021-12-02T11:32:57.377Z"
   },
   {
    "duration": 26,
    "start_time": "2021-12-02T11:32:57.395Z"
   },
   {
    "duration": 4,
    "start_time": "2021-12-02T11:32:57.423Z"
   },
   {
    "duration": 17,
    "start_time": "2021-12-02T11:32:57.428Z"
   },
   {
    "duration": 3,
    "start_time": "2021-12-02T11:32:59.636Z"
   },
   {
    "duration": 3,
    "start_time": "2021-12-02T11:33:00.372Z"
   },
   {
    "duration": 325,
    "start_time": "2021-12-02T11:33:02.735Z"
   },
   {
    "duration": 4,
    "start_time": "2021-12-02T11:34:30.847Z"
   },
   {
    "duration": 262,
    "start_time": "2021-12-02T11:34:31.750Z"
   },
   {
    "duration": 4,
    "start_time": "2021-12-02T11:35:07.785Z"
   },
   {
    "duration": 256,
    "start_time": "2021-12-02T11:35:08.453Z"
   },
   {
    "duration": 4,
    "start_time": "2021-12-02T11:39:03.691Z"
   },
   {
    "duration": 279,
    "start_time": "2021-12-02T11:39:06.469Z"
   },
   {
    "duration": 3,
    "start_time": "2021-12-02T11:40:47.651Z"
   },
   {
    "duration": 286,
    "start_time": "2021-12-02T11:40:49.401Z"
   },
   {
    "duration": 280,
    "start_time": "2021-12-02T11:40:59.721Z"
   },
   {
    "duration": 297,
    "start_time": "2021-12-02T11:41:24.608Z"
   },
   {
    "duration": 4,
    "start_time": "2021-12-02T11:43:39.612Z"
   },
   {
    "duration": 266,
    "start_time": "2021-12-02T11:43:43.755Z"
   },
   {
    "duration": 295,
    "start_time": "2021-12-02T11:43:51.176Z"
   },
   {
    "duration": 6,
    "start_time": "2021-12-02T11:44:34.341Z"
   },
   {
    "duration": 10,
    "start_time": "2021-12-02T11:44:57.283Z"
   },
   {
    "duration": 14,
    "start_time": "2021-12-02T11:45:06.360Z"
   },
   {
    "duration": 537,
    "start_time": "2021-12-02T11:46:07.038Z"
   },
   {
    "duration": 292,
    "start_time": "2021-12-02T11:46:20.722Z"
   },
   {
    "duration": 5,
    "start_time": "2021-12-02T11:49:06.628Z"
   },
   {
    "duration": 518,
    "start_time": "2021-12-02T11:49:35.473Z"
   },
   {
    "duration": 5,
    "start_time": "2021-12-02T11:49:40.547Z"
   },
   {
    "duration": 2,
    "start_time": "2021-12-02T11:49:41.839Z"
   },
   {
    "duration": 529,
    "start_time": "2021-12-02T11:49:42.805Z"
   },
   {
    "duration": 6,
    "start_time": "2021-12-02T11:53:18.117Z"
   },
   {
    "duration": 3,
    "start_time": "2021-12-02T11:53:19.030Z"
   },
   {
    "duration": 524,
    "start_time": "2021-12-02T11:53:19.999Z"
   },
   {
    "duration": 4,
    "start_time": "2021-12-02T11:53:36.019Z"
   },
   {
    "duration": 542,
    "start_time": "2021-12-02T11:54:42.255Z"
   },
   {
    "duration": 4,
    "start_time": "2021-12-02T11:55:22.342Z"
   },
   {
    "duration": 3,
    "start_time": "2021-12-02T11:55:23.273Z"
   },
   {
    "duration": 26,
    "start_time": "2021-12-02T11:55:24.057Z"
   },
   {
    "duration": 17,
    "start_time": "2021-12-02T11:55:26.829Z"
   },
   {
    "duration": 3,
    "start_time": "2021-12-02T11:56:45.312Z"
   },
   {
    "duration": 3,
    "start_time": "2021-12-02T11:57:03.180Z"
   },
   {
    "duration": 6,
    "start_time": "2021-12-02T11:57:25.976Z"
   },
   {
    "duration": 16,
    "start_time": "2021-12-02T11:57:27.744Z"
   },
   {
    "duration": 3,
    "start_time": "2021-12-02T11:57:35.576Z"
   },
   {
    "duration": 21,
    "start_time": "2021-12-02T11:57:35.581Z"
   },
   {
    "duration": 53,
    "start_time": "2021-12-02T11:57:35.604Z"
   },
   {
    "duration": 673,
    "start_time": "2021-12-02T11:57:35.659Z"
   },
   {
    "duration": 432,
    "start_time": "2021-12-02T11:57:36.334Z"
   },
   {
    "duration": 11,
    "start_time": "2021-12-02T11:57:36.768Z"
   },
   {
    "duration": 329,
    "start_time": "2021-12-02T11:57:36.781Z"
   },
   {
    "duration": 55,
    "start_time": "2021-12-02T11:57:37.112Z"
   },
   {
    "duration": 72,
    "start_time": "2021-12-02T11:57:37.169Z"
   },
   {
    "duration": 3,
    "start_time": "2021-12-02T11:57:37.243Z"
   },
   {
    "duration": 8,
    "start_time": "2021-12-02T11:57:37.247Z"
   },
   {
    "duration": 10,
    "start_time": "2021-12-02T11:57:37.256Z"
   },
   {
    "duration": 8,
    "start_time": "2021-12-02T11:57:37.268Z"
   },
   {
    "duration": 28,
    "start_time": "2021-12-02T11:57:37.278Z"
   },
   {
    "duration": 113,
    "start_time": "2021-12-02T11:57:37.308Z"
   },
   {
    "duration": 94,
    "start_time": "2021-12-02T11:57:37.422Z"
   },
   {
    "duration": 2,
    "start_time": "2021-12-02T11:57:37.517Z"
   },
   {
    "duration": 6,
    "start_time": "2021-12-02T11:57:37.521Z"
   },
   {
    "duration": 30,
    "start_time": "2021-12-02T11:57:37.528Z"
   },
   {
    "duration": 8,
    "start_time": "2021-12-02T11:57:37.559Z"
   },
   {
    "duration": 10,
    "start_time": "2021-12-02T11:57:37.569Z"
   },
   {
    "duration": 8,
    "start_time": "2021-12-02T11:57:37.580Z"
   },
   {
    "duration": 11,
    "start_time": "2021-12-02T11:57:37.590Z"
   },
   {
    "duration": 7,
    "start_time": "2021-12-02T11:57:37.602Z"
   },
   {
    "duration": 43,
    "start_time": "2021-12-02T11:57:37.611Z"
   },
   {
    "duration": 69,
    "start_time": "2021-12-02T11:57:37.657Z"
   },
   {
    "duration": 44,
    "start_time": "2021-12-02T11:57:37.728Z"
   },
   {
    "duration": 16,
    "start_time": "2021-12-02T11:57:37.773Z"
   },
   {
    "duration": 7,
    "start_time": "2021-12-02T11:57:37.791Z"
   },
   {
    "duration": 18,
    "start_time": "2021-12-02T11:57:37.800Z"
   },
   {
    "duration": 82,
    "start_time": "2021-12-02T11:57:37.819Z"
   },
   {
    "duration": 46,
    "start_time": "2021-12-02T11:57:37.902Z"
   },
   {
    "duration": 15,
    "start_time": "2021-12-02T11:57:37.950Z"
   },
   {
    "duration": 8,
    "start_time": "2021-12-02T11:57:37.966Z"
   },
   {
    "duration": 9,
    "start_time": "2021-12-02T11:57:37.975Z"
   },
   {
    "duration": 11,
    "start_time": "2021-12-02T11:57:37.985Z"
   },
   {
    "duration": 4,
    "start_time": "2021-12-02T11:57:37.998Z"
   },
   {
    "duration": 7,
    "start_time": "2021-12-02T11:57:38.004Z"
   },
   {
    "duration": 40,
    "start_time": "2021-12-02T11:57:38.013Z"
   },
   {
    "duration": 14,
    "start_time": "2021-12-02T11:57:38.055Z"
   },
   {
    "duration": 26,
    "start_time": "2021-12-02T11:57:38.071Z"
   },
   {
    "duration": 21,
    "start_time": "2021-12-02T11:57:38.099Z"
   },
   {
    "duration": 14,
    "start_time": "2021-12-02T11:57:38.122Z"
   },
   {
    "duration": 12,
    "start_time": "2021-12-02T11:57:38.138Z"
   },
   {
    "duration": 18,
    "start_time": "2021-12-02T11:57:38.151Z"
   },
   {
    "duration": 24,
    "start_time": "2021-12-02T11:57:38.170Z"
   },
   {
    "duration": 18,
    "start_time": "2021-12-02T11:57:38.196Z"
   },
   {
    "duration": 54,
    "start_time": "2021-12-02T11:57:38.216Z"
   },
   {
    "duration": 98,
    "start_time": "2021-12-02T11:57:38.272Z"
   },
   {
    "duration": 39,
    "start_time": "2021-12-02T11:57:38.372Z"
   },
   {
    "duration": 33,
    "start_time": "2021-12-02T11:57:38.412Z"
   },
   {
    "duration": 20,
    "start_time": "2021-12-02T11:57:38.447Z"
   },
   {
    "duration": 17,
    "start_time": "2021-12-02T11:57:38.469Z"
   },
   {
    "duration": 57,
    "start_time": "2021-12-02T11:57:38.488Z"
   },
   {
    "duration": 20,
    "start_time": "2021-12-02T11:57:38.547Z"
   },
   {
    "duration": 6,
    "start_time": "2021-12-02T11:57:38.568Z"
   },
   {
    "duration": 16,
    "start_time": "2021-12-02T11:57:38.575Z"
   },
   {
    "duration": 5,
    "start_time": "2021-12-02T11:57:38.592Z"
   },
   {
    "duration": 6,
    "start_time": "2021-12-02T11:57:38.599Z"
   },
   {
    "duration": 49,
    "start_time": "2021-12-02T11:57:38.606Z"
   },
   {
    "duration": 7,
    "start_time": "2021-12-02T11:57:38.656Z"
   },
   {
    "duration": 11,
    "start_time": "2021-12-02T11:57:38.665Z"
   },
   {
    "duration": 19,
    "start_time": "2021-12-02T11:57:38.677Z"
   },
   {
    "duration": 8,
    "start_time": "2021-12-02T11:57:38.697Z"
   },
   {
    "duration": 14,
    "start_time": "2021-12-02T11:57:38.707Z"
   },
   {
    "duration": 33,
    "start_time": "2021-12-02T11:57:38.722Z"
   },
   {
    "duration": 9,
    "start_time": "2021-12-02T11:57:38.756Z"
   },
   {
    "duration": 22,
    "start_time": "2021-12-02T11:57:38.767Z"
   },
   {
    "duration": 30,
    "start_time": "2021-12-02T11:57:38.791Z"
   },
   {
    "duration": 11,
    "start_time": "2021-12-02T11:57:38.823Z"
   },
   {
    "duration": 31,
    "start_time": "2021-12-02T11:57:38.835Z"
   },
   {
    "duration": 5,
    "start_time": "2021-12-02T11:57:40.523Z"
   },
   {
    "duration": 7,
    "start_time": "2021-12-02T11:57:41.225Z"
   },
   {
    "duration": 15,
    "start_time": "2021-12-02T11:57:41.978Z"
   },
   {
    "duration": 14,
    "start_time": "2021-12-02T11:57:55.822Z"
   },
   {
    "duration": 24,
    "start_time": "2021-12-02T11:58:15.013Z"
   },
   {
    "duration": 15,
    "start_time": "2021-12-02T11:58:19.186Z"
   },
   {
    "duration": 4,
    "start_time": "2021-12-02T12:03:48.191Z"
   },
   {
    "duration": 7896,
    "start_time": "2021-12-02T12:03:49.005Z"
   },
   {
    "duration": -135,
    "start_time": "2021-12-02T12:03:57.038Z"
   },
   {
    "duration": 3,
    "start_time": "2021-12-02T12:04:00.900Z"
   },
   {
    "duration": 9,
    "start_time": "2021-12-02T12:04:00.905Z"
   },
   {
    "duration": 10,
    "start_time": "2021-12-02T12:04:00.917Z"
   },
   {
    "duration": 1115,
    "start_time": "2021-12-02T12:04:00.929Z"
   },
   {
    "duration": 452,
    "start_time": "2021-12-02T12:04:02.046Z"
   },
   {
    "duration": 12,
    "start_time": "2021-12-02T12:04:02.500Z"
   },
   {
    "duration": 331,
    "start_time": "2021-12-02T12:04:02.514Z"
   },
   {
    "duration": 50,
    "start_time": "2021-12-02T12:04:02.847Z"
   },
   {
    "duration": 67,
    "start_time": "2021-12-02T12:04:02.899Z"
   },
   {
    "duration": 2,
    "start_time": "2021-12-02T12:04:02.968Z"
   },
   {
    "duration": 5,
    "start_time": "2021-12-02T12:04:02.972Z"
   },
   {
    "duration": 11,
    "start_time": "2021-12-02T12:04:02.978Z"
   },
   {
    "duration": 7,
    "start_time": "2021-12-02T12:04:02.990Z"
   },
   {
    "duration": 57,
    "start_time": "2021-12-02T12:04:02.998Z"
   },
   {
    "duration": 195,
    "start_time": "2021-12-02T12:04:03.058Z"
   },
   {
    "duration": 119,
    "start_time": "2021-12-02T12:04:03.255Z"
   },
   {
    "duration": 3,
    "start_time": "2021-12-02T12:04:03.377Z"
   },
   {
    "duration": 4,
    "start_time": "2021-12-02T12:04:03.382Z"
   },
   {
    "duration": 24,
    "start_time": "2021-12-02T12:04:03.388Z"
   },
   {
    "duration": 32,
    "start_time": "2021-12-02T12:04:03.414Z"
   },
   {
    "duration": 9,
    "start_time": "2021-12-02T12:04:03.448Z"
   },
   {
    "duration": 6,
    "start_time": "2021-12-02T12:04:03.461Z"
   },
   {
    "duration": 10,
    "start_time": "2021-12-02T12:04:03.470Z"
   },
   {
    "duration": 5,
    "start_time": "2021-12-02T12:04:03.482Z"
   },
   {
    "duration": 54,
    "start_time": "2021-12-02T12:04:03.490Z"
   },
   {
    "duration": 69,
    "start_time": "2021-12-02T12:04:03.546Z"
   },
   {
    "duration": 50,
    "start_time": "2021-12-02T12:04:03.616Z"
   },
   {
    "duration": 18,
    "start_time": "2021-12-02T12:04:03.667Z"
   },
   {
    "duration": 10,
    "start_time": "2021-12-02T12:04:03.687Z"
   },
   {
    "duration": 49,
    "start_time": "2021-12-02T12:04:03.699Z"
   },
   {
    "duration": 116,
    "start_time": "2021-12-02T12:04:03.750Z"
   },
   {
    "duration": 50,
    "start_time": "2021-12-02T12:04:03.869Z"
   },
   {
    "duration": 30,
    "start_time": "2021-12-02T12:04:03.922Z"
   },
   {
    "duration": 11,
    "start_time": "2021-12-02T12:04:03.954Z"
   },
   {
    "duration": 10,
    "start_time": "2021-12-02T12:04:03.967Z"
   },
   {
    "duration": 17,
    "start_time": "2021-12-02T12:04:03.979Z"
   },
   {
    "duration": 5,
    "start_time": "2021-12-02T12:04:03.998Z"
   },
   {
    "duration": 11,
    "start_time": "2021-12-02T12:04:04.005Z"
   },
   {
    "duration": 30,
    "start_time": "2021-12-02T12:04:04.018Z"
   },
   {
    "duration": 9,
    "start_time": "2021-12-02T12:04:04.050Z"
   },
   {
    "duration": 9,
    "start_time": "2021-12-02T12:04:04.061Z"
   },
   {
    "duration": 11,
    "start_time": "2021-12-02T12:04:04.072Z"
   },
   {
    "duration": 5,
    "start_time": "2021-12-02T12:04:04.085Z"
   },
   {
    "duration": 7,
    "start_time": "2021-12-02T12:04:04.091Z"
   },
   {
    "duration": 8,
    "start_time": "2021-12-02T12:04:04.099Z"
   },
   {
    "duration": 36,
    "start_time": "2021-12-02T12:04:04.108Z"
   },
   {
    "duration": 4,
    "start_time": "2021-12-02T12:04:04.146Z"
   },
   {
    "duration": 38,
    "start_time": "2021-12-02T12:04:04.151Z"
   },
   {
    "duration": 99,
    "start_time": "2021-12-02T12:04:04.190Z"
   },
   {
    "duration": 39,
    "start_time": "2021-12-02T12:04:04.291Z"
   },
   {
    "duration": 27,
    "start_time": "2021-12-02T12:04:04.332Z"
   },
   {
    "duration": 21,
    "start_time": "2021-12-02T12:04:04.361Z"
   },
   {
    "duration": 19,
    "start_time": "2021-12-02T12:04:04.383Z"
   },
   {
    "duration": 66,
    "start_time": "2021-12-02T12:04:04.403Z"
   },
   {
    "duration": 21,
    "start_time": "2021-12-02T12:04:04.471Z"
   },
   {
    "duration": 6,
    "start_time": "2021-12-02T12:04:04.494Z"
   },
   {
    "duration": 15,
    "start_time": "2021-12-02T12:04:04.502Z"
   },
   {
    "duration": 31,
    "start_time": "2021-12-02T12:04:04.519Z"
   },
   {
    "duration": 7,
    "start_time": "2021-12-02T12:04:04.552Z"
   },
   {
    "duration": 17,
    "start_time": "2021-12-02T12:04:04.561Z"
   },
   {
    "duration": 4,
    "start_time": "2021-12-02T12:04:04.580Z"
   },
   {
    "duration": 7,
    "start_time": "2021-12-02T12:04:04.586Z"
   },
   {
    "duration": 55,
    "start_time": "2021-12-02T12:04:04.595Z"
   },
   {
    "duration": 10,
    "start_time": "2021-12-02T12:04:04.656Z"
   },
   {
    "duration": 16,
    "start_time": "2021-12-02T12:04:04.668Z"
   },
   {
    "duration": 16,
    "start_time": "2021-12-02T12:04:04.686Z"
   },
   {
    "duration": 6,
    "start_time": "2021-12-02T12:04:04.704Z"
   },
   {
    "duration": 4,
    "start_time": "2021-12-02T12:04:04.744Z"
   },
   {
    "duration": 5,
    "start_time": "2021-12-02T12:04:04.749Z"
   },
   {
    "duration": 5,
    "start_time": "2021-12-02T12:04:04.755Z"
   },
   {
    "duration": 2,
    "start_time": "2021-12-02T12:04:07.154Z"
   },
   {
    "duration": 4,
    "start_time": "2021-12-02T12:04:08.172Z"
   },
   {
    "duration": 8446,
    "start_time": "2021-12-02T12:04:09.226Z"
   },
   {
    "duration": 5,
    "start_time": "2021-12-02T12:05:03.182Z"
   },
   {
    "duration": 27,
    "start_time": "2021-12-02T12:05:03.533Z"
   },
   {
    "duration": 16,
    "start_time": "2021-12-02T12:05:06.167Z"
   },
   {
    "duration": 2,
    "start_time": "2021-12-02T12:12:37.577Z"
   },
   {
    "duration": 5,
    "start_time": "2021-12-02T12:12:37.581Z"
   },
   {
    "duration": 5,
    "start_time": "2021-12-02T12:12:37.588Z"
   },
   {
    "duration": 711,
    "start_time": "2021-12-02T12:12:37.595Z"
   },
   {
    "duration": 444,
    "start_time": "2021-12-02T12:12:38.308Z"
   },
   {
    "duration": 12,
    "start_time": "2021-12-02T12:12:38.755Z"
   },
   {
    "duration": 346,
    "start_time": "2021-12-02T12:12:38.769Z"
   },
   {
    "duration": 57,
    "start_time": "2021-12-02T12:12:39.116Z"
   },
   {
    "duration": 71,
    "start_time": "2021-12-02T12:12:39.176Z"
   },
   {
    "duration": 5,
    "start_time": "2021-12-02T12:12:39.249Z"
   },
   {
    "duration": 20,
    "start_time": "2021-12-02T12:12:39.255Z"
   },
   {
    "duration": 28,
    "start_time": "2021-12-02T12:12:39.277Z"
   },
   {
    "duration": 17,
    "start_time": "2021-12-02T12:12:39.307Z"
   },
   {
    "duration": 48,
    "start_time": "2021-12-02T12:12:39.327Z"
   },
   {
    "duration": 112,
    "start_time": "2021-12-02T12:12:39.378Z"
   },
   {
    "duration": 92,
    "start_time": "2021-12-02T12:12:39.493Z"
   },
   {
    "duration": 2,
    "start_time": "2021-12-02T12:12:39.586Z"
   },
   {
    "duration": 6,
    "start_time": "2021-12-02T12:12:39.590Z"
   },
   {
    "duration": 26,
    "start_time": "2021-12-02T12:12:39.597Z"
   },
   {
    "duration": 21,
    "start_time": "2021-12-02T12:12:39.625Z"
   },
   {
    "duration": 17,
    "start_time": "2021-12-02T12:12:39.649Z"
   },
   {
    "duration": 10,
    "start_time": "2021-12-02T12:12:39.667Z"
   },
   {
    "duration": 11,
    "start_time": "2021-12-02T12:12:39.679Z"
   },
   {
    "duration": 8,
    "start_time": "2021-12-02T12:12:39.691Z"
   },
   {
    "duration": 19,
    "start_time": "2021-12-02T12:12:39.700Z"
   },
   {
    "duration": 94,
    "start_time": "2021-12-02T12:12:39.721Z"
   },
   {
    "duration": 50,
    "start_time": "2021-12-02T12:12:39.817Z"
   },
   {
    "duration": 17,
    "start_time": "2021-12-02T12:12:39.869Z"
   },
   {
    "duration": 7,
    "start_time": "2021-12-02T12:12:39.888Z"
   },
   {
    "duration": 18,
    "start_time": "2021-12-02T12:12:39.896Z"
   },
   {
    "duration": 92,
    "start_time": "2021-12-02T12:12:39.916Z"
   },
   {
    "duration": 54,
    "start_time": "2021-12-02T12:12:40.010Z"
   },
   {
    "duration": 14,
    "start_time": "2021-12-02T12:12:40.066Z"
   },
   {
    "duration": 8,
    "start_time": "2021-12-02T12:12:40.082Z"
   },
   {
    "duration": 8,
    "start_time": "2021-12-02T12:12:40.091Z"
   },
   {
    "duration": 10,
    "start_time": "2021-12-02T12:12:40.101Z"
   },
   {
    "duration": 32,
    "start_time": "2021-12-02T12:12:40.113Z"
   },
   {
    "duration": 9,
    "start_time": "2021-12-02T12:12:40.150Z"
   },
   {
    "duration": 3,
    "start_time": "2021-12-02T12:12:40.161Z"
   },
   {
    "duration": 7,
    "start_time": "2021-12-02T12:12:40.166Z"
   },
   {
    "duration": 6,
    "start_time": "2021-12-02T12:12:40.174Z"
   },
   {
    "duration": 9,
    "start_time": "2021-12-02T12:12:40.181Z"
   },
   {
    "duration": 6,
    "start_time": "2021-12-02T12:12:40.192Z"
   },
   {
    "duration": 6,
    "start_time": "2021-12-02T12:12:40.199Z"
   },
   {
    "duration": 43,
    "start_time": "2021-12-02T12:12:40.207Z"
   },
   {
    "duration": 5,
    "start_time": "2021-12-02T12:12:40.253Z"
   },
   {
    "duration": 5,
    "start_time": "2021-12-02T12:12:40.260Z"
   },
   {
    "duration": 30,
    "start_time": "2021-12-02T12:12:40.267Z"
   },
   {
    "duration": 115,
    "start_time": "2021-12-02T12:12:40.299Z"
   },
   {
    "duration": 53,
    "start_time": "2021-12-02T12:12:40.415Z"
   },
   {
    "duration": 19,
    "start_time": "2021-12-02T12:12:40.469Z"
   },
   {
    "duration": 22,
    "start_time": "2021-12-02T12:12:40.489Z"
   },
   {
    "duration": 43,
    "start_time": "2021-12-02T12:12:40.512Z"
   },
   {
    "duration": 40,
    "start_time": "2021-12-02T12:12:40.557Z"
   },
   {
    "duration": 46,
    "start_time": "2021-12-02T12:12:40.599Z"
   },
   {
    "duration": 15,
    "start_time": "2021-12-02T12:12:40.647Z"
   },
   {
    "duration": 17,
    "start_time": "2021-12-02T12:12:40.663Z"
   },
   {
    "duration": 11,
    "start_time": "2021-12-02T12:12:40.681Z"
   },
   {
    "duration": 6,
    "start_time": "2021-12-02T12:12:40.694Z"
   },
   {
    "duration": 15,
    "start_time": "2021-12-02T12:12:40.701Z"
   },
   {
    "duration": 3,
    "start_time": "2021-12-02T12:12:40.745Z"
   },
   {
    "duration": 14,
    "start_time": "2021-12-02T12:12:40.750Z"
   },
   {
    "duration": 17,
    "start_time": "2021-12-02T12:12:40.765Z"
   },
   {
    "duration": 9,
    "start_time": "2021-12-02T12:12:40.784Z"
   },
   {
    "duration": 14,
    "start_time": "2021-12-02T12:12:40.794Z"
   },
   {
    "duration": 50,
    "start_time": "2021-12-02T12:12:40.810Z"
   },
   {
    "duration": 6,
    "start_time": "2021-12-02T12:12:40.862Z"
   },
   {
    "duration": 5,
    "start_time": "2021-12-02T12:12:40.870Z"
   },
   {
    "duration": 4,
    "start_time": "2021-12-02T12:12:40.877Z"
   },
   {
    "duration": 4,
    "start_time": "2021-12-02T12:12:40.882Z"
   },
   {
    "duration": 6,
    "start_time": "2021-12-02T12:12:40.888Z"
   },
   {
    "duration": 5,
    "start_time": "2021-12-02T12:12:43.543Z"
   },
   {
    "duration": 7,
    "start_time": "2021-12-02T12:12:44.428Z"
   },
   {
    "duration": 17,
    "start_time": "2021-12-02T12:12:45.764Z"
   },
   {
    "duration": 7,
    "start_time": "2021-12-02T12:14:20.075Z"
   },
   {
    "duration": 13,
    "start_time": "2021-12-02T12:14:21.272Z"
   },
   {
    "duration": 4,
    "start_time": "2021-12-02T12:17:30.634Z"
   },
   {
    "duration": 651,
    "start_time": "2021-12-02T12:17:31.491Z"
   },
   {
    "duration": 15,
    "start_time": "2021-12-02T12:17:32.594Z"
   },
   {
    "duration": 2,
    "start_time": "2021-12-02T12:17:46.572Z"
   },
   {
    "duration": 20,
    "start_time": "2021-12-02T12:17:46.577Z"
   },
   {
    "duration": 35,
    "start_time": "2021-12-02T12:17:46.599Z"
   },
   {
    "duration": 720,
    "start_time": "2021-12-02T12:17:46.636Z"
   },
   {
    "duration": 459,
    "start_time": "2021-12-02T12:17:47.358Z"
   },
   {
    "duration": 12,
    "start_time": "2021-12-02T12:17:47.819Z"
   },
   {
    "duration": 387,
    "start_time": "2021-12-02T12:17:47.832Z"
   },
   {
    "duration": 53,
    "start_time": "2021-12-02T12:17:48.220Z"
   },
   {
    "duration": 79,
    "start_time": "2021-12-02T12:17:48.277Z"
   },
   {
    "duration": 3,
    "start_time": "2021-12-02T12:17:48.358Z"
   },
   {
    "duration": 5,
    "start_time": "2021-12-02T12:17:48.363Z"
   },
   {
    "duration": 11,
    "start_time": "2021-12-02T12:17:48.369Z"
   },
   {
    "duration": 8,
    "start_time": "2021-12-02T12:17:48.382Z"
   },
   {
    "duration": 26,
    "start_time": "2021-12-02T12:17:48.392Z"
   },
   {
    "duration": 106,
    "start_time": "2021-12-02T12:17:48.444Z"
   },
   {
    "duration": 100,
    "start_time": "2021-12-02T12:17:48.552Z"
   },
   {
    "duration": 2,
    "start_time": "2021-12-02T12:17:48.655Z"
   },
   {
    "duration": 3,
    "start_time": "2021-12-02T12:17:48.660Z"
   },
   {
    "duration": 24,
    "start_time": "2021-12-02T12:17:48.665Z"
   },
   {
    "duration": 9,
    "start_time": "2021-12-02T12:17:48.691Z"
   },
   {
    "duration": 8,
    "start_time": "2021-12-02T12:17:48.702Z"
   },
   {
    "duration": 38,
    "start_time": "2021-12-02T12:17:48.712Z"
   },
   {
    "duration": 11,
    "start_time": "2021-12-02T12:17:48.752Z"
   },
   {
    "duration": 5,
    "start_time": "2021-12-02T12:17:48.765Z"
   },
   {
    "duration": 20,
    "start_time": "2021-12-02T12:17:48.772Z"
   },
   {
    "duration": 102,
    "start_time": "2021-12-02T12:17:48.797Z"
   },
   {
    "duration": 43,
    "start_time": "2021-12-02T12:17:48.902Z"
   },
   {
    "duration": 18,
    "start_time": "2021-12-02T12:17:48.946Z"
   },
   {
    "duration": 7,
    "start_time": "2021-12-02T12:17:48.966Z"
   },
   {
    "duration": 20,
    "start_time": "2021-12-02T12:17:48.974Z"
   },
   {
    "duration": 81,
    "start_time": "2021-12-02T12:17:48.995Z"
   },
   {
    "duration": 31,
    "start_time": "2021-12-02T12:17:49.078Z"
   },
   {
    "duration": 22,
    "start_time": "2021-12-02T12:17:49.111Z"
   },
   {
    "duration": 15,
    "start_time": "2021-12-02T12:17:49.135Z"
   },
   {
    "duration": 24,
    "start_time": "2021-12-02T12:17:49.151Z"
   },
   {
    "duration": 22,
    "start_time": "2021-12-02T12:17:49.177Z"
   },
   {
    "duration": 17,
    "start_time": "2021-12-02T12:17:49.201Z"
   },
   {
    "duration": 35,
    "start_time": "2021-12-02T12:17:49.219Z"
   },
   {
    "duration": 19,
    "start_time": "2021-12-02T12:17:49.256Z"
   },
   {
    "duration": 36,
    "start_time": "2021-12-02T12:17:49.276Z"
   },
   {
    "duration": 21,
    "start_time": "2021-12-02T12:17:49.314Z"
   },
   {
    "duration": 32,
    "start_time": "2021-12-02T12:17:49.337Z"
   },
   {
    "duration": 14,
    "start_time": "2021-12-02T12:17:49.371Z"
   },
   {
    "duration": 25,
    "start_time": "2021-12-02T12:17:49.387Z"
   },
   {
    "duration": 15,
    "start_time": "2021-12-02T12:17:49.413Z"
   },
   {
    "duration": 21,
    "start_time": "2021-12-02T12:17:49.429Z"
   },
   {
    "duration": 16,
    "start_time": "2021-12-02T12:17:49.452Z"
   },
   {
    "duration": 36,
    "start_time": "2021-12-02T12:17:49.470Z"
   },
   {
    "duration": 125,
    "start_time": "2021-12-02T12:17:49.508Z"
   },
   {
    "duration": 47,
    "start_time": "2021-12-02T12:17:49.634Z"
   },
   {
    "duration": 18,
    "start_time": "2021-12-02T12:17:49.683Z"
   },
   {
    "duration": 44,
    "start_time": "2021-12-02T12:17:49.703Z"
   },
   {
    "duration": 23,
    "start_time": "2021-12-02T12:17:49.749Z"
   },
   {
    "duration": 34,
    "start_time": "2021-12-02T12:17:49.774Z"
   },
   {
    "duration": 44,
    "start_time": "2021-12-02T12:17:49.810Z"
   },
   {
    "duration": 7,
    "start_time": "2021-12-02T12:17:49.856Z"
   },
   {
    "duration": 18,
    "start_time": "2021-12-02T12:17:49.865Z"
   },
   {
    "duration": 5,
    "start_time": "2021-12-02T12:17:49.885Z"
   },
   {
    "duration": 7,
    "start_time": "2021-12-02T12:17:49.892Z"
   },
   {
    "duration": 49,
    "start_time": "2021-12-02T12:17:49.901Z"
   },
   {
    "duration": 6,
    "start_time": "2021-12-02T12:17:49.952Z"
   },
   {
    "duration": 9,
    "start_time": "2021-12-02T12:17:49.960Z"
   },
   {
    "duration": 24,
    "start_time": "2021-12-02T12:17:49.971Z"
   },
   {
    "duration": 12,
    "start_time": "2021-12-02T12:17:49.997Z"
   },
   {
    "duration": 45,
    "start_time": "2021-12-02T12:17:50.011Z"
   },
   {
    "duration": 25,
    "start_time": "2021-12-02T12:17:50.058Z"
   },
   {
    "duration": 8,
    "start_time": "2021-12-02T12:17:50.086Z"
   },
   {
    "duration": 13,
    "start_time": "2021-12-02T12:17:50.096Z"
   },
   {
    "duration": 15,
    "start_time": "2021-12-02T12:17:50.111Z"
   },
   {
    "duration": 16,
    "start_time": "2021-12-02T12:17:50.128Z"
   },
   {
    "duration": 2,
    "start_time": "2021-12-02T12:17:50.147Z"
   },
   {
    "duration": 3,
    "start_time": "2021-12-02T12:17:52.052Z"
   },
   {
    "duration": 4,
    "start_time": "2021-12-02T12:17:53.887Z"
   },
   {
    "duration": 542,
    "start_time": "2021-12-02T12:17:55.457Z"
   },
   {
    "duration": 4,
    "start_time": "2021-12-02T12:19:49.752Z"
   },
   {
    "duration": 5,
    "start_time": "2021-12-02T12:19:50.605Z"
   },
   {
    "duration": 12,
    "start_time": "2021-12-02T12:19:52.112Z"
   },
   {
    "duration": 3,
    "start_time": "2021-12-02T12:24:43.953Z"
   },
   {
    "duration": 5,
    "start_time": "2021-12-02T12:24:45.220Z"
   },
   {
    "duration": 5,
    "start_time": "2021-12-02T12:25:54.821Z"
   },
   {
    "duration": 3,
    "start_time": "2021-12-02T12:25:55.546Z"
   },
   {
    "duration": 2,
    "start_time": "2021-12-02T12:25:56.542Z"
   },
   {
    "duration": 3,
    "start_time": "2021-12-02T12:25:57.191Z"
   },
   {
    "duration": 3,
    "start_time": "2021-12-02T12:25:57.861Z"
   },
   {
    "duration": 3,
    "start_time": "2021-12-02T12:25:58.654Z"
   },
   {
    "duration": 5,
    "start_time": "2021-12-02T12:25:59.510Z"
   },
   {
    "duration": 13,
    "start_time": "2021-12-02T12:26:01.591Z"
   },
   {
    "duration": 5,
    "start_time": "2021-12-02T12:30:15.526Z"
   },
   {
    "duration": 26,
    "start_time": "2021-12-02T12:30:16.799Z"
   },
   {
    "duration": 13,
    "start_time": "2021-12-02T12:30:18.149Z"
   },
   {
    "duration": 16,
    "start_time": "2021-12-02T12:30:22.924Z"
   },
   {
    "duration": 4,
    "start_time": "2021-12-02T12:35:45.649Z"
   },
   {
    "duration": 519,
    "start_time": "2021-12-02T12:35:46.427Z"
   },
   {
    "duration": 17,
    "start_time": "2021-12-02T12:35:47.372Z"
   },
   {
    "duration": 4,
    "start_time": "2021-12-02T12:36:11.995Z"
   },
   {
    "duration": 519,
    "start_time": "2021-12-02T12:36:12.981Z"
   },
   {
    "duration": 3,
    "start_time": "2021-12-02T12:36:22.611Z"
   },
   {
    "duration": 6,
    "start_time": "2021-12-02T12:36:22.616Z"
   },
   {
    "duration": 4,
    "start_time": "2021-12-02T12:36:22.624Z"
   },
   {
    "duration": 746,
    "start_time": "2021-12-02T12:36:22.630Z"
   },
   {
    "duration": 456,
    "start_time": "2021-12-02T12:36:23.378Z"
   },
   {
    "duration": 16,
    "start_time": "2021-12-02T12:36:23.836Z"
   },
   {
    "duration": 342,
    "start_time": "2021-12-02T12:36:23.854Z"
   },
   {
    "duration": 57,
    "start_time": "2021-12-02T12:36:24.198Z"
   },
   {
    "duration": 70,
    "start_time": "2021-12-02T12:36:24.257Z"
   },
   {
    "duration": 3,
    "start_time": "2021-12-02T12:36:24.329Z"
   },
   {
    "duration": 3,
    "start_time": "2021-12-02T12:36:24.344Z"
   },
   {
    "duration": 9,
    "start_time": "2021-12-02T12:36:24.349Z"
   },
   {
    "duration": 5,
    "start_time": "2021-12-02T12:36:24.360Z"
   },
   {
    "duration": 27,
    "start_time": "2021-12-02T12:36:24.367Z"
   },
   {
    "duration": 115,
    "start_time": "2021-12-02T12:36:24.396Z"
   },
   {
    "duration": 97,
    "start_time": "2021-12-02T12:36:24.513Z"
   },
   {
    "duration": 2,
    "start_time": "2021-12-02T12:36:24.614Z"
   },
   {
    "duration": 4,
    "start_time": "2021-12-02T12:36:24.619Z"
   },
   {
    "duration": 35,
    "start_time": "2021-12-02T12:36:24.625Z"
   },
   {
    "duration": 9,
    "start_time": "2021-12-02T12:36:24.661Z"
   },
   {
    "duration": 11,
    "start_time": "2021-12-02T12:36:24.672Z"
   },
   {
    "duration": 11,
    "start_time": "2021-12-02T12:36:24.685Z"
   },
   {
    "duration": 14,
    "start_time": "2021-12-02T12:36:24.697Z"
   },
   {
    "duration": 5,
    "start_time": "2021-12-02T12:36:24.713Z"
   },
   {
    "duration": 22,
    "start_time": "2021-12-02T12:36:24.744Z"
   },
   {
    "duration": 88,
    "start_time": "2021-12-02T12:36:24.767Z"
   },
   {
    "duration": 31,
    "start_time": "2021-12-02T12:36:24.857Z"
   },
   {
    "duration": 17,
    "start_time": "2021-12-02T12:36:24.890Z"
   },
   {
    "duration": 8,
    "start_time": "2021-12-02T12:36:24.909Z"
   },
   {
    "duration": 39,
    "start_time": "2021-12-02T12:36:24.919Z"
   },
   {
    "duration": 70,
    "start_time": "2021-12-02T12:36:24.960Z"
   },
   {
    "duration": 34,
    "start_time": "2021-12-02T12:36:25.044Z"
   },
   {
    "duration": 15,
    "start_time": "2021-12-02T12:36:25.080Z"
   },
   {
    "duration": 18,
    "start_time": "2021-12-02T12:36:25.097Z"
   },
   {
    "duration": 30,
    "start_time": "2021-12-02T12:36:25.116Z"
   },
   {
    "duration": 28,
    "start_time": "2021-12-02T12:36:25.148Z"
   },
   {
    "duration": 26,
    "start_time": "2021-12-02T12:36:25.178Z"
   },
   {
    "duration": 21,
    "start_time": "2021-12-02T12:36:25.206Z"
   },
   {
    "duration": 29,
    "start_time": "2021-12-02T12:36:25.229Z"
   },
   {
    "duration": 31,
    "start_time": "2021-12-02T12:36:25.260Z"
   },
   {
    "duration": 21,
    "start_time": "2021-12-02T12:36:25.293Z"
   },
   {
    "duration": 25,
    "start_time": "2021-12-02T12:36:25.316Z"
   },
   {
    "duration": 20,
    "start_time": "2021-12-02T12:36:25.343Z"
   },
   {
    "duration": 21,
    "start_time": "2021-12-02T12:36:25.365Z"
   },
   {
    "duration": 12,
    "start_time": "2021-12-02T12:36:25.388Z"
   },
   {
    "duration": 7,
    "start_time": "2021-12-02T12:36:25.402Z"
   },
   {
    "duration": 4,
    "start_time": "2021-12-02T12:36:25.413Z"
   },
   {
    "duration": 43,
    "start_time": "2021-12-02T12:36:25.419Z"
   },
   {
    "duration": 104,
    "start_time": "2021-12-02T12:36:25.464Z"
   },
   {
    "duration": 53,
    "start_time": "2021-12-02T12:36:25.570Z"
   },
   {
    "duration": 31,
    "start_time": "2021-12-02T12:36:25.625Z"
   },
   {
    "duration": 21,
    "start_time": "2021-12-02T12:36:25.658Z"
   },
   {
    "duration": 25,
    "start_time": "2021-12-02T12:36:25.682Z"
   },
   {
    "duration": 69,
    "start_time": "2021-12-02T12:36:25.709Z"
   },
   {
    "duration": 22,
    "start_time": "2021-12-02T12:36:25.780Z"
   },
   {
    "duration": 6,
    "start_time": "2021-12-02T12:36:25.803Z"
   },
   {
    "duration": 34,
    "start_time": "2021-12-02T12:36:25.811Z"
   },
   {
    "duration": 5,
    "start_time": "2021-12-02T12:36:25.847Z"
   },
   {
    "duration": 17,
    "start_time": "2021-12-02T12:36:25.854Z"
   },
   {
    "duration": 25,
    "start_time": "2021-12-02T12:36:25.873Z"
   },
   {
    "duration": 4,
    "start_time": "2021-12-02T12:36:25.900Z"
   },
   {
    "duration": 8,
    "start_time": "2021-12-02T12:36:25.906Z"
   },
   {
    "duration": 30,
    "start_time": "2021-12-02T12:36:25.916Z"
   },
   {
    "duration": 10,
    "start_time": "2021-12-02T12:36:25.947Z"
   },
   {
    "duration": 16,
    "start_time": "2021-12-02T12:36:25.959Z"
   },
   {
    "duration": 19,
    "start_time": "2021-12-02T12:36:25.977Z"
   },
   {
    "duration": 16,
    "start_time": "2021-12-02T12:36:25.998Z"
   },
   {
    "duration": 9,
    "start_time": "2021-12-02T12:36:26.016Z"
   },
   {
    "duration": 4,
    "start_time": "2021-12-02T12:36:27.710Z"
   },
   {
    "duration": 4,
    "start_time": "2021-12-02T12:36:28.353Z"
   },
   {
    "duration": 787,
    "start_time": "2021-12-02T12:36:29.280Z"
   },
   {
    "duration": 5,
    "start_time": "2021-12-02T12:39:11.090Z"
   },
   {
    "duration": 6,
    "start_time": "2021-12-02T12:39:12.426Z"
   },
   {
    "duration": 22,
    "start_time": "2021-12-02T12:39:14.050Z"
   },
   {
    "duration": 354,
    "start_time": "2021-12-02T12:40:02.737Z"
   },
   {
    "duration": 39,
    "start_time": "2021-12-02T12:40:05.244Z"
   },
   {
    "duration": 12,
    "start_time": "2021-12-02T12:40:28.136Z"
   },
   {
    "duration": 5,
    "start_time": "2021-12-02T12:41:20.617Z"
   },
   {
    "duration": 184,
    "start_time": "2021-12-02T12:41:21.455Z"
   },
   {
    "duration": 25,
    "start_time": "2021-12-02T12:41:22.801Z"
   },
   {
    "duration": 5,
    "start_time": "2021-12-02T12:42:49.608Z"
   },
   {
    "duration": 174,
    "start_time": "2021-12-02T12:42:50.309Z"
   },
   {
    "duration": 26,
    "start_time": "2021-12-02T12:42:51.264Z"
   },
   {
    "duration": 8,
    "start_time": "2021-12-02T12:42:59.751Z"
   },
   {
    "duration": 19,
    "start_time": "2021-12-02T12:43:35.036Z"
   },
   {
    "duration": 179,
    "start_time": "2021-12-02T12:51:31.702Z"
   },
   {
    "duration": 15,
    "start_time": "2021-12-02T12:57:18.079Z"
   },
   {
    "duration": 47,
    "start_time": "2021-12-02T12:57:19.458Z"
   },
   {
    "duration": 50,
    "start_time": "2021-12-02T13:01:25.256Z"
   },
   {
    "duration": 53,
    "start_time": "2021-12-02T13:01:26.840Z"
   },
   {
    "duration": 345,
    "start_time": "2021-12-02T13:10:12.866Z"
   },
   {
    "duration": 364,
    "start_time": "2021-12-02T13:16:26.711Z"
   },
   {
    "duration": 553,
    "start_time": "2021-12-02T13:16:45.854Z"
   },
   {
    "duration": 335,
    "start_time": "2021-12-02T13:17:11.786Z"
   },
   {
    "duration": 607,
    "start_time": "2021-12-02T13:19:28.144Z"
   },
   {
    "duration": 524,
    "start_time": "2021-12-02T13:19:47.467Z"
   },
   {
    "duration": 348,
    "start_time": "2021-12-02T13:20:36.331Z"
   },
   {
    "duration": 338,
    "start_time": "2021-12-02T13:20:37.566Z"
   },
   {
    "duration": 329,
    "start_time": "2021-12-02T13:20:38.702Z"
   },
   {
    "duration": 329,
    "start_time": "2021-12-02T13:21:11.523Z"
   },
   {
    "duration": 523,
    "start_time": "2021-12-02T13:21:31.792Z"
   },
   {
    "duration": 349,
    "start_time": "2021-12-02T13:22:21.824Z"
   },
   {
    "duration": 364,
    "start_time": "2021-12-02T13:22:38.169Z"
   },
   {
    "duration": 323,
    "start_time": "2021-12-02T13:23:41.087Z"
   },
   {
    "duration": 434,
    "start_time": "2021-12-02T13:24:35.145Z"
   },
   {
    "duration": 348,
    "start_time": "2021-12-02T13:25:03.042Z"
   },
   {
    "duration": 8,
    "start_time": "2021-12-02T13:28:08.894Z"
   },
   {
    "duration": 127,
    "start_time": "2021-12-02T13:28:11.292Z"
   },
   {
    "duration": 380,
    "start_time": "2021-12-02T13:28:15.029Z"
   },
   {
    "duration": 436,
    "start_time": "2021-12-02T13:30:28.575Z"
   },
   {
    "duration": 420,
    "start_time": "2021-12-02T13:30:39.529Z"
   },
   {
    "duration": 448,
    "start_time": "2021-12-02T13:30:57.875Z"
   },
   {
    "duration": 429,
    "start_time": "2021-12-02T13:31:31.238Z"
   },
   {
    "duration": 525,
    "start_time": "2021-12-02T13:32:29.101Z"
   },
   {
    "duration": 404,
    "start_time": "2021-12-02T13:33:25.858Z"
   },
   {
    "duration": 466,
    "start_time": "2021-12-02T13:33:31.349Z"
   },
   {
    "duration": 633,
    "start_time": "2021-12-02T13:33:40.382Z"
   },
   {
    "duration": 628,
    "start_time": "2021-12-02T13:33:57.490Z"
   },
   {
    "duration": 344,
    "start_time": "2021-12-02T13:35:08.463Z"
   },
   {
    "duration": 329,
    "start_time": "2021-12-02T13:35:18.182Z"
   },
   {
    "duration": 319,
    "start_time": "2021-12-02T13:36:06.762Z"
   },
   {
    "duration": 294,
    "start_time": "2021-12-02T13:36:40.976Z"
   },
   {
    "duration": 4,
    "start_time": "2021-12-02T13:37:19.646Z"
   },
   {
    "duration": 287,
    "start_time": "2021-12-02T13:39:00.890Z"
   },
   {
    "duration": 285,
    "start_time": "2021-12-02T13:39:16.043Z"
   },
   {
    "duration": 282,
    "start_time": "2021-12-02T13:39:54.351Z"
   },
   {
    "duration": 303,
    "start_time": "2021-12-02T13:40:21.379Z"
   },
   {
    "duration": 272,
    "start_time": "2021-12-02T13:41:05.617Z"
   },
   {
    "duration": 327,
    "start_time": "2021-12-02T13:41:30.262Z"
   },
   {
    "duration": 290,
    "start_time": "2021-12-02T13:41:35.397Z"
   },
   {
    "duration": 360,
    "start_time": "2021-12-02T13:41:50.277Z"
   },
   {
    "duration": 293,
    "start_time": "2021-12-02T13:42:08.751Z"
   },
   {
    "duration": 287,
    "start_time": "2021-12-02T13:42:42.378Z"
   },
   {
    "duration": 286,
    "start_time": "2021-12-02T13:42:55.048Z"
   },
   {
    "duration": 306,
    "start_time": "2021-12-02T13:43:20.577Z"
   },
   {
    "duration": 319,
    "start_time": "2021-12-02T13:43:27.743Z"
   },
   {
    "duration": 321,
    "start_time": "2021-12-02T13:43:36.571Z"
   },
   {
    "duration": 293,
    "start_time": "2021-12-02T13:44:19.354Z"
   },
   {
    "duration": 326,
    "start_time": "2021-12-02T13:44:54.471Z"
   },
   {
    "duration": 298,
    "start_time": "2021-12-02T13:45:09.917Z"
   },
   {
    "duration": 343,
    "start_time": "2021-12-02T13:45:27.942Z"
   },
   {
    "duration": 361,
    "start_time": "2021-12-02T13:46:29.512Z"
   },
   {
    "duration": 290,
    "start_time": "2021-12-02T13:46:30.939Z"
   },
   {
    "duration": 289,
    "start_time": "2021-12-02T13:46:32.202Z"
   },
   {
    "duration": 2,
    "start_time": "2021-12-02T14:00:42.205Z"
   },
   {
    "duration": 4,
    "start_time": "2021-12-02T14:08:15.302Z"
   },
   {
    "duration": 3,
    "start_time": "2021-12-02T14:10:22.132Z"
   },
   {
    "duration": 10,
    "start_time": "2021-12-02T14:10:22.138Z"
   },
   {
    "duration": 21,
    "start_time": "2021-12-02T14:10:22.150Z"
   },
   {
    "duration": 738,
    "start_time": "2021-12-02T14:10:22.174Z"
   },
   {
    "duration": 457,
    "start_time": "2021-12-02T14:10:22.914Z"
   },
   {
    "duration": 13,
    "start_time": "2021-12-02T14:10:23.373Z"
   },
   {
    "duration": 347,
    "start_time": "2021-12-02T14:10:23.388Z"
   },
   {
    "duration": 52,
    "start_time": "2021-12-02T14:10:23.744Z"
   },
   {
    "duration": 77,
    "start_time": "2021-12-02T14:10:23.799Z"
   },
   {
    "duration": 3,
    "start_time": "2021-12-02T14:10:23.879Z"
   },
   {
    "duration": 5,
    "start_time": "2021-12-02T14:10:23.883Z"
   },
   {
    "duration": 11,
    "start_time": "2021-12-02T14:10:23.890Z"
   },
   {
    "duration": 4,
    "start_time": "2021-12-02T14:10:23.902Z"
   },
   {
    "duration": 49,
    "start_time": "2021-12-02T14:10:23.908Z"
   },
   {
    "duration": 118,
    "start_time": "2021-12-02T14:10:23.959Z"
   },
   {
    "duration": 92,
    "start_time": "2021-12-02T14:10:24.079Z"
   },
   {
    "duration": 2,
    "start_time": "2021-12-02T14:10:24.173Z"
   },
   {
    "duration": 37,
    "start_time": "2021-12-02T14:10:24.177Z"
   },
   {
    "duration": 55,
    "start_time": "2021-12-02T14:10:24.216Z"
   },
   {
    "duration": 10,
    "start_time": "2021-12-02T14:10:24.273Z"
   },
   {
    "duration": 36,
    "start_time": "2021-12-02T14:10:24.284Z"
   },
   {
    "duration": 29,
    "start_time": "2021-12-02T14:10:24.322Z"
   },
   {
    "duration": 35,
    "start_time": "2021-12-02T14:10:24.354Z"
   },
   {
    "duration": 36,
    "start_time": "2021-12-02T14:10:24.393Z"
   },
   {
    "duration": 43,
    "start_time": "2021-12-02T14:10:24.431Z"
   },
   {
    "duration": 92,
    "start_time": "2021-12-02T14:10:24.476Z"
   },
   {
    "duration": 32,
    "start_time": "2021-12-02T14:10:24.570Z"
   },
   {
    "duration": 17,
    "start_time": "2021-12-02T14:10:24.604Z"
   },
   {
    "duration": 28,
    "start_time": "2021-12-02T14:10:24.623Z"
   },
   {
    "duration": 18,
    "start_time": "2021-12-02T14:10:24.661Z"
   },
   {
    "duration": 90,
    "start_time": "2021-12-02T14:10:24.681Z"
   },
   {
    "duration": 38,
    "start_time": "2021-12-02T14:10:24.773Z"
   },
   {
    "duration": 32,
    "start_time": "2021-12-02T14:10:24.813Z"
   },
   {
    "duration": 15,
    "start_time": "2021-12-02T14:10:24.848Z"
   },
   {
    "duration": 15,
    "start_time": "2021-12-02T14:10:24.865Z"
   },
   {
    "duration": 11,
    "start_time": "2021-12-02T14:10:24.881Z"
   },
   {
    "duration": 5,
    "start_time": "2021-12-02T14:10:24.894Z"
   },
   {
    "duration": 8,
    "start_time": "2021-12-02T14:10:24.901Z"
   },
   {
    "duration": 4,
    "start_time": "2021-12-02T14:10:24.910Z"
   },
   {
    "duration": 32,
    "start_time": "2021-12-02T14:10:24.916Z"
   },
   {
    "duration": 7,
    "start_time": "2021-12-02T14:10:24.951Z"
   },
   {
    "duration": 11,
    "start_time": "2021-12-02T14:10:24.961Z"
   },
   {
    "duration": 6,
    "start_time": "2021-12-02T14:10:24.973Z"
   },
   {
    "duration": 11,
    "start_time": "2021-12-02T14:10:24.980Z"
   },
   {
    "duration": 10,
    "start_time": "2021-12-02T14:10:24.992Z"
   },
   {
    "duration": 6,
    "start_time": "2021-12-02T14:10:25.003Z"
   },
   {
    "duration": 35,
    "start_time": "2021-12-02T14:10:25.010Z"
   },
   {
    "duration": 38,
    "start_time": "2021-12-02T14:10:25.049Z"
   },
   {
    "duration": 113,
    "start_time": "2021-12-02T14:10:25.089Z"
   },
   {
    "duration": 61,
    "start_time": "2021-12-02T14:10:25.204Z"
   },
   {
    "duration": 17,
    "start_time": "2021-12-02T14:10:25.266Z"
   },
   {
    "duration": 23,
    "start_time": "2021-12-02T14:10:25.285Z"
   },
   {
    "duration": 57,
    "start_time": "2021-12-02T14:10:25.310Z"
   },
   {
    "duration": 39,
    "start_time": "2021-12-02T14:10:25.370Z"
   },
   {
    "duration": 47,
    "start_time": "2021-12-02T14:10:25.412Z"
   },
   {
    "duration": 7,
    "start_time": "2021-12-02T14:10:25.461Z"
   },
   {
    "duration": 21,
    "start_time": "2021-12-02T14:10:25.470Z"
   },
   {
    "duration": 4,
    "start_time": "2021-12-02T14:10:25.493Z"
   },
   {
    "duration": 7,
    "start_time": "2021-12-02T14:10:25.499Z"
   },
   {
    "duration": 40,
    "start_time": "2021-12-02T14:10:25.507Z"
   },
   {
    "duration": 3,
    "start_time": "2021-12-02T14:10:25.550Z"
   },
   {
    "duration": 9,
    "start_time": "2021-12-02T14:10:25.555Z"
   },
   {
    "duration": 24,
    "start_time": "2021-12-02T14:10:25.566Z"
   },
   {
    "duration": 9,
    "start_time": "2021-12-02T14:10:25.592Z"
   },
   {
    "duration": 55,
    "start_time": "2021-12-02T14:10:25.603Z"
   },
   {
    "duration": 5,
    "start_time": "2021-12-02T14:10:25.660Z"
   },
   {
    "duration": 203,
    "start_time": "2021-12-02T14:10:25.667Z"
   },
   {
    "duration": 16,
    "start_time": "2021-12-02T14:10:25.871Z"
   },
   {
    "duration": 71,
    "start_time": "2021-12-02T14:10:25.892Z"
   },
   {
    "duration": 8,
    "start_time": "2021-12-02T14:10:25.965Z"
   },
   {
    "duration": 3,
    "start_time": "2021-12-02T14:10:25.974Z"
   },
   {
    "duration": 308,
    "start_time": "2021-12-02T14:10:25.978Z"
   },
   {
    "duration": 312,
    "start_time": "2021-12-02T14:10:26.288Z"
   },
   {
    "duration": 315,
    "start_time": "2021-12-02T14:10:26.602Z"
   },
   {
    "duration": 344,
    "start_time": "2021-12-02T14:10:30.223Z"
   },
   {
    "duration": 3,
    "start_time": "2021-12-02T14:10:39.274Z"
   },
   {
    "duration": 29,
    "start_time": "2021-12-02T14:10:39.281Z"
   },
   {
    "duration": 19,
    "start_time": "2021-12-02T14:10:39.312Z"
   },
   {
    "duration": 753,
    "start_time": "2021-12-02T14:10:39.334Z"
   },
   {
    "duration": 569,
    "start_time": "2021-12-02T14:10:40.089Z"
   },
   {
    "duration": 11,
    "start_time": "2021-12-02T14:10:40.660Z"
   },
   {
    "duration": 398,
    "start_time": "2021-12-02T14:10:40.673Z"
   },
   {
    "duration": 53,
    "start_time": "2021-12-02T14:10:41.073Z"
   },
   {
    "duration": 70,
    "start_time": "2021-12-02T14:10:41.128Z"
   },
   {
    "duration": 2,
    "start_time": "2021-12-02T14:10:41.200Z"
   },
   {
    "duration": 42,
    "start_time": "2021-12-02T14:10:41.204Z"
   },
   {
    "duration": 34,
    "start_time": "2021-12-02T14:10:41.248Z"
   },
   {
    "duration": 36,
    "start_time": "2021-12-02T14:10:41.284Z"
   },
   {
    "duration": 57,
    "start_time": "2021-12-02T14:10:41.322Z"
   },
   {
    "duration": 104,
    "start_time": "2021-12-02T14:10:41.381Z"
   },
   {
    "duration": 94,
    "start_time": "2021-12-02T14:10:41.487Z"
   },
   {
    "duration": 2,
    "start_time": "2021-12-02T14:10:41.583Z"
   },
   {
    "duration": 22,
    "start_time": "2021-12-02T14:10:41.586Z"
   },
   {
    "duration": 51,
    "start_time": "2021-12-02T14:10:41.610Z"
   },
   {
    "duration": 16,
    "start_time": "2021-12-02T14:10:41.663Z"
   },
   {
    "duration": 38,
    "start_time": "2021-12-02T14:10:41.681Z"
   },
   {
    "duration": 42,
    "start_time": "2021-12-02T14:10:41.721Z"
   },
   {
    "duration": 44,
    "start_time": "2021-12-02T14:10:41.764Z"
   },
   {
    "duration": 29,
    "start_time": "2021-12-02T14:10:41.812Z"
   },
   {
    "duration": 51,
    "start_time": "2021-12-02T14:10:41.844Z"
   },
   {
    "duration": 103,
    "start_time": "2021-12-02T14:10:41.897Z"
   },
   {
    "duration": 44,
    "start_time": "2021-12-02T14:10:42.002Z"
   },
   {
    "duration": 20,
    "start_time": "2021-12-02T14:10:42.049Z"
   },
   {
    "duration": 9,
    "start_time": "2021-12-02T14:10:42.071Z"
   },
   {
    "duration": 29,
    "start_time": "2021-12-02T14:10:42.082Z"
   },
   {
    "duration": 78,
    "start_time": "2021-12-02T14:10:42.112Z"
   },
   {
    "duration": 35,
    "start_time": "2021-12-02T14:10:42.192Z"
   },
   {
    "duration": 31,
    "start_time": "2021-12-02T14:10:42.228Z"
   },
   {
    "duration": 8,
    "start_time": "2021-12-02T14:10:42.261Z"
   },
   {
    "duration": 25,
    "start_time": "2021-12-02T14:10:42.271Z"
   },
   {
    "duration": 27,
    "start_time": "2021-12-02T14:10:42.299Z"
   },
   {
    "duration": 10,
    "start_time": "2021-12-02T14:10:42.329Z"
   },
   {
    "duration": 34,
    "start_time": "2021-12-02T14:10:42.340Z"
   },
   {
    "duration": 34,
    "start_time": "2021-12-02T14:10:42.375Z"
   },
   {
    "duration": 21,
    "start_time": "2021-12-02T14:10:42.411Z"
   },
   {
    "duration": 26,
    "start_time": "2021-12-02T14:10:42.433Z"
   },
   {
    "duration": 20,
    "start_time": "2021-12-02T14:10:42.461Z"
   },
   {
    "duration": 20,
    "start_time": "2021-12-02T14:10:42.482Z"
   },
   {
    "duration": 33,
    "start_time": "2021-12-02T14:10:42.503Z"
   },
   {
    "duration": 30,
    "start_time": "2021-12-02T14:10:42.538Z"
   },
   {
    "duration": 22,
    "start_time": "2021-12-02T14:10:42.569Z"
   },
   {
    "duration": 30,
    "start_time": "2021-12-02T14:10:42.592Z"
   },
   {
    "duration": 43,
    "start_time": "2021-12-02T14:10:42.623Z"
   },
   {
    "duration": 123,
    "start_time": "2021-12-02T14:10:42.668Z"
   },
   {
    "duration": 39,
    "start_time": "2021-12-02T14:10:42.793Z"
   },
   {
    "duration": 33,
    "start_time": "2021-12-02T14:10:42.834Z"
   },
   {
    "duration": 25,
    "start_time": "2021-12-02T14:10:42.869Z"
   },
   {
    "duration": 18,
    "start_time": "2021-12-02T14:10:42.895Z"
   },
   {
    "duration": 69,
    "start_time": "2021-12-02T14:10:42.915Z"
   },
   {
    "duration": 22,
    "start_time": "2021-12-02T14:10:42.986Z"
   },
   {
    "duration": 7,
    "start_time": "2021-12-02T14:10:43.009Z"
   },
   {
    "duration": 50,
    "start_time": "2021-12-02T14:10:43.018Z"
   },
   {
    "duration": 5,
    "start_time": "2021-12-02T14:10:43.070Z"
   },
   {
    "duration": 26,
    "start_time": "2021-12-02T14:10:43.076Z"
   },
   {
    "duration": 25,
    "start_time": "2021-12-02T14:10:43.103Z"
   },
   {
    "duration": 30,
    "start_time": "2021-12-02T14:10:43.130Z"
   },
   {
    "duration": 29,
    "start_time": "2021-12-02T14:10:43.162Z"
   },
   {
    "duration": 32,
    "start_time": "2021-12-02T14:10:43.194Z"
   },
   {
    "duration": 23,
    "start_time": "2021-12-02T14:10:43.228Z"
   },
   {
    "duration": 19,
    "start_time": "2021-12-02T14:10:43.256Z"
   },
   {
    "duration": 18,
    "start_time": "2021-12-02T14:10:43.277Z"
   },
   {
    "duration": 207,
    "start_time": "2021-12-02T14:10:43.297Z"
   },
   {
    "duration": 15,
    "start_time": "2021-12-02T14:10:43.506Z"
   },
   {
    "duration": 75,
    "start_time": "2021-12-02T14:10:43.526Z"
   },
   {
    "duration": 9,
    "start_time": "2021-12-02T14:10:43.603Z"
   },
   {
    "duration": 18,
    "start_time": "2021-12-02T14:10:43.613Z"
   },
   {
    "duration": 381,
    "start_time": "2021-12-02T14:10:43.632Z"
   },
   {
    "duration": 320,
    "start_time": "2021-12-02T14:10:44.014Z"
   },
   {
    "duration": 332,
    "start_time": "2021-12-02T14:10:44.344Z"
   },
   {
    "duration": 6,
    "start_time": "2021-12-02T14:13:24.654Z"
   },
   {
    "duration": 7055,
    "start_time": "2021-12-02T14:13:53.667Z"
   },
   {
    "duration": 560,
    "start_time": "2021-12-02T14:14:16.366Z"
   },
   {
    "duration": 3,
    "start_time": "2021-12-02T14:14:34.681Z"
   },
   {
    "duration": 5,
    "start_time": "2021-12-02T14:14:34.686Z"
   },
   {
    "duration": 4,
    "start_time": "2021-12-02T14:14:34.693Z"
   },
   {
    "duration": 735,
    "start_time": "2021-12-02T14:14:34.699Z"
   },
   {
    "duration": 465,
    "start_time": "2021-12-02T14:14:35.435Z"
   },
   {
    "duration": 11,
    "start_time": "2021-12-02T14:14:35.902Z"
   },
   {
    "duration": 353,
    "start_time": "2021-12-02T14:14:35.915Z"
   },
   {
    "duration": 53,
    "start_time": "2021-12-02T14:14:36.270Z"
   },
   {
    "duration": 72,
    "start_time": "2021-12-02T14:14:36.325Z"
   },
   {
    "duration": 3,
    "start_time": "2021-12-02T14:14:36.399Z"
   },
   {
    "duration": 6,
    "start_time": "2021-12-02T14:14:36.404Z"
   },
   {
    "duration": 13,
    "start_time": "2021-12-02T14:14:36.412Z"
   },
   {
    "duration": 20,
    "start_time": "2021-12-02T14:14:36.426Z"
   },
   {
    "duration": 30,
    "start_time": "2021-12-02T14:14:36.453Z"
   },
   {
    "duration": 133,
    "start_time": "2021-12-02T14:14:36.485Z"
   },
   {
    "duration": 93,
    "start_time": "2021-12-02T14:14:36.620Z"
   },
   {
    "duration": 3,
    "start_time": "2021-12-02T14:14:36.714Z"
   },
   {
    "duration": 13,
    "start_time": "2021-12-02T14:14:36.718Z"
   },
   {
    "duration": 34,
    "start_time": "2021-12-02T14:14:36.732Z"
   },
   {
    "duration": 8,
    "start_time": "2021-12-02T14:14:36.768Z"
   },
   {
    "duration": 10,
    "start_time": "2021-12-02T14:14:36.778Z"
   },
   {
    "duration": 9,
    "start_time": "2021-12-02T14:14:36.789Z"
   },
   {
    "duration": 13,
    "start_time": "2021-12-02T14:14:36.799Z"
   },
   {
    "duration": 4,
    "start_time": "2021-12-02T14:14:36.814Z"
   },
   {
    "duration": 46,
    "start_time": "2021-12-02T14:14:36.820Z"
   },
   {
    "duration": 88,
    "start_time": "2021-12-02T14:14:36.868Z"
   },
   {
    "duration": 31,
    "start_time": "2021-12-02T14:14:36.958Z"
   },
   {
    "duration": 17,
    "start_time": "2021-12-02T14:14:36.991Z"
   },
   {
    "duration": 8,
    "start_time": "2021-12-02T14:14:37.009Z"
   },
   {
    "duration": 42,
    "start_time": "2021-12-02T14:14:37.019Z"
   },
   {
    "duration": 64,
    "start_time": "2021-12-02T14:14:37.063Z"
   },
   {
    "duration": 53,
    "start_time": "2021-12-02T14:14:37.129Z"
   },
   {
    "duration": 14,
    "start_time": "2021-12-02T14:14:37.184Z"
   },
   {
    "duration": 17,
    "start_time": "2021-12-02T14:14:37.200Z"
   },
   {
    "duration": 21,
    "start_time": "2021-12-02T14:14:37.219Z"
   },
   {
    "duration": 12,
    "start_time": "2021-12-02T14:14:37.242Z"
   },
   {
    "duration": 5,
    "start_time": "2021-12-02T14:14:37.256Z"
   },
   {
    "duration": 7,
    "start_time": "2021-12-02T14:14:37.266Z"
   },
   {
    "duration": 10,
    "start_time": "2021-12-02T14:14:37.275Z"
   },
   {
    "duration": 6,
    "start_time": "2021-12-02T14:14:37.287Z"
   },
   {
    "duration": 7,
    "start_time": "2021-12-02T14:14:37.295Z"
   },
   {
    "duration": 14,
    "start_time": "2021-12-02T14:14:37.304Z"
   },
   {
    "duration": 26,
    "start_time": "2021-12-02T14:14:37.320Z"
   },
   {
    "duration": 5,
    "start_time": "2021-12-02T14:14:37.348Z"
   },
   {
    "duration": 14,
    "start_time": "2021-12-02T14:14:37.355Z"
   },
   {
    "duration": 5,
    "start_time": "2021-12-02T14:14:37.370Z"
   },
   {
    "duration": 6,
    "start_time": "2021-12-02T14:14:37.377Z"
   },
   {
    "duration": 29,
    "start_time": "2021-12-02T14:14:37.385Z"
   },
   {
    "duration": 129,
    "start_time": "2021-12-02T14:14:37.416Z"
   },
   {
    "duration": 42,
    "start_time": "2021-12-02T14:14:37.546Z"
   },
   {
    "duration": 19,
    "start_time": "2021-12-02T14:14:37.590Z"
   },
   {
    "duration": 47,
    "start_time": "2021-12-02T14:14:37.611Z"
   },
   {
    "duration": 18,
    "start_time": "2021-12-02T14:14:37.660Z"
   },
   {
    "duration": 34,
    "start_time": "2021-12-02T14:14:37.680Z"
   },
   {
    "duration": 54,
    "start_time": "2021-12-02T14:14:37.716Z"
   },
   {
    "duration": 6,
    "start_time": "2021-12-02T14:14:37.772Z"
   },
   {
    "duration": 18,
    "start_time": "2021-12-02T14:14:37.780Z"
   },
   {
    "duration": 6,
    "start_time": "2021-12-02T14:14:37.799Z"
   },
   {
    "duration": 39,
    "start_time": "2021-12-02T14:14:37.806Z"
   },
   {
    "duration": 21,
    "start_time": "2021-12-02T14:14:37.848Z"
   },
   {
    "duration": 4,
    "start_time": "2021-12-02T14:14:37.871Z"
   },
   {
    "duration": 8,
    "start_time": "2021-12-02T14:14:37.877Z"
   },
   {
    "duration": 18,
    "start_time": "2021-12-02T14:14:37.886Z"
   },
   {
    "duration": 43,
    "start_time": "2021-12-02T14:14:37.906Z"
   },
   {
    "duration": 17,
    "start_time": "2021-12-02T14:14:37.950Z"
   },
   {
    "duration": 14,
    "start_time": "2021-12-02T14:14:37.968Z"
   },
   {
    "duration": 201,
    "start_time": "2021-12-02T14:14:37.984Z"
   },
   {
    "duration": 15,
    "start_time": "2021-12-02T14:14:38.187Z"
   },
   {
    "duration": 71,
    "start_time": "2021-12-02T14:14:38.204Z"
   },
   {
    "duration": 7,
    "start_time": "2021-12-02T14:14:38.277Z"
   },
   {
    "duration": 17,
    "start_time": "2021-12-02T14:14:38.286Z"
   },
   {
    "duration": 25,
    "start_time": "2021-12-02T14:14:38.305Z"
   },
   {
    "duration": 315,
    "start_time": "2021-12-02T14:14:38.332Z"
   },
   {
    "duration": 290,
    "start_time": "2021-12-02T14:14:40.684Z"
   },
   {
    "duration": 564,
    "start_time": "2021-12-02T14:14:41.626Z"
   },
   {
    "duration": 5,
    "start_time": "2021-12-02T14:16:25.361Z"
   },
   {
    "duration": 544,
    "start_time": "2021-12-02T14:16:26.628Z"
   },
   {
    "duration": 4,
    "start_time": "2021-12-02T14:17:25.441Z"
   },
   {
    "duration": 4,
    "start_time": "2021-12-02T14:17:26.285Z"
   },
   {
    "duration": 208,
    "start_time": "2021-12-02T14:18:19.262Z"
   },
   {
    "duration": 8,
    "start_time": "2021-12-02T14:18:58.804Z"
   },
   {
    "duration": 255,
    "start_time": "2021-12-02T14:19:19.405Z"
   },
   {
    "duration": 95,
    "start_time": "2021-12-02T14:20:54.636Z"
   },
   {
    "duration": 4,
    "start_time": "2021-12-02T14:21:15.255Z"
   },
   {
    "duration": 4,
    "start_time": "2021-12-02T14:21:40.084Z"
   },
   {
    "duration": 585,
    "start_time": "2021-12-02T14:21:40.628Z"
   },
   {
    "duration": 4,
    "start_time": "2021-12-02T14:21:50.628Z"
   },
   {
    "duration": 7,
    "start_time": "2021-12-02T14:21:51.866Z"
   },
   {
    "duration": 4,
    "start_time": "2021-12-02T14:21:58.582Z"
   },
   {
    "duration": 1416,
    "start_time": "2021-12-02T14:21:59.645Z"
   },
   {
    "duration": 4,
    "start_time": "2021-12-02T14:22:33.336Z"
   },
   {
    "duration": 8,
    "start_time": "2021-12-02T14:22:34.358Z"
   },
   {
    "duration": 97,
    "start_time": "2021-12-02T14:22:41.182Z"
   },
   {
    "duration": 4,
    "start_time": "2021-12-02T14:22:59.133Z"
   },
   {
    "duration": 542,
    "start_time": "2021-12-02T14:23:00.097Z"
   },
   {
    "duration": 6,
    "start_time": "2021-12-02T14:23:04.082Z"
   },
   {
    "duration": 7480,
    "start_time": "2021-12-02T14:23:06.174Z"
   },
   {
    "duration": 5,
    "start_time": "2021-12-02T14:24:36.761Z"
   },
   {
    "duration": 7,
    "start_time": "2021-12-02T14:24:37.937Z"
   },
   {
    "duration": 1267,
    "start_time": "2021-12-02T14:25:35.623Z"
   },
   {
    "duration": 4,
    "start_time": "2021-12-02T14:25:38.393Z"
   },
   {
    "duration": 7,
    "start_time": "2021-12-02T14:25:39.004Z"
   },
   {
    "duration": 7,
    "start_time": "2021-12-02T14:33:56.105Z"
   },
   {
    "duration": 5,
    "start_time": "2021-12-02T14:34:41.935Z"
   },
   {
    "duration": 8,
    "start_time": "2021-12-02T14:34:46.644Z"
   },
   {
    "duration": 7,
    "start_time": "2021-12-02T14:34:47.561Z"
   },
   {
    "duration": 4,
    "start_time": "2021-12-02T14:36:13.091Z"
   },
   {
    "duration": 7,
    "start_time": "2021-12-02T14:36:20.109Z"
   },
   {
    "duration": 10,
    "start_time": "2021-12-02T14:42:15.048Z"
   },
   {
    "duration": 5,
    "start_time": "2021-12-02T14:47:22.810Z"
   },
   {
    "duration": 9,
    "start_time": "2021-12-02T14:47:28.465Z"
   },
   {
    "duration": 7,
    "start_time": "2021-12-02T14:47:44.162Z"
   },
   {
    "duration": 8,
    "start_time": "2021-12-02T14:47:47.910Z"
   },
   {
    "duration": 5,
    "start_time": "2021-12-02T14:48:12.484Z"
   },
   {
    "duration": 9,
    "start_time": "2021-12-02T14:48:16.433Z"
   },
   {
    "duration": 5,
    "start_time": "2021-12-02T14:50:07.743Z"
   },
   {
    "duration": 10,
    "start_time": "2021-12-02T14:50:21.588Z"
   },
   {
    "duration": 6,
    "start_time": "2021-12-02T14:50:45.729Z"
   },
   {
    "duration": 3,
    "start_time": "2021-12-02T14:50:46.516Z"
   },
   {
    "duration": 8,
    "start_time": "2021-12-02T14:50:47.062Z"
   },
   {
    "duration": 5,
    "start_time": "2021-12-02T14:52:02.414Z"
   },
   {
    "duration": 3,
    "start_time": "2021-12-02T14:52:03.010Z"
   },
   {
    "duration": 9,
    "start_time": "2021-12-02T14:52:03.530Z"
   },
   {
    "duration": 5,
    "start_time": "2021-12-02T14:52:57.178Z"
   },
   {
    "duration": 2,
    "start_time": "2021-12-02T14:52:57.807Z"
   },
   {
    "duration": 9,
    "start_time": "2021-12-02T14:52:58.351Z"
   },
   {
    "duration": 6,
    "start_time": "2021-12-02T14:53:17.054Z"
   },
   {
    "duration": 3,
    "start_time": "2021-12-02T14:53:17.932Z"
   },
   {
    "duration": 9,
    "start_time": "2021-12-02T14:53:18.454Z"
   },
   {
    "duration": 5,
    "start_time": "2021-12-02T14:53:29.946Z"
   },
   {
    "duration": 2,
    "start_time": "2021-12-02T14:53:30.821Z"
   },
   {
    "duration": 9,
    "start_time": "2021-12-02T14:53:31.305Z"
   },
   {
    "duration": 8,
    "start_time": "2021-12-02T14:54:07.143Z"
   },
   {
    "duration": 2,
    "start_time": "2021-12-02T14:54:07.647Z"
   },
   {
    "duration": 8,
    "start_time": "2021-12-02T14:54:08.172Z"
   },
   {
    "duration": 6,
    "start_time": "2021-12-02T14:54:19.989Z"
   },
   {
    "duration": 2,
    "start_time": "2021-12-02T14:54:20.523Z"
   },
   {
    "duration": 11,
    "start_time": "2021-12-02T14:54:21.076Z"
   },
   {
    "duration": 5,
    "start_time": "2021-12-02T14:55:43.850Z"
   },
   {
    "duration": 2,
    "start_time": "2021-12-02T14:55:44.341Z"
   },
   {
    "duration": 10,
    "start_time": "2021-12-02T14:55:44.822Z"
   },
   {
    "duration": 5,
    "start_time": "2021-12-02T14:56:25.099Z"
   },
   {
    "duration": 2,
    "start_time": "2021-12-02T14:56:25.597Z"
   },
   {
    "duration": 9,
    "start_time": "2021-12-02T14:56:26.119Z"
   },
   {
    "duration": 5,
    "start_time": "2021-12-02T14:56:37.101Z"
   },
   {
    "duration": 3,
    "start_time": "2021-12-02T14:56:37.460Z"
   },
   {
    "duration": 10,
    "start_time": "2021-12-02T14:56:37.783Z"
   },
   {
    "duration": 5,
    "start_time": "2021-12-02T14:57:06.418Z"
   },
   {
    "duration": 2,
    "start_time": "2021-12-02T14:57:07.017Z"
   },
   {
    "duration": 8,
    "start_time": "2021-12-02T14:57:07.430Z"
   },
   {
    "duration": 6,
    "start_time": "2021-12-02T14:57:15.137Z"
   },
   {
    "duration": 3,
    "start_time": "2021-12-02T14:57:15.541Z"
   },
   {
    "duration": 9,
    "start_time": "2021-12-02T14:57:15.961Z"
   },
   {
    "duration": 12,
    "start_time": "2021-12-02T14:57:25.033Z"
   },
   {
    "duration": 8,
    "start_time": "2021-12-02T14:58:49.095Z"
   },
   {
    "duration": 9,
    "start_time": "2021-12-02T14:58:50.033Z"
   },
   {
    "duration": 6,
    "start_time": "2021-12-02T14:59:19.024Z"
   },
   {
    "duration": 9,
    "start_time": "2021-12-02T14:59:19.531Z"
   },
   {
    "duration": 7,
    "start_time": "2021-12-02T14:59:24.511Z"
   },
   {
    "duration": 9,
    "start_time": "2021-12-02T14:59:25.057Z"
   },
   {
    "duration": 6,
    "start_time": "2021-12-02T15:00:13.167Z"
   },
   {
    "duration": 8,
    "start_time": "2021-12-02T15:00:13.744Z"
   },
   {
    "duration": 8,
    "start_time": "2021-12-02T15:00:33.788Z"
   },
   {
    "duration": 9,
    "start_time": "2021-12-02T15:00:34.281Z"
   },
   {
    "duration": 6,
    "start_time": "2021-12-02T15:00:39.587Z"
   },
   {
    "duration": 8,
    "start_time": "2021-12-02T15:00:40.856Z"
   },
   {
    "duration": 6,
    "start_time": "2021-12-02T15:00:45.959Z"
   },
   {
    "duration": 8,
    "start_time": "2021-12-02T15:00:46.588Z"
   },
   {
    "duration": 6,
    "start_time": "2021-12-02T15:00:50.483Z"
   },
   {
    "duration": 8,
    "start_time": "2021-12-02T15:00:51.203Z"
   },
   {
    "duration": 6,
    "start_time": "2021-12-02T15:02:18.458Z"
   },
   {
    "duration": 10,
    "start_time": "2021-12-02T15:02:18.974Z"
   },
   {
    "duration": 6,
    "start_time": "2021-12-02T15:02:38.247Z"
   },
   {
    "duration": 9,
    "start_time": "2021-12-02T15:02:38.657Z"
   },
   {
    "duration": 5,
    "start_time": "2021-12-02T15:02:48.599Z"
   },
   {
    "duration": 10,
    "start_time": "2021-12-02T15:02:49.471Z"
   },
   {
    "duration": 12,
    "start_time": "2021-12-02T15:03:13.119Z"
   },
   {
    "duration": 21,
    "start_time": "2021-12-02T15:03:13.494Z"
   },
   {
    "duration": 5,
    "start_time": "2021-12-02T15:03:23.023Z"
   },
   {
    "duration": 8,
    "start_time": "2021-12-02T15:03:23.538Z"
   },
   {
    "duration": 9,
    "start_time": "2021-12-02T15:06:57.299Z"
   },
   {
    "duration": 853,
    "start_time": "2021-12-02T15:22:58.967Z"
   },
   {
    "duration": 6,
    "start_time": "2021-12-02T15:23:11.309Z"
   },
   {
    "duration": 703,
    "start_time": "2021-12-02T15:23:12.667Z"
   },
   {
    "duration": 4,
    "start_time": "2021-12-02T15:31:21.944Z"
   },
   {
    "duration": 20,
    "start_time": "2021-12-02T15:31:21.952Z"
   },
   {
    "duration": 5,
    "start_time": "2021-12-02T15:31:21.975Z"
   },
   {
    "duration": 806,
    "start_time": "2021-12-02T15:31:21.982Z"
   },
   {
    "duration": 472,
    "start_time": "2021-12-02T15:31:22.790Z"
   },
   {
    "duration": 13,
    "start_time": "2021-12-02T15:31:23.264Z"
   },
   {
    "duration": 365,
    "start_time": "2021-12-02T15:31:23.279Z"
   },
   {
    "duration": 71,
    "start_time": "2021-12-02T15:31:23.648Z"
   },
   {
    "duration": 75,
    "start_time": "2021-12-02T15:31:23.720Z"
   },
   {
    "duration": 2,
    "start_time": "2021-12-02T15:31:23.797Z"
   },
   {
    "duration": 9,
    "start_time": "2021-12-02T15:31:23.801Z"
   },
   {
    "duration": 14,
    "start_time": "2021-12-02T15:31:23.811Z"
   },
   {
    "duration": 22,
    "start_time": "2021-12-02T15:31:23.827Z"
   },
   {
    "duration": 28,
    "start_time": "2021-12-02T15:31:23.851Z"
   },
   {
    "duration": 129,
    "start_time": "2021-12-02T15:31:23.881Z"
   },
   {
    "duration": 96,
    "start_time": "2021-12-02T15:31:24.012Z"
   },
   {
    "duration": 2,
    "start_time": "2021-12-02T15:31:24.110Z"
   },
   {
    "duration": 6,
    "start_time": "2021-12-02T15:31:24.113Z"
   },
   {
    "duration": 40,
    "start_time": "2021-12-02T15:31:24.120Z"
   },
   {
    "duration": 8,
    "start_time": "2021-12-02T15:31:24.162Z"
   },
   {
    "duration": 10,
    "start_time": "2021-12-02T15:31:24.172Z"
   },
   {
    "duration": 7,
    "start_time": "2021-12-02T15:31:24.183Z"
   },
   {
    "duration": 10,
    "start_time": "2021-12-02T15:31:24.194Z"
   },
   {
    "duration": 42,
    "start_time": "2021-12-02T15:31:24.206Z"
   },
   {
    "duration": 26,
    "start_time": "2021-12-02T15:31:24.250Z"
   },
   {
    "duration": 141,
    "start_time": "2021-12-02T15:31:24.278Z"
   },
   {
    "duration": 48,
    "start_time": "2021-12-02T15:31:24.422Z"
   },
   {
    "duration": 20,
    "start_time": "2021-12-02T15:31:24.472Z"
   },
   {
    "duration": 10,
    "start_time": "2021-12-02T15:31:24.494Z"
   },
   {
    "duration": 40,
    "start_time": "2021-12-02T15:31:24.506Z"
   },
   {
    "duration": 118,
    "start_time": "2021-12-02T15:31:24.548Z"
   },
   {
    "duration": 45,
    "start_time": "2021-12-02T15:31:24.668Z"
   },
   {
    "duration": 34,
    "start_time": "2021-12-02T15:31:24.715Z"
   },
   {
    "duration": 11,
    "start_time": "2021-12-02T15:31:24.752Z"
   },
   {
    "duration": 35,
    "start_time": "2021-12-02T15:31:24.765Z"
   },
   {
    "duration": 12,
    "start_time": "2021-12-02T15:31:24.801Z"
   },
   {
    "duration": 16,
    "start_time": "2021-12-02T15:31:24.815Z"
   },
   {
    "duration": 28,
    "start_time": "2021-12-02T15:31:24.833Z"
   },
   {
    "duration": 9,
    "start_time": "2021-12-02T15:31:24.863Z"
   },
   {
    "duration": 22,
    "start_time": "2021-12-02T15:31:24.873Z"
   },
   {
    "duration": 10,
    "start_time": "2021-12-02T15:31:24.897Z"
   },
   {
    "duration": 18,
    "start_time": "2021-12-02T15:31:24.909Z"
   },
   {
    "duration": 21,
    "start_time": "2021-12-02T15:31:24.929Z"
   },
   {
    "duration": 21,
    "start_time": "2021-12-02T15:31:24.952Z"
   },
   {
    "duration": 32,
    "start_time": "2021-12-02T15:31:24.975Z"
   },
   {
    "duration": 11,
    "start_time": "2021-12-02T15:31:25.009Z"
   },
   {
    "duration": 22,
    "start_time": "2021-12-02T15:31:25.022Z"
   },
   {
    "duration": 54,
    "start_time": "2021-12-02T15:31:25.046Z"
   },
   {
    "duration": 143,
    "start_time": "2021-12-02T15:31:25.102Z"
   },
   {
    "duration": 49,
    "start_time": "2021-12-02T15:31:25.248Z"
   },
   {
    "duration": 17,
    "start_time": "2021-12-02T15:31:25.299Z"
   },
   {
    "duration": 48,
    "start_time": "2021-12-02T15:31:25.318Z"
   },
   {
    "duration": 23,
    "start_time": "2021-12-02T15:31:25.368Z"
   },
   {
    "duration": 58,
    "start_time": "2021-12-02T15:31:25.393Z"
   },
   {
    "duration": 36,
    "start_time": "2021-12-02T15:31:25.454Z"
   },
   {
    "duration": 9,
    "start_time": "2021-12-02T15:31:25.492Z"
   },
   {
    "duration": 21,
    "start_time": "2021-12-02T15:31:25.503Z"
   },
   {
    "duration": 5,
    "start_time": "2021-12-02T15:31:25.545Z"
   },
   {
    "duration": 32,
    "start_time": "2021-12-02T15:31:25.552Z"
   },
   {
    "duration": 17,
    "start_time": "2021-12-02T15:31:25.587Z"
   },
   {
    "duration": 17,
    "start_time": "2021-12-02T15:31:25.606Z"
   },
   {
    "duration": 26,
    "start_time": "2021-12-02T15:31:25.625Z"
   },
   {
    "duration": 22,
    "start_time": "2021-12-02T15:31:25.653Z"
   },
   {
    "duration": 28,
    "start_time": "2021-12-02T15:31:25.677Z"
   },
   {
    "duration": 17,
    "start_time": "2021-12-02T15:31:25.707Z"
   },
   {
    "duration": 10,
    "start_time": "2021-12-02T15:31:25.725Z"
   },
   {
    "duration": 215,
    "start_time": "2021-12-02T15:31:25.736Z"
   },
   {
    "duration": 15,
    "start_time": "2021-12-02T15:31:25.960Z"
   },
   {
    "duration": 64,
    "start_time": "2021-12-02T15:31:25.977Z"
   },
   {
    "duration": 19,
    "start_time": "2021-12-02T15:31:26.043Z"
   },
   {
    "duration": 2,
    "start_time": "2021-12-02T15:31:26.064Z"
   },
   {
    "duration": 2,
    "start_time": "2021-12-02T15:31:28.138Z"
   },
   {
    "duration": 5,
    "start_time": "2021-12-02T15:31:28.886Z"
   },
   {
    "duration": 645,
    "start_time": "2021-12-02T15:31:29.905Z"
   },
   {
    "duration": 93,
    "start_time": "2021-12-02T15:34:15.941Z"
   },
   {
    "duration": 719,
    "start_time": "2021-12-02T15:34:16.678Z"
   },
   {
    "duration": 12,
    "start_time": "2021-12-02T15:35:04.245Z"
   },
   {
    "duration": 616,
    "start_time": "2021-12-02T15:35:04.889Z"
   },
   {
    "duration": 5,
    "start_time": "2021-12-02T15:37:02.318Z"
   },
   {
    "duration": 11,
    "start_time": "2021-12-02T15:37:03.279Z"
   },
   {
    "duration": 6,
    "start_time": "2021-12-02T15:37:51.163Z"
   },
   {
    "duration": 12,
    "start_time": "2021-12-02T15:37:51.882Z"
   },
   {
    "duration": 6,
    "start_time": "2021-12-02T15:37:59.371Z"
   },
   {
    "duration": 13,
    "start_time": "2021-12-02T15:38:00.033Z"
   },
   {
    "duration": 8,
    "start_time": "2021-12-02T15:38:07.753Z"
   },
   {
    "duration": 12,
    "start_time": "2021-12-02T15:38:08.469Z"
   },
   {
    "duration": 6,
    "start_time": "2021-12-02T15:39:58.303Z"
   },
   {
    "duration": 13,
    "start_time": "2021-12-02T15:39:58.888Z"
   },
   {
    "duration": 7,
    "start_time": "2021-12-02T15:40:37.225Z"
   },
   {
    "duration": 8,
    "start_time": "2021-12-02T15:40:51.243Z"
   },
   {
    "duration": 13,
    "start_time": "2021-12-02T15:40:52.180Z"
   },
   {
    "duration": 6,
    "start_time": "2021-12-02T15:42:18.602Z"
   },
   {
    "duration": 14,
    "start_time": "2021-12-02T15:42:19.373Z"
   },
   {
    "duration": 6,
    "start_time": "2021-12-02T15:43:20.097Z"
   },
   {
    "duration": 13,
    "start_time": "2021-12-02T15:43:20.965Z"
   },
   {
    "duration": 6,
    "start_time": "2021-12-02T15:45:05.266Z"
   },
   {
    "duration": 16,
    "start_time": "2021-12-02T15:45:05.951Z"
   },
   {
    "duration": 6,
    "start_time": "2021-12-02T15:45:16.362Z"
   },
   {
    "duration": 11,
    "start_time": "2021-12-02T15:45:16.963Z"
   },
   {
    "duration": 9,
    "start_time": "2021-12-02T15:47:25.842Z"
   },
   {
    "duration": 7,
    "start_time": "2021-12-02T15:52:08.570Z"
   },
   {
    "duration": 408,
    "start_time": "2021-12-02T15:52:09.445Z"
   },
   {
    "duration": 7,
    "start_time": "2021-12-02T15:53:55.120Z"
   },
   {
    "duration": 588,
    "start_time": "2021-12-02T15:53:57.891Z"
   },
   {
    "duration": 167,
    "start_time": "2021-12-02T15:57:27.340Z"
   },
   {
    "duration": 83,
    "start_time": "2021-12-02T15:57:38.160Z"
   },
   {
    "duration": 3,
    "start_time": "2021-12-02T15:58:45.365Z"
   },
   {
    "duration": 6,
    "start_time": "2021-12-02T15:59:47.581Z"
   },
   {
    "duration": 400,
    "start_time": "2021-12-02T15:59:48.723Z"
   },
   {
    "duration": 6,
    "start_time": "2021-12-02T16:05:11.637Z"
   },
   {
    "duration": 385,
    "start_time": "2021-12-02T16:05:12.966Z"
   },
   {
    "duration": 6,
    "start_time": "2021-12-02T16:06:00.418Z"
   },
   {
    "duration": 3,
    "start_time": "2021-12-02T16:06:04.214Z"
   },
   {
    "duration": 6,
    "start_time": "2021-12-02T16:06:04.901Z"
   },
   {
    "duration": 398,
    "start_time": "2021-12-02T16:06:05.664Z"
   },
   {
    "duration": 7,
    "start_time": "2021-12-02T16:06:55.867Z"
   },
   {
    "duration": 468,
    "start_time": "2021-12-02T16:06:56.622Z"
   },
   {
    "duration": 7,
    "start_time": "2021-12-02T16:07:27.691Z"
   },
   {
    "duration": 395,
    "start_time": "2021-12-02T16:07:28.375Z"
   },
   {
    "duration": 416,
    "start_time": "2021-12-02T16:10:24.786Z"
   },
   {
    "duration": 312,
    "start_time": "2021-12-02T16:10:38.542Z"
   },
   {
    "duration": 404,
    "start_time": "2021-12-02T16:10:40.379Z"
   },
   {
    "duration": 528,
    "start_time": "2021-12-02T16:10:52.747Z"
   },
   {
    "duration": 7,
    "start_time": "2021-12-02T16:21:48.629Z"
   },
   {
    "duration": 476,
    "start_time": "2021-12-02T16:21:52.953Z"
   },
   {
    "duration": 7,
    "start_time": "2021-12-02T16:22:18.285Z"
   },
   {
    "duration": 407,
    "start_time": "2021-12-02T16:22:22.741Z"
   },
   {
    "duration": 5,
    "start_time": "2021-12-02T16:28:49.496Z"
   },
   {
    "duration": 4,
    "start_time": "2021-12-02T16:28:58.538Z"
   },
   {
    "duration": 7,
    "start_time": "2021-12-02T16:29:07.230Z"
   },
   {
    "duration": 4,
    "start_time": "2021-12-02T16:33:06.432Z"
   },
   {
    "duration": 4,
    "start_time": "2021-12-02T16:36:08.007Z"
   },
   {
    "duration": 277,
    "start_time": "2021-12-02T16:36:13.133Z"
   },
   {
    "duration": 549,
    "start_time": "2021-12-02T16:36:24.483Z"
   },
   {
    "duration": 4,
    "start_time": "2021-12-02T16:36:49.992Z"
   },
   {
    "duration": 5,
    "start_time": "2021-12-02T16:36:56.056Z"
   },
   {
    "duration": 810,
    "start_time": "2021-12-02T16:36:59.060Z"
   },
   {
    "duration": 6,
    "start_time": "2021-12-02T16:37:21.617Z"
   },
   {
    "duration": 556,
    "start_time": "2021-12-02T16:37:25.276Z"
   },
   {
    "duration": 5,
    "start_time": "2021-12-02T16:37:41.884Z"
   },
   {
    "duration": 279,
    "start_time": "2021-12-02T16:37:47.632Z"
   },
   {
    "duration": 297,
    "start_time": "2021-12-02T16:37:55.705Z"
   },
   {
    "duration": 323,
    "start_time": "2021-12-02T16:40:43.142Z"
   },
   {
    "duration": 306,
    "start_time": "2021-12-02T16:41:24.267Z"
   },
   {
    "duration": 606,
    "start_time": "2021-12-02T16:42:57.076Z"
   },
   {
    "duration": 3,
    "start_time": "2021-12-02T16:44:22.912Z"
   },
   {
    "duration": 4,
    "start_time": "2021-12-02T16:44:22.919Z"
   },
   {
    "duration": 5,
    "start_time": "2021-12-02T16:44:22.925Z"
   },
   {
    "duration": 697,
    "start_time": "2021-12-02T16:44:22.931Z"
   },
   {
    "duration": 447,
    "start_time": "2021-12-02T16:44:23.630Z"
   },
   {
    "duration": 11,
    "start_time": "2021-12-02T16:44:24.079Z"
   },
   {
    "duration": 353,
    "start_time": "2021-12-02T16:44:24.093Z"
   },
   {
    "duration": 55,
    "start_time": "2021-12-02T16:44:24.448Z"
   },
   {
    "duration": 79,
    "start_time": "2021-12-02T16:44:24.506Z"
   },
   {
    "duration": 2,
    "start_time": "2021-12-02T16:44:24.587Z"
   },
   {
    "duration": 20,
    "start_time": "2021-12-02T16:44:24.591Z"
   },
   {
    "duration": 18,
    "start_time": "2021-12-02T16:44:24.613Z"
   },
   {
    "duration": 15,
    "start_time": "2021-12-02T16:44:24.632Z"
   },
   {
    "duration": 49,
    "start_time": "2021-12-02T16:44:24.649Z"
   },
   {
    "duration": 138,
    "start_time": "2021-12-02T16:44:24.702Z"
   },
   {
    "duration": 89,
    "start_time": "2021-12-02T16:44:24.842Z"
   },
   {
    "duration": 2,
    "start_time": "2021-12-02T16:44:24.933Z"
   },
   {
    "duration": 9,
    "start_time": "2021-12-02T16:44:24.945Z"
   },
   {
    "duration": 32,
    "start_time": "2021-12-02T16:44:24.957Z"
   },
   {
    "duration": 11,
    "start_time": "2021-12-02T16:44:24.990Z"
   },
   {
    "duration": 9,
    "start_time": "2021-12-02T16:44:25.002Z"
   },
   {
    "duration": 11,
    "start_time": "2021-12-02T16:44:25.013Z"
   },
   {
    "duration": 31,
    "start_time": "2021-12-02T16:44:25.025Z"
   },
   {
    "duration": 7,
    "start_time": "2021-12-02T16:44:25.059Z"
   },
   {
    "duration": 37,
    "start_time": "2021-12-02T16:44:25.068Z"
   },
   {
    "duration": 93,
    "start_time": "2021-12-02T16:44:25.107Z"
   },
   {
    "duration": 31,
    "start_time": "2021-12-02T16:44:25.201Z"
   },
   {
    "duration": 24,
    "start_time": "2021-12-02T16:44:25.233Z"
   },
   {
    "duration": 9,
    "start_time": "2021-12-02T16:44:25.260Z"
   },
   {
    "duration": 25,
    "start_time": "2021-12-02T16:44:25.271Z"
   },
   {
    "duration": 79,
    "start_time": "2021-12-02T16:44:25.299Z"
   },
   {
    "duration": 34,
    "start_time": "2021-12-02T16:44:25.380Z"
   },
   {
    "duration": 32,
    "start_time": "2021-12-02T16:44:25.416Z"
   },
   {
    "duration": 9,
    "start_time": "2021-12-02T16:44:25.450Z"
   },
   {
    "duration": 7,
    "start_time": "2021-12-02T16:44:25.461Z"
   },
   {
    "duration": 11,
    "start_time": "2021-12-02T16:44:25.470Z"
   },
   {
    "duration": 7,
    "start_time": "2021-12-02T16:44:25.482Z"
   },
   {
    "duration": 11,
    "start_time": "2021-12-02T16:44:25.490Z"
   },
   {
    "duration": 7,
    "start_time": "2021-12-02T16:44:25.506Z"
   },
   {
    "duration": 31,
    "start_time": "2021-12-02T16:44:25.515Z"
   },
   {
    "duration": 8,
    "start_time": "2021-12-02T16:44:25.550Z"
   },
   {
    "duration": 10,
    "start_time": "2021-12-02T16:44:25.560Z"
   },
   {
    "duration": 6,
    "start_time": "2021-12-02T16:44:25.572Z"
   },
   {
    "duration": 5,
    "start_time": "2021-12-02T16:44:25.580Z"
   },
   {
    "duration": 7,
    "start_time": "2021-12-02T16:44:25.587Z"
   },
   {
    "duration": 5,
    "start_time": "2021-12-02T16:44:25.595Z"
   },
   {
    "duration": 4,
    "start_time": "2021-12-02T16:44:25.602Z"
   },
   {
    "duration": 69,
    "start_time": "2021-12-02T16:44:25.608Z"
   },
   {
    "duration": 104,
    "start_time": "2021-12-02T16:44:25.679Z"
   },
   {
    "duration": 70,
    "start_time": "2021-12-02T16:44:25.786Z"
   },
   {
    "duration": 17,
    "start_time": "2021-12-02T16:44:25.859Z"
   },
   {
    "duration": 21,
    "start_time": "2021-12-02T16:44:25.878Z"
   },
   {
    "duration": 18,
    "start_time": "2021-12-02T16:44:25.900Z"
   },
   {
    "duration": 70,
    "start_time": "2021-12-02T16:44:25.920Z"
   },
   {
    "duration": 21,
    "start_time": "2021-12-02T16:44:25.991Z"
   },
   {
    "duration": 7,
    "start_time": "2021-12-02T16:44:26.013Z"
   },
   {
    "duration": 40,
    "start_time": "2021-12-02T16:44:26.021Z"
   },
   {
    "duration": 6,
    "start_time": "2021-12-02T16:44:26.063Z"
   },
   {
    "duration": 6,
    "start_time": "2021-12-02T16:44:26.070Z"
   },
   {
    "duration": 14,
    "start_time": "2021-12-02T16:44:26.078Z"
   },
   {
    "duration": 4,
    "start_time": "2021-12-02T16:44:26.094Z"
   },
   {
    "duration": 9,
    "start_time": "2021-12-02T16:44:26.100Z"
   },
   {
    "duration": 57,
    "start_time": "2021-12-02T16:44:26.110Z"
   },
   {
    "duration": 9,
    "start_time": "2021-12-02T16:44:26.169Z"
   },
   {
    "duration": 17,
    "start_time": "2021-12-02T16:44:26.179Z"
   },
   {
    "duration": 4,
    "start_time": "2021-12-02T16:44:26.197Z"
   },
   {
    "duration": 213,
    "start_time": "2021-12-02T16:44:26.203Z"
   },
   {
    "duration": 16,
    "start_time": "2021-12-02T16:44:26.418Z"
   },
   {
    "duration": 56,
    "start_time": "2021-12-02T16:44:26.436Z"
   },
   {
    "duration": 8,
    "start_time": "2021-12-02T16:44:26.494Z"
   },
   {
    "duration": 3,
    "start_time": "2021-12-02T16:44:26.504Z"
   },
   {
    "duration": 5,
    "start_time": "2021-12-02T16:44:26.508Z"
   },
   {
    "duration": 5,
    "start_time": "2021-12-02T16:44:29.160Z"
   },
   {
    "duration": 194,
    "start_time": "2021-12-02T16:44:30.095Z"
   },
   {
    "duration": 6,
    "start_time": "2021-12-02T16:46:54.066Z"
   },
   {
    "duration": 201,
    "start_time": "2021-12-02T16:46:55.062Z"
   },
   {
    "duration": 11,
    "start_time": "2021-12-02T16:47:13.750Z"
   },
   {
    "duration": 202,
    "start_time": "2021-12-02T16:47:14.631Z"
   },
   {
    "duration": 6,
    "start_time": "2021-12-02T16:48:27.610Z"
   },
   {
    "duration": 192,
    "start_time": "2021-12-02T16:48:28.397Z"
   },
   {
    "duration": 6,
    "start_time": "2021-12-02T16:48:58.565Z"
   },
   {
    "duration": 288,
    "start_time": "2021-12-02T16:48:59.316Z"
   },
   {
    "duration": 6,
    "start_time": "2021-12-02T16:50:51.921Z"
   },
   {
    "duration": 211,
    "start_time": "2021-12-02T16:50:52.693Z"
   },
   {
    "duration": 203,
    "start_time": "2021-12-02T16:51:35.691Z"
   },
   {
    "duration": 209,
    "start_time": "2021-12-02T16:51:55.219Z"
   },
   {
    "duration": 319,
    "start_time": "2021-12-02T16:53:08.938Z"
   },
   {
    "duration": 216,
    "start_time": "2021-12-02T16:53:10.435Z"
   },
   {
    "duration": 204,
    "start_time": "2021-12-02T16:53:14.997Z"
   },
   {
    "duration": 308,
    "start_time": "2021-12-02T16:53:18.306Z"
   },
   {
    "duration": 206,
    "start_time": "2021-12-02T16:53:20.228Z"
   },
   {
    "duration": 211,
    "start_time": "2021-12-02T16:53:21.922Z"
   },
   {
    "duration": 89,
    "start_time": "2021-12-02T17:08:48.408Z"
   },
   {
    "duration": 6,
    "start_time": "2021-12-02T17:08:59.319Z"
   },
   {
    "duration": 6,
    "start_time": "2021-12-02T17:09:00.801Z"
   },
   {
    "duration": 6,
    "start_time": "2021-12-02T17:14:16.083Z"
   },
   {
    "duration": 6,
    "start_time": "2021-12-02T17:14:54.396Z"
   },
   {
    "duration": 6,
    "start_time": "2021-12-02T17:15:10.965Z"
   },
   {
    "duration": 6,
    "start_time": "2021-12-02T17:25:17.397Z"
   },
   {
    "duration": 205,
    "start_time": "2021-12-02T17:36:03.543Z"
   },
   {
    "duration": 4,
    "start_time": "2021-12-02T17:43:07.773Z"
   },
   {
    "duration": 3,
    "start_time": "2021-12-02T17:43:26.401Z"
   },
   {
    "duration": 94,
    "start_time": "2021-12-02T17:54:12.016Z"
   },
   {
    "duration": 216,
    "start_time": "2021-12-02T17:54:21.681Z"
   },
   {
    "duration": 224,
    "start_time": "2021-12-02T17:55:35.128Z"
   },
   {
    "duration": 214,
    "start_time": "2021-12-02T17:55:36.521Z"
   },
   {
    "duration": 314,
    "start_time": "2021-12-02T17:55:52.935Z"
   },
   {
    "duration": 208,
    "start_time": "2021-12-02T17:55:55.188Z"
   },
   {
    "duration": 219,
    "start_time": "2021-12-02T17:55:57.921Z"
   },
   {
    "duration": 202,
    "start_time": "2021-12-02T17:56:45.591Z"
   },
   {
    "duration": 209,
    "start_time": "2021-12-02T17:56:54.009Z"
   },
   {
    "duration": 255,
    "start_time": "2021-12-02T17:57:37.342Z"
   },
   {
    "duration": 208,
    "start_time": "2021-12-02T17:58:09.123Z"
   },
   {
    "duration": 10,
    "start_time": "2021-12-02T18:19:32.224Z"
   },
   {
    "duration": 220,
    "start_time": "2021-12-02T18:19:41.691Z"
   },
   {
    "duration": 86,
    "start_time": "2021-12-02T18:20:08.052Z"
   },
   {
    "duration": 218,
    "start_time": "2021-12-02T18:20:13.574Z"
   },
   {
    "duration": 224,
    "start_time": "2021-12-02T18:28:52.776Z"
   },
   {
    "duration": 5,
    "start_time": "2021-12-02T18:37:32.481Z"
   },
   {
    "duration": 311,
    "start_time": "2021-12-02T18:40:45.405Z"
   },
   {
    "duration": 197,
    "start_time": "2021-12-02T18:40:46.677Z"
   },
   {
    "duration": 192,
    "start_time": "2021-12-02T18:40:48.169Z"
   },
   {
    "duration": 195,
    "start_time": "2021-12-02T18:52:25.302Z"
   },
   {
    "duration": 177,
    "start_time": "2021-12-02T18:52:26.561Z"
   },
   {
    "duration": 4,
    "start_time": "2021-12-02T19:01:33.472Z"
   },
   {
    "duration": 433,
    "start_time": "2021-12-02T19:01:37.092Z"
   },
   {
    "duration": 4,
    "start_time": "2021-12-02T19:03:02.836Z"
   },
   {
    "duration": 389,
    "start_time": "2021-12-02T19:03:06.472Z"
   },
   {
    "duration": 5,
    "start_time": "2021-12-02T19:03:43.163Z"
   },
   {
    "duration": 468,
    "start_time": "2021-12-02T19:03:47.204Z"
   },
   {
    "duration": 5,
    "start_time": "2021-12-02T19:04:34.486Z"
   },
   {
    "duration": 373,
    "start_time": "2021-12-02T19:04:38.549Z"
   },
   {
    "duration": 5,
    "start_time": "2021-12-02T19:08:44.888Z"
   },
   {
    "duration": 525,
    "start_time": "2021-12-02T19:08:48.214Z"
   },
   {
    "duration": 3,
    "start_time": "2021-12-02T19:10:22.095Z"
   },
   {
    "duration": 18,
    "start_time": "2021-12-02T19:10:22.100Z"
   },
   {
    "duration": 16,
    "start_time": "2021-12-02T19:10:22.120Z"
   },
   {
    "duration": 792,
    "start_time": "2021-12-02T19:10:22.138Z"
   },
   {
    "duration": 490,
    "start_time": "2021-12-02T19:10:22.932Z"
   },
   {
    "duration": 12,
    "start_time": "2021-12-02T19:10:23.423Z"
   },
   {
    "duration": 402,
    "start_time": "2021-12-02T19:10:23.436Z"
   },
   {
    "duration": 59,
    "start_time": "2021-12-02T19:10:23.844Z"
   },
   {
    "duration": 77,
    "start_time": "2021-12-02T19:10:23.905Z"
   },
   {
    "duration": 2,
    "start_time": "2021-12-02T19:10:23.984Z"
   },
   {
    "duration": 16,
    "start_time": "2021-12-02T19:10:23.988Z"
   },
   {
    "duration": 23,
    "start_time": "2021-12-02T19:10:24.006Z"
   },
   {
    "duration": 14,
    "start_time": "2021-12-02T19:10:24.031Z"
   },
   {
    "duration": 47,
    "start_time": "2021-12-02T19:10:24.047Z"
   },
   {
    "duration": 112,
    "start_time": "2021-12-02T19:10:24.096Z"
   },
   {
    "duration": 100,
    "start_time": "2021-12-02T19:10:24.210Z"
   },
   {
    "duration": 2,
    "start_time": "2021-12-02T19:10:24.312Z"
   },
   {
    "duration": 22,
    "start_time": "2021-12-02T19:10:24.315Z"
   },
   {
    "duration": 35,
    "start_time": "2021-12-02T19:10:24.339Z"
   },
   {
    "duration": 9,
    "start_time": "2021-12-02T19:10:24.375Z"
   },
   {
    "duration": 30,
    "start_time": "2021-12-02T19:10:24.386Z"
   },
   {
    "duration": 21,
    "start_time": "2021-12-02T19:10:24.418Z"
   },
   {
    "duration": 47,
    "start_time": "2021-12-02T19:10:24.441Z"
   },
   {
    "duration": 14,
    "start_time": "2021-12-02T19:10:24.490Z"
   },
   {
    "duration": 51,
    "start_time": "2021-12-02T19:10:24.506Z"
   },
   {
    "duration": 73,
    "start_time": "2021-12-02T19:10:24.563Z"
   },
   {
    "duration": 34,
    "start_time": "2021-12-02T19:10:24.639Z"
   },
   {
    "duration": 17,
    "start_time": "2021-12-02T19:10:24.676Z"
   },
   {
    "duration": 7,
    "start_time": "2021-12-02T19:10:24.695Z"
   },
   {
    "duration": 44,
    "start_time": "2021-12-02T19:10:24.704Z"
   },
   {
    "duration": 70,
    "start_time": "2021-12-02T19:10:24.751Z"
   },
   {
    "duration": 58,
    "start_time": "2021-12-02T19:10:24.822Z"
   },
   {
    "duration": 14,
    "start_time": "2021-12-02T19:10:24.882Z"
   },
   {
    "duration": 9,
    "start_time": "2021-12-02T19:10:24.898Z"
   },
   {
    "duration": 30,
    "start_time": "2021-12-02T19:10:24.909Z"
   },
   {
    "duration": 28,
    "start_time": "2021-12-02T19:10:24.941Z"
   },
   {
    "duration": 11,
    "start_time": "2021-12-02T19:10:24.971Z"
   },
   {
    "duration": 31,
    "start_time": "2021-12-02T19:10:24.984Z"
   },
   {
    "duration": 9,
    "start_time": "2021-12-02T19:10:25.017Z"
   },
   {
    "duration": 32,
    "start_time": "2021-12-02T19:10:25.028Z"
   },
   {
    "duration": 9,
    "start_time": "2021-12-02T19:10:25.062Z"
   },
   {
    "duration": 12,
    "start_time": "2021-12-02T19:10:25.073Z"
   },
   {
    "duration": 7,
    "start_time": "2021-12-02T19:10:25.087Z"
   },
   {
    "duration": 9,
    "start_time": "2021-12-02T19:10:25.096Z"
   },
   {
    "duration": 7,
    "start_time": "2021-12-02T19:10:25.107Z"
   },
   {
    "duration": 5,
    "start_time": "2021-12-02T19:10:25.116Z"
   },
   {
    "duration": 4,
    "start_time": "2021-12-02T19:10:25.123Z"
   },
   {
    "duration": 42,
    "start_time": "2021-12-02T19:10:25.129Z"
   },
   {
    "duration": 117,
    "start_time": "2021-12-02T19:10:25.174Z"
   },
   {
    "duration": 44,
    "start_time": "2021-12-02T19:10:25.293Z"
   },
   {
    "duration": 27,
    "start_time": "2021-12-02T19:10:25.338Z"
   },
   {
    "duration": 24,
    "start_time": "2021-12-02T19:10:25.367Z"
   },
   {
    "duration": 20,
    "start_time": "2021-12-02T19:10:25.392Z"
   },
   {
    "duration": 79,
    "start_time": "2021-12-02T19:10:25.414Z"
   },
   {
    "duration": 24,
    "start_time": "2021-12-02T19:10:25.494Z"
   },
   {
    "duration": 26,
    "start_time": "2021-12-02T19:10:25.520Z"
   },
   {
    "duration": 22,
    "start_time": "2021-12-02T19:10:25.548Z"
   },
   {
    "duration": 23,
    "start_time": "2021-12-02T19:10:25.572Z"
   },
   {
    "duration": 14,
    "start_time": "2021-12-02T19:10:25.597Z"
   },
   {
    "duration": 37,
    "start_time": "2021-12-02T19:10:25.613Z"
   },
   {
    "duration": 11,
    "start_time": "2021-12-02T19:10:25.653Z"
   },
   {
    "duration": 23,
    "start_time": "2021-12-02T19:10:25.666Z"
   },
   {
    "duration": 34,
    "start_time": "2021-12-02T19:10:25.691Z"
   },
   {
    "duration": 9,
    "start_time": "2021-12-02T19:10:25.727Z"
   },
   {
    "duration": 32,
    "start_time": "2021-12-02T19:10:25.738Z"
   },
   {
    "duration": 7,
    "start_time": "2021-12-02T19:10:25.773Z"
   },
   {
    "duration": 219,
    "start_time": "2021-12-02T19:10:25.782Z"
   },
   {
    "duration": 16,
    "start_time": "2021-12-02T19:10:26.003Z"
   },
   {
    "duration": 72,
    "start_time": "2021-12-02T19:10:26.021Z"
   },
   {
    "duration": 7,
    "start_time": "2021-12-02T19:10:26.095Z"
   },
   {
    "duration": 26,
    "start_time": "2021-12-02T19:10:26.103Z"
   },
   {
    "duration": 8,
    "start_time": "2021-12-02T19:10:26.131Z"
   },
   {
    "duration": 24,
    "start_time": "2021-12-02T19:10:26.141Z"
   },
   {
    "duration": 30,
    "start_time": "2021-12-02T19:10:26.168Z"
   },
   {
    "duration": 460,
    "start_time": "2021-12-02T19:10:26.200Z"
   },
   {
    "duration": 220,
    "start_time": "2021-12-02T19:10:26.663Z"
   },
   {
    "duration": 229,
    "start_time": "2021-12-02T19:10:26.888Z"
   },
   {
    "duration": 458,
    "start_time": "2021-12-02T19:10:27.118Z"
   },
   {
    "duration": 219,
    "start_time": "2021-12-02T19:10:27.578Z"
   },
   {
    "duration": 209,
    "start_time": "2021-12-02T19:10:27.799Z"
   },
   {
    "duration": 444,
    "start_time": "2021-12-02T19:10:28.010Z"
   },
   {
    "duration": 225,
    "start_time": "2021-12-02T19:10:28.456Z"
   },
   {
    "duration": 290,
    "start_time": "2021-12-02T19:10:28.683Z"
   },
   {
    "duration": 5,
    "start_time": "2021-12-02T19:20:05.475Z"
   },
   {
    "duration": 4,
    "start_time": "2021-12-02T19:20:25.097Z"
   },
   {
    "duration": 4,
    "start_time": "2021-12-02T19:21:19.686Z"
   },
   {
    "duration": 5,
    "start_time": "2021-12-02T19:21:20.489Z"
   },
   {
    "duration": 5,
    "start_time": "2021-12-02T19:22:48.695Z"
   },
   {
    "duration": 385,
    "start_time": "2021-12-02T19:24:42.299Z"
   },
   {
    "duration": 3,
    "start_time": "2021-12-02T19:30:04.572Z"
   },
   {
    "duration": 7,
    "start_time": "2021-12-02T19:30:04.579Z"
   },
   {
    "duration": 7,
    "start_time": "2021-12-02T19:30:04.588Z"
   },
   {
    "duration": 780,
    "start_time": "2021-12-02T19:30:04.597Z"
   },
   {
    "duration": 478,
    "start_time": "2021-12-02T19:30:05.379Z"
   },
   {
    "duration": 12,
    "start_time": "2021-12-02T19:30:05.859Z"
   },
   {
    "duration": 345,
    "start_time": "2021-12-02T19:30:05.875Z"
   },
   {
    "duration": 51,
    "start_time": "2021-12-02T19:30:06.222Z"
   },
   {
    "duration": 68,
    "start_time": "2021-12-02T19:30:06.274Z"
   },
   {
    "duration": 3,
    "start_time": "2021-12-02T19:30:06.344Z"
   },
   {
    "duration": 27,
    "start_time": "2021-12-02T19:30:06.349Z"
   },
   {
    "duration": 13,
    "start_time": "2021-12-02T19:30:06.378Z"
   },
   {
    "duration": 5,
    "start_time": "2021-12-02T19:30:06.393Z"
   },
   {
    "duration": 44,
    "start_time": "2021-12-02T19:30:06.400Z"
   },
   {
    "duration": 113,
    "start_time": "2021-12-02T19:30:06.448Z"
   },
   {
    "duration": 104,
    "start_time": "2021-12-02T19:30:06.564Z"
   },
   {
    "duration": 3,
    "start_time": "2021-12-02T19:30:06.670Z"
   },
   {
    "duration": 4,
    "start_time": "2021-12-02T19:30:06.675Z"
   },
   {
    "duration": 24,
    "start_time": "2021-12-02T19:30:06.681Z"
   },
   {
    "duration": 10,
    "start_time": "2021-12-02T19:30:06.707Z"
   },
   {
    "duration": 9,
    "start_time": "2021-12-02T19:30:06.744Z"
   },
   {
    "duration": 7,
    "start_time": "2021-12-02T19:30:06.755Z"
   },
   {
    "duration": 12,
    "start_time": "2021-12-02T19:30:06.764Z"
   },
   {
    "duration": 6,
    "start_time": "2021-12-02T19:30:06.777Z"
   },
   {
    "duration": 19,
    "start_time": "2021-12-02T19:30:06.785Z"
   },
   {
    "duration": 119,
    "start_time": "2021-12-02T19:30:06.806Z"
   },
   {
    "duration": 51,
    "start_time": "2021-12-02T19:30:06.927Z"
   },
   {
    "duration": 16,
    "start_time": "2021-12-02T19:30:06.980Z"
   },
   {
    "duration": 7,
    "start_time": "2021-12-02T19:30:06.998Z"
   },
   {
    "duration": 42,
    "start_time": "2021-12-02T19:30:07.006Z"
   },
   {
    "duration": 65,
    "start_time": "2021-12-02T19:30:07.050Z"
   },
   {
    "duration": 47,
    "start_time": "2021-12-02T19:30:07.117Z"
   },
   {
    "duration": 14,
    "start_time": "2021-12-02T19:30:07.166Z"
   },
   {
    "duration": 9,
    "start_time": "2021-12-02T19:30:07.182Z"
   },
   {
    "duration": 25,
    "start_time": "2021-12-02T19:30:07.193Z"
   },
   {
    "duration": 35,
    "start_time": "2021-12-02T19:30:07.220Z"
   },
   {
    "duration": 12,
    "start_time": "2021-12-02T19:30:07.257Z"
   },
   {
    "duration": 18,
    "start_time": "2021-12-02T19:30:07.271Z"
   },
   {
    "duration": 23,
    "start_time": "2021-12-02T19:30:07.293Z"
   },
   {
    "duration": 10,
    "start_time": "2021-12-02T19:30:07.319Z"
   },
   {
    "duration": 26,
    "start_time": "2021-12-02T19:30:07.331Z"
   },
   {
    "duration": 24,
    "start_time": "2021-12-02T19:30:07.359Z"
   },
   {
    "duration": 14,
    "start_time": "2021-12-02T19:30:07.385Z"
   },
   {
    "duration": 22,
    "start_time": "2021-12-02T19:30:07.400Z"
   },
   {
    "duration": 12,
    "start_time": "2021-12-02T19:30:07.424Z"
   },
   {
    "duration": 23,
    "start_time": "2021-12-02T19:30:07.438Z"
   },
   {
    "duration": 18,
    "start_time": "2021-12-02T19:30:07.463Z"
   },
   {
    "duration": 48,
    "start_time": "2021-12-02T19:30:07.483Z"
   },
   {
    "duration": 106,
    "start_time": "2021-12-02T19:30:07.533Z"
   },
   {
    "duration": 41,
    "start_time": "2021-12-02T19:30:07.640Z"
   },
   {
    "duration": 17,
    "start_time": "2021-12-02T19:30:07.683Z"
   },
   {
    "duration": 34,
    "start_time": "2021-12-02T19:30:07.702Z"
   },
   {
    "duration": 38,
    "start_time": "2021-12-02T19:30:07.737Z"
   },
   {
    "duration": 53,
    "start_time": "2021-12-02T19:30:07.777Z"
   },
   {
    "duration": 29,
    "start_time": "2021-12-02T19:30:07.832Z"
   },
   {
    "duration": 7,
    "start_time": "2021-12-02T19:30:07.863Z"
   },
   {
    "duration": 36,
    "start_time": "2021-12-02T19:30:07.871Z"
   },
   {
    "duration": 19,
    "start_time": "2021-12-02T19:30:07.908Z"
   },
   {
    "duration": 34,
    "start_time": "2021-12-02T19:30:07.929Z"
   },
   {
    "duration": 33,
    "start_time": "2021-12-02T19:30:07.965Z"
   },
   {
    "duration": 30,
    "start_time": "2021-12-02T19:30:08.000Z"
   },
   {
    "duration": 28,
    "start_time": "2021-12-02T19:30:08.031Z"
   },
   {
    "duration": 42,
    "start_time": "2021-12-02T19:30:08.061Z"
   },
   {
    "duration": 21,
    "start_time": "2021-12-02T19:30:08.105Z"
   },
   {
    "duration": 29,
    "start_time": "2021-12-02T19:30:08.128Z"
   },
   {
    "duration": 25,
    "start_time": "2021-12-02T19:30:08.159Z"
   },
   {
    "duration": 235,
    "start_time": "2021-12-02T19:30:08.186Z"
   },
   {
    "duration": 14,
    "start_time": "2021-12-02T19:30:08.422Z"
   },
   {
    "duration": 69,
    "start_time": "2021-12-02T19:30:08.445Z"
   },
   {
    "duration": 5,
    "start_time": "2021-12-02T19:30:08.516Z"
   },
   {
    "duration": 38,
    "start_time": "2021-12-02T19:30:08.523Z"
   },
   {
    "duration": 32,
    "start_time": "2021-12-02T19:30:08.563Z"
   },
   {
    "duration": 36,
    "start_time": "2021-12-02T19:30:08.596Z"
   },
   {
    "duration": 16,
    "start_time": "2021-12-02T19:30:08.634Z"
   },
   {
    "duration": 453,
    "start_time": "2021-12-02T19:30:08.652Z"
   },
   {
    "duration": 204,
    "start_time": "2021-12-02T19:30:09.106Z"
   },
   {
    "duration": 250,
    "start_time": "2021-12-02T19:30:09.312Z"
   },
   {
    "duration": 504,
    "start_time": "2021-12-02T19:30:09.564Z"
   },
   {
    "duration": 225,
    "start_time": "2021-12-02T19:30:10.071Z"
   },
   {
    "duration": 216,
    "start_time": "2021-12-02T19:30:10.298Z"
   },
   {
    "duration": 445,
    "start_time": "2021-12-02T19:30:10.515Z"
   },
   {
    "duration": 205,
    "start_time": "2021-12-02T19:30:10.962Z"
   },
   {
    "duration": 193,
    "start_time": "2021-12-02T19:30:11.169Z"
   },
   {
    "duration": 5,
    "start_time": "2021-12-02T19:30:11.363Z"
   },
   {
    "duration": 20,
    "start_time": "2021-12-02T19:30:11.369Z"
   },
   {
    "duration": 18,
    "start_time": "2021-12-02T19:30:11.391Z"
   },
   {
    "duration": 92,
    "start_time": "2021-12-02T19:31:31.784Z"
   },
   {
    "duration": 82,
    "start_time": "2021-12-02T19:31:43.519Z"
   },
   {
    "duration": 4,
    "start_time": "2021-12-02T19:31:50.488Z"
   },
   {
    "duration": 5,
    "start_time": "2021-12-02T19:32:37.427Z"
   },
   {
    "duration": 4,
    "start_time": "2021-12-02T19:33:04.315Z"
   },
   {
    "duration": 4,
    "start_time": "2021-12-02T19:33:05.106Z"
   },
   {
    "duration": 6703,
    "start_time": "2021-12-02T19:33:56.134Z"
   },
   {
    "duration": 15,
    "start_time": "2021-12-02T19:34:27.794Z"
   },
   {
    "duration": 4,
    "start_time": "2021-12-02T19:34:42.837Z"
   },
   {
    "duration": 5,
    "start_time": "2021-12-02T19:35:10.015Z"
   },
   {
    "duration": 15,
    "start_time": "2021-12-02T19:40:56.737Z"
   },
   {
    "duration": 41,
    "start_time": "2021-12-02T19:42:39.795Z"
   },
   {
    "duration": 14,
    "start_time": "2021-12-02T19:43:06.357Z"
   },
   {
    "duration": 10,
    "start_time": "2021-12-02T19:44:57.100Z"
   },
   {
    "duration": 11,
    "start_time": "2021-12-02T19:45:01.259Z"
   },
   {
    "duration": 25,
    "start_time": "2021-12-02T19:58:20.944Z"
   },
   {
    "duration": 23,
    "start_time": "2021-12-02T19:58:58.032Z"
   },
   {
    "duration": 4,
    "start_time": "2021-12-02T20:30:40.802Z"
   },
   {
    "duration": 414,
    "start_time": "2021-12-02T20:30:46.387Z"
   },
   {
    "duration": 4,
    "start_time": "2021-12-02T20:31:24.219Z"
   },
   {
    "duration": 415,
    "start_time": "2021-12-02T20:31:29.519Z"
   },
   {
    "duration": 5,
    "start_time": "2021-12-02T20:31:46.896Z"
   },
   {
    "duration": 409,
    "start_time": "2021-12-02T20:31:52.258Z"
   },
   {
    "duration": 4,
    "start_time": "2021-12-02T20:32:52.396Z"
   },
   {
    "duration": 279,
    "start_time": "2021-12-02T20:32:55.549Z"
   },
   {
    "duration": 1039,
    "start_time": "2021-12-02T20:33:31.876Z"
   },
   {
    "duration": 3,
    "start_time": "2021-12-02T20:33:32.916Z"
   },
   {
    "duration": 7,
    "start_time": "2021-12-02T20:33:32.921Z"
   },
   {
    "duration": 621,
    "start_time": "2021-12-02T20:33:32.930Z"
   },
   {
    "duration": 401,
    "start_time": "2021-12-02T20:33:33.553Z"
   },
   {
    "duration": 10,
    "start_time": "2021-12-02T20:33:33.956Z"
   },
   {
    "duration": 319,
    "start_time": "2021-12-02T20:33:33.968Z"
   },
   {
    "duration": 56,
    "start_time": "2021-12-02T20:33:34.289Z"
   },
   {
    "duration": 67,
    "start_time": "2021-12-02T20:33:34.347Z"
   },
   {
    "duration": 3,
    "start_time": "2021-12-02T20:33:34.416Z"
   },
   {
    "duration": 4,
    "start_time": "2021-12-02T20:33:34.421Z"
   },
   {
    "duration": 18,
    "start_time": "2021-12-02T20:33:34.427Z"
   },
   {
    "duration": 5,
    "start_time": "2021-12-02T20:33:34.447Z"
   },
   {
    "duration": 31,
    "start_time": "2021-12-02T20:33:34.454Z"
   },
   {
    "duration": 109,
    "start_time": "2021-12-02T20:33:34.487Z"
   },
   {
    "duration": 89,
    "start_time": "2021-12-02T20:33:34.598Z"
   },
   {
    "duration": 22,
    "start_time": "2021-12-02T20:33:34.689Z"
   },
   {
    "duration": 9,
    "start_time": "2021-12-02T20:33:34.713Z"
   },
   {
    "duration": 26,
    "start_time": "2021-12-02T20:33:34.723Z"
   },
   {
    "duration": 7,
    "start_time": "2021-12-02T20:33:34.751Z"
   },
   {
    "duration": 12,
    "start_time": "2021-12-02T20:33:34.759Z"
   },
   {
    "duration": 4,
    "start_time": "2021-12-02T20:33:34.773Z"
   },
   {
    "duration": 19,
    "start_time": "2021-12-02T20:33:34.781Z"
   },
   {
    "duration": 104,
    "start_time": "2021-12-02T20:33:34.802Z"
   },
   {
    "duration": 39,
    "start_time": "2021-12-02T20:33:34.907Z"
   },
   {
    "duration": 16,
    "start_time": "2021-12-02T20:33:34.947Z"
   },
   {
    "duration": 7,
    "start_time": "2021-12-02T20:33:34.964Z"
   },
   {
    "duration": 16,
    "start_time": "2021-12-02T20:33:34.972Z"
   },
   {
    "duration": 75,
    "start_time": "2021-12-02T20:33:34.990Z"
   },
   {
    "duration": 34,
    "start_time": "2021-12-02T20:33:35.066Z"
   },
   {
    "duration": 13,
    "start_time": "2021-12-02T20:33:35.102Z"
   },
   {
    "duration": 6,
    "start_time": "2021-12-02T20:33:35.117Z"
   },
   {
    "duration": 5,
    "start_time": "2021-12-02T20:33:35.144Z"
   },
   {
    "duration": 10,
    "start_time": "2021-12-02T20:33:35.150Z"
   },
   {
    "duration": 5,
    "start_time": "2021-12-02T20:33:35.162Z"
   },
   {
    "duration": 7,
    "start_time": "2021-12-02T20:33:35.169Z"
   },
   {
    "duration": 4,
    "start_time": "2021-12-02T20:33:35.177Z"
   },
   {
    "duration": 5,
    "start_time": "2021-12-02T20:33:35.182Z"
   },
   {
    "duration": 4,
    "start_time": "2021-12-02T20:33:35.189Z"
   },
   {
    "duration": 8,
    "start_time": "2021-12-02T20:33:35.195Z"
   },
   {
    "duration": 40,
    "start_time": "2021-12-02T20:33:35.205Z"
   },
   {
    "duration": 5,
    "start_time": "2021-12-02T20:33:35.246Z"
   },
   {
    "duration": 8,
    "start_time": "2021-12-02T20:33:35.252Z"
   },
   {
    "duration": 3,
    "start_time": "2021-12-02T20:33:35.261Z"
   },
   {
    "duration": 5,
    "start_time": "2021-12-02T20:33:35.265Z"
   },
   {
    "duration": 31,
    "start_time": "2021-12-02T20:33:35.271Z"
   },
   {
    "duration": 119,
    "start_time": "2021-12-02T20:33:35.303Z"
   },
   {
    "duration": 52,
    "start_time": "2021-12-02T20:33:35.423Z"
   },
   {
    "duration": 17,
    "start_time": "2021-12-02T20:33:35.476Z"
   },
   {
    "duration": 21,
    "start_time": "2021-12-02T20:33:35.495Z"
   },
   {
    "duration": 41,
    "start_time": "2021-12-02T20:33:35.518Z"
   },
   {
    "duration": 36,
    "start_time": "2021-12-02T20:33:35.561Z"
   },
   {
    "duration": 22,
    "start_time": "2021-12-02T20:33:35.599Z"
   },
   {
    "duration": 7,
    "start_time": "2021-12-02T20:33:35.645Z"
   },
   {
    "duration": 29,
    "start_time": "2021-12-02T20:33:35.654Z"
   },
   {
    "duration": 4,
    "start_time": "2021-12-02T20:33:35.685Z"
   },
   {
    "duration": 14,
    "start_time": "2021-12-02T20:33:35.691Z"
   },
   {
    "duration": 14,
    "start_time": "2021-12-02T20:33:35.706Z"
   },
   {
    "duration": 3,
    "start_time": "2021-12-02T20:33:35.722Z"
   },
   {
    "duration": 17,
    "start_time": "2021-12-02T20:33:35.727Z"
   },
   {
    "duration": 19,
    "start_time": "2021-12-02T20:33:35.746Z"
   },
   {
    "duration": 8,
    "start_time": "2021-12-02T20:33:35.766Z"
   },
   {
    "duration": 19,
    "start_time": "2021-12-02T20:33:35.775Z"
   },
   {
    "duration": 6,
    "start_time": "2021-12-02T20:33:35.796Z"
   },
   {
    "duration": 191,
    "start_time": "2021-12-02T20:33:35.804Z"
   },
   {
    "duration": 15,
    "start_time": "2021-12-02T20:33:35.997Z"
   },
   {
    "duration": 56,
    "start_time": "2021-12-02T20:33:36.013Z"
   },
   {
    "duration": 7,
    "start_time": "2021-12-02T20:33:36.075Z"
   },
   {
    "duration": 8,
    "start_time": "2021-12-02T20:33:36.084Z"
   },
   {
    "duration": 5,
    "start_time": "2021-12-02T20:33:36.094Z"
   },
   {
    "duration": 5,
    "start_time": "2021-12-02T20:33:36.100Z"
   },
   {
    "duration": 7,
    "start_time": "2021-12-02T20:33:36.107Z"
   },
   {
    "duration": 299,
    "start_time": "2021-12-02T20:33:36.115Z"
   },
   {
    "duration": 196,
    "start_time": "2021-12-02T20:33:36.416Z"
   },
   {
    "duration": 193,
    "start_time": "2021-12-02T20:33:36.614Z"
   },
   {
    "duration": 279,
    "start_time": "2021-12-02T20:33:36.809Z"
   },
   {
    "duration": 191,
    "start_time": "2021-12-02T20:33:37.090Z"
   },
   {
    "duration": 188,
    "start_time": "2021-12-02T20:33:37.283Z"
   },
   {
    "duration": 284,
    "start_time": "2021-12-02T20:33:37.473Z"
   },
   {
    "duration": 251,
    "start_time": "2021-12-02T20:33:37.759Z"
   },
   {
    "duration": 186,
    "start_time": "2021-12-02T20:33:38.011Z"
   },
   {
    "duration": 5,
    "start_time": "2021-12-02T20:33:38.199Z"
   },
   {
    "duration": 6,
    "start_time": "2021-12-02T20:33:38.205Z"
   },
   {
    "duration": 32,
    "start_time": "2021-12-02T20:33:38.212Z"
   },
   {
    "duration": 8,
    "start_time": "2021-12-02T20:33:38.246Z"
   },
   {
    "duration": 6,
    "start_time": "2021-12-02T20:38:26.600Z"
   },
   {
    "duration": 187,
    "start_time": "2021-12-02T20:38:33.523Z"
   },
   {
    "duration": 199,
    "start_time": "2021-12-02T20:38:55.353Z"
   },
   {
    "duration": 6,
    "start_time": "2021-12-02T20:39:18.927Z"
   },
   {
    "duration": 282,
    "start_time": "2021-12-02T20:39:23.279Z"
   },
   {
    "duration": 187,
    "start_time": "2021-12-02T20:39:33.902Z"
   },
   {
    "duration": 194,
    "start_time": "2021-12-02T20:39:52.525Z"
   },
   {
    "duration": 6,
    "start_time": "2021-12-02T20:42:45.634Z"
   },
   {
    "duration": 1365,
    "start_time": "2021-12-03T07:15:03.742Z"
   },
   {
    "duration": 4,
    "start_time": "2021-12-03T07:15:05.109Z"
   },
   {
    "duration": 5,
    "start_time": "2021-12-03T07:15:05.115Z"
   },
   {
    "duration": 728,
    "start_time": "2021-12-03T07:15:05.122Z"
   },
   {
    "duration": 587,
    "start_time": "2021-12-03T07:15:05.852Z"
   },
   {
    "duration": 12,
    "start_time": "2021-12-03T07:15:06.441Z"
   },
   {
    "duration": 376,
    "start_time": "2021-12-03T07:15:06.454Z"
   },
   {
    "duration": 54,
    "start_time": "2021-12-03T07:15:06.832Z"
   },
   {
    "duration": 113,
    "start_time": "2021-12-03T07:15:06.888Z"
   },
   {
    "duration": 3,
    "start_time": "2021-12-03T07:15:07.003Z"
   },
   {
    "duration": 6,
    "start_time": "2021-12-03T07:15:07.008Z"
   },
   {
    "duration": 11,
    "start_time": "2021-12-03T07:15:07.015Z"
   },
   {
    "duration": 8,
    "start_time": "2021-12-03T07:15:07.028Z"
   },
   {
    "duration": 29,
    "start_time": "2021-12-03T07:15:07.038Z"
   },
   {
    "duration": 128,
    "start_time": "2021-12-03T07:15:07.068Z"
   },
   {
    "duration": 96,
    "start_time": "2021-12-03T07:15:07.198Z"
   },
   {
    "duration": 32,
    "start_time": "2021-12-03T07:15:07.295Z"
   },
   {
    "duration": 9,
    "start_time": "2021-12-03T07:15:07.328Z"
   },
   {
    "duration": 11,
    "start_time": "2021-12-03T07:15:07.338Z"
   },
   {
    "duration": 8,
    "start_time": "2021-12-03T07:15:07.350Z"
   },
   {
    "duration": 12,
    "start_time": "2021-12-03T07:15:07.360Z"
   },
   {
    "duration": 38,
    "start_time": "2021-12-03T07:15:07.374Z"
   },
   {
    "duration": 23,
    "start_time": "2021-12-03T07:15:07.416Z"
   },
   {
    "duration": 96,
    "start_time": "2021-12-03T07:15:07.442Z"
   },
   {
    "duration": 38,
    "start_time": "2021-12-03T07:15:07.540Z"
   },
   {
    "duration": 35,
    "start_time": "2021-12-03T07:15:07.580Z"
   },
   {
    "duration": 8,
    "start_time": "2021-12-03T07:15:07.617Z"
   },
   {
    "duration": 25,
    "start_time": "2021-12-03T07:15:07.627Z"
   },
   {
    "duration": 78,
    "start_time": "2021-12-03T07:15:07.654Z"
   },
   {
    "duration": 44,
    "start_time": "2021-12-03T07:15:07.735Z"
   },
   {
    "duration": 37,
    "start_time": "2021-12-03T07:15:07.781Z"
   },
   {
    "duration": 10,
    "start_time": "2021-12-03T07:15:07.820Z"
   },
   {
    "duration": 7,
    "start_time": "2021-12-03T07:15:07.832Z"
   },
   {
    "duration": 13,
    "start_time": "2021-12-03T07:15:07.841Z"
   },
   {
    "duration": 6,
    "start_time": "2021-12-03T07:15:07.856Z"
   },
   {
    "duration": 9,
    "start_time": "2021-12-03T07:15:07.863Z"
   },
   {
    "duration": 34,
    "start_time": "2021-12-03T07:15:07.873Z"
   },
   {
    "duration": 6,
    "start_time": "2021-12-03T07:15:07.908Z"
   },
   {
    "duration": 7,
    "start_time": "2021-12-03T07:15:07.915Z"
   },
   {
    "duration": 13,
    "start_time": "2021-12-03T07:15:07.924Z"
   },
   {
    "duration": 5,
    "start_time": "2021-12-03T07:15:07.939Z"
   },
   {
    "duration": 5,
    "start_time": "2021-12-03T07:15:07.946Z"
   },
   {
    "duration": 7,
    "start_time": "2021-12-03T07:15:07.953Z"
   },
   {
    "duration": 2,
    "start_time": "2021-12-03T07:15:07.962Z"
   },
   {
    "duration": 42,
    "start_time": "2021-12-03T07:15:07.966Z"
   },
   {
    "duration": 38,
    "start_time": "2021-12-03T07:15:08.010Z"
   },
   {
    "duration": 108,
    "start_time": "2021-12-03T07:15:08.050Z"
   },
   {
    "duration": 54,
    "start_time": "2021-12-03T07:15:08.160Z"
   },
   {
    "duration": 18,
    "start_time": "2021-12-03T07:15:08.216Z"
   },
   {
    "duration": 21,
    "start_time": "2021-12-03T07:15:08.236Z"
   },
   {
    "duration": 20,
    "start_time": "2021-12-03T07:15:08.259Z"
   },
   {
    "duration": 39,
    "start_time": "2021-12-03T07:15:08.307Z"
   },
   {
    "duration": 24,
    "start_time": "2021-12-03T07:15:08.347Z"
   },
   {
    "duration": 35,
    "start_time": "2021-12-03T07:15:08.372Z"
   },
   {
    "duration": 98,
    "start_time": "2021-12-03T07:15:08.409Z"
   },
   {
    "duration": 5,
    "start_time": "2021-12-03T07:15:08.509Z"
   },
   {
    "duration": 8,
    "start_time": "2021-12-03T07:15:08.516Z"
   },
   {
    "duration": 14,
    "start_time": "2021-12-03T07:15:08.526Z"
   },
   {
    "duration": 5,
    "start_time": "2021-12-03T07:15:08.542Z"
   },
   {
    "duration": 8,
    "start_time": "2021-12-03T07:15:08.549Z"
   },
   {
    "duration": 18,
    "start_time": "2021-12-03T07:15:08.559Z"
   },
   {
    "duration": 36,
    "start_time": "2021-12-03T07:15:08.579Z"
   },
   {
    "duration": 16,
    "start_time": "2021-12-03T07:15:08.617Z"
   },
   {
    "duration": 4,
    "start_time": "2021-12-03T07:15:08.635Z"
   },
   {
    "duration": 228,
    "start_time": "2021-12-03T07:15:08.641Z"
   },
   {
    "duration": 20,
    "start_time": "2021-12-03T07:15:08.871Z"
   },
   {
    "duration": 59,
    "start_time": "2021-12-03T07:15:08.893Z"
   },
   {
    "duration": 7,
    "start_time": "2021-12-03T07:15:08.957Z"
   },
   {
    "duration": 6,
    "start_time": "2021-12-03T07:15:08.966Z"
   },
   {
    "duration": 4,
    "start_time": "2021-12-03T07:15:08.973Z"
   },
   {
    "duration": 29,
    "start_time": "2021-12-03T07:15:08.979Z"
   },
   {
    "duration": 8,
    "start_time": "2021-12-03T07:15:09.009Z"
   },
   {
    "duration": 322,
    "start_time": "2021-12-03T07:15:09.018Z"
   },
   {
    "duration": 217,
    "start_time": "2021-12-03T07:15:09.342Z"
   },
   {
    "duration": 223,
    "start_time": "2021-12-03T07:15:09.560Z"
   },
   {
    "duration": 324,
    "start_time": "2021-12-03T07:15:09.785Z"
   },
   {
    "duration": 220,
    "start_time": "2021-12-03T07:15:10.111Z"
   },
   {
    "duration": 213,
    "start_time": "2021-12-03T07:15:10.333Z"
   },
   {
    "duration": 381,
    "start_time": "2021-12-03T07:15:10.548Z"
   },
   {
    "duration": 321,
    "start_time": "2021-12-03T07:15:10.931Z"
   },
   {
    "duration": 213,
    "start_time": "2021-12-03T07:15:11.253Z"
   },
   {
    "duration": 4,
    "start_time": "2021-12-03T07:15:11.468Z"
   },
   {
    "duration": 6,
    "start_time": "2021-12-03T07:15:11.474Z"
   },
   {
    "duration": 30,
    "start_time": "2021-12-03T07:15:11.482Z"
   },
   {
    "duration": 10,
    "start_time": "2021-12-03T07:15:11.513Z"
   },
   {
    "duration": 49,
    "start_time": "2021-12-03T07:21:41.856Z"
   },
   {
    "duration": 24,
    "start_time": "2021-12-03T07:21:55.596Z"
   },
   {
    "duration": 3,
    "start_time": "2021-12-03T07:22:15.773Z"
   },
   {
    "duration": 5,
    "start_time": "2021-12-03T07:22:15.778Z"
   },
   {
    "duration": 5,
    "start_time": "2021-12-03T07:22:15.785Z"
   },
   {
    "duration": 738,
    "start_time": "2021-12-03T07:22:15.792Z"
   },
   {
    "duration": 461,
    "start_time": "2021-12-03T07:22:16.532Z"
   },
   {
    "duration": 16,
    "start_time": "2021-12-03T07:22:16.995Z"
   },
   {
    "duration": 417,
    "start_time": "2021-12-03T07:22:17.013Z"
   },
   {
    "duration": 53,
    "start_time": "2021-12-03T07:22:17.433Z"
   },
   {
    "duration": 74,
    "start_time": "2021-12-03T07:22:17.488Z"
   },
   {
    "duration": 3,
    "start_time": "2021-12-03T07:22:17.565Z"
   },
   {
    "duration": 6,
    "start_time": "2021-12-03T07:22:17.570Z"
   },
   {
    "duration": 13,
    "start_time": "2021-12-03T07:22:17.577Z"
   },
   {
    "duration": 5,
    "start_time": "2021-12-03T07:22:17.607Z"
   },
   {
    "duration": 28,
    "start_time": "2021-12-03T07:22:17.616Z"
   },
   {
    "duration": 134,
    "start_time": "2021-12-03T07:22:17.647Z"
   },
   {
    "duration": 107,
    "start_time": "2021-12-03T07:22:17.783Z"
   },
   {
    "duration": 33,
    "start_time": "2021-12-03T07:22:17.892Z"
   },
   {
    "duration": 11,
    "start_time": "2021-12-03T07:22:17.927Z"
   },
   {
    "duration": 11,
    "start_time": "2021-12-03T07:22:17.940Z"
   },
   {
    "duration": 8,
    "start_time": "2021-12-03T07:22:17.953Z"
   },
   {
    "duration": 12,
    "start_time": "2021-12-03T07:22:17.962Z"
   },
   {
    "duration": 5,
    "start_time": "2021-12-03T07:22:18.007Z"
   },
   {
    "duration": 22,
    "start_time": "2021-12-03T07:22:18.014Z"
   },
   {
    "duration": 102,
    "start_time": "2021-12-03T07:22:18.038Z"
   },
   {
    "duration": 40,
    "start_time": "2021-12-03T07:22:18.144Z"
   },
   {
    "duration": 35,
    "start_time": "2021-12-03T07:22:18.186Z"
   },
   {
    "duration": 7,
    "start_time": "2021-12-03T07:22:18.223Z"
   },
   {
    "duration": 19,
    "start_time": "2021-12-03T07:22:18.232Z"
   },
   {
    "duration": 85,
    "start_time": "2021-12-03T07:22:18.253Z"
   },
   {
    "duration": 42,
    "start_time": "2021-12-03T07:22:18.340Z"
   },
   {
    "duration": 28,
    "start_time": "2021-12-03T07:22:18.384Z"
   },
   {
    "duration": 8,
    "start_time": "2021-12-03T07:22:18.414Z"
   },
   {
    "duration": 7,
    "start_time": "2021-12-03T07:22:18.424Z"
   },
   {
    "duration": 11,
    "start_time": "2021-12-03T07:22:18.433Z"
   },
   {
    "duration": 6,
    "start_time": "2021-12-03T07:22:18.446Z"
   },
   {
    "duration": 7,
    "start_time": "2021-12-03T07:22:18.454Z"
   },
   {
    "duration": 45,
    "start_time": "2021-12-03T07:22:18.463Z"
   },
   {
    "duration": 4,
    "start_time": "2021-12-03T07:22:18.513Z"
   },
   {
    "duration": 5,
    "start_time": "2021-12-03T07:22:18.519Z"
   },
   {
    "duration": 10,
    "start_time": "2021-12-03T07:22:18.526Z"
   },
   {
    "duration": 5,
    "start_time": "2021-12-03T07:22:18.537Z"
   },
   {
    "duration": 6,
    "start_time": "2021-12-03T07:22:18.543Z"
   },
   {
    "duration": 6,
    "start_time": "2021-12-03T07:22:18.551Z"
   },
   {
    "duration": 49,
    "start_time": "2021-12-03T07:22:18.559Z"
   },
   {
    "duration": 5,
    "start_time": "2021-12-03T07:22:18.610Z"
   },
   {
    "duration": 32,
    "start_time": "2021-12-03T07:22:18.617Z"
   },
   {
    "duration": 122,
    "start_time": "2021-12-03T07:22:18.651Z"
   },
   {
    "duration": 58,
    "start_time": "2021-12-03T07:22:18.774Z"
   },
   {
    "duration": 18,
    "start_time": "2021-12-03T07:22:18.834Z"
   },
   {
    "duration": 21,
    "start_time": "2021-12-03T07:22:18.854Z"
   },
   {
    "duration": 43,
    "start_time": "2021-12-03T07:22:18.877Z"
   },
   {
    "duration": 38,
    "start_time": "2021-12-03T07:22:18.921Z"
   },
   {
    "duration": 21,
    "start_time": "2021-12-03T07:22:18.961Z"
   },
   {
    "duration": 30,
    "start_time": "2021-12-03T07:22:18.983Z"
   },
   {
    "duration": 17,
    "start_time": "2021-12-03T07:22:19.015Z"
   },
   {
    "duration": 7,
    "start_time": "2021-12-03T07:22:19.034Z"
   },
   {
    "duration": 6,
    "start_time": "2021-12-03T07:22:19.043Z"
   },
   {
    "duration": 15,
    "start_time": "2021-12-03T07:22:19.051Z"
   },
   {
    "duration": 3,
    "start_time": "2021-12-03T07:22:19.068Z"
   },
   {
    "duration": 13,
    "start_time": "2021-12-03T07:22:19.107Z"
   },
   {
    "duration": 19,
    "start_time": "2021-12-03T07:22:19.122Z"
   },
   {
    "duration": 9,
    "start_time": "2021-12-03T07:22:19.142Z"
   },
   {
    "duration": 15,
    "start_time": "2021-12-03T07:22:19.153Z"
   },
   {
    "duration": 5,
    "start_time": "2021-12-03T07:22:19.170Z"
   },
   {
    "duration": 195,
    "start_time": "2021-12-03T07:22:19.207Z"
   },
   {
    "duration": 16,
    "start_time": "2021-12-03T07:22:19.404Z"
   },
   {
    "duration": 18,
    "start_time": "2021-12-03T07:22:21.245Z"
   },
   {
    "duration": 50,
    "start_time": "2021-12-03T07:22:22.669Z"
   },
   {
    "duration": 4,
    "start_time": "2021-12-03T08:01:39.382Z"
   },
   {
    "duration": 7,
    "start_time": "2021-12-03T08:01:39.388Z"
   },
   {
    "duration": 6,
    "start_time": "2021-12-03T08:01:39.397Z"
   },
   {
    "duration": 772,
    "start_time": "2021-12-03T08:01:39.404Z"
   },
   {
    "duration": 476,
    "start_time": "2021-12-03T08:01:40.177Z"
   },
   {
    "duration": 13,
    "start_time": "2021-12-03T08:01:40.654Z"
   },
   {
    "duration": 362,
    "start_time": "2021-12-03T08:01:40.669Z"
   },
   {
    "duration": 54,
    "start_time": "2021-12-03T08:01:41.033Z"
   },
   {
    "duration": 70,
    "start_time": "2021-12-03T08:01:41.088Z"
   },
   {
    "duration": 3,
    "start_time": "2021-12-03T08:01:41.160Z"
   },
   {
    "duration": 4,
    "start_time": "2021-12-03T08:01:41.165Z"
   },
   {
    "duration": 37,
    "start_time": "2021-12-03T08:01:41.171Z"
   },
   {
    "duration": 6,
    "start_time": "2021-12-03T08:01:41.209Z"
   },
   {
    "duration": 28,
    "start_time": "2021-12-03T08:01:41.217Z"
   },
   {
    "duration": 122,
    "start_time": "2021-12-03T08:01:41.247Z"
   },
   {
    "duration": 97,
    "start_time": "2021-12-03T08:01:41.371Z"
   },
   {
    "duration": 35,
    "start_time": "2021-12-03T08:01:41.472Z"
   },
   {
    "duration": 8,
    "start_time": "2021-12-03T08:01:41.509Z"
   },
   {
    "duration": 11,
    "start_time": "2021-12-03T08:01:41.518Z"
   },
   {
    "duration": 7,
    "start_time": "2021-12-03T08:01:41.530Z"
   },
   {
    "duration": 11,
    "start_time": "2021-12-03T08:01:41.539Z"
   },
   {
    "duration": 4,
    "start_time": "2021-12-03T08:01:41.551Z"
   },
   {
    "duration": 49,
    "start_time": "2021-12-03T08:01:41.557Z"
   },
   {
    "duration": 73,
    "start_time": "2021-12-03T08:01:41.608Z"
   },
   {
    "duration": 45,
    "start_time": "2021-12-03T08:01:41.683Z"
   },
   {
    "duration": 18,
    "start_time": "2021-12-03T08:01:41.729Z"
   },
   {
    "duration": 7,
    "start_time": "2021-12-03T08:01:41.748Z"
   },
   {
    "duration": 18,
    "start_time": "2021-12-03T08:01:41.757Z"
   },
   {
    "duration": 83,
    "start_time": "2021-12-03T08:01:41.776Z"
   },
   {
    "duration": 52,
    "start_time": "2021-12-03T08:01:41.861Z"
   },
   {
    "duration": 15,
    "start_time": "2021-12-03T08:01:41.915Z"
   },
   {
    "duration": 8,
    "start_time": "2021-12-03T08:01:41.932Z"
   },
   {
    "duration": 5,
    "start_time": "2021-12-03T08:01:41.942Z"
   },
   {
    "duration": 12,
    "start_time": "2021-12-03T08:01:41.949Z"
   },
   {
    "duration": 4,
    "start_time": "2021-12-03T08:01:41.963Z"
   },
   {
    "duration": 38,
    "start_time": "2021-12-03T08:01:41.968Z"
   },
   {
    "duration": 4,
    "start_time": "2021-12-03T08:01:42.008Z"
   },
   {
    "duration": 7,
    "start_time": "2021-12-03T08:01:42.014Z"
   },
   {
    "duration": 6,
    "start_time": "2021-12-03T08:01:42.023Z"
   },
   {
    "duration": 10,
    "start_time": "2021-12-03T08:01:42.031Z"
   },
   {
    "duration": 6,
    "start_time": "2021-12-03T08:01:42.042Z"
   },
   {
    "duration": 6,
    "start_time": "2021-12-03T08:01:42.050Z"
   },
   {
    "duration": 8,
    "start_time": "2021-12-03T08:01:42.058Z"
   },
   {
    "duration": 6,
    "start_time": "2021-12-03T08:01:42.107Z"
   },
   {
    "duration": 6,
    "start_time": "2021-12-03T08:01:42.115Z"
   },
   {
    "duration": 30,
    "start_time": "2021-12-03T08:01:42.123Z"
   },
   {
    "duration": 123,
    "start_time": "2021-12-03T08:01:42.159Z"
   },
   {
    "duration": 51,
    "start_time": "2021-12-03T08:01:42.286Z"
   },
   {
    "duration": 19,
    "start_time": "2021-12-03T08:01:42.340Z"
   },
   {
    "duration": 46,
    "start_time": "2021-12-03T08:01:42.361Z"
   },
   {
    "duration": 20,
    "start_time": "2021-12-03T08:01:42.408Z"
   },
   {
    "duration": 38,
    "start_time": "2021-12-03T08:01:42.430Z"
   },
   {
    "duration": 43,
    "start_time": "2021-12-03T08:01:42.469Z"
   },
   {
    "duration": 10,
    "start_time": "2021-12-03T08:01:42.515Z"
   },
   {
    "duration": 27,
    "start_time": "2021-12-03T08:01:42.527Z"
   },
   {
    "duration": 10,
    "start_time": "2021-12-03T08:01:42.556Z"
   },
   {
    "duration": 11,
    "start_time": "2021-12-03T08:01:42.567Z"
   },
   {
    "duration": 39,
    "start_time": "2021-12-03T08:01:42.580Z"
   },
   {
    "duration": 4,
    "start_time": "2021-12-03T08:01:42.622Z"
   },
   {
    "duration": 18,
    "start_time": "2021-12-03T08:01:42.628Z"
   },
   {
    "duration": 19,
    "start_time": "2021-12-03T08:01:42.648Z"
   },
   {
    "duration": 39,
    "start_time": "2021-12-03T08:01:42.670Z"
   },
   {
    "duration": 18,
    "start_time": "2021-12-03T08:01:42.711Z"
   },
   {
    "duration": 5,
    "start_time": "2021-12-03T08:01:42.731Z"
   },
   {
    "duration": 210,
    "start_time": "2021-12-03T08:01:42.738Z"
   },
   {
    "duration": 16,
    "start_time": "2021-12-03T08:01:42.949Z"
   },
   {
    "duration": 63,
    "start_time": "2021-12-03T08:01:42.968Z"
   },
   {
    "duration": 6,
    "start_time": "2021-12-03T08:01:43.032Z"
   },
   {
    "duration": 9,
    "start_time": "2021-12-03T08:01:43.040Z"
   },
   {
    "duration": 4,
    "start_time": "2021-12-03T08:01:43.050Z"
   },
   {
    "duration": 7,
    "start_time": "2021-12-03T08:01:43.056Z"
   },
   {
    "duration": 6,
    "start_time": "2021-12-03T08:01:43.065Z"
   },
   {
    "duration": 325,
    "start_time": "2021-12-03T08:01:43.073Z"
   },
   {
    "duration": 232,
    "start_time": "2021-12-03T08:01:43.400Z"
   },
   {
    "duration": 213,
    "start_time": "2021-12-03T08:01:43.634Z"
   },
   {
    "duration": 306,
    "start_time": "2021-12-03T08:01:43.849Z"
   },
   {
    "duration": 213,
    "start_time": "2021-12-03T08:01:44.156Z"
   },
   {
    "duration": 197,
    "start_time": "2021-12-03T08:01:44.371Z"
   },
   {
    "duration": 367,
    "start_time": "2021-12-03T08:01:44.570Z"
   },
   {
    "duration": 213,
    "start_time": "2021-12-03T08:01:44.939Z"
   },
   {
    "duration": 204,
    "start_time": "2021-12-03T08:01:45.154Z"
   },
   {
    "duration": 4,
    "start_time": "2021-12-03T08:01:45.359Z"
   },
   {
    "duration": 7,
    "start_time": "2021-12-03T08:01:45.364Z"
   },
   {
    "duration": 11,
    "start_time": "2021-12-03T08:01:45.373Z"
   },
   {
    "duration": 28,
    "start_time": "2021-12-03T08:01:45.385Z"
   },
   {
    "duration": 448,
    "start_time": "2021-12-03T08:04:28.952Z"
   },
   {
    "duration": 49,
    "start_time": "2021-12-03T08:04:58.048Z"
   },
   {
    "duration": 45,
    "start_time": "2021-12-03T08:05:20.510Z"
   },
   {
    "duration": 3,
    "start_time": "2021-12-03T08:23:39.005Z"
   },
   {
    "duration": 5,
    "start_time": "2021-12-03T08:23:39.011Z"
   },
   {
    "duration": 5,
    "start_time": "2021-12-03T08:23:39.018Z"
   },
   {
    "duration": 743,
    "start_time": "2021-12-03T08:23:39.024Z"
   },
   {
    "duration": 470,
    "start_time": "2021-12-03T08:23:39.769Z"
   },
   {
    "duration": 13,
    "start_time": "2021-12-03T08:23:40.241Z"
   },
   {
    "duration": 363,
    "start_time": "2021-12-03T08:23:40.257Z"
   },
   {
    "duration": 52,
    "start_time": "2021-12-03T08:23:40.622Z"
   },
   {
    "duration": 69,
    "start_time": "2021-12-03T08:23:40.676Z"
   },
   {
    "duration": 3,
    "start_time": "2021-12-03T08:23:40.746Z"
   },
   {
    "duration": 6,
    "start_time": "2021-12-03T08:23:40.750Z"
   },
   {
    "duration": 10,
    "start_time": "2021-12-03T08:23:40.757Z"
   },
   {
    "duration": 6,
    "start_time": "2021-12-03T08:23:40.770Z"
   },
   {
    "duration": 53,
    "start_time": "2021-12-03T08:23:40.778Z"
   },
   {
    "duration": 107,
    "start_time": "2021-12-03T08:23:40.833Z"
   },
   {
    "duration": 88,
    "start_time": "2021-12-03T08:23:40.941Z"
   },
   {
    "duration": 22,
    "start_time": "2021-12-03T08:23:41.031Z"
   },
   {
    "duration": 9,
    "start_time": "2021-12-03T08:23:41.055Z"
   },
   {
    "duration": 26,
    "start_time": "2021-12-03T08:23:41.065Z"
   },
   {
    "duration": 14,
    "start_time": "2021-12-03T08:23:41.093Z"
   },
   {
    "duration": 11,
    "start_time": "2021-12-03T08:23:41.109Z"
   },
   {
    "duration": 7,
    "start_time": "2021-12-03T08:23:41.122Z"
   },
   {
    "duration": 21,
    "start_time": "2021-12-03T08:23:41.131Z"
   },
   {
    "duration": 101,
    "start_time": "2021-12-03T08:23:41.153Z"
   },
   {
    "duration": 34,
    "start_time": "2021-12-03T08:23:41.256Z"
   },
   {
    "duration": 25,
    "start_time": "2021-12-03T08:23:41.292Z"
   },
   {
    "duration": 7,
    "start_time": "2021-12-03T08:23:41.319Z"
   },
   {
    "duration": 19,
    "start_time": "2021-12-03T08:23:41.328Z"
   },
   {
    "duration": 85,
    "start_time": "2021-12-03T08:23:41.349Z"
   },
   {
    "duration": 38,
    "start_time": "2021-12-03T08:23:41.436Z"
   },
   {
    "duration": 15,
    "start_time": "2021-12-03T08:23:41.476Z"
   },
   {
    "duration": 20,
    "start_time": "2021-12-03T08:23:41.492Z"
   },
   {
    "duration": 8,
    "start_time": "2021-12-03T08:23:41.514Z"
   },
   {
    "duration": 9,
    "start_time": "2021-12-03T08:23:41.527Z"
   },
   {
    "duration": 4,
    "start_time": "2021-12-03T08:23:41.539Z"
   },
   {
    "duration": 8,
    "start_time": "2021-12-03T08:23:41.544Z"
   },
   {
    "duration": 6,
    "start_time": "2021-12-03T08:23:41.554Z"
   },
   {
    "duration": 6,
    "start_time": "2021-12-03T08:23:41.561Z"
   },
   {
    "duration": 5,
    "start_time": "2021-12-03T08:23:41.569Z"
   },
   {
    "duration": 8,
    "start_time": "2021-12-03T08:23:41.607Z"
   },
   {
    "duration": 5,
    "start_time": "2021-12-03T08:23:41.617Z"
   },
   {
    "duration": 6,
    "start_time": "2021-12-03T08:23:41.624Z"
   },
   {
    "duration": 7,
    "start_time": "2021-12-03T08:23:41.632Z"
   },
   {
    "duration": 3,
    "start_time": "2021-12-03T08:23:41.640Z"
   },
   {
    "duration": 5,
    "start_time": "2021-12-03T08:23:41.645Z"
   },
   {
    "duration": 60,
    "start_time": "2021-12-03T08:23:41.651Z"
   },
   {
    "duration": 99,
    "start_time": "2021-12-03T08:23:41.713Z"
   },
   {
    "duration": 42,
    "start_time": "2021-12-03T08:23:41.813Z"
   },
   {
    "duration": 17,
    "start_time": "2021-12-03T08:23:41.857Z"
   },
   {
    "duration": 42,
    "start_time": "2021-12-03T08:23:41.876Z"
   },
   {
    "duration": 20,
    "start_time": "2021-12-03T08:23:41.919Z"
   },
   {
    "duration": 36,
    "start_time": "2021-12-03T08:23:41.940Z"
   },
   {
    "duration": 45,
    "start_time": "2021-12-03T08:23:41.978Z"
   },
   {
    "duration": 8,
    "start_time": "2021-12-03T08:23:42.024Z"
   },
   {
    "duration": 17,
    "start_time": "2021-12-03T08:23:42.033Z"
   },
   {
    "duration": 6,
    "start_time": "2021-12-03T08:23:42.051Z"
   },
   {
    "duration": 6,
    "start_time": "2021-12-03T08:23:42.058Z"
   },
   {
    "duration": 46,
    "start_time": "2021-12-03T08:23:42.066Z"
   },
   {
    "duration": 4,
    "start_time": "2021-12-03T08:23:42.114Z"
   },
   {
    "duration": 8,
    "start_time": "2021-12-03T08:23:42.120Z"
   },
   {
    "duration": 18,
    "start_time": "2021-12-03T08:23:42.130Z"
   },
   {
    "duration": 9,
    "start_time": "2021-12-03T08:23:42.149Z"
   },
   {
    "duration": 14,
    "start_time": "2021-12-03T08:23:42.160Z"
   },
   {
    "duration": 31,
    "start_time": "2021-12-03T08:23:42.176Z"
   },
   {
    "duration": 191,
    "start_time": "2021-12-03T08:23:42.209Z"
   },
   {
    "duration": 17,
    "start_time": "2021-12-03T08:23:42.402Z"
   },
   {
    "duration": 46,
    "start_time": "2021-12-03T08:23:42.421Z"
   },
   {
    "duration": 81,
    "start_time": "2021-12-03T08:23:42.469Z"
   },
   {
    "duration": 60,
    "start_time": "2021-12-03T08:23:42.552Z"
   },
   {
    "duration": 6,
    "start_time": "2021-12-03T08:23:42.614Z"
   },
   {
    "duration": 7,
    "start_time": "2021-12-03T08:23:42.622Z"
   },
   {
    "duration": 6,
    "start_time": "2021-12-03T08:23:42.630Z"
   },
   {
    "duration": 7,
    "start_time": "2021-12-03T08:23:42.637Z"
   },
   {
    "duration": 8,
    "start_time": "2021-12-03T08:23:42.646Z"
   },
   {
    "duration": 320,
    "start_time": "2021-12-03T08:23:42.655Z"
   },
   {
    "duration": 205,
    "start_time": "2021-12-03T08:23:42.977Z"
   },
   {
    "duration": 206,
    "start_time": "2021-12-03T08:23:43.183Z"
   },
   {
    "duration": 295,
    "start_time": "2021-12-03T08:23:43.391Z"
   },
   {
    "duration": 199,
    "start_time": "2021-12-03T08:23:43.687Z"
   },
   {
    "duration": 191,
    "start_time": "2021-12-03T08:23:43.888Z"
   },
   {
    "duration": 371,
    "start_time": "2021-12-03T08:23:44.080Z"
   },
   {
    "duration": 205,
    "start_time": "2021-12-03T08:23:44.454Z"
   },
   {
    "duration": 190,
    "start_time": "2021-12-03T08:23:44.661Z"
   },
   {
    "duration": 4,
    "start_time": "2021-12-03T08:23:44.853Z"
   },
   {
    "duration": 5,
    "start_time": "2021-12-03T08:23:44.858Z"
   },
   {
    "duration": 10,
    "start_time": "2021-12-03T08:23:44.865Z"
   },
   {
    "duration": 32,
    "start_time": "2021-12-03T08:23:44.877Z"
   },
   {
    "duration": 10,
    "start_time": "2021-12-03T08:35:44.923Z"
   },
   {
    "duration": 5,
    "start_time": "2021-12-03T08:36:17.209Z"
   },
   {
    "duration": 2,
    "start_time": "2021-12-03T09:01:38.119Z"
   },
   {
    "duration": 6,
    "start_time": "2021-12-03T09:01:38.123Z"
   },
   {
    "duration": 5,
    "start_time": "2021-12-03T09:01:38.131Z"
   },
   {
    "duration": 736,
    "start_time": "2021-12-03T09:01:38.139Z"
   },
   {
    "duration": 464,
    "start_time": "2021-12-03T09:01:38.877Z"
   },
   {
    "duration": 13,
    "start_time": "2021-12-03T09:01:39.344Z"
   },
   {
    "duration": 382,
    "start_time": "2021-12-03T09:01:39.359Z"
   },
   {
    "duration": 52,
    "start_time": "2021-12-03T09:01:39.742Z"
   },
   {
    "duration": 116,
    "start_time": "2021-12-03T09:01:39.796Z"
   },
   {
    "duration": 2,
    "start_time": "2021-12-03T09:01:39.914Z"
   },
   {
    "duration": 15,
    "start_time": "2021-12-03T09:01:39.918Z"
   },
   {
    "duration": 21,
    "start_time": "2021-12-03T09:01:39.934Z"
   },
   {
    "duration": 15,
    "start_time": "2021-12-03T09:01:39.958Z"
   },
   {
    "duration": 36,
    "start_time": "2021-12-03T09:01:39.975Z"
   },
   {
    "duration": 110,
    "start_time": "2021-12-03T09:01:40.012Z"
   },
   {
    "duration": 96,
    "start_time": "2021-12-03T09:01:40.123Z"
   },
   {
    "duration": 24,
    "start_time": "2021-12-03T09:01:40.220Z"
   },
   {
    "duration": 9,
    "start_time": "2021-12-03T09:01:40.245Z"
   },
   {
    "duration": 10,
    "start_time": "2021-12-03T09:01:40.256Z"
   },
   {
    "duration": 16,
    "start_time": "2021-12-03T09:01:40.268Z"
   },
   {
    "duration": 28,
    "start_time": "2021-12-03T09:01:40.286Z"
   },
   {
    "duration": 14,
    "start_time": "2021-12-03T09:01:40.316Z"
   },
   {
    "duration": 25,
    "start_time": "2021-12-03T09:01:40.332Z"
   },
   {
    "duration": 77,
    "start_time": "2021-12-03T09:01:40.359Z"
   },
   {
    "duration": 33,
    "start_time": "2021-12-03T09:01:40.438Z"
   },
   {
    "duration": 35,
    "start_time": "2021-12-03T09:01:40.473Z"
   },
   {
    "duration": 8,
    "start_time": "2021-12-03T09:01:40.510Z"
   },
   {
    "duration": 28,
    "start_time": "2021-12-03T09:01:40.520Z"
   },
   {
    "duration": 69,
    "start_time": "2021-12-03T09:01:40.550Z"
   },
   {
    "duration": 40,
    "start_time": "2021-12-03T09:01:40.621Z"
   },
   {
    "duration": 16,
    "start_time": "2021-12-03T09:01:40.664Z"
   },
   {
    "duration": 31,
    "start_time": "2021-12-03T09:01:40.681Z"
   },
   {
    "duration": 7,
    "start_time": "2021-12-03T09:01:40.714Z"
   },
   {
    "duration": 9,
    "start_time": "2021-12-03T09:01:40.726Z"
   },
   {
    "duration": 3,
    "start_time": "2021-12-03T09:01:40.738Z"
   },
   {
    "duration": 9,
    "start_time": "2021-12-03T09:01:40.743Z"
   },
   {
    "duration": 4,
    "start_time": "2021-12-03T09:01:40.754Z"
   },
   {
    "duration": 7,
    "start_time": "2021-12-03T09:01:40.760Z"
   },
   {
    "duration": 6,
    "start_time": "2021-12-03T09:01:40.768Z"
   },
   {
    "duration": 36,
    "start_time": "2021-12-03T09:01:40.776Z"
   },
   {
    "duration": 6,
    "start_time": "2021-12-03T09:01:40.814Z"
   },
   {
    "duration": 6,
    "start_time": "2021-12-03T09:01:40.821Z"
   },
   {
    "duration": 7,
    "start_time": "2021-12-03T09:01:40.829Z"
   },
   {
    "duration": 5,
    "start_time": "2021-12-03T09:01:40.837Z"
   },
   {
    "duration": 5,
    "start_time": "2021-12-03T09:01:40.843Z"
   },
   {
    "duration": 57,
    "start_time": "2021-12-03T09:01:40.849Z"
   },
   {
    "duration": 98,
    "start_time": "2021-12-03T09:01:40.908Z"
   },
   {
    "duration": 43,
    "start_time": "2021-12-03T09:01:41.008Z"
   },
   {
    "duration": 20,
    "start_time": "2021-12-03T09:01:41.052Z"
   },
   {
    "duration": 46,
    "start_time": "2021-12-03T09:01:41.074Z"
   },
   {
    "duration": 21,
    "start_time": "2021-12-03T09:01:41.122Z"
   },
   {
    "duration": 38,
    "start_time": "2021-12-03T09:01:41.145Z"
   },
   {
    "duration": 40,
    "start_time": "2021-12-03T09:01:41.185Z"
   },
   {
    "duration": 8,
    "start_time": "2021-12-03T09:01:41.226Z"
   },
   {
    "duration": 17,
    "start_time": "2021-12-03T09:01:41.236Z"
   },
   {
    "duration": 6,
    "start_time": "2021-12-03T09:01:41.255Z"
   },
   {
    "duration": 6,
    "start_time": "2021-12-03T09:01:41.263Z"
   },
   {
    "duration": 49,
    "start_time": "2021-12-03T09:01:41.270Z"
   },
   {
    "duration": 4,
    "start_time": "2021-12-03T09:01:41.320Z"
   },
   {
    "duration": 8,
    "start_time": "2021-12-03T09:01:41.325Z"
   },
   {
    "duration": 19,
    "start_time": "2021-12-03T09:01:41.334Z"
   },
   {
    "duration": 8,
    "start_time": "2021-12-03T09:01:41.355Z"
   },
   {
    "duration": 52,
    "start_time": "2021-12-03T09:01:41.365Z"
   },
   {
    "duration": 9,
    "start_time": "2021-12-03T09:01:41.419Z"
   },
   {
    "duration": 187,
    "start_time": "2021-12-03T09:01:41.429Z"
   },
   {
    "duration": 15,
    "start_time": "2021-12-03T09:01:41.618Z"
   },
   {
    "duration": 48,
    "start_time": "2021-12-03T09:01:41.635Z"
   },
   {
    "duration": 64,
    "start_time": "2021-12-03T09:01:41.684Z"
   },
   {
    "duration": 58,
    "start_time": "2021-12-03T09:01:41.749Z"
   },
   {
    "duration": 6,
    "start_time": "2021-12-03T09:01:41.808Z"
   },
   {
    "duration": 6,
    "start_time": "2021-12-03T09:01:41.816Z"
   },
   {
    "duration": 6,
    "start_time": "2021-12-03T09:01:41.824Z"
   },
   {
    "duration": 8,
    "start_time": "2021-12-03T09:01:41.831Z"
   },
   {
    "duration": 6,
    "start_time": "2021-12-03T09:01:41.841Z"
   },
   {
    "duration": 304,
    "start_time": "2021-12-03T09:01:41.849Z"
   },
   {
    "duration": 212,
    "start_time": "2021-12-03T09:01:42.155Z"
   },
   {
    "duration": 219,
    "start_time": "2021-12-03T09:01:42.369Z"
   },
   {
    "duration": 303,
    "start_time": "2021-12-03T09:01:42.589Z"
   },
   {
    "duration": 202,
    "start_time": "2021-12-03T09:01:42.893Z"
   },
   {
    "duration": 192,
    "start_time": "2021-12-03T09:01:43.097Z"
   },
   {
    "duration": 369,
    "start_time": "2021-12-03T09:01:43.291Z"
   },
   {
    "duration": 211,
    "start_time": "2021-12-03T09:01:43.662Z"
   },
   {
    "duration": 197,
    "start_time": "2021-12-03T09:01:43.875Z"
   },
   {
    "duration": 4,
    "start_time": "2021-12-03T09:01:44.074Z"
   },
   {
    "duration": 6,
    "start_time": "2021-12-03T09:01:44.079Z"
   },
   {
    "duration": 23,
    "start_time": "2021-12-03T09:01:44.087Z"
   },
   {
    "duration": 11,
    "start_time": "2021-12-03T09:01:44.112Z"
   },
   {
    "duration": 9,
    "start_time": "2021-12-03T09:01:44.125Z"
   },
   {
    "duration": 8,
    "start_time": "2021-12-03T09:01:44.136Z"
   },
   {
    "duration": 1556,
    "start_time": "2021-12-03T17:32:07.835Z"
   },
   {
    "duration": 5,
    "start_time": "2021-12-03T17:32:09.394Z"
   },
   {
    "duration": 6,
    "start_time": "2021-12-03T17:32:09.403Z"
   },
   {
    "duration": 598,
    "start_time": "2021-12-03T17:32:09.412Z"
   },
   {
    "duration": 486,
    "start_time": "2021-12-03T17:32:10.012Z"
   },
   {
    "duration": 43,
    "start_time": "2021-12-03T17:32:10.501Z"
   },
   {
    "duration": 630,
    "start_time": "2021-12-03T17:32:10.547Z"
   },
   {
    "duration": 123,
    "start_time": "2021-12-03T17:32:11.182Z"
   },
   {
    "duration": 116,
    "start_time": "2021-12-03T17:32:11.308Z"
   },
   {
    "duration": 4,
    "start_time": "2021-12-03T17:32:11.426Z"
   },
   {
    "duration": 34,
    "start_time": "2021-12-03T17:32:11.432Z"
   },
   {
    "duration": 17,
    "start_time": "2021-12-03T17:32:11.469Z"
   },
   {
    "duration": 13,
    "start_time": "2021-12-03T17:32:11.489Z"
   },
   {
    "duration": 58,
    "start_time": "2021-12-03T17:32:11.504Z"
   },
   {
    "duration": 52,
    "start_time": "2021-12-03T17:32:11.564Z"
   },
   {
    "duration": 116,
    "start_time": "2021-12-03T17:32:11.619Z"
   },
   {
    "duration": 43,
    "start_time": "2021-12-03T17:32:11.737Z"
   },
   {
    "duration": 12,
    "start_time": "2021-12-03T17:32:11.783Z"
   },
   {
    "duration": 13,
    "start_time": "2021-12-03T17:32:11.798Z"
   },
   {
    "duration": 15,
    "start_time": "2021-12-03T17:32:11.813Z"
   },
   {
    "duration": 44,
    "start_time": "2021-12-03T17:32:11.830Z"
   },
   {
    "duration": 9,
    "start_time": "2021-12-03T17:32:11.877Z"
   },
   {
    "duration": 31,
    "start_time": "2021-12-03T17:32:11.893Z"
   },
   {
    "duration": 73,
    "start_time": "2021-12-03T17:32:11.928Z"
   },
   {
    "duration": 81,
    "start_time": "2021-12-03T17:32:12.003Z"
   },
   {
    "duration": 24,
    "start_time": "2021-12-03T17:32:12.087Z"
   },
   {
    "duration": 12,
    "start_time": "2021-12-03T17:32:12.114Z"
   },
   {
    "duration": 58,
    "start_time": "2021-12-03T17:32:12.128Z"
   },
   {
    "duration": 33,
    "start_time": "2021-12-03T17:32:12.189Z"
   },
   {
    "duration": 70,
    "start_time": "2021-12-03T17:32:12.225Z"
   },
   {
    "duration": 21,
    "start_time": "2021-12-03T17:32:12.297Z"
   },
   {
    "duration": 12,
    "start_time": "2021-12-03T17:32:12.321Z"
   },
   {
    "duration": 49,
    "start_time": "2021-12-03T17:32:12.335Z"
   },
   {
    "duration": 19,
    "start_time": "2021-12-03T17:32:12.387Z"
   },
   {
    "duration": 11,
    "start_time": "2021-12-03T17:32:12.409Z"
   },
   {
    "duration": 27,
    "start_time": "2021-12-03T17:32:12.422Z"
   },
   {
    "duration": 28,
    "start_time": "2021-12-03T17:32:12.452Z"
   },
   {
    "duration": 20,
    "start_time": "2021-12-03T17:32:12.483Z"
   },
   {
    "duration": 24,
    "start_time": "2021-12-03T17:32:12.506Z"
   },
   {
    "duration": 16,
    "start_time": "2021-12-03T17:32:12.533Z"
   },
   {
    "duration": 10,
    "start_time": "2021-12-03T17:32:12.552Z"
   },
   {
    "duration": 20,
    "start_time": "2021-12-03T17:32:12.565Z"
   },
   {
    "duration": 16,
    "start_time": "2021-12-03T17:32:12.588Z"
   },
   {
    "duration": 8,
    "start_time": "2021-12-03T17:32:12.606Z"
   },
   {
    "duration": 18,
    "start_time": "2021-12-03T17:32:12.617Z"
   },
   {
    "duration": 60,
    "start_time": "2021-12-03T17:32:12.638Z"
   },
   {
    "duration": 60,
    "start_time": "2021-12-03T17:32:12.701Z"
   },
   {
    "duration": 110,
    "start_time": "2021-12-03T17:32:12.764Z"
   },
   {
    "duration": 32,
    "start_time": "2021-12-03T17:32:12.877Z"
   },
   {
    "duration": 65,
    "start_time": "2021-12-03T17:32:12.912Z"
   },
   {
    "duration": 29,
    "start_time": "2021-12-03T17:32:12.980Z"
   },
   {
    "duration": 96,
    "start_time": "2021-12-03T17:32:13.012Z"
   },
   {
    "duration": 29,
    "start_time": "2021-12-03T17:32:13.111Z"
   },
   {
    "duration": 27,
    "start_time": "2021-12-03T17:32:13.142Z"
   },
   {
    "duration": 26,
    "start_time": "2021-12-03T17:32:13.172Z"
   },
   {
    "duration": 58,
    "start_time": "2021-12-03T17:32:13.201Z"
   },
   {
    "duration": 10,
    "start_time": "2021-12-03T17:32:13.262Z"
   },
   {
    "duration": 30,
    "start_time": "2021-12-03T17:32:13.275Z"
   },
   {
    "duration": 15,
    "start_time": "2021-12-03T17:32:13.308Z"
   },
   {
    "duration": 25,
    "start_time": "2021-12-03T17:32:13.326Z"
   },
   {
    "duration": 33,
    "start_time": "2021-12-03T17:32:13.361Z"
   },
   {
    "duration": 12,
    "start_time": "2021-12-03T17:32:13.396Z"
   },
   {
    "duration": 37,
    "start_time": "2021-12-03T17:32:13.410Z"
   },
   {
    "duration": 26,
    "start_time": "2021-12-03T17:32:13.450Z"
   },
   {
    "duration": 202,
    "start_time": "2021-12-03T17:32:13.479Z"
   },
   {
    "duration": 23,
    "start_time": "2021-12-03T17:32:13.683Z"
   },
   {
    "duration": 97,
    "start_time": "2021-12-03T17:32:13.709Z"
   },
   {
    "duration": 93,
    "start_time": "2021-12-03T17:32:13.814Z"
   },
   {
    "duration": 94,
    "start_time": "2021-12-03T17:32:13.911Z"
   },
   {
    "duration": 9,
    "start_time": "2021-12-03T17:32:14.008Z"
   },
   {
    "duration": 10,
    "start_time": "2021-12-03T17:32:14.020Z"
   },
   {
    "duration": 31,
    "start_time": "2021-12-03T17:32:14.033Z"
   },
   {
    "duration": 20,
    "start_time": "2021-12-03T17:32:14.068Z"
   },
   {
    "duration": 12,
    "start_time": "2021-12-03T17:32:14.091Z"
   },
   {
    "duration": 1761,
    "start_time": "2021-12-03T17:32:14.105Z"
   },
   {
    "duration": 349,
    "start_time": "2021-12-03T17:32:15.869Z"
   },
   {
    "duration": 379,
    "start_time": "2021-12-03T17:32:16.220Z"
   },
   {
    "duration": 583,
    "start_time": "2021-12-03T17:32:16.602Z"
   },
   {
    "duration": 338,
    "start_time": "2021-12-03T17:32:17.188Z"
   },
   {
    "duration": 348,
    "start_time": "2021-12-03T17:32:17.529Z"
   },
   {
    "duration": 505,
    "start_time": "2021-12-03T17:32:17.879Z"
   },
   {
    "duration": 359,
    "start_time": "2021-12-03T17:32:18.386Z"
   },
   {
    "duration": 358,
    "start_time": "2021-12-03T17:32:18.747Z"
   },
   {
    "duration": 6,
    "start_time": "2021-12-03T17:32:19.109Z"
   },
   {
    "duration": 6,
    "start_time": "2021-12-03T17:32:19.119Z"
   },
   {
    "duration": 9,
    "start_time": "2021-12-03T17:32:19.159Z"
   },
   {
    "duration": 18,
    "start_time": "2021-12-03T17:32:19.171Z"
   },
   {
    "duration": 13,
    "start_time": "2021-12-03T17:32:19.191Z"
   },
   {
    "duration": 14,
    "start_time": "2021-12-03T17:32:19.207Z"
   },
   {
    "duration": 20,
    "start_time": "2021-12-03T17:39:04.825Z"
   },
   {
    "duration": 37,
    "start_time": "2021-12-03T17:40:36.273Z"
   },
   {
    "duration": 41,
    "start_time": "2021-12-03T17:42:17.403Z"
   },
   {
    "duration": 23,
    "start_time": "2021-12-03T17:43:06.972Z"
   },
   {
    "duration": 1350,
    "start_time": "2021-12-03T18:06:22.992Z"
   },
   {
    "duration": 5,
    "start_time": "2021-12-03T18:06:24.344Z"
   },
   {
    "duration": 18,
    "start_time": "2021-12-03T18:06:24.354Z"
   },
   {
    "duration": 969,
    "start_time": "2021-12-03T18:06:24.376Z"
   },
   {
    "duration": 686,
    "start_time": "2021-12-03T18:06:25.348Z"
   },
   {
    "duration": 33,
    "start_time": "2021-12-03T18:06:26.036Z"
   },
   {
    "duration": 525,
    "start_time": "2021-12-03T18:06:26.071Z"
   },
   {
    "duration": 94,
    "start_time": "2021-12-03T18:06:26.599Z"
   },
   {
    "duration": 102,
    "start_time": "2021-12-03T18:06:26.697Z"
   },
   {
    "duration": 3,
    "start_time": "2021-12-03T18:06:26.803Z"
   },
   {
    "duration": 7,
    "start_time": "2021-12-03T18:06:26.809Z"
   },
   {
    "duration": 14,
    "start_time": "2021-12-03T18:06:26.818Z"
   },
   {
    "duration": 33,
    "start_time": "2021-12-03T18:06:26.834Z"
   },
   {
    "duration": 41,
    "start_time": "2021-12-03T18:06:26.869Z"
   },
   {
    "duration": 194,
    "start_time": "2021-12-03T18:06:26.913Z"
   },
   {
    "duration": 134,
    "start_time": "2021-12-03T18:06:27.109Z"
   },
   {
    "duration": 39,
    "start_time": "2021-12-03T18:06:27.246Z"
   },
   {
    "duration": 14,
    "start_time": "2021-12-03T18:06:27.288Z"
   },
   {
    "duration": 14,
    "start_time": "2021-12-03T18:06:27.305Z"
   },
   {
    "duration": 55,
    "start_time": "2021-12-03T18:06:27.321Z"
   },
   {
    "duration": 9,
    "start_time": "2021-12-03T18:06:27.378Z"
   },
   {
    "duration": 23,
    "start_time": "2021-12-03T18:06:27.390Z"
   },
   {
    "duration": 4,
    "start_time": "2021-12-03T18:06:27.416Z"
   },
   {
    "duration": 59,
    "start_time": "2021-12-03T18:06:27.422Z"
   },
   {
    "duration": 138,
    "start_time": "2021-12-03T18:06:27.484Z"
   },
   {
    "duration": 66,
    "start_time": "2021-12-03T18:06:27.624Z"
   },
   {
    "duration": 25,
    "start_time": "2021-12-03T18:06:27.695Z"
   },
   {
    "duration": 10,
    "start_time": "2021-12-03T18:06:27.723Z"
   },
   {
    "duration": 51,
    "start_time": "2021-12-03T18:06:27.735Z"
   },
   {
    "duration": 120,
    "start_time": "2021-12-03T18:06:27.789Z"
   },
   {
    "duration": 63,
    "start_time": "2021-12-03T18:06:27.912Z"
   },
   {
    "duration": 21,
    "start_time": "2021-12-03T18:06:27.978Z"
   },
   {
    "duration": 11,
    "start_time": "2021-12-03T18:06:28.002Z"
   },
   {
    "duration": 9,
    "start_time": "2021-12-03T18:06:28.016Z"
   },
   {
    "duration": 49,
    "start_time": "2021-12-03T18:06:28.027Z"
   },
   {
    "duration": 6,
    "start_time": "2021-12-03T18:06:28.079Z"
   },
   {
    "duration": 11,
    "start_time": "2021-12-03T18:06:28.087Z"
   },
   {
    "duration": 9,
    "start_time": "2021-12-03T18:06:28.100Z"
   },
   {
    "duration": 9,
    "start_time": "2021-12-03T18:06:28.111Z"
   },
   {
    "duration": 45,
    "start_time": "2021-12-03T18:06:28.122Z"
   },
   {
    "duration": 15,
    "start_time": "2021-12-03T18:06:28.170Z"
   },
   {
    "duration": 9,
    "start_time": "2021-12-03T18:06:28.187Z"
   },
   {
    "duration": 16,
    "start_time": "2021-12-03T18:06:28.198Z"
   },
   {
    "duration": 15,
    "start_time": "2021-12-03T18:06:28.217Z"
   },
   {
    "duration": 34,
    "start_time": "2021-12-03T18:06:28.234Z"
   },
   {
    "duration": 14,
    "start_time": "2021-12-03T18:06:28.270Z"
   },
   {
    "duration": 37,
    "start_time": "2021-12-03T18:06:28.286Z"
   },
   {
    "duration": 185,
    "start_time": "2021-12-03T18:06:28.326Z"
   },
   {
    "duration": 87,
    "start_time": "2021-12-03T18:06:28.513Z"
   },
   {
    "duration": 29,
    "start_time": "2021-12-03T18:06:28.602Z"
   },
   {
    "duration": 53,
    "start_time": "2021-12-03T18:06:28.633Z"
   },
   {
    "duration": 30,
    "start_time": "2021-12-03T18:06:28.688Z"
   },
   {
    "duration": 58,
    "start_time": "2021-12-03T18:06:36.287Z"
   },
   {
    "duration": 13,
    "start_time": "2021-12-03T18:08:50.620Z"
   },
   {
    "duration": 13,
    "start_time": "2021-12-03T18:09:23.451Z"
   },
   {
    "duration": 30,
    "start_time": "2021-12-03T18:09:25.571Z"
   },
   {
    "duration": 9,
    "start_time": "2021-12-03T18:09:38.752Z"
   },
   {
    "duration": 4,
    "start_time": "2021-12-03T18:09:57.274Z"
   },
   {
    "duration": 6,
    "start_time": "2021-12-03T18:09:57.281Z"
   },
   {
    "duration": 9,
    "start_time": "2021-12-03T18:09:57.291Z"
   },
   {
    "duration": 1011,
    "start_time": "2021-12-03T18:09:57.303Z"
   },
   {
    "duration": 719,
    "start_time": "2021-12-03T18:09:58.316Z"
   },
   {
    "duration": 30,
    "start_time": "2021-12-03T18:09:59.038Z"
   },
   {
    "duration": 512,
    "start_time": "2021-12-03T18:09:59.071Z"
   },
   {
    "duration": 95,
    "start_time": "2021-12-03T18:09:59.586Z"
   },
   {
    "duration": 107,
    "start_time": "2021-12-03T18:09:59.683Z"
   },
   {
    "duration": 4,
    "start_time": "2021-12-03T18:09:59.792Z"
   },
   {
    "duration": 9,
    "start_time": "2021-12-03T18:09:59.799Z"
   },
   {
    "duration": 17,
    "start_time": "2021-12-03T18:09:59.811Z"
   },
   {
    "duration": 37,
    "start_time": "2021-12-03T18:09:59.830Z"
   },
   {
    "duration": 37,
    "start_time": "2021-12-03T18:09:59.870Z"
   },
   {
    "duration": 195,
    "start_time": "2021-12-03T18:09:59.910Z"
   },
   {
    "duration": 133,
    "start_time": "2021-12-03T18:10:00.107Z"
   },
   {
    "duration": 44,
    "start_time": "2021-12-03T18:10:00.243Z"
   },
   {
    "duration": 12,
    "start_time": "2021-12-03T18:10:00.293Z"
   },
   {
    "duration": 26,
    "start_time": "2021-12-03T18:10:00.309Z"
   },
   {
    "duration": 38,
    "start_time": "2021-12-03T18:10:00.338Z"
   },
   {
    "duration": 17,
    "start_time": "2021-12-03T18:10:00.379Z"
   },
   {
    "duration": 22,
    "start_time": "2021-12-03T18:10:00.398Z"
   },
   {
    "duration": 15,
    "start_time": "2021-12-03T18:10:00.423Z"
   },
   {
    "duration": 56,
    "start_time": "2021-12-03T18:10:00.440Z"
   },
   {
    "duration": 134,
    "start_time": "2021-12-03T18:10:00.498Z"
   },
   {
    "duration": 68,
    "start_time": "2021-12-03T18:10:00.634Z"
   },
   {
    "duration": 25,
    "start_time": "2021-12-03T18:10:00.704Z"
   },
   {
    "duration": 10,
    "start_time": "2021-12-03T18:10:00.731Z"
   },
   {
    "duration": 46,
    "start_time": "2021-12-03T18:10:00.743Z"
   },
   {
    "duration": 123,
    "start_time": "2021-12-03T18:10:00.792Z"
   },
   {
    "duration": 64,
    "start_time": "2021-12-03T18:10:00.918Z"
   },
   {
    "duration": 22,
    "start_time": "2021-12-03T18:10:00.985Z"
   },
   {
    "duration": 12,
    "start_time": "2021-12-03T18:10:01.010Z"
   },
   {
    "duration": 18,
    "start_time": "2021-12-03T18:10:01.025Z"
   },
   {
    "duration": 16,
    "start_time": "2021-12-03T18:10:01.068Z"
   },
   {
    "duration": 23,
    "start_time": "2021-12-03T18:10:01.087Z"
   },
   {
    "duration": 16,
    "start_time": "2021-12-03T18:10:01.112Z"
   },
   {
    "duration": 10,
    "start_time": "2021-12-03T18:10:01.131Z"
   },
   {
    "duration": 26,
    "start_time": "2021-12-03T18:10:01.143Z"
   },
   {
    "duration": 9,
    "start_time": "2021-12-03T18:10:01.172Z"
   },
   {
    "duration": 22,
    "start_time": "2021-12-03T18:10:01.184Z"
   },
   {
    "duration": 5,
    "start_time": "2021-12-03T18:10:01.208Z"
   },
   {
    "duration": 11,
    "start_time": "2021-12-03T18:10:01.215Z"
   },
   {
    "duration": 24,
    "start_time": "2021-12-03T18:10:01.228Z"
   },
   {
    "duration": 7,
    "start_time": "2021-12-03T18:10:01.267Z"
   },
   {
    "duration": 13,
    "start_time": "2021-12-03T18:10:01.276Z"
   },
   {
    "duration": 91,
    "start_time": "2021-12-03T18:10:01.291Z"
   },
   {
    "duration": 174,
    "start_time": "2021-12-03T18:10:01.385Z"
   },
   {
    "duration": 62,
    "start_time": "2021-12-03T18:10:01.566Z"
   },
   {
    "duration": 50,
    "start_time": "2021-12-03T18:10:01.630Z"
   },
   {
    "duration": 31,
    "start_time": "2021-12-03T18:10:01.686Z"
   },
   {
    "duration": 56,
    "start_time": "2021-12-03T18:10:01.720Z"
   },
   {
    "duration": 59,
    "start_time": "2021-12-03T18:10:01.778Z"
   },
   {
    "duration": 34,
    "start_time": "2021-12-03T18:10:01.839Z"
   },
   {
    "duration": 44,
    "start_time": "2021-12-03T18:10:01.875Z"
   },
   {
    "duration": 9,
    "start_time": "2021-12-03T18:10:01.922Z"
   },
   {
    "duration": 47,
    "start_time": "2021-12-03T18:10:01.934Z"
   },
   {
    "duration": 7,
    "start_time": "2021-12-03T18:10:01.984Z"
   },
   {
    "duration": 25,
    "start_time": "2021-12-03T18:10:01.994Z"
   },
   {
    "duration": 48,
    "start_time": "2021-12-03T18:10:02.021Z"
   },
   {
    "duration": 31,
    "start_time": "2021-12-03T18:10:02.071Z"
   },
   {
    "duration": 17,
    "start_time": "2021-12-03T18:10:02.105Z"
   },
   {
    "duration": 36,
    "start_time": "2021-12-03T18:10:02.124Z"
   },
   {
    "duration": 14,
    "start_time": "2021-12-03T18:10:02.162Z"
   },
   {
    "duration": 13,
    "start_time": "2021-12-03T18:10:04.595Z"
   },
   {
    "duration": 28,
    "start_time": "2021-12-03T18:10:05.546Z"
   },
   {
    "duration": 6,
    "start_time": "2021-12-03T18:10:13.556Z"
   },
   {
    "duration": 7422,
    "start_time": "2021-12-03T18:10:15.136Z"
   },
   {
    "duration": 4,
    "start_time": "2021-12-03T18:11:03.765Z"
   },
   {
    "duration": 7,
    "start_time": "2021-12-03T18:11:03.771Z"
   },
   {
    "duration": 9,
    "start_time": "2021-12-03T18:11:03.780Z"
   },
   {
    "duration": 1062,
    "start_time": "2021-12-03T18:11:03.792Z"
   },
   {
    "duration": 673,
    "start_time": "2021-12-03T18:11:04.856Z"
   },
   {
    "duration": 36,
    "start_time": "2021-12-03T18:11:05.532Z"
   },
   {
    "duration": 542,
    "start_time": "2021-12-03T18:11:05.571Z"
   },
   {
    "duration": 89,
    "start_time": "2021-12-03T18:11:06.116Z"
   },
   {
    "duration": 99,
    "start_time": "2021-12-03T18:11:06.207Z"
   },
   {
    "duration": 4,
    "start_time": "2021-12-03T18:11:06.308Z"
   },
   {
    "duration": 8,
    "start_time": "2021-12-03T18:11:06.314Z"
   },
   {
    "duration": 15,
    "start_time": "2021-12-03T18:11:06.325Z"
   },
   {
    "duration": 6,
    "start_time": "2021-12-03T18:11:06.370Z"
   },
   {
    "duration": 40,
    "start_time": "2021-12-03T18:11:06.379Z"
   },
   {
    "duration": 199,
    "start_time": "2021-12-03T18:11:06.421Z"
   },
   {
    "duration": 136,
    "start_time": "2021-12-03T18:11:06.622Z"
   },
   {
    "duration": 37,
    "start_time": "2021-12-03T18:11:06.761Z"
   },
   {
    "duration": 13,
    "start_time": "2021-12-03T18:11:06.801Z"
   },
   {
    "duration": 20,
    "start_time": "2021-12-03T18:11:06.817Z"
   },
   {
    "duration": 42,
    "start_time": "2021-12-03T18:11:06.840Z"
   },
   {
    "duration": 9,
    "start_time": "2021-12-03T18:11:06.885Z"
   },
   {
    "duration": 19,
    "start_time": "2021-12-03T18:11:06.896Z"
   },
   {
    "duration": 9,
    "start_time": "2021-12-03T18:11:06.917Z"
   },
   {
    "duration": 65,
    "start_time": "2021-12-03T18:11:06.928Z"
   },
   {
    "duration": 136,
    "start_time": "2021-12-03T18:11:06.995Z"
   },
   {
    "duration": 75,
    "start_time": "2021-12-03T18:11:07.133Z"
   },
   {
    "duration": 25,
    "start_time": "2021-12-03T18:11:07.211Z"
   },
   {
    "duration": 30,
    "start_time": "2021-12-03T18:11:07.239Z"
   },
   {
    "duration": 28,
    "start_time": "2021-12-03T18:11:07.271Z"
   },
   {
    "duration": 128,
    "start_time": "2021-12-03T18:11:07.301Z"
   },
   {
    "duration": 65,
    "start_time": "2021-12-03T18:11:07.431Z"
   },
   {
    "duration": 22,
    "start_time": "2021-12-03T18:11:07.499Z"
   },
   {
    "duration": 14,
    "start_time": "2021-12-03T18:11:07.523Z"
   },
   {
    "duration": 11,
    "start_time": "2021-12-03T18:11:07.570Z"
   },
   {
    "duration": 20,
    "start_time": "2021-12-03T18:11:07.586Z"
   },
   {
    "duration": 7,
    "start_time": "2021-12-03T18:11:07.609Z"
   },
   {
    "duration": 15,
    "start_time": "2021-12-03T18:11:07.619Z"
   },
   {
    "duration": 34,
    "start_time": "2021-12-03T18:11:07.637Z"
   },
   {
    "duration": 11,
    "start_time": "2021-12-03T18:11:07.674Z"
   },
   {
    "duration": 8,
    "start_time": "2021-12-03T18:11:07.688Z"
   },
   {
    "duration": 17,
    "start_time": "2021-12-03T18:11:07.699Z"
   },
   {
    "duration": 9,
    "start_time": "2021-12-03T18:11:07.719Z"
   },
   {
    "duration": 40,
    "start_time": "2021-12-03T18:11:07.731Z"
   },
   {
    "duration": 11,
    "start_time": "2021-12-03T18:11:07.773Z"
   },
   {
    "duration": 7,
    "start_time": "2021-12-03T18:11:07.786Z"
   },
   {
    "duration": 8,
    "start_time": "2021-12-03T18:11:07.795Z"
   },
   {
    "duration": 71,
    "start_time": "2021-12-03T18:11:07.805Z"
   },
   {
    "duration": 182,
    "start_time": "2021-12-03T18:11:07.878Z"
   },
   {
    "duration": 63,
    "start_time": "2021-12-03T18:11:08.062Z"
   },
   {
    "duration": 49,
    "start_time": "2021-12-03T18:11:08.127Z"
   },
   {
    "duration": 31,
    "start_time": "2021-12-03T18:11:08.178Z"
   },
   {
    "duration": 58,
    "start_time": "2021-12-03T18:11:08.211Z"
   },
   {
    "duration": 57,
    "start_time": "2021-12-03T18:11:08.271Z"
   },
   {
    "duration": 13,
    "start_time": "2021-12-03T18:11:08.330Z"
   },
   {
    "duration": 53,
    "start_time": "2021-12-03T18:11:08.345Z"
   },
   {
    "duration": 10,
    "start_time": "2021-12-03T18:11:08.401Z"
   },
   {
    "duration": 58,
    "start_time": "2021-12-03T18:11:08.413Z"
   },
   {
    "duration": 9,
    "start_time": "2021-12-03T18:11:08.474Z"
   },
   {
    "duration": 12,
    "start_time": "2021-12-03T18:11:08.485Z"
   },
   {
    "duration": 23,
    "start_time": "2021-12-03T18:11:08.500Z"
   },
   {
    "duration": 41,
    "start_time": "2021-12-03T18:11:08.526Z"
   },
   {
    "duration": 12,
    "start_time": "2021-12-03T18:11:08.570Z"
   },
   {
    "duration": 29,
    "start_time": "2021-12-03T18:11:08.585Z"
   },
   {
    "duration": 14,
    "start_time": "2021-12-03T18:11:08.616Z"
   },
   {
    "duration": 55,
    "start_time": "2021-12-03T18:11:08.633Z"
   },
   {
    "duration": 7,
    "start_time": "2021-12-03T18:11:18.337Z"
   },
   {
    "duration": 322,
    "start_time": "2021-12-03T18:11:22.497Z"
   },
   {
    "duration": 25,
    "start_time": "2021-12-03T18:11:30.072Z"
   },
   {
    "duration": 75,
    "start_time": "2021-12-03T18:12:02.766Z"
   },
   {
    "duration": 78,
    "start_time": "2021-12-03T18:12:29.912Z"
   },
   {
    "duration": 82,
    "start_time": "2021-12-03T18:13:49.007Z"
   },
   {
    "duration": 78,
    "start_time": "2021-12-03T18:14:03.053Z"
   },
   {
    "duration": 4,
    "start_time": "2021-12-03T18:14:42.804Z"
   },
   {
    "duration": 14,
    "start_time": "2021-12-03T18:14:42.811Z"
   },
   {
    "duration": 10,
    "start_time": "2021-12-03T18:14:42.828Z"
   },
   {
    "duration": 1019,
    "start_time": "2021-12-03T18:14:42.840Z"
   },
   {
    "duration": 655,
    "start_time": "2021-12-03T18:14:43.861Z"
   },
   {
    "duration": 18,
    "start_time": "2021-12-03T18:14:44.518Z"
   },
   {
    "duration": 584,
    "start_time": "2021-12-03T18:14:44.538Z"
   },
   {
    "duration": 90,
    "start_time": "2021-12-03T18:14:45.126Z"
   },
   {
    "duration": 101,
    "start_time": "2021-12-03T18:14:45.219Z"
   },
   {
    "duration": 4,
    "start_time": "2021-12-03T18:14:45.324Z"
   },
   {
    "duration": 6,
    "start_time": "2021-12-03T18:14:45.331Z"
   },
   {
    "duration": 12,
    "start_time": "2021-12-03T18:14:45.367Z"
   },
   {
    "duration": 7,
    "start_time": "2021-12-03T18:14:45.382Z"
   },
   {
    "duration": 39,
    "start_time": "2021-12-03T18:14:45.392Z"
   },
   {
    "duration": 217,
    "start_time": "2021-12-03T18:14:45.433Z"
   },
   {
    "duration": 141,
    "start_time": "2021-12-03T18:14:45.652Z"
   },
   {
    "duration": 32,
    "start_time": "2021-12-03T18:14:45.796Z"
   },
   {
    "duration": 38,
    "start_time": "2021-12-03T18:14:45.831Z"
   },
   {
    "duration": 15,
    "start_time": "2021-12-03T18:14:45.872Z"
   },
   {
    "duration": 23,
    "start_time": "2021-12-03T18:14:45.889Z"
   },
   {
    "duration": 9,
    "start_time": "2021-12-03T18:14:45.914Z"
   },
   {
    "duration": 52,
    "start_time": "2021-12-03T18:14:45.929Z"
   },
   {
    "duration": 4,
    "start_time": "2021-12-03T18:14:45.985Z"
   },
   {
    "duration": 32,
    "start_time": "2021-12-03T18:14:45.991Z"
   },
   {
    "duration": 159,
    "start_time": "2021-12-03T18:14:46.026Z"
   },
   {
    "duration": 58,
    "start_time": "2021-12-03T18:14:46.187Z"
   },
   {
    "duration": 43,
    "start_time": "2021-12-03T18:14:46.247Z"
   },
   {
    "duration": 11,
    "start_time": "2021-12-03T18:14:46.292Z"
   },
   {
    "duration": 29,
    "start_time": "2021-12-03T18:14:46.306Z"
   },
   {
    "duration": 146,
    "start_time": "2021-12-03T18:14:46.338Z"
   },
   {
    "duration": 56,
    "start_time": "2021-12-03T18:14:46.487Z"
   },
   {
    "duration": 42,
    "start_time": "2021-12-03T18:14:46.545Z"
   },
   {
    "duration": 12,
    "start_time": "2021-12-03T18:14:46.590Z"
   },
   {
    "duration": 16,
    "start_time": "2021-12-03T18:14:46.604Z"
   },
   {
    "duration": 16,
    "start_time": "2021-12-03T18:14:46.622Z"
   },
   {
    "duration": 30,
    "start_time": "2021-12-03T18:14:46.641Z"
   },
   {
    "duration": 10,
    "start_time": "2021-12-03T18:14:46.674Z"
   },
   {
    "duration": 7,
    "start_time": "2021-12-03T18:14:46.687Z"
   },
   {
    "duration": 10,
    "start_time": "2021-12-03T18:14:46.696Z"
   },
   {
    "duration": 10,
    "start_time": "2021-12-03T18:14:46.708Z"
   },
   {
    "duration": 48,
    "start_time": "2021-12-03T18:14:46.720Z"
   },
   {
    "duration": 7,
    "start_time": "2021-12-03T18:14:46.770Z"
   },
   {
    "duration": 7,
    "start_time": "2021-12-03T18:14:46.779Z"
   },
   {
    "duration": 11,
    "start_time": "2021-12-03T18:14:46.789Z"
   },
   {
    "duration": 7,
    "start_time": "2021-12-03T18:14:46.803Z"
   },
   {
    "duration": 6,
    "start_time": "2021-12-03T18:14:46.813Z"
   },
   {
    "duration": 95,
    "start_time": "2021-12-03T18:14:46.822Z"
   },
   {
    "duration": 271,
    "start_time": "2021-12-03T18:14:46.920Z"
   },
   {
    "duration": 74,
    "start_time": "2021-12-03T18:14:47.193Z"
   },
   {
    "duration": 27,
    "start_time": "2021-12-03T18:14:47.269Z"
   },
   {
    "duration": 31,
    "start_time": "2021-12-03T18:14:47.299Z"
   },
   {
    "duration": 56,
    "start_time": "2021-12-03T18:14:47.332Z"
   },
   {
    "duration": 85,
    "start_time": "2021-12-03T18:14:47.391Z"
   },
   {
    "duration": 13,
    "start_time": "2021-12-03T18:14:47.479Z"
   },
   {
    "duration": 33,
    "start_time": "2021-12-03T18:14:47.495Z"
   },
   {
    "duration": 38,
    "start_time": "2021-12-03T18:14:47.531Z"
   },
   {
    "duration": 28,
    "start_time": "2021-12-03T18:14:47.572Z"
   },
   {
    "duration": 9,
    "start_time": "2021-12-03T18:14:47.602Z"
   },
   {
    "duration": 9,
    "start_time": "2021-12-03T18:14:47.613Z"
   },
   {
    "duration": 56,
    "start_time": "2021-12-03T18:14:47.625Z"
   },
   {
    "duration": 4,
    "start_time": "2021-12-03T18:14:47.684Z"
   },
   {
    "duration": 13,
    "start_time": "2021-12-03T18:14:47.691Z"
   },
   {
    "duration": 63,
    "start_time": "2021-12-03T18:14:47.707Z"
   },
   {
    "duration": 14,
    "start_time": "2021-12-03T18:14:47.777Z"
   },
   {
    "duration": 25,
    "start_time": "2021-12-03T18:14:47.794Z"
   },
   {
    "duration": 7,
    "start_time": "2021-12-03T18:14:47.822Z"
   },
   {
    "duration": 350,
    "start_time": "2021-12-03T18:14:47.832Z"
   },
   {
    "duration": 24,
    "start_time": "2021-12-03T18:14:48.185Z"
   },
   {
    "duration": 93,
    "start_time": "2021-12-03T18:14:48.212Z"
   },
   {
    "duration": 93,
    "start_time": "2021-12-03T18:14:48.307Z"
   },
   {
    "duration": 101,
    "start_time": "2021-12-03T18:14:48.403Z"
   },
   {
    "duration": 8,
    "start_time": "2021-12-03T18:14:48.507Z"
   },
   {
    "duration": 10,
    "start_time": "2021-12-03T18:14:48.517Z"
   },
   {
    "duration": 7,
    "start_time": "2021-12-03T18:14:48.529Z"
   },
   {
    "duration": 32,
    "start_time": "2021-12-03T18:14:48.538Z"
   },
   {
    "duration": 10,
    "start_time": "2021-12-03T18:14:48.573Z"
   },
   {
    "duration": 503,
    "start_time": "2021-12-03T18:15:21.072Z"
   },
   {
    "duration": 493,
    "start_time": "2021-12-03T18:15:53.087Z"
   },
   {
    "duration": 338,
    "start_time": "2021-12-03T18:16:05.088Z"
   },
   {
    "duration": 341,
    "start_time": "2021-12-03T18:16:10.978Z"
   },
   {
    "duration": 488,
    "start_time": "2021-12-03T18:16:21.106Z"
   },
   {
    "duration": 407,
    "start_time": "2021-12-03T18:16:24.084Z"
   },
   {
    "duration": 313,
    "start_time": "2021-12-03T18:16:27.832Z"
   },
   {
    "duration": 498,
    "start_time": "2021-12-03T18:16:48.144Z"
   },
   {
    "duration": 331,
    "start_time": "2021-12-03T18:17:29.426Z"
   },
   {
    "duration": 311,
    "start_time": "2021-12-03T18:17:57.475Z"
   },
   {
    "duration": 7,
    "start_time": "2021-12-03T18:19:00.236Z"
   },
   {
    "duration": 5,
    "start_time": "2021-12-03T18:19:14.798Z"
   },
   {
    "duration": 7,
    "start_time": "2021-12-03T18:19:28.652Z"
   },
   {
    "duration": 15,
    "start_time": "2021-12-03T18:19:39.513Z"
   },
   {
    "duration": 15,
    "start_time": "2021-12-03T18:19:45.648Z"
   },
   {
    "duration": 14,
    "start_time": "2021-12-03T18:19:51.140Z"
   },
   {
    "duration": 29,
    "start_time": "2021-12-03T18:23:24.599Z"
   },
   {
    "duration": 13,
    "start_time": "2021-12-03T18:23:26.486Z"
   },
   {
    "duration": 4,
    "start_time": "2021-12-03T18:24:15.161Z"
   },
   {
    "duration": 22,
    "start_time": "2021-12-03T18:27:14.534Z"
   },
   {
    "duration": 3,
    "start_time": "2021-12-03T18:27:51.234Z"
   },
   {
    "duration": 20,
    "start_time": "2021-12-03T18:27:52.354Z"
   },
   {
    "duration": 4,
    "start_time": "2021-12-03T18:28:46.282Z"
   },
   {
    "duration": 7,
    "start_time": "2021-12-03T18:28:46.289Z"
   },
   {
    "duration": 8,
    "start_time": "2021-12-03T18:28:46.299Z"
   },
   {
    "duration": 991,
    "start_time": "2021-12-03T18:28:46.310Z"
   },
   {
    "duration": 667,
    "start_time": "2021-12-03T18:28:47.303Z"
   },
   {
    "duration": 17,
    "start_time": "2021-12-03T18:28:47.972Z"
   },
   {
    "duration": 636,
    "start_time": "2021-12-03T18:28:47.993Z"
   },
   {
    "duration": 78,
    "start_time": "2021-12-03T18:28:48.632Z"
   },
   {
    "duration": 101,
    "start_time": "2021-12-03T18:28:48.713Z"
   },
   {
    "duration": 3,
    "start_time": "2021-12-03T18:28:48.817Z"
   },
   {
    "duration": 10,
    "start_time": "2021-12-03T18:28:48.822Z"
   },
   {
    "duration": 41,
    "start_time": "2021-12-03T18:28:48.834Z"
   },
   {
    "duration": 10,
    "start_time": "2021-12-03T18:28:48.878Z"
   },
   {
    "duration": 46,
    "start_time": "2021-12-03T18:28:48.890Z"
   },
   {
    "duration": 193,
    "start_time": "2021-12-03T18:28:48.939Z"
   },
   {
    "duration": 135,
    "start_time": "2021-12-03T18:28:49.134Z"
   },
   {
    "duration": 3,
    "start_time": "2021-12-03T18:28:49.272Z"
   },
   {
    "duration": 29,
    "start_time": "2021-12-03T18:28:49.281Z"
   },
   {
    "duration": 13,
    "start_time": "2021-12-03T18:28:49.313Z"
   },
   {
    "duration": 47,
    "start_time": "2021-12-03T18:28:49.329Z"
   },
   {
    "duration": 16,
    "start_time": "2021-12-03T18:28:49.379Z"
   },
   {
    "duration": 23,
    "start_time": "2021-12-03T18:28:49.397Z"
   },
   {
    "duration": 26,
    "start_time": "2021-12-03T18:28:49.422Z"
   },
   {
    "duration": 3,
    "start_time": "2021-12-03T18:28:49.451Z"
   },
   {
    "duration": 37,
    "start_time": "2021-12-03T18:28:49.457Z"
   },
   {
    "duration": 140,
    "start_time": "2021-12-03T18:28:49.496Z"
   },
   {
    "duration": 73,
    "start_time": "2021-12-03T18:28:49.638Z"
   },
   {
    "duration": 3,
    "start_time": "2021-12-03T18:28:49.714Z"
   },
   {
    "duration": 29,
    "start_time": "2021-12-03T18:28:49.719Z"
   },
   {
    "duration": 22,
    "start_time": "2021-12-03T18:28:49.751Z"
   },
   {
    "duration": 32,
    "start_time": "2021-12-03T18:28:49.775Z"
   },
   {
    "duration": 122,
    "start_time": "2021-12-03T18:28:49.810Z"
   },
   {
    "duration": 75,
    "start_time": "2021-12-03T18:28:49.935Z"
   },
   {
    "duration": 4,
    "start_time": "2021-12-03T18:28:50.013Z"
   },
   {
    "duration": 31,
    "start_time": "2021-12-03T18:28:50.020Z"
   },
   {
    "duration": 14,
    "start_time": "2021-12-03T18:28:50.068Z"
   },
   {
    "duration": 12,
    "start_time": "2021-12-03T18:28:50.085Z"
   },
   {
    "duration": 19,
    "start_time": "2021-12-03T18:28:50.099Z"
   },
   {
    "duration": 46,
    "start_time": "2021-12-03T18:28:50.121Z"
   },
   {
    "duration": 13,
    "start_time": "2021-12-03T18:28:50.170Z"
   },
   {
    "duration": 6,
    "start_time": "2021-12-03T18:28:50.186Z"
   },
   {
    "duration": 9,
    "start_time": "2021-12-03T18:28:50.195Z"
   },
   {
    "duration": 9,
    "start_time": "2021-12-03T18:28:50.206Z"
   },
   {
    "duration": 13,
    "start_time": "2021-12-03T18:28:50.217Z"
   },
   {
    "duration": 41,
    "start_time": "2021-12-03T18:28:50.233Z"
   },
   {
    "duration": 8,
    "start_time": "2021-12-03T18:28:50.277Z"
   },
   {
    "duration": 12,
    "start_time": "2021-12-03T18:28:50.288Z"
   },
   {
    "duration": 9,
    "start_time": "2021-12-03T18:28:50.303Z"
   },
   {
    "duration": 53,
    "start_time": "2021-12-03T18:28:50.314Z"
   },
   {
    "duration": 29,
    "start_time": "2021-12-03T18:28:50.371Z"
   },
   {
    "duration": 187,
    "start_time": "2021-12-03T18:28:50.408Z"
   },
   {
    "duration": 78,
    "start_time": "2021-12-03T18:28:54.013Z"
   },
   {
    "duration": 31,
    "start_time": "2021-12-03T18:28:59.125Z"
   },
   {
    "duration": 36,
    "start_time": "2021-12-03T18:29:07.550Z"
   },
   {
    "duration": 33,
    "start_time": "2021-12-03T18:29:10.646Z"
   },
   {
    "duration": 68,
    "start_time": "2021-12-03T18:29:14.455Z"
   },
   {
    "duration": 14,
    "start_time": "2021-12-03T18:29:16.464Z"
   },
   {
    "duration": 34,
    "start_time": "2021-12-03T18:29:19.507Z"
   },
   {
    "duration": 12,
    "start_time": "2021-12-03T18:29:22.141Z"
   },
   {
    "duration": 26,
    "start_time": "2021-12-03T18:29:26.817Z"
   },
   {
    "duration": 51,
    "start_time": "2021-12-03T18:29:33.037Z"
   },
   {
    "duration": 10,
    "start_time": "2021-12-03T18:29:33.952Z"
   },
   {
    "duration": 25,
    "start_time": "2021-12-03T18:29:37.314Z"
   },
   {
    "duration": 4,
    "start_time": "2021-12-03T18:30:32.511Z"
   },
   {
    "duration": 17,
    "start_time": "2021-12-03T18:30:32.518Z"
   },
   {
    "duration": 18,
    "start_time": "2021-12-03T18:30:32.538Z"
   },
   {
    "duration": 1080,
    "start_time": "2021-12-03T18:30:32.558Z"
   },
   {
    "duration": 685,
    "start_time": "2021-12-03T18:30:33.641Z"
   },
   {
    "duration": 18,
    "start_time": "2021-12-03T18:30:34.328Z"
   },
   {
    "duration": 538,
    "start_time": "2021-12-03T18:30:34.368Z"
   },
   {
    "duration": 84,
    "start_time": "2021-12-03T18:30:34.908Z"
   },
   {
    "duration": 104,
    "start_time": "2021-12-03T18:30:34.996Z"
   },
   {
    "duration": 4,
    "start_time": "2021-12-03T18:30:35.103Z"
   },
   {
    "duration": 21,
    "start_time": "2021-12-03T18:30:35.109Z"
   },
   {
    "duration": 43,
    "start_time": "2021-12-03T18:30:35.132Z"
   },
   {
    "duration": 15,
    "start_time": "2021-12-03T18:30:35.178Z"
   },
   {
    "duration": 39,
    "start_time": "2021-12-03T18:30:35.196Z"
   },
   {
    "duration": 180,
    "start_time": "2021-12-03T18:30:35.238Z"
   },
   {
    "duration": 141,
    "start_time": "2021-12-03T18:30:35.420Z"
   },
   {
    "duration": 3,
    "start_time": "2021-12-03T18:30:35.568Z"
   },
   {
    "duration": 45,
    "start_time": "2021-12-03T18:30:35.574Z"
   },
   {
    "duration": 14,
    "start_time": "2021-12-03T18:30:35.622Z"
   },
   {
    "duration": 32,
    "start_time": "2021-12-03T18:30:35.639Z"
   },
   {
    "duration": 14,
    "start_time": "2021-12-03T18:30:35.674Z"
   },
   {
    "duration": 17,
    "start_time": "2021-12-03T18:30:35.691Z"
   },
   {
    "duration": 26,
    "start_time": "2021-12-03T18:30:35.711Z"
   },
   {
    "duration": 3,
    "start_time": "2021-12-03T18:30:35.739Z"
   },
   {
    "duration": 48,
    "start_time": "2021-12-03T18:30:35.745Z"
   },
   {
    "duration": 141,
    "start_time": "2021-12-03T18:30:35.799Z"
   },
   {
    "duration": 64,
    "start_time": "2021-12-03T18:30:35.943Z"
   },
   {
    "duration": 3,
    "start_time": "2021-12-03T18:30:36.010Z"
   },
   {
    "duration": 32,
    "start_time": "2021-12-03T18:30:36.015Z"
   },
   {
    "duration": 27,
    "start_time": "2021-12-03T18:30:36.049Z"
   },
   {
    "duration": 28,
    "start_time": "2021-12-03T18:30:36.079Z"
   },
   {
    "duration": 128,
    "start_time": "2021-12-03T18:30:36.109Z"
   },
   {
    "duration": 66,
    "start_time": "2021-12-03T18:30:36.239Z"
   },
   {
    "duration": 3,
    "start_time": "2021-12-03T18:30:36.308Z"
   },
   {
    "duration": 25,
    "start_time": "2021-12-03T18:30:36.313Z"
   },
   {
    "duration": 29,
    "start_time": "2021-12-03T18:30:36.340Z"
   },
   {
    "duration": 11,
    "start_time": "2021-12-03T18:30:36.371Z"
   },
   {
    "duration": 21,
    "start_time": "2021-12-03T18:30:36.385Z"
   },
   {
    "duration": 6,
    "start_time": "2021-12-03T18:30:36.408Z"
   },
   {
    "duration": 12,
    "start_time": "2021-12-03T18:30:36.417Z"
   },
   {
    "duration": 5,
    "start_time": "2021-12-03T18:30:36.468Z"
   },
   {
    "duration": 9,
    "start_time": "2021-12-03T18:30:36.476Z"
   },
   {
    "duration": 8,
    "start_time": "2021-12-03T18:30:36.488Z"
   },
   {
    "duration": 12,
    "start_time": "2021-12-03T18:30:36.499Z"
   },
   {
    "duration": 8,
    "start_time": "2021-12-03T18:30:36.514Z"
   },
   {
    "duration": 48,
    "start_time": "2021-12-03T18:30:36.525Z"
   },
   {
    "duration": 13,
    "start_time": "2021-12-03T18:30:36.575Z"
   },
   {
    "duration": 7,
    "start_time": "2021-12-03T18:30:36.591Z"
   },
   {
    "duration": 7,
    "start_time": "2021-12-03T18:30:36.600Z"
   },
   {
    "duration": 64,
    "start_time": "2021-12-03T18:30:36.610Z"
   },
   {
    "duration": 177,
    "start_time": "2021-12-03T18:30:36.677Z"
   },
   {
    "duration": 75,
    "start_time": "2021-12-03T18:30:36.857Z"
   },
   {
    "duration": 52,
    "start_time": "2021-12-03T18:30:36.935Z"
   },
   {
    "duration": 36,
    "start_time": "2021-12-03T18:30:36.989Z"
   },
   {
    "duration": 54,
    "start_time": "2021-12-03T18:30:37.027Z"
   },
   {
    "duration": 87,
    "start_time": "2021-12-03T18:30:37.083Z"
   },
   {
    "duration": 14,
    "start_time": "2021-12-03T18:30:37.173Z"
   },
   {
    "duration": 36,
    "start_time": "2021-12-03T18:30:37.190Z"
   },
   {
    "duration": 45,
    "start_time": "2021-12-03T18:30:37.229Z"
   },
   {
    "duration": 28,
    "start_time": "2021-12-03T18:30:37.276Z"
   },
   {
    "duration": 85,
    "start_time": "2021-12-03T18:30:37.306Z"
   },
   {
    "duration": 9,
    "start_time": "2021-12-03T18:30:37.393Z"
   },
   {
    "duration": 22,
    "start_time": "2021-12-03T18:30:44.014Z"
   },
   {
    "duration": 4,
    "start_time": "2021-12-03T18:30:46.895Z"
   },
   {
    "duration": 1281,
    "start_time": "2021-12-03T18:30:47.650Z"
   },
   {
    "duration": 4,
    "start_time": "2021-12-03T18:31:37.662Z"
   },
   {
    "duration": 8,
    "start_time": "2021-12-03T18:31:38.648Z"
   },
   {
    "duration": 7286,
    "start_time": "2021-12-03T18:31:42.759Z"
   },
   {
    "duration": 3,
    "start_time": "2021-12-03T18:32:04.138Z"
   },
   {
    "duration": 9,
    "start_time": "2021-12-03T18:32:04.144Z"
   },
   {
    "duration": 10,
    "start_time": "2021-12-03T18:32:04.157Z"
   },
   {
    "duration": 1016,
    "start_time": "2021-12-03T18:32:04.169Z"
   },
   {
    "duration": 680,
    "start_time": "2021-12-03T18:32:05.187Z"
   },
   {
    "duration": 16,
    "start_time": "2021-12-03T18:32:05.869Z"
   },
   {
    "duration": 508,
    "start_time": "2021-12-03T18:32:05.888Z"
   },
   {
    "duration": 92,
    "start_time": "2021-12-03T18:32:06.399Z"
   },
   {
    "duration": 101,
    "start_time": "2021-12-03T18:32:06.494Z"
   },
   {
    "duration": 3,
    "start_time": "2021-12-03T18:32:06.598Z"
   },
   {
    "duration": 16,
    "start_time": "2021-12-03T18:32:06.603Z"
   },
   {
    "duration": 17,
    "start_time": "2021-12-03T18:32:06.622Z"
   },
   {
    "duration": 26,
    "start_time": "2021-12-03T18:32:06.641Z"
   },
   {
    "duration": 39,
    "start_time": "2021-12-03T18:32:06.670Z"
   },
   {
    "duration": 189,
    "start_time": "2021-12-03T18:32:06.712Z"
   },
   {
    "duration": 126,
    "start_time": "2021-12-03T18:32:06.903Z"
   },
   {
    "duration": 3,
    "start_time": "2021-12-03T18:32:07.032Z"
   },
   {
    "duration": 47,
    "start_time": "2021-12-03T18:32:07.041Z"
   },
   {
    "duration": 14,
    "start_time": "2021-12-03T18:32:07.092Z"
   },
   {
    "duration": 13,
    "start_time": "2021-12-03T18:32:07.108Z"
   },
   {
    "duration": 7,
    "start_time": "2021-12-03T18:32:07.123Z"
   },
   {
    "duration": 46,
    "start_time": "2021-12-03T18:32:07.132Z"
   },
   {
    "duration": 16,
    "start_time": "2021-12-03T18:32:07.180Z"
   },
   {
    "duration": 5,
    "start_time": "2021-12-03T18:32:07.198Z"
   },
   {
    "duration": 33,
    "start_time": "2021-12-03T18:32:07.206Z"
   },
   {
    "duration": 136,
    "start_time": "2021-12-03T18:32:07.267Z"
   },
   {
    "duration": 71,
    "start_time": "2021-12-03T18:32:07.405Z"
   },
   {
    "duration": 3,
    "start_time": "2021-12-03T18:32:07.479Z"
   },
   {
    "duration": 26,
    "start_time": "2021-12-03T18:32:07.485Z"
   },
   {
    "duration": 11,
    "start_time": "2021-12-03T18:32:07.514Z"
   },
   {
    "duration": 58,
    "start_time": "2021-12-03T18:32:07.528Z"
   },
   {
    "duration": 116,
    "start_time": "2021-12-03T18:32:07.588Z"
   },
   {
    "duration": 65,
    "start_time": "2021-12-03T18:32:07.706Z"
   },
   {
    "duration": 4,
    "start_time": "2021-12-03T18:32:07.773Z"
   },
   {
    "duration": 29,
    "start_time": "2021-12-03T18:32:07.780Z"
   },
   {
    "duration": 12,
    "start_time": "2021-12-03T18:32:07.811Z"
   },
   {
    "duration": 11,
    "start_time": "2021-12-03T18:32:07.826Z"
   },
   {
    "duration": 16,
    "start_time": "2021-12-03T18:32:07.869Z"
   },
   {
    "duration": 6,
    "start_time": "2021-12-03T18:32:07.888Z"
   },
   {
    "duration": 12,
    "start_time": "2021-12-03T18:32:07.897Z"
   },
   {
    "duration": 6,
    "start_time": "2021-12-03T18:32:07.911Z"
   },
   {
    "duration": 54,
    "start_time": "2021-12-03T18:32:07.920Z"
   },
   {
    "duration": 9,
    "start_time": "2021-12-03T18:32:07.976Z"
   },
   {
    "duration": 15,
    "start_time": "2021-12-03T18:32:07.987Z"
   },
   {
    "duration": 15,
    "start_time": "2021-12-03T18:32:08.005Z"
   },
   {
    "duration": 11,
    "start_time": "2021-12-03T18:32:08.022Z"
   },
   {
    "duration": 39,
    "start_time": "2021-12-03T18:32:08.035Z"
   },
   {
    "duration": 9,
    "start_time": "2021-12-03T18:32:08.077Z"
   },
   {
    "duration": 14,
    "start_time": "2021-12-03T18:32:08.088Z"
   },
   {
    "duration": 32,
    "start_time": "2021-12-03T18:32:08.105Z"
   },
   {
    "duration": 190,
    "start_time": "2021-12-03T18:32:08.144Z"
   },
   {
    "duration": 89,
    "start_time": "2021-12-03T18:32:08.337Z"
   },
   {
    "duration": 42,
    "start_time": "2021-12-03T18:32:08.429Z"
   },
   {
    "duration": 37,
    "start_time": "2021-12-03T18:32:08.473Z"
   },
   {
    "duration": 55,
    "start_time": "2021-12-03T18:32:08.512Z"
   },
   {
    "duration": 67,
    "start_time": "2021-12-03T18:32:08.569Z"
   },
   {
    "duration": 30,
    "start_time": "2021-12-03T18:32:08.638Z"
   },
   {
    "duration": 35,
    "start_time": "2021-12-03T18:32:08.671Z"
   },
   {
    "duration": 9,
    "start_time": "2021-12-03T18:32:08.709Z"
   },
   {
    "duration": 58,
    "start_time": "2021-12-03T18:32:08.720Z"
   },
   {
    "duration": 51,
    "start_time": "2021-12-03T18:32:08.781Z"
   },
   {
    "duration": 33,
    "start_time": "2021-12-03T18:32:08.834Z"
   },
   {
    "duration": 22,
    "start_time": "2021-12-03T18:32:08.870Z"
   },
   {
    "duration": 5,
    "start_time": "2021-12-03T18:32:08.894Z"
   },
   {
    "duration": 10,
    "start_time": "2021-12-03T18:32:08.902Z"
   },
   {
    "duration": 6555,
    "start_time": "2021-12-03T18:32:11.518Z"
   },
   {
    "duration": 4,
    "start_time": "2021-12-03T18:34:03.313Z"
   },
   {
    "duration": 7,
    "start_time": "2021-12-03T18:34:03.996Z"
   },
   {
    "duration": 6711,
    "start_time": "2021-12-03T18:34:05.692Z"
   },
   {
    "duration": 4,
    "start_time": "2021-12-03T18:34:26.522Z"
   },
   {
    "duration": 11,
    "start_time": "2021-12-03T18:34:26.528Z"
   },
   {
    "duration": 13,
    "start_time": "2021-12-03T18:34:26.542Z"
   },
   {
    "duration": 1046,
    "start_time": "2021-12-03T18:34:26.558Z"
   },
   {
    "duration": 679,
    "start_time": "2021-12-03T18:34:27.607Z"
   },
   {
    "duration": 18,
    "start_time": "2021-12-03T18:34:28.289Z"
   },
   {
    "duration": 540,
    "start_time": "2021-12-03T18:34:28.311Z"
   },
   {
    "duration": 76,
    "start_time": "2021-12-03T18:34:28.853Z"
   },
   {
    "duration": 99,
    "start_time": "2021-12-03T18:34:28.932Z"
   },
   {
    "duration": 4,
    "start_time": "2021-12-03T18:34:29.034Z"
   },
   {
    "duration": 5,
    "start_time": "2021-12-03T18:34:29.068Z"
   },
   {
    "duration": 14,
    "start_time": "2021-12-03T18:34:29.075Z"
   },
   {
    "duration": 8,
    "start_time": "2021-12-03T18:34:29.091Z"
   },
   {
    "duration": 71,
    "start_time": "2021-12-03T18:34:29.101Z"
   },
   {
    "duration": 174,
    "start_time": "2021-12-03T18:34:29.175Z"
   },
   {
    "duration": 126,
    "start_time": "2021-12-03T18:34:29.352Z"
   },
   {
    "duration": 3,
    "start_time": "2021-12-03T18:34:29.481Z"
   },
   {
    "duration": 30,
    "start_time": "2021-12-03T18:34:29.489Z"
   },
   {
    "duration": 13,
    "start_time": "2021-12-03T18:34:29.523Z"
   },
   {
    "duration": 46,
    "start_time": "2021-12-03T18:34:29.538Z"
   },
   {
    "duration": 6,
    "start_time": "2021-12-03T18:34:29.586Z"
   },
   {
    "duration": 19,
    "start_time": "2021-12-03T18:34:29.594Z"
   },
   {
    "duration": 16,
    "start_time": "2021-12-03T18:34:29.616Z"
   },
   {
    "duration": 4,
    "start_time": "2021-12-03T18:34:29.635Z"
   },
   {
    "duration": 31,
    "start_time": "2021-12-03T18:34:29.669Z"
   },
   {
    "duration": 148,
    "start_time": "2021-12-03T18:34:29.702Z"
   },
   {
    "duration": 61,
    "start_time": "2021-12-03T18:34:29.852Z"
   },
   {
    "duration": 3,
    "start_time": "2021-12-03T18:34:29.915Z"
   },
   {
    "duration": 48,
    "start_time": "2021-12-03T18:34:29.920Z"
   },
   {
    "duration": 11,
    "start_time": "2021-12-03T18:34:29.970Z"
   },
   {
    "duration": 28,
    "start_time": "2021-12-03T18:34:29.983Z"
   },
   {
    "duration": 126,
    "start_time": "2021-12-03T18:34:30.013Z"
   },
   {
    "duration": 74,
    "start_time": "2021-12-03T18:34:30.142Z"
   },
   {
    "duration": 4,
    "start_time": "2021-12-03T18:34:30.218Z"
   },
   {
    "duration": 36,
    "start_time": "2021-12-03T18:34:30.225Z"
   },
   {
    "duration": 15,
    "start_time": "2021-12-03T18:34:30.268Z"
   },
   {
    "duration": 19,
    "start_time": "2021-12-03T18:34:30.286Z"
   },
   {
    "duration": 23,
    "start_time": "2021-12-03T18:34:30.307Z"
   },
   {
    "duration": 36,
    "start_time": "2021-12-03T18:34:30.333Z"
   },
   {
    "duration": 21,
    "start_time": "2021-12-03T18:34:30.372Z"
   },
   {
    "duration": 16,
    "start_time": "2021-12-03T18:34:30.396Z"
   },
   {
    "duration": 17,
    "start_time": "2021-12-03T18:34:30.415Z"
   },
   {
    "duration": 29,
    "start_time": "2021-12-03T18:34:30.435Z"
   },
   {
    "duration": 36,
    "start_time": "2021-12-03T18:34:30.466Z"
   },
   {
    "duration": 33,
    "start_time": "2021-12-03T18:34:30.505Z"
   },
   {
    "duration": 25,
    "start_time": "2021-12-03T18:34:30.540Z"
   },
   {
    "duration": 34,
    "start_time": "2021-12-03T18:34:30.568Z"
   },
   {
    "duration": 56,
    "start_time": "2021-12-03T18:34:30.605Z"
   },
   {
    "duration": 48,
    "start_time": "2021-12-03T18:34:30.664Z"
   },
   {
    "duration": 62,
    "start_time": "2021-12-03T18:34:30.714Z"
   },
   {
    "duration": 173,
    "start_time": "2021-12-03T18:34:30.785Z"
   },
   {
    "duration": 79,
    "start_time": "2021-12-03T18:34:30.967Z"
   },
   {
    "duration": 42,
    "start_time": "2021-12-03T18:34:31.048Z"
   },
   {
    "duration": 36,
    "start_time": "2021-12-03T18:34:31.092Z"
   },
   {
    "duration": 54,
    "start_time": "2021-12-03T18:34:31.130Z"
   },
   {
    "duration": 83,
    "start_time": "2021-12-03T18:34:31.187Z"
   },
   {
    "duration": 13,
    "start_time": "2021-12-03T18:34:31.272Z"
   },
   {
    "duration": 41,
    "start_time": "2021-12-03T18:34:31.287Z"
   },
   {
    "duration": 9,
    "start_time": "2021-12-03T18:34:31.330Z"
   },
   {
    "duration": 26,
    "start_time": "2021-12-03T18:34:31.367Z"
   },
   {
    "duration": 146,
    "start_time": "2021-12-03T18:34:31.395Z"
   },
   {
    "duration": 9,
    "start_time": "2021-12-03T18:34:31.544Z"
   },
   {
    "duration": 29,
    "start_time": "2021-12-03T18:34:31.567Z"
   },
   {
    "duration": 4,
    "start_time": "2021-12-03T18:34:31.599Z"
   },
   {
    "duration": 14,
    "start_time": "2021-12-03T18:34:31.606Z"
   },
   {
    "duration": 6220,
    "start_time": "2021-12-03T18:34:34.192Z"
   },
   {
    "duration": 4,
    "start_time": "2021-12-03T18:36:03.520Z"
   },
   {
    "duration": 6,
    "start_time": "2021-12-03T18:36:04.214Z"
   },
   {
    "duration": 6343,
    "start_time": "2021-12-03T18:36:06.037Z"
   },
   {
    "duration": 1403,
    "start_time": "2021-12-03T18:36:24.537Z"
   },
   {
    "duration": 5,
    "start_time": "2021-12-03T18:36:25.943Z"
   },
   {
    "duration": 5,
    "start_time": "2021-12-03T18:36:25.951Z"
   },
   {
    "duration": 979,
    "start_time": "2021-12-03T18:36:25.968Z"
   },
   {
    "duration": 680,
    "start_time": "2021-12-03T18:36:26.949Z"
   },
   {
    "duration": 37,
    "start_time": "2021-12-03T18:36:27.632Z"
   },
   {
    "duration": 551,
    "start_time": "2021-12-03T18:36:27.672Z"
   },
   {
    "duration": 82,
    "start_time": "2021-12-03T18:36:28.226Z"
   },
   {
    "duration": 108,
    "start_time": "2021-12-03T18:36:28.312Z"
   },
   {
    "duration": 4,
    "start_time": "2021-12-03T18:36:28.423Z"
   },
   {
    "duration": 9,
    "start_time": "2021-12-03T18:36:28.430Z"
   },
   {
    "duration": 36,
    "start_time": "2021-12-03T18:36:28.441Z"
   },
   {
    "duration": 12,
    "start_time": "2021-12-03T18:36:28.479Z"
   },
   {
    "duration": 39,
    "start_time": "2021-12-03T18:36:28.493Z"
   },
   {
    "duration": 203,
    "start_time": "2021-12-03T18:36:28.535Z"
   },
   {
    "duration": 143,
    "start_time": "2021-12-03T18:36:28.740Z"
   },
   {
    "duration": 3,
    "start_time": "2021-12-03T18:36:28.885Z"
   },
   {
    "duration": 34,
    "start_time": "2021-12-03T18:36:28.890Z"
   },
   {
    "duration": 13,
    "start_time": "2021-12-03T18:36:28.926Z"
   },
   {
    "duration": 11,
    "start_time": "2021-12-03T18:36:28.967Z"
   },
   {
    "duration": 5,
    "start_time": "2021-12-03T18:36:28.980Z"
   },
   {
    "duration": 20,
    "start_time": "2021-12-03T18:36:28.988Z"
   },
   {
    "duration": 19,
    "start_time": "2021-12-03T18:36:29.011Z"
   },
   {
    "duration": 7,
    "start_time": "2021-12-03T18:36:29.032Z"
   },
   {
    "duration": 53,
    "start_time": "2021-12-03T18:36:29.041Z"
   },
   {
    "duration": 145,
    "start_time": "2021-12-03T18:36:29.097Z"
   },
   {
    "duration": 66,
    "start_time": "2021-12-03T18:36:29.248Z"
   },
   {
    "duration": 3,
    "start_time": "2021-12-03T18:36:29.318Z"
   },
   {
    "duration": 44,
    "start_time": "2021-12-03T18:36:29.323Z"
   },
   {
    "duration": 11,
    "start_time": "2021-12-03T18:36:29.369Z"
   },
   {
    "duration": 26,
    "start_time": "2021-12-03T18:36:29.383Z"
   },
   {
    "duration": 133,
    "start_time": "2021-12-03T18:36:29.412Z"
   },
   {
    "duration": 63,
    "start_time": "2021-12-03T18:36:29.548Z"
   },
   {
    "duration": 4,
    "start_time": "2021-12-03T18:36:29.614Z"
   },
   {
    "duration": 46,
    "start_time": "2021-12-03T18:36:29.621Z"
   },
   {
    "duration": 14,
    "start_time": "2021-12-03T18:36:29.670Z"
   },
   {
    "duration": 10,
    "start_time": "2021-12-03T18:36:29.687Z"
   },
   {
    "duration": 17,
    "start_time": "2021-12-03T18:36:29.700Z"
   },
   {
    "duration": 49,
    "start_time": "2021-12-03T18:36:29.720Z"
   },
   {
    "duration": 10,
    "start_time": "2021-12-03T18:36:29.771Z"
   },
   {
    "duration": 8,
    "start_time": "2021-12-03T18:36:29.784Z"
   },
   {
    "duration": 9,
    "start_time": "2021-12-03T18:36:29.795Z"
   },
   {
    "duration": 10,
    "start_time": "2021-12-03T18:36:29.807Z"
   },
   {
    "duration": 54,
    "start_time": "2021-12-03T18:36:29.819Z"
   },
   {
    "duration": 6,
    "start_time": "2021-12-03T18:36:29.877Z"
   },
   {
    "duration": 9,
    "start_time": "2021-12-03T18:36:29.886Z"
   },
   {
    "duration": 11,
    "start_time": "2021-12-03T18:36:29.898Z"
   },
   {
    "duration": 5,
    "start_time": "2021-12-03T18:36:29.912Z"
   },
   {
    "duration": 51,
    "start_time": "2021-12-03T18:36:29.920Z"
   },
   {
    "duration": 34,
    "start_time": "2021-12-03T18:36:29.974Z"
   },
   {
    "duration": 195,
    "start_time": "2021-12-03T18:36:30.010Z"
   },
   {
    "duration": 120,
    "start_time": "2021-12-03T18:36:30.208Z"
   },
   {
    "duration": 45,
    "start_time": "2021-12-03T18:36:30.331Z"
   },
   {
    "duration": 72,
    "start_time": "2021-12-03T18:36:30.378Z"
   },
   {
    "duration": 38,
    "start_time": "2021-12-03T18:36:30.452Z"
   },
   {
    "duration": 75,
    "start_time": "2021-12-03T18:36:30.493Z"
   },
   {
    "duration": 13,
    "start_time": "2021-12-03T18:36:30.570Z"
   },
   {
    "duration": 49,
    "start_time": "2021-12-03T18:36:30.585Z"
   },
   {
    "duration": 10,
    "start_time": "2021-12-03T18:36:30.637Z"
   },
   {
    "duration": 31,
    "start_time": "2021-12-03T18:36:30.668Z"
   },
   {
    "duration": 73,
    "start_time": "2021-12-03T18:36:30.701Z"
   },
   {
    "duration": 10,
    "start_time": "2021-12-03T18:36:30.776Z"
   },
   {
    "duration": 25,
    "start_time": "2021-12-03T18:36:30.789Z"
   },
   {
    "duration": 22,
    "start_time": "2021-12-03T18:36:30.817Z"
   },
   {
    "duration": 29,
    "start_time": "2021-12-03T18:36:30.843Z"
   },
   {
    "duration": 6908,
    "start_time": "2021-12-03T18:36:33.300Z"
   },
   {
    "duration": 1316,
    "start_time": "2021-12-03T18:37:24.815Z"
   },
   {
    "duration": 6,
    "start_time": "2021-12-03T18:37:26.135Z"
   },
   {
    "duration": 22,
    "start_time": "2021-12-03T18:37:26.144Z"
   },
   {
    "duration": 957,
    "start_time": "2021-12-03T18:37:26.169Z"
   },
   {
    "duration": 658,
    "start_time": "2021-12-03T18:37:27.128Z"
   },
   {
    "duration": 17,
    "start_time": "2021-12-03T18:37:27.789Z"
   },
   {
    "duration": 553,
    "start_time": "2021-12-03T18:37:27.808Z"
   },
   {
    "duration": 77,
    "start_time": "2021-12-03T18:37:28.368Z"
   },
   {
    "duration": 101,
    "start_time": "2021-12-03T18:37:28.469Z"
   },
   {
    "duration": 4,
    "start_time": "2021-12-03T18:37:28.573Z"
   },
   {
    "duration": 17,
    "start_time": "2021-12-03T18:37:28.579Z"
   },
   {
    "duration": 16,
    "start_time": "2021-12-03T18:37:28.599Z"
   },
   {
    "duration": 7,
    "start_time": "2021-12-03T18:37:28.617Z"
   },
   {
    "duration": 66,
    "start_time": "2021-12-03T18:37:28.627Z"
   },
   {
    "duration": 185,
    "start_time": "2021-12-03T18:37:28.695Z"
   },
   {
    "duration": 134,
    "start_time": "2021-12-03T18:37:28.883Z"
   },
   {
    "duration": 3,
    "start_time": "2021-12-03T18:37:29.020Z"
   },
   {
    "duration": 50,
    "start_time": "2021-12-03T18:37:29.025Z"
   },
   {
    "duration": 13,
    "start_time": "2021-12-03T18:37:29.077Z"
   },
   {
    "duration": 16,
    "start_time": "2021-12-03T18:37:29.092Z"
   },
   {
    "duration": 4,
    "start_time": "2021-12-03T18:37:29.111Z"
   },
   {
    "duration": 14,
    "start_time": "2021-12-03T18:37:29.118Z"
   },
   {
    "duration": 41,
    "start_time": "2021-12-03T18:37:29.139Z"
   },
   {
    "duration": 8,
    "start_time": "2021-12-03T18:37:29.184Z"
   },
   {
    "duration": 37,
    "start_time": "2021-12-03T18:37:29.194Z"
   },
   {
    "duration": 149,
    "start_time": "2021-12-03T18:37:29.233Z"
   },
   {
    "duration": 54,
    "start_time": "2021-12-03T18:37:29.385Z"
   },
   {
    "duration": 3,
    "start_time": "2021-12-03T18:37:29.442Z"
   },
   {
    "duration": 22,
    "start_time": "2021-12-03T18:37:29.467Z"
   },
   {
    "duration": 10,
    "start_time": "2021-12-03T18:37:29.492Z"
   },
   {
    "duration": 26,
    "start_time": "2021-12-03T18:37:29.504Z"
   },
   {
    "duration": 146,
    "start_time": "2021-12-03T18:37:29.532Z"
   },
   {
    "duration": 53,
    "start_time": "2021-12-03T18:37:29.681Z"
   },
   {
    "duration": 3,
    "start_time": "2021-12-03T18:37:29.737Z"
   },
   {
    "duration": 42,
    "start_time": "2021-12-03T18:37:29.743Z"
   },
   {
    "duration": 13,
    "start_time": "2021-12-03T18:37:29.787Z"
   },
   {
    "duration": 9,
    "start_time": "2021-12-03T18:37:29.803Z"
   },
   {
    "duration": 53,
    "start_time": "2021-12-03T18:37:29.814Z"
   },
   {
    "duration": 5,
    "start_time": "2021-12-03T18:37:29.869Z"
   },
   {
    "duration": 13,
    "start_time": "2021-12-03T18:37:29.877Z"
   },
   {
    "duration": 7,
    "start_time": "2021-12-03T18:37:29.893Z"
   },
   {
    "duration": 9,
    "start_time": "2021-12-03T18:37:29.902Z"
   },
   {
    "duration": 7,
    "start_time": "2021-12-03T18:37:29.914Z"
   },
   {
    "duration": 47,
    "start_time": "2021-12-03T18:37:29.923Z"
   },
   {
    "duration": 10,
    "start_time": "2021-12-03T18:37:29.972Z"
   },
   {
    "duration": 10,
    "start_time": "2021-12-03T18:37:29.984Z"
   },
   {
    "duration": 10,
    "start_time": "2021-12-03T18:37:29.996Z"
   },
   {
    "duration": 11,
    "start_time": "2021-12-03T18:37:30.009Z"
   },
   {
    "duration": 13,
    "start_time": "2021-12-03T18:37:30.023Z"
   },
   {
    "duration": 37,
    "start_time": "2021-12-03T18:37:30.068Z"
   },
   {
    "duration": 205,
    "start_time": "2021-12-03T18:37:30.108Z"
   },
   {
    "duration": 111,
    "start_time": "2021-12-03T18:37:30.316Z"
   },
   {
    "duration": 47,
    "start_time": "2021-12-03T18:37:30.430Z"
   },
   {
    "duration": 40,
    "start_time": "2021-12-03T18:37:30.479Z"
   },
   {
    "duration": 61,
    "start_time": "2021-12-03T18:37:30.522Z"
   },
   {
    "duration": 92,
    "start_time": "2021-12-03T18:37:30.586Z"
   },
   {
    "duration": 14,
    "start_time": "2021-12-03T18:37:30.681Z"
   },
   {
    "duration": 56,
    "start_time": "2021-12-03T18:37:30.698Z"
   },
   {
    "duration": 20,
    "start_time": "2021-12-03T18:37:30.757Z"
   },
   {
    "duration": 35,
    "start_time": "2021-12-03T18:37:30.780Z"
   },
   {
    "duration": 77,
    "start_time": "2021-12-03T18:37:30.818Z"
   },
   {
    "duration": 10,
    "start_time": "2021-12-03T18:37:30.897Z"
   },
   {
    "duration": 35,
    "start_time": "2021-12-03T18:37:30.910Z"
   },
   {
    "duration": 26,
    "start_time": "2021-12-03T18:37:30.948Z"
   },
   {
    "duration": 20,
    "start_time": "2021-12-03T18:37:30.976Z"
   },
   {
    "duration": 6499,
    "start_time": "2021-12-03T18:37:35.818Z"
   },
   {
    "duration": 15,
    "start_time": "2021-12-03T18:41:12.298Z"
   },
   {
    "duration": 9,
    "start_time": "2021-12-03T18:41:13.663Z"
   },
   {
    "duration": 20,
    "start_time": "2021-12-03T18:41:16.157Z"
   },
   {
    "duration": 4,
    "start_time": "2021-12-03T18:41:23.613Z"
   },
   {
    "duration": 7,
    "start_time": "2021-12-03T18:41:23.624Z"
   },
   {
    "duration": 17,
    "start_time": "2021-12-03T18:41:23.634Z"
   },
   {
    "duration": 1046,
    "start_time": "2021-12-03T18:41:23.655Z"
   },
   {
    "duration": 684,
    "start_time": "2021-12-03T18:41:24.705Z"
   },
   {
    "duration": 17,
    "start_time": "2021-12-03T18:41:25.392Z"
   },
   {
    "duration": 567,
    "start_time": "2021-12-03T18:41:25.412Z"
   },
   {
    "duration": 103,
    "start_time": "2021-12-03T18:41:25.981Z"
   },
   {
    "duration": 105,
    "start_time": "2021-12-03T18:41:26.090Z"
   },
   {
    "duration": 4,
    "start_time": "2021-12-03T18:41:26.198Z"
   },
   {
    "duration": 6,
    "start_time": "2021-12-03T18:41:26.205Z"
   },
   {
    "duration": 14,
    "start_time": "2021-12-03T18:41:26.214Z"
   },
   {
    "duration": 37,
    "start_time": "2021-12-03T18:41:26.230Z"
   },
   {
    "duration": 39,
    "start_time": "2021-12-03T18:41:26.270Z"
   },
   {
    "duration": 191,
    "start_time": "2021-12-03T18:41:26.311Z"
   },
   {
    "duration": 130,
    "start_time": "2021-12-03T18:41:26.505Z"
   },
   {
    "duration": 3,
    "start_time": "2021-12-03T18:41:26.637Z"
   },
   {
    "duration": 44,
    "start_time": "2021-12-03T18:41:26.643Z"
   },
   {
    "duration": 13,
    "start_time": "2021-12-03T18:41:26.690Z"
   },
   {
    "duration": 13,
    "start_time": "2021-12-03T18:41:26.706Z"
   },
   {
    "duration": 9,
    "start_time": "2021-12-03T18:41:26.722Z"
   },
   {
    "duration": 37,
    "start_time": "2021-12-03T18:41:26.734Z"
   },
   {
    "duration": 16,
    "start_time": "2021-12-03T18:41:26.777Z"
   },
   {
    "duration": 3,
    "start_time": "2021-12-03T18:41:26.796Z"
   },
   {
    "duration": 38,
    "start_time": "2021-12-03T18:41:26.801Z"
   },
   {
    "duration": 157,
    "start_time": "2021-12-03T18:41:26.842Z"
   },
   {
    "duration": 74,
    "start_time": "2021-12-03T18:41:27.001Z"
   },
   {
    "duration": 3,
    "start_time": "2021-12-03T18:41:27.078Z"
   },
   {
    "duration": 26,
    "start_time": "2021-12-03T18:41:27.083Z"
   },
   {
    "duration": 11,
    "start_time": "2021-12-03T18:41:27.112Z"
   },
   {
    "duration": 55,
    "start_time": "2021-12-03T18:41:27.126Z"
   },
   {
    "duration": 114,
    "start_time": "2021-12-03T18:41:27.184Z"
   },
   {
    "duration": 72,
    "start_time": "2021-12-03T18:41:27.300Z"
   },
   {
    "duration": 3,
    "start_time": "2021-12-03T18:41:27.374Z"
   },
   {
    "duration": 23,
    "start_time": "2021-12-03T18:41:27.379Z"
   },
   {
    "duration": 11,
    "start_time": "2021-12-03T18:41:27.405Z"
   },
   {
    "duration": 9,
    "start_time": "2021-12-03T18:41:27.419Z"
   },
   {
    "duration": 50,
    "start_time": "2021-12-03T18:41:27.430Z"
   },
   {
    "duration": 6,
    "start_time": "2021-12-03T18:41:27.483Z"
   },
   {
    "duration": 13,
    "start_time": "2021-12-03T18:41:27.492Z"
   },
   {
    "duration": 7,
    "start_time": "2021-12-03T18:41:27.508Z"
   },
   {
    "duration": 10,
    "start_time": "2021-12-03T18:41:27.517Z"
   },
   {
    "duration": 40,
    "start_time": "2021-12-03T18:41:27.529Z"
   },
   {
    "duration": 14,
    "start_time": "2021-12-03T18:41:27.572Z"
   },
   {
    "duration": 6,
    "start_time": "2021-12-03T18:41:27.588Z"
   },
   {
    "duration": 9,
    "start_time": "2021-12-03T18:41:27.597Z"
   },
   {
    "duration": 17,
    "start_time": "2021-12-03T18:41:27.609Z"
   },
   {
    "duration": 40,
    "start_time": "2021-12-03T18:41:27.629Z"
   },
   {
    "duration": 11,
    "start_time": "2021-12-03T18:41:27.672Z"
   },
   {
    "duration": 35,
    "start_time": "2021-12-03T18:41:27.686Z"
   },
   {
    "duration": 189,
    "start_time": "2021-12-03T18:41:27.724Z"
   },
   {
    "duration": 90,
    "start_time": "2021-12-03T18:41:27.915Z"
   },
   {
    "duration": 29,
    "start_time": "2021-12-03T18:41:28.007Z"
   },
   {
    "duration": 57,
    "start_time": "2021-12-03T18:41:28.038Z"
   },
   {
    "duration": 30,
    "start_time": "2021-12-03T18:41:28.098Z"
   },
   {
    "duration": 93,
    "start_time": "2021-12-03T18:41:28.130Z"
   },
   {
    "duration": 13,
    "start_time": "2021-12-03T18:41:28.226Z"
   },
   {
    "duration": 53,
    "start_time": "2021-12-03T18:41:28.242Z"
   },
   {
    "duration": 9,
    "start_time": "2021-12-03T18:41:28.298Z"
   },
   {
    "duration": 28,
    "start_time": "2021-12-03T18:41:28.310Z"
   },
   {
    "duration": 27,
    "start_time": "2021-12-03T18:41:31.599Z"
   },
   {
    "duration": 10,
    "start_time": "2021-12-03T18:41:32.602Z"
   },
   {
    "duration": 22,
    "start_time": "2021-12-03T18:41:33.582Z"
   },
   {
    "duration": 5,
    "start_time": "2021-12-03T18:41:44.975Z"
   },
   {
    "duration": 11,
    "start_time": "2021-12-03T18:41:44.983Z"
   },
   {
    "duration": 7048,
    "start_time": "2021-12-03T18:41:46.470Z"
   },
   {
    "duration": 12,
    "start_time": "2021-12-03T18:44:23.723Z"
   },
   {
    "duration": 4,
    "start_time": "2021-12-03T18:44:28.821Z"
   },
   {
    "duration": 9,
    "start_time": "2021-12-03T18:44:28.830Z"
   },
   {
    "duration": 9,
    "start_time": "2021-12-03T18:44:28.842Z"
   },
   {
    "duration": 1019,
    "start_time": "2021-12-03T18:44:28.854Z"
   },
   {
    "duration": 776,
    "start_time": "2021-12-03T18:44:29.877Z"
   },
   {
    "duration": 26,
    "start_time": "2021-12-03T18:44:30.655Z"
   },
   {
    "duration": 567,
    "start_time": "2021-12-03T18:44:30.684Z"
   },
   {
    "duration": 75,
    "start_time": "2021-12-03T18:44:31.255Z"
   },
   {
    "duration": 105,
    "start_time": "2021-12-03T18:44:31.334Z"
   },
   {
    "duration": 5,
    "start_time": "2021-12-03T18:44:31.467Z"
   },
   {
    "duration": 10,
    "start_time": "2021-12-03T18:44:31.476Z"
   },
   {
    "duration": 26,
    "start_time": "2021-12-03T18:44:31.489Z"
   },
   {
    "duration": 9,
    "start_time": "2021-12-03T18:44:31.518Z"
   },
   {
    "duration": 72,
    "start_time": "2021-12-03T18:44:31.530Z"
   },
   {
    "duration": 288,
    "start_time": "2021-12-03T18:44:31.604Z"
   },
   {
    "duration": 132,
    "start_time": "2021-12-03T18:44:31.895Z"
   },
   {
    "duration": 3,
    "start_time": "2021-12-03T18:44:32.031Z"
   },
   {
    "duration": 52,
    "start_time": "2021-12-03T18:44:32.037Z"
   },
   {
    "duration": 15,
    "start_time": "2021-12-03T18:44:32.096Z"
   },
   {
    "duration": 14,
    "start_time": "2021-12-03T18:44:32.116Z"
   },
   {
    "duration": 33,
    "start_time": "2021-12-03T18:44:32.133Z"
   },
   {
    "duration": 11,
    "start_time": "2021-12-03T18:44:32.169Z"
   },
   {
    "duration": 21,
    "start_time": "2021-12-03T18:44:32.183Z"
   },
   {
    "duration": 9,
    "start_time": "2021-12-03T18:44:32.207Z"
   },
   {
    "duration": 61,
    "start_time": "2021-12-03T18:44:32.218Z"
   },
   {
    "duration": 138,
    "start_time": "2021-12-03T18:44:32.282Z"
   },
   {
    "duration": 79,
    "start_time": "2021-12-03T18:44:32.423Z"
   },
   {
    "duration": 3,
    "start_time": "2021-12-03T18:44:32.504Z"
   },
   {
    "duration": 31,
    "start_time": "2021-12-03T18:44:32.510Z"
   },
   {
    "duration": 23,
    "start_time": "2021-12-03T18:44:32.544Z"
   },
   {
    "duration": 26,
    "start_time": "2021-12-03T18:44:32.570Z"
   },
   {
    "duration": 134,
    "start_time": "2021-12-03T18:44:32.598Z"
   },
   {
    "duration": 67,
    "start_time": "2021-12-03T18:44:32.734Z"
   },
   {
    "duration": 3,
    "start_time": "2021-12-03T18:44:32.803Z"
   },
   {
    "duration": 24,
    "start_time": "2021-12-03T18:44:32.809Z"
   },
   {
    "duration": 32,
    "start_time": "2021-12-03T18:44:32.835Z"
   },
   {
    "duration": 8,
    "start_time": "2021-12-03T18:44:32.870Z"
   },
   {
    "duration": 18,
    "start_time": "2021-12-03T18:44:32.881Z"
   },
   {
    "duration": 5,
    "start_time": "2021-12-03T18:44:32.902Z"
   },
   {
    "duration": 11,
    "start_time": "2021-12-03T18:44:32.910Z"
   },
   {
    "duration": 43,
    "start_time": "2021-12-03T18:44:32.924Z"
   },
   {
    "duration": 11,
    "start_time": "2021-12-03T18:44:32.970Z"
   },
   {
    "duration": 9,
    "start_time": "2021-12-03T18:44:32.983Z"
   },
   {
    "duration": 19,
    "start_time": "2021-12-03T18:44:32.994Z"
   },
   {
    "duration": 5,
    "start_time": "2021-12-03T18:44:33.015Z"
   },
   {
    "duration": 8,
    "start_time": "2021-12-03T18:44:33.023Z"
   },
   {
    "duration": 40,
    "start_time": "2021-12-03T18:44:33.033Z"
   },
   {
    "duration": 8,
    "start_time": "2021-12-03T18:44:33.075Z"
   },
   {
    "duration": 6,
    "start_time": "2021-12-03T18:44:33.086Z"
   },
   {
    "duration": 38,
    "start_time": "2021-12-03T18:44:33.095Z"
   },
   {
    "duration": 211,
    "start_time": "2021-12-03T18:44:33.135Z"
   },
   {
    "duration": 84,
    "start_time": "2021-12-03T18:44:33.353Z"
   },
   {
    "duration": 56,
    "start_time": "2021-12-03T18:44:33.440Z"
   },
   {
    "duration": 35,
    "start_time": "2021-12-03T18:44:33.499Z"
   },
   {
    "duration": 51,
    "start_time": "2021-12-03T18:44:33.536Z"
   },
   {
    "duration": 91,
    "start_time": "2021-12-03T18:44:33.589Z"
   },
   {
    "duration": 12,
    "start_time": "2021-12-03T18:44:33.682Z"
   },
   {
    "duration": 41,
    "start_time": "2021-12-03T18:44:33.697Z"
   },
   {
    "duration": 31,
    "start_time": "2021-12-03T18:44:33.740Z"
   },
   {
    "duration": 27,
    "start_time": "2021-12-03T18:44:33.773Z"
   },
   {
    "duration": 30,
    "start_time": "2021-12-03T18:44:33.804Z"
   },
   {
    "duration": 37,
    "start_time": "2021-12-03T18:44:33.837Z"
   },
   {
    "duration": 34,
    "start_time": "2021-12-03T18:44:33.877Z"
   },
   {
    "duration": 10,
    "start_time": "2021-12-03T18:44:33.915Z"
   },
   {
    "duration": 23,
    "start_time": "2021-12-03T18:44:33.928Z"
   },
   {
    "duration": 12,
    "start_time": "2021-12-03T18:44:36.274Z"
   },
   {
    "duration": 256,
    "start_time": "2021-12-03T18:47:10.908Z"
   },
   {
    "duration": 12,
    "start_time": "2021-12-03T18:49:18.484Z"
   },
   {
    "duration": 12,
    "start_time": "2021-12-03T18:49:20.323Z"
   },
   {
    "duration": 22,
    "start_time": "2021-12-03T18:51:05.202Z"
   },
   {
    "duration": 10,
    "start_time": "2021-12-03T18:51:06.592Z"
   },
   {
    "duration": 20,
    "start_time": "2021-12-03T18:51:08.548Z"
   },
   {
    "duration": 5,
    "start_time": "2021-12-03T18:51:13.784Z"
   },
   {
    "duration": 7,
    "start_time": "2021-12-03T18:51:14.667Z"
   },
   {
    "duration": 6965,
    "start_time": "2021-12-03T18:51:25.467Z"
   },
   {
    "duration": 3,
    "start_time": "2021-12-03T18:51:39.449Z"
   },
   {
    "duration": 7,
    "start_time": "2021-12-03T18:51:39.455Z"
   },
   {
    "duration": 8,
    "start_time": "2021-12-03T18:51:39.465Z"
   },
   {
    "duration": 983,
    "start_time": "2021-12-03T18:51:39.476Z"
   },
   {
    "duration": 655,
    "start_time": "2021-12-03T18:51:40.461Z"
   },
   {
    "duration": 16,
    "start_time": "2021-12-03T18:51:41.118Z"
   },
   {
    "duration": 532,
    "start_time": "2021-12-03T18:51:41.138Z"
   },
   {
    "duration": 99,
    "start_time": "2021-12-03T18:51:41.673Z"
   },
   {
    "duration": 112,
    "start_time": "2021-12-03T18:51:41.774Z"
   },
   {
    "duration": 4,
    "start_time": "2021-12-03T18:51:41.889Z"
   },
   {
    "duration": 7,
    "start_time": "2021-12-03T18:51:41.896Z"
   },
   {
    "duration": 20,
    "start_time": "2021-12-03T18:51:41.906Z"
   },
   {
    "duration": 23,
    "start_time": "2021-12-03T18:51:41.928Z"
   },
   {
    "duration": 41,
    "start_time": "2021-12-03T18:51:41.968Z"
   },
   {
    "duration": 239,
    "start_time": "2021-12-03T18:51:42.012Z"
   },
   {
    "duration": 121,
    "start_time": "2021-12-03T18:51:42.254Z"
   },
   {
    "duration": 3,
    "start_time": "2021-12-03T18:51:42.378Z"
   },
   {
    "duration": 30,
    "start_time": "2021-12-03T18:51:42.387Z"
   },
   {
    "duration": 14,
    "start_time": "2021-12-03T18:51:42.420Z"
   },
   {
    "duration": 13,
    "start_time": "2021-12-03T18:51:42.468Z"
   },
   {
    "duration": 11,
    "start_time": "2021-12-03T18:51:42.483Z"
   },
   {
    "duration": 29,
    "start_time": "2021-12-03T18:51:42.496Z"
   },
   {
    "duration": 19,
    "start_time": "2021-12-03T18:51:42.528Z"
   },
   {
    "duration": 19,
    "start_time": "2021-12-03T18:51:42.550Z"
   },
   {
    "duration": 43,
    "start_time": "2021-12-03T18:51:42.572Z"
   },
   {
    "duration": 133,
    "start_time": "2021-12-03T18:51:42.617Z"
   },
   {
    "duration": 63,
    "start_time": "2021-12-03T18:51:42.753Z"
   },
   {
    "duration": 3,
    "start_time": "2021-12-03T18:51:42.819Z"
   },
   {
    "duration": 48,
    "start_time": "2021-12-03T18:51:42.824Z"
   },
   {
    "duration": 11,
    "start_time": "2021-12-03T18:51:42.875Z"
   },
   {
    "duration": 37,
    "start_time": "2021-12-03T18:51:42.889Z"
   },
   {
    "duration": 128,
    "start_time": "2021-12-03T18:51:42.929Z"
   },
   {
    "duration": 61,
    "start_time": "2021-12-03T18:51:43.068Z"
   },
   {
    "duration": 3,
    "start_time": "2021-12-03T18:51:43.132Z"
   },
   {
    "duration": 45,
    "start_time": "2021-12-03T18:51:43.137Z"
   },
   {
    "duration": 12,
    "start_time": "2021-12-03T18:51:43.185Z"
   },
   {
    "duration": 26,
    "start_time": "2021-12-03T18:51:43.199Z"
   },
   {
    "duration": 27,
    "start_time": "2021-12-03T18:51:43.231Z"
   },
   {
    "duration": 6,
    "start_time": "2021-12-03T18:51:43.267Z"
   },
   {
    "duration": 30,
    "start_time": "2021-12-03T18:51:43.276Z"
   },
   {
    "duration": 21,
    "start_time": "2021-12-03T18:51:43.309Z"
   },
   {
    "duration": 36,
    "start_time": "2021-12-03T18:51:43.333Z"
   },
   {
    "duration": 15,
    "start_time": "2021-12-03T18:51:43.372Z"
   },
   {
    "duration": 17,
    "start_time": "2021-12-03T18:51:43.390Z"
   },
   {
    "duration": 58,
    "start_time": "2021-12-03T18:51:43.410Z"
   },
   {
    "duration": 6,
    "start_time": "2021-12-03T18:51:43.470Z"
   },
   {
    "duration": 26,
    "start_time": "2021-12-03T18:51:43.478Z"
   },
   {
    "duration": 35,
    "start_time": "2021-12-03T18:51:43.506Z"
   },
   {
    "duration": 11,
    "start_time": "2021-12-03T18:51:43.544Z"
   },
   {
    "duration": 49,
    "start_time": "2021-12-03T18:51:43.557Z"
   },
   {
    "duration": 178,
    "start_time": "2021-12-03T18:51:43.612Z"
   },
   {
    "duration": 76,
    "start_time": "2021-12-03T18:51:43.793Z"
   },
   {
    "duration": 29,
    "start_time": "2021-12-03T18:51:43.871Z"
   },
   {
    "duration": 37,
    "start_time": "2021-12-03T18:51:43.903Z"
   },
   {
    "duration": 36,
    "start_time": "2021-12-03T18:51:43.943Z"
   },
   {
    "duration": 86,
    "start_time": "2021-12-03T18:51:43.981Z"
   },
   {
    "duration": 13,
    "start_time": "2021-12-03T18:51:44.070Z"
   },
   {
    "duration": 47,
    "start_time": "2021-12-03T18:51:44.085Z"
   },
   {
    "duration": 10,
    "start_time": "2021-12-03T18:51:44.135Z"
   },
   {
    "duration": 37,
    "start_time": "2021-12-03T18:51:44.147Z"
   },
   {
    "duration": 42,
    "start_time": "2021-12-03T18:51:44.187Z"
   },
   {
    "duration": 27,
    "start_time": "2021-12-03T18:51:44.232Z"
   },
   {
    "duration": 9,
    "start_time": "2021-12-03T18:51:44.262Z"
   },
   {
    "duration": 33,
    "start_time": "2021-12-03T18:51:44.273Z"
   },
   {
    "duration": 16,
    "start_time": "2021-12-03T18:51:44.309Z"
   },
   {
    "duration": 17,
    "start_time": "2021-12-03T18:51:44.327Z"
   },
   {
    "duration": 6247,
    "start_time": "2021-12-03T18:51:50.102Z"
   },
   {
    "duration": 20,
    "start_time": "2021-12-03T18:52:44.826Z"
   },
   {
    "duration": 27,
    "start_time": "2021-12-03T18:53:00.342Z"
   },
   {
    "duration": 6536,
    "start_time": "2021-12-03T18:55:28.850Z"
   },
   {
    "duration": 7,
    "start_time": "2021-12-03T18:57:40.009Z"
   },
   {
    "duration": 8173,
    "start_time": "2021-12-03T18:57:45.571Z"
   },
   {
    "duration": 4,
    "start_time": "2021-12-03T18:57:55.469Z"
   },
   {
    "duration": 8,
    "start_time": "2021-12-03T18:57:55.476Z"
   },
   {
    "duration": 6,
    "start_time": "2021-12-03T18:57:55.487Z"
   },
   {
    "duration": 1029,
    "start_time": "2021-12-03T18:57:55.496Z"
   },
   {
    "duration": 655,
    "start_time": "2021-12-03T18:57:56.528Z"
   },
   {
    "duration": 17,
    "start_time": "2021-12-03T18:57:57.186Z"
   },
   {
    "duration": 537,
    "start_time": "2021-12-03T18:57:57.207Z"
   },
   {
    "duration": 77,
    "start_time": "2021-12-03T18:57:57.747Z"
   },
   {
    "duration": 124,
    "start_time": "2021-12-03T18:57:57.827Z"
   },
   {
    "duration": 4,
    "start_time": "2021-12-03T18:57:57.968Z"
   },
   {
    "duration": 7,
    "start_time": "2021-12-03T18:57:57.974Z"
   },
   {
    "duration": 16,
    "start_time": "2021-12-03T18:57:57.983Z"
   },
   {
    "duration": 7,
    "start_time": "2021-12-03T18:57:58.002Z"
   },
   {
    "duration": 77,
    "start_time": "2021-12-03T18:57:58.012Z"
   },
   {
    "duration": 182,
    "start_time": "2021-12-03T18:57:58.091Z"
   },
   {
    "duration": 133,
    "start_time": "2021-12-03T18:57:58.275Z"
   },
   {
    "duration": 3,
    "start_time": "2021-12-03T18:57:58.413Z"
   },
   {
    "duration": 48,
    "start_time": "2021-12-03T18:57:58.419Z"
   },
   {
    "duration": 13,
    "start_time": "2021-12-03T18:57:58.470Z"
   },
   {
    "duration": 12,
    "start_time": "2021-12-03T18:57:58.486Z"
   },
   {
    "duration": 6,
    "start_time": "2021-12-03T18:57:58.501Z"
   },
   {
    "duration": 13,
    "start_time": "2021-12-03T18:57:58.509Z"
   },
   {
    "duration": 54,
    "start_time": "2021-12-03T18:57:58.524Z"
   },
   {
    "duration": 3,
    "start_time": "2021-12-03T18:57:58.580Z"
   },
   {
    "duration": 36,
    "start_time": "2021-12-03T18:57:58.586Z"
   },
   {
    "duration": 156,
    "start_time": "2021-12-03T18:57:58.624Z"
   },
   {
    "duration": 56,
    "start_time": "2021-12-03T18:57:58.783Z"
   },
   {
    "duration": 3,
    "start_time": "2021-12-03T18:57:58.842Z"
   },
   {
    "duration": 24,
    "start_time": "2021-12-03T18:57:58.868Z"
   },
   {
    "duration": 10,
    "start_time": "2021-12-03T18:57:58.894Z"
   },
   {
    "duration": 60,
    "start_time": "2021-12-03T18:57:58.907Z"
   },
   {
    "duration": 117,
    "start_time": "2021-12-03T18:57:58.970Z"
   },
   {
    "duration": 53,
    "start_time": "2021-12-03T18:57:59.090Z"
   },
   {
    "duration": 3,
    "start_time": "2021-12-03T18:57:59.146Z"
   },
   {
    "duration": 27,
    "start_time": "2021-12-03T18:57:59.168Z"
   },
   {
    "duration": 11,
    "start_time": "2021-12-03T18:57:59.198Z"
   },
   {
    "duration": 10,
    "start_time": "2021-12-03T18:57:59.212Z"
   },
   {
    "duration": 47,
    "start_time": "2021-12-03T18:57:59.224Z"
   },
   {
    "duration": 7,
    "start_time": "2021-12-03T18:57:59.273Z"
   },
   {
    "duration": 13,
    "start_time": "2021-12-03T18:57:59.282Z"
   },
   {
    "duration": 9,
    "start_time": "2021-12-03T18:57:59.297Z"
   },
   {
    "duration": 8,
    "start_time": "2021-12-03T18:57:59.309Z"
   },
   {
    "duration": 7,
    "start_time": "2021-12-03T18:57:59.320Z"
   },
   {
    "duration": 51,
    "start_time": "2021-12-03T18:57:59.330Z"
   },
   {
    "duration": 10,
    "start_time": "2021-12-03T18:57:59.383Z"
   },
   {
    "duration": 10,
    "start_time": "2021-12-03T18:57:59.396Z"
   },
   {
    "duration": 11,
    "start_time": "2021-12-03T18:57:59.413Z"
   },
   {
    "duration": 44,
    "start_time": "2021-12-03T18:57:59.427Z"
   },
   {
    "duration": 10,
    "start_time": "2021-12-03T18:57:59.473Z"
   },
   {
    "duration": 34,
    "start_time": "2021-12-03T18:57:59.485Z"
   },
   {
    "duration": 193,
    "start_time": "2021-12-03T18:57:59.521Z"
   },
   {
    "duration": 87,
    "start_time": "2021-12-03T18:57:59.717Z"
   },
   {
    "duration": 29,
    "start_time": "2021-12-03T18:57:59.807Z"
   },
   {
    "duration": 57,
    "start_time": "2021-12-03T18:57:59.839Z"
   },
   {
    "duration": 30,
    "start_time": "2021-12-03T18:57:59.898Z"
   },
   {
    "duration": 91,
    "start_time": "2021-12-03T18:57:59.930Z"
   },
   {
    "duration": 13,
    "start_time": "2021-12-03T18:58:00.023Z"
   },
   {
    "duration": 56,
    "start_time": "2021-12-03T18:58:00.039Z"
   },
   {
    "duration": 9,
    "start_time": "2021-12-03T18:58:00.098Z"
   },
   {
    "duration": 35,
    "start_time": "2021-12-03T18:58:00.110Z"
   },
   {
    "duration": 42,
    "start_time": "2021-12-03T18:58:00.148Z"
   },
   {
    "duration": 23,
    "start_time": "2021-12-03T18:58:00.193Z"
   },
   {
    "duration": 9,
    "start_time": "2021-12-03T18:58:00.219Z"
   },
   {
    "duration": 57,
    "start_time": "2021-12-03T18:58:00.231Z"
   },
   {
    "duration": 4,
    "start_time": "2021-12-03T18:58:00.291Z"
   },
   {
    "duration": 14,
    "start_time": "2021-12-03T18:58:00.298Z"
   },
   {
    "duration": 6291,
    "start_time": "2021-12-03T18:58:05.126Z"
   },
   {
    "duration": 3,
    "start_time": "2021-12-03T18:58:16.279Z"
   },
   {
    "duration": 28,
    "start_time": "2021-12-03T18:58:19.112Z"
   },
   {
    "duration": 21,
    "start_time": "2021-12-03T18:58:38.534Z"
   },
   {
    "duration": 4,
    "start_time": "2021-12-03T18:58:52.697Z"
   },
   {
    "duration": 16,
    "start_time": "2021-12-03T18:58:52.704Z"
   },
   {
    "duration": 15,
    "start_time": "2021-12-03T18:58:52.724Z"
   },
   {
    "duration": 1046,
    "start_time": "2021-12-03T18:58:52.742Z"
   },
   {
    "duration": 667,
    "start_time": "2021-12-03T18:58:53.791Z"
   },
   {
    "duration": 18,
    "start_time": "2021-12-03T18:58:54.466Z"
   },
   {
    "duration": 554,
    "start_time": "2021-12-03T18:58:54.487Z"
   },
   {
    "duration": 82,
    "start_time": "2021-12-03T18:58:55.045Z"
   },
   {
    "duration": 111,
    "start_time": "2021-12-03T18:58:55.130Z"
   },
   {
    "duration": 4,
    "start_time": "2021-12-03T18:58:55.267Z"
   },
   {
    "duration": 9,
    "start_time": "2021-12-03T18:58:55.274Z"
   },
   {
    "duration": 14,
    "start_time": "2021-12-03T18:58:55.285Z"
   },
   {
    "duration": 7,
    "start_time": "2021-12-03T18:58:55.302Z"
   },
   {
    "duration": 76,
    "start_time": "2021-12-03T18:58:55.312Z"
   },
   {
    "duration": 184,
    "start_time": "2021-12-03T18:58:55.390Z"
   },
   {
    "duration": 135,
    "start_time": "2021-12-03T18:58:55.577Z"
   },
   {
    "duration": 3,
    "start_time": "2021-12-03T18:58:55.715Z"
   },
   {
    "duration": 47,
    "start_time": "2021-12-03T18:58:55.721Z"
   },
   {
    "duration": 13,
    "start_time": "2021-12-03T18:58:55.770Z"
   },
   {
    "duration": 13,
    "start_time": "2021-12-03T18:58:55.786Z"
   },
   {
    "duration": 4,
    "start_time": "2021-12-03T18:58:55.802Z"
   },
   {
    "duration": 9,
    "start_time": "2021-12-03T18:58:55.812Z"
   },
   {
    "duration": 53,
    "start_time": "2021-12-03T18:58:55.825Z"
   },
   {
    "duration": 3,
    "start_time": "2021-12-03T18:58:55.881Z"
   },
   {
    "duration": 38,
    "start_time": "2021-12-03T18:58:55.887Z"
   },
   {
    "duration": 156,
    "start_time": "2021-12-03T18:58:55.927Z"
   },
   {
    "duration": 58,
    "start_time": "2021-12-03T18:58:56.085Z"
   },
   {
    "duration": 21,
    "start_time": "2021-12-03T18:58:56.146Z"
   },
   {
    "duration": 23,
    "start_time": "2021-12-03T18:58:56.170Z"
   },
   {
    "duration": 12,
    "start_time": "2021-12-03T18:58:56.195Z"
   },
   {
    "duration": 58,
    "start_time": "2021-12-03T18:58:56.210Z"
   },
   {
    "duration": 116,
    "start_time": "2021-12-03T18:58:56.271Z"
   },
   {
    "duration": 54,
    "start_time": "2021-12-03T18:58:56.389Z"
   },
   {
    "duration": 3,
    "start_time": "2021-12-03T18:58:56.445Z"
   },
   {
    "duration": 20,
    "start_time": "2021-12-03T18:58:56.468Z"
   },
   {
    "duration": 11,
    "start_time": "2021-12-03T18:58:56.490Z"
   },
   {
    "duration": 10,
    "start_time": "2021-12-03T18:58:56.503Z"
   },
   {
    "duration": 53,
    "start_time": "2021-12-03T18:58:56.515Z"
   },
   {
    "duration": 5,
    "start_time": "2021-12-03T18:58:56.571Z"
   },
   {
    "duration": 11,
    "start_time": "2021-12-03T18:58:56.578Z"
   },
   {
    "duration": 6,
    "start_time": "2021-12-03T18:58:56.592Z"
   },
   {
    "duration": 14,
    "start_time": "2021-12-03T18:58:56.601Z"
   },
   {
    "duration": 8,
    "start_time": "2021-12-03T18:58:56.617Z"
   },
   {
    "duration": 48,
    "start_time": "2021-12-03T18:58:56.628Z"
   },
   {
    "duration": 6,
    "start_time": "2021-12-03T18:58:56.678Z"
   },
   {
    "duration": 9,
    "start_time": "2021-12-03T18:58:56.686Z"
   },
   {
    "duration": 13,
    "start_time": "2021-12-03T18:58:56.698Z"
   },
   {
    "duration": 7,
    "start_time": "2021-12-03T18:58:56.713Z"
   },
   {
    "duration": 8,
    "start_time": "2021-12-03T18:58:56.722Z"
   },
   {
    "duration": 27,
    "start_time": "2021-12-03T18:58:56.768Z"
   },
   {
    "duration": 194,
    "start_time": "2021-12-03T18:58:56.798Z"
   },
   {
    "duration": 88,
    "start_time": "2021-12-03T18:58:56.994Z"
   },
   {
    "duration": 28,
    "start_time": "2021-12-03T18:58:57.084Z"
   },
   {
    "duration": 57,
    "start_time": "2021-12-03T18:58:57.114Z"
   },
   {
    "duration": 31,
    "start_time": "2021-12-03T18:58:57.173Z"
   },
   {
    "duration": 91,
    "start_time": "2021-12-03T18:58:57.206Z"
   },
   {
    "duration": 12,
    "start_time": "2021-12-03T18:58:57.299Z"
   },
   {
    "duration": 52,
    "start_time": "2021-12-03T18:58:57.314Z"
   },
   {
    "duration": 10,
    "start_time": "2021-12-03T18:58:57.369Z"
   },
   {
    "duration": 25,
    "start_time": "2021-12-03T18:58:57.381Z"
   },
   {
    "duration": 58,
    "start_time": "2021-12-03T18:58:57.409Z"
   },
   {
    "duration": 24,
    "start_time": "2021-12-03T18:58:57.469Z"
   },
   {
    "duration": 12,
    "start_time": "2021-12-03T18:58:57.496Z"
   },
   {
    "duration": 22,
    "start_time": "2021-12-03T18:58:57.515Z"
   },
   {
    "duration": 4,
    "start_time": "2021-12-03T18:58:57.568Z"
   },
   {
    "duration": 11,
    "start_time": "2021-12-03T18:58:57.575Z"
   },
   {
    "duration": 22,
    "start_time": "2021-12-03T18:58:57.588Z"
   },
   {
    "duration": 21,
    "start_time": "2021-12-03T18:58:59.294Z"
   },
   {
    "duration": 15,
    "start_time": "2021-12-03T18:59:02.000Z"
   },
   {
    "duration": 27,
    "start_time": "2021-12-03T18:59:02.791Z"
   },
   {
    "duration": 6,
    "start_time": "2021-12-03T18:59:07.486Z"
   },
   {
    "duration": 323,
    "start_time": "2021-12-03T18:59:10.178Z"
   },
   {
    "duration": 27,
    "start_time": "2021-12-03T18:59:13.425Z"
   },
   {
    "duration": 72,
    "start_time": "2021-12-03T19:00:10.723Z"
   },
   {
    "duration": 77,
    "start_time": "2021-12-03T19:00:15.291Z"
   },
   {
    "duration": 74,
    "start_time": "2021-12-03T19:00:23.248Z"
   },
   {
    "duration": 4,
    "start_time": "2021-12-03T19:00:28.905Z"
   },
   {
    "duration": 10,
    "start_time": "2021-12-03T19:00:28.913Z"
   },
   {
    "duration": 11,
    "start_time": "2021-12-03T19:00:28.926Z"
   },
   {
    "duration": 1034,
    "start_time": "2021-12-03T19:00:28.939Z"
   },
   {
    "duration": 701,
    "start_time": "2021-12-03T19:00:29.976Z"
   },
   {
    "duration": 18,
    "start_time": "2021-12-03T19:00:30.679Z"
   },
   {
    "duration": 549,
    "start_time": "2021-12-03T19:00:30.700Z"
   },
   {
    "duration": 75,
    "start_time": "2021-12-03T19:00:31.252Z"
   },
   {
    "duration": 111,
    "start_time": "2021-12-03T19:00:31.330Z"
   },
   {
    "duration": 4,
    "start_time": "2021-12-03T19:00:31.468Z"
   },
   {
    "duration": 12,
    "start_time": "2021-12-03T19:00:31.475Z"
   },
   {
    "duration": 18,
    "start_time": "2021-12-03T19:00:31.490Z"
   },
   {
    "duration": 21,
    "start_time": "2021-12-03T19:00:31.511Z"
   },
   {
    "duration": 51,
    "start_time": "2021-12-03T19:00:31.534Z"
   },
   {
    "duration": 185,
    "start_time": "2021-12-03T19:00:31.588Z"
   },
   {
    "duration": 136,
    "start_time": "2021-12-03T19:00:31.776Z"
   },
   {
    "duration": 3,
    "start_time": "2021-12-03T19:00:31.915Z"
   },
   {
    "duration": 49,
    "start_time": "2021-12-03T19:00:31.924Z"
   },
   {
    "duration": 14,
    "start_time": "2021-12-03T19:00:31.977Z"
   },
   {
    "duration": 16,
    "start_time": "2021-12-03T19:00:31.994Z"
   },
   {
    "duration": 6,
    "start_time": "2021-12-03T19:00:32.012Z"
   },
   {
    "duration": 14,
    "start_time": "2021-12-03T19:00:32.020Z"
   },
   {
    "duration": 45,
    "start_time": "2021-12-03T19:00:32.036Z"
   },
   {
    "duration": 6,
    "start_time": "2021-12-03T19:00:32.083Z"
   },
   {
    "duration": 40,
    "start_time": "2021-12-03T19:00:32.091Z"
   },
   {
    "duration": 145,
    "start_time": "2021-12-03T19:00:32.134Z"
   },
   {
    "duration": 61,
    "start_time": "2021-12-03T19:00:32.282Z"
   },
   {
    "duration": 24,
    "start_time": "2021-12-03T19:00:32.345Z"
   },
   {
    "duration": 27,
    "start_time": "2021-12-03T19:00:32.372Z"
   },
   {
    "duration": 11,
    "start_time": "2021-12-03T19:00:32.401Z"
   },
   {
    "duration": 52,
    "start_time": "2021-12-03T19:00:32.415Z"
   },
   {
    "duration": 117,
    "start_time": "2021-12-03T19:00:32.469Z"
   },
   {
    "duration": 55,
    "start_time": "2021-12-03T19:00:32.588Z"
   },
   {
    "duration": 22,
    "start_time": "2021-12-03T19:00:32.646Z"
   },
   {
    "duration": 33,
    "start_time": "2021-12-03T19:00:32.670Z"
   },
   {
    "duration": 13,
    "start_time": "2021-12-03T19:00:32.706Z"
   },
   {
    "duration": 11,
    "start_time": "2021-12-03T19:00:32.721Z"
   },
   {
    "duration": 45,
    "start_time": "2021-12-03T19:00:32.734Z"
   },
   {
    "duration": 5,
    "start_time": "2021-12-03T19:00:32.781Z"
   },
   {
    "duration": 13,
    "start_time": "2021-12-03T19:00:32.789Z"
   },
   {
    "duration": 11,
    "start_time": "2021-12-03T19:00:32.804Z"
   },
   {
    "duration": 15,
    "start_time": "2021-12-03T19:00:32.818Z"
   },
   {
    "duration": 35,
    "start_time": "2021-12-03T19:00:32.836Z"
   },
   {
    "duration": 21,
    "start_time": "2021-12-03T19:00:32.873Z"
   },
   {
    "duration": 17,
    "start_time": "2021-12-03T19:00:32.898Z"
   },
   {
    "duration": 16,
    "start_time": "2021-12-03T19:00:32.918Z"
   },
   {
    "duration": 21,
    "start_time": "2021-12-03T19:00:32.937Z"
   },
   {
    "duration": 11,
    "start_time": "2021-12-03T19:00:32.961Z"
   },
   {
    "duration": 15,
    "start_time": "2021-12-03T19:00:32.975Z"
   },
   {
    "duration": 41,
    "start_time": "2021-12-03T19:00:32.992Z"
   },
   {
    "duration": 185,
    "start_time": "2021-12-03T19:00:33.041Z"
   },
   {
    "duration": 96,
    "start_time": "2021-12-03T19:00:33.231Z"
   },
   {
    "duration": 43,
    "start_time": "2021-12-03T19:00:33.330Z"
   },
   {
    "duration": 40,
    "start_time": "2021-12-03T19:00:33.376Z"
   },
   {
    "duration": 67,
    "start_time": "2021-12-03T19:00:33.418Z"
   },
   {
    "duration": 91,
    "start_time": "2021-12-03T19:00:33.488Z"
   },
   {
    "duration": 14,
    "start_time": "2021-12-03T19:00:33.582Z"
   },
   {
    "duration": 70,
    "start_time": "2021-12-03T19:00:33.599Z"
   },
   {
    "duration": 10,
    "start_time": "2021-12-03T19:00:33.672Z"
   },
   {
    "duration": 28,
    "start_time": "2021-12-03T19:00:33.684Z"
   },
   {
    "duration": 59,
    "start_time": "2021-12-03T19:00:33.714Z"
   },
   {
    "duration": 24,
    "start_time": "2021-12-03T19:00:33.775Z"
   },
   {
    "duration": 9,
    "start_time": "2021-12-03T19:00:33.802Z"
   },
   {
    "duration": 52,
    "start_time": "2021-12-03T19:00:33.814Z"
   },
   {
    "duration": 5,
    "start_time": "2021-12-03T19:00:33.869Z"
   },
   {
    "duration": 11,
    "start_time": "2021-12-03T19:00:33.876Z"
   },
   {
    "duration": 22,
    "start_time": "2021-12-03T19:00:33.890Z"
   },
   {
    "duration": 18,
    "start_time": "2021-12-03T19:00:33.914Z"
   },
   {
    "duration": 26,
    "start_time": "2021-12-03T19:00:33.967Z"
   },
   {
    "duration": 7,
    "start_time": "2021-12-03T19:00:33.997Z"
   },
   {
    "duration": 363,
    "start_time": "2021-12-03T19:00:34.008Z"
   },
   {
    "duration": 29,
    "start_time": "2021-12-03T19:00:34.374Z"
   },
   {
    "duration": 94,
    "start_time": "2021-12-03T19:00:34.405Z"
   },
   {
    "duration": 87,
    "start_time": "2021-12-03T19:00:34.502Z"
   },
   {
    "duration": 93,
    "start_time": "2021-12-03T19:00:34.592Z"
   },
   {
    "duration": 8,
    "start_time": "2021-12-03T19:00:34.687Z"
   },
   {
    "duration": 9,
    "start_time": "2021-12-03T19:00:34.697Z"
   },
   {
    "duration": 14,
    "start_time": "2021-12-03T19:00:34.709Z"
   },
   {
    "duration": 8,
    "start_time": "2021-12-03T19:00:34.725Z"
   },
   {
    "duration": 36,
    "start_time": "2021-12-03T19:00:34.735Z"
   },
   {
    "duration": 609,
    "start_time": "2021-12-03T19:00:34.773Z"
   },
   {
    "duration": 349,
    "start_time": "2021-12-03T19:00:35.385Z"
   },
   {
    "duration": 371,
    "start_time": "2021-12-03T19:00:35.736Z"
   },
   {
    "duration": 502,
    "start_time": "2021-12-03T19:00:36.110Z"
   },
   {
    "duration": 338,
    "start_time": "2021-12-03T19:00:36.614Z"
   },
   {
    "duration": 341,
    "start_time": "2021-12-03T19:00:36.955Z"
   },
   {
    "duration": 517,
    "start_time": "2021-12-03T19:00:37.299Z"
   },
   {
    "duration": 363,
    "start_time": "2021-12-03T19:00:37.819Z"
   },
   {
    "duration": 343,
    "start_time": "2021-12-03T19:00:38.184Z"
   },
   {
    "duration": 6,
    "start_time": "2021-12-03T19:00:38.529Z"
   },
   {
    "duration": 32,
    "start_time": "2021-12-03T19:00:38.538Z"
   },
   {
    "duration": 11,
    "start_time": "2021-12-03T19:00:38.572Z"
   },
   {
    "duration": 17,
    "start_time": "2021-12-03T19:00:38.586Z"
   },
   {
    "duration": 14,
    "start_time": "2021-12-03T19:00:38.606Z"
   },
   {
    "duration": 50,
    "start_time": "2021-12-03T19:00:38.622Z"
   },
   {
    "duration": 1441,
    "start_time": "2021-12-03T19:16:43.180Z"
   },
   {
    "duration": 7,
    "start_time": "2021-12-03T19:16:44.624Z"
   },
   {
    "duration": 9,
    "start_time": "2021-12-03T19:16:44.634Z"
   },
   {
    "duration": 1097,
    "start_time": "2021-12-03T19:16:44.645Z"
   },
   {
    "duration": 689,
    "start_time": "2021-12-03T19:16:45.744Z"
   },
   {
    "duration": 34,
    "start_time": "2021-12-03T19:16:46.435Z"
   },
   {
    "duration": 545,
    "start_time": "2021-12-03T19:16:46.471Z"
   },
   {
    "duration": 89,
    "start_time": "2021-12-03T19:16:47.020Z"
   },
   {
    "duration": 114,
    "start_time": "2021-12-03T19:16:47.112Z"
   },
   {
    "duration": 4,
    "start_time": "2021-12-03T19:16:47.228Z"
   },
   {
    "duration": 34,
    "start_time": "2021-12-03T19:16:47.235Z"
   },
   {
    "duration": 23,
    "start_time": "2021-12-03T19:16:47.271Z"
   },
   {
    "duration": 12,
    "start_time": "2021-12-03T19:16:47.297Z"
   },
   {
    "duration": 57,
    "start_time": "2021-12-03T19:16:47.312Z"
   },
   {
    "duration": 186,
    "start_time": "2021-12-03T19:16:47.372Z"
   },
   {
    "duration": 146,
    "start_time": "2021-12-03T19:16:47.561Z"
   },
   {
    "duration": 3,
    "start_time": "2021-12-03T19:16:47.711Z"
   },
   {
    "duration": 53,
    "start_time": "2021-12-03T19:16:47.718Z"
   },
   {
    "duration": 13,
    "start_time": "2021-12-03T19:16:47.773Z"
   },
   {
    "duration": 13,
    "start_time": "2021-12-03T19:16:47.788Z"
   },
   {
    "duration": 7,
    "start_time": "2021-12-03T19:16:47.803Z"
   },
   {
    "duration": 13,
    "start_time": "2021-12-03T19:16:47.812Z"
   },
   {
    "duration": 49,
    "start_time": "2021-12-03T19:16:47.831Z"
   },
   {
    "duration": 3,
    "start_time": "2021-12-03T19:16:47.884Z"
   },
   {
    "duration": 34,
    "start_time": "2021-12-03T19:16:47.889Z"
   },
   {
    "duration": 147,
    "start_time": "2021-12-03T19:16:47.926Z"
   },
   {
    "duration": 60,
    "start_time": "2021-12-03T19:16:48.076Z"
   },
   {
    "duration": 3,
    "start_time": "2021-12-03T19:16:48.138Z"
   },
   {
    "duration": 45,
    "start_time": "2021-12-03T19:16:48.143Z"
   },
   {
    "duration": 11,
    "start_time": "2021-12-03T19:16:48.191Z"
   },
   {
    "duration": 27,
    "start_time": "2021-12-03T19:16:48.204Z"
   },
   {
    "duration": 140,
    "start_time": "2021-12-03T19:16:48.233Z"
   },
   {
    "duration": 70,
    "start_time": "2021-12-03T19:16:48.375Z"
   },
   {
    "duration": 20,
    "start_time": "2021-12-03T19:16:48.448Z"
   },
   {
    "duration": 31,
    "start_time": "2021-12-03T19:16:48.471Z"
   },
   {
    "duration": 18,
    "start_time": "2021-12-03T19:16:48.504Z"
   },
   {
    "duration": 15,
    "start_time": "2021-12-03T19:16:48.524Z"
   },
   {
    "duration": 43,
    "start_time": "2021-12-03T19:16:48.541Z"
   },
   {
    "duration": 6,
    "start_time": "2021-12-03T19:16:48.587Z"
   },
   {
    "duration": 17,
    "start_time": "2021-12-03T19:16:48.595Z"
   },
   {
    "duration": 7,
    "start_time": "2021-12-03T19:16:48.614Z"
   },
   {
    "duration": 10,
    "start_time": "2021-12-03T19:16:48.623Z"
   },
   {
    "duration": 6,
    "start_time": "2021-12-03T19:16:48.667Z"
   },
   {
    "duration": 17,
    "start_time": "2021-12-03T19:16:48.675Z"
   },
   {
    "duration": 7,
    "start_time": "2021-12-03T19:16:48.695Z"
   },
   {
    "duration": 9,
    "start_time": "2021-12-03T19:16:48.704Z"
   },
   {
    "duration": 14,
    "start_time": "2021-12-03T19:16:48.715Z"
   },
   {
    "duration": 4,
    "start_time": "2021-12-03T19:16:48.768Z"
   },
   {
    "duration": 7,
    "start_time": "2021-12-03T19:16:48.774Z"
   },
   {
    "duration": 36,
    "start_time": "2021-12-03T19:16:48.784Z"
   },
   {
    "duration": 200,
    "start_time": "2021-12-03T19:16:48.822Z"
   },
   {
    "duration": 104,
    "start_time": "2021-12-03T19:16:49.024Z"
   },
   {
    "duration": 40,
    "start_time": "2021-12-03T19:16:49.130Z"
   },
   {
    "duration": 38,
    "start_time": "2021-12-03T19:16:49.172Z"
   },
   {
    "duration": 62,
    "start_time": "2021-12-03T19:16:49.212Z"
   },
   {
    "duration": 71,
    "start_time": "2021-12-03T19:16:49.276Z"
   },
   {
    "duration": 29,
    "start_time": "2021-12-03T19:16:49.349Z"
   },
   {
    "duration": 32,
    "start_time": "2021-12-03T19:16:49.381Z"
   },
   {
    "duration": 9,
    "start_time": "2021-12-03T19:16:49.416Z"
   },
   {
    "duration": 67,
    "start_time": "2021-12-03T19:16:49.427Z"
   },
   {
    "duration": 27,
    "start_time": "2021-12-03T19:16:49.496Z"
   },
   {
    "duration": 46,
    "start_time": "2021-12-03T19:16:49.526Z"
   },
   {
    "duration": 10,
    "start_time": "2021-12-03T19:16:49.574Z"
   },
   {
    "duration": 23,
    "start_time": "2021-12-03T19:16:49.587Z"
   },
   {
    "duration": 6,
    "start_time": "2021-12-03T19:16:49.612Z"
   },
   {
    "duration": 17,
    "start_time": "2021-12-03T19:16:49.620Z"
   },
   {
    "duration": 24,
    "start_time": "2021-12-03T19:16:49.667Z"
   },
   {
    "duration": 15,
    "start_time": "2021-12-03T19:16:49.700Z"
   },
   {
    "duration": 56,
    "start_time": "2021-12-03T19:16:49.718Z"
   },
   {
    "duration": 8,
    "start_time": "2021-12-03T19:16:49.777Z"
   },
   {
    "duration": 365,
    "start_time": "2021-12-03T19:16:49.787Z"
   },
   {
    "duration": 34,
    "start_time": "2021-12-03T19:16:50.154Z"
   },
   {
    "duration": 87,
    "start_time": "2021-12-03T19:16:50.191Z"
   },
   {
    "duration": 88,
    "start_time": "2021-12-03T19:16:50.280Z"
   },
   {
    "duration": 74,
    "start_time": "2021-12-03T19:16:50.370Z"
   },
   {
    "duration": 24,
    "start_time": "2021-12-03T19:16:50.446Z"
   },
   {
    "duration": 9,
    "start_time": "2021-12-03T19:16:50.472Z"
   },
   {
    "duration": 6,
    "start_time": "2021-12-03T19:16:50.483Z"
   },
   {
    "duration": 7,
    "start_time": "2021-12-03T19:16:50.492Z"
   },
   {
    "duration": 10,
    "start_time": "2021-12-03T19:16:50.501Z"
   },
   {
    "duration": 543,
    "start_time": "2021-12-03T19:16:50.513Z"
   },
   {
    "duration": 355,
    "start_time": "2021-12-03T19:16:51.058Z"
   },
   {
    "duration": 537,
    "start_time": "2021-12-03T19:16:51.416Z"
   },
   {
    "duration": 804,
    "start_time": "2021-12-03T19:16:51.956Z"
   },
   {
    "duration": 514,
    "start_time": "2021-12-03T19:16:52.763Z"
   },
   {
    "duration": 495,
    "start_time": "2021-12-03T19:16:53.280Z"
   },
   {
    "duration": 787,
    "start_time": "2021-12-03T19:16:53.778Z"
   },
   {
    "duration": 636,
    "start_time": "2021-12-03T19:16:54.568Z"
   },
   {
    "duration": 337,
    "start_time": "2021-12-03T19:16:55.206Z"
   },
   {
    "duration": 22,
    "start_time": "2021-12-03T19:16:55.546Z"
   },
   {
    "duration": 13,
    "start_time": "2021-12-03T19:16:55.570Z"
   },
   {
    "duration": 9,
    "start_time": "2021-12-03T19:16:55.586Z"
   },
   {
    "duration": 16,
    "start_time": "2021-12-03T19:16:55.598Z"
   },
   {
    "duration": 51,
    "start_time": "2021-12-03T19:16:55.616Z"
   },
   {
    "duration": 15,
    "start_time": "2021-12-03T19:16:55.670Z"
   }
  ],
  "kernelspec": {
   "display_name": "Python 3",
   "language": "python",
   "name": "python3"
  },
  "language_info": {
   "codemirror_mode": {
    "name": "ipython",
    "version": 3
   },
   "file_extension": ".py",
   "mimetype": "text/x-python",
   "name": "python",
   "nbconvert_exporter": "python",
   "pygments_lexer": "ipython3",
   "version": "3.7.8"
  },
  "toc": {
   "base_numbering": 1,
   "nav_menu": {},
   "number_sections": true,
   "sideBar": true,
   "skip_h1_title": true,
   "title_cell": "Содержание",
   "title_sidebar": "Contents",
   "toc_cell": true,
   "toc_position": {
    "height": "calc(100% - 180px)",
    "left": "10px",
    "top": "150px",
    "width": "301px"
   },
   "toc_section_display": true,
   "toc_window_display": true
  }
 },
 "nbformat": 4,
 "nbformat_minor": 2
}