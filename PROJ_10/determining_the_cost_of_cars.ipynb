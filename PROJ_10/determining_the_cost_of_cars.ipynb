{
 "cells": [
  {
   "cell_type": "markdown",
   "metadata": {},
   "source": [
    "# Определение стоимости автомобилей"
   ]
  },
  {
   "cell_type": "markdown",
   "metadata": {},
   "source": [
    "Сервис по продаже автомобилей с пробегом «Не бит, не крашен» разрабатывает приложение для привлечения новых клиентов. В нём можно быстро узнать рыночную стоимость своего автомобиля. \n",
    "В распоряжении имеются исторические данные: технические характеристики, комплектации и цены автомобилей. \n",
    "\n",
    "Нужно построить модель для определения стоимости, а заказчику важны:\n",
    "- качество предсказания;\n",
    "- скорость предсказания;\n",
    "- время обучения."
   ]
  },
  {
   "cell_type": "markdown",
   "metadata": {
    "toc": true
   },
   "source": [
    "<h1>Содержание<span class=\"tocSkip\"></span></h1>\n",
    "<div class=\"toc\"><ul class=\"toc-item\"><li><ul class=\"toc-item\"><li><span><a href=\"#Подготовка-данных\" data-toc-modified-id=\"Подготовка-данных-1\"><span class=\"toc-item-num\">1&nbsp;&nbsp;</span>Подготовка данных</a></span><ul class=\"toc-item\"><li><span><a href=\"#Обработка-пропусков\" data-toc-modified-id=\"Обработка-пропусков-1.1\"><span class=\"toc-item-num\">1.1&nbsp;&nbsp;</span>Обработка пропусков</a></span><ul class=\"toc-item\"><li><span><a href=\"#VehicleType\" data-toc-modified-id=\"VehicleType-1.1.1\"><span class=\"toc-item-num\">1.1.1&nbsp;&nbsp;</span><code>VehicleType</code></a></span></li><li><span><a href=\"#Gearbox\" data-toc-modified-id=\"Gearbox-1.1.2\"><span class=\"toc-item-num\">1.1.2&nbsp;&nbsp;</span><code>Gearbox</code></a></span></li><li><span><a href=\"#Model\" data-toc-modified-id=\"Model-1.1.3\"><span class=\"toc-item-num\">1.1.3&nbsp;&nbsp;</span><code>Model</code></a></span></li><li><span><a href=\"#FuelType\" data-toc-modified-id=\"FuelType-1.1.4\"><span class=\"toc-item-num\">1.1.4&nbsp;&nbsp;</span><code>FuelType</code></a></span></li><li><span><a href=\"#NotRepaired\" data-toc-modified-id=\"NotRepaired-1.1.5\"><span class=\"toc-item-num\">1.1.5&nbsp;&nbsp;</span><code>NotRepaired</code></a></span></li></ul></li><li><span><a href=\"#Аномальные-значения-в-некоторых-колонках\" data-toc-modified-id=\"Аномальные-значения-в-некоторых-колонках-1.2\"><span class=\"toc-item-num\">1.2&nbsp;&nbsp;</span>Аномальные значения в некоторых колонках</a></span><ul class=\"toc-item\"><li><span><a href=\"#В-колонке-с-ценой\" data-toc-modified-id=\"В-колонке-с-ценой-1.2.1\"><span class=\"toc-item-num\">1.2.1&nbsp;&nbsp;</span>В колонке с ценой</a></span></li><li><span><a href=\"#В-колонке-с-датой-регистрации\" data-toc-modified-id=\"В-колонке-с-датой-регистрации-1.2.2\"><span class=\"toc-item-num\">1.2.2&nbsp;&nbsp;</span>В колонке с датой регистрации</a></span></li><li><span><a href=\"#В-колонке-с-мощностью-двигателя\" data-toc-modified-id=\"В-колонке-с-мощностью-двигателя-1.2.3\"><span class=\"toc-item-num\">1.2.3&nbsp;&nbsp;</span>В колонке с мощностью двигателя</a></span></li></ul></li></ul></li><li><span><a href=\"#Обучение-моделей\" data-toc-modified-id=\"Обучение-моделей-2\"><span class=\"toc-item-num\">2&nbsp;&nbsp;</span>Обучение моделей</a></span><ul class=\"toc-item\"><li><span><a href=\"#Кодирование-категориальных-признаков\" data-toc-modified-id=\"Кодирование-категориальных-признаков-2.1\"><span class=\"toc-item-num\">2.1&nbsp;&nbsp;</span>Кодирование категориальных признаков</a></span></li><li><span><a href=\"#Масштабирование-признаков\" data-toc-modified-id=\"Масштабирование-признаков-2.2\"><span class=\"toc-item-num\">2.2&nbsp;&nbsp;</span>Масштабирование признаков</a></span></li><li><span><a href=\"#LinearRegression\" data-toc-modified-id=\"LinearRegression-2.3\"><span class=\"toc-item-num\">2.3&nbsp;&nbsp;</span>LinearRegression</a></span></li><li><span><a href=\"#RandomForest-Regressor\" data-toc-modified-id=\"RandomForest-Regressor-2.4\"><span class=\"toc-item-num\">2.4&nbsp;&nbsp;</span>RandomForest Regressor</a></span></li><li><span><a href=\"#XGBoost\" data-toc-modified-id=\"XGBoost-2.5\"><span class=\"toc-item-num\">2.5&nbsp;&nbsp;</span>XGBoost</a></span></li><li><span><a href=\"#LightGBM\" data-toc-modified-id=\"LightGBM-2.6\"><span class=\"toc-item-num\">2.6&nbsp;&nbsp;</span>LightGBM</a></span></li></ul></li><li><span><a href=\"#Анализ-моделей\" data-toc-modified-id=\"Анализ-моделей-3\"><span class=\"toc-item-num\">3&nbsp;&nbsp;</span>Анализ моделей</a></span><ul class=\"toc-item\"><li><span><a href=\"#RandomForestRegressor\" data-toc-modified-id=\"RandomForestRegressor-3.1\"><span class=\"toc-item-num\">3.1&nbsp;&nbsp;</span>RandomForestRegressor</a></span></li><li><span><a href=\"#XGBRegressor\" data-toc-modified-id=\"XGBRegressor-3.2\"><span class=\"toc-item-num\">3.2&nbsp;&nbsp;</span>XGBRegressor</a></span></li><li><span><a href=\"#LGBMRegressor\" data-toc-modified-id=\"LGBMRegressor-3.3\"><span class=\"toc-item-num\">3.3&nbsp;&nbsp;</span>LGBMRegressor</a></span></li></ul></li><li><span><a href=\"#Общий-вывод\" data-toc-modified-id=\"Общий-вывод-4\"><span class=\"toc-item-num\">4&nbsp;&nbsp;</span>Общий вывод</a></span></li></ul></div>"
   ]
  },
  {
   "cell_type": "markdown",
   "metadata": {},
   "source": [
    "## Подготовка данных"
   ]
  },
  {
   "cell_type": "code",
   "execution_count": 2,
   "metadata": {},
   "outputs": [],
   "source": [
    "import pandas as pd\n",
    "pd.set_option(\"display.max_columns\", None)\n",
    "import matplotlib.pyplot as plt\n",
    "plt.style.use('seaborn')\n",
    "import numpy as np\n",
    "import seaborn as sns\n",
    "import warnings\n",
    "warnings.simplefilter('ignore')\n",
    "import time\n",
    "from datetime import datetime\n",
    "from tqdm.notebook import tqdm\n",
    "from sklearn.model_selection import train_test_split\n",
    "from sklearn.metrics import mean_squared_error\n",
    "\n",
    "# from catboost import CatBoostRegressor\n",
    "\n",
    "from sklearn.preprocessing import LabelEncoder\n",
    "from sklearn.preprocessing import StandardScaler\n",
    "\n",
    "# from sklearn.model_selection import KFold\n",
    "from sklearn.model_selection import GridSearchCV\n",
    "from sklearn.linear_model import LinearRegression\n",
    "from sklearn.ensemble import RandomForestRegressor\n",
    "from sklearn.tree import DecisionTreeRegressor\n",
    "from sklearn.metrics import make_scorer\n",
    "from sklearn.model_selection import cross_val_score\n",
    "\n",
    "# import lightgbm\n",
    "from lightgbm import LGBMRegressor\n",
    "# import optuna.integration.lightgbm as lgb\n",
    "\n",
    "from xgboost import XGBRegressor"
   ]
  },
  {
   "cell_type": "markdown",
   "metadata": {},
   "source": [
    "Путь к файлу:\n",
    "\n",
    "`/datasets/autos.csv`"
   ]
  },
  {
   "cell_type": "markdown",
   "metadata": {},
   "source": [
    "**Признаки**  \n",
    "`DateCrawled` — дата скачивания анкеты из базы  \n",
    "`VehicleType` — тип автомобильного кузова  \n",
    "`RegistrationYear` — год регистрации автомобиля  \n",
    "`Gearbox` — тип коробки передач  \n",
    "`Power` — мощность (л. с.)  \n",
    "`Model` — модель автомобиля  \n",
    "`Kilometer` — пробег (км)  \n",
    "`RegistrationMonth` — месяц регистрации автомобиля  \n",
    "`FuelType` — тип топлива  \n",
    "`Brand` — марка автомобиля  \n",
    "`NotRepaired` — была машина в ремонте или нет  \n",
    "`DateCreated` — дата создания анкеты  \n",
    "`NumberOfPictures` — количество фотографий автомобиля  \n",
    "`PostalCode` — почтовый индекс владельца анкеты (пользователя)  \n",
    "`LastSeen` — дата последней активности пользователя  \n",
    "\n",
    "**Целевой признак**  \n",
    "`Price` — цена (евро)  "
   ]
  },
  {
   "cell_type": "code",
   "execution_count": 3,
   "metadata": {},
   "outputs": [],
   "source": [
    "df_autos = pd.read_csv(\"/datasets/autos.csv\")"
   ]
  },
  {
   "cell_type": "markdown",
   "metadata": {},
   "source": [
    "Посмотрим на первые строки датафрейма, а дальше выведем больше информации с помощью метода .info()"
   ]
  },
  {
   "cell_type": "code",
   "execution_count": 4,
   "metadata": {},
   "outputs": [
    {
     "data": {
      "text/html": [
       "<div>\n",
       "<style scoped>\n",
       "    .dataframe tbody tr th:only-of-type {\n",
       "        vertical-align: middle;\n",
       "    }\n",
       "\n",
       "    .dataframe tbody tr th {\n",
       "        vertical-align: top;\n",
       "    }\n",
       "\n",
       "    .dataframe thead th {\n",
       "        text-align: right;\n",
       "    }\n",
       "</style>\n",
       "<table border=\"1\" class=\"dataframe\">\n",
       "  <thead>\n",
       "    <tr style=\"text-align: right;\">\n",
       "      <th></th>\n",
       "      <th>DateCrawled</th>\n",
       "      <th>Price</th>\n",
       "      <th>VehicleType</th>\n",
       "      <th>RegistrationYear</th>\n",
       "      <th>Gearbox</th>\n",
       "      <th>Power</th>\n",
       "      <th>Model</th>\n",
       "      <th>Kilometer</th>\n",
       "      <th>RegistrationMonth</th>\n",
       "      <th>FuelType</th>\n",
       "      <th>Brand</th>\n",
       "      <th>NotRepaired</th>\n",
       "      <th>DateCreated</th>\n",
       "      <th>NumberOfPictures</th>\n",
       "      <th>PostalCode</th>\n",
       "      <th>LastSeen</th>\n",
       "    </tr>\n",
       "  </thead>\n",
       "  <tbody>\n",
       "    <tr>\n",
       "      <th>0</th>\n",
       "      <td>2016-03-24 11:52:17</td>\n",
       "      <td>480</td>\n",
       "      <td>NaN</td>\n",
       "      <td>1993</td>\n",
       "      <td>manual</td>\n",
       "      <td>0</td>\n",
       "      <td>golf</td>\n",
       "      <td>150000</td>\n",
       "      <td>0</td>\n",
       "      <td>petrol</td>\n",
       "      <td>volkswagen</td>\n",
       "      <td>NaN</td>\n",
       "      <td>2016-03-24 00:00:00</td>\n",
       "      <td>0</td>\n",
       "      <td>70435</td>\n",
       "      <td>2016-04-07 03:16:57</td>\n",
       "    </tr>\n",
       "    <tr>\n",
       "      <th>1</th>\n",
       "      <td>2016-03-24 10:58:45</td>\n",
       "      <td>18300</td>\n",
       "      <td>coupe</td>\n",
       "      <td>2011</td>\n",
       "      <td>manual</td>\n",
       "      <td>190</td>\n",
       "      <td>NaN</td>\n",
       "      <td>125000</td>\n",
       "      <td>5</td>\n",
       "      <td>gasoline</td>\n",
       "      <td>audi</td>\n",
       "      <td>yes</td>\n",
       "      <td>2016-03-24 00:00:00</td>\n",
       "      <td>0</td>\n",
       "      <td>66954</td>\n",
       "      <td>2016-04-07 01:46:50</td>\n",
       "    </tr>\n",
       "    <tr>\n",
       "      <th>2</th>\n",
       "      <td>2016-03-14 12:52:21</td>\n",
       "      <td>9800</td>\n",
       "      <td>suv</td>\n",
       "      <td>2004</td>\n",
       "      <td>auto</td>\n",
       "      <td>163</td>\n",
       "      <td>grand</td>\n",
       "      <td>125000</td>\n",
       "      <td>8</td>\n",
       "      <td>gasoline</td>\n",
       "      <td>jeep</td>\n",
       "      <td>NaN</td>\n",
       "      <td>2016-03-14 00:00:00</td>\n",
       "      <td>0</td>\n",
       "      <td>90480</td>\n",
       "      <td>2016-04-05 12:47:46</td>\n",
       "    </tr>\n",
       "    <tr>\n",
       "      <th>3</th>\n",
       "      <td>2016-03-17 16:54:04</td>\n",
       "      <td>1500</td>\n",
       "      <td>small</td>\n",
       "      <td>2001</td>\n",
       "      <td>manual</td>\n",
       "      <td>75</td>\n",
       "      <td>golf</td>\n",
       "      <td>150000</td>\n",
       "      <td>6</td>\n",
       "      <td>petrol</td>\n",
       "      <td>volkswagen</td>\n",
       "      <td>no</td>\n",
       "      <td>2016-03-17 00:00:00</td>\n",
       "      <td>0</td>\n",
       "      <td>91074</td>\n",
       "      <td>2016-03-17 17:40:17</td>\n",
       "    </tr>\n",
       "    <tr>\n",
       "      <th>4</th>\n",
       "      <td>2016-03-31 17:25:20</td>\n",
       "      <td>3600</td>\n",
       "      <td>small</td>\n",
       "      <td>2008</td>\n",
       "      <td>manual</td>\n",
       "      <td>69</td>\n",
       "      <td>fabia</td>\n",
       "      <td>90000</td>\n",
       "      <td>7</td>\n",
       "      <td>gasoline</td>\n",
       "      <td>skoda</td>\n",
       "      <td>no</td>\n",
       "      <td>2016-03-31 00:00:00</td>\n",
       "      <td>0</td>\n",
       "      <td>60437</td>\n",
       "      <td>2016-04-06 10:17:21</td>\n",
       "    </tr>\n",
       "  </tbody>\n",
       "</table>\n",
       "</div>"
      ],
      "text/plain": [
       "           DateCrawled  Price VehicleType  RegistrationYear Gearbox  Power  \\\n",
       "0  2016-03-24 11:52:17    480         NaN              1993  manual      0   \n",
       "1  2016-03-24 10:58:45  18300       coupe              2011  manual    190   \n",
       "2  2016-03-14 12:52:21   9800         suv              2004    auto    163   \n",
       "3  2016-03-17 16:54:04   1500       small              2001  manual     75   \n",
       "4  2016-03-31 17:25:20   3600       small              2008  manual     69   \n",
       "\n",
       "   Model  Kilometer  RegistrationMonth  FuelType       Brand NotRepaired  \\\n",
       "0   golf     150000                  0    petrol  volkswagen         NaN   \n",
       "1    NaN     125000                  5  gasoline        audi         yes   \n",
       "2  grand     125000                  8  gasoline        jeep         NaN   \n",
       "3   golf     150000                  6    petrol  volkswagen          no   \n",
       "4  fabia      90000                  7  gasoline       skoda          no   \n",
       "\n",
       "           DateCreated  NumberOfPictures  PostalCode             LastSeen  \n",
       "0  2016-03-24 00:00:00                 0       70435  2016-04-07 03:16:57  \n",
       "1  2016-03-24 00:00:00                 0       66954  2016-04-07 01:46:50  \n",
       "2  2016-03-14 00:00:00                 0       90480  2016-04-05 12:47:46  \n",
       "3  2016-03-17 00:00:00                 0       91074  2016-03-17 17:40:17  \n",
       "4  2016-03-31 00:00:00                 0       60437  2016-04-06 10:17:21  "
      ]
     },
     "execution_count": 4,
     "metadata": {},
     "output_type": "execute_result"
    }
   ],
   "source": [
    "df_autos.head()"
   ]
  },
  {
   "cell_type": "code",
   "execution_count": 5,
   "metadata": {},
   "outputs": [
    {
     "name": "stdout",
     "output_type": "stream",
     "text": [
      "<class 'pandas.core.frame.DataFrame'>\n",
      "RangeIndex: 354369 entries, 0 to 354368\n",
      "Data columns (total 16 columns):\n",
      " #   Column             Non-Null Count   Dtype \n",
      "---  ------             --------------   ----- \n",
      " 0   DateCrawled        354369 non-null  object\n",
      " 1   Price              354369 non-null  int64 \n",
      " 2   VehicleType        316879 non-null  object\n",
      " 3   RegistrationYear   354369 non-null  int64 \n",
      " 4   Gearbox            334536 non-null  object\n",
      " 5   Power              354369 non-null  int64 \n",
      " 6   Model              334664 non-null  object\n",
      " 7   Kilometer          354369 non-null  int64 \n",
      " 8   RegistrationMonth  354369 non-null  int64 \n",
      " 9   FuelType           321474 non-null  object\n",
      " 10  Brand              354369 non-null  object\n",
      " 11  NotRepaired        283215 non-null  object\n",
      " 12  DateCreated        354369 non-null  object\n",
      " 13  NumberOfPictures   354369 non-null  int64 \n",
      " 14  PostalCode         354369 non-null  int64 \n",
      " 15  LastSeen           354369 non-null  object\n",
      "dtypes: int64(7), object(9)\n",
      "memory usage: 43.3+ MB\n"
     ]
    }
   ],
   "source": [
    "df_autos.info()"
   ]
  },
  {
   "cell_type": "markdown",
   "metadata": {},
   "source": [
    "Т.к. в данных присутствуют пропуски в колонках: `VehicleType`, `Gearbox`, `Model`, `FuelType`, `NotRepaired` их следует обработать (заполнить/удалить) прежде чем приступать к построению и обучению моделей.  \n",
    "Для начала проверим если есть явные дубликаты."
   ]
  },
  {
   "cell_type": "code",
   "execution_count": 6,
   "metadata": {
    "scrolled": true
   },
   "outputs": [
    {
     "data": {
      "text/plain": [
       "4"
      ]
     },
     "execution_count": 6,
     "metadata": {},
     "output_type": "execute_result"
    }
   ],
   "source": [
    "df_autos.duplicated().sum()"
   ]
  },
  {
   "cell_type": "markdown",
   "metadata": {},
   "source": [
    "Найдено 4 дубликата, удалим и сохраним измененния."
   ]
  },
  {
   "cell_type": "code",
   "execution_count": 7,
   "metadata": {},
   "outputs": [],
   "source": [
    "df_autos.drop_duplicates(inplace=True)"
   ]
  },
  {
   "cell_type": "markdown",
   "metadata": {},
   "source": [
    "### Обработка пропусков"
   ]
  },
  {
   "cell_type": "markdown",
   "metadata": {},
   "source": [
    "Прежде чем заполнить пропуски, удалим те колонки, которые маловероятно влияют на стоимость автомобилей.  \n",
    "К таким колонкам можно отнести: `DateCrawled`, `RegistrationMonth`, `DateCreated`, `PostalCode`, `LastSeen`, `NumberOfPictures`"
   ]
  },
  {
   "cell_type": "code",
   "execution_count": 8,
   "metadata": {},
   "outputs": [],
   "source": [
    "df_autos.drop([\n",
    "    'DateCrawled',\n",
    "    'RegistrationMonth',\n",
    "    'DateCreated',\n",
    "    'PostalCode',\n",
    "    'LastSeen',\n",
    "    'NumberOfPictures'], axis=1, inplace=True)"
   ]
  },
  {
   "cell_type": "markdown",
   "metadata": {},
   "source": [
    "Теперь можно приступить к обработке пропусков, посмотрим сколько пропусков и в каких колонках имеется."
   ]
  },
  {
   "cell_type": "code",
   "execution_count": 9,
   "metadata": {},
   "outputs": [
    {
     "data": {
      "text/plain": [
       "Price                   0\n",
       "VehicleType         37490\n",
       "RegistrationYear        0\n",
       "Gearbox             19833\n",
       "Power                   0\n",
       "Model               19705\n",
       "Kilometer               0\n",
       "FuelType            32895\n",
       "Brand                   0\n",
       "NotRepaired         71154\n",
       "dtype: int64"
      ]
     },
     "execution_count": 9,
     "metadata": {},
     "output_type": "execute_result"
    }
   ],
   "source": [
    "df_autos.isna().sum()"
   ]
  },
  {
   "cell_type": "code",
   "execution_count": 10,
   "metadata": {},
   "outputs": [
    {
     "data": {
      "text/html": [
       "<div>\n",
       "<style scoped>\n",
       "    .dataframe tbody tr th:only-of-type {\n",
       "        vertical-align: middle;\n",
       "    }\n",
       "\n",
       "    .dataframe tbody tr th {\n",
       "        vertical-align: top;\n",
       "    }\n",
       "\n",
       "    .dataframe thead th {\n",
       "        text-align: right;\n",
       "    }\n",
       "</style>\n",
       "<table border=\"1\" class=\"dataframe\">\n",
       "  <thead>\n",
       "    <tr style=\"text-align: right;\">\n",
       "      <th></th>\n",
       "      <th>Price</th>\n",
       "      <th>VehicleType</th>\n",
       "      <th>RegistrationYear</th>\n",
       "      <th>Gearbox</th>\n",
       "      <th>Power</th>\n",
       "      <th>Model</th>\n",
       "      <th>Kilometer</th>\n",
       "      <th>FuelType</th>\n",
       "      <th>Brand</th>\n",
       "      <th>NotRepaired</th>\n",
       "    </tr>\n",
       "  </thead>\n",
       "  <tbody>\n",
       "    <tr>\n",
       "      <th>0</th>\n",
       "      <td>480</td>\n",
       "      <td>NaN</td>\n",
       "      <td>1993</td>\n",
       "      <td>manual</td>\n",
       "      <td>0</td>\n",
       "      <td>golf</td>\n",
       "      <td>150000</td>\n",
       "      <td>petrol</td>\n",
       "      <td>volkswagen</td>\n",
       "      <td>NaN</td>\n",
       "    </tr>\n",
       "    <tr>\n",
       "      <th>1</th>\n",
       "      <td>18300</td>\n",
       "      <td>coupe</td>\n",
       "      <td>2011</td>\n",
       "      <td>manual</td>\n",
       "      <td>190</td>\n",
       "      <td>NaN</td>\n",
       "      <td>125000</td>\n",
       "      <td>gasoline</td>\n",
       "      <td>audi</td>\n",
       "      <td>yes</td>\n",
       "    </tr>\n",
       "    <tr>\n",
       "      <th>2</th>\n",
       "      <td>9800</td>\n",
       "      <td>suv</td>\n",
       "      <td>2004</td>\n",
       "      <td>auto</td>\n",
       "      <td>163</td>\n",
       "      <td>grand</td>\n",
       "      <td>125000</td>\n",
       "      <td>gasoline</td>\n",
       "      <td>jeep</td>\n",
       "      <td>NaN</td>\n",
       "    </tr>\n",
       "    <tr>\n",
       "      <th>3</th>\n",
       "      <td>1500</td>\n",
       "      <td>small</td>\n",
       "      <td>2001</td>\n",
       "      <td>manual</td>\n",
       "      <td>75</td>\n",
       "      <td>golf</td>\n",
       "      <td>150000</td>\n",
       "      <td>petrol</td>\n",
       "      <td>volkswagen</td>\n",
       "      <td>no</td>\n",
       "    </tr>\n",
       "    <tr>\n",
       "      <th>4</th>\n",
       "      <td>3600</td>\n",
       "      <td>small</td>\n",
       "      <td>2008</td>\n",
       "      <td>manual</td>\n",
       "      <td>69</td>\n",
       "      <td>fabia</td>\n",
       "      <td>90000</td>\n",
       "      <td>gasoline</td>\n",
       "      <td>skoda</td>\n",
       "      <td>no</td>\n",
       "    </tr>\n",
       "  </tbody>\n",
       "</table>\n",
       "</div>"
      ],
      "text/plain": [
       "   Price VehicleType  RegistrationYear Gearbox  Power  Model  Kilometer  \\\n",
       "0    480         NaN              1993  manual      0   golf     150000   \n",
       "1  18300       coupe              2011  manual    190    NaN     125000   \n",
       "2   9800         suv              2004    auto    163  grand     125000   \n",
       "3   1500       small              2001  manual     75   golf     150000   \n",
       "4   3600       small              2008  manual     69  fabia      90000   \n",
       "\n",
       "   FuelType       Brand NotRepaired  \n",
       "0    petrol  volkswagen         NaN  \n",
       "1  gasoline        audi         yes  \n",
       "2  gasoline        jeep         NaN  \n",
       "3    petrol  volkswagen          no  \n",
       "4  gasoline       skoda          no  "
      ]
     },
     "execution_count": 10,
     "metadata": {},
     "output_type": "execute_result"
    }
   ],
   "source": [
    "df_autos.head()"
   ]
  },
  {
   "cell_type": "markdown",
   "metadata": {},
   "source": [
    "#### `VehicleType`"
   ]
  },
  {
   "cell_type": "code",
   "execution_count": 11,
   "metadata": {},
   "outputs": [
    {
     "data": {
      "text/plain": [
       "sedan          91457\n",
       "small          79830\n",
       "wagon          65165\n",
       "NaN            37490\n",
       "bus            28775\n",
       "convertible    20203\n",
       "coupe          16161\n",
       "suv            11996\n",
       "other           3288\n",
       "Name: VehicleType, dtype: int64"
      ]
     },
     "execution_count": 11,
     "metadata": {},
     "output_type": "execute_result"
    }
   ],
   "source": [
    "df_autos['VehicleType'].value_counts(dropna=False)"
   ]
  },
  {
   "cell_type": "markdown",
   "metadata": {},
   "source": [
    "Среди вариантов кузова автомобилей, есть значение `other`, по этому как минимум пропуски можно заполнить этим значением."
   ]
  },
  {
   "cell_type": "markdown",
   "metadata": {},
   "source": [
    "Посмотрим, всегда ли совпадают марка и модель с типом кузова на примере `Volkswagen golf` "
   ]
  },
  {
   "cell_type": "code",
   "execution_count": 12,
   "metadata": {},
   "outputs": [
    {
     "data": {
      "text/html": [
       "<div>\n",
       "<style scoped>\n",
       "    .dataframe tbody tr th:only-of-type {\n",
       "        vertical-align: middle;\n",
       "    }\n",
       "\n",
       "    .dataframe tbody tr th {\n",
       "        vertical-align: top;\n",
       "    }\n",
       "\n",
       "    .dataframe thead th {\n",
       "        text-align: right;\n",
       "    }\n",
       "</style>\n",
       "<table border=\"1\" class=\"dataframe\">\n",
       "  <thead>\n",
       "    <tr style=\"text-align: right;\">\n",
       "      <th></th>\n",
       "      <th>Price</th>\n",
       "      <th>VehicleType</th>\n",
       "      <th>RegistrationYear</th>\n",
       "      <th>Gearbox</th>\n",
       "      <th>Power</th>\n",
       "      <th>Model</th>\n",
       "      <th>Kilometer</th>\n",
       "      <th>FuelType</th>\n",
       "      <th>Brand</th>\n",
       "      <th>NotRepaired</th>\n",
       "    </tr>\n",
       "  </thead>\n",
       "  <tbody>\n",
       "    <tr>\n",
       "      <th>0</th>\n",
       "      <td>480</td>\n",
       "      <td>NaN</td>\n",
       "      <td>1993</td>\n",
       "      <td>manual</td>\n",
       "      <td>0</td>\n",
       "      <td>golf</td>\n",
       "      <td>150000</td>\n",
       "      <td>petrol</td>\n",
       "      <td>volkswagen</td>\n",
       "      <td>NaN</td>\n",
       "    </tr>\n",
       "    <tr>\n",
       "      <th>3</th>\n",
       "      <td>1500</td>\n",
       "      <td>small</td>\n",
       "      <td>2001</td>\n",
       "      <td>manual</td>\n",
       "      <td>75</td>\n",
       "      <td>golf</td>\n",
       "      <td>150000</td>\n",
       "      <td>petrol</td>\n",
       "      <td>volkswagen</td>\n",
       "      <td>no</td>\n",
       "    </tr>\n",
       "    <tr>\n",
       "      <th>9</th>\n",
       "      <td>999</td>\n",
       "      <td>small</td>\n",
       "      <td>1998</td>\n",
       "      <td>manual</td>\n",
       "      <td>101</td>\n",
       "      <td>golf</td>\n",
       "      <td>150000</td>\n",
       "      <td>NaN</td>\n",
       "      <td>volkswagen</td>\n",
       "      <td>NaN</td>\n",
       "    </tr>\n",
       "    <tr>\n",
       "      <th>32</th>\n",
       "      <td>245</td>\n",
       "      <td>sedan</td>\n",
       "      <td>1994</td>\n",
       "      <td>NaN</td>\n",
       "      <td>0</td>\n",
       "      <td>golf</td>\n",
       "      <td>150000</td>\n",
       "      <td>petrol</td>\n",
       "      <td>volkswagen</td>\n",
       "      <td>no</td>\n",
       "    </tr>\n",
       "    <tr>\n",
       "      <th>35</th>\n",
       "      <td>350</td>\n",
       "      <td>NaN</td>\n",
       "      <td>2016</td>\n",
       "      <td>manual</td>\n",
       "      <td>75</td>\n",
       "      <td>golf</td>\n",
       "      <td>150000</td>\n",
       "      <td>petrol</td>\n",
       "      <td>volkswagen</td>\n",
       "      <td>no</td>\n",
       "    </tr>\n",
       "    <tr>\n",
       "      <th>48</th>\n",
       "      <td>7750</td>\n",
       "      <td>NaN</td>\n",
       "      <td>2017</td>\n",
       "      <td>manual</td>\n",
       "      <td>80</td>\n",
       "      <td>golf</td>\n",
       "      <td>100000</td>\n",
       "      <td>petrol</td>\n",
       "      <td>volkswagen</td>\n",
       "      <td>NaN</td>\n",
       "    </tr>\n",
       "    <tr>\n",
       "      <th>58</th>\n",
       "      <td>1000</td>\n",
       "      <td>sedan</td>\n",
       "      <td>1998</td>\n",
       "      <td>manual</td>\n",
       "      <td>101</td>\n",
       "      <td>golf</td>\n",
       "      <td>150000</td>\n",
       "      <td>petrol</td>\n",
       "      <td>volkswagen</td>\n",
       "      <td>no</td>\n",
       "    </tr>\n",
       "    <tr>\n",
       "      <th>74</th>\n",
       "      <td>6600</td>\n",
       "      <td>sedan</td>\n",
       "      <td>2006</td>\n",
       "      <td>manual</td>\n",
       "      <td>105</td>\n",
       "      <td>golf</td>\n",
       "      <td>150000</td>\n",
       "      <td>gasoline</td>\n",
       "      <td>volkswagen</td>\n",
       "      <td>no</td>\n",
       "    </tr>\n",
       "    <tr>\n",
       "      <th>77</th>\n",
       "      <td>800</td>\n",
       "      <td>NaN</td>\n",
       "      <td>2000</td>\n",
       "      <td>manual</td>\n",
       "      <td>90</td>\n",
       "      <td>golf</td>\n",
       "      <td>150000</td>\n",
       "      <td>gasoline</td>\n",
       "      <td>volkswagen</td>\n",
       "      <td>NaN</td>\n",
       "    </tr>\n",
       "    <tr>\n",
       "      <th>111</th>\n",
       "      <td>0</td>\n",
       "      <td>NaN</td>\n",
       "      <td>2017</td>\n",
       "      <td>manual</td>\n",
       "      <td>0</td>\n",
       "      <td>golf</td>\n",
       "      <td>5000</td>\n",
       "      <td>petrol</td>\n",
       "      <td>volkswagen</td>\n",
       "      <td>NaN</td>\n",
       "    </tr>\n",
       "  </tbody>\n",
       "</table>\n",
       "</div>"
      ],
      "text/plain": [
       "     Price VehicleType  RegistrationYear Gearbox  Power Model  Kilometer  \\\n",
       "0      480         NaN              1993  manual      0  golf     150000   \n",
       "3     1500       small              2001  manual     75  golf     150000   \n",
       "9      999       small              1998  manual    101  golf     150000   \n",
       "32     245       sedan              1994     NaN      0  golf     150000   \n",
       "35     350         NaN              2016  manual     75  golf     150000   \n",
       "48    7750         NaN              2017  manual     80  golf     100000   \n",
       "58    1000       sedan              1998  manual    101  golf     150000   \n",
       "74    6600       sedan              2006  manual    105  golf     150000   \n",
       "77     800         NaN              2000  manual     90  golf     150000   \n",
       "111      0         NaN              2017  manual      0  golf       5000   \n",
       "\n",
       "     FuelType       Brand NotRepaired  \n",
       "0      petrol  volkswagen         NaN  \n",
       "3      petrol  volkswagen          no  \n",
       "9         NaN  volkswagen         NaN  \n",
       "32     petrol  volkswagen          no  \n",
       "35     petrol  volkswagen          no  \n",
       "48     petrol  volkswagen         NaN  \n",
       "58     petrol  volkswagen          no  \n",
       "74   gasoline  volkswagen          no  \n",
       "77   gasoline  volkswagen         NaN  \n",
       "111    petrol  volkswagen         NaN  "
      ]
     },
     "execution_count": 12,
     "metadata": {},
     "output_type": "execute_result"
    }
   ],
   "source": [
    "df_autos.query(\"Brand == 'volkswagen' & Model == 'golf'\").head(10)"
   ]
  },
  {
   "cell_type": "markdown",
   "metadata": {},
   "source": [
    "Как видим, одна и та же марка и модель авто может иметь разный тип кузова, по этому заполним все пропуски значением `other`"
   ]
  },
  {
   "cell_type": "code",
   "execution_count": 13,
   "metadata": {},
   "outputs": [],
   "source": [
    "df_autos['VehicleType'] = df_autos['VehicleType'].fillna('other')"
   ]
  },
  {
   "cell_type": "code",
   "execution_count": 14,
   "metadata": {},
   "outputs": [
    {
     "data": {
      "text/plain": [
       "sedan          91457\n",
       "small          79830\n",
       "wagon          65165\n",
       "other          40778\n",
       "bus            28775\n",
       "convertible    20203\n",
       "coupe          16161\n",
       "suv            11996\n",
       "Name: VehicleType, dtype: int64"
      ]
     },
     "execution_count": 14,
     "metadata": {},
     "output_type": "execute_result"
    }
   ],
   "source": [
    "df_autos['VehicleType'].value_counts()"
   ]
  },
  {
   "cell_type": "markdown",
   "metadata": {},
   "source": [
    "#### `Gearbox`"
   ]
  },
  {
   "cell_type": "code",
   "execution_count": 15,
   "metadata": {},
   "outputs": [
    {
     "data": {
      "text/plain": [
       "manual    268249\n",
       "auto       66283\n",
       "NaN        19833\n",
       "Name: Gearbox, dtype: int64"
      ]
     },
     "execution_count": 15,
     "metadata": {},
     "output_type": "execute_result"
    }
   ],
   "source": [
    "df_autos['Gearbox'].value_counts(dropna=False)"
   ]
  },
  {
   "cell_type": "code",
   "execution_count": 16,
   "metadata": {},
   "outputs": [],
   "source": [
    "df_autos['Gearbox'] = df_autos['Gearbox'].fillna('unknown')"
   ]
  },
  {
   "cell_type": "markdown",
   "metadata": {},
   "source": [
    "#### `Model`"
   ]
  },
  {
   "cell_type": "code",
   "execution_count": 17,
   "metadata": {},
   "outputs": [
    {
     "data": {
      "text/plain": [
       "golf                  29232\n",
       "other                 24420\n",
       "3er                   19761\n",
       "NaN                   19705\n",
       "polo                  13066\n",
       "                      ...  \n",
       "i3                        8\n",
       "serie_3                   4\n",
       "rangerover                4\n",
       "serie_1                   2\n",
       "range_rover_evoque        2\n",
       "Name: Model, Length: 251, dtype: int64"
      ]
     },
     "execution_count": 17,
     "metadata": {},
     "output_type": "execute_result"
    }
   ],
   "source": [
    "df_autos['Model'].value_counts(dropna=False)"
   ]
  },
  {
   "cell_type": "code",
   "execution_count": 18,
   "metadata": {},
   "outputs": [],
   "source": [
    "df_autos['Model'] = df_autos['Model'].fillna('unknown')"
   ]
  },
  {
   "cell_type": "markdown",
   "metadata": {},
   "source": [
    "#### `FuelType`"
   ]
  },
  {
   "cell_type": "code",
   "execution_count": 19,
   "metadata": {},
   "outputs": [
    {
     "data": {
      "text/plain": [
       "petrol      216349\n",
       "gasoline     98719\n",
       "NaN          32895\n",
       "lpg           5310\n",
       "cng            565\n",
       "hybrid         233\n",
       "other          204\n",
       "electric        90\n",
       "Name: FuelType, dtype: int64"
      ]
     },
     "execution_count": 19,
     "metadata": {},
     "output_type": "execute_result"
    }
   ],
   "source": [
    "df_autos['FuelType'].value_counts(dropna=False)"
   ]
  },
  {
   "cell_type": "markdown",
   "metadata": {},
   "source": [
    "В этой колонке так же присутствует значение `other`, заполним им остальные пропуски."
   ]
  },
  {
   "cell_type": "code",
   "execution_count": 20,
   "metadata": {},
   "outputs": [],
   "source": [
    "df_autos['FuelType'] = df_autos['FuelType'].fillna('other')"
   ]
  },
  {
   "cell_type": "markdown",
   "metadata": {},
   "source": [
    "#### `NotRepaired`"
   ]
  },
  {
   "cell_type": "code",
   "execution_count": 21,
   "metadata": {},
   "outputs": [
    {
     "data": {
      "text/plain": [
       "no     247158\n",
       "NaN     71154\n",
       "yes     36053\n",
       "Name: NotRepaired, dtype: int64"
      ]
     },
     "execution_count": 21,
     "metadata": {},
     "output_type": "execute_result"
    }
   ],
   "source": [
    "df_autos['NotRepaired'].value_counts(dropna=False)"
   ]
  },
  {
   "cell_type": "markdown",
   "metadata": {},
   "source": [
    "Пропущенные (не указанные) значения для этой колонки можно объяснить тем, что продавец имеет ввиду отсутствие ремонта, т.е., значение `no` будет уместно."
   ]
  },
  {
   "cell_type": "code",
   "execution_count": 22,
   "metadata": {},
   "outputs": [],
   "source": [
    "df_autos['NotRepaired'] = df_autos['NotRepaired'].fillna('no')"
   ]
  },
  {
   "cell_type": "markdown",
   "metadata": {},
   "source": [
    "Проверим если остались какие либо пропуски в данных"
   ]
  },
  {
   "cell_type": "code",
   "execution_count": 23,
   "metadata": {},
   "outputs": [
    {
     "data": {
      "text/plain": [
       "Price               0\n",
       "VehicleType         0\n",
       "RegistrationYear    0\n",
       "Gearbox             0\n",
       "Power               0\n",
       "Model               0\n",
       "Kilometer           0\n",
       "FuelType            0\n",
       "Brand               0\n",
       "NotRepaired         0\n",
       "dtype: int64"
      ]
     },
     "execution_count": 23,
     "metadata": {},
     "output_type": "execute_result"
    }
   ],
   "source": [
    "df_autos.isna().sum()"
   ]
  },
  {
   "cell_type": "markdown",
   "metadata": {},
   "source": [
    "---"
   ]
  },
  {
   "cell_type": "markdown",
   "metadata": {},
   "source": [
    "### Аномальные значения в некоторых колонках"
   ]
  },
  {
   "cell_type": "markdown",
   "metadata": {},
   "source": [
    "Напишем кастомизированную функцию `whiskers_limits` для описательной статистики и подсчета максимального и минимального значения усов для диаграммы размаха. Подсчитаем количество элементов после максимального значения и вычислим процент от общего числа записей."
   ]
  },
  {
   "cell_type": "code",
   "execution_count": 24,
   "metadata": {},
   "outputs": [],
   "source": [
    "def whiskers_limits(data, series):\n",
    "    q1 = np.nanpercentile(series, 25)  # Q1\n",
    "    q2 = np.nanpercentile(series, 50)  # Q2(Median)\n",
    "    q3 = np.nanpercentile(series, 75)  # Q3\n",
    "    \n",
    "    whisker_maximum = round(q3 + ((q3 - q1) * 1.5), 2) # “maximum”: Q3 + 1.5 * IQR \n",
    "    whisker_minimum = round(q1 - ((q3 - q1) * 1.5), 2) # “minimum”: Q1 - 1.5 * IQR\n",
    "    above_whisker_maximum = data.query('@series > @whisker_maximum')[series.name].count()\n",
    "    below_whisker_minimum = data.query('@series < @whisker_minimum')[series.name].count()\n",
    "    total_amount = data[series.name].count()\n",
    "    \n",
    "    print(f\"Статистика по среднему, максимуму и минимуму, квартилям, \"\n",
    "          f\"стандартному отклонению для: {series.name} \\n---\\n\"\n",
    "          f\"mean - {round(np.mean(series), 6)}\\n\"\n",
    "          f\"std - {round(np.std(series), 6)}\\n\"\n",
    "          f\"min - {round(np.min(series), 6)}\\n\"\n",
    "          f\"max - {round(np.max(series), 6)}\\n---\\n\"\n",
    "          f\"25% (Q1) - {round(q1, 6)}\\n\"\n",
    "          f\"50% (Q2) - {round(q2, 6)}\\n\"\n",
    "          f\"75% (Q3) - {round(q3, 6)}\\n---\\n\"\n",
    "          f\"{whisker_minimum} - Минимальное значение для левого 'уса'\\n\"\n",
    "          f\"{whisker_maximum} - Максимальное значение для правого 'уса',\\n\"\n",
    "          f\"{below_whisker_minimum} (или {round(below_whisker_minimum / total_amount * 100, 2)}%) \"\n",
    "          f\"из {total_amount} - N элементов после левого 'уса'\\n\"\n",
    "          f\"{above_whisker_maximum} (или {round(above_whisker_maximum / total_amount * 100, 2)}%) \"\n",
    "          f\"из {total_amount} - N элементов после правого 'уса'\")"
   ]
  },
  {
   "cell_type": "markdown",
   "metadata": {},
   "source": [
    "#### В колонке с ценой"
   ]
  },
  {
   "cell_type": "code",
   "execution_count": 25,
   "metadata": {
    "scrolled": true
   },
   "outputs": [
    {
     "name": "stdout",
     "output_type": "stream",
     "text": [
      "Статистика по среднему, максимуму и минимуму, квартилям, стандартному отклонению для: Price \n",
      "---\n",
      "mean - 4416.67983\n",
      "std - 4514.16998\n",
      "min - 0\n",
      "max - 20000\n",
      "---\n",
      "25% (Q1) - 1050.0\n",
      "50% (Q2) - 2700.0\n",
      "75% (Q3) - 6400.0\n",
      "---\n",
      "-6975.0 - Минимальное значение для левого 'уса'\n",
      "14425.0 - Максимальное значение для правого 'уса',\n",
      "0 (или 0.0%) из 354365 - N элементов после левого 'уса'\n",
      "18979 (или 5.36%) из 354365 - N элементов после правого 'уса'\n"
     ]
    }
   ],
   "source": [
    "whiskers_limits(df_autos, df_autos['Price'])"
   ]
  },
  {
   "cell_type": "code",
   "execution_count": 26,
   "metadata": {},
   "outputs": [
    {
     "data": {
      "image/png": "[encoded data removed]",
      "text/plain": [
       "<Figure size 1440x504 with 1 Axes>"
      ]
     },
     "metadata": {},
     "output_type": "display_data"
    }
   ],
   "source": [
    "df_autos.hist('Price',\n",
    "              bins=50,\n",
    "              figsize=(20,7),\n",
    "              legend = True,\n",
    "              alpha = 0.7,\n",
    "             )\n",
    "plt.ylabel('Кол-во автомобилей', fontsize=\"x-large\")\n",
    "plt.title('Распределение по цене', fontsize=\"xx-large\")\n",
    "plt.legend(loc='upper center', bbox_to_anchor=(0.5, -0.2), ncol=4, fontsize=\"x-large\")\n",
    "plt.show()"
   ]
  },
  {
   "cell_type": "markdown",
   "metadata": {},
   "source": [
    "Некоторые авто стоят 0, а есть и очень дорогие до 20 тысяч евро. Хотя по квартилям можно заметить разброс цен от ~ 1000 до 6500, а максимальное значение правого уса ~14500. Отбросим аномальные значения и укажем диапазон от 100 до 14500 евро."
   ]
  },
  {
   "cell_type": "code",
   "execution_count": 27,
   "metadata": {},
   "outputs": [],
   "source": [
    "df_autos = df_autos.query('100 <= Price <= 14500')"
   ]
  },
  {
   "cell_type": "markdown",
   "metadata": {},
   "source": [
    "#### В колонке с датой регистрации"
   ]
  },
  {
   "cell_type": "code",
   "execution_count": 28,
   "metadata": {},
   "outputs": [
    {
     "name": "stdout",
     "output_type": "stream",
     "text": [
      "Статистика по среднему, максимуму и минимуму, квартилям, стандартному отклонению для: RegistrationYear \n",
      "---\n",
      "mean - 2003.62662\n",
      "std - 68.073367\n",
      "min - 1000\n",
      "max - 9999\n",
      "---\n",
      "25% (Q1) - 1999.0\n",
      "50% (Q2) - 2003.0\n",
      "75% (Q3) - 2007.0\n",
      "---\n",
      "1987.0 - Минимальное значение для левого 'уса'\n",
      "2019.0 - Максимальное значение для правого 'уса',\n",
      "5398 (или 1.67%) из 323231 - N элементов после левого 'уса'\n",
      "67 (или 0.02%) из 323231 - N элементов после правого 'уса'\n"
     ]
    }
   ],
   "source": [
    "whiskers_limits(df_autos, df_autos['RegistrationYear'])"
   ]
  },
  {
   "cell_type": "code",
   "execution_count": 29,
   "metadata": {},
   "outputs": [
    {
     "data": {
      "image/png": "[encoded data removed]",
      "text/plain": [
       "<Figure size 1440x504 with 1 Axes>"
      ]
     },
     "metadata": {},
     "output_type": "display_data"
    }
   ],
   "source": [
    "df_autos.hist('RegistrationYear',\n",
    "              bins = 50,\n",
    "              range = (1900, 2022),\n",
    "              figsize =(20,7),\n",
    "              legend = True,\n",
    "              alpha = 0.7,\n",
    "             )\n",
    "plt.ylabel('Кол-во автомобилей', fontsize=\"x-large\")\n",
    "plt.title('Распределение по году регистрации', fontsize=\"xx-large\")\n",
    "plt.legend(loc='upper center', bbox_to_anchor=(0.5, -0.2), ncol=4, fontsize=\"x-large\")\n",
    "plt.show()"
   ]
  },
  {
   "cell_type": "markdown",
   "metadata": {},
   "source": [
    "Первые авто появились в 1885, ограничим лимит на хотя бы от 1960 до 2021, максимального значения правого уса."
   ]
  },
  {
   "cell_type": "code",
   "execution_count": 30,
   "metadata": {},
   "outputs": [],
   "source": [
    "df_autos = df_autos.query('1960 <= RegistrationYear <= 2021')"
   ]
  },
  {
   "cell_type": "markdown",
   "metadata": {},
   "source": [
    "#### В колонке с мощностью двигателя"
   ]
  },
  {
   "cell_type": "code",
   "execution_count": 31,
   "metadata": {},
   "outputs": [
    {
     "name": "stdout",
     "output_type": "stream",
     "text": [
      "Статистика по среднему, максимуму и минимуму, квартилям, стандартному отклонению для: Power \n",
      "---\n",
      "mean - 107.691856\n",
      "std - 189.690304\n",
      "min - 0\n",
      "max - 20000\n",
      "---\n",
      "25% (Q1) - 69.0\n",
      "50% (Q2) - 102.0\n",
      "75% (Q3) - 140.0\n",
      "---\n",
      "-37.5 - Минимальное значение для левого 'уса'\n",
      "246.5 - Максимальное значение для правого 'уса',\n",
      "0 (или 0.0%) из 322917 - N элементов после левого 'уса'\n",
      "5701 (или 1.77%) из 322917 - N элементов после правого 'уса'\n"
     ]
    }
   ],
   "source": [
    "whiskers_limits(df_autos, df_autos['Power'])"
   ]
  },
  {
   "cell_type": "code",
   "execution_count": 32,
   "metadata": {},
   "outputs": [
    {
     "data": {
      "image/png": "[encoded data removed]",
      "text/plain": [
       "<Figure size 1440x504 with 1 Axes>"
      ]
     },
     "metadata": {},
     "output_type": "display_data"
    }
   ],
   "source": [
    "df_autos.hist('Power',\n",
    "              bins=50,\n",
    "              range = (0,600),\n",
    "              figsize=(20,7),\n",
    "              legend = True,\n",
    "              alpha = 0.7,\n",
    "             )\n",
    "plt.ylabel('Кол-во автомобилей', fontsize=\"x-large\")\n",
    "plt.title('Распределение по Power', fontsize=\"xx-large\")\n",
    "plt.legend(loc='upper center', bbox_to_anchor=(0.5, -0.2), ncol=4, fontsize=\"x-large\")\n",
    "plt.show()"
   ]
  },
  {
   "cell_type": "markdown",
   "metadata": {},
   "source": [
    "Удалим значения ниже 20 и выше 300"
   ]
  },
  {
   "cell_type": "code",
   "execution_count": 33,
   "metadata": {},
   "outputs": [],
   "source": [
    "df_autos = df_autos.query('20 <= Power <= 300')"
   ]
  },
  {
   "cell_type": "markdown",
   "metadata": {},
   "source": [
    "---"
   ]
  },
  {
   "cell_type": "markdown",
   "metadata": {},
   "source": [
    "С помощью метода `.info()` посмотрим на данные датафрейма после всех изменений"
   ]
  },
  {
   "cell_type": "code",
   "execution_count": 34,
   "metadata": {},
   "outputs": [
    {
     "name": "stdout",
     "output_type": "stream",
     "text": [
      "<class 'pandas.core.frame.DataFrame'>\n",
      "Int64Index: 285915 entries, 2 to 354368\n",
      "Data columns (total 10 columns):\n",
      " #   Column            Non-Null Count   Dtype \n",
      "---  ------            --------------   ----- \n",
      " 0   Price             285915 non-null  int64 \n",
      " 1   VehicleType       285915 non-null  object\n",
      " 2   RegistrationYear  285915 non-null  int64 \n",
      " 3   Gearbox           285915 non-null  object\n",
      " 4   Power             285915 non-null  int64 \n",
      " 5   Model             285915 non-null  object\n",
      " 6   Kilometer         285915 non-null  int64 \n",
      " 7   FuelType          285915 non-null  object\n",
      " 8   Brand             285915 non-null  object\n",
      " 9   NotRepaired       285915 non-null  object\n",
      "dtypes: int64(4), object(6)\n",
      "memory usage: 24.0+ MB\n"
     ]
    }
   ],
   "source": [
    "df_autos.info()"
   ]
  },
  {
   "cell_type": "markdown",
   "metadata": {},
   "source": [
    "## Обучение моделей"
   ]
  },
  {
   "cell_type": "markdown",
   "metadata": {},
   "source": [
    "Создадим дубликат датафрейма для использования с `LightGBM` моделью"
   ]
  },
  {
   "cell_type": "code",
   "execution_count": 35,
   "metadata": {},
   "outputs": [],
   "source": [
    "df_autos_4igbm = df_autos"
   ]
  },
  {
   "cell_type": "markdown",
   "metadata": {},
   "source": [
    "### Кодирование категориальных признаков  "
   ]
  },
  {
   "cell_type": "markdown",
   "metadata": {},
   "source": [
    "С использованием `LabelEncoder` закодируем колонку `Model`, остальные с обходом дамми-ловушки `One-Hot Encoding`."
   ]
  },
  {
   "cell_type": "code",
   "execution_count": 36,
   "metadata": {},
   "outputs": [
    {
     "data": {
      "text/html": [
       "<div>\n",
       "<style scoped>\n",
       "    .dataframe tbody tr th:only-of-type {\n",
       "        vertical-align: middle;\n",
       "    }\n",
       "\n",
       "    .dataframe tbody tr th {\n",
       "        vertical-align: top;\n",
       "    }\n",
       "\n",
       "    .dataframe thead th {\n",
       "        text-align: right;\n",
       "    }\n",
       "</style>\n",
       "<table border=\"1\" class=\"dataframe\">\n",
       "  <thead>\n",
       "    <tr style=\"text-align: right;\">\n",
       "      <th></th>\n",
       "      <th>Price</th>\n",
       "      <th>RegistrationYear</th>\n",
       "      <th>Power</th>\n",
       "      <th>Model</th>\n",
       "      <th>Kilometer</th>\n",
       "      <th>VehicleType_convertible</th>\n",
       "      <th>VehicleType_coupe</th>\n",
       "      <th>VehicleType_other</th>\n",
       "      <th>VehicleType_sedan</th>\n",
       "      <th>VehicleType_small</th>\n",
       "      <th>VehicleType_suv</th>\n",
       "      <th>VehicleType_wagon</th>\n",
       "      <th>Gearbox_manual</th>\n",
       "      <th>Gearbox_unknown</th>\n",
       "      <th>FuelType_electric</th>\n",
       "      <th>FuelType_gasoline</th>\n",
       "      <th>FuelType_hybrid</th>\n",
       "      <th>FuelType_lpg</th>\n",
       "      <th>FuelType_other</th>\n",
       "      <th>FuelType_petrol</th>\n",
       "      <th>Brand_audi</th>\n",
       "      <th>Brand_bmw</th>\n",
       "      <th>Brand_chevrolet</th>\n",
       "      <th>Brand_chrysler</th>\n",
       "      <th>Brand_citroen</th>\n",
       "      <th>Brand_dacia</th>\n",
       "      <th>Brand_daewoo</th>\n",
       "      <th>Brand_daihatsu</th>\n",
       "      <th>Brand_fiat</th>\n",
       "      <th>Brand_ford</th>\n",
       "      <th>Brand_honda</th>\n",
       "      <th>Brand_hyundai</th>\n",
       "      <th>Brand_jaguar</th>\n",
       "      <th>Brand_jeep</th>\n",
       "      <th>Brand_kia</th>\n",
       "      <th>Brand_lada</th>\n",
       "      <th>Brand_lancia</th>\n",
       "      <th>Brand_land_rover</th>\n",
       "      <th>Brand_mazda</th>\n",
       "      <th>Brand_mercedes_benz</th>\n",
       "      <th>Brand_mini</th>\n",
       "      <th>Brand_mitsubishi</th>\n",
       "      <th>Brand_nissan</th>\n",
       "      <th>Brand_opel</th>\n",
       "      <th>Brand_peugeot</th>\n",
       "      <th>Brand_porsche</th>\n",
       "      <th>Brand_renault</th>\n",
       "      <th>Brand_rover</th>\n",
       "      <th>Brand_saab</th>\n",
       "      <th>Brand_seat</th>\n",
       "      <th>Brand_skoda</th>\n",
       "      <th>Brand_smart</th>\n",
       "      <th>Brand_sonstige_autos</th>\n",
       "      <th>Brand_subaru</th>\n",
       "      <th>Brand_suzuki</th>\n",
       "      <th>Brand_toyota</th>\n",
       "      <th>Brand_trabant</th>\n",
       "      <th>Brand_volkswagen</th>\n",
       "      <th>Brand_volvo</th>\n",
       "      <th>NotRepaired_yes</th>\n",
       "    </tr>\n",
       "  </thead>\n",
       "  <tbody>\n",
       "    <tr>\n",
       "      <th>0</th>\n",
       "      <td>9800</td>\n",
       "      <td>2004</td>\n",
       "      <td>163</td>\n",
       "      <td>117</td>\n",
       "      <td>125000</td>\n",
       "      <td>0</td>\n",
       "      <td>0</td>\n",
       "      <td>0</td>\n",
       "      <td>0</td>\n",
       "      <td>0</td>\n",
       "      <td>1</td>\n",
       "      <td>0</td>\n",
       "      <td>0</td>\n",
       "      <td>0</td>\n",
       "      <td>0</td>\n",
       "      <td>1</td>\n",
       "      <td>0</td>\n",
       "      <td>0</td>\n",
       "      <td>0</td>\n",
       "      <td>0</td>\n",
       "      <td>0</td>\n",
       "      <td>0</td>\n",
       "      <td>0</td>\n",
       "      <td>0</td>\n",
       "      <td>0</td>\n",
       "      <td>0</td>\n",
       "      <td>0</td>\n",
       "      <td>0</td>\n",
       "      <td>0</td>\n",
       "      <td>0</td>\n",
       "      <td>0</td>\n",
       "      <td>0</td>\n",
       "      <td>0</td>\n",
       "      <td>1</td>\n",
       "      <td>0</td>\n",
       "      <td>0</td>\n",
       "      <td>0</td>\n",
       "      <td>0</td>\n",
       "      <td>0</td>\n",
       "      <td>0</td>\n",
       "      <td>0</td>\n",
       "      <td>0</td>\n",
       "      <td>0</td>\n",
       "      <td>0</td>\n",
       "      <td>0</td>\n",
       "      <td>0</td>\n",
       "      <td>0</td>\n",
       "      <td>0</td>\n",
       "      <td>0</td>\n",
       "      <td>0</td>\n",
       "      <td>0</td>\n",
       "      <td>0</td>\n",
       "      <td>0</td>\n",
       "      <td>0</td>\n",
       "      <td>0</td>\n",
       "      <td>0</td>\n",
       "      <td>0</td>\n",
       "      <td>0</td>\n",
       "      <td>0</td>\n",
       "      <td>0</td>\n",
       "    </tr>\n",
       "    <tr>\n",
       "      <th>1</th>\n",
       "      <td>1500</td>\n",
       "      <td>2001</td>\n",
       "      <td>75</td>\n",
       "      <td>116</td>\n",
       "      <td>150000</td>\n",
       "      <td>0</td>\n",
       "      <td>0</td>\n",
       "      <td>0</td>\n",
       "      <td>0</td>\n",
       "      <td>1</td>\n",
       "      <td>0</td>\n",
       "      <td>0</td>\n",
       "      <td>1</td>\n",
       "      <td>0</td>\n",
       "      <td>0</td>\n",
       "      <td>0</td>\n",
       "      <td>0</td>\n",
       "      <td>0</td>\n",
       "      <td>0</td>\n",
       "      <td>1</td>\n",
       "      <td>0</td>\n",
       "      <td>0</td>\n",
       "      <td>0</td>\n",
       "      <td>0</td>\n",
       "      <td>0</td>\n",
       "      <td>0</td>\n",
       "      <td>0</td>\n",
       "      <td>0</td>\n",
       "      <td>0</td>\n",
       "      <td>0</td>\n",
       "      <td>0</td>\n",
       "      <td>0</td>\n",
       "      <td>0</td>\n",
       "      <td>0</td>\n",
       "      <td>0</td>\n",
       "      <td>0</td>\n",
       "      <td>0</td>\n",
       "      <td>0</td>\n",
       "      <td>0</td>\n",
       "      <td>0</td>\n",
       "      <td>0</td>\n",
       "      <td>0</td>\n",
       "      <td>0</td>\n",
       "      <td>0</td>\n",
       "      <td>0</td>\n",
       "      <td>0</td>\n",
       "      <td>0</td>\n",
       "      <td>0</td>\n",
       "      <td>0</td>\n",
       "      <td>0</td>\n",
       "      <td>0</td>\n",
       "      <td>0</td>\n",
       "      <td>0</td>\n",
       "      <td>0</td>\n",
       "      <td>0</td>\n",
       "      <td>0</td>\n",
       "      <td>0</td>\n",
       "      <td>1</td>\n",
       "      <td>0</td>\n",
       "      <td>0</td>\n",
       "    </tr>\n",
       "    <tr>\n",
       "      <th>2</th>\n",
       "      <td>3600</td>\n",
       "      <td>2008</td>\n",
       "      <td>69</td>\n",
       "      <td>101</td>\n",
       "      <td>90000</td>\n",
       "      <td>0</td>\n",
       "      <td>0</td>\n",
       "      <td>0</td>\n",
       "      <td>0</td>\n",
       "      <td>1</td>\n",
       "      <td>0</td>\n",
       "      <td>0</td>\n",
       "      <td>1</td>\n",
       "      <td>0</td>\n",
       "      <td>0</td>\n",
       "      <td>1</td>\n",
       "      <td>0</td>\n",
       "      <td>0</td>\n",
       "      <td>0</td>\n",
       "      <td>0</td>\n",
       "      <td>0</td>\n",
       "      <td>0</td>\n",
       "      <td>0</td>\n",
       "      <td>0</td>\n",
       "      <td>0</td>\n",
       "      <td>0</td>\n",
       "      <td>0</td>\n",
       "      <td>0</td>\n",
       "      <td>0</td>\n",
       "      <td>0</td>\n",
       "      <td>0</td>\n",
       "      <td>0</td>\n",
       "      <td>0</td>\n",
       "      <td>0</td>\n",
       "      <td>0</td>\n",
       "      <td>0</td>\n",
       "      <td>0</td>\n",
       "      <td>0</td>\n",
       "      <td>0</td>\n",
       "      <td>0</td>\n",
       "      <td>0</td>\n",
       "      <td>0</td>\n",
       "      <td>0</td>\n",
       "      <td>0</td>\n",
       "      <td>0</td>\n",
       "      <td>0</td>\n",
       "      <td>0</td>\n",
       "      <td>0</td>\n",
       "      <td>0</td>\n",
       "      <td>0</td>\n",
       "      <td>1</td>\n",
       "      <td>0</td>\n",
       "      <td>0</td>\n",
       "      <td>0</td>\n",
       "      <td>0</td>\n",
       "      <td>0</td>\n",
       "      <td>0</td>\n",
       "      <td>0</td>\n",
       "      <td>0</td>\n",
       "      <td>0</td>\n",
       "    </tr>\n",
       "    <tr>\n",
       "      <th>3</th>\n",
       "      <td>650</td>\n",
       "      <td>1995</td>\n",
       "      <td>102</td>\n",
       "      <td>11</td>\n",
       "      <td>150000</td>\n",
       "      <td>0</td>\n",
       "      <td>0</td>\n",
       "      <td>0</td>\n",
       "      <td>1</td>\n",
       "      <td>0</td>\n",
       "      <td>0</td>\n",
       "      <td>0</td>\n",
       "      <td>1</td>\n",
       "      <td>0</td>\n",
       "      <td>0</td>\n",
       "      <td>0</td>\n",
       "      <td>0</td>\n",
       "      <td>0</td>\n",
       "      <td>0</td>\n",
       "      <td>1</td>\n",
       "      <td>0</td>\n",
       "      <td>1</td>\n",
       "      <td>0</td>\n",
       "      <td>0</td>\n",
       "      <td>0</td>\n",
       "      <td>0</td>\n",
       "      <td>0</td>\n",
       "      <td>0</td>\n",
       "      <td>0</td>\n",
       "      <td>0</td>\n",
       "      <td>0</td>\n",
       "      <td>0</td>\n",
       "      <td>0</td>\n",
       "      <td>0</td>\n",
       "      <td>0</td>\n",
       "      <td>0</td>\n",
       "      <td>0</td>\n",
       "      <td>0</td>\n",
       "      <td>0</td>\n",
       "      <td>0</td>\n",
       "      <td>0</td>\n",
       "      <td>0</td>\n",
       "      <td>0</td>\n",
       "      <td>0</td>\n",
       "      <td>0</td>\n",
       "      <td>0</td>\n",
       "      <td>0</td>\n",
       "      <td>0</td>\n",
       "      <td>0</td>\n",
       "      <td>0</td>\n",
       "      <td>0</td>\n",
       "      <td>0</td>\n",
       "      <td>0</td>\n",
       "      <td>0</td>\n",
       "      <td>0</td>\n",
       "      <td>0</td>\n",
       "      <td>0</td>\n",
       "      <td>0</td>\n",
       "      <td>0</td>\n",
       "      <td>1</td>\n",
       "    </tr>\n",
       "    <tr>\n",
       "      <th>4</th>\n",
       "      <td>2200</td>\n",
       "      <td>2004</td>\n",
       "      <td>109</td>\n",
       "      <td>8</td>\n",
       "      <td>150000</td>\n",
       "      <td>1</td>\n",
       "      <td>0</td>\n",
       "      <td>0</td>\n",
       "      <td>0</td>\n",
       "      <td>0</td>\n",
       "      <td>0</td>\n",
       "      <td>0</td>\n",
       "      <td>1</td>\n",
       "      <td>0</td>\n",
       "      <td>0</td>\n",
       "      <td>0</td>\n",
       "      <td>0</td>\n",
       "      <td>0</td>\n",
       "      <td>0</td>\n",
       "      <td>1</td>\n",
       "      <td>0</td>\n",
       "      <td>0</td>\n",
       "      <td>0</td>\n",
       "      <td>0</td>\n",
       "      <td>0</td>\n",
       "      <td>0</td>\n",
       "      <td>0</td>\n",
       "      <td>0</td>\n",
       "      <td>0</td>\n",
       "      <td>0</td>\n",
       "      <td>0</td>\n",
       "      <td>0</td>\n",
       "      <td>0</td>\n",
       "      <td>0</td>\n",
       "      <td>0</td>\n",
       "      <td>0</td>\n",
       "      <td>0</td>\n",
       "      <td>0</td>\n",
       "      <td>0</td>\n",
       "      <td>0</td>\n",
       "      <td>0</td>\n",
       "      <td>0</td>\n",
       "      <td>0</td>\n",
       "      <td>0</td>\n",
       "      <td>1</td>\n",
       "      <td>0</td>\n",
       "      <td>0</td>\n",
       "      <td>0</td>\n",
       "      <td>0</td>\n",
       "      <td>0</td>\n",
       "      <td>0</td>\n",
       "      <td>0</td>\n",
       "      <td>0</td>\n",
       "      <td>0</td>\n",
       "      <td>0</td>\n",
       "      <td>0</td>\n",
       "      <td>0</td>\n",
       "      <td>0</td>\n",
       "      <td>0</td>\n",
       "      <td>0</td>\n",
       "    </tr>\n",
       "    <tr>\n",
       "      <th>...</th>\n",
       "      <td>...</td>\n",
       "      <td>...</td>\n",
       "      <td>...</td>\n",
       "      <td>...</td>\n",
       "      <td>...</td>\n",
       "      <td>...</td>\n",
       "      <td>...</td>\n",
       "      <td>...</td>\n",
       "      <td>...</td>\n",
       "      <td>...</td>\n",
       "      <td>...</td>\n",
       "      <td>...</td>\n",
       "      <td>...</td>\n",
       "      <td>...</td>\n",
       "      <td>...</td>\n",
       "      <td>...</td>\n",
       "      <td>...</td>\n",
       "      <td>...</td>\n",
       "      <td>...</td>\n",
       "      <td>...</td>\n",
       "      <td>...</td>\n",
       "      <td>...</td>\n",
       "      <td>...</td>\n",
       "      <td>...</td>\n",
       "      <td>...</td>\n",
       "      <td>...</td>\n",
       "      <td>...</td>\n",
       "      <td>...</td>\n",
       "      <td>...</td>\n",
       "      <td>...</td>\n",
       "      <td>...</td>\n",
       "      <td>...</td>\n",
       "      <td>...</td>\n",
       "      <td>...</td>\n",
       "      <td>...</td>\n",
       "      <td>...</td>\n",
       "      <td>...</td>\n",
       "      <td>...</td>\n",
       "      <td>...</td>\n",
       "      <td>...</td>\n",
       "      <td>...</td>\n",
       "      <td>...</td>\n",
       "      <td>...</td>\n",
       "      <td>...</td>\n",
       "      <td>...</td>\n",
       "      <td>...</td>\n",
       "      <td>...</td>\n",
       "      <td>...</td>\n",
       "      <td>...</td>\n",
       "      <td>...</td>\n",
       "      <td>...</td>\n",
       "      <td>...</td>\n",
       "      <td>...</td>\n",
       "      <td>...</td>\n",
       "      <td>...</td>\n",
       "      <td>...</td>\n",
       "      <td>...</td>\n",
       "      <td>...</td>\n",
       "      <td>...</td>\n",
       "      <td>...</td>\n",
       "    </tr>\n",
       "    <tr>\n",
       "      <th>285910</th>\n",
       "      <td>5250</td>\n",
       "      <td>2016</td>\n",
       "      <td>150</td>\n",
       "      <td>4</td>\n",
       "      <td>150000</td>\n",
       "      <td>0</td>\n",
       "      <td>0</td>\n",
       "      <td>1</td>\n",
       "      <td>0</td>\n",
       "      <td>0</td>\n",
       "      <td>0</td>\n",
       "      <td>0</td>\n",
       "      <td>0</td>\n",
       "      <td>0</td>\n",
       "      <td>0</td>\n",
       "      <td>0</td>\n",
       "      <td>0</td>\n",
       "      <td>0</td>\n",
       "      <td>1</td>\n",
       "      <td>0</td>\n",
       "      <td>0</td>\n",
       "      <td>0</td>\n",
       "      <td>0</td>\n",
       "      <td>0</td>\n",
       "      <td>0</td>\n",
       "      <td>0</td>\n",
       "      <td>0</td>\n",
       "      <td>0</td>\n",
       "      <td>0</td>\n",
       "      <td>0</td>\n",
       "      <td>0</td>\n",
       "      <td>0</td>\n",
       "      <td>0</td>\n",
       "      <td>0</td>\n",
       "      <td>0</td>\n",
       "      <td>0</td>\n",
       "      <td>0</td>\n",
       "      <td>0</td>\n",
       "      <td>0</td>\n",
       "      <td>0</td>\n",
       "      <td>0</td>\n",
       "      <td>0</td>\n",
       "      <td>0</td>\n",
       "      <td>0</td>\n",
       "      <td>0</td>\n",
       "      <td>0</td>\n",
       "      <td>0</td>\n",
       "      <td>0</td>\n",
       "      <td>0</td>\n",
       "      <td>0</td>\n",
       "      <td>0</td>\n",
       "      <td>0</td>\n",
       "      <td>0</td>\n",
       "      <td>0</td>\n",
       "      <td>0</td>\n",
       "      <td>0</td>\n",
       "      <td>0</td>\n",
       "      <td>0</td>\n",
       "      <td>0</td>\n",
       "      <td>0</td>\n",
       "    </tr>\n",
       "    <tr>\n",
       "      <th>285911</th>\n",
       "      <td>3200</td>\n",
       "      <td>2004</td>\n",
       "      <td>225</td>\n",
       "      <td>140</td>\n",
       "      <td>150000</td>\n",
       "      <td>0</td>\n",
       "      <td>0</td>\n",
       "      <td>0</td>\n",
       "      <td>1</td>\n",
       "      <td>0</td>\n",
       "      <td>0</td>\n",
       "      <td>0</td>\n",
       "      <td>1</td>\n",
       "      <td>0</td>\n",
       "      <td>0</td>\n",
       "      <td>0</td>\n",
       "      <td>0</td>\n",
       "      <td>0</td>\n",
       "      <td>0</td>\n",
       "      <td>1</td>\n",
       "      <td>0</td>\n",
       "      <td>0</td>\n",
       "      <td>0</td>\n",
       "      <td>0</td>\n",
       "      <td>0</td>\n",
       "      <td>0</td>\n",
       "      <td>0</td>\n",
       "      <td>0</td>\n",
       "      <td>0</td>\n",
       "      <td>0</td>\n",
       "      <td>0</td>\n",
       "      <td>0</td>\n",
       "      <td>0</td>\n",
       "      <td>0</td>\n",
       "      <td>0</td>\n",
       "      <td>0</td>\n",
       "      <td>0</td>\n",
       "      <td>0</td>\n",
       "      <td>0</td>\n",
       "      <td>0</td>\n",
       "      <td>0</td>\n",
       "      <td>0</td>\n",
       "      <td>0</td>\n",
       "      <td>0</td>\n",
       "      <td>0</td>\n",
       "      <td>0</td>\n",
       "      <td>0</td>\n",
       "      <td>0</td>\n",
       "      <td>0</td>\n",
       "      <td>1</td>\n",
       "      <td>0</td>\n",
       "      <td>0</td>\n",
       "      <td>0</td>\n",
       "      <td>0</td>\n",
       "      <td>0</td>\n",
       "      <td>0</td>\n",
       "      <td>0</td>\n",
       "      <td>0</td>\n",
       "      <td>0</td>\n",
       "      <td>1</td>\n",
       "    </tr>\n",
       "    <tr>\n",
       "      <th>285912</th>\n",
       "      <td>1199</td>\n",
       "      <td>2000</td>\n",
       "      <td>101</td>\n",
       "      <td>106</td>\n",
       "      <td>125000</td>\n",
       "      <td>1</td>\n",
       "      <td>0</td>\n",
       "      <td>0</td>\n",
       "      <td>0</td>\n",
       "      <td>0</td>\n",
       "      <td>0</td>\n",
       "      <td>0</td>\n",
       "      <td>0</td>\n",
       "      <td>0</td>\n",
       "      <td>0</td>\n",
       "      <td>0</td>\n",
       "      <td>0</td>\n",
       "      <td>0</td>\n",
       "      <td>0</td>\n",
       "      <td>1</td>\n",
       "      <td>0</td>\n",
       "      <td>0</td>\n",
       "      <td>0</td>\n",
       "      <td>0</td>\n",
       "      <td>0</td>\n",
       "      <td>0</td>\n",
       "      <td>0</td>\n",
       "      <td>0</td>\n",
       "      <td>0</td>\n",
       "      <td>0</td>\n",
       "      <td>0</td>\n",
       "      <td>0</td>\n",
       "      <td>0</td>\n",
       "      <td>0</td>\n",
       "      <td>0</td>\n",
       "      <td>0</td>\n",
       "      <td>0</td>\n",
       "      <td>0</td>\n",
       "      <td>0</td>\n",
       "      <td>0</td>\n",
       "      <td>0</td>\n",
       "      <td>0</td>\n",
       "      <td>0</td>\n",
       "      <td>0</td>\n",
       "      <td>0</td>\n",
       "      <td>0</td>\n",
       "      <td>0</td>\n",
       "      <td>0</td>\n",
       "      <td>0</td>\n",
       "      <td>0</td>\n",
       "      <td>0</td>\n",
       "      <td>1</td>\n",
       "      <td>0</td>\n",
       "      <td>0</td>\n",
       "      <td>0</td>\n",
       "      <td>0</td>\n",
       "      <td>0</td>\n",
       "      <td>0</td>\n",
       "      <td>0</td>\n",
       "      <td>0</td>\n",
       "    </tr>\n",
       "    <tr>\n",
       "      <th>285913</th>\n",
       "      <td>9200</td>\n",
       "      <td>1996</td>\n",
       "      <td>102</td>\n",
       "      <td>223</td>\n",
       "      <td>150000</td>\n",
       "      <td>0</td>\n",
       "      <td>0</td>\n",
       "      <td>0</td>\n",
       "      <td>0</td>\n",
       "      <td>0</td>\n",
       "      <td>0</td>\n",
       "      <td>0</td>\n",
       "      <td>1</td>\n",
       "      <td>0</td>\n",
       "      <td>0</td>\n",
       "      <td>1</td>\n",
       "      <td>0</td>\n",
       "      <td>0</td>\n",
       "      <td>0</td>\n",
       "      <td>0</td>\n",
       "      <td>0</td>\n",
       "      <td>0</td>\n",
       "      <td>0</td>\n",
       "      <td>0</td>\n",
       "      <td>0</td>\n",
       "      <td>0</td>\n",
       "      <td>0</td>\n",
       "      <td>0</td>\n",
       "      <td>0</td>\n",
       "      <td>0</td>\n",
       "      <td>0</td>\n",
       "      <td>0</td>\n",
       "      <td>0</td>\n",
       "      <td>0</td>\n",
       "      <td>0</td>\n",
       "      <td>0</td>\n",
       "      <td>0</td>\n",
       "      <td>0</td>\n",
       "      <td>0</td>\n",
       "      <td>0</td>\n",
       "      <td>0</td>\n",
       "      <td>0</td>\n",
       "      <td>0</td>\n",
       "      <td>0</td>\n",
       "      <td>0</td>\n",
       "      <td>0</td>\n",
       "      <td>0</td>\n",
       "      <td>0</td>\n",
       "      <td>0</td>\n",
       "      <td>0</td>\n",
       "      <td>0</td>\n",
       "      <td>0</td>\n",
       "      <td>0</td>\n",
       "      <td>0</td>\n",
       "      <td>0</td>\n",
       "      <td>0</td>\n",
       "      <td>0</td>\n",
       "      <td>1</td>\n",
       "      <td>0</td>\n",
       "      <td>0</td>\n",
       "    </tr>\n",
       "    <tr>\n",
       "      <th>285914</th>\n",
       "      <td>3400</td>\n",
       "      <td>2002</td>\n",
       "      <td>100</td>\n",
       "      <td>116</td>\n",
       "      <td>150000</td>\n",
       "      <td>0</td>\n",
       "      <td>0</td>\n",
       "      <td>0</td>\n",
       "      <td>0</td>\n",
       "      <td>0</td>\n",
       "      <td>0</td>\n",
       "      <td>1</td>\n",
       "      <td>1</td>\n",
       "      <td>0</td>\n",
       "      <td>0</td>\n",
       "      <td>1</td>\n",
       "      <td>0</td>\n",
       "      <td>0</td>\n",
       "      <td>0</td>\n",
       "      <td>0</td>\n",
       "      <td>0</td>\n",
       "      <td>0</td>\n",
       "      <td>0</td>\n",
       "      <td>0</td>\n",
       "      <td>0</td>\n",
       "      <td>0</td>\n",
       "      <td>0</td>\n",
       "      <td>0</td>\n",
       "      <td>0</td>\n",
       "      <td>0</td>\n",
       "      <td>0</td>\n",
       "      <td>0</td>\n",
       "      <td>0</td>\n",
       "      <td>0</td>\n",
       "      <td>0</td>\n",
       "      <td>0</td>\n",
       "      <td>0</td>\n",
       "      <td>0</td>\n",
       "      <td>0</td>\n",
       "      <td>0</td>\n",
       "      <td>0</td>\n",
       "      <td>0</td>\n",
       "      <td>0</td>\n",
       "      <td>0</td>\n",
       "      <td>0</td>\n",
       "      <td>0</td>\n",
       "      <td>0</td>\n",
       "      <td>0</td>\n",
       "      <td>0</td>\n",
       "      <td>0</td>\n",
       "      <td>0</td>\n",
       "      <td>0</td>\n",
       "      <td>0</td>\n",
       "      <td>0</td>\n",
       "      <td>0</td>\n",
       "      <td>0</td>\n",
       "      <td>0</td>\n",
       "      <td>1</td>\n",
       "      <td>0</td>\n",
       "      <td>0</td>\n",
       "    </tr>\n",
       "  </tbody>\n",
       "</table>\n",
       "<p>285915 rows × 60 columns</p>\n",
       "</div>"
      ],
      "text/plain": [
       "        Price  RegistrationYear  Power  Model  Kilometer  \\\n",
       "0        9800              2004    163    117     125000   \n",
       "1        1500              2001     75    116     150000   \n",
       "2        3600              2008     69    101      90000   \n",
       "3         650              1995    102     11     150000   \n",
       "4        2200              2004    109      8     150000   \n",
       "...       ...               ...    ...    ...        ...   \n",
       "285910   5250              2016    150      4     150000   \n",
       "285911   3200              2004    225    140     150000   \n",
       "285912   1199              2000    101    106     125000   \n",
       "285913   9200              1996    102    223     150000   \n",
       "285914   3400              2002    100    116     150000   \n",
       "\n",
       "        VehicleType_convertible  VehicleType_coupe  VehicleType_other  \\\n",
       "0                             0                  0                  0   \n",
       "1                             0                  0                  0   \n",
       "2                             0                  0                  0   \n",
       "3                             0                  0                  0   \n",
       "4                             1                  0                  0   \n",
       "...                         ...                ...                ...   \n",
       "285910                        0                  0                  1   \n",
       "285911                        0                  0                  0   \n",
       "285912                        1                  0                  0   \n",
       "285913                        0                  0                  0   \n",
       "285914                        0                  0                  0   \n",
       "\n",
       "        VehicleType_sedan  VehicleType_small  VehicleType_suv  \\\n",
       "0                       0                  0                1   \n",
       "1                       0                  1                0   \n",
       "2                       0                  1                0   \n",
       "3                       1                  0                0   \n",
       "4                       0                  0                0   \n",
       "...                   ...                ...              ...   \n",
       "285910                  0                  0                0   \n",
       "285911                  1                  0                0   \n",
       "285912                  0                  0                0   \n",
       "285913                  0                  0                0   \n",
       "285914                  0                  0                0   \n",
       "\n",
       "        VehicleType_wagon  Gearbox_manual  Gearbox_unknown  FuelType_electric  \\\n",
       "0                       0               0                0                  0   \n",
       "1                       0               1                0                  0   \n",
       "2                       0               1                0                  0   \n",
       "3                       0               1                0                  0   \n",
       "4                       0               1                0                  0   \n",
       "...                   ...             ...              ...                ...   \n",
       "285910                  0               0                0                  0   \n",
       "285911                  0               1                0                  0   \n",
       "285912                  0               0                0                  0   \n",
       "285913                  0               1                0                  0   \n",
       "285914                  1               1                0                  0   \n",
       "\n",
       "        FuelType_gasoline  FuelType_hybrid  FuelType_lpg  FuelType_other  \\\n",
       "0                       1                0             0               0   \n",
       "1                       0                0             0               0   \n",
       "2                       1                0             0               0   \n",
       "3                       0                0             0               0   \n",
       "4                       0                0             0               0   \n",
       "...                   ...              ...           ...             ...   \n",
       "285910                  0                0             0               1   \n",
       "285911                  0                0             0               0   \n",
       "285912                  0                0             0               0   \n",
       "285913                  1                0             0               0   \n",
       "285914                  1                0             0               0   \n",
       "\n",
       "        FuelType_petrol  Brand_audi  Brand_bmw  Brand_chevrolet  \\\n",
       "0                     0           0          0                0   \n",
       "1                     1           0          0                0   \n",
       "2                     0           0          0                0   \n",
       "3                     1           0          1                0   \n",
       "4                     1           0          0                0   \n",
       "...                 ...         ...        ...              ...   \n",
       "285910                0           0          0                0   \n",
       "285911                1           0          0                0   \n",
       "285912                1           0          0                0   \n",
       "285913                0           0          0                0   \n",
       "285914                0           0          0                0   \n",
       "\n",
       "        Brand_chrysler  Brand_citroen  Brand_dacia  Brand_daewoo  \\\n",
       "0                    0              0            0             0   \n",
       "1                    0              0            0             0   \n",
       "2                    0              0            0             0   \n",
       "3                    0              0            0             0   \n",
       "4                    0              0            0             0   \n",
       "...                ...            ...          ...           ...   \n",
       "285910               0              0            0             0   \n",
       "285911               0              0            0             0   \n",
       "285912               0              0            0             0   \n",
       "285913               0              0            0             0   \n",
       "285914               0              0            0             0   \n",
       "\n",
       "        Brand_daihatsu  Brand_fiat  Brand_ford  Brand_honda  Brand_hyundai  \\\n",
       "0                    0           0           0            0              0   \n",
       "1                    0           0           0            0              0   \n",
       "2                    0           0           0            0              0   \n",
       "3                    0           0           0            0              0   \n",
       "4                    0           0           0            0              0   \n",
       "...                ...         ...         ...          ...            ...   \n",
       "285910               0           0           0            0              0   \n",
       "285911               0           0           0            0              0   \n",
       "285912               0           0           0            0              0   \n",
       "285913               0           0           0            0              0   \n",
       "285914               0           0           0            0              0   \n",
       "\n",
       "        Brand_jaguar  Brand_jeep  Brand_kia  Brand_lada  Brand_lancia  \\\n",
       "0                  0           1          0           0             0   \n",
       "1                  0           0          0           0             0   \n",
       "2                  0           0          0           0             0   \n",
       "3                  0           0          0           0             0   \n",
       "4                  0           0          0           0             0   \n",
       "...              ...         ...        ...         ...           ...   \n",
       "285910             0           0          0           0             0   \n",
       "285911             0           0          0           0             0   \n",
       "285912             0           0          0           0             0   \n",
       "285913             0           0          0           0             0   \n",
       "285914             0           0          0           0             0   \n",
       "\n",
       "        Brand_land_rover  Brand_mazda  Brand_mercedes_benz  Brand_mini  \\\n",
       "0                      0            0                    0           0   \n",
       "1                      0            0                    0           0   \n",
       "2                      0            0                    0           0   \n",
       "3                      0            0                    0           0   \n",
       "4                      0            0                    0           0   \n",
       "...                  ...          ...                  ...         ...   \n",
       "285910                 0            0                    0           0   \n",
       "285911                 0            0                    0           0   \n",
       "285912                 0            0                    0           0   \n",
       "285913                 0            0                    0           0   \n",
       "285914                 0            0                    0           0   \n",
       "\n",
       "        Brand_mitsubishi  Brand_nissan  Brand_opel  Brand_peugeot  \\\n",
       "0                      0             0           0              0   \n",
       "1                      0             0           0              0   \n",
       "2                      0             0           0              0   \n",
       "3                      0             0           0              0   \n",
       "4                      0             0           0              1   \n",
       "...                  ...           ...         ...            ...   \n",
       "285910                 0             0           0              0   \n",
       "285911                 0             0           0              0   \n",
       "285912                 0             0           0              0   \n",
       "285913                 0             0           0              0   \n",
       "285914                 0             0           0              0   \n",
       "\n",
       "        Brand_porsche  Brand_renault  Brand_rover  Brand_saab  Brand_seat  \\\n",
       "0                   0              0            0           0           0   \n",
       "1                   0              0            0           0           0   \n",
       "2                   0              0            0           0           0   \n",
       "3                   0              0            0           0           0   \n",
       "4                   0              0            0           0           0   \n",
       "...               ...            ...          ...         ...         ...   \n",
       "285910              0              0            0           0           0   \n",
       "285911              0              0            0           0           1   \n",
       "285912              0              0            0           0           0   \n",
       "285913              0              0            0           0           0   \n",
       "285914              0              0            0           0           0   \n",
       "\n",
       "        Brand_skoda  Brand_smart  Brand_sonstige_autos  Brand_subaru  \\\n",
       "0                 0            0                     0             0   \n",
       "1                 0            0                     0             0   \n",
       "2                 1            0                     0             0   \n",
       "3                 0            0                     0             0   \n",
       "4                 0            0                     0             0   \n",
       "...             ...          ...                   ...           ...   \n",
       "285910            0            0                     0             0   \n",
       "285911            0            0                     0             0   \n",
       "285912            0            1                     0             0   \n",
       "285913            0            0                     0             0   \n",
       "285914            0            0                     0             0   \n",
       "\n",
       "        Brand_suzuki  Brand_toyota  Brand_trabant  Brand_volkswagen  \\\n",
       "0                  0             0              0                 0   \n",
       "1                  0             0              0                 1   \n",
       "2                  0             0              0                 0   \n",
       "3                  0             0              0                 0   \n",
       "4                  0             0              0                 0   \n",
       "...              ...           ...            ...               ...   \n",
       "285910             0             0              0                 0   \n",
       "285911             0             0              0                 0   \n",
       "285912             0             0              0                 0   \n",
       "285913             0             0              0                 1   \n",
       "285914             0             0              0                 1   \n",
       "\n",
       "        Brand_volvo  NotRepaired_yes  \n",
       "0                 0                0  \n",
       "1                 0                0  \n",
       "2                 0                0  \n",
       "3                 0                1  \n",
       "4                 0                0  \n",
       "...             ...              ...  \n",
       "285910            0                0  \n",
       "285911            0                1  \n",
       "285912            0                0  \n",
       "285913            0                0  \n",
       "285914            0                0  \n",
       "\n",
       "[285915 rows x 60 columns]"
      ]
     },
     "execution_count": 36,
     "metadata": {},
     "output_type": "execute_result"
    }
   ],
   "source": [
    "encoder = LabelEncoder()\n",
    "encoder.fit(df_autos['Model'])\n",
    "df_autos['Model'] = encoder.transform(df_autos['Model'])\n",
    "\n",
    "df_autos = pd.get_dummies(df_autos, drop_first=True)\n",
    "\n",
    "# display(df_autos.head())\n",
    "\n",
    "df_autos.reset_index(drop=True)\n",
    "# df_autos.info()"
   ]
  },
  {
   "cell_type": "markdown",
   "metadata": {},
   "source": [
    "---"
   ]
  },
  {
   "cell_type": "markdown",
   "metadata": {},
   "source": [
    "### Масштабирование признаков"
   ]
  },
  {
   "cell_type": "code",
   "execution_count": 37,
   "metadata": {},
   "outputs": [
    {
     "data": {
      "text/html": [
       "<div>\n",
       "<style scoped>\n",
       "    .dataframe tbody tr th:only-of-type {\n",
       "        vertical-align: middle;\n",
       "    }\n",
       "\n",
       "    .dataframe tbody tr th {\n",
       "        vertical-align: top;\n",
       "    }\n",
       "\n",
       "    .dataframe thead th {\n",
       "        text-align: right;\n",
       "    }\n",
       "</style>\n",
       "<table border=\"1\" class=\"dataframe\">\n",
       "  <thead>\n",
       "    <tr style=\"text-align: right;\">\n",
       "      <th></th>\n",
       "      <th>RegistrationYear</th>\n",
       "      <th>Power</th>\n",
       "      <th>Model</th>\n",
       "      <th>Kilometer</th>\n",
       "      <th>VehicleType_convertible</th>\n",
       "      <th>VehicleType_coupe</th>\n",
       "      <th>VehicleType_other</th>\n",
       "      <th>VehicleType_sedan</th>\n",
       "      <th>VehicleType_small</th>\n",
       "      <th>VehicleType_suv</th>\n",
       "      <th>VehicleType_wagon</th>\n",
       "      <th>Gearbox_manual</th>\n",
       "      <th>Gearbox_unknown</th>\n",
       "      <th>FuelType_electric</th>\n",
       "      <th>FuelType_gasoline</th>\n",
       "      <th>FuelType_hybrid</th>\n",
       "      <th>FuelType_lpg</th>\n",
       "      <th>FuelType_other</th>\n",
       "      <th>FuelType_petrol</th>\n",
       "      <th>Brand_audi</th>\n",
       "      <th>Brand_bmw</th>\n",
       "      <th>Brand_chevrolet</th>\n",
       "      <th>Brand_chrysler</th>\n",
       "      <th>Brand_citroen</th>\n",
       "      <th>Brand_dacia</th>\n",
       "      <th>Brand_daewoo</th>\n",
       "      <th>Brand_daihatsu</th>\n",
       "      <th>Brand_fiat</th>\n",
       "      <th>Brand_ford</th>\n",
       "      <th>Brand_honda</th>\n",
       "      <th>Brand_hyundai</th>\n",
       "      <th>Brand_jaguar</th>\n",
       "      <th>Brand_jeep</th>\n",
       "      <th>Brand_kia</th>\n",
       "      <th>Brand_lada</th>\n",
       "      <th>Brand_lancia</th>\n",
       "      <th>Brand_land_rover</th>\n",
       "      <th>Brand_mazda</th>\n",
       "      <th>Brand_mercedes_benz</th>\n",
       "      <th>Brand_mini</th>\n",
       "      <th>Brand_mitsubishi</th>\n",
       "      <th>Brand_nissan</th>\n",
       "      <th>Brand_opel</th>\n",
       "      <th>Brand_peugeot</th>\n",
       "      <th>Brand_porsche</th>\n",
       "      <th>Brand_renault</th>\n",
       "      <th>Brand_rover</th>\n",
       "      <th>Brand_saab</th>\n",
       "      <th>Brand_seat</th>\n",
       "      <th>Brand_skoda</th>\n",
       "      <th>Brand_smart</th>\n",
       "      <th>Brand_sonstige_autos</th>\n",
       "      <th>Brand_subaru</th>\n",
       "      <th>Brand_suzuki</th>\n",
       "      <th>Brand_toyota</th>\n",
       "      <th>Brand_trabant</th>\n",
       "      <th>Brand_volkswagen</th>\n",
       "      <th>Brand_volvo</th>\n",
       "      <th>NotRepaired_yes</th>\n",
       "    </tr>\n",
       "  </thead>\n",
       "  <tbody>\n",
       "    <tr>\n",
       "      <th>205007</th>\n",
       "      <td>0.296243</td>\n",
       "      <td>-0.215925</td>\n",
       "      <td>0.043578</td>\n",
       "      <td>0.558530</td>\n",
       "      <td>0</td>\n",
       "      <td>0</td>\n",
       "      <td>0</td>\n",
       "      <td>1</td>\n",
       "      <td>0</td>\n",
       "      <td>0</td>\n",
       "      <td>0</td>\n",
       "      <td>1</td>\n",
       "      <td>0</td>\n",
       "      <td>0</td>\n",
       "      <td>1</td>\n",
       "      <td>0</td>\n",
       "      <td>0</td>\n",
       "      <td>0</td>\n",
       "      <td>0</td>\n",
       "      <td>0</td>\n",
       "      <td>0</td>\n",
       "      <td>0</td>\n",
       "      <td>0</td>\n",
       "      <td>0</td>\n",
       "      <td>0</td>\n",
       "      <td>0</td>\n",
       "      <td>0</td>\n",
       "      <td>0</td>\n",
       "      <td>0</td>\n",
       "      <td>0</td>\n",
       "      <td>0</td>\n",
       "      <td>0</td>\n",
       "      <td>0</td>\n",
       "      <td>0</td>\n",
       "      <td>0</td>\n",
       "      <td>0</td>\n",
       "      <td>0</td>\n",
       "      <td>0</td>\n",
       "      <td>0</td>\n",
       "      <td>0</td>\n",
       "      <td>0</td>\n",
       "      <td>0</td>\n",
       "      <td>0</td>\n",
       "      <td>0</td>\n",
       "      <td>0</td>\n",
       "      <td>0</td>\n",
       "      <td>0</td>\n",
       "      <td>0</td>\n",
       "      <td>0</td>\n",
       "      <td>0</td>\n",
       "      <td>0</td>\n",
       "      <td>0</td>\n",
       "      <td>0</td>\n",
       "      <td>0</td>\n",
       "      <td>0</td>\n",
       "      <td>0</td>\n",
       "      <td>1</td>\n",
       "      <td>0</td>\n",
       "      <td>0</td>\n",
       "    </tr>\n",
       "    <tr>\n",
       "      <th>71131</th>\n",
       "      <td>1.196489</td>\n",
       "      <td>0.960955</td>\n",
       "      <td>0.126188</td>\n",
       "      <td>-2.604919</td>\n",
       "      <td>0</td>\n",
       "      <td>0</td>\n",
       "      <td>0</td>\n",
       "      <td>1</td>\n",
       "      <td>0</td>\n",
       "      <td>0</td>\n",
       "      <td>0</td>\n",
       "      <td>0</td>\n",
       "      <td>0</td>\n",
       "      <td>0</td>\n",
       "      <td>1</td>\n",
       "      <td>0</td>\n",
       "      <td>0</td>\n",
       "      <td>0</td>\n",
       "      <td>0</td>\n",
       "      <td>0</td>\n",
       "      <td>0</td>\n",
       "      <td>0</td>\n",
       "      <td>0</td>\n",
       "      <td>0</td>\n",
       "      <td>0</td>\n",
       "      <td>0</td>\n",
       "      <td>0</td>\n",
       "      <td>0</td>\n",
       "      <td>0</td>\n",
       "      <td>0</td>\n",
       "      <td>0</td>\n",
       "      <td>0</td>\n",
       "      <td>0</td>\n",
       "      <td>0</td>\n",
       "      <td>0</td>\n",
       "      <td>0</td>\n",
       "      <td>0</td>\n",
       "      <td>0</td>\n",
       "      <td>0</td>\n",
       "      <td>0</td>\n",
       "      <td>0</td>\n",
       "      <td>0</td>\n",
       "      <td>1</td>\n",
       "      <td>0</td>\n",
       "      <td>0</td>\n",
       "      <td>0</td>\n",
       "      <td>0</td>\n",
       "      <td>0</td>\n",
       "      <td>0</td>\n",
       "      <td>0</td>\n",
       "      <td>0</td>\n",
       "      <td>0</td>\n",
       "      <td>0</td>\n",
       "      <td>0</td>\n",
       "      <td>0</td>\n",
       "      <td>0</td>\n",
       "      <td>0</td>\n",
       "      <td>0</td>\n",
       "      <td>0</td>\n",
       "    </tr>\n",
       "    <tr>\n",
       "      <th>248775</th>\n",
       "      <td>0.146202</td>\n",
       "      <td>-0.857860</td>\n",
       "      <td>-0.149178</td>\n",
       "      <td>-0.160436</td>\n",
       "      <td>0</td>\n",
       "      <td>0</td>\n",
       "      <td>0</td>\n",
       "      <td>1</td>\n",
       "      <td>0</td>\n",
       "      <td>0</td>\n",
       "      <td>0</td>\n",
       "      <td>1</td>\n",
       "      <td>0</td>\n",
       "      <td>0</td>\n",
       "      <td>0</td>\n",
       "      <td>0</td>\n",
       "      <td>0</td>\n",
       "      <td>0</td>\n",
       "      <td>1</td>\n",
       "      <td>0</td>\n",
       "      <td>0</td>\n",
       "      <td>0</td>\n",
       "      <td>0</td>\n",
       "      <td>0</td>\n",
       "      <td>0</td>\n",
       "      <td>0</td>\n",
       "      <td>0</td>\n",
       "      <td>0</td>\n",
       "      <td>1</td>\n",
       "      <td>0</td>\n",
       "      <td>0</td>\n",
       "      <td>0</td>\n",
       "      <td>0</td>\n",
       "      <td>0</td>\n",
       "      <td>0</td>\n",
       "      <td>0</td>\n",
       "      <td>0</td>\n",
       "      <td>0</td>\n",
       "      <td>0</td>\n",
       "      <td>0</td>\n",
       "      <td>0</td>\n",
       "      <td>0</td>\n",
       "      <td>0</td>\n",
       "      <td>0</td>\n",
       "      <td>0</td>\n",
       "      <td>0</td>\n",
       "      <td>0</td>\n",
       "      <td>0</td>\n",
       "      <td>0</td>\n",
       "      <td>0</td>\n",
       "      <td>0</td>\n",
       "      <td>0</td>\n",
       "      <td>0</td>\n",
       "      <td>0</td>\n",
       "      <td>0</td>\n",
       "      <td>0</td>\n",
       "      <td>0</td>\n",
       "      <td>0</td>\n",
       "      <td>0</td>\n",
       "    </tr>\n",
       "    <tr>\n",
       "      <th>226633</th>\n",
       "      <td>-0.754043</td>\n",
       "      <td>0.746977</td>\n",
       "      <td>1.571855</td>\n",
       "      <td>0.558530</td>\n",
       "      <td>0</td>\n",
       "      <td>0</td>\n",
       "      <td>0</td>\n",
       "      <td>1</td>\n",
       "      <td>0</td>\n",
       "      <td>0</td>\n",
       "      <td>0</td>\n",
       "      <td>1</td>\n",
       "      <td>0</td>\n",
       "      <td>0</td>\n",
       "      <td>0</td>\n",
       "      <td>0</td>\n",
       "      <td>0</td>\n",
       "      <td>0</td>\n",
       "      <td>1</td>\n",
       "      <td>0</td>\n",
       "      <td>0</td>\n",
       "      <td>0</td>\n",
       "      <td>0</td>\n",
       "      <td>0</td>\n",
       "      <td>0</td>\n",
       "      <td>0</td>\n",
       "      <td>0</td>\n",
       "      <td>0</td>\n",
       "      <td>0</td>\n",
       "      <td>0</td>\n",
       "      <td>0</td>\n",
       "      <td>0</td>\n",
       "      <td>0</td>\n",
       "      <td>0</td>\n",
       "      <td>0</td>\n",
       "      <td>0</td>\n",
       "      <td>0</td>\n",
       "      <td>0</td>\n",
       "      <td>0</td>\n",
       "      <td>0</td>\n",
       "      <td>0</td>\n",
       "      <td>0</td>\n",
       "      <td>0</td>\n",
       "      <td>0</td>\n",
       "      <td>0</td>\n",
       "      <td>0</td>\n",
       "      <td>0</td>\n",
       "      <td>0</td>\n",
       "      <td>0</td>\n",
       "      <td>0</td>\n",
       "      <td>0</td>\n",
       "      <td>0</td>\n",
       "      <td>0</td>\n",
       "      <td>0</td>\n",
       "      <td>0</td>\n",
       "      <td>0</td>\n",
       "      <td>1</td>\n",
       "      <td>0</td>\n",
       "      <td>0</td>\n",
       "    </tr>\n",
       "    <tr>\n",
       "      <th>308645</th>\n",
       "      <td>-0.303920</td>\n",
       "      <td>0.597192</td>\n",
       "      <td>-1.402090</td>\n",
       "      <td>0.558530</td>\n",
       "      <td>0</td>\n",
       "      <td>0</td>\n",
       "      <td>0</td>\n",
       "      <td>1</td>\n",
       "      <td>0</td>\n",
       "      <td>0</td>\n",
       "      <td>0</td>\n",
       "      <td>1</td>\n",
       "      <td>0</td>\n",
       "      <td>0</td>\n",
       "      <td>0</td>\n",
       "      <td>0</td>\n",
       "      <td>0</td>\n",
       "      <td>0</td>\n",
       "      <td>1</td>\n",
       "      <td>0</td>\n",
       "      <td>1</td>\n",
       "      <td>0</td>\n",
       "      <td>0</td>\n",
       "      <td>0</td>\n",
       "      <td>0</td>\n",
       "      <td>0</td>\n",
       "      <td>0</td>\n",
       "      <td>0</td>\n",
       "      <td>0</td>\n",
       "      <td>0</td>\n",
       "      <td>0</td>\n",
       "      <td>0</td>\n",
       "      <td>0</td>\n",
       "      <td>0</td>\n",
       "      <td>0</td>\n",
       "      <td>0</td>\n",
       "      <td>0</td>\n",
       "      <td>0</td>\n",
       "      <td>0</td>\n",
       "      <td>0</td>\n",
       "      <td>0</td>\n",
       "      <td>0</td>\n",
       "      <td>0</td>\n",
       "      <td>0</td>\n",
       "      <td>0</td>\n",
       "      <td>0</td>\n",
       "      <td>0</td>\n",
       "      <td>0</td>\n",
       "      <td>0</td>\n",
       "      <td>0</td>\n",
       "      <td>0</td>\n",
       "      <td>0</td>\n",
       "      <td>0</td>\n",
       "      <td>0</td>\n",
       "      <td>0</td>\n",
       "      <td>0</td>\n",
       "      <td>0</td>\n",
       "      <td>0</td>\n",
       "      <td>0</td>\n",
       "    </tr>\n",
       "  </tbody>\n",
       "</table>\n",
       "</div>"
      ],
      "text/plain": [
       "        RegistrationYear     Power     Model  Kilometer  \\\n",
       "205007          0.296243 -0.215925  0.043578   0.558530   \n",
       "71131           1.196489  0.960955  0.126188  -2.604919   \n",
       "248775          0.146202 -0.857860 -0.149178  -0.160436   \n",
       "226633         -0.754043  0.746977  1.571855   0.558530   \n",
       "308645         -0.303920  0.597192 -1.402090   0.558530   \n",
       "\n",
       "        VehicleType_convertible  VehicleType_coupe  VehicleType_other  \\\n",
       "205007                        0                  0                  0   \n",
       "71131                         0                  0                  0   \n",
       "248775                        0                  0                  0   \n",
       "226633                        0                  0                  0   \n",
       "308645                        0                  0                  0   \n",
       "\n",
       "        VehicleType_sedan  VehicleType_small  VehicleType_suv  \\\n",
       "205007                  1                  0                0   \n",
       "71131                   1                  0                0   \n",
       "248775                  1                  0                0   \n",
       "226633                  1                  0                0   \n",
       "308645                  1                  0                0   \n",
       "\n",
       "        VehicleType_wagon  Gearbox_manual  Gearbox_unknown  FuelType_electric  \\\n",
       "205007                  0               1                0                  0   \n",
       "71131                   0               0                0                  0   \n",
       "248775                  0               1                0                  0   \n",
       "226633                  0               1                0                  0   \n",
       "308645                  0               1                0                  0   \n",
       "\n",
       "        FuelType_gasoline  FuelType_hybrid  FuelType_lpg  FuelType_other  \\\n",
       "205007                  1                0             0               0   \n",
       "71131                   1                0             0               0   \n",
       "248775                  0                0             0               0   \n",
       "226633                  0                0             0               0   \n",
       "308645                  0                0             0               0   \n",
       "\n",
       "        FuelType_petrol  Brand_audi  Brand_bmw  Brand_chevrolet  \\\n",
       "205007                0           0          0                0   \n",
       "71131                 0           0          0                0   \n",
       "248775                1           0          0                0   \n",
       "226633                1           0          0                0   \n",
       "308645                1           0          1                0   \n",
       "\n",
       "        Brand_chrysler  Brand_citroen  Brand_dacia  Brand_daewoo  \\\n",
       "205007               0              0            0             0   \n",
       "71131                0              0            0             0   \n",
       "248775               0              0            0             0   \n",
       "226633               0              0            0             0   \n",
       "308645               0              0            0             0   \n",
       "\n",
       "        Brand_daihatsu  Brand_fiat  Brand_ford  Brand_honda  Brand_hyundai  \\\n",
       "205007               0           0           0            0              0   \n",
       "71131                0           0           0            0              0   \n",
       "248775               0           0           1            0              0   \n",
       "226633               0           0           0            0              0   \n",
       "308645               0           0           0            0              0   \n",
       "\n",
       "        Brand_jaguar  Brand_jeep  Brand_kia  Brand_lada  Brand_lancia  \\\n",
       "205007             0           0          0           0             0   \n",
       "71131              0           0          0           0             0   \n",
       "248775             0           0          0           0             0   \n",
       "226633             0           0          0           0             0   \n",
       "308645             0           0          0           0             0   \n",
       "\n",
       "        Brand_land_rover  Brand_mazda  Brand_mercedes_benz  Brand_mini  \\\n",
       "205007                 0            0                    0           0   \n",
       "71131                  0            0                    0           0   \n",
       "248775                 0            0                    0           0   \n",
       "226633                 0            0                    0           0   \n",
       "308645                 0            0                    0           0   \n",
       "\n",
       "        Brand_mitsubishi  Brand_nissan  Brand_opel  Brand_peugeot  \\\n",
       "205007                 0             0           0              0   \n",
       "71131                  0             0           1              0   \n",
       "248775                 0             0           0              0   \n",
       "226633                 0             0           0              0   \n",
       "308645                 0             0           0              0   \n",
       "\n",
       "        Brand_porsche  Brand_renault  Brand_rover  Brand_saab  Brand_seat  \\\n",
       "205007              0              0            0           0           0   \n",
       "71131               0              0            0           0           0   \n",
       "248775              0              0            0           0           0   \n",
       "226633              0              0            0           0           0   \n",
       "308645              0              0            0           0           0   \n",
       "\n",
       "        Brand_skoda  Brand_smart  Brand_sonstige_autos  Brand_subaru  \\\n",
       "205007            0            0                     0             0   \n",
       "71131             0            0                     0             0   \n",
       "248775            0            0                     0             0   \n",
       "226633            0            0                     0             0   \n",
       "308645            0            0                     0             0   \n",
       "\n",
       "        Brand_suzuki  Brand_toyota  Brand_trabant  Brand_volkswagen  \\\n",
       "205007             0             0              0                 1   \n",
       "71131              0             0              0                 0   \n",
       "248775             0             0              0                 0   \n",
       "226633             0             0              0                 1   \n",
       "308645             0             0              0                 0   \n",
       "\n",
       "        Brand_volvo  NotRepaired_yes  \n",
       "205007            0                0  \n",
       "71131             0                0  \n",
       "248775            0                0  \n",
       "226633            0                0  \n",
       "308645            0                0  "
      ]
     },
     "metadata": {},
     "output_type": "display_data"
    }
   ],
   "source": [
    "features = df_autos.drop('Price', axis=1)\n",
    "target = df_autos['Price']\n",
    "\n",
    "features_train, features_test, target_train, target_test = train_test_split(\n",
    "    features, target,  test_size = 0.25, random_state = 12345)\n",
    "\n",
    "warnings.filterwarnings(\"ignore\")\n",
    "numeric = ['RegistrationYear', 'Power', 'Kilometer','Model']\n",
    "\n",
    "scaler = StandardScaler()\n",
    "scaler.fit(features_train[numeric])\n",
    "\n",
    "features_train[numeric] = scaler.transform(features_train[numeric])\n",
    "features_test[numeric] = scaler.transform(features_test[numeric])\n",
    "\n",
    "display(features_train.head())"
   ]
  },
  {
   "cell_type": "markdown",
   "metadata": {},
   "source": [
    "Обучим несколько моделей, предварительно оценим результаты, по итогам подбора параметров."
   ]
  },
  {
   "cell_type": "code",
   "execution_count": 38,
   "metadata": {},
   "outputs": [],
   "source": [
    "def rmse(target, predict):\n",
    "    return (mean_squared_error(target, predict)) ** 0.5\n",
    "\n",
    "custom_scorer = make_scorer(rmse, greater_is_better=False)"
   ]
  },
  {
   "cell_type": "markdown",
   "metadata": {},
   "source": [
    "> Т.к. подсчет некоторых параметров занимает много времени, то результат таких вычислений я вынес отдельно под каждым блоком кода, а внутри блоков уже прописаны оптимальные параметры."
   ]
  },
  {
   "cell_type": "markdown",
   "metadata": {},
   "source": [
    "### LinearRegression"
   ]
  },
  {
   "cell_type": "code",
   "execution_count": 39,
   "metadata": {},
   "outputs": [
    {
     "name": "stdout",
     "output_type": "stream",
     "text": [
      "RMSE: 2196.9094940280543\n",
      "\n",
      "CPU times: user 4.26 s, sys: 2 s, total: 6.26 s\n",
      "Wall time: 6.21 s\n"
     ]
    }
   ],
   "source": [
    "%%time\n",
    "LR_model = LinearRegression()\n",
    "RMSE = pd.Series(cross_val_score(\n",
    "    LR_model, features_train, target_train, scoring=custom_scorer, cv=3)).max()\n",
    "print(f\"RMSE: {abs(RMSE)}\\n\")"
   ]
  },
  {
   "cell_type": "markdown",
   "metadata": {},
   "source": [
    "> `RMSE:` 2196.9094940280543  \n",
    "`CPU times:` user 4.37 s, sys: 2.14 s, total: 6.51 s  \n",
    "`Wall time:` 6.47 s"
   ]
  },
  {
   "cell_type": "markdown",
   "metadata": {},
   "source": [
    "---"
   ]
  },
  {
   "cell_type": "markdown",
   "metadata": {},
   "source": [
    "### RandomForest Regressor"
   ]
  },
  {
   "cell_type": "code",
   "execution_count": 40,
   "metadata": {},
   "outputs": [
    {
     "name": "stdout",
     "output_type": "stream",
     "text": [
      "Оптимальные параметры модели: {'max_depth': 50, 'n_estimators': 40}\n",
      "RMSE: 1356.342489457477\n",
      "\n",
      "CPU times: user 2min 43s, sys: 1.3 s, total: 2min 44s\n",
      "Wall time: 2min 45s\n"
     ]
    }
   ],
   "source": [
    "%%time\n",
    "RFR_model = RandomForestRegressor(random_state=12345, criterion='mse')\n",
    "# parameters = {'n_estimators': range(30, 81, 10), 'max_depth': range(1,12)}\n",
    "# подставлю готовые параметры, т.к. расчт занимает много времени.\n",
    "parameters = {'n_estimators': [40], 'max_depth': [50]}\n",
    "grid = GridSearchCV(RFR_model, parameters, scoring=custom_scorer, cv=3)\n",
    "grid.fit(features_train, target_train)\n",
    "\n",
    "print(f\"Оптимальные параметры модели: {grid.best_params_}\")\n",
    "print(f\"RMSE: {abs(grid.best_score_)}\\n\")"
   ]
  },
  {
   "cell_type": "markdown",
   "metadata": {},
   "source": [
    "> `Оптимальные параметры модели:` {'max_depth': 50, 'n_estimators': 40}  \n",
    "`RMSE:` 1356.342489457477  \n",
    "`CPU times:` user 2min 46s, sys: 1.21 s, total: 2min 47s  \n",
    "`Wall time:` 2min 47s"
   ]
  },
  {
   "cell_type": "markdown",
   "metadata": {},
   "source": [
    "---"
   ]
  },
  {
   "cell_type": "markdown",
   "metadata": {},
   "source": [
    "### XGBoost"
   ]
  },
  {
   "cell_type": "code",
   "execution_count": 41,
   "metadata": {},
   "outputs": [
    {
     "name": "stdout",
     "output_type": "stream",
     "text": [
      "Оптимальные параметры модели: {'max_depth': 12, 'n_estimators': 25}\n",
      "RMSE: 1328.0119305057453\n",
      "\n",
      "CPU times: user 3min 18s, sys: 780 ms, total: 3min 19s\n",
      "Wall time: 3min 21s\n"
     ]
    }
   ],
   "source": [
    "%%time\n",
    "XGBR_model = XGBRegressor(random_state=12345)\n",
    "# подставлю готовые параметры, т.к. расчт занимает много времени.\n",
    "parameters = {'n_estimators': [25], 'max_depth': [12]}\n",
    "grid = GridSearchCV(XGBR_model, parameters, scoring=custom_scorer, cv=3)\n",
    "grid.fit(features_train, target_train)\n",
    "\n",
    "print(f\"Оптимальные параметры модели: {grid.best_params_}\")\n",
    "print(f\"RMSE: {abs(grid.best_score_)}\\n\")"
   ]
  },
  {
   "cell_type": "markdown",
   "metadata": {},
   "source": [
    "> `Оптимальные параметры модели:` {'max_depth': 12, 'n_estimators': 25}  \n",
    "`RMSE:` 1328.0119305057453  \n",
    "`CPU times:` user 7min 43s, sys: 2.68 s, total: 7min 46s  \n",
    "`Wall time:` 7min 49s"
   ]
  },
  {
   "cell_type": "markdown",
   "metadata": {},
   "source": [
    "---"
   ]
  },
  {
   "cell_type": "markdown",
   "metadata": {},
   "source": [
    "### LightGBM"
   ]
  },
  {
   "cell_type": "markdown",
   "metadata": {},
   "source": [
    "Поменяем тип данных на категориальный в следующих стобцах"
   ]
  },
  {
   "cell_type": "code",
   "execution_count": 42,
   "metadata": {},
   "outputs": [],
   "source": [
    "for col in ['VehicleType', 'Gearbox', 'Model', 'FuelType', 'Brand', 'NotRepaired']:\n",
    "    df_autos_4igbm[col] = df_autos_4igbm[col].astype('category')"
   ]
  },
  {
   "cell_type": "code",
   "execution_count": 43,
   "metadata": {},
   "outputs": [],
   "source": [
    "features_igbm = df_autos_4igbm.drop('Price', axis=1)\n",
    "target_igbm = df_autos_4igbm['Price']\n",
    "\n",
    "features_train_igbm, features_test_igbm, target_train_igbm, target_test_igbm = train_test_split(\n",
    "    features_igbm, target_igbm,  test_size = 0.25, random_state = 12345)"
   ]
  },
  {
   "cell_type": "code",
   "execution_count": 44,
   "metadata": {
    "scrolled": false
   },
   "outputs": [
    {
     "name": "stdout",
     "output_type": "stream",
     "text": [
      "Fitting 5 folds for each of 1 candidates, totalling 5 fits\n",
      "[CV 1/5] END learning_rate=0.1, max_depth=6, n_estimators=500, num_leaves=40; total time=  21.2s\n",
      "[CV 2/5] END learning_rate=0.1, max_depth=6, n_estimators=500, num_leaves=40; total time=  22.6s\n",
      "[CV 3/5] END learning_rate=0.1, max_depth=6, n_estimators=500, num_leaves=40; total time=  21.7s\n",
      "[CV 4/5] END learning_rate=0.1, max_depth=6, n_estimators=500, num_leaves=40; total time=  20.8s\n",
      "[CV 5/5] END learning_rate=0.1, max_depth=6, n_estimators=500, num_leaves=40; total time=  21.2s\n",
      "Оптимальные параметры модели: {'learning_rate': 0.1, 'max_depth': 6, 'n_estimators': 500, 'num_leaves': 40}\n",
      "RMSE: 1297.2416948417645\n",
      "\n",
      "CPU times: user 2min 17s, sys: 669 ms, total: 2min 17s\n",
      "Wall time: 2min 19s\n"
     ]
    }
   ],
   "source": [
    "%%time\n",
    "LGBMR_model = LGBMRegressor(random_state=12345)   \n",
    "# params = {\n",
    "#     'n_estimators' : [100, 200, 500],\n",
    "#     'max_depth' : range(2, 7),\n",
    "#     'num_leaves': [20, 30, 40],\n",
    "#     'learning_rate': [0.03, 0.1, 0.5]\n",
    "# } # Fitting 5 folds for each of 135 candidates, totalling 675 fits\n",
    "# подставлю готовые параметры, т.к. расчт занимает много времени.\n",
    "params = {'learning_rate': [0.1], 'max_depth': [6], 'n_estimators': [500], 'num_leaves': [40]}\n",
    "grid = GridSearchCV(LGBMR_model, params,cv=5, verbose=5, scoring=custom_scorer)\n",
    "grid.fit(features_train_igbm, target_train_igbm)\n",
    "\n",
    "print(f\"Оптимальные параметры модели: {grid.best_params_}\")\n",
    "print(f\"RMSE: {abs(grid.best_score_)}\\n\")"
   ]
  },
  {
   "cell_type": "markdown",
   "metadata": {},
   "source": [
    "Fitting 5 folds for each of 1 candidates, totalling 5 fits\n",
    "\n",
    "> `Оптимальные параметры модели:` {'learning_rate': 0.1, 'max_depth': 6, 'n_estimators': 500, 'num_leaves': 40}  \n",
    "`RMSE:` 1297.2416948417645  \n",
    "`CPU times:` user 12min 47s, sys: 4.21 s, total: 12min 51s  \n",
    "`Wall time:` 12min 57s"
   ]
  },
  {
   "cell_type": "markdown",
   "metadata": {},
   "source": [
    "---"
   ]
  },
  {
   "cell_type": "markdown",
   "metadata": {},
   "source": [
    "Итоги подбора оптимальных параметров, результаты по времени и по метрике `RMSE`:\n",
    "- LinearRegression: \n",
    "    - `2196`\n",
    "    - `~6.47с`\n",
    "- RandomForestRegressor: \n",
    "    - `1356`\n",
    "    - `~2 мин 47с`\n",
    "- XGBRegressor: \n",
    "    - `1328`\n",
    "    - `~7 мин 49с`\n",
    "- LightGBM: \n",
    "    - `1297`\n",
    "    - `~12 мин 57с`\n",
    "\n"
   ]
  },
  {
   "cell_type": "markdown",
   "metadata": {},
   "source": [
    "## Анализ моделей"
   ]
  },
  {
   "cell_type": "markdown",
   "metadata": {},
   "source": [
    "Далее на полученных оптимизированных параметрах обучим эти модели и сделаем прогноз на тестовой выборке.\n",
    "Также на этом этапе оценим скорость работы моделей."
   ]
  },
  {
   "cell_type": "code",
   "execution_count": 45,
   "metadata": {},
   "outputs": [],
   "source": [
    "def rmse_test(model, features_train=features_train, target_train=target_train, features_test=features_test, target_test=target_test):\n",
    "    start_time = datetime.now()\n",
    "    model.fit(features_train, target_train)\n",
    "    end_time = datetime.now()\n",
    "    time_lgbm_fit = end_time - start_time\n",
    "\n",
    "    start_time = datetime.now()\n",
    "    predicted_test = model.predict(features_test)\n",
    "    end_time = datetime.now()\n",
    "    time_lgbm_predict = end_time - start_time\n",
    "    \n",
    "    print(f\"Время обучения модели: {time_lgbm_fit}\")\n",
    "    print(f\"Время предсказания модели: {time_lgbm_predict}\\n\")\n",
    "    return (mean_squared_error(target_test, predicted_test)) ** 0.5"
   ]
  },
  {
   "cell_type": "markdown",
   "metadata": {},
   "source": [
    "### RandomForestRegressor"
   ]
  },
  {
   "cell_type": "code",
   "execution_count": 46,
   "metadata": {
    "scrolled": true
   },
   "outputs": [
    {
     "name": "stdout",
     "output_type": "stream",
     "text": [
      "Время обучения модели: 0:00:55.750802\n",
      "Время предсказания модели: 0:00:01.381764\n",
      "\n",
      "RMSE = 1331.434293106327\n",
      "\n",
      "CPU times: user 56.7 s, sys: 263 ms, total: 57 s\n",
      "Wall time: 57.1 s\n"
     ]
    }
   ],
   "source": [
    "%%time\n",
    "model = RandomForestRegressor(random_state=12345, max_depth=50, n_estimators=40)\n",
    "print(f\"RMSE = {rmse_test(model)}\\n\")"
   ]
  },
  {
   "cell_type": "markdown",
   "metadata": {},
   "source": [
    "> `Время обучения модели:` 0:00:58.259237  \n",
    "`Время предсказания модели:` 0:00:01.306650  \n",
    "`RMSE` = 1331.434293106327  \n",
    "`CPU times:` user 58.5 s, sys: 67.8 ms, total: 58.5 s  \n",
    "`Wall time:` ~ 59.6 s"
   ]
  },
  {
   "cell_type": "markdown",
   "metadata": {},
   "source": [
    "---"
   ]
  },
  {
   "cell_type": "markdown",
   "metadata": {},
   "source": [
    "### XGBRegressor"
   ]
  },
  {
   "cell_type": "code",
   "execution_count": 47,
   "metadata": {},
   "outputs": [
    {
     "name": "stdout",
     "output_type": "stream",
     "text": [
      "Время обучения модели: 0:01:03.386364\n",
      "Время предсказания модели: 0:00:00.260827\n",
      "\n",
      "RMSE = 1318.4601498822767\n",
      "\n",
      "CPU times: user 1min 3s, sys: 130 ms, total: 1min 3s\n",
      "Wall time: 1min 3s\n"
     ]
    }
   ],
   "source": [
    "%%time\n",
    "model = XGBRegressor(random_state=12345, max_depth=12, n_estimators=25)\n",
    "print(f\"RMSE = {rmse_test(model)}\\n\")"
   ]
  },
  {
   "cell_type": "markdown",
   "metadata": {},
   "source": [
    "> `Время обучения модели:` 0:02:07.169478  \n",
    "`Время предсказания модели:` 0:00:00.358144  \n",
    "`RMSE` = 1318.4601498822767  \n",
    "`CPU times:` user 2min 6s, sys: 539 ms, total: 2min 6s  \n",
    "`Wall time:` ~ 2min 7s"
   ]
  },
  {
   "cell_type": "markdown",
   "metadata": {},
   "source": [
    "---"
   ]
  },
  {
   "cell_type": "markdown",
   "metadata": {},
   "source": [
    "### LGBMRegressor"
   ]
  },
  {
   "cell_type": "code",
   "execution_count": 48,
   "metadata": {},
   "outputs": [
    {
     "name": "stdout",
     "output_type": "stream",
     "text": [
      "Время обучения модели: 0:00:19.102871\n",
      "Время предсказания модели: 0:00:02.809575\n",
      "\n",
      "RMSE = 1341.1278930018268\n",
      "\n",
      "CPU times: user 21.5 s, sys: 131 ms, total: 21.7 s\n",
      "Wall time: 21.9 s\n"
     ]
    }
   ],
   "source": [
    "%%time\n",
    "model = LGBMRegressor(learning_rate=0.1, max_depth=6, n_estimators=500, num_leaves=40)\n",
    "print(f\"RMSE = {rmse_test(model)}\\n\")"
   ]
  },
  {
   "cell_type": "markdown",
   "metadata": {},
   "source": [
    "> `Время обучения модели:` 0:02:09.105082  \n",
    "`Время предсказания модели:` 0:00:02.888418  \n",
    "`RMSE` = 1341.1278930018268  \n",
    "`CPU times:` user 2min 10s, sys: 837 ms, total: 2min 11s  \n",
    "`Wall time:` ~ 2min 11s"
   ]
  },
  {
   "cell_type": "markdown",
   "metadata": {},
   "source": [
    "---"
   ]
  },
  {
   "cell_type": "markdown",
   "metadata": {},
   "source": [
    "Еще попробуем отдельно на копии датафрейма с категориалными колонками"
   ]
  },
  {
   "cell_type": "code",
   "execution_count": 49,
   "metadata": {},
   "outputs": [],
   "source": [
    "def rmse_test_4LGBM(model, features_train=features_train_igbm, target_train=target_train_igbm, features_test=features_test_igbm, target_test=target_test_igbm):\n",
    "    start_time = datetime.now()\n",
    "    model.fit(features_train, target_train)\n",
    "    end_time = datetime.now()\n",
    "    time_lgbm_fit = end_time - start_time\n",
    "\n",
    "    start_time = datetime.now()\n",
    "    predicted_test = model.predict(features_test)\n",
    "    end_time = datetime.now()\n",
    "    time_lgbm_predict = end_time - start_time\n",
    "    \n",
    "    print(f\"Время обучения модели: {time_lgbm_fit}\")\n",
    "    print(f\"Время предсказания модели: {time_lgbm_predict}\\n\")\n",
    "    return (mean_squared_error(target_test, predicted_test)) ** 0.5"
   ]
  },
  {
   "cell_type": "code",
   "execution_count": 50,
   "metadata": {},
   "outputs": [
    {
     "name": "stdout",
     "output_type": "stream",
     "text": [
      "Время обучения модели: 0:00:26.295875\n",
      "Время предсказания модели: 0:00:05.400205\n",
      "\n",
      "RMSE = 1309.5958563496845\n",
      "\n",
      "CPU times: user 31 s, sys: 171 ms, total: 31.1 s\n",
      "Wall time: 31.7 s\n"
     ]
    }
   ],
   "source": [
    "%%time\n",
    "model = LGBMRegressor(learning_rate=0.1, max_depth=6, n_estimators=500, num_leaves=40)\n",
    "print(f\"RMSE = {rmse_test_4LGBM(model)}\\n\")"
   ]
  },
  {
   "cell_type": "markdown",
   "metadata": {},
   "source": [
    "> `Время обучения модели:` 0:02:43.313087  \n",
    "`Время предсказания модели:` 0:00:05.224299  \n",
    "`RMSE` = 1309.5958563496845  \n",
    "`CPU times:` user 2min 46s, sys: 817 ms, total: 2min 47s  \n",
    "`Wall time:` 2min 48s"
   ]
  },
  {
   "cell_type": "markdown",
   "metadata": {},
   "source": [
    "---"
   ]
  },
  {
   "cell_type": "markdown",
   "metadata": {},
   "source": [
    "Итоги результатов аналза моделей по времени и по метрике `RMSE`:\n",
    "- RandomForestRegressor: \n",
    "    > `Время обучения модели:` 0:00:58.259237  \n",
    "    `Время предсказания модели:` 0:00:01.306650  \n",
    "    `RMSE` = 1331.434293106327  \n",
    "    `CPU times:` user 58.5 s, sys: 67.8 ms, total: 58.5 s  \n",
    "    `Wall time:` ~ 59.6 s\n",
    "- XGBRegressor: \n",
    "    > `Время обучения модели:` 0:02:07.169478  \n",
    "    `Время предсказания модели:` 0:00:00.358144  \n",
    "    `RMSE` = 1318.4601498822767  \n",
    "    `CPU times:` user 2min 6s, sys: 539 ms, total: 2min 6s  \n",
    "    `Wall time:` ~ 2min 7s\n",
    "- LightGBM `|` (LightGBM на копии): \n",
    "    > `Время обучения модели:` 0:02:09.105082 `|` (0:02:43.313087)  \n",
    "    `Время предсказания модели:` 0:00:02.888418 `|` (0:00:05.224299)  \n",
    "    `RMSE` = 1341.1278930018268 `|` (1309.5958563496845)  \n",
    "    `CPU times:` user 2min 10s, sys: 837 ms, total: 2min 11s `|` (user 2min 46s, sys: 817 ms, total: 2min 47s)  \n",
    "    `Wall time:` ~ 2min 11s `|` (2min 48s)\n",
    "\n"
   ]
  },
  {
   "cell_type": "markdown",
   "metadata": {},
   "source": [
    "## Общий вывод"
   ]
  },
  {
   "cell_type": "markdown",
   "metadata": {},
   "source": [
    "За время работы над проектом были заполнены пропуски, обработаны аномальные выбросы и были оценены различные модели с позиции скорости их обучения и точности предсказаний стоимости автомобиля\n",
    "\n",
    "Эксперименты показывают, что модели могут требовать много времени на подборку оптимальных параметров, а резульаты вычислений на обучающей и тестовой выборке могут отличаться, как по качеству так и по скорости исполнения."
   ]
  },
  {
   "cell_type": "markdown",
   "metadata": {},
   "source": [
    "❕По скорости вычислений `RandomForestRegressor` справилась быстрее за **~1 минуту**, т.к. для остальных потребовалось более двух минут.\n",
    "Точность `RMSE` выше у `XGBRegressor` модели **1318**, но у `LightGBM` на копии датафрейма с категориалными колонками `RMSE` составляет **1309** но дольше всех заняло времени."
   ]
  }
 ],
 "metadata": {
  "ExecuteTimeLog": [
   {
    "duration": 556,
    "start_time": "2022-03-16T11:03:05.203Z"
   },
   {
    "duration": 949,
    "start_time": "2022-03-16T11:03:07.656Z"
   },
   {
    "duration": 18,
    "start_time": "2022-03-16T11:03:10.631Z"
   },
   {
    "duration": 153,
    "start_time": "2022-03-16T11:03:54.237Z"
   },
   {
    "duration": 270,
    "start_time": "2022-03-16T11:48:30.097Z"
   },
   {
    "duration": 414,
    "start_time": "2022-03-16T11:48:39.749Z"
   },
   {
    "duration": 453,
    "start_time": "2022-03-16T13:05:01.139Z"
   },
   {
    "duration": 421,
    "start_time": "2022-03-16T13:05:14.231Z"
   },
   {
    "duration": 3,
    "start_time": "2022-03-16T13:09:18.754Z"
   },
   {
    "duration": 1215,
    "start_time": "2022-03-16T13:09:18.759Z"
   },
   {
    "duration": 19,
    "start_time": "2022-03-16T13:09:19.977Z"
   },
   {
    "duration": 215,
    "start_time": "2022-03-16T13:09:19.998Z"
   },
   {
    "duration": 648,
    "start_time": "2022-03-16T13:09:20.215Z"
   },
   {
    "duration": 687,
    "start_time": "2022-03-16T13:09:23.163Z"
   },
   {
    "duration": 45,
    "start_time": "2022-03-18T07:29:16.457Z"
   },
   {
    "duration": 351,
    "start_time": "2022-03-18T07:29:22.797Z"
   },
   {
    "duration": 1063,
    "start_time": "2022-03-18T07:29:23.150Z"
   },
   {
    "duration": 18,
    "start_time": "2022-03-18T07:29:24.215Z"
   },
   {
    "duration": 140,
    "start_time": "2022-03-18T07:29:24.235Z"
   },
   {
    "duration": 422,
    "start_time": "2022-03-18T07:29:24.376Z"
   },
   {
    "duration": 470,
    "start_time": "2022-03-18T07:29:24.799Z"
   },
   {
    "duration": 118,
    "start_time": "2022-03-18T07:29:41.948Z"
   },
   {
    "duration": 36,
    "start_time": "2022-03-18T08:00:58.312Z"
   },
   {
    "duration": 80,
    "start_time": "2022-03-18T08:01:00.292Z"
   },
   {
    "duration": 145,
    "start_time": "2022-03-18T08:03:11.497Z"
   },
   {
    "duration": 33,
    "start_time": "2022-03-18T08:09:11.694Z"
   },
   {
    "duration": 37,
    "start_time": "2022-03-18T08:10:48.404Z"
   },
   {
    "duration": 36,
    "start_time": "2022-03-18T08:10:51.880Z"
   },
   {
    "duration": 36,
    "start_time": "2022-03-18T08:11:01.842Z"
   },
   {
    "duration": 33,
    "start_time": "2022-03-18T08:11:06.891Z"
   },
   {
    "duration": 11,
    "start_time": "2022-03-18T08:17:28.629Z"
   },
   {
    "duration": 14,
    "start_time": "2022-03-18T08:39:25.464Z"
   },
   {
    "duration": 10,
    "start_time": "2022-03-18T08:39:51.069Z"
   },
   {
    "duration": 26,
    "start_time": "2022-03-18T09:12:15.675Z"
   },
   {
    "duration": 28,
    "start_time": "2022-03-18T09:12:21.946Z"
   },
   {
    "duration": 1570,
    "start_time": "2022-03-18T09:12:35.786Z"
   },
   {
    "duration": 28,
    "start_time": "2022-03-18T09:12:45.418Z"
   },
   {
    "duration": 21,
    "start_time": "2022-03-18T09:21:43.169Z"
   },
   {
    "duration": 1747,
    "start_time": "2022-03-18T09:21:50.843Z"
   },
   {
    "duration": 1412,
    "start_time": "2022-03-18T09:22:09.236Z"
   },
   {
    "duration": 1819,
    "start_time": "2022-03-18T09:22:36.312Z"
   },
   {
    "duration": 1712,
    "start_time": "2022-03-18T09:22:44.299Z"
   },
   {
    "duration": 0,
    "start_time": "2022-03-18T09:22:46.012Z"
   },
   {
    "duration": 2,
    "start_time": "2022-03-18T09:23:00.177Z"
   },
   {
    "duration": 797,
    "start_time": "2022-03-18T09:23:00.188Z"
   },
   {
    "duration": 13,
    "start_time": "2022-03-18T09:23:00.987Z"
   },
   {
    "duration": 143,
    "start_time": "2022-03-18T09:23:01.001Z"
   },
   {
    "duration": 387,
    "start_time": "2022-03-18T09:23:01.146Z"
   },
   {
    "duration": 400,
    "start_time": "2022-03-18T09:23:01.536Z"
   },
   {
    "duration": 30,
    "start_time": "2022-03-18T09:23:01.938Z"
   },
   {
    "duration": 93,
    "start_time": "2022-03-18T09:23:01.969Z"
   },
   {
    "duration": 10,
    "start_time": "2022-03-18T09:23:02.064Z"
   },
   {
    "duration": 10,
    "start_time": "2022-03-18T09:23:05.280Z"
   },
   {
    "duration": 2,
    "start_time": "2022-03-18T09:23:07.121Z"
   },
   {
    "duration": 17,
    "start_time": "2022-03-18T09:23:09.802Z"
   },
   {
    "duration": 1603,
    "start_time": "2022-03-18T09:23:11.235Z"
   },
   {
    "duration": 3221,
    "start_time": "2022-03-18T09:23:24.184Z"
   },
   {
    "duration": 3,
    "start_time": "2022-03-18T09:31:21.817Z"
   },
   {
    "duration": 709,
    "start_time": "2022-03-18T09:31:21.830Z"
   },
   {
    "duration": 13,
    "start_time": "2022-03-18T09:31:22.543Z"
   },
   {
    "duration": 136,
    "start_time": "2022-03-18T09:31:22.559Z"
   },
   {
    "duration": 371,
    "start_time": "2022-03-18T09:31:22.697Z"
   },
   {
    "duration": 397,
    "start_time": "2022-03-18T09:31:23.070Z"
   },
   {
    "duration": 28,
    "start_time": "2022-03-18T09:31:23.469Z"
   },
   {
    "duration": 91,
    "start_time": "2022-03-18T09:31:23.499Z"
   },
   {
    "duration": 10,
    "start_time": "2022-03-18T09:31:23.592Z"
   },
   {
    "duration": 49,
    "start_time": "2022-03-18T09:31:23.603Z"
   },
   {
    "duration": 17,
    "start_time": "2022-03-18T09:31:30.083Z"
   },
   {
    "duration": 1689,
    "start_time": "2022-03-18T09:31:48.904Z"
   },
   {
    "duration": 1565,
    "start_time": "2022-03-18T09:31:56.470Z"
   },
   {
    "duration": 1720,
    "start_time": "2022-03-18T09:32:21.114Z"
   },
   {
    "duration": 376,
    "start_time": "2022-03-18T09:32:49.558Z"
   },
   {
    "duration": 757,
    "start_time": "2022-03-18T09:32:49.936Z"
   },
   {
    "duration": 19,
    "start_time": "2022-03-18T09:32:50.695Z"
   },
   {
    "duration": 142,
    "start_time": "2022-03-18T09:32:50.716Z"
   },
   {
    "duration": 429,
    "start_time": "2022-03-18T09:32:50.861Z"
   },
   {
    "duration": 499,
    "start_time": "2022-03-18T09:32:51.291Z"
   },
   {
    "duration": 48,
    "start_time": "2022-03-18T09:32:51.792Z"
   },
   {
    "duration": 91,
    "start_time": "2022-03-18T09:32:51.842Z"
   },
   {
    "duration": 11,
    "start_time": "2022-03-18T09:32:51.935Z"
   },
   {
    "duration": 70,
    "start_time": "2022-03-18T09:32:51.948Z"
   },
   {
    "duration": 0,
    "start_time": "2022-03-18T09:32:52.033Z"
   },
   {
    "duration": 34,
    "start_time": "2022-03-18T09:32:57.999Z"
   },
   {
    "duration": 37,
    "start_time": "2022-03-18T09:33:04.444Z"
   },
   {
    "duration": 29,
    "start_time": "2022-03-18T09:33:08.312Z"
   },
   {
    "duration": 1513,
    "start_time": "2022-03-18T09:33:10.282Z"
   },
   {
    "duration": 1625,
    "start_time": "2022-03-18T09:33:29.027Z"
   },
   {
    "duration": 3,
    "start_time": "2022-03-18T09:33:52.634Z"
   },
   {
    "duration": 789,
    "start_time": "2022-03-18T09:33:52.639Z"
   },
   {
    "duration": 13,
    "start_time": "2022-03-18T09:33:53.429Z"
   },
   {
    "duration": 135,
    "start_time": "2022-03-18T09:33:53.444Z"
   },
   {
    "duration": 381,
    "start_time": "2022-03-18T09:33:53.580Z"
   },
   {
    "duration": 420,
    "start_time": "2022-03-18T09:33:53.962Z"
   },
   {
    "duration": 29,
    "start_time": "2022-03-18T09:33:54.383Z"
   },
   {
    "duration": 92,
    "start_time": "2022-03-18T09:33:54.414Z"
   },
   {
    "duration": 10,
    "start_time": "2022-03-18T09:33:54.508Z"
   },
   {
    "duration": 45,
    "start_time": "2022-03-18T09:33:54.519Z"
   },
   {
    "duration": 19,
    "start_time": "2022-03-18T09:33:54.566Z"
   },
   {
    "duration": 1567,
    "start_time": "2022-03-18T09:33:56.357Z"
   },
   {
    "duration": 0,
    "start_time": "2022-03-18T09:33:57.926Z"
   },
   {
    "duration": 377,
    "start_time": "2022-03-18T09:34:39.096Z"
   },
   {
    "duration": 808,
    "start_time": "2022-03-18T09:34:39.475Z"
   },
   {
    "duration": 21,
    "start_time": "2022-03-18T09:34:40.285Z"
   },
   {
    "duration": 151,
    "start_time": "2022-03-18T09:34:40.308Z"
   },
   {
    "duration": 424,
    "start_time": "2022-03-18T09:34:40.462Z"
   },
   {
    "duration": 477,
    "start_time": "2022-03-18T09:34:40.888Z"
   },
   {
    "duration": 37,
    "start_time": "2022-03-18T09:34:41.367Z"
   },
   {
    "duration": 90,
    "start_time": "2022-03-18T09:34:41.406Z"
   },
   {
    "duration": 11,
    "start_time": "2022-03-18T09:34:41.497Z"
   },
   {
    "duration": 37,
    "start_time": "2022-03-18T09:34:47.095Z"
   },
   {
    "duration": 18,
    "start_time": "2022-03-18T09:34:56.231Z"
   },
   {
    "duration": 1560,
    "start_time": "2022-03-18T09:35:36.488Z"
   },
   {
    "duration": 3,
    "start_time": "2022-03-18T09:35:43.957Z"
   },
   {
    "duration": 817,
    "start_time": "2022-03-18T09:35:43.961Z"
   },
   {
    "duration": 13,
    "start_time": "2022-03-18T09:35:44.780Z"
   },
   {
    "duration": 141,
    "start_time": "2022-03-18T09:35:44.795Z"
   },
   {
    "duration": 418,
    "start_time": "2022-03-18T09:35:44.938Z"
   },
   {
    "duration": 442,
    "start_time": "2022-03-18T09:35:45.357Z"
   },
   {
    "duration": 43,
    "start_time": "2022-03-18T09:35:45.801Z"
   },
   {
    "duration": 78,
    "start_time": "2022-03-18T09:35:45.846Z"
   },
   {
    "duration": 10,
    "start_time": "2022-03-18T09:35:45.932Z"
   },
   {
    "duration": 35,
    "start_time": "2022-03-18T09:35:45.944Z"
   },
   {
    "duration": 20,
    "start_time": "2022-03-18T09:35:49.697Z"
   },
   {
    "duration": 34,
    "start_time": "2022-03-18T09:35:51.338Z"
   },
   {
    "duration": 3,
    "start_time": "2022-03-18T09:38:26.867Z"
   },
   {
    "duration": 816,
    "start_time": "2022-03-18T09:38:26.872Z"
   },
   {
    "duration": 20,
    "start_time": "2022-03-18T09:38:27.690Z"
   },
   {
    "duration": 144,
    "start_time": "2022-03-18T09:38:27.713Z"
   },
   {
    "duration": 463,
    "start_time": "2022-03-18T09:38:27.859Z"
   },
   {
    "duration": 469,
    "start_time": "2022-03-18T09:38:28.324Z"
   },
   {
    "duration": 41,
    "start_time": "2022-03-18T09:38:28.794Z"
   },
   {
    "duration": 100,
    "start_time": "2022-03-18T09:38:28.837Z"
   },
   {
    "duration": 13,
    "start_time": "2022-03-18T09:38:28.941Z"
   },
   {
    "duration": 37,
    "start_time": "2022-03-18T09:38:28.955Z"
   },
   {
    "duration": 20,
    "start_time": "2022-03-18T09:38:35.623Z"
   },
   {
    "duration": 61,
    "start_time": "2022-03-18T09:38:37.262Z"
   },
   {
    "duration": 39,
    "start_time": "2022-03-18T09:39:35.352Z"
   },
   {
    "duration": 35,
    "start_time": "2022-03-18T10:33:37.235Z"
   },
   {
    "duration": 35,
    "start_time": "2022-03-18T11:36:03.575Z"
   },
   {
    "duration": 3,
    "start_time": "2022-03-18T11:39:14.721Z"
   },
   {
    "duration": 772,
    "start_time": "2022-03-18T11:39:14.726Z"
   },
   {
    "duration": 13,
    "start_time": "2022-03-18T11:39:15.500Z"
   },
   {
    "duration": 133,
    "start_time": "2022-03-18T11:39:15.516Z"
   },
   {
    "duration": 389,
    "start_time": "2022-03-18T11:39:15.651Z"
   },
   {
    "duration": 419,
    "start_time": "2022-03-18T11:39:16.041Z"
   },
   {
    "duration": 30,
    "start_time": "2022-03-18T11:39:16.461Z"
   },
   {
    "duration": 88,
    "start_time": "2022-03-18T11:39:16.493Z"
   },
   {
    "duration": 10,
    "start_time": "2022-03-18T11:39:16.583Z"
   },
   {
    "duration": 53,
    "start_time": "2022-03-18T11:39:16.595Z"
   },
   {
    "duration": 32,
    "start_time": "2022-03-18T11:39:20.895Z"
   },
   {
    "duration": 43,
    "start_time": "2022-03-18T11:41:54.939Z"
   },
   {
    "duration": 21,
    "start_time": "2022-03-18T11:43:48.639Z"
   },
   {
    "duration": 35,
    "start_time": "2022-03-18T11:43:49.961Z"
   },
   {
    "duration": 35,
    "start_time": "2022-03-18T11:49:34.514Z"
   },
   {
    "duration": 37,
    "start_time": "2022-03-18T11:50:37.740Z"
   },
   {
    "duration": 41,
    "start_time": "2022-03-18T11:50:52.047Z"
   },
   {
    "duration": 34,
    "start_time": "2022-03-18T11:50:54.789Z"
   },
   {
    "duration": 20,
    "start_time": "2022-03-18T11:54:28.831Z"
   },
   {
    "duration": 20,
    "start_time": "2022-03-18T11:57:26.629Z"
   },
   {
    "duration": 21,
    "start_time": "2022-03-18T11:57:51.130Z"
   },
   {
    "duration": 21,
    "start_time": "2022-03-18T12:00:40.228Z"
   },
   {
    "duration": 122,
    "start_time": "2022-03-18T12:01:01.527Z"
   },
   {
    "duration": 115,
    "start_time": "2022-03-18T12:06:55.853Z"
   },
   {
    "duration": 6,
    "start_time": "2022-03-18T12:07:04.893Z"
   },
   {
    "duration": 29,
    "start_time": "2022-03-18T12:08:20.949Z"
   },
   {
    "duration": 104,
    "start_time": "2022-03-18T12:12:51.347Z"
   },
   {
    "duration": 113,
    "start_time": "2022-03-18T12:13:06.802Z"
   },
   {
    "duration": 5,
    "start_time": "2022-03-18T12:13:29.838Z"
   },
   {
    "duration": 29,
    "start_time": "2022-03-18T12:13:33.057Z"
   },
   {
    "duration": 6,
    "start_time": "2022-03-18T12:14:04.128Z"
   },
   {
    "duration": 30,
    "start_time": "2022-03-18T12:14:07.810Z"
   },
   {
    "duration": 7,
    "start_time": "2022-03-18T12:56:13.891Z"
   },
   {
    "duration": 10,
    "start_time": "2022-03-18T12:56:24.631Z"
   },
   {
    "duration": 9,
    "start_time": "2022-03-18T12:56:28.018Z"
   },
   {
    "duration": 1002,
    "start_time": "2022-03-18T12:56:33.593Z"
   },
   {
    "duration": 18,
    "start_time": "2022-03-18T12:56:50.885Z"
   },
   {
    "duration": 140,
    "start_time": "2022-03-18T12:57:13.672Z"
   },
   {
    "duration": 9,
    "start_time": "2022-03-18T12:58:57.255Z"
   },
   {
    "duration": 456,
    "start_time": "2022-03-18T12:59:52.862Z"
   },
   {
    "duration": 34,
    "start_time": "2022-03-18T12:59:57.736Z"
   },
   {
    "duration": 270,
    "start_time": "2022-03-18T13:00:29.324Z"
   },
   {
    "duration": 305,
    "start_time": "2022-03-18T13:01:03.619Z"
   },
   {
    "duration": 269,
    "start_time": "2022-03-18T13:01:28.896Z"
   },
   {
    "duration": 2,
    "start_time": "2022-03-18T13:44:13.621Z"
   },
   {
    "duration": 27,
    "start_time": "2022-03-18T13:44:36.830Z"
   },
   {
    "duration": 29,
    "start_time": "2022-03-18T13:46:06.658Z"
   },
   {
    "duration": 188,
    "start_time": "2022-03-18T13:51:55.907Z"
   },
   {
    "duration": 137,
    "start_time": "2022-03-18T13:52:05.801Z"
   },
   {
    "duration": 3,
    "start_time": "2022-03-18T13:52:28.057Z"
   },
   {
    "duration": 763,
    "start_time": "2022-03-18T13:52:28.062Z"
   },
   {
    "duration": 13,
    "start_time": "2022-03-18T13:52:28.827Z"
   },
   {
    "duration": 207,
    "start_time": "2022-03-18T13:52:28.843Z"
   },
   {
    "duration": 386,
    "start_time": "2022-03-18T13:52:29.052Z"
   },
   {
    "duration": 397,
    "start_time": "2022-03-18T13:52:29.440Z"
   },
   {
    "duration": 32,
    "start_time": "2022-03-18T13:52:29.839Z"
   },
   {
    "duration": 95,
    "start_time": "2022-03-18T13:52:29.873Z"
   },
   {
    "duration": 11,
    "start_time": "2022-03-18T13:52:29.970Z"
   },
   {
    "duration": 42,
    "start_time": "2022-03-18T13:52:29.982Z"
   },
   {
    "duration": 35,
    "start_time": "2022-03-18T13:52:30.033Z"
   },
   {
    "duration": 20,
    "start_time": "2022-03-18T13:52:30.069Z"
   },
   {
    "duration": 51,
    "start_time": "2022-03-18T13:52:30.090Z"
   },
   {
    "duration": 39,
    "start_time": "2022-03-18T13:52:30.143Z"
   },
   {
    "duration": 20,
    "start_time": "2022-03-18T13:52:30.184Z"
   },
   {
    "duration": 48,
    "start_time": "2022-03-18T13:52:30.206Z"
   },
   {
    "duration": 22,
    "start_time": "2022-03-18T13:52:30.256Z"
   },
   {
    "duration": 39,
    "start_time": "2022-03-18T13:52:30.279Z"
   },
   {
    "duration": 34,
    "start_time": "2022-03-18T13:52:30.320Z"
   },
   {
    "duration": 40,
    "start_time": "2022-03-18T13:52:30.355Z"
   },
   {
    "duration": 23,
    "start_time": "2022-03-18T13:52:30.396Z"
   },
   {
    "duration": 86,
    "start_time": "2022-03-18T13:52:30.421Z"
   },
   {
    "duration": 6,
    "start_time": "2022-03-18T13:52:30.508Z"
   },
   {
    "duration": 43,
    "start_time": "2022-03-18T13:52:30.516Z"
   },
   {
    "duration": 10,
    "start_time": "2022-03-18T13:52:35.491Z"
   },
   {
    "duration": 29,
    "start_time": "2022-03-18T13:52:43.256Z"
   },
   {
    "duration": 9,
    "start_time": "2022-03-18T13:52:49.261Z"
   },
   {
    "duration": 160,
    "start_time": "2022-03-18T13:53:02.761Z"
   },
   {
    "duration": 128,
    "start_time": "2022-03-18T13:53:08.831Z"
   },
   {
    "duration": 60,
    "start_time": "2022-03-18T13:54:01.098Z"
   },
   {
    "duration": 3,
    "start_time": "2022-03-18T13:54:12.781Z"
   },
   {
    "duration": 757,
    "start_time": "2022-03-18T13:54:12.786Z"
   },
   {
    "duration": 13,
    "start_time": "2022-03-18T13:54:13.545Z"
   },
   {
    "duration": 134,
    "start_time": "2022-03-18T13:54:13.560Z"
   },
   {
    "duration": 363,
    "start_time": "2022-03-18T13:54:13.696Z"
   },
   {
    "duration": 392,
    "start_time": "2022-03-18T13:54:14.061Z"
   },
   {
    "duration": 28,
    "start_time": "2022-03-18T13:54:14.455Z"
   },
   {
    "duration": 90,
    "start_time": "2022-03-18T13:54:14.484Z"
   },
   {
    "duration": 10,
    "start_time": "2022-03-18T13:54:14.576Z"
   },
   {
    "duration": 51,
    "start_time": "2022-03-18T13:54:14.588Z"
   },
   {
    "duration": 32,
    "start_time": "2022-03-18T13:54:14.641Z"
   },
   {
    "duration": 19,
    "start_time": "2022-03-18T13:54:14.675Z"
   },
   {
    "duration": 54,
    "start_time": "2022-03-18T13:54:14.696Z"
   },
   {
    "duration": 36,
    "start_time": "2022-03-18T13:54:14.752Z"
   },
   {
    "duration": 21,
    "start_time": "2022-03-18T13:54:14.790Z"
   },
   {
    "duration": 55,
    "start_time": "2022-03-18T13:54:14.813Z"
   },
   {
    "duration": 20,
    "start_time": "2022-03-18T13:54:14.870Z"
   },
   {
    "duration": 47,
    "start_time": "2022-03-18T13:54:14.891Z"
   },
   {
    "duration": 26,
    "start_time": "2022-03-18T13:54:14.941Z"
   },
   {
    "duration": 36,
    "start_time": "2022-03-18T13:54:14.969Z"
   },
   {
    "duration": 43,
    "start_time": "2022-03-18T13:54:15.006Z"
   },
   {
    "duration": 89,
    "start_time": "2022-03-18T13:54:15.051Z"
   },
   {
    "duration": 6,
    "start_time": "2022-03-18T13:54:15.141Z"
   },
   {
    "duration": 37,
    "start_time": "2022-03-18T13:54:15.149Z"
   },
   {
    "duration": 57,
    "start_time": "2022-03-18T13:54:19.893Z"
   },
   {
    "duration": 62,
    "start_time": "2022-03-18T13:54:45.436Z"
   },
   {
    "duration": 25,
    "start_time": "2022-03-18T13:55:02.032Z"
   },
   {
    "duration": 27,
    "start_time": "2022-03-18T13:55:04.192Z"
   },
   {
    "duration": 30,
    "start_time": "2022-03-18T14:00:02.856Z"
   },
   {
    "duration": 73,
    "start_time": "2022-03-18T14:02:54.280Z"
   },
   {
    "duration": 25,
    "start_time": "2022-03-18T14:03:56.666Z"
   },
   {
    "duration": 185,
    "start_time": "2022-03-18T14:10:32.687Z"
   },
   {
    "duration": 190,
    "start_time": "2022-03-18T14:11:00.779Z"
   },
   {
    "duration": 175,
    "start_time": "2022-03-18T14:11:22.641Z"
   },
   {
    "duration": 4,
    "start_time": "2022-03-18T14:11:40.308Z"
   },
   {
    "duration": 749,
    "start_time": "2022-03-18T14:11:40.314Z"
   },
   {
    "duration": 13,
    "start_time": "2022-03-18T14:11:41.065Z"
   },
   {
    "duration": 140,
    "start_time": "2022-03-18T14:11:41.080Z"
   },
   {
    "duration": 380,
    "start_time": "2022-03-18T14:11:41.222Z"
   },
   {
    "duration": 400,
    "start_time": "2022-03-18T14:11:41.603Z"
   },
   {
    "duration": 35,
    "start_time": "2022-03-18T14:11:42.005Z"
   },
   {
    "duration": 81,
    "start_time": "2022-03-18T14:11:42.041Z"
   },
   {
    "duration": 10,
    "start_time": "2022-03-18T14:11:42.134Z"
   },
   {
    "duration": 36,
    "start_time": "2022-03-18T14:11:42.146Z"
   },
   {
    "duration": 54,
    "start_time": "2022-03-18T14:11:42.184Z"
   },
   {
    "duration": 21,
    "start_time": "2022-03-18T14:11:42.240Z"
   },
   {
    "duration": 34,
    "start_time": "2022-03-18T14:11:42.263Z"
   },
   {
    "duration": 56,
    "start_time": "2022-03-18T14:11:42.298Z"
   },
   {
    "duration": 20,
    "start_time": "2022-03-18T14:11:42.356Z"
   },
   {
    "duration": 55,
    "start_time": "2022-03-18T14:11:42.378Z"
   },
   {
    "duration": 20,
    "start_time": "2022-03-18T14:11:42.435Z"
   },
   {
    "duration": 34,
    "start_time": "2022-03-18T14:11:42.457Z"
   },
   {
    "duration": 19,
    "start_time": "2022-03-18T14:11:42.493Z"
   },
   {
    "duration": 33,
    "start_time": "2022-03-18T14:11:42.532Z"
   },
   {
    "duration": 19,
    "start_time": "2022-03-18T14:11:42.567Z"
   },
   {
    "duration": 93,
    "start_time": "2022-03-18T14:11:42.588Z"
   },
   {
    "duration": 6,
    "start_time": "2022-03-18T14:11:42.683Z"
   },
   {
    "duration": 46,
    "start_time": "2022-03-18T14:11:42.691Z"
   },
   {
    "duration": 22,
    "start_time": "2022-03-18T14:11:42.739Z"
   },
   {
    "duration": 24,
    "start_time": "2022-03-18T14:11:42.763Z"
   },
   {
    "duration": 24,
    "start_time": "2022-03-18T14:11:44.712Z"
   },
   {
    "duration": 173,
    "start_time": "2022-03-18T14:11:46.638Z"
   },
   {
    "duration": 30,
    "start_time": "2022-03-18T14:12:48.358Z"
   },
   {
    "duration": 25,
    "start_time": "2022-03-18T14:12:51.786Z"
   },
   {
    "duration": 73,
    "start_time": "2022-03-18T14:12:54.177Z"
   },
   {
    "duration": 178,
    "start_time": "2022-03-18T14:13:36.343Z"
   },
   {
    "duration": 179,
    "start_time": "2022-03-18T14:14:14.154Z"
   },
   {
    "duration": 3,
    "start_time": "2022-03-18T14:14:28.771Z"
   },
   {
    "duration": 763,
    "start_time": "2022-03-18T14:14:28.776Z"
   },
   {
    "duration": 13,
    "start_time": "2022-03-18T14:14:29.541Z"
   },
   {
    "duration": 136,
    "start_time": "2022-03-18T14:14:29.556Z"
   },
   {
    "duration": 380,
    "start_time": "2022-03-18T14:14:29.693Z"
   },
   {
    "duration": 413,
    "start_time": "2022-03-18T14:14:30.075Z"
   },
   {
    "duration": 28,
    "start_time": "2022-03-18T14:14:30.489Z"
   },
   {
    "duration": 87,
    "start_time": "2022-03-18T14:14:30.519Z"
   },
   {
    "duration": 25,
    "start_time": "2022-03-18T14:14:30.608Z"
   },
   {
    "duration": 34,
    "start_time": "2022-03-18T14:14:30.635Z"
   },
   {
    "duration": 37,
    "start_time": "2022-03-18T14:14:30.671Z"
   },
   {
    "duration": 31,
    "start_time": "2022-03-18T14:14:30.710Z"
   },
   {
    "duration": 42,
    "start_time": "2022-03-18T14:14:30.743Z"
   },
   {
    "duration": 47,
    "start_time": "2022-03-18T14:14:30.786Z"
   },
   {
    "duration": 25,
    "start_time": "2022-03-18T14:14:30.834Z"
   },
   {
    "duration": 36,
    "start_time": "2022-03-18T14:14:30.861Z"
   },
   {
    "duration": 37,
    "start_time": "2022-03-18T14:14:30.899Z"
   },
   {
    "duration": 37,
    "start_time": "2022-03-18T14:14:30.938Z"
   },
   {
    "duration": 20,
    "start_time": "2022-03-18T14:14:30.977Z"
   },
   {
    "duration": 57,
    "start_time": "2022-03-18T14:14:30.999Z"
   },
   {
    "duration": 23,
    "start_time": "2022-03-18T14:14:31.058Z"
   },
   {
    "duration": 99,
    "start_time": "2022-03-18T14:14:31.083Z"
   },
   {
    "duration": 6,
    "start_time": "2022-03-18T14:14:31.183Z"
   },
   {
    "duration": 41,
    "start_time": "2022-03-18T14:14:31.192Z"
   },
   {
    "duration": 192,
    "start_time": "2022-03-18T14:14:33.931Z"
   },
   {
    "duration": 193,
    "start_time": "2022-03-18T14:16:02.026Z"
   },
   {
    "duration": 298,
    "start_time": "2022-03-18T14:16:28.954Z"
   },
   {
    "duration": 184,
    "start_time": "2022-03-18T14:16:41.785Z"
   },
   {
    "duration": 144,
    "start_time": "2022-03-18T14:16:47.535Z"
   },
   {
    "duration": 181,
    "start_time": "2022-03-18T14:16:53.245Z"
   },
   {
    "duration": 24,
    "start_time": "2022-03-18T14:25:42.807Z"
   },
   {
    "duration": 78,
    "start_time": "2022-03-18T14:25:46.381Z"
   },
   {
    "duration": 1120,
    "start_time": "2022-03-18T14:26:12.793Z"
   },
   {
    "duration": 808,
    "start_time": "2022-03-18T14:26:13.915Z"
   },
   {
    "duration": 23,
    "start_time": "2022-03-18T14:26:14.724Z"
   },
   {
    "duration": 141,
    "start_time": "2022-03-18T14:26:14.750Z"
   },
   {
    "duration": 465,
    "start_time": "2022-03-18T14:26:14.893Z"
   },
   {
    "duration": 503,
    "start_time": "2022-03-18T14:26:15.359Z"
   },
   {
    "duration": 41,
    "start_time": "2022-03-18T14:26:15.863Z"
   },
   {
    "duration": 92,
    "start_time": "2022-03-18T14:26:15.905Z"
   },
   {
    "duration": 10,
    "start_time": "2022-03-18T14:26:15.999Z"
   },
   {
    "duration": 55,
    "start_time": "2022-03-18T14:26:16.012Z"
   },
   {
    "duration": 38,
    "start_time": "2022-03-18T14:26:16.069Z"
   },
   {
    "duration": 32,
    "start_time": "2022-03-18T14:26:16.108Z"
   },
   {
    "duration": 35,
    "start_time": "2022-03-18T14:26:16.142Z"
   },
   {
    "duration": 37,
    "start_time": "2022-03-18T14:26:16.179Z"
   },
   {
    "duration": 20,
    "start_time": "2022-03-18T14:26:16.233Z"
   },
   {
    "duration": 36,
    "start_time": "2022-03-18T14:26:16.255Z"
   },
   {
    "duration": 24,
    "start_time": "2022-03-18T14:26:16.293Z"
   },
   {
    "duration": 36,
    "start_time": "2022-03-18T14:26:16.333Z"
   },
   {
    "duration": 21,
    "start_time": "2022-03-18T14:26:16.370Z"
   },
   {
    "duration": 51,
    "start_time": "2022-03-18T14:26:16.392Z"
   },
   {
    "duration": 22,
    "start_time": "2022-03-18T14:26:16.444Z"
   },
   {
    "duration": 94,
    "start_time": "2022-03-18T14:26:16.468Z"
   },
   {
    "duration": 5,
    "start_time": "2022-03-18T14:26:16.564Z"
   },
   {
    "duration": 36,
    "start_time": "2022-03-18T14:26:16.571Z"
   },
   {
    "duration": 226,
    "start_time": "2022-03-18T14:26:16.609Z"
   },
   {
    "duration": 34,
    "start_time": "2022-03-18T14:26:16.836Z"
   },
   {
    "duration": 27,
    "start_time": "2022-03-18T14:26:16.872Z"
   },
   {
    "duration": 211,
    "start_time": "2022-03-18T14:26:16.902Z"
   },
   {
    "duration": 43,
    "start_time": "2022-03-18T14:26:17.114Z"
   },
   {
    "duration": 28,
    "start_time": "2022-03-18T14:26:17.159Z"
   },
   {
    "duration": 209,
    "start_time": "2022-03-18T14:26:17.189Z"
   },
   {
    "duration": 34,
    "start_time": "2022-03-18T14:26:17.399Z"
   },
   {
    "duration": 70,
    "start_time": "2022-03-18T14:26:17.434Z"
   },
   {
    "duration": 2,
    "start_time": "2022-03-18T14:26:17.506Z"
   },
   {
    "duration": 4,
    "start_time": "2022-03-18T14:26:55.946Z"
   },
   {
    "duration": 119,
    "start_time": "2022-03-18T14:27:37.790Z"
   },
   {
    "duration": 190,
    "start_time": "2022-03-18T14:28:01.538Z"
   },
   {
    "duration": 187,
    "start_time": "2022-03-18T14:28:27.709Z"
   },
   {
    "duration": 226,
    "start_time": "2022-03-18T14:28:39.539Z"
   },
   {
    "duration": 296,
    "start_time": "2022-03-18T14:28:57.197Z"
   },
   {
    "duration": 222,
    "start_time": "2022-03-18T14:29:02.951Z"
   },
   {
    "duration": 222,
    "start_time": "2022-03-18T14:29:36.883Z"
   },
   {
    "duration": 230,
    "start_time": "2022-03-18T14:29:50.984Z"
   },
   {
    "duration": 215,
    "start_time": "2022-03-18T14:30:35.377Z"
   },
   {
    "duration": 217,
    "start_time": "2022-03-18T14:30:46.377Z"
   },
   {
    "duration": 238,
    "start_time": "2022-03-18T14:30:57.930Z"
   },
   {
    "duration": 309,
    "start_time": "2022-03-18T14:31:10.400Z"
   },
   {
    "duration": 223,
    "start_time": "2022-03-18T14:31:31.994Z"
   },
   {
    "duration": 215,
    "start_time": "2022-03-18T14:31:47.283Z"
   },
   {
    "duration": 11,
    "start_time": "2022-03-18T14:32:15.378Z"
   },
   {
    "duration": 222,
    "start_time": "2022-03-18T14:32:21.597Z"
   },
   {
    "duration": 223,
    "start_time": "2022-03-18T14:32:30.747Z"
   },
   {
    "duration": 228,
    "start_time": "2022-03-18T14:32:54.346Z"
   },
   {
    "duration": 125,
    "start_time": "2022-03-18T14:33:33.990Z"
   },
   {
    "duration": 223,
    "start_time": "2022-03-18T14:33:38.609Z"
   },
   {
    "duration": 487,
    "start_time": "2022-03-18T14:36:36.425Z"
   },
   {
    "duration": 235,
    "start_time": "2022-03-18T14:36:45.429Z"
   },
   {
    "duration": 282,
    "start_time": "2022-03-18T14:36:51.124Z"
   },
   {
    "duration": 398,
    "start_time": "2022-03-18T14:37:45.281Z"
   },
   {
    "duration": 221,
    "start_time": "2022-03-18T14:38:17.806Z"
   },
   {
    "duration": 27,
    "start_time": "2022-03-18T14:39:55.570Z"
   },
   {
    "duration": 1107,
    "start_time": "2022-03-18T14:40:15.010Z"
   },
   {
    "duration": 823,
    "start_time": "2022-03-18T14:40:16.119Z"
   },
   {
    "duration": 17,
    "start_time": "2022-03-18T14:40:16.943Z"
   },
   {
    "duration": 144,
    "start_time": "2022-03-18T14:40:16.962Z"
   },
   {
    "duration": 461,
    "start_time": "2022-03-18T14:40:17.107Z"
   },
   {
    "duration": 511,
    "start_time": "2022-03-18T14:40:17.569Z"
   },
   {
    "duration": 41,
    "start_time": "2022-03-18T14:40:18.082Z"
   },
   {
    "duration": 81,
    "start_time": "2022-03-18T14:40:18.133Z"
   },
   {
    "duration": 23,
    "start_time": "2022-03-18T14:40:18.215Z"
   },
   {
    "duration": 35,
    "start_time": "2022-03-18T14:40:18.242Z"
   },
   {
    "duration": 54,
    "start_time": "2022-03-18T14:40:18.279Z"
   },
   {
    "duration": 20,
    "start_time": "2022-03-18T14:40:18.335Z"
   },
   {
    "duration": 36,
    "start_time": "2022-03-18T14:40:18.357Z"
   },
   {
    "duration": 51,
    "start_time": "2022-03-18T14:40:18.395Z"
   },
   {
    "duration": 21,
    "start_time": "2022-03-18T14:40:18.447Z"
   },
   {
    "duration": 36,
    "start_time": "2022-03-18T14:40:18.469Z"
   },
   {
    "duration": 35,
    "start_time": "2022-03-18T14:40:18.507Z"
   },
   {
    "duration": 36,
    "start_time": "2022-03-18T14:40:18.544Z"
   },
   {
    "duration": 21,
    "start_time": "2022-03-18T14:40:18.581Z"
   },
   {
    "duration": 49,
    "start_time": "2022-03-18T14:40:18.604Z"
   },
   {
    "duration": 24,
    "start_time": "2022-03-18T14:40:18.655Z"
   },
   {
    "duration": 125,
    "start_time": "2022-03-18T14:40:18.680Z"
   },
   {
    "duration": 7,
    "start_time": "2022-03-18T14:40:18.807Z"
   },
   {
    "duration": 51,
    "start_time": "2022-03-18T14:40:18.816Z"
   },
   {
    "duration": 319,
    "start_time": "2022-03-18T14:40:18.869Z"
   },
   {
    "duration": 44,
    "start_time": "2022-03-18T14:40:19.189Z"
   },
   {
    "duration": 30,
    "start_time": "2022-03-18T14:40:19.234Z"
   },
   {
    "duration": 255,
    "start_time": "2022-03-18T14:40:19.268Z"
   },
   {
    "duration": 41,
    "start_time": "2022-03-18T14:40:19.524Z"
   },
   {
    "duration": 26,
    "start_time": "2022-03-18T14:40:19.567Z"
   },
   {
    "duration": 239,
    "start_time": "2022-03-18T14:40:19.595Z"
   },
   {
    "duration": 26,
    "start_time": "2022-03-18T14:40:19.836Z"
   },
   {
    "duration": 82,
    "start_time": "2022-03-18T14:40:19.863Z"
   },
   {
    "duration": 3,
    "start_time": "2022-03-18T14:40:19.947Z"
   },
   {
    "duration": 182,
    "start_time": "2022-03-18T14:41:27.684Z"
   },
   {
    "duration": 360,
    "start_time": "2022-03-18T14:41:35.289Z"
   },
   {
    "duration": 4,
    "start_time": "2022-03-18T14:42:00.672Z"
   },
   {
    "duration": 777,
    "start_time": "2022-03-18T14:42:00.677Z"
   },
   {
    "duration": 13,
    "start_time": "2022-03-18T14:42:01.456Z"
   },
   {
    "duration": 133,
    "start_time": "2022-03-18T14:42:01.471Z"
   },
   {
    "duration": 386,
    "start_time": "2022-03-18T14:42:01.606Z"
   },
   {
    "duration": 418,
    "start_time": "2022-03-18T14:42:01.994Z"
   },
   {
    "duration": 37,
    "start_time": "2022-03-18T14:42:02.414Z"
   },
   {
    "duration": 91,
    "start_time": "2022-03-18T14:42:02.453Z"
   },
   {
    "duration": 11,
    "start_time": "2022-03-18T14:42:02.546Z"
   },
   {
    "duration": 37,
    "start_time": "2022-03-18T14:42:02.560Z"
   },
   {
    "duration": 60,
    "start_time": "2022-03-18T14:42:02.599Z"
   },
   {
    "duration": 19,
    "start_time": "2022-03-18T14:42:02.662Z"
   },
   {
    "duration": 51,
    "start_time": "2022-03-18T14:42:02.683Z"
   },
   {
    "duration": 42,
    "start_time": "2022-03-18T14:42:02.735Z"
   },
   {
    "duration": 30,
    "start_time": "2022-03-18T14:42:02.778Z"
   },
   {
    "duration": 40,
    "start_time": "2022-03-18T14:42:02.810Z"
   },
   {
    "duration": 28,
    "start_time": "2022-03-18T14:42:02.851Z"
   },
   {
    "duration": 37,
    "start_time": "2022-03-18T14:42:02.882Z"
   },
   {
    "duration": 31,
    "start_time": "2022-03-18T14:42:02.920Z"
   },
   {
    "duration": 38,
    "start_time": "2022-03-18T14:42:02.953Z"
   },
   {
    "duration": 27,
    "start_time": "2022-03-18T14:42:02.993Z"
   },
   {
    "duration": 90,
    "start_time": "2022-03-18T14:42:03.022Z"
   },
   {
    "duration": 6,
    "start_time": "2022-03-18T14:42:03.113Z"
   },
   {
    "duration": 32,
    "start_time": "2022-03-18T14:42:03.132Z"
   },
   {
    "duration": 292,
    "start_time": "2022-03-18T14:42:06.893Z"
   },
   {
    "duration": 230,
    "start_time": "2022-03-18T14:42:38.445Z"
   },
   {
    "duration": 25,
    "start_time": "2022-03-18T14:43:27.400Z"
   },
   {
    "duration": 1184,
    "start_time": "2022-03-18T14:44:02.426Z"
   },
   {
    "duration": 813,
    "start_time": "2022-03-18T14:44:03.612Z"
   },
   {
    "duration": 19,
    "start_time": "2022-03-18T14:44:04.427Z"
   },
   {
    "duration": 149,
    "start_time": "2022-03-18T14:44:04.448Z"
   },
   {
    "duration": 455,
    "start_time": "2022-03-18T14:44:04.598Z"
   },
   {
    "duration": 505,
    "start_time": "2022-03-18T14:44:05.055Z"
   },
   {
    "duration": 42,
    "start_time": "2022-03-18T14:44:05.561Z"
   },
   {
    "duration": 94,
    "start_time": "2022-03-18T14:44:05.604Z"
   },
   {
    "duration": 10,
    "start_time": "2022-03-18T14:44:05.700Z"
   },
   {
    "duration": 43,
    "start_time": "2022-03-18T14:44:05.712Z"
   },
   {
    "duration": 37,
    "start_time": "2022-03-18T14:44:05.756Z"
   },
   {
    "duration": 20,
    "start_time": "2022-03-18T14:44:05.794Z"
   },
   {
    "duration": 35,
    "start_time": "2022-03-18T14:44:05.833Z"
   },
   {
    "duration": 34,
    "start_time": "2022-03-18T14:44:05.870Z"
   },
   {
    "duration": 35,
    "start_time": "2022-03-18T14:44:05.906Z"
   },
   {
    "duration": 35,
    "start_time": "2022-03-18T14:44:05.943Z"
   },
   {
    "duration": 19,
    "start_time": "2022-03-18T14:44:05.979Z"
   },
   {
    "duration": 49,
    "start_time": "2022-03-18T14:44:06.000Z"
   },
   {
    "duration": 22,
    "start_time": "2022-03-18T14:44:06.051Z"
   },
   {
    "duration": 33,
    "start_time": "2022-03-18T14:44:06.075Z"
   },
   {
    "duration": 42,
    "start_time": "2022-03-18T14:44:06.109Z"
   },
   {
    "duration": 87,
    "start_time": "2022-03-18T14:44:06.153Z"
   },
   {
    "duration": 6,
    "start_time": "2022-03-18T14:44:06.241Z"
   },
   {
    "duration": 34,
    "start_time": "2022-03-18T14:44:06.248Z"
   },
   {
    "duration": 273,
    "start_time": "2022-03-18T14:44:06.284Z"
   },
   {
    "duration": 35,
    "start_time": "2022-03-18T14:44:06.559Z"
   },
   {
    "duration": 42,
    "start_time": "2022-03-18T14:44:06.596Z"
   },
   {
    "duration": 240,
    "start_time": "2022-03-18T14:44:06.642Z"
   },
   {
    "duration": 34,
    "start_time": "2022-03-18T14:44:06.883Z"
   },
   {
    "duration": 34,
    "start_time": "2022-03-18T14:44:06.919Z"
   },
   {
    "duration": 242,
    "start_time": "2022-03-18T14:44:06.954Z"
   },
   {
    "duration": 41,
    "start_time": "2022-03-18T14:44:07.198Z"
   },
   {
    "duration": 67,
    "start_time": "2022-03-18T14:44:07.241Z"
   },
   {
    "duration": 3,
    "start_time": "2022-03-18T14:44:07.309Z"
   },
   {
    "duration": 1460,
    "start_time": "2022-03-19T07:13:40.791Z"
   },
   {
    "duration": 2175,
    "start_time": "2022-03-19T07:13:42.253Z"
   },
   {
    "duration": 19,
    "start_time": "2022-03-19T07:13:44.430Z"
   },
   {
    "duration": 162,
    "start_time": "2022-03-19T07:13:44.452Z"
   },
   {
    "duration": 502,
    "start_time": "2022-03-19T07:13:44.616Z"
   },
   {
    "duration": 545,
    "start_time": "2022-03-19T07:13:45.119Z"
   },
   {
    "duration": 42,
    "start_time": "2022-03-19T07:13:45.666Z"
   },
   {
    "duration": 107,
    "start_time": "2022-03-19T07:13:45.710Z"
   },
   {
    "duration": 17,
    "start_time": "2022-03-19T07:13:45.819Z"
   },
   {
    "duration": 43,
    "start_time": "2022-03-19T07:13:45.839Z"
   },
   {
    "duration": 58,
    "start_time": "2022-03-19T07:13:45.884Z"
   },
   {
    "duration": 21,
    "start_time": "2022-03-19T07:13:45.944Z"
   },
   {
    "duration": 42,
    "start_time": "2022-03-19T07:13:45.967Z"
   },
   {
    "duration": 55,
    "start_time": "2022-03-19T07:13:46.010Z"
   },
   {
    "duration": 23,
    "start_time": "2022-03-19T07:13:46.067Z"
   },
   {
    "duration": 60,
    "start_time": "2022-03-19T07:13:46.092Z"
   },
   {
    "duration": 27,
    "start_time": "2022-03-19T07:13:46.154Z"
   },
   {
    "duration": 53,
    "start_time": "2022-03-19T07:13:46.183Z"
   },
   {
    "duration": 24,
    "start_time": "2022-03-19T07:13:46.238Z"
   },
   {
    "duration": 41,
    "start_time": "2022-03-19T07:13:46.264Z"
   },
   {
    "duration": 46,
    "start_time": "2022-03-19T07:13:46.307Z"
   },
   {
    "duration": 109,
    "start_time": "2022-03-19T07:13:46.355Z"
   },
   {
    "duration": 7,
    "start_time": "2022-03-19T07:13:46.466Z"
   },
   {
    "duration": 46,
    "start_time": "2022-03-19T07:13:46.474Z"
   },
   {
    "duration": 325,
    "start_time": "2022-03-19T07:13:46.522Z"
   },
   {
    "duration": 39,
    "start_time": "2022-03-19T07:13:46.850Z"
   },
   {
    "duration": 45,
    "start_time": "2022-03-19T07:13:46.891Z"
   },
   {
    "duration": 302,
    "start_time": "2022-03-19T07:13:46.941Z"
   },
   {
    "duration": 38,
    "start_time": "2022-03-19T07:13:47.246Z"
   },
   {
    "duration": 46,
    "start_time": "2022-03-19T07:13:47.286Z"
   },
   {
    "duration": 281,
    "start_time": "2022-03-19T07:13:47.334Z"
   },
   {
    "duration": 35,
    "start_time": "2022-03-19T07:13:47.617Z"
   },
   {
    "duration": 87,
    "start_time": "2022-03-19T07:13:47.654Z"
   },
   {
    "duration": 773,
    "start_time": "2022-03-19T07:16:55.949Z"
   },
   {
    "duration": 798,
    "start_time": "2022-03-19T07:17:08.750Z"
   },
   {
    "duration": 4,
    "start_time": "2022-03-19T07:26:50.239Z"
   },
   {
    "duration": 812,
    "start_time": "2022-03-19T07:26:50.244Z"
   },
   {
    "duration": 14,
    "start_time": "2022-03-19T07:26:51.058Z"
   },
   {
    "duration": 152,
    "start_time": "2022-03-19T07:26:51.075Z"
   },
   {
    "duration": 403,
    "start_time": "2022-03-19T07:26:51.233Z"
   },
   {
    "duration": 448,
    "start_time": "2022-03-19T07:26:51.639Z"
   },
   {
    "duration": 29,
    "start_time": "2022-03-19T07:26:52.088Z"
   },
   {
    "duration": 101,
    "start_time": "2022-03-19T07:26:52.119Z"
   },
   {
    "duration": 13,
    "start_time": "2022-03-19T07:26:52.231Z"
   },
   {
    "duration": 55,
    "start_time": "2022-03-19T07:26:52.246Z"
   },
   {
    "duration": 45,
    "start_time": "2022-03-19T07:26:52.303Z"
   },
   {
    "duration": 23,
    "start_time": "2022-03-19T07:26:52.350Z"
   },
   {
    "duration": 60,
    "start_time": "2022-03-19T07:26:52.377Z"
   },
   {
    "duration": 50,
    "start_time": "2022-03-19T07:26:52.439Z"
   },
   {
    "duration": 30,
    "start_time": "2022-03-19T07:26:52.491Z"
   },
   {
    "duration": 54,
    "start_time": "2022-03-19T07:26:52.523Z"
   },
   {
    "duration": 37,
    "start_time": "2022-03-19T07:26:52.579Z"
   },
   {
    "duration": 59,
    "start_time": "2022-03-19T07:26:52.618Z"
   },
   {
    "duration": 32,
    "start_time": "2022-03-19T07:26:52.679Z"
   },
   {
    "duration": 37,
    "start_time": "2022-03-19T07:26:52.713Z"
   },
   {
    "duration": 23,
    "start_time": "2022-03-19T07:26:52.752Z"
   },
   {
    "duration": 99,
    "start_time": "2022-03-19T07:26:52.777Z"
   },
   {
    "duration": 6,
    "start_time": "2022-03-19T07:26:52.878Z"
   },
   {
    "duration": 50,
    "start_time": "2022-03-19T07:26:52.885Z"
   },
   {
    "duration": 284,
    "start_time": "2022-03-19T07:26:52.937Z"
   },
   {
    "duration": 26,
    "start_time": "2022-03-19T07:26:53.231Z"
   },
   {
    "duration": 27,
    "start_time": "2022-03-19T07:26:53.259Z"
   },
   {
    "duration": 301,
    "start_time": "2022-03-19T07:26:53.288Z"
   },
   {
    "duration": 48,
    "start_time": "2022-03-19T07:26:53.591Z"
   },
   {
    "duration": 29,
    "start_time": "2022-03-19T07:26:53.641Z"
   },
   {
    "duration": 366,
    "start_time": "2022-03-19T07:26:53.672Z"
   },
   {
    "duration": 27,
    "start_time": "2022-03-19T07:26:54.040Z"
   },
   {
    "duration": 89,
    "start_time": "2022-03-19T07:26:54.068Z"
   },
   {
    "duration": 726,
    "start_time": "2022-03-19T07:26:58.952Z"
   },
   {
    "duration": 747,
    "start_time": "2022-03-19T07:27:54.440Z"
   },
   {
    "duration": 342,
    "start_time": "2022-03-19T07:29:01.244Z"
   },
   {
    "duration": 171,
    "start_time": "2022-03-19T07:30:45.661Z"
   },
   {
    "duration": 507,
    "start_time": "2022-03-19T07:30:48.150Z"
   },
   {
    "duration": 24,
    "start_time": "2022-03-19T07:31:47.913Z"
   },
   {
    "duration": 3,
    "start_time": "2022-03-19T07:31:56.426Z"
   },
   {
    "duration": 222,
    "start_time": "2022-03-19T07:31:58.224Z"
   },
   {
    "duration": 76,
    "start_time": "2022-03-19T07:42:31.570Z"
   },
   {
    "duration": 20,
    "start_time": "2022-03-19T07:43:11.416Z"
   },
   {
    "duration": 5,
    "start_time": "2022-03-19T07:44:09.504Z"
   },
   {
    "duration": 477923,
    "start_time": "2022-03-19T07:44:15.114Z"
   },
   {
    "duration": 6,
    "start_time": "2022-03-19T08:08:16.270Z"
   },
   {
    "duration": 42457,
    "start_time": "2022-03-19T08:08:24.776Z"
   },
   {
    "duration": 3,
    "start_time": "2022-03-19T08:11:35.131Z"
   },
   {
    "duration": 2,
    "start_time": "2022-03-19T08:19:02.781Z"
   },
   {
    "duration": 3,
    "start_time": "2022-03-19T08:19:03.885Z"
   },
   {
    "duration": 3,
    "start_time": "2022-03-19T08:19:05.515Z"
   },
   {
    "duration": 5,
    "start_time": "2022-03-19T08:21:15.569Z"
   },
   {
    "duration": 262,
    "start_time": "2022-03-19T08:21:58.561Z"
   },
   {
    "duration": 133,
    "start_time": "2022-03-19T08:22:22.510Z"
   },
   {
    "duration": 100,
    "start_time": "2022-03-19T08:22:36.718Z"
   },
   {
    "duration": 123,
    "start_time": "2022-03-19T08:23:36.481Z"
   },
   {
    "duration": 103,
    "start_time": "2022-03-19T08:23:59.454Z"
   },
   {
    "duration": 146,
    "start_time": "2022-03-19T08:25:28.003Z"
   },
   {
    "duration": 143,
    "start_time": "2022-03-19T08:25:43.904Z"
   },
   {
    "duration": 322,
    "start_time": "2022-03-19T08:25:56.695Z"
   },
   {
    "duration": 24,
    "start_time": "2022-03-19T08:26:12.911Z"
   },
   {
    "duration": 324,
    "start_time": "2022-03-19T08:26:56.380Z"
   },
   {
    "duration": 3,
    "start_time": "2022-03-19T08:28:16.057Z"
   },
   {
    "duration": 5480,
    "start_time": "2022-03-19T08:28:22.954Z"
   },
   {
    "duration": 164823,
    "start_time": "2022-03-19T08:29:06.198Z"
   },
   {
    "duration": 165925,
    "start_time": "2022-03-19T08:36:41.467Z"
   },
   {
    "duration": 5720,
    "start_time": "2022-03-19T08:40:50.814Z"
   },
   {
    "duration": 3,
    "start_time": "2022-03-19T08:58:44.325Z"
   },
   {
    "duration": 5551,
    "start_time": "2022-03-19T08:58:48.696Z"
   },
   {
    "duration": 4,
    "start_time": "2022-03-19T08:59:41.159Z"
   },
   {
    "duration": 6030,
    "start_time": "2022-03-19T08:59:43.608Z"
   },
   {
    "duration": 4,
    "start_time": "2022-03-19T09:04:07.649Z"
   },
   {
    "duration": 3366546,
    "start_time": "2022-03-19T09:05:20.982Z"
   },
   {
    "duration": 167791,
    "start_time": "2022-03-19T10:34:45.994Z"
   },
   {
    "duration": 134,
    "start_time": "2022-03-19T10:37:33.788Z"
   },
   {
    "duration": 469689,
    "start_time": "2022-03-19T10:41:50.400Z"
   },
   {
    "duration": 6480,
    "start_time": "2022-03-19T10:51:20.569Z"
   },
   {
    "duration": 3,
    "start_time": "2022-03-19T10:52:03.017Z"
   },
   {
    "duration": 3,
    "start_time": "2022-03-19T10:52:09.091Z"
   },
   {
    "duration": 185,
    "start_time": "2022-03-19T10:52:21.225Z"
   },
   {
    "duration": 15,
    "start_time": "2022-03-19T10:53:04.681Z"
   },
   {
    "duration": 5,
    "start_time": "2022-03-19T10:53:17.131Z"
   },
   {
    "duration": 170,
    "start_time": "2022-03-19T10:53:26.951Z"
   },
   {
    "duration": 43004,
    "start_time": "2022-03-19T10:56:22.079Z"
   },
   {
    "duration": 1761,
    "start_time": "2022-03-19T10:57:54.956Z"
   },
   {
    "duration": 3,
    "start_time": "2022-03-19T10:58:29.141Z"
   },
   {
    "duration": 6,
    "start_time": "2022-03-19T10:58:29.148Z"
   },
   {
    "duration": 927,
    "start_time": "2022-03-19T10:58:29.156Z"
   },
   {
    "duration": 18,
    "start_time": "2022-03-19T10:58:30.085Z"
   },
   {
    "duration": 156,
    "start_time": "2022-03-19T10:58:30.105Z"
   },
   {
    "duration": 488,
    "start_time": "2022-03-19T10:58:30.264Z"
   },
   {
    "duration": 549,
    "start_time": "2022-03-19T10:58:30.754Z"
   },
   {
    "duration": 47,
    "start_time": "2022-03-19T10:58:31.305Z"
   },
   {
    "duration": 99,
    "start_time": "2022-03-19T10:58:31.354Z"
   },
   {
    "duration": 11,
    "start_time": "2022-03-19T10:58:31.455Z"
   },
   {
    "duration": 42,
    "start_time": "2022-03-19T10:58:31.468Z"
   },
   {
    "duration": 57,
    "start_time": "2022-03-19T10:58:31.512Z"
   },
   {
    "duration": 23,
    "start_time": "2022-03-19T10:58:31.570Z"
   },
   {
    "duration": 56,
    "start_time": "2022-03-19T10:58:31.595Z"
   },
   {
    "duration": 41,
    "start_time": "2022-03-19T10:58:31.654Z"
   },
   {
    "duration": 39,
    "start_time": "2022-03-19T10:58:31.696Z"
   },
   {
    "duration": 43,
    "start_time": "2022-03-19T10:58:31.737Z"
   },
   {
    "duration": 28,
    "start_time": "2022-03-19T10:58:31.783Z"
   },
   {
    "duration": 94,
    "start_time": "2022-03-19T10:58:31.814Z"
   },
   {
    "duration": 40,
    "start_time": "2022-03-19T10:58:31.910Z"
   },
   {
    "duration": 50,
    "start_time": "2022-03-19T10:58:31.952Z"
   },
   {
    "duration": 40,
    "start_time": "2022-03-19T10:58:32.003Z"
   },
   {
    "duration": 99,
    "start_time": "2022-03-19T10:58:32.045Z"
   },
   {
    "duration": 6,
    "start_time": "2022-03-19T10:58:32.146Z"
   },
   {
    "duration": 39,
    "start_time": "2022-03-19T10:58:32.153Z"
   },
   {
    "duration": 325,
    "start_time": "2022-03-19T10:58:32.193Z"
   },
   {
    "duration": 42,
    "start_time": "2022-03-19T10:58:32.520Z"
   },
   {
    "duration": 31,
    "start_time": "2022-03-19T10:58:32.563Z"
   },
   {
    "duration": 363,
    "start_time": "2022-03-19T10:58:32.596Z"
   },
   {
    "duration": 37,
    "start_time": "2022-03-19T10:58:32.961Z"
   },
   {
    "duration": 46,
    "start_time": "2022-03-19T10:58:33.000Z"
   },
   {
    "duration": 297,
    "start_time": "2022-03-19T10:58:33.048Z"
   },
   {
    "duration": 27,
    "start_time": "2022-03-19T10:58:33.347Z"
   },
   {
    "duration": 95,
    "start_time": "2022-03-19T10:58:33.376Z"
   },
   {
    "duration": 3,
    "start_time": "2022-03-19T10:58:33.473Z"
   },
   {
    "duration": 6,
    "start_time": "2022-03-19T10:58:33.478Z"
   },
   {
    "duration": 12,
    "start_time": "2022-03-19T10:58:33.486Z"
   },
   {
    "duration": 287,
    "start_time": "2022-03-19T10:58:33.500Z"
   },
   {
    "duration": 351,
    "start_time": "2022-03-19T10:58:33.789Z"
   },
   {
    "duration": 3,
    "start_time": "2022-03-19T10:58:34.142Z"
   },
   {
    "duration": 6,
    "start_time": "2022-03-19T10:58:34.147Z"
   },
   {
    "duration": 4,
    "start_time": "2022-03-19T10:58:34.157Z"
   },
   {
    "duration": 3,
    "start_time": "2022-03-19T10:58:37.487Z"
   },
   {
    "duration": 271,
    "start_time": "2022-03-19T10:58:41.264Z"
   },
   {
    "duration": 381,
    "start_time": "2022-03-19T10:59:03.801Z"
   },
   {
    "duration": 192,
    "start_time": "2022-03-19T10:59:13.018Z"
   },
   {
    "duration": 6,
    "start_time": "2022-03-19T10:59:37.219Z"
   },
   {
    "duration": 2415294,
    "start_time": "2022-03-19T10:59:41.729Z"
   },
   {
    "duration": 3,
    "start_time": "2022-03-19T11:40:07.135Z"
   },
   {
    "duration": 9015,
    "start_time": "2022-03-19T11:40:09.903Z"
   },
   {
    "duration": 2,
    "start_time": "2022-03-19T11:43:16.665Z"
   },
   {
    "duration": 7,
    "start_time": "2022-03-19T11:43:16.672Z"
   },
   {
    "duration": 779,
    "start_time": "2022-03-19T11:43:16.681Z"
   },
   {
    "duration": 15,
    "start_time": "2022-03-19T11:43:17.462Z"
   },
   {
    "duration": 139,
    "start_time": "2022-03-19T11:43:17.479Z"
   },
   {
    "duration": 402,
    "start_time": "2022-03-19T11:43:17.621Z"
   },
   {
    "duration": 412,
    "start_time": "2022-03-19T11:43:18.025Z"
   },
   {
    "duration": 38,
    "start_time": "2022-03-19T11:43:18.439Z"
   },
   {
    "duration": 104,
    "start_time": "2022-03-19T11:43:18.479Z"
   },
   {
    "duration": 13,
    "start_time": "2022-03-19T11:43:18.585Z"
   },
   {
    "duration": 53,
    "start_time": "2022-03-19T11:43:18.600Z"
   },
   {
    "duration": 42,
    "start_time": "2022-03-19T11:43:18.654Z"
   },
   {
    "duration": 37,
    "start_time": "2022-03-19T11:43:18.697Z"
   },
   {
    "duration": 39,
    "start_time": "2022-03-19T11:43:18.735Z"
   },
   {
    "duration": 40,
    "start_time": "2022-03-19T11:43:18.777Z"
   },
   {
    "duration": 23,
    "start_time": "2022-03-19T11:43:18.831Z"
   },
   {
    "duration": 41,
    "start_time": "2022-03-19T11:43:18.856Z"
   },
   {
    "duration": 43,
    "start_time": "2022-03-19T11:43:18.898Z"
   },
   {
    "duration": 37,
    "start_time": "2022-03-19T11:43:18.943Z"
   },
   {
    "duration": 22,
    "start_time": "2022-03-19T11:43:18.982Z"
   },
   {
    "duration": 53,
    "start_time": "2022-03-19T11:43:19.006Z"
   },
   {
    "duration": 24,
    "start_time": "2022-03-19T11:43:19.061Z"
   },
   {
    "duration": 103,
    "start_time": "2022-03-19T11:43:19.087Z"
   },
   {
    "duration": 5,
    "start_time": "2022-03-19T11:43:19.192Z"
   },
   {
    "duration": 45,
    "start_time": "2022-03-19T11:43:19.199Z"
   },
   {
    "duration": 294,
    "start_time": "2022-03-19T11:43:19.246Z"
   },
   {
    "duration": 25,
    "start_time": "2022-03-19T11:43:19.541Z"
   },
   {
    "duration": 28,
    "start_time": "2022-03-19T11:43:19.568Z"
   },
   {
    "duration": 320,
    "start_time": "2022-03-19T11:43:19.598Z"
   },
   {
    "duration": 37,
    "start_time": "2022-03-19T11:43:19.920Z"
   },
   {
    "duration": 30,
    "start_time": "2022-03-19T11:43:19.959Z"
   },
   {
    "duration": 291,
    "start_time": "2022-03-19T11:43:19.991Z"
   },
   {
    "duration": 27,
    "start_time": "2022-03-19T11:43:20.284Z"
   },
   {
    "duration": 95,
    "start_time": "2022-03-19T11:43:20.313Z"
   },
   {
    "duration": 2,
    "start_time": "2022-03-19T11:43:23.212Z"
   },
   {
    "duration": 2,
    "start_time": "2022-03-19T11:43:33.307Z"
   },
   {
    "duration": 7,
    "start_time": "2022-03-19T11:43:33.314Z"
   },
   {
    "duration": 793,
    "start_time": "2022-03-19T11:43:33.323Z"
   },
   {
    "duration": 19,
    "start_time": "2022-03-19T11:43:34.118Z"
   },
   {
    "duration": 145,
    "start_time": "2022-03-19T11:43:34.139Z"
   },
   {
    "duration": 406,
    "start_time": "2022-03-19T11:43:34.286Z"
   },
   {
    "duration": 420,
    "start_time": "2022-03-19T11:43:34.694Z"
   },
   {
    "duration": 36,
    "start_time": "2022-03-19T11:43:35.116Z"
   },
   {
    "duration": 94,
    "start_time": "2022-03-19T11:43:35.154Z"
   },
   {
    "duration": 11,
    "start_time": "2022-03-19T11:43:35.251Z"
   },
   {
    "duration": 44,
    "start_time": "2022-03-19T11:43:35.263Z"
   },
   {
    "duration": 56,
    "start_time": "2022-03-19T11:43:35.309Z"
   },
   {
    "duration": 23,
    "start_time": "2022-03-19T11:43:35.367Z"
   },
   {
    "duration": 53,
    "start_time": "2022-03-19T11:43:35.391Z"
   },
   {
    "duration": 40,
    "start_time": "2022-03-19T11:43:35.446Z"
   },
   {
    "duration": 22,
    "start_time": "2022-03-19T11:43:35.487Z"
   },
   {
    "duration": 42,
    "start_time": "2022-03-19T11:43:35.532Z"
   },
   {
    "duration": 22,
    "start_time": "2022-03-19T11:43:35.576Z"
   },
   {
    "duration": 60,
    "start_time": "2022-03-19T11:43:35.600Z"
   },
   {
    "duration": 22,
    "start_time": "2022-03-19T11:43:35.662Z"
   },
   {
    "duration": 49,
    "start_time": "2022-03-19T11:43:35.686Z"
   },
   {
    "duration": 22,
    "start_time": "2022-03-19T11:43:35.737Z"
   },
   {
    "duration": 103,
    "start_time": "2022-03-19T11:43:35.761Z"
   },
   {
    "duration": 6,
    "start_time": "2022-03-19T11:43:35.866Z"
   },
   {
    "duration": 33,
    "start_time": "2022-03-19T11:43:35.875Z"
   },
   {
    "duration": 295,
    "start_time": "2022-03-19T11:43:35.910Z"
   },
   {
    "duration": 34,
    "start_time": "2022-03-19T11:43:36.207Z"
   },
   {
    "duration": 27,
    "start_time": "2022-03-19T11:43:36.243Z"
   },
   {
    "duration": 411,
    "start_time": "2022-03-19T11:43:36.272Z"
   },
   {
    "duration": 33,
    "start_time": "2022-03-19T11:43:36.684Z"
   },
   {
    "duration": 37,
    "start_time": "2022-03-19T11:43:36.719Z"
   },
   {
    "duration": 276,
    "start_time": "2022-03-19T11:43:36.758Z"
   },
   {
    "duration": 26,
    "start_time": "2022-03-19T11:43:37.035Z"
   },
   {
    "duration": 87,
    "start_time": "2022-03-19T11:43:37.063Z"
   },
   {
    "duration": 5,
    "start_time": "2022-03-19T11:43:37.152Z"
   },
   {
    "duration": 238,
    "start_time": "2022-03-19T11:43:37.159Z"
   },
   {
    "duration": 329,
    "start_time": "2022-03-19T11:43:37.399Z"
   },
   {
    "duration": 2,
    "start_time": "2022-03-19T11:43:37.730Z"
   },
   {
    "duration": 18,
    "start_time": "2022-03-19T11:43:37.734Z"
   },
   {
    "duration": 30,
    "start_time": "2022-03-19T11:43:37.753Z"
   },
   {
    "duration": 21,
    "start_time": "2022-03-19T11:43:37.785Z"
   },
   {
    "duration": 19,
    "start_time": "2022-03-19T11:43:37.808Z"
   },
   {
    "duration": 2994,
    "start_time": "2022-03-19T11:43:42.101Z"
   },
   {
    "duration": 111,
    "start_time": "2022-03-19T11:44:01.075Z"
   },
   {
    "duration": 41,
    "start_time": "2022-03-19T11:45:26.555Z"
   },
   {
    "duration": 16,
    "start_time": "2022-03-19T11:46:11.149Z"
   },
   {
    "duration": 143111,
    "start_time": "2022-03-19T11:47:23.028Z"
   },
   {
    "duration": 7608202,
    "start_time": "2022-03-19T11:53:05.829Z"
   },
   {
    "duration": 3,
    "start_time": "2022-03-19T14:11:43.525Z"
   },
   {
    "duration": 3,
    "start_time": "2022-03-19T14:13:20.507Z"
   },
   {
    "duration": 4,
    "start_time": "2022-03-19T14:13:51.189Z"
   },
   {
    "duration": 56881,
    "start_time": "2022-03-19T14:13:53.049Z"
   },
   {
    "duration": 61370,
    "start_time": "2022-03-19T14:15:31.671Z"
   },
   {
    "duration": 14259,
    "start_time": "2022-03-19T14:17:09.484Z"
   },
   {
    "duration": 22384,
    "start_time": "2022-03-19T14:22:42.165Z"
   },
   {
    "duration": 2,
    "start_time": "2022-03-19T14:24:01.952Z"
   },
   {
    "duration": 3,
    "start_time": "2022-03-19T14:24:50.096Z"
   },
   {
    "duration": 176,
    "start_time": "2022-03-19T14:24:51.826Z"
   },
   {
    "duration": 3,
    "start_time": "2022-03-19T14:25:03.972Z"
   },
   {
    "duration": 57470,
    "start_time": "2022-03-19T14:25:05.473Z"
   },
   {
    "duration": 56842,
    "start_time": "2022-03-19T14:27:26.011Z"
   },
   {
    "duration": 62770,
    "start_time": "2022-03-19T14:28:43.770Z"
   },
   {
    "duration": 23012,
    "start_time": "2022-03-19T14:29:46.542Z"
   },
   {
    "duration": 3,
    "start_time": "2022-03-19T14:35:08.469Z"
   },
   {
    "duration": 59081,
    "start_time": "2022-03-19T14:35:14.700Z"
   },
   {
    "duration": 61562,
    "start_time": "2022-03-19T14:36:13.784Z"
   },
   {
    "duration": 21732,
    "start_time": "2022-03-19T14:37:15.432Z"
   },
   {
    "duration": 222445,
    "start_time": "2022-03-19T14:41:48.230Z"
   },
   {
    "duration": 63207,
    "start_time": "2022-03-19T14:45:40.995Z"
   },
   {
    "duration": 178570,
    "start_time": "2022-03-19T14:46:51.999Z"
   },
   {
    "duration": 4,
    "start_time": "2022-03-19T14:54:05.409Z"
   },
   {
    "duration": 2408,
    "start_time": "2022-03-19T14:54:05.415Z"
   },
   {
    "duration": 969,
    "start_time": "2022-03-19T14:54:07.825Z"
   },
   {
    "duration": 18,
    "start_time": "2022-03-19T14:54:08.796Z"
   },
   {
    "duration": 194,
    "start_time": "2022-03-19T14:54:08.816Z"
   },
   {
    "duration": 552,
    "start_time": "2022-03-19T14:54:09.012Z"
   },
   {
    "duration": 592,
    "start_time": "2022-03-19T14:54:09.566Z"
   },
   {
    "duration": 41,
    "start_time": "2022-03-19T14:54:10.163Z"
   },
   {
    "duration": 121,
    "start_time": "2022-03-19T14:54:10.206Z"
   },
   {
    "duration": 25,
    "start_time": "2022-03-19T14:54:10.329Z"
   },
   {
    "duration": 47,
    "start_time": "2022-03-19T14:54:10.358Z"
   },
   {
    "duration": 51,
    "start_time": "2022-03-19T14:54:10.407Z"
   },
   {
    "duration": 24,
    "start_time": "2022-03-19T14:54:10.463Z"
   },
   {
    "duration": 48,
    "start_time": "2022-03-19T14:54:10.489Z"
   },
   {
    "duration": 58,
    "start_time": "2022-03-19T14:54:10.539Z"
   },
   {
    "duration": 21,
    "start_time": "2022-03-19T14:54:10.599Z"
   },
   {
    "duration": 55,
    "start_time": "2022-03-19T14:54:10.622Z"
   },
   {
    "duration": 21,
    "start_time": "2022-03-19T14:54:10.679Z"
   },
   {
    "duration": 60,
    "start_time": "2022-03-19T14:54:10.702Z"
   },
   {
    "duration": 24,
    "start_time": "2022-03-19T14:54:10.764Z"
   },
   {
    "duration": 71,
    "start_time": "2022-03-19T14:54:10.789Z"
   },
   {
    "duration": 25,
    "start_time": "2022-03-19T14:54:10.862Z"
   },
   {
    "duration": 113,
    "start_time": "2022-03-19T14:54:10.889Z"
   },
   {
    "duration": 7,
    "start_time": "2022-03-19T14:54:11.004Z"
   },
   {
    "duration": 58,
    "start_time": "2022-03-19T14:54:11.013Z"
   },
   {
    "duration": 336,
    "start_time": "2022-03-19T14:54:11.073Z"
   },
   {
    "duration": 51,
    "start_time": "2022-03-19T14:54:11.411Z"
   },
   {
    "duration": 29,
    "start_time": "2022-03-19T14:54:11.464Z"
   },
   {
    "duration": 320,
    "start_time": "2022-03-19T14:54:11.497Z"
   },
   {
    "duration": 55,
    "start_time": "2022-03-19T14:54:11.818Z"
   },
   {
    "duration": 30,
    "start_time": "2022-03-19T14:54:11.875Z"
   },
   {
    "duration": 335,
    "start_time": "2022-03-19T14:54:11.907Z"
   },
   {
    "duration": 30,
    "start_time": "2022-03-19T14:54:12.245Z"
   },
   {
    "duration": 102,
    "start_time": "2022-03-19T14:54:12.277Z"
   },
   {
    "duration": 3,
    "start_time": "2022-03-19T14:54:12.381Z"
   },
   {
    "duration": 410,
    "start_time": "2022-03-19T14:54:12.386Z"
   },
   {
    "duration": 405,
    "start_time": "2022-03-19T14:54:12.798Z"
   },
   {
    "duration": 3,
    "start_time": "2022-03-19T14:54:13.206Z"
   },
   {
    "duration": 5,
    "start_time": "2022-03-19T14:54:13.211Z"
   },
   {
    "duration": 17,
    "start_time": "2022-03-19T14:54:13.218Z"
   },
   {
    "duration": 25,
    "start_time": "2022-03-19T14:54:13.236Z"
   },
   {
    "duration": 136,
    "start_time": "2022-03-19T14:54:13.263Z"
   },
   {
    "duration": 62,
    "start_time": "2022-03-19T14:54:13.401Z"
   },
   {
    "duration": 2,
    "start_time": "2022-03-19T14:54:13.466Z"
   },
   {
    "duration": 8,
    "start_time": "2022-03-19T14:54:13.470Z"
   },
   {
    "duration": 63923,
    "start_time": "2022-03-19T14:54:13.480Z"
   },
   {
    "duration": 192861,
    "start_time": "2022-03-19T14:55:17.405Z"
   },
   {
    "duration": 498342,
    "start_time": "2022-03-19T14:58:30.268Z"
   },
   {
    "duration": 2,
    "start_time": "2022-03-19T15:06:48.612Z"
   },
   {
    "duration": 10,
    "start_time": "2022-03-19T15:06:48.617Z"
   },
   {
    "duration": 2,
    "start_time": "2022-03-19T15:06:59.059Z"
   },
   {
    "duration": 6,
    "start_time": "2022-03-19T15:07:00.855Z"
   },
   {
    "duration": 64842,
    "start_time": "2022-03-19T15:07:03.759Z"
   },
   {
    "duration": 195663,
    "start_time": "2022-03-19T15:08:23.604Z"
   },
   {
    "duration": 4,
    "start_time": "2022-03-19T15:12:34.055Z"
   },
   {
    "duration": 1822,
    "start_time": "2022-03-19T15:12:34.062Z"
   },
   {
    "duration": 973,
    "start_time": "2022-03-19T15:12:35.886Z"
   },
   {
    "duration": 18,
    "start_time": "2022-03-19T15:12:36.861Z"
   },
   {
    "duration": 187,
    "start_time": "2022-03-19T15:12:36.881Z"
   },
   {
    "duration": 537,
    "start_time": "2022-03-19T15:12:37.069Z"
   },
   {
    "duration": 593,
    "start_time": "2022-03-19T15:12:37.608Z"
   },
   {
    "duration": 55,
    "start_time": "2022-03-19T15:12:38.203Z"
   },
   {
    "duration": 106,
    "start_time": "2022-03-19T15:12:38.262Z"
   },
   {
    "duration": 11,
    "start_time": "2022-03-19T15:12:38.370Z"
   },
   {
    "duration": 40,
    "start_time": "2022-03-19T15:12:38.382Z"
   },
   {
    "duration": 51,
    "start_time": "2022-03-19T15:12:38.436Z"
   },
   {
    "duration": 23,
    "start_time": "2022-03-19T15:12:38.489Z"
   },
   {
    "duration": 63,
    "start_time": "2022-03-19T15:12:38.515Z"
   },
   {
    "duration": 56,
    "start_time": "2022-03-19T15:12:38.580Z"
   },
   {
    "duration": 33,
    "start_time": "2022-03-19T15:12:38.639Z"
   },
   {
    "duration": 44,
    "start_time": "2022-03-19T15:12:38.674Z"
   },
   {
    "duration": 37,
    "start_time": "2022-03-19T15:12:38.733Z"
   },
   {
    "duration": 40,
    "start_time": "2022-03-19T15:12:38.772Z"
   },
   {
    "duration": 49,
    "start_time": "2022-03-19T15:12:38.814Z"
   },
   {
    "duration": 39,
    "start_time": "2022-03-19T15:12:38.865Z"
   },
   {
    "duration": 49,
    "start_time": "2022-03-19T15:12:38.906Z"
   },
   {
    "duration": 109,
    "start_time": "2022-03-19T15:12:38.957Z"
   },
   {
    "duration": 6,
    "start_time": "2022-03-19T15:12:39.068Z"
   },
   {
    "duration": 35,
    "start_time": "2022-03-19T15:12:39.075Z"
   },
   {
    "duration": 354,
    "start_time": "2022-03-19T15:12:39.112Z"
   },
   {
    "duration": 36,
    "start_time": "2022-03-19T15:12:39.468Z"
   },
   {
    "duration": 49,
    "start_time": "2022-03-19T15:12:39.505Z"
   },
   {
    "duration": 329,
    "start_time": "2022-03-19T15:12:39.557Z"
   },
   {
    "duration": 36,
    "start_time": "2022-03-19T15:12:39.887Z"
   },
   {
    "duration": 41,
    "start_time": "2022-03-19T15:12:39.925Z"
   },
   {
    "duration": 405,
    "start_time": "2022-03-19T15:12:39.967Z"
   },
   {
    "duration": 27,
    "start_time": "2022-03-19T15:12:40.373Z"
   },
   {
    "duration": 103,
    "start_time": "2022-03-19T15:12:40.401Z"
   },
   {
    "duration": 2,
    "start_time": "2022-03-19T15:12:40.506Z"
   },
   {
    "duration": 283,
    "start_time": "2022-03-19T15:12:40.510Z"
   },
   {
    "duration": 399,
    "start_time": "2022-03-19T15:12:40.795Z"
   },
   {
    "duration": 4,
    "start_time": "2022-03-19T15:12:41.195Z"
   },
   {
    "duration": 5,
    "start_time": "2022-03-19T15:12:41.200Z"
   },
   {
    "duration": 4,
    "start_time": "2022-03-19T15:12:41.207Z"
   },
   {
    "duration": 18,
    "start_time": "2022-03-19T15:12:41.216Z"
   },
   {
    "duration": 139,
    "start_time": "2022-03-19T15:12:41.240Z"
   },
   {
    "duration": 39,
    "start_time": "2022-03-19T15:12:41.381Z"
   },
   {
    "duration": 2,
    "start_time": "2022-03-19T15:12:41.422Z"
   },
   {
    "duration": 5,
    "start_time": "2022-03-19T15:12:41.437Z"
   },
   {
    "duration": 23,
    "start_time": "2022-03-19T15:12:41.444Z"
   },
   {
    "duration": 32731,
    "start_time": "2022-03-19T15:12:41.469Z"
   },
   {
    "duration": 3,
    "start_time": "2022-03-19T15:14:03.064Z"
   },
   {
    "duration": 1884,
    "start_time": "2022-03-19T15:14:03.076Z"
   },
   {
    "duration": 961,
    "start_time": "2022-03-19T15:14:04.962Z"
   },
   {
    "duration": 28,
    "start_time": "2022-03-19T15:14:05.925Z"
   },
   {
    "duration": 169,
    "start_time": "2022-03-19T15:14:05.956Z"
   },
   {
    "duration": 541,
    "start_time": "2022-03-19T15:14:06.133Z"
   },
   {
    "duration": 597,
    "start_time": "2022-03-19T15:14:06.676Z"
   },
   {
    "duration": 43,
    "start_time": "2022-03-19T15:14:07.274Z"
   },
   {
    "duration": 141,
    "start_time": "2022-03-19T15:14:07.318Z"
   },
   {
    "duration": 14,
    "start_time": "2022-03-19T15:14:07.462Z"
   },
   {
    "duration": 41,
    "start_time": "2022-03-19T15:14:07.478Z"
   },
   {
    "duration": 60,
    "start_time": "2022-03-19T15:14:07.522Z"
   },
   {
    "duration": 22,
    "start_time": "2022-03-19T15:14:07.584Z"
   },
   {
    "duration": 65,
    "start_time": "2022-03-19T15:14:07.608Z"
   },
   {
    "duration": 38,
    "start_time": "2022-03-19T15:14:07.676Z"
   },
   {
    "duration": 50,
    "start_time": "2022-03-19T15:14:07.715Z"
   },
   {
    "duration": 40,
    "start_time": "2022-03-19T15:14:07.767Z"
   },
   {
    "duration": 50,
    "start_time": "2022-03-19T15:14:07.809Z"
   },
   {
    "duration": 37,
    "start_time": "2022-03-19T15:14:07.861Z"
   },
   {
    "duration": 38,
    "start_time": "2022-03-19T15:14:07.900Z"
   },
   {
    "duration": 46,
    "start_time": "2022-03-19T15:14:07.941Z"
   },
   {
    "duration": 25,
    "start_time": "2022-03-19T15:14:07.989Z"
   },
   {
    "duration": 119,
    "start_time": "2022-03-19T15:14:08.017Z"
   },
   {
    "duration": 26,
    "start_time": "2022-03-19T15:14:08.137Z"
   },
   {
    "duration": 44,
    "start_time": "2022-03-19T15:14:08.165Z"
   },
   {
    "duration": 336,
    "start_time": "2022-03-19T15:14:08.211Z"
   },
   {
    "duration": 40,
    "start_time": "2022-03-19T15:14:08.549Z"
   },
   {
    "duration": 48,
    "start_time": "2022-03-19T15:14:08.591Z"
   },
   {
    "duration": 303,
    "start_time": "2022-03-19T15:14:08.641Z"
   },
   {
    "duration": 42,
    "start_time": "2022-03-19T15:14:08.947Z"
   },
   {
    "duration": 44,
    "start_time": "2022-03-19T15:14:08.991Z"
   },
   {
    "duration": 388,
    "start_time": "2022-03-19T15:14:09.038Z"
   },
   {
    "duration": 35,
    "start_time": "2022-03-19T15:14:09.428Z"
   },
   {
    "duration": 100,
    "start_time": "2022-03-19T15:14:09.465Z"
   },
   {
    "duration": 3,
    "start_time": "2022-03-19T15:14:09.566Z"
   },
   {
    "duration": 278,
    "start_time": "2022-03-19T15:14:09.570Z"
   },
   {
    "duration": 410,
    "start_time": "2022-03-19T15:14:09.850Z"
   },
   {
    "duration": 4,
    "start_time": "2022-03-19T15:14:10.262Z"
   },
   {
    "duration": 6,
    "start_time": "2022-03-19T15:14:10.268Z"
   },
   {
    "duration": 4,
    "start_time": "2022-03-19T15:14:10.276Z"
   },
   {
    "duration": 5,
    "start_time": "2022-03-19T15:14:10.282Z"
   },
   {
    "duration": 136,
    "start_time": "2022-03-19T15:14:10.291Z"
   },
   {
    "duration": 50,
    "start_time": "2022-03-19T15:14:10.429Z"
   },
   {
    "duration": 4,
    "start_time": "2022-03-19T15:14:10.481Z"
   },
   {
    "duration": 5,
    "start_time": "2022-03-19T15:14:10.487Z"
   },
   {
    "duration": 6,
    "start_time": "2022-03-19T15:14:10.493Z"
   },
   {
    "duration": 62441,
    "start_time": "2022-03-19T15:14:10.501Z"
   },
   {
    "duration": 196609,
    "start_time": "2022-03-19T15:15:12.945Z"
   },
   {
    "duration": 536172,
    "start_time": "2022-03-19T15:18:29.556Z"
   },
   {
    "duration": 4,
    "start_time": "2022-03-19T15:27:25.731Z"
   },
   {
    "duration": 9,
    "start_time": "2022-03-19T15:27:25.736Z"
   },
   {
    "duration": 3,
    "start_time": "2022-03-19T15:30:20.082Z"
   },
   {
    "duration": 5,
    "start_time": "2022-03-19T15:30:23.457Z"
   },
   {
    "duration": 209,
    "start_time": "2022-03-19T15:30:27.296Z"
   },
   {
    "duration": 6,
    "start_time": "2022-03-19T15:30:33.468Z"
   },
   {
    "duration": 67474,
    "start_time": "2022-03-19T15:30:42.651Z"
   },
   {
    "duration": 195970,
    "start_time": "2022-03-19T15:32:15.884Z"
   },
   {
    "duration": 10090,
    "start_time": "2022-03-19T15:36:17.348Z"
   },
   {
    "duration": 175262,
    "start_time": "2022-03-19T15:37:15.321Z"
   },
   {
    "duration": 488743,
    "start_time": "2022-03-19T15:40:42.149Z"
   },
   {
    "duration": 7,
    "start_time": "2022-03-19T15:52:29.764Z"
   },
   {
    "duration": 48,
    "start_time": "2022-03-19T15:52:31.014Z"
   },
   {
    "duration": 181,
    "start_time": "2022-03-19T15:52:35.396Z"
   },
   {
    "duration": 777407,
    "start_time": "2022-03-19T15:53:04.527Z"
   },
   {
    "duration": 4,
    "start_time": "2022-03-19T16:07:27.511Z"
   },
   {
    "duration": 59571,
    "start_time": "2022-03-19T16:07:31.229Z"
   },
   {
    "duration": 127544,
    "start_time": "2022-03-19T16:08:30.802Z"
   },
   {
    "duration": 132002,
    "start_time": "2022-03-19T16:10:38.348Z"
   },
   {
    "duration": 4,
    "start_time": "2022-03-19T16:19:05.546Z"
   },
   {
    "duration": 168544,
    "start_time": "2022-03-19T16:19:27.921Z"
   },
   {
    "duration": 4,
    "start_time": "2022-03-19T16:51:28.809Z"
   },
   {
    "duration": 1759,
    "start_time": "2022-03-19T16:51:28.820Z"
   },
   {
    "duration": 966,
    "start_time": "2022-03-19T16:51:30.581Z"
   },
   {
    "duration": 18,
    "start_time": "2022-03-19T16:51:31.548Z"
   },
   {
    "duration": 158,
    "start_time": "2022-03-19T16:51:31.568Z"
   },
   {
    "duration": 507,
    "start_time": "2022-03-19T16:51:31.732Z"
   },
   {
    "duration": 512,
    "start_time": "2022-03-19T16:51:32.242Z"
   },
   {
    "duration": 45,
    "start_time": "2022-03-19T16:51:32.756Z"
   },
   {
    "duration": 120,
    "start_time": "2022-03-19T16:51:32.803Z"
   },
   {
    "duration": 41,
    "start_time": "2022-03-19T16:51:32.924Z"
   },
   {
    "duration": 58,
    "start_time": "2022-03-19T16:51:32.967Z"
   },
   {
    "duration": 54,
    "start_time": "2022-03-19T16:51:33.026Z"
   },
   {
    "duration": 22,
    "start_time": "2022-03-19T16:51:33.082Z"
   },
   {
    "duration": 47,
    "start_time": "2022-03-19T16:51:33.106Z"
   },
   {
    "duration": 69,
    "start_time": "2022-03-19T16:51:33.156Z"
   },
   {
    "duration": 35,
    "start_time": "2022-03-19T16:51:33.227Z"
   },
   {
    "duration": 56,
    "start_time": "2022-03-19T16:51:33.264Z"
   },
   {
    "duration": 41,
    "start_time": "2022-03-19T16:51:33.321Z"
   },
   {
    "duration": 59,
    "start_time": "2022-03-19T16:51:33.364Z"
   },
   {
    "duration": 34,
    "start_time": "2022-03-19T16:51:33.425Z"
   },
   {
    "duration": 56,
    "start_time": "2022-03-19T16:51:33.461Z"
   },
   {
    "duration": 28,
    "start_time": "2022-03-19T16:51:33.519Z"
   },
   {
    "duration": 114,
    "start_time": "2022-03-19T16:51:33.549Z"
   },
   {
    "duration": 8,
    "start_time": "2022-03-19T16:51:33.665Z"
   },
   {
    "duration": 58,
    "start_time": "2022-03-19T16:51:33.675Z"
   },
   {
    "duration": 322,
    "start_time": "2022-03-19T16:51:33.735Z"
   },
   {
    "duration": 32,
    "start_time": "2022-03-19T16:51:34.059Z"
   },
   {
    "duration": 43,
    "start_time": "2022-03-19T16:51:34.093Z"
   },
   {
    "duration": 292,
    "start_time": "2022-03-19T16:51:34.137Z"
   },
   {
    "duration": 38,
    "start_time": "2022-03-19T16:51:34.432Z"
   },
   {
    "duration": 29,
    "start_time": "2022-03-19T16:51:34.472Z"
   },
   {
    "duration": 396,
    "start_time": "2022-03-19T16:51:34.502Z"
   },
   {
    "duration": 37,
    "start_time": "2022-03-19T16:51:34.900Z"
   },
   {
    "duration": 84,
    "start_time": "2022-03-19T16:51:34.938Z"
   },
   {
    "duration": 5,
    "start_time": "2022-03-19T16:51:35.031Z"
   },
   {
    "duration": 291,
    "start_time": "2022-03-19T16:51:35.038Z"
   },
   {
    "duration": 371,
    "start_time": "2022-03-19T16:51:35.331Z"
   },
   {
    "duration": 3,
    "start_time": "2022-03-19T16:51:35.704Z"
   },
   {
    "duration": 6324,
    "start_time": "2022-03-19T16:51:35.710Z"
   },
   {
    "duration": 165013,
    "start_time": "2022-03-19T16:51:42.037Z"
   },
   {
    "duration": 201160,
    "start_time": "2022-03-19T16:54:27.051Z"
   },
   {
    "duration": 112,
    "start_time": "2022-03-19T16:57:48.215Z"
   },
   {
    "duration": 39,
    "start_time": "2022-03-19T16:57:48.332Z"
   },
   {
    "duration": 139867,
    "start_time": "2022-03-19T16:57:48.373Z"
   },
   {
    "duration": 4,
    "start_time": "2022-03-19T17:00:08.242Z"
   },
   {
    "duration": 57141,
    "start_time": "2022-03-19T17:00:08.248Z"
   },
   {
    "duration": 63741,
    "start_time": "2022-03-19T17:01:05.391Z"
   },
   {
    "duration": 21925,
    "start_time": "2022-03-19T17:02:09.134Z"
   },
   {
    "duration": 5,
    "start_time": "2022-03-19T17:02:31.131Z"
   },
   {
    "duration": 31710,
    "start_time": "2022-03-19T17:02:31.138Z"
   }
  ],
  "kernelspec": {
   "display_name": "Python 3.8.9 64-bit",
   "language": "python",
   "name": "python3"
  },
  "language_info": {
   "codemirror_mode": {
    "name": "ipython",
    "version": 3
   },
   "file_extension": ".py",
   "mimetype": "text/x-python",
   "name": "python",
   "nbconvert_exporter": "python",
   "pygments_lexer": "ipython3",
   "version": "3.8.9"
  },
  "toc": {
   "base_numbering": 1,
   "nav_menu": {},
   "number_sections": true,
   "sideBar": true,
   "skip_h1_title": true,
   "title_cell": "Содержание",
   "title_sidebar": "Содержание",
   "toc_cell": true,
   "toc_position": {},
   "toc_section_display": true,
   "toc_window_display": false
  },
  "vscode": {
   "interpreter": {
    "hash": "31f2aee4e71d21fbe5cf8b01ff0e069b9275f58929596ceb00d14d90e3e16cd6"
   }
  }
 },
 "nbformat": 4,
 "nbformat_minor": 2
}
