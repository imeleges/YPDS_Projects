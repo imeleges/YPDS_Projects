{
 "cells": [
  {
   "cell_type": "markdown",
   "metadata": {},
   "source": [
    "# Классификация комментариев"
   ]
  },
  {
   "cell_type": "markdown",
   "metadata": {},
   "source": [
    "В связи с запуском нового сервиса интернет-магазина «Викишоп» нужен инструмент, который будет искать токсичные комментарии и отправлять их на модерацию. Пользователи могут редактировать и дополнять описания товаров, как в вики-сообществах.  \n",
    "То есть клиенты предлагают свои правки и комментируют изменения других. \n",
    "\n",
    "Нужно обучить модель классифицировать комментарии на позитивные и негативные используя доступный набор данных с разметкой о токсичности правок.\n",
    "\n",
    "Значение метрики качества `F1` для модели должно быть не меньше `0.75`.\n",
    "\n",
    "**Этапы выполнения проекта**\n",
    "\n",
    "- Загрузка и подготовка данных.\n",
    "- Обучение разных моделей.\n",
    "- Тестирование успешных моделей.\n",
    "- Общие выводы.\n",
    "\n",
    "**Описание данных**\n",
    "\n",
    "Исходные данные находятся в файле `toxic_comments.csv`. \n",
    "- `text` — содержит текст комментария, \n",
    "- `toxic` — целевой признак."
   ]
  },
  {
   "cell_type": "markdown",
   "metadata": {
    "toc": true
   },
   "source": [
    "<h1>Содержание<span class=\"tocSkip\"></span></h1>\n",
    "<div class=\"toc\"><ul class=\"toc-item\"><li><span><a href=\"#Подготовка\" data-toc-modified-id=\"Подготовка-1\"><span class=\"toc-item-num\">1&nbsp;&nbsp;</span>Подготовка</a></span></li><li><span><a href=\"#Обучение\" data-toc-modified-id=\"Обучение-2\"><span class=\"toc-item-num\">2&nbsp;&nbsp;</span>Обучение</a></span><ul class=\"toc-item\"><li><span><a href=\"#LogisticRegression\" data-toc-modified-id=\"LogisticRegression-2.1\"><span class=\"toc-item-num\">2.1&nbsp;&nbsp;</span><code>LogisticRegression</code></a></span></li><li><span><a href=\"#RandomForestClassifier\" data-toc-modified-id=\"RandomForestClassifier-2.2\"><span class=\"toc-item-num\">2.2&nbsp;&nbsp;</span><code>RandomForestClassifier</code></a></span></li><li><span><a href=\"#LGBMClassifier\" data-toc-modified-id=\"LGBMClassifier-2.3\"><span class=\"toc-item-num\">2.3&nbsp;&nbsp;</span><code>LGBMClassifier</code></a></span></li></ul></li><li><span><a href=\"#Тестирование\" data-toc-modified-id=\"Тестирование-3\"><span class=\"toc-item-num\">3&nbsp;&nbsp;</span>Тестирование</a></span><ul class=\"toc-item\"><li><span><a href=\"#LogisticRegression\" data-toc-modified-id=\"LogisticRegression-3.1\"><span class=\"toc-item-num\">3.1&nbsp;&nbsp;</span><code>LogisticRegression</code></a></span></li><li><span><a href=\"#RandomForestClassifier\" data-toc-modified-id=\"RandomForestClassifier-3.2\"><span class=\"toc-item-num\">3.2&nbsp;&nbsp;</span><code>RandomForestClassifier</code></a></span></li><li><span><a href=\"#LGBMClassifier\" data-toc-modified-id=\"LGBMClassifier-3.3\"><span class=\"toc-item-num\">3.3&nbsp;&nbsp;</span><code>LGBMClassifier</code></a></span></li></ul></li><li><span><a href=\"#Выводы\" data-toc-modified-id=\"Выводы-4\"><span class=\"toc-item-num\">4&nbsp;&nbsp;</span>Выводы</a></span></li></ul></div>"
   ]
  },
  {
   "cell_type": "markdown",
   "metadata": {},
   "source": [
    "## Подготовка"
   ]
  },
  {
   "cell_type": "markdown",
   "metadata": {},
   "source": [
    "Подключение библиотек для работы над проектом"
   ]
  },
  {
   "cell_type": "code",
   "execution_count": 1,
   "metadata": {},
   "outputs": [
    {
     "name": "stderr",
     "output_type": "stream",
     "text": [
      "[nltk_data] Downloading package stopwords to /home/jovyan/nltk_data...\n",
      "[nltk_data]   Package stopwords is already up-to-date!\n"
     ]
    }
   ],
   "source": [
    "import pandas as pd\n",
    "import re\n",
    "import time\n",
    "import matplotlib.pyplot as plt\n",
    "\n",
    "from sklearn.pipeline import Pipeline\n",
    "\n",
    "import nltk\n",
    "from nltk.corpus import stopwords as nltk_stopwords\n",
    "nltk.download('stopwords')\n",
    "\n",
    "from sklearn.feature_extraction.text import TfidfVectorizer\n",
    "from sklearn.linear_model import LogisticRegression\n",
    "from sklearn.ensemble import RandomForestClassifier\n",
    "from lightgbm import LGBMClassifier\n",
    "\n",
    "from sklearn.model_selection import GridSearchCV\n",
    "from sklearn.model_selection import train_test_split\n",
    "from sklearn.metrics import f1_score"
   ]
  },
  {
   "cell_type": "markdown",
   "metadata": {},
   "source": [
    "Подключим файл с данными `/datasets/toxic_comments.csv` и т.к. текст комментариев на английском, сразу укажем нужную кодировку `encoding='UTF-8'`"
   ]
  },
  {
   "cell_type": "code",
   "execution_count": 2,
   "metadata": {},
   "outputs": [],
   "source": [
    "df = pd.read_csv('/datasets/toxic_comments.csv', encoding='UTF-8')"
   ]
  },
  {
   "cell_type": "markdown",
   "metadata": {},
   "source": [
    "Посмотрим на общую информацию датафрейма с помощью метода `.info()`"
   ]
  },
  {
   "cell_type": "code",
   "execution_count": 3,
   "metadata": {},
   "outputs": [
    {
     "name": "stdout",
     "output_type": "stream",
     "text": [
      "<class 'pandas.core.frame.DataFrame'>\n",
      "RangeIndex: 159571 entries, 0 to 159570\n",
      "Data columns (total 2 columns):\n",
      " #   Column  Non-Null Count   Dtype \n",
      "---  ------  --------------   ----- \n",
      " 0   text    159571 non-null  object\n",
      " 1   toxic   159571 non-null  int64 \n",
      "dtypes: int64(1), object(1)\n",
      "memory usage: 2.4+ MB\n"
     ]
    }
   ],
   "source": [
    "df.info()"
   ]
  },
  {
   "cell_type": "markdown",
   "metadata": {},
   "source": [
    "Всего записей `159571` и два типа данных `object` и `int64`.  \n",
    "Чтобы охватить взглядом больше данных, растянем колонку с текстом и выведем первые 5 строк датафрейма"
   ]
  },
  {
   "cell_type": "code",
   "execution_count": 4,
   "metadata": {},
   "outputs": [
    {
     "data": {
      "text/html": [
       "<style  type=\"text/css\" >\n",
       "#T_c2e4e_row0_col0,#T_c2e4e_row1_col0,#T_c2e4e_row2_col0,#T_c2e4e_row3_col0,#T_c2e4e_row4_col0{\n",
       "            text-align:  left;\n",
       "        }</style><table id=\"T_c2e4e_\" ><thead>    <tr>        <th class=\"blank level0\" ></th>        <th class=\"col_heading level0 col0\" >text</th>        <th class=\"col_heading level0 col1\" >toxic</th>    </tr></thead><tbody>\n",
       "                <tr>\n",
       "                        <th id=\"T_c2e4e_level0_row0\" class=\"row_heading level0 row0\" >0</th>\n",
       "                        <td id=\"T_c2e4e_row0_col0\" class=\"data row0 col0\" >Explanation\n",
       "Why the edits made under my username Hardcore Metallica Fan were reverted? They weren't vandalisms, just closure on some GAs after I voted at New York Dolls FAC. And please don't remove the template from the talk page since I'm retired now.89.205.38.27</td>\n",
       "                        <td id=\"T_c2e4e_row0_col1\" class=\"data row0 col1\" >0</td>\n",
       "            </tr>\n",
       "            <tr>\n",
       "                        <th id=\"T_c2e4e_level0_row1\" class=\"row_heading level0 row1\" >1</th>\n",
       "                        <td id=\"T_c2e4e_row1_col0\" class=\"data row1 col0\" >D'aww! He matches this background colour I'm seemingly stuck with. Thanks.  (talk) 21:51, January 11, 2016 (UTC)</td>\n",
       "                        <td id=\"T_c2e4e_row1_col1\" class=\"data row1 col1\" >0</td>\n",
       "            </tr>\n",
       "            <tr>\n",
       "                        <th id=\"T_c2e4e_level0_row2\" class=\"row_heading level0 row2\" >2</th>\n",
       "                        <td id=\"T_c2e4e_row2_col0\" class=\"data row2 col0\" >Hey man, I'm really not trying to edit war. It's just that this guy is constantly removing relevant information and talking to me through edits instead of my talk page. He seems to care more about the formatting than the actual info.</td>\n",
       "                        <td id=\"T_c2e4e_row2_col1\" class=\"data row2 col1\" >0</td>\n",
       "            </tr>\n",
       "            <tr>\n",
       "                        <th id=\"T_c2e4e_level0_row3\" class=\"row_heading level0 row3\" >3</th>\n",
       "                        <td id=\"T_c2e4e_row3_col0\" class=\"data row3 col0\" >\"\n",
       "More\n",
       "I can't make any real suggestions on improvement - I wondered if the section statistics should be later on, or a subsection of \"\"types of accidents\"\"  -I think the references may need tidying so that they are all in the exact same format ie date format etc. I can do that later on, if no-one else does first - if you have any preferences for formatting style on references or want to do it yourself please let me know.\n",
       "\n",
       "There appears to be a backlog on articles for review so I guess there may be a delay until a reviewer turns up. It's listed in the relevant form eg Wikipedia:Good_article_nominations#Transport  \"</td>\n",
       "                        <td id=\"T_c2e4e_row3_col1\" class=\"data row3 col1\" >0</td>\n",
       "            </tr>\n",
       "            <tr>\n",
       "                        <th id=\"T_c2e4e_level0_row4\" class=\"row_heading level0 row4\" >4</th>\n",
       "                        <td id=\"T_c2e4e_row4_col0\" class=\"data row4 col0\" >You, sir, are my hero. Any chance you remember what page that's on?</td>\n",
       "                        <td id=\"T_c2e4e_row4_col1\" class=\"data row4 col1\" >0</td>\n",
       "            </tr>\n",
       "    </tbody></table>"
      ],
      "text/plain": [
       "<pandas.io.formats.style.Styler at 0x7f8769d85700>"
      ]
     },
     "metadata": {},
     "output_type": "display_data"
    },
    {
     "name": "stdout",
     "output_type": "stream",
     "text": [
      "Строк: 159571\n",
      "Колонок: 2\n"
     ]
    }
   ],
   "source": [
    "display(df.head().style.set_properties(subset=['text'],**{'text-align': 'left'}))\n",
    "print(f\"Строк: {df.shape[0]}\\nКолонок: {df.shape[1]}\")"
   ]
  },
  {
   "cell_type": "markdown",
   "metadata": {},
   "source": [
    "Баланс распределения классов в данных"
   ]
  },
  {
   "cell_type": "code",
   "execution_count": 5,
   "metadata": {},
   "outputs": [
    {
     "data": {
      "image/png": "[encoded data removed]",
      "text/plain": [
       "<Figure size 432x288 with 1 Axes>"
      ]
     },
     "metadata": {},
     "output_type": "display_data"
    }
   ],
   "source": [
    "df['toxic'].value_counts(normalize=True).plot(kind='pie',\n",
    "                                              autopct='%1.1f%%',\n",
    "                                              labels=['Отзыв не токсичный, класс [0]',\n",
    "                                                      'Отзыв токсичный, класс [1]'])\n",
    "plt.title('Баланс распределения классов в данных')\n",
    "plt.ylabel('')\n",
    "plt.show()"
   ]
  },
  {
   "cell_type": "markdown",
   "metadata": {},
   "source": [
    "Токсичных отзывов около 10% от общего числа"
   ]
  },
  {
   "cell_type": "markdown",
   "metadata": {},
   "source": [
    "Теперь с помощью регулярных выражений `re.sub()` напишем функцию для обработки текста для дальнейшего исследования."
   ]
  },
  {
   "cell_type": "code",
   "execution_count": 6,
   "metadata": {},
   "outputs": [],
   "source": [
    "def clean_text(text):\n",
    "    text = text.lower()\n",
    "    text = re.sub(r\"[0-9]+\", \"\", text)\n",
    "    text = re.sub(r\"what's\", \"what is \", text)\n",
    "    text = re.sub(r\"\\'s\", \" \", text)\n",
    "    text = re.sub(r\"\\'ve\", \" have \", text)\n",
    "    text = re.sub(r\"can't\", \"cannot \", text)\n",
    "    text = re.sub(r\"n't\", \" not \", text)\n",
    "    text = re.sub(r\"i'm\", \"i am \", text)\n",
    "    text = re.sub(r\"\\'re\", \" are \", text)\n",
    "    text = re.sub(r\"\\'d\", \" would \", text)\n",
    "    text = re.sub(r\"\\'ll\", \" will \", text)\n",
    "    text = re.sub('\\W', ' ', text)\n",
    "    text = re.sub('\\s+', ' ', text)\n",
    "    text = text.strip(' ')\n",
    "    return text"
   ]
  },
  {
   "cell_type": "code",
   "execution_count": 7,
   "metadata": {},
   "outputs": [],
   "source": [
    "df['text'] = df['text'].map(lambda x: clean_text(x))"
   ]
  },
  {
   "cell_type": "markdown",
   "metadata": {},
   "source": [
    "После обработки проверим на наличие дубликатов и удалим в случае обнаружения."
   ]
  },
  {
   "cell_type": "code",
   "execution_count": 8,
   "metadata": {},
   "outputs": [
    {
     "data": {
      "text/plain": [
       "1275"
      ]
     },
     "execution_count": 8,
     "metadata": {},
     "output_type": "execute_result"
    }
   ],
   "source": [
    "df.duplicated().sum()"
   ]
  },
  {
   "cell_type": "code",
   "execution_count": 9,
   "metadata": {
    "scrolled": true
   },
   "outputs": [],
   "source": [
    "# df[df['text'].duplicated()].style.set_properties(subset=['text'],**{'text-align': 'left'})"
   ]
  },
  {
   "cell_type": "code",
   "execution_count": 10,
   "metadata": {},
   "outputs": [],
   "source": [
    "df = df.drop_duplicates(subset=['text'])"
   ]
  },
  {
   "cell_type": "markdown",
   "metadata": {},
   "source": [
    "Еще раз посмотрим на данные после обработки выведя их на экран"
   ]
  },
  {
   "cell_type": "code",
   "execution_count": 11,
   "metadata": {
    "scrolled": true
   },
   "outputs": [
    {
     "data": {
      "text/html": [
       "<style  type=\"text/css\" >\n",
       "#T_712f0_row0_col0,#T_712f0_row1_col0,#T_712f0_row2_col0,#T_712f0_row3_col0,#T_712f0_row4_col0{\n",
       "            text-align:  left;\n",
       "        }</style><table id=\"T_712f0_\" ><thead>    <tr>        <th class=\"blank level0\" ></th>        <th class=\"col_heading level0 col0\" >text</th>        <th class=\"col_heading level0 col1\" >toxic</th>    </tr></thead><tbody>\n",
       "                <tr>\n",
       "                        <th id=\"T_712f0_level0_row0\" class=\"row_heading level0 row0\" >0</th>\n",
       "                        <td id=\"T_712f0_row0_col0\" class=\"data row0 col0\" >explanation why the edits made under my username hardcore metallica fan were reverted they were not vandalisms just closure on some gas after i voted at new york dolls fac and please do not remove the template from the talk page since i am retired now</td>\n",
       "                        <td id=\"T_712f0_row0_col1\" class=\"data row0 col1\" >0</td>\n",
       "            </tr>\n",
       "            <tr>\n",
       "                        <th id=\"T_712f0_level0_row1\" class=\"row_heading level0 row1\" >1</th>\n",
       "                        <td id=\"T_712f0_row1_col0\" class=\"data row1 col0\" >d aww he matches this background colour i am seemingly stuck with thanks talk january utc</td>\n",
       "                        <td id=\"T_712f0_row1_col1\" class=\"data row1 col1\" >0</td>\n",
       "            </tr>\n",
       "            <tr>\n",
       "                        <th id=\"T_712f0_level0_row2\" class=\"row_heading level0 row2\" >2</th>\n",
       "                        <td id=\"T_712f0_row2_col0\" class=\"data row2 col0\" >hey man i am really not trying to edit war it just that this guy is constantly removing relevant information and talking to me through edits instead of my talk page he seems to care more about the formatting than the actual info</td>\n",
       "                        <td id=\"T_712f0_row2_col1\" class=\"data row2 col1\" >0</td>\n",
       "            </tr>\n",
       "            <tr>\n",
       "                        <th id=\"T_712f0_level0_row3\" class=\"row_heading level0 row3\" >3</th>\n",
       "                        <td id=\"T_712f0_row3_col0\" class=\"data row3 col0\" >more i cannot make any real suggestions on improvement i wondered if the section statistics should be later on or a subsection of types of accidents i think the references may need tidying so that they are all in the exact same format ie date format etc i can do that later on if no one else does first if you have any preferences for formatting style on references or want to do it yourself please let me know there appears to be a backlog on articles for review so i guess there may be a delay until a reviewer turns up it listed in the relevant form eg wikipedia good_article_nominations transport</td>\n",
       "                        <td id=\"T_712f0_row3_col1\" class=\"data row3 col1\" >0</td>\n",
       "            </tr>\n",
       "            <tr>\n",
       "                        <th id=\"T_712f0_level0_row4\" class=\"row_heading level0 row4\" >4</th>\n",
       "                        <td id=\"T_712f0_row4_col0\" class=\"data row4 col0\" >you sir are my hero any chance you remember what page that on</td>\n",
       "                        <td id=\"T_712f0_row4_col1\" class=\"data row4 col1\" >0</td>\n",
       "            </tr>\n",
       "    </tbody></table>"
      ],
      "text/plain": [
       "<pandas.io.formats.style.Styler at 0x7f8769d7de80>"
      ]
     },
     "metadata": {},
     "output_type": "display_data"
    },
    {
     "name": "stdout",
     "output_type": "stream",
     "text": [
      "Строк: 158268\n",
      "Колонок: 2\n"
     ]
    }
   ],
   "source": [
    "display(df.head().style.set_properties(subset=['text'],**{'text-align': 'left'}))\n",
    "print(f\"Строк: {df.shape[0]}\\nКолонок: {df.shape[1]}\")"
   ]
  },
  {
   "cell_type": "markdown",
   "metadata": {},
   "source": [
    "Вызовем функцию `stopwords.words()`, передадим ей аргумент `'english'`, то есть англоязычные стоп-слова:"
   ]
  },
  {
   "cell_type": "code",
   "execution_count": 12,
   "metadata": {},
   "outputs": [],
   "source": [
    "stopwords = set(nltk_stopwords.words('english'))"
   ]
  },
  {
   "cell_type": "markdown",
   "metadata": {},
   "source": [
    "Создадим счётчик, указав в нём стоп-слова"
   ]
  },
  {
   "cell_type": "code",
   "execution_count": 13,
   "metadata": {},
   "outputs": [],
   "source": [
    "# count_tf_idf = TfidfVectorizer(stop_words=stopwords)\n",
    "count_tf_idf = TfidfVectorizer(ngram_range=(1,3),\n",
    "                               min_df=3,\n",
    "                               max_df=0.9,\n",
    "                               use_idf=1,\n",
    "                               smooth_idf=1,\n",
    "                               sublinear_tf=1,\n",
    "                               stop_words=stopwords)"
   ]
  },
  {
   "cell_type": "markdown",
   "metadata": {},
   "source": [
    "## Обучение"
   ]
  },
  {
   "cell_type": "markdown",
   "metadata": {},
   "source": [
    "Рассмотрим несколько моделей `LogisticRegression`, `RandomForestClassifier` и `LightGBMClassifier`.  \n",
    "Разделим датафрейм на обучающую и тестовую выборки."
   ]
  },
  {
   "cell_type": "code",
   "execution_count": 14,
   "metadata": {},
   "outputs": [],
   "source": [
    "features = df['text']\n",
    "target = df['toxic']\n",
    "\n",
    "features_train, features_test, target_train, target_test = train_test_split(features,\n",
    "                                                                            target,\n",
    "                                                                            test_size = 0.3,\n",
    "                                                                            random_state=12345)"
   ]
  },
  {
   "cell_type": "markdown",
   "metadata": {},
   "source": [
    "Создадим корпус постов. Преобразуем колонку `text` в список текстов.  \n",
    "Изменим кодировку на `Unicode (U)` методом `astype()`"
   ]
  },
  {
   "cell_type": "code",
   "execution_count": 15,
   "metadata": {},
   "outputs": [],
   "source": [
    "corpus_train = features_train.astype('U')\n",
    "corpus_test = features_test.astype('U')"
   ]
  },
  {
   "cell_type": "markdown",
   "metadata": {},
   "source": [
    "Чтобы посчитать `TF-IDF` для корпуса текстов, вызовем функцию `fit_transform()`"
   ]
  },
  {
   "cell_type": "code",
   "execution_count": 16,
   "metadata": {},
   "outputs": [
    {
     "data": {
      "text/plain": [
       "(110787, 249558)"
      ]
     },
     "execution_count": 16,
     "metadata": {},
     "output_type": "execute_result"
    }
   ],
   "source": [
    "tf_idf = count_tf_idf.fit_transform(corpus_train)\n",
    "tf_idf.shape"
   ]
  },
  {
   "cell_type": "markdown",
   "metadata": {},
   "source": [
    "Т.к. данные разделены на обучающую и тестовую выборки, функцию fit() запустим только на обучающей. Иначе тестирование будет нечестным: в модели будут учтены частоты слов из тестовой выборки."
   ]
  },
  {
   "cell_type": "code",
   "execution_count": 17,
   "metadata": {
    "scrolled": true
   },
   "outputs": [
    {
     "data": {
      "text/plain": [
       "(47481, 249558)"
      ]
     },
     "execution_count": 17,
     "metadata": {},
     "output_type": "execute_result"
    }
   ],
   "source": [
    "tf_idf_test = count_tf_idf.transform(corpus_test)\n",
    "tf_idf_test.shape"
   ]
  },
  {
   "cell_type": "markdown",
   "metadata": {},
   "source": [
    "⚠️ - Перебор параметров для некоторых моделей может занимать очень много ресурсов и времени, по этому часть кода закомментирована."
   ]
  },
  {
   "cell_type": "markdown",
   "metadata": {},
   "source": [
    "### `LogisticRegression`"
   ]
  },
  {
   "cell_type": "code",
   "execution_count": 18,
   "metadata": {
    "scrolled": true
   },
   "outputs": [
    {
     "name": "stdout",
     "output_type": "stream",
     "text": [
      "Лучшие параметры: {'C': 10, 'class_weight': None, 'max_iter': 100, 'penalty': 'l1', 'solver': 'liblinear'}\n",
      "Показатель F1-меры: 0.9883209055790135\n",
      "CPU times: user 20.1 s, sys: 438 ms, total: 20.5 s\n",
      "Wall time: 20.5 s\n"
     ]
    }
   ],
   "source": [
    "%%time\n",
    "LR_model = LogisticRegression(random_state=12345)\n",
    "\n",
    "# LR_parameters = {\n",
    "#     'penalty':['l1', 'l2'],\n",
    "#     'C': [10,100],\n",
    "#     'solver':['liblinear'],\n",
    "#     'max_iter':[100,200],\n",
    "#     'class_weight':[None, 'balanced'],\n",
    "#     }\n",
    "\n",
    "# Лучшие параметры: {'C': 10, 'class_weight': None, 'max_iter': 100, 'penalty': 'l1', 'solver': 'liblinear'}\n",
    "LR_parameters = {'C': [10], 'class_weight': [None], 'max_iter': [100], 'penalty': ['l1'], 'solver': ['liblinear']}\n",
    "\n",
    "grid = GridSearchCV(\n",
    "    LR_model,\n",
    "    param_grid = LR_parameters,\n",
    "    scoring = 'f1',\n",
    "    cv = 5,\n",
    "    )\n",
    "\n",
    "grid.fit(tf_idf,target_train)\n",
    "predictions_train = grid.predict(tf_idf)\n",
    "\n",
    "best_params = grid.best_params_\n",
    "f1 = f1_score(target_train, predictions_train)\n",
    "\n",
    "print(f\"Лучшие параметры: {best_params}\\n\"\n",
    "      f\"Показатель F1-меры: {f1}\")\n",
    "\n",
    "# ---\n",
    "# Лучшие параметры: {'C': 10, 'class_weight': None, 'max_iter': 100, 'penalty': 'l1', 'solver': 'liblinear'}\n",
    "# Лучий показатель F1-меры: 0.9870509977827051\n",
    "# CPU times: user 3min 48s, sys: 1min 29s, total: 5min 17s\n",
    "# Wall time: 3min 46s"
   ]
  },
  {
   "cell_type": "markdown",
   "metadata": {},
   "source": [
    "### `RandomForestClassifier`"
   ]
  },
  {
   "cell_type": "code",
   "execution_count": 20,
   "metadata": {},
   "outputs": [
    {
     "name": "stdout",
     "output_type": "stream",
     "text": [
      "Лучшие параметры: {'max_depth': 1000, 'n_estimators': 100}\n",
      "Показатель F1-меры: 0.9883405639913232\n",
      "CPU times: user 53min 5s, sys: 3.37 s, total: 53min 8s\n",
      "Wall time: 53min 29s\n"
     ]
    }
   ],
   "source": [
    "%%time\n",
    "RFC_model = RandomForestClassifier(random_state=12345)\n",
    "\n",
    "RFC_parameters = {'max_depth': [1000], 'n_estimators': [100]}\n",
    "\n",
    "grid = GridSearchCV(\n",
    "    RFC_model,\n",
    "    param_grid = RFC_parameters,\n",
    "    cv = 5,\n",
    "    scoring='f1',\n",
    "    )\n",
    "\n",
    "grid.fit(tf_idf, target_train)\n",
    "predictions_train = grid.predict(tf_idf)\n",
    "\n",
    "best_params = grid.best_params_\n",
    "f1 = f1_score(target_train, predictions_train)\n",
    "\n",
    "print(f\"Лучшие параметры: {best_params}\\n\"\n",
    "      f\"Показатель F1-меры: {f1}\")\n",
    "\n",
    "# ---\n",
    "# Лучшие параметры: {'max_depth': 1000, 'n_estimators': 100}\n",
    "# Показатель F1-меры: 0.9883405639913232\n",
    "# CPU times: user 53min 5s, sys: 3.37 s, total: 53min 8s\n",
    "# Wall time: 53min 29s"
   ]
  },
  {
   "cell_type": "markdown",
   "metadata": {},
   "source": [
    "### `LGBMClassifier`"
   ]
  },
  {
   "cell_type": "markdown",
   "metadata": {},
   "source": [
    "Попробуем сначала без подбора гиперпараметров"
   ]
  },
  {
   "cell_type": "code",
   "execution_count": 21,
   "metadata": {},
   "outputs": [
    {
     "name": "stdout",
     "output_type": "stream",
     "text": [
      "Показатель F1-меры: 0.7804826972409823\n",
      "CPU times: user 12min 51s, sys: 4.3 s, total: 12min 55s\n",
      "Wall time: 13min 1s\n"
     ]
    }
   ],
   "source": [
    "%%time\n",
    "LGBMC_model = LGBMClassifier(random_state=12345)\n",
    "\n",
    "LGBMC_model.fit(tf_idf,target_train)\n",
    "predictions_train = LGBMC_model.predict(tf_idf)\n",
    "\n",
    "f1 = f1_score(target_train, predictions_train)\n",
    "print(f\"Показатель F1-меры: {f1}\")\n",
    "\n",
    "# ---\n",
    "# Показатель F1-меры: 0.7804826972409823\n",
    "# CPU times: user 12min 51s, sys: 4.3 s, total: 12min 55s\n",
    "# Wall time: 13min 1s"
   ]
  },
  {
   "cell_type": "code",
   "execution_count": 22,
   "metadata": {},
   "outputs": [
    {
     "name": "stdout",
     "output_type": "stream",
     "text": [
      "Лучшие параметры: {'learning_rate': 0.15, 'max_depth': -1, 'n_estimators': 200}\n",
      "Показатель F1-меры: 0.8555809561673788\n",
      "CPU times: user 39min 48s, sys: 10.2 s, total: 39min 58s\n",
      "Wall time: 40min 15s\n"
     ]
    }
   ],
   "source": [
    "%%time\n",
    "LGBMC_model = LGBMClassifier(random_state=12345)\n",
    "\n",
    "# LGBMC_parameters = {\n",
    "#   'n_estimators': [200],\n",
    "#   'learning_rate': [0.15, 0.25],\n",
    "#   'max_depth': [8, 10, -1],\n",
    "#   }\n",
    "\n",
    "LGBMC_parameters = {'learning_rate': [0.15], 'max_depth': [-1], 'n_estimators': [200]}\n",
    "\n",
    "grid = GridSearchCV(\n",
    "    LGBMC_model,\n",
    "    param_grid = LGBMC_parameters,\n",
    "    cv = 5,\n",
    "    scoring='f1',\n",
    "    )\n",
    "\n",
    "grid.fit(tf_idf, target_train)\n",
    "predictions_train = grid.predict(tf_idf)\n",
    "\n",
    "best_params = grid.best_params_\n",
    "f1 = f1_score(target_train, predictions_train)\n",
    "\n",
    "print(f\"Лучшие параметры: {best_params}\\n\"\n",
    "      f\"Показатель F1-меры: {f1}\")\n",
    "\n",
    "# ---\n",
    "# Лучшие параметры: {'learning_rate': 0.15, 'max_depth': -1, 'n_estimators': 200}\n",
    "# Показатель F1-меры: 0.8555809561673788\n",
    "# CPU times: user 39min 48s, sys: 10.2 s, total: 39min 58s\n",
    "# Wall time: 40min 15s"
   ]
  },
  {
   "cell_type": "markdown",
   "metadata": {},
   "source": [
    "## Тестирование"
   ]
  },
  {
   "cell_type": "markdown",
   "metadata": {},
   "source": [
    "### `LogisticRegression`"
   ]
  },
  {
   "cell_type": "code",
   "execution_count": 23,
   "metadata": {},
   "outputs": [
    {
     "name": "stdout",
     "output_type": "stream",
     "text": [
      "Показатель F1-меры: 0.7819894829097283\n",
      "CPU times: user 3.89 s, sys: 69.1 ms, total: 3.96 s\n",
      "Wall time: 3.96 s\n"
     ]
    }
   ],
   "source": [
    "%%time\n",
    "#LogisticRegression\n",
    "# Лучшие параметры: {'C': 10, 'class_weight': None, 'max_iter': 100, 'penalty': 'l1', 'solver': 'liblinear'}\n",
    "LR_model = LogisticRegression(\n",
    "    random_state=12345,\n",
    "    C = 10,\n",
    "    class_weight = None,\n",
    "    max_iter = 100,\n",
    "    penalty = 'l1',\n",
    "    solver = 'liblinear',\n",
    ")\n",
    "\n",
    "LR_model.fit(tf_idf,target_train)\n",
    "predictions_test = LR_model.predict(tf_idf_test)\n",
    "f1 = f1_score(target_test, predictions_test)\n",
    "\n",
    "print(f\"Показатель F1-меры: {f1}\")\n",
    "\n",
    "# ---\n",
    "# Показатель F1-меры: 0.7819894829097283\n",
    "# CPU times: user 3.89 s, sys: 69.1 ms, total: 3.96 s\n",
    "# Wall time: 3.96 s"
   ]
  },
  {
   "cell_type": "markdown",
   "metadata": {},
   "source": [
    "### `RandomForestClassifier`"
   ]
  },
  {
   "cell_type": "code",
   "execution_count": 24,
   "metadata": {},
   "outputs": [
    {
     "name": "stdout",
     "output_type": "stream",
     "text": [
      "Показатель F1-меры: 0.7126063031515758\n",
      "CPU times: user 8min 52s, sys: 400 ms, total: 8min 52s\n",
      "Wall time: 8min 56s\n"
     ]
    }
   ],
   "source": [
    "%%time\n",
    "# RandomForestClassifier\n",
    "# Лучшие параметры: {'max_depth': 11, 'n_estimators': 30}\n",
    "\n",
    "RFC_model = RandomForestClassifier(random_state=12345,\n",
    "                                   max_depth=1000,\n",
    "                                   n_estimators=100,\n",
    "                                   )\n",
    "\n",
    "RFC_model.fit(tf_idf, target_train)\n",
    "\n",
    "predictions_test = RFC_model.predict(tf_idf_test)\n",
    "f1 = f1_score(target_test, predictions_test)\n",
    "\n",
    "print(f\"Показатель F1-меры: {f1}\")\n",
    "\n",
    "# ---\n",
    "# Показатель F1-меры: 0.7126063031515758\n",
    "# CPU times: user 8min 52s, sys: 400 ms, total: 8min 52s\n",
    "# Wall time: 8min 56s"
   ]
  },
  {
   "cell_type": "markdown",
   "metadata": {},
   "source": [
    "### `LGBMClassifier`"
   ]
  },
  {
   "cell_type": "code",
   "execution_count": 25,
   "metadata": {
    "scrolled": true
   },
   "outputs": [
    {
     "name": "stdout",
     "output_type": "stream",
     "text": [
      "Показатель F1-меры: 0.7744161969400666\n",
      "CPU times: user 16min 13s, sys: 5.71 s, total: 16min 19s\n",
      "Wall time: 16min 26s\n"
     ]
    }
   ],
   "source": [
    "%%time\n",
    "#LGBMClassifier\n",
    "# Лучшие параметры: {'learning_rate': 0.15, 'max_depth': -1, 'n_estimators': 200}\n",
    "\n",
    "LGBMC_model = LGBMClassifier(\n",
    "    learning_rate=0.15,\n",
    "    max_depth=-1,\n",
    "    n_estimators=200,\n",
    "    random_state=12345,\n",
    ")\n",
    "\n",
    "LGBMC_model.fit(tf_idf, target_train)\n",
    "\n",
    "predictions_test = LGBMC_model.predict(tf_idf_test)\n",
    "f1 = f1_score(target_test, predictions_test)\n",
    "\n",
    "print(f\"Показатель F1-меры: {f1}\")\n",
    "\n",
    "# ---\n",
    "# Показатель F1-меры: 0.7744161969400666\n",
    "# CPU times: user 16min 13s, sys: 5.71 s, total: 16min 19s\n",
    "# Wall time: 16min 26s"
   ]
  },
  {
   "cell_type": "markdown",
   "metadata": {},
   "source": [
    "---"
   ]
  },
  {
   "cell_type": "markdown",
   "metadata": {},
   "source": [
    "## Выводы"
   ]
  },
  {
   "cell_type": "markdown",
   "metadata": {},
   "source": [
    "Для выполнения проекта требовалось обучить модель классифицировать комментарии на позитивные и негативные комментарии используя доступный набор данных с разметкой о токсичности правок. Обработать комментарии, очистить от стоп-слов.\n",
    "\n",
    "Требуемое значение метрики качества `F1` для модели должно было быть не меньше `0.75`.\n",
    "\n",
    "С использованием различных моделей и подбором гиперапараметров к ним лучший результат `F1` метрики показала модель логистической регрессии `LogisticRegression`:\n",
    " - `0.98` на тренировочной выборке \n",
    " - `0.78` на тестовой\n",
    "\n",
    " "
   ]
  }
 ],
 "metadata": {
  "ExecuteTimeLog": [
   {
    "duration": 470,
    "start_time": "2022-04-04T07:02:17.686Z"
   },
   {
    "duration": 932,
    "start_time": "2022-04-04T07:03:10.272Z"
   },
   {
    "duration": 18,
    "start_time": "2022-04-04T07:03:23.229Z"
   },
   {
    "duration": 40,
    "start_time": "2022-04-04T07:03:44.345Z"
   },
   {
    "duration": 281,
    "start_time": "2022-04-04T07:28:08.069Z"
   },
   {
    "duration": 1561,
    "start_time": "2022-04-04T07:35:43.648Z"
   },
   {
    "duration": 4,
    "start_time": "2022-04-04T07:36:01.485Z"
   },
   {
    "duration": 1690,
    "start_time": "2022-04-04T07:37:11.446Z"
   },
   {
    "duration": 16912,
    "start_time": "2022-04-04T07:37:42.261Z"
   },
   {
    "duration": 5,
    "start_time": "2022-04-04T07:44:27.702Z"
   },
   {
    "duration": 906,
    "start_time": "2022-04-04T07:44:27.710Z"
   },
   {
    "duration": 9,
    "start_time": "2022-04-04T07:44:28.619Z"
   },
   {
    "duration": 59,
    "start_time": "2022-04-04T07:44:28.631Z"
   },
   {
    "duration": 297,
    "start_time": "2022-04-04T07:44:28.693Z"
   },
   {
    "duration": 2050,
    "start_time": "2022-04-04T07:44:59.532Z"
   },
   {
    "duration": 1099,
    "start_time": "2022-04-04T07:45:01.585Z"
   },
   {
    "duration": 20,
    "start_time": "2022-04-04T07:45:02.686Z"
   },
   {
    "duration": 74,
    "start_time": "2022-04-04T07:45:02.708Z"
   },
   {
    "duration": 319,
    "start_time": "2022-04-04T07:45:02.785Z"
   },
   {
    "duration": 8296,
    "start_time": "2022-04-04T07:45:05.155Z"
   },
   {
    "duration": 52321,
    "start_time": "2022-04-04T07:45:14.901Z"
   },
   {
    "duration": 1300,
    "start_time": "2022-04-04T07:47:38.557Z"
   },
   {
    "duration": 2041,
    "start_time": "2022-04-04T07:49:01.269Z"
   },
   {
    "duration": 1431,
    "start_time": "2022-04-04T07:49:03.313Z"
   },
   {
    "duration": 33,
    "start_time": "2022-04-04T07:49:04.746Z"
   },
   {
    "duration": 55,
    "start_time": "2022-04-04T07:49:04.783Z"
   },
   {
    "duration": 410,
    "start_time": "2022-04-04T07:49:04.841Z"
   },
   {
    "duration": 12743,
    "start_time": "2022-04-04T07:49:05.254Z"
   },
   {
    "duration": 59315,
    "start_time": "2022-04-04T07:49:18.000Z"
   },
   {
    "duration": 886,
    "start_time": "2022-04-04T08:03:05.361Z"
   },
   {
    "duration": 772,
    "start_time": "2022-04-04T08:03:17.337Z"
   },
   {
    "duration": 4,
    "start_time": "2022-04-04T08:07:31.519Z"
   },
   {
    "duration": 3,
    "start_time": "2022-04-04T08:07:33.565Z"
   },
   {
    "duration": 10,
    "start_time": "2022-04-04T08:08:08.112Z"
   },
   {
    "duration": 8,
    "start_time": "2022-04-04T08:31:42.243Z"
   },
   {
    "duration": 677,
    "start_time": "2022-04-04T08:31:45.559Z"
   },
   {
    "duration": 6,
    "start_time": "2022-04-04T08:32:10.796Z"
   },
   {
    "duration": 12801,
    "start_time": "2022-04-04T08:32:14.585Z"
   },
   {
    "duration": 11,
    "start_time": "2022-04-04T08:32:51.897Z"
   },
   {
    "duration": 5,
    "start_time": "2022-04-04T08:33:59.023Z"
   },
   {
    "duration": 43,
    "start_time": "2022-04-04T08:57:46.747Z"
   },
   {
    "duration": 1960,
    "start_time": "2022-04-04T09:00:39.949Z"
   },
   {
    "duration": 1011,
    "start_time": "2022-04-04T09:00:41.913Z"
   },
   {
    "duration": 431,
    "start_time": "2022-04-04T09:00:42.926Z"
   },
   {
    "duration": 45,
    "start_time": "2022-04-04T09:00:43.360Z"
   },
   {
    "duration": 313,
    "start_time": "2022-04-04T09:00:43.408Z"
   },
   {
    "duration": 8,
    "start_time": "2022-04-04T09:00:43.723Z"
   },
   {
    "duration": 7,
    "start_time": "2022-04-04T09:00:43.733Z"
   },
   {
    "duration": 12534,
    "start_time": "2022-04-04T09:00:43.742Z"
   },
   {
    "duration": 14,
    "start_time": "2022-04-04T09:00:56.279Z"
   },
   {
    "duration": 34,
    "start_time": "2022-04-04T09:00:59.135Z"
   },
   {
    "duration": 2012,
    "start_time": "2022-04-04T09:01:00.233Z"
   },
   {
    "duration": 3,
    "start_time": "2022-04-04T09:03:13.581Z"
   },
   {
    "duration": 13,
    "start_time": "2022-04-04T09:03:17.621Z"
   },
   {
    "duration": 2330,
    "start_time": "2022-04-04T09:04:12.969Z"
   },
   {
    "duration": 1020,
    "start_time": "2022-04-04T09:04:15.302Z"
   },
   {
    "duration": 376,
    "start_time": "2022-04-04T09:04:16.324Z"
   },
   {
    "duration": 39,
    "start_time": "2022-04-04T09:04:16.703Z"
   },
   {
    "duration": 315,
    "start_time": "2022-04-04T09:04:16.744Z"
   },
   {
    "duration": 15,
    "start_time": "2022-04-04T09:04:17.066Z"
   },
   {
    "duration": 8,
    "start_time": "2022-04-04T09:04:17.083Z"
   },
   {
    "duration": 12705,
    "start_time": "2022-04-04T09:04:17.094Z"
   },
   {
    "duration": 13,
    "start_time": "2022-04-04T09:04:29.801Z"
   },
   {
    "duration": 8,
    "start_time": "2022-04-04T09:04:29.817Z"
   },
   {
    "duration": 9114,
    "start_time": "2022-04-04T09:04:29.827Z"
   },
   {
    "duration": 55700,
    "start_time": "2022-04-04T09:04:38.944Z"
   },
   {
    "duration": 70,
    "start_time": "2022-04-04T09:11:44.010Z"
   },
   {
    "duration": 2327,
    "start_time": "2022-04-04T09:11:59.952Z"
   },
   {
    "duration": 1068,
    "start_time": "2022-04-04T09:12:02.283Z"
   },
   {
    "duration": 383,
    "start_time": "2022-04-04T09:12:03.354Z"
   },
   {
    "duration": 46,
    "start_time": "2022-04-04T09:12:03.741Z"
   },
   {
    "duration": 309,
    "start_time": "2022-04-04T09:12:03.789Z"
   },
   {
    "duration": 9,
    "start_time": "2022-04-04T09:12:04.100Z"
   },
   {
    "duration": 7,
    "start_time": "2022-04-04T09:12:04.111Z"
   },
   {
    "duration": 12631,
    "start_time": "2022-04-04T09:12:04.120Z"
   },
   {
    "duration": 16,
    "start_time": "2022-04-04T09:12:16.754Z"
   },
   {
    "duration": 30,
    "start_time": "2022-04-04T09:12:16.773Z"
   },
   {
    "duration": 130,
    "start_time": "2022-04-04T09:13:17.295Z"
   },
   {
    "duration": 33,
    "start_time": "2022-04-04T09:13:23.114Z"
   },
   {
    "duration": 20,
    "start_time": "2022-04-04T09:14:04.204Z"
   },
   {
    "duration": 7510,
    "start_time": "2022-04-04T09:14:15.182Z"
   },
   {
    "duration": 129,
    "start_time": "2022-04-04T09:14:28.266Z"
   },
   {
    "duration": 14,
    "start_time": "2022-04-04T09:14:43.242Z"
   },
   {
    "duration": 6,
    "start_time": "2022-04-04T09:15:01.622Z"
   },
   {
    "duration": 539911,
    "start_time": "2022-04-04T09:15:07.414Z"
   },
   {
    "duration": 9,
    "start_time": "2022-04-04T09:27:12.360Z"
   },
   {
    "duration": 1677243,
    "start_time": "2022-04-04T09:29:26.517Z"
   },
   {
    "duration": 4,
    "start_time": "2022-04-04T10:57:27.760Z"
   },
   {
    "duration": 7,
    "start_time": "2022-04-04T11:06:38.809Z"
   },
   {
    "duration": 13446,
    "start_time": "2022-04-04T11:06:43.681Z"
   },
   {
    "duration": 14,
    "start_time": "2022-04-04T11:06:59.963Z"
   },
   {
    "duration": 52,
    "start_time": "2022-04-04T11:07:34.464Z"
   },
   {
    "duration": 50,
    "start_time": "2022-04-04T11:07:36.351Z"
   },
   {
    "duration": 7462,
    "start_time": "2022-04-04T11:07:39.690Z"
   },
   {
    "duration": 566774,
    "start_time": "2022-04-04T11:07:51.423Z"
   },
   {
    "duration": 7923,
    "start_time": "2022-04-04T11:17:18.200Z"
   },
   {
    "duration": 7667,
    "start_time": "2022-04-04T11:17:45.726Z"
   },
   {
    "duration": 9,
    "start_time": "2022-04-04T11:18:14.167Z"
   },
   {
    "duration": 13,
    "start_time": "2022-04-04T11:18:34.888Z"
   },
   {
    "duration": 12,
    "start_time": "2022-04-04T11:18:51.754Z"
   },
   {
    "duration": 4,
    "start_time": "2022-04-04T11:24:42.363Z"
   },
   {
    "duration": 3,
    "start_time": "2022-04-04T11:24:43.506Z"
   },
   {
    "duration": 3,
    "start_time": "2022-04-04T11:24:44.032Z"
   },
   {
    "duration": 153,
    "start_time": "2022-04-04T11:25:21.396Z"
   },
   {
    "duration": 8,
    "start_time": "2022-04-04T11:25:31.331Z"
   },
   {
    "duration": 7,
    "start_time": "2022-04-04T11:25:39.687Z"
   },
   {
    "duration": 1925,
    "start_time": "2022-04-04T11:26:06.567Z"
   },
   {
    "duration": 995,
    "start_time": "2022-04-04T11:26:11.697Z"
   },
   {
    "duration": 357,
    "start_time": "2022-04-04T11:26:16.583Z"
   },
   {
    "duration": 14,
    "start_time": "2022-04-04T11:26:37.434Z"
   },
   {
    "duration": 13,
    "start_time": "2022-04-04T11:26:49.502Z"
   },
   {
    "duration": 13,
    "start_time": "2022-04-04T11:27:00.409Z"
   },
   {
    "duration": 13,
    "start_time": "2022-04-04T11:27:04.908Z"
   },
   {
    "duration": 12,
    "start_time": "2022-04-04T11:28:02.800Z"
   },
   {
    "duration": 13,
    "start_time": "2022-04-04T11:28:07.717Z"
   },
   {
    "duration": 14,
    "start_time": "2022-04-04T11:28:13.719Z"
   },
   {
    "duration": 13,
    "start_time": "2022-04-04T11:28:23.283Z"
   },
   {
    "duration": 13,
    "start_time": "2022-04-04T11:28:31.345Z"
   },
   {
    "duration": 47,
    "start_time": "2022-04-04T11:28:47.363Z"
   },
   {
    "duration": 305,
    "start_time": "2022-04-04T11:28:49.840Z"
   },
   {
    "duration": 10,
    "start_time": "2022-04-04T11:28:53.737Z"
   },
   {
    "duration": 7,
    "start_time": "2022-04-04T11:28:57.487Z"
   },
   {
    "duration": 14367,
    "start_time": "2022-04-04T11:28:59.543Z"
   },
   {
    "duration": 13,
    "start_time": "2022-04-04T11:29:13.913Z"
   },
   {
    "duration": 266,
    "start_time": "2022-04-04T11:29:50.934Z"
   },
   {
    "duration": 252,
    "start_time": "2022-04-04T11:30:09.078Z"
   },
   {
    "duration": 105,
    "start_time": "2022-04-04T11:33:31.453Z"
   },
   {
    "duration": 410,
    "start_time": "2022-04-04T11:34:09.126Z"
   },
   {
    "duration": 311,
    "start_time": "2022-04-04T11:37:20.000Z"
   },
   {
    "duration": 4,
    "start_time": "2022-04-04T11:37:44.641Z"
   },
   {
    "duration": 251,
    "start_time": "2022-04-04T11:38:56.322Z"
   },
   {
    "duration": 259,
    "start_time": "2022-04-04T11:39:06.541Z"
   },
   {
    "duration": 18,
    "start_time": "2022-04-04T11:39:08.668Z"
   },
   {
    "duration": 7,
    "start_time": "2022-04-04T11:40:08.808Z"
   },
   {
    "duration": 3,
    "start_time": "2022-04-04T11:40:10.321Z"
   },
   {
    "duration": 4,
    "start_time": "2022-04-04T11:43:42.054Z"
   },
   {
    "duration": 27,
    "start_time": "2022-04-04T11:43:50.785Z"
   },
   {
    "duration": 19,
    "start_time": "2022-04-04T11:43:53.511Z"
   },
   {
    "duration": 27580,
    "start_time": "2022-04-04T11:43:55.536Z"
   },
   {
    "duration": 525833,
    "start_time": "2022-04-04T11:46:32.250Z"
   },
   {
    "duration": 6920,
    "start_time": "2022-04-04T12:00:02.915Z"
   },
   {
    "duration": 7535,
    "start_time": "2022-04-04T12:01:01.063Z"
   },
   {
    "duration": 7655,
    "start_time": "2022-04-04T12:04:29.970Z"
   },
   {
    "duration": 5641,
    "start_time": "2022-04-04T12:04:44.755Z"
   },
   {
    "duration": 13339,
    "start_time": "2022-04-04T12:04:53.815Z"
   },
   {
    "duration": 5649,
    "start_time": "2022-04-04T12:05:13.782Z"
   },
   {
    "duration": 2765,
    "start_time": "2022-04-04T12:05:42.746Z"
   },
   {
    "duration": 5612,
    "start_time": "2022-04-04T12:05:50.728Z"
   },
   {
    "duration": 42,
    "start_time": "2022-04-04T12:43:21.456Z"
   },
   {
    "duration": 505449,
    "start_time": "2022-04-04T12:44:10.000Z"
   },
   {
    "duration": 4,
    "start_time": "2022-04-04T12:52:35.452Z"
   },
   {
    "duration": 272,
    "start_time": "2022-04-04T12:52:50.516Z"
   },
   {
    "duration": 224,
    "start_time": "2022-04-04T12:53:15.235Z"
   },
   {
    "duration": 11,
    "start_time": "2022-04-04T13:14:03.140Z"
   },
   {
    "duration": 115,
    "start_time": "2022-04-04T13:15:35.337Z"
   },
   {
    "duration": 3364,
    "start_time": "2022-04-04T13:16:03.582Z"
   },
   {
    "duration": 6411,
    "start_time": "2022-04-04T13:16:32.029Z"
   },
   {
    "duration": 6354,
    "start_time": "2022-04-04T13:17:26.425Z"
   },
   {
    "duration": 66997,
    "start_time": "2022-04-04T13:18:40.153Z"
   },
   {
    "duration": 62,
    "start_time": "2022-04-04T13:21:16.809Z"
   },
   {
    "duration": 227841,
    "start_time": "2022-04-04T14:02:56.648Z"
   },
   {
    "duration": 2046,
    "start_time": "2022-04-04T14:07:01.913Z"
   },
   {
    "duration": 1062,
    "start_time": "2022-04-04T14:07:03.962Z"
   },
   {
    "duration": 546,
    "start_time": "2022-04-04T14:07:05.026Z"
   },
   {
    "duration": 46,
    "start_time": "2022-04-04T14:07:05.576Z"
   },
   {
    "duration": 43,
    "start_time": "2022-04-04T14:07:05.624Z"
   },
   {
    "duration": 7,
    "start_time": "2022-04-04T14:07:05.670Z"
   },
   {
    "duration": 14905,
    "start_time": "2022-04-04T14:07:05.680Z"
   },
   {
    "duration": 280,
    "start_time": "2022-04-04T14:07:20.587Z"
   },
   {
    "duration": 4,
    "start_time": "2022-04-04T14:07:20.870Z"
   },
   {
    "duration": 282,
    "start_time": "2022-04-04T14:07:20.878Z"
   },
   {
    "duration": 15,
    "start_time": "2022-04-04T14:07:21.162Z"
   },
   {
    "duration": 19,
    "start_time": "2022-04-04T14:07:21.179Z"
   },
   {
    "duration": 9,
    "start_time": "2022-04-04T14:07:21.200Z"
   },
   {
    "duration": 41,
    "start_time": "2022-04-04T14:07:21.211Z"
   },
   {
    "duration": 24,
    "start_time": "2022-04-04T14:07:21.268Z"
   },
   {
    "duration": 195,
    "start_time": "2022-04-04T14:07:21.294Z"
   },
   {
    "duration": 0,
    "start_time": "2022-04-04T14:07:21.492Z"
   },
   {
    "duration": 16,
    "start_time": "2022-04-04T14:07:50.255Z"
   },
   {
    "duration": 5,
    "start_time": "2022-04-04T14:08:50.887Z"
   },
   {
    "duration": 49,
    "start_time": "2022-04-04T14:08:52.659Z"
   },
   {
    "duration": 23,
    "start_time": "2022-04-04T14:08:53.531Z"
   },
   {
    "duration": 10,
    "start_time": "2022-04-04T14:08:54.420Z"
   },
   {
    "duration": 5,
    "start_time": "2022-04-04T14:09:09.533Z"
   },
   {
    "duration": 50,
    "start_time": "2022-04-04T14:09:11.079Z"
   },
   {
    "duration": 31,
    "start_time": "2022-04-04T14:09:12.005Z"
   },
   {
    "duration": 9,
    "start_time": "2022-04-04T14:09:12.836Z"
   },
   {
    "duration": 163,
    "start_time": "2022-04-04T14:09:17.893Z"
   },
   {
    "duration": 2041,
    "start_time": "2022-04-04T14:09:49.946Z"
   },
   {
    "duration": 1042,
    "start_time": "2022-04-04T14:09:51.990Z"
   },
   {
    "duration": 447,
    "start_time": "2022-04-04T14:09:53.034Z"
   },
   {
    "duration": 42,
    "start_time": "2022-04-04T14:09:53.483Z"
   },
   {
    "duration": 8,
    "start_time": "2022-04-04T14:09:53.528Z"
   },
   {
    "duration": 8,
    "start_time": "2022-04-04T14:09:53.567Z"
   },
   {
    "duration": 14140,
    "start_time": "2022-04-04T14:09:53.577Z"
   },
   {
    "duration": 286,
    "start_time": "2022-04-04T14:10:07.720Z"
   },
   {
    "duration": 3,
    "start_time": "2022-04-04T14:10:08.009Z"
   },
   {
    "duration": 308,
    "start_time": "2022-04-04T14:10:08.015Z"
   },
   {
    "duration": 13,
    "start_time": "2022-04-04T14:10:08.326Z"
   },
   {
    "duration": 26,
    "start_time": "2022-04-04T14:10:08.341Z"
   },
   {
    "duration": 4,
    "start_time": "2022-04-04T14:10:08.370Z"
   },
   {
    "duration": 43,
    "start_time": "2022-04-04T14:10:08.378Z"
   },
   {
    "duration": 44,
    "start_time": "2022-04-04T14:10:08.424Z"
   },
   {
    "duration": 14,
    "start_time": "2022-04-04T14:10:08.471Z"
   },
   {
    "duration": 348,
    "start_time": "2022-04-04T14:10:08.487Z"
   },
   {
    "duration": 130,
    "start_time": "2022-04-04T14:11:05.701Z"
   },
   {
    "duration": 112,
    "start_time": "2022-04-04T14:11:10.906Z"
   },
   {
    "duration": 45,
    "start_time": "2022-04-04T14:14:42.502Z"
   },
   {
    "duration": 38,
    "start_time": "2022-04-04T14:14:44.854Z"
   },
   {
    "duration": 12,
    "start_time": "2022-04-04T14:14:45.729Z"
   },
   {
    "duration": 131,
    "start_time": "2022-04-04T14:14:47.858Z"
   },
   {
    "duration": 20,
    "start_time": "2022-04-04T14:15:05.088Z"
   },
   {
    "duration": 83,
    "start_time": "2022-04-04T14:15:35.596Z"
   },
   {
    "duration": 58,
    "start_time": "2022-04-04T14:15:36.694Z"
   },
   {
    "duration": 8972,
    "start_time": "2022-04-04T14:15:37.477Z"
   },
   {
    "duration": 717648,
    "start_time": "2022-04-04T14:15:50.255Z"
   },
   {
    "duration": 18,
    "start_time": "2022-04-04T14:32:18.553Z"
   },
   {
    "duration": 42,
    "start_time": "2022-04-04T14:32:21.048Z"
   },
   {
    "duration": 10,
    "start_time": "2022-04-04T14:32:26.438Z"
   },
   {
    "duration": 1962,
    "start_time": "2022-04-04T14:32:26.451Z"
   },
   {
    "duration": 20,
    "start_time": "2022-04-04T14:32:28.416Z"
   },
   {
    "duration": 74,
    "start_time": "2022-04-04T14:32:28.439Z"
   },
   {
    "duration": 8,
    "start_time": "2022-04-04T14:32:28.517Z"
   },
   {
    "duration": 40,
    "start_time": "2022-04-04T14:32:28.528Z"
   },
   {
    "duration": 66734,
    "start_time": "2022-04-04T14:37:55.861Z"
   },
   {
    "duration": 0,
    "start_time": "2022-04-04T14:39:02.600Z"
   },
   {
    "duration": 0,
    "start_time": "2022-04-04T14:39:02.602Z"
   },
   {
    "duration": 0,
    "start_time": "2022-04-04T14:39:02.605Z"
   },
   {
    "duration": 0,
    "start_time": "2022-04-04T14:39:02.607Z"
   },
   {
    "duration": 0,
    "start_time": "2022-04-04T14:39:02.609Z"
   },
   {
    "duration": 0,
    "start_time": "2022-04-04T14:39:02.610Z"
   },
   {
    "duration": 0,
    "start_time": "2022-04-04T14:39:02.612Z"
   },
   {
    "duration": 0,
    "start_time": "2022-04-04T14:39:02.614Z"
   },
   {
    "duration": 0,
    "start_time": "2022-04-04T14:39:02.617Z"
   },
   {
    "duration": 0,
    "start_time": "2022-04-04T14:39:02.619Z"
   },
   {
    "duration": 0,
    "start_time": "2022-04-04T14:39:02.621Z"
   },
   {
    "duration": 1,
    "start_time": "2022-04-04T14:39:02.622Z"
   },
   {
    "duration": 0,
    "start_time": "2022-04-04T14:39:02.624Z"
   },
   {
    "duration": 0,
    "start_time": "2022-04-04T14:39:02.626Z"
   },
   {
    "duration": 0,
    "start_time": "2022-04-04T14:39:02.627Z"
   },
   {
    "duration": 0,
    "start_time": "2022-04-04T14:39:02.667Z"
   },
   {
    "duration": 2036,
    "start_time": "2022-04-04T14:39:23.689Z"
   },
   {
    "duration": 1034,
    "start_time": "2022-04-04T14:39:25.730Z"
   },
   {
    "duration": 445,
    "start_time": "2022-04-04T14:39:26.768Z"
   },
   {
    "duration": 60,
    "start_time": "2022-04-04T14:39:27.215Z"
   },
   {
    "duration": 10,
    "start_time": "2022-04-04T14:39:27.278Z"
   },
   {
    "duration": 8,
    "start_time": "2022-04-04T14:39:27.291Z"
   },
   {
    "duration": 14166,
    "start_time": "2022-04-04T14:39:27.302Z"
   },
   {
    "duration": 270,
    "start_time": "2022-04-04T14:39:41.471Z"
   },
   {
    "duration": 3,
    "start_time": "2022-04-04T14:39:41.744Z"
   },
   {
    "duration": 270,
    "start_time": "2022-04-04T14:39:41.750Z"
   },
   {
    "duration": 12,
    "start_time": "2022-04-04T14:39:42.023Z"
   },
   {
    "duration": 32,
    "start_time": "2022-04-04T14:39:42.037Z"
   },
   {
    "duration": 5,
    "start_time": "2022-04-04T14:39:42.071Z"
   },
   {
    "duration": 36,
    "start_time": "2022-04-04T14:39:42.080Z"
   },
   {
    "duration": 53,
    "start_time": "2022-04-04T14:39:42.118Z"
   },
   {
    "duration": 27989,
    "start_time": "2022-04-04T14:39:42.173Z"
   },
   {
    "duration": 582837,
    "start_time": "2022-04-04T14:40:10.168Z"
   },
   {
    "duration": 1281531,
    "start_time": "2022-04-04T14:50:19.117Z"
   },
   {
    "duration": 292,
    "start_time": "2022-04-04T15:17:17.956Z"
   },
   {
    "duration": 40,
    "start_time": "2022-04-04T15:17:44.215Z"
   },
   {
    "duration": 545229,
    "start_time": "2022-04-04T15:17:50.884Z"
   },
   {
    "duration": 46,
    "start_time": "2022-04-05T08:36:54.443Z"
   },
   {
    "duration": 1792,
    "start_time": "2022-04-05T08:37:00.474Z"
   },
   {
    "duration": 10342,
    "start_time": "2022-04-05T08:37:02.268Z"
   },
   {
    "duration": 24,
    "start_time": "2022-04-05T08:37:12.611Z"
   },
   {
    "duration": 425,
    "start_time": "2022-04-05T08:37:12.637Z"
   },
   {
    "duration": 121,
    "start_time": "2022-04-05T08:37:18.225Z"
   },
   {
    "duration": 112,
    "start_time": "2022-04-05T08:38:22.791Z"
   },
   {
    "duration": 77,
    "start_time": "2022-04-05T08:38:33.460Z"
   },
   {
    "duration": 180,
    "start_time": "2022-04-05T08:40:22.908Z"
   },
   {
    "duration": 63,
    "start_time": "2022-04-05T08:40:34.589Z"
   },
   {
    "duration": 4,
    "start_time": "2022-04-05T08:41:10.394Z"
   },
   {
    "duration": 81,
    "start_time": "2022-04-05T08:41:14.172Z"
   },
   {
    "duration": 5,
    "start_time": "2022-04-05T08:41:40.242Z"
   },
   {
    "duration": 75,
    "start_time": "2022-04-05T08:41:44.109Z"
   },
   {
    "duration": 81,
    "start_time": "2022-04-05T08:42:01.423Z"
   },
   {
    "duration": 76,
    "start_time": "2022-04-05T08:42:07.910Z"
   },
   {
    "duration": 77,
    "start_time": "2022-04-05T08:47:14.258Z"
   },
   {
    "duration": 89,
    "start_time": "2022-04-05T09:41:12.254Z"
   },
   {
    "duration": 5,
    "start_time": "2022-04-05T09:43:07.258Z"
   },
   {
    "duration": 9616,
    "start_time": "2022-04-05T09:43:08.332Z"
   },
   {
    "duration": 193,
    "start_time": "2022-04-05T09:43:31.905Z"
   },
   {
    "duration": 30,
    "start_time": "2022-04-05T09:43:59.339Z"
   },
   {
    "duration": 9,
    "start_time": "2022-04-05T09:45:18.008Z"
   },
   {
    "duration": 30,
    "start_time": "2022-04-05T09:56:32.819Z"
   },
   {
    "duration": 23,
    "start_time": "2022-04-05T09:56:35.833Z"
   },
   {
    "duration": 9,
    "start_time": "2022-04-05T09:56:37.072Z"
   },
   {
    "duration": 9,
    "start_time": "2022-04-05T09:56:48.600Z"
   },
   {
    "duration": 7,
    "start_time": "2022-04-05T09:56:52.757Z"
   },
   {
    "duration": 122,
    "start_time": "2022-04-05T09:56:59.903Z"
   },
   {
    "duration": 694,
    "start_time": "2022-04-05T09:57:00.027Z"
   },
   {
    "duration": 28,
    "start_time": "2022-04-05T09:57:00.722Z"
   },
   {
    "duration": 9,
    "start_time": "2022-04-05T09:57:00.751Z"
   },
   {
    "duration": 100,
    "start_time": "2022-04-05T09:57:00.762Z"
   },
   {
    "duration": 6,
    "start_time": "2022-04-05T09:57:00.863Z"
   },
   {
    "duration": 9111,
    "start_time": "2022-04-05T09:57:00.870Z"
   },
   {
    "duration": 188,
    "start_time": "2022-04-05T09:57:09.982Z"
   },
   {
    "duration": 3,
    "start_time": "2022-04-05T09:57:10.171Z"
   },
   {
    "duration": 196,
    "start_time": "2022-04-05T09:57:10.181Z"
   },
   {
    "duration": 9,
    "start_time": "2022-04-05T09:57:10.381Z"
   },
   {
    "duration": 6,
    "start_time": "2022-04-05T09:57:10.392Z"
   },
   {
    "duration": 5,
    "start_time": "2022-04-05T09:57:10.400Z"
   },
   {
    "duration": 36,
    "start_time": "2022-04-05T09:57:10.407Z"
   },
   {
    "duration": 42,
    "start_time": "2022-04-05T09:57:15.486Z"
   },
   {
    "duration": 18210,
    "start_time": "2022-04-05T09:57:17.213Z"
   },
   {
    "duration": 4420,
    "start_time": "2022-04-05T09:57:35.425Z"
   },
   {
    "duration": 1993,
    "start_time": "2022-04-05T10:08:16.045Z"
   },
   {
    "duration": 774,
    "start_time": "2022-04-05T10:08:18.040Z"
   },
   {
    "duration": 23,
    "start_time": "2022-04-05T10:08:18.815Z"
   },
   {
    "duration": 120,
    "start_time": "2022-04-05T10:08:18.840Z"
   },
   {
    "duration": 103,
    "start_time": "2022-04-05T10:08:18.962Z"
   },
   {
    "duration": 5,
    "start_time": "2022-04-05T10:08:19.066Z"
   },
   {
    "duration": 8692,
    "start_time": "2022-04-05T10:08:19.080Z"
   },
   {
    "duration": 183,
    "start_time": "2022-04-05T10:08:27.774Z"
   },
   {
    "duration": 2,
    "start_time": "2022-04-05T10:08:27.958Z"
   },
   {
    "duration": 195,
    "start_time": "2022-04-05T10:08:27.962Z"
   },
   {
    "duration": 8,
    "start_time": "2022-04-05T10:08:28.159Z"
   },
   {
    "duration": 15,
    "start_time": "2022-04-05T10:08:28.169Z"
   },
   {
    "duration": 4,
    "start_time": "2022-04-05T10:08:28.185Z"
   },
   {
    "duration": 28,
    "start_time": "2022-04-05T10:08:28.191Z"
   },
   {
    "duration": 20,
    "start_time": "2022-04-05T10:08:28.220Z"
   },
   {
    "duration": 17882,
    "start_time": "2022-04-05T10:08:28.241Z"
   },
   {
    "duration": 4818,
    "start_time": "2022-04-05T10:08:46.125Z"
   },
   {
    "duration": 20536,
    "start_time": "2022-04-05T10:11:41.545Z"
   },
   {
    "duration": 2995,
    "start_time": "2022-04-05T10:15:33.109Z"
   },
   {
    "duration": 3209946,
    "start_time": "2022-04-05T10:17:48.379Z"
   },
   {
    "duration": 781238,
    "start_time": "2022-04-05T11:20:12.447Z"
   },
   {
    "duration": 2415215,
    "start_time": "2022-04-05T11:43:38.292Z"
   },
   {
    "duration": 3962,
    "start_time": "2022-04-05T12:27:04.385Z"
   },
   {
    "duration": 536227,
    "start_time": "2022-04-05T12:30:46.487Z"
   },
   {
    "duration": 986739,
    "start_time": "2022-04-05T12:40:05.588Z"
   }
  ],
  "kernelspec": {
   "display_name": "Python 3.8.9 64-bit",
   "language": "python",
   "name": "python3"
  },
  "language_info": {
   "codemirror_mode": {
    "name": "ipython",
    "version": 3
   },
   "file_extension": ".py",
   "mimetype": "text/x-python",
   "name": "python",
   "nbconvert_exporter": "python",
   "pygments_lexer": "ipython3",
   "version": "3.8.9"
  },
  "toc": {
   "base_numbering": 1,
   "nav_menu": {},
   "number_sections": true,
   "sideBar": true,
   "skip_h1_title": true,
   "title_cell": "Содержание",
   "title_sidebar": "Contents",
   "toc_cell": true,
   "toc_position": {
    "height": "calc(100% - 180px)",
    "left": "10px",
    "top": "150px",
    "width": "302.391px"
   },
   "toc_section_display": true,
   "toc_window_display": false
  },
  "vscode": {
   "interpreter": {
    "hash": "31f2aee4e71d21fbe5cf8b01ff0e069b9275f58929596ceb00d14d90e3e16cd6"
   }
  }
 },
 "nbformat": 4,
 "nbformat_minor": 2
}
