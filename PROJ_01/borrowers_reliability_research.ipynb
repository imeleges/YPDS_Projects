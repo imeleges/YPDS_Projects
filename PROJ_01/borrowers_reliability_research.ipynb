{
 "cells": [
  {
   "cell_type": "markdown",
   "metadata": {},
   "source": [
    "# Исследование надёжности заёмщиков\n",
    "\n",
    "Заказчик — кредитный отдел банка. Нужно разобраться, влияет ли семейное положение и количество детей клиента на факт погашения кредита в срок. Входные данные от банка — статистика о платёжеспособности клиентов.\n",
    "\n",
    "Результаты исследования будут учтены при построении модели **кредитного скоринга** — специальной системы, которая оценивает способность потенциального заёмщика вернуть кредит банку."
   ]
  },
  {
   "cell_type": "markdown",
   "metadata": {},
   "source": [
    "## Шаг 1. Откройте файл с данными и изучите общую информацию"
   ]
  },
  {
   "cell_type": "code",
   "execution_count": 2,
   "metadata": {
    "scrolled": true
   },
   "outputs": [
    {
     "name": "stdout",
     "output_type": "stream",
     "text": [
      "<class 'pandas.core.frame.DataFrame'>\n",
      "RangeIndex: 21525 entries, 0 to 21524\n",
      "Data columns (total 12 columns):\n",
      "children            21525 non-null int64\n",
      "days_employed       19351 non-null float64\n",
      "dob_years           21525 non-null int64\n",
      "education           21525 non-null object\n",
      "education_id        21525 non-null int64\n",
      "family_status       21525 non-null object\n",
      "family_status_id    21525 non-null int64\n",
      "gender              21525 non-null object\n",
      "income_type         21525 non-null object\n",
      "debt                21525 non-null int64\n",
      "total_income        19351 non-null float64\n",
      "purpose             21525 non-null object\n",
      "dtypes: float64(2), int64(5), object(5)\n",
      "memory usage: 2.0+ MB\n"
     ]
    },
    {
     "data": {
      "text/plain": [
       "None"
      ]
     },
     "metadata": {},
     "output_type": "display_data"
    }
   ],
   "source": [
    "import pandas as pd\n",
    "\n",
    "data = pd.read_csv('/datasets/data.csv')\n",
    "\n",
    "# Получим общую информацию о датафрейме\n",
    "display(data.info())"
   ]
  },
  {
   "cell_type": "markdown",
   "metadata": {},
   "source": [
    "Видно что в некоторых колонках есть пропуски, с которыми будем разбираться на следующих шагах"
   ]
  },
  {
   "cell_type": "code",
   "execution_count": 3,
   "metadata": {},
   "outputs": [
    {
     "data": {
      "text/html": [
       "<div>\n",
       "<style scoped>\n",
       "    .dataframe tbody tr th:only-of-type {\n",
       "        vertical-align: middle;\n",
       "    }\n",
       "\n",
       "    .dataframe tbody tr th {\n",
       "        vertical-align: top;\n",
       "    }\n",
       "\n",
       "    .dataframe thead th {\n",
       "        text-align: right;\n",
       "    }\n",
       "</style>\n",
       "<table border=\"1\" class=\"dataframe\">\n",
       "  <thead>\n",
       "    <tr style=\"text-align: right;\">\n",
       "      <th></th>\n",
       "      <th>children</th>\n",
       "      <th>days_employed</th>\n",
       "      <th>dob_years</th>\n",
       "      <th>education</th>\n",
       "      <th>education_id</th>\n",
       "      <th>family_status</th>\n",
       "      <th>family_status_id</th>\n",
       "      <th>gender</th>\n",
       "      <th>income_type</th>\n",
       "      <th>debt</th>\n",
       "      <th>total_income</th>\n",
       "      <th>purpose</th>\n",
       "    </tr>\n",
       "  </thead>\n",
       "  <tbody>\n",
       "    <tr>\n",
       "      <td>0</td>\n",
       "      <td>1</td>\n",
       "      <td>-8437.673028</td>\n",
       "      <td>42</td>\n",
       "      <td>высшее</td>\n",
       "      <td>0</td>\n",
       "      <td>женат / замужем</td>\n",
       "      <td>0</td>\n",
       "      <td>F</td>\n",
       "      <td>сотрудник</td>\n",
       "      <td>0</td>\n",
       "      <td>253875.639453</td>\n",
       "      <td>покупка жилья</td>\n",
       "    </tr>\n",
       "    <tr>\n",
       "      <td>1</td>\n",
       "      <td>1</td>\n",
       "      <td>-4024.803754</td>\n",
       "      <td>36</td>\n",
       "      <td>среднее</td>\n",
       "      <td>1</td>\n",
       "      <td>женат / замужем</td>\n",
       "      <td>0</td>\n",
       "      <td>F</td>\n",
       "      <td>сотрудник</td>\n",
       "      <td>0</td>\n",
       "      <td>112080.014102</td>\n",
       "      <td>приобретение автомобиля</td>\n",
       "    </tr>\n",
       "    <tr>\n",
       "      <td>2</td>\n",
       "      <td>0</td>\n",
       "      <td>-5623.422610</td>\n",
       "      <td>33</td>\n",
       "      <td>Среднее</td>\n",
       "      <td>1</td>\n",
       "      <td>женат / замужем</td>\n",
       "      <td>0</td>\n",
       "      <td>M</td>\n",
       "      <td>сотрудник</td>\n",
       "      <td>0</td>\n",
       "      <td>145885.952297</td>\n",
       "      <td>покупка жилья</td>\n",
       "    </tr>\n",
       "    <tr>\n",
       "      <td>3</td>\n",
       "      <td>3</td>\n",
       "      <td>-4124.747207</td>\n",
       "      <td>32</td>\n",
       "      <td>среднее</td>\n",
       "      <td>1</td>\n",
       "      <td>женат / замужем</td>\n",
       "      <td>0</td>\n",
       "      <td>M</td>\n",
       "      <td>сотрудник</td>\n",
       "      <td>0</td>\n",
       "      <td>267628.550329</td>\n",
       "      <td>дополнительное образование</td>\n",
       "    </tr>\n",
       "    <tr>\n",
       "      <td>4</td>\n",
       "      <td>0</td>\n",
       "      <td>340266.072047</td>\n",
       "      <td>53</td>\n",
       "      <td>среднее</td>\n",
       "      <td>1</td>\n",
       "      <td>гражданский брак</td>\n",
       "      <td>1</td>\n",
       "      <td>F</td>\n",
       "      <td>пенсионер</td>\n",
       "      <td>0</td>\n",
       "      <td>158616.077870</td>\n",
       "      <td>сыграть свадьбу</td>\n",
       "    </tr>\n",
       "    <tr>\n",
       "      <td>5</td>\n",
       "      <td>0</td>\n",
       "      <td>-926.185831</td>\n",
       "      <td>27</td>\n",
       "      <td>высшее</td>\n",
       "      <td>0</td>\n",
       "      <td>гражданский брак</td>\n",
       "      <td>1</td>\n",
       "      <td>M</td>\n",
       "      <td>компаньон</td>\n",
       "      <td>0</td>\n",
       "      <td>255763.565419</td>\n",
       "      <td>покупка жилья</td>\n",
       "    </tr>\n",
       "    <tr>\n",
       "      <td>6</td>\n",
       "      <td>0</td>\n",
       "      <td>-2879.202052</td>\n",
       "      <td>43</td>\n",
       "      <td>высшее</td>\n",
       "      <td>0</td>\n",
       "      <td>женат / замужем</td>\n",
       "      <td>0</td>\n",
       "      <td>F</td>\n",
       "      <td>компаньон</td>\n",
       "      <td>0</td>\n",
       "      <td>240525.971920</td>\n",
       "      <td>операции с жильем</td>\n",
       "    </tr>\n",
       "    <tr>\n",
       "      <td>7</td>\n",
       "      <td>0</td>\n",
       "      <td>-152.779569</td>\n",
       "      <td>50</td>\n",
       "      <td>СРЕДНЕЕ</td>\n",
       "      <td>1</td>\n",
       "      <td>женат / замужем</td>\n",
       "      <td>0</td>\n",
       "      <td>M</td>\n",
       "      <td>сотрудник</td>\n",
       "      <td>0</td>\n",
       "      <td>135823.934197</td>\n",
       "      <td>образование</td>\n",
       "    </tr>\n",
       "    <tr>\n",
       "      <td>8</td>\n",
       "      <td>2</td>\n",
       "      <td>-6929.865299</td>\n",
       "      <td>35</td>\n",
       "      <td>ВЫСШЕЕ</td>\n",
       "      <td>0</td>\n",
       "      <td>гражданский брак</td>\n",
       "      <td>1</td>\n",
       "      <td>F</td>\n",
       "      <td>сотрудник</td>\n",
       "      <td>0</td>\n",
       "      <td>95856.832424</td>\n",
       "      <td>на проведение свадьбы</td>\n",
       "    </tr>\n",
       "    <tr>\n",
       "      <td>9</td>\n",
       "      <td>0</td>\n",
       "      <td>-2188.756445</td>\n",
       "      <td>41</td>\n",
       "      <td>среднее</td>\n",
       "      <td>1</td>\n",
       "      <td>женат / замужем</td>\n",
       "      <td>0</td>\n",
       "      <td>M</td>\n",
       "      <td>сотрудник</td>\n",
       "      <td>0</td>\n",
       "      <td>144425.938277</td>\n",
       "      <td>покупка жилья для семьи</td>\n",
       "    </tr>\n",
       "  </tbody>\n",
       "</table>\n",
       "</div>"
      ],
      "text/plain": [
       "   children  days_employed  dob_years education  education_id  \\\n",
       "0         1   -8437.673028         42    высшее             0   \n",
       "1         1   -4024.803754         36   среднее             1   \n",
       "2         0   -5623.422610         33   Среднее             1   \n",
       "3         3   -4124.747207         32   среднее             1   \n",
       "4         0  340266.072047         53   среднее             1   \n",
       "5         0    -926.185831         27    высшее             0   \n",
       "6         0   -2879.202052         43    высшее             0   \n",
       "7         0    -152.779569         50   СРЕДНЕЕ             1   \n",
       "8         2   -6929.865299         35    ВЫСШЕЕ             0   \n",
       "9         0   -2188.756445         41   среднее             1   \n",
       "\n",
       "      family_status  family_status_id gender income_type  debt   total_income  \\\n",
       "0   женат / замужем                 0      F   сотрудник     0  253875.639453   \n",
       "1   женат / замужем                 0      F   сотрудник     0  112080.014102   \n",
       "2   женат / замужем                 0      M   сотрудник     0  145885.952297   \n",
       "3   женат / замужем                 0      M   сотрудник     0  267628.550329   \n",
       "4  гражданский брак                 1      F   пенсионер     0  158616.077870   \n",
       "5  гражданский брак                 1      M   компаньон     0  255763.565419   \n",
       "6   женат / замужем                 0      F   компаньон     0  240525.971920   \n",
       "7   женат / замужем                 0      M   сотрудник     0  135823.934197   \n",
       "8  гражданский брак                 1      F   сотрудник     0   95856.832424   \n",
       "9   женат / замужем                 0      M   сотрудник     0  144425.938277   \n",
       "\n",
       "                      purpose  \n",
       "0               покупка жилья  \n",
       "1     приобретение автомобиля  \n",
       "2               покупка жилья  \n",
       "3  дополнительное образование  \n",
       "4             сыграть свадьбу  \n",
       "5               покупка жилья  \n",
       "6           операции с жильем  \n",
       "7                 образование  \n",
       "8       на проведение свадьбы  \n",
       "9     покупка жилья для семьи  "
      ]
     },
     "metadata": {},
     "output_type": "display_data"
    }
   ],
   "source": [
    "# Посмотрим на первые 10 строк чтобы визуально оценить датафрейм\n",
    "display(data.head(10))"
   ]
  },
  {
   "cell_type": "markdown",
   "metadata": {},
   "source": [
    "### Описание данных  \n",
    "**children** — количество детей в семье  \n",
    "**days_employed** — общий трудовой стаж в днях  \n",
    "**dob_years** — возраст клиента в годах   \n",
    "**education** — уровень образования клиента   \n",
    "**education_id** — идентификатор уровня образования   \n",
    "**family_status** — семейное положение   \n",
    "**family_status_id** — идентификатор семейного положения   \n",
    "**gender** — пол клиента   \n",
    "**income_type** — тип занятости   \n",
    "**debt** — имел ли задолженность по возврату кредитов   \n",
    "**total_income** — ежемесячный доход   \n",
    "**purpose** — цель получения кредита   "
   ]
  },
  {
   "cell_type": "markdown",
   "metadata": {},
   "source": [
    "**Вывод**  \n",
    "В колонке **days_employed** странные значения со знаком (-) и в float формате, а так же содежит пропуски  \n",
    "В колонке **education** данные разного регистра  \n",
    "В колонке **total_income** неизвестено в каких единицах выраженны данные, а так же содежит пропуски.  \n",
    "\n",
    "Возможно потребуется сменить тип данных на int в **days_employed** и **total_income**"
   ]
  },
  {
   "cell_type": "markdown",
   "metadata": {},
   "source": [
    "## Шаг 2. Предобработка данных"
   ]
  },
  {
   "cell_type": "markdown",
   "metadata": {},
   "source": [
    "### Обработка пропусков"
   ]
  },
  {
   "cell_type": "code",
   "execution_count": 4,
   "metadata": {},
   "outputs": [
    {
     "data": {
      "text/plain": [
       "children               0\n",
       "days_employed       2174\n",
       "dob_years              0\n",
       "education              0\n",
       "education_id           0\n",
       "family_status          0\n",
       "family_status_id       0\n",
       "gender                 0\n",
       "income_type            0\n",
       "debt                   0\n",
       "total_income        2174\n",
       "purpose                0\n",
       "dtype: int64"
      ]
     },
     "metadata": {},
     "output_type": "display_data"
    }
   ],
   "source": [
    "# Проверям количество пропусков и где они находятся\n",
    "display(data.isna().sum())"
   ]
  },
  {
   "cell_type": "code",
   "execution_count": 5,
   "metadata": {},
   "outputs": [
    {
     "data": {
      "text/html": [
       "<div>\n",
       "<style scoped>\n",
       "    .dataframe tbody tr th:only-of-type {\n",
       "        vertical-align: middle;\n",
       "    }\n",
       "\n",
       "    .dataframe tbody tr th {\n",
       "        vertical-align: top;\n",
       "    }\n",
       "\n",
       "    .dataframe thead th {\n",
       "        text-align: right;\n",
       "    }\n",
       "</style>\n",
       "<table border=\"1\" class=\"dataframe\">\n",
       "  <thead>\n",
       "    <tr style=\"text-align: right;\">\n",
       "      <th></th>\n",
       "      <th>children</th>\n",
       "      <th>days_employed</th>\n",
       "      <th>dob_years</th>\n",
       "      <th>education</th>\n",
       "      <th>education_id</th>\n",
       "      <th>family_status</th>\n",
       "      <th>family_status_id</th>\n",
       "      <th>gender</th>\n",
       "      <th>income_type</th>\n",
       "      <th>debt</th>\n",
       "      <th>total_income</th>\n",
       "      <th>purpose</th>\n",
       "    </tr>\n",
       "  </thead>\n",
       "  <tbody>\n",
       "    <tr>\n",
       "      <td>12</td>\n",
       "      <td>0</td>\n",
       "      <td>NaN</td>\n",
       "      <td>65</td>\n",
       "      <td>среднее</td>\n",
       "      <td>1</td>\n",
       "      <td>гражданский брак</td>\n",
       "      <td>1</td>\n",
       "      <td>M</td>\n",
       "      <td>пенсионер</td>\n",
       "      <td>0</td>\n",
       "      <td>NaN</td>\n",
       "      <td>сыграть свадьбу</td>\n",
       "    </tr>\n",
       "    <tr>\n",
       "      <td>26</td>\n",
       "      <td>0</td>\n",
       "      <td>NaN</td>\n",
       "      <td>41</td>\n",
       "      <td>среднее</td>\n",
       "      <td>1</td>\n",
       "      <td>женат / замужем</td>\n",
       "      <td>0</td>\n",
       "      <td>M</td>\n",
       "      <td>госслужащий</td>\n",
       "      <td>0</td>\n",
       "      <td>NaN</td>\n",
       "      <td>образование</td>\n",
       "    </tr>\n",
       "    <tr>\n",
       "      <td>29</td>\n",
       "      <td>0</td>\n",
       "      <td>NaN</td>\n",
       "      <td>63</td>\n",
       "      <td>среднее</td>\n",
       "      <td>1</td>\n",
       "      <td>Не женат / не замужем</td>\n",
       "      <td>4</td>\n",
       "      <td>F</td>\n",
       "      <td>пенсионер</td>\n",
       "      <td>0</td>\n",
       "      <td>NaN</td>\n",
       "      <td>строительство жилой недвижимости</td>\n",
       "    </tr>\n",
       "    <tr>\n",
       "      <td>41</td>\n",
       "      <td>0</td>\n",
       "      <td>NaN</td>\n",
       "      <td>50</td>\n",
       "      <td>среднее</td>\n",
       "      <td>1</td>\n",
       "      <td>женат / замужем</td>\n",
       "      <td>0</td>\n",
       "      <td>F</td>\n",
       "      <td>госслужащий</td>\n",
       "      <td>0</td>\n",
       "      <td>NaN</td>\n",
       "      <td>сделка с подержанным автомобилем</td>\n",
       "    </tr>\n",
       "    <tr>\n",
       "      <td>55</td>\n",
       "      <td>0</td>\n",
       "      <td>NaN</td>\n",
       "      <td>54</td>\n",
       "      <td>среднее</td>\n",
       "      <td>1</td>\n",
       "      <td>гражданский брак</td>\n",
       "      <td>1</td>\n",
       "      <td>F</td>\n",
       "      <td>пенсионер</td>\n",
       "      <td>1</td>\n",
       "      <td>NaN</td>\n",
       "      <td>сыграть свадьбу</td>\n",
       "    </tr>\n",
       "  </tbody>\n",
       "</table>\n",
       "</div>"
      ],
      "text/plain": [
       "    children  days_employed  dob_years education  education_id  \\\n",
       "12         0            NaN         65   среднее             1   \n",
       "26         0            NaN         41   среднее             1   \n",
       "29         0            NaN         63   среднее             1   \n",
       "41         0            NaN         50   среднее             1   \n",
       "55         0            NaN         54   среднее             1   \n",
       "\n",
       "            family_status  family_status_id gender  income_type  debt  \\\n",
       "12       гражданский брак                 1      M    пенсионер     0   \n",
       "26        женат / замужем                 0      M  госслужащий     0   \n",
       "29  Не женат / не замужем                 4      F    пенсионер     0   \n",
       "41        женат / замужем                 0      F  госслужащий     0   \n",
       "55       гражданский брак                 1      F    пенсионер     1   \n",
       "\n",
       "    total_income                           purpose  \n",
       "12           NaN                   сыграть свадьбу  \n",
       "26           NaN                       образование  \n",
       "29           NaN  строительство жилой недвижимости  \n",
       "41           NaN  сделка с подержанным автомобилем  \n",
       "55           NaN                   сыграть свадьбу  "
      ]
     },
     "metadata": {},
     "output_type": "display_data"
    }
   ],
   "source": [
    "# Посмотрим на первые 5 строк с пропусками и попытаемся обнаружить закономерности\n",
    "display(data[data['days_employed'].isna()].head(5))"
   ]
  },
  {
   "cell_type": "code",
   "execution_count": 6,
   "metadata": {
    "scrolled": true
   },
   "outputs": [
    {
     "name": "stdout",
     "output_type": "stream",
     "text": [
      "Количество пропущенных значений для days_employed: 2174\n"
     ]
    }
   ],
   "source": [
    "# Пропуски в колонках days_employed и total_income совпадают, возможно причина одна и та же\n",
    "print(f\"Количество пропущенных значений для days_employed: {data['days_employed'].isna().sum()}\")"
   ]
  },
  {
   "cell_type": "markdown",
   "metadata": {},
   "source": [
    "Пропуски нужно чем-то заменить, но чем?  \n",
    "Колонка **total_income** должна содержать ежемесячный доход, но визуально это что-то другое. Возможно это доходы за 12 месяцев, но с форматом разберемся позже. Сначала заполним пропуски.  \n",
    "В качестве решения хочу сгруппировать по колоке **income_type**, найти медиану на каждый тип занятости и потом заменить пропущенные значения медианой на данный тип занятости."
   ]
  },
  {
   "cell_type": "code",
   "execution_count": 7,
   "metadata": {
    "scrolled": false
   },
   "outputs": [
    {
     "data": {
      "text/plain": [
       "income_type\n",
       "безработный        131339.751676\n",
       "в декрете           53829.130729\n",
       "госслужащий        150447.935283\n",
       "компаньон          172357.950966\n",
       "пенсионер          118514.486412\n",
       "предприниматель    499163.144947\n",
       "сотрудник          142594.396847\n",
       "студент             98201.625314\n",
       "Name: total_income, dtype: float64"
      ]
     },
     "metadata": {},
     "output_type": "display_data"
    }
   ],
   "source": [
    "# Сгруппируем зарплату по типу занятости и посчитаем медиану на каждую группу.\n",
    "display(data.groupby('income_type')['total_income'].median())"
   ]
  },
  {
   "cell_type": "code",
   "execution_count": 8,
   "metadata": {},
   "outputs": [
    {
     "data": {
      "text/plain": [
       "income_type\n",
       "безработный        131339.751676\n",
       "в декрете           53829.130729\n",
       "госслужащий        150447.935283\n",
       "компаньон          172357.950966\n",
       "пенсионер          118514.486412\n",
       "предприниматель    499163.144947\n",
       "сотрудник          142594.396847\n",
       "студент             98201.625314\n",
       "Name: total_income, dtype: float64"
      ]
     },
     "metadata": {},
     "output_type": "display_data"
    }
   ],
   "source": [
    "# Добавим все уникальные значения типов занятости в отдельный лист\n",
    "income_type_list = data['income_type'].unique()\n",
    "\n",
    "\n",
    "#----------------------------------------------------------------------------------------\n",
    "# # Создадим новый словарь который будет хранить типы занятости и медиану для них\n",
    "# income_type_dict = {}\n",
    "\n",
    "# # Найдем медиану для каждого типа и добавим в словарь income_type_dict\n",
    "# for income_type in income_type_list:\n",
    "#     median = data[data['income_type'] == income_type]['total_income'].median()\n",
    "#     income_type_dict[income_type] = median\n",
    "\n",
    "# # Создадим функцию которая получая тип занятости возвращает медиану    \n",
    "# def income_type_fillna(income_type):\n",
    "#     return income_type_dict[income_type]\n",
    "\n",
    "# # Используя функцию income_type_fillna применим ее и заполним пропуски в total_income\n",
    "# data['total_income'] = data['income_type'].apply(income_type_fillna)\n",
    "#----------------------------------------------------------------------------------------\n",
    "\n",
    "# Найдем медиану для каждого типа и заменим пропуски для каждого типа занятости\n",
    "for income_type in income_type_list:\n",
    "    median = data[data['income_type'] == income_type]['total_income'].median()\n",
    "    data[data['income_type'] == income_type] = data[data['income_type'] == income_type].fillna(median)\n",
    "\n",
    "\n",
    "# Проверим с новыми данными\n",
    "display(data.groupby('income_type')['total_income'].median())"
   ]
  },
  {
   "cell_type": "code",
   "execution_count": 9,
   "metadata": {},
   "outputs": [
    {
     "name": "stdout",
     "output_type": "stream",
     "text": [
      "Количество пропущенных значений для total_income: 0\n"
     ]
    }
   ],
   "source": [
    "print(f\"Количество пропущенных значений для total_income: {data['total_income'].isna().sum()}\")"
   ]
  },
  {
   "cell_type": "markdown",
   "metadata": {},
   "source": [
    "Пропуски в колонке **total_income** заполнены, можно заняться пропусками в **days_employed**  \n",
    "\n",
    "Как уже было замечено ранее, данные в колонке **days_employed** в странном формате float и даже есть с отрицательным значением, хотя должно быть целое число отображающее стаж в днях.  \n",
    "Если маленькое значение стажа для человека в возрасте 50+ можно объяснить неофициальной трудовой занятостью, то отрицательные значения явно указывают на ошибку.  \n",
    "В идеале конечно можно было бы запросить уточнение о причине возникновения таких данных, но т.к. для этого проекта эта колонка использоваться не будет, то просто заполним все данные медианой."
   ]
  },
  {
   "cell_type": "code",
   "execution_count": 10,
   "metadata": {},
   "outputs": [],
   "source": [
    "# Заменим пропуски медианным значением по колонке\n",
    "data['days_employed'] = data['days_employed'].fillna(data['days_employed'].median())"
   ]
  },
  {
   "cell_type": "markdown",
   "metadata": {},
   "source": [
    "**Вывод**"
   ]
  },
  {
   "cell_type": "markdown",
   "metadata": {},
   "source": [
    "Файл содержит **21525** записей, часть из которых пропущена. Некоторые записи имеют различный регистр, а две колонки содержат неккоректный описанию формат и желательно, если есть возможность, уточнить у коллеги или клиента который предоставил файл, откорректировать данные до начала анализа.  \n",
    "Часть данных в колонке **total_income** заменили медианой, несмотря на то что цифры не похожи на ежемесячный доход, воспримем эти данные как условные еденицы. Это не должно значительно отразиться на финальном результате."
   ]
  },
  {
   "cell_type": "markdown",
   "metadata": {},
   "source": [
    "### Замена типа данных"
   ]
  },
  {
   "cell_type": "markdown",
   "metadata": {},
   "source": [
    "Т.к. в двух колонках содержатся странные данные не похожие на описание к файлу, заменим тип данных с float64 в int64 но результаты, для безопасности, сохраним в отдельные колонки"
   ]
  },
  {
   "cell_type": "code",
   "execution_count": 11,
   "metadata": {},
   "outputs": [],
   "source": [
    "# Меняем тип данных на int64\n",
    "data['days_employed_int'] = data['days_employed'].astype('int')\n",
    "data['total_income_int'] = data['total_income'].astype('int')"
   ]
  },
  {
   "cell_type": "code",
   "execution_count": 12,
   "metadata": {},
   "outputs": [
    {
     "data": {
      "text/html": [
       "<div>\n",
       "<style scoped>\n",
       "    .dataframe tbody tr th:only-of-type {\n",
       "        vertical-align: middle;\n",
       "    }\n",
       "\n",
       "    .dataframe tbody tr th {\n",
       "        vertical-align: top;\n",
       "    }\n",
       "\n",
       "    .dataframe thead th {\n",
       "        text-align: right;\n",
       "    }\n",
       "</style>\n",
       "<table border=\"1\" class=\"dataframe\">\n",
       "  <thead>\n",
       "    <tr style=\"text-align: right;\">\n",
       "      <th></th>\n",
       "      <th>children</th>\n",
       "      <th>days_employed</th>\n",
       "      <th>days_employed_int</th>\n",
       "      <th>dob_years</th>\n",
       "      <th>education</th>\n",
       "      <th>education_id</th>\n",
       "      <th>family_status</th>\n",
       "      <th>family_status_id</th>\n",
       "      <th>gender</th>\n",
       "      <th>income_type</th>\n",
       "      <th>debt</th>\n",
       "      <th>total_income</th>\n",
       "      <th>total_income_int</th>\n",
       "      <th>purpose</th>\n",
       "    </tr>\n",
       "  </thead>\n",
       "  <tbody>\n",
       "    <tr>\n",
       "      <td>0</td>\n",
       "      <td>1</td>\n",
       "      <td>-8437.673028</td>\n",
       "      <td>-8437</td>\n",
       "      <td>42</td>\n",
       "      <td>высшее</td>\n",
       "      <td>0</td>\n",
       "      <td>женат / замужем</td>\n",
       "      <td>0</td>\n",
       "      <td>F</td>\n",
       "      <td>сотрудник</td>\n",
       "      <td>0</td>\n",
       "      <td>253875.639453</td>\n",
       "      <td>253875</td>\n",
       "      <td>покупка жилья</td>\n",
       "    </tr>\n",
       "    <tr>\n",
       "      <td>1</td>\n",
       "      <td>1</td>\n",
       "      <td>-4024.803754</td>\n",
       "      <td>-4024</td>\n",
       "      <td>36</td>\n",
       "      <td>среднее</td>\n",
       "      <td>1</td>\n",
       "      <td>женат / замужем</td>\n",
       "      <td>0</td>\n",
       "      <td>F</td>\n",
       "      <td>сотрудник</td>\n",
       "      <td>0</td>\n",
       "      <td>112080.014102</td>\n",
       "      <td>112080</td>\n",
       "      <td>приобретение автомобиля</td>\n",
       "    </tr>\n",
       "    <tr>\n",
       "      <td>2</td>\n",
       "      <td>0</td>\n",
       "      <td>-5623.422610</td>\n",
       "      <td>-5623</td>\n",
       "      <td>33</td>\n",
       "      <td>Среднее</td>\n",
       "      <td>1</td>\n",
       "      <td>женат / замужем</td>\n",
       "      <td>0</td>\n",
       "      <td>M</td>\n",
       "      <td>сотрудник</td>\n",
       "      <td>0</td>\n",
       "      <td>145885.952297</td>\n",
       "      <td>145885</td>\n",
       "      <td>покупка жилья</td>\n",
       "    </tr>\n",
       "    <tr>\n",
       "      <td>3</td>\n",
       "      <td>3</td>\n",
       "      <td>-4124.747207</td>\n",
       "      <td>-4124</td>\n",
       "      <td>32</td>\n",
       "      <td>среднее</td>\n",
       "      <td>1</td>\n",
       "      <td>женат / замужем</td>\n",
       "      <td>0</td>\n",
       "      <td>M</td>\n",
       "      <td>сотрудник</td>\n",
       "      <td>0</td>\n",
       "      <td>267628.550329</td>\n",
       "      <td>267628</td>\n",
       "      <td>дополнительное образование</td>\n",
       "    </tr>\n",
       "    <tr>\n",
       "      <td>4</td>\n",
       "      <td>0</td>\n",
       "      <td>340266.072047</td>\n",
       "      <td>340266</td>\n",
       "      <td>53</td>\n",
       "      <td>среднее</td>\n",
       "      <td>1</td>\n",
       "      <td>гражданский брак</td>\n",
       "      <td>1</td>\n",
       "      <td>F</td>\n",
       "      <td>пенсионер</td>\n",
       "      <td>0</td>\n",
       "      <td>158616.077870</td>\n",
       "      <td>158616</td>\n",
       "      <td>сыграть свадьбу</td>\n",
       "    </tr>\n",
       "  </tbody>\n",
       "</table>\n",
       "</div>"
      ],
      "text/plain": [
       "   children  days_employed  days_employed_int  dob_years education  \\\n",
       "0         1   -8437.673028              -8437         42    высшее   \n",
       "1         1   -4024.803754              -4024         36   среднее   \n",
       "2         0   -5623.422610              -5623         33   Среднее   \n",
       "3         3   -4124.747207              -4124         32   среднее   \n",
       "4         0  340266.072047             340266         53   среднее   \n",
       "\n",
       "   education_id     family_status  family_status_id gender income_type  debt  \\\n",
       "0             0   женат / замужем                 0      F   сотрудник     0   \n",
       "1             1   женат / замужем                 0      F   сотрудник     0   \n",
       "2             1   женат / замужем                 0      M   сотрудник     0   \n",
       "3             1   женат / замужем                 0      M   сотрудник     0   \n",
       "4             1  гражданский брак                 1      F   пенсионер     0   \n",
       "\n",
       "    total_income  total_income_int                     purpose  \n",
       "0  253875.639453            253875               покупка жилья  \n",
       "1  112080.014102            112080     приобретение автомобиля  \n",
       "2  145885.952297            145885               покупка жилья  \n",
       "3  267628.550329            267628  дополнительное образование  \n",
       "4  158616.077870            158616             сыграть свадьбу  "
      ]
     },
     "metadata": {},
     "output_type": "display_data"
    }
   ],
   "source": [
    "# Т.к. новые колонки были добавлены в конце датафрейма, обновим порядок идексов\n",
    "new_columns = ['children', 'days_employed', 'days_employed_int', 'dob_years', 'education', 'education_id',\n",
    "       'family_status', 'family_status_id', 'gender', 'income_type', 'debt',\n",
    "       'total_income', 'total_income_int', 'purpose']\n",
    "\n",
    "data = data[new_columns]\n",
    "\n",
    "# Проверим если изменения применились\n",
    "display(data.head(5))"
   ]
  },
  {
   "cell_type": "markdown",
   "metadata": {},
   "source": [
    "**Вывод**"
   ]
  },
  {
   "cell_type": "markdown",
   "metadata": {},
   "source": [
    "Заменил тип данных для двух колонках, а результат сохранил в новых. Чтобы на случай если старые данные вновь потребуются, они были доступны.  \n",
    "Переместил колонки обновив порядок, в таком случае старые и новые данные будут находиться друг с другом.  \n",
    "В таком новом формате будет удобнее работать еще и визуально. "
   ]
  },
  {
   "cell_type": "markdown",
   "metadata": {},
   "source": [
    "### Обработка дубликатов"
   ]
  },
  {
   "cell_type": "markdown",
   "metadata": {},
   "source": [
    "При первом ознакомлении с файлом было заметно что в колонке **education** некоторые данные записаны в разном регистре.  \n",
    "Изменим это прежде чем искать дубликаты."
   ]
  },
  {
   "cell_type": "code",
   "execution_count": 13,
   "metadata": {
    "scrolled": false
   },
   "outputs": [
    {
     "data": {
      "text/html": [
       "<div>\n",
       "<style scoped>\n",
       "    .dataframe tbody tr th:only-of-type {\n",
       "        vertical-align: middle;\n",
       "    }\n",
       "\n",
       "    .dataframe tbody tr th {\n",
       "        vertical-align: top;\n",
       "    }\n",
       "\n",
       "    .dataframe thead th {\n",
       "        text-align: right;\n",
       "    }\n",
       "</style>\n",
       "<table border=\"1\" class=\"dataframe\">\n",
       "  <thead>\n",
       "    <tr style=\"text-align: right;\">\n",
       "      <th></th>\n",
       "      <th>children</th>\n",
       "      <th>days_employed</th>\n",
       "      <th>days_employed_int</th>\n",
       "      <th>dob_years</th>\n",
       "      <th>education</th>\n",
       "      <th>education_id</th>\n",
       "      <th>family_status</th>\n",
       "      <th>family_status_id</th>\n",
       "      <th>gender</th>\n",
       "      <th>income_type</th>\n",
       "      <th>debt</th>\n",
       "      <th>total_income</th>\n",
       "      <th>total_income_int</th>\n",
       "      <th>purpose</th>\n",
       "    </tr>\n",
       "  </thead>\n",
       "  <tbody>\n",
       "    <tr>\n",
       "      <td>0</td>\n",
       "      <td>1</td>\n",
       "      <td>-8437.673028</td>\n",
       "      <td>-8437</td>\n",
       "      <td>42</td>\n",
       "      <td>высшее</td>\n",
       "      <td>0</td>\n",
       "      <td>женат / замужем</td>\n",
       "      <td>0</td>\n",
       "      <td>F</td>\n",
       "      <td>сотрудник</td>\n",
       "      <td>0</td>\n",
       "      <td>253875.639453</td>\n",
       "      <td>253875</td>\n",
       "      <td>покупка жилья</td>\n",
       "    </tr>\n",
       "    <tr>\n",
       "      <td>1</td>\n",
       "      <td>1</td>\n",
       "      <td>-4024.803754</td>\n",
       "      <td>-4024</td>\n",
       "      <td>36</td>\n",
       "      <td>среднее</td>\n",
       "      <td>1</td>\n",
       "      <td>женат / замужем</td>\n",
       "      <td>0</td>\n",
       "      <td>F</td>\n",
       "      <td>сотрудник</td>\n",
       "      <td>0</td>\n",
       "      <td>112080.014102</td>\n",
       "      <td>112080</td>\n",
       "      <td>приобретение автомобиля</td>\n",
       "    </tr>\n",
       "    <tr>\n",
       "      <td>2</td>\n",
       "      <td>0</td>\n",
       "      <td>-5623.422610</td>\n",
       "      <td>-5623</td>\n",
       "      <td>33</td>\n",
       "      <td>среднее</td>\n",
       "      <td>1</td>\n",
       "      <td>женат / замужем</td>\n",
       "      <td>0</td>\n",
       "      <td>M</td>\n",
       "      <td>сотрудник</td>\n",
       "      <td>0</td>\n",
       "      <td>145885.952297</td>\n",
       "      <td>145885</td>\n",
       "      <td>покупка жилья</td>\n",
       "    </tr>\n",
       "    <tr>\n",
       "      <td>3</td>\n",
       "      <td>3</td>\n",
       "      <td>-4124.747207</td>\n",
       "      <td>-4124</td>\n",
       "      <td>32</td>\n",
       "      <td>среднее</td>\n",
       "      <td>1</td>\n",
       "      <td>женат / замужем</td>\n",
       "      <td>0</td>\n",
       "      <td>M</td>\n",
       "      <td>сотрудник</td>\n",
       "      <td>0</td>\n",
       "      <td>267628.550329</td>\n",
       "      <td>267628</td>\n",
       "      <td>дополнительное образование</td>\n",
       "    </tr>\n",
       "    <tr>\n",
       "      <td>4</td>\n",
       "      <td>0</td>\n",
       "      <td>340266.072047</td>\n",
       "      <td>340266</td>\n",
       "      <td>53</td>\n",
       "      <td>среднее</td>\n",
       "      <td>1</td>\n",
       "      <td>гражданский брак</td>\n",
       "      <td>1</td>\n",
       "      <td>F</td>\n",
       "      <td>пенсионер</td>\n",
       "      <td>0</td>\n",
       "      <td>158616.077870</td>\n",
       "      <td>158616</td>\n",
       "      <td>сыграть свадьбу</td>\n",
       "    </tr>\n",
       "    <tr>\n",
       "      <td>5</td>\n",
       "      <td>0</td>\n",
       "      <td>-926.185831</td>\n",
       "      <td>-926</td>\n",
       "      <td>27</td>\n",
       "      <td>высшее</td>\n",
       "      <td>0</td>\n",
       "      <td>гражданский брак</td>\n",
       "      <td>1</td>\n",
       "      <td>M</td>\n",
       "      <td>компаньон</td>\n",
       "      <td>0</td>\n",
       "      <td>255763.565419</td>\n",
       "      <td>255763</td>\n",
       "      <td>покупка жилья</td>\n",
       "    </tr>\n",
       "    <tr>\n",
       "      <td>6</td>\n",
       "      <td>0</td>\n",
       "      <td>-2879.202052</td>\n",
       "      <td>-2879</td>\n",
       "      <td>43</td>\n",
       "      <td>высшее</td>\n",
       "      <td>0</td>\n",
       "      <td>женат / замужем</td>\n",
       "      <td>0</td>\n",
       "      <td>F</td>\n",
       "      <td>компаньон</td>\n",
       "      <td>0</td>\n",
       "      <td>240525.971920</td>\n",
       "      <td>240525</td>\n",
       "      <td>операции с жильем</td>\n",
       "    </tr>\n",
       "    <tr>\n",
       "      <td>7</td>\n",
       "      <td>0</td>\n",
       "      <td>-152.779569</td>\n",
       "      <td>-152</td>\n",
       "      <td>50</td>\n",
       "      <td>среднее</td>\n",
       "      <td>1</td>\n",
       "      <td>женат / замужем</td>\n",
       "      <td>0</td>\n",
       "      <td>M</td>\n",
       "      <td>сотрудник</td>\n",
       "      <td>0</td>\n",
       "      <td>135823.934197</td>\n",
       "      <td>135823</td>\n",
       "      <td>образование</td>\n",
       "    </tr>\n",
       "    <tr>\n",
       "      <td>8</td>\n",
       "      <td>2</td>\n",
       "      <td>-6929.865299</td>\n",
       "      <td>-6929</td>\n",
       "      <td>35</td>\n",
       "      <td>высшее</td>\n",
       "      <td>0</td>\n",
       "      <td>гражданский брак</td>\n",
       "      <td>1</td>\n",
       "      <td>F</td>\n",
       "      <td>сотрудник</td>\n",
       "      <td>0</td>\n",
       "      <td>95856.832424</td>\n",
       "      <td>95856</td>\n",
       "      <td>на проведение свадьбы</td>\n",
       "    </tr>\n",
       "    <tr>\n",
       "      <td>9</td>\n",
       "      <td>0</td>\n",
       "      <td>-2188.756445</td>\n",
       "      <td>-2188</td>\n",
       "      <td>41</td>\n",
       "      <td>среднее</td>\n",
       "      <td>1</td>\n",
       "      <td>женат / замужем</td>\n",
       "      <td>0</td>\n",
       "      <td>M</td>\n",
       "      <td>сотрудник</td>\n",
       "      <td>0</td>\n",
       "      <td>144425.938277</td>\n",
       "      <td>144425</td>\n",
       "      <td>покупка жилья для семьи</td>\n",
       "    </tr>\n",
       "  </tbody>\n",
       "</table>\n",
       "</div>"
      ],
      "text/plain": [
       "   children  days_employed  days_employed_int  dob_years education  \\\n",
       "0         1   -8437.673028              -8437         42    высшее   \n",
       "1         1   -4024.803754              -4024         36   среднее   \n",
       "2         0   -5623.422610              -5623         33   среднее   \n",
       "3         3   -4124.747207              -4124         32   среднее   \n",
       "4         0  340266.072047             340266         53   среднее   \n",
       "5         0    -926.185831               -926         27    высшее   \n",
       "6         0   -2879.202052              -2879         43    высшее   \n",
       "7         0    -152.779569               -152         50   среднее   \n",
       "8         2   -6929.865299              -6929         35    высшее   \n",
       "9         0   -2188.756445              -2188         41   среднее   \n",
       "\n",
       "   education_id     family_status  family_status_id gender income_type  debt  \\\n",
       "0             0   женат / замужем                 0      F   сотрудник     0   \n",
       "1             1   женат / замужем                 0      F   сотрудник     0   \n",
       "2             1   женат / замужем                 0      M   сотрудник     0   \n",
       "3             1   женат / замужем                 0      M   сотрудник     0   \n",
       "4             1  гражданский брак                 1      F   пенсионер     0   \n",
       "5             0  гражданский брак                 1      M   компаньон     0   \n",
       "6             0   женат / замужем                 0      F   компаньон     0   \n",
       "7             1   женат / замужем                 0      M   сотрудник     0   \n",
       "8             0  гражданский брак                 1      F   сотрудник     0   \n",
       "9             1   женат / замужем                 0      M   сотрудник     0   \n",
       "\n",
       "    total_income  total_income_int                     purpose  \n",
       "0  253875.639453            253875               покупка жилья  \n",
       "1  112080.014102            112080     приобретение автомобиля  \n",
       "2  145885.952297            145885               покупка жилья  \n",
       "3  267628.550329            267628  дополнительное образование  \n",
       "4  158616.077870            158616             сыграть свадьбу  \n",
       "5  255763.565419            255763               покупка жилья  \n",
       "6  240525.971920            240525           операции с жильем  \n",
       "7  135823.934197            135823                 образование  \n",
       "8   95856.832424             95856       на проведение свадьбы  \n",
       "9  144425.938277            144425     покупка жилья для семьи  "
      ]
     },
     "metadata": {},
     "output_type": "display_data"
    }
   ],
   "source": [
    "# Переведем колонку с образованием в нижний регистр и проверим результат\n",
    "data['education'] = data['education'].str.lower()\n",
    "display(data.head(10))"
   ]
  },
  {
   "cell_type": "code",
   "execution_count": 14,
   "metadata": {},
   "outputs": [
    {
     "name": "stdout",
     "output_type": "stream",
     "text": [
      "71\n"
     ]
    },
    {
     "data": {
      "text/plain": [
       "сотрудник          11119\n",
       "компаньон           5085\n",
       "пенсионер           3856\n",
       "госслужащий         1459\n",
       "безработный            2\n",
       "предприниматель        2\n",
       "студент                1\n",
       "в декрете              1\n",
       "Name: income_type, dtype: int64"
      ]
     },
     "metadata": {},
     "output_type": "display_data"
    }
   ],
   "source": [
    "# Посмотрим, сколько всего явных дубликатов найдено\n",
    "print(data.duplicated().sum())\n",
    "\n",
    "# А для наглядности посмотрим на количество записей для каждого типа занятости\n",
    "display(data['income_type'].value_counts())"
   ]
  },
  {
   "cell_type": "code",
   "execution_count": 15,
   "metadata": {},
   "outputs": [
    {
     "data": {
      "text/html": [
       "<div>\n",
       "<style scoped>\n",
       "    .dataframe tbody tr th:only-of-type {\n",
       "        vertical-align: middle;\n",
       "    }\n",
       "\n",
       "    .dataframe tbody tr th {\n",
       "        vertical-align: top;\n",
       "    }\n",
       "\n",
       "    .dataframe thead th {\n",
       "        text-align: right;\n",
       "    }\n",
       "</style>\n",
       "<table border=\"1\" class=\"dataframe\">\n",
       "  <thead>\n",
       "    <tr style=\"text-align: right;\">\n",
       "      <th></th>\n",
       "      <th>children</th>\n",
       "      <th>days_employed</th>\n",
       "      <th>days_employed_int</th>\n",
       "      <th>dob_years</th>\n",
       "      <th>education</th>\n",
       "      <th>education_id</th>\n",
       "      <th>family_status</th>\n",
       "      <th>family_status_id</th>\n",
       "      <th>gender</th>\n",
       "      <th>income_type</th>\n",
       "      <th>debt</th>\n",
       "      <th>total_income</th>\n",
       "      <th>total_income_int</th>\n",
       "      <th>purpose</th>\n",
       "    </tr>\n",
       "  </thead>\n",
       "  <tbody>\n",
       "    <tr>\n",
       "      <td>2849</td>\n",
       "      <td>0</td>\n",
       "      <td>142594.396847</td>\n",
       "      <td>142594</td>\n",
       "      <td>41</td>\n",
       "      <td>среднее</td>\n",
       "      <td>1</td>\n",
       "      <td>женат / замужем</td>\n",
       "      <td>0</td>\n",
       "      <td>F</td>\n",
       "      <td>сотрудник</td>\n",
       "      <td>0</td>\n",
       "      <td>142594.396847</td>\n",
       "      <td>142594</td>\n",
       "      <td>покупка жилья для семьи</td>\n",
       "    </tr>\n",
       "    <tr>\n",
       "      <td>3290</td>\n",
       "      <td>0</td>\n",
       "      <td>118514.486412</td>\n",
       "      <td>118514</td>\n",
       "      <td>58</td>\n",
       "      <td>среднее</td>\n",
       "      <td>1</td>\n",
       "      <td>гражданский брак</td>\n",
       "      <td>1</td>\n",
       "      <td>F</td>\n",
       "      <td>пенсионер</td>\n",
       "      <td>0</td>\n",
       "      <td>118514.486412</td>\n",
       "      <td>118514</td>\n",
       "      <td>сыграть свадьбу</td>\n",
       "    </tr>\n",
       "    <tr>\n",
       "      <td>4182</td>\n",
       "      <td>1</td>\n",
       "      <td>142594.396847</td>\n",
       "      <td>142594</td>\n",
       "      <td>34</td>\n",
       "      <td>высшее</td>\n",
       "      <td>0</td>\n",
       "      <td>гражданский брак</td>\n",
       "      <td>1</td>\n",
       "      <td>F</td>\n",
       "      <td>сотрудник</td>\n",
       "      <td>0</td>\n",
       "      <td>142594.396847</td>\n",
       "      <td>142594</td>\n",
       "      <td>свадьба</td>\n",
       "    </tr>\n",
       "    <tr>\n",
       "      <td>4851</td>\n",
       "      <td>0</td>\n",
       "      <td>118514.486412</td>\n",
       "      <td>118514</td>\n",
       "      <td>60</td>\n",
       "      <td>среднее</td>\n",
       "      <td>1</td>\n",
       "      <td>гражданский брак</td>\n",
       "      <td>1</td>\n",
       "      <td>F</td>\n",
       "      <td>пенсионер</td>\n",
       "      <td>0</td>\n",
       "      <td>118514.486412</td>\n",
       "      <td>118514</td>\n",
       "      <td>свадьба</td>\n",
       "    </tr>\n",
       "    <tr>\n",
       "      <td>5557</td>\n",
       "      <td>0</td>\n",
       "      <td>118514.486412</td>\n",
       "      <td>118514</td>\n",
       "      <td>58</td>\n",
       "      <td>среднее</td>\n",
       "      <td>1</td>\n",
       "      <td>гражданский брак</td>\n",
       "      <td>1</td>\n",
       "      <td>F</td>\n",
       "      <td>пенсионер</td>\n",
       "      <td>0</td>\n",
       "      <td>118514.486412</td>\n",
       "      <td>118514</td>\n",
       "      <td>сыграть свадьбу</td>\n",
       "    </tr>\n",
       "    <tr>\n",
       "      <td>...</td>\n",
       "      <td>...</td>\n",
       "      <td>...</td>\n",
       "      <td>...</td>\n",
       "      <td>...</td>\n",
       "      <td>...</td>\n",
       "      <td>...</td>\n",
       "      <td>...</td>\n",
       "      <td>...</td>\n",
       "      <td>...</td>\n",
       "      <td>...</td>\n",
       "      <td>...</td>\n",
       "      <td>...</td>\n",
       "      <td>...</td>\n",
       "      <td>...</td>\n",
       "    </tr>\n",
       "    <tr>\n",
       "      <td>20702</td>\n",
       "      <td>0</td>\n",
       "      <td>118514.486412</td>\n",
       "      <td>118514</td>\n",
       "      <td>64</td>\n",
       "      <td>среднее</td>\n",
       "      <td>1</td>\n",
       "      <td>женат / замужем</td>\n",
       "      <td>0</td>\n",
       "      <td>F</td>\n",
       "      <td>пенсионер</td>\n",
       "      <td>0</td>\n",
       "      <td>118514.486412</td>\n",
       "      <td>118514</td>\n",
       "      <td>дополнительное образование</td>\n",
       "    </tr>\n",
       "    <tr>\n",
       "      <td>21032</td>\n",
       "      <td>0</td>\n",
       "      <td>118514.486412</td>\n",
       "      <td>118514</td>\n",
       "      <td>60</td>\n",
       "      <td>среднее</td>\n",
       "      <td>1</td>\n",
       "      <td>женат / замужем</td>\n",
       "      <td>0</td>\n",
       "      <td>F</td>\n",
       "      <td>пенсионер</td>\n",
       "      <td>0</td>\n",
       "      <td>118514.486412</td>\n",
       "      <td>118514</td>\n",
       "      <td>заняться образованием</td>\n",
       "    </tr>\n",
       "    <tr>\n",
       "      <td>21132</td>\n",
       "      <td>0</td>\n",
       "      <td>142594.396847</td>\n",
       "      <td>142594</td>\n",
       "      <td>47</td>\n",
       "      <td>среднее</td>\n",
       "      <td>1</td>\n",
       "      <td>женат / замужем</td>\n",
       "      <td>0</td>\n",
       "      <td>F</td>\n",
       "      <td>сотрудник</td>\n",
       "      <td>0</td>\n",
       "      <td>142594.396847</td>\n",
       "      <td>142594</td>\n",
       "      <td>ремонт жилью</td>\n",
       "    </tr>\n",
       "    <tr>\n",
       "      <td>21281</td>\n",
       "      <td>1</td>\n",
       "      <td>142594.396847</td>\n",
       "      <td>142594</td>\n",
       "      <td>30</td>\n",
       "      <td>высшее</td>\n",
       "      <td>0</td>\n",
       "      <td>женат / замужем</td>\n",
       "      <td>0</td>\n",
       "      <td>F</td>\n",
       "      <td>сотрудник</td>\n",
       "      <td>0</td>\n",
       "      <td>142594.396847</td>\n",
       "      <td>142594</td>\n",
       "      <td>покупка коммерческой недвижимости</td>\n",
       "    </tr>\n",
       "    <tr>\n",
       "      <td>21415</td>\n",
       "      <td>0</td>\n",
       "      <td>118514.486412</td>\n",
       "      <td>118514</td>\n",
       "      <td>54</td>\n",
       "      <td>среднее</td>\n",
       "      <td>1</td>\n",
       "      <td>женат / замужем</td>\n",
       "      <td>0</td>\n",
       "      <td>F</td>\n",
       "      <td>пенсионер</td>\n",
       "      <td>0</td>\n",
       "      <td>118514.486412</td>\n",
       "      <td>118514</td>\n",
       "      <td>операции с жильем</td>\n",
       "    </tr>\n",
       "  </tbody>\n",
       "</table>\n",
       "<p>71 rows × 14 columns</p>\n",
       "</div>"
      ],
      "text/plain": [
       "       children  days_employed  days_employed_int  dob_years education  \\\n",
       "2849          0  142594.396847             142594         41   среднее   \n",
       "3290          0  118514.486412             118514         58   среднее   \n",
       "4182          1  142594.396847             142594         34    высшее   \n",
       "4851          0  118514.486412             118514         60   среднее   \n",
       "5557          0  118514.486412             118514         58   среднее   \n",
       "...         ...            ...                ...        ...       ...   \n",
       "20702         0  118514.486412             118514         64   среднее   \n",
       "21032         0  118514.486412             118514         60   среднее   \n",
       "21132         0  142594.396847             142594         47   среднее   \n",
       "21281         1  142594.396847             142594         30    высшее   \n",
       "21415         0  118514.486412             118514         54   среднее   \n",
       "\n",
       "       education_id     family_status  family_status_id gender income_type  \\\n",
       "2849              1   женат / замужем                 0      F   сотрудник   \n",
       "3290              1  гражданский брак                 1      F   пенсионер   \n",
       "4182              0  гражданский брак                 1      F   сотрудник   \n",
       "4851              1  гражданский брак                 1      F   пенсионер   \n",
       "5557              1  гражданский брак                 1      F   пенсионер   \n",
       "...             ...               ...               ...    ...         ...   \n",
       "20702             1   женат / замужем                 0      F   пенсионер   \n",
       "21032             1   женат / замужем                 0      F   пенсионер   \n",
       "21132             1   женат / замужем                 0      F   сотрудник   \n",
       "21281             0   женат / замужем                 0      F   сотрудник   \n",
       "21415             1   женат / замужем                 0      F   пенсионер   \n",
       "\n",
       "       debt   total_income  total_income_int  \\\n",
       "2849      0  142594.396847            142594   \n",
       "3290      0  118514.486412            118514   \n",
       "4182      0  142594.396847            142594   \n",
       "4851      0  118514.486412            118514   \n",
       "5557      0  118514.486412            118514   \n",
       "...     ...            ...               ...   \n",
       "20702     0  118514.486412            118514   \n",
       "21032     0  118514.486412            118514   \n",
       "21132     0  142594.396847            142594   \n",
       "21281     0  142594.396847            142594   \n",
       "21415     0  118514.486412            118514   \n",
       "\n",
       "                                 purpose  \n",
       "2849             покупка жилья для семьи  \n",
       "3290                     сыграть свадьбу  \n",
       "4182                             свадьба  \n",
       "4851                             свадьба  \n",
       "5557                     сыграть свадьбу  \n",
       "...                                  ...  \n",
       "20702         дополнительное образование  \n",
       "21032              заняться образованием  \n",
       "21132                       ремонт жилью  \n",
       "21281  покупка коммерческой недвижимости  \n",
       "21415                  операции с жильем  \n",
       "\n",
       "[71 rows x 14 columns]"
      ]
     },
     "metadata": {},
     "output_type": "display_data"
    }
   ],
   "source": [
    "display(data[data.duplicated()])"
   ]
  },
  {
   "cell_type": "code",
   "execution_count": 16,
   "metadata": {},
   "outputs": [
    {
     "name": "stdout",
     "output_type": "stream",
     "text": [
      "0\n"
     ]
    }
   ],
   "source": [
    "# Отбросим все явные дубликаты\n",
    "data = data.drop_duplicates().reset_index(drop=True)\n",
    "\n",
    "# Посмотрим результат\n",
    "print(data.duplicated().sum())"
   ]
  },
  {
   "cell_type": "code",
   "execution_count": 17,
   "metadata": {},
   "outputs": [
    {
     "data": {
      "text/plain": [
       "array(['высшее', 'среднее', 'неоконченное высшее', 'начальное',\n",
       "       'ученая степень'], dtype=object)"
      ]
     },
     "metadata": {},
     "output_type": "display_data"
    }
   ],
   "source": [
    "# Поиск неявных дубликатов в education\n",
    "display(data['education'].unique())"
   ]
  },
  {
   "cell_type": "code",
   "execution_count": 18,
   "metadata": {},
   "outputs": [
    {
     "data": {
      "text/plain": [
       "array(['женат / замужем', 'гражданский брак', 'вдовец / вдова',\n",
       "       'в разводе', 'Не женат / не замужем'], dtype=object)"
      ]
     },
     "metadata": {},
     "output_type": "display_data"
    }
   ],
   "source": [
    "# Поиск неявных дубликатов в family_status\n",
    "display(data['family_status'].unique())"
   ]
  },
  {
   "cell_type": "markdown",
   "metadata": {},
   "source": [
    "Заметно что один из вариантов в **family_status** записан с заглавной буквы, исправим с помощью **.str.lower()**"
   ]
  },
  {
   "cell_type": "code",
   "execution_count": 19,
   "metadata": {},
   "outputs": [
    {
     "data": {
      "text/plain": [
       "array(['женат / замужем', 'гражданский брак', 'вдовец / вдова',\n",
       "       'в разводе', 'не женат / не замужем'], dtype=object)"
      ]
     },
     "metadata": {},
     "output_type": "display_data"
    }
   ],
   "source": [
    "# Приведем все к одному регистру и проверим\n",
    "data['family_status'] = data['family_status'].str.lower()\n",
    "display(data['family_status'].unique())"
   ]
  },
  {
   "cell_type": "code",
   "execution_count": 20,
   "metadata": {},
   "outputs": [
    {
     "data": {
      "text/plain": [
       "array(['F', 'M', 'XNA'], dtype=object)"
      ]
     },
     "metadata": {},
     "output_type": "display_data"
    }
   ],
   "source": [
    "# Поиск неявных дубликатов в gender\n",
    "display(data['gender'].unique())"
   ]
  },
  {
   "cell_type": "markdown",
   "metadata": {},
   "source": [
    "Один из вариантов записан как **XNA**, опечатка? Много ли таких записей?"
   ]
  },
  {
   "cell_type": "code",
   "execution_count": 21,
   "metadata": {},
   "outputs": [
    {
     "name": "stdout",
     "output_type": "stream",
     "text": [
      "1\n"
     ]
    }
   ],
   "source": [
    "# Проверим сколько всего таких записей\n",
    "print(data[data['gender'] == 'XNA']['gender'].count())"
   ]
  },
  {
   "cell_type": "markdown",
   "metadata": {},
   "source": [
    "Скорее всего опечатка и данных нет, возможно было указано **NA** (_not applicable_), заменим на **NA**"
   ]
  },
  {
   "cell_type": "code",
   "execution_count": 22,
   "metadata": {},
   "outputs": [
    {
     "data": {
      "text/plain": [
       "array(['F', 'M', 'NA'], dtype=object)"
      ]
     },
     "metadata": {},
     "output_type": "display_data"
    }
   ],
   "source": [
    "# Заменим на NA и проверим\n",
    "data[data['gender'] == 'XNA'] = data.replace('XNA', 'NA')\n",
    "display(data['gender'].unique())"
   ]
  },
  {
   "cell_type": "code",
   "execution_count": 23,
   "metadata": {},
   "outputs": [
    {
     "data": {
      "text/plain": [
       "array(['сотрудник', 'пенсионер', 'компаньон', 'госслужащий',\n",
       "       'безработный', 'предприниматель', 'студент', 'в декрете'],\n",
       "      dtype=object)"
      ]
     },
     "metadata": {},
     "output_type": "display_data"
    }
   ],
   "source": [
    "# Поиск неявных дубликатов в income_type\n",
    "display(data['income_type'].unique())"
   ]
  },
  {
   "cell_type": "code",
   "execution_count": 24,
   "metadata": {
    "scrolled": true
   },
   "outputs": [
    {
     "data": {
      "text/plain": [
       "array(['покупка жилья', 'приобретение автомобиля',\n",
       "       'дополнительное образование', 'сыграть свадьбу',\n",
       "       'операции с жильем', 'образование', 'на проведение свадьбы',\n",
       "       'покупка жилья для семьи', 'покупка недвижимости',\n",
       "       'покупка коммерческой недвижимости', 'покупка жилой недвижимости',\n",
       "       'строительство собственной недвижимости', 'недвижимость',\n",
       "       'строительство недвижимости', 'на покупку подержанного автомобиля',\n",
       "       'на покупку своего автомобиля',\n",
       "       'операции с коммерческой недвижимостью',\n",
       "       'строительство жилой недвижимости', 'жилье',\n",
       "       'операции со своей недвижимостью', 'автомобили',\n",
       "       'заняться образованием', 'сделка с подержанным автомобилем',\n",
       "       'получение образования', 'автомобиль', 'свадьба',\n",
       "       'получение дополнительного образования', 'покупка своего жилья',\n",
       "       'операции с недвижимостью', 'получение высшего образования',\n",
       "       'свой автомобиль', 'сделка с автомобилем',\n",
       "       'профильное образование', 'высшее образование',\n",
       "       'покупка жилья для сдачи', 'на покупку автомобиля', 'ремонт жилью',\n",
       "       'заняться высшим образованием'], dtype=object)"
      ]
     },
     "metadata": {},
     "output_type": "display_data"
    }
   ],
   "source": [
    "# Поиск неявных дубликатов в purpose\n",
    "display(data['purpose'].unique())"
   ]
  },
  {
   "cell_type": "markdown",
   "metadata": {},
   "source": [
    "Скорее всего так будет долго разбираться и можно ошибиться, слишком много похожих слов.  \n",
    "Попробуем вернуться к этому с помощью лемматизации ниже.\n",
    "\n",
    "А пока проверим если появились новые дубликаты после форматирования некоторых колонок"
   ]
  },
  {
   "cell_type": "code",
   "execution_count": 25,
   "metadata": {},
   "outputs": [
    {
     "name": "stdout",
     "output_type": "stream",
     "text": [
      "0\n"
     ]
    },
    {
     "data": {
      "text/plain": [
       "сотрудник          11084\n",
       "компаньон           5078\n",
       "пенсионер           3829\n",
       "госслужащий         1457\n",
       "безработный            2\n",
       "предприниматель        2\n",
       "студент                1\n",
       "в декрете              1\n",
       "Name: income_type, dtype: int64"
      ]
     },
     "metadata": {},
     "output_type": "display_data"
    }
   ],
   "source": [
    "# Проверим если появились новые дубликаты\n",
    "print(data.duplicated().sum())\n",
    "display(data['income_type'].value_counts())"
   ]
  },
  {
   "cell_type": "markdown",
   "metadata": {},
   "source": [
    "**Вывод**"
   ]
  },
  {
   "cell_type": "markdown",
   "metadata": {},
   "source": [
    "Всего нашлось 71 дубликат, отбросив явные дубликаты, прошлись по каждой колонке и проверили на уникальные значения, разницу в написании и на возможные опечатки.  \n",
    "Найденные недочеты были приведены к одному регистру, а опечатки исправлены.  \n",
    "Обнаружили что есть много уникальных но похожих по смыслу и написанию фраз в колонке **purpose** но ее лучше обработать с помощью лемматизации."
   ]
  },
  {
   "cell_type": "markdown",
   "metadata": {},
   "source": [
    "### Лемматизация"
   ]
  },
  {
   "cell_type": "code",
   "execution_count": 26,
   "metadata": {
    "scrolled": false
   },
   "outputs": [],
   "source": [
    "# Имортируем pymystem3 для лемматизации\n",
    "from pymystem3 import Mystem\n",
    "\n",
    "# Counter использовался однажды, для составления словаря\n",
    "# from collections import Counter\n",
    "\n",
    "m = Mystem()\n",
    "\n",
    "# Функция lemmatize_it для лемматизации возращает результат списком\n",
    "def lemmatize_it(text):\n",
    "    lemmas = m.lemmatize(text)\n",
    "    return lemmas\n",
    "\n",
    "\n",
    "#--------Блок ниже использовался для составления словаря,------------\n",
    "#                 после чего был закомментирован\n",
    "# -------------------------------------------------------------------\n",
    "#\n",
    "# Список уникальных фраз для лемматизации из столбца data['purpose']\n",
    "#unique_purposes = data['purpose'].unique()\n",
    "#\n",
    "#\n",
    "# Для каждой фразы найдем леммы и добавим их в словарь\n",
    "# lemmatized_unique_purposes_dict = {}\n",
    "#\n",
    "# Используя функцию lemmatize_it и с подсчетом Counter записываем в словарь\n",
    "# for unique_purpose in unique_purposes:\n",
    "#     lemmas = lemmatize_it(unique_purpose)\n",
    "#     lemmatized_unique_purposes_dict.update(Counter(lemmas))\n",
    "# -------------------------------------------------------------------\n",
    "\n",
    "    \n",
    "# Словарь с отсортированными вручную категориями. \n",
    "sorted_purposes_dict = {\n",
    "    'автомобиль': 'автомобиль',\n",
    "    'образование': 'образование',\n",
    "    'свадьба': 'свадьба',\n",
    "    'недвижимость': 'недвижимость',\n",
    "    'жилье': 'недвижимость',\n",
    "}\n"
   ]
  },
  {
   "cell_type": "code",
   "execution_count": 27,
   "metadata": {},
   "outputs": [
    {
     "data": {
      "text/html": [
       "<div>\n",
       "<style scoped>\n",
       "    .dataframe tbody tr th:only-of-type {\n",
       "        vertical-align: middle;\n",
       "    }\n",
       "\n",
       "    .dataframe tbody tr th {\n",
       "        vertical-align: top;\n",
       "    }\n",
       "\n",
       "    .dataframe thead th {\n",
       "        text-align: right;\n",
       "    }\n",
       "</style>\n",
       "<table border=\"1\" class=\"dataframe\">\n",
       "  <thead>\n",
       "    <tr style=\"text-align: right;\">\n",
       "      <th></th>\n",
       "      <th>children</th>\n",
       "      <th>days_employed</th>\n",
       "      <th>days_employed_int</th>\n",
       "      <th>dob_years</th>\n",
       "      <th>education</th>\n",
       "      <th>education_id</th>\n",
       "      <th>family_status</th>\n",
       "      <th>family_status_id</th>\n",
       "      <th>gender</th>\n",
       "      <th>income_type</th>\n",
       "      <th>debt</th>\n",
       "      <th>total_income</th>\n",
       "      <th>total_income_int</th>\n",
       "      <th>purpose</th>\n",
       "      <th>lemmas_purpose</th>\n",
       "    </tr>\n",
       "  </thead>\n",
       "  <tbody>\n",
       "    <tr>\n",
       "      <td>0</td>\n",
       "      <td>1</td>\n",
       "      <td>-8437.673028</td>\n",
       "      <td>-8437</td>\n",
       "      <td>42</td>\n",
       "      <td>высшее</td>\n",
       "      <td>0</td>\n",
       "      <td>женат / замужем</td>\n",
       "      <td>0</td>\n",
       "      <td>F</td>\n",
       "      <td>сотрудник</td>\n",
       "      <td>0</td>\n",
       "      <td>253875.639453</td>\n",
       "      <td>253875</td>\n",
       "      <td>покупка жилья</td>\n",
       "      <td>недвижимость</td>\n",
       "    </tr>\n",
       "    <tr>\n",
       "      <td>1</td>\n",
       "      <td>1</td>\n",
       "      <td>-4024.803754</td>\n",
       "      <td>-4024</td>\n",
       "      <td>36</td>\n",
       "      <td>среднее</td>\n",
       "      <td>1</td>\n",
       "      <td>женат / замужем</td>\n",
       "      <td>0</td>\n",
       "      <td>F</td>\n",
       "      <td>сотрудник</td>\n",
       "      <td>0</td>\n",
       "      <td>112080.014102</td>\n",
       "      <td>112080</td>\n",
       "      <td>приобретение автомобиля</td>\n",
       "      <td>автомобиль</td>\n",
       "    </tr>\n",
       "    <tr>\n",
       "      <td>2</td>\n",
       "      <td>0</td>\n",
       "      <td>-5623.422610</td>\n",
       "      <td>-5623</td>\n",
       "      <td>33</td>\n",
       "      <td>среднее</td>\n",
       "      <td>1</td>\n",
       "      <td>женат / замужем</td>\n",
       "      <td>0</td>\n",
       "      <td>M</td>\n",
       "      <td>сотрудник</td>\n",
       "      <td>0</td>\n",
       "      <td>145885.952297</td>\n",
       "      <td>145885</td>\n",
       "      <td>покупка жилья</td>\n",
       "      <td>недвижимость</td>\n",
       "    </tr>\n",
       "    <tr>\n",
       "      <td>3</td>\n",
       "      <td>3</td>\n",
       "      <td>-4124.747207</td>\n",
       "      <td>-4124</td>\n",
       "      <td>32</td>\n",
       "      <td>среднее</td>\n",
       "      <td>1</td>\n",
       "      <td>женат / замужем</td>\n",
       "      <td>0</td>\n",
       "      <td>M</td>\n",
       "      <td>сотрудник</td>\n",
       "      <td>0</td>\n",
       "      <td>267628.550329</td>\n",
       "      <td>267628</td>\n",
       "      <td>дополнительное образование</td>\n",
       "      <td>образование</td>\n",
       "    </tr>\n",
       "    <tr>\n",
       "      <td>4</td>\n",
       "      <td>0</td>\n",
       "      <td>340266.072047</td>\n",
       "      <td>340266</td>\n",
       "      <td>53</td>\n",
       "      <td>среднее</td>\n",
       "      <td>1</td>\n",
       "      <td>гражданский брак</td>\n",
       "      <td>1</td>\n",
       "      <td>F</td>\n",
       "      <td>пенсионер</td>\n",
       "      <td>0</td>\n",
       "      <td>158616.077870</td>\n",
       "      <td>158616</td>\n",
       "      <td>сыграть свадьбу</td>\n",
       "      <td>свадьба</td>\n",
       "    </tr>\n",
       "    <tr>\n",
       "      <td>5</td>\n",
       "      <td>0</td>\n",
       "      <td>-926.185831</td>\n",
       "      <td>-926</td>\n",
       "      <td>27</td>\n",
       "      <td>высшее</td>\n",
       "      <td>0</td>\n",
       "      <td>гражданский брак</td>\n",
       "      <td>1</td>\n",
       "      <td>M</td>\n",
       "      <td>компаньон</td>\n",
       "      <td>0</td>\n",
       "      <td>255763.565419</td>\n",
       "      <td>255763</td>\n",
       "      <td>покупка жилья</td>\n",
       "      <td>недвижимость</td>\n",
       "    </tr>\n",
       "    <tr>\n",
       "      <td>6</td>\n",
       "      <td>0</td>\n",
       "      <td>-2879.202052</td>\n",
       "      <td>-2879</td>\n",
       "      <td>43</td>\n",
       "      <td>высшее</td>\n",
       "      <td>0</td>\n",
       "      <td>женат / замужем</td>\n",
       "      <td>0</td>\n",
       "      <td>F</td>\n",
       "      <td>компаньон</td>\n",
       "      <td>0</td>\n",
       "      <td>240525.971920</td>\n",
       "      <td>240525</td>\n",
       "      <td>операции с жильем</td>\n",
       "      <td>недвижимость</td>\n",
       "    </tr>\n",
       "    <tr>\n",
       "      <td>7</td>\n",
       "      <td>0</td>\n",
       "      <td>-152.779569</td>\n",
       "      <td>-152</td>\n",
       "      <td>50</td>\n",
       "      <td>среднее</td>\n",
       "      <td>1</td>\n",
       "      <td>женат / замужем</td>\n",
       "      <td>0</td>\n",
       "      <td>M</td>\n",
       "      <td>сотрудник</td>\n",
       "      <td>0</td>\n",
       "      <td>135823.934197</td>\n",
       "      <td>135823</td>\n",
       "      <td>образование</td>\n",
       "      <td>образование</td>\n",
       "    </tr>\n",
       "    <tr>\n",
       "      <td>8</td>\n",
       "      <td>2</td>\n",
       "      <td>-6929.865299</td>\n",
       "      <td>-6929</td>\n",
       "      <td>35</td>\n",
       "      <td>высшее</td>\n",
       "      <td>0</td>\n",
       "      <td>гражданский брак</td>\n",
       "      <td>1</td>\n",
       "      <td>F</td>\n",
       "      <td>сотрудник</td>\n",
       "      <td>0</td>\n",
       "      <td>95856.832424</td>\n",
       "      <td>95856</td>\n",
       "      <td>на проведение свадьбы</td>\n",
       "      <td>свадьба</td>\n",
       "    </tr>\n",
       "    <tr>\n",
       "      <td>9</td>\n",
       "      <td>0</td>\n",
       "      <td>-2188.756445</td>\n",
       "      <td>-2188</td>\n",
       "      <td>41</td>\n",
       "      <td>среднее</td>\n",
       "      <td>1</td>\n",
       "      <td>женат / замужем</td>\n",
       "      <td>0</td>\n",
       "      <td>M</td>\n",
       "      <td>сотрудник</td>\n",
       "      <td>0</td>\n",
       "      <td>144425.938277</td>\n",
       "      <td>144425</td>\n",
       "      <td>покупка жилья для семьи</td>\n",
       "      <td>недвижимость</td>\n",
       "    </tr>\n",
       "  </tbody>\n",
       "</table>\n",
       "</div>"
      ],
      "text/plain": [
       "   children  days_employed  days_employed_int  dob_years education  \\\n",
       "0         1   -8437.673028              -8437         42    высшее   \n",
       "1         1   -4024.803754              -4024         36   среднее   \n",
       "2         0   -5623.422610              -5623         33   среднее   \n",
       "3         3   -4124.747207              -4124         32   среднее   \n",
       "4         0  340266.072047             340266         53   среднее   \n",
       "5         0    -926.185831               -926         27    высшее   \n",
       "6         0   -2879.202052              -2879         43    высшее   \n",
       "7         0    -152.779569               -152         50   среднее   \n",
       "8         2   -6929.865299              -6929         35    высшее   \n",
       "9         0   -2188.756445              -2188         41   среднее   \n",
       "\n",
       "   education_id     family_status  family_status_id gender income_type  debt  \\\n",
       "0             0   женат / замужем                 0      F   сотрудник     0   \n",
       "1             1   женат / замужем                 0      F   сотрудник     0   \n",
       "2             1   женат / замужем                 0      M   сотрудник     0   \n",
       "3             1   женат / замужем                 0      M   сотрудник     0   \n",
       "4             1  гражданский брак                 1      F   пенсионер     0   \n",
       "5             0  гражданский брак                 1      M   компаньон     0   \n",
       "6             0   женат / замужем                 0      F   компаньон     0   \n",
       "7             1   женат / замужем                 0      M   сотрудник     0   \n",
       "8             0  гражданский брак                 1      F   сотрудник     0   \n",
       "9             1   женат / замужем                 0      M   сотрудник     0   \n",
       "\n",
       "    total_income  total_income_int                     purpose lemmas_purpose  \n",
       "0  253875.639453            253875               покупка жилья   недвижимость  \n",
       "1  112080.014102            112080     приобретение автомобиля     автомобиль  \n",
       "2  145885.952297            145885               покупка жилья   недвижимость  \n",
       "3  267628.550329            267628  дополнительное образование    образование  \n",
       "4  158616.077870            158616             сыграть свадьбу        свадьба  \n",
       "5  255763.565419            255763               покупка жилья   недвижимость  \n",
       "6  240525.971920            240525           операции с жильем   недвижимость  \n",
       "7  135823.934197            135823                 образование    образование  \n",
       "8   95856.832424             95856       на проведение свадьбы        свадьба  \n",
       "9  144425.938277            144425     покупка жилья для семьи   недвижимость  "
      ]
     },
     "metadata": {},
     "output_type": "display_data"
    }
   ],
   "source": [
    "# Функция purpose_category получает в качестве аргумента фразу, лемматизирует ее\n",
    "# и после сверки со словарем возвращает нужную категорию.\n",
    "def purpose_category(purpose):\n",
    "    lemmatized_list = lemmatize_it(purpose)\n",
    "    for lemma in lemmatized_list:\n",
    "        if lemma in sorted_purposes_dict.keys():\n",
    "            return sorted_purposes_dict[lemma]\n",
    "\n",
    "\n",
    "#----------------------------- Дорогой ревьюер =) -----------------------------\n",
    "#              я написал два варианта этой функции и тот что выше\n",
    "#                  показался мне более элегантным, чем нижний.\n",
    "#     Можешь подсказать и дать совет если есть более удобные и быстрые способы\n",
    "#        пройти по колонке, лемматизировать все фразы, очистить от ненужного\n",
    "# и сохранить в новую колонку кроме как сортировать вручную и в несколько шагов? \n",
    "#\n",
    "#       Мне интересно на будущее и конечно если у тебя есть время на это.\n",
    "#-------------------------------------------------------------------------------\n",
    "\n",
    "# def ugly_purpose_category(purpose):\n",
    "#     lemmatized_list = lemmatize_it(purpose)\n",
    "#     if 'автомобиль' in lemmatized_list:\n",
    "#         return 'автомобиль'\n",
    "#     elif 'образование' in lemmatized_list:\n",
    "#         return 'образование'\n",
    "#     elif 'свадьба' in lemmatized_list:\n",
    "#         return 'свадьба'\n",
    "#     elif 'недвижимость' in lemmatized_list:\n",
    "#         return 'недвижимость'\n",
    "#     elif 'жилье' in lemmatized_list:\n",
    "#         return 'недвижимость'\n",
    "    \n",
    "        \n",
    "# Используя функцию purpose_category проверим каждую запись в data['purpose']\n",
    "# а результат запишем в новую колонку data['lemmas_purpose']\n",
    "data['lemmas_purpose'] = data['purpose'].apply(purpose_category)\n",
    "\n",
    "# Проверим результат отобразив первые 10 записей\n",
    "display(data.head(10))"
   ]
  },
  {
   "cell_type": "code",
   "execution_count": 28,
   "metadata": {},
   "outputs": [
    {
     "data": {
      "text/plain": [
       "0"
      ]
     },
     "execution_count": 28,
     "metadata": {},
     "output_type": "execute_result"
    }
   ],
   "source": [
    "# Так же проверим если вдруг появилсиь пропущенные значения\n",
    "data['lemmas_purpose'].isna().sum()"
   ]
  },
  {
   "cell_type": "code",
   "execution_count": 29,
   "metadata": {
    "scrolled": false
   },
   "outputs": [],
   "source": [
    "#----------Данный фрагмент кода использовался однажды для проверки функции purpose_category.----------\n",
    "#                т.к. весь датафрейм довольно большой проверял на первых 50 строках,\n",
    "#                            после успешной проверки код заккоментирован.\n",
    "#\n",
    "# df = data.head(50).copy()\n",
    "# df['lemmas_purpose'] = df['purpose'].apply(purpose_category)\n",
    "# df.head(10)\n",
    "#-----------------------------------------------------------------------------------------------------"
   ]
  },
  {
   "cell_type": "markdown",
   "metadata": {},
   "source": [
    "**Вывод**"
   ]
  },
  {
   "cell_type": "markdown",
   "metadata": {},
   "source": [
    "С помощью лемматизации сначала взяли все уникальные значения из колонки **purpose** и сохранили в отдельный словарь, который вручную обработали удалив ненужное и объеденив одинаковое по смылсу для дальнейшего анализа.  \n",
    "Некоторые функции и фрагменты кода использовались лишь раз, а после закомментированы.  \n",
    "Используя полученный словарь и при помощью функции создали новую колонку и поместили туда ключевые слова, т.е., категории как результат лемматизации целей получения кредита."
   ]
  },
  {
   "cell_type": "markdown",
   "metadata": {},
   "source": [
    "### Категоризация данных"
   ]
  },
  {
   "cell_type": "markdown",
   "metadata": {},
   "source": [
    "Подготавливаем данные чтобы ответить на вопросы о зависимости тех или иных факторов.  \n",
    "Сгруппируем их в категории: \n",
    "- Дети, \n",
    "- Образование, \n",
    "- Семейное положение, \n",
    "- Доход, \n",
    "- Цели кредита\n",
    "\n",
    "#### Группировка по наличию детей"
   ]
  },
  {
   "cell_type": "code",
   "execution_count": 29,
   "metadata": {
    "scrolled": true
   },
   "outputs": [
    {
     "data": {
      "text/plain": [
       " 0     14091\n",
       " 1      4808\n",
       " 2      2052\n",
       " 3       330\n",
       " 20       76\n",
       "-1        47\n",
       " 4        41\n",
       " 5         9\n",
       "Name: children, dtype: int64"
      ]
     },
     "metadata": {},
     "output_type": "display_data"
    }
   ],
   "source": [
    "# Проверим данные в колонке о наличии детей\n",
    "display(data['children'].value_counts())"
   ]
  },
  {
   "cell_type": "markdown",
   "metadata": {},
   "source": [
    "Некоторые данные выглядят неккоректными (-1 ребенок) и странными (20 детей)"
   ]
  },
  {
   "cell_type": "code",
   "execution_count": 30,
   "metadata": {},
   "outputs": [
    {
     "data": {
      "text/plain": [
       "array([ 1,  0,  3,  2,  4, 20,  5])"
      ]
     },
     "metadata": {},
     "output_type": "display_data"
    }
   ],
   "source": [
    "# Заменим -1 на 1 в колонке с детьми\n",
    "data[data['children'] == -1] = data.replace(-1, 1)\n",
    "display(data['children'].unique())"
   ]
  },
  {
   "cell_type": "markdown",
   "metadata": {},
   "source": [
    "А значение 20 возможно было записано с опечаткой, лишним 0.  \n",
    "Хоть и наличие у семьи 20 детей встречается в мире, это довольно редкое явление."
   ]
  },
  {
   "cell_type": "code",
   "execution_count": 31,
   "metadata": {},
   "outputs": [
    {
     "data": {
      "text/plain": [
       "array([1, 0, 3, 2, 4, 5])"
      ]
     },
     "metadata": {},
     "output_type": "display_data"
    }
   ],
   "source": [
    "# Поэтому заменим 20 на 2\n",
    "data[data['children'] == 20] = data.replace(20, 2)\n",
    "display(data['children'].unique())\n"
   ]
  },
  {
   "cell_type": "markdown",
   "metadata": {},
   "source": [
    "#### Группировка по образованию"
   ]
  },
  {
   "cell_type": "code",
   "execution_count": 32,
   "metadata": {},
   "outputs": [
    {
     "data": {
      "text/plain": [
       "среднее                15172\n",
       "высшее                  5250\n",
       "неоконченное высшее      744\n",
       "начальное                282\n",
       "ученая степень             6\n",
       "Name: education, dtype: int64"
      ]
     },
     "metadata": {},
     "output_type": "display_data"
    }
   ],
   "source": [
    "# Проверим данные в колонке об образовании\n",
    "display(data['education'].value_counts())"
   ]
  },
  {
   "cell_type": "markdown",
   "metadata": {},
   "source": [
    "#### Группировка по семейному положению"
   ]
  },
  {
   "cell_type": "code",
   "execution_count": 33,
   "metadata": {},
   "outputs": [
    {
     "data": {
      "text/plain": [
       "женат / замужем          12339\n",
       "гражданский брак          4151\n",
       "не женат / не замужем     2810\n",
       "в разводе                 1195\n",
       "вдовец / вдова             959\n",
       "Name: family_status, dtype: int64"
      ]
     },
     "metadata": {},
     "output_type": "display_data"
    }
   ],
   "source": [
    "# Проверим данные в колонке о семейном положении\n",
    "display(data['family_status'].value_counts())"
   ]
  },
  {
   "cell_type": "markdown",
   "metadata": {},
   "source": [
    "#### Группировка по доходу"
   ]
  },
  {
   "cell_type": "code",
   "execution_count": 34,
   "metadata": {
    "scrolled": false
   },
   "outputs": [
    {
     "data": {
      "text/plain": [
       "142594    1070\n",
       "172357     502\n",
       "118514     387\n",
       "150447     145\n",
       "126262       3\n",
       "          ... \n",
       "101387       1\n",
       "138249       1\n",
       "280240       1\n",
       "390148       1\n",
       "264193       1\n",
       "Name: total_income_int, Length: 18608, dtype: int64"
      ]
     },
     "metadata": {},
     "output_type": "display_data"
    }
   ],
   "source": [
    "# Проверим данные в колонке о доходах\n",
    "display(data['total_income_int'].value_counts())"
   ]
  },
  {
   "cell_type": "markdown",
   "metadata": {},
   "source": [
    "Выглядит внушительно, 18608 уникальных значений и это довольно большой разброс.  \n",
    "Т.к. колонка **data['total_income']** с доходами имеет весьма странный вид для ежемесячного дохода и нет обяснения что это могло бы означать, к примеру значение в **158616.077870** для 53 летнего пенсионера.  \n",
    "То в разделе **2.2 Замена типа данных** сменил формат колонки с float на int отбрсив значения после (.) и сохранив в новой колонке **data['total_income_int']**  \n",
    "В таком случае останется 158616 и это целое число можно взять за условную единицу, т.н. **у.е.** с ней будет проще работать дальше."
   ]
  },
  {
   "cell_type": "markdown",
   "metadata": {},
   "source": [
    "Даже после форматирования все равно остается огромное количество различных значений, их лучше объеденить в группы."
   ]
  },
  {
   "cell_type": "code",
   "execution_count": 35,
   "metadata": {
    "scrolled": false
   },
   "outputs": [
    {
     "name": "stdout",
     "output_type": "stream",
     "text": [
      "Минимальное значение в data['total_income_int']: 20667\n",
      "Максимальное значение в data['total_income_int']: 2265604\n"
     ]
    }
   ],
   "source": [
    "# Проверим минимальное и максимальное значения\n",
    "print(f\"Минимальное значение в data['total_income_int']: {data['total_income_int'].min()}\")\n",
    "print(f\"Максимальное значение в data['total_income_int']: {data['total_income_int'].max()}\")"
   ]
  },
  {
   "cell_type": "code",
   "execution_count": 36,
   "metadata": {},
   "outputs": [
    {
     "data": {
      "text/html": [
       "<div>\n",
       "<style scoped>\n",
       "    .dataframe tbody tr th:only-of-type {\n",
       "        vertical-align: middle;\n",
       "    }\n",
       "\n",
       "    .dataframe tbody tr th {\n",
       "        vertical-align: top;\n",
       "    }\n",
       "\n",
       "    .dataframe thead th {\n",
       "        text-align: right;\n",
       "    }\n",
       "</style>\n",
       "<table border=\"1\" class=\"dataframe\">\n",
       "  <thead>\n",
       "    <tr style=\"text-align: right;\">\n",
       "      <th></th>\n",
       "      <th>children</th>\n",
       "      <th>days_employed</th>\n",
       "      <th>days_employed_int</th>\n",
       "      <th>dob_years</th>\n",
       "      <th>education</th>\n",
       "      <th>education_id</th>\n",
       "      <th>family_status</th>\n",
       "      <th>family_status_id</th>\n",
       "      <th>gender</th>\n",
       "      <th>income_type</th>\n",
       "      <th>debt</th>\n",
       "      <th>total_income</th>\n",
       "      <th>total_income_int</th>\n",
       "      <th>purpose</th>\n",
       "      <th>lemmas_purpose</th>\n",
       "      <th>income_group</th>\n",
       "    </tr>\n",
       "  </thead>\n",
       "  <tbody>\n",
       "    <tr>\n",
       "      <td>0</td>\n",
       "      <td>1</td>\n",
       "      <td>-8437.673028</td>\n",
       "      <td>-8437</td>\n",
       "      <td>42</td>\n",
       "      <td>высшее</td>\n",
       "      <td>0</td>\n",
       "      <td>женат / замужем</td>\n",
       "      <td>0</td>\n",
       "      <td>F</td>\n",
       "      <td>сотрудник</td>\n",
       "      <td>0</td>\n",
       "      <td>253875.639453</td>\n",
       "      <td>253875</td>\n",
       "      <td>покупка жилья</td>\n",
       "      <td>недвижимость</td>\n",
       "      <td>0 - 500 000 y.e.</td>\n",
       "    </tr>\n",
       "    <tr>\n",
       "      <td>1</td>\n",
       "      <td>1</td>\n",
       "      <td>-4024.803754</td>\n",
       "      <td>-4024</td>\n",
       "      <td>36</td>\n",
       "      <td>среднее</td>\n",
       "      <td>1</td>\n",
       "      <td>женат / замужем</td>\n",
       "      <td>0</td>\n",
       "      <td>F</td>\n",
       "      <td>сотрудник</td>\n",
       "      <td>0</td>\n",
       "      <td>112080.014102</td>\n",
       "      <td>112080</td>\n",
       "      <td>приобретение автомобиля</td>\n",
       "      <td>автомобиль</td>\n",
       "      <td>0 - 500 000 y.e.</td>\n",
       "    </tr>\n",
       "    <tr>\n",
       "      <td>2</td>\n",
       "      <td>0</td>\n",
       "      <td>-5623.422610</td>\n",
       "      <td>-5623</td>\n",
       "      <td>33</td>\n",
       "      <td>среднее</td>\n",
       "      <td>1</td>\n",
       "      <td>женат / замужем</td>\n",
       "      <td>0</td>\n",
       "      <td>M</td>\n",
       "      <td>сотрудник</td>\n",
       "      <td>0</td>\n",
       "      <td>145885.952297</td>\n",
       "      <td>145885</td>\n",
       "      <td>покупка жилья</td>\n",
       "      <td>недвижимость</td>\n",
       "      <td>0 - 500 000 y.e.</td>\n",
       "    </tr>\n",
       "    <tr>\n",
       "      <td>3</td>\n",
       "      <td>3</td>\n",
       "      <td>-4124.747207</td>\n",
       "      <td>-4124</td>\n",
       "      <td>32</td>\n",
       "      <td>среднее</td>\n",
       "      <td>1</td>\n",
       "      <td>женат / замужем</td>\n",
       "      <td>0</td>\n",
       "      <td>M</td>\n",
       "      <td>сотрудник</td>\n",
       "      <td>0</td>\n",
       "      <td>267628.550329</td>\n",
       "      <td>267628</td>\n",
       "      <td>дополнительное образование</td>\n",
       "      <td>образование</td>\n",
       "      <td>0 - 500 000 y.e.</td>\n",
       "    </tr>\n",
       "    <tr>\n",
       "      <td>4</td>\n",
       "      <td>0</td>\n",
       "      <td>340266.072047</td>\n",
       "      <td>340266</td>\n",
       "      <td>53</td>\n",
       "      <td>среднее</td>\n",
       "      <td>1</td>\n",
       "      <td>гражданский брак</td>\n",
       "      <td>1</td>\n",
       "      <td>F</td>\n",
       "      <td>пенсионер</td>\n",
       "      <td>0</td>\n",
       "      <td>158616.077870</td>\n",
       "      <td>158616</td>\n",
       "      <td>сыграть свадьбу</td>\n",
       "      <td>свадьба</td>\n",
       "      <td>0 - 500 000 y.e.</td>\n",
       "    </tr>\n",
       "    <tr>\n",
       "      <td>5</td>\n",
       "      <td>0</td>\n",
       "      <td>-926.185831</td>\n",
       "      <td>-926</td>\n",
       "      <td>27</td>\n",
       "      <td>высшее</td>\n",
       "      <td>0</td>\n",
       "      <td>гражданский брак</td>\n",
       "      <td>1</td>\n",
       "      <td>M</td>\n",
       "      <td>компаньон</td>\n",
       "      <td>0</td>\n",
       "      <td>255763.565419</td>\n",
       "      <td>255763</td>\n",
       "      <td>покупка жилья</td>\n",
       "      <td>недвижимость</td>\n",
       "      <td>0 - 500 000 y.e.</td>\n",
       "    </tr>\n",
       "    <tr>\n",
       "      <td>6</td>\n",
       "      <td>0</td>\n",
       "      <td>-2879.202052</td>\n",
       "      <td>-2879</td>\n",
       "      <td>43</td>\n",
       "      <td>высшее</td>\n",
       "      <td>0</td>\n",
       "      <td>женат / замужем</td>\n",
       "      <td>0</td>\n",
       "      <td>F</td>\n",
       "      <td>компаньон</td>\n",
       "      <td>0</td>\n",
       "      <td>240525.971920</td>\n",
       "      <td>240525</td>\n",
       "      <td>операции с жильем</td>\n",
       "      <td>недвижимость</td>\n",
       "      <td>0 - 500 000 y.e.</td>\n",
       "    </tr>\n",
       "    <tr>\n",
       "      <td>7</td>\n",
       "      <td>0</td>\n",
       "      <td>-152.779569</td>\n",
       "      <td>-152</td>\n",
       "      <td>50</td>\n",
       "      <td>среднее</td>\n",
       "      <td>1</td>\n",
       "      <td>женат / замужем</td>\n",
       "      <td>0</td>\n",
       "      <td>M</td>\n",
       "      <td>сотрудник</td>\n",
       "      <td>0</td>\n",
       "      <td>135823.934197</td>\n",
       "      <td>135823</td>\n",
       "      <td>образование</td>\n",
       "      <td>образование</td>\n",
       "      <td>0 - 500 000 y.e.</td>\n",
       "    </tr>\n",
       "    <tr>\n",
       "      <td>8</td>\n",
       "      <td>2</td>\n",
       "      <td>-6929.865299</td>\n",
       "      <td>-6929</td>\n",
       "      <td>35</td>\n",
       "      <td>высшее</td>\n",
       "      <td>0</td>\n",
       "      <td>гражданский брак</td>\n",
       "      <td>1</td>\n",
       "      <td>F</td>\n",
       "      <td>сотрудник</td>\n",
       "      <td>0</td>\n",
       "      <td>95856.832424</td>\n",
       "      <td>95856</td>\n",
       "      <td>на проведение свадьбы</td>\n",
       "      <td>свадьба</td>\n",
       "      <td>0 - 500 000 y.e.</td>\n",
       "    </tr>\n",
       "    <tr>\n",
       "      <td>9</td>\n",
       "      <td>0</td>\n",
       "      <td>-2188.756445</td>\n",
       "      <td>-2188</td>\n",
       "      <td>41</td>\n",
       "      <td>среднее</td>\n",
       "      <td>1</td>\n",
       "      <td>женат / замужем</td>\n",
       "      <td>0</td>\n",
       "      <td>M</td>\n",
       "      <td>сотрудник</td>\n",
       "      <td>0</td>\n",
       "      <td>144425.938277</td>\n",
       "      <td>144425</td>\n",
       "      <td>покупка жилья для семьи</td>\n",
       "      <td>недвижимость</td>\n",
       "      <td>0 - 500 000 y.e.</td>\n",
       "    </tr>\n",
       "  </tbody>\n",
       "</table>\n",
       "</div>"
      ],
      "text/plain": [
       "   children  days_employed  days_employed_int  dob_years education  \\\n",
       "0         1   -8437.673028              -8437         42    высшее   \n",
       "1         1   -4024.803754              -4024         36   среднее   \n",
       "2         0   -5623.422610              -5623         33   среднее   \n",
       "3         3   -4124.747207              -4124         32   среднее   \n",
       "4         0  340266.072047             340266         53   среднее   \n",
       "5         0    -926.185831               -926         27    высшее   \n",
       "6         0   -2879.202052              -2879         43    высшее   \n",
       "7         0    -152.779569               -152         50   среднее   \n",
       "8         2   -6929.865299              -6929         35    высшее   \n",
       "9         0   -2188.756445              -2188         41   среднее   \n",
       "\n",
       "   education_id     family_status  family_status_id gender income_type  debt  \\\n",
       "0             0   женат / замужем                 0      F   сотрудник     0   \n",
       "1             1   женат / замужем                 0      F   сотрудник     0   \n",
       "2             1   женат / замужем                 0      M   сотрудник     0   \n",
       "3             1   женат / замужем                 0      M   сотрудник     0   \n",
       "4             1  гражданский брак                 1      F   пенсионер     0   \n",
       "5             0  гражданский брак                 1      M   компаньон     0   \n",
       "6             0   женат / замужем                 0      F   компаньон     0   \n",
       "7             1   женат / замужем                 0      M   сотрудник     0   \n",
       "8             0  гражданский брак                 1      F   сотрудник     0   \n",
       "9             1   женат / замужем                 0      M   сотрудник     0   \n",
       "\n",
       "    total_income  total_income_int                     purpose lemmas_purpose  \\\n",
       "0  253875.639453            253875               покупка жилья   недвижимость   \n",
       "1  112080.014102            112080     приобретение автомобиля     автомобиль   \n",
       "2  145885.952297            145885               покупка жилья   недвижимость   \n",
       "3  267628.550329            267628  дополнительное образование    образование   \n",
       "4  158616.077870            158616             сыграть свадьбу        свадьба   \n",
       "5  255763.565419            255763               покупка жилья   недвижимость   \n",
       "6  240525.971920            240525           операции с жильем   недвижимость   \n",
       "7  135823.934197            135823                 образование    образование   \n",
       "8   95856.832424             95856       на проведение свадьбы        свадьба   \n",
       "9  144425.938277            144425     покупка жилья для семьи   недвижимость   \n",
       "\n",
       "       income_group  \n",
       "0  0 - 500 000 y.e.  \n",
       "1  0 - 500 000 y.e.  \n",
       "2  0 - 500 000 y.e.  \n",
       "3  0 - 500 000 y.e.  \n",
       "4  0 - 500 000 y.e.  \n",
       "5  0 - 500 000 y.e.  \n",
       "6  0 - 500 000 y.e.  \n",
       "7  0 - 500 000 y.e.  \n",
       "8  0 - 500 000 y.e.  \n",
       "9  0 - 500 000 y.e.  "
      ]
     },
     "metadata": {},
     "output_type": "display_data"
    }
   ],
   "source": [
    "# Напишем функцию сортировки по группам\n",
    "def income_grouping(income):\n",
    "    if income <= 500000:\n",
    "        return '0 - 500 000 y.e.'\n",
    "    if income <= 1000000:\n",
    "        return '500 000 - 1 000 000 y.e.'\n",
    "    if income <= 1500000:\n",
    "        return '1 000 000 - 1 500 000 y.e.'\n",
    "    if income <= 2000000:\n",
    "        return '1 500 000 - 2 000 000 y.e.'\n",
    "    if income <= 2500000:\n",
    "        return '2 000 000 - 2 500 000 y.e.'\n",
    "    return 'больше 2 500 000 y.e.'\n",
    "\n",
    "\n",
    "# Создадим новую колонку и добавим туда результат функции income_grouping\n",
    "data['income_group'] = data['total_income_int'].apply(income_grouping)\n",
    "\n",
    "# Проверим что получилось\n",
    "display(data.head(10))"
   ]
  },
  {
   "cell_type": "code",
   "execution_count": 37,
   "metadata": {},
   "outputs": [
    {
     "data": {
      "text/plain": [
       "0 - 500 000 y.e.              21232\n",
       "500 000 - 1 000 000 y.e.        197\n",
       "1 000 000 - 1 500 000 y.e.       18\n",
       "1 500 000 - 2 000 000 y.e.        5\n",
       "2 000 000 - 2 500 000 y.e.        2\n",
       "Name: income_group, dtype: int64"
      ]
     },
     "metadata": {},
     "output_type": "display_data"
    }
   ],
   "source": [
    "# Проверим данные в колонке с группами о доходах\n",
    "display(data['income_group'].value_counts())"
   ]
  },
  {
   "cell_type": "markdown",
   "metadata": {},
   "source": [
    "#### Группировка по целям на кредит"
   ]
  },
  {
   "cell_type": "code",
   "execution_count": 38,
   "metadata": {},
   "outputs": [
    {
     "data": {
      "text/plain": [
       "недвижимость    10811\n",
       "автомобиль       4306\n",
       "образование      4013\n",
       "свадьба          2324\n",
       "Name: lemmas_purpose, dtype: int64"
      ]
     },
     "metadata": {},
     "output_type": "display_data"
    }
   ],
   "source": [
    "# Проверим данные в колонке о целях на кредит\n",
    "display(data['lemmas_purpose'].value_counts())"
   ]
  },
  {
   "cell_type": "markdown",
   "metadata": {},
   "source": [
    "**Вывод**"
   ]
  },
  {
   "cell_type": "markdown",
   "metadata": {},
   "source": [
    "Группировка некоторых данных помогла выявить неккоректные записи, такие как к пример -1 ребенок в семье, а огромнейший разброс в колонке с ежемесячным доходом сильно бы усложнил работу по анализу, если бы не сгруппировать суммы в условные категории.  \n",
    "Все это позволяет оценить визуально с чем предстоит работать на следующем шаге, отвечая на поставленные вопросы."
   ]
  },
  {
   "cell_type": "markdown",
   "metadata": {},
   "source": [
    "## Шаг 3. Ответьте на вопросы"
   ]
  },
  {
   "cell_type": "markdown",
   "metadata": {},
   "source": [
    "- Есть ли зависимость между наличием детей и возвратом кредита в срок?"
   ]
  },
  {
   "cell_type": "code",
   "execution_count": 39,
   "metadata": {},
   "outputs": [
    {
     "data": {
      "text/html": [
       "<div>\n",
       "<style scoped>\n",
       "    .dataframe tbody tr th:only-of-type {\n",
       "        vertical-align: middle;\n",
       "    }\n",
       "\n",
       "    .dataframe tbody tr th {\n",
       "        vertical-align: top;\n",
       "    }\n",
       "\n",
       "    .dataframe thead th {\n",
       "        text-align: right;\n",
       "    }\n",
       "</style>\n",
       "<table border=\"1\" class=\"dataframe\">\n",
       "  <thead>\n",
       "    <tr style=\"text-align: right;\">\n",
       "      <th></th>\n",
       "      <th>families_with_children</th>\n",
       "      <th>has_debt</th>\n",
       "      <th>debt_share</th>\n",
       "      <th>percent</th>\n",
       "    </tr>\n",
       "    <tr>\n",
       "      <th>children</th>\n",
       "      <th></th>\n",
       "      <th></th>\n",
       "      <th></th>\n",
       "      <th></th>\n",
       "    </tr>\n",
       "  </thead>\n",
       "  <tbody>\n",
       "    <tr>\n",
       "      <td>4</td>\n",
       "      <td>41</td>\n",
       "      <td>4</td>\n",
       "      <td>0.097561</td>\n",
       "      <td>9.756098</td>\n",
       "    </tr>\n",
       "    <tr>\n",
       "      <td>2</td>\n",
       "      <td>2128</td>\n",
       "      <td>202</td>\n",
       "      <td>0.094925</td>\n",
       "      <td>9.492481</td>\n",
       "    </tr>\n",
       "    <tr>\n",
       "      <td>1</td>\n",
       "      <td>4855</td>\n",
       "      <td>445</td>\n",
       "      <td>0.091658</td>\n",
       "      <td>9.165808</td>\n",
       "    </tr>\n",
       "    <tr>\n",
       "      <td>3</td>\n",
       "      <td>330</td>\n",
       "      <td>27</td>\n",
       "      <td>0.081818</td>\n",
       "      <td>8.181818</td>\n",
       "    </tr>\n",
       "    <tr>\n",
       "      <td>0</td>\n",
       "      <td>14091</td>\n",
       "      <td>1063</td>\n",
       "      <td>0.075438</td>\n",
       "      <td>7.543822</td>\n",
       "    </tr>\n",
       "    <tr>\n",
       "      <td>5</td>\n",
       "      <td>9</td>\n",
       "      <td>0</td>\n",
       "      <td>0.000000</td>\n",
       "      <td>0.000000</td>\n",
       "    </tr>\n",
       "  </tbody>\n",
       "</table>\n",
       "</div>"
      ],
      "text/plain": [
       "          families_with_children  has_debt  debt_share   percent\n",
       "children                                                        \n",
       "4                             41         4    0.097561  9.756098\n",
       "2                           2128       202    0.094925  9.492481\n",
       "1                           4855       445    0.091658  9.165808\n",
       "3                            330        27    0.081818  8.181818\n",
       "0                          14091      1063    0.075438  7.543822\n",
       "5                              9         0    0.000000  0.000000"
      ]
     },
     "metadata": {},
     "output_type": "display_data"
    }
   ],
   "source": [
    "display(data\n",
    "        .groupby('children')\n",
    "        .agg(families_with_children = ('children', 'count'),\n",
    "             has_debt = ('debt', 'sum'),\n",
    "             debt_share = ('debt', 'mean'))\n",
    "        .sort_values(by='debt_share', ascending=False)\n",
    "        .assign(percent = lambda data: data['debt_share'] * 100)\n",
    "       )"
   ]
  },
  {
   "cell_type": "markdown",
   "metadata": {},
   "source": [
    "**Вывод**"
   ]
  },
  {
   "cell_type": "markdown",
   "metadata": {},
   "source": [
    "Судя по результатам таблицы, доля невозврата кредита самая высокая у семей с 4 детьми, но их всего 4 из 41.\n",
    "А вот у семей с 1 ребенком, хоть доля невозврата кредита чуть ниже, но таких семей гораздо больше.  \n",
    "Заемщиков без детей гораздо больше чем семей с детьми, а доля невозврата кредита ниже.  \n",
    "Опираясь на полученные данные, можно сделать вывод что:  \n",
    "Наличие детей повышает число невозврата по кредитам, чем больше детей тем выше число."
   ]
  },
  {
   "cell_type": "markdown",
   "metadata": {},
   "source": [
    "***"
   ]
  },
  {
   "cell_type": "markdown",
   "metadata": {},
   "source": [
    "- Есть ли зависимость между семейным положением и возвратом кредита в срок?"
   ]
  },
  {
   "cell_type": "code",
   "execution_count": 40,
   "metadata": {
    "scrolled": true
   },
   "outputs": [
    {
     "data": {
      "text/html": [
       "<div>\n",
       "<style scoped>\n",
       "    .dataframe tbody tr th:only-of-type {\n",
       "        vertical-align: middle;\n",
       "    }\n",
       "\n",
       "    .dataframe tbody tr th {\n",
       "        vertical-align: top;\n",
       "    }\n",
       "\n",
       "    .dataframe thead th {\n",
       "        text-align: right;\n",
       "    }\n",
       "</style>\n",
       "<table border=\"1\" class=\"dataframe\">\n",
       "  <thead>\n",
       "    <tr style=\"text-align: right;\">\n",
       "      <th></th>\n",
       "      <th>families</th>\n",
       "      <th>has_debt</th>\n",
       "      <th>debt_share</th>\n",
       "      <th>percent</th>\n",
       "    </tr>\n",
       "    <tr>\n",
       "      <th>family_status</th>\n",
       "      <th></th>\n",
       "      <th></th>\n",
       "      <th></th>\n",
       "      <th></th>\n",
       "    </tr>\n",
       "  </thead>\n",
       "  <tbody>\n",
       "    <tr>\n",
       "      <td>не женат / не замужем</td>\n",
       "      <td>2810</td>\n",
       "      <td>274</td>\n",
       "      <td>0.097509</td>\n",
       "      <td>9.750890</td>\n",
       "    </tr>\n",
       "    <tr>\n",
       "      <td>гражданский брак</td>\n",
       "      <td>4151</td>\n",
       "      <td>388</td>\n",
       "      <td>0.093471</td>\n",
       "      <td>9.347145</td>\n",
       "    </tr>\n",
       "    <tr>\n",
       "      <td>женат / замужем</td>\n",
       "      <td>12339</td>\n",
       "      <td>931</td>\n",
       "      <td>0.075452</td>\n",
       "      <td>7.545182</td>\n",
       "    </tr>\n",
       "    <tr>\n",
       "      <td>в разводе</td>\n",
       "      <td>1195</td>\n",
       "      <td>85</td>\n",
       "      <td>0.071130</td>\n",
       "      <td>7.112971</td>\n",
       "    </tr>\n",
       "    <tr>\n",
       "      <td>вдовец / вдова</td>\n",
       "      <td>959</td>\n",
       "      <td>63</td>\n",
       "      <td>0.065693</td>\n",
       "      <td>6.569343</td>\n",
       "    </tr>\n",
       "  </tbody>\n",
       "</table>\n",
       "</div>"
      ],
      "text/plain": [
       "                       families  has_debt  debt_share   percent\n",
       "family_status                                                  \n",
       "не женат / не замужем      2810       274    0.097509  9.750890\n",
       "гражданский брак           4151       388    0.093471  9.347145\n",
       "женат / замужем           12339       931    0.075452  7.545182\n",
       "в разводе                  1195        85    0.071130  7.112971\n",
       "вдовец / вдова              959        63    0.065693  6.569343"
      ]
     },
     "metadata": {},
     "output_type": "display_data"
    }
   ],
   "source": [
    "display(data\n",
    "        .groupby('family_status')\n",
    "        .agg(families = ('family_status', 'count'),\n",
    "             has_debt = ('debt', 'sum'),\n",
    "             debt_share = ('debt', 'mean'))\n",
    "        .sort_values(by='debt_share', ascending=False)\n",
    "        .assign(percent = lambda data: data['debt_share'] * 100)\n",
    "       )"
   ]
  },
  {
   "cell_type": "markdown",
   "metadata": {},
   "source": [
    "**Вывод**"
   ]
  },
  {
   "cell_type": "markdown",
   "metadata": {},
   "source": [
    "Из общего числа заемщиков, наибольший процент невозврата по кредитам приходится на тех кто **не женат / не замужем**  \n",
    "А вот для тех кто **женат / замужем** этот показатель значительно ниже, возможно это связано с потенциальной поддержкой законного партнера, ведь даже для тех кто находится в **гражданском браке** доля невозврата близка к категории **женат / не замужем**  \n",
    "У группы людей состоящих **в разводе** и **овдовевших** доля невозврата тоже низкая, возможно это связано с избеганием рисков с их стороны  \n",
    "В итоге можно сделать вывод что оффициально женатые являются более надежными заемщиками."
   ]
  },
  {
   "cell_type": "markdown",
   "metadata": {},
   "source": [
    "***"
   ]
  },
  {
   "cell_type": "markdown",
   "metadata": {},
   "source": [
    "- Есть ли зависимость между уровнем дохода и возвратом кредита в срок?"
   ]
  },
  {
   "cell_type": "code",
   "execution_count": 41,
   "metadata": {},
   "outputs": [
    {
     "data": {
      "text/html": [
       "<div>\n",
       "<style scoped>\n",
       "    .dataframe tbody tr th:only-of-type {\n",
       "        vertical-align: middle;\n",
       "    }\n",
       "\n",
       "    .dataframe tbody tr th {\n",
       "        vertical-align: top;\n",
       "    }\n",
       "\n",
       "    .dataframe thead th {\n",
       "        text-align: right;\n",
       "    }\n",
       "</style>\n",
       "<table border=\"1\" class=\"dataframe\">\n",
       "  <thead>\n",
       "    <tr style=\"text-align: right;\">\n",
       "      <th></th>\n",
       "      <th>income_group</th>\n",
       "      <th>has_debt</th>\n",
       "      <th>debt_share</th>\n",
       "      <th>percent</th>\n",
       "    </tr>\n",
       "    <tr>\n",
       "      <th>income_group</th>\n",
       "      <th></th>\n",
       "      <th></th>\n",
       "      <th></th>\n",
       "      <th></th>\n",
       "    </tr>\n",
       "  </thead>\n",
       "  <tbody>\n",
       "    <tr>\n",
       "      <td>2 000 000 - 2 500 000 y.e.</td>\n",
       "      <td>2</td>\n",
       "      <td>1</td>\n",
       "      <td>0.500000</td>\n",
       "      <td>50.000000</td>\n",
       "    </tr>\n",
       "    <tr>\n",
       "      <td>0 - 500 000 y.e.</td>\n",
       "      <td>21232</td>\n",
       "      <td>1727</td>\n",
       "      <td>0.081339</td>\n",
       "      <td>8.133949</td>\n",
       "    </tr>\n",
       "    <tr>\n",
       "      <td>500 000 - 1 000 000 y.e.</td>\n",
       "      <td>197</td>\n",
       "      <td>12</td>\n",
       "      <td>0.060914</td>\n",
       "      <td>6.091371</td>\n",
       "    </tr>\n",
       "    <tr>\n",
       "      <td>1 000 000 - 1 500 000 y.e.</td>\n",
       "      <td>18</td>\n",
       "      <td>1</td>\n",
       "      <td>0.055556</td>\n",
       "      <td>5.555556</td>\n",
       "    </tr>\n",
       "    <tr>\n",
       "      <td>1 500 000 - 2 000 000 y.e.</td>\n",
       "      <td>5</td>\n",
       "      <td>0</td>\n",
       "      <td>0.000000</td>\n",
       "      <td>0.000000</td>\n",
       "    </tr>\n",
       "  </tbody>\n",
       "</table>\n",
       "</div>"
      ],
      "text/plain": [
       "                            income_group  has_debt  debt_share    percent\n",
       "income_group                                                             \n",
       "2 000 000 - 2 500 000 y.e.             2         1    0.500000  50.000000\n",
       "0 - 500 000 y.e.                   21232      1727    0.081339   8.133949\n",
       "500 000 - 1 000 000 y.e.             197        12    0.060914   6.091371\n",
       "1 000 000 - 1 500 000 y.e.            18         1    0.055556   5.555556\n",
       "1 500 000 - 2 000 000 y.e.             5         0    0.000000   0.000000"
      ]
     },
     "metadata": {},
     "output_type": "display_data"
    }
   ],
   "source": [
    "display(data\n",
    "        .groupby('income_group')\n",
    "        .agg(income_group = ('income_group', 'count'),\n",
    "             has_debt = ('debt', 'sum'),\n",
    "             debt_share = ('debt', 'mean'))\n",
    "        .sort_values(by='debt_share', ascending=False)\n",
    "        .assign(percent = lambda data: data['debt_share'] * 100)\n",
    "       )"
   ]
  },
  {
   "cell_type": "markdown",
   "metadata": {},
   "source": [
    "**Вывод**"
   ]
  },
  {
   "cell_type": "markdown",
   "metadata": {},
   "source": [
    "На первый взгляд группа с доходом 2 000 000 - 2 500 000 y.e. имеет наибольший процент невозврата по кредитам в 50% но т.к. в этой группе всего 2 записи, делать такой вывод будет не корректно. \n",
    "В группе с доходом до 500 000 y.e. наибольшее число заемщиков и наивысший процент невозврата. При увелицении дохода, процент невозврата уменьшается.  \n",
    "Можно прийти к выводу что чем выше уровень дохода, тем меньше риск невозврата."
   ]
  },
  {
   "cell_type": "markdown",
   "metadata": {},
   "source": [
    "***"
   ]
  },
  {
   "cell_type": "markdown",
   "metadata": {},
   "source": [
    "- Как разные цели кредита влияют на его возврат в срок?"
   ]
  },
  {
   "cell_type": "code",
   "execution_count": 42,
   "metadata": {},
   "outputs": [
    {
     "data": {
      "text/html": [
       "<div>\n",
       "<style scoped>\n",
       "    .dataframe tbody tr th:only-of-type {\n",
       "        vertical-align: middle;\n",
       "    }\n",
       "\n",
       "    .dataframe tbody tr th {\n",
       "        vertical-align: top;\n",
       "    }\n",
       "\n",
       "    .dataframe thead th {\n",
       "        text-align: right;\n",
       "    }\n",
       "</style>\n",
       "<table border=\"1\" class=\"dataframe\">\n",
       "  <thead>\n",
       "    <tr style=\"text-align: right;\">\n",
       "      <th></th>\n",
       "      <th>lemmas_purpose</th>\n",
       "      <th>has_debt</th>\n",
       "      <th>debt_share</th>\n",
       "      <th>percent</th>\n",
       "    </tr>\n",
       "    <tr>\n",
       "      <th>lemmas_purpose</th>\n",
       "      <th></th>\n",
       "      <th></th>\n",
       "      <th></th>\n",
       "      <th></th>\n",
       "    </tr>\n",
       "  </thead>\n",
       "  <tbody>\n",
       "    <tr>\n",
       "      <td>автомобиль</td>\n",
       "      <td>4306</td>\n",
       "      <td>403</td>\n",
       "      <td>0.093590</td>\n",
       "      <td>9.359034</td>\n",
       "    </tr>\n",
       "    <tr>\n",
       "      <td>образование</td>\n",
       "      <td>4013</td>\n",
       "      <td>370</td>\n",
       "      <td>0.092200</td>\n",
       "      <td>9.220035</td>\n",
       "    </tr>\n",
       "    <tr>\n",
       "      <td>свадьба</td>\n",
       "      <td>2324</td>\n",
       "      <td>186</td>\n",
       "      <td>0.080034</td>\n",
       "      <td>8.003442</td>\n",
       "    </tr>\n",
       "    <tr>\n",
       "      <td>недвижимость</td>\n",
       "      <td>10811</td>\n",
       "      <td>782</td>\n",
       "      <td>0.072334</td>\n",
       "      <td>7.233373</td>\n",
       "    </tr>\n",
       "  </tbody>\n",
       "</table>\n",
       "</div>"
      ],
      "text/plain": [
       "                lemmas_purpose  has_debt  debt_share   percent\n",
       "lemmas_purpose                                                \n",
       "автомобиль                4306       403    0.093590  9.359034\n",
       "образование               4013       370    0.092200  9.220035\n",
       "свадьба                   2324       186    0.080034  8.003442\n",
       "недвижимость             10811       782    0.072334  7.233373"
      ]
     },
     "metadata": {},
     "output_type": "display_data"
    }
   ],
   "source": [
    "display(data\n",
    "        .groupby('lemmas_purpose')\n",
    "        .agg(lemmas_purpose = ('lemmas_purpose', 'count'),\n",
    "             has_debt = ('debt', 'sum'),\n",
    "             debt_share = ('debt', 'mean'))\n",
    "        .sort_values(by='debt_share', ascending=False)\n",
    "        .assign(percent = lambda data: data['debt_share'] * 100)\n",
    "       )"
   ]
  },
  {
   "cell_type": "markdown",
   "metadata": {},
   "source": [
    "**Вывод**"
   ]
  },
  {
   "cell_type": "markdown",
   "metadata": {},
   "source": [
    "Самой распространненой целью получения займа, получилась категория с недвижимостью. Это может быть покупка новой, ремонт и/или расширение существующей недвижимости как жилой так и коммерческой.  \n",
    "Второй по частоте категорией является приобретение автомобиля, этой категории немного уступают кредиты на образование.\n",
    "\n",
    "Не смотря на то что займы на недвижимость являются самыми востребованными, процент невозврата самый низкий в сравнении с другими из данного списка.  \n",
    "Опираясь на это можно предположить и сделать вывод что на сделки с недвижимостью, если это жилая, решаются более обдумано, чем на сделки с автомобилями. Вероятно это может быть связано с тем что жилая недвижимость чаще является необходимостью, когда автомобиль, за исключением редких случаев, дополнительным \"удовольствием\"."
   ]
  },
  {
   "cell_type": "markdown",
   "metadata": {},
   "source": [
    "## Шаг 4. Общий вывод"
   ]
  },
  {
   "cell_type": "markdown",
   "metadata": {},
   "source": [
    "Влияют ли цели кредита на его возврат, думаю что да, но по одной только категории в любом случае нельзя принять решение о выдаче кредита. Ведь заемщик может быть официально женат / замужем, не иметь детей и относиться к группе с доходом 500 000 - 1 000 000 y.e. который планирует покупку автомобиля. "
   ]
  }
 ],
 "metadata": {
  "ExecuteTimeLog": [
   {
    "duration": 844,
    "start_time": "2021-10-27T15:16:05.143Z"
   },
   {
    "duration": 92,
    "start_time": "2021-10-27T15:31:44.184Z"
   },
   {
    "duration": 13,
    "start_time": "2021-10-27T15:34:53.597Z"
   },
   {
    "duration": 27,
    "start_time": "2021-10-27T15:43:21.784Z"
   },
   {
    "duration": 13,
    "start_time": "2021-10-27T15:44:24.155Z"
   },
   {
    "duration": 27,
    "start_time": "2021-10-27T15:55:38.830Z"
   },
   {
    "duration": 7,
    "start_time": "2021-10-27T15:56:05.885Z"
   },
   {
    "duration": 22,
    "start_time": "2021-10-27T15:56:56.214Z"
   },
   {
    "duration": 29,
    "start_time": "2021-10-27T15:58:06.801Z"
   },
   {
    "duration": 28,
    "start_time": "2021-10-27T15:58:32.711Z"
   },
   {
    "duration": 22,
    "start_time": "2021-10-27T15:58:56.856Z"
   },
   {
    "duration": 128,
    "start_time": "2021-10-27T15:59:43.249Z"
   },
   {
    "duration": 10,
    "start_time": "2021-10-27T15:59:51.607Z"
   },
   {
    "duration": 130,
    "start_time": "2021-10-27T16:11:18.111Z"
   },
   {
    "duration": 126,
    "start_time": "2021-10-27T16:11:27.669Z"
   },
   {
    "duration": 94,
    "start_time": "2021-10-27T16:17:33.798Z"
   },
   {
    "duration": 20,
    "start_time": "2021-10-27T16:17:42.610Z"
   },
   {
    "duration": 5,
    "start_time": "2021-10-27T16:50:13.064Z"
   },
   {
    "duration": 6,
    "start_time": "2021-10-27T16:50:32.464Z"
   },
   {
    "duration": 38,
    "start_time": "2021-10-27T16:50:45.357Z"
   },
   {
    "duration": 31,
    "start_time": "2021-10-27T16:51:00.349Z"
   },
   {
    "duration": 9,
    "start_time": "2021-10-27T16:51:11.313Z"
   },
   {
    "duration": 10,
    "start_time": "2021-10-27T16:51:23.345Z"
   },
   {
    "duration": 467,
    "start_time": "2021-10-27T16:52:26.445Z"
   },
   {
    "duration": 11,
    "start_time": "2021-10-27T16:52:48.277Z"
   },
   {
    "duration": 401,
    "start_time": "2021-10-28T07:07:11.991Z"
   },
   {
    "duration": 1132,
    "start_time": "2021-10-28T07:07:29.975Z"
   },
   {
    "duration": 37,
    "start_time": "2021-10-28T07:07:34.669Z"
   },
   {
    "duration": 18,
    "start_time": "2021-10-28T07:49:07.997Z"
   },
   {
    "duration": 9,
    "start_time": "2021-10-28T07:50:38.021Z"
   },
   {
    "duration": 9,
    "start_time": "2021-10-28T07:50:52.940Z"
   },
   {
    "duration": 10,
    "start_time": "2021-10-28T07:51:28.706Z"
   },
   {
    "duration": 12,
    "start_time": "2021-10-28T07:52:02.657Z"
   },
   {
    "duration": 10,
    "start_time": "2021-10-28T07:52:11.396Z"
   },
   {
    "duration": 17,
    "start_time": "2021-10-28T07:54:00.994Z"
   },
   {
    "duration": 9,
    "start_time": "2021-10-28T08:16:46.581Z"
   },
   {
    "duration": 10,
    "start_time": "2021-10-28T08:17:30.862Z"
   },
   {
    "duration": 10,
    "start_time": "2021-10-28T08:17:39.651Z"
   },
   {
    "duration": 11,
    "start_time": "2021-10-28T08:18:07.148Z"
   },
   {
    "duration": 10,
    "start_time": "2021-10-28T08:18:28.495Z"
   },
   {
    "duration": 11,
    "start_time": "2021-10-28T08:18:55.826Z"
   },
   {
    "duration": 7,
    "start_time": "2021-10-28T08:21:35.444Z"
   },
   {
    "duration": 7,
    "start_time": "2021-10-28T08:21:42.575Z"
   },
   {
    "duration": 8,
    "start_time": "2021-10-28T08:22:03.440Z"
   },
   {
    "duration": 6,
    "start_time": "2021-10-28T08:22:05.334Z"
   },
   {
    "duration": 10,
    "start_time": "2021-10-28T08:22:58.717Z"
   },
   {
    "duration": 9,
    "start_time": "2021-10-28T08:23:48.069Z"
   },
   {
    "duration": 10,
    "start_time": "2021-10-28T08:24:07.046Z"
   },
   {
    "duration": 10,
    "start_time": "2021-10-28T08:27:33.092Z"
   },
   {
    "duration": 11,
    "start_time": "2021-10-28T08:29:21.725Z"
   },
   {
    "duration": 10,
    "start_time": "2021-10-28T09:09:59.623Z"
   },
   {
    "duration": 350,
    "start_time": "2021-10-28T09:14:12.813Z"
   },
   {
    "duration": 284,
    "start_time": "2021-10-28T09:14:26.113Z"
   },
   {
    "duration": 746,
    "start_time": "2021-10-28T09:19:15.906Z"
   },
   {
    "duration": 751,
    "start_time": "2021-10-28T09:19:43.964Z"
   },
   {
    "duration": 34,
    "start_time": "2021-10-28T09:20:18.076Z"
   },
   {
    "duration": 10,
    "start_time": "2021-10-28T09:20:54.187Z"
   },
   {
    "duration": 49,
    "start_time": "2021-10-28T09:21:05.662Z"
   },
   {
    "duration": 10,
    "start_time": "2021-10-28T09:21:15.042Z"
   },
   {
    "duration": 10,
    "start_time": "2021-10-28T09:21:28.969Z"
   },
   {
    "duration": 13,
    "start_time": "2021-10-28T09:21:32.566Z"
   },
   {
    "duration": 7,
    "start_time": "2021-10-28T09:21:43.459Z"
   },
   {
    "duration": 125,
    "start_time": "2021-10-28T09:22:59.625Z"
   },
   {
    "duration": 94,
    "start_time": "2021-10-28T09:25:11.704Z"
   },
   {
    "duration": 102,
    "start_time": "2021-10-28T09:27:18.350Z"
   },
   {
    "duration": 7,
    "start_time": "2021-10-28T09:29:26.144Z"
   },
   {
    "duration": 7,
    "start_time": "2021-10-28T09:29:29.521Z"
   },
   {
    "duration": 13,
    "start_time": "2021-10-28T09:29:41.172Z"
   },
   {
    "duration": 6,
    "start_time": "2021-10-28T09:30:31.646Z"
   },
   {
    "duration": 13,
    "start_time": "2021-10-28T09:30:33.630Z"
   },
   {
    "duration": 13,
    "start_time": "2021-10-28T09:30:43.099Z"
   },
   {
    "duration": 6,
    "start_time": "2021-10-28T09:31:09.436Z"
   },
   {
    "duration": 14,
    "start_time": "2021-10-28T09:31:11.045Z"
   },
   {
    "duration": 27,
    "start_time": "2021-10-28T09:38:38.105Z"
   },
   {
    "duration": 16,
    "start_time": "2021-10-28T09:38:40.485Z"
   },
   {
    "duration": 22,
    "start_time": "2021-10-28T09:40:41.484Z"
   },
   {
    "duration": 15,
    "start_time": "2021-10-28T09:40:43.294Z"
   },
   {
    "duration": 10,
    "start_time": "2021-10-28T09:40:45.941Z"
   },
   {
    "duration": 6,
    "start_time": "2021-10-28T09:40:59.459Z"
   },
   {
    "duration": 18,
    "start_time": "2021-10-28T09:41:01.402Z"
   },
   {
    "duration": 81,
    "start_time": "2021-10-28T09:41:07.117Z"
   },
   {
    "duration": 29,
    "start_time": "2021-10-28T09:41:07.201Z"
   },
   {
    "duration": 19,
    "start_time": "2021-10-28T09:41:07.234Z"
   },
   {
    "duration": 23,
    "start_time": "2021-10-28T09:41:07.256Z"
   },
   {
    "duration": 6,
    "start_time": "2021-10-28T09:41:07.282Z"
   },
   {
    "duration": 10,
    "start_time": "2021-10-28T09:41:07.323Z"
   },
   {
    "duration": 15,
    "start_time": "2021-10-28T09:41:07.337Z"
   },
   {
    "duration": 5,
    "start_time": "2021-10-28T09:41:07.355Z"
   },
   {
    "duration": 59,
    "start_time": "2021-10-28T09:41:07.364Z"
   },
   {
    "duration": 344,
    "start_time": "2021-10-28T10:37:59.717Z"
   },
   {
    "duration": 302,
    "start_time": "2021-10-28T10:38:10.155Z"
   },
   {
    "duration": 301,
    "start_time": "2021-10-28T10:38:31.216Z"
   },
   {
    "duration": 11,
    "start_time": "2021-10-28T10:39:02.098Z"
   },
   {
    "duration": 787,
    "start_time": "2021-10-28T10:39:48.562Z"
   },
   {
    "duration": 805,
    "start_time": "2021-10-28T10:40:27.153Z"
   },
   {
    "duration": 94,
    "start_time": "2021-10-28T10:41:26.780Z"
   },
   {
    "duration": 807,
    "start_time": "2021-10-28T10:41:32.664Z"
   },
   {
    "duration": 337,
    "start_time": "2021-10-28T10:42:44.728Z"
   },
   {
    "duration": 289,
    "start_time": "2021-10-28T10:43:04.316Z"
   },
   {
    "duration": 10,
    "start_time": "2021-10-28T10:43:14.973Z"
   },
   {
    "duration": 11,
    "start_time": "2021-10-28T10:44:11.280Z"
   },
   {
    "duration": 6,
    "start_time": "2021-10-28T10:44:19.508Z"
   },
   {
    "duration": 80,
    "start_time": "2021-10-28T10:44:23.361Z"
   },
   {
    "duration": 18,
    "start_time": "2021-10-28T10:44:23.444Z"
   },
   {
    "duration": 12,
    "start_time": "2021-10-28T10:44:23.465Z"
   },
   {
    "duration": 68,
    "start_time": "2021-10-28T10:44:23.480Z"
   },
   {
    "duration": 7,
    "start_time": "2021-10-28T10:44:23.550Z"
   },
   {
    "duration": 15,
    "start_time": "2021-10-28T10:44:23.559Z"
   },
   {
    "duration": 7,
    "start_time": "2021-10-28T10:44:23.577Z"
   },
   {
    "duration": 51,
    "start_time": "2021-10-28T10:44:23.586Z"
   },
   {
    "duration": 56,
    "start_time": "2021-10-28T10:52:48.180Z"
   },
   {
    "duration": 64,
    "start_time": "2021-10-28T10:53:25.174Z"
   },
   {
    "duration": 45,
    "start_time": "2021-10-28T10:53:45.953Z"
   },
   {
    "duration": -90,
    "start_time": "2021-10-28T11:04:02.642Z"
   },
   {
    "duration": 8879,
    "start_time": "2021-10-28T11:04:04.930Z"
   },
   {
    "duration": 75,
    "start_time": "2021-10-28T11:04:18.822Z"
   },
   {
    "duration": 25,
    "start_time": "2021-10-28T11:04:18.900Z"
   },
   {
    "duration": 14,
    "start_time": "2021-10-28T11:04:18.929Z"
   },
   {
    "duration": 24,
    "start_time": "2021-10-28T11:04:18.947Z"
   },
   {
    "duration": 7457,
    "start_time": "2021-10-28T11:04:18.974Z"
   },
   {
    "duration": -66,
    "start_time": "2021-10-28T11:04:26.501Z"
   },
   {
    "duration": -66,
    "start_time": "2021-10-28T11:04:26.503Z"
   },
   {
    "duration": -67,
    "start_time": "2021-10-28T11:04:26.506Z"
   },
   {
    "duration": 7,
    "start_time": "2021-10-28T11:05:19.687Z"
   },
   {
    "duration": 9,
    "start_time": "2021-10-28T11:05:37.218Z"
   },
   {
    "duration": 46,
    "start_time": "2021-10-28T11:05:57.094Z"
   },
   {
    "duration": 12,
    "start_time": "2021-10-28T11:07:03.352Z"
   },
   {
    "duration": 44,
    "start_time": "2021-10-28T11:07:10.834Z"
   },
   {
    "duration": 46,
    "start_time": "2021-10-28T11:07:34.018Z"
   },
   {
    "duration": 46,
    "start_time": "2021-10-28T11:07:40.630Z"
   },
   {
    "duration": 10,
    "start_time": "2021-10-28T11:07:44.026Z"
   },
   {
    "duration": 44,
    "start_time": "2021-10-28T11:12:35.141Z"
   },
   {
    "duration": 10,
    "start_time": "2021-10-28T11:12:41.910Z"
   },
   {
    "duration": 6,
    "start_time": "2021-10-28T11:23:49.062Z"
   },
   {
    "duration": 14,
    "start_time": "2021-10-28T11:24:10.753Z"
   },
   {
    "duration": 21,
    "start_time": "2021-10-28T11:24:30.826Z"
   },
   {
    "duration": 13,
    "start_time": "2021-10-28T11:26:00.299Z"
   },
   {
    "duration": 13,
    "start_time": "2021-10-28T11:26:05.311Z"
   },
   {
    "duration": 73,
    "start_time": "2021-10-28T11:26:16.448Z"
   },
   {
    "duration": 20,
    "start_time": "2021-10-28T11:26:16.523Z"
   },
   {
    "duration": 16,
    "start_time": "2021-10-28T11:26:16.546Z"
   },
   {
    "duration": 28,
    "start_time": "2021-10-28T11:26:16.565Z"
   },
   {
    "duration": 28,
    "start_time": "2021-10-28T11:26:16.596Z"
   },
   {
    "duration": 13,
    "start_time": "2021-10-28T11:26:16.626Z"
   },
   {
    "duration": 50,
    "start_time": "2021-10-28T11:26:16.641Z"
   },
   {
    "duration": 28,
    "start_time": "2021-10-28T11:26:16.694Z"
   },
   {
    "duration": 21,
    "start_time": "2021-10-28T11:26:16.725Z"
   },
   {
    "duration": 26,
    "start_time": "2021-10-28T11:32:24.693Z"
   },
   {
    "duration": 21,
    "start_time": "2021-10-28T11:50:19.120Z"
   },
   {
    "duration": 22,
    "start_time": "2021-10-28T11:50:26.806Z"
   },
   {
    "duration": 32,
    "start_time": "2021-10-28T11:52:16.299Z"
   },
   {
    "duration": 33,
    "start_time": "2021-10-28T12:10:59.184Z"
   },
   {
    "duration": 23,
    "start_time": "2021-10-28T12:12:02.097Z"
   },
   {
    "duration": 292,
    "start_time": "2021-10-28T12:12:45.269Z"
   },
   {
    "duration": 12,
    "start_time": "2021-10-28T12:13:15.914Z"
   },
   {
    "duration": 10,
    "start_time": "2021-10-28T12:14:02.336Z"
   },
   {
    "duration": 10,
    "start_time": "2021-10-28T12:14:14.825Z"
   },
   {
    "duration": 26,
    "start_time": "2021-10-28T12:15:57.676Z"
   },
   {
    "duration": 24,
    "start_time": "2021-10-28T12:16:19.637Z"
   },
   {
    "duration": 24,
    "start_time": "2021-10-28T12:16:49.580Z"
   },
   {
    "duration": 46,
    "start_time": "2021-10-28T12:18:21.678Z"
   },
   {
    "duration": 10,
    "start_time": "2021-10-28T12:18:37.035Z"
   },
   {
    "duration": 42,
    "start_time": "2021-10-28T12:18:41.516Z"
   },
   {
    "duration": 73,
    "start_time": "2021-10-28T12:19:04.454Z"
   },
   {
    "duration": 19,
    "start_time": "2021-10-28T12:19:04.530Z"
   },
   {
    "duration": 13,
    "start_time": "2021-10-28T12:19:04.552Z"
   },
   {
    "duration": 53,
    "start_time": "2021-10-28T12:19:04.569Z"
   },
   {
    "duration": 6,
    "start_time": "2021-10-28T12:19:04.625Z"
   },
   {
    "duration": 12,
    "start_time": "2021-10-28T12:19:04.633Z"
   },
   {
    "duration": 76,
    "start_time": "2021-10-28T12:19:04.647Z"
   },
   {
    "duration": 6,
    "start_time": "2021-10-28T12:19:04.726Z"
   },
   {
    "duration": 22,
    "start_time": "2021-10-28T12:19:04.736Z"
   },
   {
    "duration": 33,
    "start_time": "2021-10-28T12:19:04.760Z"
   },
   {
    "duration": 23,
    "start_time": "2021-10-28T12:19:04.824Z"
   },
   {
    "duration": 22,
    "start_time": "2021-10-28T12:19:04.850Z"
   },
   {
    "duration": 26,
    "start_time": "2021-10-28T12:19:09.987Z"
   },
   {
    "duration": 42,
    "start_time": "2021-10-28T12:19:12.124Z"
   },
   {
    "duration": 76,
    "start_time": "2021-10-28T12:21:36.346Z"
   },
   {
    "duration": 19,
    "start_time": "2021-10-28T12:21:36.426Z"
   },
   {
    "duration": 27,
    "start_time": "2021-10-28T12:21:36.448Z"
   },
   {
    "duration": 33,
    "start_time": "2021-10-28T12:21:36.478Z"
   },
   {
    "duration": 5,
    "start_time": "2021-10-28T12:21:36.523Z"
   },
   {
    "duration": 27,
    "start_time": "2021-10-28T12:21:36.531Z"
   },
   {
    "duration": 63,
    "start_time": "2021-10-28T12:21:36.562Z"
   },
   {
    "duration": 5,
    "start_time": "2021-10-28T12:21:36.628Z"
   },
   {
    "duration": 36,
    "start_time": "2021-10-28T12:21:36.636Z"
   },
   {
    "duration": 47,
    "start_time": "2021-10-28T12:21:36.675Z"
   },
   {
    "duration": 25,
    "start_time": "2021-10-28T12:21:36.725Z"
   },
   {
    "duration": 22,
    "start_time": "2021-10-28T12:21:36.752Z"
   },
   {
    "duration": 74,
    "start_time": "2021-10-28T12:21:36.777Z"
   },
   {
    "duration": 10,
    "start_time": "2021-10-28T12:21:36.854Z"
   },
   {
    "duration": 32,
    "start_time": "2021-10-28T12:22:44.336Z"
   },
   {
    "duration": 340,
    "start_time": "2021-10-28T12:23:00.854Z"
   },
   {
    "duration": 48,
    "start_time": "2021-10-28T12:23:06.364Z"
   },
   {
    "duration": 54,
    "start_time": "2021-10-28T12:24:06.538Z"
   },
   {
    "duration": 21,
    "start_time": "2021-10-28T12:24:25.526Z"
   },
   {
    "duration": 42,
    "start_time": "2021-10-28T12:24:28.182Z"
   },
   {
    "duration": 10,
    "start_time": "2021-10-28T12:24:31.313Z"
   },
   {
    "duration": 91,
    "start_time": "2021-10-28T12:25:52.637Z"
   },
   {
    "duration": 27,
    "start_time": "2021-10-28T12:25:52.731Z"
   },
   {
    "duration": 15,
    "start_time": "2021-10-28T12:25:52.762Z"
   },
   {
    "duration": 52,
    "start_time": "2021-10-28T12:25:52.781Z"
   },
   {
    "duration": 7,
    "start_time": "2021-10-28T12:25:52.836Z"
   },
   {
    "duration": 12,
    "start_time": "2021-10-28T12:25:52.845Z"
   },
   {
    "duration": 83,
    "start_time": "2021-10-28T12:25:52.859Z"
   },
   {
    "duration": 6,
    "start_time": "2021-10-28T12:25:52.945Z"
   },
   {
    "duration": 21,
    "start_time": "2021-10-28T12:25:52.955Z"
   },
   {
    "duration": 62,
    "start_time": "2021-10-28T12:25:52.979Z"
   },
   {
    "duration": 26,
    "start_time": "2021-10-28T12:25:55.496Z"
   },
   {
    "duration": 28,
    "start_time": "2021-10-28T12:26:06.467Z"
   },
   {
    "duration": 52,
    "start_time": "2021-10-28T12:26:42.221Z"
   },
   {
    "duration": 11,
    "start_time": "2021-10-28T12:26:44.455Z"
   },
   {
    "duration": 17,
    "start_time": "2021-10-28T12:31:38.763Z"
   },
   {
    "duration": 16,
    "start_time": "2021-10-28T12:31:54.985Z"
   },
   {
    "duration": 94,
    "start_time": "2021-10-28T12:33:13.355Z"
   },
   {
    "duration": 93,
    "start_time": "2021-10-28T12:33:19.741Z"
   },
   {
    "duration": 360,
    "start_time": "2021-10-28T12:37:41.310Z"
   },
   {
    "duration": 314,
    "start_time": "2021-10-28T12:38:10.129Z"
   },
   {
    "duration": 459,
    "start_time": "2021-10-28T12:38:36.470Z"
   },
   {
    "duration": 317,
    "start_time": "2021-10-28T12:38:43.542Z"
   },
   {
    "duration": 321,
    "start_time": "2021-10-28T12:39:03.108Z"
   },
   {
    "duration": 36,
    "start_time": "2021-10-28T12:42:32.687Z"
   },
   {
    "duration": 31,
    "start_time": "2021-10-28T12:43:10.671Z"
   },
   {
    "duration": 33,
    "start_time": "2021-10-28T12:44:39.379Z"
   },
   {
    "duration": 36,
    "start_time": "2021-10-28T12:45:23.528Z"
   },
   {
    "duration": 27,
    "start_time": "2021-10-28T12:46:45.121Z"
   },
   {
    "duration": 27,
    "start_time": "2021-10-28T12:47:00.276Z"
   },
   {
    "duration": 73,
    "start_time": "2021-10-28T12:47:05.158Z"
   },
   {
    "duration": 19,
    "start_time": "2021-10-28T12:47:05.233Z"
   },
   {
    "duration": 14,
    "start_time": "2021-10-28T12:47:05.255Z"
   },
   {
    "duration": 52,
    "start_time": "2021-10-28T12:47:05.272Z"
   },
   {
    "duration": 5,
    "start_time": "2021-10-28T12:47:05.327Z"
   },
   {
    "duration": 12,
    "start_time": "2021-10-28T12:47:05.334Z"
   },
   {
    "duration": 77,
    "start_time": "2021-10-28T12:47:05.349Z"
   },
   {
    "duration": 6,
    "start_time": "2021-10-28T12:47:05.428Z"
   },
   {
    "duration": 24,
    "start_time": "2021-10-28T12:47:05.437Z"
   },
   {
    "duration": 30,
    "start_time": "2021-10-28T12:47:05.464Z"
   },
   {
    "duration": 32,
    "start_time": "2021-10-28T12:47:05.523Z"
   },
   {
    "duration": 47,
    "start_time": "2021-10-28T12:47:07.396Z"
   },
   {
    "duration": 46,
    "start_time": "2021-10-28T12:54:09.128Z"
   },
   {
    "duration": 44,
    "start_time": "2021-10-28T12:57:04.041Z"
   },
   {
    "duration": 435,
    "start_time": "2021-10-28T13:03:29.689Z"
   },
   {
    "duration": 313,
    "start_time": "2021-10-28T13:04:00.820Z"
   },
   {
    "duration": -47,
    "start_time": "2021-10-28T13:05:23.089Z"
   },
   {
    "duration": 72,
    "start_time": "2021-10-28T13:05:37.281Z"
   },
   {
    "duration": 18,
    "start_time": "2021-10-28T13:05:37.355Z"
   },
   {
    "duration": 20,
    "start_time": "2021-10-28T13:05:37.376Z"
   },
   {
    "duration": 34,
    "start_time": "2021-10-28T13:05:37.399Z"
   },
   {
    "duration": 4,
    "start_time": "2021-10-28T13:05:37.435Z"
   },
   {
    "duration": 27,
    "start_time": "2021-10-28T13:05:37.441Z"
   },
   {
    "duration": 58,
    "start_time": "2021-10-28T13:05:37.470Z"
   },
   {
    "duration": 8,
    "start_time": "2021-10-28T13:05:37.531Z"
   },
   {
    "duration": 32,
    "start_time": "2021-10-28T13:05:37.544Z"
   },
   {
    "duration": 56,
    "start_time": "2021-10-28T13:05:37.580Z"
   },
   {
    "duration": 34,
    "start_time": "2021-10-28T13:05:37.639Z"
   },
   {
    "duration": -132,
    "start_time": "2021-10-28T13:05:45.688Z"
   },
   {
    "duration": 49,
    "start_time": "2021-10-28T13:09:05.336Z"
   },
   {
    "duration": 45,
    "start_time": "2021-10-28T13:09:21.837Z"
   },
   {
    "duration": 8,
    "start_time": "2021-10-28T13:15:15.891Z"
   },
   {
    "duration": 11,
    "start_time": "2021-10-28T13:16:32.698Z"
   },
   {
    "duration": 6,
    "start_time": "2021-10-28T13:18:31.174Z"
   },
   {
    "duration": 10,
    "start_time": "2021-10-28T13:18:56.998Z"
   },
   {
    "duration": 18,
    "start_time": "2021-10-28T13:19:43.521Z"
   },
   {
    "duration": 23,
    "start_time": "2021-10-28T13:19:50.283Z"
   },
   {
    "duration": 7,
    "start_time": "2021-10-28T13:22:12.432Z"
   },
   {
    "duration": 6,
    "start_time": "2021-10-28T13:22:18.962Z"
   },
   {
    "duration": 10,
    "start_time": "2021-10-28T13:25:42.031Z"
   },
   {
    "duration": 9,
    "start_time": "2021-10-28T13:26:02.387Z"
   },
   {
    "duration": 7,
    "start_time": "2021-10-28T13:26:21.840Z"
   },
   {
    "duration": 7,
    "start_time": "2021-10-28T13:26:27.147Z"
   },
   {
    "duration": 14,
    "start_time": "2021-10-28T13:30:48.608Z"
   },
   {
    "duration": 41,
    "start_time": "2021-10-28T13:31:21.243Z"
   },
   {
    "duration": 77,
    "start_time": "2021-10-28T13:31:57.075Z"
   },
   {
    "duration": 8,
    "start_time": "2021-10-28T13:32:03.197Z"
   },
   {
    "duration": 78,
    "start_time": "2021-10-28T13:32:11.059Z"
   },
   {
    "duration": 19,
    "start_time": "2021-10-28T13:32:11.140Z"
   },
   {
    "duration": 18,
    "start_time": "2021-10-28T13:32:11.162Z"
   },
   {
    "duration": 44,
    "start_time": "2021-10-28T13:32:11.183Z"
   },
   {
    "duration": 5,
    "start_time": "2021-10-28T13:32:11.230Z"
   },
   {
    "duration": 14,
    "start_time": "2021-10-28T13:32:11.237Z"
   },
   {
    "duration": 69,
    "start_time": "2021-10-28T13:32:11.253Z"
   },
   {
    "duration": 6,
    "start_time": "2021-10-28T13:32:11.325Z"
   },
   {
    "duration": 22,
    "start_time": "2021-10-28T13:32:11.335Z"
   },
   {
    "duration": 32,
    "start_time": "2021-10-28T13:32:11.359Z"
   },
   {
    "duration": 31,
    "start_time": "2021-10-28T13:32:11.422Z"
   },
   {
    "duration": 76,
    "start_time": "2021-10-28T13:32:11.456Z"
   },
   {
    "duration": 43,
    "start_time": "2021-10-28T13:32:11.535Z"
   },
   {
    "duration": 6,
    "start_time": "2021-10-28T13:32:11.581Z"
   },
   {
    "duration": 37,
    "start_time": "2021-10-28T13:32:11.590Z"
   },
   {
    "duration": 22,
    "start_time": "2021-10-28T13:32:11.630Z"
   },
   {
    "duration": 6,
    "start_time": "2021-10-28T13:32:11.655Z"
   },
   {
    "duration": 8,
    "start_time": "2021-10-28T13:32:11.664Z"
   },
   {
    "duration": 8,
    "start_time": "2021-10-28T13:32:17.495Z"
   },
   {
    "duration": 79,
    "start_time": "2021-10-28T13:32:20.001Z"
   },
   {
    "duration": 8,
    "start_time": "2021-10-28T13:33:16.455Z"
   },
   {
    "duration": 29,
    "start_time": "2021-10-28T13:42:42.360Z"
   },
   {
    "duration": 75,
    "start_time": "2021-10-28T13:42:56.771Z"
   },
   {
    "duration": 27,
    "start_time": "2021-10-28T13:42:56.849Z"
   },
   {
    "duration": 18,
    "start_time": "2021-10-28T13:42:56.880Z"
   },
   {
    "duration": 27,
    "start_time": "2021-10-28T13:42:56.923Z"
   },
   {
    "duration": 6,
    "start_time": "2021-10-28T13:42:56.953Z"
   },
   {
    "duration": 19,
    "start_time": "2021-10-28T13:42:56.962Z"
   },
   {
    "duration": 102,
    "start_time": "2021-10-28T13:42:56.984Z"
   },
   {
    "duration": 6,
    "start_time": "2021-10-28T13:42:57.089Z"
   },
   {
    "duration": 39,
    "start_time": "2021-10-28T13:42:57.099Z"
   },
   {
    "duration": 31,
    "start_time": "2021-10-28T13:42:57.141Z"
   },
   {
    "duration": 63,
    "start_time": "2021-10-28T13:42:57.174Z"
   },
   {
    "duration": 47,
    "start_time": "2021-10-28T13:42:57.239Z"
   },
   {
    "duration": 71,
    "start_time": "2021-10-28T13:42:57.288Z"
   },
   {
    "duration": 8,
    "start_time": "2021-10-28T13:42:57.361Z"
   },
   {
    "duration": 8,
    "start_time": "2021-10-28T13:42:57.373Z"
   },
   {
    "duration": 74,
    "start_time": "2021-10-28T13:42:57.384Z"
   },
   {
    "duration": 8,
    "start_time": "2021-10-28T13:42:57.461Z"
   },
   {
    "duration": 9,
    "start_time": "2021-10-28T13:42:57.472Z"
   },
   {
    "duration": 107,
    "start_time": "2021-10-28T13:42:57.483Z"
   },
   {
    "duration": 7,
    "start_time": "2021-10-28T13:42:57.593Z"
   },
   {
    "duration": 10,
    "start_time": "2021-10-28T13:42:57.623Z"
   },
   {
    "duration": 23,
    "start_time": "2021-10-28T13:42:57.636Z"
   },
   {
    "duration": 33,
    "start_time": "2021-10-28T13:43:02.750Z"
   },
   {
    "duration": 309,
    "start_time": "2021-10-28T13:45:14.020Z"
   },
   {
    "duration": 1384,
    "start_time": "2021-10-28T13:45:49.286Z"
   },
   {
    "duration": 336,
    "start_time": "2021-10-28T13:46:01.972Z"
   },
   {
    "duration": 283,
    "start_time": "2021-10-28T13:46:14.708Z"
   },
   {
    "duration": 299,
    "start_time": "2021-10-28T13:47:22.803Z"
   },
   {
    "duration": 892,
    "start_time": "2021-10-28T13:51:44.526Z"
   },
   {
    "duration": 3912,
    "start_time": "2021-10-28T13:52:51.217Z"
   },
   {
    "duration": 14633,
    "start_time": "2021-10-28T13:53:10.533Z"
   },
   {
    "duration": 4917,
    "start_time": "2021-10-28T13:54:33.257Z"
   },
   {
    "duration": 14612,
    "start_time": "2021-10-28T13:54:57.461Z"
   },
   {
    "duration": 1249,
    "start_time": "2021-10-28T13:59:19.085Z"
   },
   {
    "duration": 906,
    "start_time": "2021-10-28T14:00:26.866Z"
   },
   {
    "duration": 309,
    "start_time": "2021-10-28T14:11:56.995Z"
   },
   {
    "duration": 296,
    "start_time": "2021-10-28T14:14:18.886Z"
   },
   {
    "duration": 1199,
    "start_time": "2021-10-28T14:14:29.134Z"
   },
   {
    "duration": 460,
    "start_time": "2021-10-28T14:15:02.550Z"
   },
   {
    "duration": 24,
    "start_time": "2021-10-28T14:15:32.541Z"
   },
   {
    "duration": 31,
    "start_time": "2021-10-28T14:20:34.546Z"
   },
   {
    "duration": 75,
    "start_time": "2021-10-28T14:20:40.402Z"
   },
   {
    "duration": 19,
    "start_time": "2021-10-28T14:20:40.480Z"
   },
   {
    "duration": 13,
    "start_time": "2021-10-28T14:20:40.524Z"
   },
   {
    "duration": 19,
    "start_time": "2021-10-28T14:20:40.541Z"
   },
   {
    "duration": 5,
    "start_time": "2021-10-28T14:20:40.563Z"
   },
   {
    "duration": 53,
    "start_time": "2021-10-28T14:20:40.570Z"
   },
   {
    "duration": 45,
    "start_time": "2021-10-28T14:20:40.626Z"
   },
   {
    "duration": 5,
    "start_time": "2021-10-28T14:20:40.674Z"
   },
   {
    "duration": 54,
    "start_time": "2021-10-28T14:20:40.683Z"
   },
   {
    "duration": 32,
    "start_time": "2021-10-28T14:20:40.740Z"
   },
   {
    "duration": 66,
    "start_time": "2021-10-28T14:20:40.774Z"
   },
   {
    "duration": 46,
    "start_time": "2021-10-28T14:20:40.842Z"
   },
   {
    "duration": 69,
    "start_time": "2021-10-28T14:20:40.890Z"
   },
   {
    "duration": 7,
    "start_time": "2021-10-28T14:20:40.963Z"
   },
   {
    "duration": 10,
    "start_time": "2021-10-28T14:20:40.973Z"
   },
   {
    "duration": 56,
    "start_time": "2021-10-28T14:20:40.986Z"
   },
   {
    "duration": 8,
    "start_time": "2021-10-28T14:20:41.045Z"
   },
   {
    "duration": 9,
    "start_time": "2021-10-28T14:20:41.056Z"
   },
   {
    "duration": 121,
    "start_time": "2021-10-28T14:20:41.068Z"
   },
   {
    "duration": 6,
    "start_time": "2021-10-28T14:20:41.191Z"
   },
   {
    "duration": 26,
    "start_time": "2021-10-28T14:20:41.199Z"
   },
   {
    "duration": 3,
    "start_time": "2021-10-28T14:20:41.227Z"
   },
   {
    "duration": 37,
    "start_time": "2021-10-28T14:20:41.233Z"
   },
   {
    "duration": 76,
    "start_time": "2021-10-28T14:20:41.273Z"
   },
   {
    "duration": 11,
    "start_time": "2021-10-28T14:20:41.352Z"
   },
   {
    "duration": 26,
    "start_time": "2021-10-28T14:25:25.102Z"
   },
   {
    "duration": 106,
    "start_time": "2021-10-28T14:25:57.477Z"
   },
   {
    "duration": 36,
    "start_time": "2021-10-28T14:25:57.586Z"
   },
   {
    "duration": 20,
    "start_time": "2021-10-28T14:25:57.626Z"
   },
   {
    "duration": 26,
    "start_time": "2021-10-28T14:25:57.650Z"
   },
   {
    "duration": 5,
    "start_time": "2021-10-28T14:25:57.680Z"
   },
   {
    "duration": 15,
    "start_time": "2021-10-28T14:25:57.724Z"
   },
   {
    "duration": 46,
    "start_time": "2021-10-28T14:25:57.741Z"
   },
   {
    "duration": 36,
    "start_time": "2021-10-28T14:25:57.790Z"
   },
   {
    "duration": 24,
    "start_time": "2021-10-28T14:25:57.831Z"
   },
   {
    "duration": 74,
    "start_time": "2021-10-28T14:25:57.859Z"
   },
   {
    "duration": 39,
    "start_time": "2021-10-28T14:25:57.936Z"
   },
   {
    "duration": 81,
    "start_time": "2021-10-28T14:25:57.978Z"
   },
   {
    "duration": 86,
    "start_time": "2021-10-28T14:25:58.061Z"
   },
   {
    "duration": 8,
    "start_time": "2021-10-28T14:25:58.150Z"
   },
   {
    "duration": 12,
    "start_time": "2021-10-28T14:25:58.161Z"
   },
   {
    "duration": 65,
    "start_time": "2021-10-28T14:25:58.177Z"
   },
   {
    "duration": 7,
    "start_time": "2021-10-28T14:25:58.245Z"
   },
   {
    "duration": 9,
    "start_time": "2021-10-28T14:25:58.254Z"
   },
   {
    "duration": 113,
    "start_time": "2021-10-28T14:25:58.266Z"
   },
   {
    "duration": 7,
    "start_time": "2021-10-28T14:25:58.382Z"
   },
   {
    "duration": 31,
    "start_time": "2021-10-28T14:25:58.391Z"
   },
   {
    "duration": 3,
    "start_time": "2021-10-28T14:25:58.425Z"
   },
   {
    "duration": 38,
    "start_time": "2021-10-28T14:25:58.431Z"
   },
   {
    "duration": 53,
    "start_time": "2021-10-28T14:25:58.471Z"
   },
   {
    "duration": 8,
    "start_time": "2021-10-28T14:25:58.527Z"
   },
   {
    "duration": 27,
    "start_time": "2021-10-28T14:29:52.413Z"
   },
   {
    "duration": 47,
    "start_time": "2021-10-28T14:33:31.255Z"
   },
   {
    "duration": 28,
    "start_time": "2021-10-28T14:35:15.646Z"
   },
   {
    "duration": 27,
    "start_time": "2021-10-28T14:35:47.672Z"
   },
   {
    "duration": 9,
    "start_time": "2021-10-28T14:37:59.026Z"
   },
   {
    "duration": 378,
    "start_time": "2021-10-28T14:38:54.107Z"
   },
   {
    "duration": 317,
    "start_time": "2021-10-28T14:39:17.553Z"
   },
   {
    "duration": 4803,
    "start_time": "2021-10-28T14:42:48.397Z"
   },
   {
    "duration": 4992,
    "start_time": "2021-10-28T14:43:07.749Z"
   },
   {
    "duration": 2237,
    "start_time": "2021-10-28T14:47:27.169Z"
   },
   {
    "duration": 4524,
    "start_time": "2021-10-28T14:50:06.727Z"
   },
   {
    "duration": 287,
    "start_time": "2021-10-28T14:53:33.699Z"
   },
   {
    "duration": 2407,
    "start_time": "2021-10-28T14:56:03.376Z"
   },
   {
    "duration": 950,
    "start_time": "2021-10-28T15:04:10.692Z"
   },
   {
    "duration": 76,
    "start_time": "2021-10-28T15:04:17.371Z"
   },
   {
    "duration": 21,
    "start_time": "2021-10-28T15:04:17.450Z"
   },
   {
    "duration": 15,
    "start_time": "2021-10-28T15:04:17.474Z"
   },
   {
    "duration": 44,
    "start_time": "2021-10-28T15:04:17.492Z"
   },
   {
    "duration": 10,
    "start_time": "2021-10-28T15:04:17.539Z"
   },
   {
    "duration": 28,
    "start_time": "2021-10-28T15:04:17.552Z"
   },
   {
    "duration": 66,
    "start_time": "2021-10-28T15:04:17.583Z"
   },
   {
    "duration": 5,
    "start_time": "2021-10-28T15:04:17.651Z"
   },
   {
    "duration": 32,
    "start_time": "2021-10-28T15:04:17.661Z"
   },
   {
    "duration": 54,
    "start_time": "2021-10-28T15:04:17.697Z"
   },
   {
    "duration": 37,
    "start_time": "2021-10-28T15:04:17.755Z"
   },
   {
    "duration": 97,
    "start_time": "2021-10-28T15:04:17.795Z"
   },
   {
    "duration": 88,
    "start_time": "2021-10-28T15:04:17.895Z"
   },
   {
    "duration": 7,
    "start_time": "2021-10-28T15:04:17.986Z"
   },
   {
    "duration": 34,
    "start_time": "2021-10-28T15:04:17.996Z"
   },
   {
    "duration": 36,
    "start_time": "2021-10-28T15:04:18.033Z"
   },
   {
    "duration": 14,
    "start_time": "2021-10-28T15:04:18.071Z"
   },
   {
    "duration": 27,
    "start_time": "2021-10-28T15:04:18.087Z"
   },
   {
    "duration": 93,
    "start_time": "2021-10-28T15:04:18.116Z"
   },
   {
    "duration": 15,
    "start_time": "2021-10-28T15:04:18.211Z"
   },
   {
    "duration": 16,
    "start_time": "2021-10-28T15:04:18.229Z"
   },
   {
    "duration": 4,
    "start_time": "2021-10-28T15:04:18.247Z"
   },
   {
    "duration": 41,
    "start_time": "2021-10-28T15:04:18.253Z"
   },
   {
    "duration": 837,
    "start_time": "2021-10-28T15:06:18.695Z"
   },
   {
    "duration": 20,
    "start_time": "2021-10-28T15:06:19.535Z"
   },
   {
    "duration": 12,
    "start_time": "2021-10-28T15:06:19.558Z"
   },
   {
    "duration": 49,
    "start_time": "2021-10-28T15:06:19.573Z"
   },
   {
    "duration": 5,
    "start_time": "2021-10-28T15:06:19.625Z"
   },
   {
    "duration": 11,
    "start_time": "2021-10-28T15:06:19.633Z"
   },
   {
    "duration": 81,
    "start_time": "2021-10-28T15:06:19.646Z"
   },
   {
    "duration": 6,
    "start_time": "2021-10-28T15:06:19.729Z"
   },
   {
    "duration": 33,
    "start_time": "2021-10-28T15:06:19.739Z"
   },
   {
    "duration": 63,
    "start_time": "2021-10-28T15:06:19.775Z"
   },
   {
    "duration": 35,
    "start_time": "2021-10-28T15:06:19.841Z"
   },
   {
    "duration": 86,
    "start_time": "2021-10-28T15:06:19.878Z"
   },
   {
    "duration": 73,
    "start_time": "2021-10-28T15:06:19.967Z"
   },
   {
    "duration": 6,
    "start_time": "2021-10-28T15:06:20.043Z"
   },
   {
    "duration": 10,
    "start_time": "2021-10-28T15:06:20.051Z"
   },
   {
    "duration": 59,
    "start_time": "2021-10-28T15:06:20.063Z"
   },
   {
    "duration": 7,
    "start_time": "2021-10-28T15:06:20.124Z"
   },
   {
    "duration": 13,
    "start_time": "2021-10-28T15:06:20.133Z"
   },
   {
    "duration": 107,
    "start_time": "2021-10-28T15:06:20.148Z"
   },
   {
    "duration": 7,
    "start_time": "2021-10-28T15:06:20.257Z"
   },
   {
    "duration": 8,
    "start_time": "2021-10-28T15:06:20.267Z"
   },
   {
    "duration": 5,
    "start_time": "2021-10-28T15:06:20.277Z"
   },
   {
    "duration": 71,
    "start_time": "2021-10-28T15:06:20.284Z"
   },
   {
    "duration": 805,
    "start_time": "2021-10-28T15:08:39.361Z"
   },
   {
    "duration": 22,
    "start_time": "2021-10-28T15:08:40.169Z"
   },
   {
    "duration": 34,
    "start_time": "2021-10-28T15:08:40.198Z"
   },
   {
    "duration": 24,
    "start_time": "2021-10-28T15:08:40.234Z"
   },
   {
    "duration": 6,
    "start_time": "2021-10-28T15:08:40.260Z"
   },
   {
    "duration": 21,
    "start_time": "2021-10-28T15:08:40.268Z"
   },
   {
    "duration": 69,
    "start_time": "2021-10-28T15:08:40.293Z"
   },
   {
    "duration": 6,
    "start_time": "2021-10-28T15:08:40.364Z"
   },
   {
    "duration": 58,
    "start_time": "2021-10-28T15:08:40.373Z"
   },
   {
    "duration": 34,
    "start_time": "2021-10-28T15:08:40.434Z"
   },
   {
    "duration": 64,
    "start_time": "2021-10-28T15:08:40.471Z"
   },
   {
    "duration": 57,
    "start_time": "2021-10-28T15:08:40.538Z"
   },
   {
    "duration": 81,
    "start_time": "2021-10-28T15:08:40.598Z"
   },
   {
    "duration": 8,
    "start_time": "2021-10-28T15:08:40.682Z"
   },
   {
    "duration": 34,
    "start_time": "2021-10-28T15:08:40.693Z"
   },
   {
    "duration": 33,
    "start_time": "2021-10-28T15:08:40.729Z"
   },
   {
    "duration": 6,
    "start_time": "2021-10-28T15:08:40.764Z"
   },
   {
    "duration": 11,
    "start_time": "2021-10-28T15:08:40.772Z"
   },
   {
    "duration": 116,
    "start_time": "2021-10-28T15:08:40.786Z"
   },
   {
    "duration": 20,
    "start_time": "2021-10-28T15:08:40.904Z"
   },
   {
    "duration": 17,
    "start_time": "2021-10-28T15:08:40.926Z"
   },
   {
    "duration": 4,
    "start_time": "2021-10-28T15:08:40.949Z"
   },
   {
    "duration": 68,
    "start_time": "2021-10-28T15:08:40.956Z"
   },
   {
    "duration": 812,
    "start_time": "2021-10-28T15:11:31.439Z"
   },
   {
    "duration": 23,
    "start_time": "2021-10-28T15:11:32.255Z"
   },
   {
    "duration": 44,
    "start_time": "2021-10-28T15:11:32.282Z"
   },
   {
    "duration": 26,
    "start_time": "2021-10-28T15:11:32.328Z"
   },
   {
    "duration": 5,
    "start_time": "2021-10-28T15:11:32.356Z"
   },
   {
    "duration": 14,
    "start_time": "2021-10-28T15:11:32.363Z"
   },
   {
    "duration": 81,
    "start_time": "2021-10-28T15:11:32.379Z"
   },
   {
    "duration": 6,
    "start_time": "2021-10-28T15:11:32.463Z"
   },
   {
    "duration": 54,
    "start_time": "2021-10-28T15:11:32.472Z"
   },
   {
    "duration": 33,
    "start_time": "2021-10-28T15:11:32.529Z"
   },
   {
    "duration": 60,
    "start_time": "2021-10-28T15:11:32.565Z"
   },
   {
    "duration": 56,
    "start_time": "2021-10-28T15:11:32.628Z"
   },
   {
    "duration": 81,
    "start_time": "2021-10-28T15:11:32.686Z"
   },
   {
    "duration": 6,
    "start_time": "2021-10-28T15:11:32.770Z"
   },
   {
    "duration": 10,
    "start_time": "2021-10-28T15:11:32.779Z"
   },
   {
    "duration": 51,
    "start_time": "2021-10-28T15:11:32.792Z"
   },
   {
    "duration": 8,
    "start_time": "2021-10-28T15:11:32.845Z"
   },
   {
    "duration": 9,
    "start_time": "2021-10-28T15:11:32.855Z"
   },
   {
    "duration": 122,
    "start_time": "2021-10-28T15:11:32.866Z"
   },
   {
    "duration": 7,
    "start_time": "2021-10-28T15:11:32.990Z"
   },
   {
    "duration": 26,
    "start_time": "2021-10-28T15:11:32.999Z"
   },
   {
    "duration": 3,
    "start_time": "2021-10-28T15:11:33.027Z"
   },
   {
    "duration": 50,
    "start_time": "2021-10-28T15:11:33.032Z"
   },
   {
    "duration": 871,
    "start_time": "2021-10-28T15:11:33.084Z"
   },
   {
    "duration": 8,
    "start_time": "2021-10-28T15:11:33.957Z"
   },
   {
    "duration": 22,
    "start_time": "2021-10-28T15:13:07.790Z"
   },
   {
    "duration": 25,
    "start_time": "2021-10-28T15:18:20.058Z"
   },
   {
    "duration": 37283,
    "start_time": "2021-10-28T15:24:04.763Z"
   },
   {
    "duration": -144,
    "start_time": "2021-10-28T15:55:30.850Z"
   },
   {
    "duration": 351,
    "start_time": "2021-10-28T16:08:14.935Z"
   },
   {
    "duration": 284,
    "start_time": "2021-10-28T16:08:25.274Z"
   },
   {
    "duration": 362,
    "start_time": "2021-10-28T16:09:09.100Z"
   },
   {
    "duration": 294,
    "start_time": "2021-10-28T16:09:25.513Z"
   },
   {
    "duration": 107,
    "start_time": "2021-10-28T16:11:27.973Z"
   },
   {
    "duration": 119,
    "start_time": "2021-10-28T16:12:19.308Z"
   },
   {
    "duration": 314,
    "start_time": "2021-10-28T16:12:38.237Z"
   },
   {
    "duration": 291,
    "start_time": "2021-10-28T16:12:55.781Z"
   },
   {
    "duration": 293,
    "start_time": "2021-10-28T16:13:54.931Z"
   },
   {
    "duration": 281,
    "start_time": "2021-10-28T16:14:25.289Z"
   },
   {
    "duration": 989,
    "start_time": "2021-10-28T16:14:45.722Z"
   },
   {
    "duration": 20,
    "start_time": "2021-10-28T16:14:46.715Z"
   },
   {
    "duration": 18,
    "start_time": "2021-10-28T16:14:46.738Z"
   },
   {
    "duration": 34,
    "start_time": "2021-10-28T16:14:46.759Z"
   },
   {
    "duration": 6,
    "start_time": "2021-10-28T16:14:46.796Z"
   },
   {
    "duration": 12,
    "start_time": "2021-10-28T16:14:46.823Z"
   },
   {
    "duration": 49,
    "start_time": "2021-10-28T16:14:46.837Z"
   },
   {
    "duration": 33,
    "start_time": "2021-10-28T16:14:46.889Z"
   },
   {
    "duration": 31,
    "start_time": "2021-10-28T16:14:46.927Z"
   },
   {
    "duration": 32,
    "start_time": "2021-10-28T16:14:46.961Z"
   },
   {
    "duration": 47,
    "start_time": "2021-10-28T16:14:47.023Z"
   },
   {
    "duration": 75,
    "start_time": "2021-10-28T16:14:47.073Z"
   },
   {
    "duration": 54,
    "start_time": "2021-10-28T16:14:47.150Z"
   },
   {
    "duration": 7,
    "start_time": "2021-10-28T16:14:47.223Z"
   },
   {
    "duration": 7,
    "start_time": "2021-10-28T16:14:47.233Z"
   },
   {
    "duration": 31,
    "start_time": "2021-10-28T16:14:47.242Z"
   },
   {
    "duration": 6,
    "start_time": "2021-10-28T16:14:47.275Z"
   },
   {
    "duration": 42,
    "start_time": "2021-10-28T16:14:47.283Z"
   },
   {
    "duration": 104,
    "start_time": "2021-10-28T16:14:47.328Z"
   },
   {
    "duration": 6,
    "start_time": "2021-10-28T16:14:47.434Z"
   },
   {
    "duration": 21,
    "start_time": "2021-10-28T16:14:47.442Z"
   },
   {
    "duration": 13,
    "start_time": "2021-10-28T16:14:47.466Z"
   },
   {
    "duration": 54,
    "start_time": "2021-10-28T16:14:47.481Z"
   },
   {
    "duration": 28,
    "start_time": "2021-10-28T16:14:48.173Z"
   },
   {
    "duration": 28,
    "start_time": "2021-10-28T16:16:16.280Z"
   },
   {
    "duration": 936,
    "start_time": "2021-10-28T16:16:52.853Z"
   },
   {
    "duration": 8114,
    "start_time": "2021-10-28T16:17:39.479Z"
   },
   {
    "duration": 330,
    "start_time": "2021-10-28T16:18:32.457Z"
   },
   {
    "duration": 298,
    "start_time": "2021-10-28T16:19:32.110Z"
   },
   {
    "duration": 27,
    "start_time": "2021-10-28T16:27:24.576Z"
   },
   {
    "duration": 102,
    "start_time": "2021-10-28T16:30:34.946Z"
   },
   {
    "duration": 141,
    "start_time": "2021-10-28T16:31:04.035Z"
   },
   {
    "duration": 1175,
    "start_time": "2021-10-28T16:31:19.644Z"
   },
   {
    "duration": 29,
    "start_time": "2021-10-28T16:34:50.548Z"
   },
   {
    "duration": 326,
    "start_time": "2021-10-28T16:38:37.513Z"
   },
   {
    "duration": 36,
    "start_time": "2021-10-28T16:39:16.397Z"
   },
   {
    "duration": 29,
    "start_time": "2021-10-28T16:39:54.671Z"
   },
   {
    "duration": 79,
    "start_time": "2021-10-28T16:40:04.144Z"
   },
   {
    "duration": 19,
    "start_time": "2021-10-28T16:40:04.225Z"
   },
   {
    "duration": 24,
    "start_time": "2021-10-28T16:40:04.247Z"
   },
   {
    "duration": 31,
    "start_time": "2021-10-28T16:40:04.274Z"
   },
   {
    "duration": 5,
    "start_time": "2021-10-28T16:40:04.308Z"
   },
   {
    "duration": 11,
    "start_time": "2021-10-28T16:40:04.323Z"
   },
   {
    "duration": 47,
    "start_time": "2021-10-28T16:40:04.336Z"
   },
   {
    "duration": 40,
    "start_time": "2021-10-28T16:40:04.386Z"
   },
   {
    "duration": 31,
    "start_time": "2021-10-28T16:40:04.432Z"
   },
   {
    "duration": 63,
    "start_time": "2021-10-28T16:40:04.467Z"
   },
   {
    "duration": 40,
    "start_time": "2021-10-28T16:40:04.533Z"
   },
   {
    "duration": 84,
    "start_time": "2021-10-28T16:40:04.575Z"
   },
   {
    "duration": 67,
    "start_time": "2021-10-28T16:40:04.662Z"
   },
   {
    "duration": 6,
    "start_time": "2021-10-28T16:40:04.731Z"
   },
   {
    "duration": 10,
    "start_time": "2021-10-28T16:40:04.739Z"
   },
   {
    "duration": 23,
    "start_time": "2021-10-28T16:40:04.751Z"
   },
   {
    "duration": 47,
    "start_time": "2021-10-28T16:40:04.777Z"
   },
   {
    "duration": 9,
    "start_time": "2021-10-28T16:40:04.827Z"
   },
   {
    "duration": 105,
    "start_time": "2021-10-28T16:40:04.839Z"
   },
   {
    "duration": 6,
    "start_time": "2021-10-28T16:40:04.946Z"
   },
   {
    "duration": 9,
    "start_time": "2021-10-28T16:40:04.954Z"
   },
   {
    "duration": 4,
    "start_time": "2021-10-28T16:40:04.966Z"
   },
   {
    "duration": 74,
    "start_time": "2021-10-28T16:40:04.972Z"
   },
   {
    "duration": 8454,
    "start_time": "2021-10-28T16:40:05.049Z"
   },
   {
    "duration": 26,
    "start_time": "2021-10-28T16:40:13.480Z"
   },
   {
    "duration": 7517,
    "start_time": "2021-10-28T16:40:44.700Z"
   },
   {
    "duration": 7834,
    "start_time": "2021-10-28T16:41:40.351Z"
   },
   {
    "duration": 28,
    "start_time": "2021-10-28T16:42:11.433Z"
   },
   {
    "duration": 302,
    "start_time": "2021-10-28T16:42:27.328Z"
   },
   {
    "duration": 312,
    "start_time": "2021-10-28T16:43:31.284Z"
   },
   {
    "duration": 302,
    "start_time": "2021-10-28T16:44:03.254Z"
   },
   {
    "duration": 311,
    "start_time": "2021-10-28T16:44:06.990Z"
   },
   {
    "duration": 287,
    "start_time": "2021-10-28T16:46:25.619Z"
   },
   {
    "duration": 5374,
    "start_time": "2021-10-28T16:49:25.276Z"
   },
   {
    "duration": 5254,
    "start_time": "2021-10-28T16:50:16.962Z"
   },
   {
    "duration": 82,
    "start_time": "2021-10-28T16:50:31.373Z"
   },
   {
    "duration": 19,
    "start_time": "2021-10-28T16:50:31.458Z"
   },
   {
    "duration": 13,
    "start_time": "2021-10-28T16:50:31.481Z"
   },
   {
    "duration": 42,
    "start_time": "2021-10-28T16:50:31.497Z"
   },
   {
    "duration": 5,
    "start_time": "2021-10-28T16:50:31.542Z"
   },
   {
    "duration": 25,
    "start_time": "2021-10-28T16:50:31.549Z"
   },
   {
    "duration": 72,
    "start_time": "2021-10-28T16:50:31.577Z"
   },
   {
    "duration": 6,
    "start_time": "2021-10-28T16:50:31.651Z"
   },
   {
    "duration": 38,
    "start_time": "2021-10-28T16:50:31.661Z"
   },
   {
    "duration": 49,
    "start_time": "2021-10-28T16:50:31.702Z"
   },
   {
    "duration": 41,
    "start_time": "2021-10-28T16:50:31.754Z"
   },
   {
    "duration": 80,
    "start_time": "2021-10-28T16:50:31.799Z"
   },
   {
    "duration": 79,
    "start_time": "2021-10-28T16:50:31.882Z"
   },
   {
    "duration": 9,
    "start_time": "2021-10-28T16:50:31.964Z"
   },
   {
    "duration": 15,
    "start_time": "2021-10-28T16:50:31.975Z"
   },
   {
    "duration": 47,
    "start_time": "2021-10-28T16:50:31.992Z"
   },
   {
    "duration": 6,
    "start_time": "2021-10-28T16:50:32.042Z"
   },
   {
    "duration": 13,
    "start_time": "2021-10-28T16:50:32.050Z"
   },
   {
    "duration": 106,
    "start_time": "2021-10-28T16:50:32.066Z"
   },
   {
    "duration": 6,
    "start_time": "2021-10-28T16:50:32.175Z"
   },
   {
    "duration": 14,
    "start_time": "2021-10-28T16:50:32.183Z"
   },
   {
    "duration": 24,
    "start_time": "2021-10-28T16:50:32.199Z"
   },
   {
    "duration": 46,
    "start_time": "2021-10-28T16:50:32.225Z"
   },
   {
    "duration": 5897,
    "start_time": "2021-10-28T16:50:32.274Z"
   },
   {
    "duration": 8,
    "start_time": "2021-10-28T16:50:38.173Z"
   },
   {
    "duration": 5471,
    "start_time": "2021-10-28T16:51:23.642Z"
   },
   {
    "duration": 5705,
    "start_time": "2021-10-28T16:54:03.286Z"
   },
   {
    "duration": 469,
    "start_time": "2021-10-28T16:55:20.870Z"
   },
   {
    "duration": 74,
    "start_time": "2021-10-28T16:55:41.769Z"
   },
   {
    "duration": 19,
    "start_time": "2021-10-28T16:55:41.846Z"
   },
   {
    "duration": 23,
    "start_time": "2021-10-28T16:55:41.868Z"
   },
   {
    "duration": 44,
    "start_time": "2021-10-28T16:55:41.894Z"
   },
   {
    "duration": 7,
    "start_time": "2021-10-28T16:55:41.941Z"
   },
   {
    "duration": 18,
    "start_time": "2021-10-28T16:55:41.951Z"
   },
   {
    "duration": 69,
    "start_time": "2021-10-28T16:55:41.971Z"
   },
   {
    "duration": 5,
    "start_time": "2021-10-28T16:55:42.042Z"
   },
   {
    "duration": 30,
    "start_time": "2021-10-28T16:55:42.050Z"
   },
   {
    "duration": 58,
    "start_time": "2021-10-28T16:55:42.083Z"
   },
   {
    "duration": 40,
    "start_time": "2021-10-28T16:55:42.143Z"
   },
   {
    "duration": 84,
    "start_time": "2021-10-28T16:55:42.186Z"
   },
   {
    "duration": 77,
    "start_time": "2021-10-28T16:55:42.273Z"
   },
   {
    "duration": 10,
    "start_time": "2021-10-28T16:55:42.353Z"
   },
   {
    "duration": 8,
    "start_time": "2021-10-28T16:55:42.366Z"
   },
   {
    "duration": 58,
    "start_time": "2021-10-28T16:55:42.376Z"
   },
   {
    "duration": 6,
    "start_time": "2021-10-28T16:55:42.436Z"
   },
   {
    "duration": 8,
    "start_time": "2021-10-28T16:55:42.444Z"
   },
   {
    "duration": 114,
    "start_time": "2021-10-28T16:55:42.454Z"
   },
   {
    "duration": 6,
    "start_time": "2021-10-28T16:55:42.571Z"
   },
   {
    "duration": 8,
    "start_time": "2021-10-28T16:55:42.579Z"
   },
   {
    "duration": 3,
    "start_time": "2021-10-28T16:55:42.589Z"
   },
   {
    "duration": 61,
    "start_time": "2021-10-28T16:55:42.594Z"
   },
   {
    "duration": 447,
    "start_time": "2021-10-28T16:55:45.464Z"
   },
   {
    "duration": 28,
    "start_time": "2021-10-28T16:55:53.277Z"
   },
   {
    "duration": 93,
    "start_time": "2021-10-28T17:03:47.460Z"
   },
   {
    "duration": 72,
    "start_time": "2021-10-28T17:03:52.818Z"
   },
   {
    "duration": 35,
    "start_time": "2021-10-28T17:03:52.892Z"
   },
   {
    "duration": 17,
    "start_time": "2021-10-28T17:03:52.930Z"
   },
   {
    "duration": 31,
    "start_time": "2021-10-28T17:03:52.949Z"
   },
   {
    "duration": 5,
    "start_time": "2021-10-28T17:03:52.982Z"
   },
   {
    "duration": 42,
    "start_time": "2021-10-28T17:03:52.989Z"
   },
   {
    "duration": 44,
    "start_time": "2021-10-28T17:03:53.034Z"
   },
   {
    "duration": 6,
    "start_time": "2021-10-28T17:03:53.080Z"
   },
   {
    "duration": 57,
    "start_time": "2021-10-28T17:03:53.090Z"
   },
   {
    "duration": 35,
    "start_time": "2021-10-28T17:03:53.150Z"
   },
   {
    "duration": 69,
    "start_time": "2021-10-28T17:03:53.187Z"
   },
   {
    "duration": 76,
    "start_time": "2021-10-28T17:03:53.258Z"
   },
   {
    "duration": 57,
    "start_time": "2021-10-28T17:03:53.337Z"
   },
   {
    "duration": 28,
    "start_time": "2021-10-28T17:03:53.396Z"
   },
   {
    "duration": 7,
    "start_time": "2021-10-28T17:03:53.427Z"
   },
   {
    "duration": 42,
    "start_time": "2021-10-28T17:03:53.436Z"
   },
   {
    "duration": 19,
    "start_time": "2021-10-28T17:03:53.480Z"
   },
   {
    "duration": 23,
    "start_time": "2021-10-28T17:03:53.502Z"
   },
   {
    "duration": 106,
    "start_time": "2021-10-28T17:03:53.529Z"
   },
   {
    "duration": 7,
    "start_time": "2021-10-28T17:03:53.638Z"
   },
   {
    "duration": 20,
    "start_time": "2021-10-28T17:03:53.648Z"
   },
   {
    "duration": 10,
    "start_time": "2021-10-28T17:03:53.672Z"
   },
   {
    "duration": 61,
    "start_time": "2021-10-28T17:03:53.684Z"
   },
   {
    "duration": 112,
    "start_time": "2021-10-28T17:03:53.748Z"
   },
   {
    "duration": 121,
    "start_time": "2021-10-28T17:03:53.742Z"
   },
   {
    "duration": 468,
    "start_time": "2021-10-28T17:04:00.716Z"
   },
   {
    "duration": 858,
    "start_time": "2021-10-28T17:07:29.995Z"
   },
   {
    "duration": 97,
    "start_time": "2021-10-28T17:08:25.972Z"
   },
   {
    "duration": 299,
    "start_time": "2021-10-28T17:08:40.610Z"
   },
   {
    "duration": 22,
    "start_time": "2021-10-28T17:18:11.656Z"
   },
   {
    "duration": 791,
    "start_time": "2021-10-28T17:19:56.364Z"
   },
   {
    "duration": 21,
    "start_time": "2021-10-28T17:19:57.158Z"
   },
   {
    "duration": 18,
    "start_time": "2021-10-28T17:19:57.182Z"
   },
   {
    "duration": 35,
    "start_time": "2021-10-28T17:19:57.203Z"
   },
   {
    "duration": 19,
    "start_time": "2021-10-28T17:19:57.241Z"
   },
   {
    "duration": 12,
    "start_time": "2021-10-28T17:19:57.263Z"
   },
   {
    "duration": 64,
    "start_time": "2021-10-28T17:19:57.278Z"
   },
   {
    "duration": 7,
    "start_time": "2021-10-28T17:19:57.344Z"
   },
   {
    "duration": 30,
    "start_time": "2021-10-28T17:19:57.354Z"
   },
   {
    "duration": 61,
    "start_time": "2021-10-28T17:19:57.387Z"
   },
   {
    "duration": 52,
    "start_time": "2021-10-28T17:19:57.450Z"
   },
   {
    "duration": 65,
    "start_time": "2021-10-28T17:19:57.505Z"
   },
   {
    "duration": 72,
    "start_time": "2021-10-28T17:19:57.573Z"
   },
   {
    "duration": 7,
    "start_time": "2021-10-28T17:19:57.648Z"
   },
   {
    "duration": 9,
    "start_time": "2021-10-28T17:19:57.657Z"
   },
   {
    "duration": 55,
    "start_time": "2021-10-28T17:19:57.669Z"
   },
   {
    "duration": 7,
    "start_time": "2021-10-28T17:19:57.727Z"
   },
   {
    "duration": 9,
    "start_time": "2021-10-28T17:19:57.736Z"
   },
   {
    "duration": 121,
    "start_time": "2021-10-28T17:19:57.748Z"
   },
   {
    "duration": 6,
    "start_time": "2021-10-28T17:19:57.872Z"
   },
   {
    "duration": 23,
    "start_time": "2021-10-28T17:19:57.880Z"
   },
   {
    "duration": 17,
    "start_time": "2021-10-28T17:19:57.906Z"
   },
   {
    "duration": 34,
    "start_time": "2021-10-28T17:19:57.926Z"
   },
   {
    "duration": 75399,
    "start_time": "2021-10-28T17:19:57.962Z"
   },
   {
    "duration": 63,
    "start_time": "2021-10-28T17:21:13.301Z"
   },
   {
    "duration": 1204,
    "start_time": "2021-10-28T17:34:43.754Z"
   },
   {
    "duration": 34191,
    "start_time": "2021-10-28T17:37:23.298Z"
   },
   {
    "duration": 8,
    "start_time": "2021-10-28T17:37:57.493Z"
   },
   {
    "duration": 36922,
    "start_time": "2021-10-28T17:41:25.674Z"
   },
   {
    "duration": 114,
    "start_time": "2021-10-28T18:41:30.575Z"
   },
   {
    "duration": 37824,
    "start_time": "2021-10-28T18:41:53.650Z"
   },
   {
    "duration": 10,
    "start_time": "2021-10-28T18:54:08.441Z"
   },
   {
    "duration": 8,
    "start_time": "2021-10-28T18:54:08.444Z"
   },
   {
    "duration": 859,
    "start_time": "2021-10-28T18:54:32.442Z"
   },
   {
    "duration": 21,
    "start_time": "2021-10-28T18:54:33.303Z"
   },
   {
    "duration": 15,
    "start_time": "2021-10-28T18:54:33.327Z"
   },
   {
    "duration": 20,
    "start_time": "2021-10-28T18:54:33.344Z"
   },
   {
    "duration": 6,
    "start_time": "2021-10-28T18:54:33.367Z"
   },
   {
    "duration": 13,
    "start_time": "2021-10-28T18:54:33.376Z"
   },
   {
    "duration": 51,
    "start_time": "2021-10-28T18:54:33.392Z"
   },
   {
    "duration": 5,
    "start_time": "2021-10-28T18:54:33.447Z"
   },
   {
    "duration": 35,
    "start_time": "2021-10-28T18:54:33.455Z"
   },
   {
    "duration": 43,
    "start_time": "2021-10-28T18:54:33.492Z"
   },
   {
    "duration": 47,
    "start_time": "2021-10-28T18:54:33.538Z"
   },
   {
    "duration": 61,
    "start_time": "2021-10-28T18:54:33.587Z"
   },
   {
    "duration": 57,
    "start_time": "2021-10-28T18:54:33.650Z"
   },
   {
    "duration": 14,
    "start_time": "2021-10-28T18:54:33.709Z"
   },
   {
    "duration": 7,
    "start_time": "2021-10-28T18:54:33.725Z"
   },
   {
    "duration": 25,
    "start_time": "2021-10-28T18:54:33.734Z"
   },
   {
    "duration": 7,
    "start_time": "2021-10-28T18:54:33.762Z"
   },
   {
    "duration": 7,
    "start_time": "2021-10-28T18:54:33.771Z"
   },
   {
    "duration": 92,
    "start_time": "2021-10-28T18:54:33.780Z"
   },
   {
    "duration": 6,
    "start_time": "2021-10-28T18:54:33.875Z"
   },
   {
    "duration": 8,
    "start_time": "2021-10-28T18:54:33.883Z"
   },
   {
    "duration": 3,
    "start_time": "2021-10-28T18:54:33.893Z"
   },
   {
    "duration": 50,
    "start_time": "2021-10-28T18:54:33.900Z"
   },
   {
    "duration": 361,
    "start_time": "2021-10-28T18:54:43.896Z"
   },
   {
    "duration": 34891,
    "start_time": "2021-10-28T18:55:03.752Z"
   },
   {
    "duration": 9512,
    "start_time": "2021-10-28T18:55:38.647Z"
   },
   {
    "duration": 464,
    "start_time": "2021-10-28T18:57:15.295Z"
   },
   {
    "duration": 9,
    "start_time": "2021-10-28T18:57:29.423Z"
   },
   {
    "duration": 9,
    "start_time": "2021-10-28T18:57:39.064Z"
   },
   {
    "duration": 7,
    "start_time": "2021-10-28T18:57:49.084Z"
   },
   {
    "duration": 10,
    "start_time": "2021-10-28T18:58:44.414Z"
   },
   {
    "duration": 9346,
    "start_time": "2021-10-28T18:59:37.101Z"
   },
   {
    "duration": 46073,
    "start_time": "2021-10-28T19:00:09.664Z"
   },
   {
    "duration": 10,
    "start_time": "2021-10-28T19:01:53.156Z"
   },
   {
    "duration": 11,
    "start_time": "2021-10-28T19:01:56.452Z"
   },
   {
    "duration": 9,
    "start_time": "2021-10-28T19:02:03.111Z"
   },
   {
    "duration": 1675291,
    "start_time": "2021-10-28T19:02:58.347Z"
   },
   {
    "duration": -43,
    "start_time": "2021-10-28T19:30:53.684Z"
   },
   {
    "duration": 1275,
    "start_time": "2021-10-28T19:30:53.949Z"
   },
   {
    "duration": 365828,
    "start_time": "2021-10-28T19:32:32.501Z"
   },
   {
    "duration": 11489,
    "start_time": "2021-10-28T19:38:39.291Z"
   },
   {
    "duration": 4466,
    "start_time": "2021-10-28T19:39:27.461Z"
   },
   {
    "duration": 11,
    "start_time": "2021-10-28T19:40:32.221Z"
   },
   {
    "duration": 7,
    "start_time": "2021-10-28T19:40:47.029Z"
   },
   {
    "duration": 4485,
    "start_time": "2021-10-28T19:41:08.722Z"
   },
   {
    "duration": 8,
    "start_time": "2021-10-28T19:42:14.309Z"
   },
   {
    "duration": 9,
    "start_time": "2021-10-28T19:42:17.898Z"
   },
   {
    "duration": 10,
    "start_time": "2021-10-28T19:42:21.479Z"
   },
   {
    "duration": 15,
    "start_time": "2021-10-28T19:42:39.979Z"
   },
   {
    "duration": 13,
    "start_time": "2021-10-28T19:42:42.519Z"
   },
   {
    "duration": 9,
    "start_time": "2021-10-28T19:44:48.258Z"
   },
   {
    "duration": 276,
    "start_time": "2021-10-28T19:44:58.003Z"
   },
   {
    "duration": 31,
    "start_time": "2021-10-28T19:45:30.431Z"
   },
   {
    "duration": 12,
    "start_time": "2021-10-28T19:45:54.467Z"
   },
   {
    "duration": 14,
    "start_time": "2021-10-28T19:46:23.977Z"
   },
   {
    "duration": 24,
    "start_time": "2021-10-28T19:48:37.171Z"
   },
   {
    "duration": 49,
    "start_time": "2021-10-28T19:51:44.696Z"
   },
   {
    "duration": 20,
    "start_time": "2021-10-28T19:52:55.198Z"
   },
   {
    "duration": 19,
    "start_time": "2021-10-28T19:53:04.853Z"
   },
   {
    "duration": 53,
    "start_time": "2021-10-28T19:53:16.457Z"
   },
   {
    "duration": 19,
    "start_time": "2021-10-28T19:53:34.037Z"
   },
   {
    "duration": 206,
    "start_time": "2021-10-28T19:58:01.257Z"
   },
   {
    "duration": 49,
    "start_time": "2021-10-28T19:58:28.995Z"
   },
   {
    "duration": 10,
    "start_time": "2021-10-28T20:00:19.447Z"
   },
   {
    "duration": 435,
    "start_time": "2021-10-28T20:00:31.997Z"
   },
   {
    "duration": 11,
    "start_time": "2021-10-28T20:00:41.717Z"
   },
   {
    "duration": 12,
    "start_time": "2021-10-28T20:00:52.854Z"
   },
   {
    "duration": 8,
    "start_time": "2021-10-28T20:01:05.383Z"
   },
   {
    "duration": 9,
    "start_time": "2021-10-28T20:01:18.241Z"
   },
   {
    "duration": 13,
    "start_time": "2021-10-28T20:02:19.486Z"
   },
   {
    "duration": 15,
    "start_time": "2021-10-28T20:02:34.145Z"
   },
   {
    "duration": 12,
    "start_time": "2021-10-28T20:02:37.751Z"
   },
   {
    "duration": 10,
    "start_time": "2021-10-28T20:03:01.618Z"
   },
   {
    "duration": 13,
    "start_time": "2021-10-28T20:03:42.863Z"
   },
   {
    "duration": 15,
    "start_time": "2021-10-28T20:04:05.945Z"
   },
   {
    "duration": 285,
    "start_time": "2021-10-29T07:18:56.600Z"
   },
   {
    "duration": 634,
    "start_time": "2021-10-29T07:19:37.487Z"
   },
   {
    "duration": 13,
    "start_time": "2021-10-29T07:19:38.124Z"
   },
   {
    "duration": 13,
    "start_time": "2021-10-29T07:19:38.139Z"
   },
   {
    "duration": 19,
    "start_time": "2021-10-29T07:19:38.154Z"
   },
   {
    "duration": 4,
    "start_time": "2021-10-29T07:19:38.175Z"
   },
   {
    "duration": 13,
    "start_time": "2021-10-29T07:19:38.180Z"
   },
   {
    "duration": 33,
    "start_time": "2021-10-29T07:19:38.194Z"
   },
   {
    "duration": 4,
    "start_time": "2021-10-29T07:19:38.229Z"
   },
   {
    "duration": 45,
    "start_time": "2021-10-29T07:19:38.236Z"
   },
   {
    "duration": 21,
    "start_time": "2021-10-29T07:19:38.283Z"
   },
   {
    "duration": 27,
    "start_time": "2021-10-29T07:19:38.306Z"
   },
   {
    "duration": 57,
    "start_time": "2021-10-29T07:19:38.335Z"
   },
   {
    "duration": 34,
    "start_time": "2021-10-29T07:19:38.394Z"
   },
   {
    "duration": 5,
    "start_time": "2021-10-29T07:19:38.429Z"
   },
   {
    "duration": 28,
    "start_time": "2021-10-29T07:19:38.436Z"
   },
   {
    "duration": 17,
    "start_time": "2021-10-29T07:19:38.466Z"
   },
   {
    "duration": 22,
    "start_time": "2021-10-29T07:19:38.485Z"
   },
   {
    "duration": 15,
    "start_time": "2021-10-29T07:19:38.508Z"
   },
   {
    "duration": 62,
    "start_time": "2021-10-29T07:19:38.525Z"
   },
   {
    "duration": 5,
    "start_time": "2021-10-29T07:19:38.588Z"
   },
   {
    "duration": 7,
    "start_time": "2021-10-29T07:19:38.594Z"
   },
   {
    "duration": 3,
    "start_time": "2021-10-29T07:19:38.602Z"
   },
   {
    "duration": 23,
    "start_time": "2021-10-29T07:19:38.607Z"
   },
   {
    "duration": 6,
    "start_time": "2021-10-29T07:19:40.912Z"
   },
   {
    "duration": 3,
    "start_time": "2021-10-29T08:20:23.130Z"
   },
   {
    "duration": 3396,
    "start_time": "2021-10-29T08:25:46.647Z"
   },
   {
    "duration": 7,
    "start_time": "2021-10-29T08:31:29.223Z"
   },
   {
    "duration": 15,
    "start_time": "2021-10-29T08:32:56.621Z"
   },
   {
    "duration": 10,
    "start_time": "2021-10-29T08:49:05.100Z"
   },
   {
    "duration": 6,
    "start_time": "2021-10-29T08:49:22.663Z"
   },
   {
    "duration": 9,
    "start_time": "2021-10-29T08:49:36.191Z"
   },
   {
    "duration": 8,
    "start_time": "2021-10-29T08:49:50.714Z"
   },
   {
    "duration": 7,
    "start_time": "2021-10-29T08:50:23.269Z"
   },
   {
    "duration": 8,
    "start_time": "2021-10-29T09:04:20.967Z"
   },
   {
    "duration": 5,
    "start_time": "2021-10-29T09:10:07.349Z"
   },
   {
    "duration": 30,
    "start_time": "2021-10-29T09:11:13.256Z"
   },
   {
    "duration": 29,
    "start_time": "2021-10-29T09:17:00.472Z"
   },
   {
    "duration": 11,
    "start_time": "2021-10-29T09:17:09.932Z"
   },
   {
    "duration": 10,
    "start_time": "2021-10-29T09:22:21.340Z"
   },
   {
    "duration": 11,
    "start_time": "2021-10-29T09:22:36.656Z"
   },
   {
    "duration": 9,
    "start_time": "2021-10-29T09:24:53.126Z"
   },
   {
    "duration": 9,
    "start_time": "2021-10-29T09:27:16.302Z"
   },
   {
    "duration": 7,
    "start_time": "2021-10-29T09:27:42.572Z"
   },
   {
    "duration": 7,
    "start_time": "2021-10-29T09:28:04.993Z"
   },
   {
    "duration": 7,
    "start_time": "2021-10-29T09:28:21.308Z"
   },
   {
    "duration": 8,
    "start_time": "2021-10-29T09:28:50.262Z"
   },
   {
    "duration": 8,
    "start_time": "2021-10-29T09:29:03.263Z"
   },
   {
    "duration": 83,
    "start_time": "2021-10-29T09:42:08.816Z"
   },
   {
    "duration": 83,
    "start_time": "2021-10-29T09:42:23.827Z"
   },
   {
    "duration": 7,
    "start_time": "2021-10-29T09:42:45.385Z"
   },
   {
    "duration": 80,
    "start_time": "2021-10-29T09:46:36.572Z"
   },
   {
    "duration": 8,
    "start_time": "2021-10-29T09:46:46.370Z"
   },
   {
    "duration": 7,
    "start_time": "2021-10-29T09:47:15.141Z"
   },
   {
    "duration": 8,
    "start_time": "2021-10-29T09:47:42.094Z"
   },
   {
    "duration": 6,
    "start_time": "2021-10-29T09:48:01.092Z"
   },
   {
    "duration": 28,
    "start_time": "2021-10-29T09:58:35.576Z"
   },
   {
    "duration": 14,
    "start_time": "2021-10-29T09:59:37.614Z"
   },
   {
    "duration": 37,
    "start_time": "2021-10-29T10:07:58.393Z"
   },
   {
    "duration": 28,
    "start_time": "2021-10-29T10:11:29.839Z"
   },
   {
    "duration": 23,
    "start_time": "2021-10-29T10:13:19.369Z"
   },
   {
    "duration": 7,
    "start_time": "2021-10-29T10:13:32.241Z"
   },
   {
    "duration": 5,
    "start_time": "2021-10-29T10:17:37.501Z"
   },
   {
    "duration": 20,
    "start_time": "2021-10-29T10:18:21.284Z"
   },
   {
    "duration": 11,
    "start_time": "2021-10-29T10:20:02.285Z"
   },
   {
    "duration": 289,
    "start_time": "2021-10-29T10:20:46.006Z"
   },
   {
    "duration": 12,
    "start_time": "2021-10-29T10:22:05.863Z"
   },
   {
    "duration": 14,
    "start_time": "2021-10-29T10:22:25.436Z"
   },
   {
    "duration": 11,
    "start_time": "2021-10-29T10:22:33.915Z"
   },
   {
    "duration": 12,
    "start_time": "2021-10-29T10:23:32.910Z"
   },
   {
    "duration": 13,
    "start_time": "2021-10-29T10:23:45.531Z"
   },
   {
    "duration": 11,
    "start_time": "2021-10-29T10:24:10.860Z"
   },
   {
    "duration": 11,
    "start_time": "2021-10-29T10:24:35.687Z"
   },
   {
    "duration": 13,
    "start_time": "2021-10-29T10:24:45.305Z"
   },
   {
    "duration": 12,
    "start_time": "2021-10-29T10:24:49.730Z"
   },
   {
    "duration": 12,
    "start_time": "2021-10-29T10:24:53.531Z"
   },
   {
    "duration": 83,
    "start_time": "2021-10-29T10:32:23.389Z"
   },
   {
    "duration": 272,
    "start_time": "2021-10-29T10:32:47.916Z"
   },
   {
    "duration": 11,
    "start_time": "2021-10-29T10:33:32.535Z"
   },
   {
    "duration": 80,
    "start_time": "2021-10-29T10:33:49.347Z"
   },
   {
    "duration": 10,
    "start_time": "2021-10-29T10:34:44.576Z"
   },
   {
    "duration": 80,
    "start_time": "2021-10-29T10:38:54.448Z"
   },
   {
    "duration": 273,
    "start_time": "2021-10-29T10:39:18.977Z"
   },
   {
    "duration": 15,
    "start_time": "2021-10-29T10:40:42.689Z"
   },
   {
    "duration": 465,
    "start_time": "2021-10-29T10:41:11.601Z"
   },
   {
    "duration": 88,
    "start_time": "2021-10-29T10:41:43.530Z"
   },
   {
    "duration": 6000,
    "start_time": "2021-10-29T10:41:48.546Z"
   },
   {
    "duration": 248,
    "start_time": "2021-10-29T10:42:49.228Z"
   },
   {
    "duration": 10,
    "start_time": "2021-10-29T10:42:56.586Z"
   },
   {
    "duration": 10,
    "start_time": "2021-10-29T10:43:46.148Z"
   },
   {
    "duration": 253,
    "start_time": "2021-10-29T10:46:29.182Z"
   },
   {
    "duration": 12,
    "start_time": "2021-10-29T10:47:22.168Z"
   },
   {
    "duration": 270,
    "start_time": "2021-10-29T10:48:00.712Z"
   },
   {
    "duration": 281,
    "start_time": "2021-10-29T10:48:18.425Z"
   },
   {
    "duration": 262,
    "start_time": "2021-10-29T11:47:13.486Z"
   },
   {
    "duration": 87,
    "start_time": "2021-10-29T11:51:08.884Z"
   },
   {
    "duration": 107,
    "start_time": "2021-10-29T11:51:24.224Z"
   },
   {
    "duration": 77,
    "start_time": "2021-10-29T11:51:33.683Z"
   },
   {
    "duration": 282,
    "start_time": "2021-10-29T11:51:51.926Z"
   },
   {
    "duration": 250,
    "start_time": "2021-10-29T11:53:57.723Z"
   },
   {
    "duration": 257,
    "start_time": "2021-10-29T11:54:37.081Z"
   },
   {
    "duration": 240,
    "start_time": "2021-10-29T11:55:05.180Z"
   },
   {
    "duration": 243,
    "start_time": "2021-10-29T11:56:41.845Z"
   },
   {
    "duration": 260,
    "start_time": "2021-10-29T11:57:40.315Z"
   },
   {
    "duration": 259,
    "start_time": "2021-10-29T11:57:48.115Z"
   },
   {
    "duration": 263,
    "start_time": "2021-10-29T11:59:23.740Z"
   },
   {
    "duration": 245,
    "start_time": "2021-10-29T11:59:36.297Z"
   },
   {
    "duration": 271,
    "start_time": "2021-10-29T12:00:21.164Z"
   },
   {
    "duration": 488,
    "start_time": "2021-10-29T12:02:14.391Z"
   },
   {
    "duration": 316,
    "start_time": "2021-10-29T12:02:30.593Z"
   },
   {
    "duration": 105,
    "start_time": "2021-10-29T12:04:21.141Z"
   },
   {
    "duration": 253,
    "start_time": "2021-10-29T12:04:59.671Z"
   },
   {
    "duration": 272,
    "start_time": "2021-10-29T12:05:45.357Z"
   },
   {
    "duration": 60,
    "start_time": "2021-10-29T12:06:48.711Z"
   },
   {
    "duration": 12,
    "start_time": "2021-10-29T12:06:48.772Z"
   },
   {
    "duration": 21,
    "start_time": "2021-10-29T12:06:48.786Z"
   },
   {
    "duration": 13,
    "start_time": "2021-10-29T12:06:48.809Z"
   },
   {
    "duration": 7,
    "start_time": "2021-10-29T12:06:48.824Z"
   },
   {
    "duration": 10,
    "start_time": "2021-10-29T12:06:48.833Z"
   },
   {
    "duration": 50,
    "start_time": "2021-10-29T12:06:48.845Z"
   },
   {
    "duration": 4,
    "start_time": "2021-10-29T12:06:48.897Z"
   },
   {
    "duration": 21,
    "start_time": "2021-10-29T12:06:48.904Z"
   },
   {
    "duration": 46,
    "start_time": "2021-10-29T12:06:48.927Z"
   },
   {
    "duration": 25,
    "start_time": "2021-10-29T12:06:48.975Z"
   },
   {
    "duration": 35,
    "start_time": "2021-10-29T12:06:49.002Z"
   },
   {
    "duration": 59,
    "start_time": "2021-10-29T12:06:49.039Z"
   },
   {
    "duration": 5,
    "start_time": "2021-10-29T12:06:49.100Z"
   },
   {
    "duration": 7,
    "start_time": "2021-10-29T12:06:49.107Z"
   },
   {
    "duration": 17,
    "start_time": "2021-10-29T12:06:49.115Z"
   },
   {
    "duration": 30,
    "start_time": "2021-10-29T12:06:49.134Z"
   },
   {
    "duration": 6,
    "start_time": "2021-10-29T12:06:49.166Z"
   },
   {
    "duration": 62,
    "start_time": "2021-10-29T12:06:49.174Z"
   },
   {
    "duration": 27,
    "start_time": "2021-10-29T12:06:49.238Z"
   },
   {
    "duration": 7,
    "start_time": "2021-10-29T12:06:49.267Z"
   },
   {
    "duration": 6,
    "start_time": "2021-10-29T12:06:49.276Z"
   },
   {
    "duration": 28,
    "start_time": "2021-10-29T12:06:49.284Z"
   },
   {
    "duration": 21,
    "start_time": "2021-10-29T12:06:49.314Z"
   },
   {
    "duration": 3658,
    "start_time": "2021-10-29T12:06:49.363Z"
   },
   {
    "duration": 5,
    "start_time": "2021-10-29T12:06:53.023Z"
   },
   {
    "duration": 27,
    "start_time": "2021-10-29T12:06:53.031Z"
   },
   {
    "duration": 18,
    "start_time": "2021-10-29T12:06:53.060Z"
   },
   {
    "duration": 37,
    "start_time": "2021-10-29T12:06:53.080Z"
   },
   {
    "duration": 25,
    "start_time": "2021-10-29T12:06:53.119Z"
   },
   {
    "duration": 7,
    "start_time": "2021-10-29T12:06:53.146Z"
   },
   {
    "duration": 15,
    "start_time": "2021-10-29T12:06:53.154Z"
   },
   {
    "duration": 21,
    "start_time": "2021-10-29T12:06:53.171Z"
   },
   {
    "duration": 6,
    "start_time": "2021-10-29T12:06:53.194Z"
   },
   {
    "duration": 29,
    "start_time": "2021-10-29T12:06:53.202Z"
   },
   {
    "duration": 8,
    "start_time": "2021-10-29T12:06:53.233Z"
   },
   {
    "duration": 21,
    "start_time": "2021-10-29T12:06:53.243Z"
   },
   {
    "duration": 258,
    "start_time": "2021-10-29T12:06:56.212Z"
   },
   {
    "duration": 10,
    "start_time": "2021-10-29T12:08:04.746Z"
   },
   {
    "duration": 9,
    "start_time": "2021-10-29T12:08:16.924Z"
   },
   {
    "duration": 12,
    "start_time": "2021-10-29T12:08:42.466Z"
   },
   {
    "duration": 11,
    "start_time": "2021-10-29T12:09:01.970Z"
   },
   {
    "duration": 11,
    "start_time": "2021-10-29T12:09:20.571Z"
   },
   {
    "duration": 267,
    "start_time": "2021-10-29T12:09:58.910Z"
   },
   {
    "duration": 82,
    "start_time": "2021-10-29T12:12:55.733Z"
   },
   {
    "duration": 250,
    "start_time": "2021-10-29T12:13:12.387Z"
   },
   {
    "duration": 329,
    "start_time": "2021-10-29T12:13:34.307Z"
   },
   {
    "duration": 293,
    "start_time": "2021-10-29T12:14:40.963Z"
   },
   {
    "duration": 266,
    "start_time": "2021-10-29T12:15:01.095Z"
   },
   {
    "duration": 3,
    "start_time": "2021-10-29T12:17:02.550Z"
   },
   {
    "duration": 642,
    "start_time": "2021-10-29T12:17:10.612Z"
   },
   {
    "duration": 14,
    "start_time": "2021-10-29T12:17:11.256Z"
   },
   {
    "duration": 11,
    "start_time": "2021-10-29T12:17:11.272Z"
   },
   {
    "duration": 13,
    "start_time": "2021-10-29T12:17:11.285Z"
   },
   {
    "duration": 5,
    "start_time": "2021-10-29T12:17:11.300Z"
   },
   {
    "duration": 10,
    "start_time": "2021-10-29T12:17:11.307Z"
   },
   {
    "duration": 60,
    "start_time": "2021-10-29T12:17:11.319Z"
   },
   {
    "duration": 4,
    "start_time": "2021-10-29T12:17:11.381Z"
   },
   {
    "duration": 19,
    "start_time": "2021-10-29T12:17:11.388Z"
   },
   {
    "duration": 22,
    "start_time": "2021-10-29T12:17:11.410Z"
   },
   {
    "duration": 49,
    "start_time": "2021-10-29T12:17:11.433Z"
   },
   {
    "duration": 35,
    "start_time": "2021-10-29T12:17:11.484Z"
   },
   {
    "duration": 63,
    "start_time": "2021-10-29T12:17:11.520Z"
   },
   {
    "duration": 5,
    "start_time": "2021-10-29T12:17:11.585Z"
   },
   {
    "duration": 7,
    "start_time": "2021-10-29T12:17:11.592Z"
   },
   {
    "duration": 18,
    "start_time": "2021-10-29T12:17:11.600Z"
   },
   {
    "duration": 8,
    "start_time": "2021-10-29T12:17:11.620Z"
   },
   {
    "duration": 35,
    "start_time": "2021-10-29T12:17:11.629Z"
   },
   {
    "duration": 59,
    "start_time": "2021-10-29T12:17:11.666Z"
   },
   {
    "duration": 4,
    "start_time": "2021-10-29T12:17:11.728Z"
   },
   {
    "duration": 10,
    "start_time": "2021-10-29T12:17:11.733Z"
   },
   {
    "duration": 19,
    "start_time": "2021-10-29T12:17:11.745Z"
   },
   {
    "duration": 25,
    "start_time": "2021-10-29T12:17:11.766Z"
   },
   {
    "duration": 8,
    "start_time": "2021-10-29T12:17:11.792Z"
   },
   {
    "duration": 3719,
    "start_time": "2021-10-29T12:17:11.802Z"
   },
   {
    "duration": 6,
    "start_time": "2021-10-29T12:17:15.523Z"
   },
   {
    "duration": 6,
    "start_time": "2021-10-29T12:17:15.533Z"
   },
   {
    "duration": 24,
    "start_time": "2021-10-29T12:17:15.540Z"
   },
   {
    "duration": 39,
    "start_time": "2021-10-29T12:17:15.566Z"
   },
   {
    "duration": 31,
    "start_time": "2021-10-29T12:17:15.606Z"
   },
   {
    "duration": 27,
    "start_time": "2021-10-29T12:17:15.638Z"
   },
   {
    "duration": 11,
    "start_time": "2021-10-29T12:17:15.667Z"
   },
   {
    "duration": 10,
    "start_time": "2021-10-29T12:17:15.680Z"
   },
   {
    "duration": 4,
    "start_time": "2021-10-29T12:17:15.692Z"
   },
   {
    "duration": 23,
    "start_time": "2021-10-29T12:17:15.698Z"
   },
   {
    "duration": 8,
    "start_time": "2021-10-29T12:17:15.723Z"
   },
   {
    "duration": 32,
    "start_time": "2021-10-29T12:17:15.733Z"
   },
   {
    "duration": 8,
    "start_time": "2021-10-29T12:17:15.766Z"
   },
   {
    "duration": 322,
    "start_time": "2021-10-29T12:17:18.491Z"
   },
   {
    "duration": 19,
    "start_time": "2021-10-29T12:20:09.184Z"
   },
   {
    "duration": 17,
    "start_time": "2021-10-29T12:21:05.373Z"
   },
   {
    "duration": 12,
    "start_time": "2021-10-29T12:22:00.852Z"
   },
   {
    "duration": 19,
    "start_time": "2021-10-29T12:26:20.053Z"
   },
   {
    "duration": 18,
    "start_time": "2021-10-29T12:27:46.297Z"
   },
   {
    "duration": 299,
    "start_time": "2021-10-29T12:29:29.488Z"
   },
   {
    "duration": 300,
    "start_time": "2021-10-29T12:30:27.903Z"
   },
   {
    "duration": 18,
    "start_time": "2021-10-29T12:30:34.557Z"
   },
   {
    "duration": 284,
    "start_time": "2021-10-29T12:30:57.311Z"
   },
   {
    "duration": 19,
    "start_time": "2021-10-29T12:31:04.143Z"
   },
   {
    "duration": 265,
    "start_time": "2021-10-29T12:31:52.816Z"
   },
   {
    "duration": 279,
    "start_time": "2021-10-29T12:32:08.373Z"
   },
   {
    "duration": 268,
    "start_time": "2021-10-29T12:32:22.524Z"
   },
   {
    "duration": 19,
    "start_time": "2021-10-29T12:35:21.440Z"
   },
   {
    "duration": 101,
    "start_time": "2021-10-29T12:37:16.017Z"
   },
   {
    "duration": 252,
    "start_time": "2021-10-29T12:37:24.755Z"
   },
   {
    "duration": 17,
    "start_time": "2021-10-29T12:37:57.557Z"
   },
   {
    "duration": 20,
    "start_time": "2021-10-29T13:08:41.626Z"
   },
   {
    "duration": 22,
    "start_time": "2021-10-29T13:09:08.382Z"
   },
   {
    "duration": 259,
    "start_time": "2021-10-29T13:53:17.465Z"
   },
   {
    "duration": 342,
    "start_time": "2021-10-29T13:53:27.670Z"
   },
   {
    "duration": 21,
    "start_time": "2021-10-29T13:53:32.938Z"
   },
   {
    "duration": 510,
    "start_time": "2021-10-29T13:54:25.819Z"
   },
   {
    "duration": 324,
    "start_time": "2021-10-29T13:54:32.114Z"
   },
   {
    "duration": 24,
    "start_time": "2021-10-29T13:54:40.191Z"
   },
   {
    "duration": 309,
    "start_time": "2021-10-29T13:55:25.565Z"
   },
   {
    "duration": 253,
    "start_time": "2021-10-29T13:55:33.061Z"
   },
   {
    "duration": 449,
    "start_time": "2021-10-29T13:55:53.091Z"
   },
   {
    "duration": 390,
    "start_time": "2021-10-29T13:55:59.815Z"
   },
   {
    "duration": 23,
    "start_time": "2021-10-29T13:56:29.357Z"
   },
   {
    "duration": 349,
    "start_time": "2021-10-29T13:56:49.429Z"
   },
   {
    "duration": 245,
    "start_time": "2021-10-29T13:58:05.351Z"
   },
   {
    "duration": 22,
    "start_time": "2021-10-29T14:00:48.710Z"
   },
   {
    "duration": 29,
    "start_time": "2021-10-29T14:02:09.998Z"
   },
   {
    "duration": 20,
    "start_time": "2021-10-29T14:05:24.133Z"
   },
   {
    "duration": 22,
    "start_time": "2021-10-29T14:06:59.612Z"
   },
   {
    "duration": 119,
    "start_time": "2021-10-29T14:07:11.999Z"
   },
   {
    "duration": 22,
    "start_time": "2021-10-29T14:08:42.362Z"
   },
   {
    "duration": 23,
    "start_time": "2021-10-29T14:09:21.607Z"
   },
   {
    "duration": 21,
    "start_time": "2021-10-29T14:09:41.768Z"
   },
   {
    "duration": 22,
    "start_time": "2021-10-29T14:10:06.851Z"
   },
   {
    "duration": 89,
    "start_time": "2021-10-29T14:43:06.077Z"
   },
   {
    "duration": 89,
    "start_time": "2021-10-29T14:44:04.610Z"
   },
   {
    "duration": 13,
    "start_time": "2021-10-29T14:58:04.861Z"
   },
   {
    "duration": 67,
    "start_time": "2021-10-29T14:58:20.972Z"
   },
   {
    "duration": 13,
    "start_time": "2021-10-29T14:58:28.327Z"
   },
   {
    "duration": 10,
    "start_time": "2021-10-29T14:58:33.078Z"
   },
   {
    "duration": 14,
    "start_time": "2021-10-29T14:59:26.750Z"
   },
   {
    "duration": 5,
    "start_time": "2021-10-29T15:02:25.335Z"
   },
   {
    "duration": 4,
    "start_time": "2021-10-29T15:17:13.669Z"
   },
   {
    "duration": 7,
    "start_time": "2021-10-29T15:17:24.290Z"
   },
   {
    "duration": 30,
    "start_time": "2021-10-29T15:17:27.403Z"
   },
   {
    "duration": 5,
    "start_time": "2021-10-29T15:20:26.204Z"
   },
   {
    "duration": 256,
    "start_time": "2021-10-29T15:43:44.215Z"
   },
   {
    "duration": 60,
    "start_time": "2021-10-29T15:44:06.857Z"
   },
   {
    "duration": 12,
    "start_time": "2021-10-29T15:44:06.919Z"
   },
   {
    "duration": 19,
    "start_time": "2021-10-29T15:44:06.933Z"
   },
   {
    "duration": 12,
    "start_time": "2021-10-29T15:44:06.954Z"
   },
   {
    "duration": 3,
    "start_time": "2021-10-29T15:44:06.968Z"
   },
   {
    "duration": 14,
    "start_time": "2021-10-29T15:44:06.973Z"
   },
   {
    "duration": 36,
    "start_time": "2021-10-29T15:44:06.988Z"
   },
   {
    "duration": 3,
    "start_time": "2021-10-29T15:44:07.026Z"
   },
   {
    "duration": 34,
    "start_time": "2021-10-29T15:44:07.032Z"
   },
   {
    "duration": 5,
    "start_time": "2021-10-29T15:44:11.343Z"
   },
   {
    "duration": 15,
    "start_time": "2021-10-29T15:46:57.261Z"
   },
   {
    "duration": 323,
    "start_time": "2021-10-29T15:58:34.425Z"
   },
   {
    "duration": 46,
    "start_time": "2021-10-29T15:58:49.865Z"
   },
   {
    "duration": 33,
    "start_time": "2021-10-29T15:59:51.109Z"
   },
   {
    "duration": 35,
    "start_time": "2021-10-29T16:01:43.865Z"
   },
   {
    "duration": 61,
    "start_time": "2021-10-29T16:02:20.177Z"
   },
   {
    "duration": 14,
    "start_time": "2021-10-29T16:02:20.241Z"
   },
   {
    "duration": 14,
    "start_time": "2021-10-29T16:02:20.258Z"
   },
   {
    "duration": 14,
    "start_time": "2021-10-29T16:02:20.273Z"
   },
   {
    "duration": 4,
    "start_time": "2021-10-29T16:02:20.289Z"
   },
   {
    "duration": 16,
    "start_time": "2021-10-29T16:02:20.294Z"
   },
   {
    "duration": 31,
    "start_time": "2021-10-29T16:02:26.046Z"
   },
   {
    "duration": 30,
    "start_time": "2021-10-29T16:08:14.972Z"
   },
   {
    "duration": 23,
    "start_time": "2021-10-29T16:12:00.425Z"
   },
   {
    "duration": 28,
    "start_time": "2021-10-29T16:12:07.292Z"
   },
   {
    "duration": 1168,
    "start_time": "2021-10-29T16:13:40.522Z"
   },
   {
    "duration": 33,
    "start_time": "2021-10-29T16:16:38.508Z"
   },
   {
    "duration": 62,
    "start_time": "2021-10-29T16:17:23.563Z"
   },
   {
    "duration": 13,
    "start_time": "2021-10-29T16:17:23.627Z"
   },
   {
    "duration": 11,
    "start_time": "2021-10-29T16:17:23.644Z"
   },
   {
    "duration": 14,
    "start_time": "2021-10-29T16:17:23.664Z"
   },
   {
    "duration": 5,
    "start_time": "2021-10-29T16:17:23.680Z"
   },
   {
    "duration": 10,
    "start_time": "2021-10-29T16:17:23.687Z"
   },
   {
    "duration": 33,
    "start_time": "2021-10-29T16:17:31.347Z"
   },
   {
    "duration": 4,
    "start_time": "2021-10-29T16:17:56.102Z"
   },
   {
    "duration": 62,
    "start_time": "2021-10-29T16:18:14.657Z"
   },
   {
    "duration": 12,
    "start_time": "2021-10-29T16:18:14.720Z"
   },
   {
    "duration": 27,
    "start_time": "2021-10-29T16:18:14.735Z"
   },
   {
    "duration": 27,
    "start_time": "2021-10-29T16:18:14.764Z"
   },
   {
    "duration": 16,
    "start_time": "2021-10-29T16:18:14.793Z"
   },
   {
    "duration": 27,
    "start_time": "2021-10-29T16:18:14.811Z"
   },
   {
    "duration": 4,
    "start_time": "2021-10-29T16:18:19.217Z"
   },
   {
    "duration": 11,
    "start_time": "2021-10-29T16:18:28.080Z"
   },
   {
    "duration": 31,
    "start_time": "2021-10-29T16:18:34.156Z"
   },
   {
    "duration": 33,
    "start_time": "2021-10-29T16:22:35.821Z"
   },
   {
    "duration": 4,
    "start_time": "2021-10-29T16:22:41.672Z"
   },
   {
    "duration": 5,
    "start_time": "2021-10-29T16:22:52.026Z"
   },
   {
    "duration": 6,
    "start_time": "2021-10-29T16:22:55.809Z"
   },
   {
    "duration": 17,
    "start_time": "2021-10-29T16:22:58.954Z"
   },
   {
    "duration": 24,
    "start_time": "2021-10-29T16:23:07.267Z"
   },
   {
    "duration": 22,
    "start_time": "2021-10-29T16:23:11.521Z"
   },
   {
    "duration": 48,
    "start_time": "2021-10-29T16:23:16.248Z"
   },
   {
    "duration": 34,
    "start_time": "2021-10-29T16:23:29.632Z"
   },
   {
    "duration": 5,
    "start_time": "2021-10-29T16:23:32.792Z"
   },
   {
    "duration": 5,
    "start_time": "2021-10-29T16:23:39.151Z"
   },
   {
    "duration": 19,
    "start_time": "2021-10-29T16:23:42.218Z"
   },
   {
    "duration": 61,
    "start_time": "2021-10-29T16:23:45.588Z"
   },
   {
    "duration": 12,
    "start_time": "2021-10-29T16:23:45.651Z"
   },
   {
    "duration": 12,
    "start_time": "2021-10-29T16:23:45.666Z"
   },
   {
    "duration": 14,
    "start_time": "2021-10-29T16:23:45.680Z"
   },
   {
    "duration": 4,
    "start_time": "2021-10-29T16:23:45.695Z"
   },
   {
    "duration": 16,
    "start_time": "2021-10-29T16:23:45.700Z"
   },
   {
    "duration": 57,
    "start_time": "2021-10-29T16:23:45.717Z"
   },
   {
    "duration": 5,
    "start_time": "2021-10-29T16:23:45.776Z"
   },
   {
    "duration": 8,
    "start_time": "2021-10-29T16:23:45.784Z"
   },
   {
    "duration": 6,
    "start_time": "2021-10-29T16:23:45.795Z"
   },
   {
    "duration": 17,
    "start_time": "2021-10-29T16:23:45.803Z"
   },
   {
    "duration": 56,
    "start_time": "2021-10-29T16:23:45.823Z"
   },
   {
    "duration": 25,
    "start_time": "2021-10-29T16:23:45.881Z"
   },
   {
    "duration": 59,
    "start_time": "2021-10-29T16:23:45.908Z"
   },
   {
    "duration": 34,
    "start_time": "2021-10-29T16:23:45.970Z"
   },
   {
    "duration": 6,
    "start_time": "2021-10-29T16:23:46.006Z"
   },
   {
    "duration": 7,
    "start_time": "2021-10-29T16:23:46.014Z"
   },
   {
    "duration": 54,
    "start_time": "2021-10-29T16:23:46.023Z"
   },
   {
    "duration": 6,
    "start_time": "2021-10-29T16:23:46.079Z"
   },
   {
    "duration": 6,
    "start_time": "2021-10-29T16:23:46.087Z"
   },
   {
    "duration": 82,
    "start_time": "2021-10-29T16:23:46.094Z"
   },
   {
    "duration": 5,
    "start_time": "2021-10-29T16:23:46.178Z"
   },
   {
    "duration": 6,
    "start_time": "2021-10-29T16:23:46.185Z"
   },
   {
    "duration": 3,
    "start_time": "2021-10-29T16:23:46.193Z"
   },
   {
    "duration": 29,
    "start_time": "2021-10-29T16:23:46.197Z"
   },
   {
    "duration": 49,
    "start_time": "2021-10-29T16:23:46.228Z"
   },
   {
    "duration": 3812,
    "start_time": "2021-10-29T16:23:46.281Z"
   },
   {
    "duration": 5,
    "start_time": "2021-10-29T16:23:50.096Z"
   },
   {
    "duration": 12,
    "start_time": "2021-10-29T16:23:50.103Z"
   },
   {
    "duration": 12,
    "start_time": "2021-10-29T16:23:50.117Z"
   },
   {
    "duration": 43,
    "start_time": "2021-10-29T16:23:50.131Z"
   },
   {
    "duration": 28,
    "start_time": "2021-10-29T16:23:50.176Z"
   },
   {
    "duration": 7,
    "start_time": "2021-10-29T16:23:50.206Z"
   },
   {
    "duration": 11,
    "start_time": "2021-10-29T16:23:50.215Z"
   },
   {
    "duration": 7,
    "start_time": "2021-10-29T16:23:50.228Z"
   },
   {
    "duration": 30,
    "start_time": "2021-10-29T16:23:50.237Z"
   },
   {
    "duration": 29,
    "start_time": "2021-10-29T16:23:50.269Z"
   },
   {
    "duration": 8,
    "start_time": "2021-10-29T16:23:50.300Z"
   },
   {
    "duration": 15,
    "start_time": "2021-10-29T16:23:50.310Z"
   },
   {
    "duration": 47,
    "start_time": "2021-10-29T16:23:50.327Z"
   },
   {
    "duration": 22,
    "start_time": "2021-10-29T16:23:50.376Z"
   },
   {
    "duration": 20,
    "start_time": "2021-10-29T16:23:50.400Z"
   },
   {
    "duration": 44,
    "start_time": "2021-10-29T16:23:50.421Z"
   },
   {
    "duration": 8,
    "start_time": "2021-10-29T16:24:18.001Z"
   },
   {
    "duration": 21,
    "start_time": "2021-10-29T16:24:25.575Z"
   },
   {
    "duration": 8,
    "start_time": "2021-10-29T16:24:33.291Z"
   },
   {
    "duration": 5,
    "start_time": "2021-10-29T16:25:17.739Z"
   },
   {
    "duration": 21,
    "start_time": "2021-10-29T16:25:20.852Z"
   },
   {
    "duration": 8,
    "start_time": "2021-10-29T16:25:24.632Z"
   },
   {
    "duration": 679,
    "start_time": "2021-10-29T16:25:56.146Z"
   },
   {
    "duration": 14,
    "start_time": "2021-10-29T16:25:56.827Z"
   },
   {
    "duration": 11,
    "start_time": "2021-10-29T16:25:56.843Z"
   },
   {
    "duration": 15,
    "start_time": "2021-10-29T16:25:56.856Z"
   },
   {
    "duration": 7,
    "start_time": "2021-10-29T16:25:56.872Z"
   },
   {
    "duration": 10,
    "start_time": "2021-10-29T16:25:56.880Z"
   },
   {
    "duration": 32,
    "start_time": "2021-10-29T16:25:56.892Z"
   },
   {
    "duration": 4,
    "start_time": "2021-10-29T16:25:56.926Z"
   },
   {
    "duration": 35,
    "start_time": "2021-10-29T16:25:56.932Z"
   },
   {
    "duration": 6,
    "start_time": "2021-10-29T16:25:56.970Z"
   },
   {
    "duration": 17,
    "start_time": "2021-10-29T16:25:56.978Z"
   },
   {
    "duration": 22,
    "start_time": "2021-10-29T16:25:56.996Z"
   },
   {
    "duration": 49,
    "start_time": "2021-10-29T16:25:57.020Z"
   },
   {
    "duration": 31,
    "start_time": "2021-10-29T16:25:57.071Z"
   },
   {
    "duration": 32,
    "start_time": "2021-10-29T16:25:57.104Z"
   },
   {
    "duration": 25,
    "start_time": "2021-10-29T16:25:57.138Z"
   },
   {
    "duration": 5,
    "start_time": "2021-10-29T16:25:57.166Z"
   },
   {
    "duration": 19,
    "start_time": "2021-10-29T16:25:57.172Z"
   },
   {
    "duration": 5,
    "start_time": "2021-10-29T16:25:57.193Z"
   },
   {
    "duration": 8,
    "start_time": "2021-10-29T16:25:57.200Z"
   },
   {
    "duration": 90,
    "start_time": "2021-10-29T16:25:57.210Z"
   },
   {
    "duration": 4,
    "start_time": "2021-10-29T16:25:57.301Z"
   },
   {
    "duration": 8,
    "start_time": "2021-10-29T16:25:57.307Z"
   },
   {
    "duration": 3,
    "start_time": "2021-10-29T16:25:57.317Z"
   },
   {
    "duration": 41,
    "start_time": "2021-10-29T16:25:57.322Z"
   },
   {
    "duration": 8,
    "start_time": "2021-10-29T16:25:57.365Z"
   },
   {
    "duration": 3510,
    "start_time": "2021-10-29T16:25:57.376Z"
   },
   {
    "duration": 6,
    "start_time": "2021-10-29T16:26:00.888Z"
   },
   {
    "duration": 26,
    "start_time": "2021-10-29T16:26:00.895Z"
   },
   {
    "duration": 16,
    "start_time": "2021-10-29T16:26:00.922Z"
   },
   {
    "duration": 39,
    "start_time": "2021-10-29T16:26:00.940Z"
   },
   {
    "duration": 27,
    "start_time": "2021-10-29T16:26:00.981Z"
   },
   {
    "duration": 8,
    "start_time": "2021-10-29T16:26:01.010Z"
   },
   {
    "duration": 22,
    "start_time": "2021-10-29T16:26:01.020Z"
   },
   {
    "duration": 17,
    "start_time": "2021-10-29T16:26:01.044Z"
   },
   {
    "duration": 11,
    "start_time": "2021-10-29T16:26:01.063Z"
   },
   {
    "duration": 41,
    "start_time": "2021-10-29T16:26:01.075Z"
   },
   {
    "duration": 26,
    "start_time": "2021-10-29T16:26:01.117Z"
   },
   {
    "duration": 24,
    "start_time": "2021-10-29T16:26:01.145Z"
   },
   {
    "duration": 38,
    "start_time": "2021-10-29T16:26:01.170Z"
   },
   {
    "duration": 23,
    "start_time": "2021-10-29T16:26:01.210Z"
   },
   {
    "duration": 29,
    "start_time": "2021-10-29T16:26:01.235Z"
   },
   {
    "duration": 22,
    "start_time": "2021-10-29T16:26:01.266Z"
   },
   {
    "duration": 6,
    "start_time": "2021-10-29T16:26:13.000Z"
   },
   {
    "duration": 5,
    "start_time": "2021-10-29T16:26:16.065Z"
   },
   {
    "duration": 21,
    "start_time": "2021-10-29T16:26:18.618Z"
   },
   {
    "duration": 5,
    "start_time": "2021-10-29T16:27:24.454Z"
   },
   {
    "duration": 6,
    "start_time": "2021-10-29T16:28:31.751Z"
   },
   {
    "duration": 31,
    "start_time": "2021-10-29T16:28:44.439Z"
   },
   {
    "duration": 63,
    "start_time": "2021-10-29T16:28:53.657Z"
   },
   {
    "duration": 13,
    "start_time": "2021-10-29T16:28:53.723Z"
   },
   {
    "duration": 35,
    "start_time": "2021-10-29T16:28:53.739Z"
   },
   {
    "duration": 16,
    "start_time": "2021-10-29T16:28:53.776Z"
   },
   {
    "duration": 15,
    "start_time": "2021-10-29T16:28:53.794Z"
   },
   {
    "duration": 25,
    "start_time": "2021-10-29T16:28:53.812Z"
   },
   {
    "duration": 42,
    "start_time": "2021-10-29T16:28:53.839Z"
   },
   {
    "duration": 4,
    "start_time": "2021-10-29T16:28:53.885Z"
   },
   {
    "duration": 12,
    "start_time": "2021-10-29T16:28:53.892Z"
   },
   {
    "duration": 17,
    "start_time": "2021-10-29T16:28:53.906Z"
   },
   {
    "duration": 32,
    "start_time": "2021-10-29T16:28:53.924Z"
   },
   {
    "duration": 36,
    "start_time": "2021-10-29T16:28:53.958Z"
   },
   {
    "duration": 30,
    "start_time": "2021-10-29T16:28:53.996Z"
   },
   {
    "duration": 37,
    "start_time": "2021-10-29T16:28:54.028Z"
   },
   {
    "duration": 35,
    "start_time": "2021-10-29T16:28:54.067Z"
   },
   {
    "duration": 5,
    "start_time": "2021-10-29T16:28:54.104Z"
   },
   {
    "duration": 6,
    "start_time": "2021-10-29T16:28:54.111Z"
   },
   {
    "duration": 18,
    "start_time": "2021-10-29T16:28:54.119Z"
   },
   {
    "duration": 5,
    "start_time": "2021-10-29T16:28:54.163Z"
   },
   {
    "duration": 7,
    "start_time": "2021-10-29T16:28:54.171Z"
   },
   {
    "duration": 63,
    "start_time": "2021-10-29T16:28:54.179Z"
   },
   {
    "duration": 22,
    "start_time": "2021-10-29T16:28:54.244Z"
   },
   {
    "duration": 5,
    "start_time": "2021-10-29T16:28:54.269Z"
   },
   {
    "duration": 5,
    "start_time": "2021-10-29T16:28:54.276Z"
   },
   {
    "duration": 24,
    "start_time": "2021-10-29T16:28:54.282Z"
   },
   {
    "duration": 24,
    "start_time": "2021-10-29T16:28:54.307Z"
   },
   {
    "duration": 3619,
    "start_time": "2021-10-29T16:28:54.333Z"
   },
   {
    "duration": 12,
    "start_time": "2021-10-29T16:28:57.954Z"
   },
   {
    "duration": 24,
    "start_time": "2021-10-29T16:28:57.968Z"
   },
   {
    "duration": 7,
    "start_time": "2021-10-29T16:29:01.662Z"
   },
   {
    "duration": 32,
    "start_time": "2021-10-29T16:29:07.508Z"
   },
   {
    "duration": 28,
    "start_time": "2021-10-29T16:29:10.980Z"
   },
   {
    "duration": 10,
    "start_time": "2021-10-29T16:29:14.351Z"
   },
   {
    "duration": 10,
    "start_time": "2021-10-29T16:29:17.436Z"
   },
   {
    "duration": 7,
    "start_time": "2021-10-29T16:29:20.264Z"
   },
   {
    "duration": 4,
    "start_time": "2021-10-29T16:29:25.069Z"
   },
   {
    "duration": 24,
    "start_time": "2021-10-29T16:29:28.089Z"
   },
   {
    "duration": 177,
    "start_time": "2021-10-29T16:32:07.237Z"
   },
   {
    "duration": 4,
    "start_time": "2021-10-29T16:32:15.936Z"
   },
   {
    "duration": 21,
    "start_time": "2021-10-29T16:32:25.820Z"
   },
   {
    "duration": 61,
    "start_time": "2021-10-29T16:32:36.346Z"
   },
   {
    "duration": 12,
    "start_time": "2021-10-29T16:32:36.408Z"
   },
   {
    "duration": 43,
    "start_time": "2021-10-29T16:32:36.422Z"
   },
   {
    "duration": 16,
    "start_time": "2021-10-29T16:32:36.467Z"
   },
   {
    "duration": 4,
    "start_time": "2021-10-29T16:32:36.484Z"
   },
   {
    "duration": 10,
    "start_time": "2021-10-29T16:32:36.490Z"
   },
   {
    "duration": 153,
    "start_time": "2021-10-29T16:32:36.501Z"
   },
   {
    "duration": 8,
    "start_time": "2021-10-29T16:32:36.655Z"
   },
   {
    "duration": 9,
    "start_time": "2021-10-29T16:32:36.665Z"
   },
   {
    "duration": 4,
    "start_time": "2021-10-29T16:32:36.677Z"
   },
   {
    "duration": 21,
    "start_time": "2021-10-29T16:32:36.683Z"
   },
   {
    "duration": 23,
    "start_time": "2021-10-29T16:32:36.706Z"
   },
   {
    "duration": 49,
    "start_time": "2021-10-29T16:32:36.731Z"
   },
   {
    "duration": 37,
    "start_time": "2021-10-29T16:32:36.782Z"
   },
   {
    "duration": 52,
    "start_time": "2021-10-29T16:32:36.821Z"
   },
   {
    "duration": 5,
    "start_time": "2021-10-29T16:32:36.875Z"
   },
   {
    "duration": 19,
    "start_time": "2021-10-29T16:32:36.882Z"
   },
   {
    "duration": 26,
    "start_time": "2021-10-29T16:32:36.902Z"
   },
   {
    "duration": 4,
    "start_time": "2021-10-29T16:32:36.930Z"
   },
   {
    "duration": 28,
    "start_time": "2021-10-29T16:32:36.935Z"
   },
   {
    "duration": 68,
    "start_time": "2021-10-29T16:32:36.965Z"
   },
   {
    "duration": 5,
    "start_time": "2021-10-29T16:32:37.035Z"
   },
   {
    "duration": 23,
    "start_time": "2021-10-29T16:32:37.041Z"
   },
   {
    "duration": 8,
    "start_time": "2021-10-29T16:32:37.066Z"
   },
   {
    "duration": 39,
    "start_time": "2021-10-29T16:32:37.076Z"
   },
   {
    "duration": 25,
    "start_time": "2021-10-29T16:32:37.117Z"
   },
   {
    "duration": 3593,
    "start_time": "2021-10-29T16:32:37.146Z"
   },
   {
    "duration": 5,
    "start_time": "2021-10-29T16:32:40.741Z"
   },
   {
    "duration": 10,
    "start_time": "2021-10-29T16:32:40.764Z"
   },
   {
    "duration": 27,
    "start_time": "2021-10-29T16:32:40.776Z"
   },
   {
    "duration": 47,
    "start_time": "2021-10-29T16:32:40.805Z"
   },
   {
    "duration": 27,
    "start_time": "2021-10-29T16:32:40.853Z"
   },
   {
    "duration": 8,
    "start_time": "2021-10-29T16:32:40.882Z"
   },
   {
    "duration": 31,
    "start_time": "2021-10-29T16:32:40.891Z"
   },
   {
    "duration": 32,
    "start_time": "2021-10-29T16:32:40.924Z"
   },
   {
    "duration": 15,
    "start_time": "2021-10-29T16:32:40.958Z"
   },
   {
    "duration": 27,
    "start_time": "2021-10-29T16:32:40.975Z"
   },
   {
    "duration": 22,
    "start_time": "2021-10-29T16:32:47.549Z"
   },
   {
    "duration": 8,
    "start_time": "2021-10-29T16:32:55.147Z"
   },
   {
    "duration": 5,
    "start_time": "2021-10-29T16:35:36.938Z"
   },
   {
    "duration": 5,
    "start_time": "2021-10-29T16:35:39.609Z"
   },
   {
    "duration": 5,
    "start_time": "2021-10-29T16:35:44.858Z"
   },
   {
    "duration": 19,
    "start_time": "2021-10-29T16:35:47.833Z"
   },
   {
    "duration": 25,
    "start_time": "2021-10-29T16:36:04.856Z"
   },
   {
    "duration": 25,
    "start_time": "2021-10-29T16:36:08.085Z"
   },
   {
    "duration": 60,
    "start_time": "2021-10-29T16:36:22.624Z"
   },
   {
    "duration": 13,
    "start_time": "2021-10-29T16:36:22.686Z"
   },
   {
    "duration": 13,
    "start_time": "2021-10-29T16:36:22.701Z"
   },
   {
    "duration": 18,
    "start_time": "2021-10-29T16:36:22.716Z"
   },
   {
    "duration": 29,
    "start_time": "2021-10-29T16:36:22.736Z"
   },
   {
    "duration": 14,
    "start_time": "2021-10-29T16:36:22.767Z"
   },
   {
    "duration": 139,
    "start_time": "2021-10-29T16:36:22.784Z"
   },
   {
    "duration": 4,
    "start_time": "2021-10-29T16:36:22.924Z"
   },
   {
    "duration": 9,
    "start_time": "2021-10-29T16:36:22.930Z"
   },
   {
    "duration": 7,
    "start_time": "2021-10-29T16:36:22.940Z"
   },
   {
    "duration": 28,
    "start_time": "2021-10-29T16:36:22.948Z"
   },
   {
    "duration": 22,
    "start_time": "2021-10-29T16:36:22.978Z"
   },
   {
    "duration": 25,
    "start_time": "2021-10-29T16:36:25.638Z"
   },
   {
    "duration": 37,
    "start_time": "2021-10-29T16:36:30.898Z"
   },
   {
    "duration": 35,
    "start_time": "2021-10-29T16:36:37.162Z"
   },
   {
    "duration": 6,
    "start_time": "2021-10-29T16:37:30.967Z"
   },
   {
    "duration": 6,
    "start_time": "2021-10-29T16:37:48.301Z"
   },
   {
    "duration": 22,
    "start_time": "2021-10-29T16:42:38.779Z"
   },
   {
    "duration": 30,
    "start_time": "2021-10-29T16:55:02.922Z"
   },
   {
    "duration": 8,
    "start_time": "2021-10-29T16:56:16.699Z"
   },
   {
    "duration": 408,
    "start_time": "2021-10-29T16:58:38.203Z"
   },
   {
    "duration": 7,
    "start_time": "2021-10-29T16:59:00.242Z"
   },
   {
    "duration": 6,
    "start_time": "2021-10-29T16:59:14.503Z"
   },
   {
    "duration": 5,
    "start_time": "2021-10-29T17:08:02.375Z"
   },
   {
    "duration": 68,
    "start_time": "2021-10-29T17:08:11.015Z"
   },
   {
    "duration": 13,
    "start_time": "2021-10-29T17:08:11.085Z"
   },
   {
    "duration": 15,
    "start_time": "2021-10-29T17:08:11.101Z"
   },
   {
    "duration": 14,
    "start_time": "2021-10-29T17:08:11.118Z"
   },
   {
    "duration": 4,
    "start_time": "2021-10-29T17:08:11.164Z"
   },
   {
    "duration": 14,
    "start_time": "2021-10-29T17:08:11.170Z"
   },
   {
    "duration": 143,
    "start_time": "2021-10-29T17:08:11.185Z"
   },
   {
    "duration": 4,
    "start_time": "2021-10-29T17:08:11.330Z"
   },
   {
    "duration": 5,
    "start_time": "2021-10-29T17:08:11.337Z"
   },
   {
    "duration": 23,
    "start_time": "2021-10-29T17:08:11.345Z"
   },
   {
    "duration": 18,
    "start_time": "2021-10-29T17:08:11.370Z"
   },
   {
    "duration": 22,
    "start_time": "2021-10-29T17:08:11.390Z"
   },
   {
    "duration": 51,
    "start_time": "2021-10-29T17:08:11.414Z"
   },
   {
    "duration": 35,
    "start_time": "2021-10-29T17:08:11.467Z"
   },
   {
    "duration": 36,
    "start_time": "2021-10-29T17:08:11.504Z"
   },
   {
    "duration": 6,
    "start_time": "2021-10-29T17:08:11.563Z"
   },
   {
    "duration": 10,
    "start_time": "2021-10-29T17:08:11.571Z"
   },
   {
    "duration": 19,
    "start_time": "2021-10-29T17:08:11.582Z"
   },
   {
    "duration": 5,
    "start_time": "2021-10-29T17:08:11.603Z"
   },
   {
    "duration": 10,
    "start_time": "2021-10-29T17:08:11.609Z"
   },
   {
    "duration": 90,
    "start_time": "2021-10-29T17:08:11.621Z"
   },
   {
    "duration": 5,
    "start_time": "2021-10-29T17:08:11.713Z"
   },
   {
    "duration": 7,
    "start_time": "2021-10-29T17:08:11.720Z"
   },
   {
    "duration": 43,
    "start_time": "2021-10-29T17:08:11.729Z"
   },
   {
    "duration": 26,
    "start_time": "2021-10-29T17:08:11.775Z"
   },
   {
    "duration": 3952,
    "start_time": "2021-10-29T17:08:11.802Z"
   },
   {
    "duration": 6,
    "start_time": "2021-10-29T17:08:15.766Z"
   },
   {
    "duration": 11,
    "start_time": "2021-10-29T17:08:15.774Z"
   },
   {
    "duration": 10,
    "start_time": "2021-10-29T17:08:15.787Z"
   },
   {
    "duration": 39,
    "start_time": "2021-10-29T17:08:15.799Z"
   },
   {
    "duration": 46,
    "start_time": "2021-10-29T17:08:15.839Z"
   },
   {
    "duration": 10,
    "start_time": "2021-10-29T17:08:15.887Z"
   },
   {
    "duration": 14,
    "start_time": "2021-10-29T17:08:15.898Z"
   },
   {
    "duration": 11,
    "start_time": "2021-10-29T17:08:15.914Z"
   },
   {
    "duration": 5,
    "start_time": "2021-10-29T17:08:19.719Z"
   },
   {
    "duration": 21,
    "start_time": "2021-10-29T17:08:46.189Z"
   },
   {
    "duration": 24,
    "start_time": "2021-10-29T17:37:45.718Z"
   },
   {
    "duration": 839,
    "start_time": "2021-10-30T09:21:03.064Z"
   },
   {
    "duration": 20,
    "start_time": "2021-10-30T09:21:03.907Z"
   },
   {
    "duration": 15,
    "start_time": "2021-10-30T09:21:03.930Z"
   },
   {
    "duration": 44,
    "start_time": "2021-10-30T09:21:03.948Z"
   },
   {
    "duration": 5,
    "start_time": "2021-10-30T09:21:03.994Z"
   },
   {
    "duration": 11,
    "start_time": "2021-10-30T09:21:04.002Z"
   },
   {
    "duration": 216,
    "start_time": "2021-10-30T09:21:04.015Z"
   },
   {
    "duration": 5,
    "start_time": "2021-10-30T09:21:04.235Z"
   },
   {
    "duration": 6,
    "start_time": "2021-10-30T09:21:04.243Z"
   },
   {
    "duration": 10,
    "start_time": "2021-10-30T09:21:04.251Z"
   },
   {
    "duration": 26,
    "start_time": "2021-10-30T09:21:04.283Z"
   },
   {
    "duration": 33,
    "start_time": "2021-10-30T09:21:04.311Z"
   },
   {
    "duration": 65,
    "start_time": "2021-10-30T09:21:04.347Z"
   },
   {
    "duration": 67,
    "start_time": "2021-10-30T09:21:04.415Z"
   },
   {
    "duration": 52,
    "start_time": "2021-10-30T09:21:04.485Z"
   },
   {
    "duration": 6,
    "start_time": "2021-10-30T09:21:04.540Z"
   },
   {
    "duration": 33,
    "start_time": "2021-10-30T09:21:04.549Z"
   },
   {
    "duration": 23,
    "start_time": "2021-10-30T09:21:04.585Z"
   },
   {
    "duration": 7,
    "start_time": "2021-10-30T09:21:04.611Z"
   },
   {
    "duration": 7,
    "start_time": "2021-10-30T09:21:04.620Z"
   },
   {
    "duration": 118,
    "start_time": "2021-10-30T09:21:04.630Z"
   },
   {
    "duration": 6,
    "start_time": "2021-10-30T09:21:04.751Z"
   },
   {
    "duration": 8,
    "start_time": "2021-10-30T09:21:04.782Z"
   },
   {
    "duration": 32,
    "start_time": "2021-10-30T09:21:04.793Z"
   },
   {
    "duration": 11,
    "start_time": "2021-10-30T09:21:04.827Z"
   },
   {
    "duration": 4657,
    "start_time": "2021-10-30T09:21:04.841Z"
   },
   {
    "duration": 7,
    "start_time": "2021-10-30T09:21:09.500Z"
   },
   {
    "duration": 5,
    "start_time": "2021-10-30T09:21:09.510Z"
   },
   {
    "duration": 11,
    "start_time": "2021-10-30T09:21:09.517Z"
   },
   {
    "duration": 83,
    "start_time": "2021-10-30T09:21:09.530Z"
   },
   {
    "duration": 38,
    "start_time": "2021-10-30T09:21:09.615Z"
   },
   {
    "duration": 28,
    "start_time": "2021-10-30T09:21:09.656Z"
   },
   {
    "duration": 13,
    "start_time": "2021-10-30T09:21:09.686Z"
   },
   {
    "duration": 10,
    "start_time": "2021-10-30T09:21:09.701Z"
   },
   {
    "duration": 5,
    "start_time": "2021-10-30T09:21:09.713Z"
   },
   {
    "duration": 69,
    "start_time": "2021-10-30T09:21:09.720Z"
   },
   {
    "duration": 9,
    "start_time": "2021-10-30T09:21:09.792Z"
   },
   {
    "duration": 12,
    "start_time": "2021-10-30T09:21:09.803Z"
   },
   {
    "duration": 38,
    "start_time": "2021-10-30T09:21:09.818Z"
   },
   {
    "duration": 29,
    "start_time": "2021-10-30T09:21:09.883Z"
   },
   {
    "duration": 28,
    "start_time": "2021-10-30T09:21:09.914Z"
   },
   {
    "duration": 57,
    "start_time": "2021-10-30T09:21:09.944Z"
   },
   {
    "duration": 267,
    "start_time": "2021-11-02T13:23:16.156Z"
   },
   {
    "duration": 666,
    "start_time": "2021-11-02T13:23:46.443Z"
   },
   {
    "duration": 14,
    "start_time": "2021-11-02T13:23:47.111Z"
   },
   {
    "duration": 10,
    "start_time": "2021-11-02T13:23:47.127Z"
   },
   {
    "duration": 35,
    "start_time": "2021-11-02T13:23:47.139Z"
   },
   {
    "duration": 4,
    "start_time": "2021-11-02T13:23:47.176Z"
   },
   {
    "duration": 12,
    "start_time": "2021-11-02T13:23:47.182Z"
   },
   {
    "duration": 135,
    "start_time": "2021-11-02T13:23:47.196Z"
   },
   {
    "duration": 3,
    "start_time": "2021-11-02T13:23:47.333Z"
   },
   {
    "duration": 9,
    "start_time": "2021-11-02T13:23:47.339Z"
   },
   {
    "duration": 6,
    "start_time": "2021-11-02T13:23:47.350Z"
   },
   {
    "duration": 21,
    "start_time": "2021-11-02T13:23:47.357Z"
   },
   {
    "duration": 21,
    "start_time": "2021-11-02T13:23:47.380Z"
   },
   {
    "duration": 27,
    "start_time": "2021-11-02T13:23:47.402Z"
   },
   {
    "duration": 65,
    "start_time": "2021-11-02T13:23:47.430Z"
   },
   {
    "duration": 34,
    "start_time": "2021-11-02T13:23:47.497Z"
   },
   {
    "duration": 5,
    "start_time": "2021-11-02T13:23:47.533Z"
   },
   {
    "duration": 4,
    "start_time": "2021-11-02T13:23:47.564Z"
   },
   {
    "duration": 17,
    "start_time": "2021-11-02T13:23:47.570Z"
   },
   {
    "duration": 5,
    "start_time": "2021-11-02T13:23:47.588Z"
   },
   {
    "duration": 8,
    "start_time": "2021-11-02T13:23:47.594Z"
   },
   {
    "duration": 91,
    "start_time": "2021-11-02T13:23:47.603Z"
   },
   {
    "duration": 4,
    "start_time": "2021-11-02T13:23:47.696Z"
   },
   {
    "duration": 7,
    "start_time": "2021-11-02T13:23:47.702Z"
   },
   {
    "duration": 21,
    "start_time": "2021-11-02T13:23:47.710Z"
   },
   {
    "duration": 7,
    "start_time": "2021-11-02T13:23:47.733Z"
   },
   {
    "duration": 3567,
    "start_time": "2021-11-02T13:23:47.741Z"
   },
   {
    "duration": 5,
    "start_time": "2021-11-02T13:23:51.311Z"
   },
   {
    "duration": 14,
    "start_time": "2021-11-02T13:23:51.318Z"
   },
   {
    "duration": 217,
    "start_time": "2021-11-02T13:23:54.921Z"
   },
   {
    "duration": 231,
    "start_time": "2021-11-02T13:24:18.188Z"
   },
   {
    "duration": 48,
    "start_time": "2021-11-02T13:25:35.362Z"
   },
   {
    "duration": 57,
    "start_time": "2021-11-02T13:25:49.931Z"
   },
   {
    "duration": 244,
    "start_time": "2021-11-02T13:26:10.107Z"
   },
   {
    "duration": 234,
    "start_time": "2021-11-02T13:27:17.079Z"
   },
   {
    "duration": 23,
    "start_time": "2021-11-02T13:27:33.935Z"
   },
   {
    "duration": 23,
    "start_time": "2021-11-02T13:29:10.336Z"
   },
   {
    "duration": 2792,
    "start_time": "2021-11-02T13:29:38.013Z"
   },
   {
    "duration": 33,
    "start_time": "2021-11-02T13:29:50.370Z"
   },
   {
    "duration": 50,
    "start_time": "2021-11-02T13:29:57.465Z"
   },
   {
    "duration": 234,
    "start_time": "2021-11-02T13:30:18.570Z"
   },
   {
    "duration": 272,
    "start_time": "2021-11-02T13:30:49.830Z"
   },
   {
    "duration": 332,
    "start_time": "2021-11-02T13:31:58.274Z"
   },
   {
    "duration": 262,
    "start_time": "2021-11-02T13:36:06.652Z"
   },
   {
    "duration": 380,
    "start_time": "2021-11-02T13:36:32.686Z"
   },
   {
    "duration": 37,
    "start_time": "2021-11-02T13:37:03.374Z"
   },
   {
    "duration": 30,
    "start_time": "2021-11-02T13:48:21.771Z"
   },
   {
    "duration": 232,
    "start_time": "2021-11-02T13:48:34.400Z"
   },
   {
    "duration": 311,
    "start_time": "2021-11-02T13:49:25.335Z"
   },
   {
    "duration": 34,
    "start_time": "2021-11-02T13:51:55.758Z"
   },
   {
    "duration": 248,
    "start_time": "2021-11-02T13:52:21.804Z"
   }
  ],
  "kernelspec": {
   "display_name": "Python 3.8.9 64-bit",
   "language": "python",
   "name": "python3"
  },
  "language_info": {
   "codemirror_mode": {
    "name": "ipython",
    "version": 3
   },
   "file_extension": ".py",
   "mimetype": "text/x-python",
   "name": "python",
   "nbconvert_exporter": "python",
   "pygments_lexer": "ipython3",
   "version": "3.8.9"
  },
  "toc": {
   "base_numbering": 1,
   "nav_menu": {},
   "number_sections": true,
   "sideBar": true,
   "skip_h1_title": true,
   "title_cell": "Table of Contents",
   "title_sidebar": "Contents",
   "toc_cell": false,
   "toc_position": {},
   "toc_section_display": true,
   "toc_window_display": false
  },
  "vscode": {
   "interpreter": {
    "hash": "31f2aee4e71d21fbe5cf8b01ff0e069b9275f58929596ceb00d14d90e3e16cd6"
   }
  }
 },
 "nbformat": 4,
 "nbformat_minor": 2
}
