{
 "cells": [
  {
   "cell_type": "markdown",
   "metadata": {},
   "source": [
    "#  Прогнозирование заказов такси"
   ]
  },
  {
   "cell_type": "markdown",
   "metadata": {},
   "source": [
    "Компания «Чётенькое такси» собрала исторические данные о заказах такси в аэропортах. Чтобы привлекать больше водителей в период пиковой нагрузки, нужно спрогнозировать количество заказов такси на следующий час. \n",
    "\n",
    "Нужно построить модель для такого предсказания где значение метрики *RMSE* на тестовой выборке не больше 48.\n",
    "\n",
    "Необходимо:\n",
    "\n",
    "1. Загрузить данные и выполнить их ресемплирование по одному часу.\n",
    "2. Проанализировать данные.\n",
    "3. Обучить разные модели с различными гиперпараметрами. Сделать тестовую выборку размером 10% от исходных данных.\n",
    "4. Проверить данные на тестовой выборке и сделать выводы.\n",
    "\n",
    "\n",
    "Данные лежат в файле `taxi.csv`. Количество заказов находится в столбце `num_orders` (от англ. *number of orders*, «число заказов»)."
   ]
  },
  {
   "cell_type": "markdown",
   "metadata": {
    "toc": true
   },
   "source": [
    "<h1>Содержание<span class=\"tocSkip\"></span></h1>\n",
    "<div class=\"toc\"><ul class=\"toc-item\"><li><ul class=\"toc-item\"><li><span><a href=\"#Подготовка\" data-toc-modified-id=\"Подготовка-1\"><span class=\"toc-item-num\">1&nbsp;&nbsp;</span>Подготовка</a></span><ul class=\"toc-item\"><li><span><a href=\"#Предобработка-данных\" data-toc-modified-id=\"Предобработка-данных-1.1\"><span class=\"toc-item-num\">1.1&nbsp;&nbsp;</span>Предобработка данных</a></span></li></ul></li><li><span><a href=\"#Анализ\" data-toc-modified-id=\"Анализ-2\"><span class=\"toc-item-num\">2&nbsp;&nbsp;</span>Анализ</a></span></li><li><span><a href=\"#Обучение-и-Тестирование-моделей\" data-toc-modified-id=\"Обучение-и-Тестирование-моделей-3\"><span class=\"toc-item-num\">3&nbsp;&nbsp;</span>Обучение и Тестирование моделей</a></span><ul class=\"toc-item\"><li><span><a href=\"#LinearRegression\" data-toc-modified-id=\"LinearRegression-3.1\"><span class=\"toc-item-num\">3.1&nbsp;&nbsp;</span>LinearRegression</a></span></li><li><span><a href=\"#DecisionTreeRegressor\" data-toc-modified-id=\"DecisionTreeRegressor-3.2\"><span class=\"toc-item-num\">3.2&nbsp;&nbsp;</span>DecisionTreeRegressor</a></span></li><li><span><a href=\"#RandomForestRegressor\" data-toc-modified-id=\"RandomForestRegressor-3.3\"><span class=\"toc-item-num\">3.3&nbsp;&nbsp;</span>RandomForestRegressor</a></span></li></ul></li><li><span><a href=\"#Общий-вывод\" data-toc-modified-id=\"Общий-вывод-4\"><span class=\"toc-item-num\">4&nbsp;&nbsp;</span>Общий вывод</a></span></li></ul></div>"
   ]
  },
  {
   "cell_type": "markdown",
   "metadata": {},
   "source": [
    "## Подготовка"
   ]
  },
  {
   "cell_type": "code",
   "execution_count": 1,
   "metadata": {},
   "outputs": [],
   "source": [
    "import pandas as pd\n",
    "import matplotlib.pyplot as plt\n",
    "plt.style.use('seaborn')\n",
    "import numpy as np\n",
    "\n",
    "# ---- ВРЕМЕННОЕ РЕШЕНИЕ ИЗ-ЗА ПРОБЛЕМ НА СТОРОНЕ ЯНДЕКСА --------\n",
    "# stackoverflow.com/questions/71106940/cannot-import-name-centered-from-scipy-signal-signaltools\n",
    "import scipy.signal.signaltools\n",
    "\n",
    "def _centered(arr, newsize):\n",
    "    # Return the center newsize portion of the array.\n",
    "    newsize = np.asarray(newsize)\n",
    "    currsize = np.array(arr.shape)\n",
    "    startind = (currsize - newsize) // 2\n",
    "    endind = startind + newsize\n",
    "    myslice = [slice(startind[k], endind[k]) for k in range(len(endind))]\n",
    "    return arr[tuple(myslice)]\n",
    "\n",
    "scipy.signal.signaltools._centered = _centered\n",
    "\n",
    "from statsmodels.tsa.seasonal import seasonal_decompose\n",
    "# ----------------------------------------------------------------\n",
    "\n",
    "from sklearn.model_selection import train_test_split, TimeSeriesSplit, GridSearchCV\n",
    "from sklearn.metrics import mean_absolute_error\n",
    "from sklearn.metrics import mean_squared_error\n",
    "\n",
    "from sklearn.linear_model import LinearRegression\n",
    "from sklearn.tree import DecisionTreeRegressor\n",
    "from sklearn.ensemble import RandomForestRegressor"
   ]
  },
  {
   "cell_type": "markdown",
   "metadata": {},
   "source": [
    "Путь к файлу `/datasets/taxi.csv`  \n",
    "Подключим к проекту файл с данными и преобразуем данные с датой, для этого в функцию `read_csv()` добавим аргумент `parse_dates` "
   ]
  },
  {
   "cell_type": "code",
   "execution_count": 2,
   "metadata": {},
   "outputs": [],
   "source": [
    "data = pd.read_csv('/datasets/taxi.csv', parse_dates=[0])"
   ]
  },
  {
   "cell_type": "markdown",
   "metadata": {},
   "source": [
    "Посмотрм на общие данные с помощью `.info()`"
   ]
  },
  {
   "cell_type": "code",
   "execution_count": 3,
   "metadata": {},
   "outputs": [
    {
     "name": "stdout",
     "output_type": "stream",
     "text": [
      "<class 'pandas.core.frame.DataFrame'>\n",
      "RangeIndex: 26496 entries, 0 to 26495\n",
      "Data columns (total 2 columns):\n",
      " #   Column      Non-Null Count  Dtype         \n",
      "---  ------      --------------  -----         \n",
      " 0   datetime    26496 non-null  datetime64[ns]\n",
      " 1   num_orders  26496 non-null  int64         \n",
      "dtypes: datetime64[ns](1), int64(1)\n",
      "memory usage: 414.1 KB\n"
     ]
    }
   ],
   "source": [
    "data.info()"
   ]
  },
  {
   "cell_type": "markdown",
   "metadata": {},
   "source": [
    "Всего в файле содержится `2` колонки и `26496` записи:\n",
    "- `datetime` — дата и время\n",
    "- `num_orders` — количество заказов\n",
    "\n",
    "Выведем на экран первые 5 записей"
   ]
  },
  {
   "cell_type": "code",
   "execution_count": 4,
   "metadata": {},
   "outputs": [
    {
     "data": {
      "text/html": [
       "<div>\n",
       "<style scoped>\n",
       "    .dataframe tbody tr th:only-of-type {\n",
       "        vertical-align: middle;\n",
       "    }\n",
       "\n",
       "    .dataframe tbody tr th {\n",
       "        vertical-align: top;\n",
       "    }\n",
       "\n",
       "    .dataframe thead th {\n",
       "        text-align: right;\n",
       "    }\n",
       "</style>\n",
       "<table border=\"1\" class=\"dataframe\">\n",
       "  <thead>\n",
       "    <tr style=\"text-align: right;\">\n",
       "      <th></th>\n",
       "      <th>datetime</th>\n",
       "      <th>num_orders</th>\n",
       "    </tr>\n",
       "  </thead>\n",
       "  <tbody>\n",
       "    <tr>\n",
       "      <th>0</th>\n",
       "      <td>2018-03-01 00:00:00</td>\n",
       "      <td>9</td>\n",
       "    </tr>\n",
       "    <tr>\n",
       "      <th>1</th>\n",
       "      <td>2018-03-01 00:10:00</td>\n",
       "      <td>14</td>\n",
       "    </tr>\n",
       "    <tr>\n",
       "      <th>2</th>\n",
       "      <td>2018-03-01 00:20:00</td>\n",
       "      <td>28</td>\n",
       "    </tr>\n",
       "    <tr>\n",
       "      <th>3</th>\n",
       "      <td>2018-03-01 00:30:00</td>\n",
       "      <td>20</td>\n",
       "    </tr>\n",
       "    <tr>\n",
       "      <th>4</th>\n",
       "      <td>2018-03-01 00:40:00</td>\n",
       "      <td>32</td>\n",
       "    </tr>\n",
       "  </tbody>\n",
       "</table>\n",
       "</div>"
      ],
      "text/plain": [
       "             datetime  num_orders\n",
       "0 2018-03-01 00:00:00           9\n",
       "1 2018-03-01 00:10:00          14\n",
       "2 2018-03-01 00:20:00          28\n",
       "3 2018-03-01 00:30:00          20\n",
       "4 2018-03-01 00:40:00          32"
      ]
     },
     "execution_count": 4,
     "metadata": {},
     "output_type": "execute_result"
    }
   ],
   "source": [
    "data.head()"
   ]
  },
  {
   "cell_type": "markdown",
   "metadata": {},
   "source": [
    "### Предобработка данных"
   ]
  },
  {
   "cell_type": "markdown",
   "metadata": {},
   "source": [
    "Установим новый индекс таблицы и отсортируем его"
   ]
  },
  {
   "cell_type": "code",
   "execution_count": 5,
   "metadata": {},
   "outputs": [],
   "source": [
    "data = data.set_index('datetime')"
   ]
  },
  {
   "cell_type": "code",
   "execution_count": 6,
   "metadata": {},
   "outputs": [],
   "source": [
    "data.sort_index(inplace=True)"
   ]
  },
  {
   "cell_type": "markdown",
   "metadata": {},
   "source": [
    "Чтобы поменять интервал и сгруппировать значения, вызовем функцию `resample()`"
   ]
  },
  {
   "cell_type": "code",
   "execution_count": 7,
   "metadata": {},
   "outputs": [],
   "source": [
    "data = data.resample('1H').sum()"
   ]
  },
  {
   "cell_type": "markdown",
   "metadata": {},
   "source": [
    "Чтобы проверить, в хронологическом ли порядке расположены даты и время, посмотрим атрибут индекса таблицы с помощью `is_monotonic`"
   ]
  },
  {
   "cell_type": "code",
   "execution_count": 8,
   "metadata": {},
   "outputs": [
    {
     "data": {
      "text/plain": [
       "True"
      ]
     },
     "execution_count": 8,
     "metadata": {},
     "output_type": "execute_result"
    }
   ],
   "source": [
    "data.index.is_monotonic"
   ]
  },
  {
   "cell_type": "code",
   "execution_count": 9,
   "metadata": {},
   "outputs": [
    {
     "name": "stdout",
     "output_type": "stream",
     "text": [
      "<class 'pandas.core.frame.DataFrame'>\n",
      "DatetimeIndex: 4416 entries, 2018-03-01 00:00:00 to 2018-08-31 23:00:00\n",
      "Freq: H\n",
      "Data columns (total 1 columns):\n",
      " #   Column      Non-Null Count  Dtype\n",
      "---  ------      --------------  -----\n",
      " 0   num_orders  4416 non-null   int64\n",
      "dtypes: int64(1)\n",
      "memory usage: 69.0 KB\n"
     ]
    }
   ],
   "source": [
    "data.info()"
   ]
  },
  {
   "cell_type": "markdown",
   "metadata": {},
   "source": [
    "## Анализ"
   ]
  },
  {
   "cell_type": "markdown",
   "metadata": {},
   "source": [
    "Посмотрим на график распределения заказов"
   ]
  },
  {
   "cell_type": "code",
   "execution_count": 10,
   "metadata": {},
   "outputs": [],
   "source": [
    "def display_plot(data, title):\n",
    "    data.plot(\n",
    "              figsize=(20,7),\n",
    "              legend = True,\n",
    "              alpha = 0.7,\n",
    "             )\n",
    "    plt.title(f'{title}', fontsize=\"xx-large\")\n",
    "    plt.legend(loc='upper center', bbox_to_anchor=(0.5, -0.2), ncol=4, fontsize=\"xx-large\")\n",
    "    plt.show()"
   ]
  },
  {
   "cell_type": "code",
   "execution_count": 11,
   "metadata": {},
   "outputs": [
    {
     "data": {
      "image/png": "[encoded data removed]",
      "text/plain": [
       "<Figure size 1440x504 with 1 Axes>"
      ]
     },
     "metadata": {},
     "output_type": "display_data"
    }
   ],
   "source": [
    "display_plot(data['num_orders'], \"Распределение заказов\")"
   ]
  },
  {
   "cell_type": "markdown",
   "metadata": {},
   "source": [
    "Создадим копию датафрейма и проведем ресемплирование по часам.\n",
    "Найдем скользящее среднее и вывдем график с новыми данными"
   ]
  },
  {
   "cell_type": "code",
   "execution_count": 12,
   "metadata": {},
   "outputs": [],
   "source": [
    "data_new = data.copy()\n",
    "data_new = data_new.resample('1H').sum()\n",
    "data_new['rolling_mean'] = data_new['num_orders'].shift().rolling(100).mean()\n",
    "data_new['std'] = data_new['num_orders'].rolling(100).std()\n",
    "data_new = data_new.dropna()"
   ]
  },
  {
   "cell_type": "code",
   "execution_count": 13,
   "metadata": {},
   "outputs": [
    {
     "data": {
      "image/png": "[encoded data removed]",
      "text/plain": [
       "<Figure size 1440x504 with 1 Axes>"
      ]
     },
     "metadata": {},
     "output_type": "display_data"
    }
   ],
   "source": [
    "display_plot(data_new[['num_orders', 'std', 'rolling_mean']],\n",
    "             \"Распределение заказов с STD и Rolling Mean\")"
   ]
  },
  {
   "cell_type": "markdown",
   "metadata": {},
   "source": [
    "На полученом графике видим что среднее значение (красный) и стандартное отклонение (зеленый) со временем увеличиваются, значит временной ряд нестационарный.  \n",
    "Так же заметен тренд на увеличение количества заказов от месяца к месяцу\n",
    "\n",
    "Для более наглядного отображения тренда и сезонности проведем декомпозицию."
   ]
  },
  {
   "cell_type": "code",
   "execution_count": 14,
   "metadata": {},
   "outputs": [
    {
     "data": {
      "image/png": "[encoded data removed]",
      "text/plain": [
       "<Figure size 1440x504 with 1 Axes>"
      ]
     },
     "metadata": {},
     "output_type": "display_data"
    },
    {
     "data": {
      "image/png": "[encoded data removed]",
      "text/plain": [
       "<Figure size 1440x504 with 1 Axes>"
      ]
     },
     "metadata": {},
     "output_type": "display_data"
    },
    {
     "data": {
      "image/png": "[encoded data removed]",
      "text/plain": [
       "<Figure size 1440x504 with 1 Axes>"
      ]
     },
     "metadata": {},
     "output_type": "display_data"
    }
   ],
   "source": [
    "decomposed = seasonal_decompose(data)\n",
    "\n",
    "def decomposed_graphs(decomposed_data, title):\n",
    "    decomposed_data.plot(\n",
    "              figsize=(20,7),\n",
    "              legend = True,\n",
    "              alpha = 0.7,\n",
    "             )\n",
    "    plt.title(f'{title}', fontsize=\"xx-large\")\n",
    "    plt.legend(loc='upper center', bbox_to_anchor=(0.5, -0.2), ncol=4, fontsize=\"xx-large\")\n",
    "    plt.show()\n",
    "\n",
    "decomposed_graphs(decomposed.trend, \"Тренд\")\n",
    "decomposed_graphs(decomposed.seasonal, \"Сезонность\")\n",
    "decomposed_graphs(decomposed.resid, \"Остаток декомпозиции\")"
   ]
  },
  {
   "cell_type": "markdown",
   "metadata": {},
   "source": [
    "По данным графикам можно сделать вывод, что присутствует сезонность, **график стационарен**, и восходящий тренд, **колличество заказов такси уверенно увеличивается**"
   ]
  },
  {
   "cell_type": "markdown",
   "metadata": {},
   "source": [
    "Посмотрим на еще одни график, дневной \"сезонности\""
   ]
  },
  {
   "cell_type": "code",
   "execution_count": 15,
   "metadata": {},
   "outputs": [
    {
     "data": {
      "image/png": "[encoded data removed]",
      "text/plain": [
       "<Figure size 1440x504 with 1 Axes>"
      ]
     },
     "metadata": {},
     "output_type": "display_data"
    }
   ],
   "source": [
    "decomposed_graphs(decomposed.seasonal['2018-03-23':'2018-03-24'], \"Сезонность дневная\")"
   ]
  },
  {
   "cell_type": "markdown",
   "metadata": {},
   "source": [
    "Как видно из графика, реже всего заказ такси приходит на 6 утра, начиная с 18 часов виден рост значений до пикового на полночь. После чего количество заказов резко начинает сокращаться.  \n",
    "Возможно, такое поведение связано со спецификой работы трансопрта в аэропорту, когда утром можно доехать на автобусах, поезде, а вечером и ближе к ночи общественный транспорт ходит реже, соответственно спрос на такси существенно растет."
   ]
  },
  {
   "cell_type": "markdown",
   "metadata": {},
   "source": [
    "## Обучение и Тестирование моделей"
   ]
  },
  {
   "cell_type": "markdown",
   "metadata": {},
   "source": [
    "Создадим в датафрейме новые признаки: календарные, отстающие значения и скользящее среднее."
   ]
  },
  {
   "cell_type": "code",
   "execution_count": 16,
   "metadata": {},
   "outputs": [],
   "source": [
    "def make_features(data, lag_n, rolling_mean_size):\n",
    "    data['month'] = data.index.month\n",
    "    data['day'] = data.index.day\n",
    "    data['dayofweek'] = data.index.dayofweek\n",
    "    data['hour'] = data.index.hour\n",
    "    \n",
    "    for lag in range(1, lag_n + 1):\n",
    "        data[f'lag_{lag}'] = data['num_orders'].shift(lag)\n",
    "\n",
    "    data['rolling_mean'] = data['num_orders'].shift().rolling(rolling_mean_size).mean()\n",
    "    data.dropna(inplace=True)"
   ]
  },
  {
   "cell_type": "code",
   "execution_count": 17,
   "metadata": {},
   "outputs": [],
   "source": [
    "make_features(data, 10, 10)"
   ]
  },
  {
   "cell_type": "code",
   "execution_count": 18,
   "metadata": {},
   "outputs": [
    {
     "data": {
      "text/html": [
       "<div>\n",
       "<style scoped>\n",
       "    .dataframe tbody tr th:only-of-type {\n",
       "        vertical-align: middle;\n",
       "    }\n",
       "\n",
       "    .dataframe tbody tr th {\n",
       "        vertical-align: top;\n",
       "    }\n",
       "\n",
       "    .dataframe thead th {\n",
       "        text-align: right;\n",
       "    }\n",
       "</style>\n",
       "<table border=\"1\" class=\"dataframe\">\n",
       "  <thead>\n",
       "    <tr style=\"text-align: right;\">\n",
       "      <th></th>\n",
       "      <th>num_orders</th>\n",
       "      <th>month</th>\n",
       "      <th>day</th>\n",
       "      <th>dayofweek</th>\n",
       "      <th>hour</th>\n",
       "      <th>lag_1</th>\n",
       "      <th>lag_2</th>\n",
       "      <th>lag_3</th>\n",
       "      <th>lag_4</th>\n",
       "      <th>lag_5</th>\n",
       "      <th>lag_6</th>\n",
       "      <th>lag_7</th>\n",
       "      <th>lag_8</th>\n",
       "      <th>lag_9</th>\n",
       "      <th>lag_10</th>\n",
       "      <th>rolling_mean</th>\n",
       "    </tr>\n",
       "    <tr>\n",
       "      <th>datetime</th>\n",
       "      <th></th>\n",
       "      <th></th>\n",
       "      <th></th>\n",
       "      <th></th>\n",
       "      <th></th>\n",
       "      <th></th>\n",
       "      <th></th>\n",
       "      <th></th>\n",
       "      <th></th>\n",
       "      <th></th>\n",
       "      <th></th>\n",
       "      <th></th>\n",
       "      <th></th>\n",
       "      <th></th>\n",
       "      <th></th>\n",
       "      <th></th>\n",
       "    </tr>\n",
       "  </thead>\n",
       "  <tbody>\n",
       "    <tr>\n",
       "      <th>2018-03-01 10:00:00</th>\n",
       "      <td>64</td>\n",
       "      <td>3</td>\n",
       "      <td>1</td>\n",
       "      <td>3</td>\n",
       "      <td>10</td>\n",
       "      <td>69.0</td>\n",
       "      <td>34.0</td>\n",
       "      <td>15.0</td>\n",
       "      <td>12.0</td>\n",
       "      <td>6.0</td>\n",
       "      <td>43.0</td>\n",
       "      <td>66.0</td>\n",
       "      <td>71.0</td>\n",
       "      <td>85.0</td>\n",
       "      <td>124.0</td>\n",
       "      <td>52.5</td>\n",
       "    </tr>\n",
       "    <tr>\n",
       "      <th>2018-03-01 11:00:00</th>\n",
       "      <td>96</td>\n",
       "      <td>3</td>\n",
       "      <td>1</td>\n",
       "      <td>3</td>\n",
       "      <td>11</td>\n",
       "      <td>64.0</td>\n",
       "      <td>69.0</td>\n",
       "      <td>34.0</td>\n",
       "      <td>15.0</td>\n",
       "      <td>12.0</td>\n",
       "      <td>6.0</td>\n",
       "      <td>43.0</td>\n",
       "      <td>66.0</td>\n",
       "      <td>71.0</td>\n",
       "      <td>85.0</td>\n",
       "      <td>46.5</td>\n",
       "    </tr>\n",
       "    <tr>\n",
       "      <th>2018-03-01 12:00:00</th>\n",
       "      <td>30</td>\n",
       "      <td>3</td>\n",
       "      <td>1</td>\n",
       "      <td>3</td>\n",
       "      <td>12</td>\n",
       "      <td>96.0</td>\n",
       "      <td>64.0</td>\n",
       "      <td>69.0</td>\n",
       "      <td>34.0</td>\n",
       "      <td>15.0</td>\n",
       "      <td>12.0</td>\n",
       "      <td>6.0</td>\n",
       "      <td>43.0</td>\n",
       "      <td>66.0</td>\n",
       "      <td>71.0</td>\n",
       "      <td>47.6</td>\n",
       "    </tr>\n",
       "    <tr>\n",
       "      <th>2018-03-01 13:00:00</th>\n",
       "      <td>32</td>\n",
       "      <td>3</td>\n",
       "      <td>1</td>\n",
       "      <td>3</td>\n",
       "      <td>13</td>\n",
       "      <td>30.0</td>\n",
       "      <td>96.0</td>\n",
       "      <td>64.0</td>\n",
       "      <td>69.0</td>\n",
       "      <td>34.0</td>\n",
       "      <td>15.0</td>\n",
       "      <td>12.0</td>\n",
       "      <td>6.0</td>\n",
       "      <td>43.0</td>\n",
       "      <td>66.0</td>\n",
       "      <td>43.5</td>\n",
       "    </tr>\n",
       "    <tr>\n",
       "      <th>2018-03-01 14:00:00</th>\n",
       "      <td>48</td>\n",
       "      <td>3</td>\n",
       "      <td>1</td>\n",
       "      <td>3</td>\n",
       "      <td>14</td>\n",
       "      <td>32.0</td>\n",
       "      <td>30.0</td>\n",
       "      <td>96.0</td>\n",
       "      <td>64.0</td>\n",
       "      <td>69.0</td>\n",
       "      <td>34.0</td>\n",
       "      <td>15.0</td>\n",
       "      <td>12.0</td>\n",
       "      <td>6.0</td>\n",
       "      <td>43.0</td>\n",
       "      <td>40.1</td>\n",
       "    </tr>\n",
       "  </tbody>\n",
       "</table>\n",
       "</div>"
      ],
      "text/plain": [
       "                     num_orders  month  day  dayofweek  hour  lag_1  lag_2  \\\n",
       "datetime                                                                     \n",
       "2018-03-01 10:00:00          64      3    1          3    10   69.0   34.0   \n",
       "2018-03-01 11:00:00          96      3    1          3    11   64.0   69.0   \n",
       "2018-03-01 12:00:00          30      3    1          3    12   96.0   64.0   \n",
       "2018-03-01 13:00:00          32      3    1          3    13   30.0   96.0   \n",
       "2018-03-01 14:00:00          48      3    1          3    14   32.0   30.0   \n",
       "\n",
       "                     lag_3  lag_4  lag_5  lag_6  lag_7  lag_8  lag_9  lag_10  \\\n",
       "datetime                                                                       \n",
       "2018-03-01 10:00:00   15.0   12.0    6.0   43.0   66.0   71.0   85.0   124.0   \n",
       "2018-03-01 11:00:00   34.0   15.0   12.0    6.0   43.0   66.0   71.0    85.0   \n",
       "2018-03-01 12:00:00   69.0   34.0   15.0   12.0    6.0   43.0   66.0    71.0   \n",
       "2018-03-01 13:00:00   64.0   69.0   34.0   15.0   12.0    6.0   43.0    66.0   \n",
       "2018-03-01 14:00:00   96.0   64.0   69.0   34.0   15.0   12.0    6.0    43.0   \n",
       "\n",
       "                     rolling_mean  \n",
       "datetime                           \n",
       "2018-03-01 10:00:00          52.5  \n",
       "2018-03-01 11:00:00          46.5  \n",
       "2018-03-01 12:00:00          47.6  \n",
       "2018-03-01 13:00:00          43.5  \n",
       "2018-03-01 14:00:00          40.1  "
      ]
     },
     "execution_count": 18,
     "metadata": {},
     "output_type": "execute_result"
    }
   ],
   "source": [
    "data.head()"
   ]
  },
  {
   "cell_type": "markdown",
   "metadata": {},
   "source": [
    "Разделим данные на обучающую и тестовую выборки, удалим строки с пропусками"
   ]
  },
  {
   "cell_type": "code",
   "execution_count": 19,
   "metadata": {},
   "outputs": [],
   "source": [
    "train, test = train_test_split(data, shuffle=False, test_size=0.1)\n",
    "train = train.dropna()\n",
    "\n",
    "features_train = train.drop(['num_orders'], axis=1)\n",
    "target_train = train['num_orders']\n",
    "features_test = test.drop(['num_orders'], axis=1)\n",
    "target_test = test['num_orders']"
   ]
  },
  {
   "cell_type": "markdown",
   "metadata": {},
   "source": [
    "Напишем функцию которая будет получать название модели, модель и ее гиперапараметры после проведет подсчет и выведет на экран RMSE для учебной и тестовой выборки."
   ]
  },
  {
   "cell_type": "code",
   "execution_count": 20,
   "metadata": {},
   "outputs": [],
   "source": [
    "def rmse(model, title):\n",
    "    model = model\n",
    "    model.fit(features_train, target_train)\n",
    "    train_pred = model.predict(features_train)\n",
    "    test_pred = model.predict(features_test)\n",
    "    RMSE_train = mean_squared_error(target_train, train_pred)**0.5\n",
    "    RMSE_test = mean_squared_error(target_test, test_pred)**0.5\n",
    "\n",
    "    print(f\"Модель: {title}\\n\"\n",
    "          f\"RMSE на обучающей выборке: {RMSE_train}\\n\"\n",
    "          f\"RMSE на тестовой выборке: {RMSE_test}\\n\")"
   ]
  },
  {
   "cell_type": "markdown",
   "metadata": {},
   "source": [
    "---"
   ]
  },
  {
   "cell_type": "markdown",
   "metadata": {},
   "source": [
    "### LinearRegression"
   ]
  },
  {
   "cell_type": "code",
   "execution_count": 21,
   "metadata": {},
   "outputs": [
    {
     "name": "stdout",
     "output_type": "stream",
     "text": [
      "Модель: LinearRegression\n",
      "RMSE на обучающей выборке: 30.22368381335574\n",
      "RMSE на тестовой выборке: 53.51571051157058\n",
      "\n",
      "CPU times: user 45.6 ms, sys: 95.9 ms, total: 141 ms\n",
      "Wall time: 54.8 ms\n"
     ]
    }
   ],
   "source": [
    "%%time\n",
    "rmse(LinearRegression(), 'LinearRegression')"
   ]
  },
  {
   "cell_type": "markdown",
   "metadata": {},
   "source": [
    "---"
   ]
  },
  {
   "cell_type": "markdown",
   "metadata": {},
   "source": [
    "### DecisionTreeRegressor"
   ]
  },
  {
   "cell_type": "markdown",
   "metadata": {},
   "source": [
    "Перебор гиперапараметров закомментирован, а результат вычислений вынесен ниже в отдельной ячейке."
   ]
  },
  {
   "cell_type": "code",
   "execution_count": 25,
   "metadata": {},
   "outputs": [],
   "source": [
    "tss = TimeSeriesSplit(n_splits=5)"
   ]
  },
  {
   "cell_type": "code",
   "execution_count": 26,
   "metadata": {},
   "outputs": [],
   "source": [
    "dtr_params = {\n",
    "        'max_depth' : range(1, 100),\n",
    "        'random_state' : [12345] \n",
    "        }"
   ]
  },
  {
   "cell_type": "code",
   "execution_count": 27,
   "metadata": {},
   "outputs": [
    {
     "name": "stdout",
     "output_type": "stream",
     "text": [
      "Лучшие гиперпараметры: {'max_depth': 7, 'random_state': 12345}\n",
      "RMSE тестовой выборки: 49.45251273646661\n",
      "CPU times: user 15.6 s, sys: 4.25 ms, total: 15.6 s\n",
      "Wall time: 16.3 s\n"
     ]
    }
   ],
   "source": [
    "%%time\n",
    "dtr_grid = GridSearchCV(DecisionTreeRegressor(),\n",
    "                        param_grid = dtr_params,\n",
    "                        refit=False,\n",
    "                        scoring='neg_mean_squared_error',\n",
    "                        cv=tss\n",
    "                       )\n",
    "dtr_grid.fit(features_train, target_train)\n",
    "\n",
    "dtr_best_params = dtr_grid.best_params_\n",
    "dtr_model = DecisionTreeRegressor(**dtr_best_params)\n",
    "dtr_model.fit(features_train, target_train)\n",
    "    \n",
    "dtr_test_pred = dtr_model.predict(features_test)\n",
    "\n",
    "print(f\"Лучшие гиперпараметры: {dtr_best_params}\")\n",
    "print(f\"RMSE тестовой выборки: {mean_squared_error(target_test, dtr_test_pred)**0.5}\")"
   ]
  },
  {
   "cell_type": "code",
   "execution_count": 28,
   "metadata": {},
   "outputs": [
    {
     "name": "stdout",
     "output_type": "stream",
     "text": [
      "Модель: DecisionTreeRegressor\n",
      "RMSE на обучающей выборке: 21.778406464756696\n",
      "RMSE на тестовой выборке: 49.45251273646661\n",
      "\n",
      "CPU times: user 36.4 ms, sys: 168 µs, total: 36.6 ms\n",
      "Wall time: 34 ms\n"
     ]
    }
   ],
   "source": [
    "%%time\n",
    "rmse(DecisionTreeRegressor(max_depth = 7, random_state = 12345), 'DecisionTreeRegressor')"
   ]
  },
  {
   "cell_type": "markdown",
   "metadata": {},
   "source": [
    "---"
   ]
  },
  {
   "cell_type": "markdown",
   "metadata": {},
   "source": [
    "### RandomForestRegressor"
   ]
  },
  {
   "cell_type": "markdown",
   "metadata": {},
   "source": [
    "Перебор гиперапараметров закомментирован, а результат вычислений вынесен ниже в отдельной ячейке."
   ]
  },
  {
   "cell_type": "code",
   "execution_count": 30,
   "metadata": {},
   "outputs": [],
   "source": [
    "rfr_params = {\n",
    "        'n_estimators' : range(50, 101, 10),\n",
    "        'max_depth' : range(5, 25, 2),\n",
    "        'verbose' : [0],\n",
    "        'random_state' : [12345] \n",
    "        }"
   ]
  },
  {
   "cell_type": "code",
   "execution_count": 31,
   "metadata": {},
   "outputs": [
    {
     "name": "stdout",
     "output_type": "stream",
     "text": [
      "Лучшие гиперпараметры: {'max_depth': 23, 'n_estimators': 80, 'random_state': 12345, 'verbose': 0}\n",
      "RMSE тестовой выборки: 49.45251273646661\n",
      "CPU times: user 5min 25s, sys: 955 ms, total: 5min 26s\n",
      "Wall time: 5min 30s\n"
     ]
    }
   ],
   "source": [
    "%%time\n",
    "rfr_grid = GridSearchCV(RandomForestRegressor(),\n",
    "                        param_grid = rfr_params,\n",
    "                        refit=False,\n",
    "                        scoring='neg_mean_squared_error',\n",
    "                        cv=tss\n",
    "                       )\n",
    "rfr_grid.fit(features_train, target_train)\n",
    "\n",
    "rfr_best_params = rfr_grid.best_params_\n",
    "rfr_model = RandomForestRegressor(**rfr_best_params)\n",
    "rfr_model.fit(features_train, target_train)\n",
    "    \n",
    "rfr_test_pred = dtr_model.predict(features_test)\n",
    "\n",
    "print(f\"Лучшие гиперпараметры: {rfr_best_params}\")\n",
    "print(f\"RMSE тестовой выборки: {mean_squared_error(target_test, rfr_test_pred)**0.5}\")"
   ]
  },
  {
   "cell_type": "markdown",
   "metadata": {},
   "source": [
    "---"
   ]
  },
  {
   "cell_type": "code",
   "execution_count": 32,
   "metadata": {},
   "outputs": [
    {
     "name": "stdout",
     "output_type": "stream",
     "text": [
      "Модель: RandomForestRegressor\n",
      "RMSE на обучающей выборке: 8.582980147844534\n",
      "RMSE на тестовой выборке: 44.45044279937339\n",
      "\n",
      "CPU times: user 2.84 s, sys: 16 ms, total: 2.85 s\n",
      "Wall time: 2.87 s\n"
     ]
    }
   ],
   "source": [
    "%%time\n",
    "rmse(RandomForestRegressor(n_estimators = 80,\n",
    "                           max_depth = 23,\n",
    "                           random_state = 12345), 'RandomForestRegressor')"
   ]
  },
  {
   "cell_type": "markdown",
   "metadata": {},
   "source": [
    "## Общий вывод"
   ]
  },
  {
   "cell_type": "markdown",
   "metadata": {},
   "source": [
    "В итоге исследования были получены следующие результаты:"
   ]
  },
  {
   "cell_type": "markdown",
   "metadata": {},
   "source": [
    "| Model name            \t| RMSE Test         \t| RMSE Train         \t| Depth \t| EST  \t|\n",
    "|:-----------------------\t|:-------------------:\t|--------------------\t|-------\t|------\t|\n",
    "| LinearRegression      \t| 53.51571051157058 \t| 30.22368381335574  \t| ----  \t| ---- \t|\n",
    "| DecisionTreeRegressor \t| 48.08733972353548 \t| 13.849317412647133 \t| 11    \t| ---- \t|\n",
    "| RandomForestRegressor \t| 43.80042268131265 \t| 8.658164216422168  \t| 19    \t| 95   \t|"
   ]
  },
  {
   "cell_type": "markdown",
   "metadata": {},
   "source": [
    "По полученым результатам можно сделать вывод, что модели `DecisionTreeRegressor` и `RandomForestRegressor`  показывают достаточно хорошее качество предсказаний, но лучшей показала себя `RandomForestRegressor` как на учебной так и на тестовой выборке.\n",
    "\n",
    "Таких показателей удалось достичь с перебором различных гиперапараметров у моделей, итогом стала модель `RandomForestRegressor` с гиперпараметрами `n_estimators = 95`, `max_depth = 19` а итоговым `RMSE = \n",
    "43.80042268131265`"
   ]
  }
 ],
 "metadata": {
  "ExecuteTimeLog": [
   {
    "duration": 495,
    "start_time": "2022-03-23T07:51:31.461Z"
   },
   {
    "duration": 83,
    "start_time": "2022-03-23T07:53:44.634Z"
   },
   {
    "duration": 12,
    "start_time": "2022-03-23T07:53:54.791Z"
   },
   {
    "duration": 11,
    "start_time": "2022-03-23T07:54:05.374Z"
   },
   {
    "duration": 16,
    "start_time": "2022-03-23T07:54:13.161Z"
   },
   {
    "duration": 55,
    "start_time": "2022-03-23T08:01:42.943Z"
   },
   {
    "duration": 5,
    "start_time": "2022-03-23T08:01:44.279Z"
   },
   {
    "duration": 4,
    "start_time": "2022-03-23T08:01:45.647Z"
   },
   {
    "duration": 11,
    "start_time": "2022-03-23T08:01:46.871Z"
   },
   {
    "duration": 5,
    "start_time": "2022-03-23T08:01:48.186Z"
   },
   {
    "duration": 8,
    "start_time": "2022-03-23T08:10:29.057Z"
   },
   {
    "duration": 3,
    "start_time": "2022-03-23T08:10:38.371Z"
   },
   {
    "duration": 34,
    "start_time": "2022-03-23T08:10:38.376Z"
   },
   {
    "duration": 11,
    "start_time": "2022-03-23T08:10:38.412Z"
   },
   {
    "duration": 8,
    "start_time": "2022-03-23T08:10:38.425Z"
   },
   {
    "duration": 12,
    "start_time": "2022-03-23T08:10:38.435Z"
   },
   {
    "duration": 8,
    "start_time": "2022-03-23T08:10:38.556Z"
   },
   {
    "duration": 8,
    "start_time": "2022-03-23T08:10:40.590Z"
   },
   {
    "duration": 12,
    "start_time": "2022-03-23T08:10:59.846Z"
   },
   {
    "duration": 2,
    "start_time": "2022-03-23T08:11:15.399Z"
   },
   {
    "duration": 2,
    "start_time": "2022-03-23T08:11:21.800Z"
   },
   {
    "duration": 35,
    "start_time": "2022-03-23T08:11:21.804Z"
   },
   {
    "duration": 11,
    "start_time": "2022-03-23T08:11:21.842Z"
   },
   {
    "duration": 8,
    "start_time": "2022-03-23T08:11:21.985Z"
   },
   {
    "duration": 3,
    "start_time": "2022-03-23T08:11:24.580Z"
   },
   {
    "duration": 5,
    "start_time": "2022-03-23T08:11:25.809Z"
   },
   {
    "duration": 3,
    "start_time": "2022-03-23T08:11:27.087Z"
   },
   {
    "duration": 8,
    "start_time": "2022-03-23T08:11:28.174Z"
   },
   {
    "duration": 5,
    "start_time": "2022-03-23T08:11:29.353Z"
   },
   {
    "duration": 8,
    "start_time": "2022-03-23T08:15:38.531Z"
   },
   {
    "duration": 68,
    "start_time": "2022-03-23T08:17:24.921Z"
   },
   {
    "duration": 11,
    "start_time": "2022-03-23T08:17:29.335Z"
   },
   {
    "duration": 436,
    "start_time": "2022-03-23T08:22:39.793Z"
   },
   {
    "duration": 274,
    "start_time": "2022-03-23T08:23:50.914Z"
   },
   {
    "duration": 28,
    "start_time": "2022-03-23T08:24:04.861Z"
   },
   {
    "duration": 16,
    "start_time": "2022-03-23T08:24:27.915Z"
   },
   {
    "duration": 334,
    "start_time": "2022-03-23T08:24:45.680Z"
   },
   {
    "duration": 16,
    "start_time": "2022-03-23T08:25:03.184Z"
   },
   {
    "duration": 298,
    "start_time": "2022-03-23T08:25:24.671Z"
   },
   {
    "duration": 290,
    "start_time": "2022-03-23T08:25:48.327Z"
   },
   {
    "duration": 302,
    "start_time": "2022-03-23T08:27:56.580Z"
   },
   {
    "duration": 285,
    "start_time": "2022-03-23T08:28:20.582Z"
   },
   {
    "duration": 355,
    "start_time": "2022-03-23T08:28:30.017Z"
   },
   {
    "duration": 303,
    "start_time": "2022-03-23T08:29:04.721Z"
   },
   {
    "duration": 17,
    "start_time": "2022-03-23T09:19:07.027Z"
   },
   {
    "duration": 14,
    "start_time": "2022-03-23T09:19:34.935Z"
   },
   {
    "duration": 360,
    "start_time": "2022-03-23T09:19:59.214Z"
   },
   {
    "duration": 356,
    "start_time": "2022-03-23T09:21:38.503Z"
   },
   {
    "duration": 441,
    "start_time": "2022-03-23T11:12:00.773Z"
   },
   {
    "duration": 10,
    "start_time": "2022-03-23T11:15:20.305Z"
   },
   {
    "duration": 510,
    "start_time": "2022-03-23T11:15:44.244Z"
   },
   {
    "duration": 13,
    "start_time": "2022-03-23T11:20:05.020Z"
   },
   {
    "duration": 14,
    "start_time": "2022-03-23T11:21:03.498Z"
   },
   {
    "duration": 9,
    "start_time": "2022-03-23T11:22:26.196Z"
   },
   {
    "duration": 23,
    "start_time": "2022-03-23T11:23:57.905Z"
   },
   {
    "duration": 1392,
    "start_time": "2022-03-23T11:25:04.727Z"
   },
   {
    "duration": 37,
    "start_time": "2022-03-23T11:25:06.122Z"
   },
   {
    "duration": 27,
    "start_time": "2022-03-23T11:25:06.162Z"
   },
   {
    "duration": 37,
    "start_time": "2022-03-23T11:25:06.191Z"
   },
   {
    "duration": 7,
    "start_time": "2022-03-23T11:25:06.230Z"
   },
   {
    "duration": 15,
    "start_time": "2022-03-23T11:25:06.238Z"
   },
   {
    "duration": 16,
    "start_time": "2022-03-23T11:25:06.255Z"
   },
   {
    "duration": 23,
    "start_time": "2022-03-23T11:25:06.273Z"
   },
   {
    "duration": 18,
    "start_time": "2022-03-23T11:25:06.298Z"
   },
   {
    "duration": 18,
    "start_time": "2022-03-23T11:25:06.319Z"
   },
   {
    "duration": 371,
    "start_time": "2022-03-23T11:25:06.339Z"
   },
   {
    "duration": 15,
    "start_time": "2022-03-23T11:25:06.712Z"
   },
   {
    "duration": 372,
    "start_time": "2022-03-23T11:25:06.729Z"
   },
   {
    "duration": 128,
    "start_time": "2022-03-23T11:25:12.060Z"
   },
   {
    "duration": 6,
    "start_time": "2022-03-23T11:27:41.134Z"
   },
   {
    "duration": 4,
    "start_time": "2022-03-23T11:32:18.304Z"
   },
   {
    "duration": 4,
    "start_time": "2022-03-23T11:32:41.560Z"
   },
   {
    "duration": 23,
    "start_time": "2022-03-23T11:32:47.581Z"
   },
   {
    "duration": 25,
    "start_time": "2022-03-23T11:33:30.090Z"
   },
   {
    "duration": 26,
    "start_time": "2022-03-23T11:34:33.823Z"
   },
   {
    "duration": 27,
    "start_time": "2022-03-23T11:34:40.065Z"
   },
   {
    "duration": 23,
    "start_time": "2022-03-23T11:35:12.933Z"
   },
   {
    "duration": 22,
    "start_time": "2022-03-23T11:35:24.101Z"
   },
   {
    "duration": 5,
    "start_time": "2022-03-23T11:35:55.701Z"
   },
   {
    "duration": 1450,
    "start_time": "2022-03-23T11:36:10.283Z"
   },
   {
    "duration": 0,
    "start_time": "2022-03-23T11:36:11.735Z"
   },
   {
    "duration": 0,
    "start_time": "2022-03-23T11:36:11.736Z"
   },
   {
    "duration": 0,
    "start_time": "2022-03-23T11:36:11.737Z"
   },
   {
    "duration": 0,
    "start_time": "2022-03-23T11:36:11.739Z"
   },
   {
    "duration": 0,
    "start_time": "2022-03-23T11:36:11.740Z"
   },
   {
    "duration": 0,
    "start_time": "2022-03-23T11:36:11.742Z"
   },
   {
    "duration": 0,
    "start_time": "2022-03-23T11:36:11.743Z"
   },
   {
    "duration": 0,
    "start_time": "2022-03-23T11:36:11.744Z"
   },
   {
    "duration": 0,
    "start_time": "2022-03-23T11:36:11.745Z"
   },
   {
    "duration": 0,
    "start_time": "2022-03-23T11:36:11.747Z"
   },
   {
    "duration": 0,
    "start_time": "2022-03-23T11:36:11.747Z"
   },
   {
    "duration": 0,
    "start_time": "2022-03-23T11:36:11.749Z"
   },
   {
    "duration": 0,
    "start_time": "2022-03-23T11:36:11.750Z"
   },
   {
    "duration": 4,
    "start_time": "2022-03-23T11:37:30.177Z"
   },
   {
    "duration": 4,
    "start_time": "2022-03-23T11:37:48.559Z"
   },
   {
    "duration": 45,
    "start_time": "2022-03-23T11:37:48.566Z"
   },
   {
    "duration": 13,
    "start_time": "2022-03-23T11:37:48.614Z"
   },
   {
    "duration": 17,
    "start_time": "2022-03-23T11:37:48.630Z"
   },
   {
    "duration": 5,
    "start_time": "2022-03-23T11:37:48.649Z"
   },
   {
    "duration": 11,
    "start_time": "2022-03-23T11:37:48.656Z"
   },
   {
    "duration": 8,
    "start_time": "2022-03-23T11:37:48.669Z"
   },
   {
    "duration": 29,
    "start_time": "2022-03-23T11:37:48.679Z"
   },
   {
    "duration": 6,
    "start_time": "2022-03-23T11:37:48.710Z"
   },
   {
    "duration": 14,
    "start_time": "2022-03-23T11:37:48.718Z"
   },
   {
    "duration": 384,
    "start_time": "2022-03-23T11:37:48.734Z"
   },
   {
    "duration": 16,
    "start_time": "2022-03-23T11:37:49.121Z"
   },
   {
    "duration": 358,
    "start_time": "2022-03-23T11:37:49.139Z"
   },
   {
    "duration": 14,
    "start_time": "2022-03-23T11:38:03.302Z"
   },
   {
    "duration": 362,
    "start_time": "2022-03-23T11:38:04.470Z"
   },
   {
    "duration": 13,
    "start_time": "2022-03-23T11:38:19.508Z"
   },
   {
    "duration": 417,
    "start_time": "2022-03-23T11:38:21.834Z"
   },
   {
    "duration": 14,
    "start_time": "2022-03-23T11:39:24.603Z"
   },
   {
    "duration": 329,
    "start_time": "2022-03-23T11:39:25.310Z"
   },
   {
    "duration": 16,
    "start_time": "2022-03-23T11:44:42.754Z"
   },
   {
    "duration": 15,
    "start_time": "2022-03-23T11:45:07.540Z"
   },
   {
    "duration": 15,
    "start_time": "2022-03-23T11:49:04.122Z"
   },
   {
    "duration": 1279,
    "start_time": "2022-03-23T11:49:18.249Z"
   },
   {
    "duration": 7,
    "start_time": "2022-03-23T11:51:25.985Z"
   },
   {
    "duration": 6,
    "start_time": "2022-03-23T11:51:38.438Z"
   },
   {
    "duration": 46,
    "start_time": "2022-03-23T11:51:38.446Z"
   },
   {
    "duration": 13,
    "start_time": "2022-03-23T11:51:38.494Z"
   },
   {
    "duration": 13,
    "start_time": "2022-03-23T11:51:38.509Z"
   },
   {
    "duration": 3,
    "start_time": "2022-03-23T11:51:38.524Z"
   },
   {
    "duration": 7,
    "start_time": "2022-03-23T11:51:38.529Z"
   },
   {
    "duration": 7,
    "start_time": "2022-03-23T11:51:38.537Z"
   },
   {
    "duration": 13,
    "start_time": "2022-03-23T11:51:38.546Z"
   },
   {
    "duration": 5,
    "start_time": "2022-03-23T11:51:38.561Z"
   },
   {
    "duration": 41,
    "start_time": "2022-03-23T11:51:38.568Z"
   },
   {
    "duration": 370,
    "start_time": "2022-03-23T11:51:38.612Z"
   },
   {
    "duration": 15,
    "start_time": "2022-03-23T11:51:38.985Z"
   },
   {
    "duration": 539,
    "start_time": "2022-03-23T11:51:39.003Z"
   },
   {
    "duration": 27,
    "start_time": "2022-03-23T11:51:46.429Z"
   },
   {
    "duration": 21,
    "start_time": "2022-03-23T11:54:25.381Z"
   },
   {
    "duration": 28,
    "start_time": "2022-03-23T11:54:40.888Z"
   },
   {
    "duration": 20,
    "start_time": "2022-03-23T11:56:21.655Z"
   },
   {
    "duration": 10,
    "start_time": "2022-03-23T11:56:28.314Z"
   },
   {
    "duration": 244,
    "start_time": "2022-03-23T11:56:41.469Z"
   },
   {
    "duration": 242,
    "start_time": "2022-03-23T11:57:19.883Z"
   },
   {
    "duration": 308,
    "start_time": "2022-03-23T11:57:26.336Z"
   },
   {
    "duration": 243,
    "start_time": "2022-03-23T11:58:10.931Z"
   },
   {
    "duration": 22,
    "start_time": "2022-03-23T11:58:20.598Z"
   },
   {
    "duration": 3,
    "start_time": "2022-03-23T11:59:01.701Z"
   },
   {
    "duration": 23,
    "start_time": "2022-03-23T11:59:18.140Z"
   },
   {
    "duration": 709,
    "start_time": "2022-03-23T11:59:23.251Z"
   },
   {
    "duration": 851,
    "start_time": "2022-03-23T11:59:53.743Z"
   },
   {
    "duration": 26,
    "start_time": "2022-03-23T12:00:39.994Z"
   },
   {
    "duration": 10,
    "start_time": "2022-03-23T12:01:38.471Z"
   },
   {
    "duration": 8,
    "start_time": "2022-03-23T12:03:43.642Z"
   },
   {
    "duration": 6,
    "start_time": "2022-03-23T12:07:35.445Z"
   },
   {
    "duration": 775,
    "start_time": "2022-03-23T12:17:02.783Z"
   },
   {
    "duration": 724,
    "start_time": "2022-03-23T12:17:16.316Z"
   },
   {
    "duration": 894,
    "start_time": "2022-03-23T12:18:35.896Z"
   },
   {
    "duration": 731,
    "start_time": "2022-03-23T12:18:46.766Z"
   },
   {
    "duration": 441,
    "start_time": "2022-03-23T12:18:59.301Z"
   },
   {
    "duration": 585,
    "start_time": "2022-03-23T12:19:16.054Z"
   },
   {
    "duration": 480,
    "start_time": "2022-03-23T12:19:36.117Z"
   },
   {
    "duration": 422,
    "start_time": "2022-03-23T12:20:11.060Z"
   },
   {
    "duration": 406,
    "start_time": "2022-03-23T12:20:55.425Z"
   },
   {
    "duration": 504,
    "start_time": "2022-03-23T12:21:05.787Z"
   },
   {
    "duration": 387,
    "start_time": "2022-03-23T12:22:18.087Z"
   },
   {
    "duration": 419,
    "start_time": "2022-03-23T12:22:31.606Z"
   },
   {
    "duration": 3,
    "start_time": "2022-03-23T12:23:38.326Z"
   },
   {
    "duration": 830,
    "start_time": "2022-03-23T12:24:14.276Z"
   },
   {
    "duration": 1094,
    "start_time": "2022-03-23T12:24:49.440Z"
   },
   {
    "duration": 1073,
    "start_time": "2022-03-23T12:25:31.972Z"
   },
   {
    "duration": 902,
    "start_time": "2022-03-23T12:26:57.205Z"
   },
   {
    "duration": 630,
    "start_time": "2022-03-23T12:27:19.128Z"
   },
   {
    "duration": 792,
    "start_time": "2022-03-23T12:27:32.446Z"
   },
   {
    "duration": 298,
    "start_time": "2022-03-23T12:28:58.347Z"
   },
   {
    "duration": 12,
    "start_time": "2022-03-23T12:32:09.928Z"
   },
   {
    "duration": 385,
    "start_time": "2022-03-23T12:32:24.222Z"
   },
   {
    "duration": 426,
    "start_time": "2022-03-23T12:33:30.150Z"
   },
   {
    "duration": 917,
    "start_time": "2022-03-23T12:33:45.423Z"
   },
   {
    "duration": 1003,
    "start_time": "2022-03-23T12:34:18.529Z"
   },
   {
    "duration": 1120,
    "start_time": "2022-03-23T12:35:41.403Z"
   },
   {
    "duration": 1213,
    "start_time": "2022-03-23T12:37:24.542Z"
   },
   {
    "duration": 1034,
    "start_time": "2022-03-23T12:37:57.239Z"
   },
   {
    "duration": 982,
    "start_time": "2022-03-23T12:39:42.421Z"
   },
   {
    "duration": 900,
    "start_time": "2022-03-23T12:40:49.496Z"
   },
   {
    "duration": 5,
    "start_time": "2022-03-23T12:43:52.277Z"
   },
   {
    "duration": 284,
    "start_time": "2022-03-23T12:44:16.392Z"
   },
   {
    "duration": 424,
    "start_time": "2022-03-23T12:45:05.411Z"
   },
   {
    "duration": 344,
    "start_time": "2022-03-23T12:49:04.326Z"
   },
   {
    "duration": 320,
    "start_time": "2022-03-23T12:49:46.857Z"
   },
   {
    "duration": 336,
    "start_time": "2022-03-23T12:49:57.101Z"
   },
   {
    "duration": 211,
    "start_time": "2022-03-23T12:50:41.538Z"
   },
   {
    "duration": 334,
    "start_time": "2022-03-23T12:51:48.321Z"
   },
   {
    "duration": 237,
    "start_time": "2022-03-23T12:52:04.555Z"
   },
   {
    "duration": 221,
    "start_time": "2022-03-23T12:52:15.103Z"
   },
   {
    "duration": 253,
    "start_time": "2022-03-23T12:59:50.029Z"
   },
   {
    "duration": 242,
    "start_time": "2022-03-23T13:00:04.579Z"
   },
   {
    "duration": 257,
    "start_time": "2022-03-23T13:00:17.739Z"
   },
   {
    "duration": 5,
    "start_time": "2022-03-23T13:35:17.199Z"
   },
   {
    "duration": 10,
    "start_time": "2022-03-23T13:35:18.613Z"
   },
   {
    "duration": 24,
    "start_time": "2022-03-23T13:35:43.381Z"
   },
   {
    "duration": 21,
    "start_time": "2022-03-23T13:35:44.502Z"
   },
   {
    "duration": 415,
    "start_time": "2022-03-23T13:38:08.665Z"
   },
   {
    "duration": 159,
    "start_time": "2022-03-23T13:40:18.254Z"
   },
   {
    "duration": 7,
    "start_time": "2022-03-23T13:40:47.694Z"
   },
   {
    "duration": 143,
    "start_time": "2022-03-23T13:40:53.566Z"
   },
   {
    "duration": 143,
    "start_time": "2022-03-23T13:42:43.097Z"
   },
   {
    "duration": 222,
    "start_time": "2022-03-23T13:42:50.878Z"
   },
   {
    "duration": 150,
    "start_time": "2022-03-23T13:43:06.962Z"
   },
   {
    "duration": 12,
    "start_time": "2022-03-23T13:44:24.634Z"
   },
   {
    "duration": 3,
    "start_time": "2022-03-23T13:45:19.577Z"
   },
   {
    "duration": 134,
    "start_time": "2022-03-23T13:45:20.887Z"
   },
   {
    "duration": 4,
    "start_time": "2022-03-23T13:45:35.315Z"
   },
   {
    "duration": 169,
    "start_time": "2022-03-23T13:45:37.031Z"
   },
   {
    "duration": 4,
    "start_time": "2022-03-23T13:45:58.654Z"
   },
   {
    "duration": 19,
    "start_time": "2022-03-23T13:46:00.852Z"
   },
   {
    "duration": 5,
    "start_time": "2022-03-23T13:48:04.691Z"
   },
   {
    "duration": 31,
    "start_time": "2022-03-23T13:48:05.869Z"
   },
   {
    "duration": 160,
    "start_time": "2022-03-23T13:48:30.640Z"
   },
   {
    "duration": 56,
    "start_time": "2022-03-23T13:49:13.820Z"
   },
   {
    "duration": 2993,
    "start_time": "2022-03-23T13:49:19.592Z"
   },
   {
    "duration": 3092,
    "start_time": "2022-03-23T13:50:34.998Z"
   },
   {
    "duration": 4,
    "start_time": "2022-03-23T13:51:53.284Z"
   },
   {
    "duration": 14,
    "start_time": "2022-03-23T13:51:54.646Z"
   },
   {
    "duration": 3,
    "start_time": "2022-03-23T13:52:12.727Z"
   },
   {
    "duration": 18,
    "start_time": "2022-03-23T13:52:13.980Z"
   },
   {
    "duration": 3070,
    "start_time": "2022-03-23T13:52:17.565Z"
   },
   {
    "duration": 6,
    "start_time": "2022-03-23T13:55:23.651Z"
   },
   {
    "duration": 58,
    "start_time": "2022-03-23T13:55:29.082Z"
   },
   {
    "duration": 57,
    "start_time": "2022-03-23T13:55:39.680Z"
   },
   {
    "duration": 33,
    "start_time": "2022-03-23T13:56:15.223Z"
   },
   {
    "duration": 32,
    "start_time": "2022-03-23T13:56:26.134Z"
   },
   {
    "duration": 39,
    "start_time": "2022-03-23T13:56:31.145Z"
   },
   {
    "duration": 56,
    "start_time": "2022-03-23T13:56:35.540Z"
   },
   {
    "duration": 25,
    "start_time": "2022-03-23T13:56:44.396Z"
   },
   {
    "duration": 223,
    "start_time": "2022-03-23T13:57:22.349Z"
   },
   {
    "duration": 41,
    "start_time": "2022-03-23T13:57:29.291Z"
   },
   {
    "duration": 673,
    "start_time": "2022-03-23T13:57:40.601Z"
   },
   {
    "duration": 2885,
    "start_time": "2022-03-23T13:57:48.383Z"
   },
   {
    "duration": 62,
    "start_time": "2022-03-23T13:58:09.645Z"
   },
   {
    "duration": 4,
    "start_time": "2022-03-23T13:59:41.505Z"
   },
   {
    "duration": 18,
    "start_time": "2022-03-23T13:59:42.674Z"
   },
   {
    "duration": 5,
    "start_time": "2022-03-23T14:00:01.782Z"
   },
   {
    "duration": 51,
    "start_time": "2022-03-23T14:00:02.857Z"
   },
   {
    "duration": 4,
    "start_time": "2022-03-23T14:06:16.583Z"
   },
   {
    "duration": 109,
    "start_time": "2022-03-23T14:06:17.492Z"
   },
   {
    "duration": 2221,
    "start_time": "2022-03-23T14:07:02.395Z"
   },
   {
    "duration": 2323,
    "start_time": "2022-03-23T14:07:14.795Z"
   },
   {
    "duration": 3006,
    "start_time": "2022-03-23T14:07:41.330Z"
   },
   {
    "duration": 6,
    "start_time": "2022-03-23T14:08:00.344Z"
   },
   {
    "duration": 18,
    "start_time": "2022-03-23T14:08:01.661Z"
   },
   {
    "duration": 2214,
    "start_time": "2022-03-23T14:08:07.998Z"
   },
   {
    "duration": 44,
    "start_time": "2022-03-23T14:08:18.771Z"
   },
   {
    "duration": 4827,
    "start_time": "2022-03-23T14:08:25.711Z"
   },
   {
    "duration": 4,
    "start_time": "2022-03-23T14:10:46.524Z"
   },
   {
    "duration": 45,
    "start_time": "2022-03-23T14:23:06.747Z"
   },
   {
    "duration": 5080,
    "start_time": "2022-03-23T14:23:14.083Z"
   },
   {
    "duration": 47,
    "start_time": "2022-03-23T14:23:27.229Z"
   },
   {
    "duration": 2200,
    "start_time": "2022-03-23T14:29:26.891Z"
   },
   {
    "duration": 4964,
    "start_time": "2022-03-23T14:31:02.037Z"
   },
   {
    "duration": 4,
    "start_time": "2022-03-23T14:31:12.298Z"
   },
   {
    "duration": 347483,
    "start_time": "2022-03-23T14:34:34.572Z"
   },
   {
    "duration": 345671,
    "start_time": "2022-03-23T14:42:28.287Z"
   },
   {
    "duration": 4776,
    "start_time": "2022-03-23T14:49:38.525Z"
   },
   {
    "duration": 353428,
    "start_time": "2022-03-23T14:50:51.174Z"
   },
   {
    "duration": 3905,
    "start_time": "2022-03-23T14:57:11.617Z"
   },
   {
    "duration": 3,
    "start_time": "2022-03-23T14:58:52.624Z"
   },
   {
    "duration": 3,
    "start_time": "2022-03-23T14:59:08.777Z"
   },
   {
    "duration": 6,
    "start_time": "2022-03-23T15:01:04.867Z"
   },
   {
    "duration": 1802,
    "start_time": "2022-03-23T15:03:47.383Z"
   },
   {
    "duration": 33,
    "start_time": "2022-03-23T15:03:49.188Z"
   },
   {
    "duration": 14,
    "start_time": "2022-03-23T15:03:49.223Z"
   },
   {
    "duration": 12,
    "start_time": "2022-03-23T15:03:49.239Z"
   },
   {
    "duration": 5,
    "start_time": "2022-03-23T15:03:49.255Z"
   },
   {
    "duration": 9,
    "start_time": "2022-03-23T15:03:49.262Z"
   },
   {
    "duration": 29,
    "start_time": "2022-03-23T15:03:49.274Z"
   },
   {
    "duration": 15,
    "start_time": "2022-03-23T15:03:49.305Z"
   },
   {
    "duration": 6,
    "start_time": "2022-03-23T15:03:49.322Z"
   },
   {
    "duration": 14,
    "start_time": "2022-03-23T15:03:49.330Z"
   },
   {
    "duration": 10,
    "start_time": "2022-03-23T15:03:49.347Z"
   },
   {
    "duration": 395,
    "start_time": "2022-03-23T15:03:49.359Z"
   },
   {
    "duration": 13,
    "start_time": "2022-03-23T15:03:49.756Z"
   },
   {
    "duration": 419,
    "start_time": "2022-03-23T15:03:49.773Z"
   },
   {
    "duration": 927,
    "start_time": "2022-03-23T15:03:50.194Z"
   },
   {
    "duration": 231,
    "start_time": "2022-03-23T15:03:51.123Z"
   },
   {
    "duration": 5,
    "start_time": "2022-03-23T15:03:51.356Z"
   },
   {
    "duration": 38,
    "start_time": "2022-03-23T15:03:51.363Z"
   },
   {
    "duration": 20,
    "start_time": "2022-03-23T15:03:51.403Z"
   },
   {
    "duration": 15,
    "start_time": "2022-03-23T15:03:51.425Z"
   },
   {
    "duration": 9,
    "start_time": "2022-03-23T15:03:51.442Z"
   },
   {
    "duration": 152,
    "start_time": "2022-03-23T15:03:51.453Z"
   },
   {
    "duration": 5,
    "start_time": "2022-03-23T15:03:51.608Z"
   },
   {
    "duration": 103,
    "start_time": "2022-03-23T15:03:51.615Z"
   },
   {
    "duration": 3,
    "start_time": "2022-03-23T15:03:51.721Z"
   },
   {
    "duration": 2824,
    "start_time": "2022-03-23T15:03:51.726Z"
   },
   {
    "duration": 7,
    "start_time": "2022-03-23T15:34:04.779Z"
   },
   {
    "duration": 63,
    "start_time": "2022-03-23T15:34:04.788Z"
   },
   {
    "duration": 12,
    "start_time": "2022-03-23T15:34:04.853Z"
   },
   {
    "duration": 8,
    "start_time": "2022-03-23T15:34:04.867Z"
   },
   {
    "duration": 7,
    "start_time": "2022-03-23T15:34:04.878Z"
   },
   {
    "duration": 8,
    "start_time": "2022-03-23T15:34:04.887Z"
   },
   {
    "duration": 9,
    "start_time": "2022-03-23T15:34:04.897Z"
   },
   {
    "duration": 17,
    "start_time": "2022-03-23T15:34:04.908Z"
   },
   {
    "duration": 13,
    "start_time": "2022-03-23T15:34:04.927Z"
   },
   {
    "duration": 23,
    "start_time": "2022-03-23T15:34:04.942Z"
   },
   {
    "duration": 21,
    "start_time": "2022-03-23T15:34:04.967Z"
   },
   {
    "duration": 314,
    "start_time": "2022-03-23T15:34:04.991Z"
   },
   {
    "duration": 15,
    "start_time": "2022-03-23T15:34:05.307Z"
   },
   {
    "duration": 463,
    "start_time": "2022-03-23T15:34:05.326Z"
   },
   {
    "duration": 882,
    "start_time": "2022-03-23T15:34:05.791Z"
   },
   {
    "duration": 226,
    "start_time": "2022-03-23T15:34:06.675Z"
   },
   {
    "duration": 5,
    "start_time": "2022-03-23T15:34:06.903Z"
   },
   {
    "duration": 41,
    "start_time": "2022-03-23T15:34:06.910Z"
   },
   {
    "duration": 26,
    "start_time": "2022-03-23T15:34:06.953Z"
   },
   {
    "duration": 12,
    "start_time": "2022-03-23T15:34:07.001Z"
   },
   {
    "duration": 4,
    "start_time": "2022-03-23T15:34:07.016Z"
   },
   {
    "duration": 280,
    "start_time": "2022-03-23T15:34:10.621Z"
   },
   {
    "duration": 91,
    "start_time": "2022-03-23T15:34:21.541Z"
   },
   {
    "duration": 12727,
    "start_time": "2022-03-23T15:34:30.379Z"
   },
   {
    "duration": 10,
    "start_time": "2022-03-23T15:34:57.078Z"
   },
   {
    "duration": 7,
    "start_time": "2022-03-23T15:35:05.952Z"
   },
   {
    "duration": 45,
    "start_time": "2022-03-23T15:35:05.961Z"
   },
   {
    "duration": 16,
    "start_time": "2022-03-23T15:35:06.008Z"
   },
   {
    "duration": 13,
    "start_time": "2022-03-23T15:35:06.026Z"
   },
   {
    "duration": 16,
    "start_time": "2022-03-23T15:35:06.041Z"
   },
   {
    "duration": 45,
    "start_time": "2022-03-23T15:35:06.060Z"
   },
   {
    "duration": 16,
    "start_time": "2022-03-23T15:35:06.107Z"
   },
   {
    "duration": 19,
    "start_time": "2022-03-23T15:35:06.126Z"
   },
   {
    "duration": 14,
    "start_time": "2022-03-23T15:35:06.148Z"
   },
   {
    "duration": 14,
    "start_time": "2022-03-23T15:35:06.165Z"
   },
   {
    "duration": 20,
    "start_time": "2022-03-23T15:35:06.182Z"
   },
   {
    "duration": 296,
    "start_time": "2022-03-23T15:35:06.205Z"
   },
   {
    "duration": 15,
    "start_time": "2022-03-23T15:35:06.503Z"
   },
   {
    "duration": 438,
    "start_time": "2022-03-23T15:35:06.520Z"
   },
   {
    "duration": 917,
    "start_time": "2022-03-23T15:35:06.960Z"
   },
   {
    "duration": 237,
    "start_time": "2022-03-23T15:35:07.879Z"
   },
   {
    "duration": 5,
    "start_time": "2022-03-23T15:35:08.119Z"
   },
   {
    "duration": 26,
    "start_time": "2022-03-23T15:35:08.126Z"
   },
   {
    "duration": 19,
    "start_time": "2022-03-23T15:35:08.154Z"
   },
   {
    "duration": 34,
    "start_time": "2022-03-23T15:35:08.174Z"
   },
   {
    "duration": 5,
    "start_time": "2022-03-23T15:35:08.210Z"
   },
   {
    "duration": 16,
    "start_time": "2022-03-23T15:35:14.994Z"
   },
   {
    "duration": 4784,
    "start_time": "2022-03-23T15:35:25.449Z"
   },
   {
    "duration": 3,
    "start_time": "2022-03-23T15:35:36.271Z"
   },
   {
    "duration": 1804,
    "start_time": "2022-03-23T15:41:31.665Z"
   },
   {
    "duration": 36,
    "start_time": "2022-03-23T15:41:33.471Z"
   },
   {
    "duration": 15,
    "start_time": "2022-03-23T15:41:33.509Z"
   },
   {
    "duration": 17,
    "start_time": "2022-03-23T15:41:33.527Z"
   },
   {
    "duration": 5,
    "start_time": "2022-03-23T15:41:33.546Z"
   },
   {
    "duration": 12,
    "start_time": "2022-03-23T15:41:33.553Z"
   },
   {
    "duration": 18,
    "start_time": "2022-03-23T15:41:33.567Z"
   },
   {
    "duration": 5,
    "start_time": "2022-03-23T15:41:33.601Z"
   },
   {
    "duration": 21,
    "start_time": "2022-03-23T15:41:33.608Z"
   },
   {
    "duration": 14,
    "start_time": "2022-03-23T15:41:33.633Z"
   },
   {
    "duration": 344,
    "start_time": "2022-03-23T15:41:33.650Z"
   },
   {
    "duration": 16,
    "start_time": "2022-03-23T15:41:33.996Z"
   },
   {
    "duration": 415,
    "start_time": "2022-03-23T15:41:34.014Z"
   },
   {
    "duration": 937,
    "start_time": "2022-03-23T15:41:34.431Z"
   },
   {
    "duration": 236,
    "start_time": "2022-03-23T15:41:35.370Z"
   },
   {
    "duration": 5,
    "start_time": "2022-03-23T15:41:35.608Z"
   },
   {
    "duration": 48,
    "start_time": "2022-03-23T15:41:35.615Z"
   },
   {
    "duration": 20,
    "start_time": "2022-03-23T15:41:35.665Z"
   },
   {
    "duration": 14,
    "start_time": "2022-03-23T15:41:35.687Z"
   },
   {
    "duration": 6,
    "start_time": "2022-03-23T15:41:35.703Z"
   },
   {
    "duration": 190,
    "start_time": "2022-03-23T15:41:35.711Z"
   },
   {
    "duration": 10,
    "start_time": "2022-03-23T15:41:35.903Z"
   },
   {
    "duration": 88,
    "start_time": "2022-03-23T15:41:35.915Z"
   },
   {
    "duration": 4,
    "start_time": "2022-03-23T15:41:36.006Z"
   },
   {
    "duration": 3900,
    "start_time": "2022-03-23T15:41:36.012Z"
   },
   {
    "duration": 2400,
    "start_time": "2022-03-24T07:09:44.224Z"
   },
   {
    "duration": 63,
    "start_time": "2022-03-24T07:09:46.627Z"
   },
   {
    "duration": 20,
    "start_time": "2022-03-24T07:09:46.692Z"
   },
   {
    "duration": 26,
    "start_time": "2022-03-24T07:09:46.715Z"
   },
   {
    "duration": 5,
    "start_time": "2022-03-24T07:09:46.745Z"
   },
   {
    "duration": 49,
    "start_time": "2022-03-24T07:09:46.753Z"
   },
   {
    "duration": 16,
    "start_time": "2022-03-24T07:09:46.805Z"
   },
   {
    "duration": 5,
    "start_time": "2022-03-24T07:09:46.824Z"
   },
   {
    "duration": 20,
    "start_time": "2022-03-24T07:09:46.831Z"
   },
   {
    "duration": 11,
    "start_time": "2022-03-24T07:09:46.853Z"
   },
   {
    "duration": 543,
    "start_time": "2022-03-24T07:09:46.866Z"
   },
   {
    "duration": 19,
    "start_time": "2022-03-24T07:09:47.411Z"
   },
   {
    "duration": 613,
    "start_time": "2022-03-24T07:09:47.432Z"
   },
   {
    "duration": 2215,
    "start_time": "2022-03-24T07:09:48.050Z"
   },
   {
    "duration": 530,
    "start_time": "2022-03-24T07:09:50.268Z"
   },
   {
    "duration": 6,
    "start_time": "2022-03-24T07:09:50.800Z"
   },
   {
    "duration": 50,
    "start_time": "2022-03-24T07:09:50.808Z"
   },
   {
    "duration": 28,
    "start_time": "2022-03-24T07:09:50.860Z"
   },
   {
    "duration": 27,
    "start_time": "2022-03-24T07:09:50.890Z"
   },
   {
    "duration": 22,
    "start_time": "2022-03-24T07:09:50.919Z"
   },
   {
    "duration": 151,
    "start_time": "2022-03-24T07:09:50.943Z"
   },
   {
    "duration": 11,
    "start_time": "2022-03-24T07:09:51.185Z"
   },
   {
    "duration": 188,
    "start_time": "2022-03-24T07:09:55.052Z"
   },
   {
    "duration": 5569,
    "start_time": "2022-03-24T07:10:18.767Z"
   },
   {
    "duration": 67,
    "start_time": "2022-03-24T07:10:42.061Z"
   },
   {
    "duration": 74,
    "start_time": "2022-03-24T07:11:11.259Z"
   },
   {
    "duration": 5491,
    "start_time": "2022-03-24T07:13:07.612Z"
   },
   {
    "duration": 56,
    "start_time": "2022-03-24T07:13:13.107Z"
   },
   {
    "duration": 6501,
    "start_time": "2022-03-24T07:16:44.322Z"
   },
   {
    "duration": 6299,
    "start_time": "2022-03-24T07:23:36.539Z"
   },
   {
    "duration": 5700,
    "start_time": "2022-03-24T07:23:49.300Z"
   },
   {
    "duration": 19,
    "start_time": "2022-03-24T07:24:00.890Z"
   },
   {
    "duration": 5888,
    "start_time": "2022-03-24T07:24:48.534Z"
   },
   {
    "duration": 5601,
    "start_time": "2022-03-24T07:25:19.183Z"
   },
   {
    "duration": 67,
    "start_time": "2022-03-24T07:25:31.642Z"
   },
   {
    "duration": 10,
    "start_time": "2022-03-24T07:26:40.619Z"
   },
   {
    "duration": 3,
    "start_time": "2022-03-24T07:27:32.827Z"
   },
   {
    "duration": 127,
    "start_time": "2022-03-24T07:32:05.523Z"
   },
   {
    "duration": 5,
    "start_time": "2022-03-24T07:32:07.803Z"
   },
   {
    "duration": 32461,
    "start_time": "2022-03-24T07:32:09.524Z"
   },
   {
    "duration": 153,
    "start_time": "2022-03-24T07:34:41.666Z"
   },
   {
    "duration": 5,
    "start_time": "2022-03-24T07:34:55.928Z"
   },
   {
    "duration": 2343,
    "start_time": "2022-03-24T07:34:56.880Z"
   },
   {
    "duration": 39,
    "start_time": "2022-03-24T07:35:28.984Z"
   },
   {
    "duration": 4,
    "start_time": "2022-03-24T07:36:04.736Z"
   },
   {
    "duration": 17692,
    "start_time": "2022-03-24T07:36:06.324Z"
   },
   {
    "duration": 5,
    "start_time": "2022-03-24T07:39:02.334Z"
   },
   {
    "duration": 171,
    "start_time": "2022-03-24T07:39:03.752Z"
   },
   {
    "duration": 3739248,
    "start_time": "2022-03-24T07:39:17.501Z"
   },
   {
    "duration": 15855,
    "start_time": "2022-03-24T08:41:52.869Z"
   },
   {
    "duration": 5,
    "start_time": "2022-03-24T08:42:27.403Z"
   },
   {
    "duration": 710,
    "start_time": "2022-03-24T08:42:34.176Z"
   },
   {
    "duration": 43,
    "start_time": "2022-03-24T08:42:46.841Z"
   },
   {
    "duration": 24,
    "start_time": "2022-03-24T08:42:55.103Z"
   },
   {
    "duration": 27,
    "start_time": "2022-03-24T08:43:01.486Z"
   },
   {
    "duration": 5597,
    "start_time": "2022-03-24T08:43:08.156Z"
   },
   {
    "duration": 70,
    "start_time": "2022-03-24T08:43:33.641Z"
   },
   {
    "duration": 5632,
    "start_time": "2022-03-24T08:44:55.878Z"
   },
   {
    "duration": 68,
    "start_time": "2022-03-24T08:45:08.767Z"
   },
   {
    "duration": 4,
    "start_time": "2022-03-24T08:45:33.875Z"
   },
   {
    "duration": 3,
    "start_time": "2022-03-24T08:45:34.564Z"
   },
   {
    "duration": 2720,
    "start_time": "2022-03-24T08:45:55.798Z"
   },
   {
    "duration": 57,
    "start_time": "2022-03-24T08:45:58.522Z"
   },
   {
    "duration": 16,
    "start_time": "2022-03-24T08:45:58.583Z"
   },
   {
    "duration": 16,
    "start_time": "2022-03-24T08:45:58.602Z"
   },
   {
    "duration": 11,
    "start_time": "2022-03-24T08:45:58.621Z"
   },
   {
    "duration": 19,
    "start_time": "2022-03-24T08:45:58.634Z"
   },
   {
    "duration": 39,
    "start_time": "2022-03-24T08:45:58.655Z"
   },
   {
    "duration": 5,
    "start_time": "2022-03-24T08:45:58.697Z"
   },
   {
    "duration": 20,
    "start_time": "2022-03-24T08:45:58.705Z"
   },
   {
    "duration": 9,
    "start_time": "2022-03-24T08:45:58.729Z"
   },
   {
    "duration": 569,
    "start_time": "2022-03-24T08:45:58.740Z"
   },
   {
    "duration": 19,
    "start_time": "2022-03-24T08:45:59.311Z"
   },
   {
    "duration": 655,
    "start_time": "2022-03-24T08:45:59.333Z"
   },
   {
    "duration": 1588,
    "start_time": "2022-03-24T08:45:59.990Z"
   },
   {
    "duration": 380,
    "start_time": "2022-03-24T08:46:01.583Z"
   },
   {
    "duration": 19,
    "start_time": "2022-03-24T08:46:01.966Z"
   },
   {
    "duration": 47,
    "start_time": "2022-03-24T08:46:01.988Z"
   },
   {
    "duration": 34,
    "start_time": "2022-03-24T08:46:02.037Z"
   },
   {
    "duration": 23,
    "start_time": "2022-03-24T08:46:02.073Z"
   },
   {
    "duration": 12,
    "start_time": "2022-03-24T08:46:02.098Z"
   },
   {
    "duration": 171,
    "start_time": "2022-03-24T08:46:02.113Z"
   },
   {
    "duration": 4,
    "start_time": "2022-03-24T08:46:02.287Z"
   },
   {
    "duration": 11,
    "start_time": "2022-03-24T08:46:02.293Z"
   },
   {
    "duration": 21,
    "start_time": "2022-03-24T08:46:02.306Z"
   },
   {
    "duration": 4,
    "start_time": "2022-03-24T08:46:05.339Z"
   },
   {
    "duration": 4,
    "start_time": "2022-03-24T08:46:06.701Z"
   },
   {
    "duration": 617,
    "start_time": "2022-03-24T08:46:12.903Z"
   },
   {
    "duration": 40,
    "start_time": "2022-03-24T08:46:16.612Z"
   },
   {
    "duration": 4,
    "start_time": "2022-03-24T08:46:39.616Z"
   },
   {
    "duration": 4,
    "start_time": "2022-03-24T08:46:42.191Z"
   },
   {
    "duration": 134128,
    "start_time": "2022-03-24T08:46:43.929Z"
   },
   {
    "duration": 3040,
    "start_time": "2022-03-24T08:49:27.403Z"
   },
   {
    "duration": 4,
    "start_time": "2022-03-24T08:55:25.452Z"
   },
   {
    "duration": 356744,
    "start_time": "2022-03-24T08:55:28.445Z"
   },
   {
    "duration": 2858,
    "start_time": "2022-03-24T09:01:50.860Z"
   },
   {
    "duration": 3054,
    "start_time": "2022-03-24T09:02:09.355Z"
   },
   {
    "duration": 5635,
    "start_time": "2022-03-24T09:20:32.961Z"
   },
   {
    "duration": 70,
    "start_time": "2022-03-24T09:21:01.451Z"
   },
   {
    "duration": 12,
    "start_time": "2022-03-24T09:24:11.449Z"
   },
   {
    "duration": 71,
    "start_time": "2022-03-24T09:24:11.464Z"
   },
   {
    "duration": 19,
    "start_time": "2022-03-24T09:24:11.537Z"
   },
   {
    "duration": 31,
    "start_time": "2022-03-24T09:24:11.559Z"
   },
   {
    "duration": 9,
    "start_time": "2022-03-24T09:24:11.594Z"
   },
   {
    "duration": 6,
    "start_time": "2022-03-24T09:24:11.606Z"
   },
   {
    "duration": 14,
    "start_time": "2022-03-24T09:24:11.615Z"
   },
   {
    "duration": 6,
    "start_time": "2022-03-24T09:24:11.632Z"
   },
   {
    "duration": 21,
    "start_time": "2022-03-24T09:24:11.683Z"
   },
   {
    "duration": 9,
    "start_time": "2022-03-24T09:24:11.706Z"
   },
   {
    "duration": 605,
    "start_time": "2022-03-24T09:24:11.717Z"
   },
   {
    "duration": 20,
    "start_time": "2022-03-24T09:24:12.324Z"
   },
   {
    "duration": 559,
    "start_time": "2022-03-24T09:24:12.346Z"
   },
   {
    "duration": 1514,
    "start_time": "2022-03-24T09:24:12.909Z"
   },
   {
    "duration": 389,
    "start_time": "2022-03-24T09:24:14.425Z"
   },
   {
    "duration": 6,
    "start_time": "2022-03-24T09:24:14.816Z"
   },
   {
    "duration": 40,
    "start_time": "2022-03-24T09:24:14.825Z"
   },
   {
    "duration": 29,
    "start_time": "2022-03-24T09:24:14.883Z"
   },
   {
    "duration": 18,
    "start_time": "2022-03-24T09:24:14.915Z"
   },
   {
    "duration": 8,
    "start_time": "2022-03-24T09:24:14.936Z"
   },
   {
    "duration": 238,
    "start_time": "2022-03-24T09:24:14.947Z"
   },
   {
    "duration": 7,
    "start_time": "2022-03-24T09:24:15.189Z"
   },
   {
    "duration": 7,
    "start_time": "2022-03-24T09:24:15.199Z"
   },
   {
    "duration": 3,
    "start_time": "2022-03-24T09:24:17.555Z"
   },
   {
    "duration": 98,
    "start_time": "2022-03-24T09:24:18.934Z"
   },
   {
    "duration": 4,
    "start_time": "2022-03-24T09:25:02.034Z"
   },
   {
    "duration": 8172,
    "start_time": "2022-03-24T09:25:03.680Z"
   },
   {
    "duration": 4,
    "start_time": "2022-03-24T09:26:05.616Z"
   },
   {
    "duration": 18721,
    "start_time": "2022-03-24T09:26:07.000Z"
   },
   {
    "duration": 41,
    "start_time": "2022-03-24T09:26:31.194Z"
   },
   {
    "duration": 73,
    "start_time": "2022-03-24T09:26:57.133Z"
   },
   {
    "duration": 40,
    "start_time": "2022-03-24T09:27:01.758Z"
   },
   {
    "duration": 4171,
    "start_time": "2022-03-24T09:31:03.739Z"
   },
   {
    "duration": 5,
    "start_time": "2022-03-24T09:31:13.500Z"
   },
   {
    "duration": 372345,
    "start_time": "2022-03-24T09:31:14.859Z"
   },
   {
    "duration": 2126,
    "start_time": "2022-03-24T09:40:28.089Z"
   },
   {
    "duration": 47,
    "start_time": "2022-03-24T09:40:30.218Z"
   },
   {
    "duration": 19,
    "start_time": "2022-03-24T09:40:30.268Z"
   },
   {
    "duration": 23,
    "start_time": "2022-03-24T09:40:30.290Z"
   },
   {
    "duration": 22,
    "start_time": "2022-03-24T09:40:30.316Z"
   },
   {
    "duration": 20,
    "start_time": "2022-03-24T09:40:30.341Z"
   },
   {
    "duration": 31,
    "start_time": "2022-03-24T09:40:30.364Z"
   },
   {
    "duration": 37,
    "start_time": "2022-03-24T09:40:30.397Z"
   },
   {
    "duration": 29,
    "start_time": "2022-03-24T09:40:30.436Z"
   },
   {
    "duration": 27,
    "start_time": "2022-03-24T09:40:30.467Z"
   },
   {
    "duration": 549,
    "start_time": "2022-03-24T09:40:30.496Z"
   },
   {
    "duration": 18,
    "start_time": "2022-03-24T09:40:31.047Z"
   },
   {
    "duration": 626,
    "start_time": "2022-03-24T09:40:31.068Z"
   },
   {
    "duration": 2008,
    "start_time": "2022-03-24T09:40:31.699Z"
   },
   {
    "duration": 552,
    "start_time": "2022-03-24T09:40:33.711Z"
   },
   {
    "duration": 17,
    "start_time": "2022-03-24T09:40:34.267Z"
   },
   {
    "duration": 46,
    "start_time": "2022-03-24T09:40:34.286Z"
   },
   {
    "duration": 28,
    "start_time": "2022-03-24T09:40:34.335Z"
   },
   {
    "duration": 24,
    "start_time": "2022-03-24T09:40:34.365Z"
   },
   {
    "duration": 27,
    "start_time": "2022-03-24T09:40:34.392Z"
   },
   {
    "duration": 163,
    "start_time": "2022-03-24T09:40:34.421Z"
   },
   {
    "duration": 8,
    "start_time": "2022-03-24T09:40:34.587Z"
   },
   {
    "duration": 21,
    "start_time": "2022-03-24T09:40:34.598Z"
   },
   {
    "duration": 125,
    "start_time": "2022-03-24T09:40:34.621Z"
   },
   {
    "duration": 5,
    "start_time": "2022-03-24T09:40:34.750Z"
   },
   {
    "duration": 27,
    "start_time": "2022-03-24T09:40:34.757Z"
   },
   {
    "duration": 16296,
    "start_time": "2022-03-24T09:40:34.787Z"
   },
   {
    "duration": 39,
    "start_time": "2022-03-24T09:40:51.085Z"
   },
   {
    "duration": 4,
    "start_time": "2022-03-24T09:40:51.126Z"
   },
   {
    "duration": 15,
    "start_time": "2022-03-24T09:40:51.132Z"
   },
   {
    "duration": 331034,
    "start_time": "2022-03-24T09:40:51.149Z"
   },
   {
    "duration": 2873,
    "start_time": "2022-03-24T09:46:22.186Z"
   },
   {
    "duration": 312,
    "start_time": "2022-03-24T09:56:41.962Z"
   }
  ],
  "kernelspec": {
   "display_name": "Python 3.8.9 64-bit",
   "language": "python",
   "name": "python3"
  },
  "language_info": {
   "codemirror_mode": {
    "name": "ipython",
    "version": 3
   },
   "file_extension": ".py",
   "mimetype": "text/x-python",
   "name": "python",
   "nbconvert_exporter": "python",
   "pygments_lexer": "ipython3",
   "version": "3.8.9"
  },
  "toc": {
   "base_numbering": 1,
   "nav_menu": {},
   "number_sections": true,
   "sideBar": true,
   "skip_h1_title": true,
   "title_cell": "Содержание",
   "title_sidebar": "Contents",
   "toc_cell": true,
   "toc_position": {},
   "toc_section_display": true,
   "toc_window_display": false
  },
  "vscode": {
   "interpreter": {
    "hash": "31f2aee4e71d21fbe5cf8b01ff0e069b9275f58929596ceb00d14d90e3e16cd6"
   }
  }
 },
 "nbformat": 4,
 "nbformat_minor": 2
}
