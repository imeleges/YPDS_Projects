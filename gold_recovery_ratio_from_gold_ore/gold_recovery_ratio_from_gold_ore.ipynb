{
 "cells": [
  {
   "cell_type": "markdown",
   "metadata": {},
   "source": [
    "# Восстановление золота из руды"
   ]
  },
  {
   "cell_type": "markdown",
   "metadata": {},
   "source": [
    "Необходимо подготовить прототип модели машинного обучения для компании «Цифра».<br>\n",
    "Компания разрабатывает решения для эффективной работы промышленных предприятий.\n",
    "Модель поможет оптимизировать производство, чтобы не запускать предприятие с убыточными характеристиками.\n",
    "\n",
    "Модель должна предсказать коэффициент восстановления золота из золотосодержащей руды. В проекте будут использоваться  данные с параметрами добычи и очистки. \n",
    "\n",
    "\n",
    "Разделим проект на три части:\n",
    "\n",
    "1. Подготовка данные\n",
    "2. Проведение исследовательского анализа данных\n",
    "3. Построение и обучение моделей\n"
   ]
  },
  {
   "cell_type": "markdown",
   "metadata": {
    "toc": true
   },
   "source": [
    "<h1>Содержание<span class=\"tocSkip\"></span></h1>\n",
    "<div class=\"toc\"><ul class=\"toc-item\"><li><span><a href=\"#Подготовка-данных\" data-toc-modified-id=\"Подготовка-данных-1\"><span class=\"toc-item-num\">1&nbsp;&nbsp;</span>Подготовка данных</a></span><ul class=\"toc-item\"><li><span><a href=\"#Откройте-файлы-и-изучите-их.\" data-toc-modified-id=\"Откройте-файлы-и-изучите-их.-1.1\"><span class=\"toc-item-num\">1.1&nbsp;&nbsp;</span>Откройте файлы и изучите их.</a></span></li><li><span><a href=\"#Проверим,-что-эффективность-обогащения-рассчитана-правильно.\" data-toc-modified-id=\"Проверим,-что-эффективность-обогащения-рассчитана-правильно.-1.2\"><span class=\"toc-item-num\">1.2&nbsp;&nbsp;</span>Проверим, что эффективность обогащения рассчитана правильно.</a></span></li><li><span><a href=\"#Проанализируем-признаки,-недоступные-в-тестовой-выборке.-Что-это-за-параметры?-К-какому-типу-относятся?\" data-toc-modified-id=\"Проанализируем-признаки,-недоступные-в-тестовой-выборке.-Что-это-за-параметры?-К-какому-типу-относятся?-1.3\"><span class=\"toc-item-num\">1.3&nbsp;&nbsp;</span>Проанализируем признаки, недоступные в тестовой выборке. Что это за параметры? К какому типу относятся?</a></span></li><li><span><a href=\"#Проведите-предобработку-данных.\" data-toc-modified-id=\"Проведите-предобработку-данных.-1.4\"><span class=\"toc-item-num\">1.4&nbsp;&nbsp;</span>Проведите предобработку данных.</a></span></li></ul></li><li><span><a href=\"#Анализ-данных\" data-toc-modified-id=\"Анализ-данных-2\"><span class=\"toc-item-num\">2&nbsp;&nbsp;</span>Анализ данных</a></span><ul class=\"toc-item\"><li><span><a href=\"#Посмотрите,-как-меняется-концентрация-металлов-(Au,-Ag,-Pb)-на-различных-этапах-очистки.-Опишите-выводы.\" data-toc-modified-id=\"Посмотрите,-как-меняется-концентрация-металлов-(Au,-Ag,-Pb)-на-различных-этапах-очистки.-Опишите-выводы.-2.1\"><span class=\"toc-item-num\">2.1&nbsp;&nbsp;</span>Посмотрите, как меняется концентрация металлов (<em>Au, Ag, Pb</em>) на различных этапах очистки. Опишите выводы.</a></span></li><li><span><a href=\"#Сравните-распределения-размеров-гранул-сырья-на-обучающей-и-тестовой-выборках.-Если-распределения-сильно-отличаются-друг-от-друга,-оценка-модели-будет-неправильной.\" data-toc-modified-id=\"Сравните-распределения-размеров-гранул-сырья-на-обучающей-и-тестовой-выборках.-Если-распределения-сильно-отличаются-друг-от-друга,-оценка-модели-будет-неправильной.-2.2\"><span class=\"toc-item-num\">2.2&nbsp;&nbsp;</span>Сравните распределения размеров гранул сырья на обучающей и тестовой выборках. Если распределения сильно отличаются друг от друга, оценка модели будет неправильной.</a></span></li><li><span><a href=\"#Исследуем-суммарную-концентрацию-всех-веществ-на-разных-стадиях:-в-сырье,-в-черновом-и-финальном-концентратах.\" data-toc-modified-id=\"Исследуем-суммарную-концентрацию-всех-веществ-на-разных-стадиях:-в-сырье,-в-черновом-и-финальном-концентратах.-2.3\"><span class=\"toc-item-num\">2.3&nbsp;&nbsp;</span>Исследуем суммарную концентрацию всех веществ на разных стадиях: в сырье, в черновом и финальном концентратах.</a></span></li></ul></li><li><span><a href=\"#Поиск-оптимальной-модели\" data-toc-modified-id=\"Поиск-оптимальной-модели-3\"><span class=\"toc-item-num\">3&nbsp;&nbsp;</span>Поиск оптимальной модели</a></span><ul class=\"toc-item\"><li><span><a href=\"#Функции-для-вычисления-sMAPE-и-итоговой-sMAPE.\" data-toc-modified-id=\"Функции-для-вычисления-sMAPE-и-итоговой-sMAPE.-3.1\"><span class=\"toc-item-num\">3.1&nbsp;&nbsp;</span>Функции для вычисления <em>sMAPE</em> и итоговой <em>sMAPE</em>.</a></span></li><li><span><a href=\"#Обучим-разные-модели-и-оценим-их-качество-кросс-валидацией.\" data-toc-modified-id=\"Обучим-разные-модели-и-оценим-их-качество-кросс-валидацией.-3.2\"><span class=\"toc-item-num\">3.2&nbsp;&nbsp;</span>Обучим разные модели и оценим их качество кросс-валидацией.</a></span><ul class=\"toc-item\"><li><span><a href=\"#LinearRegression()\" data-toc-modified-id=\"LinearRegression()-3.2.1\"><span class=\"toc-item-num\">3.2.1&nbsp;&nbsp;</span>LinearRegression()</a></span></li><li><span><a href=\"#RandomForestRegressor()\" data-toc-modified-id=\"RandomForestRegressor()-3.2.2\"><span class=\"toc-item-num\">3.2.2&nbsp;&nbsp;</span>RandomForestRegressor()</a></span></li><li><span><a href=\"#DecisionTreeRegressor()\" data-toc-modified-id=\"DecisionTreeRegressor()-3.2.3\"><span class=\"toc-item-num\">3.2.3&nbsp;&nbsp;</span>DecisionTreeRegressor()</a></span></li></ul></li><li><span><a href=\"#Проверка-лучшей-модели-на-тестовой-выборке.\" data-toc-modified-id=\"Проверка-лучшей-модели-на-тестовой-выборке.-3.3\"><span class=\"toc-item-num\">3.3&nbsp;&nbsp;</span>Проверка лучшей модели на тестовой выборке.</a></span><ul class=\"toc-item\"><li><span><a href=\"#LinearRegression()\" data-toc-modified-id=\"LinearRegression()-3.3.1\"><span class=\"toc-item-num\">3.3.1&nbsp;&nbsp;</span>LinearRegression()</a></span></li><li><span><a href=\"#RandomForestRegressor()\" data-toc-modified-id=\"RandomForestRegressor()-3.3.2\"><span class=\"toc-item-num\">3.3.2&nbsp;&nbsp;</span>RandomForestRegressor()</a></span></li><li><span><a href=\"#DecisionTreeRegressor()\" data-toc-modified-id=\"DecisionTreeRegressor()-3.3.3\"><span class=\"toc-item-num\">3.3.3&nbsp;&nbsp;</span>DecisionTreeRegressor()</a></span></li></ul></li></ul></li><li><span><a href=\"#Выводы\" data-toc-modified-id=\"Выводы-4\"><span class=\"toc-item-num\">4&nbsp;&nbsp;</span>Выводы</a></span></li><li><span><a href=\"#Чек-лист-готовности-проекта\" data-toc-modified-id=\"Чек-лист-готовности-проекта-5\"><span class=\"toc-item-num\">5&nbsp;&nbsp;</span>Чек-лист готовности проекта</a></span></li></ul></div>"
   ]
  },
  {
   "cell_type": "markdown",
   "metadata": {},
   "source": [
    "## Подготовка данных"
   ]
  },
  {
   "cell_type": "code",
   "execution_count": 1,
   "metadata": {},
   "outputs": [],
   "source": [
    "import warnings\n",
    "warnings.simplefilter('ignore')\n",
    "from tqdm.notebook import tqdm\n",
    "\n",
    "import pandas as pd\n",
    "import matplotlib.pyplot as plt\n",
    "import numpy as np\n",
    "import seaborn as sns\n",
    "\n",
    "from sklearn.model_selection import train_test_split\n",
    "from sklearn.model_selection import cross_val_score\n",
    "from sklearn.linear_model import LinearRegression\n",
    "from sklearn.tree import DecisionTreeRegressor\n",
    "from sklearn.ensemble import RandomForestRegressor\n",
    "from sklearn.metrics import mean_absolute_error, make_scorer\n"
   ]
  },
  {
   "cell_type": "markdown",
   "metadata": {},
   "source": [
    "### Откройте файлы и изучите их."
   ]
  },
  {
   "cell_type": "markdown",
   "metadata": {},
   "source": [
    "Путь к файлам:\n",
    "\n",
    "- `/datasets/gold_recovery_train_new.csv`\n",
    "- `/datasets/gold_recovery_test_new.csv`\n",
    "- `/datasets/gold_recovery_full_new.csv`"
   ]
  },
  {
   "cell_type": "code",
   "execution_count": 2,
   "metadata": {},
   "outputs": [],
   "source": [
    "df_train = pd.read_csv(\"/datasets/gold_recovery_train_new.csv\")\n",
    "df_test = pd.read_csv(\"/datasets/gold_recovery_test_new.csv\")\n",
    "df_full = pd.read_csv(\"/datasets/gold_recovery_full_new.csv\")"
   ]
  },
  {
   "cell_type": "code",
   "execution_count": 3,
   "metadata": {},
   "outputs": [],
   "source": [
    "pd.set_option(\"display.max_columns\", None)"
   ]
  },
  {
   "cell_type": "markdown",
   "metadata": {},
   "source": [
    "Посмотрим на первые строки полной выборки, а дальше выведем `.info()` для каждой"
   ]
  },
  {
   "cell_type": "code",
   "execution_count": 4,
   "metadata": {
    "scrolled": false
   },
   "outputs": [
    {
     "data": {
      "text/html": [
       "<div>\n",
       "<style scoped>\n",
       "    .dataframe tbody tr th:only-of-type {\n",
       "        vertical-align: middle;\n",
       "    }\n",
       "\n",
       "    .dataframe tbody tr th {\n",
       "        vertical-align: top;\n",
       "    }\n",
       "\n",
       "    .dataframe thead th {\n",
       "        text-align: right;\n",
       "    }\n",
       "</style>\n",
       "<table border=\"1\" class=\"dataframe\">\n",
       "  <thead>\n",
       "    <tr style=\"text-align: right;\">\n",
       "      <th></th>\n",
       "      <th>date</th>\n",
       "      <th>final.output.concentrate_ag</th>\n",
       "      <th>final.output.concentrate_pb</th>\n",
       "      <th>final.output.concentrate_sol</th>\n",
       "      <th>final.output.concentrate_au</th>\n",
       "      <th>final.output.recovery</th>\n",
       "      <th>final.output.tail_ag</th>\n",
       "      <th>final.output.tail_pb</th>\n",
       "      <th>final.output.tail_sol</th>\n",
       "      <th>final.output.tail_au</th>\n",
       "      <th>primary_cleaner.input.sulfate</th>\n",
       "      <th>primary_cleaner.input.depressant</th>\n",
       "      <th>primary_cleaner.input.feed_size</th>\n",
       "      <th>primary_cleaner.input.xanthate</th>\n",
       "      <th>primary_cleaner.output.concentrate_ag</th>\n",
       "      <th>primary_cleaner.output.concentrate_pb</th>\n",
       "      <th>primary_cleaner.output.concentrate_sol</th>\n",
       "      <th>primary_cleaner.output.concentrate_au</th>\n",
       "      <th>primary_cleaner.output.tail_ag</th>\n",
       "      <th>primary_cleaner.output.tail_pb</th>\n",
       "      <th>primary_cleaner.output.tail_sol</th>\n",
       "      <th>primary_cleaner.output.tail_au</th>\n",
       "      <th>primary_cleaner.state.floatbank8_a_air</th>\n",
       "      <th>primary_cleaner.state.floatbank8_a_level</th>\n",
       "      <th>primary_cleaner.state.floatbank8_b_air</th>\n",
       "      <th>primary_cleaner.state.floatbank8_b_level</th>\n",
       "      <th>primary_cleaner.state.floatbank8_c_air</th>\n",
       "      <th>primary_cleaner.state.floatbank8_c_level</th>\n",
       "      <th>primary_cleaner.state.floatbank8_d_air</th>\n",
       "      <th>primary_cleaner.state.floatbank8_d_level</th>\n",
       "      <th>rougher.calculation.sulfate_to_au_concentrate</th>\n",
       "      <th>rougher.calculation.floatbank10_sulfate_to_au_feed</th>\n",
       "      <th>rougher.calculation.floatbank11_sulfate_to_au_feed</th>\n",
       "      <th>rougher.calculation.au_pb_ratio</th>\n",
       "      <th>rougher.input.feed_ag</th>\n",
       "      <th>rougher.input.feed_pb</th>\n",
       "      <th>rougher.input.feed_rate</th>\n",
       "      <th>rougher.input.feed_size</th>\n",
       "      <th>rougher.input.feed_sol</th>\n",
       "      <th>rougher.input.feed_au</th>\n",
       "      <th>rougher.input.floatbank10_sulfate</th>\n",
       "      <th>rougher.input.floatbank10_xanthate</th>\n",
       "      <th>rougher.input.floatbank11_sulfate</th>\n",
       "      <th>rougher.input.floatbank11_xanthate</th>\n",
       "      <th>rougher.output.concentrate_ag</th>\n",
       "      <th>rougher.output.concentrate_pb</th>\n",
       "      <th>rougher.output.concentrate_sol</th>\n",
       "      <th>rougher.output.concentrate_au</th>\n",
       "      <th>rougher.output.recovery</th>\n",
       "      <th>rougher.output.tail_ag</th>\n",
       "      <th>rougher.output.tail_pb</th>\n",
       "      <th>rougher.output.tail_sol</th>\n",
       "      <th>rougher.output.tail_au</th>\n",
       "      <th>rougher.state.floatbank10_a_air</th>\n",
       "      <th>rougher.state.floatbank10_a_level</th>\n",
       "      <th>rougher.state.floatbank10_b_air</th>\n",
       "      <th>rougher.state.floatbank10_b_level</th>\n",
       "      <th>rougher.state.floatbank10_c_air</th>\n",
       "      <th>rougher.state.floatbank10_c_level</th>\n",
       "      <th>rougher.state.floatbank10_d_air</th>\n",
       "      <th>rougher.state.floatbank10_d_level</th>\n",
       "      <th>rougher.state.floatbank10_e_air</th>\n",
       "      <th>rougher.state.floatbank10_e_level</th>\n",
       "      <th>rougher.state.floatbank10_f_air</th>\n",
       "      <th>rougher.state.floatbank10_f_level</th>\n",
       "      <th>secondary_cleaner.output.tail_ag</th>\n",
       "      <th>secondary_cleaner.output.tail_pb</th>\n",
       "      <th>secondary_cleaner.output.tail_sol</th>\n",
       "      <th>secondary_cleaner.output.tail_au</th>\n",
       "      <th>secondary_cleaner.state.floatbank2_a_air</th>\n",
       "      <th>secondary_cleaner.state.floatbank2_a_level</th>\n",
       "      <th>secondary_cleaner.state.floatbank2_b_air</th>\n",
       "      <th>secondary_cleaner.state.floatbank2_b_level</th>\n",
       "      <th>secondary_cleaner.state.floatbank3_a_air</th>\n",
       "      <th>secondary_cleaner.state.floatbank3_a_level</th>\n",
       "      <th>secondary_cleaner.state.floatbank3_b_air</th>\n",
       "      <th>secondary_cleaner.state.floatbank3_b_level</th>\n",
       "      <th>secondary_cleaner.state.floatbank4_a_air</th>\n",
       "      <th>secondary_cleaner.state.floatbank4_a_level</th>\n",
       "      <th>secondary_cleaner.state.floatbank4_b_air</th>\n",
       "      <th>secondary_cleaner.state.floatbank4_b_level</th>\n",
       "      <th>secondary_cleaner.state.floatbank5_a_air</th>\n",
       "      <th>secondary_cleaner.state.floatbank5_a_level</th>\n",
       "      <th>secondary_cleaner.state.floatbank5_b_air</th>\n",
       "      <th>secondary_cleaner.state.floatbank5_b_level</th>\n",
       "      <th>secondary_cleaner.state.floatbank6_a_air</th>\n",
       "      <th>secondary_cleaner.state.floatbank6_a_level</th>\n",
       "    </tr>\n",
       "  </thead>\n",
       "  <tbody>\n",
       "    <tr>\n",
       "      <td>0</td>\n",
       "      <td>2016-01-15 00:00:00</td>\n",
       "      <td>6.055403</td>\n",
       "      <td>9.889648</td>\n",
       "      <td>5.507324</td>\n",
       "      <td>42.192020</td>\n",
       "      <td>70.541216</td>\n",
       "      <td>10.411962</td>\n",
       "      <td>0.895447</td>\n",
       "      <td>16.904297</td>\n",
       "      <td>2.143149</td>\n",
       "      <td>127.092003</td>\n",
       "      <td>10.128295</td>\n",
       "      <td>7.25</td>\n",
       "      <td>0.988759</td>\n",
       "      <td>8.547551</td>\n",
       "      <td>10.389648</td>\n",
       "      <td>19.529297</td>\n",
       "      <td>34.174427</td>\n",
       "      <td>14.936526</td>\n",
       "      <td>2.534912</td>\n",
       "      <td>7.476074</td>\n",
       "      <td>2.106679</td>\n",
       "      <td>1549.775757</td>\n",
       "      <td>-498.912140</td>\n",
       "      <td>1551.434204</td>\n",
       "      <td>-516.403442</td>\n",
       "      <td>1549.873901</td>\n",
       "      <td>-498.666595</td>\n",
       "      <td>1554.367432</td>\n",
       "      <td>-493.428131</td>\n",
       "      <td>41885.707031</td>\n",
       "      <td>3481.779053</td>\n",
       "      <td>3520.337158</td>\n",
       "      <td>2.838687</td>\n",
       "      <td>6.100378</td>\n",
       "      <td>2.284912</td>\n",
       "      <td>523.546326</td>\n",
       "      <td>55.486599</td>\n",
       "      <td>36.808594</td>\n",
       "      <td>6.486150</td>\n",
       "      <td>11.986616</td>\n",
       "      <td>6.007990</td>\n",
       "      <td>11.836743</td>\n",
       "      <td>6.005818</td>\n",
       "      <td>11.500771</td>\n",
       "      <td>7.101074</td>\n",
       "      <td>28.029297</td>\n",
       "      <td>19.793808</td>\n",
       "      <td>87.107763</td>\n",
       "      <td>5.008018</td>\n",
       "      <td>0.508728</td>\n",
       "      <td>19.154297</td>\n",
       "      <td>1.170244</td>\n",
       "      <td>999.706909</td>\n",
       "      <td>-404.066986</td>\n",
       "      <td>1603.011353</td>\n",
       "      <td>-434.715027</td>\n",
       "      <td>1602.375000</td>\n",
       "      <td>-442.204468</td>\n",
       "      <td>1598.937256</td>\n",
       "      <td>-451.294128</td>\n",
       "      <td>1404.472046</td>\n",
       "      <td>-455.462982</td>\n",
       "      <td>1416.354980</td>\n",
       "      <td>-451.939636</td>\n",
       "      <td>14.500184</td>\n",
       "      <td>4.694824</td>\n",
       "      <td>8.764648</td>\n",
       "      <td>2.606185</td>\n",
       "      <td>25.853109</td>\n",
       "      <td>-498.526489</td>\n",
       "      <td>23.893660</td>\n",
       "      <td>-501.406281</td>\n",
       "      <td>23.961798</td>\n",
       "      <td>-495.262817</td>\n",
       "      <td>21.940409</td>\n",
       "      <td>-499.340973</td>\n",
       "      <td>14.016835</td>\n",
       "      <td>-502.488007</td>\n",
       "      <td>12.099931</td>\n",
       "      <td>-504.715942</td>\n",
       "      <td>9.925633</td>\n",
       "      <td>-498.310211</td>\n",
       "      <td>8.079666</td>\n",
       "      <td>-500.470978</td>\n",
       "      <td>14.151341</td>\n",
       "      <td>-605.841980</td>\n",
       "    </tr>\n",
       "    <tr>\n",
       "      <td>1</td>\n",
       "      <td>2016-01-15 01:00:00</td>\n",
       "      <td>6.029369</td>\n",
       "      <td>9.968944</td>\n",
       "      <td>5.257781</td>\n",
       "      <td>42.701629</td>\n",
       "      <td>69.266198</td>\n",
       "      <td>10.462676</td>\n",
       "      <td>0.927452</td>\n",
       "      <td>16.634514</td>\n",
       "      <td>2.224930</td>\n",
       "      <td>125.629232</td>\n",
       "      <td>10.296251</td>\n",
       "      <td>7.25</td>\n",
       "      <td>1.002663</td>\n",
       "      <td>8.558743</td>\n",
       "      <td>10.497069</td>\n",
       "      <td>19.369147</td>\n",
       "      <td>34.118526</td>\n",
       "      <td>16.250511</td>\n",
       "      <td>3.049646</td>\n",
       "      <td>6.733907</td>\n",
       "      <td>2.353017</td>\n",
       "      <td>1576.166671</td>\n",
       "      <td>-500.904965</td>\n",
       "      <td>1575.950626</td>\n",
       "      <td>-499.865889</td>\n",
       "      <td>1575.994189</td>\n",
       "      <td>-499.315107</td>\n",
       "      <td>1574.479259</td>\n",
       "      <td>-498.931665</td>\n",
       "      <td>42050.861809</td>\n",
       "      <td>3498.370979</td>\n",
       "      <td>3489.981857</td>\n",
       "      <td>2.858998</td>\n",
       "      <td>6.161113</td>\n",
       "      <td>2.266033</td>\n",
       "      <td>525.290581</td>\n",
       "      <td>57.278666</td>\n",
       "      <td>35.753385</td>\n",
       "      <td>6.478583</td>\n",
       "      <td>11.971193</td>\n",
       "      <td>6.005766</td>\n",
       "      <td>11.996163</td>\n",
       "      <td>6.012594</td>\n",
       "      <td>11.615865</td>\n",
       "      <td>7.278807</td>\n",
       "      <td>28.067063</td>\n",
       "      <td>20.050975</td>\n",
       "      <td>86.843261</td>\n",
       "      <td>4.955378</td>\n",
       "      <td>0.536689</td>\n",
       "      <td>18.965234</td>\n",
       "      <td>1.184827</td>\n",
       "      <td>1000.286398</td>\n",
       "      <td>-400.065196</td>\n",
       "      <td>1600.754587</td>\n",
       "      <td>-449.953435</td>\n",
       "      <td>1600.479580</td>\n",
       "      <td>-449.830646</td>\n",
       "      <td>1600.527589</td>\n",
       "      <td>-449.953649</td>\n",
       "      <td>1399.227084</td>\n",
       "      <td>-450.869848</td>\n",
       "      <td>1399.719514</td>\n",
       "      <td>-450.119001</td>\n",
       "      <td>14.265474</td>\n",
       "      <td>4.592547</td>\n",
       "      <td>9.001494</td>\n",
       "      <td>2.488248</td>\n",
       "      <td>25.880539</td>\n",
       "      <td>-499.989656</td>\n",
       "      <td>23.889530</td>\n",
       "      <td>-500.372428</td>\n",
       "      <td>23.970550</td>\n",
       "      <td>-500.085473</td>\n",
       "      <td>22.085714</td>\n",
       "      <td>-499.446897</td>\n",
       "      <td>13.992281</td>\n",
       "      <td>-505.503262</td>\n",
       "      <td>11.950531</td>\n",
       "      <td>-501.331529</td>\n",
       "      <td>10.039245</td>\n",
       "      <td>-500.169983</td>\n",
       "      <td>7.984757</td>\n",
       "      <td>-500.582168</td>\n",
       "      <td>13.998353</td>\n",
       "      <td>-599.787184</td>\n",
       "    </tr>\n",
       "    <tr>\n",
       "      <td>2</td>\n",
       "      <td>2016-01-15 02:00:00</td>\n",
       "      <td>6.055926</td>\n",
       "      <td>10.213995</td>\n",
       "      <td>5.383759</td>\n",
       "      <td>42.657501</td>\n",
       "      <td>68.116445</td>\n",
       "      <td>10.507046</td>\n",
       "      <td>0.953716</td>\n",
       "      <td>16.208849</td>\n",
       "      <td>2.257889</td>\n",
       "      <td>123.819808</td>\n",
       "      <td>11.316280</td>\n",
       "      <td>7.25</td>\n",
       "      <td>0.991265</td>\n",
       "      <td>8.603505</td>\n",
       "      <td>10.354494</td>\n",
       "      <td>19.167579</td>\n",
       "      <td>33.969464</td>\n",
       "      <td>16.491823</td>\n",
       "      <td>3.124664</td>\n",
       "      <td>6.471768</td>\n",
       "      <td>2.416800</td>\n",
       "      <td>1601.556163</td>\n",
       "      <td>-499.997791</td>\n",
       "      <td>1600.386685</td>\n",
       "      <td>-500.607762</td>\n",
       "      <td>1602.003542</td>\n",
       "      <td>-500.870069</td>\n",
       "      <td>1599.541515</td>\n",
       "      <td>-499.827444</td>\n",
       "      <td>42018.101184</td>\n",
       "      <td>3495.348910</td>\n",
       "      <td>3502.359819</td>\n",
       "      <td>2.945989</td>\n",
       "      <td>6.116455</td>\n",
       "      <td>2.159622</td>\n",
       "      <td>530.026610</td>\n",
       "      <td>57.510649</td>\n",
       "      <td>35.971630</td>\n",
       "      <td>6.362222</td>\n",
       "      <td>11.920603</td>\n",
       "      <td>6.197377</td>\n",
       "      <td>11.920305</td>\n",
       "      <td>6.204633</td>\n",
       "      <td>11.695753</td>\n",
       "      <td>7.216833</td>\n",
       "      <td>27.454037</td>\n",
       "      <td>19.737170</td>\n",
       "      <td>86.842308</td>\n",
       "      <td>4.843460</td>\n",
       "      <td>0.546416</td>\n",
       "      <td>18.808533</td>\n",
       "      <td>1.162562</td>\n",
       "      <td>999.719565</td>\n",
       "      <td>-400.074028</td>\n",
       "      <td>1599.337330</td>\n",
       "      <td>-450.008530</td>\n",
       "      <td>1599.672797</td>\n",
       "      <td>-449.954491</td>\n",
       "      <td>1599.849325</td>\n",
       "      <td>-449.954185</td>\n",
       "      <td>1399.180945</td>\n",
       "      <td>-449.937588</td>\n",
       "      <td>1400.316682</td>\n",
       "      <td>-450.527147</td>\n",
       "      <td>14.115662</td>\n",
       "      <td>4.624775</td>\n",
       "      <td>8.842896</td>\n",
       "      <td>2.458187</td>\n",
       "      <td>26.005245</td>\n",
       "      <td>-499.929616</td>\n",
       "      <td>23.886657</td>\n",
       "      <td>-499.951928</td>\n",
       "      <td>23.913535</td>\n",
       "      <td>-499.442343</td>\n",
       "      <td>23.957717</td>\n",
       "      <td>-499.901982</td>\n",
       "      <td>14.015015</td>\n",
       "      <td>-502.520901</td>\n",
       "      <td>11.912783</td>\n",
       "      <td>-501.133383</td>\n",
       "      <td>10.070913</td>\n",
       "      <td>-500.129135</td>\n",
       "      <td>8.013877</td>\n",
       "      <td>-500.517572</td>\n",
       "      <td>14.028663</td>\n",
       "      <td>-601.427363</td>\n",
       "    </tr>\n",
       "    <tr>\n",
       "      <td>3</td>\n",
       "      <td>2016-01-15 03:00:00</td>\n",
       "      <td>6.047977</td>\n",
       "      <td>9.977019</td>\n",
       "      <td>4.858634</td>\n",
       "      <td>42.689819</td>\n",
       "      <td>68.347543</td>\n",
       "      <td>10.422762</td>\n",
       "      <td>0.883763</td>\n",
       "      <td>16.532835</td>\n",
       "      <td>2.146849</td>\n",
       "      <td>122.270188</td>\n",
       "      <td>11.322140</td>\n",
       "      <td>7.25</td>\n",
       "      <td>0.996739</td>\n",
       "      <td>7.221879</td>\n",
       "      <td>8.496563</td>\n",
       "      <td>15.978538</td>\n",
       "      <td>28.260743</td>\n",
       "      <td>16.024359</td>\n",
       "      <td>2.960362</td>\n",
       "      <td>6.843791</td>\n",
       "      <td>2.262051</td>\n",
       "      <td>1599.968720</td>\n",
       "      <td>-500.951778</td>\n",
       "      <td>1600.659236</td>\n",
       "      <td>-499.677094</td>\n",
       "      <td>1600.304144</td>\n",
       "      <td>-500.727997</td>\n",
       "      <td>1600.449520</td>\n",
       "      <td>-500.052575</td>\n",
       "      <td>42029.447991</td>\n",
       "      <td>3498.578313</td>\n",
       "      <td>3499.162912</td>\n",
       "      <td>3.002340</td>\n",
       "      <td>6.043309</td>\n",
       "      <td>2.037807</td>\n",
       "      <td>542.590390</td>\n",
       "      <td>57.792734</td>\n",
       "      <td>36.862241</td>\n",
       "      <td>6.118189</td>\n",
       "      <td>11.630094</td>\n",
       "      <td>6.203177</td>\n",
       "      <td>11.692450</td>\n",
       "      <td>6.196578</td>\n",
       "      <td>11.915047</td>\n",
       "      <td>7.175616</td>\n",
       "      <td>27.341277</td>\n",
       "      <td>19.320810</td>\n",
       "      <td>87.226430</td>\n",
       "      <td>4.655288</td>\n",
       "      <td>0.542525</td>\n",
       "      <td>19.330200</td>\n",
       "      <td>1.079755</td>\n",
       "      <td>999.814770</td>\n",
       "      <td>-400.200179</td>\n",
       "      <td>1600.059442</td>\n",
       "      <td>-450.619948</td>\n",
       "      <td>1600.012842</td>\n",
       "      <td>-449.910497</td>\n",
       "      <td>1597.725177</td>\n",
       "      <td>-450.130127</td>\n",
       "      <td>1400.943157</td>\n",
       "      <td>-450.030142</td>\n",
       "      <td>1400.234743</td>\n",
       "      <td>-449.790835</td>\n",
       "      <td>13.732071</td>\n",
       "      <td>4.482453</td>\n",
       "      <td>9.122857</td>\n",
       "      <td>2.322062</td>\n",
       "      <td>25.942508</td>\n",
       "      <td>-499.176749</td>\n",
       "      <td>23.955516</td>\n",
       "      <td>-499.848796</td>\n",
       "      <td>23.966838</td>\n",
       "      <td>-500.008812</td>\n",
       "      <td>23.954443</td>\n",
       "      <td>-499.944710</td>\n",
       "      <td>14.036510</td>\n",
       "      <td>-500.857308</td>\n",
       "      <td>11.999550</td>\n",
       "      <td>-501.193686</td>\n",
       "      <td>9.970366</td>\n",
       "      <td>-499.201640</td>\n",
       "      <td>7.977324</td>\n",
       "      <td>-500.255908</td>\n",
       "      <td>14.005551</td>\n",
       "      <td>-599.996129</td>\n",
       "    </tr>\n",
       "    <tr>\n",
       "      <td>4</td>\n",
       "      <td>2016-01-15 04:00:00</td>\n",
       "      <td>6.148599</td>\n",
       "      <td>10.142511</td>\n",
       "      <td>4.939416</td>\n",
       "      <td>42.774141</td>\n",
       "      <td>66.927016</td>\n",
       "      <td>10.360302</td>\n",
       "      <td>0.792826</td>\n",
       "      <td>16.525686</td>\n",
       "      <td>2.055292</td>\n",
       "      <td>117.988169</td>\n",
       "      <td>11.913613</td>\n",
       "      <td>7.25</td>\n",
       "      <td>1.009869</td>\n",
       "      <td>9.089428</td>\n",
       "      <td>9.986786</td>\n",
       "      <td>19.199864</td>\n",
       "      <td>33.044932</td>\n",
       "      <td>16.480185</td>\n",
       "      <td>3.112100</td>\n",
       "      <td>6.550154</td>\n",
       "      <td>2.277073</td>\n",
       "      <td>1601.339707</td>\n",
       "      <td>-498.975456</td>\n",
       "      <td>1601.437854</td>\n",
       "      <td>-500.323246</td>\n",
       "      <td>1599.581894</td>\n",
       "      <td>-500.888152</td>\n",
       "      <td>1602.649541</td>\n",
       "      <td>-500.593010</td>\n",
       "      <td>42125.354245</td>\n",
       "      <td>3494.800771</td>\n",
       "      <td>3506.679315</td>\n",
       "      <td>3.169615</td>\n",
       "      <td>6.060915</td>\n",
       "      <td>1.786875</td>\n",
       "      <td>540.531893</td>\n",
       "      <td>56.047189</td>\n",
       "      <td>34.347666</td>\n",
       "      <td>5.663707</td>\n",
       "      <td>10.957755</td>\n",
       "      <td>6.198826</td>\n",
       "      <td>10.960521</td>\n",
       "      <td>6.194897</td>\n",
       "      <td>12.411054</td>\n",
       "      <td>7.240205</td>\n",
       "      <td>27.041023</td>\n",
       "      <td>19.216101</td>\n",
       "      <td>86.688794</td>\n",
       "      <td>4.552800</td>\n",
       "      <td>0.515438</td>\n",
       "      <td>19.267422</td>\n",
       "      <td>1.012642</td>\n",
       "      <td>999.678690</td>\n",
       "      <td>-399.752729</td>\n",
       "      <td>1600.208824</td>\n",
       "      <td>-449.599614</td>\n",
       "      <td>1600.357732</td>\n",
       "      <td>-450.034364</td>\n",
       "      <td>1599.759049</td>\n",
       "      <td>-449.909799</td>\n",
       "      <td>1401.560902</td>\n",
       "      <td>-448.877187</td>\n",
       "      <td>1401.160227</td>\n",
       "      <td>-450.407128</td>\n",
       "      <td>14.079996</td>\n",
       "      <td>4.470737</td>\n",
       "      <td>8.871028</td>\n",
       "      <td>2.330448</td>\n",
       "      <td>26.024787</td>\n",
       "      <td>-500.279091</td>\n",
       "      <td>23.955345</td>\n",
       "      <td>-500.593614</td>\n",
       "      <td>23.985703</td>\n",
       "      <td>-500.083811</td>\n",
       "      <td>23.958945</td>\n",
       "      <td>-499.990309</td>\n",
       "      <td>14.027298</td>\n",
       "      <td>-499.838632</td>\n",
       "      <td>11.953070</td>\n",
       "      <td>-501.053894</td>\n",
       "      <td>9.925709</td>\n",
       "      <td>-501.686727</td>\n",
       "      <td>7.894242</td>\n",
       "      <td>-500.356035</td>\n",
       "      <td>13.996647</td>\n",
       "      <td>-601.496691</td>\n",
       "    </tr>\n",
       "  </tbody>\n",
       "</table>\n",
       "</div>"
      ],
      "text/plain": [
       "                  date  final.output.concentrate_ag  \\\n",
       "0  2016-01-15 00:00:00                     6.055403   \n",
       "1  2016-01-15 01:00:00                     6.029369   \n",
       "2  2016-01-15 02:00:00                     6.055926   \n",
       "3  2016-01-15 03:00:00                     6.047977   \n",
       "4  2016-01-15 04:00:00                     6.148599   \n",
       "\n",
       "   final.output.concentrate_pb  final.output.concentrate_sol  \\\n",
       "0                     9.889648                      5.507324   \n",
       "1                     9.968944                      5.257781   \n",
       "2                    10.213995                      5.383759   \n",
       "3                     9.977019                      4.858634   \n",
       "4                    10.142511                      4.939416   \n",
       "\n",
       "   final.output.concentrate_au  final.output.recovery  final.output.tail_ag  \\\n",
       "0                    42.192020              70.541216             10.411962   \n",
       "1                    42.701629              69.266198             10.462676   \n",
       "2                    42.657501              68.116445             10.507046   \n",
       "3                    42.689819              68.347543             10.422762   \n",
       "4                    42.774141              66.927016             10.360302   \n",
       "\n",
       "   final.output.tail_pb  final.output.tail_sol  final.output.tail_au  \\\n",
       "0              0.895447              16.904297              2.143149   \n",
       "1              0.927452              16.634514              2.224930   \n",
       "2              0.953716              16.208849              2.257889   \n",
       "3              0.883763              16.532835              2.146849   \n",
       "4              0.792826              16.525686              2.055292   \n",
       "\n",
       "   primary_cleaner.input.sulfate  primary_cleaner.input.depressant  \\\n",
       "0                     127.092003                         10.128295   \n",
       "1                     125.629232                         10.296251   \n",
       "2                     123.819808                         11.316280   \n",
       "3                     122.270188                         11.322140   \n",
       "4                     117.988169                         11.913613   \n",
       "\n",
       "   primary_cleaner.input.feed_size  primary_cleaner.input.xanthate  \\\n",
       "0                             7.25                        0.988759   \n",
       "1                             7.25                        1.002663   \n",
       "2                             7.25                        0.991265   \n",
       "3                             7.25                        0.996739   \n",
       "4                             7.25                        1.009869   \n",
       "\n",
       "   primary_cleaner.output.concentrate_ag  \\\n",
       "0                               8.547551   \n",
       "1                               8.558743   \n",
       "2                               8.603505   \n",
       "3                               7.221879   \n",
       "4                               9.089428   \n",
       "\n",
       "   primary_cleaner.output.concentrate_pb  \\\n",
       "0                              10.389648   \n",
       "1                              10.497069   \n",
       "2                              10.354494   \n",
       "3                               8.496563   \n",
       "4                               9.986786   \n",
       "\n",
       "   primary_cleaner.output.concentrate_sol  \\\n",
       "0                               19.529297   \n",
       "1                               19.369147   \n",
       "2                               19.167579   \n",
       "3                               15.978538   \n",
       "4                               19.199864   \n",
       "\n",
       "   primary_cleaner.output.concentrate_au  primary_cleaner.output.tail_ag  \\\n",
       "0                              34.174427                       14.936526   \n",
       "1                              34.118526                       16.250511   \n",
       "2                              33.969464                       16.491823   \n",
       "3                              28.260743                       16.024359   \n",
       "4                              33.044932                       16.480185   \n",
       "\n",
       "   primary_cleaner.output.tail_pb  primary_cleaner.output.tail_sol  \\\n",
       "0                        2.534912                         7.476074   \n",
       "1                        3.049646                         6.733907   \n",
       "2                        3.124664                         6.471768   \n",
       "3                        2.960362                         6.843791   \n",
       "4                        3.112100                         6.550154   \n",
       "\n",
       "   primary_cleaner.output.tail_au  primary_cleaner.state.floatbank8_a_air  \\\n",
       "0                        2.106679                             1549.775757   \n",
       "1                        2.353017                             1576.166671   \n",
       "2                        2.416800                             1601.556163   \n",
       "3                        2.262051                             1599.968720   \n",
       "4                        2.277073                             1601.339707   \n",
       "\n",
       "   primary_cleaner.state.floatbank8_a_level  \\\n",
       "0                               -498.912140   \n",
       "1                               -500.904965   \n",
       "2                               -499.997791   \n",
       "3                               -500.951778   \n",
       "4                               -498.975456   \n",
       "\n",
       "   primary_cleaner.state.floatbank8_b_air  \\\n",
       "0                             1551.434204   \n",
       "1                             1575.950626   \n",
       "2                             1600.386685   \n",
       "3                             1600.659236   \n",
       "4                             1601.437854   \n",
       "\n",
       "   primary_cleaner.state.floatbank8_b_level  \\\n",
       "0                               -516.403442   \n",
       "1                               -499.865889   \n",
       "2                               -500.607762   \n",
       "3                               -499.677094   \n",
       "4                               -500.323246   \n",
       "\n",
       "   primary_cleaner.state.floatbank8_c_air  \\\n",
       "0                             1549.873901   \n",
       "1                             1575.994189   \n",
       "2                             1602.003542   \n",
       "3                             1600.304144   \n",
       "4                             1599.581894   \n",
       "\n",
       "   primary_cleaner.state.floatbank8_c_level  \\\n",
       "0                               -498.666595   \n",
       "1                               -499.315107   \n",
       "2                               -500.870069   \n",
       "3                               -500.727997   \n",
       "4                               -500.888152   \n",
       "\n",
       "   primary_cleaner.state.floatbank8_d_air  \\\n",
       "0                             1554.367432   \n",
       "1                             1574.479259   \n",
       "2                             1599.541515   \n",
       "3                             1600.449520   \n",
       "4                             1602.649541   \n",
       "\n",
       "   primary_cleaner.state.floatbank8_d_level  \\\n",
       "0                               -493.428131   \n",
       "1                               -498.931665   \n",
       "2                               -499.827444   \n",
       "3                               -500.052575   \n",
       "4                               -500.593010   \n",
       "\n",
       "   rougher.calculation.sulfate_to_au_concentrate  \\\n",
       "0                                   41885.707031   \n",
       "1                                   42050.861809   \n",
       "2                                   42018.101184   \n",
       "3                                   42029.447991   \n",
       "4                                   42125.354245   \n",
       "\n",
       "   rougher.calculation.floatbank10_sulfate_to_au_feed  \\\n",
       "0                                        3481.779053    \n",
       "1                                        3498.370979    \n",
       "2                                        3495.348910    \n",
       "3                                        3498.578313    \n",
       "4                                        3494.800771    \n",
       "\n",
       "   rougher.calculation.floatbank11_sulfate_to_au_feed  \\\n",
       "0                                        3520.337158    \n",
       "1                                        3489.981857    \n",
       "2                                        3502.359819    \n",
       "3                                        3499.162912    \n",
       "4                                        3506.679315    \n",
       "\n",
       "   rougher.calculation.au_pb_ratio  rougher.input.feed_ag  \\\n",
       "0                         2.838687               6.100378   \n",
       "1                         2.858998               6.161113   \n",
       "2                         2.945989               6.116455   \n",
       "3                         3.002340               6.043309   \n",
       "4                         3.169615               6.060915   \n",
       "\n",
       "   rougher.input.feed_pb  rougher.input.feed_rate  rougher.input.feed_size  \\\n",
       "0               2.284912               523.546326                55.486599   \n",
       "1               2.266033               525.290581                57.278666   \n",
       "2               2.159622               530.026610                57.510649   \n",
       "3               2.037807               542.590390                57.792734   \n",
       "4               1.786875               540.531893                56.047189   \n",
       "\n",
       "   rougher.input.feed_sol  rougher.input.feed_au  \\\n",
       "0               36.808594               6.486150   \n",
       "1               35.753385               6.478583   \n",
       "2               35.971630               6.362222   \n",
       "3               36.862241               6.118189   \n",
       "4               34.347666               5.663707   \n",
       "\n",
       "   rougher.input.floatbank10_sulfate  rougher.input.floatbank10_xanthate  \\\n",
       "0                          11.986616                            6.007990   \n",
       "1                          11.971193                            6.005766   \n",
       "2                          11.920603                            6.197377   \n",
       "3                          11.630094                            6.203177   \n",
       "4                          10.957755                            6.198826   \n",
       "\n",
       "   rougher.input.floatbank11_sulfate  rougher.input.floatbank11_xanthate  \\\n",
       "0                          11.836743                            6.005818   \n",
       "1                          11.996163                            6.012594   \n",
       "2                          11.920305                            6.204633   \n",
       "3                          11.692450                            6.196578   \n",
       "4                          10.960521                            6.194897   \n",
       "\n",
       "   rougher.output.concentrate_ag  rougher.output.concentrate_pb  \\\n",
       "0                      11.500771                       7.101074   \n",
       "1                      11.615865                       7.278807   \n",
       "2                      11.695753                       7.216833   \n",
       "3                      11.915047                       7.175616   \n",
       "4                      12.411054                       7.240205   \n",
       "\n",
       "   rougher.output.concentrate_sol  rougher.output.concentrate_au  \\\n",
       "0                       28.029297                      19.793808   \n",
       "1                       28.067063                      20.050975   \n",
       "2                       27.454037                      19.737170   \n",
       "3                       27.341277                      19.320810   \n",
       "4                       27.041023                      19.216101   \n",
       "\n",
       "   rougher.output.recovery  rougher.output.tail_ag  rougher.output.tail_pb  \\\n",
       "0                87.107763                5.008018                0.508728   \n",
       "1                86.843261                4.955378                0.536689   \n",
       "2                86.842308                4.843460                0.546416   \n",
       "3                87.226430                4.655288                0.542525   \n",
       "4                86.688794                4.552800                0.515438   \n",
       "\n",
       "   rougher.output.tail_sol  rougher.output.tail_au  \\\n",
       "0                19.154297                1.170244   \n",
       "1                18.965234                1.184827   \n",
       "2                18.808533                1.162562   \n",
       "3                19.330200                1.079755   \n",
       "4                19.267422                1.012642   \n",
       "\n",
       "   rougher.state.floatbank10_a_air  rougher.state.floatbank10_a_level  \\\n",
       "0                       999.706909                        -404.066986   \n",
       "1                      1000.286398                        -400.065196   \n",
       "2                       999.719565                        -400.074028   \n",
       "3                       999.814770                        -400.200179   \n",
       "4                       999.678690                        -399.752729   \n",
       "\n",
       "   rougher.state.floatbank10_b_air  rougher.state.floatbank10_b_level  \\\n",
       "0                      1603.011353                        -434.715027   \n",
       "1                      1600.754587                        -449.953435   \n",
       "2                      1599.337330                        -450.008530   \n",
       "3                      1600.059442                        -450.619948   \n",
       "4                      1600.208824                        -449.599614   \n",
       "\n",
       "   rougher.state.floatbank10_c_air  rougher.state.floatbank10_c_level  \\\n",
       "0                      1602.375000                        -442.204468   \n",
       "1                      1600.479580                        -449.830646   \n",
       "2                      1599.672797                        -449.954491   \n",
       "3                      1600.012842                        -449.910497   \n",
       "4                      1600.357732                        -450.034364   \n",
       "\n",
       "   rougher.state.floatbank10_d_air  rougher.state.floatbank10_d_level  \\\n",
       "0                      1598.937256                        -451.294128   \n",
       "1                      1600.527589                        -449.953649   \n",
       "2                      1599.849325                        -449.954185   \n",
       "3                      1597.725177                        -450.130127   \n",
       "4                      1599.759049                        -449.909799   \n",
       "\n",
       "   rougher.state.floatbank10_e_air  rougher.state.floatbank10_e_level  \\\n",
       "0                      1404.472046                        -455.462982   \n",
       "1                      1399.227084                        -450.869848   \n",
       "2                      1399.180945                        -449.937588   \n",
       "3                      1400.943157                        -450.030142   \n",
       "4                      1401.560902                        -448.877187   \n",
       "\n",
       "   rougher.state.floatbank10_f_air  rougher.state.floatbank10_f_level  \\\n",
       "0                      1416.354980                        -451.939636   \n",
       "1                      1399.719514                        -450.119001   \n",
       "2                      1400.316682                        -450.527147   \n",
       "3                      1400.234743                        -449.790835   \n",
       "4                      1401.160227                        -450.407128   \n",
       "\n",
       "   secondary_cleaner.output.tail_ag  secondary_cleaner.output.tail_pb  \\\n",
       "0                         14.500184                          4.694824   \n",
       "1                         14.265474                          4.592547   \n",
       "2                         14.115662                          4.624775   \n",
       "3                         13.732071                          4.482453   \n",
       "4                         14.079996                          4.470737   \n",
       "\n",
       "   secondary_cleaner.output.tail_sol  secondary_cleaner.output.tail_au  \\\n",
       "0                           8.764648                          2.606185   \n",
       "1                           9.001494                          2.488248   \n",
       "2                           8.842896                          2.458187   \n",
       "3                           9.122857                          2.322062   \n",
       "4                           8.871028                          2.330448   \n",
       "\n",
       "   secondary_cleaner.state.floatbank2_a_air  \\\n",
       "0                                 25.853109   \n",
       "1                                 25.880539   \n",
       "2                                 26.005245   \n",
       "3                                 25.942508   \n",
       "4                                 26.024787   \n",
       "\n",
       "   secondary_cleaner.state.floatbank2_a_level  \\\n",
       "0                                 -498.526489   \n",
       "1                                 -499.989656   \n",
       "2                                 -499.929616   \n",
       "3                                 -499.176749   \n",
       "4                                 -500.279091   \n",
       "\n",
       "   secondary_cleaner.state.floatbank2_b_air  \\\n",
       "0                                 23.893660   \n",
       "1                                 23.889530   \n",
       "2                                 23.886657   \n",
       "3                                 23.955516   \n",
       "4                                 23.955345   \n",
       "\n",
       "   secondary_cleaner.state.floatbank2_b_level  \\\n",
       "0                                 -501.406281   \n",
       "1                                 -500.372428   \n",
       "2                                 -499.951928   \n",
       "3                                 -499.848796   \n",
       "4                                 -500.593614   \n",
       "\n",
       "   secondary_cleaner.state.floatbank3_a_air  \\\n",
       "0                                 23.961798   \n",
       "1                                 23.970550   \n",
       "2                                 23.913535   \n",
       "3                                 23.966838   \n",
       "4                                 23.985703   \n",
       "\n",
       "   secondary_cleaner.state.floatbank3_a_level  \\\n",
       "0                                 -495.262817   \n",
       "1                                 -500.085473   \n",
       "2                                 -499.442343   \n",
       "3                                 -500.008812   \n",
       "4                                 -500.083811   \n",
       "\n",
       "   secondary_cleaner.state.floatbank3_b_air  \\\n",
       "0                                 21.940409   \n",
       "1                                 22.085714   \n",
       "2                                 23.957717   \n",
       "3                                 23.954443   \n",
       "4                                 23.958945   \n",
       "\n",
       "   secondary_cleaner.state.floatbank3_b_level  \\\n",
       "0                                 -499.340973   \n",
       "1                                 -499.446897   \n",
       "2                                 -499.901982   \n",
       "3                                 -499.944710   \n",
       "4                                 -499.990309   \n",
       "\n",
       "   secondary_cleaner.state.floatbank4_a_air  \\\n",
       "0                                 14.016835   \n",
       "1                                 13.992281   \n",
       "2                                 14.015015   \n",
       "3                                 14.036510   \n",
       "4                                 14.027298   \n",
       "\n",
       "   secondary_cleaner.state.floatbank4_a_level  \\\n",
       "0                                 -502.488007   \n",
       "1                                 -505.503262   \n",
       "2                                 -502.520901   \n",
       "3                                 -500.857308   \n",
       "4                                 -499.838632   \n",
       "\n",
       "   secondary_cleaner.state.floatbank4_b_air  \\\n",
       "0                                 12.099931   \n",
       "1                                 11.950531   \n",
       "2                                 11.912783   \n",
       "3                                 11.999550   \n",
       "4                                 11.953070   \n",
       "\n",
       "   secondary_cleaner.state.floatbank4_b_level  \\\n",
       "0                                 -504.715942   \n",
       "1                                 -501.331529   \n",
       "2                                 -501.133383   \n",
       "3                                 -501.193686   \n",
       "4                                 -501.053894   \n",
       "\n",
       "   secondary_cleaner.state.floatbank5_a_air  \\\n",
       "0                                  9.925633   \n",
       "1                                 10.039245   \n",
       "2                                 10.070913   \n",
       "3                                  9.970366   \n",
       "4                                  9.925709   \n",
       "\n",
       "   secondary_cleaner.state.floatbank5_a_level  \\\n",
       "0                                 -498.310211   \n",
       "1                                 -500.169983   \n",
       "2                                 -500.129135   \n",
       "3                                 -499.201640   \n",
       "4                                 -501.686727   \n",
       "\n",
       "   secondary_cleaner.state.floatbank5_b_air  \\\n",
       "0                                  8.079666   \n",
       "1                                  7.984757   \n",
       "2                                  8.013877   \n",
       "3                                  7.977324   \n",
       "4                                  7.894242   \n",
       "\n",
       "   secondary_cleaner.state.floatbank5_b_level  \\\n",
       "0                                 -500.470978   \n",
       "1                                 -500.582168   \n",
       "2                                 -500.517572   \n",
       "3                                 -500.255908   \n",
       "4                                 -500.356035   \n",
       "\n",
       "   secondary_cleaner.state.floatbank6_a_air  \\\n",
       "0                                 14.151341   \n",
       "1                                 13.998353   \n",
       "2                                 14.028663   \n",
       "3                                 14.005551   \n",
       "4                                 13.996647   \n",
       "\n",
       "   secondary_cleaner.state.floatbank6_a_level  \n",
       "0                                 -605.841980  \n",
       "1                                 -599.787184  \n",
       "2                                 -601.427363  \n",
       "3                                 -599.996129  \n",
       "4                                 -601.496691  "
      ]
     },
     "execution_count": 4,
     "metadata": {},
     "output_type": "execute_result"
    }
   ],
   "source": [
    "df_full.head()"
   ]
  },
  {
   "cell_type": "code",
   "execution_count": 5,
   "metadata": {
    "scrolled": true
   },
   "outputs": [
    {
     "name": "stdout",
     "output_type": "stream",
     "text": [
      "<class 'pandas.core.frame.DataFrame'>\n",
      "RangeIndex: 14149 entries, 0 to 14148\n",
      "Data columns (total 87 columns):\n",
      "date                                                  14149 non-null object\n",
      "final.output.concentrate_ag                           14148 non-null float64\n",
      "final.output.concentrate_pb                           14148 non-null float64\n",
      "final.output.concentrate_sol                          13938 non-null float64\n",
      "final.output.concentrate_au                           14149 non-null float64\n",
      "final.output.recovery                                 14149 non-null float64\n",
      "final.output.tail_ag                                  14149 non-null float64\n",
      "final.output.tail_pb                                  14049 non-null float64\n",
      "final.output.tail_sol                                 14144 non-null float64\n",
      "final.output.tail_au                                  14149 non-null float64\n",
      "primary_cleaner.input.sulfate                         14129 non-null float64\n",
      "primary_cleaner.input.depressant                      14117 non-null float64\n",
      "primary_cleaner.input.feed_size                       14149 non-null float64\n",
      "primary_cleaner.input.xanthate                        14049 non-null float64\n",
      "primary_cleaner.output.concentrate_ag                 14149 non-null float64\n",
      "primary_cleaner.output.concentrate_pb                 14063 non-null float64\n",
      "primary_cleaner.output.concentrate_sol                13863 non-null float64\n",
      "primary_cleaner.output.concentrate_au                 14149 non-null float64\n",
      "primary_cleaner.output.tail_ag                        14148 non-null float64\n",
      "primary_cleaner.output.tail_pb                        14134 non-null float64\n",
      "primary_cleaner.output.tail_sol                       14103 non-null float64\n",
      "primary_cleaner.output.tail_au                        14149 non-null float64\n",
      "primary_cleaner.state.floatbank8_a_air                14145 non-null float64\n",
      "primary_cleaner.state.floatbank8_a_level              14148 non-null float64\n",
      "primary_cleaner.state.floatbank8_b_air                14145 non-null float64\n",
      "primary_cleaner.state.floatbank8_b_level              14148 non-null float64\n",
      "primary_cleaner.state.floatbank8_c_air                14147 non-null float64\n",
      "primary_cleaner.state.floatbank8_c_level              14148 non-null float64\n",
      "primary_cleaner.state.floatbank8_d_air                14146 non-null float64\n",
      "primary_cleaner.state.floatbank8_d_level              14148 non-null float64\n",
      "rougher.calculation.sulfate_to_au_concentrate         14148 non-null float64\n",
      "rougher.calculation.floatbank10_sulfate_to_au_feed    14148 non-null float64\n",
      "rougher.calculation.floatbank11_sulfate_to_au_feed    14148 non-null float64\n",
      "rougher.calculation.au_pb_ratio                       14149 non-null float64\n",
      "rougher.input.feed_ag                                 14149 non-null float64\n",
      "rougher.input.feed_pb                                 14049 non-null float64\n",
      "rougher.input.feed_rate                               14141 non-null float64\n",
      "rougher.input.feed_size                               14005 non-null float64\n",
      "rougher.input.feed_sol                                14071 non-null float64\n",
      "rougher.input.feed_au                                 14149 non-null float64\n",
      "rougher.input.floatbank10_sulfate                     14120 non-null float64\n",
      "rougher.input.floatbank10_xanthate                    14141 non-null float64\n",
      "rougher.input.floatbank11_sulfate                     14113 non-null float64\n",
      "rougher.input.floatbank11_xanthate                    13721 non-null float64\n",
      "rougher.output.concentrate_ag                         14149 non-null float64\n",
      "rougher.output.concentrate_pb                         14149 non-null float64\n",
      "rougher.output.concentrate_sol                        14127 non-null float64\n",
      "rougher.output.concentrate_au                         14149 non-null float64\n",
      "rougher.output.recovery                               14149 non-null float64\n",
      "rougher.output.tail_ag                                14148 non-null float64\n",
      "rougher.output.tail_pb                                14149 non-null float64\n",
      "rougher.output.tail_sol                               14149 non-null float64\n",
      "rougher.output.tail_au                                14149 non-null float64\n",
      "rougher.state.floatbank10_a_air                       14148 non-null float64\n",
      "rougher.state.floatbank10_a_level                     14148 non-null float64\n",
      "rougher.state.floatbank10_b_air                       14148 non-null float64\n",
      "rougher.state.floatbank10_b_level                     14148 non-null float64\n",
      "rougher.state.floatbank10_c_air                       14148 non-null float64\n",
      "rougher.state.floatbank10_c_level                     14148 non-null float64\n",
      "rougher.state.floatbank10_d_air                       14149 non-null float64\n",
      "rougher.state.floatbank10_d_level                     14149 non-null float64\n",
      "rougher.state.floatbank10_e_air                       13713 non-null float64\n",
      "rougher.state.floatbank10_e_level                     14149 non-null float64\n",
      "rougher.state.floatbank10_f_air                       14149 non-null float64\n",
      "rougher.state.floatbank10_f_level                     14149 non-null float64\n",
      "secondary_cleaner.output.tail_ag                      14147 non-null float64\n",
      "secondary_cleaner.output.tail_pb                      14139 non-null float64\n",
      "secondary_cleaner.output.tail_sol                     12544 non-null float64\n",
      "secondary_cleaner.output.tail_au                      14149 non-null float64\n",
      "secondary_cleaner.state.floatbank2_a_air              13932 non-null float64\n",
      "secondary_cleaner.state.floatbank2_a_level            14148 non-null float64\n",
      "secondary_cleaner.state.floatbank2_b_air              14128 non-null float64\n",
      "secondary_cleaner.state.floatbank2_b_level            14148 non-null float64\n",
      "secondary_cleaner.state.floatbank3_a_air              14145 non-null float64\n",
      "secondary_cleaner.state.floatbank3_a_level            14148 non-null float64\n",
      "secondary_cleaner.state.floatbank3_b_air              14148 non-null float64\n",
      "secondary_cleaner.state.floatbank3_b_level            14148 non-null float64\n",
      "secondary_cleaner.state.floatbank4_a_air              14143 non-null float64\n",
      "secondary_cleaner.state.floatbank4_a_level            14148 non-null float64\n",
      "secondary_cleaner.state.floatbank4_b_air              14148 non-null float64\n",
      "secondary_cleaner.state.floatbank4_b_level            14148 non-null float64\n",
      "secondary_cleaner.state.floatbank5_a_air              14148 non-null float64\n",
      "secondary_cleaner.state.floatbank5_a_level            14148 non-null float64\n",
      "secondary_cleaner.state.floatbank5_b_air              14148 non-null float64\n",
      "secondary_cleaner.state.floatbank5_b_level            14148 non-null float64\n",
      "secondary_cleaner.state.floatbank6_a_air              14147 non-null float64\n",
      "secondary_cleaner.state.floatbank6_a_level            14148 non-null float64\n",
      "dtypes: float64(86), object(1)\n",
      "memory usage: 9.4+ MB\n"
     ]
    }
   ],
   "source": [
    "df_train.info()"
   ]
  },
  {
   "cell_type": "code",
   "execution_count": 6,
   "metadata": {
    "scrolled": true
   },
   "outputs": [
    {
     "name": "stdout",
     "output_type": "stream",
     "text": [
      "<class 'pandas.core.frame.DataFrame'>\n",
      "RangeIndex: 5290 entries, 0 to 5289\n",
      "Data columns (total 53 columns):\n",
      "date                                          5290 non-null object\n",
      "primary_cleaner.input.sulfate                 5286 non-null float64\n",
      "primary_cleaner.input.depressant              5285 non-null float64\n",
      "primary_cleaner.input.feed_size               5290 non-null float64\n",
      "primary_cleaner.input.xanthate                5286 non-null float64\n",
      "primary_cleaner.state.floatbank8_a_air        5290 non-null float64\n",
      "primary_cleaner.state.floatbank8_a_level      5290 non-null float64\n",
      "primary_cleaner.state.floatbank8_b_air        5290 non-null float64\n",
      "primary_cleaner.state.floatbank8_b_level      5290 non-null float64\n",
      "primary_cleaner.state.floatbank8_c_air        5290 non-null float64\n",
      "primary_cleaner.state.floatbank8_c_level      5290 non-null float64\n",
      "primary_cleaner.state.floatbank8_d_air        5290 non-null float64\n",
      "primary_cleaner.state.floatbank8_d_level      5290 non-null float64\n",
      "rougher.input.feed_ag                         5290 non-null float64\n",
      "rougher.input.feed_pb                         5290 non-null float64\n",
      "rougher.input.feed_rate                       5287 non-null float64\n",
      "rougher.input.feed_size                       5289 non-null float64\n",
      "rougher.input.feed_sol                        5269 non-null float64\n",
      "rougher.input.feed_au                         5290 non-null float64\n",
      "rougher.input.floatbank10_sulfate             5285 non-null float64\n",
      "rougher.input.floatbank10_xanthate            5290 non-null float64\n",
      "rougher.input.floatbank11_sulfate             5282 non-null float64\n",
      "rougher.input.floatbank11_xanthate            5265 non-null float64\n",
      "rougher.state.floatbank10_a_air               5290 non-null float64\n",
      "rougher.state.floatbank10_a_level             5290 non-null float64\n",
      "rougher.state.floatbank10_b_air               5290 non-null float64\n",
      "rougher.state.floatbank10_b_level             5290 non-null float64\n",
      "rougher.state.floatbank10_c_air               5290 non-null float64\n",
      "rougher.state.floatbank10_c_level             5290 non-null float64\n",
      "rougher.state.floatbank10_d_air               5290 non-null float64\n",
      "rougher.state.floatbank10_d_level             5290 non-null float64\n",
      "rougher.state.floatbank10_e_air               5290 non-null float64\n",
      "rougher.state.floatbank10_e_level             5290 non-null float64\n",
      "rougher.state.floatbank10_f_air               5290 non-null float64\n",
      "rougher.state.floatbank10_f_level             5290 non-null float64\n",
      "secondary_cleaner.state.floatbank2_a_air      5287 non-null float64\n",
      "secondary_cleaner.state.floatbank2_a_level    5290 non-null float64\n",
      "secondary_cleaner.state.floatbank2_b_air      5288 non-null float64\n",
      "secondary_cleaner.state.floatbank2_b_level    5290 non-null float64\n",
      "secondary_cleaner.state.floatbank3_a_air      5281 non-null float64\n",
      "secondary_cleaner.state.floatbank3_a_level    5290 non-null float64\n",
      "secondary_cleaner.state.floatbank3_b_air      5290 non-null float64\n",
      "secondary_cleaner.state.floatbank3_b_level    5290 non-null float64\n",
      "secondary_cleaner.state.floatbank4_a_air      5290 non-null float64\n",
      "secondary_cleaner.state.floatbank4_a_level    5290 non-null float64\n",
      "secondary_cleaner.state.floatbank4_b_air      5290 non-null float64\n",
      "secondary_cleaner.state.floatbank4_b_level    5290 non-null float64\n",
      "secondary_cleaner.state.floatbank5_a_air      5290 non-null float64\n",
      "secondary_cleaner.state.floatbank5_a_level    5290 non-null float64\n",
      "secondary_cleaner.state.floatbank5_b_air      5290 non-null float64\n",
      "secondary_cleaner.state.floatbank5_b_level    5290 non-null float64\n",
      "secondary_cleaner.state.floatbank6_a_air      5290 non-null float64\n",
      "secondary_cleaner.state.floatbank6_a_level    5290 non-null float64\n",
      "dtypes: float64(52), object(1)\n",
      "memory usage: 2.1+ MB\n"
     ]
    }
   ],
   "source": [
    "df_test.info()"
   ]
  },
  {
   "cell_type": "code",
   "execution_count": 7,
   "metadata": {
    "scrolled": true
   },
   "outputs": [
    {
     "name": "stdout",
     "output_type": "stream",
     "text": [
      "<class 'pandas.core.frame.DataFrame'>\n",
      "RangeIndex: 19439 entries, 0 to 19438\n",
      "Data columns (total 87 columns):\n",
      "date                                                  19439 non-null object\n",
      "final.output.concentrate_ag                           19438 non-null float64\n",
      "final.output.concentrate_pb                           19438 non-null float64\n",
      "final.output.concentrate_sol                          19228 non-null float64\n",
      "final.output.concentrate_au                           19439 non-null float64\n",
      "final.output.recovery                                 19439 non-null float64\n",
      "final.output.tail_ag                                  19438 non-null float64\n",
      "final.output.tail_pb                                  19338 non-null float64\n",
      "final.output.tail_sol                                 19433 non-null float64\n",
      "final.output.tail_au                                  19439 non-null float64\n",
      "primary_cleaner.input.sulfate                         19415 non-null float64\n",
      "primary_cleaner.input.depressant                      19402 non-null float64\n",
      "primary_cleaner.input.feed_size                       19439 non-null float64\n",
      "primary_cleaner.input.xanthate                        19335 non-null float64\n",
      "primary_cleaner.output.concentrate_ag                 19439 non-null float64\n",
      "primary_cleaner.output.concentrate_pb                 19323 non-null float64\n",
      "primary_cleaner.output.concentrate_sol                19069 non-null float64\n",
      "primary_cleaner.output.concentrate_au                 19439 non-null float64\n",
      "primary_cleaner.output.tail_ag                        19435 non-null float64\n",
      "primary_cleaner.output.tail_pb                        19418 non-null float64\n",
      "primary_cleaner.output.tail_sol                       19377 non-null float64\n",
      "primary_cleaner.output.tail_au                        19439 non-null float64\n",
      "primary_cleaner.state.floatbank8_a_air                19435 non-null float64\n",
      "primary_cleaner.state.floatbank8_a_level              19438 non-null float64\n",
      "primary_cleaner.state.floatbank8_b_air                19435 non-null float64\n",
      "primary_cleaner.state.floatbank8_b_level              19438 non-null float64\n",
      "primary_cleaner.state.floatbank8_c_air                19437 non-null float64\n",
      "primary_cleaner.state.floatbank8_c_level              19438 non-null float64\n",
      "primary_cleaner.state.floatbank8_d_air                19436 non-null float64\n",
      "primary_cleaner.state.floatbank8_d_level              19438 non-null float64\n",
      "rougher.calculation.sulfate_to_au_concentrate         19437 non-null float64\n",
      "rougher.calculation.floatbank10_sulfate_to_au_feed    19437 non-null float64\n",
      "rougher.calculation.floatbank11_sulfate_to_au_feed    19437 non-null float64\n",
      "rougher.calculation.au_pb_ratio                       19439 non-null float64\n",
      "rougher.input.feed_ag                                 19439 non-null float64\n",
      "rougher.input.feed_pb                                 19339 non-null float64\n",
      "rougher.input.feed_rate                               19428 non-null float64\n",
      "rougher.input.feed_size                               19294 non-null float64\n",
      "rougher.input.feed_sol                                19340 non-null float64\n",
      "rougher.input.feed_au                                 19439 non-null float64\n",
      "rougher.input.floatbank10_sulfate                     19405 non-null float64\n",
      "rougher.input.floatbank10_xanthate                    19431 non-null float64\n",
      "rougher.input.floatbank11_sulfate                     19395 non-null float64\n",
      "rougher.input.floatbank11_xanthate                    18986 non-null float64\n",
      "rougher.output.concentrate_ag                         19439 non-null float64\n",
      "rougher.output.concentrate_pb                         19439 non-null float64\n",
      "rougher.output.concentrate_sol                        19416 non-null float64\n",
      "rougher.output.concentrate_au                         19439 non-null float64\n",
      "rougher.output.recovery                               19439 non-null float64\n",
      "rougher.output.tail_ag                                19438 non-null float64\n",
      "rougher.output.tail_pb                                19439 non-null float64\n",
      "rougher.output.tail_sol                               19439 non-null float64\n",
      "rougher.output.tail_au                                19439 non-null float64\n",
      "rougher.state.floatbank10_a_air                       19438 non-null float64\n",
      "rougher.state.floatbank10_a_level                     19438 non-null float64\n",
      "rougher.state.floatbank10_b_air                       19438 non-null float64\n",
      "rougher.state.floatbank10_b_level                     19438 non-null float64\n",
      "rougher.state.floatbank10_c_air                       19438 non-null float64\n",
      "rougher.state.floatbank10_c_level                     19438 non-null float64\n",
      "rougher.state.floatbank10_d_air                       19439 non-null float64\n",
      "rougher.state.floatbank10_d_level                     19439 non-null float64\n",
      "rougher.state.floatbank10_e_air                       19003 non-null float64\n",
      "rougher.state.floatbank10_e_level                     19439 non-null float64\n",
      "rougher.state.floatbank10_f_air                       19439 non-null float64\n",
      "rougher.state.floatbank10_f_level                     19439 non-null float64\n",
      "secondary_cleaner.output.tail_ag                      19437 non-null float64\n",
      "secondary_cleaner.output.tail_pb                      19427 non-null float64\n",
      "secondary_cleaner.output.tail_sol                     17691 non-null float64\n",
      "secondary_cleaner.output.tail_au                      19439 non-null float64\n",
      "secondary_cleaner.state.floatbank2_a_air              19219 non-null float64\n",
      "secondary_cleaner.state.floatbank2_a_level            19438 non-null float64\n",
      "secondary_cleaner.state.floatbank2_b_air              19416 non-null float64\n",
      "secondary_cleaner.state.floatbank2_b_level            19438 non-null float64\n",
      "secondary_cleaner.state.floatbank3_a_air              19426 non-null float64\n",
      "secondary_cleaner.state.floatbank3_a_level            19438 non-null float64\n",
      "secondary_cleaner.state.floatbank3_b_air              19438 non-null float64\n",
      "secondary_cleaner.state.floatbank3_b_level            19438 non-null float64\n",
      "secondary_cleaner.state.floatbank4_a_air              19433 non-null float64\n",
      "secondary_cleaner.state.floatbank4_a_level            19438 non-null float64\n",
      "secondary_cleaner.state.floatbank4_b_air              19438 non-null float64\n",
      "secondary_cleaner.state.floatbank4_b_level            19438 non-null float64\n",
      "secondary_cleaner.state.floatbank5_a_air              19438 non-null float64\n",
      "secondary_cleaner.state.floatbank5_a_level            19438 non-null float64\n",
      "secondary_cleaner.state.floatbank5_b_air              19438 non-null float64\n",
      "secondary_cleaner.state.floatbank5_b_level            19438 non-null float64\n",
      "secondary_cleaner.state.floatbank6_a_air              19437 non-null float64\n",
      "secondary_cleaner.state.floatbank6_a_level            19438 non-null float64\n",
      "dtypes: float64(86), object(1)\n",
      "memory usage: 12.9+ MB\n"
     ]
    }
   ],
   "source": [
    "df_full.info()"
   ]
  },
  {
   "cell_type": "markdown",
   "metadata": {},
   "source": [
    "Все данные в таблицах имеют численные значения кроме одной колонки с датой, заметны пропуски и разница в количестве колонок выборок."
   ]
  },
  {
   "cell_type": "markdown",
   "metadata": {},
   "source": [
    "### Проверим, что эффективность обогащения рассчитана правильно."
   ]
  },
  {
   "cell_type": "markdown",
   "metadata": {},
   "source": [
    "Вычислим её на обучающей выборке для признака `rougher.output.recovery`. Найдем *MAE* между нашими расчётами и значением признака.\n",
    "\n",
    "Создадим копию с нужными колонками для проведения проверки расчетов."
   ]
  },
  {
   "cell_type": "code",
   "execution_count": 8,
   "metadata": {},
   "outputs": [],
   "source": [
    "df_train_MAE = df_train[[\n",
    "    \"rougher.output.concentrate_au\",\n",
    "    \"rougher.input.feed_au\",\n",
    "    \"rougher.output.tail_au\",\n",
    "    \"rougher.output.recovery\"\n",
    "]]"
   ]
  },
  {
   "cell_type": "markdown",
   "metadata": {},
   "source": [
    "Отбросим пустый значения"
   ]
  },
  {
   "cell_type": "code",
   "execution_count": 9,
   "metadata": {},
   "outputs": [],
   "source": [
    "df_train_MAE.dropna(subset = ['rougher.output.recovery'], inplace = True)"
   ]
  },
  {
   "cell_type": "markdown",
   "metadata": {},
   "source": [
    "По формуле эффективности обогащения посчитаем и сверим данные, результат запишем в отдельную колонку"
   ]
  },
  {
   "cell_type": "markdown",
   "metadata": {},
   "source": [
    "- *`C`* — доля золота в концентрате после флотации/очистки;\n",
    "- *`F`* — доля золота в сырье/концентрате до флотации/очистки;\n",
    "- *`T`* — доля золота в отвальных хвостах после флотации/очистки."
   ]
  },
  {
   "cell_type": "code",
   "execution_count": 10,
   "metadata": {},
   "outputs": [
    {
     "name": "stdout",
     "output_type": "stream",
     "text": [
      "MAE:9.682896147825551e-15\n"
     ]
    }
   ],
   "source": [
    "C = df_train_MAE[\"rougher.output.concentrate_au\"]\n",
    "F = df_train_MAE[\"rougher.input.feed_au\"]\n",
    "T = df_train_MAE[\"rougher.output.tail_au\"]\n",
    "\n",
    "df_train_MAE[\"recovery_verification\"] = ((C * (F - T)) / (F * (C - T))) * 100\n",
    "print(f\"MAE:\"\n",
    "      f\"{mean_absolute_error(df_train_MAE['rougher.output.recovery'], df_train_MAE['recovery_verification'])}\")"
   ]
  },
  {
   "cell_type": "code",
   "execution_count": 11,
   "metadata": {},
   "outputs": [
    {
     "data": {
      "text/html": [
       "<div>\n",
       "<style scoped>\n",
       "    .dataframe tbody tr th:only-of-type {\n",
       "        vertical-align: middle;\n",
       "    }\n",
       "\n",
       "    .dataframe tbody tr th {\n",
       "        vertical-align: top;\n",
       "    }\n",
       "\n",
       "    .dataframe thead th {\n",
       "        text-align: right;\n",
       "    }\n",
       "</style>\n",
       "<table border=\"1\" class=\"dataframe\">\n",
       "  <thead>\n",
       "    <tr style=\"text-align: right;\">\n",
       "      <th></th>\n",
       "      <th>rougher.output.concentrate_au</th>\n",
       "      <th>rougher.input.feed_au</th>\n",
       "      <th>rougher.output.tail_au</th>\n",
       "      <th>rougher.output.recovery</th>\n",
       "      <th>recovery_verification</th>\n",
       "    </tr>\n",
       "  </thead>\n",
       "  <tbody>\n",
       "    <tr>\n",
       "      <td>4899</td>\n",
       "      <td>19.262950</td>\n",
       "      <td>8.060631</td>\n",
       "      <td>1.809670</td>\n",
       "      <td>85.590094</td>\n",
       "      <td>85.590094</td>\n",
       "    </tr>\n",
       "    <tr>\n",
       "      <td>4590</td>\n",
       "      <td>22.028052</td>\n",
       "      <td>9.593868</td>\n",
       "      <td>1.875881</td>\n",
       "      <td>87.935562</td>\n",
       "      <td>87.935562</td>\n",
       "    </tr>\n",
       "    <tr>\n",
       "      <td>4350</td>\n",
       "      <td>20.783923</td>\n",
       "      <td>10.004400</td>\n",
       "      <td>1.715387</td>\n",
       "      <td>90.307108</td>\n",
       "      <td>90.307108</td>\n",
       "    </tr>\n",
       "    <tr>\n",
       "      <td>2390</td>\n",
       "      <td>23.592553</td>\n",
       "      <td>8.566058</td>\n",
       "      <td>2.655799</td>\n",
       "      <td>77.748329</td>\n",
       "      <td>77.748329</td>\n",
       "    </tr>\n",
       "    <tr>\n",
       "      <td>8804</td>\n",
       "      <td>21.781251</td>\n",
       "      <td>6.890605</td>\n",
       "      <td>2.517140</td>\n",
       "      <td>71.763262</td>\n",
       "      <td>71.763262</td>\n",
       "    </tr>\n",
       "  </tbody>\n",
       "</table>\n",
       "</div>"
      ],
      "text/plain": [
       "      rougher.output.concentrate_au  rougher.input.feed_au  \\\n",
       "4899                      19.262950               8.060631   \n",
       "4590                      22.028052               9.593868   \n",
       "4350                      20.783923              10.004400   \n",
       "2390                      23.592553               8.566058   \n",
       "8804                      21.781251               6.890605   \n",
       "\n",
       "      rougher.output.tail_au  rougher.output.recovery  recovery_verification  \n",
       "4899                1.809670                85.590094              85.590094  \n",
       "4590                1.875881                87.935562              87.935562  \n",
       "4350                1.715387                90.307108              90.307108  \n",
       "2390                2.655799                77.748329              77.748329  \n",
       "8804                2.517140                71.763262              71.763262  "
      ]
     },
     "metadata": {},
     "output_type": "display_data"
    }
   ],
   "source": [
    "display(df_train_MAE.sample(5, random_state=12345))"
   ]
  },
  {
   "cell_type": "markdown",
   "metadata": {},
   "source": [
    "После проверки расчетов данные совпадают, следовательно изначальные расчеты в данных были верны."
   ]
  },
  {
   "cell_type": "markdown",
   "metadata": {},
   "source": [
    "### Проанализируем признаки, недоступные в тестовой выборке. Что это за параметры? К какому типу относятся?"
   ]
  },
  {
   "cell_type": "code",
   "execution_count": 12,
   "metadata": {
    "scrolled": true
   },
   "outputs": [
    {
     "name": "stdout",
     "output_type": "stream",
     "text": [
      "<class 'pandas.core.frame.DataFrame'>\n",
      "RangeIndex: 14149 entries, 0 to 14148\n",
      "Data columns (total 34 columns):\n",
      "final.output.concentrate_ag                           14148 non-null float64\n",
      "final.output.concentrate_pb                           14148 non-null float64\n",
      "final.output.concentrate_sol                          13938 non-null float64\n",
      "final.output.concentrate_au                           14149 non-null float64\n",
      "final.output.recovery                                 14149 non-null float64\n",
      "final.output.tail_ag                                  14149 non-null float64\n",
      "final.output.tail_pb                                  14049 non-null float64\n",
      "final.output.tail_sol                                 14144 non-null float64\n",
      "final.output.tail_au                                  14149 non-null float64\n",
      "primary_cleaner.output.concentrate_ag                 14149 non-null float64\n",
      "primary_cleaner.output.concentrate_pb                 14063 non-null float64\n",
      "primary_cleaner.output.concentrate_sol                13863 non-null float64\n",
      "primary_cleaner.output.concentrate_au                 14149 non-null float64\n",
      "primary_cleaner.output.tail_ag                        14148 non-null float64\n",
      "primary_cleaner.output.tail_pb                        14134 non-null float64\n",
      "primary_cleaner.output.tail_sol                       14103 non-null float64\n",
      "primary_cleaner.output.tail_au                        14149 non-null float64\n",
      "rougher.calculation.sulfate_to_au_concentrate         14148 non-null float64\n",
      "rougher.calculation.floatbank10_sulfate_to_au_feed    14148 non-null float64\n",
      "rougher.calculation.floatbank11_sulfate_to_au_feed    14148 non-null float64\n",
      "rougher.calculation.au_pb_ratio                       14149 non-null float64\n",
      "rougher.output.concentrate_ag                         14149 non-null float64\n",
      "rougher.output.concentrate_pb                         14149 non-null float64\n",
      "rougher.output.concentrate_sol                        14127 non-null float64\n",
      "rougher.output.concentrate_au                         14149 non-null float64\n",
      "rougher.output.recovery                               14149 non-null float64\n",
      "rougher.output.tail_ag                                14148 non-null float64\n",
      "rougher.output.tail_pb                                14149 non-null float64\n",
      "rougher.output.tail_sol                               14149 non-null float64\n",
      "rougher.output.tail_au                                14149 non-null float64\n",
      "secondary_cleaner.output.tail_ag                      14147 non-null float64\n",
      "secondary_cleaner.output.tail_pb                      14139 non-null float64\n",
      "secondary_cleaner.output.tail_sol                     12544 non-null float64\n",
      "secondary_cleaner.output.tail_au                      14149 non-null float64\n",
      "dtypes: float64(34)\n",
      "memory usage: 3.7 MB\n"
     ]
    }
   ],
   "source": [
    "df_train.drop(df_test.columns, axis=1).info()"
   ]
  },
  {
   "cell_type": "markdown",
   "metadata": {},
   "source": [
    "Эти 34 столбца **есть в обучающей выборке, но отсутсвуют в тестовой** и они содержат содержат output в названии признаков, которые возможно узнать только после проведения первого этапа очистки.\n",
    "\n",
    "`final.output.recovery`, `rougher.output.recovery`\n",
    "\n",
    "По этой причине из обучающих данных нам эти столбцы тоже нужно удалить."
   ]
  },
  {
   "cell_type": "markdown",
   "metadata": {},
   "source": [
    "### Проведите предобработку данных."
   ]
  },
  {
   "cell_type": "code",
   "execution_count": 13,
   "metadata": {},
   "outputs": [],
   "source": [
    "output_columns = df_train.drop(df_test.columns, axis=1).columns"
   ]
  },
  {
   "cell_type": "code",
   "execution_count": 14,
   "metadata": {},
   "outputs": [],
   "source": [
    "df_train = df_train.drop(output_columns, axis = 1)"
   ]
  },
  {
   "cell_type": "markdown",
   "metadata": {},
   "source": [
    "Добавление таргетов в обучающую и тестовую выборку из основной."
   ]
  },
  {
   "cell_type": "code",
   "execution_count": 15,
   "metadata": {},
   "outputs": [
    {
     "name": "stdout",
     "output_type": "stream",
     "text": [
      "(14149, 53) (5290, 55)\n"
     ]
    }
   ],
   "source": [
    "df_test = df_test.merge(df_full[[\"date\", \"final.output.recovery\", \"rougher.output.recovery\"]], how='inner', on='date')\n",
    "print(df_train.shape, df_test.shape)"
   ]
  },
  {
   "cell_type": "code",
   "execution_count": 16,
   "metadata": {},
   "outputs": [
    {
     "name": "stdout",
     "output_type": "stream",
     "text": [
      "(14149, 55) (5290, 55)\n"
     ]
    }
   ],
   "source": [
    "df_train = df_train.merge(df_full[[\"date\", \"final.output.recovery\", \"rougher.output.recovery\"]], how='inner', on='date')\n",
    "print(df_train.shape, df_test.shape)"
   ]
  },
  {
   "cell_type": "markdown",
   "metadata": {},
   "source": [
    "Отсортируем данные по дате, а потом заполним пропуски ближайшим значением методом `ffill`"
   ]
  },
  {
   "cell_type": "code",
   "execution_count": 17,
   "metadata": {
    "scrolled": false
   },
   "outputs": [],
   "source": [
    "df_train = df_train.sort_values(\"date\", ascending=True)\n",
    "df_train.fillna(method='ffill', inplace=True)\n",
    "\n",
    "df_test = df_test.sort_values(\"date\", ascending=True)\n",
    "df_test.fillna(method='ffill', inplace=True)\n",
    "\n",
    "df_full = df_full.sort_values(\"date\", ascending=True)\n",
    "df_full.fillna(method='ffill', inplace=True)"
   ]
  },
  {
   "cell_type": "markdown",
   "metadata": {},
   "source": [
    "Проверим на наличие дубликатов"
   ]
  },
  {
   "cell_type": "code",
   "execution_count": 18,
   "metadata": {},
   "outputs": [
    {
     "name": "stdout",
     "output_type": "stream",
     "text": [
      "Дублкаты\n",
      "df_train: 0\n",
      "df_test: 0\n",
      "df_full: 0\n",
      "\n"
     ]
    }
   ],
   "source": [
    "print(f\"Дублкаты\\n\"\n",
    "      f\"df_train: {df_train.duplicated().sum()}\\n\"\n",
    "      f\"df_test: {df_test.duplicated().sum()}\\n\"\n",
    "      f\"df_full: {df_full.duplicated().sum()}\\n\"\n",
    "     )"
   ]
  },
  {
   "cell_type": "markdown",
   "metadata": {},
   "source": [
    "## Анализ данных"
   ]
  },
  {
   "cell_type": "markdown",
   "metadata": {},
   "source": [
    "- `Au` - Золото\n",
    "- `Ag` - Серебро\n",
    "- `Pb` - Свинец\n",
    "- `Sol` - Коллоидный раствор (*возможно не потребуется для проекта*)\n",
    "\n",
    "Запишем это в словарь, т.к. эти данные часто будут использоваться в проекте дальше."
   ]
  },
  {
   "cell_type": "code",
   "execution_count": 19,
   "metadata": {},
   "outputs": [],
   "source": [
    "metal_dict = {\n",
    "        \"au\": \"Au (Золото)\",\n",
    "        \"ag\": \"Ag (Серебро)\",\n",
    "        \"pb\": \"Pb (Свинец)\",\n",
    "        \"sol\": \"Sol (Коллоидный раствор)\",\n",
    "    }"
   ]
  },
  {
   "cell_type": "markdown",
   "metadata": {},
   "source": [
    "### Посмотрите, как меняется концентрация металлов (*Au, Ag, Pb*) на различных этапах очистки. Опишите выводы."
   ]
  },
  {
   "cell_type": "markdown",
   "metadata": {},
   "source": [
    "Напишем функцию `metal_concentration` которая получая датафрейм и название металла построит график с распределением концентрации металла на разных этапах обработки."
   ]
  },
  {
   "cell_type": "code",
   "execution_count": 20,
   "metadata": {},
   "outputs": [],
   "source": [
    "def metal_concentration(df, metal):\n",
    "    \n",
    "    columns = [\n",
    "                f'rougher.input.feed_{metal}',\n",
    "                f'rougher.output.concentrate_{metal}',\n",
    "                f'primary_cleaner.output.concentrate_{metal}',\n",
    "                f'final.output.concentrate_{metal}'\n",
    "               ]\n",
    "    \n",
    "    state_dict = {\n",
    "        f\"rougher.input.feed_{metal}\": \"До черновой обработки\",\n",
    "        f\"rougher.output.concentrate_{metal}\": \"После черновой обработки\",\n",
    "        f\"primary_cleaner.output.concentrate_{metal}\": \"После первичной очистки\",\n",
    "        f\"final.output.concentrate_{metal}\": \"Заключительный этап\",\n",
    "    }\n",
    "    \n",
    "    plt.figure(figsize=(20,7))\n",
    "    plt.style.use('seaborn')\n",
    "\n",
    "    for column in columns:\n",
    "        df[column].plot(\n",
    "            kind = 'hist',\n",
    "            bins = 50,\n",
    "            legend = True,\n",
    "            label=f\"{state_dict[column]}\\n{column}\",\n",
    "            alpha = 0.7,\n",
    "        )\n",
    "\n",
    "    plt.ylabel('Количество', fontsize=\"x-large\")\n",
    "    plt.xlabel(f'Концентрация - {metal.title()}', fontsize=\"x-large\")\n",
    "    plt.title(f'Концентрация {metal_dict[metal]} на разных стадиях очистки', fontsize=\"xx-large\")\n",
    "    plt.grid(color='grey', linestyle='-.', linewidth=0.7)\n",
    "    plt.legend(loc='upper center', bbox_to_anchor=(0.5, -0.2), ncol=4, fontsize=\"x-large\")\n",
    "    plt.show()"
   ]
  },
  {
   "cell_type": "code",
   "execution_count": 21,
   "metadata": {},
   "outputs": [
    {
     "data": {
      "image/png": "[encoded data removed]",
      "text/plain": [
       "<Figure size 1440x504 with 1 Axes>"
      ]
     },
     "metadata": {
      "needs_background": "light"
     },
     "output_type": "display_data"
    }
   ],
   "source": [
    "metal_concentration(df_full, \"au\")"
   ]
  },
  {
   "cell_type": "markdown",
   "metadata": {},
   "source": [
    "`Au` - **Золото**:\n",
    "\n",
    "На каждом этапе технологической обработки концентарция золота стабильно растет."
   ]
  },
  {
   "cell_type": "markdown",
   "metadata": {},
   "source": [
    "---"
   ]
  },
  {
   "cell_type": "code",
   "execution_count": 22,
   "metadata": {
    "scrolled": false
   },
   "outputs": [
    {
     "data": {
      "image/png": "[encoded data removed]",
      "text/plain": [
       "<Figure size 1440x504 with 1 Axes>"
      ]
     },
     "metadata": {},
     "output_type": "display_data"
    }
   ],
   "source": [
    "metal_concentration(df_full, \"ag\")"
   ]
  },
  {
   "cell_type": "markdown",
   "metadata": {},
   "source": [
    "`Ag` - **Серебро**:\n",
    "\n",
    "На каждом этапе технологической обработки концентарция серебра меняется нестабильно, примечательно что самая низкая концентрация наблюдается на заключительных этапах."
   ]
  },
  {
   "cell_type": "markdown",
   "metadata": {},
   "source": [
    "---"
   ]
  },
  {
   "cell_type": "code",
   "execution_count": 23,
   "metadata": {},
   "outputs": [
    {
     "data": {
      "image/png": "[encoded data removed]",
      "text/plain": [
       "<Figure size 1440x504 with 1 Axes>"
      ]
     },
     "metadata": {},
     "output_type": "display_data"
    }
   ],
   "source": [
    "metal_concentration(df_full, \"pb\")"
   ]
  },
  {
   "cell_type": "markdown",
   "metadata": {},
   "source": [
    "`Pb` - **Свинец**:\n",
    "\n",
    "На первых двух технологических этапах обработки концентарция свинца тоже возрастает после первого этапа, но после черновой обработки почти не меняется.\n"
   ]
  },
  {
   "cell_type": "markdown",
   "metadata": {},
   "source": [
    "---"
   ]
  },
  {
   "cell_type": "markdown",
   "metadata": {},
   "source": [
    "Кроме того на всех графиках заметно что в данных есть выбросы на нулевых значениях."
   ]
  },
  {
   "cell_type": "markdown",
   "metadata": {},
   "source": [
    "### Сравните распределения размеров гранул сырья на обучающей и тестовой выборках. Если распределения сильно отличаются друг от друга, оценка модели будет неправильной."
   ]
  },
  {
   "cell_type": "markdown",
   "metadata": {},
   "source": [
    "Напишем кастомизированную функцию `whiskers_limits` для описательной статистики и подсчета максимального и минимального значения усов для диаграммы размаха. Подсчитаем количество элементов после максимального значения и вычислим процент от общего числа записей."
   ]
  },
  {
   "cell_type": "code",
   "execution_count": 24,
   "metadata": {},
   "outputs": [],
   "source": [
    "def whiskers_limits(data, series):\n",
    "    q1 = np.nanpercentile(series, 25)  # Q1\n",
    "    q2 = np.nanpercentile(series, 50)  # Q2(Median)\n",
    "    q3 = np.nanpercentile(series, 75)  # Q3\n",
    "    \n",
    "    whisker_maximum = round(q3 + ((q3 - q1) * 1.5), 2) # “maximum”: Q3 + 1.5 * IQR \n",
    "    whisker_minimum = round(q1 - ((q3 - q1) * 1.5), 2) # “minimum”: Q1 - 1.5 * IQR\n",
    "    above_whisker_maximum = data.query('@series > @whisker_maximum')[series.name].count()\n",
    "    total_amount = data[series.name].count()\n",
    "    \n",
    "    print(f\"Статистика по среднему, максимуму и минимуму, квартилям, \"\n",
    "          f\"стандартному отклонению для: {series.name} \\n---\\n\"\n",
    "          f\"mean - {round(np.mean(series), 6)}\\n\"\n",
    "          f\"std - {round(np.std(series), 6)}\\n\"\n",
    "          f\"min - {round(np.min(series), 6)}\\n\"\n",
    "          f\"max - {round(np.max(series), 6)}\\n---\\n\"\n",
    "          f\"25% (Q1) - {round(q1, 6)}\\n\"\n",
    "          f\"50% (Q2) - {round(q2, 6)}\\n\"\n",
    "          f\"75% (Q3) - {round(q3, 6)}\\n---\\n\"\n",
    "          f\"{whisker_minimum} - Минимальное значение для левого 'уса'\\n\"\n",
    "          f\"{whisker_maximum} - Максимальное значение для правого 'уса',\\n\"\n",
    "          f\"{above_whisker_maximum} (или {round(above_whisker_maximum / total_amount * 100, 2)}%) \"\n",
    "          f\"из {total_amount} - N элементов после правого 'уса'\")"
   ]
  },
  {
   "cell_type": "markdown",
   "metadata": {},
   "source": [
    "Значения для `df_train` - обучающей выборки"
   ]
  },
  {
   "cell_type": "code",
   "execution_count": 25,
   "metadata": {},
   "outputs": [
    {
     "name": "stdout",
     "output_type": "stream",
     "text": [
      "Статистика по среднему, максимуму и минимуму, квартилям, стандартному отклонению для: rougher.input.feed_size \n",
      "---\n",
      "mean - 60.239856\n",
      "std - 23.004497\n",
      "min - 9.659576\n",
      "max - 484.967466\n",
      "---\n",
      "25% (Q1) - 48.966751\n",
      "50% (Q2) - 55.269784\n",
      "75% (Q3) - 66.007526\n",
      "---\n",
      "23.41 - Минимальное значение для левого 'уса'\n",
      "91.57 - Максимальное значение для правого 'уса',\n",
      "456 (или 3.22%) из 14149 - N элементов после правого 'уса'\n"
     ]
    }
   ],
   "source": [
    "whiskers_limits(df_train, df_train[\"rougher.input.feed_size\"])"
   ]
  },
  {
   "cell_type": "markdown",
   "metadata": {},
   "source": [
    "Значения для `df_test` - тестовой выбокри"
   ]
  },
  {
   "cell_type": "code",
   "execution_count": 26,
   "metadata": {},
   "outputs": [
    {
     "name": "stdout",
     "output_type": "stream",
     "text": [
      "Статистика по среднему, максимуму и минимуму, квартилям, стандартному отклонению для: rougher.input.feed_size \n",
      "---\n",
      "mean - 55.952754\n",
      "std - 19.078531\n",
      "min - 0.046369\n",
      "max - 392.49404\n",
      "---\n",
      "25% (Q1) - 43.906504\n",
      "50% (Q2) - 50.846843\n",
      "75% (Q3) - 62.451165\n",
      "---\n",
      "16.09 - Минимальное значение для левого 'уса'\n",
      "90.27 - Максимальное значение для правого 'уса',\n",
      "177 (или 3.35%) из 5290 - N элементов после правого 'уса'\n"
     ]
    }
   ],
   "source": [
    "whiskers_limits(df_test, df_test[\"rougher.input.feed_size\"])"
   ]
  },
  {
   "cell_type": "markdown",
   "metadata": {},
   "source": [
    "Распределение размеров в тестовой выборке `std - 19.078531` немного ниже, чем в обучающей `std - 23.004497` но в целом распределения близки в обучающей и тестовой выборках.  \n",
    "Построим график для наглядности."
   ]
  },
  {
   "cell_type": "code",
   "execution_count": 27,
   "metadata": {},
   "outputs": [
    {
     "data": {
      "image/png": "[encoded data removed]",
      "text/plain": [
       "<Figure size 1440x504 with 1 Axes>"
      ]
     },
     "metadata": {},
     "output_type": "display_data"
    }
   ],
   "source": [
    "feedsize_dict = {\n",
    "    \"df_train\": [df_train, \"rougher.input.feed_size\"],\n",
    "    \"df_test\": [df_test, \"rougher.input.feed_size\"],\n",
    "}\n",
    "\n",
    "plt.figure(figsize=(20,7))\n",
    "plt.style.use('seaborn')\n",
    "\n",
    "for df_name, value in feedsize_dict.items():\n",
    "    value[0][value[1]].plot(\n",
    "        kind = 'hist',\n",
    "        bins = 100,\n",
    "        label=f\"На {df_name} выборке\",\n",
    "        range = (10, 120),\n",
    "        alpha = 0.7,\n",
    "    )\n",
    "\n",
    "plt.ylabel('Количество', fontsize=\"x-large\")\n",
    "plt.xlabel(f'Распределения rougher.input.feed_size', fontsize=\"x-large\")\n",
    "plt.title(f'Распределения размеров гранул сырья на обучающей и тестовой выборках', fontsize=\"xx-large\")\n",
    "plt.grid(color='grey', linestyle='-.', linewidth=0.7)\n",
    "plt.legend(loc='upper center', bbox_to_anchor=(0.5, -0.2), ncol=2, fontsize=\"x-large\")\n",
    "plt.show()"
   ]
  },
  {
   "cell_type": "markdown",
   "metadata": {},
   "source": [
    "### Исследуем суммарную концентрацию всех веществ на разных стадиях: в сырье, в черновом и финальном концентратах."
   ]
  },
  {
   "cell_type": "code",
   "execution_count": 28,
   "metadata": {},
   "outputs": [],
   "source": [
    "total_concentration = pd.DataFrame()\n",
    "stages_list = [\n",
    "               \"rougher.input.feed\",\n",
    "               \"rougher.output.concentrate\",\n",
    "               \"primary_cleaner.output.concentrate\",\n",
    "               \"final.output.concentrate\"\n",
    "              ]\n",
    "\n",
    "for stage in stages_list:\n",
    "    total_concentration[stage] = df_full[f\"{stage}_ag\"]+\\\n",
    "                                 df_full[f\"{stage}_pb\"]+\\\n",
    "                                 df_full[f\"{stage}_au\"]"
   ]
  },
  {
   "cell_type": "code",
   "execution_count": 29,
   "metadata": {},
   "outputs": [
    {
     "data": {
      "text/html": [
       "<div>\n",
       "<style scoped>\n",
       "    .dataframe tbody tr th:only-of-type {\n",
       "        vertical-align: middle;\n",
       "    }\n",
       "\n",
       "    .dataframe tbody tr th {\n",
       "        vertical-align: top;\n",
       "    }\n",
       "\n",
       "    .dataframe thead th {\n",
       "        text-align: right;\n",
       "    }\n",
       "</style>\n",
       "<table border=\"1\" class=\"dataframe\">\n",
       "  <thead>\n",
       "    <tr style=\"text-align: right;\">\n",
       "      <th></th>\n",
       "      <th>count</th>\n",
       "      <th>mean</th>\n",
       "      <th>std</th>\n",
       "      <th>min</th>\n",
       "      <th>25%</th>\n",
       "      <th>50%</th>\n",
       "      <th>75%</th>\n",
       "      <th>max</th>\n",
       "    </tr>\n",
       "  </thead>\n",
       "  <tbody>\n",
       "    <tr>\n",
       "      <td>rougher.input.feed</td>\n",
       "      <td>19439.0</td>\n",
       "      <td>20.646120</td>\n",
       "      <td>4.480027</td>\n",
       "      <td>0.03</td>\n",
       "      <td>17.252879</td>\n",
       "      <td>20.141216</td>\n",
       "      <td>23.797381</td>\n",
       "      <td>33.498784</td>\n",
       "    </tr>\n",
       "    <tr>\n",
       "      <td>rougher.output.concentrate</td>\n",
       "      <td>19439.0</td>\n",
       "      <td>39.373032</td>\n",
       "      <td>6.863389</td>\n",
       "      <td>0.00</td>\n",
       "      <td>38.394639</td>\n",
       "      <td>40.312648</td>\n",
       "      <td>42.365102</td>\n",
       "      <td>55.568687</td>\n",
       "    </tr>\n",
       "    <tr>\n",
       "      <td>primary_cleaner.output.concentrate</td>\n",
       "      <td>19439.0</td>\n",
       "      <td>50.372125</td>\n",
       "      <td>7.628095</td>\n",
       "      <td>0.00</td>\n",
       "      <td>50.053899</td>\n",
       "      <td>51.909156</td>\n",
       "      <td>53.386898</td>\n",
       "      <td>60.269003</td>\n",
       "    </tr>\n",
       "    <tr>\n",
       "      <td>final.output.concentrate</td>\n",
       "      <td>19439.0</td>\n",
       "      <td>59.223721</td>\n",
       "      <td>6.095138</td>\n",
       "      <td>0.00</td>\n",
       "      <td>59.298323</td>\n",
       "      <td>60.306921</td>\n",
       "      <td>61.096667</td>\n",
       "      <td>64.968881</td>\n",
       "    </tr>\n",
       "  </tbody>\n",
       "</table>\n",
       "</div>"
      ],
      "text/plain": [
       "                                      count       mean       std   min  \\\n",
       "rougher.input.feed                  19439.0  20.646120  4.480027  0.03   \n",
       "rougher.output.concentrate          19439.0  39.373032  6.863389  0.00   \n",
       "primary_cleaner.output.concentrate  19439.0  50.372125  7.628095  0.00   \n",
       "final.output.concentrate            19439.0  59.223721  6.095138  0.00   \n",
       "\n",
       "                                          25%        50%        75%        max  \n",
       "rougher.input.feed                  17.252879  20.141216  23.797381  33.498784  \n",
       "rougher.output.concentrate          38.394639  40.312648  42.365102  55.568687  \n",
       "primary_cleaner.output.concentrate  50.053899  51.909156  53.386898  60.269003  \n",
       "final.output.concentrate            59.298323  60.306921  61.096667  64.968881  "
      ]
     },
     "execution_count": 29,
     "metadata": {},
     "output_type": "execute_result"
    }
   ],
   "source": [
    "total_concentration.describe().T"
   ]
  },
  {
   "cell_type": "markdown",
   "metadata": {},
   "source": [
    "Судя по данным, суммарная концентрация всех веществ растет с каждым этапом обрабтки.  \n",
    "Выведем данные на графике для визуального представления."
   ]
  },
  {
   "cell_type": "code",
   "execution_count": 30,
   "metadata": {},
   "outputs": [
    {
     "data": {
      "image/png": "[encoded data removed]",
      "text/plain": [
       "<Figure size 1440x504 with 1 Axes>"
      ]
     },
     "metadata": {},
     "output_type": "display_data"
    }
   ],
   "source": [
    "plt.figure(figsize=(20,7))\n",
    "plt.style.use('seaborn')\n",
    "\n",
    "for column in total_concentration.columns:\n",
    "    total_concentration[column].plot(\n",
    "        kind = 'hist',\n",
    "        bins = 100,\n",
    "        legend = True,\n",
    "        label=f\"Стадия\\n{column}\",\n",
    "        alpha = 0.7,\n",
    "        range = (0, 70),\n",
    "    )\n",
    "\n",
    "plt.ylabel('Количество', fontsize=\"x-large\")\n",
    "plt.xlabel(f'Концентрация веществ', fontsize=\"x-large\")\n",
    "plt.title(f'Суммарная концентрация всех веществ на разных стадиях', fontsize=\"xx-large\")\n",
    "plt.grid(color='grey', linestyle='-.', linewidth=0.7)\n",
    "plt.legend(loc='upper center', bbox_to_anchor=(0.5, -0.2), ncol=4, fontsize=\"x-large\")\n",
    "plt.show()"
   ]
  },
  {
   "cell_type": "markdown",
   "metadata": {},
   "source": [
    "Как видно на графике, концентрация всех металлов растет с каждым этапом, а распредление сужается и вытягивается вверх.\n",
    "\n",
    "Так же все еще видно что есть значения в районе нулевой отметки. Т.к. 0 это не пропуски, а более подробных объяснений таких низких значений в описании нет, оставлю их, и т.к. их не так много надеюсь это не существенно отразится на качестве модели."
   ]
  },
  {
   "cell_type": "markdown",
   "metadata": {},
   "source": [
    "## Поиск оптимальной модели"
   ]
  },
  {
   "cell_type": "markdown",
   "metadata": {},
   "source": [
    "### Функции для вычисления *sMAPE* и итоговой *sMAPE*."
   ]
  },
  {
   "cell_type": "code",
   "execution_count": 31,
   "metadata": {},
   "outputs": [],
   "source": [
    "def sMAPE(actual, predicted): \n",
    "    return 1/len(actual) * np.sum(2*np.abs(predicted-actual)/(np.abs(actual)+np.abs(predicted))*100)\n",
    "\n",
    "def final_sMAPE(true, pred):\n",
    "    rougher = sMAPE(true.iloc[:, 0], pred[:,0])\n",
    "    final = sMAPE(true.iloc[:, 1], pred[:,1])\n",
    "    return 0.25 * rougher + 0.75 * final"
   ]
  },
  {
   "cell_type": "markdown",
   "metadata": {},
   "source": [
    "### Обучим разные модели и оценим их качество кросс-валидацией."
   ]
  },
  {
   "cell_type": "markdown",
   "metadata": {},
   "source": [
    "Определим выборки `features_train` и `target_train` для обучения моделей."
   ]
  },
  {
   "cell_type": "code",
   "execution_count": 32,
   "metadata": {},
   "outputs": [],
   "source": [
    "features_train = df_train.drop(['date', 'rougher.output.recovery', 'final.output.recovery'], axis=1)\n",
    "target_train = df_train[['rougher.output.recovery', 'final.output.recovery']]"
   ]
  },
  {
   "cell_type": "markdown",
   "metadata": {},
   "source": [
    "Проверим размер созданых выборок "
   ]
  },
  {
   "cell_type": "code",
   "execution_count": 33,
   "metadata": {},
   "outputs": [
    {
     "name": "stdout",
     "output_type": "stream",
     "text": [
      "(14149, 52)\n",
      "(14149, 2)\n"
     ]
    }
   ],
   "source": [
    "print(features_train.shape)\n",
    "print(target_train.shape)"
   ]
  },
  {
   "cell_type": "markdown",
   "metadata": {},
   "source": [
    "Напишем функцию `find_sMAPE` которая принимая модель с гиперпараметрами, признаки и таргет возвращаяет результат выычислений итогового `sMAPE`"
   ]
  },
  {
   "cell_type": "code",
   "execution_count": 34,
   "metadata": {},
   "outputs": [],
   "source": [
    "def find_sMAPE(model_name, model, features, target):\n",
    "    \n",
    "    scores = cross_val_score(model,\n",
    "                             features,\n",
    "                             target,\n",
    "                             cv = 5,\n",
    "                             scoring = make_scorer(final_sMAPE)\n",
    "                            ) \n",
    "    final_score = scores.mean()\n",
    "\n",
    "    print(f\"Итоговое sMAPE для {model_name}: {round(final_score, 6)}%\")"
   ]
  },
  {
   "cell_type": "markdown",
   "metadata": {},
   "source": [
    "#### LinearRegression()"
   ]
  },
  {
   "cell_type": "code",
   "execution_count": 35,
   "metadata": {},
   "outputs": [
    {
     "name": "stdout",
     "output_type": "stream",
     "text": [
      "Итоговое sMAPE для LinearRegression: 12.384596%\n"
     ]
    }
   ],
   "source": [
    "model = LinearRegression()\n",
    "find_sMAPE(\"LinearRegression\", model, features_train, target_train)"
   ]
  },
  {
   "cell_type": "markdown",
   "metadata": {},
   "source": [
    "#### RandomForestRegressor()  "
   ]
  },
  {
   "cell_type": "markdown",
   "metadata": {},
   "source": [
    "**!!!** Ниже закоментированый блок кода использовавшийся для поиска подходящих гипперпараметров, т.к. вычисления занимают довольно много времени, результат этих вычислений был вынесен в отдельный блок ниже."
   ]
  },
  {
   "cell_type": "code",
   "execution_count": 36,
   "metadata": {},
   "outputs": [],
   "source": [
    "# best_depth = 0\n",
    "# best_estimators = 0\n",
    "# best_score = 100\n",
    "# n_est = 100\n",
    "# n_depth = 10\n",
    "\n",
    "# for est in tqdm(range(1, n_est, 5)):\n",
    "#     for depth in range(1, n_depth):\n",
    "#         model = RandomForestRegressor(random_state=12345, n_estimators=est, max_depth=depth)\n",
    "#         scores = cross_val_score(model,\n",
    "#                          features_train,\n",
    "#                          target_train,\n",
    "#                          cv = 5,\n",
    "#                          scoring = make_scorer(final_sMAPE)\n",
    "#                         ) \n",
    "#         final_score = scores.mean()\n",
    "\n",
    "#         if best_score < final_score:\n",
    "#             pass\n",
    "#         else:\n",
    "#             best_score = final_score\n",
    "#             best_estimators = est\n",
    "#             best_depth = depth\n",
    "\n",
    "# print(f\"Итоговое sMAPE: {round(best_score, 2)}%\")\n",
    "# print(f\"best_estimators: {best_estimators}\")\n",
    "# print(f\"best_depth: {best_depth}\")\n",
    "# print(f\"best_score: {best_score}\")"
   ]
  },
  {
   "cell_type": "markdown",
   "metadata": {},
   "source": [
    "Результат вычислений: `100% 20/20 [2:45:51<00:00, 497.56s/it]`<br>\n",
    "\n",
    "`Итоговое sMAPE`: 10.33%<br>\n",
    "`best_estimators`: 56<br>\n",
    "`best_depth`: 6<br>"
   ]
  },
  {
   "cell_type": "code",
   "execution_count": 37,
   "metadata": {},
   "outputs": [
    {
     "name": "stdout",
     "output_type": "stream",
     "text": [
      "Итоговое sMAPE для RandomForestRegressor: 10.334961%\n"
     ]
    }
   ],
   "source": [
    "model = RandomForestRegressor(n_estimators=56,\n",
    "                              max_depth=6, \n",
    "                              random_state=12345\n",
    "                             )\n",
    "find_sMAPE(\"RandomForestRegressor\", model, features_train, target_train)"
   ]
  },
  {
   "cell_type": "markdown",
   "metadata": {},
   "source": [
    "#### DecisionTreeRegressor()"
   ]
  },
  {
   "cell_type": "markdown",
   "metadata": {},
   "source": [
    "**!!!** Ниже закоментированый блок кода использовавшийся для поиска подходящих гипперпараметров, т.к. вычисления занимают довольно много времени, результат этих вычислений был вынесен в отдельный блок ниже."
   ]
  },
  {
   "cell_type": "code",
   "execution_count": 38,
   "metadata": {},
   "outputs": [],
   "source": [
    "# best_depth = 0\n",
    "# best_estimators = 0\n",
    "# best_score = 100\n",
    "# n_depth = 60\n",
    "\n",
    "# for depth in tqdm(range(1, n_depth)):\n",
    "#     model = DecisionTreeRegressor(random_state=12345, max_depth=depth)\n",
    "#     scores = cross_val_score(model,\n",
    "#                      features_train,\n",
    "#                      target_train,\n",
    "#                      cv = 5,\n",
    "#                      scoring = make_scorer(final_sMAPE)\n",
    "#                     ) \n",
    "#     final_score = scores.mean()\n",
    "\n",
    "#     if best_score < final_score:\n",
    "#         pass\n",
    "#     else:\n",
    "#         best_score = final_score\n",
    "#         best_depth = depth\n",
    "\n",
    "# print(f\"Итоговое sMAPE: {round(best_score, 2)}%\")\n",
    "# print(f\"best_depth: {best_depth}\")\n",
    "# print(f\"best_score: {best_score}\")"
   ]
  },
  {
   "cell_type": "markdown",
   "metadata": {},
   "source": [
    "Результат вычислений:<br>\n",
    "`100% 59/59 [39:58<00:00, 40.65s/it]`<br>\n",
    "\n",
    "`Итоговое sMAPE`: 10.95%<br>\n",
    "`best_depth`: 5<br>"
   ]
  },
  {
   "cell_type": "code",
   "execution_count": 39,
   "metadata": {},
   "outputs": [
    {
     "name": "stdout",
     "output_type": "stream",
     "text": [
      "Итоговое sMAPE для DecisionTreeRegressor: 10.952669%\n"
     ]
    }
   ],
   "source": [
    "model = DecisionTreeRegressor(random_state=12345, max_depth=5)\n",
    "find_sMAPE(\"DecisionTreeRegressor\", model, features_train, target_train)"
   ]
  },
  {
   "cell_type": "markdown",
   "metadata": {},
   "source": [
    "Наименьший `sMAPE` на обучающей выборке показала модель `RandomForestRegressor()` с гипперпараметрами `n_estimators=56`, `max_depth=6` "
   ]
  },
  {
   "cell_type": "markdown",
   "metadata": {},
   "source": [
    "###  Проверка лучшей модели на тестовой выборке."
   ]
  },
  {
   "cell_type": "markdown",
   "metadata": {},
   "source": [
    "Определим выборки `features_test` и `target_test` для проверки моделей."
   ]
  },
  {
   "cell_type": "code",
   "execution_count": 40,
   "metadata": {},
   "outputs": [],
   "source": [
    "features_test = df_test.drop(['date', 'rougher.output.recovery', 'final.output.recovery'], axis=1)\n",
    "target_test = df_test[['rougher.output.recovery', 'final.output.recovery']]"
   ]
  },
  {
   "cell_type": "markdown",
   "metadata": {},
   "source": [
    "Проверим размер созданых выборок "
   ]
  },
  {
   "cell_type": "code",
   "execution_count": 41,
   "metadata": {},
   "outputs": [
    {
     "name": "stdout",
     "output_type": "stream",
     "text": [
      "(5290, 52)\n",
      "(5290, 2)\n"
     ]
    }
   ],
   "source": [
    "print(features_test.shape)\n",
    "print(target_test.shape)"
   ]
  },
  {
   "cell_type": "markdown",
   "metadata": {},
   "source": [
    "#### LinearRegression()"
   ]
  },
  {
   "cell_type": "code",
   "execution_count": 42,
   "metadata": {},
   "outputs": [
    {
     "name": "stdout",
     "output_type": "stream",
     "text": [
      "Итоговое sMAPE для LinearRegression: 11.062478%\n"
     ]
    }
   ],
   "source": [
    "model = LinearRegression()\n",
    "find_sMAPE(\"LinearRegression\", model, features_test, target_test)"
   ]
  },
  {
   "cell_type": "markdown",
   "metadata": {},
   "source": [
    "#### RandomForestRegressor()"
   ]
  },
  {
   "cell_type": "code",
   "execution_count": 43,
   "metadata": {},
   "outputs": [
    {
     "name": "stdout",
     "output_type": "stream",
     "text": [
      "Итоговое sMAPE для RandomForestRegressor: 11.583625%\n"
     ]
    }
   ],
   "source": [
    "model = RandomForestRegressor(n_estimators=56,\n",
    "                              max_depth=6, \n",
    "                              random_state=12345\n",
    "                             )\n",
    "find_sMAPE(\"RandomForestRegressor\", model, features_test, target_test)"
   ]
  },
  {
   "cell_type": "markdown",
   "metadata": {},
   "source": [
    "#### DecisionTreeRegressor()"
   ]
  },
  {
   "cell_type": "code",
   "execution_count": 44,
   "metadata": {},
   "outputs": [
    {
     "name": "stdout",
     "output_type": "stream",
     "text": [
      "Итоговое sMAPE для DecisionTreeRegressor: 14.467865%\n"
     ]
    }
   ],
   "source": [
    "model = DecisionTreeRegressor(random_state=12345, max_depth=5)\n",
    "find_sMAPE(\"DecisionTreeRegressor\", model, features_test, target_test)"
   ]
  },
  {
   "cell_type": "markdown",
   "metadata": {},
   "source": [
    "Наименьший `sMAPE` на тестовой выборке показала модель `LinearRegression()`, а вот `RandomForestRegressor()`  с гипперпараметрами `n_estimators=56`, `max_depth=6` похуже чем на обучающей выборке. "
   ]
  },
  {
   "cell_type": "markdown",
   "metadata": {},
   "source": [
    "---"
   ]
  },
  {
   "cell_type": "markdown",
   "metadata": {},
   "source": [
    "## Выводы"
   ]
  },
  {
   "cell_type": "markdown",
   "metadata": {},
   "source": [
    "Все данные в датафреймах содержат численные значения кроме одной колонки с датой. Эта колонка использовалась для заполнения пропусков, а так же для склеивания колонок при формировании обучающей и тестовой выборки."
   ]
  },
  {
   "cell_type": "markdown",
   "metadata": {},
   "source": [
    "После проверки расчетов `MAE`, с показателем в `9.682896147825551e-15` очень близкое к 0 можно сказать что данные совпадают, следовательно изначально проведенные расчеты в данных были верны."
   ]
  },
  {
   "cell_type": "markdown",
   "metadata": {},
   "source": [
    "Провели анализ концентрации металлов и построили графики, где видно что на каждом этапе технологической обработки концентарция:<br>\n",
    "`Au` - **Золото**: стабильно растет.<br>\n",
    "`Ag` - **Серебро**: серебра меняется нестабильно, примечательно что самая низкая концентрация наблюдается на заключительных этапах.<br>\n",
    "`Pb` - **Свинец**:  свинца, на первых двух технологических этапах обработки, но после черновой обработки почти не меняется."
   ]
  },
  {
   "cell_type": "markdown",
   "metadata": {},
   "source": [
    "Распределение размеров гранул сырья в тестовой выборке составило `std - 19.078531` немного ниже, чем в обучающей `std - 23.004497` но в целом распределения близки в обучающей и тестовой выборках. Так же построили график для наглядности.\n",
    "\n",
    "Концентрация всех металлов растет с каждым этапом обработки, а распредление сужается и вытягивается вверх, это видно на графике."
   ]
  },
  {
   "cell_type": "markdown",
   "metadata": {},
   "source": [
    "Для поиска оптимальной модели, написали две функции `sMAPE` и `итоговой sMAPE`. \n",
    "\n",
    "Исследовали несколько моделей: `LinearRegression`, `RandomForestRegressor` и `DecisionTreeRegressor`<br>\n",
    "C помощью функций подбора гипперпараметров и кросс-валидации были изучены и найдены оптимальные парамерты для трех моделей.\n",
    "Лучший результат на обучающей выборке показала модель `RandomForestRegressor` с гипперпараметрами `n_estimators=56`, `max_depth=6`, а результат `sMAPE: 10.334961%`. <br>\n",
    "Эту модель так же использовали на тестовой выборке, там она показала результат `11.583625%`, что довольно близко к простой модели, но модель `LinearRegression` дала результат в `11.062478%`.<br>\n",
    "\n",
    "Думаю что модель `RandomForestRegressor` стоит оставить. "
   ]
  }
 ],
 "metadata": {
  "ExecuteTimeLog": [
   {
    "duration": 619,
    "start_time": "2022-02-07T08:03:20.435Z"
   },
   {
    "duration": 774,
    "start_time": "2022-02-07T08:05:05.823Z"
   },
   {
    "duration": 29,
    "start_time": "2022-02-07T08:05:34.817Z"
   },
   {
    "duration": 22,
    "start_time": "2022-02-07T08:06:16.518Z"
   },
   {
    "duration": 23,
    "start_time": "2022-02-07T08:06:30.134Z"
   },
   {
    "duration": 4,
    "start_time": "2022-02-07T08:25:23.379Z"
   },
   {
    "duration": 77,
    "start_time": "2022-02-07T08:25:24.112Z"
   },
   {
    "duration": 44,
    "start_time": "2022-02-07T08:25:44.730Z"
   },
   {
    "duration": 65,
    "start_time": "2022-02-07T08:25:45.623Z"
   },
   {
    "duration": 259,
    "start_time": "2022-02-07T08:25:58.870Z"
   },
   {
    "duration": 18,
    "start_time": "2022-02-07T08:27:50.512Z"
   },
   {
    "duration": 3,
    "start_time": "2022-02-07T08:53:38.782Z"
   },
   {
    "duration": 3,
    "start_time": "2022-02-07T08:54:02.710Z"
   },
   {
    "duration": 15,
    "start_time": "2022-02-07T09:04:43.861Z"
   },
   {
    "duration": 333,
    "start_time": "2022-02-07T11:01:42.652Z"
   },
   {
    "duration": 3,
    "start_time": "2022-02-07T11:03:18.253Z"
   },
   {
    "duration": 3,
    "start_time": "2022-02-07T11:03:20.943Z"
   },
   {
    "duration": 3,
    "start_time": "2022-02-07T11:04:19.208Z"
   },
   {
    "duration": 98,
    "start_time": "2022-02-07T11:07:26.200Z"
   },
   {
    "duration": 8,
    "start_time": "2022-02-07T11:08:29.487Z"
   },
   {
    "duration": 6,
    "start_time": "2022-02-07T11:09:02.465Z"
   },
   {
    "duration": 4,
    "start_time": "2022-02-07T11:11:55.828Z"
   },
   {
    "duration": 4,
    "start_time": "2022-02-07T11:12:15.581Z"
   },
   {
    "duration": 10,
    "start_time": "2022-02-07T11:12:30.142Z"
   },
   {
    "duration": 4,
    "start_time": "2022-02-07T11:13:27.712Z"
   },
   {
    "duration": 11,
    "start_time": "2022-02-07T11:13:28.397Z"
   },
   {
    "duration": 7,
    "start_time": "2022-02-07T11:14:12.026Z"
   },
   {
    "duration": 7,
    "start_time": "2022-02-07T11:14:16.760Z"
   },
   {
    "duration": 507,
    "start_time": "2022-02-07T11:15:34.539Z"
   },
   {
    "duration": 293,
    "start_time": "2022-02-07T11:18:25.860Z"
   },
   {
    "duration": 14,
    "start_time": "2022-02-07T11:19:06.367Z"
   },
   {
    "duration": 15,
    "start_time": "2022-02-07T11:19:48.219Z"
   },
   {
    "duration": 14,
    "start_time": "2022-02-07T11:20:09.227Z"
   },
   {
    "duration": 5,
    "start_time": "2022-02-07T11:21:09.912Z"
   },
   {
    "duration": 4,
    "start_time": "2022-02-07T11:21:20.902Z"
   },
   {
    "duration": 6,
    "start_time": "2022-02-07T11:38:03.489Z"
   },
   {
    "duration": 272,
    "start_time": "2022-02-07T11:47:10.061Z"
   },
   {
    "duration": 268,
    "start_time": "2022-02-07T11:57:35.649Z"
   },
   {
    "duration": 337,
    "start_time": "2022-02-07T11:57:42.465Z"
   },
   {
    "duration": 3,
    "start_time": "2022-02-07T11:58:27.514Z"
   },
   {
    "duration": 3,
    "start_time": "2022-02-07T11:58:33.108Z"
   },
   {
    "duration": 277,
    "start_time": "2022-02-07T11:58:37.650Z"
   },
   {
    "duration": 386,
    "start_time": "2022-02-07T11:58:46.123Z"
   },
   {
    "duration": 4,
    "start_time": "2022-02-07T11:58:52.277Z"
   },
   {
    "duration": 783,
    "start_time": "2022-02-07T11:58:52.284Z"
   },
   {
    "duration": 3,
    "start_time": "2022-02-07T11:58:53.069Z"
   },
   {
    "duration": 28,
    "start_time": "2022-02-07T11:58:53.074Z"
   },
   {
    "duration": 3,
    "start_time": "2022-02-07T11:58:53.103Z"
   },
   {
    "duration": 72,
    "start_time": "2022-02-07T11:58:53.108Z"
   },
   {
    "duration": 3,
    "start_time": "2022-02-07T11:58:53.182Z"
   },
   {
    "duration": 5,
    "start_time": "2022-02-07T11:58:53.199Z"
   },
   {
    "duration": 7,
    "start_time": "2022-02-07T11:58:53.206Z"
   },
   {
    "duration": 13,
    "start_time": "2022-02-07T11:58:53.215Z"
   },
   {
    "duration": 270,
    "start_time": "2022-02-07T11:58:53.230Z"
   },
   {
    "duration": -31,
    "start_time": "2022-02-07T11:58:53.533Z"
   },
   {
    "duration": 15,
    "start_time": "2022-02-07T11:59:03.745Z"
   },
   {
    "duration": 265,
    "start_time": "2022-02-07T11:59:05.884Z"
   },
   {
    "duration": 6,
    "start_time": "2022-02-07T11:59:55.899Z"
   },
   {
    "duration": 5,
    "start_time": "2022-02-07T12:00:16.232Z"
   },
   {
    "duration": 11,
    "start_time": "2022-02-07T12:00:18.725Z"
   },
   {
    "duration": 14,
    "start_time": "2022-02-07T12:00:20.121Z"
   },
   {
    "duration": 276,
    "start_time": "2022-02-07T12:00:21.163Z"
   },
   {
    "duration": 832,
    "start_time": "2022-02-07T12:13:04.103Z"
   },
   {
    "duration": 2,
    "start_time": "2022-02-07T12:13:10.573Z"
   },
   {
    "duration": 777,
    "start_time": "2022-02-07T12:13:25.482Z"
   },
   {
    "duration": 16,
    "start_time": "2022-02-07T12:13:32.971Z"
   },
   {
    "duration": 240,
    "start_time": "2022-02-07T12:13:48.012Z"
   },
   {
    "duration": 2,
    "start_time": "2022-02-07T12:13:57.955Z"
   },
   {
    "duration": 13,
    "start_time": "2022-02-07T12:14:10.686Z"
   },
   {
    "duration": 64,
    "start_time": "2022-02-07T12:14:27.948Z"
   },
   {
    "duration": 3,
    "start_time": "2022-02-07T12:16:08.845Z"
   },
   {
    "duration": 3,
    "start_time": "2022-02-07T12:16:10.295Z"
   },
   {
    "duration": 85,
    "start_time": "2022-02-07T12:16:13.559Z"
   },
   {
    "duration": 5,
    "start_time": "2022-02-07T12:17:12.345Z"
   },
   {
    "duration": 5,
    "start_time": "2022-02-07T12:17:13.131Z"
   },
   {
    "duration": 7,
    "start_time": "2022-02-07T12:20:43.263Z"
   },
   {
    "duration": 10,
    "start_time": "2022-02-07T12:20:44.943Z"
   },
   {
    "duration": 8,
    "start_time": "2022-02-07T12:29:25.212Z"
   },
   {
    "duration": 9,
    "start_time": "2022-02-07T12:29:26.213Z"
   },
   {
    "duration": 15,
    "start_time": "2022-02-07T12:29:27.157Z"
   },
   {
    "duration": 275,
    "start_time": "2022-02-07T12:29:28.769Z"
   },
   {
    "duration": 113,
    "start_time": "2022-02-07T12:29:37.884Z"
   },
   {
    "duration": 260,
    "start_time": "2022-02-07T12:29:43.380Z"
   },
   {
    "duration": 1139,
    "start_time": "2022-02-07T12:52:04.807Z"
   },
   {
    "duration": 749,
    "start_time": "2022-02-07T12:52:05.948Z"
   },
   {
    "duration": 2,
    "start_time": "2022-02-07T12:52:06.700Z"
   },
   {
    "duration": 19,
    "start_time": "2022-02-07T12:52:06.705Z"
   },
   {
    "duration": 2,
    "start_time": "2022-02-07T12:52:06.726Z"
   },
   {
    "duration": 85,
    "start_time": "2022-02-07T12:52:06.730Z"
   },
   {
    "duration": 3,
    "start_time": "2022-02-07T12:52:06.817Z"
   },
   {
    "duration": 10,
    "start_time": "2022-02-07T12:52:06.821Z"
   },
   {
    "duration": 11,
    "start_time": "2022-02-07T12:52:06.834Z"
   },
   {
    "duration": 11,
    "start_time": "2022-02-07T12:52:06.847Z"
   },
   {
    "duration": 16,
    "start_time": "2022-02-07T12:52:06.860Z"
   },
   {
    "duration": 17,
    "start_time": "2022-02-07T12:52:13.062Z"
   },
   {
    "duration": 352,
    "start_time": "2022-02-07T12:52:16.905Z"
   },
   {
    "duration": 3,
    "start_time": "2022-02-07T12:53:49.061Z"
   },
   {
    "duration": 6,
    "start_time": "2022-02-07T12:54:40.442Z"
   },
   {
    "duration": 6566,
    "start_time": "2022-02-07T12:57:04.097Z"
   },
   {
    "duration": 4,
    "start_time": "2022-02-07T12:57:38.891Z"
   },
   {
    "duration": 8,
    "start_time": "2022-02-07T12:57:40.809Z"
   },
   {
    "duration": 12,
    "start_time": "2022-02-07T12:57:42.240Z"
   },
   {
    "duration": 17,
    "start_time": "2022-02-07T12:57:43.302Z"
   },
   {
    "duration": 4,
    "start_time": "2022-02-07T12:57:48.196Z"
   },
   {
    "duration": 3,
    "start_time": "2022-02-07T12:57:54.703Z"
   },
   {
    "duration": 4,
    "start_time": "2022-02-07T14:40:29.439Z"
   },
   {
    "duration": 1062,
    "start_time": "2022-02-07T14:40:30.302Z"
   },
   {
    "duration": 4,
    "start_time": "2022-02-07T14:41:00.398Z"
   },
   {
    "duration": 7,
    "start_time": "2022-02-07T14:41:01.348Z"
   },
   {
    "duration": 9,
    "start_time": "2022-02-07T14:41:03.111Z"
   },
   {
    "duration": 14,
    "start_time": "2022-02-07T14:41:07.156Z"
   },
   {
    "duration": 3,
    "start_time": "2022-02-07T14:43:10.949Z"
   },
   {
    "duration": 6,
    "start_time": "2022-02-07T14:43:15.621Z"
   },
   {
    "duration": 12,
    "start_time": "2022-02-07T14:43:16.614Z"
   },
   {
    "duration": 12,
    "start_time": "2022-02-07T14:43:17.347Z"
   },
   {
    "duration": 3,
    "start_time": "2022-02-07T14:43:47.784Z"
   },
   {
    "duration": 6,
    "start_time": "2022-02-07T14:43:48.610Z"
   },
   {
    "duration": 4,
    "start_time": "2022-02-07T14:43:49.514Z"
   },
   {
    "duration": 3,
    "start_time": "2022-02-07T14:43:50.262Z"
   },
   {
    "duration": 3,
    "start_time": "2022-02-07T14:43:50.871Z"
   },
   {
    "duration": 5,
    "start_time": "2022-02-07T14:43:53.315Z"
   },
   {
    "duration": 1193,
    "start_time": "2022-02-07T14:44:15.741Z"
   },
   {
    "duration": 775,
    "start_time": "2022-02-07T14:44:16.936Z"
   },
   {
    "duration": 4,
    "start_time": "2022-02-07T14:44:17.714Z"
   },
   {
    "duration": 22,
    "start_time": "2022-02-07T14:44:17.720Z"
   },
   {
    "duration": 2,
    "start_time": "2022-02-07T14:44:17.744Z"
   },
   {
    "duration": 87,
    "start_time": "2022-02-07T14:44:17.748Z"
   },
   {
    "duration": 3,
    "start_time": "2022-02-07T14:44:17.837Z"
   },
   {
    "duration": 5,
    "start_time": "2022-02-07T14:44:17.842Z"
   },
   {
    "duration": 8,
    "start_time": "2022-02-07T14:44:17.850Z"
   },
   {
    "duration": 8,
    "start_time": "2022-02-07T14:44:17.860Z"
   },
   {
    "duration": 28,
    "start_time": "2022-02-07T14:44:17.870Z"
   },
   {
    "duration": 15,
    "start_time": "2022-02-07T14:44:17.900Z"
   },
   {
    "duration": 3,
    "start_time": "2022-02-07T14:44:17.916Z"
   },
   {
    "duration": 11,
    "start_time": "2022-02-07T14:44:17.921Z"
   },
   {
    "duration": 7,
    "start_time": "2022-02-07T14:44:17.934Z"
   },
   {
    "duration": 4,
    "start_time": "2022-02-07T14:44:17.943Z"
   },
   {
    "duration": 8,
    "start_time": "2022-02-07T14:44:17.949Z"
   },
   {
    "duration": 9,
    "start_time": "2022-02-07T14:44:17.958Z"
   },
   {
    "duration": 4,
    "start_time": "2022-02-07T14:47:30.517Z"
   },
   {
    "duration": 7,
    "start_time": "2022-02-07T14:47:31.020Z"
   },
   {
    "duration": 9,
    "start_time": "2022-02-07T14:47:31.544Z"
   },
   {
    "duration": 13,
    "start_time": "2022-02-07T14:47:32.156Z"
   },
   {
    "duration": 3,
    "start_time": "2022-02-07T14:47:32.734Z"
   },
   {
    "duration": 7,
    "start_time": "2022-02-07T14:47:34.569Z"
   },
   {
    "duration": 4,
    "start_time": "2022-02-07T14:47:35.808Z"
   },
   {
    "duration": 3,
    "start_time": "2022-02-07T14:47:36.666Z"
   },
   {
    "duration": 4,
    "start_time": "2022-02-07T14:47:37.059Z"
   },
   {
    "duration": 6,
    "start_time": "2022-02-07T14:47:37.973Z"
   },
   {
    "duration": 4,
    "start_time": "2022-02-07T14:48:02.385Z"
   },
   {
    "duration": 734,
    "start_time": "2022-02-07T14:48:02.392Z"
   },
   {
    "duration": 3,
    "start_time": "2022-02-07T14:48:03.128Z"
   },
   {
    "duration": 28,
    "start_time": "2022-02-07T14:48:03.134Z"
   },
   {
    "duration": 3,
    "start_time": "2022-02-07T14:48:03.164Z"
   },
   {
    "duration": 76,
    "start_time": "2022-02-07T14:48:03.169Z"
   },
   {
    "duration": 3,
    "start_time": "2022-02-07T14:48:03.247Z"
   },
   {
    "duration": 14,
    "start_time": "2022-02-07T14:48:03.252Z"
   },
   {
    "duration": 27,
    "start_time": "2022-02-07T14:48:03.269Z"
   },
   {
    "duration": 18,
    "start_time": "2022-02-07T14:48:03.298Z"
   },
   {
    "duration": 19,
    "start_time": "2022-02-07T14:48:03.318Z"
   },
   {
    "duration": 27,
    "start_time": "2022-02-07T14:48:03.339Z"
   },
   {
    "duration": 28,
    "start_time": "2022-02-07T14:48:03.369Z"
   },
   {
    "duration": 63,
    "start_time": "2022-02-07T14:48:03.399Z"
   },
   {
    "duration": 17,
    "start_time": "2022-02-07T14:48:03.464Z"
   },
   {
    "duration": 13,
    "start_time": "2022-02-07T14:48:03.483Z"
   },
   {
    "duration": 19,
    "start_time": "2022-02-07T14:48:03.498Z"
   },
   {
    "duration": 3,
    "start_time": "2022-02-07T14:48:05.372Z"
   },
   {
    "duration": 6,
    "start_time": "2022-02-07T14:48:06.069Z"
   },
   {
    "duration": 1112,
    "start_time": "2022-02-07T14:48:48.148Z"
   },
   {
    "duration": 716,
    "start_time": "2022-02-07T14:48:49.262Z"
   },
   {
    "duration": 3,
    "start_time": "2022-02-07T14:48:49.980Z"
   },
   {
    "duration": 31,
    "start_time": "2022-02-07T14:48:49.985Z"
   },
   {
    "duration": 20,
    "start_time": "2022-02-07T14:48:50.018Z"
   },
   {
    "duration": 76,
    "start_time": "2022-02-07T14:48:50.040Z"
   },
   {
    "duration": 3,
    "start_time": "2022-02-07T14:48:50.118Z"
   },
   {
    "duration": 28,
    "start_time": "2022-02-07T14:48:50.122Z"
   },
   {
    "duration": 16,
    "start_time": "2022-02-07T14:48:50.153Z"
   },
   {
    "duration": 30,
    "start_time": "2022-02-07T14:48:50.171Z"
   },
   {
    "duration": 23,
    "start_time": "2022-02-07T14:48:50.203Z"
   },
   {
    "duration": 24,
    "start_time": "2022-02-07T14:48:50.227Z"
   },
   {
    "duration": 15,
    "start_time": "2022-02-07T14:48:50.252Z"
   },
   {
    "duration": 17,
    "start_time": "2022-02-07T14:48:50.268Z"
   },
   {
    "duration": 364,
    "start_time": "2022-02-07T14:48:50.287Z"
   },
   {
    "duration": -9,
    "start_time": "2022-02-07T14:48:50.662Z"
   },
   {
    "duration": -9,
    "start_time": "2022-02-07T14:48:50.664Z"
   },
   {
    "duration": -9,
    "start_time": "2022-02-07T14:48:50.665Z"
   },
   {
    "duration": 414,
    "start_time": "2022-02-08T08:50:58.828Z"
   },
   {
    "duration": 1382,
    "start_time": "2022-02-08T08:51:03.750Z"
   },
   {
    "duration": 825,
    "start_time": "2022-02-08T08:51:05.135Z"
   },
   {
    "duration": 3,
    "start_time": "2022-02-08T08:51:05.963Z"
   },
   {
    "duration": 27,
    "start_time": "2022-02-08T08:51:05.968Z"
   },
   {
    "duration": 3,
    "start_time": "2022-02-08T08:51:05.997Z"
   },
   {
    "duration": 125,
    "start_time": "2022-02-08T08:51:06.002Z"
   },
   {
    "duration": 3,
    "start_time": "2022-02-08T08:51:06.130Z"
   },
   {
    "duration": 9,
    "start_time": "2022-02-08T08:51:06.135Z"
   },
   {
    "duration": 15,
    "start_time": "2022-02-08T08:51:06.147Z"
   },
   {
    "duration": 12,
    "start_time": "2022-02-08T08:51:06.164Z"
   },
   {
    "duration": 16,
    "start_time": "2022-02-08T08:51:06.178Z"
   },
   {
    "duration": 26,
    "start_time": "2022-02-08T08:51:09.252Z"
   },
   {
    "duration": 16,
    "start_time": "2022-02-08T08:51:26.330Z"
   },
   {
    "duration": 515,
    "start_time": "2022-02-08T08:51:51.492Z"
   },
   {
    "duration": 6,
    "start_time": "2022-02-08T08:52:06.043Z"
   },
   {
    "duration": 19,
    "start_time": "2022-02-08T08:53:29.407Z"
   },
   {
    "duration": 18,
    "start_time": "2022-02-08T08:53:59.881Z"
   },
   {
    "duration": 222,
    "start_time": "2022-02-08T08:54:34.889Z"
   },
   {
    "duration": 6,
    "start_time": "2022-02-08T08:54:58.995Z"
   },
   {
    "duration": 6,
    "start_time": "2022-02-08T08:55:42.313Z"
   },
   {
    "duration": 501,
    "start_time": "2022-02-08T08:55:59.343Z"
   },
   {
    "duration": 6,
    "start_time": "2022-02-08T08:56:03.860Z"
   },
   {
    "duration": 4,
    "start_time": "2022-02-08T09:03:04.269Z"
   },
   {
    "duration": 810,
    "start_time": "2022-02-08T09:03:04.276Z"
   },
   {
    "duration": 3,
    "start_time": "2022-02-08T09:03:05.089Z"
   },
   {
    "duration": 26,
    "start_time": "2022-02-08T09:03:05.095Z"
   },
   {
    "duration": 3,
    "start_time": "2022-02-08T09:03:05.124Z"
   },
   {
    "duration": 110,
    "start_time": "2022-02-08T09:03:05.129Z"
   },
   {
    "duration": 3,
    "start_time": "2022-02-08T09:03:05.241Z"
   },
   {
    "duration": 13,
    "start_time": "2022-02-08T09:03:05.247Z"
   },
   {
    "duration": 7,
    "start_time": "2022-02-08T09:03:05.262Z"
   },
   {
    "duration": 9,
    "start_time": "2022-02-08T09:03:05.271Z"
   },
   {
    "duration": 15,
    "start_time": "2022-02-08T09:03:05.282Z"
   },
   {
    "duration": 5,
    "start_time": "2022-02-08T09:03:05.299Z"
   },
   {
    "duration": 6,
    "start_time": "2022-02-08T09:03:05.306Z"
   },
   {
    "duration": 6,
    "start_time": "2022-02-08T09:03:05.360Z"
   },
   {
    "duration": 16,
    "start_time": "2022-02-08T09:03:53.807Z"
   },
   {
    "duration": 8,
    "start_time": "2022-02-08T09:04:59.229Z"
   },
   {
    "duration": 13,
    "start_time": "2022-02-08T09:05:00.080Z"
   },
   {
    "duration": 14,
    "start_time": "2022-02-08T09:06:06.426Z"
   },
   {
    "duration": 4,
    "start_time": "2022-02-08T09:10:16.154Z"
   },
   {
    "duration": 6,
    "start_time": "2022-02-08T09:11:20.045Z"
   },
   {
    "duration": 4,
    "start_time": "2022-02-08T09:12:08.521Z"
   },
   {
    "duration": 17,
    "start_time": "2022-02-08T09:12:09.096Z"
   },
   {
    "duration": 3,
    "start_time": "2022-02-08T09:12:32.014Z"
   },
   {
    "duration": 16,
    "start_time": "2022-02-08T09:12:32.762Z"
   },
   {
    "duration": 14,
    "start_time": "2022-02-08T11:12:27.719Z"
   },
   {
    "duration": 9,
    "start_time": "2022-02-08T11:57:33.586Z"
   },
   {
    "duration": 7,
    "start_time": "2022-02-08T12:01:41.552Z"
   },
   {
    "duration": 6,
    "start_time": "2022-02-08T12:04:53.783Z"
   },
   {
    "duration": 7,
    "start_time": "2022-02-08T12:04:55.148Z"
   },
   {
    "duration": 17,
    "start_time": "2022-02-08T12:05:07.122Z"
   },
   {
    "duration": 5,
    "start_time": "2022-02-08T12:07:42.175Z"
   },
   {
    "duration": 5,
    "start_time": "2022-02-08T12:07:50.160Z"
   },
   {
    "duration": 4,
    "start_time": "2022-02-08T12:07:57.064Z"
   },
   {
    "duration": 891,
    "start_time": "2022-02-08T12:07:57.070Z"
   },
   {
    "duration": 4,
    "start_time": "2022-02-08T12:07:57.964Z"
   },
   {
    "duration": 31,
    "start_time": "2022-02-08T12:07:57.971Z"
   },
   {
    "duration": 7,
    "start_time": "2022-02-08T12:07:58.004Z"
   },
   {
    "duration": 153,
    "start_time": "2022-02-08T12:07:58.014Z"
   },
   {
    "duration": 3,
    "start_time": "2022-02-08T12:07:58.170Z"
   },
   {
    "duration": 4,
    "start_time": "2022-02-08T12:07:58.176Z"
   },
   {
    "duration": 5,
    "start_time": "2022-02-08T12:07:58.184Z"
   },
   {
    "duration": 13,
    "start_time": "2022-02-08T12:07:58.191Z"
   },
   {
    "duration": 53,
    "start_time": "2022-02-08T12:07:58.206Z"
   },
   {
    "duration": 15,
    "start_time": "2022-02-08T12:07:58.261Z"
   },
   {
    "duration": 16,
    "start_time": "2022-02-08T12:07:58.278Z"
   },
   {
    "duration": 6,
    "start_time": "2022-02-08T12:08:01.708Z"
   },
   {
    "duration": 8,
    "start_time": "2022-02-08T12:08:05.233Z"
   },
   {
    "duration": 8,
    "start_time": "2022-02-08T12:08:06.311Z"
   },
   {
    "duration": 6,
    "start_time": "2022-02-08T12:08:07.199Z"
   },
   {
    "duration": 482,
    "start_time": "2022-02-08T12:08:23.939Z"
   },
   {
    "duration": 6,
    "start_time": "2022-02-08T12:08:31.500Z"
   },
   {
    "duration": 1266,
    "start_time": "2022-02-08T12:08:31.509Z"
   },
   {
    "duration": 4,
    "start_time": "2022-02-08T12:08:32.780Z"
   },
   {
    "duration": 39,
    "start_time": "2022-02-08T12:08:32.787Z"
   },
   {
    "duration": 3,
    "start_time": "2022-02-08T12:08:32.829Z"
   },
   {
    "duration": 131,
    "start_time": "2022-02-08T12:08:32.834Z"
   },
   {
    "duration": 3,
    "start_time": "2022-02-08T12:08:32.968Z"
   },
   {
    "duration": 5,
    "start_time": "2022-02-08T12:08:32.973Z"
   },
   {
    "duration": 11,
    "start_time": "2022-02-08T12:08:32.981Z"
   },
   {
    "duration": 17,
    "start_time": "2022-02-08T12:08:32.995Z"
   },
   {
    "duration": 45,
    "start_time": "2022-02-08T12:08:33.014Z"
   },
   {
    "duration": 14,
    "start_time": "2022-02-08T12:08:33.063Z"
   },
   {
    "duration": 21,
    "start_time": "2022-02-08T12:08:33.080Z"
   },
   {
    "duration": 6,
    "start_time": "2022-02-08T12:08:33.104Z"
   },
   {
    "duration": 46,
    "start_time": "2022-02-08T12:08:33.113Z"
   },
   {
    "duration": 6,
    "start_time": "2022-02-08T12:08:34.429Z"
   },
   {
    "duration": 7,
    "start_time": "2022-02-08T12:08:35.416Z"
   },
   {
    "duration": 5,
    "start_time": "2022-02-08T12:08:36.609Z"
   },
   {
    "duration": 18,
    "start_time": "2022-02-08T12:14:29.327Z"
   },
   {
    "duration": 419,
    "start_time": "2022-02-08T12:17:55.971Z"
   },
   {
    "duration": 381,
    "start_time": "2022-02-08T12:18:41.353Z"
   },
   {
    "duration": 3,
    "start_time": "2022-02-08T12:39:09.460Z"
   },
   {
    "duration": 353,
    "start_time": "2022-02-08T12:41:42.469Z"
   },
   {
    "duration": 34,
    "start_time": "2022-02-08T12:41:57.741Z"
   },
   {
    "duration": 369,
    "start_time": "2022-02-08T12:43:40.135Z"
   },
   {
    "duration": 4,
    "start_time": "2022-02-08T12:43:45.138Z"
   },
   {
    "duration": 903,
    "start_time": "2022-02-08T12:43:45.144Z"
   },
   {
    "duration": 4,
    "start_time": "2022-02-08T12:43:46.054Z"
   },
   {
    "duration": 113,
    "start_time": "2022-02-08T12:43:46.062Z"
   },
   {
    "duration": 64,
    "start_time": "2022-02-08T12:43:46.178Z"
   },
   {
    "duration": 162,
    "start_time": "2022-02-08T12:43:46.245Z"
   },
   {
    "duration": 28,
    "start_time": "2022-02-08T12:43:46.410Z"
   },
   {
    "duration": 91,
    "start_time": "2022-02-08T12:43:46.456Z"
   },
   {
    "duration": 21,
    "start_time": "2022-02-08T12:43:46.556Z"
   },
   {
    "duration": 12,
    "start_time": "2022-02-08T12:43:46.580Z"
   },
   {
    "duration": 10,
    "start_time": "2022-02-08T12:43:46.595Z"
   },
   {
    "duration": 17,
    "start_time": "2022-02-08T12:43:46.608Z"
   },
   {
    "duration": 15,
    "start_time": "2022-02-08T12:43:48.690Z"
   },
   {
    "duration": 5,
    "start_time": "2022-02-08T12:44:03.191Z"
   },
   {
    "duration": 7,
    "start_time": "2022-02-08T12:44:04.379Z"
   },
   {
    "duration": 6,
    "start_time": "2022-02-08T12:44:20.028Z"
   },
   {
    "duration": 10,
    "start_time": "2022-02-08T12:44:21.249Z"
   },
   {
    "duration": 6,
    "start_time": "2022-02-08T12:44:21.885Z"
   },
   {
    "duration": 17,
    "start_time": "2022-02-08T12:44:24.509Z"
   },
   {
    "duration": 4,
    "start_time": "2022-02-08T12:44:31.430Z"
   },
   {
    "duration": 831,
    "start_time": "2022-02-08T12:44:31.437Z"
   },
   {
    "duration": 3,
    "start_time": "2022-02-08T12:44:32.271Z"
   },
   {
    "duration": 37,
    "start_time": "2022-02-08T12:44:32.277Z"
   },
   {
    "duration": 6,
    "start_time": "2022-02-08T12:44:32.316Z"
   },
   {
    "duration": 101,
    "start_time": "2022-02-08T12:44:32.325Z"
   },
   {
    "duration": 3,
    "start_time": "2022-02-08T12:44:32.428Z"
   },
   {
    "duration": 34,
    "start_time": "2022-02-08T12:44:32.435Z"
   },
   {
    "duration": 22,
    "start_time": "2022-02-08T12:44:32.472Z"
   },
   {
    "duration": 26,
    "start_time": "2022-02-08T12:44:32.497Z"
   },
   {
    "duration": 27,
    "start_time": "2022-02-08T12:44:32.525Z"
   },
   {
    "duration": 44,
    "start_time": "2022-02-08T12:44:32.555Z"
   },
   {
    "duration": 20,
    "start_time": "2022-02-08T12:44:32.601Z"
   },
   {
    "duration": 24,
    "start_time": "2022-02-08T12:44:32.623Z"
   },
   {
    "duration": 16,
    "start_time": "2022-02-08T12:44:32.650Z"
   },
   {
    "duration": 33,
    "start_time": "2022-02-08T12:44:32.668Z"
   },
   {
    "duration": 33,
    "start_time": "2022-02-08T12:44:32.704Z"
   },
   {
    "duration": 5,
    "start_time": "2022-02-08T12:44:34.122Z"
   },
   {
    "duration": 16,
    "start_time": "2022-02-08T12:44:35.094Z"
   },
   {
    "duration": 5,
    "start_time": "2022-02-08T12:47:07.351Z"
   },
   {
    "duration": 4,
    "start_time": "2022-02-08T12:48:09.993Z"
   },
   {
    "duration": 5,
    "start_time": "2022-02-08T12:48:10.700Z"
   },
   {
    "duration": 8,
    "start_time": "2022-02-08T12:48:11.569Z"
   },
   {
    "duration": 5,
    "start_time": "2022-02-08T12:48:12.331Z"
   },
   {
    "duration": 12,
    "start_time": "2022-02-08T12:48:25.164Z"
   },
   {
    "duration": 23,
    "start_time": "2022-02-08T12:49:21.477Z"
   },
   {
    "duration": 1728,
    "start_time": "2022-02-08T12:50:34.577Z"
   },
   {
    "duration": 1307,
    "start_time": "2022-02-08T12:50:36.308Z"
   },
   {
    "duration": 5,
    "start_time": "2022-02-08T12:50:37.619Z"
   },
   {
    "duration": 51,
    "start_time": "2022-02-08T12:50:37.627Z"
   },
   {
    "duration": 4,
    "start_time": "2022-02-08T12:50:37.681Z"
   },
   {
    "duration": 115,
    "start_time": "2022-02-08T12:50:37.688Z"
   },
   {
    "duration": 4,
    "start_time": "2022-02-08T12:50:37.805Z"
   },
   {
    "duration": 6,
    "start_time": "2022-02-08T12:50:37.811Z"
   },
   {
    "duration": 5,
    "start_time": "2022-02-08T12:50:37.820Z"
   },
   {
    "duration": 34,
    "start_time": "2022-02-08T12:50:37.828Z"
   },
   {
    "duration": 16,
    "start_time": "2022-02-08T12:50:37.865Z"
   },
   {
    "duration": 15,
    "start_time": "2022-02-08T12:50:37.883Z"
   },
   {
    "duration": 18,
    "start_time": "2022-02-08T12:50:37.900Z"
   },
   {
    "duration": 4,
    "start_time": "2022-02-08T12:50:42.517Z"
   },
   {
    "duration": 8,
    "start_time": "2022-02-08T12:50:47.138Z"
   },
   {
    "duration": 11,
    "start_time": "2022-02-08T12:50:49.243Z"
   },
   {
    "duration": 5,
    "start_time": "2022-02-08T12:50:50.405Z"
   },
   {
    "duration": 23,
    "start_time": "2022-02-08T12:50:54.670Z"
   },
   {
    "duration": 21,
    "start_time": "2022-02-08T12:50:59.624Z"
   },
   {
    "duration": 66,
    "start_time": "2022-02-08T12:51:37.208Z"
   },
   {
    "duration": 113,
    "start_time": "2022-02-08T12:54:48.803Z"
   },
   {
    "duration": 42,
    "start_time": "2022-02-08T12:55:04.263Z"
   },
   {
    "duration": 162,
    "start_time": "2022-02-08T12:55:13.277Z"
   },
   {
    "duration": 412,
    "start_time": "2022-02-08T12:57:21.588Z"
   },
   {
    "duration": 408,
    "start_time": "2022-02-08T12:57:30.136Z"
   },
   {
    "duration": 506,
    "start_time": "2022-02-08T12:57:41.044Z"
   },
   {
    "duration": 13,
    "start_time": "2022-02-08T12:59:15.957Z"
   },
   {
    "duration": 15,
    "start_time": "2022-02-08T12:59:28.821Z"
   },
   {
    "duration": 13,
    "start_time": "2022-02-08T12:59:38.214Z"
   },
   {
    "duration": 15,
    "start_time": "2022-02-08T12:59:43.484Z"
   },
   {
    "duration": 17,
    "start_time": "2022-02-08T13:02:59.732Z"
   },
   {
    "duration": 53,
    "start_time": "2022-02-08T13:03:30.844Z"
   },
   {
    "duration": 11,
    "start_time": "2022-02-08T13:04:11.800Z"
   },
   {
    "duration": 1343,
    "start_time": "2022-02-08T13:05:07.238Z"
   },
   {
    "duration": 837,
    "start_time": "2022-02-08T13:05:08.584Z"
   },
   {
    "duration": 3,
    "start_time": "2022-02-08T13:05:09.424Z"
   },
   {
    "duration": 40,
    "start_time": "2022-02-08T13:05:09.430Z"
   },
   {
    "duration": 3,
    "start_time": "2022-02-08T13:05:09.472Z"
   },
   {
    "duration": 110,
    "start_time": "2022-02-08T13:05:09.477Z"
   },
   {
    "duration": 4,
    "start_time": "2022-02-08T13:05:09.589Z"
   },
   {
    "duration": 15,
    "start_time": "2022-02-08T13:05:09.596Z"
   },
   {
    "duration": 8,
    "start_time": "2022-02-08T13:05:09.615Z"
   },
   {
    "duration": 16,
    "start_time": "2022-02-08T13:05:09.625Z"
   },
   {
    "duration": 27,
    "start_time": "2022-02-08T13:05:09.644Z"
   },
   {
    "duration": 14,
    "start_time": "2022-02-08T13:05:09.673Z"
   },
   {
    "duration": 35,
    "start_time": "2022-02-08T13:05:09.690Z"
   },
   {
    "duration": 4,
    "start_time": "2022-02-08T13:05:09.728Z"
   },
   {
    "duration": 26,
    "start_time": "2022-02-08T13:05:09.734Z"
   },
   {
    "duration": 9,
    "start_time": "2022-02-08T13:05:09.762Z"
   },
   {
    "duration": 5,
    "start_time": "2022-02-08T13:05:09.774Z"
   },
   {
    "duration": 17,
    "start_time": "2022-02-08T13:05:09.782Z"
   },
   {
    "duration": 21,
    "start_time": "2022-02-08T13:05:09.802Z"
   },
   {
    "duration": 316,
    "start_time": "2022-02-08T13:05:09.860Z"
   },
   {
    "duration": 13,
    "start_time": "2022-02-08T13:05:16.047Z"
   },
   {
    "duration": 50,
    "start_time": "2022-02-08T13:05:20.427Z"
   },
   {
    "duration": 12,
    "start_time": "2022-02-08T13:05:21.973Z"
   },
   {
    "duration": 38,
    "start_time": "2022-02-08T13:07:10.597Z"
   },
   {
    "duration": 11,
    "start_time": "2022-02-08T13:07:11.618Z"
   },
   {
    "duration": 536,
    "start_time": "2022-02-08T13:07:46.355Z"
   },
   {
    "duration": 11,
    "start_time": "2022-02-08T13:07:47.903Z"
   },
   {
    "duration": 47,
    "start_time": "2022-02-08T13:08:41.996Z"
   },
   {
    "duration": 12,
    "start_time": "2022-02-08T13:08:43.641Z"
   },
   {
    "duration": 5,
    "start_time": "2022-02-08T13:08:50.344Z"
   },
   {
    "duration": 832,
    "start_time": "2022-02-08T13:08:50.352Z"
   },
   {
    "duration": 5,
    "start_time": "2022-02-08T13:08:51.187Z"
   },
   {
    "duration": 26,
    "start_time": "2022-02-08T13:08:51.195Z"
   },
   {
    "duration": 3,
    "start_time": "2022-02-08T13:08:51.223Z"
   },
   {
    "duration": 119,
    "start_time": "2022-02-08T13:08:51.228Z"
   },
   {
    "duration": 3,
    "start_time": "2022-02-08T13:08:51.359Z"
   },
   {
    "duration": 5,
    "start_time": "2022-02-08T13:08:51.364Z"
   },
   {
    "duration": 5,
    "start_time": "2022-02-08T13:08:51.373Z"
   },
   {
    "duration": 9,
    "start_time": "2022-02-08T13:08:51.381Z"
   },
   {
    "duration": 8,
    "start_time": "2022-02-08T13:08:51.393Z"
   },
   {
    "duration": 56,
    "start_time": "2022-02-08T13:08:51.403Z"
   },
   {
    "duration": 15,
    "start_time": "2022-02-08T13:08:51.462Z"
   },
   {
    "duration": 5,
    "start_time": "2022-02-08T13:08:51.479Z"
   },
   {
    "duration": 7,
    "start_time": "2022-02-08T13:08:51.486Z"
   },
   {
    "duration": 8,
    "start_time": "2022-02-08T13:08:51.495Z"
   },
   {
    "duration": 6,
    "start_time": "2022-02-08T13:08:51.506Z"
   },
   {
    "duration": 56,
    "start_time": "2022-02-08T13:08:51.514Z"
   },
   {
    "duration": 20,
    "start_time": "2022-02-08T13:08:51.573Z"
   },
   {
    "duration": 323,
    "start_time": "2022-02-08T13:08:51.595Z"
   },
   {
    "duration": 11,
    "start_time": "2022-02-08T13:08:51.921Z"
   },
   {
    "duration": 12,
    "start_time": "2022-02-08T13:08:56.374Z"
   },
   {
    "duration": 10,
    "start_time": "2022-02-08T13:09:02.243Z"
   },
   {
    "duration": 43,
    "start_time": "2022-02-08T13:09:04.986Z"
   },
   {
    "duration": 11,
    "start_time": "2022-02-08T13:09:07.855Z"
   },
   {
    "duration": 45,
    "start_time": "2022-02-08T13:09:47.312Z"
   },
   {
    "duration": 247,
    "start_time": "2022-02-08T13:10:28.289Z"
   },
   {
    "duration": 19,
    "start_time": "2022-02-08T13:11:16.970Z"
   },
   {
    "duration": 4,
    "start_time": "2022-02-08T13:11:30.619Z"
   },
   {
    "duration": 859,
    "start_time": "2022-02-08T13:11:30.626Z"
   },
   {
    "duration": 3,
    "start_time": "2022-02-08T13:11:31.489Z"
   },
   {
    "duration": 26,
    "start_time": "2022-02-08T13:11:31.494Z"
   },
   {
    "duration": 2,
    "start_time": "2022-02-08T13:11:31.523Z"
   },
   {
    "duration": 116,
    "start_time": "2022-02-08T13:11:31.527Z"
   },
   {
    "duration": 2,
    "start_time": "2022-02-08T13:11:31.645Z"
   },
   {
    "duration": 3,
    "start_time": "2022-02-08T13:11:31.660Z"
   },
   {
    "duration": 7,
    "start_time": "2022-02-08T13:11:31.665Z"
   },
   {
    "duration": 9,
    "start_time": "2022-02-08T13:11:31.674Z"
   },
   {
    "duration": 12,
    "start_time": "2022-02-08T13:11:31.685Z"
   },
   {
    "duration": 19,
    "start_time": "2022-02-08T13:11:31.699Z"
   },
   {
    "duration": 54,
    "start_time": "2022-02-08T13:11:31.720Z"
   },
   {
    "duration": 6,
    "start_time": "2022-02-08T13:11:31.777Z"
   },
   {
    "duration": 6,
    "start_time": "2022-02-08T13:11:31.785Z"
   },
   {
    "duration": 8,
    "start_time": "2022-02-08T13:11:31.794Z"
   },
   {
    "duration": 6,
    "start_time": "2022-02-08T13:11:31.804Z"
   },
   {
    "duration": 56,
    "start_time": "2022-02-08T13:11:31.812Z"
   },
   {
    "duration": 21,
    "start_time": "2022-02-08T13:11:31.871Z"
   },
   {
    "duration": 326,
    "start_time": "2022-02-08T13:11:31.894Z"
   },
   {
    "duration": 282,
    "start_time": "2022-02-08T13:11:33.577Z"
   },
   {
    "duration": 15,
    "start_time": "2022-02-08T13:11:35.238Z"
   },
   {
    "duration": 47,
    "start_time": "2022-02-08T13:11:39.864Z"
   },
   {
    "duration": 3,
    "start_time": "2022-02-08T13:11:55.254Z"
   },
   {
    "duration": 3,
    "start_time": "2022-02-08T13:16:54.694Z"
   },
   {
    "duration": 4,
    "start_time": "2022-02-08T13:16:54.860Z"
   },
   {
    "duration": 46,
    "start_time": "2022-02-08T13:16:55.717Z"
   },
   {
    "duration": 4,
    "start_time": "2022-02-08T13:17:15.427Z"
   },
   {
    "duration": 868,
    "start_time": "2022-02-08T13:17:15.434Z"
   },
   {
    "duration": 4,
    "start_time": "2022-02-08T13:17:16.304Z"
   },
   {
    "duration": 24,
    "start_time": "2022-02-08T13:17:16.311Z"
   },
   {
    "duration": 22,
    "start_time": "2022-02-08T13:17:16.338Z"
   },
   {
    "duration": 147,
    "start_time": "2022-02-08T13:17:16.363Z"
   },
   {
    "duration": 4,
    "start_time": "2022-02-08T13:17:16.513Z"
   },
   {
    "duration": 5,
    "start_time": "2022-02-08T13:17:16.520Z"
   },
   {
    "duration": 28,
    "start_time": "2022-02-08T13:17:16.531Z"
   },
   {
    "duration": 10,
    "start_time": "2022-02-08T13:17:16.563Z"
   },
   {
    "duration": 10,
    "start_time": "2022-02-08T13:17:16.576Z"
   },
   {
    "duration": 18,
    "start_time": "2022-02-08T13:17:16.588Z"
   },
   {
    "duration": 56,
    "start_time": "2022-02-08T13:17:16.609Z"
   },
   {
    "duration": 4,
    "start_time": "2022-02-08T13:17:16.667Z"
   },
   {
    "duration": 7,
    "start_time": "2022-02-08T13:17:16.673Z"
   },
   {
    "duration": 8,
    "start_time": "2022-02-08T13:17:16.682Z"
   },
   {
    "duration": 6,
    "start_time": "2022-02-08T13:17:16.692Z"
   },
   {
    "duration": 68,
    "start_time": "2022-02-08T13:17:16.700Z"
   },
   {
    "duration": 21,
    "start_time": "2022-02-08T13:17:16.770Z"
   },
   {
    "duration": 338,
    "start_time": "2022-02-08T13:17:16.794Z"
   },
   {
    "duration": 3,
    "start_time": "2022-02-08T13:17:17.134Z"
   },
   {
    "duration": 3,
    "start_time": "2022-02-08T13:17:18.692Z"
   },
   {
    "duration": 3,
    "start_time": "2022-02-08T13:17:19.416Z"
   },
   {
    "duration": 4,
    "start_time": "2022-02-08T13:17:20.111Z"
   },
   {
    "duration": 44,
    "start_time": "2022-02-08T13:17:20.876Z"
   },
   {
    "duration": 274,
    "start_time": "2022-02-08T13:46:13.762Z"
   },
   {
    "duration": 95,
    "start_time": "2022-02-08T13:50:13.583Z"
   },
   {
    "duration": 21,
    "start_time": "2022-02-08T13:52:22.388Z"
   },
   {
    "duration": 4,
    "start_time": "2022-02-08T14:00:34.785Z"
   },
   {
    "duration": 3,
    "start_time": "2022-02-08T14:00:38.997Z"
   },
   {
    "duration": 11336,
    "start_time": "2022-02-08T14:01:20.290Z"
   },
   {
    "duration": 336,
    "start_time": "2022-02-08T14:02:34.539Z"
   },
   {
    "duration": 10611,
    "start_time": "2022-02-08T14:02:42.209Z"
   },
   {
    "duration": 4,
    "start_time": "2022-02-08T14:03:12.407Z"
   },
   {
    "duration": 4,
    "start_time": "2022-02-08T14:03:23.138Z"
   },
   {
    "duration": 9872,
    "start_time": "2022-02-08T14:03:27.551Z"
   },
   {
    "duration": 10278,
    "start_time": "2022-02-08T14:03:41.339Z"
   },
   {
    "duration": 10451,
    "start_time": "2022-02-08T14:04:03.250Z"
   },
   {
    "duration": 139,
    "start_time": "2022-02-08T14:04:13.564Z"
   },
   {
    "duration": 21,
    "start_time": "2022-02-08T14:04:17.444Z"
   },
   {
    "duration": 8,
    "start_time": "2022-02-08T14:05:34.948Z"
   },
   {
    "duration": 3,
    "start_time": "2022-02-08T14:05:44.404Z"
   },
   {
    "duration": 10040,
    "start_time": "2022-02-08T14:06:11.333Z"
   },
   {
    "duration": 9622,
    "start_time": "2022-02-08T14:06:31.980Z"
   },
   {
    "duration": 133,
    "start_time": "2022-02-08T14:06:41.473Z"
   },
   {
    "duration": 10737,
    "start_time": "2022-02-08T14:06:43.429Z"
   },
   {
    "duration": 4,
    "start_time": "2022-02-08T14:06:56.447Z"
   },
   {
    "duration": 7,
    "start_time": "2022-02-08T14:06:57.621Z"
   },
   {
    "duration": 4,
    "start_time": "2022-02-08T14:07:21.905Z"
   },
   {
    "duration": 17,
    "start_time": "2022-02-08T14:07:22.778Z"
   },
   {
    "duration": 14,
    "start_time": "2022-02-08T14:07:33.338Z"
   },
   {
    "duration": 14,
    "start_time": "2022-02-08T14:07:47.369Z"
   },
   {
    "duration": 6,
    "start_time": "2022-02-08T14:08:49.248Z"
   },
   {
    "duration": 13,
    "start_time": "2022-02-08T14:08:50.927Z"
   },
   {
    "duration": 3,
    "start_time": "2022-02-08T14:18:55.380Z"
   },
   {
    "duration": 1011,
    "start_time": "2022-02-08T14:23:24.678Z"
   },
   {
    "duration": 84,
    "start_time": "2022-02-08T14:24:08.076Z"
   },
   {
    "duration": 518,
    "start_time": "2022-02-08T14:24:15.598Z"
   },
   {
    "duration": 463,
    "start_time": "2022-02-08T14:24:35.107Z"
   },
   {
    "duration": 509,
    "start_time": "2022-02-08T14:24:40.299Z"
   },
   {
    "duration": 931,
    "start_time": "2022-02-08T14:25:41.709Z"
   },
   {
    "duration": 1024,
    "start_time": "2022-02-08T14:26:05.550Z"
   },
   {
    "duration": 968,
    "start_time": "2022-02-08T14:26:11.205Z"
   },
   {
    "duration": 600,
    "start_time": "2022-02-08T14:27:44.394Z"
   },
   {
    "duration": 1014,
    "start_time": "2022-02-08T14:28:13.373Z"
   },
   {
    "duration": 928,
    "start_time": "2022-02-08T14:30:22.437Z"
   },
   {
    "duration": 667,
    "start_time": "2022-02-08T14:30:46.468Z"
   },
   {
    "duration": 918,
    "start_time": "2022-02-08T14:30:51.144Z"
   },
   {
    "duration": 1150,
    "start_time": "2022-02-08T14:35:35.695Z"
   },
   {
    "duration": 2045,
    "start_time": "2022-02-08T14:36:10.182Z"
   },
   {
    "duration": 1558,
    "start_time": "2022-02-08T14:38:15.973Z"
   },
   {
    "duration": 1756,
    "start_time": "2022-02-08T14:39:51.631Z"
   },
   {
    "duration": 1501,
    "start_time": "2022-02-08T14:40:13.931Z"
   },
   {
    "duration": 1672,
    "start_time": "2022-02-08T14:40:27.692Z"
   },
   {
    "duration": 1577,
    "start_time": "2022-02-08T14:41:27.800Z"
   },
   {
    "duration": 771,
    "start_time": "2022-02-08T14:44:18.733Z"
   },
   {
    "duration": 968,
    "start_time": "2022-02-08T14:44:32.054Z"
   },
   {
    "duration": 779,
    "start_time": "2022-02-08T14:44:43.352Z"
   },
   {
    "duration": 773,
    "start_time": "2022-02-08T14:46:39.321Z"
   },
   {
    "duration": 774,
    "start_time": "2022-02-08T14:46:43.031Z"
   },
   {
    "duration": 997,
    "start_time": "2022-02-08T14:51:09.203Z"
   },
   {
    "duration": 1079,
    "start_time": "2022-02-08T14:51:36.759Z"
   },
   {
    "duration": 976,
    "start_time": "2022-02-08T14:51:46.883Z"
   },
   {
    "duration": 556,
    "start_time": "2022-02-08T14:52:18.691Z"
   },
   {
    "duration": 693,
    "start_time": "2022-02-08T14:53:53.708Z"
   },
   {
    "duration": 571,
    "start_time": "2022-02-08T14:54:09.917Z"
   },
   {
    "duration": 557,
    "start_time": "2022-02-08T14:54:21.948Z"
   },
   {
    "duration": 15,
    "start_time": "2022-02-08T14:55:01.350Z"
   },
   {
    "duration": 133,
    "start_time": "2022-02-08T15:01:49.211Z"
   },
   {
    "duration": 130,
    "start_time": "2022-02-08T15:01:53.617Z"
   },
   {
    "duration": 555,
    "start_time": "2022-02-08T15:02:04.627Z"
   },
   {
    "duration": 704,
    "start_time": "2022-02-08T15:03:06.096Z"
   },
   {
    "duration": 759,
    "start_time": "2022-02-08T15:03:12.233Z"
   },
   {
    "duration": 634,
    "start_time": "2022-02-08T15:03:44.116Z"
   },
   {
    "duration": 665,
    "start_time": "2022-02-08T15:04:00.043Z"
   },
   {
    "duration": 617,
    "start_time": "2022-02-08T15:04:03.844Z"
   },
   {
    "duration": 875,
    "start_time": "2022-02-08T15:04:30.531Z"
   },
   {
    "duration": 642,
    "start_time": "2022-02-08T15:04:58.761Z"
   },
   {
    "duration": 668,
    "start_time": "2022-02-08T15:05:28.727Z"
   },
   {
    "duration": 324,
    "start_time": "2022-02-08T15:05:54.322Z"
   },
   {
    "duration": 579,
    "start_time": "2022-02-08T15:08:35.874Z"
   },
   {
    "duration": 935,
    "start_time": "2022-02-08T15:15:36.847Z"
   },
   {
    "duration": 972,
    "start_time": "2022-02-08T15:16:20.377Z"
   },
   {
    "duration": 1042,
    "start_time": "2022-02-08T15:16:24.771Z"
   },
   {
    "duration": 1015,
    "start_time": "2022-02-08T15:16:33.109Z"
   },
   {
    "duration": 634,
    "start_time": "2022-02-08T15:17:09.428Z"
   },
   {
    "duration": 285,
    "start_time": "2022-02-08T15:17:34.577Z"
   },
   {
    "duration": 546,
    "start_time": "2022-02-08T15:17:38.840Z"
   },
   {
    "duration": 11,
    "start_time": "2022-02-08T15:20:16.972Z"
   },
   {
    "duration": 912,
    "start_time": "2022-02-08T15:20:18.080Z"
   },
   {
    "duration": 7,
    "start_time": "2022-02-08T15:21:28.846Z"
   },
   {
    "duration": 439,
    "start_time": "2022-02-08T15:21:31.312Z"
   },
   {
    "duration": 6,
    "start_time": "2022-02-08T15:21:53.188Z"
   },
   {
    "duration": 432,
    "start_time": "2022-02-08T15:21:55.569Z"
   },
   {
    "duration": 7,
    "start_time": "2022-02-08T15:24:32.408Z"
   },
   {
    "duration": 617,
    "start_time": "2022-02-08T15:24:34.930Z"
   },
   {
    "duration": 7,
    "start_time": "2022-02-08T15:24:51.378Z"
   },
   {
    "duration": 1308,
    "start_time": "2022-02-08T15:24:52.332Z"
   },
   {
    "duration": 7,
    "start_time": "2022-02-08T15:25:23.953Z"
   },
   {
    "duration": 1040,
    "start_time": "2022-02-08T15:25:24.878Z"
   },
   {
    "duration": 1074,
    "start_time": "2022-02-08T15:25:53.593Z"
   },
   {
    "duration": 6,
    "start_time": "2022-02-08T15:26:09.179Z"
   },
   {
    "duration": 1172,
    "start_time": "2022-02-08T15:26:09.988Z"
   },
   {
    "duration": 7,
    "start_time": "2022-02-08T15:26:20.632Z"
   },
   {
    "duration": 1074,
    "start_time": "2022-02-08T15:26:21.534Z"
   },
   {
    "duration": 7,
    "start_time": "2022-02-08T15:27:16.412Z"
   },
   {
    "duration": 1169,
    "start_time": "2022-02-08T15:27:17.362Z"
   },
   {
    "duration": 183,
    "start_time": "2022-02-08T15:28:09.112Z"
   },
   {
    "duration": 7,
    "start_time": "2022-02-08T15:28:14.253Z"
   },
   {
    "duration": 1023,
    "start_time": "2022-02-08T15:28:15.419Z"
   },
   {
    "duration": 8,
    "start_time": "2022-02-08T15:30:03.603Z"
   },
   {
    "duration": 1234,
    "start_time": "2022-02-08T15:30:04.443Z"
   },
   {
    "duration": 10,
    "start_time": "2022-02-08T15:32:21.023Z"
   },
   {
    "duration": 1009,
    "start_time": "2022-02-08T15:32:21.915Z"
   },
   {
    "duration": 7,
    "start_time": "2022-02-08T15:32:36.711Z"
   },
   {
    "duration": 1028,
    "start_time": "2022-02-08T15:32:37.418Z"
   },
   {
    "duration": 7,
    "start_time": "2022-02-08T15:32:58.455Z"
   },
   {
    "duration": 8,
    "start_time": "2022-02-08T15:33:15.218Z"
   },
   {
    "duration": 1032,
    "start_time": "2022-02-08T15:33:16.073Z"
   },
   {
    "duration": 7,
    "start_time": "2022-02-08T15:34:12.497Z"
   },
   {
    "duration": 1538,
    "start_time": "2022-02-08T15:34:13.242Z"
   },
   {
    "duration": 8,
    "start_time": "2022-02-08T15:34:57.848Z"
   },
   {
    "duration": 1838,
    "start_time": "2022-02-08T15:34:58.657Z"
   },
   {
    "duration": 8,
    "start_time": "2022-02-08T15:35:18.800Z"
   },
   {
    "duration": 1075,
    "start_time": "2022-02-08T15:35:19.711Z"
   },
   {
    "duration": 7,
    "start_time": "2022-02-08T15:35:45.943Z"
   },
   {
    "duration": 1454,
    "start_time": "2022-02-08T15:35:46.761Z"
   },
   {
    "duration": 7,
    "start_time": "2022-02-08T15:36:21.661Z"
   },
   {
    "duration": 1055,
    "start_time": "2022-02-08T15:36:22.434Z"
   },
   {
    "duration": 8,
    "start_time": "2022-02-08T15:37:22.596Z"
   },
   {
    "duration": 1072,
    "start_time": "2022-02-08T15:37:24.119Z"
   },
   {
    "duration": 7,
    "start_time": "2022-02-08T15:38:02.406Z"
   },
   {
    "duration": 1048,
    "start_time": "2022-02-08T15:38:03.393Z"
   },
   {
    "duration": 7,
    "start_time": "2022-02-08T15:38:44.761Z"
   },
   {
    "duration": 1227,
    "start_time": "2022-02-08T15:38:45.668Z"
   },
   {
    "duration": 7,
    "start_time": "2022-02-08T15:39:09.232Z"
   },
   {
    "duration": 1157,
    "start_time": "2022-02-08T15:39:10.174Z"
   },
   {
    "duration": 7,
    "start_time": "2022-02-08T15:40:23.479Z"
   },
   {
    "duration": 1225,
    "start_time": "2022-02-08T15:40:24.634Z"
   },
   {
    "duration": 7,
    "start_time": "2022-02-08T15:40:30.372Z"
   },
   {
    "duration": 1161,
    "start_time": "2022-02-08T15:40:31.209Z"
   },
   {
    "duration": 7,
    "start_time": "2022-02-08T15:40:46.063Z"
   },
   {
    "duration": 1289,
    "start_time": "2022-02-08T15:40:46.692Z"
   },
   {
    "duration": 8,
    "start_time": "2022-02-08T15:41:39.592Z"
   },
   {
    "duration": 1199,
    "start_time": "2022-02-08T15:41:40.368Z"
   },
   {
    "duration": 7,
    "start_time": "2022-02-08T15:41:50.861Z"
   },
   {
    "duration": 1159,
    "start_time": "2022-02-08T15:41:51.490Z"
   },
   {
    "duration": 7,
    "start_time": "2022-02-08T15:42:04.484Z"
   },
   {
    "duration": 1520,
    "start_time": "2022-02-08T15:42:05.022Z"
   },
   {
    "duration": 1344,
    "start_time": "2022-02-08T15:43:05.721Z"
   },
   {
    "duration": 1220,
    "start_time": "2022-02-08T15:43:32.673Z"
   },
   {
    "duration": 7,
    "start_time": "2022-02-08T15:43:50.186Z"
   },
   {
    "duration": 1159,
    "start_time": "2022-02-08T15:43:51.286Z"
   },
   {
    "duration": 1290,
    "start_time": "2022-02-08T15:43:52.706Z"
   },
   {
    "duration": 1434,
    "start_time": "2022-02-08T15:43:55.231Z"
   },
   {
    "duration": 8,
    "start_time": "2022-02-08T15:44:45.552Z"
   },
   {
    "duration": 1216,
    "start_time": "2022-02-08T15:44:46.386Z"
   },
   {
    "duration": 1181,
    "start_time": "2022-02-08T15:44:49.642Z"
   },
   {
    "duration": 1387,
    "start_time": "2022-02-08T15:44:51.936Z"
   },
   {
    "duration": 9,
    "start_time": "2022-02-08T15:45:07.928Z"
   },
   {
    "duration": 1169,
    "start_time": "2022-02-08T15:45:08.979Z"
   },
   {
    "duration": 7,
    "start_time": "2022-02-08T15:45:38.319Z"
   },
   {
    "duration": 1176,
    "start_time": "2022-02-08T15:45:40.418Z"
   },
   {
    "duration": 1274,
    "start_time": "2022-02-08T15:45:45.130Z"
   },
   {
    "duration": 1179,
    "start_time": "2022-02-08T15:45:48.202Z"
   },
   {
    "duration": 4,
    "start_time": "2022-02-08T15:48:58.034Z"
   },
   {
    "duration": 7,
    "start_time": "2022-02-08T15:49:01.701Z"
   },
   {
    "duration": 7,
    "start_time": "2022-02-08T15:49:26.117Z"
   },
   {
    "duration": 1248,
    "start_time": "2022-02-08T15:49:26.950Z"
   },
   {
    "duration": 1200,
    "start_time": "2022-02-08T15:49:32.364Z"
   },
   {
    "duration": 1320,
    "start_time": "2022-02-08T15:49:35.457Z"
   },
   {
    "duration": 3,
    "start_time": "2022-02-08T15:55:25.941Z"
   },
   {
    "duration": 22,
    "start_time": "2022-02-08T15:55:31.183Z"
   },
   {
    "duration": 3,
    "start_time": "2022-02-08T15:55:40.506Z"
   },
   {
    "duration": 8,
    "start_time": "2022-02-08T16:05:29.743Z"
   },
   {
    "duration": 1304,
    "start_time": "2022-02-08T16:05:30.915Z"
   },
   {
    "duration": 8,
    "start_time": "2022-02-08T16:05:42.828Z"
   },
   {
    "duration": 1257,
    "start_time": "2022-02-08T16:05:44.639Z"
   },
   {
    "duration": 7,
    "start_time": "2022-02-08T16:05:52.502Z"
   },
   {
    "duration": 1160,
    "start_time": "2022-02-08T16:05:53.890Z"
   },
   {
    "duration": 7,
    "start_time": "2022-02-08T16:06:24.299Z"
   },
   {
    "duration": 1525,
    "start_time": "2022-02-08T16:06:25.197Z"
   },
   {
    "duration": 1187,
    "start_time": "2022-02-08T16:06:29.447Z"
   },
   {
    "duration": 1188,
    "start_time": "2022-02-08T16:06:32.640Z"
   },
   {
    "duration": 144,
    "start_time": "2022-02-08T16:50:01.885Z"
   },
   {
    "duration": 115,
    "start_time": "2022-02-08T16:53:13.504Z"
   },
   {
    "duration": 131,
    "start_time": "2022-02-08T16:53:50.146Z"
   },
   {
    "duration": 133,
    "start_time": "2022-02-08T16:53:59.613Z"
   },
   {
    "duration": 124,
    "start_time": "2022-02-08T16:54:06.513Z"
   },
   {
    "duration": 10,
    "start_time": "2022-02-08T16:54:11.915Z"
   },
   {
    "duration": 1267,
    "start_time": "2022-02-08T16:54:14.332Z"
   },
   {
    "duration": 8,
    "start_time": "2022-02-08T16:54:35.845Z"
   },
   {
    "duration": 1195,
    "start_time": "2022-02-08T16:54:36.708Z"
   },
   {
    "duration": 8,
    "start_time": "2022-02-08T16:54:53.273Z"
   },
   {
    "duration": 1295,
    "start_time": "2022-02-08T16:54:54.152Z"
   },
   {
    "duration": 1194,
    "start_time": "2022-02-08T16:55:08.253Z"
   },
   {
    "duration": 1324,
    "start_time": "2022-02-08T16:55:11.592Z"
   },
   {
    "duration": 8,
    "start_time": "2022-02-08T16:55:42.127Z"
   },
   {
    "duration": 1354,
    "start_time": "2022-02-08T16:55:44.045Z"
   },
   {
    "duration": 16,
    "start_time": "2022-02-08T17:24:58.912Z"
   },
   {
    "duration": 12,
    "start_time": "2022-02-08T17:25:06.375Z"
   },
   {
    "duration": 13,
    "start_time": "2022-02-08T17:25:11.665Z"
   },
   {
    "duration": 6,
    "start_time": "2022-02-08T17:28:07.766Z"
   },
   {
    "duration": 818,
    "start_time": "2022-02-08T17:28:12.895Z"
   },
   {
    "duration": 628,
    "start_time": "2022-02-08T17:28:52.081Z"
   },
   {
    "duration": 326,
    "start_time": "2022-02-08T17:28:55.168Z"
   },
   {
    "duration": 351,
    "start_time": "2022-02-08T17:29:18.999Z"
   },
   {
    "duration": 882,
    "start_time": "2022-02-08T17:29:50.434Z"
   },
   {
    "duration": 803,
    "start_time": "2022-02-08T17:29:57.986Z"
   },
   {
    "duration": 671,
    "start_time": "2022-02-08T17:30:05.655Z"
   },
   {
    "duration": 732,
    "start_time": "2022-02-08T17:30:11.805Z"
   },
   {
    "duration": 6,
    "start_time": "2022-02-08T17:30:45.025Z"
   },
   {
    "duration": 12,
    "start_time": "2022-02-08T17:31:00.224Z"
   },
   {
    "duration": 948,
    "start_time": "2022-02-08T17:31:11.905Z"
   },
   {
    "duration": 10,
    "start_time": "2022-02-08T17:32:36.876Z"
   },
   {
    "duration": 6,
    "start_time": "2022-02-08T17:33:31.899Z"
   },
   {
    "duration": 11,
    "start_time": "2022-02-08T17:33:32.839Z"
   },
   {
    "duration": 5,
    "start_time": "2022-02-08T17:33:58.423Z"
   },
   {
    "duration": 10,
    "start_time": "2022-02-08T17:34:07.815Z"
   },
   {
    "duration": 6,
    "start_time": "2022-02-08T17:34:10.228Z"
   },
   {
    "duration": 12,
    "start_time": "2022-02-08T17:34:11.068Z"
   },
   {
    "duration": 5,
    "start_time": "2022-02-08T17:35:16.471Z"
   },
   {
    "duration": 10,
    "start_time": "2022-02-08T17:35:34.897Z"
   },
   {
    "duration": 1498,
    "start_time": "2022-02-08T17:36:10.766Z"
   },
   {
    "duration": 971,
    "start_time": "2022-02-08T17:36:12.267Z"
   },
   {
    "duration": 4,
    "start_time": "2022-02-08T17:36:13.241Z"
   },
   {
    "duration": 34,
    "start_time": "2022-02-08T17:36:13.247Z"
   },
   {
    "duration": 2,
    "start_time": "2022-02-08T17:36:13.284Z"
   },
   {
    "duration": 113,
    "start_time": "2022-02-08T17:36:13.289Z"
   },
   {
    "duration": 3,
    "start_time": "2022-02-08T17:36:13.404Z"
   },
   {
    "duration": 5,
    "start_time": "2022-02-08T17:36:13.409Z"
   },
   {
    "duration": 6,
    "start_time": "2022-02-08T17:36:13.417Z"
   },
   {
    "duration": 36,
    "start_time": "2022-02-08T17:36:13.426Z"
   },
   {
    "duration": 14,
    "start_time": "2022-02-08T17:36:13.465Z"
   },
   {
    "duration": 15,
    "start_time": "2022-02-08T17:36:13.481Z"
   },
   {
    "duration": 16,
    "start_time": "2022-02-08T17:36:13.499Z"
   },
   {
    "duration": 5,
    "start_time": "2022-02-08T17:36:13.517Z"
   },
   {
    "duration": 6,
    "start_time": "2022-02-08T17:36:13.560Z"
   },
   {
    "duration": 10,
    "start_time": "2022-02-08T17:36:13.568Z"
   },
   {
    "duration": 6,
    "start_time": "2022-02-08T17:36:13.580Z"
   },
   {
    "duration": 16,
    "start_time": "2022-02-08T17:36:13.588Z"
   },
   {
    "duration": 58,
    "start_time": "2022-02-08T17:36:13.606Z"
   },
   {
    "duration": 4,
    "start_time": "2022-02-08T17:36:13.666Z"
   },
   {
    "duration": 48,
    "start_time": "2022-02-08T17:36:13.672Z"
   },
   {
    "duration": 330,
    "start_time": "2022-02-08T17:36:13.722Z"
   },
   {
    "duration": 3,
    "start_time": "2022-02-08T17:36:14.059Z"
   },
   {
    "duration": 8,
    "start_time": "2022-02-08T17:36:14.065Z"
   },
   {
    "duration": 1200,
    "start_time": "2022-02-08T17:36:14.075Z"
   },
   {
    "duration": 1374,
    "start_time": "2022-02-08T17:36:15.277Z"
   },
   {
    "duration": 1230,
    "start_time": "2022-02-08T17:36:16.660Z"
   },
   {
    "duration": 6,
    "start_time": "2022-02-08T17:36:23.134Z"
   },
   {
    "duration": 12,
    "start_time": "2022-02-08T17:36:24.036Z"
   },
   {
    "duration": 1335,
    "start_time": "2022-02-08T17:38:08.675Z"
   },
   {
    "duration": 6,
    "start_time": "2022-02-08T17:39:18.506Z"
   },
   {
    "duration": 6,
    "start_time": "2022-02-08T17:41:10.523Z"
   },
   {
    "duration": 7,
    "start_time": "2022-02-08T17:41:22.454Z"
   },
   {
    "duration": 11,
    "start_time": "2022-02-08T17:41:23.689Z"
   },
   {
    "duration": 17,
    "start_time": "2022-02-08T17:43:03.692Z"
   },
   {
    "duration": 641,
    "start_time": "2022-02-08T17:43:04.559Z"
   },
   {
    "duration": 321,
    "start_time": "2022-02-08T17:43:06.508Z"
   },
   {
    "duration": 330,
    "start_time": "2022-02-08T17:43:35.385Z"
   },
   {
    "duration": 11,
    "start_time": "2022-02-08T17:43:56.569Z"
   },
   {
    "duration": 8,
    "start_time": "2022-02-08T17:45:07.963Z"
   },
   {
    "duration": 637,
    "start_time": "2022-02-08T17:45:09.445Z"
   },
   {
    "duration": 327,
    "start_time": "2022-02-08T17:45:10.158Z"
   },
   {
    "duration": 14,
    "start_time": "2022-02-08T17:45:14.244Z"
   },
   {
    "duration": 1006,
    "start_time": "2022-02-08T17:46:16.998Z"
   },
   {
    "duration": 879,
    "start_time": "2022-02-08T17:46:45.197Z"
   },
   {
    "duration": 903,
    "start_time": "2022-02-08T17:47:01.525Z"
   },
   {
    "duration": 370,
    "start_time": "2022-02-08T17:47:44.883Z"
   },
   {
    "duration": 334,
    "start_time": "2022-02-08T17:47:55.891Z"
   },
   {
    "duration": 10,
    "start_time": "2022-02-08T17:47:58.804Z"
   },
   {
    "duration": 436,
    "start_time": "2022-02-08T17:48:28.493Z"
   },
   {
    "duration": 310,
    "start_time": "2022-02-08T17:50:04.141Z"
   },
   {
    "duration": 6,
    "start_time": "2022-02-08T17:51:59.751Z"
   },
   {
    "duration": 11,
    "start_time": "2022-02-08T17:52:05.293Z"
   },
   {
    "duration": 1112,
    "start_time": "2022-02-09T06:15:08.939Z"
   },
   {
    "duration": 11013,
    "start_time": "2022-02-09T06:15:10.052Z"
   },
   {
    "duration": 3,
    "start_time": "2022-02-09T06:15:21.069Z"
   },
   {
    "duration": 19,
    "start_time": "2022-02-09T06:15:21.074Z"
   },
   {
    "duration": 2,
    "start_time": "2022-02-09T06:15:21.094Z"
   },
   {
    "duration": 51,
    "start_time": "2022-02-09T06:15:21.097Z"
   },
   {
    "duration": 2,
    "start_time": "2022-02-09T06:15:21.150Z"
   },
   {
    "duration": 5,
    "start_time": "2022-02-09T06:15:21.153Z"
   },
   {
    "duration": 4,
    "start_time": "2022-02-09T06:15:21.171Z"
   },
   {
    "duration": 7,
    "start_time": "2022-02-09T06:15:21.176Z"
   },
   {
    "duration": 10,
    "start_time": "2022-02-09T06:15:21.184Z"
   },
   {
    "duration": 8,
    "start_time": "2022-02-09T06:15:21.195Z"
   },
   {
    "duration": 9,
    "start_time": "2022-02-09T06:15:21.204Z"
   },
   {
    "duration": 3,
    "start_time": "2022-02-09T06:15:21.214Z"
   },
   {
    "duration": 11,
    "start_time": "2022-02-09T06:15:21.219Z"
   },
   {
    "duration": 9,
    "start_time": "2022-02-09T06:15:21.232Z"
   },
   {
    "duration": 30,
    "start_time": "2022-02-09T06:15:21.243Z"
   },
   {
    "duration": 11,
    "start_time": "2022-02-09T06:15:21.275Z"
   },
   {
    "duration": 13,
    "start_time": "2022-02-09T06:15:21.287Z"
   },
   {
    "duration": 3,
    "start_time": "2022-02-09T06:15:21.302Z"
   },
   {
    "duration": 38,
    "start_time": "2022-02-09T06:15:21.306Z"
   },
   {
    "duration": 187,
    "start_time": "2022-02-09T06:15:21.347Z"
   },
   {
    "duration": 2,
    "start_time": "2022-02-09T06:15:21.536Z"
   },
   {
    "duration": 5,
    "start_time": "2022-02-09T06:15:21.540Z"
   },
   {
    "duration": 665,
    "start_time": "2022-02-09T06:15:21.546Z"
   },
   {
    "duration": 723,
    "start_time": "2022-02-09T06:15:22.212Z"
   },
   {
    "duration": 656,
    "start_time": "2022-02-09T06:15:22.937Z"
   },
   {
    "duration": 4,
    "start_time": "2022-02-09T06:15:23.595Z"
   },
   {
    "duration": 503,
    "start_time": "2022-02-09T06:15:23.600Z"
   },
   {
    "duration": 184,
    "start_time": "2022-02-09T06:15:24.104Z"
   },
   {
    "duration": 7,
    "start_time": "2022-02-09T06:15:24.289Z"
   },
   {
    "duration": 8,
    "start_time": "2022-02-09T06:15:24.297Z"
   },
   {
    "duration": 5,
    "start_time": "2022-02-09T06:15:24.307Z"
   },
   {
    "duration": 4,
    "start_time": "2022-02-09T06:40:36.386Z"
   },
   {
    "duration": 8,
    "start_time": "2022-02-09T06:40:40.961Z"
   },
   {
    "duration": 4,
    "start_time": "2022-02-09T06:43:02.555Z"
   },
   {
    "duration": 7,
    "start_time": "2022-02-09T06:43:07.774Z"
   },
   {
    "duration": 5,
    "start_time": "2022-02-09T06:48:59.460Z"
   },
   {
    "duration": 8,
    "start_time": "2022-02-09T06:49:00.355Z"
   },
   {
    "duration": 5,
    "start_time": "2022-02-09T06:49:08.522Z"
   },
   {
    "duration": 8,
    "start_time": "2022-02-09T06:49:09.085Z"
   },
   {
    "duration": 5,
    "start_time": "2022-02-09T06:49:49.714Z"
   },
   {
    "duration": 7,
    "start_time": "2022-02-09T06:49:50.595Z"
   },
   {
    "duration": 5,
    "start_time": "2022-02-09T06:50:08.879Z"
   },
   {
    "duration": 7,
    "start_time": "2022-02-09T06:50:09.434Z"
   },
   {
    "duration": 5,
    "start_time": "2022-02-09T06:50:27.458Z"
   },
   {
    "duration": 7,
    "start_time": "2022-02-09T06:50:28.322Z"
   },
   {
    "duration": 5,
    "start_time": "2022-02-09T06:51:02.461Z"
   },
   {
    "duration": 8,
    "start_time": "2022-02-09T06:51:02.998Z"
   },
   {
    "duration": 5,
    "start_time": "2022-02-09T06:51:14.172Z"
   },
   {
    "duration": 8,
    "start_time": "2022-02-09T06:51:14.996Z"
   },
   {
    "duration": 5,
    "start_time": "2022-02-09T06:52:32.320Z"
   },
   {
    "duration": 7,
    "start_time": "2022-02-09T06:52:33.103Z"
   },
   {
    "duration": 5,
    "start_time": "2022-02-09T06:52:57.142Z"
   },
   {
    "duration": 9,
    "start_time": "2022-02-09T06:52:57.736Z"
   },
   {
    "duration": 5,
    "start_time": "2022-02-09T06:55:55.739Z"
   },
   {
    "duration": 8,
    "start_time": "2022-02-09T06:55:56.347Z"
   },
   {
    "duration": 5,
    "start_time": "2022-02-09T06:56:15.799Z"
   },
   {
    "duration": 8,
    "start_time": "2022-02-09T06:56:16.343Z"
   },
   {
    "duration": 5,
    "start_time": "2022-02-09T06:58:45.643Z"
   },
   {
    "duration": 8,
    "start_time": "2022-02-09T06:58:46.253Z"
   },
   {
    "duration": 5,
    "start_time": "2022-02-09T06:59:22.154Z"
   },
   {
    "duration": 9,
    "start_time": "2022-02-09T06:59:23.146Z"
   },
   {
    "duration": 6,
    "start_time": "2022-02-09T07:01:19.489Z"
   },
   {
    "duration": 8,
    "start_time": "2022-02-09T07:01:20.695Z"
   },
   {
    "duration": 6,
    "start_time": "2022-02-09T07:01:40.310Z"
   },
   {
    "duration": 8,
    "start_time": "2022-02-09T07:01:41.776Z"
   },
   {
    "duration": 6,
    "start_time": "2022-02-09T07:01:51.457Z"
   },
   {
    "duration": 7,
    "start_time": "2022-02-09T07:01:52.258Z"
   },
   {
    "duration": 5,
    "start_time": "2022-02-09T07:02:04.356Z"
   },
   {
    "duration": 8,
    "start_time": "2022-02-09T07:02:04.984Z"
   },
   {
    "duration": 5,
    "start_time": "2022-02-09T07:02:08.726Z"
   },
   {
    "duration": 7,
    "start_time": "2022-02-09T07:02:09.269Z"
   },
   {
    "duration": 6,
    "start_time": "2022-02-09T07:02:35.224Z"
   },
   {
    "duration": 8,
    "start_time": "2022-02-09T07:02:35.763Z"
   },
   {
    "duration": 5,
    "start_time": "2022-02-09T07:02:48.759Z"
   },
   {
    "duration": 8,
    "start_time": "2022-02-09T07:02:49.551Z"
   },
   {
    "duration": 5,
    "start_time": "2022-02-09T07:04:16.159Z"
   },
   {
    "duration": 706,
    "start_time": "2022-02-09T07:04:16.860Z"
   },
   {
    "duration": 5,
    "start_time": "2022-02-09T07:04:25.599Z"
   },
   {
    "duration": 24,
    "start_time": "2022-02-09T07:04:26.394Z"
   },
   {
    "duration": 6,
    "start_time": "2022-02-09T07:04:38.864Z"
   },
   {
    "duration": 639,
    "start_time": "2022-02-09T07:04:39.401Z"
   },
   {
    "duration": 4,
    "start_time": "2022-02-09T07:04:47.199Z"
   },
   {
    "duration": 655,
    "start_time": "2022-02-09T07:04:48.238Z"
   },
   {
    "duration": 5,
    "start_time": "2022-02-09T07:10:34.535Z"
   },
   {
    "duration": 11,
    "start_time": "2022-02-09T07:10:34.542Z"
   },
   {
    "duration": 5,
    "start_time": "2022-02-09T07:11:00.426Z"
   },
   {
    "duration": 8,
    "start_time": "2022-02-09T07:11:00.984Z"
   },
   {
    "duration": 315,
    "start_time": "2022-02-09T07:15:18.561Z"
   },
   {
    "duration": 777,
    "start_time": "2022-02-09T07:15:50.256Z"
   },
   {
    "duration": 991,
    "start_time": "2022-02-09T07:16:11.476Z"
   },
   {
    "duration": 928,
    "start_time": "2022-02-09T07:16:33.965Z"
   },
   {
    "duration": 573,
    "start_time": "2022-02-09T07:18:08.442Z"
   },
   {
    "duration": 658,
    "start_time": "2022-02-09T07:19:23.229Z"
   },
   {
    "duration": 3167,
    "start_time": "2022-02-09T07:20:33.849Z"
   },
   {
    "duration": 255,
    "start_time": "2022-02-09T07:20:37.018Z"
   },
   {
    "duration": 580,
    "start_time": "2022-02-09T07:21:10.252Z"
   },
   {
    "duration": 580,
    "start_time": "2022-02-09T07:21:42.316Z"
   },
   {
    "duration": 359,
    "start_time": "2022-02-09T07:24:14.600Z"
   },
   {
    "duration": 328,
    "start_time": "2022-02-09T07:24:30.645Z"
   },
   {
    "duration": 314,
    "start_time": "2022-02-09T07:25:50.023Z"
   },
   {
    "duration": 339,
    "start_time": "2022-02-09T07:26:04.252Z"
   },
   {
    "duration": 123,
    "start_time": "2022-02-09T07:27:02.465Z"
   },
   {
    "duration": 333,
    "start_time": "2022-02-09T07:27:11.551Z"
   },
   {
    "duration": 315,
    "start_time": "2022-02-09T07:30:36.792Z"
   },
   {
    "duration": 126,
    "start_time": "2022-02-09T07:32:24.099Z"
   },
   {
    "duration": 721,
    "start_time": "2022-02-09T07:32:37.289Z"
   },
   {
    "duration": 588,
    "start_time": "2022-02-09T07:33:55.959Z"
   },
   {
    "duration": 614,
    "start_time": "2022-02-09T07:37:07.843Z"
   },
   {
    "duration": 695,
    "start_time": "2022-02-09T07:41:04.428Z"
   },
   {
    "duration": 586,
    "start_time": "2022-02-09T07:42:33.687Z"
   },
   {
    "duration": 577,
    "start_time": "2022-02-09T07:42:38.443Z"
   },
   {
    "duration": 586,
    "start_time": "2022-02-09T07:42:47.895Z"
   },
   {
    "duration": 702,
    "start_time": "2022-02-09T07:43:40.616Z"
   },
   {
    "duration": 615,
    "start_time": "2022-02-09T07:43:55.874Z"
   },
   {
    "duration": 602,
    "start_time": "2022-02-09T07:44:21.015Z"
   },
   {
    "duration": 615,
    "start_time": "2022-02-09T07:44:30.695Z"
   },
   {
    "duration": 7,
    "start_time": "2022-02-09T07:50:41.294Z"
   },
   {
    "duration": 710,
    "start_time": "2022-02-09T08:09:37.798Z"
   },
   {
    "duration": 5,
    "start_time": "2022-02-09T08:14:32.466Z"
   },
   {
    "duration": 8,
    "start_time": "2022-02-09T08:14:34.686Z"
   },
   {
    "duration": 5,
    "start_time": "2022-02-09T08:17:36.242Z"
   },
   {
    "duration": 641,
    "start_time": "2022-02-09T08:17:37.104Z"
   },
   {
    "duration": 600,
    "start_time": "2022-02-09T08:18:06.987Z"
   },
   {
    "duration": 532,
    "start_time": "2022-02-09T08:20:00.349Z"
   },
   {
    "duration": 716,
    "start_time": "2022-02-09T08:20:09.220Z"
   },
   {
    "duration": 115,
    "start_time": "2022-02-09T08:56:06.917Z"
   },
   {
    "duration": 317,
    "start_time": "2022-02-09T08:56:17.551Z"
   },
   {
    "duration": 9,
    "start_time": "2022-02-09T08:57:01.241Z"
   },
   {
    "duration": 7,
    "start_time": "2022-02-09T08:57:59.075Z"
   },
   {
    "duration": 10,
    "start_time": "2022-02-09T08:58:19.367Z"
   },
   {
    "duration": 342,
    "start_time": "2022-02-09T08:59:07.711Z"
   },
   {
    "duration": 330,
    "start_time": "2022-02-09T08:59:18.295Z"
   },
   {
    "duration": 1095,
    "start_time": "2022-02-09T09:00:09.905Z"
   },
   {
    "duration": 1145,
    "start_time": "2022-02-09T09:00:26.826Z"
   },
   {
    "duration": 580,
    "start_time": "2022-02-09T09:00:44.922Z"
   },
   {
    "duration": 769,
    "start_time": "2022-02-09T09:01:05.292Z"
   },
   {
    "duration": 355,
    "start_time": "2022-02-09T09:04:44.934Z"
   },
   {
    "duration": 2366,
    "start_time": "2022-02-09T09:05:09.464Z"
   },
   {
    "duration": 112,
    "start_time": "2022-02-09T09:10:27.023Z"
   },
   {
    "duration": 101,
    "start_time": "2022-02-09T09:10:47.021Z"
   },
   {
    "duration": 341,
    "start_time": "2022-02-09T09:24:48.698Z"
   },
   {
    "duration": 312,
    "start_time": "2022-02-09T09:26:22.134Z"
   },
   {
    "duration": 11,
    "start_time": "2022-02-09T09:26:41.499Z"
   },
   {
    "duration": 134,
    "start_time": "2022-02-09T09:30:23.312Z"
   },
   {
    "duration": 16,
    "start_time": "2022-02-09T09:30:37.645Z"
   },
   {
    "duration": 18,
    "start_time": "2022-02-09T09:30:51.143Z"
   },
   {
    "duration": 11,
    "start_time": "2022-02-09T09:35:45.787Z"
   },
   {
    "duration": 600,
    "start_time": "2022-02-09T09:36:24.991Z"
   },
   {
    "duration": 22,
    "start_time": "2022-02-09T09:36:30.972Z"
   },
   {
    "duration": 14,
    "start_time": "2022-02-09T09:36:51.805Z"
   },
   {
    "duration": 9,
    "start_time": "2022-02-09T09:39:42.412Z"
   },
   {
    "duration": 311,
    "start_time": "2022-02-09T09:39:43.475Z"
   },
   {
    "duration": 10,
    "start_time": "2022-02-09T09:39:55.863Z"
   },
   {
    "duration": 532,
    "start_time": "2022-02-09T09:40:48.449Z"
   },
   {
    "duration": 10,
    "start_time": "2022-02-09T09:40:51.331Z"
   },
   {
    "duration": 10,
    "start_time": "2022-02-09T09:40:53.181Z"
   },
   {
    "duration": 116,
    "start_time": "2022-02-09T09:42:50.979Z"
   },
   {
    "duration": 9,
    "start_time": "2022-02-09T09:43:01.426Z"
   },
   {
    "duration": 10,
    "start_time": "2022-02-09T09:43:04.002Z"
   },
   {
    "duration": 8165,
    "start_time": "2022-02-09T09:46:28.439Z"
   },
   {
    "duration": 13,
    "start_time": "2022-02-09T09:46:36.593Z"
   },
   {
    "duration": 10,
    "start_time": "2022-02-09T09:46:59.767Z"
   },
   {
    "duration": 380,
    "start_time": "2022-02-09T09:47:00.841Z"
   },
   {
    "duration": 11,
    "start_time": "2022-02-09T09:47:19.318Z"
   },
   {
    "duration": 370,
    "start_time": "2022-02-09T09:50:01.237Z"
   },
   {
    "duration": 104,
    "start_time": "2022-02-09T09:50:46.831Z"
   },
   {
    "duration": 114,
    "start_time": "2022-02-09T09:51:08.528Z"
   },
   {
    "duration": 118,
    "start_time": "2022-02-09T09:51:18.422Z"
   },
   {
    "duration": 13,
    "start_time": "2022-02-09T09:51:47.525Z"
   },
   {
    "duration": 8,
    "start_time": "2022-02-09T09:51:49.072Z"
   },
   {
    "duration": 324,
    "start_time": "2022-02-09T09:53:16.897Z"
   },
   {
    "duration": 10,
    "start_time": "2022-02-09T09:54:03.634Z"
   },
   {
    "duration": 12,
    "start_time": "2022-02-09T09:54:04.706Z"
   },
   {
    "duration": 9,
    "start_time": "2022-02-09T09:54:59.440Z"
   },
   {
    "duration": 10,
    "start_time": "2022-02-09T09:54:59.463Z"
   },
   {
    "duration": 4,
    "start_time": "2022-02-09T09:57:08.543Z"
   },
   {
    "duration": 9470,
    "start_time": "2022-02-09T09:57:10.003Z"
   },
   {
    "duration": 4,
    "start_time": "2022-02-09T09:58:47.135Z"
   },
   {
    "duration": 622,
    "start_time": "2022-02-09T09:58:54.085Z"
   },
   {
    "duration": 4,
    "start_time": "2022-02-09T09:59:16.820Z"
   },
   {
    "duration": 629,
    "start_time": "2022-02-09T09:59:18.184Z"
   },
   {
    "duration": 5,
    "start_time": "2022-02-09T10:02:56.958Z"
   },
   {
    "duration": 625,
    "start_time": "2022-02-09T10:02:57.976Z"
   },
   {
    "duration": 633,
    "start_time": "2022-02-09T10:03:53.871Z"
   },
   {
    "duration": 746,
    "start_time": "2022-02-09T10:05:02.450Z"
   },
   {
    "duration": 690,
    "start_time": "2022-02-09T10:06:00.306Z"
   },
   {
    "duration": 22,
    "start_time": "2022-02-09T10:07:39.940Z"
   },
   {
    "duration": 1548,
    "start_time": "2022-02-09T10:11:19.971Z"
   },
   {
    "duration": 8,
    "start_time": "2022-02-09T10:13:51.709Z"
   },
   {
    "duration": 9,
    "start_time": "2022-02-09T10:19:36.061Z"
   },
   {
    "duration": 613,
    "start_time": "2022-02-09T10:20:18.673Z"
   },
   {
    "duration": 1097,
    "start_time": "2022-02-09T10:20:31.801Z"
   },
   {
    "duration": 23,
    "start_time": "2022-02-09T10:20:33.008Z"
   },
   {
    "duration": 8,
    "start_time": "2022-02-09T10:20:36.873Z"
   },
   {
    "duration": 9,
    "start_time": "2022-02-09T10:20:39.356Z"
   },
   {
    "duration": 911,
    "start_time": "2022-02-09T10:20:50.975Z"
   },
   {
    "duration": 21,
    "start_time": "2022-02-09T10:59:13.707Z"
   },
   {
    "duration": 8,
    "start_time": "2022-02-09T10:59:14.714Z"
   },
   {
    "duration": 1008,
    "start_time": "2022-02-09T10:59:47.568Z"
   },
   {
    "duration": 9,
    "start_time": "2022-02-09T11:00:31.562Z"
   },
   {
    "duration": 1020,
    "start_time": "2022-02-09T11:00:33.140Z"
   },
   {
    "duration": 769,
    "start_time": "2022-02-09T11:20:55.657Z"
   },
   {
    "duration": 1038,
    "start_time": "2022-02-09T11:21:10.440Z"
   },
   {
    "duration": 606,
    "start_time": "2022-02-09T11:24:37.894Z"
   },
   {
    "duration": 5,
    "start_time": "2022-02-09T11:30:36.358Z"
   },
   {
    "duration": 9,
    "start_time": "2022-02-09T11:30:45.765Z"
   },
   {
    "duration": 7,
    "start_time": "2022-02-09T11:31:05.073Z"
   },
   {
    "duration": 6,
    "start_time": "2022-02-09T11:31:23.848Z"
   },
   {
    "duration": 6,
    "start_time": "2022-02-09T11:31:45.577Z"
   },
   {
    "duration": 8,
    "start_time": "2022-02-09T11:32:03.919Z"
   },
   {
    "duration": 8,
    "start_time": "2022-02-09T11:32:10.960Z"
   },
   {
    "duration": 332,
    "start_time": "2022-02-09T11:33:29.319Z"
   },
   {
    "duration": 13,
    "start_time": "2022-02-09T11:33:51.987Z"
   },
   {
    "duration": 7,
    "start_time": "2022-02-09T11:35:38.919Z"
   },
   {
    "duration": 1169,
    "start_time": "2022-02-09T11:36:29.183Z"
   },
   {
    "duration": 686,
    "start_time": "2022-02-09T11:36:30.353Z"
   },
   {
    "duration": 3,
    "start_time": "2022-02-09T11:36:31.043Z"
   },
   {
    "duration": 31,
    "start_time": "2022-02-09T11:36:31.048Z"
   },
   {
    "duration": 2,
    "start_time": "2022-02-09T11:36:31.080Z"
   },
   {
    "duration": 60,
    "start_time": "2022-02-09T11:36:31.084Z"
   },
   {
    "duration": 3,
    "start_time": "2022-02-09T11:36:31.146Z"
   },
   {
    "duration": 12,
    "start_time": "2022-02-09T11:36:31.151Z"
   },
   {
    "duration": 4,
    "start_time": "2022-02-09T11:36:31.172Z"
   },
   {
    "duration": 21,
    "start_time": "2022-02-09T11:36:31.178Z"
   },
   {
    "duration": 13,
    "start_time": "2022-02-09T11:36:31.201Z"
   },
   {
    "duration": 14,
    "start_time": "2022-02-09T11:36:31.216Z"
   },
   {
    "duration": 17,
    "start_time": "2022-02-09T11:36:31.232Z"
   },
   {
    "duration": 3,
    "start_time": "2022-02-09T11:36:31.251Z"
   },
   {
    "duration": 12,
    "start_time": "2022-02-09T11:36:31.255Z"
   },
   {
    "duration": 26,
    "start_time": "2022-02-09T11:36:31.268Z"
   },
   {
    "duration": 8,
    "start_time": "2022-02-09T11:36:31.296Z"
   },
   {
    "duration": 22,
    "start_time": "2022-02-09T11:36:31.305Z"
   },
   {
    "duration": 15,
    "start_time": "2022-02-09T11:36:31.329Z"
   },
   {
    "duration": 21,
    "start_time": "2022-02-09T11:36:31.346Z"
   },
   {
    "duration": 40,
    "start_time": "2022-02-09T11:36:31.369Z"
   },
   {
    "duration": 170,
    "start_time": "2022-02-09T11:36:31.412Z"
   },
   {
    "duration": 3,
    "start_time": "2022-02-09T11:36:31.583Z"
   },
   {
    "duration": 5,
    "start_time": "2022-02-09T11:36:31.587Z"
   },
   {
    "duration": 669,
    "start_time": "2022-02-09T11:36:31.593Z"
   },
   {
    "duration": 720,
    "start_time": "2022-02-09T11:36:32.272Z"
   },
   {
    "duration": 663,
    "start_time": "2022-02-09T11:36:32.994Z"
   },
   {
    "duration": 13,
    "start_time": "2022-02-09T11:36:33.658Z"
   },
   {
    "duration": 10,
    "start_time": "2022-02-09T11:36:33.673Z"
   },
   {
    "duration": 6,
    "start_time": "2022-02-09T11:36:33.685Z"
   },
   {
    "duration": 603,
    "start_time": "2022-02-09T11:36:33.693Z"
   },
   {
    "duration": 9,
    "start_time": "2022-02-09T11:36:34.297Z"
   },
   {
    "duration": 21,
    "start_time": "2022-02-09T11:36:34.308Z"
   },
   {
    "duration": 1165,
    "start_time": "2022-02-09T11:36:34.331Z"
   },
   {
    "duration": 12,
    "start_time": "2022-02-09T11:36:35.497Z"
   },
   {
    "duration": 5,
    "start_time": "2022-02-09T11:36:35.510Z"
   },
   {
    "duration": 10,
    "start_time": "2022-02-09T11:37:10.900Z"
   },
   {
    "duration": 4,
    "start_time": "2022-02-09T11:41:59.307Z"
   },
   {
    "duration": 688,
    "start_time": "2022-02-09T11:41:59.312Z"
   },
   {
    "duration": 3,
    "start_time": "2022-02-09T11:42:00.003Z"
   },
   {
    "duration": 18,
    "start_time": "2022-02-09T11:42:00.008Z"
   },
   {
    "duration": 2,
    "start_time": "2022-02-09T11:42:00.028Z"
   },
   {
    "duration": 61,
    "start_time": "2022-02-09T11:42:00.031Z"
   },
   {
    "duration": 2,
    "start_time": "2022-02-09T11:42:00.094Z"
   },
   {
    "duration": 6,
    "start_time": "2022-02-09T11:42:00.100Z"
   },
   {
    "duration": 10,
    "start_time": "2022-02-09T11:42:00.109Z"
   },
   {
    "duration": 9,
    "start_time": "2022-02-09T11:42:00.121Z"
   },
   {
    "duration": 14,
    "start_time": "2022-02-09T11:42:00.131Z"
   },
   {
    "duration": 20,
    "start_time": "2022-02-09T11:42:00.146Z"
   },
   {
    "duration": 14,
    "start_time": "2022-02-09T11:42:00.168Z"
   },
   {
    "duration": 11,
    "start_time": "2022-02-09T11:42:00.184Z"
   },
   {
    "duration": 21,
    "start_time": "2022-02-09T11:42:00.197Z"
   },
   {
    "duration": 18,
    "start_time": "2022-02-09T11:42:00.220Z"
   },
   {
    "duration": 15,
    "start_time": "2022-02-09T11:42:00.240Z"
   },
   {
    "duration": 23,
    "start_time": "2022-02-09T11:42:00.256Z"
   },
   {
    "duration": 13,
    "start_time": "2022-02-09T11:42:00.281Z"
   },
   {
    "duration": 6,
    "start_time": "2022-02-09T11:42:00.296Z"
   },
   {
    "duration": 8,
    "start_time": "2022-02-09T11:42:00.303Z"
   },
   {
    "duration": 21,
    "start_time": "2022-02-09T11:42:00.312Z"
   },
   {
    "duration": 173,
    "start_time": "2022-02-09T11:42:00.336Z"
   },
   {
    "duration": 3,
    "start_time": "2022-02-09T11:42:00.511Z"
   },
   {
    "duration": 13,
    "start_time": "2022-02-09T11:42:00.516Z"
   },
   {
    "duration": 665,
    "start_time": "2022-02-09T11:42:00.531Z"
   },
   {
    "duration": 668,
    "start_time": "2022-02-09T11:42:01.198Z"
   },
   {
    "duration": 670,
    "start_time": "2022-02-09T11:42:01.868Z"
   },
   {
    "duration": 5,
    "start_time": "2022-02-09T11:42:02.539Z"
   },
   {
    "duration": 11,
    "start_time": "2022-02-09T11:42:02.545Z"
   },
   {
    "duration": 15,
    "start_time": "2022-02-09T11:42:02.558Z"
   },
   {
    "duration": 696,
    "start_time": "2022-02-09T11:42:02.575Z"
   },
   {
    "duration": 8,
    "start_time": "2022-02-09T11:42:03.273Z"
   },
   {
    "duration": 22,
    "start_time": "2022-02-09T11:42:03.283Z"
   },
   {
    "duration": 933,
    "start_time": "2022-02-09T11:42:03.306Z"
   },
   {
    "duration": 13,
    "start_time": "2022-02-09T11:42:04.241Z"
   },
   {
    "duration": 19,
    "start_time": "2022-02-09T11:42:04.256Z"
   },
   {
    "duration": 1146,
    "start_time": "2022-02-09T11:42:24.392Z"
   },
   {
    "duration": 705,
    "start_time": "2022-02-09T11:42:25.540Z"
   },
   {
    "duration": 3,
    "start_time": "2022-02-09T11:42:26.248Z"
   },
   {
    "duration": 24,
    "start_time": "2022-02-09T11:42:26.253Z"
   },
   {
    "duration": 3,
    "start_time": "2022-02-09T11:42:26.279Z"
   },
   {
    "duration": 49,
    "start_time": "2022-02-09T11:42:26.283Z"
   },
   {
    "duration": 2,
    "start_time": "2022-02-09T11:42:26.334Z"
   },
   {
    "duration": 4,
    "start_time": "2022-02-09T11:42:26.338Z"
   },
   {
    "duration": 28,
    "start_time": "2022-02-09T11:42:26.344Z"
   },
   {
    "duration": 6,
    "start_time": "2022-02-09T11:42:26.374Z"
   },
   {
    "duration": 7,
    "start_time": "2022-02-09T11:42:26.381Z"
   },
   {
    "duration": 9,
    "start_time": "2022-02-09T11:42:26.389Z"
   },
   {
    "duration": 9,
    "start_time": "2022-02-09T11:42:26.400Z"
   },
   {
    "duration": 2,
    "start_time": "2022-02-09T11:42:26.411Z"
   },
   {
    "duration": 10,
    "start_time": "2022-02-09T11:42:26.415Z"
   },
   {
    "duration": 10,
    "start_time": "2022-02-09T11:42:26.426Z"
   },
   {
    "duration": 9,
    "start_time": "2022-02-09T11:42:26.438Z"
   },
   {
    "duration": 31,
    "start_time": "2022-02-09T11:42:26.448Z"
   },
   {
    "duration": 12,
    "start_time": "2022-02-09T11:42:26.480Z"
   },
   {
    "duration": 2,
    "start_time": "2022-02-09T11:42:26.494Z"
   },
   {
    "duration": 8,
    "start_time": "2022-02-09T11:42:26.498Z"
   },
   {
    "duration": 16,
    "start_time": "2022-02-09T11:42:26.507Z"
   },
   {
    "duration": 180,
    "start_time": "2022-02-09T11:42:26.525Z"
   },
   {
    "duration": 2,
    "start_time": "2022-02-09T11:42:26.707Z"
   },
   {
    "duration": 5,
    "start_time": "2022-02-09T11:42:26.711Z"
   },
   {
    "duration": 683,
    "start_time": "2022-02-09T11:42:26.718Z"
   },
   {
    "duration": 744,
    "start_time": "2022-02-09T11:42:27.403Z"
   },
   {
    "duration": 679,
    "start_time": "2022-02-09T11:42:28.149Z"
   },
   {
    "duration": 5,
    "start_time": "2022-02-09T11:42:28.829Z"
   },
   {
    "duration": 14,
    "start_time": "2022-02-09T11:42:28.836Z"
   },
   {
    "duration": 21,
    "start_time": "2022-02-09T11:42:28.851Z"
   },
   {
    "duration": 625,
    "start_time": "2022-02-09T11:42:28.873Z"
   },
   {
    "duration": 9,
    "start_time": "2022-02-09T11:42:29.499Z"
   },
   {
    "duration": 22,
    "start_time": "2022-02-09T11:42:29.509Z"
   },
   {
    "duration": 1059,
    "start_time": "2022-02-09T11:42:29.532Z"
   },
   {
    "duration": 11,
    "start_time": "2022-02-09T11:42:30.593Z"
   },
   {
    "duration": 5,
    "start_time": "2022-02-09T11:42:30.606Z"
   },
   {
    "duration": 2,
    "start_time": "2022-02-09T11:43:30.168Z"
   },
   {
    "duration": 9,
    "start_time": "2022-02-09T11:43:33.278Z"
   },
   {
    "duration": 32,
    "start_time": "2022-02-09T11:43:39.550Z"
   },
   {
    "duration": 10,
    "start_time": "2022-02-09T11:43:41.812Z"
   },
   {
    "duration": 153,
    "start_time": "2022-02-09T11:43:53.518Z"
   },
   {
    "duration": 44,
    "start_time": "2022-02-09T11:44:21.782Z"
   },
   {
    "duration": 9,
    "start_time": "2022-02-09T11:44:33.814Z"
   },
   {
    "duration": 10,
    "start_time": "2022-02-09T11:44:37.876Z"
   },
   {
    "duration": 22,
    "start_time": "2022-02-09T11:45:08.992Z"
   },
   {
    "duration": 3,
    "start_time": "2022-02-09T11:45:13.823Z"
   },
   {
    "duration": 681,
    "start_time": "2022-02-09T11:45:13.828Z"
   },
   {
    "duration": 3,
    "start_time": "2022-02-09T11:45:14.511Z"
   },
   {
    "duration": 26,
    "start_time": "2022-02-09T11:45:14.516Z"
   },
   {
    "duration": 2,
    "start_time": "2022-02-09T11:45:14.544Z"
   },
   {
    "duration": 68,
    "start_time": "2022-02-09T11:45:14.548Z"
   },
   {
    "duration": 2,
    "start_time": "2022-02-09T11:45:14.619Z"
   },
   {
    "duration": 4,
    "start_time": "2022-02-09T11:45:14.624Z"
   },
   {
    "duration": 13,
    "start_time": "2022-02-09T11:45:14.629Z"
   },
   {
    "duration": 25,
    "start_time": "2022-02-09T11:45:14.643Z"
   },
   {
    "duration": 16,
    "start_time": "2022-02-09T11:45:14.670Z"
   },
   {
    "duration": 23,
    "start_time": "2022-02-09T11:45:14.688Z"
   },
   {
    "duration": 10,
    "start_time": "2022-02-09T11:45:14.712Z"
   },
   {
    "duration": 5,
    "start_time": "2022-02-09T11:45:14.724Z"
   },
   {
    "duration": 16,
    "start_time": "2022-02-09T11:45:14.731Z"
   },
   {
    "duration": 15,
    "start_time": "2022-02-09T11:45:14.749Z"
   },
   {
    "duration": 20,
    "start_time": "2022-02-09T11:45:14.765Z"
   },
   {
    "duration": 18,
    "start_time": "2022-02-09T11:45:14.787Z"
   },
   {
    "duration": 23,
    "start_time": "2022-02-09T11:45:14.808Z"
   },
   {
    "duration": 3,
    "start_time": "2022-02-09T11:45:14.833Z"
   },
   {
    "duration": 39,
    "start_time": "2022-02-09T11:45:14.838Z"
   },
   {
    "duration": 11,
    "start_time": "2022-02-09T11:45:14.879Z"
   },
   {
    "duration": 20,
    "start_time": "2022-02-09T11:45:14.892Z"
   },
   {
    "duration": 11,
    "start_time": "2022-02-09T11:45:14.914Z"
   },
   {
    "duration": 200,
    "start_time": "2022-02-09T11:45:14.927Z"
   },
   {
    "duration": 3,
    "start_time": "2022-02-09T11:45:15.129Z"
   },
   {
    "duration": 5,
    "start_time": "2022-02-09T11:45:15.133Z"
   },
   {
    "duration": 666,
    "start_time": "2022-02-09T11:45:15.140Z"
   },
   {
    "duration": 647,
    "start_time": "2022-02-09T11:45:15.808Z"
   },
   {
    "duration": 666,
    "start_time": "2022-02-09T11:45:16.457Z"
   },
   {
    "duration": 5,
    "start_time": "2022-02-09T11:45:17.125Z"
   },
   {
    "duration": 11,
    "start_time": "2022-02-09T11:45:17.132Z"
   },
   {
    "duration": 7,
    "start_time": "2022-02-09T11:45:17.145Z"
   },
   {
    "duration": 726,
    "start_time": "2022-02-09T11:45:17.171Z"
   },
   {
    "duration": 8,
    "start_time": "2022-02-09T11:45:17.899Z"
   },
   {
    "duration": 20,
    "start_time": "2022-02-09T11:45:17.908Z"
   },
   {
    "duration": 970,
    "start_time": "2022-02-09T11:45:17.929Z"
   },
   {
    "duration": 12,
    "start_time": "2022-02-09T11:45:18.900Z"
   },
   {
    "duration": 5,
    "start_time": "2022-02-09T11:45:18.913Z"
   },
   {
    "duration": 4,
    "start_time": "2022-02-09T11:47:30.874Z"
   },
   {
    "duration": 657,
    "start_time": "2022-02-09T11:47:30.879Z"
   },
   {
    "duration": 2,
    "start_time": "2022-02-09T11:47:31.538Z"
   },
   {
    "duration": 24,
    "start_time": "2022-02-09T11:47:31.542Z"
   },
   {
    "duration": 2,
    "start_time": "2022-02-09T11:47:31.568Z"
   },
   {
    "duration": 76,
    "start_time": "2022-02-09T11:47:31.571Z"
   },
   {
    "duration": 2,
    "start_time": "2022-02-09T11:47:31.648Z"
   },
   {
    "duration": 5,
    "start_time": "2022-02-09T11:47:31.653Z"
   },
   {
    "duration": 21,
    "start_time": "2022-02-09T11:47:31.660Z"
   },
   {
    "duration": 17,
    "start_time": "2022-02-09T11:47:31.682Z"
   },
   {
    "duration": 7,
    "start_time": "2022-02-09T11:47:31.700Z"
   },
   {
    "duration": 33,
    "start_time": "2022-02-09T11:47:31.709Z"
   },
   {
    "duration": 19,
    "start_time": "2022-02-09T11:47:31.744Z"
   },
   {
    "duration": 8,
    "start_time": "2022-02-09T11:47:31.765Z"
   },
   {
    "duration": 11,
    "start_time": "2022-02-09T11:47:31.775Z"
   },
   {
    "duration": 26,
    "start_time": "2022-02-09T11:47:31.788Z"
   },
   {
    "duration": 13,
    "start_time": "2022-02-09T11:47:31.815Z"
   },
   {
    "duration": 20,
    "start_time": "2022-02-09T11:47:31.830Z"
   },
   {
    "duration": 21,
    "start_time": "2022-02-09T11:47:31.852Z"
   },
   {
    "duration": 4,
    "start_time": "2022-02-09T11:47:31.875Z"
   },
   {
    "duration": 3,
    "start_time": "2022-02-09T11:47:33.084Z"
   },
   {
    "duration": 33,
    "start_time": "2022-02-09T11:47:33.702Z"
   },
   {
    "duration": 2,
    "start_time": "2022-02-09T11:47:34.360Z"
   },
   {
    "duration": 39,
    "start_time": "2022-02-09T11:47:35.147Z"
   },
   {
    "duration": 34,
    "start_time": "2022-02-09T11:48:04.878Z"
   },
   {
    "duration": 39,
    "start_time": "2022-02-09T11:48:20.238Z"
   },
   {
    "duration": 31,
    "start_time": "2022-02-09T11:48:40.111Z"
   },
   {
    "duration": 6,
    "start_time": "2022-02-09T11:50:08.982Z"
   },
   {
    "duration": 5,
    "start_time": "2022-02-09T11:51:31.349Z"
   },
   {
    "duration": 34,
    "start_time": "2022-02-09T11:51:44.369Z"
   },
   {
    "duration": 397,
    "start_time": "2022-02-09T11:51:56.958Z"
   },
   {
    "duration": 31,
    "start_time": "2022-02-09T11:52:21.368Z"
   },
   {
    "duration": 7,
    "start_time": "2022-02-09T11:57:22.587Z"
   },
   {
    "duration": 8,
    "start_time": "2022-02-09T11:58:54.000Z"
   },
   {
    "duration": 2,
    "start_time": "2022-02-09T11:59:48.097Z"
   },
   {
    "duration": 4,
    "start_time": "2022-02-09T12:00:04.008Z"
   },
   {
    "duration": 677,
    "start_time": "2022-02-09T12:00:04.013Z"
   },
   {
    "duration": 2,
    "start_time": "2022-02-09T12:00:04.693Z"
   },
   {
    "duration": 17,
    "start_time": "2022-02-09T12:00:04.697Z"
   },
   {
    "duration": 3,
    "start_time": "2022-02-09T12:00:04.715Z"
   },
   {
    "duration": 74,
    "start_time": "2022-02-09T12:00:04.720Z"
   },
   {
    "duration": 3,
    "start_time": "2022-02-09T12:00:04.797Z"
   },
   {
    "duration": 4,
    "start_time": "2022-02-09T12:00:04.803Z"
   },
   {
    "duration": 6,
    "start_time": "2022-02-09T12:00:04.811Z"
   },
   {
    "duration": 14,
    "start_time": "2022-02-09T12:00:04.819Z"
   },
   {
    "duration": 10,
    "start_time": "2022-02-09T12:00:04.835Z"
   },
   {
    "duration": 16,
    "start_time": "2022-02-09T12:00:04.873Z"
   },
   {
    "duration": 17,
    "start_time": "2022-02-09T12:00:04.891Z"
   },
   {
    "duration": 5,
    "start_time": "2022-02-09T12:00:04.910Z"
   },
   {
    "duration": 6,
    "start_time": "2022-02-09T12:00:04.917Z"
   },
   {
    "duration": 6,
    "start_time": "2022-02-09T12:00:04.926Z"
   },
   {
    "duration": 38,
    "start_time": "2022-02-09T12:00:04.935Z"
   },
   {
    "duration": 23,
    "start_time": "2022-02-09T12:00:04.976Z"
   },
   {
    "duration": 20,
    "start_time": "2022-02-09T12:00:05.001Z"
   },
   {
    "duration": 3,
    "start_time": "2022-02-09T12:00:05.023Z"
   },
   {
    "duration": 3,
    "start_time": "2022-02-09T12:00:08.412Z"
   },
   {
    "duration": 10,
    "start_time": "2022-02-09T12:00:09.055Z"
   },
   {
    "duration": 53,
    "start_time": "2022-02-09T12:00:25.600Z"
   },
   {
    "duration": 14,
    "start_time": "2022-02-09T12:00:37.067Z"
   },
   {
    "duration": 3,
    "start_time": "2022-02-09T12:00:59.266Z"
   },
   {
    "duration": 10,
    "start_time": "2022-02-09T12:01:00.736Z"
   },
   {
    "duration": 884,
    "start_time": "2022-02-09T12:01:05.635Z"
   },
   {
    "duration": 146,
    "start_time": "2022-02-09T12:01:06.375Z"
   },
   {
    "duration": 4,
    "start_time": "2022-02-09T12:01:22.823Z"
   },
   {
    "duration": 668,
    "start_time": "2022-02-09T12:01:22.828Z"
   },
   {
    "duration": 2,
    "start_time": "2022-02-09T12:01:23.498Z"
   },
   {
    "duration": 17,
    "start_time": "2022-02-09T12:01:23.502Z"
   },
   {
    "duration": 2,
    "start_time": "2022-02-09T12:01:23.522Z"
   },
   {
    "duration": 112,
    "start_time": "2022-02-09T12:01:23.527Z"
   },
   {
    "duration": 3,
    "start_time": "2022-02-09T12:01:23.641Z"
   },
   {
    "duration": 4,
    "start_time": "2022-02-09T12:01:23.647Z"
   },
   {
    "duration": 19,
    "start_time": "2022-02-09T12:01:23.653Z"
   },
   {
    "duration": 6,
    "start_time": "2022-02-09T12:01:23.673Z"
   },
   {
    "duration": 8,
    "start_time": "2022-02-09T12:01:23.681Z"
   },
   {
    "duration": 10,
    "start_time": "2022-02-09T12:01:23.691Z"
   },
   {
    "duration": 10,
    "start_time": "2022-02-09T12:01:23.703Z"
   },
   {
    "duration": 3,
    "start_time": "2022-02-09T12:01:23.715Z"
   },
   {
    "duration": 8,
    "start_time": "2022-02-09T12:01:23.720Z"
   },
   {
    "duration": 43,
    "start_time": "2022-02-09T12:01:23.729Z"
   },
   {
    "duration": 6,
    "start_time": "2022-02-09T12:01:23.774Z"
   },
   {
    "duration": 13,
    "start_time": "2022-02-09T12:01:23.781Z"
   },
   {
    "duration": 13,
    "start_time": "2022-02-09T12:01:23.796Z"
   },
   {
    "duration": 3,
    "start_time": "2022-02-09T12:01:23.811Z"
   },
   {
    "duration": 17,
    "start_time": "2022-02-09T12:01:23.815Z"
   },
   {
    "duration": 10,
    "start_time": "2022-02-09T12:01:31.186Z"
   },
   {
    "duration": 705,
    "start_time": "2022-02-09T12:01:32.070Z"
   },
   {
    "duration": 6,
    "start_time": "2022-02-09T12:01:45.776Z"
   },
   {
    "duration": 11,
    "start_time": "2022-02-09T12:01:46.833Z"
   },
   {
    "duration": 34,
    "start_time": "2022-02-09T12:01:47.910Z"
   },
   {
    "duration": 11,
    "start_time": "2022-02-09T12:01:49.600Z"
   },
   {
    "duration": 4,
    "start_time": "2022-02-09T12:02:05.911Z"
   },
   {
    "duration": 9,
    "start_time": "2022-02-09T12:02:06.567Z"
   },
   {
    "duration": 32,
    "start_time": "2022-02-09T12:02:07.460Z"
   },
   {
    "duration": 9,
    "start_time": "2022-02-09T12:02:54.577Z"
   },
   {
    "duration": 4,
    "start_time": "2022-02-09T12:03:15.238Z"
   },
   {
    "duration": 649,
    "start_time": "2022-02-09T12:03:15.244Z"
   },
   {
    "duration": 2,
    "start_time": "2022-02-09T12:03:15.896Z"
   },
   {
    "duration": 21,
    "start_time": "2022-02-09T12:03:15.900Z"
   },
   {
    "duration": 2,
    "start_time": "2022-02-09T12:03:15.923Z"
   },
   {
    "duration": 57,
    "start_time": "2022-02-09T12:03:15.927Z"
   },
   {
    "duration": 2,
    "start_time": "2022-02-09T12:03:15.986Z"
   },
   {
    "duration": 2,
    "start_time": "2022-02-09T12:03:15.989Z"
   },
   {
    "duration": 3,
    "start_time": "2022-02-09T12:03:15.994Z"
   },
   {
    "duration": 5,
    "start_time": "2022-02-09T12:03:15.999Z"
   },
   {
    "duration": 8,
    "start_time": "2022-02-09T12:03:16.006Z"
   },
   {
    "duration": 12,
    "start_time": "2022-02-09T12:03:16.015Z"
   },
   {
    "duration": 48,
    "start_time": "2022-02-09T12:03:16.028Z"
   },
   {
    "duration": 3,
    "start_time": "2022-02-09T12:03:16.078Z"
   },
   {
    "duration": 6,
    "start_time": "2022-02-09T12:03:16.083Z"
   },
   {
    "duration": 7,
    "start_time": "2022-02-09T12:03:16.091Z"
   },
   {
    "duration": 6,
    "start_time": "2022-02-09T12:03:16.099Z"
   },
   {
    "duration": 14,
    "start_time": "2022-02-09T12:03:16.107Z"
   },
   {
    "duration": 12,
    "start_time": "2022-02-09T12:03:16.123Z"
   },
   {
    "duration": 9,
    "start_time": "2022-02-09T12:03:20.657Z"
   },
   {
    "duration": 9,
    "start_time": "2022-02-09T12:03:51.688Z"
   },
   {
    "duration": 9,
    "start_time": "2022-02-09T12:04:20.721Z"
   },
   {
    "duration": 10,
    "start_time": "2022-02-09T12:04:25.221Z"
   },
   {
    "duration": 11,
    "start_time": "2022-02-09T12:04:42.471Z"
   },
   {
    "duration": 4,
    "start_time": "2022-02-09T12:04:46.650Z"
   },
   {
    "duration": 32,
    "start_time": "2022-02-09T12:04:48.103Z"
   },
   {
    "duration": 9,
    "start_time": "2022-02-09T12:04:49.176Z"
   },
   {
    "duration": 1338,
    "start_time": "2022-02-09T12:05:20.444Z"
   },
   {
    "duration": 702,
    "start_time": "2022-02-09T12:05:21.783Z"
   },
   {
    "duration": 2,
    "start_time": "2022-02-09T12:05:22.487Z"
   },
   {
    "duration": 28,
    "start_time": "2022-02-09T12:05:22.491Z"
   },
   {
    "duration": 2,
    "start_time": "2022-02-09T12:05:22.521Z"
   },
   {
    "duration": 72,
    "start_time": "2022-02-09T12:05:22.524Z"
   },
   {
    "duration": 2,
    "start_time": "2022-02-09T12:05:22.598Z"
   },
   {
    "duration": 22,
    "start_time": "2022-02-09T12:05:22.601Z"
   },
   {
    "duration": 9,
    "start_time": "2022-02-09T12:05:22.625Z"
   },
   {
    "duration": 35,
    "start_time": "2022-02-09T12:05:22.636Z"
   },
   {
    "duration": 27,
    "start_time": "2022-02-09T12:05:22.672Z"
   },
   {
    "duration": 22,
    "start_time": "2022-02-09T12:05:22.700Z"
   },
   {
    "duration": 20,
    "start_time": "2022-02-09T12:05:22.724Z"
   },
   {
    "duration": 19,
    "start_time": "2022-02-09T12:05:22.746Z"
   },
   {
    "duration": 19,
    "start_time": "2022-02-09T12:05:22.767Z"
   },
   {
    "duration": 21,
    "start_time": "2022-02-09T12:05:22.788Z"
   },
   {
    "duration": 20,
    "start_time": "2022-02-09T12:05:22.811Z"
   },
   {
    "duration": 19,
    "start_time": "2022-02-09T12:05:22.832Z"
   },
   {
    "duration": 30,
    "start_time": "2022-02-09T12:05:22.852Z"
   },
   {
    "duration": 8,
    "start_time": "2022-02-09T12:05:28.930Z"
   },
   {
    "duration": 3,
    "start_time": "2022-02-09T12:05:34.295Z"
   },
   {
    "duration": 36,
    "start_time": "2022-02-09T12:05:36.272Z"
   },
   {
    "duration": 8,
    "start_time": "2022-02-09T12:05:37.814Z"
   },
   {
    "duration": 112,
    "start_time": "2022-02-09T12:06:34.351Z"
   },
   {
    "duration": 17,
    "start_time": "2022-02-09T12:06:40.264Z"
   },
   {
    "duration": 2,
    "start_time": "2022-02-09T12:10:13.425Z"
   },
   {
    "duration": 2,
    "start_time": "2022-02-09T12:10:16.281Z"
   },
   {
    "duration": 34,
    "start_time": "2022-02-09T12:10:42.014Z"
   },
   {
    "duration": 35,
    "start_time": "2022-02-09T12:11:16.960Z"
   },
   {
    "duration": 51,
    "start_time": "2022-02-09T12:11:35.480Z"
   },
   {
    "duration": 34,
    "start_time": "2022-02-09T12:11:40.130Z"
   },
   {
    "duration": 3,
    "start_time": "2022-02-09T12:17:28.154Z"
   },
   {
    "duration": 41,
    "start_time": "2022-02-09T12:17:29.061Z"
   },
   {
    "duration": 9,
    "start_time": "2022-02-09T12:17:33.586Z"
   },
   {
    "duration": 7,
    "start_time": "2022-02-09T12:17:42.194Z"
   },
   {
    "duration": 3,
    "start_time": "2022-02-09T12:17:44.877Z"
   },
   {
    "duration": 42,
    "start_time": "2022-02-09T12:17:45.387Z"
   },
   {
    "duration": 7,
    "start_time": "2022-02-09T12:17:46.138Z"
   },
   {
    "duration": 2,
    "start_time": "2022-02-09T12:18:00.355Z"
   },
   {
    "duration": 36,
    "start_time": "2022-02-09T12:18:01.000Z"
   },
   {
    "duration": 8,
    "start_time": "2022-02-09T12:18:01.722Z"
   },
   {
    "duration": 486,
    "start_time": "2022-02-09T12:19:20.020Z"
   },
   {
    "duration": 17,
    "start_time": "2022-02-09T12:19:32.432Z"
   },
   {
    "duration": 3,
    "start_time": "2022-02-09T12:20:05.032Z"
   },
   {
    "duration": 641,
    "start_time": "2022-02-09T12:20:05.037Z"
   },
   {
    "duration": 3,
    "start_time": "2022-02-09T12:20:05.680Z"
   },
   {
    "duration": 28,
    "start_time": "2022-02-09T12:20:05.685Z"
   },
   {
    "duration": 3,
    "start_time": "2022-02-09T12:20:05.716Z"
   },
   {
    "duration": 116,
    "start_time": "2022-02-09T12:20:05.721Z"
   },
   {
    "duration": 2,
    "start_time": "2022-02-09T12:20:05.839Z"
   },
   {
    "duration": 3,
    "start_time": "2022-02-09T12:20:05.844Z"
   },
   {
    "duration": 5,
    "start_time": "2022-02-09T12:20:05.848Z"
   },
   {
    "duration": 21,
    "start_time": "2022-02-09T12:20:05.855Z"
   },
   {
    "duration": 14,
    "start_time": "2022-02-09T12:20:05.879Z"
   },
   {
    "duration": 10,
    "start_time": "2022-02-09T12:20:05.894Z"
   },
   {
    "duration": 9,
    "start_time": "2022-02-09T12:20:05.905Z"
   },
   {
    "duration": 3,
    "start_time": "2022-02-09T12:20:05.915Z"
   },
   {
    "duration": 9,
    "start_time": "2022-02-09T12:20:05.920Z"
   },
   {
    "duration": 11,
    "start_time": "2022-02-09T12:20:05.931Z"
   },
   {
    "duration": 9,
    "start_time": "2022-02-09T12:20:05.944Z"
   },
   {
    "duration": 15,
    "start_time": "2022-02-09T12:20:05.972Z"
   },
   {
    "duration": 12,
    "start_time": "2022-02-09T12:20:05.989Z"
   },
   {
    "duration": 36,
    "start_time": "2022-02-09T12:20:06.002Z"
   },
   {
    "duration": 35,
    "start_time": "2022-02-09T12:20:08.062Z"
   },
   {
    "duration": 10,
    "start_time": "2022-02-09T12:20:11.366Z"
   },
   {
    "duration": 17,
    "start_time": "2022-02-09T12:20:15.411Z"
   },
   {
    "duration": 34,
    "start_time": "2022-02-09T12:20:58.648Z"
   },
   {
    "duration": 3,
    "start_time": "2022-02-09T12:21:13.359Z"
   },
   {
    "duration": 637,
    "start_time": "2022-02-09T12:21:13.364Z"
   },
   {
    "duration": 2,
    "start_time": "2022-02-09T12:21:14.004Z"
   },
   {
    "duration": 16,
    "start_time": "2022-02-09T12:21:14.008Z"
   },
   {
    "duration": 3,
    "start_time": "2022-02-09T12:21:14.025Z"
   },
   {
    "duration": 67,
    "start_time": "2022-02-09T12:21:14.030Z"
   },
   {
    "duration": 2,
    "start_time": "2022-02-09T12:21:14.099Z"
   },
   {
    "duration": 4,
    "start_time": "2022-02-09T12:21:14.102Z"
   },
   {
    "duration": 4,
    "start_time": "2022-02-09T12:21:14.109Z"
   },
   {
    "duration": 5,
    "start_time": "2022-02-09T12:21:14.115Z"
   },
   {
    "duration": 5,
    "start_time": "2022-02-09T12:21:14.122Z"
   },
   {
    "duration": 10,
    "start_time": "2022-02-09T12:21:14.129Z"
   },
   {
    "duration": 38,
    "start_time": "2022-02-09T12:21:14.140Z"
   },
   {
    "duration": 5,
    "start_time": "2022-02-09T12:21:14.179Z"
   },
   {
    "duration": 11,
    "start_time": "2022-02-09T12:21:14.185Z"
   },
   {
    "duration": 11,
    "start_time": "2022-02-09T12:21:14.197Z"
   },
   {
    "duration": 12,
    "start_time": "2022-02-09T12:21:14.210Z"
   },
   {
    "duration": 17,
    "start_time": "2022-02-09T12:21:14.223Z"
   },
   {
    "duration": 14,
    "start_time": "2022-02-09T12:21:14.241Z"
   },
   {
    "duration": 33,
    "start_time": "2022-02-09T12:21:14.256Z"
   },
   {
    "duration": 7,
    "start_time": "2022-02-09T12:21:14.290Z"
   },
   {
    "duration": 5,
    "start_time": "2022-02-09T12:21:14.299Z"
   },
   {
    "duration": 12,
    "start_time": "2022-02-09T12:21:14.306Z"
   },
   {
    "duration": 49,
    "start_time": "2022-02-09T12:21:14.320Z"
   },
   {
    "duration": 2,
    "start_time": "2022-02-09T12:21:14.371Z"
   },
   {
    "duration": 9,
    "start_time": "2022-02-09T12:21:14.374Z"
   },
   {
    "duration": 170,
    "start_time": "2022-02-09T12:21:14.387Z"
   },
   {
    "duration": 2,
    "start_time": "2022-02-09T12:21:14.559Z"
   },
   {
    "duration": 22,
    "start_time": "2022-02-09T12:21:14.563Z"
   },
   {
    "duration": 716,
    "start_time": "2022-02-09T12:21:14.587Z"
   },
   {
    "duration": 1185,
    "start_time": "2022-02-09T12:21:15.305Z"
   },
   {
    "duration": 1093,
    "start_time": "2022-02-09T12:21:16.492Z"
   },
   {
    "duration": 6,
    "start_time": "2022-02-09T12:21:17.587Z"
   },
   {
    "duration": 10,
    "start_time": "2022-02-09T12:21:17.595Z"
   },
   {
    "duration": 8,
    "start_time": "2022-02-09T12:21:17.607Z"
   },
   {
    "duration": 647,
    "start_time": "2022-02-09T12:21:17.616Z"
   },
   {
    "duration": 13,
    "start_time": "2022-02-09T12:21:18.266Z"
   },
   {
    "duration": 23,
    "start_time": "2022-02-09T12:21:18.280Z"
   },
   {
    "duration": 1086,
    "start_time": "2022-02-09T12:21:18.305Z"
   },
   {
    "duration": 12,
    "start_time": "2022-02-09T12:21:19.393Z"
   },
   {
    "duration": 4,
    "start_time": "2022-02-09T12:21:19.407Z"
   },
   {
    "duration": 3,
    "start_time": "2022-02-09T12:23:02.746Z"
   },
   {
    "duration": 639,
    "start_time": "2022-02-09T12:23:02.751Z"
   },
   {
    "duration": 3,
    "start_time": "2022-02-09T12:23:03.392Z"
   },
   {
    "duration": 17,
    "start_time": "2022-02-09T12:23:03.396Z"
   },
   {
    "duration": 2,
    "start_time": "2022-02-09T12:23:03.415Z"
   },
   {
    "duration": 70,
    "start_time": "2022-02-09T12:23:03.419Z"
   },
   {
    "duration": 2,
    "start_time": "2022-02-09T12:23:03.493Z"
   },
   {
    "duration": 5,
    "start_time": "2022-02-09T12:23:03.497Z"
   },
   {
    "duration": 7,
    "start_time": "2022-02-09T12:23:03.503Z"
   },
   {
    "duration": 7,
    "start_time": "2022-02-09T12:23:03.512Z"
   },
   {
    "duration": 8,
    "start_time": "2022-02-09T12:23:03.521Z"
   },
   {
    "duration": 16,
    "start_time": "2022-02-09T12:23:03.530Z"
   },
   {
    "duration": 32,
    "start_time": "2022-02-09T12:23:03.548Z"
   },
   {
    "duration": 3,
    "start_time": "2022-02-09T12:23:03.581Z"
   },
   {
    "duration": 8,
    "start_time": "2022-02-09T12:23:03.586Z"
   },
   {
    "duration": 10,
    "start_time": "2022-02-09T12:23:03.597Z"
   },
   {
    "duration": 7,
    "start_time": "2022-02-09T12:23:03.610Z"
   },
   {
    "duration": 19,
    "start_time": "2022-02-09T12:23:03.619Z"
   },
   {
    "duration": 43,
    "start_time": "2022-02-09T12:23:03.642Z"
   },
   {
    "duration": 63,
    "start_time": "2022-02-09T12:23:03.688Z"
   },
   {
    "duration": 28,
    "start_time": "2022-02-09T12:23:03.754Z"
   },
   {
    "duration": 4,
    "start_time": "2022-02-09T12:23:07.165Z"
   },
   {
    "duration": 58,
    "start_time": "2022-02-09T12:23:08.347Z"
   },
   {
    "duration": 11,
    "start_time": "2022-02-09T12:23:09.464Z"
   },
   {
    "duration": 3,
    "start_time": "2022-02-09T12:24:25.549Z"
   },
   {
    "duration": 2,
    "start_time": "2022-02-09T12:24:26.085Z"
   },
   {
    "duration": 34,
    "start_time": "2022-02-09T12:24:28.078Z"
   },
   {
    "duration": 1150,
    "start_time": "2022-02-09T12:25:09.389Z"
   },
   {
    "duration": 733,
    "start_time": "2022-02-09T12:25:10.541Z"
   },
   {
    "duration": 3,
    "start_time": "2022-02-09T12:25:11.276Z"
   },
   {
    "duration": 17,
    "start_time": "2022-02-09T12:25:11.280Z"
   },
   {
    "duration": 2,
    "start_time": "2022-02-09T12:25:11.299Z"
   },
   {
    "duration": 51,
    "start_time": "2022-02-09T12:25:11.303Z"
   },
   {
    "duration": 2,
    "start_time": "2022-02-09T12:25:11.372Z"
   },
   {
    "duration": 4,
    "start_time": "2022-02-09T12:25:11.376Z"
   },
   {
    "duration": 3,
    "start_time": "2022-02-09T12:25:11.383Z"
   },
   {
    "duration": 6,
    "start_time": "2022-02-09T12:25:11.388Z"
   },
   {
    "duration": 7,
    "start_time": "2022-02-09T12:25:11.395Z"
   },
   {
    "duration": 8,
    "start_time": "2022-02-09T12:25:11.404Z"
   },
   {
    "duration": 58,
    "start_time": "2022-02-09T12:25:11.414Z"
   },
   {
    "duration": 3,
    "start_time": "2022-02-09T12:25:11.473Z"
   },
   {
    "duration": 6,
    "start_time": "2022-02-09T12:25:11.478Z"
   },
   {
    "duration": 7,
    "start_time": "2022-02-09T12:25:11.485Z"
   },
   {
    "duration": 7,
    "start_time": "2022-02-09T12:25:11.494Z"
   },
   {
    "duration": 14,
    "start_time": "2022-02-09T12:25:11.503Z"
   },
   {
    "duration": 14,
    "start_time": "2022-02-09T12:25:11.519Z"
   },
   {
    "duration": 3,
    "start_time": "2022-02-09T12:25:11.535Z"
   },
   {
    "duration": 2,
    "start_time": "2022-02-09T12:25:11.572Z"
   },
   {
    "duration": 37,
    "start_time": "2022-02-09T12:25:11.576Z"
   },
   {
    "duration": 2,
    "start_time": "2022-02-09T12:25:11.615Z"
   },
   {
    "duration": 254,
    "start_time": "2022-02-09T12:25:11.619Z"
   },
   {
    "duration": 3,
    "start_time": "2022-02-09T12:25:11.874Z"
   },
   {
    "duration": 5,
    "start_time": "2022-02-09T12:25:11.879Z"
   },
   {
    "duration": 678,
    "start_time": "2022-02-09T12:25:11.888Z"
   },
   {
    "duration": 744,
    "start_time": "2022-02-09T12:25:12.572Z"
   },
   {
    "duration": 685,
    "start_time": "2022-02-09T12:25:13.318Z"
   },
   {
    "duration": 5,
    "start_time": "2022-02-09T12:25:14.005Z"
   },
   {
    "duration": 11,
    "start_time": "2022-02-09T12:25:14.012Z"
   },
   {
    "duration": 8,
    "start_time": "2022-02-09T12:25:14.024Z"
   },
   {
    "duration": 1177,
    "start_time": "2022-02-09T12:25:14.033Z"
   },
   {
    "duration": 14,
    "start_time": "2022-02-09T12:25:15.212Z"
   },
   {
    "duration": 52,
    "start_time": "2022-02-09T12:25:15.229Z"
   },
   {
    "duration": 1359,
    "start_time": "2022-02-09T12:25:15.284Z"
   },
   {
    "duration": 28,
    "start_time": "2022-02-09T12:25:16.645Z"
   },
   {
    "duration": 7,
    "start_time": "2022-02-09T12:25:16.675Z"
   },
   {
    "duration": 4,
    "start_time": "2022-02-09T12:42:41.787Z"
   },
   {
    "duration": 409,
    "start_time": "2022-02-09T13:25:46.527Z"
   },
   {
    "duration": 325,
    "start_time": "2022-02-09T13:26:05.980Z"
   },
   {
    "duration": 398,
    "start_time": "2022-02-09T13:26:18.618Z"
   },
   {
    "duration": 316,
    "start_time": "2022-02-09T13:26:23.101Z"
   },
   {
    "duration": 9,
    "start_time": "2022-02-09T13:26:36.901Z"
   },
   {
    "duration": 8,
    "start_time": "2022-02-09T13:34:00.698Z"
   },
   {
    "duration": 18,
    "start_time": "2022-02-09T13:44:25.716Z"
   },
   {
    "duration": 17,
    "start_time": "2022-02-09T13:45:34.902Z"
   },
   {
    "duration": 313,
    "start_time": "2022-02-09T13:45:55.489Z"
   },
   {
    "duration": 3,
    "start_time": "2022-02-09T13:46:24.232Z"
   },
   {
    "duration": 701,
    "start_time": "2022-02-09T13:46:24.237Z"
   },
   {
    "duration": 2,
    "start_time": "2022-02-09T13:46:24.940Z"
   },
   {
    "duration": 18,
    "start_time": "2022-02-09T13:46:24.944Z"
   },
   {
    "duration": 8,
    "start_time": "2022-02-09T13:46:24.963Z"
   },
   {
    "duration": 47,
    "start_time": "2022-02-09T13:46:24.973Z"
   },
   {
    "duration": 2,
    "start_time": "2022-02-09T13:46:25.022Z"
   },
   {
    "duration": 5,
    "start_time": "2022-02-09T13:46:25.025Z"
   },
   {
    "duration": 5,
    "start_time": "2022-02-09T13:46:25.032Z"
   },
   {
    "duration": 6,
    "start_time": "2022-02-09T13:46:25.039Z"
   },
   {
    "duration": 29,
    "start_time": "2022-02-09T13:46:25.046Z"
   },
   {
    "duration": 9,
    "start_time": "2022-02-09T13:46:25.077Z"
   },
   {
    "duration": 9,
    "start_time": "2022-02-09T13:46:25.087Z"
   },
   {
    "duration": 3,
    "start_time": "2022-02-09T13:46:25.097Z"
   },
   {
    "duration": 9,
    "start_time": "2022-02-09T13:46:25.101Z"
   },
   {
    "duration": 11,
    "start_time": "2022-02-09T13:46:25.111Z"
   },
   {
    "duration": 8,
    "start_time": "2022-02-09T13:46:25.123Z"
   },
   {
    "duration": 14,
    "start_time": "2022-02-09T13:46:25.133Z"
   },
   {
    "duration": 34,
    "start_time": "2022-02-09T13:46:25.149Z"
   },
   {
    "duration": 15,
    "start_time": "2022-02-09T13:46:25.184Z"
   },
   {
    "duration": 2,
    "start_time": "2022-02-09T13:46:25.201Z"
   },
   {
    "duration": 8,
    "start_time": "2022-02-09T13:46:25.204Z"
   },
   {
    "duration": 43,
    "start_time": "2022-02-09T13:46:25.213Z"
   },
   {
    "duration": 15,
    "start_time": "2022-02-09T13:46:25.257Z"
   },
   {
    "duration": 159,
    "start_time": "2022-02-09T13:46:25.273Z"
   },
   {
    "duration": 3,
    "start_time": "2022-02-09T13:46:25.434Z"
   },
   {
    "duration": 5,
    "start_time": "2022-02-09T13:46:25.440Z"
   },
   {
    "duration": 664,
    "start_time": "2022-02-09T13:46:25.446Z"
   },
   {
    "duration": 663,
    "start_time": "2022-02-09T13:46:26.112Z"
   },
   {
    "duration": 677,
    "start_time": "2022-02-09T13:46:26.776Z"
   },
   {
    "duration": 4,
    "start_time": "2022-02-09T13:46:27.455Z"
   },
   {
    "duration": 18,
    "start_time": "2022-02-09T13:46:27.460Z"
   },
   {
    "duration": 6,
    "start_time": "2022-02-09T13:46:27.480Z"
   },
   {
    "duration": 732,
    "start_time": "2022-02-09T13:46:27.487Z"
   },
   {
    "duration": 9,
    "start_time": "2022-02-09T13:46:28.220Z"
   },
   {
    "duration": 22,
    "start_time": "2022-02-09T13:46:28.231Z"
   },
   {
    "duration": 949,
    "start_time": "2022-02-09T13:46:28.254Z"
   },
   {
    "duration": 13,
    "start_time": "2022-02-09T13:46:29.205Z"
   },
   {
    "duration": 5,
    "start_time": "2022-02-09T13:46:29.219Z"
   },
   {
    "duration": 4,
    "start_time": "2022-02-09T13:46:29.225Z"
   },
   {
    "duration": 11,
    "start_time": "2022-02-09T13:46:29.230Z"
   },
   {
    "duration": 10,
    "start_time": "2022-02-09T13:46:30.965Z"
   },
   {
    "duration": 341,
    "start_time": "2022-02-09T13:46:31.768Z"
   },
   {
    "duration": 10,
    "start_time": "2022-02-09T13:54:36.830Z"
   },
   {
    "duration": 4,
    "start_time": "2022-02-09T13:54:44.499Z"
   },
   {
    "duration": 692,
    "start_time": "2022-02-09T13:54:44.504Z"
   },
   {
    "duration": 2,
    "start_time": "2022-02-09T13:54:45.198Z"
   },
   {
    "duration": 15,
    "start_time": "2022-02-09T13:54:45.202Z"
   },
   {
    "duration": 2,
    "start_time": "2022-02-09T13:54:45.219Z"
   },
   {
    "duration": 60,
    "start_time": "2022-02-09T13:54:45.222Z"
   },
   {
    "duration": 1,
    "start_time": "2022-02-09T13:54:45.284Z"
   },
   {
    "duration": 4,
    "start_time": "2022-02-09T13:54:45.287Z"
   },
   {
    "duration": 5,
    "start_time": "2022-02-09T13:54:45.292Z"
   },
   {
    "duration": 6,
    "start_time": "2022-02-09T13:54:45.298Z"
   },
   {
    "duration": 5,
    "start_time": "2022-02-09T13:54:45.306Z"
   },
   {
    "duration": 11,
    "start_time": "2022-02-09T13:54:45.313Z"
   },
   {
    "duration": 12,
    "start_time": "2022-02-09T13:54:45.325Z"
   },
   {
    "duration": 13,
    "start_time": "2022-02-09T13:54:46.962Z"
   },
   {
    "duration": 10,
    "start_time": "2022-02-09T13:54:52.359Z"
   },
   {
    "duration": 10,
    "start_time": "2022-02-09T13:55:48.911Z"
   },
   {
    "duration": 4,
    "start_time": "2022-02-09T14:01:44.553Z"
   },
   {
    "duration": 5,
    "start_time": "2022-02-09T14:02:14.167Z"
   },
   {
    "duration": 12,
    "start_time": "2022-02-09T14:33:57.128Z"
   },
   {
    "duration": 2,
    "start_time": "2022-02-09T14:41:21.240Z"
   },
   {
    "duration": 12,
    "start_time": "2022-02-09T14:42:23.544Z"
   },
   {
    "duration": 12,
    "start_time": "2022-02-09T14:42:40.521Z"
   },
   {
    "duration": 1191,
    "start_time": "2022-02-09T14:43:00.263Z"
   },
   {
    "duration": 695,
    "start_time": "2022-02-09T14:43:01.456Z"
   },
   {
    "duration": 3,
    "start_time": "2022-02-09T14:43:02.153Z"
   },
   {
    "duration": 21,
    "start_time": "2022-02-09T14:43:02.157Z"
   },
   {
    "duration": 2,
    "start_time": "2022-02-09T14:43:02.180Z"
   },
   {
    "duration": 51,
    "start_time": "2022-02-09T14:43:02.183Z"
   },
   {
    "duration": 2,
    "start_time": "2022-02-09T14:43:02.235Z"
   },
   {
    "duration": 3,
    "start_time": "2022-02-09T14:43:02.240Z"
   },
   {
    "duration": 6,
    "start_time": "2022-02-09T14:43:02.244Z"
   },
   {
    "duration": 22,
    "start_time": "2022-02-09T14:43:02.251Z"
   },
   {
    "duration": 6,
    "start_time": "2022-02-09T14:43:02.275Z"
   },
   {
    "duration": 8,
    "start_time": "2022-02-09T14:43:02.282Z"
   },
   {
    "duration": 9,
    "start_time": "2022-02-09T14:43:02.291Z"
   },
   {
    "duration": 4,
    "start_time": "2022-02-09T14:43:02.301Z"
   },
   {
    "duration": 9,
    "start_time": "2022-02-09T14:43:02.306Z"
   },
   {
    "duration": 23,
    "start_time": "2022-02-09T14:43:02.316Z"
   },
   {
    "duration": 32,
    "start_time": "2022-02-09T14:43:02.341Z"
   },
   {
    "duration": 2,
    "start_time": "2022-02-09T14:43:02.374Z"
   },
   {
    "duration": 3,
    "start_time": "2022-02-09T14:43:02.378Z"
   },
   {
    "duration": 43,
    "start_time": "2022-02-09T14:43:02.383Z"
   },
   {
    "duration": 163,
    "start_time": "2022-02-09T14:43:02.427Z"
   },
   {
    "duration": 3,
    "start_time": "2022-02-09T14:43:02.591Z"
   },
   {
    "duration": 6,
    "start_time": "2022-02-09T14:43:02.596Z"
   },
   {
    "duration": 687,
    "start_time": "2022-02-09T14:43:02.604Z"
   },
   {
    "duration": 732,
    "start_time": "2022-02-09T14:43:03.292Z"
   },
   {
    "duration": 668,
    "start_time": "2022-02-09T14:43:04.026Z"
   },
   {
    "duration": 4,
    "start_time": "2022-02-09T14:43:04.696Z"
   },
   {
    "duration": 12,
    "start_time": "2022-02-09T14:43:04.702Z"
   },
   {
    "duration": 7,
    "start_time": "2022-02-09T14:43:04.715Z"
   },
   {
    "duration": 668,
    "start_time": "2022-02-09T14:43:04.723Z"
   },
   {
    "duration": 9,
    "start_time": "2022-02-09T14:43:05.393Z"
   },
   {
    "duration": 34,
    "start_time": "2022-02-09T14:43:05.403Z"
   },
   {
    "duration": 1047,
    "start_time": "2022-02-09T14:43:05.439Z"
   },
   {
    "duration": 12,
    "start_time": "2022-02-09T14:43:06.488Z"
   },
   {
    "duration": 5,
    "start_time": "2022-02-09T14:43:06.502Z"
   },
   {
    "duration": 4,
    "start_time": "2022-02-09T14:43:06.508Z"
   },
   {
    "duration": 12,
    "start_time": "2022-02-09T14:43:06.514Z"
   },
   {
    "duration": 407,
    "start_time": "2022-02-09T14:43:06.528Z"
   },
   {
    "duration": 337,
    "start_time": "2022-02-09T14:43:38.780Z"
   },
   {
    "duration": 305,
    "start_time": "2022-02-09T14:44:55.157Z"
   },
   {
    "duration": 8174,
    "start_time": "2022-02-09T14:47:10.507Z"
   },
   {
    "duration": 8803,
    "start_time": "2022-02-09T14:48:10.919Z"
   },
   {
    "duration": 55,
    "start_time": "2022-02-09T14:48:47.875Z"
   },
   {
    "duration": 8253,
    "start_time": "2022-02-09T14:50:18.107Z"
   },
   {
    "duration": 9178,
    "start_time": "2022-02-09T14:50:41.246Z"
   },
   {
    "duration": 12,
    "start_time": "2022-02-09T14:51:06.557Z"
   },
   {
    "duration": 344,
    "start_time": "2022-02-09T14:51:22.649Z"
   },
   {
    "duration": 365,
    "start_time": "2022-02-09T14:51:54.062Z"
   },
   {
    "duration": 369,
    "start_time": "2022-02-09T14:52:13.281Z"
   },
   {
    "duration": 1216,
    "start_time": "2022-02-09T14:52:43.357Z"
   },
   {
    "duration": 2126,
    "start_time": "2022-02-09T15:01:14.453Z"
   },
   {
    "duration": 3,
    "start_time": "2022-02-09T15:20:30.374Z"
   },
   {
    "duration": 327,
    "start_time": "2022-02-09T15:48:53.866Z"
   },
   {
    "duration": 3,
    "start_time": "2022-02-09T15:49:16.855Z"
   },
   {
    "duration": 3,
    "start_time": "2022-02-09T15:50:04.837Z"
   },
   {
    "duration": 464,
    "start_time": "2022-02-09T15:50:08.680Z"
   },
   {
    "duration": 4,
    "start_time": "2022-02-09T15:53:05.139Z"
   },
   {
    "duration": 661,
    "start_time": "2022-02-09T15:53:07.795Z"
   },
   {
    "duration": 581,
    "start_time": "2022-02-09T15:53:22.063Z"
   },
   {
    "duration": 388,
    "start_time": "2022-02-09T15:55:12.912Z"
   },
   {
    "duration": 435,
    "start_time": "2022-02-09T15:56:38.288Z"
   },
   {
    "duration": 3,
    "start_time": "2022-02-09T16:00:41.302Z"
   },
   {
    "duration": 774,
    "start_time": "2022-02-09T16:00:43.807Z"
   },
   {
    "duration": 4,
    "start_time": "2022-02-09T16:02:21.175Z"
   },
   {
    "duration": 726,
    "start_time": "2022-02-09T16:02:23.782Z"
   },
   {
    "duration": 3,
    "start_time": "2022-02-09T16:03:17.607Z"
   },
   {
    "duration": 655,
    "start_time": "2022-02-09T16:05:52.935Z"
   },
   {
    "duration": 3,
    "start_time": "2022-02-09T16:08:15.952Z"
   },
   {
    "duration": 3,
    "start_time": "2022-02-09T16:08:16.669Z"
   },
   {
    "duration": 1689,
    "start_time": "2022-02-09T16:08:18.783Z"
   },
   {
    "duration": 4,
    "start_time": "2022-02-09T16:08:54.351Z"
   },
   {
    "duration": 2,
    "start_time": "2022-02-09T16:08:59.591Z"
   },
   {
    "duration": 1231,
    "start_time": "2022-02-09T16:09:01.246Z"
   },
   {
    "duration": 4,
    "start_time": "2022-02-09T16:09:22.703Z"
   },
   {
    "duration": 3,
    "start_time": "2022-02-09T16:09:23.247Z"
   },
   {
    "duration": 1354,
    "start_time": "2022-02-09T16:09:26.018Z"
   },
   {
    "duration": 1237,
    "start_time": "2022-02-09T16:09:55.435Z"
   },
   {
    "duration": 1334,
    "start_time": "2022-02-09T16:10:50.740Z"
   },
   {
    "duration": 1280,
    "start_time": "2022-02-09T16:10:56.992Z"
   },
   {
    "duration": 3,
    "start_time": "2022-02-09T16:13:08.695Z"
   },
   {
    "duration": 1204,
    "start_time": "2022-02-09T16:13:11.568Z"
   },
   {
    "duration": 4,
    "start_time": "2022-02-09T16:13:40.137Z"
   },
   {
    "duration": 1405,
    "start_time": "2022-02-09T16:13:42.568Z"
   },
   {
    "duration": 1157,
    "start_time": "2022-02-09T16:13:55.342Z"
   },
   {
    "duration": 697,
    "start_time": "2022-02-09T16:13:56.501Z"
   },
   {
    "duration": 3,
    "start_time": "2022-02-09T16:13:57.200Z"
   },
   {
    "duration": 16,
    "start_time": "2022-02-09T16:13:57.205Z"
   },
   {
    "duration": 2,
    "start_time": "2022-02-09T16:13:57.223Z"
   },
   {
    "duration": 67,
    "start_time": "2022-02-09T16:13:57.226Z"
   },
   {
    "duration": 2,
    "start_time": "2022-02-09T16:13:57.295Z"
   },
   {
    "duration": 4,
    "start_time": "2022-02-09T16:13:57.298Z"
   },
   {
    "duration": 4,
    "start_time": "2022-02-09T16:13:57.304Z"
   },
   {
    "duration": 5,
    "start_time": "2022-02-09T16:13:57.310Z"
   },
   {
    "duration": 9,
    "start_time": "2022-02-09T16:13:57.317Z"
   },
   {
    "duration": 8,
    "start_time": "2022-02-09T16:13:57.327Z"
   },
   {
    "duration": 37,
    "start_time": "2022-02-09T16:13:57.337Z"
   },
   {
    "duration": 3,
    "start_time": "2022-02-09T16:13:57.375Z"
   },
   {
    "duration": 6,
    "start_time": "2022-02-09T16:13:57.380Z"
   },
   {
    "duration": 15,
    "start_time": "2022-02-09T16:13:57.388Z"
   },
   {
    "duration": 14,
    "start_time": "2022-02-09T16:13:57.405Z"
   },
   {
    "duration": 2,
    "start_time": "2022-02-09T16:13:57.421Z"
   },
   {
    "duration": 8,
    "start_time": "2022-02-09T16:13:57.424Z"
   },
   {
    "duration": 59,
    "start_time": "2022-02-09T16:13:57.433Z"
   },
   {
    "duration": 168,
    "start_time": "2022-02-09T16:13:57.494Z"
   },
   {
    "duration": 2,
    "start_time": "2022-02-09T16:13:57.664Z"
   },
   {
    "duration": 6,
    "start_time": "2022-02-09T16:13:57.667Z"
   },
   {
    "duration": 767,
    "start_time": "2022-02-09T16:13:57.674Z"
   },
   {
    "duration": 752,
    "start_time": "2022-02-09T16:13:58.442Z"
   },
   {
    "duration": 767,
    "start_time": "2022-02-09T16:13:59.195Z"
   },
   {
    "duration": 9,
    "start_time": "2022-02-09T16:13:59.965Z"
   },
   {
    "duration": 11,
    "start_time": "2022-02-09T16:13:59.975Z"
   },
   {
    "duration": 6,
    "start_time": "2022-02-09T16:13:59.988Z"
   },
   {
    "duration": 637,
    "start_time": "2022-02-09T16:13:59.996Z"
   },
   {
    "duration": 10,
    "start_time": "2022-02-09T16:14:00.634Z"
   },
   {
    "duration": 35,
    "start_time": "2022-02-09T16:14:00.645Z"
   },
   {
    "duration": 1051,
    "start_time": "2022-02-09T16:14:00.688Z"
   },
   {
    "duration": 12,
    "start_time": "2022-02-09T16:14:01.741Z"
   },
   {
    "duration": 19,
    "start_time": "2022-02-09T16:14:01.754Z"
   },
   {
    "duration": 4,
    "start_time": "2022-02-09T16:14:01.774Z"
   },
   {
    "duration": 1393,
    "start_time": "2022-02-09T16:14:01.780Z"
   },
   {
    "duration": 1172,
    "start_time": "2022-02-09T18:13:27.804Z"
   },
   {
    "duration": 1118,
    "start_time": "2022-02-09T18:18:21.156Z"
   },
   {
    "duration": 923,
    "start_time": "2022-02-09T18:19:00.951Z"
   },
   {
    "duration": 1170,
    "start_time": "2022-02-09T18:19:12.270Z"
   },
   {
    "duration": 697,
    "start_time": "2022-02-09T18:19:13.442Z"
   },
   {
    "duration": 3,
    "start_time": "2022-02-09T18:19:14.143Z"
   },
   {
    "duration": 23,
    "start_time": "2022-02-09T18:19:14.148Z"
   },
   {
    "duration": 3,
    "start_time": "2022-02-09T18:19:14.173Z"
   },
   {
    "duration": 52,
    "start_time": "2022-02-09T18:19:14.177Z"
   },
   {
    "duration": 2,
    "start_time": "2022-02-09T18:19:14.231Z"
   },
   {
    "duration": 3,
    "start_time": "2022-02-09T18:19:14.236Z"
   },
   {
    "duration": 5,
    "start_time": "2022-02-09T18:19:14.241Z"
   },
   {
    "duration": 7,
    "start_time": "2022-02-09T18:19:14.272Z"
   },
   {
    "duration": 9,
    "start_time": "2022-02-09T18:19:14.281Z"
   },
   {
    "duration": 12,
    "start_time": "2022-02-09T18:19:14.292Z"
   },
   {
    "duration": 9,
    "start_time": "2022-02-09T18:19:14.305Z"
   },
   {
    "duration": 4,
    "start_time": "2022-02-09T18:19:14.316Z"
   },
   {
    "duration": 11,
    "start_time": "2022-02-09T18:19:14.321Z"
   },
   {
    "duration": 39,
    "start_time": "2022-02-09T18:19:14.333Z"
   },
   {
    "duration": 18,
    "start_time": "2022-02-09T18:19:14.373Z"
   },
   {
    "duration": 2,
    "start_time": "2022-02-09T18:19:14.392Z"
   },
   {
    "duration": 6,
    "start_time": "2022-02-09T18:19:14.395Z"
   },
   {
    "duration": 51,
    "start_time": "2022-02-09T18:19:14.403Z"
   },
   {
    "duration": 175,
    "start_time": "2022-02-09T18:19:14.456Z"
   },
   {
    "duration": 2,
    "start_time": "2022-02-09T18:19:14.633Z"
   },
   {
    "duration": 5,
    "start_time": "2022-02-09T18:19:14.638Z"
   },
   {
    "duration": 710,
    "start_time": "2022-02-09T18:19:14.645Z"
   },
   {
    "duration": 856,
    "start_time": "2022-02-09T18:19:15.356Z"
   },
   {
    "duration": 670,
    "start_time": "2022-02-09T18:19:16.214Z"
   },
   {
    "duration": 5,
    "start_time": "2022-02-09T18:19:16.886Z"
   },
   {
    "duration": 11,
    "start_time": "2022-02-09T18:19:16.893Z"
   },
   {
    "duration": 6,
    "start_time": "2022-02-09T18:19:16.906Z"
   },
   {
    "duration": 647,
    "start_time": "2022-02-09T18:19:16.914Z"
   },
   {
    "duration": 14,
    "start_time": "2022-02-09T18:19:17.563Z"
   },
   {
    "duration": 21,
    "start_time": "2022-02-09T18:19:17.579Z"
   },
   {
    "duration": 1045,
    "start_time": "2022-02-09T18:19:17.602Z"
   },
   {
    "duration": 25,
    "start_time": "2022-02-09T18:19:18.649Z"
   },
   {
    "duration": 7,
    "start_time": "2022-02-09T18:19:18.676Z"
   },
   {
    "duration": 4,
    "start_time": "2022-02-09T18:19:18.685Z"
   },
   {
    "duration": 1282,
    "start_time": "2022-02-09T18:19:18.691Z"
   },
   {
    "duration": 1556,
    "start_time": "2022-02-09T18:19:48.621Z"
   },
   {
    "duration": 21,
    "start_time": "2022-02-09T18:21:04.081Z"
   },
   {
    "duration": 398,
    "start_time": "2022-02-09T18:21:10.876Z"
   },
   {
    "duration": 28695,
    "start_time": "2022-02-09T18:21:58.726Z"
   },
   {
    "duration": 18342,
    "start_time": "2022-02-09T18:22:57.913Z"
   },
   {
    "duration": 5009,
    "start_time": "2022-02-09T18:23:42.733Z"
   },
   {
    "duration": 1699,
    "start_time": "2022-02-09T18:33:30.679Z"
   },
   {
    "duration": 18419,
    "start_time": "2022-02-09T18:33:47.200Z"
   },
   {
    "duration": 4673,
    "start_time": "2022-02-09T18:34:05.621Z"
   },
   {
    "duration": 7,
    "start_time": "2022-02-09T18:35:36.637Z"
   },
   {
    "duration": 6,
    "start_time": "2022-02-09T18:35:51.367Z"
   },
   {
    "duration": 405,
    "start_time": "2022-02-09T18:36:00.611Z"
   },
   {
    "duration": 418,
    "start_time": "2022-02-09T18:36:47.551Z"
   },
   {
    "duration": 4,
    "start_time": "2022-02-09T18:36:59.091Z"
   },
   {
    "duration": 3,
    "start_time": "2022-02-09T18:37:17.602Z"
   },
   {
    "duration": 58899,
    "start_time": "2022-02-09T18:46:32.689Z"
   },
   {
    "duration": 58335,
    "start_time": "2022-02-09T18:48:54.871Z"
   },
   {
    "duration": 1517,
    "start_time": "2022-02-09T18:54:11.723Z"
   },
   {
    "duration": 7516,
    "start_time": "2022-02-09T18:55:01.055Z"
   },
   {
    "duration": 7803,
    "start_time": "2022-02-09T19:00:13.286Z"
   },
   {
    "duration": 7761,
    "start_time": "2022-02-09T19:01:04.973Z"
   },
   {
    "duration": 1074658,
    "start_time": "2022-02-09T19:02:01.051Z"
   },
   {
    "duration": 65,
    "start_time": "2022-02-09T19:28:35.202Z"
   },
   {
    "duration": 85510,
    "start_time": "2022-02-09T19:30:03.410Z"
   },
   {
    "duration": 60730,
    "start_time": "2022-02-09T19:31:39.884Z"
   },
   {
    "duration": 182319,
    "start_time": "2022-02-09T19:33:30.582Z"
   },
   {
    "duration": 64951,
    "start_time": "2022-02-09T19:38:33.179Z"
   },
   {
    "duration": 65306,
    "start_time": "2022-02-09T19:40:20.814Z"
   },
   {
    "duration": 67861,
    "start_time": "2022-02-09T19:42:41.654Z"
   },
   {
    "duration": 65027,
    "start_time": "2022-02-09T19:46:52.927Z"
   },
   {
    "duration": 65374,
    "start_time": "2022-02-09T19:48:10.462Z"
   },
   {
    "duration": 64233,
    "start_time": "2022-02-09T19:50:21.329Z"
   },
   {
    "duration": 64687,
    "start_time": "2022-02-09T19:59:52.270Z"
   },
   {
    "duration": 65301,
    "start_time": "2022-02-09T20:02:57.339Z"
   },
   {
    "duration": 65005,
    "start_time": "2022-02-09T20:07:35.807Z"
   },
   {
    "duration": 1123,
    "start_time": "2022-02-09T20:10:45.592Z"
   },
   {
    "duration": 699,
    "start_time": "2022-02-09T20:10:46.717Z"
   },
   {
    "duration": 3,
    "start_time": "2022-02-09T20:10:47.418Z"
   },
   {
    "duration": 15,
    "start_time": "2022-02-09T20:10:47.423Z"
   },
   {
    "duration": 2,
    "start_time": "2022-02-09T20:10:47.440Z"
   },
   {
    "duration": 66,
    "start_time": "2022-02-09T20:10:47.443Z"
   },
   {
    "duration": 2,
    "start_time": "2022-02-09T20:10:47.511Z"
   },
   {
    "duration": 4,
    "start_time": "2022-02-09T20:10:47.514Z"
   },
   {
    "duration": 4,
    "start_time": "2022-02-09T20:10:47.521Z"
   },
   {
    "duration": 5,
    "start_time": "2022-02-09T20:10:47.527Z"
   },
   {
    "duration": 10,
    "start_time": "2022-02-09T20:10:47.534Z"
   },
   {
    "duration": 32,
    "start_time": "2022-02-09T20:10:47.545Z"
   },
   {
    "duration": 9,
    "start_time": "2022-02-09T20:10:47.579Z"
   },
   {
    "duration": 3,
    "start_time": "2022-02-09T20:10:47.590Z"
   },
   {
    "duration": 9,
    "start_time": "2022-02-09T20:10:47.595Z"
   },
   {
    "duration": 16,
    "start_time": "2022-02-09T20:10:47.606Z"
   },
   {
    "duration": 15,
    "start_time": "2022-02-09T20:10:47.624Z"
   },
   {
    "duration": 2,
    "start_time": "2022-02-09T20:10:47.640Z"
   },
   {
    "duration": 12,
    "start_time": "2022-02-09T20:10:47.643Z"
   },
   {
    "duration": 41,
    "start_time": "2022-02-09T20:10:47.672Z"
   },
   {
    "duration": 163,
    "start_time": "2022-02-09T20:10:47.715Z"
   },
   {
    "duration": 3,
    "start_time": "2022-02-09T20:10:47.879Z"
   },
   {
    "duration": 5,
    "start_time": "2022-02-09T20:10:47.884Z"
   },
   {
    "duration": 683,
    "start_time": "2022-02-09T20:10:47.891Z"
   },
   {
    "duration": 725,
    "start_time": "2022-02-09T20:10:48.576Z"
   },
   {
    "duration": 677,
    "start_time": "2022-02-09T20:10:49.302Z"
   },
   {
    "duration": 4,
    "start_time": "2022-02-09T20:10:49.982Z"
   },
   {
    "duration": 27,
    "start_time": "2022-02-09T20:10:49.988Z"
   },
   {
    "duration": 16,
    "start_time": "2022-02-09T20:10:50.016Z"
   },
   {
    "duration": 618,
    "start_time": "2022-02-09T20:10:50.033Z"
   },
   {
    "duration": 19,
    "start_time": "2022-02-09T20:10:50.652Z"
   },
   {
    "duration": 22,
    "start_time": "2022-02-09T20:10:50.673Z"
   },
   {
    "duration": 1035,
    "start_time": "2022-02-09T20:10:50.697Z"
   },
   {
    "duration": 13,
    "start_time": "2022-02-09T20:10:51.733Z"
   },
   {
    "duration": 23,
    "start_time": "2022-02-09T20:10:51.748Z"
   },
   {
    "duration": 4,
    "start_time": "2022-02-09T20:10:51.773Z"
   },
   {
    "duration": 1392,
    "start_time": "2022-02-09T20:10:51.779Z"
   },
   {
    "duration": 4,
    "start_time": "2022-02-09T20:10:53.174Z"
   },
   {
    "duration": 12,
    "start_time": "2022-02-09T20:10:53.180Z"
   },
   {
    "duration": 65025,
    "start_time": "2022-02-09T20:10:53.194Z"
   },
   {
    "duration": 4651,
    "start_time": "2022-02-09T20:11:58.220Z"
   },
   {
    "duration": 69958,
    "start_time": "2022-02-09T20:14:19.901Z"
   },
   {
    "duration": 65623,
    "start_time": "2022-02-09T20:16:33.044Z"
   },
   {
    "duration": 64057,
    "start_time": "2022-02-09T20:17:55.569Z"
   },
   {
    "duration": 3259,
    "start_time": "2022-02-09T20:21:12.193Z"
   },
   {
    "duration": 2226,
    "start_time": "2022-02-10T07:07:56.793Z"
   },
   {
    "duration": 4774,
    "start_time": "2022-02-10T07:07:59.022Z"
   },
   {
    "duration": 4,
    "start_time": "2022-02-10T07:08:03.799Z"
   },
   {
    "duration": 31,
    "start_time": "2022-02-10T07:08:03.806Z"
   },
   {
    "duration": 3,
    "start_time": "2022-02-10T07:08:03.839Z"
   },
   {
    "duration": 130,
    "start_time": "2022-02-10T07:08:03.844Z"
   },
   {
    "duration": 3,
    "start_time": "2022-02-10T07:08:03.977Z"
   },
   {
    "duration": 6,
    "start_time": "2022-02-10T07:08:03.982Z"
   },
   {
    "duration": 6,
    "start_time": "2022-02-10T07:08:03.992Z"
   },
   {
    "duration": 13,
    "start_time": "2022-02-10T07:08:04.001Z"
   },
   {
    "duration": 59,
    "start_time": "2022-02-10T07:08:04.016Z"
   },
   {
    "duration": 28,
    "start_time": "2022-02-10T07:08:04.078Z"
   },
   {
    "duration": 21,
    "start_time": "2022-02-10T07:08:04.110Z"
   },
   {
    "duration": 41,
    "start_time": "2022-02-10T07:08:04.134Z"
   },
   {
    "duration": 23,
    "start_time": "2022-02-10T07:08:04.178Z"
   },
   {
    "duration": 47,
    "start_time": "2022-02-10T07:08:04.204Z"
   },
   {
    "duration": 35,
    "start_time": "2022-02-10T07:08:04.254Z"
   },
   {
    "duration": 4,
    "start_time": "2022-02-10T07:08:04.292Z"
   },
   {
    "duration": 35,
    "start_time": "2022-02-10T07:08:04.298Z"
   },
   {
    "duration": 78,
    "start_time": "2022-02-10T07:08:04.335Z"
   },
   {
    "duration": 322,
    "start_time": "2022-02-10T07:08:04.416Z"
   },
   {
    "duration": 3,
    "start_time": "2022-02-10T07:08:04.741Z"
   },
   {
    "duration": 23,
    "start_time": "2022-02-10T07:08:04.747Z"
   },
   {
    "duration": 1236,
    "start_time": "2022-02-10T07:08:04.773Z"
   },
   {
    "duration": 1332,
    "start_time": "2022-02-10T07:08:06.012Z"
   },
   {
    "duration": 1284,
    "start_time": "2022-02-10T07:08:07.346Z"
   },
   {
    "duration": 8,
    "start_time": "2022-02-10T07:08:08.636Z"
   },
   {
    "duration": 31,
    "start_time": "2022-02-10T07:08:08.648Z"
   },
   {
    "duration": 16,
    "start_time": "2022-02-10T07:08:08.682Z"
   },
   {
    "duration": 1934,
    "start_time": "2022-02-10T07:08:08.701Z"
   },
   {
    "duration": 35,
    "start_time": "2022-02-10T07:08:10.638Z"
   },
   {
    "duration": 45,
    "start_time": "2022-02-10T07:08:10.675Z"
   },
   {
    "duration": 1881,
    "start_time": "2022-02-10T07:08:10.723Z"
   },
   {
    "duration": 19,
    "start_time": "2022-02-10T07:08:12.606Z"
   },
   {
    "duration": 8,
    "start_time": "2022-02-10T07:08:12.627Z"
   },
   {
    "duration": 33,
    "start_time": "2022-02-10T07:08:12.638Z"
   },
   {
    "duration": 2107,
    "start_time": "2022-02-10T07:08:12.673Z"
   },
   {
    "duration": 6,
    "start_time": "2022-02-10T07:08:14.783Z"
   },
   {
    "duration": 29,
    "start_time": "2022-02-10T07:08:14.870Z"
   },
   {
    "duration": 5118,
    "start_time": "2022-02-10T07:08:14.902Z"
   },
   {
    "duration": 8038,
    "start_time": "2022-02-10T07:08:20.023Z"
   },
   {
    "duration": 6,
    "start_time": "2022-02-10T07:10:26.722Z"
   },
   {
    "duration": 92255,
    "start_time": "2022-02-10T07:11:59.106Z"
   },
   {
    "duration": 89,
    "start_time": "2022-02-10T07:14:26.979Z"
   },
   {
    "duration": 314804,
    "start_time": "2022-02-10T07:16:01.148Z"
   },
   {
    "duration": 155155,
    "start_time": "2022-02-10T07:25:54.111Z"
   },
   {
    "duration": 103897,
    "start_time": "2022-02-10T07:29:03.054Z"
   },
   {
    "duration": 263516,
    "start_time": "2022-02-10T07:30:59.057Z"
   },
   {
    "duration": 438247,
    "start_time": "2022-02-10T07:35:52.255Z"
   },
   {
    "duration": 5,
    "start_time": "2022-02-10T07:44:18.771Z"
   },
   {
    "duration": 78,
    "start_time": "2022-02-10T07:44:19.872Z"
   },
   {
    "duration": 100,
    "start_time": "2022-02-10T07:44:55.516Z"
   },
   {
    "duration": 95,
    "start_time": "2022-02-10T07:45:07.599Z"
   },
   {
    "duration": 5,
    "start_time": "2022-02-10T07:45:12.967Z"
   },
   {
    "duration": 89,
    "start_time": "2022-02-10T07:45:14.737Z"
   },
   {
    "duration": 88,
    "start_time": "2022-02-10T07:45:39.135Z"
   },
   {
    "duration": 6,
    "start_time": "2022-02-10T07:47:08.490Z"
   },
   {
    "duration": 156,
    "start_time": "2022-02-10T07:47:10.322Z"
   },
   {
    "duration": 274,
    "start_time": "2022-02-10T07:47:32.597Z"
   },
   {
    "duration": 5,
    "start_time": "2022-02-10T07:48:30.712Z"
   },
   {
    "duration": 262,
    "start_time": "2022-02-10T07:48:31.619Z"
   },
   {
    "duration": 96,
    "start_time": "2022-02-10T07:48:43.870Z"
   },
   {
    "duration": 4,
    "start_time": "2022-02-10T07:52:03.057Z"
   },
   {
    "duration": 88,
    "start_time": "2022-02-10T07:52:04.104Z"
   },
   {
    "duration": 83,
    "start_time": "2022-02-10T07:53:02.550Z"
   },
   {
    "duration": 5,
    "start_time": "2022-02-10T07:53:05.671Z"
   },
   {
    "duration": 83,
    "start_time": "2022-02-10T07:53:06.249Z"
   },
   {
    "duration": 86,
    "start_time": "2022-02-10T07:57:05.672Z"
   },
   {
    "duration": 4,
    "start_time": "2022-02-10T07:58:56.839Z"
   },
   {
    "duration": 621,
    "start_time": "2022-02-10T07:59:12.738Z"
   },
   {
    "duration": 280,
    "start_time": "2022-02-10T07:59:21.140Z"
   },
   {
    "duration": 594,
    "start_time": "2022-02-10T07:59:29.756Z"
   },
   {
    "duration": 6355,
    "start_time": "2022-02-10T07:59:59.733Z"
   },
   {
    "duration": 5,
    "start_time": "2022-02-10T08:01:47.182Z"
   },
   {
    "duration": 4,
    "start_time": "2022-02-10T08:01:48.102Z"
   },
   {
    "duration": 550,
    "start_time": "2022-02-10T08:01:48.789Z"
   },
   {
    "duration": 257,
    "start_time": "2022-02-10T08:01:58.845Z"
   },
   {
    "duration": 512,
    "start_time": "2022-02-10T08:02:03.018Z"
   },
   {
    "duration": 541,
    "start_time": "2022-02-10T08:02:06.453Z"
   },
   {
    "duration": 5,
    "start_time": "2022-02-10T08:02:30.759Z"
   },
   {
    "duration": 3,
    "start_time": "2022-02-10T08:02:31.961Z"
   },
   {
    "duration": 535,
    "start_time": "2022-02-10T08:02:32.643Z"
   },
   {
    "duration": 241,
    "start_time": "2022-02-10T08:02:45.693Z"
   },
   {
    "duration": 527,
    "start_time": "2022-02-10T08:02:49.012Z"
   },
   {
    "duration": 6,
    "start_time": "2022-02-10T08:03:24.126Z"
   },
   {
    "duration": 3,
    "start_time": "2022-02-10T08:03:25.190Z"
   },
   {
    "duration": 509,
    "start_time": "2022-02-10T08:03:25.836Z"
   },
   {
    "duration": 290,
    "start_time": "2022-02-10T08:03:34.417Z"
   },
   {
    "duration": 7,
    "start_time": "2022-02-10T08:03:59.813Z"
   },
   {
    "duration": 4,
    "start_time": "2022-02-10T08:04:00.796Z"
   },
   {
    "duration": 258,
    "start_time": "2022-02-10T08:04:01.286Z"
   },
   {
    "duration": 612,
    "start_time": "2022-02-10T08:04:04.754Z"
   },
   {
    "duration": 7,
    "start_time": "2022-02-10T08:04:09.525Z"
   },
   {
    "duration": 4,
    "start_time": "2022-02-10T08:04:10.137Z"
   },
   {
    "duration": 558,
    "start_time": "2022-02-10T08:04:10.777Z"
   },
   {
    "duration": 4,
    "start_time": "2022-02-10T08:06:06.957Z"
   },
   {
    "duration": 499,
    "start_time": "2022-02-10T08:06:08.103Z"
   },
   {
    "duration": 4,
    "start_time": "2022-02-10T08:06:19.843Z"
   },
   {
    "duration": 6,
    "start_time": "2022-02-10T08:06:20.617Z"
   },
   {
    "duration": 254,
    "start_time": "2022-02-10T08:06:41.796Z"
   },
   {
    "duration": 5,
    "start_time": "2022-02-10T08:06:45.991Z"
   },
   {
    "duration": 100,
    "start_time": "2022-02-10T08:07:22.025Z"
   },
   {
    "duration": 83,
    "start_time": "2022-02-10T08:07:30.148Z"
   },
   {
    "duration": 86,
    "start_time": "2022-02-10T08:07:40.148Z"
   },
   {
    "duration": 85,
    "start_time": "2022-02-10T08:07:44.376Z"
   },
   {
    "duration": 4,
    "start_time": "2022-02-10T08:12:21.997Z"
   },
   {
    "duration": 243,
    "start_time": "2022-02-10T08:12:23.042Z"
   },
   {
    "duration": 9,
    "start_time": "2022-02-10T08:16:57.031Z"
   },
   {
    "duration": 1891,
    "start_time": "2022-02-10T08:16:59.390Z"
   },
   {
    "duration": 5,
    "start_time": "2022-02-10T08:17:12.850Z"
   },
   {
    "duration": 4611,
    "start_time": "2022-02-10T08:20:02.481Z"
   },
   {
    "duration": 6800,
    "start_time": "2022-02-10T08:20:17.586Z"
   },
   {
    "duration": 440225,
    "start_time": "2022-02-10T08:20:53.221Z"
   },
   {
    "duration": 6611,
    "start_time": "2022-02-10T08:28:22.170Z"
   },
   {
    "duration": 124008,
    "start_time": "2022-02-10T08:28:31.308Z"
   },
   {
    "duration": 354638,
    "start_time": "2022-02-10T08:31:03.532Z"
   },
   {
    "duration": 1880,
    "start_time": "2022-02-10T08:50:33.708Z"
   },
   {
    "duration": 7784,
    "start_time": "2022-02-10T08:51:30.951Z"
   },
   {
    "duration": 1630,
    "start_time": "2022-02-10T08:56:07.440Z"
   },
   {
    "duration": 1924,
    "start_time": "2022-02-10T08:56:16.346Z"
   },
   {
    "duration": 1740,
    "start_time": "2022-02-10T08:56:23.130Z"
   },
   {
    "duration": 1863,
    "start_time": "2022-02-10T08:56:29.215Z"
   },
   {
    "duration": 6,
    "start_time": "2022-02-10T08:56:46.248Z"
   },
   {
    "duration": 884,
    "start_time": "2022-02-10T08:56:46.257Z"
   },
   {
    "duration": 4,
    "start_time": "2022-02-10T08:56:47.144Z"
   },
   {
    "duration": 36,
    "start_time": "2022-02-10T08:56:47.151Z"
   },
   {
    "duration": 3,
    "start_time": "2022-02-10T08:56:47.190Z"
   },
   {
    "duration": 110,
    "start_time": "2022-02-10T08:56:47.196Z"
   },
   {
    "duration": 3,
    "start_time": "2022-02-10T08:56:47.309Z"
   },
   {
    "duration": 6,
    "start_time": "2022-02-10T08:56:47.314Z"
   },
   {
    "duration": 8,
    "start_time": "2022-02-10T08:56:47.324Z"
   },
   {
    "duration": 36,
    "start_time": "2022-02-10T08:56:47.335Z"
   },
   {
    "duration": 10,
    "start_time": "2022-02-10T08:56:47.373Z"
   },
   {
    "duration": 17,
    "start_time": "2022-02-10T08:56:47.385Z"
   },
   {
    "duration": 16,
    "start_time": "2022-02-10T08:56:47.404Z"
   },
   {
    "duration": 7,
    "start_time": "2022-02-10T08:56:47.422Z"
   },
   {
    "duration": 44,
    "start_time": "2022-02-10T08:56:47.431Z"
   },
   {
    "duration": 30,
    "start_time": "2022-02-10T08:56:47.478Z"
   },
   {
    "duration": 24,
    "start_time": "2022-02-10T08:56:47.511Z"
   },
   {
    "duration": 9,
    "start_time": "2022-02-10T08:56:47.537Z"
   },
   {
    "duration": 21,
    "start_time": "2022-02-10T08:56:47.549Z"
   },
   {
    "duration": 70,
    "start_time": "2022-02-10T08:56:47.572Z"
   },
   {
    "duration": 325,
    "start_time": "2022-02-10T08:56:47.645Z"
   },
   {
    "duration": 4,
    "start_time": "2022-02-10T08:56:47.972Z"
   },
   {
    "duration": 13,
    "start_time": "2022-02-10T08:56:47.979Z"
   },
   {
    "duration": 1402,
    "start_time": "2022-02-10T08:56:47.994Z"
   },
   {
    "duration": 1263,
    "start_time": "2022-02-10T08:56:49.398Z"
   },
   {
    "duration": 1366,
    "start_time": "2022-02-10T08:56:50.664Z"
   },
   {
    "duration": 7,
    "start_time": "2022-02-10T08:56:52.035Z"
   },
   {
    "duration": 31,
    "start_time": "2022-02-10T08:56:52.045Z"
   },
   {
    "duration": 12,
    "start_time": "2022-02-10T08:56:52.078Z"
   },
   {
    "duration": 1185,
    "start_time": "2022-02-10T08:56:52.092Z"
   },
   {
    "duration": 14,
    "start_time": "2022-02-10T08:56:53.279Z"
   },
   {
    "duration": 37,
    "start_time": "2022-02-10T08:56:53.295Z"
   },
   {
    "duration": 1924,
    "start_time": "2022-02-10T08:56:53.334Z"
   },
   {
    "duration": 24,
    "start_time": "2022-02-10T08:56:55.261Z"
   },
   {
    "duration": 7,
    "start_time": "2022-02-10T08:56:55.288Z"
   },
   {
    "duration": 7,
    "start_time": "2022-02-10T08:56:55.297Z"
   },
   {
    "duration": 12,
    "start_time": "2022-02-10T08:56:55.306Z"
   },
   {
    "duration": 7,
    "start_time": "2022-02-10T08:56:55.321Z"
   },
   {
    "duration": 1711,
    "start_time": "2022-02-10T08:56:58.863Z"
   },
   {
    "duration": 2085,
    "start_time": "2022-02-10T08:57:09.396Z"
   },
   {
    "duration": 7,
    "start_time": "2022-02-10T09:01:13.129Z"
   },
   {
    "duration": 741,
    "start_time": "2022-02-10T09:01:32.678Z"
   },
   {
    "duration": 2555,
    "start_time": "2022-02-10T09:01:59.408Z"
   },
   {
    "duration": 832,
    "start_time": "2022-02-10T09:02:28.538Z"
   },
   {
    "duration": 902,
    "start_time": "2022-02-10T09:03:41.470Z"
   },
   {
    "duration": 2640,
    "start_time": "2022-02-10T09:03:43.357Z"
   },
   {
    "duration": 708,
    "start_time": "2022-02-10T09:03:45.999Z"
   },
   {
    "duration": 461918,
    "start_time": "2022-02-10T09:04:12.027Z"
   },
   {
    "duration": 319980,
    "start_time": "2022-02-10T09:11:53.948Z"
   },
   {
    "duration": 9951155,
    "start_time": "2022-02-10T09:17:56.417Z"
   },
   {
    "duration": 4,
    "start_time": "2022-02-10T12:05:28.213Z"
   },
   {
    "duration": 81672,
    "start_time": "2022-02-10T12:05:31.091Z"
   },
   {
    "duration": 4,
    "start_time": "2022-02-10T12:06:52.771Z"
   },
   {
    "duration": 46,
    "start_time": "2022-02-10T12:07:04.157Z"
   },
   {
    "duration": 1848,
    "start_time": "2022-02-10T12:07:07.328Z"
   },
   {
    "duration": 106670,
    "start_time": "2022-02-10T12:07:16.325Z"
   },
   {
    "duration": 2755,
    "start_time": "2022-02-10T12:09:02.999Z"
   },
   {
    "duration": 13,
    "start_time": "2022-02-10T12:09:05.758Z"
   },
   {
    "duration": 234,
    "start_time": "2022-02-10T12:09:56.685Z"
   },
   {
    "duration": 73,
    "start_time": "2022-02-10T12:10:03.358Z"
   },
   {
    "duration": 1673,
    "start_time": "2022-02-10T12:10:41.432Z"
   },
   {
    "duration": 909,
    "start_time": "2022-02-10T12:10:43.107Z"
   },
   {
    "duration": 3,
    "start_time": "2022-02-10T12:10:44.019Z"
   },
   {
    "duration": 45,
    "start_time": "2022-02-10T12:10:44.025Z"
   },
   {
    "duration": 3,
    "start_time": "2022-02-10T12:10:44.073Z"
   },
   {
    "duration": 109,
    "start_time": "2022-02-10T12:10:44.078Z"
   },
   {
    "duration": 3,
    "start_time": "2022-02-10T12:10:44.189Z"
   },
   {
    "duration": 8,
    "start_time": "2022-02-10T12:10:44.195Z"
   },
   {
    "duration": 18,
    "start_time": "2022-02-10T12:10:44.206Z"
   },
   {
    "duration": 19,
    "start_time": "2022-02-10T12:10:44.227Z"
   },
   {
    "duration": 30,
    "start_time": "2022-02-10T12:10:44.248Z"
   },
   {
    "duration": 16,
    "start_time": "2022-02-10T12:10:44.280Z"
   },
   {
    "duration": 19,
    "start_time": "2022-02-10T12:10:44.299Z"
   },
   {
    "duration": 8,
    "start_time": "2022-02-10T12:10:44.320Z"
   },
   {
    "duration": 38,
    "start_time": "2022-02-10T12:10:44.331Z"
   },
   {
    "duration": 23,
    "start_time": "2022-02-10T12:10:44.372Z"
   },
   {
    "duration": 43,
    "start_time": "2022-02-10T12:10:44.398Z"
   },
   {
    "duration": 3,
    "start_time": "2022-02-10T12:10:44.444Z"
   },
   {
    "duration": 20,
    "start_time": "2022-02-10T12:10:44.450Z"
   },
   {
    "duration": 72,
    "start_time": "2022-02-10T12:10:44.473Z"
   },
   {
    "duration": 344,
    "start_time": "2022-02-10T12:10:44.547Z"
   },
   {
    "duration": 4,
    "start_time": "2022-02-10T12:10:44.893Z"
   },
   {
    "duration": 9,
    "start_time": "2022-02-10T12:10:44.900Z"
   },
   {
    "duration": 1268,
    "start_time": "2022-02-10T12:10:44.911Z"
   },
   {
    "duration": 1368,
    "start_time": "2022-02-10T12:10:46.182Z"
   },
   {
    "duration": 1329,
    "start_time": "2022-02-10T12:10:47.552Z"
   },
   {
    "duration": 7,
    "start_time": "2022-02-10T12:10:48.887Z"
   },
   {
    "duration": 20,
    "start_time": "2022-02-10T12:10:48.898Z"
   },
   {
    "duration": 13,
    "start_time": "2022-02-10T12:10:48.921Z"
   },
   {
    "duration": 1290,
    "start_time": "2022-02-10T12:10:48.937Z"
   },
   {
    "duration": 28,
    "start_time": "2022-02-10T12:10:50.230Z"
   },
   {
    "duration": 48,
    "start_time": "2022-02-10T12:10:50.261Z"
   },
   {
    "duration": 2163,
    "start_time": "2022-02-10T12:10:50.312Z"
   },
   {
    "duration": 20,
    "start_time": "2022-02-10T12:10:52.478Z"
   },
   {
    "duration": 8,
    "start_time": "2022-02-10T12:10:52.501Z"
   },
   {
    "duration": 7,
    "start_time": "2022-02-10T12:10:52.512Z"
   },
   {
    "duration": 48,
    "start_time": "2022-02-10T12:10:52.521Z"
   },
   {
    "duration": 11,
    "start_time": "2022-02-10T12:10:52.571Z"
   },
   {
    "duration": 11,
    "start_time": "2022-02-10T12:10:52.585Z"
   },
   {
    "duration": 4,
    "start_time": "2022-02-10T12:10:55.349Z"
   },
   {
    "duration": 61,
    "start_time": "2022-02-10T12:10:56.336Z"
   },
   {
    "duration": 42,
    "start_time": "2022-02-10T12:10:59.486Z"
   },
   {
    "duration": 61,
    "start_time": "2022-02-10T12:11:02.234Z"
   },
   {
    "duration": 1859,
    "start_time": "2022-02-10T12:11:28.710Z"
   },
   {
    "duration": 77513,
    "start_time": "2022-02-10T12:16:02.818Z"
   },
   {
    "duration": 1877,
    "start_time": "2022-02-10T12:17:20.334Z"
   },
   {
    "duration": 8,
    "start_time": "2022-02-10T12:17:51.406Z"
   },
   {
    "duration": 4,
    "start_time": "2022-02-10T12:17:53.262Z"
   },
   {
    "duration": 964,
    "start_time": "2022-02-10T12:17:54.606Z"
   },
   {
    "duration": 2475,
    "start_time": "2022-02-10T12:17:59.554Z"
   },
   {
    "duration": 811,
    "start_time": "2022-02-10T12:18:02.032Z"
   },
   {
    "duration": 12,
    "start_time": "2022-02-10T12:37:08.283Z"
   },
   {
    "duration": 5,
    "start_time": "2022-02-10T12:37:10.046Z"
   },
   {
    "duration": 629,
    "start_time": "2022-02-10T12:37:11.341Z"
   },
   {
    "duration": 2867,
    "start_time": "2022-02-10T12:37:14.230Z"
   },
   {
    "duration": 691,
    "start_time": "2022-02-10T12:37:18.809Z"
   },
   {
    "duration": 76818,
    "start_time": "2022-02-10T12:43:05.575Z"
   },
   {
    "duration": 9,
    "start_time": "2022-02-10T12:44:48.287Z"
   },
   {
    "duration": 5,
    "start_time": "2022-02-10T12:44:50.270Z"
   },
   {
    "duration": 89,
    "start_time": "2022-02-10T12:44:50.997Z"
   },
   {
    "duration": 34,
    "start_time": "2022-02-10T12:44:54.084Z"
   },
   {
    "duration": 62,
    "start_time": "2022-02-10T12:44:56.914Z"
   },
   {
    "duration": 2010,
    "start_time": "2022-02-10T12:45:00.565Z"
   },
   {
    "duration": 76691,
    "start_time": "2022-02-10T12:45:03.796Z"
   },
   {
    "duration": 3,
    "start_time": "2022-02-10T12:47:33.278Z"
   },
   {
    "duration": 5,
    "start_time": "2022-02-10T12:51:35.991Z"
   },
   {
    "duration": 419,
    "start_time": "2022-02-10T12:52:25.494Z"
   },
   {
    "duration": 1545,
    "start_time": "2022-02-10T12:52:38.928Z"
   },
   {
    "duration": 78093,
    "start_time": "2022-02-10T12:53:49.508Z"
   },
   {
    "duration": 27678,
    "start_time": "2022-02-10T12:58:32.075Z"
   },
   {
    "duration": 15,
    "start_time": "2022-02-10T13:11:13.214Z"
   },
   {
    "duration": 20,
    "start_time": "2022-02-10T13:11:21.412Z"
   },
   {
    "duration": 251,
    "start_time": "2022-02-10T13:11:34.830Z"
   },
   {
    "duration": 3,
    "start_time": "2022-02-10T13:12:56.029Z"
   },
   {
    "duration": 19,
    "start_time": "2022-02-10T13:19:45.526Z"
   },
   {
    "duration": 22,
    "start_time": "2022-02-10T13:20:21.041Z"
   },
   {
    "duration": 44,
    "start_time": "2022-02-10T13:22:07.276Z"
   },
   {
    "duration": 278,
    "start_time": "2022-02-10T13:22:11.630Z"
   },
   {
    "duration": 6634,
    "start_time": "2022-02-10T13:32:34.105Z"
   },
   {
    "duration": 289,
    "start_time": "2022-02-10T13:33:10.058Z"
   },
   {
    "duration": 64,
    "start_time": "2022-02-10T13:33:25.710Z"
   },
   {
    "duration": 7,
    "start_time": "2022-02-10T13:33:59.128Z"
   },
   {
    "duration": 15,
    "start_time": "2022-02-10T13:34:04.771Z"
   },
   {
    "duration": 314,
    "start_time": "2022-02-10T13:34:27.369Z"
   },
   {
    "duration": 253,
    "start_time": "2022-02-10T13:35:14.711Z"
   },
   {
    "duration": 271,
    "start_time": "2022-02-10T13:36:16.720Z"
   },
   {
    "duration": 253,
    "start_time": "2022-02-10T13:36:34.279Z"
   },
   {
    "duration": 284,
    "start_time": "2022-02-10T13:36:43.883Z"
   },
   {
    "duration": 6342,
    "start_time": "2022-02-10T13:45:22.724Z"
   },
   {
    "duration": 6263,
    "start_time": "2022-02-10T13:46:31.933Z"
   },
   {
    "duration": 14541,
    "start_time": "2022-02-10T13:46:50.652Z"
   },
   {
    "duration": 300,
    "start_time": "2022-02-10T13:50:22.141Z"
   },
   {
    "duration": 13,
    "start_time": "2022-02-10T13:50:52.783Z"
   },
   {
    "duration": 86,
    "start_time": "2022-02-10T13:51:56.051Z"
   },
   {
    "duration": 300,
    "start_time": "2022-02-10T13:51:59.873Z"
   },
   {
    "duration": 91,
    "start_time": "2022-02-10T13:52:18.834Z"
   },
   {
    "duration": 9,
    "start_time": "2022-02-10T13:55:26.124Z"
   },
   {
    "duration": 12,
    "start_time": "2022-02-10T13:55:37.413Z"
   },
   {
    "duration": 270,
    "start_time": "2022-02-10T13:56:25.743Z"
   },
   {
    "duration": 254,
    "start_time": "2022-02-10T13:56:37.950Z"
   },
   {
    "duration": 82,
    "start_time": "2022-02-10T13:58:31.544Z"
   },
   {
    "duration": 279,
    "start_time": "2022-02-10T13:58:36.867Z"
   },
   {
    "duration": 1289,
    "start_time": "2022-02-10T14:00:29.077Z"
   },
   {
    "duration": 295,
    "start_time": "2022-02-10T14:01:43.717Z"
   },
   {
    "duration": 11,
    "start_time": "2022-02-10T14:03:20.291Z"
   },
   {
    "duration": 6,
    "start_time": "2022-02-10T14:03:41.014Z"
   },
   {
    "duration": 868,
    "start_time": "2022-02-10T14:03:41.024Z"
   },
   {
    "duration": 5,
    "start_time": "2022-02-10T14:03:41.896Z"
   },
   {
    "duration": 39,
    "start_time": "2022-02-10T14:03:41.905Z"
   },
   {
    "duration": 3,
    "start_time": "2022-02-10T14:03:41.947Z"
   },
   {
    "duration": 106,
    "start_time": "2022-02-10T14:03:41.952Z"
   },
   {
    "duration": 21,
    "start_time": "2022-02-10T14:03:42.061Z"
   },
   {
    "duration": 26,
    "start_time": "2022-02-10T14:03:42.085Z"
   },
   {
    "duration": 6,
    "start_time": "2022-02-10T14:03:42.115Z"
   },
   {
    "duration": 8,
    "start_time": "2022-02-10T14:03:42.124Z"
   },
   {
    "duration": 10,
    "start_time": "2022-02-10T14:03:42.170Z"
   },
   {
    "duration": 16,
    "start_time": "2022-02-10T14:03:42.182Z"
   },
   {
    "duration": 18,
    "start_time": "2022-02-10T14:03:42.201Z"
   },
   {
    "duration": 6,
    "start_time": "2022-02-10T14:03:42.222Z"
   },
   {
    "duration": 8,
    "start_time": "2022-02-10T14:03:42.270Z"
   },
   {
    "duration": 23,
    "start_time": "2022-02-10T14:03:42.280Z"
   },
   {
    "duration": 25,
    "start_time": "2022-02-10T14:03:42.306Z"
   },
   {
    "duration": 85,
    "start_time": "2022-02-10T14:03:42.333Z"
   },
   {
    "duration": 338,
    "start_time": "2022-02-10T14:03:42.420Z"
   },
   {
    "duration": 9,
    "start_time": "2022-02-10T14:03:42.761Z"
   },
   {
    "duration": 10,
    "start_time": "2022-02-10T14:03:42.772Z"
   },
   {
    "duration": 1273,
    "start_time": "2022-02-10T14:03:42.785Z"
   },
   {
    "duration": 1324,
    "start_time": "2022-02-10T14:03:44.060Z"
   },
   {
    "duration": 1531,
    "start_time": "2022-02-10T14:03:45.387Z"
   },
   {
    "duration": 7,
    "start_time": "2022-02-10T14:03:46.921Z"
   },
   {
    "duration": 17,
    "start_time": "2022-02-10T14:03:46.931Z"
   },
   {
    "duration": 12,
    "start_time": "2022-02-10T14:03:46.972Z"
   },
   {
    "duration": 1193,
    "start_time": "2022-02-10T14:03:46.987Z"
   },
   {
    "duration": 13,
    "start_time": "2022-02-10T14:03:48.183Z"
   },
   {
    "duration": 14,
    "start_time": "2022-02-10T14:03:53.531Z"
   },
   {
    "duration": 11,
    "start_time": "2022-02-10T14:03:54.230Z"
   },
   {
    "duration": 12,
    "start_time": "2022-02-10T14:05:01.407Z"
   },
   {
    "duration": 267,
    "start_time": "2022-02-10T14:05:52.819Z"
   },
   {
    "duration": 6677,
    "start_time": "2022-02-10T14:08:07.625Z"
   },
   {
    "duration": 12,
    "start_time": "2022-02-10T14:08:37.761Z"
   },
   {
    "duration": 29,
    "start_time": "2022-02-10T14:09:26.566Z"
   },
   {
    "duration": 12,
    "start_time": "2022-02-10T14:09:46.119Z"
   },
   {
    "duration": 30,
    "start_time": "2022-02-10T14:10:01.299Z"
   },
   {
    "duration": 13,
    "start_time": "2022-02-10T14:10:03.358Z"
   },
   {
    "duration": 9,
    "start_time": "2022-02-10T14:10:36.813Z"
   },
   {
    "duration": 8,
    "start_time": "2022-02-10T14:12:09.866Z"
   },
   {
    "duration": 11,
    "start_time": "2022-02-10T14:12:22.986Z"
   },
   {
    "duration": 19,
    "start_time": "2022-02-10T14:12:48.936Z"
   },
   {
    "duration": 15,
    "start_time": "2022-02-10T14:13:03.964Z"
   },
   {
    "duration": 333,
    "start_time": "2022-02-10T14:14:29.918Z"
   },
   {
    "duration": 277,
    "start_time": "2022-02-10T14:14:56.502Z"
   },
   {
    "duration": 6916,
    "start_time": "2022-02-10T14:18:05.024Z"
   },
   {
    "duration": 6399,
    "start_time": "2022-02-10T14:19:05.563Z"
   },
   {
    "duration": 5,
    "start_time": "2022-02-10T14:19:24.909Z"
   },
   {
    "duration": 6,
    "start_time": "2022-02-10T14:19:52.768Z"
   },
   {
    "duration": 858,
    "start_time": "2022-02-10T14:19:52.777Z"
   },
   {
    "duration": 4,
    "start_time": "2022-02-10T14:19:53.639Z"
   },
   {
    "duration": 36,
    "start_time": "2022-02-10T14:19:53.645Z"
   },
   {
    "duration": 3,
    "start_time": "2022-02-10T14:19:53.683Z"
   },
   {
    "duration": 110,
    "start_time": "2022-02-10T14:19:53.689Z"
   },
   {
    "duration": 15,
    "start_time": "2022-02-10T14:19:53.801Z"
   },
   {
    "duration": 24,
    "start_time": "2022-02-10T14:19:53.818Z"
   },
   {
    "duration": 5,
    "start_time": "2022-02-10T14:19:53.871Z"
   },
   {
    "duration": 10,
    "start_time": "2022-02-10T14:19:53.879Z"
   },
   {
    "duration": 10,
    "start_time": "2022-02-10T14:19:53.891Z"
   },
   {
    "duration": 15,
    "start_time": "2022-02-10T14:19:53.903Z"
   },
   {
    "duration": 57,
    "start_time": "2022-02-10T14:19:53.920Z"
   },
   {
    "duration": 7,
    "start_time": "2022-02-10T14:19:53.979Z"
   },
   {
    "duration": 15,
    "start_time": "2022-02-10T14:19:53.989Z"
   },
   {
    "duration": 26,
    "start_time": "2022-02-10T14:19:54.007Z"
   },
   {
    "duration": 53,
    "start_time": "2022-02-10T14:19:54.036Z"
   },
   {
    "duration": 55,
    "start_time": "2022-02-10T14:19:54.091Z"
   },
   {
    "duration": 438,
    "start_time": "2022-02-10T14:19:54.148Z"
   },
   {
    "duration": 4,
    "start_time": "2022-02-10T14:19:54.590Z"
   },
   {
    "duration": 14,
    "start_time": "2022-02-10T14:19:54.596Z"
   },
   {
    "duration": 1259,
    "start_time": "2022-02-10T14:19:54.612Z"
   },
   {
    "duration": 1404,
    "start_time": "2022-02-10T14:19:55.873Z"
   },
   {
    "duration": 1448,
    "start_time": "2022-02-10T14:19:57.279Z"
   },
   {
    "duration": 9,
    "start_time": "2022-02-10T14:19:58.730Z"
   },
   {
    "duration": 35,
    "start_time": "2022-02-10T14:19:58.742Z"
   },
   {
    "duration": 11,
    "start_time": "2022-02-10T14:19:58.784Z"
   },
   {
    "duration": 1206,
    "start_time": "2022-02-10T14:19:58.798Z"
   },
   {
    "duration": 6658,
    "start_time": "2022-02-10T14:20:02.690Z"
   },
   {
    "duration": 5,
    "start_time": "2022-02-10T14:20:12.965Z"
   },
   {
    "duration": 1169,
    "start_time": "2022-02-10T14:20:20.000Z"
   },
   {
    "duration": 15,
    "start_time": "2022-02-10T14:20:58.016Z"
   },
   {
    "duration": 5,
    "start_time": "2022-02-10T14:21:02.245Z"
   },
   {
    "duration": 870,
    "start_time": "2022-02-10T14:21:02.253Z"
   },
   {
    "duration": 4,
    "start_time": "2022-02-10T14:21:03.127Z"
   },
   {
    "duration": 42,
    "start_time": "2022-02-10T14:21:03.134Z"
   },
   {
    "duration": 3,
    "start_time": "2022-02-10T14:21:03.178Z"
   },
   {
    "duration": 108,
    "start_time": "2022-02-10T14:21:03.184Z"
   },
   {
    "duration": 16,
    "start_time": "2022-02-10T14:21:03.294Z"
   },
   {
    "duration": 25,
    "start_time": "2022-02-10T14:21:03.313Z"
   },
   {
    "duration": 31,
    "start_time": "2022-02-10T14:21:03.342Z"
   },
   {
    "duration": 8,
    "start_time": "2022-02-10T14:21:03.376Z"
   },
   {
    "duration": 13,
    "start_time": "2022-02-10T14:21:03.386Z"
   },
   {
    "duration": 22,
    "start_time": "2022-02-10T14:21:03.401Z"
   },
   {
    "duration": 43,
    "start_time": "2022-02-10T14:21:03.426Z"
   },
   {
    "duration": 6,
    "start_time": "2022-02-10T14:21:03.472Z"
   },
   {
    "duration": 23,
    "start_time": "2022-02-10T14:21:03.481Z"
   },
   {
    "duration": 26,
    "start_time": "2022-02-10T14:21:03.506Z"
   },
   {
    "duration": 45,
    "start_time": "2022-02-10T14:21:03.535Z"
   },
   {
    "duration": 52,
    "start_time": "2022-02-10T14:21:03.582Z"
   },
   {
    "duration": 331,
    "start_time": "2022-02-10T14:21:03.636Z"
   },
   {
    "duration": 3,
    "start_time": "2022-02-10T14:21:03.970Z"
   },
   {
    "duration": 59,
    "start_time": "2022-02-10T14:21:03.976Z"
   },
   {
    "duration": 1490,
    "start_time": "2022-02-10T14:21:04.038Z"
   },
   {
    "duration": 1258,
    "start_time": "2022-02-10T14:21:05.530Z"
   },
   {
    "duration": 1280,
    "start_time": "2022-02-10T14:21:06.790Z"
   },
   {
    "duration": 9,
    "start_time": "2022-02-10T14:21:08.073Z"
   },
   {
    "duration": 43,
    "start_time": "2022-02-10T14:21:08.085Z"
   },
   {
    "duration": 26,
    "start_time": "2022-02-10T14:21:08.132Z"
   },
   {
    "duration": 1263,
    "start_time": "2022-02-10T14:21:08.161Z"
   },
   {
    "duration": 15,
    "start_time": "2022-02-10T14:21:19.515Z"
   },
   {
    "duration": 5,
    "start_time": "2022-02-10T14:21:20.428Z"
   },
   {
    "duration": 22,
    "start_time": "2022-02-10T14:21:44.141Z"
   },
   {
    "duration": 12,
    "start_time": "2022-02-10T14:21:49.393Z"
   },
   {
    "duration": 41,
    "start_time": "2022-02-10T14:21:50.201Z"
   },
   {
    "duration": 37,
    "start_time": "2022-02-10T14:21:58.108Z"
   },
   {
    "duration": 1894,
    "start_time": "2022-02-10T14:22:09.137Z"
   },
   {
    "duration": 38,
    "start_time": "2022-02-10T14:22:39.275Z"
   },
   {
    "duration": 18,
    "start_time": "2022-02-10T14:23:39.980Z"
   },
   {
    "duration": 8,
    "start_time": "2022-02-10T14:23:56.049Z"
   },
   {
    "duration": 6,
    "start_time": "2022-02-10T14:23:58.014Z"
   },
   {
    "duration": 2045,
    "start_time": "2022-02-10T14:24:03.325Z"
   },
   {
    "duration": 104933,
    "start_time": "2022-02-10T14:24:11.689Z"
   },
   {
    "duration": 1845,
    "start_time": "2022-02-10T14:26:07.680Z"
   },
   {
    "duration": 7,
    "start_time": "2022-02-10T14:26:18.261Z"
   },
   {
    "duration": 5,
    "start_time": "2022-02-10T14:26:22.936Z"
   },
   {
    "duration": 953,
    "start_time": "2022-02-10T14:26:25.423Z"
   },
   {
    "duration": 30760,
    "start_time": "2022-02-10T14:26:28.798Z"
   },
   {
    "duration": 800,
    "start_time": "2022-02-10T14:26:59.569Z"
   },
   {
    "duration": 5,
    "start_time": "2022-02-10T14:38:09.825Z"
   },
   {
    "duration": 6,
    "start_time": "2022-02-10T14:38:14.453Z"
   },
   {
    "duration": 1188,
    "start_time": "2022-02-10T14:38:14.462Z"
   },
   {
    "duration": 4,
    "start_time": "2022-02-10T14:38:15.654Z"
   },
   {
    "duration": 25,
    "start_time": "2022-02-10T14:38:15.670Z"
   },
   {
    "duration": 3,
    "start_time": "2022-02-10T14:38:15.698Z"
   },
   {
    "duration": 160,
    "start_time": "2022-02-10T14:38:15.704Z"
   },
   {
    "duration": 22,
    "start_time": "2022-02-10T14:38:15.869Z"
   },
   {
    "duration": 34,
    "start_time": "2022-02-10T14:38:15.894Z"
   },
   {
    "duration": 6,
    "start_time": "2022-02-10T14:38:15.933Z"
   },
   {
    "duration": 10,
    "start_time": "2022-02-10T14:38:15.972Z"
   },
   {
    "duration": 13,
    "start_time": "2022-02-10T14:38:15.985Z"
   },
   {
    "duration": 17,
    "start_time": "2022-02-10T14:38:16.001Z"
   },
   {
    "duration": 58,
    "start_time": "2022-02-10T14:38:16.020Z"
   },
   {
    "duration": 6,
    "start_time": "2022-02-10T14:38:16.080Z"
   },
   {
    "duration": 12,
    "start_time": "2022-02-10T14:38:16.089Z"
   },
   {
    "duration": 24,
    "start_time": "2022-02-10T14:38:16.103Z"
   },
   {
    "duration": 59,
    "start_time": "2022-02-10T14:38:16.129Z"
   },
   {
    "duration": 52,
    "start_time": "2022-02-10T14:38:16.190Z"
   },
   {
    "duration": 322,
    "start_time": "2022-02-10T14:38:16.269Z"
   },
   {
    "duration": 4,
    "start_time": "2022-02-10T14:38:16.594Z"
   },
   {
    "duration": 8,
    "start_time": "2022-02-10T14:38:16.600Z"
   },
   {
    "duration": 1363,
    "start_time": "2022-02-10T14:38:16.611Z"
   },
   {
    "duration": 1392,
    "start_time": "2022-02-10T14:38:17.977Z"
   },
   {
    "duration": 1500,
    "start_time": "2022-02-10T14:38:19.371Z"
   },
   {
    "duration": 11,
    "start_time": "2022-02-10T14:38:20.875Z"
   },
   {
    "duration": 21,
    "start_time": "2022-02-10T14:38:20.889Z"
   },
   {
    "duration": 60,
    "start_time": "2022-02-10T14:38:20.914Z"
   },
   {
    "duration": 1336,
    "start_time": "2022-02-10T14:38:20.977Z"
   },
   {
    "duration": 13,
    "start_time": "2022-02-10T14:38:22.316Z"
   },
   {
    "duration": 1649,
    "start_time": "2022-02-10T14:44:50.648Z"
   },
   {
    "duration": 871,
    "start_time": "2022-02-10T14:44:52.300Z"
   },
   {
    "duration": 3,
    "start_time": "2022-02-10T14:44:53.175Z"
   },
   {
    "duration": 38,
    "start_time": "2022-02-10T14:44:53.181Z"
   },
   {
    "duration": 3,
    "start_time": "2022-02-10T14:44:53.222Z"
   },
   {
    "duration": 113,
    "start_time": "2022-02-10T14:44:53.227Z"
   },
   {
    "duration": 28,
    "start_time": "2022-02-10T14:44:53.343Z"
   },
   {
    "duration": 25,
    "start_time": "2022-02-10T14:44:53.376Z"
   },
   {
    "duration": 5,
    "start_time": "2022-02-10T14:44:53.404Z"
   },
   {
    "duration": 10,
    "start_time": "2022-02-10T14:44:53.411Z"
   },
   {
    "duration": 48,
    "start_time": "2022-02-10T14:44:53.423Z"
   },
   {
    "duration": 15,
    "start_time": "2022-02-10T14:44:53.473Z"
   },
   {
    "duration": 18,
    "start_time": "2022-02-10T14:44:53.490Z"
   },
   {
    "duration": 7,
    "start_time": "2022-02-10T14:44:53.510Z"
   },
   {
    "duration": 50,
    "start_time": "2022-02-10T14:44:53.519Z"
   },
   {
    "duration": 25,
    "start_time": "2022-02-10T14:44:53.572Z"
   },
   {
    "duration": 26,
    "start_time": "2022-02-10T14:44:53.599Z"
   },
   {
    "duration": 88,
    "start_time": "2022-02-10T14:44:53.628Z"
   },
   {
    "duration": 320,
    "start_time": "2022-02-10T14:44:53.719Z"
   },
   {
    "duration": 4,
    "start_time": "2022-02-10T14:44:54.042Z"
   },
   {
    "duration": 22,
    "start_time": "2022-02-10T14:44:54.048Z"
   },
   {
    "duration": 1264,
    "start_time": "2022-02-10T14:44:54.073Z"
   },
   {
    "duration": 1327,
    "start_time": "2022-02-10T14:44:55.343Z"
   },
   {
    "duration": 1260,
    "start_time": "2022-02-10T14:44:56.673Z"
   },
   {
    "duration": 8,
    "start_time": "2022-02-10T14:44:57.936Z"
   },
   {
    "duration": 44,
    "start_time": "2022-02-10T14:44:57.947Z"
   },
   {
    "duration": 17,
    "start_time": "2022-02-10T14:44:57.994Z"
   },
   {
    "duration": 1251,
    "start_time": "2022-02-10T14:44:58.014Z"
   },
   {
    "duration": 14,
    "start_time": "2022-02-10T14:44:59.269Z"
   },
   {
    "duration": 40,
    "start_time": "2022-02-10T14:44:59.286Z"
   },
   {
    "duration": 1996,
    "start_time": "2022-02-10T14:44:59.328Z"
   },
   {
    "duration": 6,
    "start_time": "2022-02-10T14:45:01.326Z"
   },
   {
    "duration": 33,
    "start_time": "2022-02-10T14:45:01.335Z"
   },
   {
    "duration": 29,
    "start_time": "2022-02-10T14:45:01.371Z"
   },
   {
    "duration": 24,
    "start_time": "2022-02-10T14:45:01.402Z"
   },
   {
    "duration": 2441,
    "start_time": "2022-02-10T14:45:01.429Z"
   },
   {
    "duration": 4,
    "start_time": "2022-02-10T14:45:03.873Z"
   },
   {
    "duration": 77750,
    "start_time": "2022-02-10T14:45:03.879Z"
   },
   {
    "duration": 3,
    "start_time": "2022-02-10T14:46:21.632Z"
   },
   {
    "duration": 1903,
    "start_time": "2022-02-10T14:46:21.637Z"
   },
   {
    "duration": 7,
    "start_time": "2022-02-10T14:46:23.543Z"
   },
   {
    "duration": 47,
    "start_time": "2022-02-10T14:46:23.553Z"
   },
   {
    "duration": 868,
    "start_time": "2022-02-10T14:46:23.602Z"
   },
   {
    "duration": 27713,
    "start_time": "2022-02-10T14:46:24.475Z"
   },
   {
    "duration": 702,
    "start_time": "2022-02-10T14:46:52.191Z"
   },
   {
    "duration": 94,
    "start_time": "2022-02-10T14:50:25.090Z"
   },
   {
    "duration": 1557,
    "start_time": "2022-02-10T15:14:23.623Z"
   },
   {
    "duration": 869,
    "start_time": "2022-02-10T15:14:25.183Z"
   },
   {
    "duration": 4,
    "start_time": "2022-02-10T15:14:26.055Z"
   },
   {
    "duration": 107,
    "start_time": "2022-02-10T15:14:26.069Z"
   },
   {
    "duration": 24,
    "start_time": "2022-02-10T15:14:26.179Z"
   },
   {
    "duration": 17,
    "start_time": "2022-02-10T15:14:26.205Z"
   },
   {
    "duration": 58,
    "start_time": "2022-02-10T15:14:26.224Z"
   },
   {
    "duration": 6,
    "start_time": "2022-02-10T15:14:26.287Z"
   },
   {
    "duration": 10,
    "start_time": "2022-02-10T15:14:26.296Z"
   },
   {
    "duration": 13,
    "start_time": "2022-02-10T15:14:26.308Z"
   },
   {
    "duration": 47,
    "start_time": "2022-02-10T15:14:26.324Z"
   },
   {
    "duration": 17,
    "start_time": "2022-02-10T15:14:26.374Z"
   },
   {
    "duration": 5,
    "start_time": "2022-02-10T15:14:26.394Z"
   },
   {
    "duration": 8,
    "start_time": "2022-02-10T15:14:26.402Z"
   },
   {
    "duration": 59,
    "start_time": "2022-02-10T15:14:26.413Z"
   },
   {
    "duration": 26,
    "start_time": "2022-02-10T15:14:26.474Z"
   },
   {
    "duration": 75,
    "start_time": "2022-02-10T15:14:26.503Z"
   },
   {
    "duration": 331,
    "start_time": "2022-02-10T15:14:26.580Z"
   },
   {
    "duration": 3,
    "start_time": "2022-02-10T15:14:26.913Z"
   },
   {
    "duration": 9,
    "start_time": "2022-02-10T15:14:26.919Z"
   },
   {
    "duration": 1283,
    "start_time": "2022-02-10T15:14:26.931Z"
   },
   {
    "duration": 1364,
    "start_time": "2022-02-10T15:14:28.216Z"
   },
   {
    "duration": 1289,
    "start_time": "2022-02-10T15:14:29.585Z"
   },
   {
    "duration": 8,
    "start_time": "2022-02-10T15:14:30.879Z"
   },
   {
    "duration": 23,
    "start_time": "2022-02-10T15:14:30.891Z"
   },
   {
    "duration": 13,
    "start_time": "2022-02-10T15:14:30.917Z"
   },
   {
    "duration": 1215,
    "start_time": "2022-02-10T15:14:30.933Z"
   },
   {
    "duration": 25,
    "start_time": "2022-02-10T15:14:32.150Z"
   },
   {
    "duration": 42,
    "start_time": "2022-02-10T15:14:32.178Z"
   },
   {
    "duration": 1939,
    "start_time": "2022-02-10T15:14:32.223Z"
   },
   {
    "duration": 6,
    "start_time": "2022-02-10T15:14:34.169Z"
   },
   {
    "duration": 12,
    "start_time": "2022-02-10T15:14:34.177Z"
   },
   {
    "duration": 7,
    "start_time": "2022-02-10T15:14:34.192Z"
   },
   {
    "duration": 8,
    "start_time": "2022-02-10T15:14:34.201Z"
   },
   {
    "duration": 1762,
    "start_time": "2022-02-10T15:14:34.211Z"
   },
   {
    "duration": 7,
    "start_time": "2022-02-10T15:14:35.977Z"
   },
   {
    "duration": 75635,
    "start_time": "2022-02-10T15:14:36.070Z"
   },
   {
    "duration": 3,
    "start_time": "2022-02-10T15:15:51.708Z"
   },
   {
    "duration": 1991,
    "start_time": "2022-02-10T15:15:51.713Z"
   },
   {
    "duration": 7,
    "start_time": "2022-02-10T15:15:53.707Z"
   },
   {
    "duration": 30,
    "start_time": "2022-02-10T15:15:53.716Z"
   },
   {
    "duration": 923,
    "start_time": "2022-02-10T15:15:53.748Z"
   },
   {
    "duration": 27617,
    "start_time": "2022-02-10T15:15:54.675Z"
   },
   {
    "duration": 711,
    "start_time": "2022-02-10T15:16:22.295Z"
   }
  ],
  "kernelspec": {
   "display_name": "Python 3",
   "language": "python",
   "name": "python3"
  },
  "language_info": {
   "codemirror_mode": {
    "name": "ipython",
    "version": 3
   },
   "file_extension": ".py",
   "mimetype": "text/x-python",
   "name": "python",
   "nbconvert_exporter": "python",
   "pygments_lexer": "ipython3",
   "version": "3.7.8"
  },
  "toc": {
   "base_numbering": 1,
   "nav_menu": {},
   "number_sections": true,
   "sideBar": true,
   "skip_h1_title": true,
   "title_cell": "Содержание",
   "title_sidebar": "Contents",
   "toc_cell": true,
   "toc_position": {
    "height": "calc(100% - 180px)",
    "left": "10px",
    "top": "150px",
    "width": "266px"
   },
   "toc_section_display": true,
   "toc_window_display": true
  }
 },
 "nbformat": 4,
 "nbformat_minor": 2
}
