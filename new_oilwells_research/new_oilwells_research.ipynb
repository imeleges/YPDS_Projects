{
 "cells": [
  {
   "cell_type": "markdown",
   "metadata": {},
   "source": [
    "# Выбор региона для разработки новых нефтяных месторождений"
   ]
  },
  {
   "cell_type": "markdown",
   "metadata": {},
   "source": [
    "Для нефтедобывающей компании необходимо решить, где бурить новую скважину.  \n",
    "Собраны характеристики пробы нефти для скважин: качество нефти и объём её запасов по трем регионам. Характеристики для каждой скважины в регионе уже известны.   \n",
    "\n",
    "Необходимо построить модель машинного обучения для предсказания объёма запасов в новых скважинах.  \n",
    "Определить регионы с максимальной суммарной прибылью отобранных скважин.  \n",
    "Построенную модель использоваться для определения региона, где добыча принесёт наибольшую прибыль.  \n",
    "\n",
    "Результаты исследования проанализировать техникой Bootstrap на возможную прибыль и риски"
   ]
  },
  {
   "cell_type": "markdown",
   "metadata": {
    "toc": true
   },
   "source": [
    "<h1>Содержание<span class=\"tocSkip\"></span></h1>\n",
    "<div class=\"toc\"><ul class=\"toc-item\"><li><span><a href=\"#Загрузка-и-подготовка-данных\" data-toc-modified-id=\"Загрузка-и-подготовка-данных-1\"><span class=\"toc-item-num\">1&nbsp;&nbsp;</span>Загрузка и подготовка данных</a></span></li><li><span><a href=\"#Обучение-и-проверка-модели\" data-toc-modified-id=\"Обучение-и-проверка-модели-2\"><span class=\"toc-item-num\">2&nbsp;&nbsp;</span>Обучение и проверка модели</a></span><ul class=\"toc-item\"><li><span><a href=\"#Разделим-данные-регионов-на-обучающую-и-валидационную-выборки-в-соотношении-75:25.\" data-toc-modified-id=\"Разделим-данные-регионов-на-обучающую-и-валидационную-выборки-в-соотношении-75:25.-2.1\"><span class=\"toc-item-num\">2.1&nbsp;&nbsp;</span>Разделим данные регионов на обучающую и валидационную выборки в соотношении 75:25.</a></span></li><li><span><a href=\"#Обучим-модель-и-сделаем-предсказания-на-валидационной-выборке.\" data-toc-modified-id=\"Обучим-модель-и-сделаем-предсказания-на-валидационной-выборке.-2.2\"><span class=\"toc-item-num\">2.2&nbsp;&nbsp;</span>Обучим модель и сделаем предсказания на валидационной выборке.</a></span></li><li><span><a href=\"#Сохраним-предсказания-и-правильные-ответы-на-валидационной-выборке.\" data-toc-modified-id=\"Сохраним-предсказания-и-правильные-ответы-на-валидационной-выборке.-2.3\"><span class=\"toc-item-num\">2.3&nbsp;&nbsp;</span>Сохраним предсказания и правильные ответы на валидационной выборке.</a></span></li><li><span><a href=\"#Выведем-на-экран-средний-запас-предсказанного-сырья-и-RMSE-модели.\" data-toc-modified-id=\"Выведем-на-экран-средний-запас-предсказанного-сырья-и-RMSE-модели.-2.4\"><span class=\"toc-item-num\">2.4&nbsp;&nbsp;</span>Выведем на экран средний запас предсказанного сырья и RMSE модели.</a></span></li><li><span><a href=\"#Анализ-результатов.\" data-toc-modified-id=\"Анализ-результатов.-2.5\"><span class=\"toc-item-num\">2.5&nbsp;&nbsp;</span>Анализ результатов.</a></span></li></ul></li><li><span><a href=\"#Подготовка-к-расчёту-прибыли\" data-toc-modified-id=\"Подготовка-к-расчёту-прибыли-3\"><span class=\"toc-item-num\">3&nbsp;&nbsp;</span>Подготовка к расчёту прибыли</a></span><ul class=\"toc-item\"><li><span><a href=\"#Все-ключевые-значения-для-расчётов-сохраним-в-отдельных-переменных.\" data-toc-modified-id=\"Все-ключевые-значения-для-расчётов-сохраним-в-отдельных-переменных.-3.1\"><span class=\"toc-item-num\">3.1&nbsp;&nbsp;</span>Все ключевые значения для расчётов сохраним в отдельных переменных.</a></span></li><li><span><a href=\"#Рассчитаем-достаточный-объём-сырья-для-безубыточной-разработки-новой-скважины.\" data-toc-modified-id=\"Рассчитаем-достаточный-объём-сырья-для-безубыточной-разработки-новой-скважины.-3.2\"><span class=\"toc-item-num\">3.2&nbsp;&nbsp;</span>Рассчитаем достаточный объём сырья для безубыточной разработки новой скважины.</a></span></li><li><span><a href=\"#Выводы-по-этапу-подготовки-расчёта-прибыли.\" data-toc-modified-id=\"Выводы-по-этапу-подготовки-расчёта-прибыли.-3.3\"><span class=\"toc-item-num\">3.3&nbsp;&nbsp;</span>Выводы по этапу подготовки расчёта прибыли.</a></span></li></ul></li><li><span><a href=\"#Расчёт-прибыли-и-рисков\" data-toc-modified-id=\"Расчёт-прибыли-и-рисков-4\"><span class=\"toc-item-num\">4&nbsp;&nbsp;</span>Расчёт прибыли и рисков</a></span></li><li><span><a href=\"#Подсчет-риска-и-прибыли\" data-toc-modified-id=\"Подсчет-риска-и-прибыли-5\"><span class=\"toc-item-num\">5&nbsp;&nbsp;</span>Подсчет риска и прибыли</a></span></li><li><span><a href=\"#Выводы\" data-toc-modified-id=\"Выводы-6\"><span class=\"toc-item-num\">6&nbsp;&nbsp;</span>Выводы</a></span></li></ul></div>"
   ]
  },
  {
   "cell_type": "markdown",
   "metadata": {},
   "source": [
    "## Загрузка и подготовка данных"
   ]
  },
  {
   "cell_type": "markdown",
   "metadata": {},
   "source": [
    "Пути к файлам датасетов для каждого региона:\n",
    "- `/datasets/geo_data_0.csv`\n",
    "- `/datasets/geo_data_1.csv`\n",
    "- `/datasets/geo_data_2.csv`"
   ]
  },
  {
   "cell_type": "markdown",
   "metadata": {},
   "source": [
    "Импортируем все необходимые библиотеки для проекта"
   ]
  },
  {
   "cell_type": "code",
   "execution_count": 1,
   "metadata": {},
   "outputs": [],
   "source": [
    "import pandas as pd\n",
    "from sklearn.linear_model import LinearRegression\n",
    "from sklearn.model_selection import train_test_split\n",
    "from sklearn.metrics import mean_squared_error\n",
    "from scipy import stats as st\n",
    "import numpy as np"
   ]
  },
  {
   "cell_type": "markdown",
   "metadata": {},
   "source": [
    "Загрузим и посмотрим на содержание всех датасетов для каждого региона"
   ]
  },
  {
   "cell_type": "code",
   "execution_count": 2,
   "metadata": {
    "scrolled": false
   },
   "outputs": [
    {
     "data": {
      "text/html": [
       "<div>\n",
       "<style scoped>\n",
       "    .dataframe tbody tr th:only-of-type {\n",
       "        vertical-align: middle;\n",
       "    }\n",
       "\n",
       "    .dataframe tbody tr th {\n",
       "        vertical-align: top;\n",
       "    }\n",
       "\n",
       "    .dataframe thead th {\n",
       "        text-align: right;\n",
       "    }\n",
       "</style>\n",
       "<table border=\"1\" class=\"dataframe\">\n",
       "  <thead>\n",
       "    <tr style=\"text-align: right;\">\n",
       "      <th></th>\n",
       "      <th>id</th>\n",
       "      <th>f0</th>\n",
       "      <th>f1</th>\n",
       "      <th>f2</th>\n",
       "      <th>product</th>\n",
       "    </tr>\n",
       "  </thead>\n",
       "  <tbody>\n",
       "    <tr>\n",
       "      <td>0</td>\n",
       "      <td>txEyH</td>\n",
       "      <td>0.705745</td>\n",
       "      <td>-0.497823</td>\n",
       "      <td>1.221170</td>\n",
       "      <td>105.280062</td>\n",
       "    </tr>\n",
       "    <tr>\n",
       "      <td>1</td>\n",
       "      <td>2acmU</td>\n",
       "      <td>1.334711</td>\n",
       "      <td>-0.340164</td>\n",
       "      <td>4.365080</td>\n",
       "      <td>73.037750</td>\n",
       "    </tr>\n",
       "    <tr>\n",
       "      <td>2</td>\n",
       "      <td>409Wp</td>\n",
       "      <td>1.022732</td>\n",
       "      <td>0.151990</td>\n",
       "      <td>1.419926</td>\n",
       "      <td>85.265647</td>\n",
       "    </tr>\n",
       "    <tr>\n",
       "      <td>3</td>\n",
       "      <td>iJLyR</td>\n",
       "      <td>-0.032172</td>\n",
       "      <td>0.139033</td>\n",
       "      <td>2.978566</td>\n",
       "      <td>168.620776</td>\n",
       "    </tr>\n",
       "    <tr>\n",
       "      <td>4</td>\n",
       "      <td>Xdl7t</td>\n",
       "      <td>1.988431</td>\n",
       "      <td>0.155413</td>\n",
       "      <td>4.751769</td>\n",
       "      <td>154.036647</td>\n",
       "    </tr>\n",
       "  </tbody>\n",
       "</table>\n",
       "</div>"
      ],
      "text/plain": [
       "      id        f0        f1        f2     product\n",
       "0  txEyH  0.705745 -0.497823  1.221170  105.280062\n",
       "1  2acmU  1.334711 -0.340164  4.365080   73.037750\n",
       "2  409Wp  1.022732  0.151990  1.419926   85.265647\n",
       "3  iJLyR -0.032172  0.139033  2.978566  168.620776\n",
       "4  Xdl7t  1.988431  0.155413  4.751769  154.036647"
      ]
     },
     "metadata": {},
     "output_type": "display_data"
    },
    {
     "name": "stdout",
     "output_type": "stream",
     "text": [
      "(100000, 5)\n"
     ]
    },
    {
     "data": {
      "text/html": [
       "<div>\n",
       "<style scoped>\n",
       "    .dataframe tbody tr th:only-of-type {\n",
       "        vertical-align: middle;\n",
       "    }\n",
       "\n",
       "    .dataframe tbody tr th {\n",
       "        vertical-align: top;\n",
       "    }\n",
       "\n",
       "    .dataframe thead th {\n",
       "        text-align: right;\n",
       "    }\n",
       "</style>\n",
       "<table border=\"1\" class=\"dataframe\">\n",
       "  <thead>\n",
       "    <tr style=\"text-align: right;\">\n",
       "      <th></th>\n",
       "      <th>id</th>\n",
       "      <th>f0</th>\n",
       "      <th>f1</th>\n",
       "      <th>f2</th>\n",
       "      <th>product</th>\n",
       "    </tr>\n",
       "  </thead>\n",
       "  <tbody>\n",
       "    <tr>\n",
       "      <td>0</td>\n",
       "      <td>kBEdx</td>\n",
       "      <td>-15.001348</td>\n",
       "      <td>-8.276000</td>\n",
       "      <td>-0.005876</td>\n",
       "      <td>3.179103</td>\n",
       "    </tr>\n",
       "    <tr>\n",
       "      <td>1</td>\n",
       "      <td>62mP7</td>\n",
       "      <td>14.272088</td>\n",
       "      <td>-3.475083</td>\n",
       "      <td>0.999183</td>\n",
       "      <td>26.953261</td>\n",
       "    </tr>\n",
       "    <tr>\n",
       "      <td>2</td>\n",
       "      <td>vyE1P</td>\n",
       "      <td>6.263187</td>\n",
       "      <td>-5.948386</td>\n",
       "      <td>5.001160</td>\n",
       "      <td>134.766305</td>\n",
       "    </tr>\n",
       "    <tr>\n",
       "      <td>3</td>\n",
       "      <td>KcrkZ</td>\n",
       "      <td>-13.081196</td>\n",
       "      <td>-11.506057</td>\n",
       "      <td>4.999415</td>\n",
       "      <td>137.945408</td>\n",
       "    </tr>\n",
       "    <tr>\n",
       "      <td>4</td>\n",
       "      <td>AHL4O</td>\n",
       "      <td>12.702195</td>\n",
       "      <td>-8.147433</td>\n",
       "      <td>5.004363</td>\n",
       "      <td>134.766305</td>\n",
       "    </tr>\n",
       "  </tbody>\n",
       "</table>\n",
       "</div>"
      ],
      "text/plain": [
       "      id         f0         f1        f2     product\n",
       "0  kBEdx -15.001348  -8.276000 -0.005876    3.179103\n",
       "1  62mP7  14.272088  -3.475083  0.999183   26.953261\n",
       "2  vyE1P   6.263187  -5.948386  5.001160  134.766305\n",
       "3  KcrkZ -13.081196 -11.506057  4.999415  137.945408\n",
       "4  AHL4O  12.702195  -8.147433  5.004363  134.766305"
      ]
     },
     "metadata": {},
     "output_type": "display_data"
    },
    {
     "name": "stdout",
     "output_type": "stream",
     "text": [
      "(100000, 5)\n"
     ]
    },
    {
     "data": {
      "text/html": [
       "<div>\n",
       "<style scoped>\n",
       "    .dataframe tbody tr th:only-of-type {\n",
       "        vertical-align: middle;\n",
       "    }\n",
       "\n",
       "    .dataframe tbody tr th {\n",
       "        vertical-align: top;\n",
       "    }\n",
       "\n",
       "    .dataframe thead th {\n",
       "        text-align: right;\n",
       "    }\n",
       "</style>\n",
       "<table border=\"1\" class=\"dataframe\">\n",
       "  <thead>\n",
       "    <tr style=\"text-align: right;\">\n",
       "      <th></th>\n",
       "      <th>id</th>\n",
       "      <th>f0</th>\n",
       "      <th>f1</th>\n",
       "      <th>f2</th>\n",
       "      <th>product</th>\n",
       "    </tr>\n",
       "  </thead>\n",
       "  <tbody>\n",
       "    <tr>\n",
       "      <td>0</td>\n",
       "      <td>fwXo0</td>\n",
       "      <td>-1.146987</td>\n",
       "      <td>0.963328</td>\n",
       "      <td>-0.828965</td>\n",
       "      <td>27.758673</td>\n",
       "    </tr>\n",
       "    <tr>\n",
       "      <td>1</td>\n",
       "      <td>WJtFt</td>\n",
       "      <td>0.262778</td>\n",
       "      <td>0.269839</td>\n",
       "      <td>-2.530187</td>\n",
       "      <td>56.069697</td>\n",
       "    </tr>\n",
       "    <tr>\n",
       "      <td>2</td>\n",
       "      <td>ovLUW</td>\n",
       "      <td>0.194587</td>\n",
       "      <td>0.289035</td>\n",
       "      <td>-5.586433</td>\n",
       "      <td>62.871910</td>\n",
       "    </tr>\n",
       "    <tr>\n",
       "      <td>3</td>\n",
       "      <td>q6cA6</td>\n",
       "      <td>2.236060</td>\n",
       "      <td>-0.553760</td>\n",
       "      <td>0.930038</td>\n",
       "      <td>114.572842</td>\n",
       "    </tr>\n",
       "    <tr>\n",
       "      <td>4</td>\n",
       "      <td>WPMUX</td>\n",
       "      <td>-0.515993</td>\n",
       "      <td>1.716266</td>\n",
       "      <td>5.899011</td>\n",
       "      <td>149.600746</td>\n",
       "    </tr>\n",
       "  </tbody>\n",
       "</table>\n",
       "</div>"
      ],
      "text/plain": [
       "      id        f0        f1        f2     product\n",
       "0  fwXo0 -1.146987  0.963328 -0.828965   27.758673\n",
       "1  WJtFt  0.262778  0.269839 -2.530187   56.069697\n",
       "2  ovLUW  0.194587  0.289035 -5.586433   62.871910\n",
       "3  q6cA6  2.236060 -0.553760  0.930038  114.572842\n",
       "4  WPMUX -0.515993  1.716266  5.899011  149.600746"
      ]
     },
     "metadata": {},
     "output_type": "display_data"
    },
    {
     "name": "stdout",
     "output_type": "stream",
     "text": [
      "(100000, 5)\n"
     ]
    }
   ],
   "source": [
    "region_0 = pd.read_csv('/datasets/geo_data_0.csv')\n",
    "region_1 = pd.read_csv('/datasets/geo_data_1.csv')\n",
    "region_2 = pd.read_csv('/datasets/geo_data_2.csv')\n",
    "\n",
    "display(region_0.head())\n",
    "print(region_0.shape)\n",
    "\n",
    "display(region_1.head())\n",
    "print(region_1.shape)\n",
    "\n",
    "display(region_2.head())\n",
    "print(region_2.shape)"
   ]
  },
  {
   "cell_type": "markdown",
   "metadata": {},
   "source": [
    "- `id` — уникальный идентификатор скважины;\n",
    "- `f0`, `f1`, `f2` — три признака точек;\n",
    "- `product` — объём запасов в скважине (тыс. баррелей).\n",
    "\n",
    "Количество запсией в каждом датасете `100_000`"
   ]
  },
  {
   "cell_type": "markdown",
   "metadata": {},
   "source": [
    "Колонка с `id` не понадобится и обучать модель с ней не стоит. Отбросим колонку с `id` для всех датасетов."
   ]
  },
  {
   "cell_type": "code",
   "execution_count": 3,
   "metadata": {
    "scrolled": false
   },
   "outputs": [
    {
     "data": {
      "text/html": [
       "<div>\n",
       "<style scoped>\n",
       "    .dataframe tbody tr th:only-of-type {\n",
       "        vertical-align: middle;\n",
       "    }\n",
       "\n",
       "    .dataframe tbody tr th {\n",
       "        vertical-align: top;\n",
       "    }\n",
       "\n",
       "    .dataframe thead th {\n",
       "        text-align: right;\n",
       "    }\n",
       "</style>\n",
       "<table border=\"1\" class=\"dataframe\">\n",
       "  <thead>\n",
       "    <tr style=\"text-align: right;\">\n",
       "      <th></th>\n",
       "      <th>f0</th>\n",
       "      <th>f1</th>\n",
       "      <th>f2</th>\n",
       "      <th>product</th>\n",
       "    </tr>\n",
       "  </thead>\n",
       "  <tbody>\n",
       "    <tr>\n",
       "      <td>0</td>\n",
       "      <td>0.705745</td>\n",
       "      <td>-0.497823</td>\n",
       "      <td>1.221170</td>\n",
       "      <td>105.280062</td>\n",
       "    </tr>\n",
       "    <tr>\n",
       "      <td>1</td>\n",
       "      <td>1.334711</td>\n",
       "      <td>-0.340164</td>\n",
       "      <td>4.365080</td>\n",
       "      <td>73.037750</td>\n",
       "    </tr>\n",
       "    <tr>\n",
       "      <td>2</td>\n",
       "      <td>1.022732</td>\n",
       "      <td>0.151990</td>\n",
       "      <td>1.419926</td>\n",
       "      <td>85.265647</td>\n",
       "    </tr>\n",
       "    <tr>\n",
       "      <td>3</td>\n",
       "      <td>-0.032172</td>\n",
       "      <td>0.139033</td>\n",
       "      <td>2.978566</td>\n",
       "      <td>168.620776</td>\n",
       "    </tr>\n",
       "    <tr>\n",
       "      <td>4</td>\n",
       "      <td>1.988431</td>\n",
       "      <td>0.155413</td>\n",
       "      <td>4.751769</td>\n",
       "      <td>154.036647</td>\n",
       "    </tr>\n",
       "  </tbody>\n",
       "</table>\n",
       "</div>"
      ],
      "text/plain": [
       "         f0        f1        f2     product\n",
       "0  0.705745 -0.497823  1.221170  105.280062\n",
       "1  1.334711 -0.340164  4.365080   73.037750\n",
       "2  1.022732  0.151990  1.419926   85.265647\n",
       "3 -0.032172  0.139033  2.978566  168.620776\n",
       "4  1.988431  0.155413  4.751769  154.036647"
      ]
     },
     "metadata": {},
     "output_type": "display_data"
    },
    {
     "data": {
      "text/html": [
       "<div>\n",
       "<style scoped>\n",
       "    .dataframe tbody tr th:only-of-type {\n",
       "        vertical-align: middle;\n",
       "    }\n",
       "\n",
       "    .dataframe tbody tr th {\n",
       "        vertical-align: top;\n",
       "    }\n",
       "\n",
       "    .dataframe thead th {\n",
       "        text-align: right;\n",
       "    }\n",
       "</style>\n",
       "<table border=\"1\" class=\"dataframe\">\n",
       "  <thead>\n",
       "    <tr style=\"text-align: right;\">\n",
       "      <th></th>\n",
       "      <th>f0</th>\n",
       "      <th>f1</th>\n",
       "      <th>f2</th>\n",
       "      <th>product</th>\n",
       "    </tr>\n",
       "  </thead>\n",
       "  <tbody>\n",
       "    <tr>\n",
       "      <td>0</td>\n",
       "      <td>-15.001348</td>\n",
       "      <td>-8.276000</td>\n",
       "      <td>-0.005876</td>\n",
       "      <td>3.179103</td>\n",
       "    </tr>\n",
       "    <tr>\n",
       "      <td>1</td>\n",
       "      <td>14.272088</td>\n",
       "      <td>-3.475083</td>\n",
       "      <td>0.999183</td>\n",
       "      <td>26.953261</td>\n",
       "    </tr>\n",
       "    <tr>\n",
       "      <td>2</td>\n",
       "      <td>6.263187</td>\n",
       "      <td>-5.948386</td>\n",
       "      <td>5.001160</td>\n",
       "      <td>134.766305</td>\n",
       "    </tr>\n",
       "    <tr>\n",
       "      <td>3</td>\n",
       "      <td>-13.081196</td>\n",
       "      <td>-11.506057</td>\n",
       "      <td>4.999415</td>\n",
       "      <td>137.945408</td>\n",
       "    </tr>\n",
       "    <tr>\n",
       "      <td>4</td>\n",
       "      <td>12.702195</td>\n",
       "      <td>-8.147433</td>\n",
       "      <td>5.004363</td>\n",
       "      <td>134.766305</td>\n",
       "    </tr>\n",
       "  </tbody>\n",
       "</table>\n",
       "</div>"
      ],
      "text/plain": [
       "          f0         f1        f2     product\n",
       "0 -15.001348  -8.276000 -0.005876    3.179103\n",
       "1  14.272088  -3.475083  0.999183   26.953261\n",
       "2   6.263187  -5.948386  5.001160  134.766305\n",
       "3 -13.081196 -11.506057  4.999415  137.945408\n",
       "4  12.702195  -8.147433  5.004363  134.766305"
      ]
     },
     "metadata": {},
     "output_type": "display_data"
    },
    {
     "data": {
      "text/html": [
       "<div>\n",
       "<style scoped>\n",
       "    .dataframe tbody tr th:only-of-type {\n",
       "        vertical-align: middle;\n",
       "    }\n",
       "\n",
       "    .dataframe tbody tr th {\n",
       "        vertical-align: top;\n",
       "    }\n",
       "\n",
       "    .dataframe thead th {\n",
       "        text-align: right;\n",
       "    }\n",
       "</style>\n",
       "<table border=\"1\" class=\"dataframe\">\n",
       "  <thead>\n",
       "    <tr style=\"text-align: right;\">\n",
       "      <th></th>\n",
       "      <th>f0</th>\n",
       "      <th>f1</th>\n",
       "      <th>f2</th>\n",
       "      <th>product</th>\n",
       "    </tr>\n",
       "  </thead>\n",
       "  <tbody>\n",
       "    <tr>\n",
       "      <td>0</td>\n",
       "      <td>-1.146987</td>\n",
       "      <td>0.963328</td>\n",
       "      <td>-0.828965</td>\n",
       "      <td>27.758673</td>\n",
       "    </tr>\n",
       "    <tr>\n",
       "      <td>1</td>\n",
       "      <td>0.262778</td>\n",
       "      <td>0.269839</td>\n",
       "      <td>-2.530187</td>\n",
       "      <td>56.069697</td>\n",
       "    </tr>\n",
       "    <tr>\n",
       "      <td>2</td>\n",
       "      <td>0.194587</td>\n",
       "      <td>0.289035</td>\n",
       "      <td>-5.586433</td>\n",
       "      <td>62.871910</td>\n",
       "    </tr>\n",
       "    <tr>\n",
       "      <td>3</td>\n",
       "      <td>2.236060</td>\n",
       "      <td>-0.553760</td>\n",
       "      <td>0.930038</td>\n",
       "      <td>114.572842</td>\n",
       "    </tr>\n",
       "    <tr>\n",
       "      <td>4</td>\n",
       "      <td>-0.515993</td>\n",
       "      <td>1.716266</td>\n",
       "      <td>5.899011</td>\n",
       "      <td>149.600746</td>\n",
       "    </tr>\n",
       "  </tbody>\n",
       "</table>\n",
       "</div>"
      ],
      "text/plain": [
       "         f0        f1        f2     product\n",
       "0 -1.146987  0.963328 -0.828965   27.758673\n",
       "1  0.262778  0.269839 -2.530187   56.069697\n",
       "2  0.194587  0.289035 -5.586433   62.871910\n",
       "3  2.236060 -0.553760  0.930038  114.572842\n",
       "4 -0.515993  1.716266  5.899011  149.600746"
      ]
     },
     "metadata": {},
     "output_type": "display_data"
    }
   ],
   "source": [
    "region_0.drop('id', axis=1, inplace=True)\n",
    "region_1.drop('id', axis=1, inplace=True)\n",
    "region_2.drop('id', axis=1, inplace=True)\n",
    "\n",
    "display(region_0.head())\n",
    "display(region_1.head())\n",
    "display(region_2.head())"
   ]
  },
  {
   "cell_type": "markdown",
   "metadata": {},
   "source": [
    "## Обучение и проверка модели"
   ]
  },
  {
   "cell_type": "markdown",
   "metadata": {},
   "source": [
    "### Разделим данные регионов на обучающую и валидационную выборки в соотношении 75:25."
   ]
  },
  {
   "cell_type": "markdown",
   "metadata": {},
   "source": [
    "`Регион 0`"
   ]
  },
  {
   "cell_type": "code",
   "execution_count": 4,
   "metadata": {},
   "outputs": [],
   "source": [
    "reg0_features = region_0.drop(['product'], axis=1)\n",
    "reg0_target = region_0['product']\n",
    "\n",
    "reg0_features_train, reg0_features_valid, reg0_target_train, reg0_target_valid = train_test_split(\n",
    "    reg0_features, reg0_target, test_size=0.25, random_state=12345)"
   ]
  },
  {
   "cell_type": "markdown",
   "metadata": {},
   "source": [
    "`Регион 1`"
   ]
  },
  {
   "cell_type": "code",
   "execution_count": 5,
   "metadata": {},
   "outputs": [],
   "source": [
    "reg1_features = region_1.drop(['product'], axis=1)\n",
    "reg1_target = region_1['product']\n",
    "\n",
    "reg1_features_train, reg1_features_valid, reg1_target_train, reg1_target_valid = train_test_split(\n",
    "    reg1_features, reg1_target, test_size=0.25, random_state=12345)"
   ]
  },
  {
   "cell_type": "markdown",
   "metadata": {},
   "source": [
    "`Регион 2`"
   ]
  },
  {
   "cell_type": "code",
   "execution_count": 6,
   "metadata": {},
   "outputs": [],
   "source": [
    "reg2_features = region_2.drop(['product'], axis=1)\n",
    "reg2_target = region_2['product']\n",
    "\n",
    "reg2_features_train, reg2_features_valid, reg2_target_train, reg2_target_valid = train_test_split(\n",
    "    reg2_features, reg2_target, test_size=0.25, random_state=12345)"
   ]
  },
  {
   "cell_type": "markdown",
   "metadata": {},
   "source": [
    "### Обучим модель и сделаем предсказания на валидационной выборке."
   ]
  },
  {
   "cell_type": "markdown",
   "metadata": {},
   "source": [
    "Для каждого региона отдельно создадим и обучим модель"
   ]
  },
  {
   "cell_type": "code",
   "execution_count": 7,
   "metadata": {},
   "outputs": [
    {
     "data": {
      "text/plain": [
       "LinearRegression(copy_X=True, fit_intercept=True, n_jobs=None, normalize=False)"
      ]
     },
     "execution_count": 7,
     "metadata": {},
     "output_type": "execute_result"
    }
   ],
   "source": [
    "reg0_model = LinearRegression()\n",
    "reg0_model.fit(reg0_features_train, reg0_target_train)"
   ]
  },
  {
   "cell_type": "code",
   "execution_count": 8,
   "metadata": {},
   "outputs": [
    {
     "data": {
      "text/plain": [
       "LinearRegression(copy_X=True, fit_intercept=True, n_jobs=None, normalize=False)"
      ]
     },
     "execution_count": 8,
     "metadata": {},
     "output_type": "execute_result"
    }
   ],
   "source": [
    "reg1_model = LinearRegression()\n",
    "reg1_model.fit(reg1_features_train, reg1_target_train)"
   ]
  },
  {
   "cell_type": "code",
   "execution_count": 9,
   "metadata": {},
   "outputs": [
    {
     "data": {
      "text/plain": [
       "LinearRegression(copy_X=True, fit_intercept=True, n_jobs=None, normalize=False)"
      ]
     },
     "execution_count": 9,
     "metadata": {},
     "output_type": "execute_result"
    }
   ],
   "source": [
    "reg2_model = LinearRegression()\n",
    "reg2_model.fit(reg2_features_train, reg2_target_train)"
   ]
  },
  {
   "cell_type": "markdown",
   "metadata": {},
   "source": [
    "### Сохраним предсказания и правильные ответы на валидационной выборке."
   ]
  },
  {
   "cell_type": "markdown",
   "metadata": {},
   "source": [
    "Полученные предсказания для каждого региона сохраним по отдельности, предварительно сконвертировав в `pd.Series`"
   ]
  },
  {
   "cell_type": "code",
   "execution_count": 10,
   "metadata": {},
   "outputs": [],
   "source": [
    "reg0_predictions_valid = pd.Series(reg0_model.predict(reg0_features_valid))"
   ]
  },
  {
   "cell_type": "code",
   "execution_count": 11,
   "metadata": {},
   "outputs": [],
   "source": [
    "reg1_predictions_valid = pd.Series(reg1_model.predict(reg1_features_valid))"
   ]
  },
  {
   "cell_type": "code",
   "execution_count": 12,
   "metadata": {},
   "outputs": [],
   "source": [
    "reg2_predictions_valid = pd.Series(reg2_model.predict(reg2_features_valid))"
   ]
  },
  {
   "cell_type": "markdown",
   "metadata": {},
   "source": [
    "### Выведем на экран средний запас предсказанного сырья и RMSE модели."
   ]
  },
  {
   "cell_type": "markdown",
   "metadata": {},
   "source": [
    "Создадим функцию `region_mean_rmse` для подсчета, предсказания среднего запаса сырья и метрики RMSE."
   ]
  },
  {
   "cell_type": "code",
   "execution_count": 13,
   "metadata": {},
   "outputs": [],
   "source": [
    "def region_mean_rmse(region, reg_target_valid, reg_predictions_valid):\n",
    "    mean_valid = reg_target_valid.mean()\n",
    "    mean_predic = reg_predictions_valid.mean()\n",
    "    rmse = mean_squared_error(reg_target_valid, reg_predictions_valid)**0.5\n",
    "\n",
    "    print(f\"Для региона: {region} \\n\"\n",
    "          f\"Фактический средний запас сырья: {mean_valid}\\n\"\n",
    "          f\"Предсказанный средний запас сырья на валидационной выборке: {mean_predic}\\n\"\n",
    "          f\"RMSE модели линейной регрессии на валидационной выборке: {rmse}\\n\")"
   ]
  },
  {
   "cell_type": "code",
   "execution_count": 14,
   "metadata": {},
   "outputs": [
    {
     "name": "stdout",
     "output_type": "stream",
     "text": [
      "Для региона: 0 \n",
      "Фактический средний запас сырья: 92.07859674082927\n",
      "Предсказанный средний запас сырья на валидационной выборке: 92.59256778438038\n",
      "RMSE модели линейной регрессии на валидационной выборке: 37.5794217150813\n",
      "\n"
     ]
    }
   ],
   "source": [
    "region_mean_rmse(\"0\", reg0_target_valid, reg0_predictions_valid)"
   ]
  },
  {
   "cell_type": "code",
   "execution_count": 15,
   "metadata": {},
   "outputs": [
    {
     "name": "stdout",
     "output_type": "stream",
     "text": [
      "Для региона: 1 \n",
      "Фактический средний запас сырья: 68.72313602435997\n",
      "Предсказанный средний запас сырья на валидационной выборке: 68.728546895446\n",
      "RMSE модели линейной регрессии на валидационной выборке: 0.893099286775616\n",
      "\n"
     ]
    }
   ],
   "source": [
    "region_mean_rmse(\"1\", reg1_target_valid, reg1_predictions_valid)"
   ]
  },
  {
   "cell_type": "code",
   "execution_count": 16,
   "metadata": {},
   "outputs": [
    {
     "name": "stdout",
     "output_type": "stream",
     "text": [
      "Для региона: 2 \n",
      "Фактический средний запас сырья: 94.88423280885438\n",
      "Предсказанный средний запас сырья на валидационной выборке: 94.96504596800489\n",
      "RMSE модели линейной регрессии на валидационной выборке: 40.02970873393434\n",
      "\n"
     ]
    }
   ],
   "source": [
    "region_mean_rmse(\"2\", reg2_target_valid, reg2_predictions_valid)"
   ]
  },
  {
   "cell_type": "markdown",
   "metadata": {},
   "source": [
    "### Анализ результатов."
   ]
  },
  {
   "cell_type": "markdown",
   "metadata": {},
   "source": [
    "- Данные для 3-х регионов были разделены на обучающие и тестовые выборки в соотношении 75:25.  \n",
    "- Проведено обучение модели линейной регрессии и получены предсказанные значения запасов сырья.  \n",
    "- Для `Региона 0` и `Региона 2` среднее значение запасов сырья выше, чем в `Регионе 1`.    \n",
    "- Но при этом для `Региона 1` метрика RMSE показала гораздо лучшее значение, всего `0.8930`, чем в двух других регионах. Но и средний запас сырья модель предсказала самый низкий."
   ]
  },
  {
   "cell_type": "markdown",
   "metadata": {},
   "source": [
    "## Подготовка к расчёту прибыли"
   ]
  },
  {
   "cell_type": "markdown",
   "metadata": {},
   "source": [
    "### Все ключевые значения для расчётов сохраним в отдельных переменных."
   ]
  },
  {
   "cell_type": "markdown",
   "metadata": {},
   "source": [
    "`BUDGET` - Бюджет на разработку скважин в регионе 10 млрд рублей.  \n",
    "`PROFIT` - Доход с каждой тысячи баррелей составляет 450 тыс. рублей.  \n",
    "`EXPLORED_OILWELLS` - Исследованные нефтяные скважины при разведке региона.  \n",
    "`TOP_OILWELLS` - ТОП лучших скважин для разработки."
   ]
  },
  {
   "cell_type": "code",
   "execution_count": 17,
   "metadata": {},
   "outputs": [],
   "source": [
    "BUDGET = 10_000_000_000\n",
    "PROFIT = 450_000\n",
    "EXPLORED_OILWELLS = 500\n",
    "TOP_OILWELLS = 200"
   ]
  },
  {
   "cell_type": "markdown",
   "metadata": {},
   "source": [
    "### Рассчитаем достаточный объём сырья для безубыточной разработки новой скважины."
   ]
  },
  {
   "cell_type": "code",
   "execution_count": 18,
   "metadata": {},
   "outputs": [
    {
     "name": "stdout",
     "output_type": "stream",
     "text": [
      "Достаточный объём сырья для безубыточной разработки новой скважины: 111.11 тыс. баррелей\n"
     ]
    }
   ],
   "source": [
    "sufficient_amount = BUDGET / PROFIT / TOP_OILWELLS\n",
    "print(f\"Достаточный объём сырья для безубыточной разработки новой скважины: \"\n",
    "      f\"{round(sufficient_amount, 2)} тыс. баррелей\")"
   ]
  },
  {
   "cell_type": "markdown",
   "metadata": {},
   "source": [
    "Сравним полученный объём сырья со средним запасом в каждом регионе."
   ]
  },
  {
   "cell_type": "code",
   "execution_count": 19,
   "metadata": {},
   "outputs": [
    {
     "name": "stdout",
     "output_type": "stream",
     "text": [
      "Средний запас сырья:\n",
      "- для Региона 0: 92.5 тыс. баррелей\n",
      "- для Региона 1: 68.83 тыс. баррелей\n",
      "- для Региона 2: 95.0 тыс. баррелей\n",
      "\n"
     ]
    }
   ],
   "source": [
    "print(f\"Средний запас сырья:\\n\"\n",
    "      f\"- для Региона 0: {round(reg0_target.mean(), 2)} тыс. баррелей\\n\"\n",
    "      f\"- для Региона 1: {round(reg1_target.mean(), 2)} тыс. баррелей\\n\"\n",
    "      f\"- для Региона 2: {round(reg2_target.mean(), 2)} тыс. баррелей\\n\"\n",
    "     )"
   ]
  },
  {
   "cell_type": "markdown",
   "metadata": {},
   "source": [
    "### Выводы по этапу подготовки расчёта прибыли."
   ]
  },
  {
   "cell_type": "markdown",
   "metadata": {},
   "source": [
    "С учетом достаточного объема сырья в `111 тысяч баррелей` для безубыточной разработки скважины, в среднем по всем трём регионам, объем скважин **убыточен**. Наименьший средний запас сырья в `Регионе 1`, а наибольший в `Регионе 2`."
   ]
  },
  {
   "cell_type": "markdown",
   "metadata": {},
   "source": [
    "## Расчёт прибыли и рисков "
   ]
  },
  {
   "cell_type": "markdown",
   "metadata": {},
   "source": [
    "Напишем функцию `revenue` для расчёта прибыли по выбранным скважинам и предсказаниям модели.\n",
    "Выберем скважины с максимальными значениями предсказаний, просуммируем целевое значение объёма сырья, соответствующее этим предсказаниям."
   ]
  },
  {
   "cell_type": "code",
   "execution_count": 20,
   "metadata": {},
   "outputs": [],
   "source": [
    "def revenue(target, predictions, count):\n",
    "    predicted = predictions.sort_values(ascending=False).head(count)\n",
    "    selected = target.reset_index(drop=True)[predicted.index]\n",
    "    return (PROFIT * selected.sum() - BUDGET)"
   ]
  },
  {
   "cell_type": "markdown",
   "metadata": {},
   "source": [
    "Рассчитаем прибыль для полученного объёма сырья."
   ]
  },
  {
   "cell_type": "code",
   "execution_count": 21,
   "metadata": {},
   "outputs": [
    {
     "name": "stdout",
     "output_type": "stream",
     "text": [
      "Прибыль для полученного объёма сырья с ТОП-200 скважин:\n",
      "- для Региона 0: 3,320,826,043.1398525 руб.\n",
      "- для Региона 1: 2,415,086,696.681511 руб.\n",
      "- для Региона 2: 2,710,349,963.5998325 руб.\n",
      "\n"
     ]
    }
   ],
   "source": [
    "print(f\"Прибыль для полученного объёма сырья с ТОП-{TOP_OILWELLS} скважин:\\n\"\n",
    "      f\"- для Региона 0: {revenue(reg0_target_valid, reg0_predictions_valid, TOP_OILWELLS):,} руб.\\n\"\n",
    "      f\"- для Региона 1: {revenue(reg1_target_valid, reg1_predictions_valid, TOP_OILWELLS):,} руб.\\n\"\n",
    "      f\"- для Региона 2: {revenue(reg2_target_valid, reg2_predictions_valid, TOP_OILWELLS):,} руб.\\n\"\n",
    "     )"
   ]
  },
  {
   "cell_type": "markdown",
   "metadata": {},
   "source": [
    "Из двухсот скважин с максимальным значением предсказаний, более прибыльным можно отметить `Регион 0`, а менее прибыльным `Регион 1`.  \n",
    "Но так ли это, проведем подсчет риска и прибыли на следующем шаге."
   ]
  },
  {
   "cell_type": "markdown",
   "metadata": {},
   "source": [
    "## Подсчет риска и прибыли"
   ]
  },
  {
   "cell_type": "markdown",
   "metadata": {},
   "source": [
    "Посчитаем риски и прибыль для каждого региона применив технику Bootstrap с 1000 выборок, чтобы найти распределение прибыли.\n",
    "\n",
    "Напишем функцию `bootstrap_revenue` для подсчета прибыли в связке с функцией `bootstrap`"
   ]
  },
  {
   "cell_type": "code",
   "execution_count": 22,
   "metadata": {},
   "outputs": [],
   "source": [
    "def bootstrap_revenue(target, predictions, count):\n",
    "    predicted = predictions.sort_values(ascending=False)\n",
    "    selected = target[predicted.index][:count]\n",
    "    return (PROFIT * selected.sum() - BUDGET)"
   ]
  },
  {
   "cell_type": "markdown",
   "metadata": {},
   "source": [
    "В функции `bootstrap` найдем среднюю прибыль, 95%-й доверительный интервал и риск убытков. Результаты выведем на экран."
   ]
  },
  {
   "cell_type": "code",
   "execution_count": 23,
   "metadata": {},
   "outputs": [],
   "source": [
    "def bootstrap(target, predictions, explored_oilwells, top_oilwells):\n",
    "    state = np.random.RandomState(12345)\n",
    "    values = []\n",
    "\n",
    "    for i in range(1000):\n",
    "        target_subsample = target.reset_index(drop=True).sample(n=explored_oilwells, replace=True, random_state=state)\n",
    "        probs_subsample = predictions[target_subsample.index]\n",
    "        values.append(bootstrap_revenue(target_subsample, probs_subsample, top_oilwells))\n",
    "\n",
    "    values = pd.Series(values)\n",
    "    negative_revenue = (values < 0).sum() / len(values) * 100\n",
    "    lower = round(values.quantile(0.025), 2)\n",
    "    upper = round(values.quantile(0.975), 2)\n",
    "\n",
    "    print(f\"Средняя прибыль: {values.mean():,} рублей\\n\"\n",
    "          f\"95%-ый доверительный интервал: {lower:,} ... {upper:,} рублей\\n\"\n",
    "          f\"Процент риска убытков в регионе: {negative_revenue}%\")"
   ]
  },
  {
   "cell_type": "markdown",
   "metadata": {},
   "source": [
    "Риски и прибыль для `Региона 0`"
   ]
  },
  {
   "cell_type": "code",
   "execution_count": 24,
   "metadata": {},
   "outputs": [
    {
     "name": "stdout",
     "output_type": "stream",
     "text": [
      "Средняя прибыль: 425,938,526.9105923 рублей\n",
      "95%-ый доверительный интервал: -102,090,094.84 ... 947,976,353.36 рублей\n",
      "Процент риска убытков в регионе: 6.0%\n"
     ]
    }
   ],
   "source": [
    "bootstrap(reg0_target_valid, reg0_predictions_valid, EXPLORED_OILWELLS, TOP_OILWELLS)"
   ]
  },
  {
   "cell_type": "markdown",
   "metadata": {},
   "source": [
    "Риски и прибыль для `Региона 1`"
   ]
  },
  {
   "cell_type": "code",
   "execution_count": 25,
   "metadata": {},
   "outputs": [
    {
     "name": "stdout",
     "output_type": "stream",
     "text": [
      "Средняя прибыль: 515,222,773.44328994 рублей\n",
      "95%-ый доверительный интервал: 68,873,225.37 ... 931,547,591.26 рублей\n",
      "Процент риска убытков в регионе: 1.0%\n"
     ]
    }
   ],
   "source": [
    "bootstrap(reg1_target_valid, reg1_predictions_valid, EXPLORED_OILWELLS, TOP_OILWELLS)"
   ]
  },
  {
   "cell_type": "markdown",
   "metadata": {},
   "source": [
    "Риски и прибыль для `Региона 2`"
   ]
  },
  {
   "cell_type": "code",
   "execution_count": 26,
   "metadata": {},
   "outputs": [
    {
     "name": "stdout",
     "output_type": "stream",
     "text": [
      "Средняя прибыль: 435,008,362.78275555 рублей\n",
      "95%-ый доверительный интервал: -128,880,547.33 ... 969,706,954.18 рублей\n",
      "Процент риска убытков в регионе: 6.4%\n"
     ]
    }
   ],
   "source": [
    "bootstrap(reg2_target_valid, reg2_predictions_valid, EXPLORED_OILWELLS, TOP_OILWELLS)"
   ]
  },
  {
   "cell_type": "markdown",
   "metadata": {},
   "source": [
    "## Выводы"
   ]
  },
  {
   "cell_type": "markdown",
   "metadata": {},
   "source": [
    "Проведя исследования данных трех регионов, обучив модели линейной регресии и проверив возможные не только прибыль но и риски, остановим выбор на `Регионе 1`, имеено он подходит для разработки месторождения.<br>\n",
    "\n",
    "В этом регионе получилась наибольшая средняя выручка с 1 скважины `515,222,773` рублей и доля скважин, которые могут принести убыток всего `1 %`. <br>\n",
    "95% доверительный интервал говорит о том, что существует высокая вероятность того, что реальная прибыль будет в пределах диапазона `68,873,225` - `931,547,591` рублей."
   ]
  }
 ],
 "metadata": {
  "ExecuteTimeLog": [
   {
    "duration": 527,
    "start_time": "2022-01-31T11:52:53.796Z"
   },
   {
    "duration": 327,
    "start_time": "2022-01-31T11:53:45.099Z"
   },
   {
    "duration": 263,
    "start_time": "2022-01-31T11:53:56.007Z"
   },
   {
    "duration": 297,
    "start_time": "2022-01-31T11:54:09.680Z"
   },
   {
    "duration": 142,
    "start_time": "2022-01-31T11:54:14.745Z"
   },
   {
    "duration": 141,
    "start_time": "2022-01-31T11:54:53.892Z"
   },
   {
    "duration": 143,
    "start_time": "2022-01-31T11:54:54.551Z"
   },
   {
    "duration": 203,
    "start_time": "2022-01-31T11:54:55.299Z"
   },
   {
    "duration": 318,
    "start_time": "2022-02-01T08:46:43.352Z"
   },
   {
    "duration": 606,
    "start_time": "2022-02-01T08:46:49.891Z"
   },
   {
    "duration": 3,
    "start_time": "2022-02-01T08:46:51.455Z"
   },
   {
    "duration": 333,
    "start_time": "2022-02-01T08:46:52.600Z"
   },
   {
    "duration": 345,
    "start_time": "2022-02-01T09:01:06.783Z"
   },
   {
    "duration": 373,
    "start_time": "2022-02-01T09:01:17.544Z"
   },
   {
    "duration": 357,
    "start_time": "2022-02-01T09:01:23.897Z"
   },
   {
    "duration": 342,
    "start_time": "2022-02-01T09:02:01.471Z"
   },
   {
    "duration": 338,
    "start_time": "2022-02-01T09:02:17.088Z"
   },
   {
    "duration": 97,
    "start_time": "2022-02-01T09:02:26.835Z"
   },
   {
    "duration": 362,
    "start_time": "2022-02-01T09:02:34.025Z"
   },
   {
    "duration": 352,
    "start_time": "2022-02-01T09:03:40.432Z"
   },
   {
    "duration": 335,
    "start_time": "2022-02-01T09:04:07.359Z"
   },
   {
    "duration": 301,
    "start_time": "2022-02-01T09:04:24.887Z"
   },
   {
    "duration": 7,
    "start_time": "2022-02-01T09:04:31.708Z"
   },
   {
    "duration": 343,
    "start_time": "2022-02-01T09:04:46.402Z"
   },
   {
    "duration": 333,
    "start_time": "2022-02-01T09:05:06.257Z"
   },
   {
    "duration": 3,
    "start_time": "2022-02-01T09:05:16.375Z"
   },
   {
    "duration": 346,
    "start_time": "2022-02-01T09:05:16.380Z"
   },
   {
    "duration": 9,
    "start_time": "2022-02-01T09:05:16.728Z"
   },
   {
    "duration": 2,
    "start_time": "2022-02-01T09:06:14.970Z"
   },
   {
    "duration": 397,
    "start_time": "2022-02-01T09:06:14.974Z"
   },
   {
    "duration": 32,
    "start_time": "2022-02-01T09:06:15.373Z"
   },
   {
    "duration": 330,
    "start_time": "2022-02-01T09:18:13.356Z"
   },
   {
    "duration": 336,
    "start_time": "2022-02-01T09:18:48.265Z"
   },
   {
    "duration": 354,
    "start_time": "2022-02-01T09:20:43.158Z"
   },
   {
    "duration": 565,
    "start_time": "2022-02-01T09:29:23.034Z"
   },
   {
    "duration": 359,
    "start_time": "2022-02-01T09:29:23.600Z"
   },
   {
    "duration": 26,
    "start_time": "2022-02-01T09:29:23.972Z"
   },
   {
    "duration": 368,
    "start_time": "2022-02-01T09:41:55.245Z"
   },
   {
    "duration": 437,
    "start_time": "2022-02-01T09:42:05.229Z"
   },
   {
    "duration": 355,
    "start_time": "2022-02-01T09:42:05.667Z"
   },
   {
    "duration": 26,
    "start_time": "2022-02-01T09:42:06.024Z"
   },
   {
    "duration": 14,
    "start_time": "2022-02-01T09:42:08.358Z"
   },
   {
    "duration": 10,
    "start_time": "2022-02-01T09:42:13.299Z"
   },
   {
    "duration": 7,
    "start_time": "2022-02-01T09:42:24.278Z"
   },
   {
    "duration": 4,
    "start_time": "2022-02-01T09:42:52.424Z"
   },
   {
    "duration": 3,
    "start_time": "2022-02-01T09:44:05.221Z"
   },
   {
    "duration": 5,
    "start_time": "2022-02-01T09:44:33.732Z"
   },
   {
    "duration": 328,
    "start_time": "2022-02-01T09:48:17.840Z"
   },
   {
    "duration": 3,
    "start_time": "2022-02-01T09:48:30.251Z"
   },
   {
    "duration": 358,
    "start_time": "2022-02-01T09:48:30.255Z"
   },
   {
    "duration": 24,
    "start_time": "2022-02-01T09:48:30.615Z"
   },
   {
    "duration": 33,
    "start_time": "2022-02-01T09:48:30.641Z"
   },
   {
    "duration": 310,
    "start_time": "2022-02-01T09:48:32.850Z"
   },
   {
    "duration": 10,
    "start_time": "2022-02-01T09:51:02.977Z"
   },
   {
    "duration": 4,
    "start_time": "2022-02-01T09:51:10.196Z"
   },
   {
    "duration": 4,
    "start_time": "2022-02-01T09:51:11.738Z"
   },
   {
    "duration": 4,
    "start_time": "2022-02-01T09:51:13.348Z"
   },
   {
    "duration": 5,
    "start_time": "2022-02-01T10:07:59.593Z"
   },
   {
    "duration": 3,
    "start_time": "2022-02-01T10:08:24.409Z"
   },
   {
    "duration": 4,
    "start_time": "2022-02-01T10:10:27.116Z"
   },
   {
    "duration": 281,
    "start_time": "2022-02-01T10:10:37.505Z"
   },
   {
    "duration": 299,
    "start_time": "2022-02-01T15:06:19.910Z"
   },
   {
    "duration": 5,
    "start_time": "2022-02-01T15:06:40.117Z"
   },
   {
    "duration": 2,
    "start_time": "2022-02-01T15:11:05.374Z"
   },
   {
    "duration": 343,
    "start_time": "2022-02-01T15:11:05.378Z"
   },
   {
    "duration": 320,
    "start_time": "2022-02-01T15:11:05.723Z"
   },
   {
    "duration": 25,
    "start_time": "2022-02-01T15:11:06.020Z"
   },
   {
    "duration": 2,
    "start_time": "2022-02-01T15:11:09.109Z"
   },
   {
    "duration": 292,
    "start_time": "2022-02-01T15:11:09.893Z"
   },
   {
    "duration": 336,
    "start_time": "2022-02-01T15:11:45.584Z"
   },
   {
    "duration": 32,
    "start_time": "2022-02-01T15:11:50.746Z"
   },
   {
    "duration": 2,
    "start_time": "2022-02-01T15:11:55.836Z"
   },
   {
    "duration": 21,
    "start_time": "2022-02-01T15:11:56.599Z"
   },
   {
    "duration": 8,
    "start_time": "2022-02-01T15:11:59.094Z"
   },
   {
    "duration": 4,
    "start_time": "2022-02-01T15:12:00.518Z"
   },
   {
    "duration": 3,
    "start_time": "2022-02-01T15:12:01.883Z"
   },
   {
    "duration": 6,
    "start_time": "2022-02-01T15:12:03.690Z"
   },
   {
    "duration": 387,
    "start_time": "2022-02-01T15:22:03.677Z"
   },
   {
    "duration": 3,
    "start_time": "2022-02-01T15:22:09.501Z"
   },
   {
    "duration": 353,
    "start_time": "2022-02-01T15:22:09.506Z"
   },
   {
    "duration": 29,
    "start_time": "2022-02-01T15:22:09.861Z"
   },
   {
    "duration": 2,
    "start_time": "2022-02-01T15:22:09.891Z"
   },
   {
    "duration": 13,
    "start_time": "2022-02-01T15:22:09.895Z"
   },
   {
    "duration": 10,
    "start_time": "2022-02-01T15:22:09.909Z"
   },
   {
    "duration": 4,
    "start_time": "2022-02-01T15:22:09.920Z"
   },
   {
    "duration": 6,
    "start_time": "2022-02-01T15:22:12.355Z"
   },
   {
    "duration": 6,
    "start_time": "2022-02-01T15:24:49.130Z"
   },
   {
    "duration": 13,
    "start_time": "2022-02-01T15:29:10.433Z"
   },
   {
    "duration": 18,
    "start_time": "2022-02-01T15:29:11.110Z"
   },
   {
    "duration": 2,
    "start_time": "2022-02-01T15:46:33.187Z"
   },
   {
    "duration": 338,
    "start_time": "2022-02-01T15:46:33.191Z"
   },
   {
    "duration": 25,
    "start_time": "2022-02-01T15:46:33.530Z"
   },
   {
    "duration": 26,
    "start_time": "2022-02-01T15:46:33.557Z"
   },
   {
    "duration": 11,
    "start_time": "2022-02-01T15:46:33.584Z"
   },
   {
    "duration": 12,
    "start_time": "2022-02-01T15:46:33.596Z"
   },
   {
    "duration": 9,
    "start_time": "2022-02-01T15:46:33.610Z"
   },
   {
    "duration": 9,
    "start_time": "2022-02-01T15:46:33.620Z"
   },
   {
    "duration": 40,
    "start_time": "2022-02-01T15:46:33.632Z"
   },
   {
    "duration": 13,
    "start_time": "2022-02-01T15:46:33.674Z"
   },
   {
    "duration": 82,
    "start_time": "2022-02-01T15:46:33.694Z"
   },
   {
    "duration": 94,
    "start_time": "2022-02-01T15:46:33.778Z"
   },
   {
    "duration": 9,
    "start_time": "2022-02-01T15:46:33.874Z"
   },
   {
    "duration": 89,
    "start_time": "2022-02-01T15:46:33.886Z"
   },
   {
    "duration": 5,
    "start_time": "2022-02-01T15:46:37.190Z"
   },
   {
    "duration": 5,
    "start_time": "2022-02-01T15:46:37.972Z"
   },
   {
    "duration": 5,
    "start_time": "2022-02-01T15:48:33.911Z"
   },
   {
    "duration": 4,
    "start_time": "2022-02-01T15:48:34.529Z"
   },
   {
    "duration": 5,
    "start_time": "2022-02-01T15:48:35.013Z"
   },
   {
    "duration": 5,
    "start_time": "2022-02-01T15:49:00.643Z"
   },
   {
    "duration": 5,
    "start_time": "2022-02-01T15:49:01.195Z"
   },
   {
    "duration": 5,
    "start_time": "2022-02-01T15:49:01.748Z"
   },
   {
    "duration": 5,
    "start_time": "2022-02-01T15:50:13.338Z"
   },
   {
    "duration": 5,
    "start_time": "2022-02-01T17:37:48.468Z"
   },
   {
    "duration": 3,
    "start_time": "2022-02-01T17:45:38.998Z"
   },
   {
    "duration": 4,
    "start_time": "2022-02-01T17:46:54.283Z"
   },
   {
    "duration": 5,
    "start_time": "2022-02-01T17:47:57.443Z"
   },
   {
    "duration": 4,
    "start_time": "2022-02-01T17:47:58.148Z"
   },
   {
    "duration": 3,
    "start_time": "2022-02-01T17:48:34.906Z"
   },
   {
    "duration": 4,
    "start_time": "2022-02-01T17:48:35.413Z"
   },
   {
    "duration": 4,
    "start_time": "2022-02-01T17:48:36.122Z"
   },
   {
    "duration": 4,
    "start_time": "2022-02-01T17:48:36.513Z"
   },
   {
    "duration": 3,
    "start_time": "2022-02-01T17:50:13.348Z"
   },
   {
    "duration": 4,
    "start_time": "2022-02-01T17:50:13.967Z"
   },
   {
    "duration": 5,
    "start_time": "2022-02-01T17:50:14.779Z"
   },
   {
    "duration": 4,
    "start_time": "2022-02-01T17:50:15.275Z"
   },
   {
    "duration": 3,
    "start_time": "2022-02-01T17:55:07.135Z"
   },
   {
    "duration": 4,
    "start_time": "2022-02-01T17:55:07.785Z"
   },
   {
    "duration": 4,
    "start_time": "2022-02-01T17:55:22.170Z"
   },
   {
    "duration": 4,
    "start_time": "2022-02-01T17:55:23.512Z"
   },
   {
    "duration": 3,
    "start_time": "2022-02-01T17:55:37.294Z"
   },
   {
    "duration": 5,
    "start_time": "2022-02-01T17:55:37.766Z"
   },
   {
    "duration": 3,
    "start_time": "2022-02-01T17:55:48.730Z"
   },
   {
    "duration": 5,
    "start_time": "2022-02-01T17:55:50.990Z"
   },
   {
    "duration": 5,
    "start_time": "2022-02-01T17:55:52.011Z"
   },
   {
    "duration": 4,
    "start_time": "2022-02-01T17:55:52.719Z"
   },
   {
    "duration": 2,
    "start_time": "2022-02-01T18:14:49.001Z"
   },
   {
    "duration": 303,
    "start_time": "2022-02-01T18:14:50.136Z"
   },
   {
    "duration": 512,
    "start_time": "2022-02-01T18:18:16.905Z"
   },
   {
    "duration": 2,
    "start_time": "2022-02-01T18:18:25.223Z"
   },
   {
    "duration": 3,
    "start_time": "2022-02-01T18:18:26.428Z"
   },
   {
    "duration": 2,
    "start_time": "2022-02-01T18:23:05.694Z"
   },
   {
    "duration": 3,
    "start_time": "2022-02-01T18:23:07.166Z"
   },
   {
    "duration": 2,
    "start_time": "2022-02-01T18:24:02.302Z"
   },
   {
    "duration": 4,
    "start_time": "2022-02-01T18:24:09.196Z"
   },
   {
    "duration": 4,
    "start_time": "2022-02-01T18:29:11.976Z"
   },
   {
    "duration": 4,
    "start_time": "2022-02-01T18:29:35.638Z"
   },
   {
    "duration": 3,
    "start_time": "2022-02-01T18:29:40.448Z"
   },
   {
    "duration": 5,
    "start_time": "2022-02-01T18:34:26.153Z"
   },
   {
    "duration": 6,
    "start_time": "2022-02-01T18:35:31.265Z"
   },
   {
    "duration": 6,
    "start_time": "2022-02-01T18:36:01.938Z"
   },
   {
    "duration": 5,
    "start_time": "2022-02-01T18:36:23.455Z"
   },
   {
    "duration": 952,
    "start_time": "2022-02-01T18:36:36.717Z"
   },
   {
    "duration": 357,
    "start_time": "2022-02-01T18:36:37.672Z"
   },
   {
    "duration": 45,
    "start_time": "2022-02-01T18:36:38.031Z"
   },
   {
    "duration": 12,
    "start_time": "2022-02-01T18:36:38.078Z"
   },
   {
    "duration": 14,
    "start_time": "2022-02-01T18:36:38.092Z"
   },
   {
    "duration": 14,
    "start_time": "2022-02-01T18:36:38.108Z"
   },
   {
    "duration": 11,
    "start_time": "2022-02-01T18:36:38.124Z"
   },
   {
    "duration": 8,
    "start_time": "2022-02-01T18:36:38.137Z"
   },
   {
    "duration": 8,
    "start_time": "2022-02-01T18:36:38.172Z"
   },
   {
    "duration": 10,
    "start_time": "2022-02-01T18:36:38.182Z"
   },
   {
    "duration": 81,
    "start_time": "2022-02-01T18:36:38.194Z"
   },
   {
    "duration": 95,
    "start_time": "2022-02-01T18:36:38.277Z"
   },
   {
    "duration": 4,
    "start_time": "2022-02-01T18:36:38.376Z"
   },
   {
    "duration": 7,
    "start_time": "2022-02-01T18:36:38.472Z"
   },
   {
    "duration": 4,
    "start_time": "2022-02-01T18:36:38.481Z"
   },
   {
    "duration": 4,
    "start_time": "2022-02-01T18:36:38.486Z"
   },
   {
    "duration": 3,
    "start_time": "2022-02-01T18:36:38.491Z"
   },
   {
    "duration": 8,
    "start_time": "2022-02-01T18:36:38.495Z"
   },
   {
    "duration": 11,
    "start_time": "2022-02-01T18:36:38.505Z"
   },
   {
    "duration": 5,
    "start_time": "2022-02-01T18:40:18.521Z"
   },
   {
    "duration": 5,
    "start_time": "2022-02-01T18:40:33.414Z"
   },
   {
    "duration": 5,
    "start_time": "2022-02-01T18:41:24.744Z"
   },
   {
    "duration": 5,
    "start_time": "2022-02-01T18:41:48.386Z"
   },
   {
    "duration": 5,
    "start_time": "2022-02-01T18:42:53.732Z"
   },
   {
    "duration": 100,
    "start_time": "2022-02-01T18:44:02.570Z"
   },
   {
    "duration": 119,
    "start_time": "2022-02-01T18:45:57.187Z"
   },
   {
    "duration": 375,
    "start_time": "2022-02-01T18:46:02.251Z"
   },
   {
    "duration": 6,
    "start_time": "2022-02-01T18:46:38.522Z"
   },
   {
    "duration": 6,
    "start_time": "2022-02-01T19:08:58.705Z"
   },
   {
    "duration": 5,
    "start_time": "2022-02-01T19:09:12.823Z"
   },
   {
    "duration": 5,
    "start_time": "2022-02-01T19:09:16.066Z"
   },
   {
    "duration": 5,
    "start_time": "2022-02-01T19:09:20.043Z"
   },
   {
    "duration": 3,
    "start_time": "2022-02-01T19:27:56.518Z"
   },
   {
    "duration": 145,
    "start_time": "2022-02-01T19:27:57.599Z"
   },
   {
    "duration": 7,
    "start_time": "2022-02-01T19:28:05.795Z"
   },
   {
    "duration": 310,
    "start_time": "2022-02-01T19:30:19.125Z"
   },
   {
    "duration": 703,
    "start_time": "2022-02-01T19:31:01.801Z"
   },
   {
    "duration": 3,
    "start_time": "2022-02-01T19:33:04.244Z"
   },
   {
    "duration": 578,
    "start_time": "2022-02-01T19:33:05.174Z"
   },
   {
    "duration": 597,
    "start_time": "2022-02-01T19:33:20.838Z"
   },
   {
    "duration": 4,
    "start_time": "2022-02-01T19:33:41.614Z"
   },
   {
    "duration": 609,
    "start_time": "2022-02-01T19:33:42.540Z"
   },
   {
    "duration": 3,
    "start_time": "2022-02-01T19:34:16.715Z"
   },
   {
    "duration": 610,
    "start_time": "2022-02-01T19:34:17.215Z"
   },
   {
    "duration": 3,
    "start_time": "2022-02-01T19:34:40.495Z"
   },
   {
    "duration": 649,
    "start_time": "2022-02-01T19:34:41.108Z"
   },
   {
    "duration": 5,
    "start_time": "2022-02-01T19:35:16.293Z"
   },
   {
    "duration": 4586,
    "start_time": "2022-02-01T19:35:17.341Z"
   },
   {
    "duration": 963,
    "start_time": "2022-02-02T07:11:39.011Z"
   },
   {
    "duration": 355,
    "start_time": "2022-02-02T07:11:39.976Z"
   },
   {
    "duration": 39,
    "start_time": "2022-02-02T07:11:40.333Z"
   },
   {
    "duration": 14,
    "start_time": "2022-02-02T07:11:40.374Z"
   },
   {
    "duration": 15,
    "start_time": "2022-02-02T07:11:40.389Z"
   },
   {
    "duration": 14,
    "start_time": "2022-02-02T07:11:40.406Z"
   },
   {
    "duration": 11,
    "start_time": "2022-02-02T07:11:40.421Z"
   },
   {
    "duration": 7,
    "start_time": "2022-02-02T07:11:40.433Z"
   },
   {
    "duration": 8,
    "start_time": "2022-02-02T07:11:40.472Z"
   },
   {
    "duration": 11,
    "start_time": "2022-02-02T07:11:40.481Z"
   },
   {
    "duration": 6,
    "start_time": "2022-02-02T07:11:40.571Z"
   },
   {
    "duration": 93,
    "start_time": "2022-02-02T07:11:40.579Z"
   },
   {
    "duration": 5,
    "start_time": "2022-02-02T07:11:40.675Z"
   },
   {
    "duration": 94,
    "start_time": "2022-02-02T07:11:40.682Z"
   },
   {
    "duration": 5,
    "start_time": "2022-02-02T07:11:40.777Z"
   },
   {
    "duration": 6,
    "start_time": "2022-02-02T07:11:40.784Z"
   },
   {
    "duration": 3,
    "start_time": "2022-02-02T07:11:40.791Z"
   },
   {
    "duration": 4,
    "start_time": "2022-02-02T07:11:40.795Z"
   },
   {
    "duration": 5,
    "start_time": "2022-02-02T07:11:40.801Z"
   },
   {
    "duration": 5,
    "start_time": "2022-02-02T07:11:40.807Z"
   },
   {
    "duration": 3,
    "start_time": "2022-02-02T07:11:42.040Z"
   },
   {
    "duration": 3,
    "start_time": "2022-02-02T07:11:42.633Z"
   },
   {
    "duration": 670,
    "start_time": "2022-02-02T07:11:43.302Z"
   },
   {
    "duration": 3,
    "start_time": "2022-02-02T07:12:41.926Z"
   },
   {
    "duration": 696,
    "start_time": "2022-02-02T07:12:42.590Z"
   },
   {
    "duration": 5,
    "start_time": "2022-02-02T07:32:33.402Z"
   },
   {
    "duration": 4,
    "start_time": "2022-02-02T07:32:34.436Z"
   },
   {
    "duration": 8,
    "start_time": "2022-02-02T07:32:35.048Z"
   },
   {
    "duration": 4,
    "start_time": "2022-02-02T07:32:36.271Z"
   },
   {
    "duration": 5,
    "start_time": "2022-02-02T07:32:36.829Z"
   },
   {
    "duration": 3,
    "start_time": "2022-02-02T07:32:56.775Z"
   },
   {
    "duration": 505,
    "start_time": "2022-02-02T07:32:56.779Z"
   },
   {
    "duration": 36,
    "start_time": "2022-02-02T07:32:57.287Z"
   },
   {
    "duration": 13,
    "start_time": "2022-02-02T07:32:57.326Z"
   },
   {
    "duration": 41,
    "start_time": "2022-02-02T07:32:57.340Z"
   },
   {
    "duration": 12,
    "start_time": "2022-02-02T07:32:57.383Z"
   },
   {
    "duration": 7,
    "start_time": "2022-02-02T07:32:57.397Z"
   },
   {
    "duration": 8,
    "start_time": "2022-02-02T07:32:57.406Z"
   },
   {
    "duration": 8,
    "start_time": "2022-02-02T07:32:57.415Z"
   },
   {
    "duration": 55,
    "start_time": "2022-02-02T07:32:57.424Z"
   },
   {
    "duration": 93,
    "start_time": "2022-02-02T07:32:57.481Z"
   },
   {
    "duration": 22,
    "start_time": "2022-02-02T07:32:57.577Z"
   },
   {
    "duration": 4,
    "start_time": "2022-02-02T07:32:57.673Z"
   },
   {
    "duration": 93,
    "start_time": "2022-02-02T07:32:57.679Z"
   },
   {
    "duration": 4,
    "start_time": "2022-02-02T07:32:57.774Z"
   },
   {
    "duration": 4,
    "start_time": "2022-02-02T07:32:57.779Z"
   },
   {
    "duration": 2,
    "start_time": "2022-02-02T07:32:57.785Z"
   },
   {
    "duration": 5,
    "start_time": "2022-02-02T07:32:57.788Z"
   },
   {
    "duration": 5,
    "start_time": "2022-02-02T07:33:00.339Z"
   },
   {
    "duration": 3,
    "start_time": "2022-02-02T07:33:04.725Z"
   },
   {
    "duration": 682,
    "start_time": "2022-02-02T07:33:05.368Z"
   },
   {
    "duration": 3,
    "start_time": "2022-02-02T07:33:44.587Z"
   },
   {
    "duration": 8,
    "start_time": "2022-02-02T07:33:45.142Z"
   },
   {
    "duration": 2,
    "start_time": "2022-02-02T07:34:32.377Z"
   },
   {
    "duration": 8,
    "start_time": "2022-02-02T07:34:32.893Z"
   },
   {
    "duration": 4,
    "start_time": "2022-02-02T07:35:33.702Z"
   },
   {
    "duration": 2,
    "start_time": "2022-02-02T07:39:47.439Z"
   },
   {
    "duration": 8,
    "start_time": "2022-02-02T07:39:48.119Z"
   },
   {
    "duration": 7,
    "start_time": "2022-02-02T07:40:27.728Z"
   },
   {
    "duration": 9,
    "start_time": "2022-02-02T07:40:28.312Z"
   },
   {
    "duration": 8,
    "start_time": "2022-02-02T07:57:44.717Z"
   },
   {
    "duration": 15,
    "start_time": "2022-02-02T07:58:35.977Z"
   },
   {
    "duration": 14,
    "start_time": "2022-02-02T07:58:45.389Z"
   },
   {
    "duration": 15,
    "start_time": "2022-02-02T07:58:50.154Z"
   },
   {
    "duration": 14,
    "start_time": "2022-02-02T08:02:42.808Z"
   },
   {
    "duration": 3,
    "start_time": "2022-02-02T08:03:00.925Z"
   },
   {
    "duration": 14,
    "start_time": "2022-02-02T08:03:01.465Z"
   },
   {
    "duration": 3,
    "start_time": "2022-02-02T08:03:18.464Z"
   },
   {
    "duration": 16,
    "start_time": "2022-02-02T08:03:19.009Z"
   },
   {
    "duration": 3,
    "start_time": "2022-02-02T08:03:27.454Z"
   },
   {
    "duration": 15,
    "start_time": "2022-02-02T08:03:28.037Z"
   },
   {
    "duration": 3,
    "start_time": "2022-02-02T08:03:51.041Z"
   },
   {
    "duration": 15,
    "start_time": "2022-02-02T08:03:51.597Z"
   },
   {
    "duration": 15,
    "start_time": "2022-02-02T08:06:24.938Z"
   },
   {
    "duration": 3,
    "start_time": "2022-02-02T08:06:31.070Z"
   },
   {
    "duration": 15,
    "start_time": "2022-02-02T08:06:32.445Z"
   },
   {
    "duration": 15,
    "start_time": "2022-02-02T08:06:40.955Z"
   },
   {
    "duration": 16,
    "start_time": "2022-02-02T08:07:09.232Z"
   },
   {
    "duration": 3,
    "start_time": "2022-02-02T08:07:32.603Z"
   },
   {
    "duration": 5,
    "start_time": "2022-02-02T08:07:36.347Z"
   },
   {
    "duration": 5,
    "start_time": "2022-02-02T08:07:47.483Z"
   },
   {
    "duration": 15,
    "start_time": "2022-02-02T08:08:10.375Z"
   },
   {
    "duration": 5,
    "start_time": "2022-02-02T08:15:00.488Z"
   },
   {
    "duration": 6,
    "start_time": "2022-02-02T08:16:51.924Z"
   },
   {
    "duration": 316,
    "start_time": "2022-02-02T08:17:03.025Z"
   },
   {
    "duration": 746,
    "start_time": "2022-02-02T08:18:05.199Z"
   },
   {
    "duration": 2,
    "start_time": "2022-02-02T08:19:11.169Z"
   },
   {
    "duration": 6,
    "start_time": "2022-02-02T08:19:17.459Z"
   },
   {
    "duration": 625,
    "start_time": "2022-02-02T08:19:18.052Z"
   },
   {
    "duration": 6,
    "start_time": "2022-02-02T08:20:57.339Z"
   },
   {
    "duration": 949,
    "start_time": "2022-02-02T08:20:58.045Z"
   },
   {
    "duration": 5,
    "start_time": "2022-02-02T08:22:37.469Z"
   },
   {
    "duration": 1004,
    "start_time": "2022-02-02T08:22:38.089Z"
   },
   {
    "duration": 2,
    "start_time": "2022-02-02T08:29:07.172Z"
   },
   {
    "duration": 2,
    "start_time": "2022-02-02T08:29:08.105Z"
   },
   {
    "duration": 294,
    "start_time": "2022-02-02T08:34:26.434Z"
   },
   {
    "duration": 484,
    "start_time": "2022-02-02T08:35:26.535Z"
   },
   {
    "duration": 377,
    "start_time": "2022-02-02T08:35:38.523Z"
   },
   {
    "duration": 363,
    "start_time": "2022-02-02T08:36:29.730Z"
   },
   {
    "duration": 3,
    "start_time": "2022-02-02T08:36:37.112Z"
   },
   {
    "duration": 371,
    "start_time": "2022-02-02T08:36:37.117Z"
   },
   {
    "duration": 28,
    "start_time": "2022-02-02T08:36:37.490Z"
   },
   {
    "duration": 22,
    "start_time": "2022-02-02T08:36:37.519Z"
   },
   {
    "duration": 38,
    "start_time": "2022-02-02T08:36:37.542Z"
   },
   {
    "duration": 31,
    "start_time": "2022-02-02T08:36:37.581Z"
   },
   {
    "duration": 27,
    "start_time": "2022-02-02T08:36:37.614Z"
   },
   {
    "duration": 15,
    "start_time": "2022-02-02T08:36:37.644Z"
   },
   {
    "duration": 30,
    "start_time": "2022-02-02T08:36:37.661Z"
   },
   {
    "duration": 6,
    "start_time": "2022-02-02T08:36:37.692Z"
   },
   {
    "duration": 79,
    "start_time": "2022-02-02T08:36:37.700Z"
   },
   {
    "duration": 193,
    "start_time": "2022-02-02T08:36:37.781Z"
   },
   {
    "duration": 96,
    "start_time": "2022-02-02T08:36:37.976Z"
   },
   {
    "duration": 100,
    "start_time": "2022-02-02T08:36:38.074Z"
   },
   {
    "duration": 21,
    "start_time": "2022-02-02T08:36:38.176Z"
   },
   {
    "duration": 13,
    "start_time": "2022-02-02T08:36:38.199Z"
   },
   {
    "duration": 20,
    "start_time": "2022-02-02T08:36:38.214Z"
   },
   {
    "duration": 13,
    "start_time": "2022-02-02T08:36:38.236Z"
   },
   {
    "duration": 27,
    "start_time": "2022-02-02T08:36:38.250Z"
   },
   {
    "duration": 26,
    "start_time": "2022-02-02T08:36:38.279Z"
   },
   {
    "duration": 24,
    "start_time": "2022-02-02T08:36:38.306Z"
   },
   {
    "duration": 316,
    "start_time": "2022-02-02T08:36:41.601Z"
   },
   {
    "duration": 1482,
    "start_time": "2022-02-02T08:37:54.731Z"
   },
   {
    "duration": 628,
    "start_time": "2022-02-02T09:23:46.896Z"
   },
   {
    "duration": 5,
    "start_time": "2022-02-02T09:23:49.101Z"
   },
   {
    "duration": 636,
    "start_time": "2022-02-02T09:23:49.826Z"
   },
   {
    "duration": 6,
    "start_time": "2022-02-02T09:24:41.476Z"
   },
   {
    "duration": 3908,
    "start_time": "2022-02-02T09:24:42.090Z"
   },
   {
    "duration": 2,
    "start_time": "2022-02-02T09:25:55.221Z"
   },
   {
    "duration": 5,
    "start_time": "2022-02-02T09:26:01.029Z"
   },
   {
    "duration": 3694,
    "start_time": "2022-02-02T09:26:01.739Z"
   },
   {
    "duration": 5,
    "start_time": "2022-02-02T09:26:54.209Z"
   },
   {
    "duration": 3896,
    "start_time": "2022-02-02T09:26:55.536Z"
   },
   {
    "duration": 5,
    "start_time": "2022-02-02T09:28:12.588Z"
   },
   {
    "duration": 3093,
    "start_time": "2022-02-02T09:28:13.172Z"
   },
   {
    "duration": 304,
    "start_time": "2022-02-02T09:31:21.449Z"
   },
   {
    "duration": 5,
    "start_time": "2022-02-02T09:31:25.691Z"
   },
   {
    "duration": 670,
    "start_time": "2022-02-02T09:31:26.427Z"
   },
   {
    "duration": 4,
    "start_time": "2022-02-02T09:32:34.093Z"
   },
   {
    "duration": 677,
    "start_time": "2022-02-02T09:32:35.258Z"
   },
   {
    "duration": 4,
    "start_time": "2022-02-02T09:33:24.593Z"
   },
   {
    "duration": 665,
    "start_time": "2022-02-02T09:33:25.209Z"
   },
   {
    "duration": 4,
    "start_time": "2022-02-02T09:33:59.373Z"
   },
   {
    "duration": 731,
    "start_time": "2022-02-02T09:34:00.142Z"
   },
   {
    "duration": 5,
    "start_time": "2022-02-02T09:34:22.173Z"
   },
   {
    "duration": 623,
    "start_time": "2022-02-02T09:34:22.796Z"
   },
   {
    "duration": 4,
    "start_time": "2022-02-02T09:34:43.819Z"
   },
   {
    "duration": 949,
    "start_time": "2022-02-02T09:34:44.402Z"
   },
   {
    "duration": 4,
    "start_time": "2022-02-02T09:35:50.140Z"
   },
   {
    "duration": 1886,
    "start_time": "2022-02-02T09:35:51.479Z"
   },
   {
    "duration": 2,
    "start_time": "2022-02-02T09:37:24.642Z"
   },
   {
    "duration": 3253,
    "start_time": "2022-02-02T09:37:27.121Z"
   },
   {
    "duration": 4,
    "start_time": "2022-02-02T09:37:30.376Z"
   },
   {
    "duration": 1328,
    "start_time": "2022-02-02T09:37:30.402Z"
   },
   {
    "duration": 6,
    "start_time": "2022-02-02T09:37:37.440Z"
   },
   {
    "duration": 718,
    "start_time": "2022-02-02T09:37:37.962Z"
   },
   {
    "duration": 3,
    "start_time": "2022-02-02T09:37:55.112Z"
   },
   {
    "duration": 364,
    "start_time": "2022-02-02T09:37:55.116Z"
   },
   {
    "duration": 23,
    "start_time": "2022-02-02T09:37:55.481Z"
   },
   {
    "duration": 26,
    "start_time": "2022-02-02T09:37:55.505Z"
   },
   {
    "duration": 25,
    "start_time": "2022-02-02T09:37:55.532Z"
   },
   {
    "duration": 50,
    "start_time": "2022-02-02T09:37:55.558Z"
   },
   {
    "duration": 8,
    "start_time": "2022-02-02T09:37:55.609Z"
   },
   {
    "duration": 7,
    "start_time": "2022-02-02T09:37:55.618Z"
   },
   {
    "duration": 7,
    "start_time": "2022-02-02T09:37:55.627Z"
   },
   {
    "duration": 5,
    "start_time": "2022-02-02T09:37:55.636Z"
   },
   {
    "duration": 30,
    "start_time": "2022-02-02T09:37:55.643Z"
   },
   {
    "duration": 8,
    "start_time": "2022-02-02T09:37:55.675Z"
   },
   {
    "duration": 4,
    "start_time": "2022-02-02T09:37:55.773Z"
   },
   {
    "duration": 95,
    "start_time": "2022-02-02T09:37:55.779Z"
   },
   {
    "duration": 4,
    "start_time": "2022-02-02T09:37:55.875Z"
   },
   {
    "duration": 4,
    "start_time": "2022-02-02T09:37:55.880Z"
   },
   {
    "duration": 2,
    "start_time": "2022-02-02T09:37:55.886Z"
   },
   {
    "duration": 6,
    "start_time": "2022-02-02T09:37:55.889Z"
   },
   {
    "duration": 7,
    "start_time": "2022-02-02T09:37:55.896Z"
   },
   {
    "duration": 5,
    "start_time": "2022-02-02T09:37:55.905Z"
   },
   {
    "duration": 20,
    "start_time": "2022-02-02T09:37:55.912Z"
   },
   {
    "duration": 2,
    "start_time": "2022-02-02T09:37:55.933Z"
   },
   {
    "duration": 35,
    "start_time": "2022-02-02T09:37:55.936Z"
   },
   {
    "duration": 2,
    "start_time": "2022-02-02T09:37:57.159Z"
   },
   {
    "duration": 4,
    "start_time": "2022-02-02T09:37:57.673Z"
   },
   {
    "duration": 1363,
    "start_time": "2022-02-02T09:37:58.591Z"
   },
   {
    "duration": 104,
    "start_time": "2022-02-02T09:43:12.932Z"
   },
   {
    "duration": 1389,
    "start_time": "2022-02-02T09:43:27.963Z"
   },
   {
    "duration": 1376,
    "start_time": "2022-02-02T09:43:51.859Z"
   },
   {
    "duration": 1702,
    "start_time": "2022-02-02T09:46:26.937Z"
   },
   {
    "duration": 1360,
    "start_time": "2022-02-02T09:46:46.767Z"
   },
   {
    "duration": 1402,
    "start_time": "2022-02-02T09:49:10.711Z"
   },
   {
    "duration": 1960,
    "start_time": "2022-02-02T09:49:12.114Z"
   },
   {
    "duration": 3125,
    "start_time": "2022-02-02T09:50:00.769Z"
   },
   {
    "duration": 3159,
    "start_time": "2022-02-02T09:54:23.132Z"
   },
   {
    "duration": 2849,
    "start_time": "2022-02-02T09:55:57.388Z"
   },
   {
    "duration": 2904,
    "start_time": "2022-02-02T09:56:38.903Z"
   },
   {
    "duration": 3772,
    "start_time": "2022-02-02T09:57:18.016Z"
   },
   {
    "duration": 2879,
    "start_time": "2022-02-02T09:57:30.552Z"
   },
   {
    "duration": 2882,
    "start_time": "2022-02-02T09:59:06.026Z"
   },
   {
    "duration": 2871,
    "start_time": "2022-02-02T10:00:10.460Z"
   },
   {
    "duration": 3120,
    "start_time": "2022-02-02T10:02:13.490Z"
   },
   {
    "duration": 2972,
    "start_time": "2022-02-02T10:02:31.987Z"
   },
   {
    "duration": 2876,
    "start_time": "2022-02-02T10:04:09.461Z"
   },
   {
    "duration": 5336,
    "start_time": "2022-02-02T10:04:43.166Z"
   },
   {
    "duration": 557,
    "start_time": "2022-02-02T10:08:12.216Z"
   },
   {
    "duration": 3150,
    "start_time": "2022-02-02T10:08:22.440Z"
   },
   {
    "duration": 2907,
    "start_time": "2022-02-02T10:10:14.164Z"
   },
   {
    "duration": 2871,
    "start_time": "2022-02-02T10:15:20.114Z"
   },
   {
    "duration": 2888,
    "start_time": "2022-02-02T10:20:36.277Z"
   },
   {
    "duration": 2885,
    "start_time": "2022-02-02T10:20:56.544Z"
   },
   {
    "duration": 2876,
    "start_time": "2022-02-02T10:21:07.083Z"
   },
   {
    "duration": 3024,
    "start_time": "2022-02-02T10:22:37.047Z"
   },
   {
    "duration": 760,
    "start_time": "2022-02-02T10:22:45.164Z"
   },
   {
    "duration": 2832,
    "start_time": "2022-02-02T10:22:58.976Z"
   },
   {
    "duration": 2822,
    "start_time": "2022-02-02T10:25:05.444Z"
   },
   {
    "duration": 2769,
    "start_time": "2022-02-02T10:25:31.708Z"
   },
   {
    "duration": 2806,
    "start_time": "2022-02-02T10:26:11.213Z"
   },
   {
    "duration": 2848,
    "start_time": "2022-02-02T10:27:11.504Z"
   },
   {
    "duration": 2868,
    "start_time": "2022-02-02T10:29:51.993Z"
   },
   {
    "duration": 2992,
    "start_time": "2022-02-02T10:30:04.840Z"
   },
   {
    "duration": 2879,
    "start_time": "2022-02-02T10:37:04.966Z"
   },
   {
    "duration": 3289,
    "start_time": "2022-02-02T10:42:17.082Z"
   },
   {
    "duration": 2796,
    "start_time": "2022-02-02T10:47:39.205Z"
   },
   {
    "duration": 2850,
    "start_time": "2022-02-02T11:32:37.472Z"
   },
   {
    "duration": 3081,
    "start_time": "2022-02-02T11:42:07.009Z"
   },
   {
    "duration": 2903,
    "start_time": "2022-02-02T11:44:22.130Z"
   },
   {
    "duration": 2827,
    "start_time": "2022-02-02T11:54:14.894Z"
   },
   {
    "duration": 2815,
    "start_time": "2022-02-02T11:54:29.137Z"
   },
   {
    "duration": 3029,
    "start_time": "2022-02-02T11:54:40.196Z"
   },
   {
    "duration": 303,
    "start_time": "2022-02-02T11:56:19.697Z"
   },
   {
    "duration": 4,
    "start_time": "2022-02-02T11:56:29.569Z"
   },
   {
    "duration": 4,
    "start_time": "2022-02-02T11:57:11.528Z"
   },
   {
    "duration": 3,
    "start_time": "2022-02-02T11:59:13.444Z"
   },
   {
    "duration": 302,
    "start_time": "2022-02-02T11:59:14.553Z"
   },
   {
    "duration": 10,
    "start_time": "2022-02-02T11:59:20.742Z"
   },
   {
    "duration": 3,
    "start_time": "2022-02-02T12:01:20.904Z"
   },
   {
    "duration": 10,
    "start_time": "2022-02-02T12:01:21.311Z"
   },
   {
    "duration": 3297,
    "start_time": "2022-02-02T12:02:54.386Z"
   },
   {
    "duration": 3,
    "start_time": "2022-02-02T12:07:52.907Z"
   },
   {
    "duration": 3155,
    "start_time": "2022-02-02T12:07:54.581Z"
   },
   {
    "duration": 3097,
    "start_time": "2022-02-02T12:09:12.970Z"
   },
   {
    "duration": 3,
    "start_time": "2022-02-02T12:28:01.034Z"
   },
   {
    "duration": 7207,
    "start_time": "2022-02-02T12:28:03.028Z"
   },
   {
    "duration": 104,
    "start_time": "2022-02-02T12:29:56.612Z"
   },
   {
    "duration": 3335,
    "start_time": "2022-02-02T12:31:51.872Z"
   },
   {
    "duration": 3091,
    "start_time": "2022-02-02T12:33:03.912Z"
   },
   {
    "duration": 3280,
    "start_time": "2022-02-02T12:34:00.896Z"
   },
   {
    "duration": 99,
    "start_time": "2022-02-02T12:37:44.669Z"
   },
   {
    "duration": 4,
    "start_time": "2022-02-02T12:37:51.646Z"
   },
   {
    "duration": 6,
    "start_time": "2022-02-02T12:38:20.205Z"
   },
   {
    "duration": 3152,
    "start_time": "2022-02-02T12:38:20.915Z"
   },
   {
    "duration": 5,
    "start_time": "2022-02-02T12:38:56.096Z"
   },
   {
    "duration": 3065,
    "start_time": "2022-02-02T12:38:56.891Z"
   },
   {
    "duration": 5,
    "start_time": "2022-02-02T12:39:09.129Z"
   },
   {
    "duration": 3114,
    "start_time": "2022-02-02T12:39:09.936Z"
   },
   {
    "duration": 3167,
    "start_time": "2022-02-02T12:40:14.335Z"
   },
   {
    "duration": 3073,
    "start_time": "2022-02-02T12:40:18.685Z"
   },
   {
    "duration": 4,
    "start_time": "2022-02-02T12:42:35.851Z"
   },
   {
    "duration": 3118,
    "start_time": "2022-02-02T12:42:37.216Z"
   },
   {
    "duration": 3756,
    "start_time": "2022-02-02T12:42:42.998Z"
   },
   {
    "duration": 3193,
    "start_time": "2022-02-02T12:42:48.121Z"
   },
   {
    "duration": 5,
    "start_time": "2022-02-02T12:48:13.630Z"
   },
   {
    "duration": 4051,
    "start_time": "2022-02-02T12:48:15.712Z"
   },
   {
    "duration": 4987,
    "start_time": "2022-02-02T12:48:24.198Z"
   },
   {
    "duration": 5044,
    "start_time": "2022-02-02T12:48:30.751Z"
   },
   {
    "duration": 3,
    "start_time": "2022-02-02T13:11:30.133Z"
   },
   {
    "duration": 3,
    "start_time": "2022-02-02T13:15:57.679Z"
   },
   {
    "duration": 14,
    "start_time": "2022-02-02T13:15:59.304Z"
   },
   {
    "duration": 1036,
    "start_time": "2022-02-02T13:36:25.964Z"
   },
   {
    "duration": 366,
    "start_time": "2022-02-02T13:36:27.002Z"
   },
   {
    "duration": 31,
    "start_time": "2022-02-02T13:36:27.372Z"
   },
   {
    "duration": 16,
    "start_time": "2022-02-02T13:36:27.405Z"
   },
   {
    "duration": 19,
    "start_time": "2022-02-02T13:36:27.423Z"
   },
   {
    "duration": 44,
    "start_time": "2022-02-02T13:36:27.444Z"
   },
   {
    "duration": 13,
    "start_time": "2022-02-02T13:36:27.489Z"
   },
   {
    "duration": 9,
    "start_time": "2022-02-02T13:36:27.504Z"
   },
   {
    "duration": 8,
    "start_time": "2022-02-02T13:36:27.515Z"
   },
   {
    "duration": 147,
    "start_time": "2022-02-02T13:36:27.525Z"
   },
   {
    "duration": 11,
    "start_time": "2022-02-02T13:36:27.674Z"
   },
   {
    "duration": 87,
    "start_time": "2022-02-02T13:36:27.687Z"
   },
   {
    "duration": 6,
    "start_time": "2022-02-02T13:36:27.777Z"
   },
   {
    "duration": 5,
    "start_time": "2022-02-02T13:36:27.872Z"
   },
   {
    "duration": 4,
    "start_time": "2022-02-02T13:36:27.879Z"
   },
   {
    "duration": 5,
    "start_time": "2022-02-02T13:36:27.885Z"
   },
   {
    "duration": 79,
    "start_time": "2022-02-02T13:36:27.892Z"
   },
   {
    "duration": 3,
    "start_time": "2022-02-02T13:36:27.973Z"
   },
   {
    "duration": 7,
    "start_time": "2022-02-02T13:36:27.978Z"
   },
   {
    "duration": 2,
    "start_time": "2022-02-02T13:36:27.987Z"
   },
   {
    "duration": 16,
    "start_time": "2022-02-02T13:36:27.991Z"
   },
   {
    "duration": 3,
    "start_time": "2022-02-02T13:36:28.008Z"
   },
   {
    "duration": 7,
    "start_time": "2022-02-02T13:36:28.012Z"
   },
   {
    "duration": 3065,
    "start_time": "2022-02-02T13:36:28.021Z"
   },
   {
    "duration": 2980,
    "start_time": "2022-02-02T13:36:31.088Z"
   },
   {
    "duration": 2999,
    "start_time": "2022-02-02T13:36:34.072Z"
   },
   {
    "duration": 6,
    "start_time": "2022-02-02T18:51:40.078Z"
   },
   {
    "duration": 283,
    "start_time": "2022-02-02T18:51:47.492Z"
   },
   {
    "duration": 1051,
    "start_time": "2022-02-02T18:51:51.847Z"
   },
   {
    "duration": 399,
    "start_time": "2022-02-02T18:51:52.900Z"
   },
   {
    "duration": 35,
    "start_time": "2022-02-02T18:51:53.301Z"
   },
   {
    "duration": 17,
    "start_time": "2022-02-02T18:51:53.338Z"
   },
   {
    "duration": 17,
    "start_time": "2022-02-02T18:51:53.357Z"
   },
   {
    "duration": 46,
    "start_time": "2022-02-02T18:51:53.375Z"
   },
   {
    "duration": 13,
    "start_time": "2022-02-02T18:51:53.423Z"
   },
   {
    "duration": 10,
    "start_time": "2022-02-02T18:51:53.437Z"
   },
   {
    "duration": 9,
    "start_time": "2022-02-02T18:51:53.449Z"
   },
   {
    "duration": 159,
    "start_time": "2022-02-02T18:51:53.460Z"
   },
   {
    "duration": 5,
    "start_time": "2022-02-02T18:51:53.620Z"
   },
   {
    "duration": 9,
    "start_time": "2022-02-02T18:51:53.627Z"
   },
   {
    "duration": 6,
    "start_time": "2022-02-02T18:51:53.720Z"
   },
   {
    "duration": 93,
    "start_time": "2022-02-02T18:51:53.728Z"
   },
   {
    "duration": 7,
    "start_time": "2022-02-02T18:51:53.823Z"
   },
   {
    "duration": 10,
    "start_time": "2022-02-02T18:51:53.832Z"
   },
   {
    "duration": 10,
    "start_time": "2022-02-02T18:51:53.844Z"
   },
   {
    "duration": 13,
    "start_time": "2022-02-02T18:51:53.855Z"
   },
   {
    "duration": 12,
    "start_time": "2022-02-02T18:51:53.870Z"
   },
   {
    "duration": 6,
    "start_time": "2022-02-02T18:51:53.884Z"
   },
   {
    "duration": 29,
    "start_time": "2022-02-02T18:51:53.892Z"
   },
   {
    "duration": 3,
    "start_time": "2022-02-02T18:51:53.923Z"
   },
   {
    "duration": 5,
    "start_time": "2022-02-02T18:51:56.744Z"
   },
   {
    "duration": 3333,
    "start_time": "2022-02-02T18:51:59.635Z"
   },
   {
    "duration": 7,
    "start_time": "2022-02-02T18:52:16.573Z"
   },
   {
    "duration": 3408,
    "start_time": "2022-02-02T18:52:18.506Z"
   },
   {
    "duration": 6,
    "start_time": "2022-02-02T18:53:10.261Z"
   },
   {
    "duration": 3746,
    "start_time": "2022-02-02T18:53:13.163Z"
   },
   {
    "duration": 3285,
    "start_time": "2022-02-02T18:53:27.570Z"
   },
   {
    "duration": 3430,
    "start_time": "2022-02-02T18:53:33.167Z"
   },
   {
    "duration": 5,
    "start_time": "2022-02-02T19:03:51.519Z"
   },
   {
    "duration": 3375,
    "start_time": "2022-02-02T19:03:53.865Z"
   },
   {
    "duration": 3242,
    "start_time": "2022-02-02T19:03:59.535Z"
   },
   {
    "duration": 3321,
    "start_time": "2022-02-02T19:04:04.662Z"
   },
   {
    "duration": 4,
    "start_time": "2022-02-02T19:04:20.486Z"
   },
   {
    "duration": 3393,
    "start_time": "2022-02-02T19:04:22.563Z"
   },
   {
    "duration": 3239,
    "start_time": "2022-02-02T19:04:35.040Z"
   },
   {
    "duration": 3822,
    "start_time": "2022-02-02T19:04:39.816Z"
   },
   {
    "duration": 7,
    "start_time": "2022-02-02T19:05:11.566Z"
   },
   {
    "duration": 3342,
    "start_time": "2022-02-02T19:05:13.281Z"
   },
   {
    "duration": 4,
    "start_time": "2022-02-02T19:05:42.866Z"
   },
   {
    "duration": 3382,
    "start_time": "2022-02-02T19:05:47.085Z"
   },
   {
    "duration": 3397,
    "start_time": "2022-02-02T19:05:52.294Z"
   },
   {
    "duration": 3468,
    "start_time": "2022-02-02T19:05:57.422Z"
   },
   {
    "duration": 1113,
    "start_time": "2022-02-02T19:20:24.040Z"
   },
   {
    "duration": 408,
    "start_time": "2022-02-02T19:20:25.155Z"
   },
   {
    "duration": 33,
    "start_time": "2022-02-02T19:20:25.565Z"
   },
   {
    "duration": 30,
    "start_time": "2022-02-02T19:20:25.600Z"
   },
   {
    "duration": 21,
    "start_time": "2022-02-02T19:20:25.632Z"
   },
   {
    "duration": 19,
    "start_time": "2022-02-02T19:20:25.655Z"
   },
   {
    "duration": 20,
    "start_time": "2022-02-02T19:20:25.676Z"
   },
   {
    "duration": 27,
    "start_time": "2022-02-02T19:20:25.699Z"
   },
   {
    "duration": 10,
    "start_time": "2022-02-02T19:20:25.728Z"
   },
   {
    "duration": 5,
    "start_time": "2022-02-02T19:20:25.740Z"
   },
   {
    "duration": 80,
    "start_time": "2022-02-02T19:20:25.748Z"
   },
   {
    "duration": 99,
    "start_time": "2022-02-02T19:20:25.921Z"
   },
   {
    "duration": 5,
    "start_time": "2022-02-02T19:20:26.023Z"
   },
   {
    "duration": 8,
    "start_time": "2022-02-02T19:20:26.119Z"
   },
   {
    "duration": 8,
    "start_time": "2022-02-02T19:20:26.129Z"
   },
   {
    "duration": 7,
    "start_time": "2022-02-02T19:20:26.139Z"
   },
   {
    "duration": 3,
    "start_time": "2022-02-02T19:20:26.148Z"
   },
   {
    "duration": 6,
    "start_time": "2022-02-02T19:20:26.153Z"
   },
   {
    "duration": 10,
    "start_time": "2022-02-02T19:20:26.160Z"
   },
   {
    "duration": 4,
    "start_time": "2022-02-02T19:20:26.172Z"
   },
   {
    "duration": 55,
    "start_time": "2022-02-02T19:20:26.177Z"
   },
   {
    "duration": 3,
    "start_time": "2022-02-02T19:20:26.234Z"
   },
   {
    "duration": 5,
    "start_time": "2022-02-02T19:20:26.241Z"
   },
   {
    "duration": 3383,
    "start_time": "2022-02-02T19:20:26.247Z"
   },
   {
    "duration": 3506,
    "start_time": "2022-02-02T19:20:29.632Z"
   },
   {
    "duration": 3499,
    "start_time": "2022-02-02T19:20:33.140Z"
   },
   {
    "duration": 321,
    "start_time": "2022-02-03T06:09:19.136Z"
   },
   {
    "duration": 3,
    "start_time": "2022-02-03T06:17:44.414Z"
   },
   {
    "duration": 3,
    "start_time": "2022-02-03T06:22:48.074Z"
   },
   {
    "duration": 3,
    "start_time": "2022-02-03T06:31:57.286Z"
   },
   {
    "duration": 1113,
    "start_time": "2022-02-03T06:32:15.037Z"
   },
   {
    "duration": 404,
    "start_time": "2022-02-03T06:32:16.152Z"
   },
   {
    "duration": 33,
    "start_time": "2022-02-03T06:32:16.558Z"
   },
   {
    "duration": 37,
    "start_time": "2022-02-03T06:32:16.593Z"
   },
   {
    "duration": 17,
    "start_time": "2022-02-03T06:32:16.632Z"
   },
   {
    "duration": 18,
    "start_time": "2022-02-03T06:32:16.651Z"
   },
   {
    "duration": 12,
    "start_time": "2022-02-03T06:32:16.671Z"
   },
   {
    "duration": 37,
    "start_time": "2022-02-03T06:32:16.685Z"
   },
   {
    "duration": 10,
    "start_time": "2022-02-03T06:32:16.724Z"
   },
   {
    "duration": 82,
    "start_time": "2022-02-03T06:32:16.736Z"
   },
   {
    "duration": 103,
    "start_time": "2022-02-03T06:32:16.821Z"
   },
   {
    "duration": 92,
    "start_time": "2022-02-03T06:32:16.927Z"
   },
   {
    "duration": 5,
    "start_time": "2022-02-03T06:32:17.022Z"
   },
   {
    "duration": 98,
    "start_time": "2022-02-03T06:32:17.029Z"
   },
   {
    "duration": 6,
    "start_time": "2022-02-03T06:32:17.129Z"
   },
   {
    "duration": 4,
    "start_time": "2022-02-03T06:32:17.137Z"
   },
   {
    "duration": 4,
    "start_time": "2022-02-03T06:32:17.142Z"
   },
   {
    "duration": 173,
    "start_time": "2022-02-03T06:32:17.147Z"
   },
   {
    "duration": -1,
    "start_time": "2022-02-03T06:32:17.323Z"
   },
   {
    "duration": -4,
    "start_time": "2022-02-03T06:32:17.326Z"
   },
   {
    "duration": -6,
    "start_time": "2022-02-03T06:32:17.329Z"
   },
   {
    "duration": -12,
    "start_time": "2022-02-03T06:32:17.336Z"
   },
   {
    "duration": -13,
    "start_time": "2022-02-03T06:32:17.338Z"
   },
   {
    "duration": -15,
    "start_time": "2022-02-03T06:32:17.341Z"
   },
   {
    "duration": -17,
    "start_time": "2022-02-03T06:32:17.344Z"
   },
   {
    "duration": -20,
    "start_time": "2022-02-03T06:32:17.347Z"
   },
   {
    "duration": 3,
    "start_time": "2022-02-03T06:32:42.532Z"
   },
   {
    "duration": 1117,
    "start_time": "2022-02-03T06:32:52.350Z"
   },
   {
    "duration": 422,
    "start_time": "2022-02-03T06:32:53.469Z"
   },
   {
    "duration": 41,
    "start_time": "2022-02-03T06:32:53.893Z"
   },
   {
    "duration": 15,
    "start_time": "2022-02-03T06:32:53.936Z"
   },
   {
    "duration": 17,
    "start_time": "2022-02-03T06:32:53.953Z"
   },
   {
    "duration": 18,
    "start_time": "2022-02-03T06:32:53.972Z"
   },
   {
    "duration": 13,
    "start_time": "2022-02-03T06:32:54.019Z"
   },
   {
    "duration": 9,
    "start_time": "2022-02-03T06:32:54.035Z"
   },
   {
    "duration": 9,
    "start_time": "2022-02-03T06:32:54.047Z"
   },
   {
    "duration": 63,
    "start_time": "2022-02-03T06:32:54.057Z"
   },
   {
    "duration": 102,
    "start_time": "2022-02-03T06:32:54.123Z"
   },
   {
    "duration": 95,
    "start_time": "2022-02-03T06:32:54.228Z"
   },
   {
    "duration": 93,
    "start_time": "2022-02-03T06:32:54.326Z"
   },
   {
    "duration": 7,
    "start_time": "2022-02-03T06:32:54.421Z"
   },
   {
    "duration": 92,
    "start_time": "2022-02-03T06:32:54.430Z"
   },
   {
    "duration": 9,
    "start_time": "2022-02-03T06:32:54.524Z"
   },
   {
    "duration": 3,
    "start_time": "2022-02-03T06:32:54.534Z"
   },
   {
    "duration": 24,
    "start_time": "2022-02-03T06:32:54.539Z"
   },
   {
    "duration": 8,
    "start_time": "2022-02-03T06:32:54.565Z"
   },
   {
    "duration": 3,
    "start_time": "2022-02-03T06:32:54.575Z"
   },
   {
    "duration": 409,
    "start_time": "2022-02-03T06:32:54.579Z"
   },
   {
    "duration": -90,
    "start_time": "2022-02-03T06:32:55.080Z"
   },
   {
    "duration": -92,
    "start_time": "2022-02-03T06:32:55.083Z"
   },
   {
    "duration": -95,
    "start_time": "2022-02-03T06:32:55.087Z"
   },
   {
    "duration": -98,
    "start_time": "2022-02-03T06:32:55.091Z"
   },
   {
    "duration": -103,
    "start_time": "2022-02-03T06:32:55.097Z"
   },
   {
    "duration": 18,
    "start_time": "2022-02-03T06:34:01.373Z"
   },
   {
    "duration": 1123,
    "start_time": "2022-02-03T06:34:21.036Z"
   },
   {
    "duration": 418,
    "start_time": "2022-02-03T06:34:22.161Z"
   },
   {
    "duration": 42,
    "start_time": "2022-02-03T06:34:22.582Z"
   },
   {
    "duration": 18,
    "start_time": "2022-02-03T06:34:22.626Z"
   },
   {
    "duration": 17,
    "start_time": "2022-02-03T06:34:22.646Z"
   },
   {
    "duration": 18,
    "start_time": "2022-02-03T06:34:22.664Z"
   },
   {
    "duration": 37,
    "start_time": "2022-02-03T06:34:22.684Z"
   },
   {
    "duration": 10,
    "start_time": "2022-02-03T06:34:22.724Z"
   },
   {
    "duration": 14,
    "start_time": "2022-02-03T06:34:22.736Z"
   },
   {
    "duration": 12,
    "start_time": "2022-02-03T06:34:22.752Z"
   },
   {
    "duration": 63,
    "start_time": "2022-02-03T06:34:22.766Z"
   },
   {
    "duration": 95,
    "start_time": "2022-02-03T06:34:22.832Z"
   },
   {
    "duration": 94,
    "start_time": "2022-02-03T06:34:22.929Z"
   },
   {
    "duration": 96,
    "start_time": "2022-02-03T06:34:23.026Z"
   },
   {
    "duration": 4,
    "start_time": "2022-02-03T06:34:23.124Z"
   },
   {
    "duration": 6,
    "start_time": "2022-02-03T06:34:23.130Z"
   },
   {
    "duration": 4,
    "start_time": "2022-02-03T06:34:23.138Z"
   },
   {
    "duration": 9,
    "start_time": "2022-02-03T06:34:23.143Z"
   },
   {
    "duration": 13,
    "start_time": "2022-02-03T06:34:23.153Z"
   },
   {
    "duration": 5,
    "start_time": "2022-02-03T06:34:23.168Z"
   },
   {
    "duration": 20,
    "start_time": "2022-02-03T06:34:23.175Z"
   },
   {
    "duration": 21,
    "start_time": "2022-02-03T06:34:23.197Z"
   },
   {
    "duration": 5,
    "start_time": "2022-02-03T06:34:23.222Z"
   },
   {
    "duration": 3625,
    "start_time": "2022-02-03T06:34:23.229Z"
   },
   {
    "duration": 3254,
    "start_time": "2022-02-03T06:34:26.856Z"
   },
   {
    "duration": 3330,
    "start_time": "2022-02-03T06:34:30.112Z"
   },
   {
    "duration": 1033,
    "start_time": "2022-02-03T06:37:57.398Z"
   },
   {
    "duration": 386,
    "start_time": "2022-02-03T06:37:58.433Z"
   },
   {
    "duration": 35,
    "start_time": "2022-02-03T06:37:58.821Z"
   },
   {
    "duration": 23,
    "start_time": "2022-02-03T06:37:58.858Z"
   },
   {
    "duration": 43,
    "start_time": "2022-02-03T06:37:58.883Z"
   },
   {
    "duration": 18,
    "start_time": "2022-02-03T06:37:58.928Z"
   },
   {
    "duration": 14,
    "start_time": "2022-02-03T06:37:58.948Z"
   },
   {
    "duration": 11,
    "start_time": "2022-02-03T06:37:58.965Z"
   },
   {
    "duration": 24,
    "start_time": "2022-02-03T06:37:58.979Z"
   },
   {
    "duration": 17,
    "start_time": "2022-02-03T06:37:59.017Z"
   },
   {
    "duration": 101,
    "start_time": "2022-02-03T06:37:59.120Z"
   },
   {
    "duration": 96,
    "start_time": "2022-02-03T06:37:59.224Z"
   },
   {
    "duration": 5,
    "start_time": "2022-02-03T06:37:59.322Z"
   },
   {
    "duration": 99,
    "start_time": "2022-02-03T06:37:59.420Z"
   },
   {
    "duration": 6,
    "start_time": "2022-02-03T06:37:59.521Z"
   },
   {
    "duration": 7,
    "start_time": "2022-02-03T06:37:59.529Z"
   },
   {
    "duration": 5,
    "start_time": "2022-02-03T06:37:59.537Z"
   },
   {
    "duration": 9,
    "start_time": "2022-02-03T06:37:59.544Z"
   },
   {
    "duration": 9,
    "start_time": "2022-02-03T06:37:59.554Z"
   },
   {
    "duration": 4,
    "start_time": "2022-02-03T06:37:59.565Z"
   },
   {
    "duration": 54,
    "start_time": "2022-02-03T06:37:59.571Z"
   },
   {
    "duration": 4,
    "start_time": "2022-02-03T06:37:59.628Z"
   },
   {
    "duration": 7,
    "start_time": "2022-02-03T06:37:59.635Z"
   },
   {
    "duration": 3345,
    "start_time": "2022-02-03T06:37:59.644Z"
   },
   {
    "duration": 3462,
    "start_time": "2022-02-03T06:38:02.992Z"
   },
   {
    "duration": 3459,
    "start_time": "2022-02-03T06:38:06.456Z"
   },
   {
    "duration": 4,
    "start_time": "2022-02-03T07:01:55.433Z"
   },
   {
    "duration": 6,
    "start_time": "2022-02-03T07:02:33.958Z"
   },
   {
    "duration": 18,
    "start_time": "2022-02-03T07:03:00.915Z"
   },
   {
    "duration": 1298,
    "start_time": "2022-02-03T07:03:33.267Z"
   },
   {
    "duration": 451,
    "start_time": "2022-02-03T07:03:34.567Z"
   },
   {
    "duration": 66,
    "start_time": "2022-02-03T07:03:35.021Z"
   },
   {
    "duration": 16,
    "start_time": "2022-02-03T07:03:35.089Z"
   },
   {
    "duration": 23,
    "start_time": "2022-02-03T07:03:35.107Z"
   },
   {
    "duration": 18,
    "start_time": "2022-02-03T07:03:35.132Z"
   },
   {
    "duration": 13,
    "start_time": "2022-02-03T07:03:35.152Z"
   },
   {
    "duration": 10,
    "start_time": "2022-02-03T07:03:35.168Z"
   },
   {
    "duration": 41,
    "start_time": "2022-02-03T07:03:35.180Z"
   },
   {
    "duration": 5,
    "start_time": "2022-02-03T07:03:35.223Z"
   },
   {
    "duration": 91,
    "start_time": "2022-02-03T07:03:35.230Z"
   },
   {
    "duration": 9,
    "start_time": "2022-02-03T07:03:35.324Z"
   },
   {
    "duration": 87,
    "start_time": "2022-02-03T07:03:35.336Z"
   },
   {
    "duration": 95,
    "start_time": "2022-02-03T07:03:35.426Z"
   },
   {
    "duration": 6,
    "start_time": "2022-02-03T07:03:35.522Z"
   },
   {
    "duration": 7,
    "start_time": "2022-02-03T07:03:35.530Z"
   },
   {
    "duration": 7,
    "start_time": "2022-02-03T07:03:35.539Z"
   },
   {
    "duration": 10,
    "start_time": "2022-02-03T07:03:35.547Z"
   },
   {
    "duration": 12,
    "start_time": "2022-02-03T07:03:35.559Z"
   },
   {
    "duration": 4,
    "start_time": "2022-02-03T07:03:35.573Z"
   },
   {
    "duration": 22,
    "start_time": "2022-02-03T07:03:35.579Z"
   },
   {
    "duration": 3,
    "start_time": "2022-02-03T07:03:35.619Z"
   },
   {
    "duration": 7,
    "start_time": "2022-02-03T07:03:35.626Z"
   },
   {
    "duration": 5069,
    "start_time": "2022-02-03T07:03:35.636Z"
   },
   {
    "duration": 3270,
    "start_time": "2022-02-03T07:03:40.707Z"
   },
   {
    "duration": 3282,
    "start_time": "2022-02-03T07:03:43.979Z"
   }
  ],
  "kernelspec": {
   "display_name": "Python 3",
   "language": "python",
   "name": "python3"
  },
  "language_info": {
   "codemirror_mode": {
    "name": "ipython",
    "version": 3
   },
   "file_extension": ".py",
   "mimetype": "text/x-python",
   "name": "python",
   "nbconvert_exporter": "python",
   "pygments_lexer": "ipython3",
   "version": "3.7.8"
  },
  "toc": {
   "base_numbering": 1,
   "nav_menu": {},
   "number_sections": true,
   "sideBar": true,
   "skip_h1_title": true,
   "title_cell": "Содержание",
   "title_sidebar": "Содержание",
   "toc_cell": true,
   "toc_position": {},
   "toc_section_display": true,
   "toc_window_display": true
  }
 },
 "nbformat": 4,
 "nbformat_minor": 2
}
