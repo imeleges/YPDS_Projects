{
 "cells": [
  {
   "cell_type": "markdown",
   "metadata": {
    "toc": true
   },
   "source": [
    "<h1>Содержание<span class=\"tocSkip\"></span></h1>\n",
    "<div class=\"toc\"><ul class=\"toc-item\"><li><span><a href=\"#Подготовка-данных\" data-toc-modified-id=\"Подготовка-данных-1\"><span class=\"toc-item-num\">1&nbsp;&nbsp;</span>Подготовка данных</a></span></li><li><span><a href=\"#Исследование-задачи\" data-toc-modified-id=\"Исследование-задачи-2\"><span class=\"toc-item-num\">2&nbsp;&nbsp;</span>Исследование задачи</a></span><ul class=\"toc-item\"><li><span><a href=\"#LogisticRegression\" data-toc-modified-id=\"LogisticRegression-2.1\"><span class=\"toc-item-num\">2.1&nbsp;&nbsp;</span>LogisticRegression</a></span></li><li><span><a href=\"#DecisionTreeClassifier\" data-toc-modified-id=\"DecisionTreeClassifier-2.2\"><span class=\"toc-item-num\">2.2&nbsp;&nbsp;</span>DecisionTreeClassifier</a></span></li><li><span><a href=\"#RandomForestClassifier\" data-toc-modified-id=\"RandomForestClassifier-2.3\"><span class=\"toc-item-num\">2.3&nbsp;&nbsp;</span>RandomForestClassifier</a></span></li><li><span><a href=\"#Вывод\" data-toc-modified-id=\"Вывод-2.4\"><span class=\"toc-item-num\">2.4&nbsp;&nbsp;</span>Вывод</a></span></li></ul></li><li><span><a href=\"#Борьба-с-дисбалансом\" data-toc-modified-id=\"Борьба-с-дисбалансом-3\"><span class=\"toc-item-num\">3&nbsp;&nbsp;</span>Борьба с дисбалансом</a></span><ul class=\"toc-item\"><li><span><a href=\"#Содание-функций-upsample-и-downsample\" data-toc-modified-id=\"Содание-функций-upsample-и-downsample-3.1\"><span class=\"toc-item-num\">3.1&nbsp;&nbsp;</span>Содание функций <code>upsample</code> и <code>downsample</code></a></span></li><li><span><a href=\"#Увеличение-выборки---upsample\" data-toc-modified-id=\"Увеличение-выборки---upsample-3.2\"><span class=\"toc-item-num\">3.2&nbsp;&nbsp;</span>Увеличение выборки - <code>upsample</code></a></span><ul class=\"toc-item\"><li><span><a href=\"#LogisticRegression\" data-toc-modified-id=\"LogisticRegression-3.2.1\"><span class=\"toc-item-num\">3.2.1&nbsp;&nbsp;</span>LogisticRegression</a></span></li><li><span><a href=\"#DecisionTreeClassifier\" data-toc-modified-id=\"DecisionTreeClassifier-3.2.2\"><span class=\"toc-item-num\">3.2.2&nbsp;&nbsp;</span>DecisionTreeClassifier</a></span></li><li><span><a href=\"#RandomForestClassifier\" data-toc-modified-id=\"RandomForestClassifier-3.2.3\"><span class=\"toc-item-num\">3.2.3&nbsp;&nbsp;</span>RandomForestClassifier</a></span></li><li><span><a href=\"#Вывод\" data-toc-modified-id=\"Вывод-3.2.4\"><span class=\"toc-item-num\">3.2.4&nbsp;&nbsp;</span>Вывод</a></span></li></ul></li><li><span><a href=\"#Уменьшение-выборки---downsampled\" data-toc-modified-id=\"Уменьшение-выборки---downsampled-3.3\"><span class=\"toc-item-num\">3.3&nbsp;&nbsp;</span>Уменьшение выборки - <code>downsampled</code></a></span><ul class=\"toc-item\"><li><span><a href=\"#LogisticRegression\" data-toc-modified-id=\"LogisticRegression-3.3.1\"><span class=\"toc-item-num\">3.3.1&nbsp;&nbsp;</span>LogisticRegression</a></span></li><li><span><a href=\"#DecisionTreeClassifier\" data-toc-modified-id=\"DecisionTreeClassifier-3.3.2\"><span class=\"toc-item-num\">3.3.2&nbsp;&nbsp;</span>DecisionTreeClassifier</a></span></li><li><span><a href=\"#RandomForestClassifier\" data-toc-modified-id=\"RandomForestClassifier-3.3.3\"><span class=\"toc-item-num\">3.3.3&nbsp;&nbsp;</span>RandomForestClassifier</a></span></li><li><span><a href=\"#Вывод\" data-toc-modified-id=\"Вывод-3.3.4\"><span class=\"toc-item-num\">3.3.4&nbsp;&nbsp;</span>Вывод</a></span></li></ul></li></ul></li><li><span><a href=\"#Тестирование-моделей\" data-toc-modified-id=\"Тестирование-моделей-4\"><span class=\"toc-item-num\">4&nbsp;&nbsp;</span>Тестирование моделей</a></span><ul class=\"toc-item\"><li><span><a href=\"#ROC-кривая\" data-toc-modified-id=\"ROC-кривая-4.1\"><span class=\"toc-item-num\">4.1&nbsp;&nbsp;</span>ROC кривая</a></span></li></ul></li><li><span><a href=\"#Общий-вывод\" data-toc-modified-id=\"Общий-вывод-5\"><span class=\"toc-item-num\">5&nbsp;&nbsp;</span>Общий вывод</a></span></li><li><span><a href=\"#Чек-лист-готовности-проекта\" data-toc-modified-id=\"Чек-лист-готовности-проекта-6\"><span class=\"toc-item-num\">6&nbsp;&nbsp;</span>Чек-лист готовности проекта</a></span></li></ul></div>"
   ]
  },
  {
   "cell_type": "markdown",
   "metadata": {},
   "source": [
    "# Прогнозирование оттока клиентов «Бета-Банка»"
   ]
  },
  {
   "cell_type": "markdown",
   "metadata": {},
   "source": [
    "По наблюдениям из «Бета-Банка» немного, но заметно стали уходить клиенты. А банковские маркетологи пришли к решению что: сохранять текущих клиентов дешевле, чем привлекать новых.\n",
    "\n",
    "На основании данных от банка о поведении клиентов и расторжении договоров с банком нужно спрогнозировать, уйдёт клиент из банка в ближайшее время или нет.\n",
    "\n",
    "Потребуется построить модель с предельно большим значением `F1-меры` не ниже `0.59` дополнительно измерив `AUC-ROC` и сравнив её значение с `F1-мерой`"
   ]
  },
  {
   "cell_type": "markdown",
   "metadata": {},
   "source": [
    "## Подготовка данных"
   ]
  },
  {
   "cell_type": "code",
   "execution_count": 1,
   "metadata": {},
   "outputs": [],
   "source": [
    "import pandas as pd\n",
    "import matplotlib.pyplot as plt\n",
    "from matplotlib import style\n",
    "\n",
    "from sklearn.metrics import recall_score\n",
    "from sklearn.metrics import precision_score\n",
    "from sklearn.metrics import f1_score\n",
    "from sklearn.metrics import roc_curve\n",
    "from sklearn.metrics import roc_auc_score\n",
    "\n",
    "from sklearn.model_selection import train_test_split\n",
    "from sklearn.linear_model import LogisticRegression\n",
    "from sklearn.tree import DecisionTreeClassifier\n",
    "from sklearn.ensemble import RandomForestClassifier\n",
    "\n",
    "from sklearn.preprocessing import StandardScaler\n",
    "from sklearn.utils import shuffle\n"
   ]
  },
  {
   "cell_type": "code",
   "execution_count": 2,
   "metadata": {},
   "outputs": [],
   "source": [
    "data = pd.read_csv(\"/datasets/Churn.csv\")"
   ]
  },
  {
   "cell_type": "code",
   "execution_count": 3,
   "metadata": {},
   "outputs": [
    {
     "data": {
      "text/html": [
       "<div>\n",
       "<style scoped>\n",
       "    .dataframe tbody tr th:only-of-type {\n",
       "        vertical-align: middle;\n",
       "    }\n",
       "\n",
       "    .dataframe tbody tr th {\n",
       "        vertical-align: top;\n",
       "    }\n",
       "\n",
       "    .dataframe thead th {\n",
       "        text-align: right;\n",
       "    }\n",
       "</style>\n",
       "<table border=\"1\" class=\"dataframe\">\n",
       "  <thead>\n",
       "    <tr style=\"text-align: right;\">\n",
       "      <th></th>\n",
       "      <th>RowNumber</th>\n",
       "      <th>CustomerId</th>\n",
       "      <th>Surname</th>\n",
       "      <th>CreditScore</th>\n",
       "      <th>Geography</th>\n",
       "      <th>Gender</th>\n",
       "      <th>Age</th>\n",
       "      <th>Tenure</th>\n",
       "      <th>Balance</th>\n",
       "      <th>NumOfProducts</th>\n",
       "      <th>HasCrCard</th>\n",
       "      <th>IsActiveMember</th>\n",
       "      <th>EstimatedSalary</th>\n",
       "      <th>Exited</th>\n",
       "    </tr>\n",
       "  </thead>\n",
       "  <tbody>\n",
       "    <tr>\n",
       "      <td>0</td>\n",
       "      <td>1</td>\n",
       "      <td>15634602</td>\n",
       "      <td>Hargrave</td>\n",
       "      <td>619</td>\n",
       "      <td>France</td>\n",
       "      <td>Female</td>\n",
       "      <td>42</td>\n",
       "      <td>2.0</td>\n",
       "      <td>0.00</td>\n",
       "      <td>1</td>\n",
       "      <td>1</td>\n",
       "      <td>1</td>\n",
       "      <td>101348.88</td>\n",
       "      <td>1</td>\n",
       "    </tr>\n",
       "    <tr>\n",
       "      <td>1</td>\n",
       "      <td>2</td>\n",
       "      <td>15647311</td>\n",
       "      <td>Hill</td>\n",
       "      <td>608</td>\n",
       "      <td>Spain</td>\n",
       "      <td>Female</td>\n",
       "      <td>41</td>\n",
       "      <td>1.0</td>\n",
       "      <td>83807.86</td>\n",
       "      <td>1</td>\n",
       "      <td>0</td>\n",
       "      <td>1</td>\n",
       "      <td>112542.58</td>\n",
       "      <td>0</td>\n",
       "    </tr>\n",
       "    <tr>\n",
       "      <td>2</td>\n",
       "      <td>3</td>\n",
       "      <td>15619304</td>\n",
       "      <td>Onio</td>\n",
       "      <td>502</td>\n",
       "      <td>France</td>\n",
       "      <td>Female</td>\n",
       "      <td>42</td>\n",
       "      <td>8.0</td>\n",
       "      <td>159660.80</td>\n",
       "      <td>3</td>\n",
       "      <td>1</td>\n",
       "      <td>0</td>\n",
       "      <td>113931.57</td>\n",
       "      <td>1</td>\n",
       "    </tr>\n",
       "    <tr>\n",
       "      <td>3</td>\n",
       "      <td>4</td>\n",
       "      <td>15701354</td>\n",
       "      <td>Boni</td>\n",
       "      <td>699</td>\n",
       "      <td>France</td>\n",
       "      <td>Female</td>\n",
       "      <td>39</td>\n",
       "      <td>1.0</td>\n",
       "      <td>0.00</td>\n",
       "      <td>2</td>\n",
       "      <td>0</td>\n",
       "      <td>0</td>\n",
       "      <td>93826.63</td>\n",
       "      <td>0</td>\n",
       "    </tr>\n",
       "    <tr>\n",
       "      <td>4</td>\n",
       "      <td>5</td>\n",
       "      <td>15737888</td>\n",
       "      <td>Mitchell</td>\n",
       "      <td>850</td>\n",
       "      <td>Spain</td>\n",
       "      <td>Female</td>\n",
       "      <td>43</td>\n",
       "      <td>2.0</td>\n",
       "      <td>125510.82</td>\n",
       "      <td>1</td>\n",
       "      <td>1</td>\n",
       "      <td>1</td>\n",
       "      <td>79084.10</td>\n",
       "      <td>0</td>\n",
       "    </tr>\n",
       "  </tbody>\n",
       "</table>\n",
       "</div>"
      ],
      "text/plain": [
       "   RowNumber  CustomerId   Surname  CreditScore Geography  Gender  Age  \\\n",
       "0          1    15634602  Hargrave          619    France  Female   42   \n",
       "1          2    15647311      Hill          608     Spain  Female   41   \n",
       "2          3    15619304      Onio          502    France  Female   42   \n",
       "3          4    15701354      Boni          699    France  Female   39   \n",
       "4          5    15737888  Mitchell          850     Spain  Female   43   \n",
       "\n",
       "   Tenure    Balance  NumOfProducts  HasCrCard  IsActiveMember  \\\n",
       "0     2.0       0.00              1          1               1   \n",
       "1     1.0   83807.86              1          0               1   \n",
       "2     8.0  159660.80              3          1               0   \n",
       "3     1.0       0.00              2          0               0   \n",
       "4     2.0  125510.82              1          1               1   \n",
       "\n",
       "   EstimatedSalary  Exited  \n",
       "0        101348.88       1  \n",
       "1        112542.58       0  \n",
       "2        113931.57       1  \n",
       "3         93826.63       0  \n",
       "4         79084.10       0  "
      ]
     },
     "execution_count": 3,
     "metadata": {},
     "output_type": "execute_result"
    }
   ],
   "source": [
    "data.head()"
   ]
  },
  {
   "cell_type": "markdown",
   "metadata": {},
   "source": [
    "**Признаки**  \n",
    "`RowNumber` — индекс строки в данных  \n",
    "`CustomerId` — уникальный идентификатор клиента  \n",
    "`Surname` — фамилия  \n",
    "`CreditScore` — кредитный рейтинг  \n",
    "`Geography` — страна проживания  \n",
    "`Gender` — пол  \n",
    "`Age` — возраст  \n",
    "`Tenure` — сколько лет человек является клиентом банка  \n",
    "`Balance` — баланс на счёте  \n",
    "`NumOfProducts` — количество продуктов банка, используемых клиентом  \n",
    "`HasCrCard` — наличие кредитной карты  \n",
    "`IsActiveMember` — активность клиента  \n",
    "`EstimatedSalary` — предполагаемая зарплата  \n",
    "\n",
    "**Целевой признак**  \n",
    "`Exited` — факт ухода клиента"
   ]
  },
  {
   "cell_type": "code",
   "execution_count": 4,
   "metadata": {},
   "outputs": [
    {
     "name": "stdout",
     "output_type": "stream",
     "text": [
      "<class 'pandas.core.frame.DataFrame'>\n",
      "RangeIndex: 10000 entries, 0 to 9999\n",
      "Data columns (total 14 columns):\n",
      "RowNumber          10000 non-null int64\n",
      "CustomerId         10000 non-null int64\n",
      "Surname            10000 non-null object\n",
      "CreditScore        10000 non-null int64\n",
      "Geography          10000 non-null object\n",
      "Gender             10000 non-null object\n",
      "Age                10000 non-null int64\n",
      "Tenure             9091 non-null float64\n",
      "Balance            10000 non-null float64\n",
      "NumOfProducts      10000 non-null int64\n",
      "HasCrCard          10000 non-null int64\n",
      "IsActiveMember     10000 non-null int64\n",
      "EstimatedSalary    10000 non-null float64\n",
      "Exited             10000 non-null int64\n",
      "dtypes: float64(3), int64(8), object(3)\n",
      "memory usage: 1.1+ MB\n"
     ]
    }
   ],
   "source": [
    "data.info()"
   ]
  },
  {
   "cell_type": "markdown",
   "metadata": {},
   "source": [
    "Есть пропуски в размере почти 10% в признаках о том как долго объект является клиентом банка.\n",
    "Отбросим такие данные и перезапишем датафрейм."
   ]
  },
  {
   "cell_type": "code",
   "execution_count": 5,
   "metadata": {},
   "outputs": [],
   "source": [
    "data = data.dropna()"
   ]
  },
  {
   "cell_type": "markdown",
   "metadata": {},
   "source": [
    "Отбросим `Surname`, `RowNumber`, `CustomerId` т.к. они не имеют значительного влияния на то если уйдет клиент из банка или нет."
   ]
  },
  {
   "cell_type": "code",
   "execution_count": 6,
   "metadata": {},
   "outputs": [],
   "source": [
    "data.drop(['Surname', 'RowNumber', 'CustomerId'], axis=1, inplace=True)"
   ]
  },
  {
   "cell_type": "markdown",
   "metadata": {},
   "source": [
    "Преобразуем категориальные признаки в численные прямым кодированием `OHE` и сохраним все в новый датафрейм `data_ohe`. Чтобы не попасть в дамми-ловушку, применим аргумент `drop_first` функции `pd.get_dummies()`"
   ]
  },
  {
   "cell_type": "code",
   "execution_count": 7,
   "metadata": {},
   "outputs": [],
   "source": [
    "data_ohe = pd.get_dummies(data, drop_first=True)"
   ]
  },
  {
   "cell_type": "markdown",
   "metadata": {},
   "source": [
    "Разделим датафрейм на выборки с признаками и целевой выборкой"
   ]
  },
  {
   "cell_type": "code",
   "execution_count": 8,
   "metadata": {},
   "outputs": [],
   "source": [
    "target = data_ohe['Exited']\n",
    "features = data_ohe.drop('Exited', axis=1)"
   ]
  },
  {
   "cell_type": "markdown",
   "metadata": {},
   "source": [
    "Исходные данные разбивают в соотношении `3:1:1`. Размер укажем в `test_size=0.40`, а для разделения на тестовую и валидационную `test_size=0.50`.<br>\n",
    "Зафиксируем псевдослучайность для алгоритма обучения укажем параметр `random_state=12345`<br>\n",
    "Выведем на экран размеры выборок с помощью `.shape`"
   ]
  },
  {
   "cell_type": "code",
   "execution_count": 10,
   "metadata": {},
   "outputs": [
    {
     "name": "stdout",
     "output_type": "stream",
     "text": [
      "(5454, 11)\n",
      "(1818, 11)\n",
      "(1819, 11)\n",
      "(5454,)\n",
      "(1818,)\n",
      "(1819,)\n"
     ]
    }
   ],
   "source": [
    "features_train, features_test, target_train, target_test = train_test_split(\n",
    "    features, target, test_size=0.4, random_state=12345\n",
    ")\n",
    "features_test, features_valid, target_test, target_valid = train_test_split(\n",
    "    features_test, target_test, test_size=0.5, random_state=12345\n",
    ")\n",
    "\n",
    "print(features_train.shape)\n",
    "print(features_test.shape)\n",
    "print(features_valid.shape)\n",
    "\n",
    "print(target_train.shape)\n",
    "print(target_test.shape)\n",
    "print(target_valid.shape)"
   ]
  },
  {
   "cell_type": "code",
   "execution_count": 11,
   "metadata": {
    "scrolled": false
   },
   "outputs": [
    {
     "data": {
      "text/html": [
       "<div>\n",
       "<style scoped>\n",
       "    .dataframe tbody tr th:only-of-type {\n",
       "        vertical-align: middle;\n",
       "    }\n",
       "\n",
       "    .dataframe tbody tr th {\n",
       "        vertical-align: top;\n",
       "    }\n",
       "\n",
       "    .dataframe thead th {\n",
       "        text-align: right;\n",
       "    }\n",
       "</style>\n",
       "<table border=\"1\" class=\"dataframe\">\n",
       "  <thead>\n",
       "    <tr style=\"text-align: right;\">\n",
       "      <th></th>\n",
       "      <th>CreditScore</th>\n",
       "      <th>Geography</th>\n",
       "      <th>Gender</th>\n",
       "      <th>Age</th>\n",
       "      <th>Tenure</th>\n",
       "      <th>Balance</th>\n",
       "      <th>NumOfProducts</th>\n",
       "      <th>HasCrCard</th>\n",
       "      <th>IsActiveMember</th>\n",
       "      <th>EstimatedSalary</th>\n",
       "      <th>Exited</th>\n",
       "    </tr>\n",
       "  </thead>\n",
       "  <tbody>\n",
       "    <tr>\n",
       "      <td>0</td>\n",
       "      <td>619</td>\n",
       "      <td>France</td>\n",
       "      <td>Female</td>\n",
       "      <td>42</td>\n",
       "      <td>2.0</td>\n",
       "      <td>0.00</td>\n",
       "      <td>1</td>\n",
       "      <td>1</td>\n",
       "      <td>1</td>\n",
       "      <td>101348.88</td>\n",
       "      <td>1</td>\n",
       "    </tr>\n",
       "    <tr>\n",
       "      <td>1</td>\n",
       "      <td>608</td>\n",
       "      <td>Spain</td>\n",
       "      <td>Female</td>\n",
       "      <td>41</td>\n",
       "      <td>1.0</td>\n",
       "      <td>83807.86</td>\n",
       "      <td>1</td>\n",
       "      <td>0</td>\n",
       "      <td>1</td>\n",
       "      <td>112542.58</td>\n",
       "      <td>0</td>\n",
       "    </tr>\n",
       "    <tr>\n",
       "      <td>2</td>\n",
       "      <td>502</td>\n",
       "      <td>France</td>\n",
       "      <td>Female</td>\n",
       "      <td>42</td>\n",
       "      <td>8.0</td>\n",
       "      <td>159660.80</td>\n",
       "      <td>3</td>\n",
       "      <td>1</td>\n",
       "      <td>0</td>\n",
       "      <td>113931.57</td>\n",
       "      <td>1</td>\n",
       "    </tr>\n",
       "  </tbody>\n",
       "</table>\n",
       "</div>"
      ],
      "text/plain": [
       "   CreditScore Geography  Gender  Age  Tenure    Balance  NumOfProducts  \\\n",
       "0          619    France  Female   42     2.0       0.00              1   \n",
       "1          608     Spain  Female   41     1.0   83807.86              1   \n",
       "2          502    France  Female   42     8.0  159660.80              3   \n",
       "\n",
       "   HasCrCard  IsActiveMember  EstimatedSalary  Exited  \n",
       "0          1               1        101348.88       1  \n",
       "1          0               1        112542.58       0  \n",
       "2          1               0        113931.57       1  "
      ]
     },
     "execution_count": 11,
     "metadata": {},
     "output_type": "execute_result"
    }
   ],
   "source": [
    "data.head(3)"
   ]
  },
  {
   "cell_type": "markdown",
   "metadata": {},
   "source": [
    "Стандартизируем численные признаки, исключив некоторые бинарные, а преобразованные обучающую и валидационную выборки сохраним в переменных: `features_train` и `features_valid`."
   ]
  },
  {
   "cell_type": "code",
   "execution_count": 12,
   "metadata": {},
   "outputs": [],
   "source": [
    "numeric = ['CreditScore', 'Age', 'Tenure','Balance','EstimatedSalary', 'NumOfProducts']\n",
    "pd.options.mode.chained_assignment = None\n",
    "\n",
    "scaler = StandardScaler()\n",
    "scaler.fit(features_train[numeric])\n",
    "\n",
    "features_train[numeric] = scaler.transform(features_train[numeric])\n",
    "features_valid[numeric] = scaler.transform(features_valid[numeric])\n",
    "features_test[numeric] = scaler.transform(features_test[numeric])\n",
    "\n",
    "# print(features_train.head())\n"
   ]
  },
  {
   "cell_type": "markdown",
   "metadata": {},
   "source": [
    "## Исследование задачи"
   ]
  },
  {
   "cell_type": "markdown",
   "metadata": {},
   "source": [
    "Исследуем баланс классов, обучим модели без учёта дисбаланса."
   ]
  },
  {
   "cell_type": "markdown",
   "metadata": {},
   "source": [
    "Посчитаем доли для каждого класса"
   ]
  },
  {
   "cell_type": "code",
   "execution_count": 13,
   "metadata": {},
   "outputs": [
    {
     "data": {
      "text/plain": [
       "0    0.796062\n",
       "1    0.203938\n",
       "Name: Exited, dtype: float64"
      ]
     },
     "execution_count": 13,
     "metadata": {},
     "output_type": "execute_result"
    }
   ],
   "source": [
    "data['Exited'].value_counts(normalize=True)"
   ]
  },
  {
   "cell_type": "code",
   "execution_count": 14,
   "metadata": {},
   "outputs": [
    {
     "data": {
      "image/png": "[encoded data removed]",
      "text/plain": [
       "<Figure size 432x288 with 1 Axes>"
      ]
     },
     "metadata": {
      "needs_background": "light"
     },
     "output_type": "display_data"
    }
   ],
   "source": [
    "data['Exited'].value_counts(normalize=True).plot(kind='bar',rot=False)\n",
    "plt.show()"
   ]
  },
  {
   "cell_type": "markdown",
   "metadata": {},
   "source": [
    "Видим что баланс классов сильно различается, прежде чем приступим борьбе с дисбалансом, проверим несколько моделей с различными гиперпараметрами на этих данных и зафиксируем результаты `F1-меры`."
   ]
  },
  {
   "cell_type": "markdown",
   "metadata": {},
   "source": [
    "### LogisticRegression"
   ]
  },
  {
   "cell_type": "markdown",
   "metadata": {},
   "source": [
    "Модель логистической регрессии с равнозначными классами"
   ]
  },
  {
   "cell_type": "code",
   "execution_count": 15,
   "metadata": {
    "scrolled": true
   },
   "outputs": [
    {
     "name": "stdout",
     "output_type": "stream",
     "text": [
      "F1-мера: 0.5025432349949135\n",
      "Полнота: 0.7037037037037037\n",
      "Точность: 0.39082278481012656\n"
     ]
    }
   ],
   "source": [
    "LRCW_model = LogisticRegression(solver='liblinear', random_state=12345, class_weight='balanced')\n",
    "LRCW_model.fit(features_train, target_train)\n",
    "\n",
    "predicted_valid = LRCW_model.predict(features_valid)\n",
    "precision = precision_score(target_valid, predicted_valid)\n",
    "recall = recall_score(target_valid, predicted_valid)\n",
    "\n",
    "print(\"F1-мера:\", f1_score(target_valid, predicted_valid))\n",
    "print(\"Полнота:\", recall)\n",
    "print(\"Точность:\", precision)"
   ]
  },
  {
   "cell_type": "markdown",
   "metadata": {},
   "source": [
    "Значение `F1-меры` равное `0.5113...` не достигает необходимого по заданию `0.59`"
   ]
  },
  {
   "cell_type": "markdown",
   "metadata": {},
   "source": [
    "### DecisionTreeClassifier"
   ]
  },
  {
   "cell_type": "markdown",
   "metadata": {},
   "source": [
    "Напишем функцию для модели решающего дерева с перебором глубины и определением наилучшего значения `F1-меры`"
   ]
  },
  {
   "cell_type": "code",
   "execution_count": 16,
   "metadata": {},
   "outputs": [],
   "source": [
    "def best_f1_DTC_depth(features_train, target_train, features_valid, target_valid, n_depth):\n",
    "    best_DTC_depth = 0\n",
    "    best_DTC_result = 0\n",
    "    best_DTC_f1 = 0\n",
    "    best_DTC_precision = 0\n",
    "    best_DTC_recall = 0\n",
    "\n",
    "    for depth in range(2, n_depth):\n",
    "        DTC_model = DecisionTreeClassifier(max_depth=depth, random_state=12345)\n",
    "        DTC_model.fit(features_train, target_train)\n",
    "        \n",
    "        result = DTC_model.score(features_valid, target_valid)\n",
    "        predicted_valid = DTC_model.predict(features_valid)\n",
    "\n",
    "        f1 = f1_score(target_valid, predicted_valid)\n",
    "        precision = precision_score(target_valid, predicted_valid)\n",
    "        recall = recall_score(target_valid, predicted_valid)\n",
    "\n",
    "        if f1 > best_DTC_f1:\n",
    "            best_DTC_depth = depth\n",
    "            best_DTC_result = result\n",
    "            best_DTC_f1 = f1\n",
    "            best_DTC_precision = precision\n",
    "            best_DTC_recall = recall\n",
    "\n",
    "    print(f\"Accuracy: {best_DTC_result}\")\n",
    "    print(f\"Depth: {best_DTC_depth}\")\n",
    "    print(f\"F1-мера: {best_DTC_f1}\")\n",
    "    print(\"Точность:\", best_DTC_precision)\n",
    "    print(\"Полнота:\", best_DTC_recall)"
   ]
  },
  {
   "cell_type": "markdown",
   "metadata": {},
   "source": [
    "Проверим функцию `best_f1_DTC_depth` передав в качестве параметра диапазона максимальной глубины значение `100`"
   ]
  },
  {
   "cell_type": "code",
   "execution_count": 17,
   "metadata": {},
   "outputs": [],
   "source": [
    "# best_f1_DTC_depth(features_train, target_train, features_valid, target_valid, 100)"
   ]
  },
  {
   "cell_type": "markdown",
   "metadata": {},
   "source": [
    "Результат выполнения функции `best_f1_DTC_depth(features_train, target_train, features_valid, target_valid, 100)`<br>\n",
    "\n",
    "`\n",
    "Accuracy: 0.8554150632215503\n",
    "Depth: 7  \n",
    "F1-мера: 0.5534804753820034  \n",
    "Точность: 0.6848739495798319  \n",
    "Полнота: 0.46438746438746437  \n",
    "`"
   ]
  },
  {
   "cell_type": "markdown",
   "metadata": {},
   "source": [
    "Наилучшее значение `F1-меры` равное `0.5534...` не достигает необходимого по заданию `0.59` при наилучшей глубине равной `7`"
   ]
  },
  {
   "cell_type": "code",
   "execution_count": 18,
   "metadata": {},
   "outputs": [
    {
     "name": "stdout",
     "output_type": "stream",
     "text": [
      "F1: 0.5534804753820034\n"
     ]
    }
   ],
   "source": [
    "DTC_model = DecisionTreeClassifier(max_depth=7, random_state=12345)\n",
    "DTC_model.fit(features_train, target_train)\n",
    "\n",
    "predicted_valid = DTC_model.predict(features_valid)\n",
    "\n",
    "print(\"F1:\", f1_score(target_valid, predicted_valid))"
   ]
  },
  {
   "cell_type": "markdown",
   "metadata": {},
   "source": [
    "### RandomForestClassifier"
   ]
  },
  {
   "cell_type": "markdown",
   "metadata": {},
   "source": [
    "Функция Случайный лес с перебором количества деревьев и глубины"
   ]
  },
  {
   "cell_type": "code",
   "execution_count": 19,
   "metadata": {},
   "outputs": [],
   "source": [
    "def best_f1_RFC_depth(features_train, target_train, features_valid, target_valid, n_est, n_depth):\n",
    "    best_RFC_depth = 0\n",
    "    best_RFC_result = 0\n",
    "    best_RFC_f1 = 0\n",
    "    best_RFC_precision = 0\n",
    "    best_RFC_recall = 0\n",
    "    best_RFC_estimators = 0\n",
    "\n",
    "    for est in range(2, n_est):\n",
    "        for depth in range(2, n_depth):\n",
    "            RFC_model = RandomForestClassifier(random_state=12345, n_estimators=est, max_depth=depth)\n",
    "            RFC_model.fit(features_train, target_train)\n",
    "\n",
    "            result = RFC_model.score(features_valid, target_valid)\n",
    "            predicted_valid = RFC_model.predict(features_valid)\n",
    "\n",
    "            f1 = f1_score(target_valid, predicted_valid)\n",
    "            precision = precision_score(target_valid, predicted_valid)\n",
    "            recall = recall_score(target_valid, predicted_valid)\n",
    "\n",
    "            if f1 > best_RFC_f1:\n",
    "                best_RFC_estimators = est\n",
    "                best_RFC_depth = depth\n",
    "                best_RFC_result = result\n",
    "                best_RFC_f1 = f1\n",
    "                best_RFC_precision = precision\n",
    "                best_RFC_recall = recall\n",
    "\n",
    "    print(f\"Accuracy: {best_RFC_result}\")\n",
    "    print(f\"Est: {best_RFC_estimators}\")\n",
    "    print(f\"Depth: {best_RFC_depth}\")\n",
    "    print(f\"F1-мера: {best_RFC_f1}\")\n",
    "    print(\"Точность:\", best_RFC_precision)\n",
    "    print(\"Полнота:\", best_RFC_recall)"
   ]
  },
  {
   "cell_type": "markdown",
   "metadata": {},
   "source": [
    "Проверим функцию `best_f1_RFC_depth` передав в качестве параметров диапазон количества деревьев со значением `100` и максимальной глубины со значением `20`"
   ]
  },
  {
   "cell_type": "code",
   "execution_count": 20,
   "metadata": {},
   "outputs": [],
   "source": [
    "# best_f1_RFC_depth(features_train, target_train, features_valid, target_valid, 100, 20)"
   ]
  },
  {
   "cell_type": "markdown",
   "metadata": {},
   "source": [
    "Результат выполнения функции `best_f1_RFC_depth(features_train, target_train, features_valid, target_valid, 100, 20)`\n",
    "`\n",
    "Accuracy: 0.8724573941726224\n",
    "Est: 17\n",
    "Depth: 13\n",
    "F1-мера: 0.5944055944055944\n",
    "Точность: 0.7692307692307693\n",
    "Полнота: 0.4843304843304843\n",
    "`"
   ]
  },
  {
   "cell_type": "markdown",
   "metadata": {},
   "source": [
    "Наилучшее значение `F1-меры` равное `0.5944...` достигает необходимого по заданию `0.59` при наилучшей глубине `13` и количеству деревьев равному `17`"
   ]
  },
  {
   "cell_type": "code",
   "execution_count": 21,
   "metadata": {},
   "outputs": [
    {
     "name": "stdout",
     "output_type": "stream",
     "text": [
      "F1: 0.5944055944055944\n"
     ]
    }
   ],
   "source": [
    "RFC_model = RandomForestClassifier(random_state=12345, n_estimators=17, max_depth=13)\n",
    "RFC_model.fit(features_train, target_train)\n",
    "\n",
    "predicted_valid = RFC_model.predict(features_valid)\n",
    "\n",
    "print(\"F1:\", f1_score(target_valid, predicted_valid))"
   ]
  },
  {
   "cell_type": "markdown",
   "metadata": {},
   "source": [
    "### Вывод"
   ]
  },
  {
   "cell_type": "markdown",
   "metadata": {},
   "source": [
    "Сравнение показаний `F1-меры` для трех моделей и их гиперпараметров для несбалансированной выборки:  \n",
    "\n",
    "• `LRCW_model` с гиперпараметрами: `class_weight='balanced'` = f1-мера: `0.5025432349949135`  \n",
    "• `DTC_model` с гиперпараметрами: `max_depth=7` = f1-мера: `0.5534804753820034`  \n",
    "• `RFC_model` с гиперпараметрами: `n_estimators=17` и `max_depth=13` = f1-мера: `0.5944055944055944`  \n",
    " "
   ]
  },
  {
   "cell_type": "markdown",
   "metadata": {},
   "source": [
    "В итоге после применения трех моделей с различными гиперпараметрами достичь `F1-меры` с максимальным приближением в `0.5944...` удалось получить лишь с применением модели `RFC_model - RandomForestClassifier` и гиперапараметрами `n_estimators=17`, `max_depth=13`<br>\n",
    "На следующих шагах предпримем меры по обработке дисбаланса и проверим такие же модели еще раз."
   ]
  },
  {
   "cell_type": "markdown",
   "metadata": {},
   "source": [
    "## Борьба с дисбалансом"
   ]
  },
  {
   "cell_type": "markdown",
   "metadata": {},
   "source": [
    "Улучшим качество модели, учитывая дисбаланс классов. Обучим разные модели и найдем лучшую.  \n",
    "Разделим обучающую выборку на отрицательные и положительные объекты и посмотрим на их разницу используя метод `.shape`"
   ]
  },
  {
   "cell_type": "code",
   "execution_count": 22,
   "metadata": {
    "scrolled": true
   },
   "outputs": [
    {
     "name": "stdout",
     "output_type": "stream",
     "text": [
      "(4328, 11)\n",
      "(1126, 11)\n",
      "(4328,)\n",
      "(1126,)\n"
     ]
    }
   ],
   "source": [
    "features_zeros = features_train[target_train == 0]\n",
    "features_ones = features_train[target_train == 1]\n",
    "target_zeros = target_train[target == 0]\n",
    "target_ones = target_train[target == 1]\n",
    "\n",
    "print(features_zeros.shape)\n",
    "print(features_ones.shape)\n",
    "print(target_zeros.shape)\n",
    "print(target_ones.shape)\n"
   ]
  },
  {
   "cell_type": "markdown",
   "metadata": {},
   "source": [
    "### Содание функций `upsample` и `downsample`"
   ]
  },
  {
   "cell_type": "markdown",
   "metadata": {},
   "source": [
    "Создадим две функции  \n",
    "• `upsample` - для увеличения выборки и  \n",
    "• `downsample` - для уменьшения"
   ]
  },
  {
   "cell_type": "markdown",
   "metadata": {},
   "source": [
    "Функция `upsample` - скопируем несколько раз положительные объекты, с учётом полученных данных создадим новую обучающую выборку и перемешаем данные с помощью функции `shuffle()`"
   ]
  },
  {
   "cell_type": "code",
   "execution_count": 23,
   "metadata": {},
   "outputs": [],
   "source": [
    "def upsample(features, target, repeat):\n",
    "    features_zeros = features[target == 0]\n",
    "    features_ones = features[target == 1]\n",
    "    target_zeros = target[target == 0]\n",
    "    target_ones = target[target == 1]\n",
    "\n",
    "    features_upsampled = pd.concat([features_zeros] + [features_ones] * repeat)\n",
    "    target_upsampled = pd.concat([target_zeros] + [target_ones] * repeat)\n",
    "    \n",
    "    features_upsampled, target_upsampled = shuffle(\n",
    "        features_upsampled, target_upsampled, random_state=12345)\n",
    "    \n",
    "    return features_upsampled, target_upsampled"
   ]
  },
  {
   "cell_type": "markdown",
   "metadata": {},
   "source": [
    "Функция `downsample` - случайным образом отбросим часть из отрицательных объектов, с учётом полученных данных создадим новую обучающую выборку и так же перемешаем данные с помощью функции `shuffle()`"
   ]
  },
  {
   "cell_type": "code",
   "execution_count": 24,
   "metadata": {},
   "outputs": [],
   "source": [
    "def downsample(features, target, fraction):\n",
    "    features_zeros = features[target == 0]\n",
    "    features_ones = features[target == 1]\n",
    "    target_zeros = target[target == 0]\n",
    "    target_ones = target[target == 1]\n",
    "\n",
    "    features_downsampled = pd.concat(\n",
    "        [features_zeros.sample(frac=fraction, random_state=12345)] + [features_ones])\n",
    "    target_downsampled = pd.concat(\n",
    "        [target_zeros.sample(frac=fraction, random_state=12345)] + [target_ones])\n",
    "    \n",
    "    features_downsampled, target_downsampled = shuffle(\n",
    "        features_downsampled, target_downsampled, random_state=12345)\n",
    "    \n",
    "    return features_downsampled, target_downsampled"
   ]
  },
  {
   "cell_type": "markdown",
   "metadata": {},
   "source": [
    "### Увеличение выборки - `upsample`"
   ]
  },
  {
   "cell_type": "code",
   "execution_count": 25,
   "metadata": {},
   "outputs": [
    {
     "name": "stdout",
     "output_type": "stream",
     "text": [
      "(6580, 11)\n",
      "(6580,)\n"
     ]
    }
   ],
   "source": [
    "features_upsampled, target_upsampled = upsample(features_train, target_train, 2)\n",
    "print(features_upsampled.shape)\n",
    "print(target_upsampled.shape)"
   ]
  },
  {
   "cell_type": "markdown",
   "metadata": {},
   "source": [
    "#### LogisticRegression"
   ]
  },
  {
   "cell_type": "markdown",
   "metadata": {},
   "source": [
    "Модель логистической регрессии с увеличенной выборкой и балансом классов"
   ]
  },
  {
   "cell_type": "code",
   "execution_count": 26,
   "metadata": {},
   "outputs": [
    {
     "name": "stdout",
     "output_type": "stream",
     "text": [
      "F1-мера: 0.5025432349949135\n"
     ]
    }
   ],
   "source": [
    "LRCW_UPS_model = LogisticRegression(random_state=12345, solver='liblinear', class_weight='balanced')\n",
    "LRCW_UPS_model.fit(features_upsampled, target_upsampled)\n",
    "predicted_valid = LRCW_UPS_model.predict(features_valid)\n",
    "\n",
    "print(\"F1-мера:\", f1_score(target_valid, predicted_valid))"
   ]
  },
  {
   "cell_type": "markdown",
   "metadata": {},
   "source": [
    "#### DecisionTreeClassifier"
   ]
  },
  {
   "cell_type": "markdown",
   "metadata": {},
   "source": [
    "Поиск наилучшей глубины моделью `DecisionTreeClassifier`"
   ]
  },
  {
   "cell_type": "code",
   "execution_count": 27,
   "metadata": {},
   "outputs": [],
   "source": [
    "# best_f1_DTC_depth(features_upsampled, target_upsampled, features_valid, target_valid, 10)"
   ]
  },
  {
   "cell_type": "markdown",
   "metadata": {},
   "source": [
    "Результат функции `best_f1_DTC_depth(features_upsampled, target_upsampled, features_valid, target_valid, 10)`<br>\n",
    "`\n",
    "Accuracy: 0.822429906542056\n",
    "Depth: 5\n",
    "F1-мера: 0.5832258064516129\n",
    "Точность: 0.5330188679245284\n",
    "Полнота: 0.6438746438746439\n",
    "`"
   ]
  },
  {
   "cell_type": "markdown",
   "metadata": {},
   "source": [
    "Наилучший показатель `F1` равен `0.5832...` для `DecisionTreeClassifier` достигнут с гиперпараметрами `max_depth=5` для `upsampled` выборки"
   ]
  },
  {
   "cell_type": "code",
   "execution_count": 28,
   "metadata": {},
   "outputs": [
    {
     "name": "stdout",
     "output_type": "stream",
     "text": [
      "F1: 0.5832258064516129\n"
     ]
    }
   ],
   "source": [
    "DTC_UPS_model = DecisionTreeClassifier(max_depth=5, random_state=12345)\n",
    "DTC_UPS_model.fit(features_upsampled, target_upsampled)\n",
    "predicted_valid = DTC_UPS_model.predict(features_valid)\n",
    "\n",
    "print(\"F1:\", f1_score(target_valid, predicted_valid))"
   ]
  },
  {
   "cell_type": "markdown",
   "metadata": {},
   "source": [
    "#### RandomForestClassifier"
   ]
  },
  {
   "cell_type": "markdown",
   "metadata": {},
   "source": [
    "Поиск наилучшей глубины и количеством деревьев моделью `RandomForestClassifier`"
   ]
  },
  {
   "cell_type": "code",
   "execution_count": 29,
   "metadata": {},
   "outputs": [],
   "source": [
    "# best_f1_RFC_depth(features_upsampled, target_upsampled, features_valid, target_valid, 100, 20)"
   ]
  },
  {
   "cell_type": "markdown",
   "metadata": {},
   "source": [
    "Результат функции `best_f1_RFC_depth(features_upsampled, target_upsampled, features_valid, target_valid, 100, 20)`<br>\n",
    "`\n",
    "Accuracy: 0.8713578889499725\n",
    "Est: 24\n",
    "Depth: 16\n",
    "F1-мера: 0.6309148264984227\n",
    "Точность: 0.7067137809187279\n",
    "Полнота: 0.5698005698005698\n",
    "`"
   ]
  },
  {
   "cell_type": "markdown",
   "metadata": {},
   "source": [
    "Наилучший показатель `F1` равен `0.6309...` для `RandomForestClassifier` достигнут с гиперпараметрами `max_depth=16` и `n_estimators=24` для `upsampled` выборки"
   ]
  },
  {
   "cell_type": "code",
   "execution_count": 30,
   "metadata": {},
   "outputs": [
    {
     "name": "stdout",
     "output_type": "stream",
     "text": [
      "F1: 0.6309148264984227\n"
     ]
    }
   ],
   "source": [
    "RFC_UPS_model = RandomForestClassifier(random_state=12345, n_estimators=24, max_depth=16)\n",
    "RFC_UPS_model.fit(features_upsampled, target_upsampled)\n",
    "\n",
    "predicted_valid = RFC_UPS_model.predict(features_valid)\n",
    "\n",
    "print(\"F1:\", f1_score(target_valid, predicted_valid))"
   ]
  },
  {
   "cell_type": "markdown",
   "metadata": {},
   "source": [
    "#### Вывод"
   ]
  },
  {
   "cell_type": "markdown",
   "metadata": {},
   "source": [
    "Сравнение показаний `F1-меры` для трех моделей и их гиперпараметров для **увеличенной** выборки:  \n",
    "• `LRCW_UPS_model` с гиперпараметрами: `class_weight='balanced'` = f1-мера: `0.5025432349949135`  \n",
    "• `DTC_UPS_model` с гиперпараметрами: `max_depth=5` = f1-мера: `0.5832258064516129`  \n",
    "• `RFC_UPS_model` с гиперпараметрами: `n_estimators=24` и `max_depth=16` = f1-мера: `0.6309148264984227`  "
   ]
  },
  {
   "cell_type": "markdown",
   "metadata": {},
   "source": [
    "В итоге после применения трех моделей с различными гиперпараметрами достичь `F1-меры` со значением в `0.6309...` удалось получить лишь с применением модели `RFC_UPS_model - RandomForestClassifier` и гиперапараметрами `n_estimators24`, `max_depth=16`<br>\n",
    "На следующем шаге попробуем уменьшить выборку и проверим такие же модели еще раз."
   ]
  },
  {
   "cell_type": "markdown",
   "metadata": {},
   "source": [
    "### Уменьшение выборки - `downsampled`"
   ]
  },
  {
   "cell_type": "code",
   "execution_count": 31,
   "metadata": {},
   "outputs": [
    {
     "name": "stdout",
     "output_type": "stream",
     "text": [
      "(4588, 11)\n",
      "(4588,)\n"
     ]
    }
   ],
   "source": [
    "features_downsampled, target_downsampled = downsample(features_train, target_train, 0.8)\n",
    "print(features_downsampled.shape)\n",
    "print(target_downsampled.shape)"
   ]
  },
  {
   "cell_type": "markdown",
   "metadata": {},
   "source": [
    "#### LogisticRegression"
   ]
  },
  {
   "cell_type": "markdown",
   "metadata": {},
   "source": [
    "Модель логистической регрессии с уменьшеной выборкой и балансом классов"
   ]
  },
  {
   "cell_type": "code",
   "execution_count": 32,
   "metadata": {},
   "outputs": [
    {
     "name": "stdout",
     "output_type": "stream",
     "text": [
      "F1: 0.5010183299389003\n"
     ]
    }
   ],
   "source": [
    "LRCW_DOWNS_model = LogisticRegression(random_state=12345, solver='liblinear', class_weight='balanced')\n",
    "LRCW_DOWNS_model.fit(features_downsampled, target_downsampled)\n",
    "predicted_valid = LRCW_DOWNS_model.predict(features_valid)\n",
    "\n",
    "print(\"F1:\", f1_score(target_valid, predicted_valid))"
   ]
  },
  {
   "cell_type": "markdown",
   "metadata": {},
   "source": [
    "#### DecisionTreeClassifier"
   ]
  },
  {
   "cell_type": "markdown",
   "metadata": {},
   "source": [
    "Поиск наилучшей глубины моделью `DecisionTreeClassifier`"
   ]
  },
  {
   "cell_type": "code",
   "execution_count": 33,
   "metadata": {},
   "outputs": [],
   "source": [
    "# best_f1_DTC_depth(features_downsampled, target_downsampled, features_valid, target_valid, 20)"
   ]
  },
  {
   "cell_type": "markdown",
   "metadata": {},
   "source": [
    "Результат функции `best_f1_DTC_depth(features_downsampled, target_downsampled, features_valid, target_valid, 20)`<br>\n",
    "`\n",
    "Accuracy: 0.8581638262781748\n",
    "Depth: 6\n",
    "F1-мера: 0.559726962457338\n",
    "Точность: 0.6978723404255319\n",
    "Полнота: 0.4672364672364672\n",
    "`"
   ]
  },
  {
   "cell_type": "markdown",
   "metadata": {},
   "source": [
    "Наилучший показатель `F1` равен `0.5597...` для `DecisionTreeClassifier` достигнут с гиперпараметрами `max_depth=6` для `downsampled` выборки"
   ]
  },
  {
   "cell_type": "code",
   "execution_count": 34,
   "metadata": {},
   "outputs": [
    {
     "name": "stdout",
     "output_type": "stream",
     "text": [
      "F1: 0.559726962457338\n"
     ]
    }
   ],
   "source": [
    "DTC_DOWNS_model = DecisionTreeClassifier(max_depth=6, random_state=12345)\n",
    "DTC_DOWNS_model.fit(features_downsampled, target_downsampled)\n",
    "predicted_valid = DTC_DOWNS_model.predict(features_valid)\n",
    "\n",
    "print(\"F1:\", f1_score(target_valid, predicted_valid))"
   ]
  },
  {
   "cell_type": "markdown",
   "metadata": {},
   "source": [
    "#### RandomForestClassifier"
   ]
  },
  {
   "cell_type": "markdown",
   "metadata": {},
   "source": [
    "Поиск наилучшей глубины и количеством деревьев моделью `RandomForestClassifier`"
   ]
  },
  {
   "cell_type": "code",
   "execution_count": 35,
   "metadata": {},
   "outputs": [],
   "source": [
    "# best_f1_RFC_depth(features_downsampled, target_downsampled, features_valid, target_valid, 100, 20)"
   ]
  },
  {
   "cell_type": "markdown",
   "metadata": {},
   "source": [
    "Результат функции `best_f1_RFC_depth(features_downsampled, target_downsampled, features_valid, target_valid, 100, 20)`<br>\n",
    "`\n",
    "Accuracy: 0.8658603628367235\n",
    "Est: 59\n",
    "Depth: 19\n",
    "F1-мера: 0.6064516129032258\n",
    "Точность: 0.6988847583643123\n",
    "Полнота: 0.5356125356125356\n",
    "`"
   ]
  },
  {
   "cell_type": "markdown",
   "metadata": {},
   "source": [
    "Наилучший показатель `F1` равный `0.6064...` для `RandomForestClassifier` достигнут с гиперпараметрами `max_depth=19` и `n_estimators=59` для `downsampled` выборки"
   ]
  },
  {
   "cell_type": "code",
   "execution_count": 36,
   "metadata": {},
   "outputs": [
    {
     "name": "stdout",
     "output_type": "stream",
     "text": [
      "F1: 0.6064516129032258\n"
     ]
    }
   ],
   "source": [
    "RFC_DOWNS_model = RandomForestClassifier(random_state=12345, n_estimators=59, max_depth=19)\n",
    "RFC_DOWNS_model.fit(features_downsampled, target_downsampled)\n",
    "\n",
    "predicted_valid = RFC_DOWNS_model.predict(features_valid)\n",
    "\n",
    "print(\"F1:\", f1_score(target_valid, predicted_valid))"
   ]
  },
  {
   "cell_type": "markdown",
   "metadata": {},
   "source": [
    "#### Вывод"
   ]
  },
  {
   "cell_type": "markdown",
   "metadata": {},
   "source": [
    "Сравнение показаний `F1-меры` для трех моделей и их гиперпараметров для **уменьшеной** выборки:  \n",
    "• `LRCW_DOWNS_model` с гиперпараметрами: `class_weight='balanced'` = f1-мера: `0.5010183299389003`  \n",
    "• `DTC_DOWNS_model` с гиперпараметрами: `max_depth=6` = f1-мера: `0.559726962457338`  \n",
    "• `RFC_DOWNS_model` с гиперпараметрами: `n_estimators=59` и `max_depth=19` = f1-мера: `0.6064516129032258`  "
   ]
  },
  {
   "cell_type": "markdown",
   "metadata": {},
   "source": [
    "В итоге после применения трех моделей с различными гиперпараметрами удалось получить `F1-меры` выше `0.59` для модели:<br>\n",
    "• `F1-мера` равная `0.6064...` для `RFC_DOWNS_model - RandomForestClassifier` и гиперапараметрами `n_estimators=59`, `max_depth=19`<br>\n",
    "\n"
   ]
  },
  {
   "cell_type": "markdown",
   "metadata": {},
   "source": [
    "## Тестирование моделей"
   ]
  },
  {
   "cell_type": "markdown",
   "metadata": {},
   "source": [
    "Перечень моделей:  \n",
    "• `LRCW_model` - логистической регрессии и балансом классов  \n",
    "• `DTC_model` - решающего дерева и глубиной `=7`  \n",
    "• `RFC_model` - случайный лес с количеством деревьев `=17` и глубиной `=13`\n",
    "\n",
    "С увеличенной выборкой `upsample`:<br>\n",
    "• `LRCW_UPS_model` - логистической регрессии и балансом классов  \n",
    "• `DTC_UPS_model` - решающего дерева и глубиной `=5`   \n",
    "• `RFC_UPS_model` - случайный лес с количеством деревьев `=24` и глубиной `=16`  \n",
    "\n",
    "С уменьшеной выборкой `downsample`:<br>\n",
    "• `LRCW_DOWNS_model` - логистической регрессии и балансом классов  \n",
    "• `DTC_DOWNS_model` - решающего дерева и глубиной `=6`  \n",
    "• `RFC_DOWNS_model` - случайный лес с количеством деревьев `=59` и глубиной `=19`  "
   ]
  },
  {
   "cell_type": "code",
   "execution_count": 37,
   "metadata": {},
   "outputs": [],
   "source": [
    "models_dict = {\n",
    "    'LRCW_model' : LRCW_model,\n",
    "    'DTC_model' : DTC_model,\n",
    "    'RFC_model' : RFC_model,\n",
    "    'LRCW_UPS_model' : LRCW_UPS_model, \n",
    "    'DTC_UPS_model' : DTC_UPS_model,\n",
    "    'RFC_UPS_model' : RFC_UPS_model,\n",
    "    'LRCW_DOWNS_model' : LRCW_DOWNS_model, \n",
    "    'DTC_DOWNS_model' : DTC_DOWNS_model,\n",
    "    'RFC_DOWNS_model' : RFC_DOWNS_model,\n",
    "    }"
   ]
  },
  {
   "cell_type": "code",
   "execution_count": 38,
   "metadata": {},
   "outputs": [],
   "source": [
    "def testing_models(model_name, model):\n",
    "    predicted_test = model.predict(features_test)\n",
    "    print(\n",
    "        f\"|• Модель: {model_name} \\n\"\n",
    "        f\"|• F1-мера: {f1_score(target_test, predicted_test)}\\n\")"
   ]
  },
  {
   "cell_type": "code",
   "execution_count": 39,
   "metadata": {},
   "outputs": [
    {
     "name": "stdout",
     "output_type": "stream",
     "text": [
      "|• Модель: LRCW_model \n",
      "|• F1-мера: 0.509731232622799\n",
      "\n",
      "|• Модель: DTC_model \n",
      "|• F1-мера: 0.5764331210191083\n",
      "\n",
      "|• Модель: RFC_model \n",
      "|• F1-мера: 0.5590682196339434\n",
      "\n",
      "|• Модель: LRCW_UPS_model \n",
      "|• F1-мера: 0.509731232622799\n",
      "\n",
      "|• Модель: DTC_UPS_model \n",
      "|• F1-мера: 0.5916167664670658\n",
      "\n",
      "|• Модель: RFC_UPS_model \n",
      "|• F1-мера: 0.6054216867469879\n",
      "\n",
      "|• Модель: LRCW_DOWNS_model \n",
      "|• F1-мера: 0.5078485687903971\n",
      "\n",
      "|• Модель: DTC_DOWNS_model \n",
      "|• F1-мера: 0.575609756097561\n",
      "\n",
      "|• Модель: RFC_DOWNS_model \n",
      "|• F1-мера: 0.5905631659056316\n",
      "\n"
     ]
    }
   ],
   "source": [
    "for key, value in models_dict.items():\n",
    "    testing_models(key, value)"
   ]
  },
  {
   "cell_type": "markdown",
   "metadata": {},
   "source": [
    "### ROC кривая"
   ]
  },
  {
   "cell_type": "markdown",
   "metadata": {},
   "source": [
    "Создадим функцию которая подсчитает `TPR` и `FPR` и выведет график с `ROC-кривой`.\n",
    "Дополнительно чтобы выявить, как сильно модель отличается от случайной, посчитаем площадь под `ROC-кривой`, выведем метрику `AUC-ROC` на графике.  \n",
    "Чем больше кривая охватывает верхний левый угол графика, тем лучше модель классифицирует данные по категориям.  \n",
    "И чем ближе `AUC` к `1`, тем лучше модель."
   ]
  },
  {
   "cell_type": "markdown",
   "metadata": {},
   "source": [
    "Переберем все модели и построим графики"
   ]
  },
  {
   "cell_type": "code",
   "execution_count": 41,
   "metadata": {},
   "outputs": [],
   "source": [
    "def roc_curve_plot_all():\n",
    "    \n",
    "    fpr_tpr_list = []\n",
    "    auc_roc_list = []\n",
    "    model_names_list = []\n",
    "    \n",
    "    for model_name, model in models_dict.items():\n",
    "        probabilities_test = model.predict_proba(features_test)\n",
    "        probabilities_one_test = probabilities_test[:, 1]\n",
    "\n",
    "        fpr, tpr, thresholds = roc_curve(target_test, probabilities_one_test)\n",
    "        \n",
    "        fpr_tpr_list.append([fpr, tpr])\n",
    "        auc_roc_list.append(roc_auc_score(target_test, probabilities_one_test))\n",
    "        model_names_list.append(model_name)\n",
    "\n",
    "    plt.style.use('seaborn')\n",
    "    plt.figure(figsize=(14,7))\n",
    "    \n",
    "    for i in range(len(model_names_list)):\n",
    "        plt.plot(fpr_tpr_list[i][0],\n",
    "                 fpr_tpr_list[i][1],\n",
    "                 label=f\"Модель: {model_names_list[i]} \\nAUC: {auc_roc_list[i]}\\n\",\n",
    "                 alpha=0.7,\n",
    "                )\n",
    "    # ROC-кривая случайной модели (выглядит как прямая)c\n",
    "    plt.plot([0, 1], [0, 1], linestyle='--')\n",
    "    \n",
    "    plt.xlabel('False Positive Rate')\n",
    "    plt.ylabel('True Positive Rate')\n",
    "    plt.ylim([0.0, 1])\n",
    "    plt.xlim([0.0, 1])\n",
    "    plt.title(f'ROC-кривые')\n",
    "    plt.legend(bbox_to_anchor=(1,0), loc=\"lower left\")\n",
    "    plt.grid(color='grey', linestyle='-.', linewidth=0.7)\n",
    "    \n",
    "    plt.show()"
   ]
  },
  {
   "cell_type": "code",
   "execution_count": 42,
   "metadata": {
    "scrolled": false
   },
   "outputs": [
    {
     "data": {
      "image/png": "[encoded data removed]",
      "text/plain": [
       "<Figure size 1008x504 with 1 Axes>"
      ]
     },
     "metadata": {},
     "output_type": "display_data"
    }
   ],
   "source": [
    "roc_curve_plot_all()"
   ]
  },
  {
   "cell_type": "markdown",
   "metadata": {},
   "source": [
    "Наилучший показатель `AUC=0.8621...`  метрики у модели `RFC_DOWNS_model`, модели случайного леса с уменьшиной выборкой, с количеством деревьев `=59` и глубиной `=19`"
   ]
  },
  {
   "cell_type": "code",
   "execution_count": 43,
   "metadata": {},
   "outputs": [
    {
     "data": {
      "image/png": "[encoded data removed]",
      "text/plain": [
       "<Figure size 720x360 with 1 Axes>"
      ]
     },
     "metadata": {},
     "output_type": "display_data"
    }
   ],
   "source": [
    "probabilities_test = RFC_DOWNS_model.predict_proba(features_test)\n",
    "probabilities_one_test = probabilities_test[:, 1]\n",
    "\n",
    "fpr, tpr, thresholds = roc_curve(target_test, probabilities_one_test)\n",
    "auc_roc = roc_auc_score(target_test, probabilities_one_test)\n",
    "\n",
    "plt.figure(figsize=(10,5))\n",
    "\n",
    "# ROC-кривая случайной модели (выглядит как прямая)\n",
    "plt.plot([0, 1], [0, 1], linestyle='--')\n",
    "plt.plot(fpr, tpr, label=f\"AUC: {auc_roc}\", alpha=0.9, color = \"m\")\n",
    "\n",
    "plt.xlabel('False Positive Rate')\n",
    "plt.ylabel('True Positive Rate')\n",
    "plt.ylim([0.0, 1])\n",
    "plt.xlim([0.0, 1])\n",
    "plt.title(f'ROC-кривая для \"RFC_UPS_model\"')\n",
    "plt.legend(loc=4)\n",
    "plt.grid(color='grey', linestyle='-.', linewidth=0.7)\n",
    "\n",
    "plt.show()"
   ]
  },
  {
   "cell_type": "markdown",
   "metadata": {},
   "source": [
    "## Общий вывод"
   ]
  },
  {
   "cell_type": "markdown",
   "metadata": {},
   "source": [
    "Применение прямого кодирования `OHE` и масштабирование выборки не помогли достичь необходимого по заданию показателя `F1-меры` равному `0.59` с использованием трех моделей, максимальное приближение со значением в `0.5764...` удалось получить лишь с применением модели:  \n",
    "- `DTC_model - RandomForestClassifier` и гиперапараметрами `n_estimators=17`, `max_depth=13`<br><br>\n",
    "\n",
    "Посчитав долю классов для `data['Exited']` было заметно что дисбаланс между классами почти в три раза и необходимо использовать дополнительные инструменты для борьбы с дисбалансом.<br>\n",
    "\n",
    "Попробовали увеличить выборку и использовать такие же три модели с различными гиперпараметрами. В результате достичь `F1-меры` с максимальным значением в `0.6054...` удалось получить лишь с применением модели:  \n",
    "- `RFC_UPS_model - RandomForestClassifier` и гиперапараметрами `n_estimators24`, `max_depth=16`<br> \n",
    "\n",
    "После уменьшения выборки удалось получить `F1-меру` со значением в `0.5905...` лишь с применением модели:<br>\n",
    "- `RFC_DOWNS_model - RandomForestClassifier` и гиперапараметрами `n_estimators=59`, `max_depth=19`<br><br>\n",
    "\n",
    "Сравнив все три результата моделей с дисбалансом, увеличенной и уменьшеной выборкой а так же построив графики с `ROC-кривой` и выводом метрики `AUC-ROC` наилучшими моделями являются:<br>\n",
    "- `RFC_UPS_model` с гиперпараметрами: `n_estimators=24` и `max_depth=16` для увеличенной выборки. Ее показатель `F1-меры` равен `0.6344...` и показатель `AUC` равен `0.8549...` <br><br>\n",
    "- `RFC_DOWNS_model` с гиперпараметрами: `n_estimators=59` и `max_depth=19` для уменьшиной выборки. Ее показатель `F1-меры` равен `0.5905...` и показатель `AUC` равен `0.8621...` "
   ]
  }
 ],
 "metadata": {
  "ExecuteTimeLog": [
   {
    "duration": 736,
    "start_time": "2022-01-14T08:29:36.380Z"
   },
   {
    "duration": 38,
    "start_time": "2022-01-14T08:30:46.213Z"
   },
   {
    "duration": 26,
    "start_time": "2022-01-14T08:30:59.628Z"
   },
   {
    "duration": 18,
    "start_time": "2022-01-14T08:31:12.522Z"
   },
   {
    "duration": 18,
    "start_time": "2022-01-14T08:31:24.924Z"
   },
   {
    "duration": 18,
    "start_time": "2022-01-14T08:33:30.612Z"
   },
   {
    "duration": 1077,
    "start_time": "2022-01-17T11:52:30.315Z"
   },
   {
    "duration": 436,
    "start_time": "2022-01-17T11:53:33.341Z"
   },
   {
    "duration": 3,
    "start_time": "2022-01-17T11:53:40.696Z"
   },
   {
    "duration": 40,
    "start_time": "2022-01-17T11:53:41.668Z"
   },
   {
    "duration": 23,
    "start_time": "2022-01-17T11:53:42.588Z"
   },
   {
    "duration": 306,
    "start_time": "2022-01-17T11:53:44.794Z"
   },
   {
    "duration": 582,
    "start_time": "2022-01-17T11:56:45.184Z"
   },
   {
    "duration": 3,
    "start_time": "2022-01-17T11:59:42.779Z"
   },
   {
    "duration": 38,
    "start_time": "2022-01-17T11:59:42.784Z"
   },
   {
    "duration": 22,
    "start_time": "2022-01-17T11:59:42.826Z"
   },
   {
    "duration": 567,
    "start_time": "2022-01-17T11:59:46.518Z"
   },
   {
    "duration": 481,
    "start_time": "2022-01-17T12:02:10.655Z"
   },
   {
    "duration": 508,
    "start_time": "2022-01-17T12:05:42.880Z"
   },
   {
    "duration": 1220,
    "start_time": "2022-01-17T12:05:56.685Z"
   },
   {
    "duration": 88,
    "start_time": "2022-01-17T12:07:05.516Z"
   },
   {
    "duration": 86,
    "start_time": "2022-01-17T12:07:16.576Z"
   },
   {
    "duration": 1228,
    "start_time": "2022-01-17T12:07:32.672Z"
   },
   {
    "duration": 672,
    "start_time": "2022-01-17T12:15:09.208Z"
   },
   {
    "duration": 828,
    "start_time": "2022-01-17T12:20:42.525Z"
   },
   {
    "duration": 591,
    "start_time": "2022-01-17T12:20:56.086Z"
   },
   {
    "duration": 269,
    "start_time": "2022-01-17T12:21:11.733Z"
   },
   {
    "duration": 1126,
    "start_time": "2022-01-17T12:53:37.390Z"
   },
   {
    "duration": 29,
    "start_time": "2022-01-17T12:53:39.295Z"
   },
   {
    "duration": 29,
    "start_time": "2022-01-17T12:53:42.085Z"
   },
   {
    "duration": 1734,
    "start_time": "2022-01-17T12:54:14.211Z"
   },
   {
    "duration": 28,
    "start_time": "2022-01-17T12:59:38.861Z"
   },
   {
    "duration": 14,
    "start_time": "2022-01-17T12:59:39.742Z"
   },
   {
    "duration": 521,
    "start_time": "2022-01-17T12:59:55.157Z"
   },
   {
    "duration": 513,
    "start_time": "2022-01-17T13:01:41.075Z"
   },
   {
    "duration": 218,
    "start_time": "2022-01-17T13:05:18.459Z"
   },
   {
    "duration": 236,
    "start_time": "2022-01-17T13:05:24.521Z"
   },
   {
    "duration": 508,
    "start_time": "2022-01-17T13:05:35.027Z"
   },
   {
    "duration": 13,
    "start_time": "2022-01-17T13:08:22.368Z"
   },
   {
    "duration": 40,
    "start_time": "2022-01-17T13:08:44.087Z"
   },
   {
    "duration": 10,
    "start_time": "2022-01-17T13:09:24.399Z"
   },
   {
    "duration": 8,
    "start_time": "2022-01-17T13:12:39.334Z"
   },
   {
    "duration": 9,
    "start_time": "2022-01-17T13:12:51.174Z"
   },
   {
    "duration": 471,
    "start_time": "2022-01-17T13:12:56.855Z"
   },
   {
    "duration": 703,
    "start_time": "2022-01-17T13:13:07.333Z"
   },
   {
    "duration": 189,
    "start_time": "2022-01-17T13:29:25.745Z"
   },
   {
    "duration": 170,
    "start_time": "2022-01-17T13:29:34.493Z"
   },
   {
    "duration": 36,
    "start_time": "2022-01-17T13:32:24.348Z"
   },
   {
    "duration": 147,
    "start_time": "2022-01-17T13:33:28.332Z"
   },
   {
    "duration": 34,
    "start_time": "2022-01-17T13:34:42.931Z"
   },
   {
    "duration": 4,
    "start_time": "2022-01-17T13:35:22.564Z"
   },
   {
    "duration": 46,
    "start_time": "2022-01-17T13:35:22.571Z"
   },
   {
    "duration": 21,
    "start_time": "2022-01-17T13:35:22.620Z"
   },
   {
    "duration": 17,
    "start_time": "2022-01-17T13:35:22.644Z"
   },
   {
    "duration": 10,
    "start_time": "2022-01-17T13:35:22.664Z"
   },
   {
    "duration": 210,
    "start_time": "2022-01-17T13:35:22.677Z"
   },
   {
    "duration": 40,
    "start_time": "2022-01-17T13:35:22.890Z"
   },
   {
    "duration": 242,
    "start_time": "2022-01-17T13:35:22.933Z"
   },
   {
    "duration": 425,
    "start_time": "2022-01-17T13:35:23.178Z"
   },
   {
    "duration": 415,
    "start_time": "2022-01-17T13:35:24.887Z"
   },
   {
    "duration": 41,
    "start_time": "2022-01-17T13:35:26.145Z"
   },
   {
    "duration": 370,
    "start_time": "2022-01-17T13:38:23.949Z"
   },
   {
    "duration": 34,
    "start_time": "2022-01-17T13:38:25.107Z"
   },
   {
    "duration": 553,
    "start_time": "2022-01-17T13:41:20.125Z"
   },
   {
    "duration": 3,
    "start_time": "2022-01-17T13:41:36.552Z"
   },
   {
    "duration": 2019,
    "start_time": "2022-01-17T13:41:41.043Z"
   },
   {
    "duration": 446,
    "start_time": "2022-01-17T13:42:17.416Z"
   },
   {
    "duration": 3,
    "start_time": "2022-01-17T13:42:54.513Z"
   },
   {
    "duration": 54,
    "start_time": "2022-01-17T13:42:54.519Z"
   },
   {
    "duration": 12,
    "start_time": "2022-01-17T13:42:54.575Z"
   },
   {
    "duration": 24,
    "start_time": "2022-01-17T13:42:54.590Z"
   },
   {
    "duration": 41,
    "start_time": "2022-01-17T13:42:54.617Z"
   },
   {
    "duration": 194,
    "start_time": "2022-01-17T13:42:54.660Z"
   },
   {
    "duration": 42,
    "start_time": "2022-01-17T13:42:54.856Z"
   },
   {
    "duration": 166,
    "start_time": "2022-01-17T13:42:54.900Z"
   },
   {
    "duration": 367,
    "start_time": "2022-01-17T13:42:57.438Z"
   },
   {
    "duration": 57,
    "start_time": "2022-01-17T13:42:59.212Z"
   },
   {
    "duration": 1481,
    "start_time": "2022-01-17T13:43:01.881Z"
   },
   {
    "duration": 415,
    "start_time": "2022-01-17T13:43:04.351Z"
   },
   {
    "duration": 1658,
    "start_time": "2022-01-17T13:44:48.020Z"
   },
   {
    "duration": 53,
    "start_time": "2022-01-17T13:44:49.681Z"
   },
   {
    "duration": 24,
    "start_time": "2022-01-17T13:44:49.738Z"
   },
   {
    "duration": 9,
    "start_time": "2022-01-17T13:44:49.764Z"
   },
   {
    "duration": 7,
    "start_time": "2022-01-17T13:44:49.775Z"
   },
   {
    "duration": 196,
    "start_time": "2022-01-17T13:44:49.784Z"
   },
   {
    "duration": 60,
    "start_time": "2022-01-17T13:44:49.982Z"
   },
   {
    "duration": 172,
    "start_time": "2022-01-17T13:44:50.044Z"
   },
   {
    "duration": 477,
    "start_time": "2022-01-17T13:44:50.218Z"
   },
   {
    "duration": 70,
    "start_time": "2022-01-17T13:44:50.698Z"
   },
   {
    "duration": 375,
    "start_time": "2022-01-17T13:45:12.220Z"
   },
   {
    "duration": 1401,
    "start_time": "2022-01-17T13:45:17.059Z"
   },
   {
    "duration": 37,
    "start_time": "2022-01-17T13:45:18.462Z"
   },
   {
    "duration": 18,
    "start_time": "2022-01-17T13:45:18.502Z"
   },
   {
    "duration": 19,
    "start_time": "2022-01-17T13:45:18.522Z"
   },
   {
    "duration": 9,
    "start_time": "2022-01-17T13:45:18.542Z"
   },
   {
    "duration": 196,
    "start_time": "2022-01-17T13:45:18.552Z"
   },
   {
    "duration": 61,
    "start_time": "2022-01-17T13:45:18.749Z"
   },
   {
    "duration": 168,
    "start_time": "2022-01-17T13:45:18.813Z"
   },
   {
    "duration": 373,
    "start_time": "2022-01-17T13:45:18.983Z"
   },
   {
    "duration": 100,
    "start_time": "2022-01-17T13:45:19.361Z"
   },
   {
    "duration": 2635,
    "start_time": "2022-01-17T13:45:21.533Z"
   },
   {
    "duration": 4,
    "start_time": "2022-01-17T13:45:58.142Z"
   },
   {
    "duration": 36,
    "start_time": "2022-01-17T13:45:58.148Z"
   },
   {
    "duration": 18,
    "start_time": "2022-01-17T13:45:58.187Z"
   },
   {
    "duration": 10,
    "start_time": "2022-01-17T13:45:58.207Z"
   },
   {
    "duration": 7,
    "start_time": "2022-01-17T13:45:58.219Z"
   },
   {
    "duration": 201,
    "start_time": "2022-01-17T13:45:58.228Z"
   },
   {
    "duration": 58,
    "start_time": "2022-01-17T13:45:58.431Z"
   },
   {
    "duration": 192,
    "start_time": "2022-01-17T13:45:58.491Z"
   },
   {
    "duration": 4,
    "start_time": "2022-01-17T13:45:58.686Z"
   },
   {
    "duration": 5,
    "start_time": "2022-01-17T13:45:58.692Z"
   },
   {
    "duration": 2661,
    "start_time": "2022-01-17T13:46:02.101Z"
   },
   {
    "duration": 111,
    "start_time": "2022-01-17T13:46:13.151Z"
   },
   {
    "duration": 427,
    "start_time": "2022-01-17T13:46:53.929Z"
   },
   {
    "duration": 183,
    "start_time": "2022-01-17T13:46:55.484Z"
   },
   {
    "duration": 2545,
    "start_time": "2022-01-17T13:47:32.121Z"
   },
   {
    "duration": 1013,
    "start_time": "2022-01-17T13:47:38.455Z"
   },
   {
    "duration": 1039,
    "start_time": "2022-01-17T13:47:43.222Z"
   },
   {
    "duration": 964,
    "start_time": "2022-01-17T13:47:49.396Z"
   },
   {
    "duration": 2151,
    "start_time": "2022-01-17T13:47:58.913Z"
   },
   {
    "duration": 1448,
    "start_time": "2022-01-17T13:48:07.318Z"
   },
   {
    "duration": 754,
    "start_time": "2022-01-17T13:48:13.117Z"
   },
   {
    "duration": 1450,
    "start_time": "2022-01-17T13:48:19.318Z"
   },
   {
    "duration": 358,
    "start_time": "2022-01-17T13:48:40.405Z"
   },
   {
    "duration": 113,
    "start_time": "2022-01-17T13:50:09.557Z"
   },
   {
    "duration": 1120,
    "start_time": "2022-01-17T13:50:48.650Z"
   },
   {
    "duration": 1068,
    "start_time": "2022-01-17T13:51:24.093Z"
   },
   {
    "duration": 1203,
    "start_time": "2022-01-17T13:53:43.145Z"
   },
   {
    "duration": 1200,
    "start_time": "2022-01-17T13:54:49.675Z"
   },
   {
    "duration": 1252,
    "start_time": "2022-01-17T13:55:06.492Z"
   },
   {
    "duration": 1210,
    "start_time": "2022-01-17T13:57:30.369Z"
   },
   {
    "duration": 502,
    "start_time": "2022-01-17T13:57:44.170Z"
   },
   {
    "duration": 543,
    "start_time": "2022-01-17T13:59:11.824Z"
   },
   {
    "duration": 511,
    "start_time": "2022-01-17T14:02:55.451Z"
   },
   {
    "duration": 398,
    "start_time": "2022-01-17T14:03:07.888Z"
   },
   {
    "duration": 603,
    "start_time": "2022-01-17T14:05:04.336Z"
   },
   {
    "duration": 374,
    "start_time": "2022-01-17T14:06:06.493Z"
   },
   {
    "duration": 2179,
    "start_time": "2022-01-17T14:08:02.088Z"
   },
   {
    "duration": 1034,
    "start_time": "2022-01-17T14:08:11.150Z"
   },
   {
    "duration": 990,
    "start_time": "2022-01-17T14:08:21.689Z"
   },
   {
    "duration": 1028,
    "start_time": "2022-01-17T14:08:26.947Z"
   },
   {
    "duration": 659,
    "start_time": "2022-01-17T14:09:15.310Z"
   },
   {
    "duration": 697,
    "start_time": "2022-01-17T14:09:19.890Z"
   },
   {
    "duration": 727,
    "start_time": "2022-01-17T14:09:23.960Z"
   },
   {
    "duration": 833,
    "start_time": "2022-01-17T14:09:30.266Z"
   },
   {
    "duration": 676,
    "start_time": "2022-01-17T14:09:35.908Z"
   },
   {
    "duration": 444,
    "start_time": "2022-01-17T14:09:40.432Z"
   },
   {
    "duration": 434,
    "start_time": "2022-01-17T14:09:45.741Z"
   },
   {
    "duration": 437,
    "start_time": "2022-01-17T14:09:52.429Z"
   },
   {
    "duration": 4,
    "start_time": "2022-01-17T14:14:59.145Z"
   },
   {
    "duration": 3,
    "start_time": "2022-01-17T15:47:36.370Z"
   },
   {
    "duration": 5,
    "start_time": "2022-01-17T15:51:01.113Z"
   },
   {
    "duration": 13,
    "start_time": "2022-01-17T15:51:13.242Z"
   },
   {
    "duration": 4,
    "start_time": "2022-01-17T15:52:41.432Z"
   },
   {
    "duration": 24,
    "start_time": "2022-01-17T15:52:47.501Z"
   },
   {
    "duration": 19,
    "start_time": "2022-01-17T15:53:14.709Z"
   },
   {
    "duration": 377,
    "start_time": "2022-01-17T15:53:18.089Z"
   },
   {
    "duration": 1187,
    "start_time": "2022-01-17T15:53:22.244Z"
   },
   {
    "duration": 3,
    "start_time": "2022-01-17T15:53:41.414Z"
   },
   {
    "duration": 42,
    "start_time": "2022-01-17T15:53:41.419Z"
   },
   {
    "duration": 28,
    "start_time": "2022-01-17T15:53:41.463Z"
   },
   {
    "duration": 22,
    "start_time": "2022-01-17T15:53:41.494Z"
   },
   {
    "duration": 22,
    "start_time": "2022-01-17T15:53:41.518Z"
   },
   {
    "duration": 171,
    "start_time": "2022-01-17T15:53:41.542Z"
   },
   {
    "duration": 37,
    "start_time": "2022-01-17T15:53:41.715Z"
   },
   {
    "duration": 151,
    "start_time": "2022-01-17T15:53:41.760Z"
   },
   {
    "duration": 4,
    "start_time": "2022-01-17T15:53:41.914Z"
   },
   {
    "duration": 17,
    "start_time": "2022-01-17T15:53:41.920Z"
   },
   {
    "duration": 12,
    "start_time": "2022-01-17T15:53:44.426Z"
   },
   {
    "duration": 19,
    "start_time": "2022-01-17T15:53:45.262Z"
   },
   {
    "duration": 384,
    "start_time": "2022-01-17T15:53:48.883Z"
   },
   {
    "duration": 1210,
    "start_time": "2022-01-17T15:53:56.557Z"
   },
   {
    "duration": 114,
    "start_time": "2022-01-17T15:54:02.215Z"
   },
   {
    "duration": 1047,
    "start_time": "2022-01-17T15:54:06.137Z"
   },
   {
    "duration": 493,
    "start_time": "2022-01-17T15:54:11.784Z"
   },
   {
    "duration": 3,
    "start_time": "2022-01-17T16:12:55.128Z"
   },
   {
    "duration": 10,
    "start_time": "2022-01-17T16:13:46.010Z"
   },
   {
    "duration": 13,
    "start_time": "2022-01-17T16:13:52.623Z"
   },
   {
    "duration": 11,
    "start_time": "2022-01-17T16:14:04.467Z"
   },
   {
    "duration": 36,
    "start_time": "2022-01-17T16:22:28.251Z"
   },
   {
    "duration": 7,
    "start_time": "2022-01-17T16:22:46.556Z"
   },
   {
    "duration": 1027,
    "start_time": "2022-01-17T16:24:11.153Z"
   },
   {
    "duration": 526,
    "start_time": "2022-01-17T16:24:25.251Z"
   },
   {
    "duration": 2193,
    "start_time": "2022-01-17T16:25:43.179Z"
   },
   {
    "duration": 4,
    "start_time": "2022-01-17T16:25:54.808Z"
   },
   {
    "duration": 30,
    "start_time": "2022-01-17T16:25:54.815Z"
   },
   {
    "duration": 14,
    "start_time": "2022-01-17T16:25:54.848Z"
   },
   {
    "duration": 15,
    "start_time": "2022-01-17T16:25:54.864Z"
   },
   {
    "duration": 11,
    "start_time": "2022-01-17T16:25:54.881Z"
   },
   {
    "duration": 231,
    "start_time": "2022-01-17T16:25:54.895Z"
   },
   {
    "duration": 49,
    "start_time": "2022-01-17T16:25:55.129Z"
   },
   {
    "duration": 166,
    "start_time": "2022-01-17T16:25:55.181Z"
   },
   {
    "duration": 22,
    "start_time": "2022-01-17T16:25:55.360Z"
   },
   {
    "duration": 17,
    "start_time": "2022-01-17T16:25:55.384Z"
   },
   {
    "duration": 22,
    "start_time": "2022-01-17T16:25:55.403Z"
   },
   {
    "duration": 439,
    "start_time": "2022-01-17T16:25:55.427Z"
   },
   {
    "duration": 1370,
    "start_time": "2022-01-17T16:25:55.869Z"
   },
   {
    "duration": 116,
    "start_time": "2022-01-17T16:25:57.241Z"
   },
   {
    "duration": 1888,
    "start_time": "2022-01-17T16:26:00.795Z"
   },
   {
    "duration": 1164,
    "start_time": "2022-01-17T16:26:10.722Z"
   },
   {
    "duration": 1101,
    "start_time": "2022-01-17T16:26:15.792Z"
   },
   {
    "duration": 1303,
    "start_time": "2022-01-17T16:26:20.604Z"
   },
   {
    "duration": 1568,
    "start_time": "2022-01-17T16:26:27.002Z"
   },
   {
    "duration": 412,
    "start_time": "2022-01-17T16:26:40.659Z"
   },
   {
    "duration": 587,
    "start_time": "2022-01-17T16:26:46.987Z"
   },
   {
    "duration": 535,
    "start_time": "2022-01-17T16:26:57.047Z"
   },
   {
    "duration": 824,
    "start_time": "2022-01-17T16:27:01.653Z"
   },
   {
    "duration": 692,
    "start_time": "2022-01-17T16:27:05.986Z"
   },
   {
    "duration": 827,
    "start_time": "2022-01-17T16:27:09.847Z"
   },
   {
    "duration": 443,
    "start_time": "2022-01-17T16:27:14.525Z"
   },
   {
    "duration": 816,
    "start_time": "2022-01-17T16:27:35.564Z"
   },
   {
    "duration": 884,
    "start_time": "2022-01-17T16:27:40.002Z"
   },
   {
    "duration": 2349,
    "start_time": "2022-01-17T16:27:47.344Z"
   },
   {
    "duration": 2065,
    "start_time": "2022-01-17T16:27:53.230Z"
   },
   {
    "duration": 2304,
    "start_time": "2022-01-17T16:27:59.388Z"
   },
   {
    "duration": 412,
    "start_time": "2022-01-17T19:02:22.050Z"
   },
   {
    "duration": 3,
    "start_time": "2022-01-17T19:02:33.146Z"
   },
   {
    "duration": 33,
    "start_time": "2022-01-17T19:02:33.151Z"
   },
   {
    "duration": 10,
    "start_time": "2022-01-17T19:02:33.186Z"
   },
   {
    "duration": 9,
    "start_time": "2022-01-17T19:02:33.198Z"
   },
   {
    "duration": 6,
    "start_time": "2022-01-17T19:02:33.208Z"
   },
   {
    "duration": 158,
    "start_time": "2022-01-17T19:02:33.216Z"
   },
   {
    "duration": 38,
    "start_time": "2022-01-17T19:02:33.376Z"
   },
   {
    "duration": 160,
    "start_time": "2022-01-17T19:02:33.416Z"
   },
   {
    "duration": 12,
    "start_time": "2022-01-17T19:02:33.579Z"
   },
   {
    "duration": 7,
    "start_time": "2022-01-17T19:02:33.593Z"
   },
   {
    "duration": 11,
    "start_time": "2022-01-17T19:02:33.601Z"
   },
   {
    "duration": 394,
    "start_time": "2022-01-17T19:02:37.690Z"
   },
   {
    "duration": 1173,
    "start_time": "2022-01-17T19:03:11.046Z"
   },
   {
    "duration": 31,
    "start_time": "2022-01-17T19:03:12.221Z"
   },
   {
    "duration": 19,
    "start_time": "2022-01-17T19:03:12.254Z"
   },
   {
    "duration": 8,
    "start_time": "2022-01-17T19:03:12.275Z"
   },
   {
    "duration": 7,
    "start_time": "2022-01-17T19:03:12.285Z"
   },
   {
    "duration": 216,
    "start_time": "2022-01-17T19:03:12.293Z"
   },
   {
    "duration": 65,
    "start_time": "2022-01-17T19:03:12.511Z"
   },
   {
    "duration": 157,
    "start_time": "2022-01-17T19:03:12.577Z"
   },
   {
    "duration": 13,
    "start_time": "2022-01-17T19:03:12.736Z"
   },
   {
    "duration": 10,
    "start_time": "2022-01-17T19:03:12.751Z"
   },
   {
    "duration": 13,
    "start_time": "2022-01-17T19:03:12.763Z"
   },
   {
    "duration": 445,
    "start_time": "2022-01-17T19:03:15.718Z"
   },
   {
    "duration": 20,
    "start_time": "2022-01-17T19:03:47.010Z"
   },
   {
    "duration": 7,
    "start_time": "2022-01-17T19:03:48.016Z"
   },
   {
    "duration": 407,
    "start_time": "2022-01-17T19:03:50.957Z"
   },
   {
    "duration": 1226,
    "start_time": "2022-01-17T19:03:56.536Z"
   },
   {
    "duration": 123,
    "start_time": "2022-01-17T19:04:02.249Z"
   },
   {
    "duration": 1703,
    "start_time": "2022-01-17T19:04:04.773Z"
   },
   {
    "duration": 502,
    "start_time": "2022-01-17T19:04:08.873Z"
   },
   {
    "duration": 2,
    "start_time": "2022-01-17T19:04:17.152Z"
   },
   {
    "duration": 4,
    "start_time": "2022-01-17T19:04:22.555Z"
   },
   {
    "duration": 27,
    "start_time": "2022-01-17T19:04:22.561Z"
   },
   {
    "duration": 12,
    "start_time": "2022-01-17T19:04:22.590Z"
   },
   {
    "duration": 8,
    "start_time": "2022-01-17T19:04:22.604Z"
   },
   {
    "duration": 6,
    "start_time": "2022-01-17T19:04:22.614Z"
   },
   {
    "duration": 196,
    "start_time": "2022-01-17T19:04:22.622Z"
   },
   {
    "duration": 54,
    "start_time": "2022-01-17T19:04:22.819Z"
   },
   {
    "duration": 161,
    "start_time": "2022-01-17T19:04:22.875Z"
   },
   {
    "duration": 23,
    "start_time": "2022-01-17T19:04:23.039Z"
   },
   {
    "duration": 3,
    "start_time": "2022-01-17T19:04:23.064Z"
   },
   {
    "duration": 8,
    "start_time": "2022-01-17T19:04:23.069Z"
   },
   {
    "duration": 450,
    "start_time": "2022-01-17T19:04:25.614Z"
   },
   {
    "duration": 1097,
    "start_time": "2022-01-17T19:04:28.210Z"
   },
   {
    "duration": 108,
    "start_time": "2022-01-17T19:04:31.352Z"
   },
   {
    "duration": 1719,
    "start_time": "2022-01-17T19:04:32.953Z"
   },
   {
    "duration": 418,
    "start_time": "2022-01-17T19:04:37.364Z"
   },
   {
    "duration": 1002,
    "start_time": "2022-01-18T06:45:39.061Z"
   },
   {
    "duration": 28,
    "start_time": "2022-01-18T06:45:42.098Z"
   },
   {
    "duration": 21,
    "start_time": "2022-01-18T06:45:45.027Z"
   },
   {
    "duration": 10,
    "start_time": "2022-01-18T06:45:48.984Z"
   },
   {
    "duration": 8,
    "start_time": "2022-01-18T06:45:52.493Z"
   },
   {
    "duration": 176,
    "start_time": "2022-01-18T06:46:03.119Z"
   },
   {
    "duration": 58,
    "start_time": "2022-01-18T06:46:27.031Z"
   },
   {
    "duration": 145,
    "start_time": "2022-01-18T06:46:29.212Z"
   },
   {
    "duration": 13,
    "start_time": "2022-01-18T06:46:30.349Z"
   },
   {
    "duration": 2,
    "start_time": "2022-01-18T06:46:33.384Z"
   },
   {
    "duration": 6,
    "start_time": "2022-01-18T06:46:35.943Z"
   },
   {
    "duration": 449,
    "start_time": "2022-01-18T06:46:40.550Z"
   },
   {
    "duration": 433,
    "start_time": "2022-01-18T06:48:09.566Z"
   },
   {
    "duration": 392,
    "start_time": "2022-01-18T06:48:25.308Z"
   },
   {
    "duration": 1043,
    "start_time": "2022-01-18T06:48:46.413Z"
   },
   {
    "duration": 3,
    "start_time": "2022-01-18T06:52:29.327Z"
   },
   {
    "duration": 30,
    "start_time": "2022-01-18T06:52:29.332Z"
   },
   {
    "duration": 12,
    "start_time": "2022-01-18T06:52:29.365Z"
   },
   {
    "duration": 10,
    "start_time": "2022-01-18T06:52:29.379Z"
   },
   {
    "duration": 7,
    "start_time": "2022-01-18T06:52:29.390Z"
   },
   {
    "duration": 174,
    "start_time": "2022-01-18T06:52:29.399Z"
   },
   {
    "duration": 48,
    "start_time": "2022-01-18T06:52:29.574Z"
   },
   {
    "duration": 144,
    "start_time": "2022-01-18T06:52:29.623Z"
   },
   {
    "duration": 12,
    "start_time": "2022-01-18T06:52:29.769Z"
   },
   {
    "duration": 4,
    "start_time": "2022-01-18T06:52:29.783Z"
   },
   {
    "duration": 6,
    "start_time": "2022-01-18T06:52:29.798Z"
   },
   {
    "duration": 424,
    "start_time": "2022-01-18T06:52:33.977Z"
   },
   {
    "duration": 2,
    "start_time": "2022-01-18T06:52:56.296Z"
   },
   {
    "duration": 2,
    "start_time": "2022-01-18T06:52:57.880Z"
   },
   {
    "duration": 427,
    "start_time": "2022-01-18T06:53:03.075Z"
   },
   {
    "duration": 4,
    "start_time": "2022-01-18T06:53:07.015Z"
   },
   {
    "duration": 29,
    "start_time": "2022-01-18T06:53:07.021Z"
   },
   {
    "duration": 13,
    "start_time": "2022-01-18T06:53:07.052Z"
   },
   {
    "duration": 10,
    "start_time": "2022-01-18T06:53:07.067Z"
   },
   {
    "duration": 7,
    "start_time": "2022-01-18T06:53:07.079Z"
   },
   {
    "duration": 164,
    "start_time": "2022-01-18T06:53:07.087Z"
   },
   {
    "duration": 3,
    "start_time": "2022-01-18T06:53:07.252Z"
   },
   {
    "duration": 6,
    "start_time": "2022-01-18T06:53:07.256Z"
   },
   {
    "duration": 16,
    "start_time": "2022-01-18T06:53:07.264Z"
   },
   {
    "duration": 17,
    "start_time": "2022-01-18T06:53:07.282Z"
   },
   {
    "duration": 7,
    "start_time": "2022-01-18T06:53:07.301Z"
   },
   {
    "duration": 399,
    "start_time": "2022-01-18T06:53:07.310Z"
   },
   {
    "duration": 420,
    "start_time": "2022-01-18T06:53:09.981Z"
   },
   {
    "duration": 1027,
    "start_time": "2022-01-18T06:53:26.802Z"
   },
   {
    "duration": 28,
    "start_time": "2022-01-18T06:53:27.831Z"
   },
   {
    "duration": 18,
    "start_time": "2022-01-18T06:53:27.861Z"
   },
   {
    "duration": 9,
    "start_time": "2022-01-18T06:53:27.881Z"
   },
   {
    "duration": 7,
    "start_time": "2022-01-18T06:53:27.898Z"
   },
   {
    "duration": 178,
    "start_time": "2022-01-18T06:53:27.906Z"
   },
   {
    "duration": 2,
    "start_time": "2022-01-18T06:53:28.086Z"
   },
   {
    "duration": 2,
    "start_time": "2022-01-18T06:53:28.098Z"
   },
   {
    "duration": 19,
    "start_time": "2022-01-18T06:53:28.102Z"
   },
   {
    "duration": 4,
    "start_time": "2022-01-18T06:53:28.122Z"
   },
   {
    "duration": 8,
    "start_time": "2022-01-18T06:53:28.128Z"
   },
   {
    "duration": 370,
    "start_time": "2022-01-18T06:53:30.730Z"
   },
   {
    "duration": 7,
    "start_time": "2022-01-18T06:53:43.440Z"
   },
   {
    "duration": 12,
    "start_time": "2022-01-18T06:53:44.721Z"
   },
   {
    "duration": 2,
    "start_time": "2022-01-18T06:53:45.537Z"
   },
   {
    "duration": 7,
    "start_time": "2022-01-18T06:53:46.265Z"
   },
   {
    "duration": 310,
    "start_time": "2022-01-18T06:53:51.141Z"
   },
   {
    "duration": 3,
    "start_time": "2022-01-18T06:54:07.172Z"
   },
   {
    "duration": 59,
    "start_time": "2022-01-18T06:54:14.071Z"
   },
   {
    "duration": 153,
    "start_time": "2022-01-18T06:54:15.794Z"
   },
   {
    "duration": 12,
    "start_time": "2022-01-18T06:54:16.463Z"
   },
   {
    "duration": 2,
    "start_time": "2022-01-18T06:54:17.108Z"
   },
   {
    "duration": 6,
    "start_time": "2022-01-18T06:54:18.856Z"
   },
   {
    "duration": 403,
    "start_time": "2022-01-18T06:54:21.599Z"
   },
   {
    "duration": 406,
    "start_time": "2022-01-18T06:54:45.494Z"
   },
   {
    "duration": 1026,
    "start_time": "2022-01-18T06:54:47.107Z"
   },
   {
    "duration": 20,
    "start_time": "2022-01-18T06:56:23.705Z"
   },
   {
    "duration": 6,
    "start_time": "2022-01-18T06:56:24.740Z"
   },
   {
    "duration": 383,
    "start_time": "2022-01-18T06:56:27.125Z"
   },
   {
    "duration": 1059,
    "start_time": "2022-01-18T06:56:32.430Z"
   },
   {
    "duration": 400,
    "start_time": "2022-01-18T06:56:42.601Z"
   },
   {
    "duration": 374,
    "start_time": "2022-01-18T06:56:50.226Z"
   },
   {
    "duration": 17,
    "start_time": "2022-01-18T06:57:22.423Z"
   },
   {
    "duration": 6,
    "start_time": "2022-01-18T06:57:23.802Z"
   },
   {
    "duration": 361,
    "start_time": "2022-01-18T06:57:26.158Z"
   },
   {
    "duration": 13,
    "start_time": "2022-01-18T06:57:35.473Z"
   },
   {
    "duration": 5,
    "start_time": "2022-01-18T06:57:36.459Z"
   },
   {
    "duration": 355,
    "start_time": "2022-01-18T06:57:38.345Z"
   },
   {
    "duration": 104,
    "start_time": "2022-01-18T07:00:11.100Z"
   },
   {
    "duration": 1645,
    "start_time": "2022-01-18T07:00:15.284Z"
   },
   {
    "duration": 503,
    "start_time": "2022-01-18T07:00:18.425Z"
   },
   {
    "duration": 1085,
    "start_time": "2022-01-18T07:00:28.438Z"
   },
   {
    "duration": 983,
    "start_time": "2022-01-18T07:00:34.537Z"
   },
   {
    "duration": 897,
    "start_time": "2022-01-18T07:00:42.423Z"
   },
   {
    "duration": 298,
    "start_time": "2022-01-18T07:02:23.285Z"
   },
   {
    "duration": 520,
    "start_time": "2022-01-18T07:02:29.989Z"
   },
   {
    "duration": 668,
    "start_time": "2022-01-18T07:02:35.160Z"
   },
   {
    "duration": 810,
    "start_time": "2022-01-18T07:02:40.646Z"
   },
   {
    "duration": 899,
    "start_time": "2022-01-18T07:02:46.441Z"
   },
   {
    "duration": 26,
    "start_time": "2022-01-18T07:10:32.805Z"
   },
   {
    "duration": 6,
    "start_time": "2022-01-18T07:10:33.816Z"
   },
   {
    "duration": 422,
    "start_time": "2022-01-18T07:10:36.578Z"
   },
   {
    "duration": 920,
    "start_time": "2022-01-18T07:10:43.917Z"
   },
   {
    "duration": 868,
    "start_time": "2022-01-18T07:10:49.957Z"
   },
   {
    "duration": 512,
    "start_time": "2022-01-18T07:11:06.341Z"
   },
   {
    "duration": 501,
    "start_time": "2022-01-18T07:11:09.588Z"
   },
   {
    "duration": 540,
    "start_time": "2022-01-18T07:11:13.954Z"
   },
   {
    "duration": 911,
    "start_time": "2022-01-18T07:11:19.351Z"
   },
   {
    "duration": 302,
    "start_time": "2022-01-18T07:11:24.953Z"
   },
   {
    "duration": 387,
    "start_time": "2022-01-18T07:11:28.927Z"
   },
   {
    "duration": 446,
    "start_time": "2022-01-18T07:11:34.688Z"
   },
   {
    "duration": 503,
    "start_time": "2022-01-18T07:11:39.886Z"
   },
   {
    "duration": 502,
    "start_time": "2022-01-18T07:11:44.611Z"
   },
   {
    "duration": 465,
    "start_time": "2022-01-18T07:11:54.105Z"
   },
   {
    "duration": 456,
    "start_time": "2022-01-18T07:11:57.884Z"
   },
   {
    "duration": 24,
    "start_time": "2022-01-18T07:12:43.944Z"
   },
   {
    "duration": 6,
    "start_time": "2022-01-18T07:12:45.318Z"
   },
   {
    "duration": 396,
    "start_time": "2022-01-18T07:12:48.308Z"
   },
   {
    "duration": 24,
    "start_time": "2022-01-18T07:13:26.419Z"
   },
   {
    "duration": 389,
    "start_time": "2022-01-18T07:13:30.621Z"
   },
   {
    "duration": 12,
    "start_time": "2022-01-18T07:13:43.446Z"
   },
   {
    "duration": 32,
    "start_time": "2022-01-18T07:14:24.758Z"
   },
   {
    "duration": 284,
    "start_time": "2022-01-18T07:15:25.186Z"
   },
   {
    "duration": 315,
    "start_time": "2022-01-18T07:16:33.868Z"
   },
   {
    "duration": 21,
    "start_time": "2022-01-18T07:16:55.705Z"
   },
   {
    "duration": 31,
    "start_time": "2022-01-18T07:18:43.710Z"
   },
   {
    "duration": 9,
    "start_time": "2022-01-18T07:18:46.557Z"
   },
   {
    "duration": 413,
    "start_time": "2022-01-18T07:18:50.991Z"
   },
   {
    "duration": 25,
    "start_time": "2022-01-18T07:20:02.780Z"
   },
   {
    "duration": 4,
    "start_time": "2022-01-18T07:25:26.519Z"
   },
   {
    "duration": 14,
    "start_time": "2022-01-18T07:25:28.908Z"
   },
   {
    "duration": 6,
    "start_time": "2022-01-18T07:25:30.298Z"
   },
   {
    "duration": 6,
    "start_time": "2022-01-18T07:25:31.551Z"
   },
   {
    "duration": 11,
    "start_time": "2022-01-18T07:25:32.328Z"
   },
   {
    "duration": 27,
    "start_time": "2022-01-18T07:25:36.932Z"
   },
   {
    "duration": 5,
    "start_time": "2022-01-18T07:25:37.897Z"
   },
   {
    "duration": 26,
    "start_time": "2022-01-18T07:25:42.352Z"
   },
   {
    "duration": 35,
    "start_time": "2022-01-18T07:25:44.343Z"
   },
   {
    "duration": 291,
    "start_time": "2022-01-18T07:27:23.418Z"
   },
   {
    "duration": 4,
    "start_time": "2022-01-18T07:27:54.452Z"
   },
   {
    "duration": 27,
    "start_time": "2022-01-18T07:27:54.458Z"
   },
   {
    "duration": 12,
    "start_time": "2022-01-18T07:27:54.487Z"
   },
   {
    "duration": 11,
    "start_time": "2022-01-18T07:27:54.500Z"
   },
   {
    "duration": 7,
    "start_time": "2022-01-18T07:27:54.512Z"
   },
   {
    "duration": 6,
    "start_time": "2022-01-18T07:27:56.956Z"
   },
   {
    "duration": 4,
    "start_time": "2022-01-18T07:27:58.048Z"
   },
   {
    "duration": 15,
    "start_time": "2022-01-18T07:28:01.836Z"
   },
   {
    "duration": 6,
    "start_time": "2022-01-18T07:28:02.984Z"
   },
   {
    "duration": 8,
    "start_time": "2022-01-18T07:28:04.330Z"
   },
   {
    "duration": 14,
    "start_time": "2022-01-18T07:28:05.194Z"
   },
   {
    "duration": 24,
    "start_time": "2022-01-18T07:28:07.546Z"
   },
   {
    "duration": 6,
    "start_time": "2022-01-18T07:28:08.889Z"
   },
   {
    "duration": 50,
    "start_time": "2022-01-18T07:28:12.547Z"
   },
   {
    "duration": 27,
    "start_time": "2022-01-18T07:28:16.801Z"
   },
   {
    "duration": 33,
    "start_time": "2022-01-18T07:28:31.371Z"
   },
   {
    "duration": 40,
    "start_time": "2022-01-18T07:28:36.056Z"
   },
   {
    "duration": 40,
    "start_time": "2022-01-18T07:28:41.334Z"
   },
   {
    "duration": 41,
    "start_time": "2022-01-18T07:28:45.486Z"
   },
   {
    "duration": 24,
    "start_time": "2022-01-18T07:28:50.325Z"
   },
   {
    "duration": 16,
    "start_time": "2022-01-18T07:28:53.609Z"
   },
   {
    "duration": 23,
    "start_time": "2022-01-18T07:28:56.976Z"
   },
   {
    "duration": 24,
    "start_time": "2022-01-18T07:28:59.898Z"
   },
   {
    "duration": 25,
    "start_time": "2022-01-18T07:29:03.202Z"
   },
   {
    "duration": 28,
    "start_time": "2022-01-18T07:29:06.761Z"
   },
   {
    "duration": 30,
    "start_time": "2022-01-18T07:29:10.116Z"
   },
   {
    "duration": 26,
    "start_time": "2022-01-18T07:29:13.606Z"
   },
   {
    "duration": 23,
    "start_time": "2022-01-18T07:30:10.053Z"
   },
   {
    "duration": 26,
    "start_time": "2022-01-18T07:30:13.366Z"
   },
   {
    "duration": 9,
    "start_time": "2022-01-18T07:30:15.734Z"
   },
   {
    "duration": 44,
    "start_time": "2022-01-18T07:30:19.158Z"
   },
   {
    "duration": 28,
    "start_time": "2022-01-18T07:30:23.970Z"
   },
   {
    "duration": 96,
    "start_time": "2022-01-18T07:30:30.909Z"
   },
   {
    "duration": 156,
    "start_time": "2022-01-18T07:30:59.742Z"
   },
   {
    "duration": 88,
    "start_time": "2022-01-18T07:31:00.711Z"
   },
   {
    "duration": 26,
    "start_time": "2022-01-18T07:31:32.840Z"
   },
   {
    "duration": 21,
    "start_time": "2022-01-18T07:31:57.953Z"
   },
   {
    "duration": 7,
    "start_time": "2022-01-18T07:32:35.400Z"
   },
   {
    "duration": 4,
    "start_time": "2022-01-18T07:32:59.167Z"
   },
   {
    "duration": 30,
    "start_time": "2022-01-18T07:32:59.173Z"
   },
   {
    "duration": 14,
    "start_time": "2022-01-18T07:32:59.205Z"
   },
   {
    "duration": 13,
    "start_time": "2022-01-18T07:33:00.825Z"
   },
   {
    "duration": 8,
    "start_time": "2022-01-18T07:33:01.726Z"
   },
   {
    "duration": 1092,
    "start_time": "2022-01-18T07:33:40.499Z"
   },
   {
    "duration": 29,
    "start_time": "2022-01-18T07:33:41.593Z"
   },
   {
    "duration": 20,
    "start_time": "2022-01-18T07:33:41.624Z"
   },
   {
    "duration": 10,
    "start_time": "2022-01-18T07:33:41.645Z"
   },
   {
    "duration": 7,
    "start_time": "2022-01-18T07:33:41.657Z"
   },
   {
    "duration": 5,
    "start_time": "2022-01-18T07:33:41.666Z"
   },
   {
    "duration": 34,
    "start_time": "2022-01-18T07:33:41.673Z"
   },
   {
    "duration": 5,
    "start_time": "2022-01-18T07:33:41.709Z"
   },
   {
    "duration": 6,
    "start_time": "2022-01-18T07:33:41.716Z"
   },
   {
    "duration": 11,
    "start_time": "2022-01-18T07:33:41.724Z"
   },
   {
    "duration": 9,
    "start_time": "2022-01-18T07:33:41.737Z"
   },
   {
    "duration": 7,
    "start_time": "2022-01-18T07:33:43.633Z"
   },
   {
    "duration": 3,
    "start_time": "2022-01-18T07:33:44.404Z"
   },
   {
    "duration": 7,
    "start_time": "2022-01-18T07:33:46.258Z"
   },
   {
    "duration": 82,
    "start_time": "2022-01-18T07:33:48.920Z"
   },
   {
    "duration": 28,
    "start_time": "2022-01-18T07:33:53.464Z"
   },
   {
    "duration": 10,
    "start_time": "2022-01-18T07:33:55.125Z"
   },
   {
    "duration": 173,
    "start_time": "2022-01-18T07:33:58.128Z"
   },
   {
    "duration": 67,
    "start_time": "2022-01-18T07:33:59.835Z"
   },
   {
    "duration": 24,
    "start_time": "2022-01-18T07:34:07.829Z"
   },
   {
    "duration": 6,
    "start_time": "2022-01-18T07:34:09.474Z"
   },
   {
    "duration": 26,
    "start_time": "2022-01-18T07:34:13.095Z"
   },
   {
    "duration": 27,
    "start_time": "2022-01-18T07:34:14.838Z"
   },
   {
    "duration": 10,
    "start_time": "2022-01-18T07:34:17.396Z"
   },
   {
    "duration": 65,
    "start_time": "2022-01-18T07:34:19.135Z"
   },
   {
    "duration": 29,
    "start_time": "2022-01-18T07:34:22.780Z"
   },
   {
    "duration": 45,
    "start_time": "2022-01-18T07:49:31.132Z"
   },
   {
    "duration": 55,
    "start_time": "2022-01-18T07:49:51.987Z"
   },
   {
    "duration": 69,
    "start_time": "2022-01-18T07:49:56.852Z"
   },
   {
    "duration": 37,
    "start_time": "2022-01-18T07:50:02.877Z"
   },
   {
    "duration": 63,
    "start_time": "2022-01-18T07:50:07.770Z"
   },
   {
    "duration": 56,
    "start_time": "2022-01-18T07:50:44.854Z"
   },
   {
    "duration": 64,
    "start_time": "2022-01-18T07:50:45.717Z"
   },
   {
    "duration": 16,
    "start_time": "2022-01-18T07:51:28.164Z"
   },
   {
    "duration": 84,
    "start_time": "2022-01-18T07:51:31.115Z"
   },
   {
    "duration": 4,
    "start_time": "2022-01-18T07:53:45.485Z"
   },
   {
    "duration": 4,
    "start_time": "2022-01-18T07:53:47.617Z"
   },
   {
    "duration": 26,
    "start_time": "2022-01-18T07:54:36.830Z"
   },
   {
    "duration": 16,
    "start_time": "2022-01-18T07:54:38.493Z"
   },
   {
    "duration": 71,
    "start_time": "2022-01-18T07:56:21.846Z"
   },
   {
    "duration": 22,
    "start_time": "2022-01-18T07:56:37.294Z"
   },
   {
    "duration": 16,
    "start_time": "2022-01-18T07:56:39.368Z"
   },
   {
    "duration": 36,
    "start_time": "2022-01-18T07:56:57.862Z"
   },
   {
    "duration": 74,
    "start_time": "2022-01-18T07:58:23.724Z"
   },
   {
    "duration": 67,
    "start_time": "2022-01-18T07:58:24.709Z"
   },
   {
    "duration": 22,
    "start_time": "2022-01-18T07:58:25.430Z"
   },
   {
    "duration": 16,
    "start_time": "2022-01-18T07:58:26.557Z"
   },
   {
    "duration": 57,
    "start_time": "2022-01-18T08:08:25.560Z"
   },
   {
    "duration": 70,
    "start_time": "2022-01-18T08:09:42.729Z"
   },
   {
    "duration": 4,
    "start_time": "2022-01-18T08:11:12.757Z"
   },
   {
    "duration": 110,
    "start_time": "2022-01-18T08:12:10.989Z"
   },
   {
    "duration": 132,
    "start_time": "2022-01-18T08:12:17.869Z"
   },
   {
    "duration": 434,
    "start_time": "2022-01-18T08:12:43.803Z"
   },
   {
    "duration": 77,
    "start_time": "2022-01-18T08:13:05.248Z"
   },
   {
    "duration": 362,
    "start_time": "2022-01-18T08:13:10.195Z"
   },
   {
    "duration": 345,
    "start_time": "2022-01-18T08:13:48.213Z"
   },
   {
    "duration": 178,
    "start_time": "2022-01-18T08:14:14.889Z"
   },
   {
    "duration": 326,
    "start_time": "2022-01-18T08:14:31.242Z"
   },
   {
    "duration": 3,
    "start_time": "2022-01-18T08:33:23.945Z"
   },
   {
    "duration": 5,
    "start_time": "2022-01-18T08:34:24.747Z"
   },
   {
    "duration": 3,
    "start_time": "2022-01-18T08:39:08.732Z"
   },
   {
    "duration": 3,
    "start_time": "2022-01-18T08:49:11.278Z"
   },
   {
    "duration": 105,
    "start_time": "2022-01-18T08:50:03.195Z"
   },
   {
    "duration": 32,
    "start_time": "2022-01-18T08:51:38.454Z"
   },
   {
    "duration": 35,
    "start_time": "2022-01-18T08:51:59.602Z"
   },
   {
    "duration": 44,
    "start_time": "2022-01-18T08:52:08.608Z"
   },
   {
    "duration": 43,
    "start_time": "2022-01-18T08:52:16.317Z"
   },
   {
    "duration": 26,
    "start_time": "2022-01-18T08:52:29.154Z"
   },
   {
    "duration": 19,
    "start_time": "2022-01-18T08:52:33.894Z"
   },
   {
    "duration": 23,
    "start_time": "2022-01-18T08:52:39.868Z"
   },
   {
    "duration": 31,
    "start_time": "2022-01-18T08:52:46.027Z"
   },
   {
    "duration": 4,
    "start_time": "2022-01-18T09:38:29.084Z"
   },
   {
    "duration": 112,
    "start_time": "2022-01-18T09:39:36.088Z"
   },
   {
    "duration": 62,
    "start_time": "2022-01-18T09:39:52.438Z"
   },
   {
    "duration": 53,
    "start_time": "2022-01-18T09:40:35.450Z"
   },
   {
    "duration": 32,
    "start_time": "2022-01-18T09:41:25.280Z"
   },
   {
    "duration": 45,
    "start_time": "2022-01-18T09:49:01.031Z"
   },
   {
    "duration": 57,
    "start_time": "2022-01-18T09:49:07.757Z"
   },
   {
    "duration": 66,
    "start_time": "2022-01-18T09:49:12.017Z"
   },
   {
    "duration": 71,
    "start_time": "2022-01-18T09:49:19.017Z"
   },
   {
    "duration": 67,
    "start_time": "2022-01-18T09:49:23.397Z"
   },
   {
    "duration": 63,
    "start_time": "2022-01-18T09:51:45.966Z"
   },
   {
    "duration": 64,
    "start_time": "2022-01-18T09:55:45.353Z"
   },
   {
    "duration": 468,
    "start_time": "2022-01-18T09:56:25.480Z"
   },
   {
    "duration": 464,
    "start_time": "2022-01-18T09:57:40.090Z"
   },
   {
    "duration": 87,
    "start_time": "2022-01-18T09:59:20.983Z"
   },
   {
    "duration": 526,
    "start_time": "2022-01-18T09:59:26.955Z"
   },
   {
    "duration": 39,
    "start_time": "2022-01-18T10:00:04.063Z"
   },
   {
    "duration": 318,
    "start_time": "2022-01-18T10:00:11.364Z"
   },
   {
    "duration": 321,
    "start_time": "2022-01-18T10:01:05.436Z"
   },
   {
    "duration": 29,
    "start_time": "2022-01-18T10:01:22.377Z"
   },
   {
    "duration": 32,
    "start_time": "2022-01-18T10:01:29.821Z"
   },
   {
    "duration": 29,
    "start_time": "2022-01-18T10:02:51.074Z"
   },
   {
    "duration": 4,
    "start_time": "2022-01-18T10:02:53.771Z"
   },
   {
    "duration": 29,
    "start_time": "2022-01-18T10:02:55.492Z"
   },
   {
    "duration": 349,
    "start_time": "2022-01-18T10:04:02.071Z"
   },
   {
    "duration": 327,
    "start_time": "2022-01-18T10:04:45.956Z"
   },
   {
    "duration": 626,
    "start_time": "2022-01-18T10:06:29.222Z"
   },
   {
    "duration": 357,
    "start_time": "2022-01-18T10:06:58.466Z"
   },
   {
    "duration": 350,
    "start_time": "2022-01-18T10:07:44.623Z"
   },
   {
    "duration": 355,
    "start_time": "2022-01-18T10:10:35.407Z"
   },
   {
    "duration": 83,
    "start_time": "2022-01-18T10:10:42.131Z"
   },
   {
    "duration": 183,
    "start_time": "2022-01-18T10:10:51.654Z"
   },
   {
    "duration": 545,
    "start_time": "2022-01-18T10:10:57.665Z"
   },
   {
    "duration": 533,
    "start_time": "2022-01-18T10:12:24.193Z"
   },
   {
    "duration": 550,
    "start_time": "2022-01-18T10:12:38.077Z"
   },
   {
    "duration": 551,
    "start_time": "2022-01-18T10:13:19.042Z"
   },
   {
    "duration": 189,
    "start_time": "2022-01-18T10:13:45.996Z"
   },
   {
    "duration": 181,
    "start_time": "2022-01-18T10:14:43.286Z"
   },
   {
    "duration": 3,
    "start_time": "2022-01-18T10:15:23.075Z"
   },
   {
    "duration": 196,
    "start_time": "2022-01-18T10:15:23.920Z"
   },
   {
    "duration": 4,
    "start_time": "2022-01-18T10:15:30.641Z"
   },
   {
    "duration": 30,
    "start_time": "2022-01-18T10:15:30.647Z"
   },
   {
    "duration": 12,
    "start_time": "2022-01-18T10:15:30.679Z"
   },
   {
    "duration": 10,
    "start_time": "2022-01-18T10:15:30.693Z"
   },
   {
    "duration": 7,
    "start_time": "2022-01-18T10:15:30.705Z"
   },
   {
    "duration": 4,
    "start_time": "2022-01-18T10:15:30.714Z"
   },
   {
    "duration": 21,
    "start_time": "2022-01-18T10:15:30.720Z"
   },
   {
    "duration": 5,
    "start_time": "2022-01-18T10:15:30.743Z"
   },
   {
    "duration": 17,
    "start_time": "2022-01-18T10:15:30.750Z"
   },
   {
    "duration": 19,
    "start_time": "2022-01-18T10:15:30.769Z"
   },
   {
    "duration": 15,
    "start_time": "2022-01-18T10:15:30.790Z"
   },
   {
    "duration": 27,
    "start_time": "2022-01-18T10:15:30.806Z"
   },
   {
    "duration": 5,
    "start_time": "2022-01-18T10:15:30.835Z"
   },
   {
    "duration": 63,
    "start_time": "2022-01-18T10:15:30.842Z"
   },
   {
    "duration": 92,
    "start_time": "2022-01-18T10:15:30.908Z"
   },
   {
    "duration": 14,
    "start_time": "2022-01-18T10:15:31.001Z"
   },
   {
    "duration": 3,
    "start_time": "2022-01-18T10:15:33.227Z"
   },
   {
    "duration": 187,
    "start_time": "2022-01-18T10:15:33.976Z"
   },
   {
    "duration": 322,
    "start_time": "2022-01-18T10:17:12.094Z"
   },
   {
    "duration": 115,
    "start_time": "2022-01-18T10:17:56.700Z"
   },
   {
    "duration": 109,
    "start_time": "2022-01-18T10:34:21.491Z"
   },
   {
    "duration": 31,
    "start_time": "2022-01-18T10:36:12.105Z"
   },
   {
    "duration": 135,
    "start_time": "2022-01-18T10:36:33.214Z"
   },
   {
    "duration": 129,
    "start_time": "2022-01-18T10:36:46.057Z"
   },
   {
    "duration": 139,
    "start_time": "2022-01-18T10:38:05.721Z"
   },
   {
    "duration": 133,
    "start_time": "2022-01-18T10:38:41.919Z"
   },
   {
    "duration": 136,
    "start_time": "2022-01-18T10:39:08.484Z"
   },
   {
    "duration": 135,
    "start_time": "2022-01-18T10:39:38.839Z"
   },
   {
    "duration": 132,
    "start_time": "2022-01-18T10:39:45.622Z"
   },
   {
    "duration": 134,
    "start_time": "2022-01-18T10:40:29.726Z"
   },
   {
    "duration": 126,
    "start_time": "2022-01-18T10:40:40.103Z"
   },
   {
    "duration": 543,
    "start_time": "2022-01-18T10:40:54.610Z"
   },
   {
    "duration": 183,
    "start_time": "2022-01-18T10:41:08.451Z"
   },
   {
    "duration": 181,
    "start_time": "2022-01-18T10:41:16.906Z"
   },
   {
    "duration": 195,
    "start_time": "2022-01-18T10:42:08.009Z"
   },
   {
    "duration": 178,
    "start_time": "2022-01-18T10:42:47.111Z"
   },
   {
    "duration": 190,
    "start_time": "2022-01-18T10:43:04.885Z"
   },
   {
    "duration": 209,
    "start_time": "2022-01-18T10:43:55.970Z"
   },
   {
    "duration": 180,
    "start_time": "2022-01-18T10:45:19.880Z"
   },
   {
    "duration": 101,
    "start_time": "2022-01-18T10:50:41.244Z"
   },
   {
    "duration": 273,
    "start_time": "2022-01-18T10:50:47.193Z"
   },
   {
    "duration": 11,
    "start_time": "2022-01-18T10:51:11.067Z"
   },
   {
    "duration": 2678,
    "start_time": "2022-01-18T10:51:17.726Z"
   },
   {
    "duration": 192,
    "start_time": "2022-01-18T10:52:21.929Z"
   },
   {
    "duration": 2520,
    "start_time": "2022-01-18T10:53:54.517Z"
   },
   {
    "duration": 6,
    "start_time": "2022-01-18T10:59:38.615Z"
   },
   {
    "duration": 187,
    "start_time": "2022-01-18T10:59:57.795Z"
   },
   {
    "duration": 5,
    "start_time": "2022-01-18T11:00:10.235Z"
   },
   {
    "duration": 36,
    "start_time": "2022-01-18T11:00:11.285Z"
   },
   {
    "duration": 302,
    "start_time": "2022-01-18T11:01:11.464Z"
   },
   {
    "duration": 95,
    "start_time": "2022-01-18T11:01:49.776Z"
   },
   {
    "duration": 176,
    "start_time": "2022-01-18T11:03:02.957Z"
   },
   {
    "duration": 315,
    "start_time": "2022-01-18T11:05:08.821Z"
   },
   {
    "duration": 5,
    "start_time": "2022-01-18T11:05:11.554Z"
   },
   {
    "duration": 172,
    "start_time": "2022-01-18T11:05:12.112Z"
   },
   {
    "duration": 2649,
    "start_time": "2022-01-18T11:05:37.096Z"
   },
   {
    "duration": 180729,
    "start_time": "2022-01-18T11:05:59.872Z"
   },
   {
    "duration": 637,
    "start_time": "2022-01-18T11:10:36.831Z"
   },
   {
    "duration": 53,
    "start_time": "2022-01-18T11:10:48.060Z"
   },
   {
    "duration": 621,
    "start_time": "2022-01-18T11:10:56.278Z"
   },
   {
    "duration": 502,
    "start_time": "2022-01-18T11:11:03.050Z"
   },
   {
    "duration": 418,
    "start_time": "2022-01-18T11:11:13.544Z"
   },
   {
    "duration": 829,
    "start_time": "2022-01-18T11:13:35.921Z"
   },
   {
    "duration": 105,
    "start_time": "2022-01-18T11:14:05.911Z"
   },
   {
    "duration": 179,
    "start_time": "2022-01-18T11:15:03.155Z"
   },
   {
    "duration": 299,
    "start_time": "2022-01-18T11:15:29.774Z"
   },
   {
    "duration": 100,
    "start_time": "2022-01-18T11:15:49.099Z"
   },
   {
    "duration": 28,
    "start_time": "2022-01-18T11:17:00.374Z"
   },
   {
    "duration": 20,
    "start_time": "2022-01-18T11:17:01.071Z"
   },
   {
    "duration": 114,
    "start_time": "2022-01-18T11:17:02.234Z"
   },
   {
    "duration": 25,
    "start_time": "2022-01-18T11:17:10.061Z"
   },
   {
    "duration": 21,
    "start_time": "2022-01-18T11:17:10.845Z"
   },
   {
    "duration": 117,
    "start_time": "2022-01-18T11:17:13.030Z"
   },
   {
    "duration": 25,
    "start_time": "2022-01-18T11:17:26.728Z"
   },
   {
    "duration": 26,
    "start_time": "2022-01-18T11:17:27.316Z"
   },
   {
    "duration": 130,
    "start_time": "2022-01-18T11:17:28.395Z"
   },
   {
    "duration": 27,
    "start_time": "2022-01-18T11:46:01.879Z"
   },
   {
    "duration": 28,
    "start_time": "2022-01-18T11:46:22.711Z"
   },
   {
    "duration": 144,
    "start_time": "2022-01-18T11:46:23.473Z"
   },
   {
    "duration": 43,
    "start_time": "2022-01-18T11:46:29.855Z"
   },
   {
    "duration": 147,
    "start_time": "2022-01-18T11:46:31.921Z"
   },
   {
    "duration": 32,
    "start_time": "2022-01-18T11:46:43.235Z"
   },
   {
    "duration": 163,
    "start_time": "2022-01-18T11:46:45.804Z"
   },
   {
    "duration": 45,
    "start_time": "2022-01-18T11:46:51.153Z"
   },
   {
    "duration": 154,
    "start_time": "2022-01-18T11:46:53.488Z"
   },
   {
    "duration": 23,
    "start_time": "2022-01-18T11:47:55.749Z"
   },
   {
    "duration": 32,
    "start_time": "2022-01-18T11:52:41.336Z"
   },
   {
    "duration": 41,
    "start_time": "2022-01-18T11:52:42.367Z"
   },
   {
    "duration": 193,
    "start_time": "2022-01-18T11:52:42.935Z"
   },
   {
    "duration": 11,
    "start_time": "2022-01-18T11:53:15.789Z"
   },
   {
    "duration": 50,
    "start_time": "2022-01-18T11:53:19.448Z"
   },
   {
    "duration": 196,
    "start_time": "2022-01-18T11:53:23.273Z"
   },
   {
    "duration": 10,
    "start_time": "2022-01-18T11:53:39.421Z"
   },
   {
    "duration": 29,
    "start_time": "2022-01-18T11:53:40.005Z"
   },
   {
    "duration": 207,
    "start_time": "2022-01-18T11:53:40.830Z"
   },
   {
    "duration": 10,
    "start_time": "2022-01-18T11:53:46.203Z"
   },
   {
    "duration": 27,
    "start_time": "2022-01-18T11:53:46.949Z"
   },
   {
    "duration": 197,
    "start_time": "2022-01-18T11:53:48.608Z"
   },
   {
    "duration": 32,
    "start_time": "2022-01-18T11:54:11.415Z"
   },
   {
    "duration": 30,
    "start_time": "2022-01-18T11:54:42.936Z"
   },
   {
    "duration": 30,
    "start_time": "2022-01-18T11:55:24.069Z"
   },
   {
    "duration": 4,
    "start_time": "2022-01-18T11:57:43.684Z"
   },
   {
    "duration": 4,
    "start_time": "2022-01-18T11:58:04.160Z"
   },
   {
    "duration": 4,
    "start_time": "2022-01-18T11:58:19.532Z"
   },
   {
    "duration": 5,
    "start_time": "2022-01-18T12:03:31.205Z"
   },
   {
    "duration": 6,
    "start_time": "2022-01-18T12:06:16.222Z"
   },
   {
    "duration": 184986,
    "start_time": "2022-01-18T12:09:40.836Z"
   },
   {
    "duration": 53,
    "start_time": "2022-01-18T12:13:24.911Z"
   },
   {
    "duration": 562359,
    "start_time": "2022-01-18T12:13:44.784Z"
   },
   {
    "duration": 300,
    "start_time": "2022-01-18T12:25:43.076Z"
   },
   {
    "duration": 3539,
    "start_time": "2022-01-18T12:26:12.858Z"
   },
   {
    "duration": 4,
    "start_time": "2022-01-18T12:31:10.629Z"
   },
   {
    "duration": 4,
    "start_time": "2022-01-18T12:31:35.556Z"
   },
   {
    "duration": 4,
    "start_time": "2022-01-18T12:31:56.199Z"
   },
   {
    "duration": 4,
    "start_time": "2022-01-18T12:32:01.600Z"
   },
   {
    "duration": 4,
    "start_time": "2022-01-18T12:33:07.690Z"
   },
   {
    "duration": 4,
    "start_time": "2022-01-18T12:33:08.763Z"
   },
   {
    "duration": 10,
    "start_time": "2022-01-18T12:33:11.225Z"
   },
   {
    "duration": 11,
    "start_time": "2022-01-18T12:33:16.887Z"
   },
   {
    "duration": 11,
    "start_time": "2022-01-18T12:33:21.769Z"
   },
   {
    "duration": 29,
    "start_time": "2022-01-18T12:33:25.388Z"
   },
   {
    "duration": 26,
    "start_time": "2022-01-18T12:34:12.026Z"
   },
   {
    "duration": 23,
    "start_time": "2022-01-18T12:34:16.959Z"
   },
   {
    "duration": 81,
    "start_time": "2022-01-18T12:34:28.220Z"
   },
   {
    "duration": 267,
    "start_time": "2022-01-18T12:39:30.311Z"
   },
   {
    "duration": 661328,
    "start_time": "2022-01-18T12:39:47.124Z"
   },
   {
    "duration": 389,
    "start_time": "2022-01-18T12:58:39.277Z"
   },
   {
    "duration": 435,
    "start_time": "2022-01-18T12:58:59.347Z"
   },
   {
    "duration": 495,
    "start_time": "2022-01-18T12:59:08.319Z"
   },
   {
    "duration": 12,
    "start_time": "2022-01-18T13:07:24.317Z"
   },
   {
    "duration": 40,
    "start_time": "2022-01-18T13:07:46.059Z"
   },
   {
    "duration": 31,
    "start_time": "2022-01-18T13:07:48.945Z"
   },
   {
    "duration": 12,
    "start_time": "2022-01-18T13:07:54.651Z"
   },
   {
    "duration": 24,
    "start_time": "2022-01-18T13:08:02.298Z"
   },
   {
    "duration": 153,
    "start_time": "2022-01-18T13:08:18.428Z"
   },
   {
    "duration": 3042,
    "start_time": "2022-01-18T13:08:32.918Z"
   },
   {
    "duration": 470,
    "start_time": "2022-01-18T13:08:43.717Z"
   },
   {
    "duration": 23,
    "start_time": "2022-01-18T13:10:42.215Z"
   },
   {
    "duration": 24,
    "start_time": "2022-01-18T13:10:50.999Z"
   },
   {
    "duration": 498,
    "start_time": "2022-01-18T13:11:18.088Z"
   },
   {
    "duration": 24,
    "start_time": "2022-01-18T13:11:26.786Z"
   },
   {
    "duration": 1138,
    "start_time": "2022-01-18T13:12:47.707Z"
   },
   {
    "duration": 31,
    "start_time": "2022-01-18T13:12:48.847Z"
   },
   {
    "duration": 17,
    "start_time": "2022-01-18T13:12:48.880Z"
   },
   {
    "duration": 8,
    "start_time": "2022-01-18T13:12:48.899Z"
   },
   {
    "duration": 9,
    "start_time": "2022-01-18T13:12:48.909Z"
   },
   {
    "duration": 5,
    "start_time": "2022-01-18T13:12:48.920Z"
   },
   {
    "duration": 16,
    "start_time": "2022-01-18T13:12:48.928Z"
   },
   {
    "duration": 7,
    "start_time": "2022-01-18T13:12:48.946Z"
   },
   {
    "duration": 42,
    "start_time": "2022-01-18T13:12:48.956Z"
   },
   {
    "duration": 13,
    "start_time": "2022-01-18T13:12:49.001Z"
   },
   {
    "duration": 8,
    "start_time": "2022-01-18T13:12:49.016Z"
   },
   {
    "duration": 31,
    "start_time": "2022-01-18T13:12:49.026Z"
   },
   {
    "duration": 8,
    "start_time": "2022-01-18T13:12:49.058Z"
   },
   {
    "duration": 134,
    "start_time": "2022-01-18T13:12:49.068Z"
   },
   {
    "duration": 94,
    "start_time": "2022-01-18T13:12:49.205Z"
   },
   {
    "duration": 5,
    "start_time": "2022-01-18T13:12:49.301Z"
   },
   {
    "duration": 3645,
    "start_time": "2022-01-18T13:12:49.308Z"
   },
   {
    "duration": 6,
    "start_time": "2022-01-18T13:12:52.955Z"
   },
   {
    "duration": 558323,
    "start_time": "2022-01-18T13:12:52.963Z"
   },
   {
    "duration": 311,
    "start_time": "2022-01-18T13:22:11.287Z"
   },
   {
    "duration": 9,
    "start_time": "2022-01-18T13:22:11.599Z"
   },
   {
    "duration": 4,
    "start_time": "2022-01-18T13:22:11.610Z"
   },
   {
    "duration": 7,
    "start_time": "2022-01-18T13:22:11.615Z"
   },
   {
    "duration": 10,
    "start_time": "2022-01-18T13:22:11.623Z"
   },
   {
    "duration": 4,
    "start_time": "2022-01-18T13:23:12.350Z"
   },
   {
    "duration": 11,
    "start_time": "2022-01-18T13:23:14.813Z"
   },
   {
    "duration": 99,
    "start_time": "2022-01-18T13:23:19.598Z"
   },
   {
    "duration": 203,
    "start_time": "2022-01-18T13:23:29.680Z"
   },
   {
    "duration": 29,
    "start_time": "2022-01-18T13:23:36.356Z"
   },
   {
    "duration": 653419,
    "start_time": "2022-01-18T13:24:42.708Z"
   },
   {
    "duration": 465,
    "start_time": "2022-01-18T13:35:59.995Z"
   },
   {
    "duration": 11,
    "start_time": "2022-01-18T13:40:33.882Z"
   },
   {
    "duration": 24,
    "start_time": "2022-01-18T13:40:42.330Z"
   },
   {
    "duration": 491,
    "start_time": "2022-01-18T13:41:04.764Z"
   },
   {
    "duration": 24,
    "start_time": "2022-01-18T13:42:13.682Z"
   },
   {
    "duration": 652011,
    "start_time": "2022-01-18T13:42:33.943Z"
   },
   {
    "duration": 453,
    "start_time": "2022-01-18T13:54:18.155Z"
   },
   {
    "duration": 479,
    "start_time": "2022-01-18T13:54:38.945Z"
   },
   {
    "duration": 453,
    "start_time": "2022-01-18T13:54:48.434Z"
   },
   {
    "duration": 312,
    "start_time": "2022-01-18T13:54:59.887Z"
   },
   {
    "duration": 446,
    "start_time": "2022-01-18T13:56:02.416Z"
   },
   {
    "duration": 450,
    "start_time": "2022-01-18T13:56:14.828Z"
   },
   {
    "duration": 365,
    "start_time": "2022-01-18T13:56:39.897Z"
   },
   {
    "duration": 192,
    "start_time": "2022-01-18T13:56:58.502Z"
   },
   {
    "duration": 5,
    "start_time": "2022-01-18T13:57:11.303Z"
   },
   {
    "duration": 331,
    "start_time": "2022-01-18T14:12:25.176Z"
   },
   {
    "duration": 494583,
    "start_time": "2022-01-18T14:12:34.165Z"
   },
   {
    "duration": 87,
    "start_time": "2022-01-18T14:23:39.285Z"
   },
   {
    "duration": 87,
    "start_time": "2022-01-18T14:25:44.126Z"
   },
   {
    "duration": 178,
    "start_time": "2022-01-18T14:25:49.175Z"
   },
   {
    "duration": 5,
    "start_time": "2022-01-18T14:25:54.385Z"
   },
   {
    "duration": 546,
    "start_time": "2022-01-18T14:26:24.529Z"
   },
   {
    "duration": 179,
    "start_time": "2022-01-18T14:26:28.733Z"
   },
   {
    "duration": 6,
    "start_time": "2022-01-18T14:26:34.352Z"
   },
   {
    "duration": 186,
    "start_time": "2022-01-18T14:26:38.830Z"
   },
   {
    "duration": 5,
    "start_time": "2022-01-18T14:26:39.626Z"
   },
   {
    "duration": 176,
    "start_time": "2022-01-18T14:27:09.203Z"
   },
   {
    "duration": 6,
    "start_time": "2022-01-18T14:27:13.043Z"
   },
   {
    "duration": 335,
    "start_time": "2022-01-18T14:28:47.826Z"
   },
   {
    "duration": 5,
    "start_time": "2022-01-18T14:30:43.926Z"
   },
   {
    "duration": 419,
    "start_time": "2022-01-18T14:31:09.510Z"
   },
   {
    "duration": 672,
    "start_time": "2022-01-18T14:31:28.994Z"
   },
   {
    "duration": 678,
    "start_time": "2022-01-18T14:32:03.654Z"
   },
   {
    "duration": 4,
    "start_time": "2022-01-18T14:32:31.605Z"
   },
   {
    "duration": 874,
    "start_time": "2022-01-18T14:32:32.406Z"
   },
   {
    "duration": 5,
    "start_time": "2022-01-18T14:34:10.825Z"
   },
   {
    "duration": 787,
    "start_time": "2022-01-18T14:34:11.742Z"
   },
   {
    "duration": 5,
    "start_time": "2022-01-18T14:34:22.615Z"
   },
   {
    "duration": 759,
    "start_time": "2022-01-18T14:34:24.531Z"
   },
   {
    "duration": 5,
    "start_time": "2022-01-18T14:35:05.966Z"
   },
   {
    "duration": 5,
    "start_time": "2022-01-18T14:35:39.695Z"
   },
   {
    "duration": 807,
    "start_time": "2022-01-18T14:35:40.745Z"
   },
   {
    "duration": 445,
    "start_time": "2022-01-18T14:40:48.981Z"
   },
   {
    "duration": 294,
    "start_time": "2022-01-18T14:41:04.821Z"
   },
   {
    "duration": 7,
    "start_time": "2022-01-18T14:41:13.065Z"
   },
   {
    "duration": 853,
    "start_time": "2022-01-18T14:41:20.520Z"
   },
   {
    "duration": 378,
    "start_time": "2022-01-18T14:41:30.689Z"
   },
   {
    "duration": 6,
    "start_time": "2022-01-18T14:41:38.496Z"
   },
   {
    "duration": 297,
    "start_time": "2022-01-18T14:42:44.658Z"
   },
   {
    "duration": 190,
    "start_time": "2022-01-18T14:42:56.388Z"
   },
   {
    "duration": 6,
    "start_time": "2022-01-18T14:43:27.751Z"
   },
   {
    "duration": 88,
    "start_time": "2022-01-18T14:46:13.165Z"
   },
   {
    "duration": 181,
    "start_time": "2022-01-18T14:46:18.482Z"
   },
   {
    "duration": 2,
    "start_time": "2022-01-18T14:46:28.227Z"
   },
   {
    "duration": 5,
    "start_time": "2022-01-18T14:46:29.268Z"
   },
   {
    "duration": 189,
    "start_time": "2022-01-18T14:46:52.971Z"
   },
   {
    "duration": 4,
    "start_time": "2022-01-18T14:46:55.630Z"
   },
   {
    "duration": 3,
    "start_time": "2022-01-18T14:46:56.345Z"
   },
   {
    "duration": 5,
    "start_time": "2022-01-18T14:46:56.966Z"
   },
   {
    "duration": 180,
    "start_time": "2022-01-18T14:47:03.589Z"
   },
   {
    "duration": 4,
    "start_time": "2022-01-18T14:47:05.169Z"
   },
   {
    "duration": 2,
    "start_time": "2022-01-18T14:47:05.781Z"
   },
   {
    "duration": 6,
    "start_time": "2022-01-18T14:47:06.710Z"
   },
   {
    "duration": 450,
    "start_time": "2022-01-18T14:47:45.099Z"
   },
   {
    "duration": 6,
    "start_time": "2022-01-18T14:47:55.242Z"
   },
   {
    "duration": 182,
    "start_time": "2022-01-18T14:47:58.818Z"
   },
   {
    "duration": 4,
    "start_time": "2022-01-18T14:48:00.711Z"
   },
   {
    "duration": 2,
    "start_time": "2022-01-18T14:48:01.384Z"
   },
   {
    "duration": 6,
    "start_time": "2022-01-18T14:48:01.877Z"
   },
   {
    "duration": 189,
    "start_time": "2022-01-18T14:48:11.851Z"
   },
   {
    "duration": 5,
    "start_time": "2022-01-18T14:48:17.288Z"
   },
   {
    "duration": 2,
    "start_time": "2022-01-18T14:48:17.813Z"
   },
   {
    "duration": 6,
    "start_time": "2022-01-18T14:48:20.003Z"
   },
   {
    "duration": 7,
    "start_time": "2022-01-18T16:01:02.817Z"
   },
   {
    "duration": 20,
    "start_time": "2022-01-18T16:01:29.171Z"
   },
   {
    "duration": 7,
    "start_time": "2022-01-18T16:01:33.216Z"
   },
   {
    "duration": 119,
    "start_time": "2022-01-18T16:01:37.880Z"
   },
   {
    "duration": 4,
    "start_time": "2022-01-18T16:01:42.094Z"
   },
   {
    "duration": 5,
    "start_time": "2022-01-18T16:01:46.433Z"
   },
   {
    "duration": 3865,
    "start_time": "2022-01-18T16:01:53.673Z"
   },
   {
    "duration": 8,
    "start_time": "2022-01-18T16:02:34.911Z"
   },
   {
    "duration": 59,
    "start_time": "2022-01-18T16:02:52.141Z"
   },
   {
    "duration": 35,
    "start_time": "2022-01-18T16:02:57.896Z"
   },
   {
    "duration": 213,
    "start_time": "2022-01-18T16:03:00.764Z"
   },
   {
    "duration": 30,
    "start_time": "2022-01-18T16:04:29.523Z"
   },
   {
    "duration": 370,
    "start_time": "2022-01-18T16:10:34.538Z"
   },
   {
    "duration": 4,
    "start_time": "2022-01-18T16:10:40.771Z"
   },
   {
    "duration": 58,
    "start_time": "2022-01-18T16:10:40.777Z"
   },
   {
    "duration": 21,
    "start_time": "2022-01-18T16:10:40.838Z"
   },
   {
    "duration": 14,
    "start_time": "2022-01-18T16:10:40.861Z"
   },
   {
    "duration": 18,
    "start_time": "2022-01-18T16:10:40.876Z"
   },
   {
    "duration": 5,
    "start_time": "2022-01-18T16:10:42.814Z"
   },
   {
    "duration": 14,
    "start_time": "2022-01-18T16:10:47.553Z"
   },
   {
    "duration": 5,
    "start_time": "2022-01-18T16:10:49.307Z"
   },
   {
    "duration": 6,
    "start_time": "2022-01-18T16:10:50.569Z"
   },
   {
    "duration": 11,
    "start_time": "2022-01-18T16:10:51.287Z"
   },
   {
    "duration": 20,
    "start_time": "2022-01-18T16:11:09.370Z"
   },
   {
    "duration": 24,
    "start_time": "2022-01-18T16:11:40.880Z"
   },
   {
    "duration": 15,
    "start_time": "2022-01-18T16:12:43.723Z"
   },
   {
    "duration": 27,
    "start_time": "2022-01-18T16:13:01.333Z"
   },
   {
    "duration": 18,
    "start_time": "2022-01-18T16:18:35.947Z"
   },
   {
    "duration": 27,
    "start_time": "2022-01-18T16:43:55.913Z"
   },
   {
    "duration": 64,
    "start_time": "2022-01-18T16:45:23.335Z"
   },
   {
    "duration": 26,
    "start_time": "2022-01-18T16:49:03.250Z"
   },
   {
    "duration": 4,
    "start_time": "2022-01-18T16:49:15.636Z"
   },
   {
    "duration": 33,
    "start_time": "2022-01-18T16:49:15.642Z"
   },
   {
    "duration": 12,
    "start_time": "2022-01-18T16:49:15.677Z"
   },
   {
    "duration": 8,
    "start_time": "2022-01-18T16:49:15.691Z"
   },
   {
    "duration": 6,
    "start_time": "2022-01-18T16:49:15.701Z"
   },
   {
    "duration": 6,
    "start_time": "2022-01-18T16:49:15.709Z"
   },
   {
    "duration": 15,
    "start_time": "2022-01-18T16:49:15.716Z"
   },
   {
    "duration": 6,
    "start_time": "2022-01-18T16:49:15.732Z"
   },
   {
    "duration": 7,
    "start_time": "2022-01-18T16:49:15.741Z"
   },
   {
    "duration": 11,
    "start_time": "2022-01-18T16:49:15.750Z"
   },
   {
    "duration": 21,
    "start_time": "2022-01-18T16:49:15.798Z"
   },
   {
    "duration": 7,
    "start_time": "2022-01-18T16:49:15.820Z"
   },
   {
    "duration": 79,
    "start_time": "2022-01-18T16:49:15.829Z"
   },
   {
    "duration": 7,
    "start_time": "2022-01-18T16:49:15.999Z"
   },
   {
    "duration": 3554,
    "start_time": "2022-01-18T16:49:16.008Z"
   },
   {
    "duration": 6,
    "start_time": "2022-01-18T16:49:19.563Z"
   },
   {
    "duration": 560962,
    "start_time": "2022-01-18T16:49:19.570Z"
   },
   {
    "duration": 310,
    "start_time": "2022-01-18T16:58:40.534Z"
   },
   {
    "duration": 10,
    "start_time": "2022-01-18T16:58:40.846Z"
   },
   {
    "duration": 4,
    "start_time": "2022-01-18T16:58:40.858Z"
   },
   {
    "duration": 8,
    "start_time": "2022-01-18T16:58:40.863Z"
   },
   {
    "duration": 29,
    "start_time": "2022-01-18T16:58:40.873Z"
   },
   {
    "duration": 28,
    "start_time": "2022-01-18T17:37:46.537Z"
   },
   {
    "duration": 199,
    "start_time": "2022-01-18T17:38:07.346Z"
   },
   {
    "duration": 32,
    "start_time": "2022-01-18T17:38:21.839Z"
   },
   {
    "duration": 673045,
    "start_time": "2022-01-18T17:38:48.412Z"
   },
   {
    "duration": 1482,
    "start_time": "2022-01-19T07:50:05.572Z"
   },
   {
    "duration": 35,
    "start_time": "2022-01-19T07:50:07.056Z"
   },
   {
    "duration": 27,
    "start_time": "2022-01-19T07:50:07.094Z"
   },
   {
    "duration": 11,
    "start_time": "2022-01-19T07:50:07.124Z"
   },
   {
    "duration": 37,
    "start_time": "2022-01-19T07:50:07.138Z"
   },
   {
    "duration": 6,
    "start_time": "2022-01-19T07:50:07.177Z"
   },
   {
    "duration": 30,
    "start_time": "2022-01-19T07:50:07.186Z"
   },
   {
    "duration": 6,
    "start_time": "2022-01-19T07:50:07.219Z"
   },
   {
    "duration": 7,
    "start_time": "2022-01-19T07:50:07.229Z"
   },
   {
    "duration": 40,
    "start_time": "2022-01-19T07:50:07.239Z"
   },
   {
    "duration": 33,
    "start_time": "2022-01-19T07:50:07.282Z"
   },
   {
    "duration": 13,
    "start_time": "2022-01-19T07:50:09.345Z"
   },
   {
    "duration": 228,
    "start_time": "2022-01-19T07:50:32.882Z"
   },
   {
    "duration": 383,
    "start_time": "2022-01-19T07:56:41.090Z"
   },
   {
    "duration": 243,
    "start_time": "2022-01-19T07:58:11.654Z"
   },
   {
    "duration": 234,
    "start_time": "2022-01-19T07:58:16.071Z"
   },
   {
    "duration": 1482,
    "start_time": "2022-01-19T07:58:49.939Z"
   },
   {
    "duration": 37,
    "start_time": "2022-01-19T07:58:51.424Z"
   },
   {
    "duration": 26,
    "start_time": "2022-01-19T07:58:51.469Z"
   },
   {
    "duration": 13,
    "start_time": "2022-01-19T07:58:51.498Z"
   },
   {
    "duration": 9,
    "start_time": "2022-01-19T07:58:51.513Z"
   },
   {
    "duration": 6,
    "start_time": "2022-01-19T07:58:51.525Z"
   },
   {
    "duration": 20,
    "start_time": "2022-01-19T07:58:51.569Z"
   },
   {
    "duration": 7,
    "start_time": "2022-01-19T07:58:51.591Z"
   },
   {
    "duration": 8,
    "start_time": "2022-01-19T07:58:51.602Z"
   },
   {
    "duration": 17,
    "start_time": "2022-01-19T07:58:51.613Z"
   },
   {
    "duration": 63,
    "start_time": "2022-01-19T07:58:51.632Z"
   },
   {
    "duration": 11,
    "start_time": "2022-01-19T07:58:51.698Z"
   },
   {
    "duration": 249,
    "start_time": "2022-01-19T07:58:51.711Z"
   },
   {
    "duration": 116,
    "start_time": "2022-01-19T07:58:51.962Z"
   },
   {
    "duration": 8,
    "start_time": "2022-01-19T07:58:52.171Z"
   },
   {
    "duration": 14,
    "start_time": "2022-01-19T07:58:52.183Z"
   },
   {
    "duration": 11,
    "start_time": "2022-01-19T07:58:52.199Z"
   },
   {
    "duration": 13,
    "start_time": "2022-01-19T07:58:52.212Z"
   },
   {
    "duration": 485,
    "start_time": "2022-01-19T07:58:52.228Z"
   },
   {
    "duration": 17,
    "start_time": "2022-01-19T07:58:52.716Z"
   },
   {
    "duration": 36,
    "start_time": "2022-01-19T07:58:52.736Z"
   },
   {
    "duration": 11,
    "start_time": "2022-01-19T07:58:52.775Z"
   },
   {
    "duration": 24,
    "start_time": "2022-01-19T07:58:52.788Z"
   },
   {
    "duration": 68,
    "start_time": "2022-01-19T07:58:52.815Z"
   },
   {
    "duration": 462,
    "start_time": "2022-01-19T07:58:52.886Z"
   },
   {
    "duration": 48,
    "start_time": "2022-01-19T07:58:53.351Z"
   },
   {
    "duration": 1001589,
    "start_time": "2022-01-19T07:58:53.404Z"
   },
   {
    "duration": 834,
    "start_time": "2022-01-19T08:15:34.996Z"
   },
   {
    "duration": 17,
    "start_time": "2022-01-19T08:15:35.832Z"
   },
   {
    "duration": 133,
    "start_time": "2022-01-19T08:15:35.851Z"
   },
   {
    "duration": 646,
    "start_time": "2022-01-19T08:15:36.071Z"
   },
   {
    "duration": 31,
    "start_time": "2022-01-19T08:15:36.720Z"
   },
   {
    "duration": 751619,
    "start_time": "2022-01-19T08:15:36.753Z"
   },
   {
    "duration": 138,
    "start_time": "2022-01-19T08:28:08.375Z"
   },
   {
    "duration": 304,
    "start_time": "2022-01-19T08:28:08.515Z"
   },
   {
    "duration": 6,
    "start_time": "2022-01-19T08:28:08.821Z"
   },
   {
    "duration": 11,
    "start_time": "2022-01-19T08:28:08.829Z"
   },
   {
    "duration": 10,
    "start_time": "2022-01-19T08:28:08.843Z"
   },
   {
    "duration": 3,
    "start_time": "2022-01-19T08:28:08.874Z"
   },
   {
    "duration": 7,
    "start_time": "2022-01-19T08:28:08.879Z"
   },
   {
    "duration": 7,
    "start_time": "2022-01-19T08:28:08.888Z"
   },
   {
    "duration": 3,
    "start_time": "2022-01-19T08:30:58.323Z"
   },
   {
    "duration": 5,
    "start_time": "2022-01-19T08:31:16.091Z"
   },
   {
    "duration": 35,
    "start_time": "2022-01-19T08:31:16.099Z"
   },
   {
    "duration": 19,
    "start_time": "2022-01-19T08:31:16.137Z"
   },
   {
    "duration": 12,
    "start_time": "2022-01-19T08:31:16.170Z"
   },
   {
    "duration": 10,
    "start_time": "2022-01-19T08:31:16.184Z"
   },
   {
    "duration": 10,
    "start_time": "2022-01-19T08:31:16.196Z"
   },
   {
    "duration": 27,
    "start_time": "2022-01-19T08:31:16.208Z"
   },
   {
    "duration": 34,
    "start_time": "2022-01-19T08:31:16.238Z"
   },
   {
    "duration": 8,
    "start_time": "2022-01-19T08:31:16.277Z"
   },
   {
    "duration": 18,
    "start_time": "2022-01-19T08:31:16.288Z"
   },
   {
    "duration": 30,
    "start_time": "2022-01-19T08:31:16.309Z"
   },
   {
    "duration": 9,
    "start_time": "2022-01-19T08:31:16.370Z"
   },
   {
    "duration": 227,
    "start_time": "2022-01-19T08:31:16.382Z"
   },
   {
    "duration": 64,
    "start_time": "2022-01-19T08:31:16.612Z"
   },
   {
    "duration": 97,
    "start_time": "2022-01-19T08:31:16.679Z"
   },
   {
    "duration": 10,
    "start_time": "2022-01-19T08:31:16.779Z"
   },
   {
    "duration": 79,
    "start_time": "2022-01-19T08:31:16.791Z"
   },
   {
    "duration": 13,
    "start_time": "2022-01-19T08:31:16.873Z"
   },
   {
    "duration": 459,
    "start_time": "2022-01-19T08:31:16.889Z"
   },
   {
    "duration": 22,
    "start_time": "2022-01-19T08:31:17.350Z"
   },
   {
    "duration": 5,
    "start_time": "2022-01-19T08:31:17.375Z"
   },
   {
    "duration": 12,
    "start_time": "2022-01-19T08:31:17.382Z"
   },
   {
    "duration": 18,
    "start_time": "2022-01-19T08:31:17.397Z"
   },
   {
    "duration": 151,
    "start_time": "2022-01-19T08:31:17.418Z"
   },
   {
    "duration": 4,
    "start_time": "2022-01-19T08:31:17.573Z"
   },
   {
    "duration": 137,
    "start_time": "2022-01-19T08:31:17.580Z"
   },
   {
    "duration": 3,
    "start_time": "2022-01-19T08:31:17.722Z"
   },
   {
    "duration": 680,
    "start_time": "2022-01-19T08:31:17.727Z"
   },
   {
    "duration": 20,
    "start_time": "2022-01-19T08:31:18.409Z"
   },
   {
    "duration": 138,
    "start_time": "2022-01-19T08:31:18.431Z"
   },
   {
    "duration": 4,
    "start_time": "2022-01-19T08:31:18.573Z"
   },
   {
    "duration": 129,
    "start_time": "2022-01-19T08:31:18.579Z"
   },
   {
    "duration": 4,
    "start_time": "2022-01-19T08:31:22.419Z"
   },
   {
    "duration": 131,
    "start_time": "2022-01-19T08:31:26.054Z"
   },
   {
    "duration": 301,
    "start_time": "2022-01-19T08:31:40.846Z"
   },
   {
    "duration": 428,
    "start_time": "2022-01-19T08:34:56.277Z"
   },
   {
    "duration": 36,
    "start_time": "2022-01-19T08:36:06.832Z"
   },
   {
    "duration": 119,
    "start_time": "2022-01-19T08:38:39.555Z"
   },
   {
    "duration": 40,
    "start_time": "2022-01-19T08:40:14.725Z"
   },
   {
    "duration": 656,
    "start_time": "2022-01-19T08:40:51.379Z"
   },
   {
    "duration": 35,
    "start_time": "2022-01-19T08:48:37.164Z"
   },
   {
    "duration": 33,
    "start_time": "2022-01-19T08:49:24.528Z"
   },
   {
    "duration": 124,
    "start_time": "2022-01-19T08:50:31.590Z"
   },
   {
    "duration": 4,
    "start_time": "2022-01-19T08:55:01.354Z"
   },
   {
    "duration": 10,
    "start_time": "2022-01-19T08:55:09.961Z"
   },
   {
    "duration": 691,
    "start_time": "2022-01-19T08:55:37.786Z"
   },
   {
    "duration": 5,
    "start_time": "2022-01-19T08:58:00.424Z"
   },
   {
    "duration": 523,
    "start_time": "2022-01-19T08:59:48.573Z"
   },
   {
    "duration": 7,
    "start_time": "2022-01-19T09:00:37.162Z"
   },
   {
    "duration": 511,
    "start_time": "2022-01-19T09:00:38.107Z"
   },
   {
    "duration": 3028,
    "start_time": "2022-01-19T09:02:00.983Z"
   },
   {
    "duration": 2966,
    "start_time": "2022-01-19T09:02:50.870Z"
   },
   {
    "duration": 6,
    "start_time": "2022-01-19T09:03:22.808Z"
   },
   {
    "duration": 3135,
    "start_time": "2022-01-19T09:03:23.636Z"
   },
   {
    "duration": 8,
    "start_time": "2022-01-19T09:05:17.005Z"
   },
   {
    "duration": 6,
    "start_time": "2022-01-19T09:05:48.355Z"
   },
   {
    "duration": 3082,
    "start_time": "2022-01-19T09:05:49.262Z"
   },
   {
    "duration": 7,
    "start_time": "2022-01-19T09:07:29.512Z"
   },
   {
    "duration": 3038,
    "start_time": "2022-01-19T09:07:30.240Z"
   },
   {
    "duration": 7,
    "start_time": "2022-01-19T09:11:47.563Z"
   },
   {
    "duration": 298,
    "start_time": "2022-01-19T09:12:07.108Z"
   },
   {
    "duration": 7,
    "start_time": "2022-01-19T09:12:40.971Z"
   },
   {
    "duration": 135,
    "start_time": "2022-01-19T09:12:42.074Z"
   },
   {
    "duration": 805,
    "start_time": "2022-01-19T09:12:43.219Z"
   },
   {
    "duration": 4,
    "start_time": "2022-01-19T09:12:49.487Z"
   },
   {
    "duration": 806,
    "start_time": "2022-01-19T09:12:50.219Z"
   },
   {
    "duration": 7,
    "start_time": "2022-01-19T09:13:07.854Z"
   },
   {
    "duration": 4,
    "start_time": "2022-01-19T09:13:09.400Z"
   },
   {
    "duration": 862,
    "start_time": "2022-01-19T09:13:10.049Z"
   },
   {
    "duration": 7,
    "start_time": "2022-01-19T09:13:30.018Z"
   },
   {
    "duration": 4,
    "start_time": "2022-01-19T09:13:30.721Z"
   },
   {
    "duration": 1200,
    "start_time": "2022-01-19T09:13:31.303Z"
   },
   {
    "duration": 7,
    "start_time": "2022-01-19T09:14:09.693Z"
   },
   {
    "duration": 6,
    "start_time": "2022-01-19T09:14:37.393Z"
   },
   {
    "duration": 3,
    "start_time": "2022-01-19T09:14:38.076Z"
   },
   {
    "duration": 846,
    "start_time": "2022-01-19T09:14:38.692Z"
   },
   {
    "duration": 7,
    "start_time": "2022-01-19T09:16:14.038Z"
   },
   {
    "duration": 4,
    "start_time": "2022-01-19T09:16:14.520Z"
   },
   {
    "duration": 273,
    "start_time": "2022-01-19T09:16:15.181Z"
   },
   {
    "duration": 7,
    "start_time": "2022-01-19T09:16:27.902Z"
   },
   {
    "duration": 7,
    "start_time": "2022-01-19T09:17:11.673Z"
   },
   {
    "duration": 5,
    "start_time": "2022-01-19T09:17:12.218Z"
   },
   {
    "duration": 284,
    "start_time": "2022-01-19T09:17:12.838Z"
   },
   {
    "duration": 7,
    "start_time": "2022-01-19T09:18:01.734Z"
   },
   {
    "duration": 4,
    "start_time": "2022-01-19T09:18:02.381Z"
   },
   {
    "duration": 784,
    "start_time": "2022-01-19T09:18:02.954Z"
   },
   {
    "duration": 7,
    "start_time": "2022-01-19T09:22:14.676Z"
   },
   {
    "duration": 4,
    "start_time": "2022-01-19T09:22:15.451Z"
   },
   {
    "duration": 276,
    "start_time": "2022-01-19T09:22:16.050Z"
   },
   {
    "duration": 7,
    "start_time": "2022-01-19T09:22:34.040Z"
   },
   {
    "duration": 3,
    "start_time": "2022-01-19T09:22:34.938Z"
   },
   {
    "duration": 275,
    "start_time": "2022-01-19T09:22:35.413Z"
   },
   {
    "duration": 8,
    "start_time": "2022-01-19T09:23:32.166Z"
   },
   {
    "duration": 4,
    "start_time": "2022-01-19T09:23:32.907Z"
   },
   {
    "duration": 283,
    "start_time": "2022-01-19T09:23:33.400Z"
   },
   {
    "duration": 8,
    "start_time": "2022-01-19T09:27:35.367Z"
   },
   {
    "duration": 4,
    "start_time": "2022-01-19T09:27:36.217Z"
   },
   {
    "duration": 825,
    "start_time": "2022-01-19T09:27:36.699Z"
   },
   {
    "duration": 7,
    "start_time": "2022-01-19T09:27:48.299Z"
   },
   {
    "duration": 3,
    "start_time": "2022-01-19T09:27:49.464Z"
   },
   {
    "duration": 292,
    "start_time": "2022-01-19T09:27:49.933Z"
   },
   {
    "duration": 7,
    "start_time": "2022-01-19T09:27:57.966Z"
   },
   {
    "duration": 3,
    "start_time": "2022-01-19T09:27:58.477Z"
   },
   {
    "duration": 281,
    "start_time": "2022-01-19T09:27:58.960Z"
   },
   {
    "duration": 6,
    "start_time": "2022-01-19T09:28:54.868Z"
   },
   {
    "duration": 3,
    "start_time": "2022-01-19T09:28:55.455Z"
   },
   {
    "duration": 827,
    "start_time": "2022-01-19T09:28:55.905Z"
   },
   {
    "duration": 7,
    "start_time": "2022-01-19T09:29:41.832Z"
   },
   {
    "duration": 4,
    "start_time": "2022-01-19T09:29:42.522Z"
   },
   {
    "duration": 288,
    "start_time": "2022-01-19T09:29:43.370Z"
   },
   {
    "duration": 7,
    "start_time": "2022-01-19T09:29:54.643Z"
   },
   {
    "duration": 3,
    "start_time": "2022-01-19T09:29:55.205Z"
   },
   {
    "duration": 398,
    "start_time": "2022-01-19T09:29:55.682Z"
   },
   {
    "duration": 746,
    "start_time": "2022-01-19T09:32:00.594Z"
   },
   {
    "duration": 291,
    "start_time": "2022-01-19T09:32:12.356Z"
   },
   {
    "duration": 292,
    "start_time": "2022-01-19T09:33:09.669Z"
   },
   {
    "duration": 288,
    "start_time": "2022-01-19T09:33:21.936Z"
   },
   {
    "duration": 282,
    "start_time": "2022-01-19T09:35:17.149Z"
   },
   {
    "duration": 284,
    "start_time": "2022-01-19T09:35:28.762Z"
   },
   {
    "duration": 290,
    "start_time": "2022-01-19T09:36:42.561Z"
   },
   {
    "duration": 542,
    "start_time": "2022-01-19T09:36:59.316Z"
   },
   {
    "duration": 291,
    "start_time": "2022-01-19T09:37:42.094Z"
   },
   {
    "duration": 387,
    "start_time": "2022-01-19T09:40:04.147Z"
   },
   {
    "duration": 346,
    "start_time": "2022-01-19T09:40:42.239Z"
   },
   {
    "duration": 7,
    "start_time": "2022-01-19T09:41:37.312Z"
   },
   {
    "duration": 3342,
    "start_time": "2022-01-19T09:41:38.287Z"
   },
   {
    "duration": 7,
    "start_time": "2022-01-19T09:42:18.546Z"
   },
   {
    "duration": 901,
    "start_time": "2022-01-19T09:42:19.652Z"
   },
   {
    "duration": 7,
    "start_time": "2022-01-19T09:42:36.095Z"
   },
   {
    "duration": 3254,
    "start_time": "2022-01-19T09:42:37.318Z"
   },
   {
    "duration": 7,
    "start_time": "2022-01-19T09:43:12.012Z"
   },
   {
    "duration": 3727,
    "start_time": "2022-01-19T09:43:13.768Z"
   },
   {
    "duration": 8,
    "start_time": "2022-01-19T09:43:35.764Z"
   },
   {
    "duration": 3683,
    "start_time": "2022-01-19T09:43:36.646Z"
   },
   {
    "duration": 7,
    "start_time": "2022-01-19T09:44:50.126Z"
   },
   {
    "duration": 3656,
    "start_time": "2022-01-19T09:44:51.023Z"
   },
   {
    "duration": 3608,
    "start_time": "2022-01-19T10:56:46.650Z"
   },
   {
    "duration": 726,
    "start_time": "2022-01-19T10:57:32.677Z"
   },
   {
    "duration": 367,
    "start_time": "2022-01-19T10:57:51.021Z"
   },
   {
    "duration": 401,
    "start_time": "2022-01-19T11:02:47.872Z"
   },
   {
    "duration": 370,
    "start_time": "2022-01-19T11:03:23.524Z"
   },
   {
    "duration": 1495,
    "start_time": "2022-01-19T12:07:22.220Z"
   },
   {
    "duration": 34,
    "start_time": "2022-01-19T12:07:23.718Z"
   },
   {
    "duration": 33,
    "start_time": "2022-01-19T12:07:23.755Z"
   },
   {
    "duration": 16,
    "start_time": "2022-01-19T12:07:23.791Z"
   },
   {
    "duration": 13,
    "start_time": "2022-01-19T12:07:23.810Z"
   },
   {
    "duration": 8,
    "start_time": "2022-01-19T12:07:23.826Z"
   },
   {
    "duration": 57,
    "start_time": "2022-01-19T12:07:23.836Z"
   },
   {
    "duration": 7,
    "start_time": "2022-01-19T12:07:23.895Z"
   },
   {
    "duration": 7,
    "start_time": "2022-01-19T12:07:23.906Z"
   },
   {
    "duration": 18,
    "start_time": "2022-01-19T12:07:23.916Z"
   },
   {
    "duration": 59,
    "start_time": "2022-01-19T12:07:23.936Z"
   },
   {
    "duration": 10,
    "start_time": "2022-01-19T12:07:23.997Z"
   },
   {
    "duration": 243,
    "start_time": "2022-01-19T12:07:24.009Z"
   },
   {
    "duration": 117,
    "start_time": "2022-01-19T12:07:24.255Z"
   },
   {
    "duration": 98,
    "start_time": "2022-01-19T12:07:24.376Z"
   },
   {
    "duration": 11,
    "start_time": "2022-01-19T12:07:24.476Z"
   },
   {
    "duration": 37,
    "start_time": "2022-01-19T12:07:24.489Z"
   },
   {
    "duration": 8,
    "start_time": "2022-01-19T12:07:24.529Z"
   },
   {
    "duration": 3,
    "start_time": "2022-01-19T12:07:24.571Z"
   },
   {
    "duration": 455,
    "start_time": "2022-01-19T12:07:24.576Z"
   },
   {
    "duration": 15,
    "start_time": "2022-01-19T12:07:25.034Z"
   },
   {
    "duration": 23,
    "start_time": "2022-01-19T12:07:25.051Z"
   },
   {
    "duration": 13,
    "start_time": "2022-01-19T12:07:25.077Z"
   },
   {
    "duration": 20,
    "start_time": "2022-01-19T12:07:25.093Z"
   },
   {
    "duration": 154,
    "start_time": "2022-01-19T12:07:25.116Z"
   },
   {
    "duration": 4,
    "start_time": "2022-01-19T12:07:25.274Z"
   },
   {
    "duration": 128,
    "start_time": "2022-01-19T12:07:25.284Z"
   },
   {
    "duration": 4,
    "start_time": "2022-01-19T12:07:25.416Z"
   },
   {
    "duration": 747,
    "start_time": "2022-01-19T12:07:25.423Z"
   },
   {
    "duration": 18,
    "start_time": "2022-01-19T12:07:26.172Z"
   },
   {
    "duration": 83,
    "start_time": "2022-01-19T12:07:26.192Z"
   },
   {
    "duration": 6,
    "start_time": "2022-01-19T12:07:26.279Z"
   },
   {
    "duration": 38,
    "start_time": "2022-01-19T12:07:26.370Z"
   },
   {
    "duration": 3,
    "start_time": "2022-01-19T12:07:26.410Z"
   },
   {
    "duration": 159,
    "start_time": "2022-01-19T12:07:26.416Z"
   },
   {
    "duration": 4,
    "start_time": "2022-01-19T12:07:26.577Z"
   },
   {
    "duration": 7,
    "start_time": "2022-01-19T12:07:26.583Z"
   },
   {
    "duration": 3906,
    "start_time": "2022-01-19T12:07:26.593Z"
   },
   {
    "duration": 540,
    "start_time": "2022-01-19T12:07:30.502Z"
   },
   {
    "duration": 213,
    "start_time": "2022-01-19T12:31:11.509Z"
   },
   {
    "duration": 1499,
    "start_time": "2022-01-19T12:39:47.431Z"
   },
   {
    "duration": 36,
    "start_time": "2022-01-19T12:39:48.934Z"
   },
   {
    "duration": 25,
    "start_time": "2022-01-19T12:39:48.973Z"
   },
   {
    "duration": 12,
    "start_time": "2022-01-19T12:39:49.001Z"
   },
   {
    "duration": 9,
    "start_time": "2022-01-19T12:39:49.015Z"
   },
   {
    "duration": 43,
    "start_time": "2022-01-19T12:39:49.026Z"
   },
   {
    "duration": 25,
    "start_time": "2022-01-19T12:39:49.072Z"
   },
   {
    "duration": 7,
    "start_time": "2022-01-19T12:39:49.099Z"
   },
   {
    "duration": 8,
    "start_time": "2022-01-19T12:39:49.110Z"
   },
   {
    "duration": 16,
    "start_time": "2022-01-19T12:39:49.121Z"
   },
   {
    "duration": 30,
    "start_time": "2022-01-19T12:39:49.170Z"
   },
   {
    "duration": 10,
    "start_time": "2022-01-19T12:39:49.202Z"
   },
   {
    "duration": 246,
    "start_time": "2022-01-19T12:39:49.214Z"
   },
   {
    "duration": 200,
    "start_time": "2022-01-19T12:39:49.469Z"
   },
   {
    "duration": 7,
    "start_time": "2022-01-19T12:39:49.672Z"
   },
   {
    "duration": 12,
    "start_time": "2022-01-19T12:39:49.681Z"
   },
   {
    "duration": 38,
    "start_time": "2022-01-19T12:39:49.695Z"
   },
   {
    "duration": 8,
    "start_time": "2022-01-19T12:39:49.736Z"
   },
   {
    "duration": 33,
    "start_time": "2022-01-19T12:39:49.746Z"
   },
   {
    "duration": 445,
    "start_time": "2022-01-19T12:39:49.781Z"
   },
   {
    "duration": 17,
    "start_time": "2022-01-19T12:39:50.229Z"
   },
   {
    "duration": 8,
    "start_time": "2022-01-19T12:39:50.268Z"
   },
   {
    "duration": 14,
    "start_time": "2022-01-19T12:39:50.278Z"
   },
   {
    "duration": 24,
    "start_time": "2022-01-19T12:39:50.295Z"
   },
   {
    "duration": 155,
    "start_time": "2022-01-19T12:39:50.321Z"
   },
   {
    "duration": 90,
    "start_time": "2022-01-19T12:39:50.480Z"
   },
   {
    "duration": 44,
    "start_time": "2022-01-19T12:39:50.577Z"
   },
   {
    "duration": 3,
    "start_time": "2022-01-19T12:39:50.624Z"
   },
   {
    "duration": 692,
    "start_time": "2022-01-19T12:39:50.630Z"
   },
   {
    "duration": 18,
    "start_time": "2022-01-19T12:39:51.324Z"
   },
   {
    "duration": 123,
    "start_time": "2022-01-19T12:39:51.345Z"
   },
   {
    "duration": 5,
    "start_time": "2022-01-19T12:39:51.473Z"
   },
   {
    "duration": 35,
    "start_time": "2022-01-19T12:39:51.571Z"
   },
   {
    "duration": 4,
    "start_time": "2022-01-19T12:39:51.609Z"
   },
   {
    "duration": 166,
    "start_time": "2022-01-19T12:39:51.616Z"
   },
   {
    "duration": 4,
    "start_time": "2022-01-19T12:39:51.785Z"
   },
   {
    "duration": 9,
    "start_time": "2022-01-19T12:39:51.791Z"
   },
   {
    "duration": 3671,
    "start_time": "2022-01-19T12:39:51.803Z"
   },
   {
    "duration": 373,
    "start_time": "2022-01-19T12:39:55.477Z"
   },
   {
    "duration": 1164,
    "start_time": "2022-01-20T06:54:44.875Z"
   },
   {
    "duration": 29,
    "start_time": "2022-01-20T06:54:46.041Z"
   },
   {
    "duration": 15,
    "start_time": "2022-01-20T06:54:46.072Z"
   },
   {
    "duration": 11,
    "start_time": "2022-01-20T06:54:46.089Z"
   },
   {
    "duration": 7,
    "start_time": "2022-01-20T06:54:46.102Z"
   },
   {
    "duration": 6,
    "start_time": "2022-01-20T06:54:46.110Z"
   },
   {
    "duration": 14,
    "start_time": "2022-01-20T06:54:46.118Z"
   },
   {
    "duration": 5,
    "start_time": "2022-01-20T06:54:46.134Z"
   },
   {
    "duration": 6,
    "start_time": "2022-01-20T06:54:46.141Z"
   },
   {
    "duration": 15,
    "start_time": "2022-01-20T06:54:46.149Z"
   },
   {
    "duration": 20,
    "start_time": "2022-01-20T06:54:46.199Z"
   },
   {
    "duration": 7,
    "start_time": "2022-01-20T06:54:46.220Z"
   },
   {
    "duration": 163,
    "start_time": "2022-01-20T06:54:46.229Z"
   },
   {
    "duration": 108,
    "start_time": "2022-01-20T06:54:46.394Z"
   },
   {
    "duration": 97,
    "start_time": "2022-01-20T06:54:46.504Z"
   },
   {
    "duration": 8,
    "start_time": "2022-01-20T06:54:46.603Z"
   },
   {
    "duration": 28,
    "start_time": "2022-01-20T06:54:46.613Z"
   },
   {
    "duration": 5,
    "start_time": "2022-01-20T06:54:46.643Z"
   },
   {
    "duration": 7,
    "start_time": "2022-01-20T06:54:46.650Z"
   },
   {
    "duration": 296,
    "start_time": "2022-01-20T06:54:46.658Z"
   },
   {
    "duration": 9,
    "start_time": "2022-01-20T06:54:46.956Z"
   },
   {
    "duration": 4,
    "start_time": "2022-01-20T06:54:46.967Z"
   },
   {
    "duration": 7,
    "start_time": "2022-01-20T06:54:46.973Z"
   },
   {
    "duration": 12,
    "start_time": "2022-01-20T06:54:46.999Z"
   },
   {
    "duration": 25,
    "start_time": "2022-01-20T06:54:47.013Z"
   },
   {
    "duration": 4,
    "start_time": "2022-01-20T06:54:47.100Z"
   },
   {
    "duration": 131,
    "start_time": "2022-01-20T06:54:47.106Z"
   },
   {
    "duration": 2,
    "start_time": "2022-01-20T06:54:47.239Z"
   },
   {
    "duration": 435,
    "start_time": "2022-01-20T06:54:47.243Z"
   },
   {
    "duration": 20,
    "start_time": "2022-01-20T06:54:47.681Z"
   },
   {
    "duration": 22,
    "start_time": "2022-01-20T06:54:47.703Z"
   },
   {
    "duration": 3,
    "start_time": "2022-01-20T06:54:47.799Z"
   },
   {
    "duration": 120,
    "start_time": "2022-01-20T06:54:47.805Z"
   },
   {
    "duration": 3,
    "start_time": "2022-01-20T06:54:47.927Z"
   },
   {
    "duration": 96,
    "start_time": "2022-01-20T06:54:47.931Z"
   },
   {
    "duration": 4,
    "start_time": "2022-01-20T06:54:48.029Z"
   },
   {
    "duration": 5,
    "start_time": "2022-01-20T06:54:48.035Z"
   },
   {
    "duration": 2612,
    "start_time": "2022-01-20T06:54:48.042Z"
   },
   {
    "duration": 251,
    "start_time": "2022-01-20T06:54:50.656Z"
   },
   {
    "duration": 1180,
    "start_time": "2022-01-20T07:21:31.067Z"
   },
   {
    "duration": 28,
    "start_time": "2022-01-20T07:21:32.249Z"
   },
   {
    "duration": 15,
    "start_time": "2022-01-20T07:21:32.279Z"
   },
   {
    "duration": 28,
    "start_time": "2022-01-20T07:21:32.297Z"
   },
   {
    "duration": 16,
    "start_time": "2022-01-20T07:21:32.327Z"
   },
   {
    "duration": 23,
    "start_time": "2022-01-20T07:21:32.344Z"
   },
   {
    "duration": 28,
    "start_time": "2022-01-20T07:21:32.369Z"
   },
   {
    "duration": 20,
    "start_time": "2022-01-20T07:21:32.399Z"
   },
   {
    "duration": 16,
    "start_time": "2022-01-20T07:21:32.422Z"
   },
   {
    "duration": 36,
    "start_time": "2022-01-20T07:21:32.440Z"
   },
   {
    "duration": 11,
    "start_time": "2022-01-20T07:21:35.465Z"
   },
   {
    "duration": 4,
    "start_time": "2022-01-20T07:45:48.387Z"
   },
   {
    "duration": 50,
    "start_time": "2022-01-20T07:45:48.392Z"
   },
   {
    "duration": 25,
    "start_time": "2022-01-20T07:45:48.444Z"
   },
   {
    "duration": 24,
    "start_time": "2022-01-20T07:45:48.471Z"
   },
   {
    "duration": 26,
    "start_time": "2022-01-20T07:45:48.496Z"
   },
   {
    "duration": 34,
    "start_time": "2022-01-20T07:45:48.524Z"
   },
   {
    "duration": 26,
    "start_time": "2022-01-20T07:45:48.560Z"
   },
   {
    "duration": 26,
    "start_time": "2022-01-20T07:45:48.588Z"
   },
   {
    "duration": 2,
    "start_time": "2022-01-20T07:45:50.445Z"
   },
   {
    "duration": 10,
    "start_time": "2022-01-20T07:45:51.330Z"
   },
   {
    "duration": 11,
    "start_time": "2022-01-20T07:45:55.236Z"
   },
   {
    "duration": 276,
    "start_time": "2022-01-20T07:58:51.278Z"
   },
   {
    "duration": 4,
    "start_time": "2022-01-20T07:59:03.655Z"
   },
   {
    "duration": 39,
    "start_time": "2022-01-20T07:59:03.661Z"
   },
   {
    "duration": 11,
    "start_time": "2022-01-20T07:59:03.703Z"
   },
   {
    "duration": 14,
    "start_time": "2022-01-20T07:59:03.716Z"
   },
   {
    "duration": 16,
    "start_time": "2022-01-20T07:59:03.731Z"
   },
   {
    "duration": 16,
    "start_time": "2022-01-20T07:59:03.749Z"
   },
   {
    "duration": 30,
    "start_time": "2022-01-20T07:59:03.767Z"
   },
   {
    "duration": 5,
    "start_time": "2022-01-20T07:59:03.799Z"
   },
   {
    "duration": 8,
    "start_time": "2022-01-20T07:59:03.806Z"
   },
   {
    "duration": 19,
    "start_time": "2022-01-20T07:59:03.816Z"
   },
   {
    "duration": 23,
    "start_time": "2022-01-20T07:59:03.837Z"
   },
   {
    "duration": 21,
    "start_time": "2022-01-20T07:59:03.861Z"
   },
   {
    "duration": 14,
    "start_time": "2022-01-20T07:59:03.883Z"
   },
   {
    "duration": 149,
    "start_time": "2022-01-20T07:59:03.899Z"
   },
   {
    "duration": 151,
    "start_time": "2022-01-20T07:59:04.049Z"
   },
   {
    "duration": 4,
    "start_time": "2022-01-20T07:59:04.202Z"
   },
   {
    "duration": 10,
    "start_time": "2022-01-20T07:59:04.208Z"
   },
   {
    "duration": 26,
    "start_time": "2022-01-20T07:59:04.220Z"
   },
   {
    "duration": 6,
    "start_time": "2022-01-20T07:59:04.248Z"
   },
   {
    "duration": 11,
    "start_time": "2022-01-20T07:59:04.256Z"
   },
   {
    "duration": 264,
    "start_time": "2022-01-20T07:59:04.269Z"
   },
   {
    "duration": 10,
    "start_time": "2022-01-20T07:59:04.535Z"
   },
   {
    "duration": 6,
    "start_time": "2022-01-20T07:59:04.546Z"
   },
   {
    "duration": 22,
    "start_time": "2022-01-20T07:59:04.553Z"
   },
   {
    "duration": 19,
    "start_time": "2022-01-20T07:59:04.576Z"
   },
   {
    "duration": 21,
    "start_time": "2022-01-20T07:59:04.597Z"
   },
   {
    "duration": 75,
    "start_time": "2022-01-20T07:59:04.623Z"
   },
   {
    "duration": 118,
    "start_time": "2022-01-20T07:59:04.701Z"
   },
   {
    "duration": 3,
    "start_time": "2022-01-20T07:59:04.821Z"
   },
   {
    "duration": 364,
    "start_time": "2022-01-20T07:59:04.826Z"
   },
   {
    "duration": 17,
    "start_time": "2022-01-20T07:59:05.192Z"
   },
   {
    "duration": 21,
    "start_time": "2022-01-20T07:59:05.211Z"
   },
   {
    "duration": 94,
    "start_time": "2022-01-20T07:59:05.304Z"
   },
   {
    "duration": 26,
    "start_time": "2022-01-20T07:59:05.399Z"
   },
   {
    "duration": 8,
    "start_time": "2022-01-20T07:59:05.427Z"
   },
   {
    "duration": 79,
    "start_time": "2022-01-20T07:59:05.437Z"
   },
   {
    "duration": 3,
    "start_time": "2022-01-20T07:59:05.517Z"
   },
   {
    "duration": 61,
    "start_time": "2022-01-20T07:59:05.521Z"
   },
   {
    "duration": 18,
    "start_time": "2022-01-20T07:59:05.584Z"
   },
   {
    "duration": 2489,
    "start_time": "2022-01-20T07:59:05.604Z"
   },
   {
    "duration": 223,
    "start_time": "2022-01-20T07:59:08.095Z"
   },
   {
    "duration": 9,
    "start_time": "2022-01-20T07:59:16.730Z"
   },
   {
    "duration": 9,
    "start_time": "2022-01-20T08:00:55.429Z"
   },
   {
    "duration": 7,
    "start_time": "2022-01-20T08:00:56.380Z"
   },
   {
    "duration": 9,
    "start_time": "2022-01-20T08:00:57.207Z"
   },
   {
    "duration": 7,
    "start_time": "2022-01-20T08:01:56.591Z"
   },
   {
    "duration": 7,
    "start_time": "2022-01-20T08:01:57.406Z"
   },
   {
    "duration": 15,
    "start_time": "2022-01-20T08:01:58.146Z"
   },
   {
    "duration": 19,
    "start_time": "2022-01-20T08:02:24.147Z"
   },
   {
    "duration": 18,
    "start_time": "2022-01-20T08:02:24.861Z"
   },
   {
    "duration": 21,
    "start_time": "2022-01-20T08:02:25.457Z"
   },
   {
    "duration": 220,
    "start_time": "2022-01-20T08:05:25.705Z"
   },
   {
    "duration": 229,
    "start_time": "2022-01-20T08:05:44.113Z"
   },
   {
    "duration": 199,
    "start_time": "2022-01-20T08:07:41.800Z"
   },
   {
    "duration": 20,
    "start_time": "2022-01-20T08:07:53.703Z"
   },
   {
    "duration": 4,
    "start_time": "2022-01-20T08:08:02.572Z"
   },
   {
    "duration": 60,
    "start_time": "2022-01-20T08:08:02.578Z"
   },
   {
    "duration": 11,
    "start_time": "2022-01-20T08:08:02.641Z"
   },
   {
    "duration": 39,
    "start_time": "2022-01-20T08:08:02.654Z"
   },
   {
    "duration": 33,
    "start_time": "2022-01-20T08:08:02.695Z"
   },
   {
    "duration": 38,
    "start_time": "2022-01-20T08:08:02.729Z"
   },
   {
    "duration": 32,
    "start_time": "2022-01-20T08:08:02.769Z"
   },
   {
    "duration": 23,
    "start_time": "2022-01-20T08:08:02.803Z"
   },
   {
    "duration": 12,
    "start_time": "2022-01-20T08:08:02.828Z"
   },
   {
    "duration": 37,
    "start_time": "2022-01-20T08:08:02.843Z"
   },
   {
    "duration": 25,
    "start_time": "2022-01-20T08:08:02.882Z"
   },
   {
    "duration": 36,
    "start_time": "2022-01-20T08:08:02.909Z"
   },
   {
    "duration": 8,
    "start_time": "2022-01-20T08:08:02.947Z"
   },
   {
    "duration": 148,
    "start_time": "2022-01-20T08:08:02.956Z"
   },
   {
    "duration": 25,
    "start_time": "2022-01-20T08:08:03.106Z"
   },
   {
    "duration": 8,
    "start_time": "2022-01-20T08:08:03.198Z"
   },
   {
    "duration": 98,
    "start_time": "2022-01-20T08:08:03.208Z"
   },
   {
    "duration": 33,
    "start_time": "2022-01-20T08:08:03.307Z"
   },
   {
    "duration": 11,
    "start_time": "2022-01-20T08:08:03.342Z"
   },
   {
    "duration": 23,
    "start_time": "2022-01-20T08:08:03.354Z"
   },
   {
    "duration": 239,
    "start_time": "2022-01-20T08:08:03.379Z"
   },
   {
    "duration": 10,
    "start_time": "2022-01-20T08:08:03.620Z"
   },
   {
    "duration": 14,
    "start_time": "2022-01-20T08:08:03.631Z"
   },
   {
    "duration": 29,
    "start_time": "2022-01-20T08:08:03.647Z"
   },
   {
    "duration": 39,
    "start_time": "2022-01-20T08:08:03.678Z"
   },
   {
    "duration": 78,
    "start_time": "2022-01-20T08:08:03.718Z"
   },
   {
    "duration": 96,
    "start_time": "2022-01-20T08:08:03.802Z"
   },
   {
    "duration": 32,
    "start_time": "2022-01-20T08:08:03.901Z"
   },
   {
    "duration": 6,
    "start_time": "2022-01-20T08:08:03.935Z"
   },
   {
    "duration": 363,
    "start_time": "2022-01-20T08:08:03.943Z"
   },
   {
    "duration": 12,
    "start_time": "2022-01-20T08:08:04.308Z"
   },
   {
    "duration": 75,
    "start_time": "2022-01-20T08:08:04.322Z"
   },
   {
    "duration": 97,
    "start_time": "2022-01-20T08:08:04.401Z"
   },
   {
    "duration": 54,
    "start_time": "2022-01-20T08:08:04.500Z"
   },
   {
    "duration": 17,
    "start_time": "2022-01-20T08:08:04.556Z"
   },
   {
    "duration": 113,
    "start_time": "2022-01-20T08:08:04.574Z"
   },
   {
    "duration": 12,
    "start_time": "2022-01-20T08:08:04.690Z"
   },
   {
    "duration": 197,
    "start_time": "2022-01-20T08:08:04.705Z"
   },
   {
    "duration": 46,
    "start_time": "2022-01-20T08:08:04.904Z"
   },
   {
    "duration": 23,
    "start_time": "2022-01-20T08:08:04.951Z"
   },
   {
    "duration": 27,
    "start_time": "2022-01-20T08:08:04.976Z"
   },
   {
    "duration": 39,
    "start_time": "2022-01-20T08:08:05.005Z"
   },
   {
    "duration": 18,
    "start_time": "2022-01-20T08:08:05.046Z"
   },
   {
    "duration": 118,
    "start_time": "2022-01-20T08:08:05.099Z"
   },
   {
    "duration": 25,
    "start_time": "2022-01-20T08:08:05.218Z"
   },
   {
    "duration": 20,
    "start_time": "2022-01-20T08:08:05.245Z"
   },
   {
    "duration": 24,
    "start_time": "2022-01-20T08:08:05.266Z"
   },
   {
    "duration": 2531,
    "start_time": "2022-01-20T08:08:05.292Z"
   },
   {
    "duration": 439,
    "start_time": "2022-01-20T08:08:07.825Z"
   },
   {
    "duration": 7,
    "start_time": "2022-01-20T08:10:48.327Z"
   },
   {
    "duration": 9,
    "start_time": "2022-01-20T08:10:51.605Z"
   },
   {
    "duration": 4,
    "start_time": "2022-01-20T08:12:11.164Z"
   },
   {
    "duration": 42,
    "start_time": "2022-01-20T08:12:11.170Z"
   },
   {
    "duration": 12,
    "start_time": "2022-01-20T08:12:11.214Z"
   },
   {
    "duration": 24,
    "start_time": "2022-01-20T08:12:11.228Z"
   },
   {
    "duration": 15,
    "start_time": "2022-01-20T08:12:11.254Z"
   },
   {
    "duration": 25,
    "start_time": "2022-01-20T08:12:11.271Z"
   },
   {
    "duration": 22,
    "start_time": "2022-01-20T08:12:11.298Z"
   },
   {
    "duration": 13,
    "start_time": "2022-01-20T08:12:11.322Z"
   },
   {
    "duration": 17,
    "start_time": "2022-01-20T08:12:11.337Z"
   },
   {
    "duration": 22,
    "start_time": "2022-01-20T08:12:11.356Z"
   },
   {
    "duration": 36,
    "start_time": "2022-01-20T08:12:11.380Z"
   },
   {
    "duration": 34,
    "start_time": "2022-01-20T08:12:11.418Z"
   },
   {
    "duration": 10,
    "start_time": "2022-01-20T08:12:11.454Z"
   },
   {
    "duration": 147,
    "start_time": "2022-01-20T08:12:11.465Z"
   },
   {
    "duration": 87,
    "start_time": "2022-01-20T08:12:11.614Z"
   },
   {
    "duration": 109,
    "start_time": "2022-01-20T08:12:11.704Z"
   },
   {
    "duration": 25,
    "start_time": "2022-01-20T08:12:11.815Z"
   },
   {
    "duration": 39,
    "start_time": "2022-01-20T08:12:11.842Z"
   },
   {
    "duration": 5,
    "start_time": "2022-01-20T08:12:11.882Z"
   },
   {
    "duration": 27,
    "start_time": "2022-01-20T08:12:11.889Z"
   },
   {
    "duration": 262,
    "start_time": "2022-01-20T08:12:11.918Z"
   },
   {
    "duration": 19,
    "start_time": "2022-01-20T08:12:12.181Z"
   },
   {
    "duration": 5,
    "start_time": "2022-01-20T08:12:12.202Z"
   },
   {
    "duration": 16,
    "start_time": "2022-01-20T08:12:12.208Z"
   },
   {
    "duration": 23,
    "start_time": "2022-01-20T08:12:12.226Z"
   },
   {
    "duration": 49,
    "start_time": "2022-01-20T08:12:12.251Z"
   },
   {
    "duration": 92,
    "start_time": "2022-01-20T08:12:12.305Z"
   },
   {
    "duration": 26,
    "start_time": "2022-01-20T08:12:12.400Z"
   },
   {
    "duration": 1,
    "start_time": "2022-01-20T08:12:12.428Z"
   },
   {
    "duration": 381,
    "start_time": "2022-01-20T08:12:12.431Z"
   },
   {
    "duration": 12,
    "start_time": "2022-01-20T08:12:12.813Z"
   },
   {
    "duration": 16,
    "start_time": "2022-01-20T08:12:12.827Z"
   },
   {
    "duration": 3,
    "start_time": "2022-01-20T08:12:12.901Z"
   },
   {
    "duration": 114,
    "start_time": "2022-01-20T08:12:12.906Z"
   },
   {
    "duration": 3,
    "start_time": "2022-01-20T08:12:13.022Z"
   },
   {
    "duration": 89,
    "start_time": "2022-01-20T08:12:13.026Z"
   },
   {
    "duration": 9,
    "start_time": "2022-01-20T08:12:13.117Z"
   },
   {
    "duration": 172,
    "start_time": "2022-01-20T08:12:13.128Z"
   },
   {
    "duration": 18,
    "start_time": "2022-01-20T08:12:13.302Z"
   },
   {
    "duration": 8,
    "start_time": "2022-01-20T08:12:13.322Z"
   },
   {
    "duration": 102,
    "start_time": "2022-01-20T08:12:13.398Z"
   },
   {
    "duration": 25,
    "start_time": "2022-01-20T08:12:13.501Z"
   },
   {
    "duration": 69,
    "start_time": "2022-01-20T08:12:13.529Z"
   },
   {
    "duration": 96,
    "start_time": "2022-01-20T08:12:13.602Z"
   },
   {
    "duration": 8,
    "start_time": "2022-01-20T08:12:14.949Z"
   },
   {
    "duration": 11,
    "start_time": "2022-01-20T08:12:15.490Z"
   },
   {
    "duration": 3,
    "start_time": "2022-01-20T08:16:15.339Z"
   },
   {
    "duration": 3,
    "start_time": "2022-01-20T08:16:16.261Z"
   },
   {
    "duration": 420,
    "start_time": "2022-01-20T08:16:18.681Z"
   },
   {
    "duration": 3,
    "start_time": "2022-01-20T08:18:16.387Z"
   },
   {
    "duration": 480,
    "start_time": "2022-01-20T08:18:17.318Z"
   },
   {
    "duration": 3,
    "start_time": "2022-01-20T08:18:42.665Z"
   },
   {
    "duration": 378,
    "start_time": "2022-01-20T08:18:43.427Z"
   },
   {
    "duration": 3,
    "start_time": "2022-01-20T08:18:50.944Z"
   },
   {
    "duration": 475,
    "start_time": "2022-01-20T08:18:52.025Z"
   },
   {
    "duration": 8,
    "start_time": "2022-01-20T08:22:17.772Z"
   },
   {
    "duration": 3,
    "start_time": "2022-01-20T08:24:10.775Z"
   },
   {
    "duration": 9,
    "start_time": "2022-01-20T08:24:55.231Z"
   },
   {
    "duration": 13,
    "start_time": "2022-01-20T08:25:08.613Z"
   },
   {
    "duration": 3,
    "start_time": "2022-01-20T08:26:52.760Z"
   },
   {
    "duration": 596,
    "start_time": "2022-01-20T08:26:53.503Z"
   },
   {
    "duration": 6,
    "start_time": "2022-01-20T08:39:19.666Z"
   },
   {
    "duration": 2520,
    "start_time": "2022-01-20T08:39:22.577Z"
   },
   {
    "duration": 229,
    "start_time": "2022-01-20T08:40:31.168Z"
   },
   {
    "duration": 4,
    "start_time": "2022-01-20T08:42:53.530Z"
   },
   {
    "duration": 515,
    "start_time": "2022-01-20T08:42:54.283Z"
   },
   {
    "duration": 3,
    "start_time": "2022-01-20T08:43:02.792Z"
   },
   {
    "duration": 496,
    "start_time": "2022-01-20T08:43:04.308Z"
   },
   {
    "duration": 3,
    "start_time": "2022-01-20T08:43:23.611Z"
   },
   {
    "duration": 461,
    "start_time": "2022-01-20T08:43:24.537Z"
   },
   {
    "duration": 66,
    "start_time": "2022-01-20T08:43:49.001Z"
   },
   {
    "duration": 3,
    "start_time": "2022-01-20T08:44:05.209Z"
   },
   {
    "duration": 457,
    "start_time": "2022-01-20T08:44:06.345Z"
   },
   {
    "duration": 3,
    "start_time": "2022-01-20T08:44:21.594Z"
   },
   {
    "duration": 470,
    "start_time": "2022-01-20T08:44:22.428Z"
   },
   {
    "duration": 3,
    "start_time": "2022-01-20T08:45:17.037Z"
   },
   {
    "duration": 441,
    "start_time": "2022-01-20T08:45:17.660Z"
   },
   {
    "duration": 3,
    "start_time": "2022-01-20T08:46:08.500Z"
   },
   {
    "duration": 498,
    "start_time": "2022-01-20T08:46:09.903Z"
   },
   {
    "duration": 5,
    "start_time": "2022-01-20T08:49:11.017Z"
   },
   {
    "duration": 654,
    "start_time": "2022-01-20T08:49:13.609Z"
   },
   {
    "duration": 5,
    "start_time": "2022-01-20T08:49:24.266Z"
   },
   {
    "duration": 5,
    "start_time": "2022-01-20T08:53:31.676Z"
   },
   {
    "duration": 2508,
    "start_time": "2022-01-20T08:59:02.104Z"
   },
   {
    "duration": 5,
    "start_time": "2022-01-20T09:22:51.659Z"
   },
   {
    "duration": 22215,
    "start_time": "2022-01-20T09:23:25.099Z"
   },
   {
    "duration": 5,
    "start_time": "2022-01-20T09:24:31.937Z"
   },
   {
    "duration": 2397,
    "start_time": "2022-01-20T09:24:32.707Z"
   },
   {
    "duration": 5,
    "start_time": "2022-01-20T09:25:16.870Z"
   },
   {
    "duration": 2442,
    "start_time": "2022-01-20T09:25:17.401Z"
   },
   {
    "duration": 3,
    "start_time": "2022-01-20T09:26:01.090Z"
   },
   {
    "duration": 2,
    "start_time": "2022-01-20T09:26:49.980Z"
   },
   {
    "duration": 5,
    "start_time": "2022-01-20T09:26:50.577Z"
   },
   {
    "duration": 965,
    "start_time": "2022-01-20T09:26:51.265Z"
   },
   {
    "duration": 6,
    "start_time": "2022-01-20T09:33:28.779Z"
   },
   {
    "duration": 579,
    "start_time": "2022-01-20T09:33:38.918Z"
   },
   {
    "duration": 4,
    "start_time": "2022-01-20T09:35:06.830Z"
   },
   {
    "duration": 216,
    "start_time": "2022-01-20T09:35:07.882Z"
   },
   {
    "duration": 4,
    "start_time": "2022-01-20T09:39:32.721Z"
   },
   {
    "duration": 526,
    "start_time": "2022-01-20T09:39:33.472Z"
   },
   {
    "duration": 4,
    "start_time": "2022-01-20T09:39:51.777Z"
   },
   {
    "duration": 175,
    "start_time": "2022-01-20T09:39:52.337Z"
   },
   {
    "duration": 4,
    "start_time": "2022-01-20T09:40:17.515Z"
   },
   {
    "duration": 193,
    "start_time": "2022-01-20T09:40:18.007Z"
   },
   {
    "duration": 4,
    "start_time": "2022-01-20T09:41:04.164Z"
   },
   {
    "duration": 55,
    "start_time": "2022-01-20T09:41:04.856Z"
   },
   {
    "duration": 4,
    "start_time": "2022-01-20T09:41:56.479Z"
   },
   {
    "duration": 177,
    "start_time": "2022-01-20T09:41:57.422Z"
   },
   {
    "duration": 5,
    "start_time": "2022-01-20T09:43:11.591Z"
   },
   {
    "duration": 141,
    "start_time": "2022-01-20T09:43:12.466Z"
   },
   {
    "duration": 5,
    "start_time": "2022-01-20T09:44:31.245Z"
   },
   {
    "duration": 156,
    "start_time": "2022-01-20T09:44:31.845Z"
   },
   {
    "duration": 5,
    "start_time": "2022-01-20T10:21:47.555Z"
   },
   {
    "duration": 720,
    "start_time": "2022-01-20T10:21:48.337Z"
   },
   {
    "duration": 6,
    "start_time": "2022-01-20T10:22:00.998Z"
   },
   {
    "duration": 715,
    "start_time": "2022-01-20T10:22:01.644Z"
   },
   {
    "duration": 5,
    "start_time": "2022-01-20T10:22:27.978Z"
   },
   {
    "duration": 387,
    "start_time": "2022-01-20T10:22:28.601Z"
   },
   {
    "duration": 5,
    "start_time": "2022-01-20T10:22:46.568Z"
   },
   {
    "duration": 336,
    "start_time": "2022-01-20T10:22:48.057Z"
   },
   {
    "duration": 6,
    "start_time": "2022-01-20T10:22:53.476Z"
   },
   {
    "duration": 411,
    "start_time": "2022-01-20T10:22:54.192Z"
   },
   {
    "duration": 6,
    "start_time": "2022-01-20T10:24:56.842Z"
   },
   {
    "duration": 423,
    "start_time": "2022-01-20T10:24:57.492Z"
   },
   {
    "duration": 6,
    "start_time": "2022-01-20T10:25:04.393Z"
   },
   {
    "duration": 351,
    "start_time": "2022-01-20T10:25:05.764Z"
   },
   {
    "duration": 94,
    "start_time": "2022-01-20T10:25:33.803Z"
   },
   {
    "duration": 417,
    "start_time": "2022-01-20T10:25:34.492Z"
   },
   {
    "duration": 5,
    "start_time": "2022-01-20T10:25:49.868Z"
   },
   {
    "duration": 391,
    "start_time": "2022-01-20T10:25:51.522Z"
   },
   {
    "duration": 6,
    "start_time": "2022-01-20T10:26:04.670Z"
   },
   {
    "duration": 390,
    "start_time": "2022-01-20T10:26:05.938Z"
   },
   {
    "duration": 6,
    "start_time": "2022-01-20T10:26:48.140Z"
   },
   {
    "duration": 448,
    "start_time": "2022-01-20T10:26:48.685Z"
   },
   {
    "duration": 6,
    "start_time": "2022-01-20T10:26:59.703Z"
   },
   {
    "duration": 412,
    "start_time": "2022-01-20T10:27:00.219Z"
   },
   {
    "duration": 6,
    "start_time": "2022-01-20T10:27:24.334Z"
   },
   {
    "duration": 464,
    "start_time": "2022-01-20T10:27:24.933Z"
   },
   {
    "duration": 7,
    "start_time": "2022-01-20T10:28:06.518Z"
   },
   {
    "duration": 924,
    "start_time": "2022-01-20T10:28:07.432Z"
   },
   {
    "duration": 6,
    "start_time": "2022-01-20T10:29:10.270Z"
   },
   {
    "duration": 965,
    "start_time": "2022-01-20T10:29:10.990Z"
   },
   {
    "duration": 6,
    "start_time": "2022-01-20T10:30:24.692Z"
   },
   {
    "duration": 910,
    "start_time": "2022-01-20T10:30:25.343Z"
   },
   {
    "duration": 7,
    "start_time": "2022-01-20T10:31:52.918Z"
   },
   {
    "duration": 1073,
    "start_time": "2022-01-20T10:31:53.553Z"
   },
   {
    "duration": 6,
    "start_time": "2022-01-20T10:34:28.747Z"
   },
   {
    "duration": 923,
    "start_time": "2022-01-20T10:34:30.659Z"
   },
   {
    "duration": 6,
    "start_time": "2022-01-20T10:34:43.318Z"
   },
   {
    "duration": 731,
    "start_time": "2022-01-20T10:34:44.233Z"
   },
   {
    "duration": 6,
    "start_time": "2022-01-20T10:35:29.129Z"
   },
   {
    "duration": 1137,
    "start_time": "2022-01-20T10:35:29.766Z"
   },
   {
    "duration": 6,
    "start_time": "2022-01-20T10:35:46.157Z"
   },
   {
    "duration": 895,
    "start_time": "2022-01-20T10:35:47.156Z"
   },
   {
    "duration": 6,
    "start_time": "2022-01-20T10:37:39.659Z"
   },
   {
    "duration": 955,
    "start_time": "2022-01-20T10:37:40.206Z"
   },
   {
    "duration": 4,
    "start_time": "2022-01-20T10:39:04.799Z"
   },
   {
    "duration": 6,
    "start_time": "2022-01-20T10:39:13.445Z"
   },
   {
    "duration": 918,
    "start_time": "2022-01-20T10:39:14.239Z"
   },
   {
    "duration": 6,
    "start_time": "2022-01-20T10:39:39.132Z"
   },
   {
    "duration": 884,
    "start_time": "2022-01-20T10:39:39.766Z"
   },
   {
    "duration": 6,
    "start_time": "2022-01-20T10:40:11.600Z"
   },
   {
    "duration": 937,
    "start_time": "2022-01-20T10:40:12.203Z"
   },
   {
    "duration": 6,
    "start_time": "2022-01-20T10:40:43.752Z"
   },
   {
    "duration": 885,
    "start_time": "2022-01-20T10:40:44.267Z"
   },
   {
    "duration": 4,
    "start_time": "2022-01-20T10:40:55.513Z"
   },
   {
    "duration": 6,
    "start_time": "2022-01-20T10:41:03.689Z"
   },
   {
    "duration": 959,
    "start_time": "2022-01-20T10:41:03.697Z"
   },
   {
    "duration": 6,
    "start_time": "2022-01-20T10:41:19.530Z"
   },
   {
    "duration": 868,
    "start_time": "2022-01-20T10:41:20.085Z"
   },
   {
    "duration": 1106,
    "start_time": "2022-01-20T10:41:32.942Z"
   },
   {
    "duration": 29,
    "start_time": "2022-01-20T10:41:34.050Z"
   },
   {
    "duration": 16,
    "start_time": "2022-01-20T10:41:34.081Z"
   },
   {
    "duration": 10,
    "start_time": "2022-01-20T10:41:34.099Z"
   },
   {
    "duration": 6,
    "start_time": "2022-01-20T10:41:34.111Z"
   },
   {
    "duration": 7,
    "start_time": "2022-01-20T10:41:34.119Z"
   },
   {
    "duration": 14,
    "start_time": "2022-01-20T10:41:34.128Z"
   },
   {
    "duration": 5,
    "start_time": "2022-01-20T10:41:34.144Z"
   },
   {
    "duration": 12,
    "start_time": "2022-01-20T10:41:34.151Z"
   },
   {
    "duration": 12,
    "start_time": "2022-01-20T10:41:34.165Z"
   },
   {
    "duration": 26,
    "start_time": "2022-01-20T10:41:34.179Z"
   },
   {
    "duration": 25,
    "start_time": "2022-01-20T10:41:34.207Z"
   },
   {
    "duration": 8,
    "start_time": "2022-01-20T10:41:34.233Z"
   },
   {
    "duration": 154,
    "start_time": "2022-01-20T10:41:34.243Z"
   },
   {
    "duration": 102,
    "start_time": "2022-01-20T10:41:34.398Z"
   },
   {
    "duration": 96,
    "start_time": "2022-01-20T10:41:34.502Z"
   },
   {
    "duration": 10,
    "start_time": "2022-01-20T10:41:34.600Z"
   },
   {
    "duration": 24,
    "start_time": "2022-01-20T10:41:34.612Z"
   },
   {
    "duration": 7,
    "start_time": "2022-01-20T10:41:34.638Z"
   },
   {
    "duration": 7,
    "start_time": "2022-01-20T10:41:34.647Z"
   },
   {
    "duration": 249,
    "start_time": "2022-01-20T10:41:34.656Z"
   },
   {
    "duration": 10,
    "start_time": "2022-01-20T10:41:34.907Z"
   },
   {
    "duration": 5,
    "start_time": "2022-01-20T10:41:34.918Z"
   },
   {
    "duration": 9,
    "start_time": "2022-01-20T10:41:34.924Z"
   },
   {
    "duration": 13,
    "start_time": "2022-01-20T10:41:34.935Z"
   },
   {
    "duration": 49,
    "start_time": "2022-01-20T10:41:34.950Z"
   },
   {
    "duration": 96,
    "start_time": "2022-01-20T10:41:35.004Z"
   },
   {
    "duration": 28,
    "start_time": "2022-01-20T10:41:35.102Z"
   },
   {
    "duration": 2,
    "start_time": "2022-01-20T10:41:35.132Z"
   },
   {
    "duration": 361,
    "start_time": "2022-01-20T10:41:35.136Z"
   },
   {
    "duration": 13,
    "start_time": "2022-01-20T10:41:35.498Z"
   },
   {
    "duration": 84,
    "start_time": "2022-01-20T10:41:35.513Z"
   },
   {
    "duration": 3,
    "start_time": "2022-01-20T10:41:35.600Z"
   },
   {
    "duration": 116,
    "start_time": "2022-01-20T10:41:35.605Z"
   },
   {
    "duration": 3,
    "start_time": "2022-01-20T10:41:35.723Z"
   },
   {
    "duration": 83,
    "start_time": "2022-01-20T10:41:35.727Z"
   },
   {
    "duration": 2,
    "start_time": "2022-01-20T10:41:35.812Z"
   },
   {
    "duration": 12,
    "start_time": "2022-01-20T10:41:35.816Z"
   },
   {
    "duration": 472,
    "start_time": "2022-01-20T10:41:35.830Z"
   },
   {
    "duration": 93,
    "start_time": "2022-01-20T10:41:36.304Z"
   },
   {
    "duration": 2492,
    "start_time": "2022-01-20T10:41:36.399Z"
   },
   {
    "duration": 3,
    "start_time": "2022-01-20T10:41:38.897Z"
   },
   {
    "duration": 25,
    "start_time": "2022-01-20T10:41:38.902Z"
   },
   {
    "duration": 931,
    "start_time": "2022-01-20T10:41:38.930Z"
   },
   {
    "duration": 246,
    "start_time": "2022-01-20T10:41:39.862Z"
   },
   {
    "duration": 6,
    "start_time": "2022-01-20T10:42:50.129Z"
   },
   {
    "duration": 988,
    "start_time": "2022-01-20T10:42:50.887Z"
   },
   {
    "duration": 6,
    "start_time": "2022-01-20T10:43:10.206Z"
   },
   {
    "duration": 948,
    "start_time": "2022-01-20T10:43:10.803Z"
   },
   {
    "duration": 7,
    "start_time": "2022-01-20T10:46:07.108Z"
   },
   {
    "duration": 981,
    "start_time": "2022-01-20T10:46:07.784Z"
   },
   {
    "duration": 4,
    "start_time": "2022-01-20T10:46:15.196Z"
   },
   {
    "duration": 4,
    "start_time": "2022-01-20T10:46:18.522Z"
   },
   {
    "duration": 35,
    "start_time": "2022-01-20T10:46:18.528Z"
   },
   {
    "duration": 11,
    "start_time": "2022-01-20T10:46:18.565Z"
   },
   {
    "duration": 12,
    "start_time": "2022-01-20T10:46:18.578Z"
   },
   {
    "duration": 8,
    "start_time": "2022-01-20T10:46:18.592Z"
   },
   {
    "duration": 5,
    "start_time": "2022-01-20T10:46:18.601Z"
   },
   {
    "duration": 16,
    "start_time": "2022-01-20T10:46:18.607Z"
   },
   {
    "duration": 5,
    "start_time": "2022-01-20T10:46:18.625Z"
   },
   {
    "duration": 4,
    "start_time": "2022-01-20T10:46:18.632Z"
   },
   {
    "duration": 12,
    "start_time": "2022-01-20T10:46:18.638Z"
   },
   {
    "duration": 12,
    "start_time": "2022-01-20T10:46:18.651Z"
   },
   {
    "duration": 54,
    "start_time": "2022-01-20T10:46:18.665Z"
   },
   {
    "duration": 7,
    "start_time": "2022-01-20T10:46:18.721Z"
   },
   {
    "duration": 182,
    "start_time": "2022-01-20T10:46:18.730Z"
   },
   {
    "duration": 85,
    "start_time": "2022-01-20T10:46:18.914Z"
   },
   {
    "duration": 96,
    "start_time": "2022-01-20T10:46:19.001Z"
   },
   {
    "duration": 16,
    "start_time": "2022-01-20T10:46:19.100Z"
   },
   {
    "duration": 38,
    "start_time": "2022-01-20T10:46:19.117Z"
   },
   {
    "duration": 8,
    "start_time": "2022-01-20T10:46:19.157Z"
   },
   {
    "duration": 26,
    "start_time": "2022-01-20T10:46:19.166Z"
   },
   {
    "duration": 251,
    "start_time": "2022-01-20T10:46:19.194Z"
   },
   {
    "duration": 9,
    "start_time": "2022-01-20T10:46:19.446Z"
   },
   {
    "duration": 3,
    "start_time": "2022-01-20T10:46:19.457Z"
   },
   {
    "duration": 11,
    "start_time": "2022-01-20T10:46:19.462Z"
   },
   {
    "duration": 30,
    "start_time": "2022-01-20T10:46:19.474Z"
   },
   {
    "duration": 93,
    "start_time": "2022-01-20T10:46:19.505Z"
   },
   {
    "duration": 93,
    "start_time": "2022-01-20T10:46:19.603Z"
   },
   {
    "duration": 25,
    "start_time": "2022-01-20T10:46:19.699Z"
   },
   {
    "duration": 3,
    "start_time": "2022-01-20T10:46:19.726Z"
   },
   {
    "duration": 366,
    "start_time": "2022-01-20T10:46:19.731Z"
   },
   {
    "duration": 13,
    "start_time": "2022-01-20T10:46:20.099Z"
   },
   {
    "duration": 37,
    "start_time": "2022-01-20T10:46:20.113Z"
   },
   {
    "duration": 3,
    "start_time": "2022-01-20T10:46:20.199Z"
   },
   {
    "duration": 110,
    "start_time": "2022-01-20T10:46:20.204Z"
   },
   {
    "duration": 18,
    "start_time": "2022-01-20T10:46:20.316Z"
   },
   {
    "duration": 89,
    "start_time": "2022-01-20T10:46:20.336Z"
   },
   {
    "duration": 3,
    "start_time": "2022-01-20T10:46:20.427Z"
   },
   {
    "duration": 28,
    "start_time": "2022-01-20T10:46:20.432Z"
   },
   {
    "duration": 636,
    "start_time": "2022-01-20T10:46:20.462Z"
   },
   {
    "duration": 5,
    "start_time": "2022-01-20T10:46:21.100Z"
   },
   {
    "duration": 2362,
    "start_time": "2022-01-20T10:46:21.106Z"
   },
   {
    "duration": 3,
    "start_time": "2022-01-20T10:46:23.470Z"
   },
   {
    "duration": 7,
    "start_time": "2022-01-20T10:46:23.475Z"
   },
   {
    "duration": 967,
    "start_time": "2022-01-20T10:46:23.484Z"
   },
   {
    "duration": 229,
    "start_time": "2022-01-20T10:46:24.453Z"
   },
   {
    "duration": 2,
    "start_time": "2022-01-20T10:46:38.406Z"
   },
   {
    "duration": 6,
    "start_time": "2022-01-20T10:47:53.850Z"
   },
   {
    "duration": 899,
    "start_time": "2022-01-20T10:47:54.773Z"
   },
   {
    "duration": 1097,
    "start_time": "2022-01-20T10:48:17.539Z"
   },
   {
    "duration": 31,
    "start_time": "2022-01-20T10:48:18.638Z"
   },
   {
    "duration": 15,
    "start_time": "2022-01-20T10:48:18.671Z"
   },
   {
    "duration": 14,
    "start_time": "2022-01-20T10:48:18.688Z"
   },
   {
    "duration": 10,
    "start_time": "2022-01-20T10:48:18.704Z"
   },
   {
    "duration": 7,
    "start_time": "2022-01-20T10:48:18.716Z"
   },
   {
    "duration": 16,
    "start_time": "2022-01-20T10:48:18.725Z"
   },
   {
    "duration": 8,
    "start_time": "2022-01-20T10:48:18.743Z"
   },
   {
    "duration": 5,
    "start_time": "2022-01-20T10:48:18.754Z"
   },
   {
    "duration": 18,
    "start_time": "2022-01-20T10:48:18.761Z"
   },
   {
    "duration": 24,
    "start_time": "2022-01-20T10:48:18.781Z"
   },
   {
    "duration": 29,
    "start_time": "2022-01-20T10:48:18.807Z"
   },
   {
    "duration": 8,
    "start_time": "2022-01-20T10:48:18.837Z"
   },
   {
    "duration": 153,
    "start_time": "2022-01-20T10:48:18.846Z"
   },
   {
    "duration": 100,
    "start_time": "2022-01-20T10:48:19.001Z"
   },
   {
    "duration": 94,
    "start_time": "2022-01-20T10:48:19.105Z"
   },
   {
    "duration": 10,
    "start_time": "2022-01-20T10:48:19.201Z"
   },
   {
    "duration": 28,
    "start_time": "2022-01-20T10:48:19.212Z"
   },
   {
    "duration": 5,
    "start_time": "2022-01-20T10:48:19.242Z"
   },
   {
    "duration": 7,
    "start_time": "2022-01-20T10:48:19.249Z"
   },
   {
    "duration": 254,
    "start_time": "2022-01-20T10:48:19.258Z"
   },
   {
    "duration": 9,
    "start_time": "2022-01-20T10:48:19.514Z"
   },
   {
    "duration": 4,
    "start_time": "2022-01-20T10:48:19.525Z"
   },
   {
    "duration": 12,
    "start_time": "2022-01-20T10:48:19.530Z"
   },
   {
    "duration": 16,
    "start_time": "2022-01-20T10:48:19.544Z"
   },
   {
    "duration": 44,
    "start_time": "2022-01-20T10:48:19.562Z"
   },
   {
    "duration": 87,
    "start_time": "2022-01-20T10:48:19.611Z"
   },
   {
    "duration": 117,
    "start_time": "2022-01-20T10:48:19.701Z"
   },
   {
    "duration": 2,
    "start_time": "2022-01-20T10:48:19.820Z"
   },
   {
    "duration": 363,
    "start_time": "2022-01-20T10:48:19.824Z"
   },
   {
    "duration": 18,
    "start_time": "2022-01-20T10:48:20.189Z"
   },
   {
    "duration": 34,
    "start_time": "2022-01-20T10:48:20.209Z"
   },
   {
    "duration": 4,
    "start_time": "2022-01-20T10:48:20.299Z"
   },
   {
    "duration": 123,
    "start_time": "2022-01-20T10:48:20.305Z"
   },
   {
    "duration": 3,
    "start_time": "2022-01-20T10:48:20.429Z"
   },
   {
    "duration": 100,
    "start_time": "2022-01-20T10:48:20.434Z"
   },
   {
    "duration": 3,
    "start_time": "2022-01-20T10:48:20.536Z"
   },
   {
    "duration": 14,
    "start_time": "2022-01-20T10:48:20.541Z"
   },
   {
    "duration": 443,
    "start_time": "2022-01-20T10:48:20.557Z"
   },
   {
    "duration": 93,
    "start_time": "2022-01-20T10:48:21.004Z"
   },
   {
    "duration": 36,
    "start_time": "2022-01-20T10:48:21.099Z"
   },
   {
    "duration": 25,
    "start_time": "2022-01-20T10:48:21.136Z"
   },
   {
    "duration": 23,
    "start_time": "2022-01-20T10:48:21.162Z"
   },
   {
    "duration": 1003,
    "start_time": "2022-01-20T10:48:21.187Z"
   },
   {
    "duration": 238,
    "start_time": "2022-01-20T10:48:22.192Z"
   },
   {
    "duration": 4,
    "start_time": "2022-01-20T10:49:31.733Z"
   },
   {
    "duration": 7,
    "start_time": "2022-01-20T10:49:56.993Z"
   },
   {
    "duration": 964,
    "start_time": "2022-01-20T10:49:58.511Z"
   },
   {
    "duration": 6,
    "start_time": "2022-01-20T10:50:20.049Z"
   },
   {
    "duration": 938,
    "start_time": "2022-01-20T10:50:20.716Z"
   },
   {
    "duration": 78,
    "start_time": "2022-01-20T10:50:48.368Z"
   },
   {
    "duration": 892,
    "start_time": "2022-01-20T10:50:49.057Z"
   },
   {
    "duration": 6,
    "start_time": "2022-01-20T10:53:21.203Z"
   },
   {
    "duration": 964,
    "start_time": "2022-01-20T10:53:21.800Z"
   },
   {
    "duration": 1403,
    "start_time": "2022-01-20T10:53:32.736Z"
   },
   {
    "duration": 28,
    "start_time": "2022-01-20T10:53:34.141Z"
   },
   {
    "duration": 17,
    "start_time": "2022-01-20T10:53:34.171Z"
   },
   {
    "duration": 30,
    "start_time": "2022-01-20T10:53:34.190Z"
   },
   {
    "duration": 24,
    "start_time": "2022-01-20T10:53:34.222Z"
   },
   {
    "duration": 28,
    "start_time": "2022-01-20T10:53:34.248Z"
   },
   {
    "duration": 35,
    "start_time": "2022-01-20T10:53:34.278Z"
   },
   {
    "duration": 25,
    "start_time": "2022-01-20T10:53:34.315Z"
   },
   {
    "duration": 25,
    "start_time": "2022-01-20T10:53:34.343Z"
   },
   {
    "duration": 17,
    "start_time": "2022-01-20T10:53:34.370Z"
   },
   {
    "duration": 27,
    "start_time": "2022-01-20T10:53:34.389Z"
   },
   {
    "duration": 46,
    "start_time": "2022-01-20T10:53:34.417Z"
   },
   {
    "duration": 9,
    "start_time": "2022-01-20T10:53:34.465Z"
   },
   {
    "duration": 150,
    "start_time": "2022-01-20T10:53:34.476Z"
   },
   {
    "duration": 171,
    "start_time": "2022-01-20T10:53:34.627Z"
   },
   {
    "duration": 5,
    "start_time": "2022-01-20T10:53:34.800Z"
   },
   {
    "duration": 20,
    "start_time": "2022-01-20T10:53:34.806Z"
   },
   {
    "duration": 33,
    "start_time": "2022-01-20T10:53:34.828Z"
   },
   {
    "duration": 5,
    "start_time": "2022-01-20T10:53:34.863Z"
   },
   {
    "duration": 32,
    "start_time": "2022-01-20T10:53:34.870Z"
   },
   {
    "duration": 260,
    "start_time": "2022-01-20T10:53:34.904Z"
   },
   {
    "duration": 10,
    "start_time": "2022-01-20T10:53:35.166Z"
   },
   {
    "duration": 26,
    "start_time": "2022-01-20T10:53:35.178Z"
   },
   {
    "duration": 59,
    "start_time": "2022-01-20T10:53:35.206Z"
   },
   {
    "duration": 47,
    "start_time": "2022-01-20T10:53:35.266Z"
   },
   {
    "duration": 82,
    "start_time": "2022-01-20T10:53:35.314Z"
   },
   {
    "duration": 98,
    "start_time": "2022-01-20T10:53:35.405Z"
   },
   {
    "duration": 55,
    "start_time": "2022-01-20T10:53:35.505Z"
   },
   {
    "duration": 3,
    "start_time": "2022-01-20T10:53:35.562Z"
   },
   {
    "duration": 363,
    "start_time": "2022-01-20T10:53:35.567Z"
   },
   {
    "duration": 13,
    "start_time": "2022-01-20T10:53:35.932Z"
   },
   {
    "duration": 55,
    "start_time": "2022-01-20T10:53:35.946Z"
   },
   {
    "duration": 87,
    "start_time": "2022-01-20T10:53:36.010Z"
   },
   {
    "duration": 36,
    "start_time": "2022-01-20T10:53:36.099Z"
   },
   {
    "duration": 2,
    "start_time": "2022-01-20T10:53:36.137Z"
   },
   {
    "duration": 86,
    "start_time": "2022-01-20T10:53:36.141Z"
   },
   {
    "duration": 3,
    "start_time": "2022-01-20T10:53:36.229Z"
   },
   {
    "duration": 17,
    "start_time": "2022-01-20T10:53:36.233Z"
   },
   {
    "duration": 547,
    "start_time": "2022-01-20T10:53:36.251Z"
   },
   {
    "duration": 4,
    "start_time": "2022-01-20T10:53:36.800Z"
   },
   {
    "duration": 6,
    "start_time": "2022-01-20T10:53:36.806Z"
   },
   {
    "duration": 7,
    "start_time": "2022-01-20T10:53:36.813Z"
   },
   {
    "duration": 7,
    "start_time": "2022-01-20T10:53:36.821Z"
   },
   {
    "duration": 7,
    "start_time": "2022-01-20T10:53:36.830Z"
   },
   {
    "duration": 918,
    "start_time": "2022-01-20T10:53:36.838Z"
   },
   {
    "duration": 232,
    "start_time": "2022-01-20T10:53:37.757Z"
   },
   {
    "duration": 3,
    "start_time": "2022-01-20T10:53:53.215Z"
   },
   {
    "duration": 6,
    "start_time": "2022-01-20T10:53:54.800Z"
   },
   {
    "duration": 884,
    "start_time": "2022-01-20T10:53:55.874Z"
   },
   {
    "duration": 226,
    "start_time": "2022-01-20T10:54:05.067Z"
   },
   {
    "duration": 81,
    "start_time": "2022-01-20T10:55:13.886Z"
   },
   {
    "duration": 898,
    "start_time": "2022-01-20T10:55:14.568Z"
   },
   {
    "duration": 6,
    "start_time": "2022-01-20T10:55:39.068Z"
   },
   {
    "duration": 826,
    "start_time": "2022-01-20T10:55:39.658Z"
   },
   {
    "duration": 224,
    "start_time": "2022-01-20T10:55:55.536Z"
   },
   {
    "duration": 7,
    "start_time": "2022-01-20T10:57:16.496Z"
   },
   {
    "duration": 597,
    "start_time": "2022-01-20T10:57:17.175Z"
   },
   {
    "duration": 6,
    "start_time": "2022-01-20T10:59:05.229Z"
   },
   {
    "duration": 658,
    "start_time": "2022-01-20T10:59:06.214Z"
   },
   {
    "duration": 5,
    "start_time": "2022-01-20T10:59:22.673Z"
   },
   {
    "duration": 591,
    "start_time": "2022-01-20T10:59:23.232Z"
   },
   {
    "duration": 7,
    "start_time": "2022-01-20T10:59:40.216Z"
   },
   {
    "duration": 606,
    "start_time": "2022-01-20T10:59:41.061Z"
   },
   {
    "duration": 6,
    "start_time": "2022-01-20T11:01:51.299Z"
   },
   {
    "duration": 995,
    "start_time": "2022-01-20T11:01:51.968Z"
   },
   {
    "duration": 4,
    "start_time": "2022-01-20T11:03:43.308Z"
   },
   {
    "duration": 7,
    "start_time": "2022-01-20T11:03:50.616Z"
   },
   {
    "duration": 606,
    "start_time": "2022-01-20T11:03:51.262Z"
   },
   {
    "duration": 61,
    "start_time": "2022-01-20T11:06:57.099Z"
   },
   {
    "duration": 506,
    "start_time": "2022-01-20T11:06:57.859Z"
   },
   {
    "duration": 7,
    "start_time": "2022-01-20T11:07:14.736Z"
   },
   {
    "duration": 942,
    "start_time": "2022-01-20T11:07:15.322Z"
   },
   {
    "duration": 99,
    "start_time": "2022-01-20T11:07:42.763Z"
   },
   {
    "duration": 616,
    "start_time": "2022-01-20T11:07:43.461Z"
   },
   {
    "duration": 6,
    "start_time": "2022-01-20T11:08:00.942Z"
   },
   {
    "duration": 616,
    "start_time": "2022-01-20T11:08:01.455Z"
   },
   {
    "duration": 6,
    "start_time": "2022-01-20T11:08:14.276Z"
   },
   {
    "duration": 549,
    "start_time": "2022-01-20T11:08:14.824Z"
   },
   {
    "duration": 6,
    "start_time": "2022-01-20T11:08:35.200Z"
   },
   {
    "duration": 901,
    "start_time": "2022-01-20T11:08:35.771Z"
   },
   {
    "duration": 8,
    "start_time": "2022-01-20T11:08:58.956Z"
   },
   {
    "duration": 1064,
    "start_time": "2022-01-20T11:08:59.628Z"
   },
   {
    "duration": 3,
    "start_time": "2022-01-20T11:09:34.593Z"
   },
   {
    "duration": 233,
    "start_time": "2022-01-20T11:11:08.631Z"
   },
   {
    "duration": 233,
    "start_time": "2022-01-20T11:11:21.128Z"
   },
   {
    "duration": 6,
    "start_time": "2022-01-20T11:11:29.570Z"
   },
   {
    "duration": 890,
    "start_time": "2022-01-20T11:11:30.180Z"
   },
   {
    "duration": 6,
    "start_time": "2022-01-20T11:11:53.183Z"
   },
   {
    "duration": 772,
    "start_time": "2022-01-20T11:11:53.792Z"
   },
   {
    "duration": 6,
    "start_time": "2022-01-20T11:12:23.117Z"
   },
   {
    "duration": 951,
    "start_time": "2022-01-20T11:12:23.905Z"
   },
   {
    "duration": 7,
    "start_time": "2022-01-20T11:12:37.357Z"
   },
   {
    "duration": 929,
    "start_time": "2022-01-20T11:12:37.913Z"
   },
   {
    "duration": 102,
    "start_time": "2022-01-20T11:12:46.917Z"
   },
   {
    "duration": 923,
    "start_time": "2022-01-20T11:12:47.830Z"
   },
   {
    "duration": 5,
    "start_time": "2022-01-20T11:13:10.678Z"
   },
   {
    "duration": 910,
    "start_time": "2022-01-20T11:13:11.538Z"
   },
   {
    "duration": 6,
    "start_time": "2022-01-20T11:16:13.637Z"
   },
   {
    "duration": 904,
    "start_time": "2022-01-20T11:16:14.460Z"
   },
   {
    "duration": 6,
    "start_time": "2022-01-20T11:19:09.769Z"
   },
   {
    "duration": 814,
    "start_time": "2022-01-20T11:19:10.748Z"
   },
   {
    "duration": 1144,
    "start_time": "2022-01-20T11:19:24.701Z"
   },
   {
    "duration": 30,
    "start_time": "2022-01-20T11:19:25.846Z"
   },
   {
    "duration": 15,
    "start_time": "2022-01-20T11:19:25.878Z"
   },
   {
    "duration": 18,
    "start_time": "2022-01-20T11:19:25.897Z"
   },
   {
    "duration": 14,
    "start_time": "2022-01-20T11:19:25.917Z"
   },
   {
    "duration": 18,
    "start_time": "2022-01-20T11:19:25.932Z"
   },
   {
    "duration": 50,
    "start_time": "2022-01-20T11:19:25.952Z"
   },
   {
    "duration": 31,
    "start_time": "2022-01-20T11:19:26.004Z"
   },
   {
    "duration": 27,
    "start_time": "2022-01-20T11:19:26.038Z"
   },
   {
    "duration": 43,
    "start_time": "2022-01-20T11:19:26.067Z"
   },
   {
    "duration": 28,
    "start_time": "2022-01-20T11:19:26.112Z"
   },
   {
    "duration": 47,
    "start_time": "2022-01-20T11:19:26.141Z"
   },
   {
    "duration": 21,
    "start_time": "2022-01-20T11:19:26.190Z"
   },
   {
    "duration": 159,
    "start_time": "2022-01-20T11:19:26.213Z"
   },
   {
    "duration": 124,
    "start_time": "2022-01-20T11:19:26.374Z"
   },
   {
    "duration": 98,
    "start_time": "2022-01-20T11:19:26.500Z"
   },
   {
    "duration": 52,
    "start_time": "2022-01-20T11:19:26.599Z"
   },
   {
    "duration": 64,
    "start_time": "2022-01-20T11:19:26.653Z"
   },
   {
    "duration": 20,
    "start_time": "2022-01-20T11:19:26.718Z"
   },
   {
    "duration": 53,
    "start_time": "2022-01-20T11:19:26.740Z"
   },
   {
    "duration": 275,
    "start_time": "2022-01-20T11:19:26.795Z"
   },
   {
    "duration": 10,
    "start_time": "2022-01-20T11:19:27.071Z"
   },
   {
    "duration": 35,
    "start_time": "2022-01-20T11:19:27.082Z"
   },
   {
    "duration": 47,
    "start_time": "2022-01-20T11:19:27.118Z"
   },
   {
    "duration": 49,
    "start_time": "2022-01-20T11:19:27.167Z"
   },
   {
    "duration": 49,
    "start_time": "2022-01-20T11:19:27.218Z"
   },
   {
    "duration": 97,
    "start_time": "2022-01-20T11:19:27.301Z"
   },
   {
    "duration": 56,
    "start_time": "2022-01-20T11:19:27.400Z"
   },
   {
    "duration": 16,
    "start_time": "2022-01-20T11:19:27.458Z"
   },
   {
    "duration": 379,
    "start_time": "2022-01-20T11:19:27.476Z"
   },
   {
    "duration": 12,
    "start_time": "2022-01-20T11:19:27.856Z"
   },
   {
    "duration": 46,
    "start_time": "2022-01-20T11:19:27.870Z"
   },
   {
    "duration": 85,
    "start_time": "2022-01-20T11:19:27.919Z"
   },
   {
    "duration": 133,
    "start_time": "2022-01-20T11:19:28.006Z"
   },
   {
    "duration": 18,
    "start_time": "2022-01-20T11:19:28.141Z"
   },
   {
    "duration": 97,
    "start_time": "2022-01-20T11:19:28.161Z"
   },
   {
    "duration": 3,
    "start_time": "2022-01-20T11:19:28.260Z"
   },
   {
    "duration": 32,
    "start_time": "2022-01-20T11:19:28.264Z"
   },
   {
    "duration": 508,
    "start_time": "2022-01-20T11:19:28.298Z"
   },
   {
    "duration": 6,
    "start_time": "2022-01-20T11:19:28.898Z"
   },
   {
    "duration": 20,
    "start_time": "2022-01-20T11:19:28.906Z"
   },
   {
    "duration": 31,
    "start_time": "2022-01-20T11:19:28.927Z"
   },
   {
    "duration": 33,
    "start_time": "2022-01-20T11:19:28.960Z"
   },
   {
    "duration": 956,
    "start_time": "2022-01-20T11:19:28.994Z"
   },
   {
    "duration": 251,
    "start_time": "2022-01-20T11:19:29.952Z"
   },
   {
    "duration": 220,
    "start_time": "2022-01-20T11:21:47.726Z"
   },
   {
    "duration": 221,
    "start_time": "2022-01-20T11:21:52.440Z"
   },
   {
    "duration": 296,
    "start_time": "2022-01-20T11:22:04.686Z"
   },
   {
    "duration": 227,
    "start_time": "2022-01-20T11:22:10.737Z"
   },
   {
    "duration": 344,
    "start_time": "2022-01-20T11:22:15.787Z"
   },
   {
    "duration": 234,
    "start_time": "2022-01-20T11:22:23.698Z"
   },
   {
    "duration": 6,
    "start_time": "2022-01-20T11:23:23.462Z"
   },
   {
    "duration": 943,
    "start_time": "2022-01-20T11:23:24.427Z"
   },
   {
    "duration": 7,
    "start_time": "2022-01-20T11:24:07.740Z"
   },
   {
    "duration": 930,
    "start_time": "2022-01-20T11:24:08.736Z"
   },
   {
    "duration": 9,
    "start_time": "2022-01-20T11:28:14.394Z"
   },
   {
    "duration": 1125,
    "start_time": "2022-01-20T11:28:56.915Z"
   },
   {
    "duration": 30,
    "start_time": "2022-01-20T11:28:58.042Z"
   },
   {
    "duration": 16,
    "start_time": "2022-01-20T11:28:58.074Z"
   },
   {
    "duration": 35,
    "start_time": "2022-01-20T11:28:58.092Z"
   },
   {
    "duration": 38,
    "start_time": "2022-01-20T11:28:58.128Z"
   },
   {
    "duration": 48,
    "start_time": "2022-01-20T11:28:58.168Z"
   },
   {
    "duration": 51,
    "start_time": "2022-01-20T11:28:58.218Z"
   },
   {
    "duration": 55,
    "start_time": "2022-01-20T11:28:58.270Z"
   },
   {
    "duration": 40,
    "start_time": "2022-01-20T11:28:58.327Z"
   },
   {
    "duration": 45,
    "start_time": "2022-01-20T11:28:58.369Z"
   },
   {
    "duration": 34,
    "start_time": "2022-01-20T11:28:58.416Z"
   },
   {
    "duration": 66,
    "start_time": "2022-01-20T11:28:58.452Z"
   },
   {
    "duration": 27,
    "start_time": "2022-01-20T11:28:58.520Z"
   },
   {
    "duration": 168,
    "start_time": "2022-01-20T11:28:58.549Z"
   },
   {
    "duration": 83,
    "start_time": "2022-01-20T11:28:58.719Z"
   },
   {
    "duration": 98,
    "start_time": "2022-01-20T11:28:58.804Z"
   },
   {
    "duration": 20,
    "start_time": "2022-01-20T11:28:58.904Z"
   },
   {
    "duration": 52,
    "start_time": "2022-01-20T11:28:58.926Z"
   },
   {
    "duration": 8,
    "start_time": "2022-01-20T11:28:58.980Z"
   },
   {
    "duration": 32,
    "start_time": "2022-01-20T11:28:58.990Z"
   },
   {
    "duration": 251,
    "start_time": "2022-01-20T11:28:59.024Z"
   },
   {
    "duration": 21,
    "start_time": "2022-01-20T11:28:59.277Z"
   },
   {
    "duration": 23,
    "start_time": "2022-01-20T11:28:59.300Z"
   },
   {
    "duration": 84,
    "start_time": "2022-01-20T11:28:59.326Z"
   },
   {
    "duration": 67,
    "start_time": "2022-01-20T11:28:59.412Z"
   },
   {
    "duration": 83,
    "start_time": "2022-01-20T11:28:59.481Z"
   },
   {
    "duration": 139,
    "start_time": "2022-01-20T11:28:59.568Z"
   },
   {
    "duration": 52,
    "start_time": "2022-01-20T11:28:59.709Z"
   },
   {
    "duration": 4,
    "start_time": "2022-01-20T11:28:59.763Z"
   },
   {
    "duration": 393,
    "start_time": "2022-01-20T11:28:59.769Z"
   },
   {
    "duration": 13,
    "start_time": "2022-01-20T11:29:00.164Z"
   },
   {
    "duration": 43,
    "start_time": "2022-01-20T11:29:00.179Z"
   },
   {
    "duration": 99,
    "start_time": "2022-01-20T11:29:00.298Z"
   },
   {
    "duration": 31,
    "start_time": "2022-01-20T11:29:00.399Z"
   },
   {
    "duration": 3,
    "start_time": "2022-01-20T11:29:00.431Z"
   },
   {
    "duration": 84,
    "start_time": "2022-01-20T11:29:00.435Z"
   },
   {
    "duration": 3,
    "start_time": "2022-01-20T11:29:00.520Z"
   },
   {
    "duration": 12,
    "start_time": "2022-01-20T11:29:00.525Z"
   },
   {
    "duration": 558,
    "start_time": "2022-01-20T11:29:00.539Z"
   },
   {
    "duration": 5,
    "start_time": "2022-01-20T11:29:01.100Z"
   },
   {
    "duration": 18,
    "start_time": "2022-01-20T11:29:01.107Z"
   },
   {
    "duration": 1054,
    "start_time": "2022-01-20T11:29:01.126Z"
   },
   {
    "duration": 244,
    "start_time": "2022-01-20T11:29:02.182Z"
   },
   {
    "duration": 1134,
    "start_time": "2022-01-20T11:34:08.007Z"
   },
   {
    "duration": 30,
    "start_time": "2022-01-20T11:34:09.143Z"
   },
   {
    "duration": 27,
    "start_time": "2022-01-20T11:34:09.178Z"
   },
   {
    "duration": 8,
    "start_time": "2022-01-20T11:34:09.207Z"
   },
   {
    "duration": 9,
    "start_time": "2022-01-20T11:34:09.216Z"
   },
   {
    "duration": 10,
    "start_time": "2022-01-20T11:34:09.227Z"
   },
   {
    "duration": 25,
    "start_time": "2022-01-20T11:34:09.238Z"
   },
   {
    "duration": 5,
    "start_time": "2022-01-20T11:34:09.266Z"
   },
   {
    "duration": 5,
    "start_time": "2022-01-20T11:34:09.273Z"
   },
   {
    "duration": 24,
    "start_time": "2022-01-20T11:34:09.280Z"
   },
   {
    "duration": 11,
    "start_time": "2022-01-20T11:34:09.306Z"
   },
   {
    "duration": 27,
    "start_time": "2022-01-20T11:34:09.319Z"
   },
   {
    "duration": 7,
    "start_time": "2022-01-20T11:34:09.348Z"
   },
   {
    "duration": 160,
    "start_time": "2022-01-20T11:34:09.357Z"
   },
   {
    "duration": 79,
    "start_time": "2022-01-20T11:34:09.519Z"
   },
   {
    "duration": 98,
    "start_time": "2022-01-20T11:34:09.600Z"
   },
   {
    "duration": 2655,
    "start_time": "2022-01-20T11:34:09.700Z"
   },
   {
    "duration": 21,
    "start_time": "2022-01-20T11:34:12.356Z"
   },
   {
    "duration": 18,
    "start_time": "2022-01-20T11:34:12.379Z"
   },
   {
    "duration": 443228,
    "start_time": "2022-01-20T11:34:12.399Z"
   },
   {
    "duration": 239,
    "start_time": "2022-01-20T11:41:35.629Z"
   },
   {
    "duration": 9,
    "start_time": "2022-01-20T11:41:35.870Z"
   },
   {
    "duration": 16,
    "start_time": "2022-01-20T11:41:35.881Z"
   },
   {
    "duration": 6,
    "start_time": "2022-01-20T11:41:35.899Z"
   },
   {
    "duration": 18,
    "start_time": "2022-01-20T11:41:35.907Z"
   },
   {
    "duration": 68,
    "start_time": "2022-01-20T11:41:35.928Z"
   },
   {
    "duration": 257,
    "start_time": "2022-01-20T11:41:36.000Z"
   },
   {
    "duration": 23,
    "start_time": "2022-01-20T11:41:36.259Z"
   },
   {
    "duration": 503575,
    "start_time": "2022-01-20T11:41:36.283Z"
   },
   {
    "duration": 376,
    "start_time": "2022-01-20T11:49:59.860Z"
   },
   {
    "duration": 15,
    "start_time": "2022-01-20T11:50:00.238Z"
   },
   {
    "duration": 46,
    "start_time": "2022-01-20T11:50:00.255Z"
   },
   {
    "duration": 560,
    "start_time": "2022-01-20T11:50:00.304Z"
   },
   {
    "duration": 30,
    "start_time": "2022-01-20T11:50:00.866Z"
   },
   {
    "duration": 395911,
    "start_time": "2022-01-20T11:50:00.898Z"
   },
   {
    "duration": 68,
    "start_time": "2022-01-20T11:56:36.811Z"
   },
   {
    "duration": 3,
    "start_time": "2022-01-20T11:56:36.881Z"
   },
   {
    "duration": 20,
    "start_time": "2022-01-20T11:56:36.885Z"
   },
   {
    "duration": 492,
    "start_time": "2022-01-20T11:56:36.907Z"
   },
   {
    "duration": 10,
    "start_time": "2022-01-20T11:56:37.402Z"
   },
   {
    "duration": 95,
    "start_time": "2022-01-20T11:56:37.415Z"
   },
   {
    "duration": 938,
    "start_time": "2022-01-20T11:56:37.513Z"
   },
   {
    "duration": 228,
    "start_time": "2022-01-20T11:56:38.453Z"
   },
   {
    "duration": 3,
    "start_time": "2022-01-20T11:57:40.658Z"
   },
   {
    "duration": 3,
    "start_time": "2022-01-20T11:59:40.206Z"
   },
   {
    "duration": 105,
    "start_time": "2022-01-20T12:00:29.415Z"
   },
   {
    "duration": 156,
    "start_time": "2022-01-20T12:03:32.806Z"
   },
   {
    "duration": 2,
    "start_time": "2022-01-20T12:03:41.108Z"
   },
   {
    "duration": 30,
    "start_time": "2022-01-20T12:04:44.816Z"
   },
   {
    "duration": 2,
    "start_time": "2022-01-20T12:05:03.789Z"
   },
   {
    "duration": 167,
    "start_time": "2022-01-20T12:05:41.239Z"
   },
   {
    "duration": 3,
    "start_time": "2022-01-20T12:08:14.014Z"
   },
   {
    "duration": 19,
    "start_time": "2022-01-20T12:09:09.394Z"
   },
   {
    "duration": 18,
    "start_time": "2022-01-20T12:09:28.314Z"
   },
   {
    "duration": 2,
    "start_time": "2022-01-20T12:09:45.011Z"
   },
   {
    "duration": 318,
    "start_time": "2022-01-20T12:10:33.856Z"
   },
   {
    "duration": 4,
    "start_time": "2022-01-20T12:15:11.707Z"
   },
   {
    "duration": 4,
    "start_time": "2022-01-20T12:15:12.552Z"
   },
   {
    "duration": 466,
    "start_time": "2022-01-20T12:15:13.434Z"
   },
   {
    "duration": 5,
    "start_time": "2022-01-20T12:17:04.165Z"
   },
   {
    "duration": 7,
    "start_time": "2022-01-20T12:17:08.507Z"
   },
   {
    "duration": 846,
    "start_time": "2022-01-20T12:17:11.830Z"
   },
   {
    "duration": 7,
    "start_time": "2022-01-20T12:19:20.625Z"
   },
   {
    "duration": 772,
    "start_time": "2022-01-20T12:19:21.578Z"
   },
   {
    "duration": 238,
    "start_time": "2022-01-20T12:21:22.096Z"
   },
   {
    "duration": 261,
    "start_time": "2022-01-20T12:22:07.062Z"
   },
   {
    "duration": 3,
    "start_time": "2022-01-20T12:30:28.117Z"
   },
   {
    "duration": 3,
    "start_time": "2022-01-20T12:30:28.746Z"
   },
   {
    "duration": 423,
    "start_time": "2022-01-20T12:30:29.683Z"
   },
   {
    "duration": 86,
    "start_time": "2022-01-20T12:47:25.782Z"
   },
   {
    "duration": 831,
    "start_time": "2022-01-20T12:47:26.546Z"
   },
   {
    "duration": 1144,
    "start_time": "2022-01-20T13:00:17.710Z"
   },
   {
    "duration": 31,
    "start_time": "2022-01-20T13:00:18.856Z"
   },
   {
    "duration": 16,
    "start_time": "2022-01-20T13:00:18.889Z"
   },
   {
    "duration": 15,
    "start_time": "2022-01-20T13:00:18.907Z"
   },
   {
    "duration": 14,
    "start_time": "2022-01-20T13:00:18.924Z"
   },
   {
    "duration": 8,
    "start_time": "2022-01-20T13:00:18.940Z"
   },
   {
    "duration": 26,
    "start_time": "2022-01-20T13:00:18.950Z"
   },
   {
    "duration": 19,
    "start_time": "2022-01-20T13:00:18.978Z"
   },
   {
    "duration": 3,
    "start_time": "2022-01-20T13:00:19.001Z"
   },
   {
    "duration": 15,
    "start_time": "2022-01-20T13:00:19.007Z"
   },
   {
    "duration": 13,
    "start_time": "2022-01-20T13:00:19.024Z"
   },
   {
    "duration": 28,
    "start_time": "2022-01-20T13:00:19.039Z"
   },
   {
    "duration": 32,
    "start_time": "2022-01-20T13:00:19.069Z"
   },
   {
    "duration": 161,
    "start_time": "2022-01-20T13:00:19.103Z"
   },
   {
    "duration": 132,
    "start_time": "2022-01-20T13:00:19.265Z"
   },
   {
    "duration": 98,
    "start_time": "2022-01-20T13:00:19.400Z"
   },
   {
    "duration": 8,
    "start_time": "2022-01-20T13:00:19.500Z"
   },
   {
    "duration": 24,
    "start_time": "2022-01-20T13:00:19.510Z"
   },
   {
    "duration": 6,
    "start_time": "2022-01-20T13:00:19.536Z"
   },
   {
    "duration": 13,
    "start_time": "2022-01-20T13:00:19.543Z"
   },
   {
    "duration": 123,
    "start_time": "2022-01-20T13:00:19.557Z"
   },
   {
    "duration": 18,
    "start_time": "2022-01-20T13:00:19.681Z"
   },
   {
    "duration": 4,
    "start_time": "2022-01-20T13:00:19.700Z"
   },
   {
    "duration": 13,
    "start_time": "2022-01-20T13:00:19.705Z"
   },
   {
    "duration": 28,
    "start_time": "2022-01-20T13:00:19.720Z"
   },
   {
    "duration": 49,
    "start_time": "2022-01-20T13:00:19.750Z"
   },
   {
    "duration": 93,
    "start_time": "2022-01-20T13:00:19.804Z"
   },
   {
    "duration": 24,
    "start_time": "2022-01-20T13:00:19.899Z"
   },
   {
    "duration": 3,
    "start_time": "2022-01-20T13:00:19.925Z"
   },
   {
    "duration": 204,
    "start_time": "2022-01-20T13:00:19.929Z"
   },
   {
    "duration": 14,
    "start_time": "2022-01-20T13:00:20.135Z"
   },
   {
    "duration": 49,
    "start_time": "2022-01-20T13:00:20.150Z"
   },
   {
    "duration": 2,
    "start_time": "2022-01-20T13:00:20.201Z"
   },
   {
    "duration": 121,
    "start_time": "2022-01-20T13:00:20.205Z"
   },
   {
    "duration": 6,
    "start_time": "2022-01-20T13:00:20.328Z"
   },
   {
    "duration": 364,
    "start_time": "2022-01-20T13:00:20.336Z"
   },
   {
    "duration": 3,
    "start_time": "2022-01-20T13:00:20.702Z"
   },
   {
    "duration": 7,
    "start_time": "2022-01-20T13:00:20.707Z"
   },
   {
    "duration": 585,
    "start_time": "2022-01-20T13:00:20.716Z"
   },
   {
    "duration": 6,
    "start_time": "2022-01-20T13:00:21.303Z"
   },
   {
    "duration": 16,
    "start_time": "2022-01-20T13:00:21.311Z"
   },
   {
    "duration": 865,
    "start_time": "2022-01-20T13:00:21.329Z"
   },
   {
    "duration": 262,
    "start_time": "2022-01-20T13:00:22.196Z"
   },
   {
    "duration": 1513,
    "start_time": "2022-01-20T13:57:51.597Z"
   },
   {
    "duration": 36,
    "start_time": "2022-01-20T13:57:53.113Z"
   },
   {
    "duration": 26,
    "start_time": "2022-01-20T13:57:53.152Z"
   },
   {
    "duration": 12,
    "start_time": "2022-01-20T13:57:53.181Z"
   },
   {
    "duration": 8,
    "start_time": "2022-01-20T13:57:53.196Z"
   },
   {
    "duration": 6,
    "start_time": "2022-01-20T13:57:53.206Z"
   },
   {
    "duration": 62,
    "start_time": "2022-01-20T13:57:53.214Z"
   },
   {
    "duration": 7,
    "start_time": "2022-01-20T13:57:53.280Z"
   },
   {
    "duration": 3,
    "start_time": "2022-01-20T13:57:53.290Z"
   },
   {
    "duration": 14,
    "start_time": "2022-01-20T13:57:53.295Z"
   },
   {
    "duration": 60,
    "start_time": "2022-01-20T13:57:53.312Z"
   },
   {
    "duration": 35,
    "start_time": "2022-01-20T13:57:53.374Z"
   },
   {
    "duration": 16,
    "start_time": "2022-01-20T13:57:53.411Z"
   },
   {
    "duration": 259,
    "start_time": "2022-01-20T13:57:53.430Z"
   },
   {
    "duration": 174,
    "start_time": "2022-01-20T13:57:53.692Z"
   },
   {
    "duration": 8,
    "start_time": "2022-01-20T13:57:53.869Z"
   },
   {
    "duration": 9,
    "start_time": "2022-01-20T13:57:53.881Z"
   },
   {
    "duration": 73,
    "start_time": "2022-01-20T13:57:53.894Z"
   },
   {
    "duration": 14,
    "start_time": "2022-01-20T13:57:53.970Z"
   },
   {
    "duration": 9,
    "start_time": "2022-01-20T13:57:53.986Z"
   },
   {
    "duration": 191,
    "start_time": "2022-01-20T13:57:53.997Z"
   },
   {
    "duration": 13,
    "start_time": "2022-01-20T13:57:54.191Z"
   },
   {
    "duration": 6,
    "start_time": "2022-01-20T13:57:54.209Z"
   },
   {
    "duration": 41,
    "start_time": "2022-01-20T13:57:54.218Z"
   },
   {
    "duration": 16,
    "start_time": "2022-01-20T13:57:54.262Z"
   },
   {
    "duration": 85,
    "start_time": "2022-01-20T13:57:54.281Z"
   },
   {
    "duration": 90,
    "start_time": "2022-01-20T13:57:54.370Z"
   },
   {
    "duration": 38,
    "start_time": "2022-01-20T13:57:54.463Z"
   },
   {
    "duration": 3,
    "start_time": "2022-01-20T13:57:54.503Z"
   },
   {
    "duration": 284,
    "start_time": "2022-01-20T13:57:54.508Z"
   },
   {
    "duration": 17,
    "start_time": "2022-01-20T13:57:54.795Z"
   },
   {
    "duration": 149,
    "start_time": "2022-01-20T13:57:54.815Z"
   },
   {
    "duration": 93,
    "start_time": "2022-01-20T13:57:54.967Z"
   },
   {
    "duration": 30,
    "start_time": "2022-01-20T13:57:55.064Z"
   },
   {
    "duration": 5,
    "start_time": "2022-01-20T13:57:55.097Z"
   },
   {
    "duration": 525,
    "start_time": "2022-01-20T13:57:55.105Z"
   },
   {
    "duration": 4,
    "start_time": "2022-01-20T13:57:55.633Z"
   },
   {
    "duration": 20,
    "start_time": "2022-01-20T13:57:55.640Z"
   },
   {
    "duration": 514,
    "start_time": "2022-01-20T13:57:55.663Z"
   },
   {
    "duration": 7,
    "start_time": "2022-01-20T13:57:56.180Z"
   },
   {
    "duration": 21,
    "start_time": "2022-01-20T13:57:56.189Z"
   },
   {
    "duration": 1273,
    "start_time": "2022-01-20T13:57:56.213Z"
   },
   {
    "duration": 494,
    "start_time": "2022-01-20T13:57:57.488Z"
   },
   {
    "duration": 855,
    "start_time": "2022-01-20T13:58:40.544Z"
   },
   {
    "duration": 381,
    "start_time": "2022-01-20T13:58:56.739Z"
   },
   {
    "duration": 395,
    "start_time": "2022-01-20T13:59:00.009Z"
   },
   {
    "duration": 459,
    "start_time": "2022-01-20T13:59:37.467Z"
   },
   {
    "duration": 11,
    "start_time": "2022-01-20T14:00:09.621Z"
   },
   {
    "duration": 14,
    "start_time": "2022-01-20T14:01:23.834Z"
   },
   {
    "duration": 14,
    "start_time": "2022-01-20T14:01:44.355Z"
   },
   {
    "duration": 14,
    "start_time": "2022-01-20T14:02:01.537Z"
   },
   {
    "duration": 97,
    "start_time": "2022-01-20T14:02:47.311Z"
   },
   {
    "duration": 15,
    "start_time": "2022-01-20T14:04:28.127Z"
   },
   {
    "duration": 447,
    "start_time": "2022-01-20T14:04:41.884Z"
   },
   {
    "duration": 9,
    "start_time": "2022-01-20T14:05:11.132Z"
   },
   {
    "duration": 453,
    "start_time": "2022-01-20T14:05:27.027Z"
   },
   {
    "duration": 5,
    "start_time": "2022-01-20T14:05:47.762Z"
   },
   {
    "duration": 279,
    "start_time": "2022-01-20T14:06:02.756Z"
   },
   {
    "duration": 5,
    "start_time": "2022-01-20T14:06:08.805Z"
   },
   {
    "duration": 777,
    "start_time": "2022-01-20T14:06:28.979Z"
   },
   {
    "duration": 599,
    "start_time": "2022-01-20T14:07:43.187Z"
   },
   {
    "duration": 597,
    "start_time": "2022-01-20T14:09:05.181Z"
   },
   {
    "duration": 585,
    "start_time": "2022-01-20T14:09:14.503Z"
   },
   {
    "duration": 100,
    "start_time": "2022-01-20T14:11:05.641Z"
   },
   {
    "duration": 112,
    "start_time": "2022-01-20T14:11:10.168Z"
   },
   {
    "duration": 93,
    "start_time": "2022-01-20T14:11:22.835Z"
   },
   {
    "duration": 100,
    "start_time": "2022-01-20T14:11:30.833Z"
   },
   {
    "duration": 1161,
    "start_time": "2022-01-20T14:11:51.925Z"
   },
   {
    "duration": 1134,
    "start_time": "2022-01-20T14:13:36.558Z"
   },
   {
    "duration": 1125,
    "start_time": "2022-01-20T14:14:04.467Z"
   },
   {
    "duration": 1001,
    "start_time": "2022-01-20T14:14:21.086Z"
   },
   {
    "duration": 968,
    "start_time": "2022-01-20T14:14:38.524Z"
   },
   {
    "duration": 1223,
    "start_time": "2022-01-20T14:16:55.780Z"
   },
   {
    "duration": 1074,
    "start_time": "2022-01-20T14:17:47.992Z"
   },
   {
    "duration": 7,
    "start_time": "2022-01-20T14:18:56.894Z"
   },
   {
    "duration": 40,
    "start_time": "2022-01-20T14:18:56.903Z"
   },
   {
    "duration": 19,
    "start_time": "2022-01-20T14:18:56.960Z"
   },
   {
    "duration": 12,
    "start_time": "2022-01-20T14:18:56.981Z"
   },
   {
    "duration": 8,
    "start_time": "2022-01-20T14:18:56.995Z"
   },
   {
    "duration": 7,
    "start_time": "2022-01-20T14:18:57.006Z"
   },
   {
    "duration": 57,
    "start_time": "2022-01-20T14:18:57.015Z"
   },
   {
    "duration": 6,
    "start_time": "2022-01-20T14:18:57.075Z"
   },
   {
    "duration": 4,
    "start_time": "2022-01-20T14:18:57.083Z"
   },
   {
    "duration": 16,
    "start_time": "2022-01-20T14:18:57.089Z"
   },
   {
    "duration": 17,
    "start_time": "2022-01-20T14:18:57.108Z"
   },
   {
    "duration": 62,
    "start_time": "2022-01-20T14:18:57.127Z"
   },
   {
    "duration": 8,
    "start_time": "2022-01-20T14:18:57.192Z"
   },
   {
    "duration": 281,
    "start_time": "2022-01-20T14:18:57.202Z"
   },
   {
    "duration": 84,
    "start_time": "2022-01-20T14:18:57.486Z"
   },
   {
    "duration": 7,
    "start_time": "2022-01-20T14:18:57.661Z"
   },
   {
    "duration": 8,
    "start_time": "2022-01-20T14:18:57.670Z"
   },
   {
    "duration": 32,
    "start_time": "2022-01-20T14:18:57.681Z"
   },
   {
    "duration": 8,
    "start_time": "2022-01-20T14:18:57.716Z"
   },
   {
    "duration": 37,
    "start_time": "2022-01-20T14:18:57.726Z"
   },
   {
    "duration": 166,
    "start_time": "2022-01-20T14:18:57.766Z"
   },
   {
    "duration": 26,
    "start_time": "2022-01-20T14:18:57.935Z"
   },
   {
    "duration": 6,
    "start_time": "2022-01-20T14:18:57.963Z"
   },
   {
    "duration": 6,
    "start_time": "2022-01-20T14:18:57.977Z"
   },
   {
    "duration": 20,
    "start_time": "2022-01-20T14:18:57.986Z"
   },
   {
    "duration": 68,
    "start_time": "2022-01-20T14:18:58.008Z"
   },
   {
    "duration": 5,
    "start_time": "2022-01-20T14:18:58.161Z"
   },
   {
    "duration": 120,
    "start_time": "2022-01-20T14:18:58.169Z"
   },
   {
    "duration": 3,
    "start_time": "2022-01-20T14:18:58.291Z"
   },
   {
    "duration": 288,
    "start_time": "2022-01-20T14:18:58.296Z"
   },
   {
    "duration": 18,
    "start_time": "2022-01-20T14:18:58.586Z"
   },
   {
    "duration": 55,
    "start_time": "2022-01-20T14:18:58.606Z"
   },
   {
    "duration": 5,
    "start_time": "2022-01-20T14:18:58.664Z"
   },
   {
    "duration": 29,
    "start_time": "2022-01-20T14:18:58.762Z"
   },
   {
    "duration": 3,
    "start_time": "2022-01-20T14:18:58.793Z"
   },
   {
    "duration": 526,
    "start_time": "2022-01-20T14:18:58.799Z"
   },
   {
    "duration": 5,
    "start_time": "2022-01-20T14:18:59.328Z"
   },
   {
    "duration": 23,
    "start_time": "2022-01-20T14:18:59.336Z"
   },
   {
    "duration": 623,
    "start_time": "2022-01-20T14:18:59.362Z"
   },
   {
    "duration": 8,
    "start_time": "2022-01-20T14:18:59.987Z"
   },
   {
    "duration": 14,
    "start_time": "2022-01-20T14:18:59.997Z"
   },
   {
    "duration": 1265,
    "start_time": "2022-01-20T14:19:00.015Z"
   },
   {
    "duration": 551,
    "start_time": "2022-01-20T14:19:01.283Z"
   },
   {
    "duration": 1254,
    "start_time": "2022-01-20T14:19:01.837Z"
   },
   {
    "duration": 1121,
    "start_time": "2022-01-20T16:22:02.493Z"
   },
   {
    "duration": 30,
    "start_time": "2022-01-20T16:22:03.616Z"
   },
   {
    "duration": 30,
    "start_time": "2022-01-20T16:22:03.648Z"
   },
   {
    "duration": 36,
    "start_time": "2022-01-20T16:22:03.680Z"
   },
   {
    "duration": 29,
    "start_time": "2022-01-20T16:22:03.718Z"
   },
   {
    "duration": 37,
    "start_time": "2022-01-20T16:22:03.748Z"
   },
   {
    "duration": 48,
    "start_time": "2022-01-20T16:22:03.787Z"
   },
   {
    "duration": 139,
    "start_time": "2022-01-20T16:22:03.837Z"
   },
   {
    "duration": 17,
    "start_time": "2022-01-20T16:22:03.979Z"
   },
   {
    "duration": 43,
    "start_time": "2022-01-20T16:22:03.998Z"
   },
   {
    "duration": 37,
    "start_time": "2022-01-20T16:22:04.043Z"
   },
   {
    "duration": 42,
    "start_time": "2022-01-20T16:22:04.081Z"
   },
   {
    "duration": 9,
    "start_time": "2022-01-20T16:22:04.125Z"
   },
   {
    "duration": 149,
    "start_time": "2022-01-20T16:22:04.135Z"
   },
   {
    "duration": 60,
    "start_time": "2022-01-20T16:22:04.285Z"
   },
   {
    "duration": 94,
    "start_time": "2022-01-20T16:22:04.348Z"
   },
   {
    "duration": 38,
    "start_time": "2022-01-20T16:22:04.443Z"
   },
   {
    "duration": 39,
    "start_time": "2022-01-20T16:22:04.482Z"
   },
   {
    "duration": 13,
    "start_time": "2022-01-20T16:22:04.522Z"
   },
   {
    "duration": 67,
    "start_time": "2022-01-20T16:22:04.536Z"
   },
   {
    "duration": 131,
    "start_time": "2022-01-20T16:22:04.605Z"
   },
   {
    "duration": 10,
    "start_time": "2022-01-20T16:22:04.741Z"
   },
   {
    "duration": 20,
    "start_time": "2022-01-20T16:22:04.753Z"
   },
   {
    "duration": 32,
    "start_time": "2022-01-20T16:22:04.774Z"
   },
   {
    "duration": 77,
    "start_time": "2022-01-20T16:22:04.808Z"
   },
   {
    "duration": 59,
    "start_time": "2022-01-20T16:22:04.887Z"
   },
   {
    "duration": 100,
    "start_time": "2022-01-20T16:22:05.042Z"
   },
   {
    "duration": 47,
    "start_time": "2022-01-20T16:22:05.144Z"
   },
   {
    "duration": 18,
    "start_time": "2022-01-20T16:22:05.192Z"
   },
   {
    "duration": 218,
    "start_time": "2022-01-20T16:22:05.212Z"
   },
   {
    "duration": 16,
    "start_time": "2022-01-20T16:22:05.432Z"
   },
   {
    "duration": 41,
    "start_time": "2022-01-20T16:22:05.449Z"
   },
   {
    "duration": 107,
    "start_time": "2022-01-20T16:22:05.542Z"
   },
   {
    "duration": 44,
    "start_time": "2022-01-20T16:22:05.651Z"
   },
   {
    "duration": 41,
    "start_time": "2022-01-20T16:22:05.696Z"
   },
   {
    "duration": 327,
    "start_time": "2022-01-20T16:22:05.739Z"
   },
   {
    "duration": 3,
    "start_time": "2022-01-20T16:22:06.068Z"
   },
   {
    "duration": 12,
    "start_time": "2022-01-20T16:22:06.072Z"
   },
   {
    "duration": 472,
    "start_time": "2022-01-20T16:22:06.085Z"
   },
   {
    "duration": 5,
    "start_time": "2022-01-20T16:22:06.558Z"
   },
   {
    "duration": 11,
    "start_time": "2022-01-20T16:22:06.564Z"
   },
   {
    "duration": 715,
    "start_time": "2022-01-20T16:22:06.577Z"
   },
   {
    "duration": 217,
    "start_time": "2022-01-20T16:22:07.294Z"
   },
   {
    "duration": 731,
    "start_time": "2022-01-20T16:22:07.513Z"
   }
  ],
  "kernelspec": {
   "display_name": "Python 3",
   "language": "python",
   "name": "python3"
  },
  "language_info": {
   "codemirror_mode": {
    "name": "ipython",
    "version": 3
   },
   "file_extension": ".py",
   "mimetype": "text/x-python",
   "name": "python",
   "nbconvert_exporter": "python",
   "pygments_lexer": "ipython3",
   "version": "3.7.8"
  },
  "toc": {
   "base_numbering": 1,
   "nav_menu": {},
   "number_sections": true,
   "sideBar": true,
   "skip_h1_title": true,
   "title_cell": "Содержание",
   "title_sidebar": "Contents",
   "toc_cell": true,
   "toc_position": {
    "height": "calc(100% - 180px)",
    "left": "10px",
    "top": "150px",
    "width": "242.188px"
   },
   "toc_section_display": true,
   "toc_window_display": true
  }
 },
 "nbformat": 4,
 "nbformat_minor": 2
}
